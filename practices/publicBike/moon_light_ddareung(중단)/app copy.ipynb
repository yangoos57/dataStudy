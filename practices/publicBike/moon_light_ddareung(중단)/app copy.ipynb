{
 "cells": [
  {
   "cell_type": "code",
   "execution_count": 1,
   "metadata": {},
   "outputs": [],
   "source": [
    "import plotly.express as px\n",
    "import plotly.graph_objects as go\n",
    "from jupyter_dash import JupyterDash\n",
    "from dash import dcc, html, Input, Output, dash_table\n",
    "import jupyter_dash\n",
    "import pandas as pd\n",
    "import numpy as np\n",
    "import dash_daq as daq"
   ]
  },
  {
   "cell_type": "code",
   "execution_count": 2,
   "metadata": {},
   "outputs": [],
   "source": [
    "station = pd.read_csv(\"assets/seoul_bike_station_01_12.csv\", encoding=\"CP949\")\n",
    "\n"
   ]
  },
  {
   "cell_type": "code",
   "execution_count": 5,
   "metadata": {},
   "outputs": [
    {
     "name": "stdout",
     "output_type": "stream",
     "text": [
      "Dash app running on http://127.0.0.1:8050/\n"
     ]
    }
   ],
   "source": [
    "app = JupyterDash(\n",
    "    __name__,\n",
    "    meta_tags=[\n",
    "        {\n",
    "            \"name\": \"viewport\",\n",
    "            \"content\": \"width=device-width, initial-scale=1.0, maximum-scale=1.2, minimum-scale=0.5,\",\n",
    "        }\n",
    "    ],\n",
    ")\n",
    "\n",
    "\n",
    "app.layout = html.Div(\n",
    "    [\n",
    "        html.Div(\n",
    "            [\n",
    "                html.Div(className=\"col-12\", style={\"height\": \"100px\"},),\n",
    "                html.Div(\n",
    "                    [\n",
    "                        html.Div(\n",
    "                            [\n",
    "                                html.A(\n",
    "                                    [\n",
    "                                        \"asdasdsaas\",\n",
    "                                    ],\n",
    "                                    href=\"#\",\n",
    "                                    className=\"col-12 test_start\",\n",
    "                                ),\n",
    "                                html.Div(\n",
    "                                    \"집근처 대여소 기준으로 검색\",\n",
    "                                    className=\"col-8\",\n",
    "                                    style={\"text-align\": \"right\"},\n",
    "                                ),\n",
    "                                daq.BooleanSwitch(\n",
    "                                    on=True, color=\"#9B51E0\", className=\"col-4\"\n",
    "                                ),\n",
    "                            ],\n",
    "                            className=\"row\",\n",
    "                        )\n",
    "                    ],\n",
    "                    className=\"col-12\",\n",
    "                    style={\"height\": \"300px\"},\n",
    "                    # style={\"background-color\": \"#2a2a29a5\",'height' : '100px'},\n",
    "                ),\n",
    "                html.Div(\n",
    "                    [\"결과asdasdadasdas\"],\n",
    "                    className=\"col-12 test_target\",\n",
    "                    style={\"height\": \"300px\", \"background-color\": \"white\"},\n",
    "                ),\n",
    "            ],\n",
    "            className=\"row\",\n",
    "        )\n",
    "    ],\n",
    "    className=\"container\",\n",
    "    style={\"background-color\": \"#2a2a29a5\", \"width\": \"390px\", \"height\": \"844px\"},\n",
    ")\n",
    "\n",
    "app.run_server(debug=True)\n"
   ]
  },
  {
   "cell_type": "code",
   "execution_count": null,
   "metadata": {},
   "outputs": [],
   "source": [
    "def hello(a=0):\n",
    "    # trick figure\n",
    "    fig = px.scatter_mapbox(station.query(\"id == 207\"), lat=\"위도\", lon=\"경도\", zoom=12)\n",
    "    fig.update_traces(\n",
    "        marker=go.scattermapbox.Marker(\n",
    "            symbol=\"circle\", size=10, opacity=0.001, color=\"white\"\n",
    "        )\n",
    "    )\n",
    "\n",
    "    fig.update_layout(\n",
    "        mapbox=dict(\n",
    "            accesstoken=\"pk.eyJ1IjoieWFuZ29vcyIsImEiOiJjbDNqd2tkN2IwbGdmM2pvNzF0c2M4NnZkIn0.J3IjPYg3w28cGiWkUD7bnA\",\n",
    "            # style='mapbox://styles/yangoos/cl3jubvl7000c14llgtoev0nm'\n",
    "        ),\n",
    "        margin=dict(l=20, r=20, t=20, b=20),\n",
    "    )\n",
    "    return fig\n"
   ]
  }
 ],
 "metadata": {
  "kernelspec": {
   "display_name": "Python 3.9.7 ('base')",
   "language": "python",
   "name": "python3"
  },
  "language_info": {
   "codemirror_mode": {
    "name": "ipython",
    "version": 3
   },
   "file_extension": ".py",
   "mimetype": "text/x-python",
   "name": "python",
   "nbconvert_exporter": "python",
   "pygments_lexer": "ipython3",
   "version": "3.9.7"
  },
  "orig_nbformat": 4,
  "vscode": {
   "interpreter": {
    "hash": "47be6c136d2b4a6c76f7d3db2f991a133eb39bf1d99b20f1b6e05e99edd1faf4"
   }
  }
 },
 "nbformat": 4,
 "nbformat_minor": 2
}
