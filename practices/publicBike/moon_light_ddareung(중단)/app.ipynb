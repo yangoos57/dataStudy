{
 "cells": [
  {
   "cell_type": "code",
   "execution_count": 6,
   "metadata": {},
   "outputs": [],
   "source": [
    "import plotly.express as px\n",
    "import plotly.graph_objects as go\n",
    "from jupyter_dash import JupyterDash\n",
    "from dash import dcc, html, Input, Output, dash_table\n",
    "import jupyter_dash\n",
    "import pandas as pd\n",
    "import numpy as np\n"
   ]
  },
  {
   "cell_type": "code",
   "execution_count": 47,
   "metadata": {},
   "outputs": [],
   "source": [
    "station = pd.read_csv(\"assets/seoul_bike_station_01_12.csv\", encoding=\"CP949\")\n",
    "\n"
   ]
  },
  {
   "cell_type": "code",
   "execution_count": 127,
   "metadata": {},
   "outputs": [
    {
     "name": "stdout",
     "output_type": "stream",
     "text": [
      "Dash app running on http://127.0.0.1:8050/\n"
     ]
    }
   ],
   "source": [
    "app = JupyterDash(\n",
    "    __name__,\n",
    "    meta_tags=[\n",
    "        {\n",
    "            \"name\": \"viewport\",\n",
    "            \"content\": \"width=device-width, initial-scale=1.0, maximum-scale=1.2, minimum-scale=0.5,\",\n",
    "        }\n",
    "    ],\n",
    ")\n",
    "\n",
    "\n",
    "app.layout = html.Div(\n",
    "    [\n",
    "        html.Div(\n",
    "            [\n",
    "                html.Div(\n",
    "                    [\n",
    "                        dcc.Input( \n",
    "                            id=\"test_dropdown\",\n",
    "                            ),\n",
    "\n",
    "                        dcc.Graph(\n",
    "                            id=\"graph\",\n",
    "                            config={\"displayModeBar\": False},\n",
    "                            style={\"width\": \"1024\", \"height\": \"1500px\",},\n",
    "                        ),\n",
    "                    ],\n",
    "                    style={\"position\": \"relative\"},\n",
    "                    className=\"row\",\n",
    "                ),\n",
    "            ]\n",
    "        )\n",
    "    ],\n",
    "    # style={'max-height' : '1000px'},\n",
    ")\n",
    "\n",
    "\n",
    "@app.callback(\n",
    "    Output(component_id=\"graph\", component_property=\"figure\"),\n",
    "    Input(\"test_dropdown\", \"value\"),\n",
    ")\n",
    "def hello(a=0):\n",
    "    # trick figure\n",
    "    fig = px.scatter_mapbox(station.query(\"id == 207\"), lat=\"위도\", lon=\"경도\", zoom=12)\n",
    "    fig.update_traces(\n",
    "        marker=go.scattermapbox.Marker(\n",
    "            symbol=\"circle\", size=10, opacity=0.001, color=\"white\"\n",
    "        )\n",
    "    )\n",
    "\n",
    "    fig.update_layout(\n",
    "        mapbox=dict(\n",
    "            accesstoken=\"pk.eyJ1IjoieWFuZ29vcyIsImEiOiJjbDNqd2tkN2IwbGdmM2pvNzF0c2M4NnZkIn0.J3IjPYg3w28cGiWkUD7bnA\",\n",
    "            style=\"mapbox://styles/yangoos/cl3n4qtg8000515mnqixffypg/draft\",\n",
    "        ),\n",
    "        margin=dict(l=0, r=0, t=0, b=0),\n",
    "    )\n",
    "    return fig\n",
    "\n",
    "\n",
    "app.run_server(debug=True)\n"
   ]
  },
  {
   "cell_type": "code",
   "execution_count": null,
   "metadata": {},
   "outputs": [],
   "source": [
    "def hello(a=0):\n",
    "    # trick figure\n",
    "    fig = px.scatter_mapbox(station.query(\"id == 207\"), lat=\"위도\", lon=\"경도\", zoom=12)\n",
    "    fig.update_traces(\n",
    "        marker=go.scattermapbox.Marker(\n",
    "            symbol=\"circle\", size=10, opacity=0.001, color=\"white\"\n",
    "        )\n",
    "    )\n",
    "\n",
    "    fig.update_layout(\n",
    "        mapbox=dict(\n",
    "            accesstoken=\"pk.eyJ1IjoieWFuZ29vcyIsImEiOiJjbDNqd2tkN2IwbGdmM2pvNzF0c2M4NnZkIn0.J3IjPYg3w28cGiWkUD7bnA\",\n",
    "            # style='mapbox://styles/yangoos/cl3jubvl7000c14llgtoev0nm'\n",
    "        ),\n",
    "        margin=dict(l=20, r=20, t=20, b=20),\n",
    "    )\n",
    "    return fig\n"
   ]
  }
 ],
 "metadata": {
  "kernelspec": {
   "display_name": "Python 3.9.7 ('base')",
   "language": "python",
   "name": "python3"
  },
  "language_info": {
   "codemirror_mode": {
    "name": "ipython",
    "version": 3
   },
   "file_extension": ".py",
   "mimetype": "text/x-python",
   "name": "python",
   "nbconvert_exporter": "python",
   "pygments_lexer": "ipython3",
   "version": "3.9.7"
  },
  "orig_nbformat": 4,
  "vscode": {
   "interpreter": {
    "hash": "47be6c136d2b4a6c76f7d3db2f991a133eb39bf1d99b20f1b6e05e99edd1faf4"
   }
  }
 },
 "nbformat": 4,
 "nbformat_minor": 2
}
