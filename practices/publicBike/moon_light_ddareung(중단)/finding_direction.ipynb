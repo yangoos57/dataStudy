{
 "cells": [
  {
   "cell_type": "code",
   "execution_count": 36,
   "metadata": {},
   "outputs": [],
   "source": [
    "import json\n",
    "import urllib\n",
    "from urllib.request import Request, urlopen\n",
    "import pandas as pd\n",
    "import numpy as np\n",
    "# import matplotlib.pyplot as plt\n",
    "# import seaborn as sns\n",
    "import plotly.express as px\n",
    "import plotly.graph_objects as go\n",
    "from tqdm import notebook\n",
    "import warnings\n",
    "\n",
    "\n",
    "# *-- Directions 5 활용 코드 --*\n",
    "option = \"traavoidcaronly\"\n",
    "# option : 탐색옵션 [최대 3개, traoptimal(기본 옵션)\n",
    "# / trafast, tracomfort, traavoidtoll, traavoidcaronly]\n",
    "\n",
    "\n",
    "def get_optimal_route(start, goal, waypoints=[\"\", \"\"], option=option):\n",
    "    client_id = '44vlsxxinm'\n",
    "    client_secret = 'BOHC6psFnLkjdRrlkLn24S1apLUTsuzrCnMuCi4A'\n",
    "    # start=/goal=/(waypoint=)/(option=) 순으로 request parameter 지정\n",
    "    url = f\"https://naveropenapi.apigw.ntruss.com/map-direction-15/v1/driving?start={start[0]},{start[1]}&waypoint={waypoints[0]},{waypoints[1]}&goal={goal[0]},{goal[1]}&option={option}\"\n",
    "    request = urllib.request.Request(url)\n",
    "    request.add_header(\"X-NCP-APIGW-API-KEY-ID\", client_id)\n",
    "    request.add_header(\"X-NCP-APIGW-API-KEY\", client_secret)\n",
    "\n",
    "    response = urllib.request.urlopen(request)\n",
    "    res = response.getcode()\n",
    "\n",
    "    if res == 200:\n",
    "        response_body = response.read().decode(\"utf-8\")\n",
    "        return json.loads(response_body)\n",
    "\n",
    "    else:\n",
    "        print(\"ERROR\")\n",
    "\n",
    "# start = [126.910052,37.556094]\n",
    "# goal = [126.950291,37.582299]\n",
    "# start = [126.875781,37.540991]\n",
    "start = [126.876678,37.541142]\n",
    "goal = [126.932098,37.526989]\n",
    "result = get_optimal_route(start, goal)\n",
    "\n"
   ]
  },
  {
   "cell_type": "code",
   "execution_count": null,
   "metadata": {},
   "outputs": [],
   "source": [
    "# result.get('code')\n",
    "a = result.get('route').get('traavoidcaronly')[0].get('path')\n",
    "b = pd.DataFrame(a)\n",
    "b\n",
    "\n",
    "fig = go.Figure(\n",
    "    go.Scattermapbox(\n",
    "        lat=b[1],\n",
    "        lon=b[0],\n",
    "        mode=\"lines\",\n",
    "        marker=dict(symbol=\"circle\", size=15, color='#AD00FF' , opacity=0.5),\n",
    "    )\n",
    ")\n",
    "fig.update_layout(\n",
    "    mapbox=dict(\n",
    "        accesstoken=\"pk.eyJ1IjoieWFuZ29vcyIsImEiOiJjbDNqd2tkN2IwbGdmM2pvNzF0c2M4NnZkIn0.J3IjPYg3w28cGiWkUD7bnA\",\n",
    "        # style='mapbox://styles/yangoos/cl3jubvl7000c14llgtoev0nm'\n",
    "    ),\n",
    ")\n",
    "fig.show()\n",
    "\n"
   ]
  },
  {
   "cell_type": "code",
   "execution_count": null,
   "metadata": {},
   "outputs": [],
   "source": []
  }
 ],
 "metadata": {
  "interpreter": {
   "hash": "47be6c136d2b4a6c76f7d3db2f991a133eb39bf1d99b20f1b6e05e99edd1faf4"
  },
  "kernelspec": {
   "display_name": "Python 3.9.7 ('base')",
   "language": "python",
   "name": "python3"
  },
  "language_info": {
   "codemirror_mode": {
    "name": "ipython",
    "version": 3
   },
   "file_extension": ".py",
   "mimetype": "text/x-python",
   "name": "python",
   "nbconvert_exporter": "python",
   "pygments_lexer": "ipython3",
   "version": "3.9.7"
  },
  "orig_nbformat": 4
 },
 "nbformat": 4,
 "nbformat_minor": 2
}
