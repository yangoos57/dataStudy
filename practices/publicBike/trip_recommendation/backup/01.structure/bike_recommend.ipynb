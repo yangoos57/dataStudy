{
 "cells": [
  {
   "cell_type": "code",
   "execution_count": 2,
   "metadata": {},
   "outputs": [],
   "source": [
    "import plotly.express as px\n",
    "from plotly.subplots import make_subplots\n",
    "import plotly.graph_objects as go\n",
    "from jupyter_dash import JupyterDash\n",
    "from dash import dcc,html,Input, Output,dash_table\n",
    "import dash\n",
    "import dash_bootstrap_components as dbc\n",
    "import pandas as pd\n",
    "import numpy as np\n",
    "# seoul_bike = pd.read_parquet('D:/git_local_repository/data_for_project/seoul_bike/seoul_bike_2021.parquet.gzip')"
   ]
  },
  {
   "cell_type": "code",
   "execution_count": null,
   "metadata": {},
   "outputs": [],
   "source": [
    "station = pd.read_csv('assets/seoul_bike_station_01_12.csv',encoding='CP949', index_col=0)"
   ]
  },
  {
   "cell_type": "code",
   "execution_count": 53,
   "metadata": {},
   "outputs": [
    {
     "name": "stdout",
     "output_type": "stream",
     "text": [
      "Dash app running on http://127.0.0.1:8050/\n"
     ]
    }
   ],
   "source": [
    "app = JupyterDash(__name__)\n",
    "\n",
    "app.layout = html.Div(\n",
    "    [\n",
    "        html.Div(\n",
    "            [\n",
    "                html.Div(\n",
    "                    [\n",
    "                        html.H1([\"side-bar\"])], className=\"col-xl-1 d-xl-block side-bar\"),\n",
    "                    \n",
    "                html.Div(\n",
    "                    [\n",
    "                        html.H1([\"main-bar\"]),\n",
    "                        html.Div([html.H1([\"검색창\"]),\n",
    "                                dcc.Dropdown(['text'],placeholder='id 또는 대여소명을 넣어주세요'),\n",
    "                                html.Div(['대여소 ID 또는 이름을 입력해주세요'],className='info'),\n",
    "                        ], className=\"col-12 search\"),\n",
    "                        html.Div(\n",
    "                            [\n",
    "                                html.H1([\"지도 and 추천창\"]),\n",
    "                                html.Div(\n",
    "                                    [html.H1([\"지도창\"]),\n",
    "                                    html.Div([html.H1([\"지도들어갈 자리\"])],className='col-12'),\n",
    "                                    html.Div([html.H1([\"월촌초등학교 정문앞\"])],className='col-12'),\n",
    "                                    html.Div([\n",
    "                                        html.Div([html.H1([\"도착시간\"])],className='col-4'),\n",
    "                                        html.Div([html.H1([\"대여소 이용 비율\"])],className='col-4'),\n",
    "                                        html.Div([html.H1([\"시간대별 이용내역\"])],className='col-4'),\n",
    "                                    ],className='row'),\n",
    "                                    ],\n",
    "                                    className=\"col-xl-8 order-xl-5 maps\",\n",
    "                                ),\n",
    "                                html.Div(\n",
    "                                    [html.H1([\"추천창\"]),\n",
    "                                    html.Div([\n",
    "                                    html.Div(['추천 대여소'],className='col-4'),    \n",
    "                                    html.Div([],className='col-4'),    \n",
    "                                    html.Div(['이용시간 순'],className='col-3'),\n",
    "                                    html.Div(['▲'],className='col-1')    \n",
    "                                    ],className='row'),\n",
    "                                    html.Div(['추천박스 넣기'],className='col-12')\n",
    "\n",
    "                                    ],\n",
    "                                    className=\"col-xl-4 order-xl-1 recom\",\n",
    "                                ),\n",
    "                            ],\n",
    "                            className=\"row map_and_recom\",\n",
    "                        ),\n",
    "                    ],\n",
    "                    className=\"col-xl-11 main-bar\",\n",
    "                ),\n",
    "            ],\n",
    "            className=\"row\",\n",
    "        )\n",
    "    ],\n",
    "    className=\"container-fluid main\",\n",
    ")\n",
    "\n",
    "\n",
    "# @app.callback(\n",
    "#     Output(component_id='output_place_name', component_property='children'),\n",
    "#     Input('test_dropdown', 'value')\n",
    "# )\n",
    "# def search_id(value):\n",
    "#     val = ids_dropdown.get(int(value))\n",
    "#     return val\n",
    "\n",
    "\n",
    "app.run_server(debug=False, mode=\"external\")\n"
   ]
  }
 ],
 "metadata": {
  "kernelspec": {
   "display_name": "Python 3.9.7 ('base')",
   "language": "python",
   "name": "python3"
  },
  "language_info": {
   "codemirror_mode": {
    "name": "ipython",
    "version": 3
   },
   "file_extension": ".py",
   "mimetype": "text/x-python",
   "name": "python",
   "nbconvert_exporter": "python",
   "pygments_lexer": "ipython3",
   "version": "3.9.7"
  },
  "orig_nbformat": 4,
  "vscode": {
   "interpreter": {
    "hash": "47be6c136d2b4a6c76f7d3db2f991a133eb39bf1d99b20f1b6e05e99edd1faf4"
   }
  }
 },
 "nbformat": 4,
 "nbformat_minor": 2
}
