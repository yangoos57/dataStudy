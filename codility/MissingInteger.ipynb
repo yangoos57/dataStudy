{
 "cells": [
  {
   "cell_type": "markdown",
   "metadata": {},
   "source": [
    "## Codility MissingInteger"
   ]
  },
  {
   "cell_type": "markdown",
   "metadata": {},
   "source": [
    "### 문제풀이"
   ]
  },
  {
   "cell_type": "code",
   "execution_count": null,
   "metadata": {},
   "outputs": [],
   "source": []
  },
  {
   "cell_type": "code",
   "execution_count": 9,
   "metadata": {},
   "outputs": [
    {
     "name": "stdout",
     "output_type": "stream",
     "text": [
      "[]\n"
     ]
    },
    {
     "data": {
      "text/plain": [
       "1"
      ]
     },
     "execution_count": 9,
     "metadata": {},
     "output_type": "execute_result"
    }
   ],
   "source": [
    "# you can write to stdout for debugging purposes, e.g.\n",
    "# print(\"this is a debug message\")\n",
    "\n",
    "def solution(A):\n",
    "\n",
    "    # 양수 추출 및 정렬\n",
    "    new_a = list(set(filter(lambda a : a>0, A)))\n",
    "    print(new_a)\n",
    "\n",
    "    \n",
    "    val = 1\n",
    "    for v in new_a :\n",
    "        if v == val :\n",
    "            val += 1\n",
    "\n",
    "    return val\n",
    "\n",
    "# 왜 하나가 틀리는거지\n",
    "\n",
    "A = [-1]\n",
    "solution(A)"
   ]
  },
  {
   "cell_type": "code",
   "execution_count": null,
   "metadata": {},
   "outputs": [],
   "source": [
    "### 정답\n",
    "\n",
    "def solution(A):\n",
    "    A.sort()\n",
    "    min = 1\n",
    "    for i in A:\n",
    "        if i == min:\n",
    "            min += 1\n",
    "    return min"
   ]
  }
 ],
 "metadata": {
  "kernelspec": {
   "display_name": "Python 3.9.1 64-bit ('3.9.1')",
   "language": "python",
   "name": "python3"
  },
  "language_info": {
   "codemirror_mode": {
    "name": "ipython",
    "version": 3
   },
   "file_extension": ".py",
   "mimetype": "text/x-python",
   "name": "python",
   "nbconvert_exporter": "python",
   "pygments_lexer": "ipython3",
   "version": "3.9.1"
  },
  "orig_nbformat": 4,
  "vscode": {
   "interpreter": {
    "hash": "380499944412d71a434e3a577c644718a6d37bb71a3486bf18ac316dad575de7"
   }
  }
 },
 "nbformat": 4,
 "nbformat_minor": 2
}
