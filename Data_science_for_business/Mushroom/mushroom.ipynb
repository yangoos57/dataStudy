{
 "cells": [
  {
   "cell_type": "code",
   "execution_count": 2,
   "metadata": {},
   "outputs": [],
   "source": [
    "#%%\n",
    "import matplotlib.pyplot as plt\n",
    "import numpy as np\n",
    "import pandas as pd\n",
    "import seaborn as sns\n",
    "from math import log2\n",
    "\n",
    "\n"
   ]
  },
  {
   "cell_type": "code",
   "execution_count": 3,
   "metadata": {},
   "outputs": [
    {
     "data": {
      "text/plain": [
       "Index(['class', 'cap-shape', 'cap-surface', 'cap-color', 'bruises', 'odor',\n",
       "       'gill-attachment', 'gill-spacing', 'gill-size', 'gill-color',\n",
       "       'stalk-shape', 'stalk-root', 'stalk-surface-above-ring',\n",
       "       'stalk-surface-below-ring', 'stalk-color-above-ring',\n",
       "       'stalk-color-below-ring', 'veil-type', 'veil-color', 'ring-number',\n",
       "       'ring-type', 'spore-print-color', 'population', 'habitat'],\n",
       "      dtype='object')"
      ]
     },
     "execution_count": 3,
     "metadata": {},
     "output_type": "execute_result"
    }
   ],
   "source": [
    "filepath='./Data/'\n",
    "mushroom = pd.read_csv(filepath+'mushrooms.csv')\n",
    "# mushroom.head()\n",
    "mushroom.columns"
   ]
  },
  {
   "cell_type": "code",
   "execution_count": 4,
   "metadata": {},
   "outputs": [
    {
     "data": {
      "text/html": [
       "<div>\n",
       "<style scoped>\n",
       "    .dataframe tbody tr th:only-of-type {\n",
       "        vertical-align: middle;\n",
       "    }\n",
       "\n",
       "    .dataframe tbody tr th {\n",
       "        vertical-align: top;\n",
       "    }\n",
       "\n",
       "    .dataframe thead th {\n",
       "        text-align: right;\n",
       "    }\n",
       "</style>\n",
       "<table border=\"1\" class=\"dataframe\">\n",
       "  <thead>\n",
       "    <tr style=\"text-align: right;\">\n",
       "      <th></th>\n",
       "      <th>e</th>\n",
       "      <th>p</th>\n",
       "      <th>total</th>\n",
       "      <th>proportion</th>\n",
       "    </tr>\n",
       "  </thead>\n",
       "  <tbody>\n",
       "    <tr>\n",
       "      <th>g</th>\n",
       "      <td>248</td>\n",
       "      <td>504</td>\n",
       "      <td>752</td>\n",
       "      <td>0.093</td>\n",
       "    </tr>\n",
       "    <tr>\n",
       "      <th>y</th>\n",
       "      <td>64</td>\n",
       "      <td>22</td>\n",
       "      <td>86</td>\n",
       "      <td>0.011</td>\n",
       "    </tr>\n",
       "    <tr>\n",
       "      <th>o</th>\n",
       "      <td>64</td>\n",
       "      <td>0</td>\n",
       "      <td>64</td>\n",
       "      <td>0.008</td>\n",
       "    </tr>\n",
       "    <tr>\n",
       "      <th>k</th>\n",
       "      <td>344</td>\n",
       "      <td>64</td>\n",
       "      <td>408</td>\n",
       "      <td>0.050</td>\n",
       "    </tr>\n",
       "    <tr>\n",
       "      <th>b</th>\n",
       "      <td>0</td>\n",
       "      <td>1728</td>\n",
       "      <td>1728</td>\n",
       "      <td>0.213</td>\n",
       "    </tr>\n",
       "    <tr>\n",
       "      <th>h</th>\n",
       "      <td>204</td>\n",
       "      <td>528</td>\n",
       "      <td>732</td>\n",
       "      <td>0.090</td>\n",
       "    </tr>\n",
       "    <tr>\n",
       "      <th>u</th>\n",
       "      <td>444</td>\n",
       "      <td>48</td>\n",
       "      <td>492</td>\n",
       "      <td>0.061</td>\n",
       "    </tr>\n",
       "    <tr>\n",
       "      <th>r</th>\n",
       "      <td>0</td>\n",
       "      <td>24</td>\n",
       "      <td>24</td>\n",
       "      <td>0.003</td>\n",
       "    </tr>\n",
       "    <tr>\n",
       "      <th>w</th>\n",
       "      <td>956</td>\n",
       "      <td>246</td>\n",
       "      <td>1202</td>\n",
       "      <td>0.148</td>\n",
       "    </tr>\n",
       "    <tr>\n",
       "      <th>e</th>\n",
       "      <td>96</td>\n",
       "      <td>0</td>\n",
       "      <td>96</td>\n",
       "      <td>0.012</td>\n",
       "    </tr>\n",
       "    <tr>\n",
       "      <th>p</th>\n",
       "      <td>852</td>\n",
       "      <td>640</td>\n",
       "      <td>1492</td>\n",
       "      <td>0.184</td>\n",
       "    </tr>\n",
       "    <tr>\n",
       "      <th>n</th>\n",
       "      <td>936</td>\n",
       "      <td>112</td>\n",
       "      <td>1048</td>\n",
       "      <td>0.129</td>\n",
       "    </tr>\n",
       "  </tbody>\n",
       "</table>\n",
       "</div>"
      ],
      "text/plain": [
       "     e     p  total  proportion\n",
       "g  248   504    752       0.093\n",
       "y   64    22     86       0.011\n",
       "o   64     0     64       0.008\n",
       "k  344    64    408       0.050\n",
       "b    0  1728   1728       0.213\n",
       "h  204   528    732       0.090\n",
       "u  444    48    492       0.061\n",
       "r    0    24     24       0.003\n",
       "w  956   246   1202       0.148\n",
       "e   96     0     96       0.012\n",
       "p  852   640   1492       0.184\n",
       "n  936   112   1048       0.129"
      ]
     },
     "execution_count": 4,
     "metadata": {},
     "output_type": "execute_result"
    }
   ],
   "source": [
    "# gill_color 및 Target value(=class) 추출\n",
    "df_gill = mushroom[['gill-color','class']] # 원하는 열이 여러개 일때 []로 감싸줘야한다.\n",
    "\n",
    "# gill-color별로 edible과 posinous 구분하기\n",
    "var_gill_color = set(df_gill['gill-color'])\n",
    "var_class = ['e','p','total','proportion']\n",
    "instance_total = len(df_gill)\n",
    "\n",
    "list_gill_class = []\n",
    "for var in var_gill_color :\n",
    "    edible = len(df_gill.loc[(df_gill['gill-color'] == var ) & (df_gill['class'] == 'e' )])\n",
    "    poisonous = len(df_gill.loc[(df_gill['gill-color'] == var ) & (df_gill['class'] == 'p' )])\n",
    "    total = edible + poisonous\n",
    "    list_gill_class.append([edible,poisonous, total, round(total/instance_total,3)])\n",
    "\n",
    "df_gill_class = pd.DataFrame(list_gill_class, index=var_gill_color, columns=var_class)\n",
    "\n",
    "df_gill_class"
   ]
  },
  {
   "cell_type": "code",
   "execution_count": 5,
   "metadata": {},
   "outputs": [
    {
     "data": {
      "text/html": [
       "<div>\n",
       "<style scoped>\n",
       "    .dataframe tbody tr th:only-of-type {\n",
       "        vertical-align: middle;\n",
       "    }\n",
       "\n",
       "    .dataframe tbody tr th {\n",
       "        vertical-align: top;\n",
       "    }\n",
       "\n",
       "    .dataframe thead th {\n",
       "        text-align: right;\n",
       "    }\n",
       "</style>\n",
       "<table border=\"1\" class=\"dataframe\">\n",
       "  <thead>\n",
       "    <tr style=\"text-align: right;\">\n",
       "      <th></th>\n",
       "      <th>e</th>\n",
       "      <th>p</th>\n",
       "      <th>total</th>\n",
       "      <th>proportion</th>\n",
       "      <th>entropy</th>\n",
       "    </tr>\n",
       "  </thead>\n",
       "  <tbody>\n",
       "    <tr>\n",
       "      <th>o</th>\n",
       "      <td>64</td>\n",
       "      <td>0</td>\n",
       "      <td>64</td>\n",
       "      <td>0.008</td>\n",
       "      <td>0.00</td>\n",
       "    </tr>\n",
       "    <tr>\n",
       "      <th>b</th>\n",
       "      <td>0</td>\n",
       "      <td>1728</td>\n",
       "      <td>1728</td>\n",
       "      <td>0.213</td>\n",
       "      <td>0.00</td>\n",
       "    </tr>\n",
       "    <tr>\n",
       "      <th>r</th>\n",
       "      <td>0</td>\n",
       "      <td>24</td>\n",
       "      <td>24</td>\n",
       "      <td>0.003</td>\n",
       "      <td>0.00</td>\n",
       "    </tr>\n",
       "    <tr>\n",
       "      <th>e</th>\n",
       "      <td>96</td>\n",
       "      <td>0</td>\n",
       "      <td>96</td>\n",
       "      <td>0.012</td>\n",
       "      <td>0.00</td>\n",
       "    </tr>\n",
       "    <tr>\n",
       "      <th>u</th>\n",
       "      <td>444</td>\n",
       "      <td>48</td>\n",
       "      <td>492</td>\n",
       "      <td>0.061</td>\n",
       "      <td>0.47</td>\n",
       "    </tr>\n",
       "    <tr>\n",
       "      <th>n</th>\n",
       "      <td>936</td>\n",
       "      <td>112</td>\n",
       "      <td>1048</td>\n",
       "      <td>0.129</td>\n",
       "      <td>0.50</td>\n",
       "    </tr>\n",
       "    <tr>\n",
       "      <th>k</th>\n",
       "      <td>344</td>\n",
       "      <td>64</td>\n",
       "      <td>408</td>\n",
       "      <td>0.050</td>\n",
       "      <td>0.63</td>\n",
       "    </tr>\n",
       "    <tr>\n",
       "      <th>w</th>\n",
       "      <td>956</td>\n",
       "      <td>246</td>\n",
       "      <td>1202</td>\n",
       "      <td>0.148</td>\n",
       "      <td>0.72</td>\n",
       "    </tr>\n",
       "    <tr>\n",
       "      <th>y</th>\n",
       "      <td>64</td>\n",
       "      <td>22</td>\n",
       "      <td>86</td>\n",
       "      <td>0.011</td>\n",
       "      <td>0.83</td>\n",
       "    </tr>\n",
       "    <tr>\n",
       "      <th>h</th>\n",
       "      <td>204</td>\n",
       "      <td>528</td>\n",
       "      <td>732</td>\n",
       "      <td>0.090</td>\n",
       "      <td>0.86</td>\n",
       "    </tr>\n",
       "    <tr>\n",
       "      <th>g</th>\n",
       "      <td>248</td>\n",
       "      <td>504</td>\n",
       "      <td>752</td>\n",
       "      <td>0.093</td>\n",
       "      <td>0.91</td>\n",
       "    </tr>\n",
       "    <tr>\n",
       "      <th>p</th>\n",
       "      <td>852</td>\n",
       "      <td>640</td>\n",
       "      <td>1492</td>\n",
       "      <td>0.184</td>\n",
       "      <td>0.99</td>\n",
       "    </tr>\n",
       "  </tbody>\n",
       "</table>\n",
       "</div>"
      ],
      "text/plain": [
       "     e     p  total  proportion  entropy\n",
       "o   64     0     64       0.008     0.00\n",
       "b    0  1728   1728       0.213     0.00\n",
       "r    0    24     24       0.003     0.00\n",
       "e   96     0     96       0.012     0.00\n",
       "u  444    48    492       0.061     0.47\n",
       "n  936   112   1048       0.129     0.50\n",
       "k  344    64    408       0.050     0.63\n",
       "w  956   246   1202       0.148     0.72\n",
       "y   64    22     86       0.011     0.83\n",
       "h  204   528    732       0.090     0.86\n",
       "g  248   504    752       0.093     0.91\n",
       "p  852   640   1492       0.184     0.99"
      ]
     },
     "execution_count": 5,
     "metadata": {},
     "output_type": "execute_result"
    }
   ],
   "source": [
    "list_entropy = []\n",
    "# color 별 entropy 구하기\n",
    "for var in var_gill_color :\n",
    "    p = df_gill_class.loc[var]['p']  # color별 class값 불러오기\n",
    "    e = df_gill_class.loc[var]['e'] # color class 값 불러오기\n",
    "    total = e+p\n",
    "    if int(p) == 0 or int(e) == 0 :\n",
    "        entropy = 0\n",
    "    else:\n",
    "        p_p = round(p/total, 2) # p 비율 \n",
    "        p_e = round(e/total, 2) # e 비율\n",
    "        # entropy = 'hello'\n",
    "        entropy = abs(round(p_p*log2(p_p) + p_e*log2(p_e),2))\n",
    "        # print(entropy)\n",
    "    list_entropy.append(entropy)\n",
    "\n",
    "# print(list_entropy)\n",
    "df_gill_class['entropy'] = list_entropy  # dataframe에 list 넣기(cloumns으로)\n",
    "\n",
    "# entropy 기준으로 재정렬\n",
    "sort_entropy_df = df_gill_class.sort_values(by='entropy')\n",
    "\n",
    "sort_entropy_df\n",
    "# # 행 범위 설정하기 iloc\n",
    "# sort_entropy_df = sort_entropy_df.iloc[0:10,:]"
   ]
  },
  {
   "cell_type": "code",
   "execution_count": 6,
   "metadata": {},
   "outputs": [
    {
     "data": {
      "text/plain": [
       "(0.0, 1.0)"
      ]
     },
     "execution_count": 6,
     "metadata": {},
     "output_type": "execute_result"
    },
    {
     "data": {
      "image/png": "[encoded data removed]",
      "text/plain": [
       "<Figure size 720x432 with 1 Axes>"
      ]
     },
     "metadata": {
      "needs_background": "light"
     },
     "output_type": "display_data"
    }
   ],
   "source": [
    "# mariemekko chart \n",
    "# 참조 : https://towardsdatascience.com/marimekko-charts-with-pythons-matplotlib-6b9784ae73a1\n",
    "plt.figure(figsize=(10,6))\n",
    "proportion = list(sort_entropy_df['proportion']) # Bar 크기\n",
    "y_axis = list(sort_entropy_df['entropy']) # Y축\n",
    "x_axis = [0] # bar 별 시작위치 만들기 \n",
    "for var in proportion[:-1] :\n",
    "    x = x_axis[-1]+var\n",
    "    x_axis.append(x)\n",
    "\n",
    "plt.bar(x_axis, y_axis, label = sort_entropy_df.index, width=proportion, align='edge', edgecolor='black')\n",
    "plt.title(\"Entropy chart for GiLL-Color\")\n",
    "plt.rc('font', size=15)\n",
    "plt.ylabel(\"Entropy\",)\n",
    "plt.xlabel(\"Proportion\")\n",
    "plt.ylim(0,1)\n",
    "plt.xlim(0,1)\n",
    "# sns.barplot(x=x_axis, y=y_axis, hue = sort_entropy_df.index)\n",
    "# plt.legend()"
   ]
  },
  {
   "cell_type": "code",
   "execution_count": 7,
   "metadata": {},
   "outputs": [
    {
     "name": "stdout",
     "output_type": "stream",
     "text": [
      "Parent_entropy: 0.999\n",
      "children_entropy: 0.585\n",
      "Information_Gain: 0.415\n"
     ]
    }
   ],
   "source": [
    "# Information Gain\n",
    "\n",
    "# Parent entropy\n",
    "parent = list(mushroom['class'])\n",
    "total = len(parent)\n",
    "p_e = parent.count('e')/total\n",
    "p_p = parent.count('p')/total\n",
    "Parent_entropy = abs(p_e*log2(p_e)+p_p*log2(p_p))\n",
    "\n",
    "# Children entropy\n",
    "children_list = sort_entropy_df[['entropy','proportion']].values.tolist() # 대박스...\n",
    "\n",
    "children_entropy = 0\n",
    "for a, b in children_list :\n",
    "    children_entropy += a*b\n",
    "\n",
    "\n",
    "Information_Gain = Parent_entropy - children_entropy\n",
    "\n",
    "print(f'Parent_entropy: {round(Parent_entropy,3)}')\n",
    "print(f'children_entropy: {round(children_entropy,3)}')\n",
    "print(f'Information_Gain: {round(Information_Gain,3)}')"
   ]
  },
  {
   "cell_type": "code",
   "execution_count": 8,
   "metadata": {},
   "outputs": [],
   "source": [
    "# Entropy 공식 만들기\n",
    "\n",
    "# 엔트로피 계산 = 비율 *log2  비율 = 대상/전체 \n",
    "# 대상 = 특정 기준이 e와 p를 가지고 있는 비중 \n",
    "\n",
    "# 대상 선정 \n",
    "# 변수별 개수 확인\n",
    "\n",
    "def entropy_cal(attr) :\n",
    "    var_x = list(set(mushroom[attr]))  # 해당 attr variable 추출\n",
    "    entire_num = len(mushroom) # instance 개수 \n",
    "\n",
    "    # variable별 entropy 및 비율 계산\n",
    "    list_entropy = []\n",
    "    for var in var_x :\n",
    "        e = len(mushroom.loc[(mushroom[attr] == var ) & (mushroom['class'] == 'e' )])\n",
    "        p = len(mushroom.loc[(mushroom[attr] == var ) & (mushroom['class'] == 'p' )])\n",
    "        total = e+p\n",
    "        p_p = round(p/total,3) # variable 내에서 p의 비율 \n",
    "        p_e = round(e/total,3) # variable 내에서 e의 비율 \n",
    "        \n",
    "        #entropy 계산\n",
    "        if p_p == 0 or p_e == 0 : # p_p와 p_e에 round 했기에 0이 나올 수 있음\n",
    "            entropy = 0\n",
    "        else:\n",
    "            entropy = abs(round(p_p*log2(p_p) + p_e*log2(p_e),3)) # 변수가 n개이기 때문에 n번 계산\n",
    "            \n",
    "\n",
    "        #비율계산 \n",
    "        proportion = round(total/entire_num,3) # Variable 별 Total / 전체 개수\n",
    "\n",
    "        # Variable 별로 entropy와 proportion 저장\n",
    "        list_entropy.append([entropy,proportion]) \n",
    "\n",
    "    #데이터 프레임 만든 뒤 entropy를 기준으로 정렬 \n",
    "    df = pd.DataFrame(list_entropy, index= var_x, columns= ['entropy','proportion'])\n",
    "    df = df.sort_values(by='entropy') # entropy 작은순으로 정렬\n",
    "\n",
    "    # 그래프 제작을 위한 비율 누적\n",
    "    proportion = list(df['proportion'])# 누적 x축 만들기 \n",
    "    x_axis = [0]\n",
    "    for var in proportion[:-1] :\n",
    "        x = x_axis[-1]+var\n",
    "        x_axis.append(x)\n",
    "\n",
    "    # x_axis, Dataframe에 추가하기\n",
    "    df['x_axis'] = x_axis\n",
    "\n",
    "    return df\n",
    "\n",
    "# Makko plot 생성 함수\n",
    "def makko_plot(df, name=None) : \n",
    "    plt.figure(figsize=(10,6))\n",
    "    plt.bar(df['x_axis'], df['entropy'], label = df.index, width=df['proportion'], align='edge', edgecolor='black')\n",
    "    plt.title(f\"Entropy chart for {name}\")\n",
    "    plt.rc('font', size=15) # 그래프 디자인 설정\n",
    "    plt.ylabel(\"Entropy\",)\n",
    "    plt.xlabel(\"Proportion\")\n",
    "    plt.ylim(0,1) # y축 범위 설정\n",
    "    plt.xlim(0,1) # y축 범위 설정\n",
    "\n",
    "\n",
    "# Information Gain\n",
    "def info_gain(df):\n",
    "    parent = list(mushroom['class'])\n",
    "    total = len(parent)\n",
    "    p_e = parent.count('e')/total\n",
    "    p_p = parent.count('p')/total\n",
    "    Parent_entropy = abs(p_e*log2(p_e)+p_p*log2(p_p))\n",
    "\n",
    "    children_list = df[['entropy','proportion']].values.tolist() # 대박스...\n",
    "\n",
    "    # 엔트로피 계산\n",
    "    children_entropy = 0\n",
    "    for a, b in children_list :\n",
    "        children_entropy += a*b\n",
    "\n",
    "    info_gain = Parent_entropy - children_entropy\n",
    "\n",
    "    print(f'Parent_entropy: {round(Parent_entropy,3)}')\n",
    "    print(f'children_entropy: {round(children_entropy,3)}')\n",
    "    print(f'Information_Gain: {round(info_gain,3)}')\n",
    "    return info_gain"
   ]
  },
  {
   "cell_type": "code",
   "execution_count": 9,
   "metadata": {},
   "outputs": [
    {
     "name": "stdout",
     "output_type": "stream",
     "text": [
      "Parent_entropy: 0.999\n",
      "children_entropy: 0.583\n",
      "Information_Gain: 0.416\n"
     ]
    },
    {
     "data": {
      "text/plain": [
       "0.4155738968724605"
      ]
     },
     "execution_count": 9,
     "metadata": {},
     "output_type": "execute_result"
    },
    {
     "data": {
      "image/png": "[encoded data removed]",
      "text/plain": [
       "<Figure size 720x432 with 1 Axes>"
      ]
     },
     "metadata": {
      "needs_background": "light"
     },
     "output_type": "display_data"
    }
   ],
   "source": [
    "gill = entropy_cal('gill-color')\n",
    "makko_plot(gill)\n",
    "info_gain(gill)\n"
   ]
  },
  {
   "cell_type": "code",
   "execution_count": 10,
   "metadata": {},
   "outputs": [
    {
     "name": "stdout",
     "output_type": "stream",
     "text": [
      "Parent_entropy: 0.999\n",
      "children_entropy: 0.518\n",
      "Information_Gain: 0.481\n"
     ]
    },
    {
     "data": {
      "text/plain": [
       "0.4811868968724604"
      ]
     },
     "execution_count": 10,
     "metadata": {},
     "output_type": "execute_result"
    },
    {
     "data": {
      "image/png": "[encoded data removed]",
      "text/plain": [
       "<Figure size 720x432 with 1 Axes>"
      ]
     },
     "metadata": {
      "needs_background": "light"
     },
     "output_type": "display_data"
    }
   ],
   "source": [
    "spore = entropy_cal('spore-print-color')\n",
    "makko_plot(spore, name = 'spore-print-color')\n",
    "info_gain(spore)"
   ]
  },
  {
   "cell_type": "code",
   "execution_count": 11,
   "metadata": {},
   "outputs": [
    {
     "name": "stdout",
     "output_type": "stream",
     "text": [
      "Parent_entropy: 0.999\n",
      "children_entropy: 0.093\n",
      "Information_Gain: 0.906\n"
     ]
    },
    {
     "data": {
      "text/plain": [
       "0.9061918968724605"
      ]
     },
     "execution_count": 11,
     "metadata": {},
     "output_type": "execute_result"
    },
    {
     "data": {
      "image/png": "[encoded data removed]",
      "text/plain": [
       "<Figure size 720x432 with 1 Axes>"
      ]
     },
     "metadata": {
      "needs_background": "light"
     },
     "output_type": "display_data"
    }
   ],
   "source": [
    "odor = entropy_cal('odor')\n",
    "makko_plot(odor, name = 'odor')\n",
    "info_gain(odor)"
   ]
  }
 ],
 "metadata": {
  "interpreter": {
   "hash": "b32ab0203d4274b325f86ba61b5b3c6bc5e3032e9f578fcc84de2c2aec614dff"
  },
  "kernelspec": {
   "display_name": "Python 3.8.5 ('base')",
   "language": "python",
   "name": "python3"
  },
  "language_info": {
   "codemirror_mode": {
    "name": "ipython",
    "version": 3
   },
   "file_extension": ".py",
   "mimetype": "text/x-python",
   "name": "python",
   "nbconvert_exporter": "python",
   "pygments_lexer": "ipython3",
   "version": "3.8.5"
  },
  "orig_nbformat": 4
 },
 "nbformat": 4,
 "nbformat_minor": 2
}
