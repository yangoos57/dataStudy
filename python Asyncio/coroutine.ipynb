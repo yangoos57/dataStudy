{
 "cells": [
  {
   "cell_type": "code",
   "execution_count": 1,
   "metadata": {},
   "outputs": [
    {
     "name": "stdout",
     "output_type": "stream",
     "text": [
      "True\n"
     ]
    }
   ],
   "source": [
    "# Async functions are functions, not coroutines\n",
    "\n",
    "async def f():\n",
    "    return 123\n",
    "\n",
    "\n",
    "import inspect\n",
    "\n",
    "print(inspect.iscoroutinefunction(f))\n"
   ]
  },
  {
   "cell_type": "code",
   "execution_count": 2,
   "metadata": {},
   "outputs": [
    {
     "name": "stdout",
     "output_type": "stream",
     "text": [
      "<class 'coroutine'>\n",
      "True\n"
     ]
    }
   ],
   "source": [
    "# 함수를 실행해야 coroutine이 된다.\n",
    "coro = f()\n",
    "print(type(coro))\n",
    "print(inspect.iscoroutine(coro))"
   ]
  },
  {
   "cell_type": "code",
   "execution_count": null,
   "metadata": {},
   "outputs": [],
   "source": [
    "# A coroutine is \n",
    "# an object that encapsulates the ability to resume \n",
    "# an underlying function that has been suspended before completion."
   ]
  },
  {
   "cell_type": "code",
   "execution_count": 9,
   "metadata": {},
   "outputs": [
    {
     "name": "stdout",
     "output_type": "stream",
     "text": [
      "The answer was 123\n"
     ]
    }
   ],
   "source": [
    "# loop.create_task(coro) = await coro = .send(None)\n",
    "async def f():\n",
    "    return 123\n",
    "coro = f()\n",
    "try :\n",
    "    coro.send(None)\n",
    "\n",
    "# stopIteration 에러만 처리\n",
    "except StopIteration as e :\n",
    "    print('The answer was', e)"
   ]
  },
  {
   "cell_type": "code",
   "execution_count": 17,
   "metadata": {},
   "outputs": [
    {
     "ename": "StopIteration",
     "evalue": "123",
     "output_type": "error",
     "traceback": [
      "\u001b[0;31m---------------------------------------------------------------------------\u001b[0m",
      "\u001b[0;31mStopIteration\u001b[0m                             Traceback (most recent call last)",
      "\u001b[1;32mUntitled-1.ipynb Cell 5\u001b[0m in \u001b[0;36m<cell line: 3>\u001b[0;34m()\u001b[0m\n\u001b[1;32m      <a href='vscode-notebook-cell:Untitled-1.ipynb?jupyter-notebook#W5sdW50aXRsZWQ%3D?line=0'>1</a>\u001b[0m coro \u001b[39m=\u001b[39m f()\n\u001b[0;32m----> <a href='vscode-notebook-cell:Untitled-1.ipynb?jupyter-notebook#W5sdW50aXRsZWQ%3D?line=2'>3</a>\u001b[0m coro\u001b[39m.\u001b[39;49msend(\u001b[39mNone\u001b[39;49;00m)\n",
      "\u001b[0;31mStopIteration\u001b[0m: 123"
     ]
    }
   ],
   "source": [
    "coro = f()\n",
    "\n",
    "coro.send(None)"
   ]
  },
  {
   "attachments": {},
   "cell_type": "markdown",
   "metadata": {},
   "source": [
    "await는 패러미터와 awaitable이라는 것만을 받아들인다. awaitable에는 두 가지가 있다.\n",
    "\n",
    "* A coroutine(the result of a called async def function)\n",
    "\n",
    "* Any obejct 9mplementing the __await__() special method(책에서 알필요 없다고 한다.)\n"
   ]
  },
  {
   "cell_type": "code",
   "execution_count": 1,
   "metadata": {},
   "outputs": [],
   "source": [
    "import asyncio\n",
    "async def f() :\n",
    "    await asyncio.sleep(1.0)\n",
    "    return 123\n",
    "\n",
    "async def main() :\n",
    "    result = await f()\n",
    "    return result\n"
   ]
  },
  {
   "cell_type": "markdown",
   "metadata": {},
   "source": [
    "coro.throw() = task.cancel()"
   ]
  },
  {
   "cell_type": "code",
   "execution_count": 2,
   "metadata": {},
   "outputs": [
    {
     "ename": "Exception",
     "evalue": "blah",
     "output_type": "error",
     "traceback": [
      "\u001b[0;31m---------------------------------------------------------------------------\u001b[0m",
      "\u001b[0;31mException\u001b[0m                                 Traceback (most recent call last)",
      "\u001b[1;32m/Users/yangwoolee/.vscode/extensions/ms-python.vscode-pylance-2023.3.10/dist/typeshed-fallback/stdlib/coroutine.ipynb Cell 9\u001b[0m in \u001b[0;36m<cell line: 4>\u001b[0;34m()\u001b[0m\n\u001b[1;32m      <a href='vscode-notebook-cell:/Users/yangwoolee/.vscode/extensions/ms-python.vscode-pylance-2023.3.10/dist/typeshed-fallback/stdlib/coroutine.ipynb#X13sZmlsZQ%3D%3D?line=0'>1</a>\u001b[0m coro \u001b[39m=\u001b[39m f()\n\u001b[1;32m      <a href='vscode-notebook-cell:/Users/yangwoolee/.vscode/extensions/ms-python.vscode-pylance-2023.3.10/dist/typeshed-fallback/stdlib/coroutine.ipynb#X13sZmlsZQ%3D%3D?line=2'>3</a>\u001b[0m coro\u001b[39m.\u001b[39msend(\u001b[39mNone\u001b[39;00m)\n\u001b[0;32m----> <a href='vscode-notebook-cell:/Users/yangwoolee/.vscode/extensions/ms-python.vscode-pylance-2023.3.10/dist/typeshed-fallback/stdlib/coroutine.ipynb#X13sZmlsZQ%3D%3D?line=3'>4</a>\u001b[0m coro\u001b[39m.\u001b[39;49mthrow(\u001b[39mException\u001b[39;49;00m, \u001b[39m'\u001b[39;49m\u001b[39mblah\u001b[39;49m\u001b[39m'\u001b[39;49m)\n",
      "\u001b[1;32m/Users/yangwoolee/.vscode/extensions/ms-python.vscode-pylance-2023.3.10/dist/typeshed-fallback/stdlib/coroutine.ipynb Cell 9\u001b[0m in \u001b[0;36mf\u001b[0;34m()\u001b[0m\n\u001b[1;32m      <a href='vscode-notebook-cell:/Users/yangwoolee/.vscode/extensions/ms-python.vscode-pylance-2023.3.10/dist/typeshed-fallback/stdlib/coroutine.ipynb#X13sZmlsZQ%3D%3D?line=1'>2</a>\u001b[0m \u001b[39masync\u001b[39;00m \u001b[39mdef\u001b[39;00m \u001b[39mf\u001b[39m() :\n\u001b[0;32m----> <a href='vscode-notebook-cell:/Users/yangwoolee/.vscode/extensions/ms-python.vscode-pylance-2023.3.10/dist/typeshed-fallback/stdlib/coroutine.ipynb#X13sZmlsZQ%3D%3D?line=2'>3</a>\u001b[0m     \u001b[39mawait\u001b[39;00m asyncio\u001b[39m.\u001b[39msleep(\u001b[39m1.0\u001b[39m)\n\u001b[1;32m      <a href='vscode-notebook-cell:/Users/yangwoolee/.vscode/extensions/ms-python.vscode-pylance-2023.3.10/dist/typeshed-fallback/stdlib/coroutine.ipynb#X13sZmlsZQ%3D%3D?line=3'>4</a>\u001b[0m     \u001b[39mreturn\u001b[39;00m \u001b[39m123\u001b[39m\n",
      "File \u001b[0;32m~/.pyenv/versions/3.9.1/lib/python3.9/asyncio/tasks.py:651\u001b[0m, in \u001b[0;36msleep\u001b[0;34m(delay, result, loop)\u001b[0m\n\u001b[1;32m    647\u001b[0m h \u001b[39m=\u001b[39m loop\u001b[39m.\u001b[39mcall_later(delay,\n\u001b[1;32m    648\u001b[0m                     futures\u001b[39m.\u001b[39m_set_result_unless_cancelled,\n\u001b[1;32m    649\u001b[0m                     future, result)\n\u001b[1;32m    650\u001b[0m \u001b[39mtry\u001b[39;00m:\n\u001b[0;32m--> 651\u001b[0m     \u001b[39mreturn\u001b[39;00m \u001b[39mawait\u001b[39;00m future\n\u001b[1;32m    652\u001b[0m \u001b[39mfinally\u001b[39;00m:\n\u001b[1;32m    653\u001b[0m     h\u001b[39m.\u001b[39mcancel()\n",
      "\u001b[0;31mException\u001b[0m: blah"
     ]
    }
   ],
   "source": [
    "coro = f()\n",
    "\n",
    "coro.send(None)\n",
    "coro.throw(Exception, 'blah')"
   ]
  },
  {
   "cell_type": "code",
   "execution_count": 20,
   "metadata": {},
   "outputs": [
    {
     "name": "stdout",
     "output_type": "stream",
     "text": [
      "I was canceeled!\n"
     ]
    },
    {
     "ename": "StopIteration",
     "evalue": "",
     "output_type": "error",
     "traceback": [
      "\u001b[0;31m---------------------------------------------------------------------------\u001b[0m",
      "\u001b[0;31mStopIteration\u001b[0m                             Traceback (most recent call last)",
      "\u001b[1;32m/Users/yangwoolee/.vscode/extensions/ms-python.vscode-pylance-2023.3.10/dist/typeshed-fallback/stdlib/coroutine.ipynb Cell 10\u001b[0m in \u001b[0;36m<cell line: 14>\u001b[0;34m()\u001b[0m\n\u001b[1;32m     <a href='vscode-notebook-cell:/Users/yangwoolee/.vscode/extensions/ms-python.vscode-pylance-2023.3.10/dist/typeshed-fallback/stdlib/coroutine.ipynb#X14sZmlsZQ%3D%3D?line=11'>12</a>\u001b[0m coro\u001b[39m.\u001b[39msend(\u001b[39mNone\u001b[39;00m)\n\u001b[1;32m     <a href='vscode-notebook-cell:/Users/yangwoolee/.vscode/extensions/ms-python.vscode-pylance-2023.3.10/dist/typeshed-fallback/stdlib/coroutine.ipynb#X14sZmlsZQ%3D%3D?line=12'>13</a>\u001b[0m coro\u001b[39m.\u001b[39msend(\u001b[39mNone\u001b[39;00m)\n\u001b[0;32m---> <a href='vscode-notebook-cell:/Users/yangwoolee/.vscode/extensions/ms-python.vscode-pylance-2023.3.10/dist/typeshed-fallback/stdlib/coroutine.ipynb#X14sZmlsZQ%3D%3D?line=13'>14</a>\u001b[0m coro\u001b[39m.\u001b[39;49mthrow(asyncio\u001b[39m.\u001b[39;49mCancelledError)\n",
      "\u001b[0;31mStopIteration\u001b[0m: "
     ]
    }
   ],
   "source": [
    "import asyncio\n",
    "\n",
    "async def f() :\n",
    "    try :\n",
    "        while True : await asyncio.sleep(0)\n",
    "    except  asyncio.CancelledError:\n",
    "        print('I was canceeled!')\n",
    "    else:\n",
    "        return 111\n",
    "\n",
    "coro = f()\n",
    "coro.send(None)\n",
    "coro.send(None)\n",
    "coro.throw(asyncio.CancelledError)"
   ]
  },
  {
   "cell_type": "code",
   "execution_count": null,
   "metadata": {},
   "outputs": [],
   "source": [
    "import asyncio\n",
    "\n",
    "async def f() :\n",
    "    await asyncio.sleep(0)\n",
    "    return 111\n",
    "\n",
    "loop = asyncio.get_event_loop()\n",
    "coro_2 = f()\n",
    "# run_until_complete => 반복적으로 .send(None)을 부르는 것\n",
    "loop.run_until_complete(coro_2)\n",
    "\n",
    "# Ipython 실행 시 에러발생"
   ]
  },
  {
   "cell_type": "code",
   "execution_count": null,
   "metadata": {},
   "outputs": [],
   "source": []
  }
 ],
 "metadata": {
  "kernelspec": {
   "display_name": "Python 3",
   "language": "python",
   "name": "python3"
  },
  "language_info": {
   "codemirror_mode": {
    "name": "ipython",
    "version": 3
   },
   "file_extension": ".py",
   "mimetype": "text/x-python",
   "name": "python",
   "nbconvert_exporter": "python",
   "pygments_lexer": "ipython3",
   "version": "3.9.1"
  },
  "orig_nbformat": 4
 },
 "nbformat": 4,
 "nbformat_minor": 2
}
