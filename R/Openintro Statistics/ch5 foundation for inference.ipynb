{
 "cells": [
  {
   "cell_type": "code",
   "execution_count": 2,
   "metadata": {
    "vscode": {
     "languageId": "r"
    }
   },
   "outputs": [
    {
     "data": {
      "text/html": [
       "0.908"
      ],
      "text/latex": [
       "0.908"
      ],
      "text/markdown": [
       "0.908"
      ],
      "text/plain": [
       "[1] 0.908"
      ]
     },
     "metadata": {},
     "output_type": "display_data"
    }
   ],
   "source": [
    "pop_size <- 250000000\n",
    "possible_entries <- c(rep(\"support\", 0.88*pop_size), rep(\"not\",0.12*pop_size))\n",
    "\n",
    "\n",
    "sampled_entries <- sample(possible_entries, size =1000)\n",
    "\n",
    "sum(sampled_entries == \"support\") / 1000"
   ]
  },
  {
   "cell_type": "code",
   "execution_count": 4,
   "metadata": {
    "vscode": {
     "languageId": "r"
    }
   },
   "outputs": [
    {
     "data": {
      "text/html": [
       "0.896"
      ],
      "text/latex": [
       "0.896"
      ],
      "text/markdown": [
       "0.896"
      ],
      "text/plain": [
       "[1] 0.896"
      ]
     },
     "metadata": {},
     "output_type": "display_data"
    }
   ],
   "source": [
    "sampled_entries <- sample(possible_entries, size =1000)\n",
    "\n",
    "sum(sampled_entries == \"support\") / 1000"
   ]
  },
  {
   "cell_type": "code",
   "execution_count": null,
   "metadata": {
    "vscode": {
     "languageId": "r"
    }
   },
   "outputs": [],
   "source": []
  }
 ],
 "metadata": {
  "kernelspec": {
   "display_name": "R",
   "language": "R",
   "name": "ir"
  },
  "language_info": {
   "codemirror_mode": "r",
   "file_extension": ".r",
   "mimetype": "text/x-r-source",
   "name": "R",
   "pygments_lexer": "r",
   "version": "3.6.1"
  },
  "orig_nbformat": 4
 },
 "nbformat": 4,
 "nbformat_minor": 2
}
