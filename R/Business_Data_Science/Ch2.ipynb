{
 "cells": [
  {
   "cell_type": "code",
   "execution_count": 1,
   "metadata": {},
   "outputs": [
    {
     "data": {
      "text/html": [
       "'d:/git_local_repository/yangoos57/R/Business_Data_Science'"
      ],
      "text/latex": [
       "'d:/git\\_local\\_repository/yangoos57/R/Business\\_Data\\_Science'"
      ],
      "text/markdown": [
       "'d:/git_local_repository/yangoos57/R/Business_Data_Science'"
      ],
      "text/plain": [
       "[1] \"d:/git_local_repository/yangoos57/R/Business_Data_Science\""
      ]
     },
     "metadata": {},
     "output_type": "display_data"
    }
   ],
   "source": [
    "getwd()"
   ]
  },
  {
   "cell_type": "code",
   "execution_count": 3,
   "metadata": {},
   "outputs": [],
   "source": [
    "oj <- read.csv(\"data/oj.csv\")"
   ]
  },
  {
   "cell_type": "code",
   "execution_count": 4,
   "metadata": {},
   "outputs": [
    {
     "data": {
      "text/html": [
       "<table>\n",
       "<thead><tr><th scope=col>sales</th><th scope=col>price</th><th scope=col>brand</th><th scope=col>feat</th></tr></thead>\n",
       "<tbody>\n",
       "\t<tr><td>8256     </td><td>3.87     </td><td>tropicana</td><td>0        </td></tr>\n",
       "\t<tr><td>6144     </td><td>3.87     </td><td>tropicana</td><td>0        </td></tr>\n",
       "\t<tr><td>3840     </td><td>3.87     </td><td>tropicana</td><td>0        </td></tr>\n",
       "\t<tr><td>8000     </td><td>3.87     </td><td>tropicana</td><td>0        </td></tr>\n",
       "\t<tr><td>8896     </td><td>3.87     </td><td>tropicana</td><td>0        </td></tr>\n",
       "\t<tr><td>7168     </td><td>3.87     </td><td>tropicana</td><td>0        </td></tr>\n",
       "</tbody>\n",
       "</table>\n"
      ],
      "text/latex": [
       "\\begin{tabular}{r|llll}\n",
       " sales & price & brand & feat\\\\\n",
       "\\hline\n",
       "\t 8256      & 3.87      & tropicana & 0        \\\\\n",
       "\t 6144      & 3.87      & tropicana & 0        \\\\\n",
       "\t 3840      & 3.87      & tropicana & 0        \\\\\n",
       "\t 8000      & 3.87      & tropicana & 0        \\\\\n",
       "\t 8896      & 3.87      & tropicana & 0        \\\\\n",
       "\t 7168      & 3.87      & tropicana & 0        \\\\\n",
       "\\end{tabular}\n"
      ],
      "text/markdown": [
       "\n",
       "| sales | price | brand | feat |\n",
       "|---|---|---|---|\n",
       "| 8256      | 3.87      | tropicana | 0         |\n",
       "| 6144      | 3.87      | tropicana | 0         |\n",
       "| 3840      | 3.87      | tropicana | 0         |\n",
       "| 8000      | 3.87      | tropicana | 0         |\n",
       "| 8896      | 3.87      | tropicana | 0         |\n",
       "| 7168      | 3.87      | tropicana | 0         |\n",
       "\n"
      ],
      "text/plain": [
       "  sales price brand     feat\n",
       "1 8256  3.87  tropicana 0   \n",
       "2 6144  3.87  tropicana 0   \n",
       "3 3840  3.87  tropicana 0   \n",
       "4 8000  3.87  tropicana 0   \n",
       "5 8896  3.87  tropicana 0   \n",
       "6 7168  3.87  tropicana 0   "
      ]
     },
     "metadata": {},
     "output_type": "display_data"
    }
   ],
   "source": [
    "head(oj)"
   ]
  },
  {
   "cell_type": "code",
   "execution_count": 5,
   "metadata": {},
   "outputs": [
    {
     "data": {
      "text/html": [
       "<ol class=list-inline>\n",
       "\t<li>'dominicks'</li>\n",
       "\t<li>'minute.maid'</li>\n",
       "\t<li>'tropicana'</li>\n",
       "</ol>\n"
      ],
      "text/latex": [
       "\\begin{enumerate*}\n",
       "\\item 'dominicks'\n",
       "\\item 'minute.maid'\n",
       "\\item 'tropicana'\n",
       "\\end{enumerate*}\n"
      ],
      "text/markdown": [
       "1. 'dominicks'\n",
       "2. 'minute.maid'\n",
       "3. 'tropicana'\n",
       "\n",
       "\n"
      ],
      "text/plain": [
       "[1] \"dominicks\"   \"minute.maid\" \"tropicana\"  "
      ]
     },
     "metadata": {},
     "output_type": "display_data"
    }
   ],
   "source": [
    "levels(oj$brand)"
   ]
  },
  {
   "cell_type": "code",
   "execution_count": 13,
   "metadata": {},
   "outputs": [
    {
     "data": {
      "text/html": [
       "<dl class=dl-horizontal>\n",
       "\t<dt>(Intercept)</dt>\n",
       "\t\t<dd>10.8288215795648</dd>\n",
       "\t<dt>brandminute.maid</dt>\n",
       "\t\t<dd>0.870174651651169</dd>\n",
       "\t<dt>brandtropicana</dt>\n",
       "\t\t<dd>1.52994276420622</dd>\n",
       "\t<dt>log(price)</dt>\n",
       "\t\t<dd>-3.13869142792194</dd>\n",
       "</dl>\n"
      ],
      "text/latex": [
       "\\begin{description*}\n",
       "\\item[(Intercept)] 10.8288215795648\n",
       "\\item[brandminute.maid] 0.870174651651169\n",
       "\\item[brandtropicana] 1.52994276420622\n",
       "\\item[log(price)] -3.13869142792194\n",
       "\\end{description*}\n"
      ],
      "text/markdown": [
       "(Intercept)\n",
       ":   10.8288215795648brandminute.maid\n",
       ":   0.870174651651169brandtropicana\n",
       ":   1.52994276420622log(price)\n",
       ":   -3.13869142792194\n",
       "\n"
      ],
      "text/plain": [
       "     (Intercept) brandminute.maid   brandtropicana       log(price) \n",
       "      10.8288216        0.8701747        1.5299428       -3.1386914 "
      ]
     },
     "metadata": {},
     "output_type": "display_data"
    }
   ],
   "source": [
    "reg <- glm( log(sales) ~ brand + log(price), data=oj)\n",
    "coef(reg)"
   ]
  },
  {
   "cell_type": "code",
   "execution_count": 11,
   "metadata": {},
   "outputs": [
    {
     "data": {
      "text/html": [
       "<table>\n",
       "<thead><tr><th></th><th scope=col>(Intercept)</th><th scope=col>log(price)</th><th scope=col>brandminute.maid</th><th scope=col>brandtropicana</th></tr></thead>\n",
       "<tbody>\n",
       "\t<tr><th scope=row>100</th><td>1        </td><td>1.1600209</td><td>0        </td><td>1        </td></tr>\n",
       "\t<tr><th scope=row>200</th><td>1        </td><td>1.0260416</td><td>1        </td><td>0        </td></tr>\n",
       "\t<tr><th scope=row>300</th><td>1        </td><td>0.3293037</td><td>0        </td><td>0        </td></tr>\n",
       "</tbody>\n",
       "</table>\n"
      ],
      "text/latex": [
       "\\begin{tabular}{r|llll}\n",
       "  & (Intercept) & log(price) & brandminute.maid & brandtropicana\\\\\n",
       "\\hline\n",
       "\t100 & 1         & 1.1600209 & 0         & 1        \\\\\n",
       "\t200 & 1         & 1.0260416 & 1         & 0        \\\\\n",
       "\t300 & 1         & 0.3293037 & 0         & 0        \\\\\n",
       "\\end{tabular}\n"
      ],
      "text/markdown": [
       "\n",
       "| <!--/--> | (Intercept) | log(price) | brandminute.maid | brandtropicana |\n",
       "|---|---|---|---|---|\n",
       "| 100 | 1         | 1.1600209 | 0         | 1         |\n",
       "| 200 | 1         | 1.0260416 | 1         | 0         |\n",
       "| 300 | 1         | 0.3293037 | 0         | 0         |\n",
       "\n"
      ],
      "text/plain": [
       "    (Intercept) log(price) brandminute.maid brandtropicana\n",
       "100 1           1.1600209  0                1             \n",
       "200 1           1.0260416  1                0             \n",
       "300 1           0.3293037  0                0             "
      ]
     },
     "metadata": {},
     "output_type": "display_data"
    },
    {
     "data": {
      "text/html": [
       "<table>\n",
       "<thead><tr><th></th><th scope=col>sales</th><th scope=col>price</th><th scope=col>brand</th><th scope=col>feat</th></tr></thead>\n",
       "<tbody>\n",
       "\t<tr><th scope=row>100</th><td> 4416      </td><td>3.19       </td><td>tropicana  </td><td>0          </td></tr>\n",
       "\t<tr><th scope=row>200</th><td> 5440      </td><td>2.79       </td><td>minute.maid</td><td>0          </td></tr>\n",
       "\t<tr><th scope=row>300</th><td>51264      </td><td>1.39       </td><td>dominicks  </td><td>1          </td></tr>\n",
       "</tbody>\n",
       "</table>\n"
      ],
      "text/latex": [
       "\\begin{tabular}{r|llll}\n",
       "  & sales & price & brand & feat\\\\\n",
       "\\hline\n",
       "\t100 &  4416       & 3.19        & tropicana   & 0          \\\\\n",
       "\t200 &  5440       & 2.79        & minute.maid & 0          \\\\\n",
       "\t300 & 51264       & 1.39        & dominicks   & 1          \\\\\n",
       "\\end{tabular}\n"
      ],
      "text/markdown": [
       "\n",
       "| <!--/--> | sales | price | brand | feat |\n",
       "|---|---|---|---|---|\n",
       "| 100 |  4416       | 3.19        | tropicana   | 0           |\n",
       "| 200 |  5440       | 2.79        | minute.maid | 0           |\n",
       "| 300 | 51264       | 1.39        | dominicks   | 1           |\n",
       "\n"
      ],
      "text/plain": [
       "    sales price brand       feat\n",
       "100  4416 3.19  tropicana   0   \n",
       "200  5440 2.79  minute.maid 0   \n",
       "300 51264 1.39  dominicks   1   "
      ]
     },
     "metadata": {},
     "output_type": "display_data"
    }
   ],
   "source": [
    "x <- model.matrix( ~ log(price) + brand , data=oj)\n",
    "x[c(100,200,300),]\n",
    "oj[c(100,200,300),]"
   ]
  },
  {
   "cell_type": "code",
   "execution_count": 15,
   "metadata": {},
   "outputs": [
    {
     "data": {
      "text/html": [
       "<dl class=dl-horizontal>\n",
       "\t<dt>(Intercept)</dt>\n",
       "\t\t<dd>10.9546817265758</dd>\n",
       "\t<dt>log(price)</dt>\n",
       "\t\t<dd>-3.37752963070258</dd>\n",
       "\t<dt>brandminute.maid</dt>\n",
       "\t\t<dd>0.888253632817691</dd>\n",
       "\t<dt>brandtropicana</dt>\n",
       "\t\t<dd>0.962389602878168</dd>\n",
       "\t<dt>log(price):brandminute.maid</dt>\n",
       "\t\t<dd>0.0567947552800611</dd>\n",
       "\t<dt>log(price):brandtropicana</dt>\n",
       "\t\t<dd>0.665760877215744</dd>\n",
       "</dl>\n"
      ],
      "text/latex": [
       "\\begin{description*}\n",
       "\\item[(Intercept)] 10.9546817265758\n",
       "\\item[log(price)] -3.37752963070258\n",
       "\\item[brandminute.maid] 0.888253632817691\n",
       "\\item[brandtropicana] 0.962389602878168\n",
       "\\item[log(price):brandminute.maid] 0.0567947552800611\n",
       "\\item[log(price):brandtropicana] 0.665760877215744\n",
       "\\end{description*}\n"
      ],
      "text/markdown": [
       "(Intercept)\n",
       ":   10.9546817265758log(price)\n",
       ":   -3.37752963070258brandminute.maid\n",
       ":   0.888253632817691brandtropicana\n",
       ":   0.962389602878168log(price):brandminute.maid\n",
       ":   0.0567947552800611log(price):brandtropicana\n",
       ":   0.665760877215744\n",
       "\n"
      ],
      "text/plain": [
       "                (Intercept)                  log(price) \n",
       "                10.95468173                 -3.37752963 \n",
       "           brandminute.maid              brandtropicana \n",
       "                 0.88825363                  0.96238960 \n",
       "log(price):brandminute.maid   log(price):brandtropicana \n",
       "                 0.05679476                  0.66576088 "
      ]
     },
     "metadata": {},
     "output_type": "display_data"
    }
   ],
   "source": [
    "reg_interact <- glm(log(sales) ~ log(price)*brand, data=oj)\n",
    "coef(reg_interact)"
   ]
  },
  {
   "cell_type": "code",
   "execution_count": 17,
   "metadata": {},
   "outputs": [
    {
     "data": {
      "text/html": [
       "<dl class=dl-horizontal>\n",
       "\t<dt>(Intercept)</dt>\n",
       "\t\t<dd>10.4065757869267</dd>\n",
       "\t<dt>log(price)</dt>\n",
       "\t\t<dd>-2.77415435861561</dd>\n",
       "\t<dt>brandminute.maid</dt>\n",
       "\t\t<dd>0.0472031749221993</dd>\n",
       "\t<dt>brandtropicana</dt>\n",
       "\t\t<dd>0.707940885276595</dd>\n",
       "\t<dt>feat</dt>\n",
       "\t\t<dd>1.09440665227868</dd>\n",
       "\t<dt>log(price):brandminute.maid</dt>\n",
       "\t\t<dd>0.782932104584868</dd>\n",
       "\t<dt>log(price):brandtropicana</dt>\n",
       "\t\t<dd>0.735792988874967</dd>\n",
       "\t<dt>log(price):feat</dt>\n",
       "\t\t<dd>-0.470553311285893</dd>\n",
       "\t<dt>brandminute.maid:feat</dt>\n",
       "\t\t<dd>1.17294361072482</dd>\n",
       "\t<dt>brandtropicana:feat</dt>\n",
       "\t\t<dd>0.785252373248384</dd>\n",
       "\t<dt>log(price):brandminute.maid:feat</dt>\n",
       "\t\t<dd>-1.10922376416043</dd>\n",
       "\t<dt>log(price):brandtropicana:feat</dt>\n",
       "\t\t<dd>-0.986140932598266</dd>\n",
       "</dl>\n"
      ],
      "text/latex": [
       "\\begin{description*}\n",
       "\\item[(Intercept)] 10.4065757869267\n",
       "\\item[log(price)] -2.77415435861561\n",
       "\\item[brandminute.maid] 0.0472031749221993\n",
       "\\item[brandtropicana] 0.707940885276595\n",
       "\\item[feat] 1.09440665227868\n",
       "\\item[log(price):brandminute.maid] 0.782932104584868\n",
       "\\item[log(price):brandtropicana] 0.735792988874967\n",
       "\\item[log(price):feat] -0.470553311285893\n",
       "\\item[brandminute.maid:feat] 1.17294361072482\n",
       "\\item[brandtropicana:feat] 0.785252373248384\n",
       "\\item[log(price):brandminute.maid:feat] -1.10922376416043\n",
       "\\item[log(price):brandtropicana:feat] -0.986140932598266\n",
       "\\end{description*}\n"
      ],
      "text/markdown": [
       "(Intercept)\n",
       ":   10.4065757869267log(price)\n",
       ":   -2.77415435861561brandminute.maid\n",
       ":   0.0472031749221993brandtropicana\n",
       ":   0.707940885276595feat\n",
       ":   1.09440665227868log(price):brandminute.maid\n",
       ":   0.782932104584868log(price):brandtropicana\n",
       ":   0.735792988874967log(price):feat\n",
       ":   -0.470553311285893brandminute.maid:feat\n",
       ":   1.17294361072482brandtropicana:feat\n",
       ":   0.785252373248384log(price):brandminute.maid:feat\n",
       ":   -1.10922376416043log(price):brandtropicana:feat\n",
       ":   -0.986140932598266\n",
       "\n"
      ],
      "text/plain": [
       "                     (Intercept)                       log(price) \n",
       "                     10.40657579                      -2.77415436 \n",
       "                brandminute.maid                   brandtropicana \n",
       "                      0.04720317                       0.70794089 \n",
       "                            feat      log(price):brandminute.maid \n",
       "                      1.09440665                       0.78293210 \n",
       "       log(price):brandtropicana                  log(price):feat \n",
       "                      0.73579299                      -0.47055331 \n",
       "           brandminute.maid:feat              brandtropicana:feat \n",
       "                      1.17294361                       0.78525237 \n",
       "log(price):brandminute.maid:feat   log(price):brandtropicana:feat \n",
       "                     -1.10922376                      -0.98614093 "
      ]
     },
     "metadata": {},
     "output_type": "display_data"
    }
   ],
   "source": [
    "ojreg <- glm(log(sales) ~ log(price) * brand * feat, data=oj)\n",
    "coef(ojreg)"
   ]
  },
  {
   "cell_type": "code",
   "execution_count": 21,
   "metadata": {},
   "outputs": [
    {
     "data": {
      "text/html": [
       "-3.03605298451682"
      ],
      "text/latex": [
       "-3.03605298451682"
      ],
      "text/markdown": [
       "-3.03605298451682"
      ],
      "text/plain": [
       "[1] -3.036053"
      ]
     },
     "metadata": {},
     "output_type": "display_data"
    }
   ],
   "source": [
    "-2.77415435861561 * 1.09440665227868"
   ]
  },
  {
   "cell_type": "code",
   "execution_count": null,
   "metadata": {},
   "outputs": [],
   "source": []
  }
 ],
 "metadata": {
  "interpreter": {
   "hash": "c99a900a06f29ce7e2cc9c8ff1aaa5c41fd9eb906bf423a1778f5dd4293e879c"
  },
  "kernelspec": {
   "display_name": "R",
   "language": "R",
   "name": "ir"
  },
  "language_info": {
   "codemirror_mode": "r",
   "file_extension": ".r",
   "mimetype": "text/x-r-source",
   "name": "R",
   "pygments_lexer": "r",
   "version": "3.6.1"
  },
  "orig_nbformat": 4
 },
 "nbformat": 4,
 "nbformat_minor": 2
}
