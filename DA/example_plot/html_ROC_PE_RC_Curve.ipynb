{
 "cells": [
  {
   "cell_type": "code",
   "execution_count": 1,
   "metadata": {},
   "outputs": [],
   "source": [
    "import plotly.express as px\n",
    "from plotly.subplots import make_subplots\n",
    "import plotly.graph_objects as go\n",
    "from jupyter_dash import JupyterDash\n",
    "from dash import dcc,html,Input, Output\n",
    "import pandas as pd\n",
    "import numpy as np\n",
    "import matplotlib.pyplot as plt\n",
    "from sklearn.metrics import roc_curve,precision_recall_curve,confusion_matrix,ConfusionMatrixDisplay\n",
    "import seaborn as sns\n",
    "from ipywidgets import interact,widgets, Layout\n"
   ]
  },
  {
   "cell_type": "code",
   "execution_count": 2,
   "metadata": {},
   "outputs": [],
   "source": [
    "percent_of_criminal =np.array([0.2,0.25,0.3,0.4,0.6,0.65,0.68,0.8,0.82,0.91,0.93,0.96])\n",
    "criminal = np.array([0,0,0,0,1,0,1,1,0,1,1,1])\n",
    "fpr,tpr,threshold = roc_curve(y_true=criminal,y_score=percent_of_criminal)"
   ]
  },
  {
   "cell_type": "markdown",
   "metadata": {},
   "source": [
    "### ROC Curve"
   ]
  },
  {
   "cell_type": "code",
   "execution_count": 13,
   "metadata": {},
   "outputs": [],
   "source": [
    "# def ROC(thr) : \n",
    "for thr in range(8) :\n",
    "        sns.set(font_scale=1.2) \n",
    "        plt.style.use('seaborn')\n",
    "        fig, ax = plt.subplots(figsize=(8,8))\n",
    "\n",
    "        # ax.plot(fpr[:thr+1],tpr[:thr+1], linewidth=2) ## 하나씩 만드는 plot\n",
    "        ax.plot(fpr,tpr, linewidth=2) ## 완성된 plot\n",
    "        plt.xlabel('FP rate',fontsize=18)\n",
    "        plt.ylabel('TP rate',fontsize=18)\n",
    "        plt.xlim(-0.02,1.01)\n",
    "        plt.ylim(-0.02,1.01)\n",
    "        plt.xticks(fontsize=14)\n",
    "        plt.yticks(fontsize=14)\n",
    "\n",
    "        #점표현\n",
    "        ax.plot([fpr[thr]],[tpr[thr]],'ro')\n",
    "        # plt.arrow(x=0.7, y=0.3, dx=(fpr[thr]-0.67), dy=(tpr[thr]-0.295), width=0.003, facecolor='red',alpha=0.5, edgecolor='none') \n",
    "        plt.annotate('-', xy=(fpr[thr],tpr[thr]), xytext=(0.65,0.3),\n",
    "                fontsize=14, ha='center',\n",
    "                arrowprops=dict(facecolor='red', alpha=0.5, width=1.5, shrink=0.1, headwidth=7))\n",
    "\n",
    "\n",
    "        ax2 = fig.add_axes([0.55, 0.2, 0.25, 0.3])\n",
    "        pred_log = (percent_of_criminal >= threshold[thr])\n",
    "        con_max = confusion_matrix(criminal,pred_log,labels=[1, 0])\n",
    "        ConfusionMatrixDisplay(con_max).plot(colorbar=False,cmap='PuBu',ax=ax2)\n",
    "        ax2.set_xticklabels(['Positive','Negative'])\n",
    "        ax2.set_yticklabels(['Positive','Negative'])\n",
    "        ax2.xaxis.set_label_position('top') \n",
    "        ax2.xaxis.tick_top()\n",
    "        ax2.grid(False)\n",
    "#     return ax\n",
    "\n",
    "        ## figure save\n",
    "        plt.savefig(f'save_fig/{thr+1}.png')\n",
    "        plt.close()\n",
    "        plt.ioff()"
   ]
  },
  {
   "cell_type": "code",
   "execution_count": 4,
   "metadata": {},
   "outputs": [
    {
     "ename": "NameError",
     "evalue": "name 'ROC' is not defined",
     "output_type": "error",
     "traceback": [
      "\u001b[1;31m---------------------------------------------------------------------------\u001b[0m",
      "\u001b[1;31mNameError\u001b[0m                                 Traceback (most recent call last)",
      "\u001b[1;32m~\\AppData\\Local\\Temp/ipykernel_18056/1126219630.py\u001b[0m in \u001b[0;36m<module>\u001b[1;34m\u001b[0m\n\u001b[0;32m      5\u001b[0m \u001b[1;31m# slider = widgets.FloatSlider(min=1,max=0,step=0.125, value=0, layout=Layout(width='500px'))\u001b[0m\u001b[1;33m\u001b[0m\u001b[1;33m\u001b[0m\u001b[0m\n\u001b[0;32m      6\u001b[0m \u001b[0mslider\u001b[0m\u001b[1;33m.\u001b[0m\u001b[0mstyle\u001b[0m\u001b[1;33m.\u001b[0m\u001b[0mhandle_color\u001b[0m \u001b[1;33m=\u001b[0m \u001b[1;34m'lightblue'\u001b[0m\u001b[1;33m\u001b[0m\u001b[1;33m\u001b[0m\u001b[0m\n\u001b[1;32m----> 7\u001b[1;33m \u001b[0minteract\u001b[0m\u001b[1;33m(\u001b[0m\u001b[0mROC\u001b[0m\u001b[1;33m,\u001b[0m \u001b[0mthr\u001b[0m\u001b[1;33m=\u001b[0m\u001b[0mslider\u001b[0m\u001b[1;33m)\u001b[0m\u001b[1;33m\u001b[0m\u001b[1;33m\u001b[0m\u001b[0m\n\u001b[0m",
      "\u001b[1;31mNameError\u001b[0m: name 'ROC' is not defined"
     ]
    }
   ],
   "source": [
    "# %matplotlib inline\n",
    "from ipywidgets.embed import embed_minimal_html\n",
    "\n",
    "slider = widgets.IntSlider(min=0,max=7,step=1, value=0, layout=Layout(width='500px'))\n",
    "# slider = widgets.FloatSlider(min=1,max=0,step=0.125, value=0, layout=Layout(width='500px'))\n",
    "slider.style.handle_color = 'lightblue'\n",
    "interact(ROC, thr=slider)"
   ]
  },
  {
   "cell_type": "markdown",
   "metadata": {},
   "source": [
    "### PE_RC Curve"
   ]
  },
  {
   "cell_type": "code",
   "execution_count": 11,
   "metadata": {},
   "outputs": [],
   "source": [
    "for thr in range(8) :\n",
    "    # plt setting\n",
    "    fig, ax = plt.subplots(figsize=(8,8))\n",
    "    plt.style.use('seaborn')\n",
    "\n",
    "    # Precision Recall\n",
    "    rc_a =[0,1/6,3/6,3/6,5/6,5/6,1,1]\n",
    "    pe_a =[1,1,1,3/4,5/6,5/7,6/8,6/12]\n",
    "\n",
    "    # Precision Recall plot\n",
    "    ax.plot(rc_a, pe_a,color='tab:orange',label='PE/RC')\n",
    "    # Base Rate Plot\n",
    "    ax.plot([0,1],[0.5,0.5],color='black', linestyle='--',label='Base_rate')\n",
    "    # dot plot\n",
    "#     ax.plot([rc_a,rc_a],[pe_a,pe_a],'bo') \n",
    "    ax.plot([rc_a[thr],rc_a[thr]],[pe_a[thr],pe_a[thr]],'bo') \n",
    "\n",
    "    # annot\n",
    "    ax.annotate('-', xy=(rc_a[thr],pe_a[thr]), xytext=(0.3,0.65),\n",
    "            fontsize=14, ha='center',\n",
    "            arrowprops=dict(facecolor='blue', alpha=0.5, width=1.5, shrink=0.1, headwidth=7))\n",
    "\n",
    "    # figure styling\n",
    "    ax.set_xlabel('\\nRecall\\n',fontdict=dict(fontsize=18))\n",
    "    ax.set_ylabel('\\nPrecision\\n',fontdict=dict(fontsize=18))\n",
    "    plt.xticks(fontsize=14)\n",
    "    plt.yticks(fontsize=14)\n",
    "\n",
    "    ax.legend(loc=0,fontsize=14)\n",
    "    ax.set_title('Precision-Recall Curve\\n',fontdict=dict(fontsize=22))\n",
    "    ax.set_xlim([-0.01,1.02])\n",
    "    ax.set_ylim([0.46,1.02])\n",
    "\n",
    "\n",
    "    # Confusion Matrix\n",
    "    ax2 = fig.add_axes([0.25, 0.2, 0.25, 0.25]) # [left, bottom, width, height]\n",
    "    pred_log = (percent_of_criminal >= threshold[thr])\n",
    "    con_max = confusion_matrix(criminal,pred_log,labels=[1, 0])\n",
    "    ConfusionMatrixDisplay(con_max).plot(colorbar=False,cmap='PuBu',ax=ax2)\n",
    "\n",
    "    # figure styling\n",
    "    ax2.set_xticklabels(['Positive','Negative'])\n",
    "    ax2.set_yticklabels(['Positive','Negative'])\n",
    "    ax2.xaxis.set_label_position('top') \n",
    "    ax2.xaxis.tick_top()\n",
    "    ax2.grid(False)\n",
    "\n",
    "\n",
    "    #figure save\n",
    "    plt.savefig(f'save_fig/{thr+1}.png')\n",
    "    plt.close()\n",
    "    plt.ioff()"
   ]
  },
  {
   "cell_type": "markdown",
   "metadata": {},
   "source": [
    "### Roc curve 여러개"
   ]
  },
  {
   "cell_type": "code",
   "execution_count": 4,
   "metadata": {},
   "outputs": [],
   "source": [
    "\n",
    "a_suspect =np.array([0.2,0.25,0.3,0.4,0.6,0.65,0.68,0.8,0.82,0.91,0.93,0.96])\n",
    "a_criminal = np.array([0,0,0,0,1,0,1,1,0,1,1,1])\n",
    "\n",
    "b_suspect =[0.2,0.35,0.37,0.45,0.49,0.55,0.66,0.78,0.85,0.88,0.95,0.99]\n",
    "b_criminal = [0,0,0,0,0,1,0,1,1,1,1,1]\n",
    "\n",
    "c_suspect =[0.4,0.5,0.6,0.66,0.7,0.81,0.83,0.85,0.93,0.91,0.93,0.97]\n",
    "c_criminal = [0,0,1,0,1,0,1,0,1,1,0,1]\n",
    "\n",
    "fpr_a,tpr_a,threshold_a = roc_curve(y_true=a_criminal,y_score=a_suspect)\n",
    "fpr_b,tpr_b,threshold_b = roc_curve(b_criminal,b_suspect)\n",
    "fpr_c,tpr_c,threshold_c = roc_curve(c_criminal,c_suspect)"
   ]
  },
  {
   "cell_type": "code",
   "execution_count": 20,
   "metadata": {},
   "outputs": [
    {
     "data": {
      "text/plain": [
       "(-0.01, 1.02)"
      ]
     },
     "execution_count": 20,
     "metadata": {},
     "output_type": "execute_result"
    },
    {
     "data": {
      "image/png": "[encoded data removed]",
      "text/plain": [
       "<Figure size 576x576 with 1 Axes>"
      ]
     },
     "metadata": {},
     "output_type": "display_data"
    }
   ],
   "source": [
    "plt.style.use('seaborn')\n",
    "plt.figure(figsize=(8,8))\n",
    "plt.plot(fpr_a,tpr_a,label='Team_A',color='tab:green')\n",
    "plt.plot(fpr_b,tpr_b,label='Team_B',color='tab:red')\n",
    "plt.plot(fpr_c,tpr_c,label='Team_C')\n",
    "plt.plot([0,1],[0,1],color='grey',linestyle='--')\n",
    "\n",
    "#figure styling\n",
    "plt.title('Precision-Recall Curve\\n',fontdict=dict(fontsize=22))\n",
    "plt.xlabel('FPR\\n',fontdict=dict(fontsize=18))\n",
    "plt.ylabel('\\nTPR',fontdict=dict(fontsize=18))\n",
    "plt.legend(loc=7,fontsize=14)\n",
    "plt.xticks(fontsize=14)\n",
    "plt.yticks(fontsize=14)\n",
    "plt.xlim([-0.02,1.02])\n",
    "plt.ylim([-0.01,1.02])"
   ]
  },
  {
   "cell_type": "code",
   "execution_count": 11,
   "metadata": {},
   "outputs": [],
   "source": [
    "# import inspect\n",
    "# inspect.getfullargspec(ff.create_annotated_heatmap)"
   ]
  },
  {
   "cell_type": "code",
   "execution_count": 13,
   "metadata": {},
   "outputs": [
    {
     "data": {
      "application/vnd.plotly.v1+json": {
       "config": {
        "plotlyServerURL": "https://plot.ly"
       },
       "data": [
        {
         "coloraxis": "coloraxis",
         "hovertemplate": "Predict Labels: %{x}<br>True Labels: %{y}<br>color: %{z}<extra></extra>",
         "name": "0",
         "type": "heatmap",
         "x": [
          "Positive",
          "Negative"
         ],
         "xaxis": "x",
         "y": [
          "True",
          "False"
         ],
         "yaxis": "y",
         "z": [
          [
           0,
           6
          ],
          [
           0,
           6
          ]
         ]
        }
       ],
       "layout": {
        "coloraxis": {
         "colorscale": [
          [
           0,
           "rgb(247,252,253)"
          ],
          [
           0.125,
           "rgb(224,236,244)"
          ],
          [
           0.25,
           "rgb(191,211,230)"
          ],
          [
           0.375,
           "rgb(158,188,218)"
          ],
          [
           0.5,
           "rgb(140,150,198)"
          ],
          [
           0.625,
           "rgb(140,107,177)"
          ],
          [
           0.75,
           "rgb(136,65,157)"
          ],
          [
           0.875,
           "rgb(129,15,124)"
          ],
          [
           1,
           "rgb(77,0,75)"
          ]
         ]
        },
        "height": 400,
        "margin": {
         "t": 60
        },
        "template": {
         "data": {
          "bar": [
           {
            "error_x": {
             "color": "#2a3f5f"
            },
            "error_y": {
             "color": "#2a3f5f"
            },
            "marker": {
             "line": {
              "color": "#E5ECF6",
              "width": 0.5
             },
             "pattern": {
              "fillmode": "overlay",
              "size": 10,
              "solidity": 0.2
             }
            },
            "type": "bar"
           }
          ],
          "barpolar": [
           {
            "marker": {
             "line": {
              "color": "#E5ECF6",
              "width": 0.5
             },
             "pattern": {
              "fillmode": "overlay",
              "size": 10,
              "solidity": 0.2
             }
            },
            "type": "barpolar"
           }
          ],
          "carpet": [
           {
            "aaxis": {
             "endlinecolor": "#2a3f5f",
             "gridcolor": "white",
             "linecolor": "white",
             "minorgridcolor": "white",
             "startlinecolor": "#2a3f5f"
            },
            "baxis": {
             "endlinecolor": "#2a3f5f",
             "gridcolor": "white",
             "linecolor": "white",
             "minorgridcolor": "white",
             "startlinecolor": "#2a3f5f"
            },
            "type": "carpet"
           }
          ],
          "choropleth": [
           {
            "colorbar": {
             "outlinewidth": 0,
             "ticks": ""
            },
            "type": "choropleth"
           }
          ],
          "contour": [
           {
            "colorbar": {
             "outlinewidth": 0,
             "ticks": ""
            },
            "colorscale": [
             [
              0,
              "#0d0887"
             ],
             [
              0.1111111111111111,
              "#46039f"
             ],
             [
              0.2222222222222222,
              "#7201a8"
             ],
             [
              0.3333333333333333,
              "#9c179e"
             ],
             [
              0.4444444444444444,
              "#bd3786"
             ],
             [
              0.5555555555555556,
              "#d8576b"
             ],
             [
              0.6666666666666666,
              "#ed7953"
             ],
             [
              0.7777777777777778,
              "#fb9f3a"
             ],
             [
              0.8888888888888888,
              "#fdca26"
             ],
             [
              1,
              "#f0f921"
             ]
            ],
            "type": "contour"
           }
          ],
          "contourcarpet": [
           {
            "colorbar": {
             "outlinewidth": 0,
             "ticks": ""
            },
            "type": "contourcarpet"
           }
          ],
          "heatmap": [
           {
            "colorbar": {
             "outlinewidth": 0,
             "ticks": ""
            },
            "colorscale": [
             [
              0,
              "#0d0887"
             ],
             [
              0.1111111111111111,
              "#46039f"
             ],
             [
              0.2222222222222222,
              "#7201a8"
             ],
             [
              0.3333333333333333,
              "#9c179e"
             ],
             [
              0.4444444444444444,
              "#bd3786"
             ],
             [
              0.5555555555555556,
              "#d8576b"
             ],
             [
              0.6666666666666666,
              "#ed7953"
             ],
             [
              0.7777777777777778,
              "#fb9f3a"
             ],
             [
              0.8888888888888888,
              "#fdca26"
             ],
             [
              1,
              "#f0f921"
             ]
            ],
            "type": "heatmap"
           }
          ],
          "heatmapgl": [
           {
            "colorbar": {
             "outlinewidth": 0,
             "ticks": ""
            },
            "colorscale": [
             [
              0,
              "#0d0887"
             ],
             [
              0.1111111111111111,
              "#46039f"
             ],
             [
              0.2222222222222222,
              "#7201a8"
             ],
             [
              0.3333333333333333,
              "#9c179e"
             ],
             [
              0.4444444444444444,
              "#bd3786"
             ],
             [
              0.5555555555555556,
              "#d8576b"
             ],
             [
              0.6666666666666666,
              "#ed7953"
             ],
             [
              0.7777777777777778,
              "#fb9f3a"
             ],
             [
              0.8888888888888888,
              "#fdca26"
             ],
             [
              1,
              "#f0f921"
             ]
            ],
            "type": "heatmapgl"
           }
          ],
          "histogram": [
           {
            "marker": {
             "pattern": {
              "fillmode": "overlay",
              "size": 10,
              "solidity": 0.2
             }
            },
            "type": "histogram"
           }
          ],
          "histogram2d": [
           {
            "colorbar": {
             "outlinewidth": 0,
             "ticks": ""
            },
            "colorscale": [
             [
              0,
              "#0d0887"
             ],
             [
              0.1111111111111111,
              "#46039f"
             ],
             [
              0.2222222222222222,
              "#7201a8"
             ],
             [
              0.3333333333333333,
              "#9c179e"
             ],
             [
              0.4444444444444444,
              "#bd3786"
             ],
             [
              0.5555555555555556,
              "#d8576b"
             ],
             [
              0.6666666666666666,
              "#ed7953"
             ],
             [
              0.7777777777777778,
              "#fb9f3a"
             ],
             [
              0.8888888888888888,
              "#fdca26"
             ],
             [
              1,
              "#f0f921"
             ]
            ],
            "type": "histogram2d"
           }
          ],
          "histogram2dcontour": [
           {
            "colorbar": {
             "outlinewidth": 0,
             "ticks": ""
            },
            "colorscale": [
             [
              0,
              "#0d0887"
             ],
             [
              0.1111111111111111,
              "#46039f"
             ],
             [
              0.2222222222222222,
              "#7201a8"
             ],
             [
              0.3333333333333333,
              "#9c179e"
             ],
             [
              0.4444444444444444,
              "#bd3786"
             ],
             [
              0.5555555555555556,
              "#d8576b"
             ],
             [
              0.6666666666666666,
              "#ed7953"
             ],
             [
              0.7777777777777778,
              "#fb9f3a"
             ],
             [
              0.8888888888888888,
              "#fdca26"
             ],
             [
              1,
              "#f0f921"
             ]
            ],
            "type": "histogram2dcontour"
           }
          ],
          "mesh3d": [
           {
            "colorbar": {
             "outlinewidth": 0,
             "ticks": ""
            },
            "type": "mesh3d"
           }
          ],
          "parcoords": [
           {
            "line": {
             "colorbar": {
              "outlinewidth": 0,
              "ticks": ""
             }
            },
            "type": "parcoords"
           }
          ],
          "pie": [
           {
            "automargin": true,
            "type": "pie"
           }
          ],
          "scatter": [
           {
            "fillpattern": {
             "fillmode": "overlay",
             "size": 10,
             "solidity": 0.2
            },
            "type": "scatter"
           }
          ],
          "scatter3d": [
           {
            "line": {
             "colorbar": {
              "outlinewidth": 0,
              "ticks": ""
             }
            },
            "marker": {
             "colorbar": {
              "outlinewidth": 0,
              "ticks": ""
             }
            },
            "type": "scatter3d"
           }
          ],
          "scattercarpet": [
           {
            "marker": {
             "colorbar": {
              "outlinewidth": 0,
              "ticks": ""
             }
            },
            "type": "scattercarpet"
           }
          ],
          "scattergeo": [
           {
            "marker": {
             "colorbar": {
              "outlinewidth": 0,
              "ticks": ""
             }
            },
            "type": "scattergeo"
           }
          ],
          "scattergl": [
           {
            "marker": {
             "colorbar": {
              "outlinewidth": 0,
              "ticks": ""
             }
            },
            "type": "scattergl"
           }
          ],
          "scattermapbox": [
           {
            "marker": {
             "colorbar": {
              "outlinewidth": 0,
              "ticks": ""
             }
            },
            "type": "scattermapbox"
           }
          ],
          "scatterpolar": [
           {
            "marker": {
             "colorbar": {
              "outlinewidth": 0,
              "ticks": ""
             }
            },
            "type": "scatterpolar"
           }
          ],
          "scatterpolargl": [
           {
            "marker": {
             "colorbar": {
              "outlinewidth": 0,
              "ticks": ""
             }
            },
            "type": "scatterpolargl"
           }
          ],
          "scatterternary": [
           {
            "marker": {
             "colorbar": {
              "outlinewidth": 0,
              "ticks": ""
             }
            },
            "type": "scatterternary"
           }
          ],
          "surface": [
           {
            "colorbar": {
             "outlinewidth": 0,
             "ticks": ""
            },
            "colorscale": [
             [
              0,
              "#0d0887"
             ],
             [
              0.1111111111111111,
              "#46039f"
             ],
             [
              0.2222222222222222,
              "#7201a8"
             ],
             [
              0.3333333333333333,
              "#9c179e"
             ],
             [
              0.4444444444444444,
              "#bd3786"
             ],
             [
              0.5555555555555556,
              "#d8576b"
             ],
             [
              0.6666666666666666,
              "#ed7953"
             ],
             [
              0.7777777777777778,
              "#fb9f3a"
             ],
             [
              0.8888888888888888,
              "#fdca26"
             ],
             [
              1,
              "#f0f921"
             ]
            ],
            "type": "surface"
           }
          ],
          "table": [
           {
            "cells": {
             "fill": {
              "color": "#EBF0F8"
             },
             "line": {
              "color": "white"
             }
            },
            "header": {
             "fill": {
              "color": "#C8D4E3"
             },
             "line": {
              "color": "white"
             }
            },
            "type": "table"
           }
          ]
         },
         "layout": {
          "annotationdefaults": {
           "arrowcolor": "#2a3f5f",
           "arrowhead": 0,
           "arrowwidth": 1
          },
          "autotypenumbers": "strict",
          "coloraxis": {
           "colorbar": {
            "outlinewidth": 0,
            "ticks": ""
           }
          },
          "colorscale": {
           "diverging": [
            [
             0,
             "#8e0152"
            ],
            [
             0.1,
             "#c51b7d"
            ],
            [
             0.2,
             "#de77ae"
            ],
            [
             0.3,
             "#f1b6da"
            ],
            [
             0.4,
             "#fde0ef"
            ],
            [
             0.5,
             "#f7f7f7"
            ],
            [
             0.6,
             "#e6f5d0"
            ],
            [
             0.7,
             "#b8e186"
            ],
            [
             0.8,
             "#7fbc41"
            ],
            [
             0.9,
             "#4d9221"
            ],
            [
             1,
             "#276419"
            ]
           ],
           "sequential": [
            [
             0,
             "#0d0887"
            ],
            [
             0.1111111111111111,
             "#46039f"
            ],
            [
             0.2222222222222222,
             "#7201a8"
            ],
            [
             0.3333333333333333,
             "#9c179e"
            ],
            [
             0.4444444444444444,
             "#bd3786"
            ],
            [
             0.5555555555555556,
             "#d8576b"
            ],
            [
             0.6666666666666666,
             "#ed7953"
            ],
            [
             0.7777777777777778,
             "#fb9f3a"
            ],
            [
             0.8888888888888888,
             "#fdca26"
            ],
            [
             1,
             "#f0f921"
            ]
           ],
           "sequentialminus": [
            [
             0,
             "#0d0887"
            ],
            [
             0.1111111111111111,
             "#46039f"
            ],
            [
             0.2222222222222222,
             "#7201a8"
            ],
            [
             0.3333333333333333,
             "#9c179e"
            ],
            [
             0.4444444444444444,
             "#bd3786"
            ],
            [
             0.5555555555555556,
             "#d8576b"
            ],
            [
             0.6666666666666666,
             "#ed7953"
            ],
            [
             0.7777777777777778,
             "#fb9f3a"
            ],
            [
             0.8888888888888888,
             "#fdca26"
            ],
            [
             1,
             "#f0f921"
            ]
           ]
          },
          "colorway": [
           "#636efa",
           "#EF553B",
           "#00cc96",
           "#ab63fa",
           "#FFA15A",
           "#19d3f3",
           "#FF6692",
           "#B6E880",
           "#FF97FF",
           "#FECB52"
          ],
          "font": {
           "color": "#2a3f5f"
          },
          "geo": {
           "bgcolor": "white",
           "lakecolor": "white",
           "landcolor": "#E5ECF6",
           "showlakes": true,
           "showland": true,
           "subunitcolor": "white"
          },
          "hoverlabel": {
           "align": "left"
          },
          "hovermode": "closest",
          "mapbox": {
           "style": "light"
          },
          "paper_bgcolor": "white",
          "plot_bgcolor": "#E5ECF6",
          "polar": {
           "angularaxis": {
            "gridcolor": "white",
            "linecolor": "white",
            "ticks": ""
           },
           "bgcolor": "#E5ECF6",
           "radialaxis": {
            "gridcolor": "white",
            "linecolor": "white",
            "ticks": ""
           }
          },
          "scene": {
           "xaxis": {
            "backgroundcolor": "#E5ECF6",
            "gridcolor": "white",
            "gridwidth": 2,
            "linecolor": "white",
            "showbackground": true,
            "ticks": "",
            "zerolinecolor": "white"
           },
           "yaxis": {
            "backgroundcolor": "#E5ECF6",
            "gridcolor": "white",
            "gridwidth": 2,
            "linecolor": "white",
            "showbackground": true,
            "ticks": "",
            "zerolinecolor": "white"
           },
           "zaxis": {
            "backgroundcolor": "#E5ECF6",
            "gridcolor": "white",
            "gridwidth": 2,
            "linecolor": "white",
            "showbackground": true,
            "ticks": "",
            "zerolinecolor": "white"
           }
          },
          "shapedefaults": {
           "line": {
            "color": "#2a3f5f"
           }
          },
          "ternary": {
           "aaxis": {
            "gridcolor": "white",
            "linecolor": "white",
            "ticks": ""
           },
           "baxis": {
            "gridcolor": "white",
            "linecolor": "white",
            "ticks": ""
           },
           "bgcolor": "#E5ECF6",
           "caxis": {
            "gridcolor": "white",
            "linecolor": "white",
            "ticks": ""
           }
          },
          "title": {
           "x": 0.05
          },
          "xaxis": {
           "automargin": true,
           "gridcolor": "white",
           "linecolor": "white",
           "ticks": "",
           "title": {
            "standoff": 15
           },
           "zerolinecolor": "white",
           "zerolinewidth": 2
          },
          "yaxis": {
           "automargin": true,
           "gridcolor": "white",
           "linecolor": "white",
           "ticks": "",
           "title": {
            "standoff": 15
           },
           "zerolinecolor": "white",
           "zerolinewidth": 2
          }
         }
        },
        "width": 400,
        "xaxis": {
         "anchor": "y",
         "constrain": "domain",
         "domain": [
          0,
          1
         ],
         "scaleanchor": "y",
         "side": "top",
         "title": {
          "text": "Predict Labels"
         }
        },
        "yaxis": {
         "anchor": "x",
         "autorange": "reversed",
         "constrain": "domain",
         "domain": [
          0,
          1
         ],
         "title": {
          "text": "True Labels"
         }
        }
       }
      }
     },
     "metadata": {},
     "output_type": "display_data"
    }
   ],
   "source": [
    "thr = 0\n",
    "pred_log = (percent_of_criminal >= threshold[thr])\n",
    "con_max = confusion_matrix(criminal,pred_log,labels=[1, 0])\n",
    "fig = px.imshow(con_max, color_continuous_scale='BuPu',width=400,height=400, labels=dict(x='Predict Labels', y='True Labels'),x=['Positive','Negative'], y=['True','False'])\n",
    "fig.update_xaxes(side='top')\n",
    "fig.show()"
   ]
  },
  {
   "cell_type": "code",
   "execution_count": 14,
   "metadata": {},
   "outputs": [
    {
     "data": {
      "application/vnd.plotly.v1+json": {
       "config": {
        "plotlyServerURL": "https://plot.ly"
       },
       "data": [
        {
         "hovertemplate": "x=%{x}<br>y=%{y}<extra></extra>",
         "legendgroup": "",
         "line": {
          "color": "#636efa",
          "dash": "solid"
         },
         "marker": {
          "symbol": "circle"
         },
         "mode": "lines",
         "name": "",
         "orientation": "v",
         "showlegend": false,
         "type": "scatter",
         "x": [
          0,
          0,
          0,
          0.16666666666666666,
          0.16666666666666666
         ],
         "xaxis": "x",
         "y": [
          0,
          0.16666666666666666,
          0.5,
          0.5,
          0.8333333333333334
         ],
         "yaxis": "y"
        },
        {
         "line": {
          "color": "gray"
         },
         "mode": "lines",
         "showlegend": false,
         "type": "scatter",
         "x": [
          0,
          1
         ],
         "xaxis": "x",
         "y": [
          0,
          1
         ],
         "yaxis": "y"
        },
        {
         "marker": {
          "color": "red",
          "size": 10
         },
         "showlegend": false,
         "type": "scatter",
         "x": [
          0.16666666666666666
         ],
         "xaxis": "x",
         "y": [
          0.8333333333333334
         ],
         "yaxis": "y"
        },
        {
         "colorscale": [
          [
           0,
           "rgb(247,252,253)"
          ],
          [
           0.125,
           "rgb(224,236,244)"
          ],
          [
           0.25,
           "rgb(191,211,230)"
          ],
          [
           0.375,
           "rgb(158,188,218)"
          ],
          [
           0.5,
           "rgb(140,150,198)"
          ],
          [
           0.625,
           "rgb(140,107,177)"
          ],
          [
           0.75,
           "rgb(136,65,157)"
          ],
          [
           0.875,
           "rgb(129,15,124)"
          ],
          [
           1,
           "rgb(77,0,75)"
          ]
         ],
         "hovertemplate": "x: %{x}<br>y: %{y}<br>color: %{z}<extra></extra>",
         "name": "0",
         "showscale": false,
         "texttemplate": "%{z}",
         "type": "heatmap",
         "x": [
          "Positive",
          "Negative"
         ],
         "xaxis": "x2",
         "y": [
          "False",
          "True"
         ],
         "yaxis": "y2",
         "z": [
          [
           5,
           1
          ],
          [
           1,
           5
          ]
         ]
        }
       ],
       "layout": {
        "height": 600,
        "template": {
         "data": {
          "bar": [
           {
            "error_x": {
             "color": "#2a3f5f"
            },
            "error_y": {
             "color": "#2a3f5f"
            },
            "marker": {
             "line": {
              "color": "#E5ECF6",
              "width": 0.5
             },
             "pattern": {
              "fillmode": "overlay",
              "size": 10,
              "solidity": 0.2
             }
            },
            "type": "bar"
           }
          ],
          "barpolar": [
           {
            "marker": {
             "line": {
              "color": "#E5ECF6",
              "width": 0.5
             },
             "pattern": {
              "fillmode": "overlay",
              "size": 10,
              "solidity": 0.2
             }
            },
            "type": "barpolar"
           }
          ],
          "carpet": [
           {
            "aaxis": {
             "endlinecolor": "#2a3f5f",
             "gridcolor": "white",
             "linecolor": "white",
             "minorgridcolor": "white",
             "startlinecolor": "#2a3f5f"
            },
            "baxis": {
             "endlinecolor": "#2a3f5f",
             "gridcolor": "white",
             "linecolor": "white",
             "minorgridcolor": "white",
             "startlinecolor": "#2a3f5f"
            },
            "type": "carpet"
           }
          ],
          "choropleth": [
           {
            "colorbar": {
             "outlinewidth": 0,
             "ticks": ""
            },
            "type": "choropleth"
           }
          ],
          "contour": [
           {
            "colorbar": {
             "outlinewidth": 0,
             "ticks": ""
            },
            "colorscale": [
             [
              0,
              "#0d0887"
             ],
             [
              0.1111111111111111,
              "#46039f"
             ],
             [
              0.2222222222222222,
              "#7201a8"
             ],
             [
              0.3333333333333333,
              "#9c179e"
             ],
             [
              0.4444444444444444,
              "#bd3786"
             ],
             [
              0.5555555555555556,
              "#d8576b"
             ],
             [
              0.6666666666666666,
              "#ed7953"
             ],
             [
              0.7777777777777778,
              "#fb9f3a"
             ],
             [
              0.8888888888888888,
              "#fdca26"
             ],
             [
              1,
              "#f0f921"
             ]
            ],
            "type": "contour"
           }
          ],
          "contourcarpet": [
           {
            "colorbar": {
             "outlinewidth": 0,
             "ticks": ""
            },
            "type": "contourcarpet"
           }
          ],
          "heatmap": [
           {
            "colorbar": {
             "outlinewidth": 0,
             "ticks": ""
            },
            "colorscale": [
             [
              0,
              "#0d0887"
             ],
             [
              0.1111111111111111,
              "#46039f"
             ],
             [
              0.2222222222222222,
              "#7201a8"
             ],
             [
              0.3333333333333333,
              "#9c179e"
             ],
             [
              0.4444444444444444,
              "#bd3786"
             ],
             [
              0.5555555555555556,
              "#d8576b"
             ],
             [
              0.6666666666666666,
              "#ed7953"
             ],
             [
              0.7777777777777778,
              "#fb9f3a"
             ],
             [
              0.8888888888888888,
              "#fdca26"
             ],
             [
              1,
              "#f0f921"
             ]
            ],
            "type": "heatmap"
           }
          ],
          "heatmapgl": [
           {
            "colorbar": {
             "outlinewidth": 0,
             "ticks": ""
            },
            "colorscale": [
             [
              0,
              "#0d0887"
             ],
             [
              0.1111111111111111,
              "#46039f"
             ],
             [
              0.2222222222222222,
              "#7201a8"
             ],
             [
              0.3333333333333333,
              "#9c179e"
             ],
             [
              0.4444444444444444,
              "#bd3786"
             ],
             [
              0.5555555555555556,
              "#d8576b"
             ],
             [
              0.6666666666666666,
              "#ed7953"
             ],
             [
              0.7777777777777778,
              "#fb9f3a"
             ],
             [
              0.8888888888888888,
              "#fdca26"
             ],
             [
              1,
              "#f0f921"
             ]
            ],
            "type": "heatmapgl"
           }
          ],
          "histogram": [
           {
            "marker": {
             "pattern": {
              "fillmode": "overlay",
              "size": 10,
              "solidity": 0.2
             }
            },
            "type": "histogram"
           }
          ],
          "histogram2d": [
           {
            "colorbar": {
             "outlinewidth": 0,
             "ticks": ""
            },
            "colorscale": [
             [
              0,
              "#0d0887"
             ],
             [
              0.1111111111111111,
              "#46039f"
             ],
             [
              0.2222222222222222,
              "#7201a8"
             ],
             [
              0.3333333333333333,
              "#9c179e"
             ],
             [
              0.4444444444444444,
              "#bd3786"
             ],
             [
              0.5555555555555556,
              "#d8576b"
             ],
             [
              0.6666666666666666,
              "#ed7953"
             ],
             [
              0.7777777777777778,
              "#fb9f3a"
             ],
             [
              0.8888888888888888,
              "#fdca26"
             ],
             [
              1,
              "#f0f921"
             ]
            ],
            "type": "histogram2d"
           }
          ],
          "histogram2dcontour": [
           {
            "colorbar": {
             "outlinewidth": 0,
             "ticks": ""
            },
            "colorscale": [
             [
              0,
              "#0d0887"
             ],
             [
              0.1111111111111111,
              "#46039f"
             ],
             [
              0.2222222222222222,
              "#7201a8"
             ],
             [
              0.3333333333333333,
              "#9c179e"
             ],
             [
              0.4444444444444444,
              "#bd3786"
             ],
             [
              0.5555555555555556,
              "#d8576b"
             ],
             [
              0.6666666666666666,
              "#ed7953"
             ],
             [
              0.7777777777777778,
              "#fb9f3a"
             ],
             [
              0.8888888888888888,
              "#fdca26"
             ],
             [
              1,
              "#f0f921"
             ]
            ],
            "type": "histogram2dcontour"
           }
          ],
          "mesh3d": [
           {
            "colorbar": {
             "outlinewidth": 0,
             "ticks": ""
            },
            "type": "mesh3d"
           }
          ],
          "parcoords": [
           {
            "line": {
             "colorbar": {
              "outlinewidth": 0,
              "ticks": ""
             }
            },
            "type": "parcoords"
           }
          ],
          "pie": [
           {
            "automargin": true,
            "type": "pie"
           }
          ],
          "scatter": [
           {
            "fillpattern": {
             "fillmode": "overlay",
             "size": 10,
             "solidity": 0.2
            },
            "type": "scatter"
           }
          ],
          "scatter3d": [
           {
            "line": {
             "colorbar": {
              "outlinewidth": 0,
              "ticks": ""
             }
            },
            "marker": {
             "colorbar": {
              "outlinewidth": 0,
              "ticks": ""
             }
            },
            "type": "scatter3d"
           }
          ],
          "scattercarpet": [
           {
            "marker": {
             "colorbar": {
              "outlinewidth": 0,
              "ticks": ""
             }
            },
            "type": "scattercarpet"
           }
          ],
          "scattergeo": [
           {
            "marker": {
             "colorbar": {
              "outlinewidth": 0,
              "ticks": ""
             }
            },
            "type": "scattergeo"
           }
          ],
          "scattergl": [
           {
            "marker": {
             "colorbar": {
              "outlinewidth": 0,
              "ticks": ""
             }
            },
            "type": "scattergl"
           }
          ],
          "scattermapbox": [
           {
            "marker": {
             "colorbar": {
              "outlinewidth": 0,
              "ticks": ""
             }
            },
            "type": "scattermapbox"
           }
          ],
          "scatterpolar": [
           {
            "marker": {
             "colorbar": {
              "outlinewidth": 0,
              "ticks": ""
             }
            },
            "type": "scatterpolar"
           }
          ],
          "scatterpolargl": [
           {
            "marker": {
             "colorbar": {
              "outlinewidth": 0,
              "ticks": ""
             }
            },
            "type": "scatterpolargl"
           }
          ],
          "scatterternary": [
           {
            "marker": {
             "colorbar": {
              "outlinewidth": 0,
              "ticks": ""
             }
            },
            "type": "scatterternary"
           }
          ],
          "surface": [
           {
            "colorbar": {
             "outlinewidth": 0,
             "ticks": ""
            },
            "colorscale": [
             [
              0,
              "#0d0887"
             ],
             [
              0.1111111111111111,
              "#46039f"
             ],
             [
              0.2222222222222222,
              "#7201a8"
             ],
             [
              0.3333333333333333,
              "#9c179e"
             ],
             [
              0.4444444444444444,
              "#bd3786"
             ],
             [
              0.5555555555555556,
              "#d8576b"
             ],
             [
              0.6666666666666666,
              "#ed7953"
             ],
             [
              0.7777777777777778,
              "#fb9f3a"
             ],
             [
              0.8888888888888888,
              "#fdca26"
             ],
             [
              1,
              "#f0f921"
             ]
            ],
            "type": "surface"
           }
          ],
          "table": [
           {
            "cells": {
             "fill": {
              "color": "#EBF0F8"
             },
             "line": {
              "color": "white"
             }
            },
            "header": {
             "fill": {
              "color": "#C8D4E3"
             },
             "line": {
              "color": "white"
             }
            },
            "type": "table"
           }
          ]
         },
         "layout": {
          "annotationdefaults": {
           "arrowcolor": "#2a3f5f",
           "arrowhead": 0,
           "arrowwidth": 1
          },
          "autotypenumbers": "strict",
          "coloraxis": {
           "colorbar": {
            "outlinewidth": 0,
            "ticks": ""
           }
          },
          "colorscale": {
           "diverging": [
            [
             0,
             "#8e0152"
            ],
            [
             0.1,
             "#c51b7d"
            ],
            [
             0.2,
             "#de77ae"
            ],
            [
             0.3,
             "#f1b6da"
            ],
            [
             0.4,
             "#fde0ef"
            ],
            [
             0.5,
             "#f7f7f7"
            ],
            [
             0.6,
             "#e6f5d0"
            ],
            [
             0.7,
             "#b8e186"
            ],
            [
             0.8,
             "#7fbc41"
            ],
            [
             0.9,
             "#4d9221"
            ],
            [
             1,
             "#276419"
            ]
           ],
           "sequential": [
            [
             0,
             "#0d0887"
            ],
            [
             0.1111111111111111,
             "#46039f"
            ],
            [
             0.2222222222222222,
             "#7201a8"
            ],
            [
             0.3333333333333333,
             "#9c179e"
            ],
            [
             0.4444444444444444,
             "#bd3786"
            ],
            [
             0.5555555555555556,
             "#d8576b"
            ],
            [
             0.6666666666666666,
             "#ed7953"
            ],
            [
             0.7777777777777778,
             "#fb9f3a"
            ],
            [
             0.8888888888888888,
             "#fdca26"
            ],
            [
             1,
             "#f0f921"
            ]
           ],
           "sequentialminus": [
            [
             0,
             "#0d0887"
            ],
            [
             0.1111111111111111,
             "#46039f"
            ],
            [
             0.2222222222222222,
             "#7201a8"
            ],
            [
             0.3333333333333333,
             "#9c179e"
            ],
            [
             0.4444444444444444,
             "#bd3786"
            ],
            [
             0.5555555555555556,
             "#d8576b"
            ],
            [
             0.6666666666666666,
             "#ed7953"
            ],
            [
             0.7777777777777778,
             "#fb9f3a"
            ],
            [
             0.8888888888888888,
             "#fdca26"
            ],
            [
             1,
             "#f0f921"
            ]
           ]
          },
          "colorway": [
           "#636efa",
           "#EF553B",
           "#00cc96",
           "#ab63fa",
           "#FFA15A",
           "#19d3f3",
           "#FF6692",
           "#B6E880",
           "#FF97FF",
           "#FECB52"
          ],
          "font": {
           "color": "#2a3f5f"
          },
          "geo": {
           "bgcolor": "white",
           "lakecolor": "white",
           "landcolor": "#E5ECF6",
           "showlakes": true,
           "showland": true,
           "subunitcolor": "white"
          },
          "hoverlabel": {
           "align": "left"
          },
          "hovermode": "closest",
          "mapbox": {
           "style": "light"
          },
          "paper_bgcolor": "white",
          "plot_bgcolor": "#E5ECF6",
          "polar": {
           "angularaxis": {
            "gridcolor": "white",
            "linecolor": "white",
            "ticks": ""
           },
           "bgcolor": "#E5ECF6",
           "radialaxis": {
            "gridcolor": "white",
            "linecolor": "white",
            "ticks": ""
           }
          },
          "scene": {
           "xaxis": {
            "backgroundcolor": "#E5ECF6",
            "gridcolor": "white",
            "gridwidth": 2,
            "linecolor": "white",
            "showbackground": true,
            "ticks": "",
            "zerolinecolor": "white"
           },
           "yaxis": {
            "backgroundcolor": "#E5ECF6",
            "gridcolor": "white",
            "gridwidth": 2,
            "linecolor": "white",
            "showbackground": true,
            "ticks": "",
            "zerolinecolor": "white"
           },
           "zaxis": {
            "backgroundcolor": "#E5ECF6",
            "gridcolor": "white",
            "gridwidth": 2,
            "linecolor": "white",
            "showbackground": true,
            "ticks": "",
            "zerolinecolor": "white"
           }
          },
          "shapedefaults": {
           "line": {
            "color": "#2a3f5f"
           }
          },
          "ternary": {
           "aaxis": {
            "gridcolor": "white",
            "linecolor": "white",
            "ticks": ""
           },
           "baxis": {
            "gridcolor": "white",
            "linecolor": "white",
            "ticks": ""
           },
           "bgcolor": "#E5ECF6",
           "caxis": {
            "gridcolor": "white",
            "linecolor": "white",
            "ticks": ""
           }
          },
          "title": {
           "x": 0.05
          },
          "xaxis": {
           "automargin": true,
           "gridcolor": "white",
           "linecolor": "white",
           "ticks": "",
           "title": {
            "standoff": 15
           },
           "zerolinecolor": "white",
           "zerolinewidth": 2
          },
          "yaxis": {
           "automargin": true,
           "gridcolor": "white",
           "linecolor": "white",
           "ticks": "",
           "title": {
            "standoff": 15
           },
           "zerolinecolor": "white",
           "zerolinewidth": 2
          }
         }
        },
        "width": 800,
        "xaxis": {
         "anchor": "y",
         "domain": [
          0,
          0.6444444444444445
         ]
        },
        "xaxis2": {
         "anchor": "y2",
         "domain": [
          0.7111111111111111,
          1
         ],
         "side": "top",
         "title": {
          "text": "Predict Value"
         }
        },
        "yaxis": {
         "anchor": "x",
         "domain": [
          0,
          1
         ]
        },
        "yaxis2": {
         "anchor": "x2",
         "domain": [
          0.36666666666666664,
          0.6333333333333333
         ],
         "title": {
          "text": "True Value"
         }
        }
       }
      }
     },
     "metadata": {},
     "output_type": "display_data"
    }
   ],
   "source": [
    "thr=4\n",
    "# subplots\n",
    "left_width = 0.7\n",
    "# fig = make_subplots(rows=1, cols=2,column_widths=[left_width, 1 - left_width])\n",
    "fig = make_subplots(rows=3, cols=3,specs=[[{\"colspan\": 2, 'rowspan' : 3},None, None],[None,None,{}],[None,None,None]])\n",
    "# subplot 1번에 넣기\n",
    "fig_2 = px.line(x=fpr[:thr+1],y=tpr[:thr+1])\n",
    "fig.append_trace(fig_2.data[0],row=1,col=1)\n",
    "\n",
    "# subplot 1번에 있는 plot과 합치기\n",
    "\n",
    "# base classifier\n",
    "fig.add_trace(\n",
    "    go.Scatter(\n",
    "        x=[0, 1],\n",
    "        y=[0, 1],\n",
    "        mode=\"lines\",\n",
    "        line=go.scatter.Line(color=\"gray\"),\n",
    "        showlegend=False),row=1,col=1)\n",
    "# dot\n",
    "fig.add_trace(\n",
    "    go.Scatter(\n",
    "        x=[fpr[thr]],\n",
    "        y=[tpr[thr]],\n",
    "        showlegend=False,\n",
    "        marker=dict(color=\"red\", size=10)),\n",
    "        row=1,col=1)\n",
    "\n",
    "# subplot 2번에 넣기\n",
    "pred_log = (percent_of_criminal >= threshold[thr])\n",
    "con_max = confusion_matrix(criminal,pred_log,labels=[1, 0])\n",
    "fig_3 = px.imshow(con_max, text_auto=True ,color_continuous_scale='BuPu',x=['Positive','Negative'], y=['False','True'])\n",
    "fig_3.update_traces(dict(showscale=False, \n",
    "                    coloraxis=None, \n",
    "                    colorscale='BuPu'), selector={'type':'heatmap'})\n",
    "fig_3.update_xaxes(side='top')\n",
    "\n",
    "fig_3.update_xaxes(side='top')\n",
    "fig.add_trace(fig_3.data[0],row=2,col=3)\n",
    "\n",
    "# plot update\n",
    "fig.update_layout(width=800,height=600)\n",
    "fig.update_xaxes(title_text=\"Predict Value\",row=2,col=3,side='top')\n",
    "fig.update_yaxes(title_text=\"True Value\",row=2,col=3)\n"
   ]
  },
  {
   "cell_type": "code",
   "execution_count": 15,
   "metadata": {},
   "outputs": [
    {
     "name": "stdout",
     "output_type": "stream",
     "text": [
      "Dash app running on http://127.0.0.1:8050/\n"
     ]
    }
   ],
   "source": [
    "\n",
    "app = JupyterDash(__name__)\n",
    "server = app.server\n",
    "\n",
    "#marker\n",
    "marker = {0: '100%', 1: '96%', 2: '91%', 3: '82%', 4: '68%', 5: '65%', 6: '60%', 7: '0%'}\n",
    "# marker = {num : str(i) for num,i in enumerate(threshold)}\n",
    "\n",
    "## Color 조정하는 DIV\n",
    "# app.layout =html.Div([\n",
    "#     html.H1('ROC_Curve', style={'text-align': 'center'}),\n",
    "#     # html.Iframe(id='curve', srcDoc=None,style={'width' : '100%', 'height' : '500px' }),\n",
    "#     html.Div([\n",
    "#         \"Threshold\",\n",
    "#         dcc.Slider(0, 7, 1, value=0, id='thr', marks=marker)],\n",
    "#         # style=dict(width=600),\n",
    "#         style = {\"width\": \"2%\", \"height\":\"100%\",\"display\":\"inline-block\",\"position\":\"relative\"}            \n",
    "#         ),\n",
    "#     dcc.Graph(id='curve'),\n",
    "#     # html.Div([\"색상\",dcc.RadioItems(id='color', value='aliceblue', options=c_codes['0'], className='btn-group', style={'flex-wrap' : 'wrap'},labelClassName= 'btn-outline-secondary',labelStyle={'text-align' : 'left', 'width' : 180, 'height' : 25  } ,inputStyle={'margin-right': 5})],style={'margin': 20}) #inline=True,\n",
    "# ])\n",
    "\n",
    "\n",
    "\n",
    "app.layout=html.Div([\n",
    "                html.H1('ROC_Curve', style={'text-align': 'center'}),\n",
    "                html.Div([\n",
    "                    html.Div([\n",
    "                        'Threshold',\n",
    "                        dcc.Slider(0, 7, 1, value=0, id='thr', \n",
    "                        marks=marker,vertical=True)\n",
    "                        \n",
    "                    ],\n",
    "                    style = {\"width\": \"7%\", \"height\":\"100%\",\"display\":\"inline-block\",\"position\":\"relative\",'text-align' : 'center'},\n",
    "                    className='col'\n",
    "                    ),\n",
    "                    dcc.Graph(id='curve',className='col-md-auto'),\n",
    "                ],\n",
    "                style={'justify-content': 'center','align-items' : 'center'},\n",
    "                className='row row-cols-auto'\n",
    "                )\n",
    "           ],\n",
    "           className='container'\n",
    "           )\n",
    "\n",
    "@app.callback(\n",
    "    Output(component_id='curve',component_property='figure'),\n",
    "    Input('thr','value') # Input('location','value'),\n",
    ")\n",
    "\n",
    "\n",
    "def roc_df(thr) :\n",
    "    # subplots\n",
    "    fig = make_subplots(rows=3, cols=3,specs=[[{\"colspan\": 2, 'rowspan' : 3},None, None],[None,None,{}],[None,None,None]],horizontal_spacing=0.15)\n",
    "    # subplot 1번에 넣기\n",
    "    fig_2 = px.line(x=fpr[:thr+1],y=tpr[:thr+1])\n",
    "    fig.append_trace(fig_2.data[0],row=1,col=1)\n",
    "    # subplot 1번에 있는 plot과 합치기\n",
    "\n",
    "    # base classifier\n",
    "    # fig.add_trace(\n",
    "    #     go.Scatter(\n",
    "    #         x=[0, 1],\n",
    "    #         y=[0, 1],\n",
    "    #         mode=\"lines\",\n",
    "    #         line=go.scatter.Line(color=\"gray\"),\n",
    "    #         showlegend=False),row=1,col=1)\n",
    "\n",
    "    # dot\n",
    "    fig.add_trace(\n",
    "        go.Scatter(\n",
    "            x=[fpr[thr]],\n",
    "            y=[tpr[thr]],\n",
    "            showlegend=False,\n",
    "            marker=dict(color=\"red\", size=10)),\n",
    "            row=1,col=1)\n",
    "\n",
    "    # subplot 2번에 넣기\n",
    "    pred_log = (percent_of_criminal >= threshold[thr])\n",
    "    con_max = confusion_matrix(criminal,pred_log,labels=[1, 0])\n",
    "    fig_3 = px.imshow(con_max, text_auto=True ,color_continuous_scale='BuPu',x=['Positive','Negative'], y=['True','False'])\n",
    "    fig_3.update_traces(dict(showscale=False, \n",
    "                        coloraxis=None, \n",
    "                        colorscale='BuPu'), selector={'type':'heatmap'})\n",
    "    fig_3.update_xaxes(side='top')\n",
    "    fig.add_trace(fig_3.data[0],row=2,col=3)\n",
    "\n",
    "    # plot update\n",
    "    fig.update_layout(width=800,height=600)\n",
    "    fig.update_xaxes(title_text=\"Predict Value\",row=2,col=3,side='top')\n",
    "    fig.update_yaxes(title_text=\"True Value\",row=2,col=3,autorange='reversed')\n",
    "    fig.update_xaxes(title_text='FP Rate',range=[-0.02,1.02], row=1,col=1)\n",
    "    fig.update_yaxes(title_text='TP Rate',range=[-0.02,1.02], row=1,col=1)\n",
    "\n",
    "    return fig\n",
    "\n",
    "\n",
    "app.run_server(mode='external')"
   ]
  },
  {
   "cell_type": "code",
   "execution_count": 4,
   "metadata": {},
   "outputs": [],
   "source": [
    "b_suspect =[0.2,0.35,0.37,0.45,0.49,0.55,0.66,0.78,0.85,0.88,0.95,0.99]\n",
    "b_criminal = [0,0,0,0,0,1,0,1,1,1,1,1]\n",
    "\n",
    "c_suspect =[0.4,0.5,0.6,0.66,0.7,0.81,0.83,0.85,0.93,0.91,0.93,0.97]\n",
    "c_criminal = [0,0,1,0,1,0,1,0,1,1,0,1]\n",
    "\n",
    "fpr_b,tpr_b,threshold_b = roc_curve(b_criminal,b_suspect)\n",
    "fpr_c,tpr_c,threshold_c = roc_curve(c_criminal,c_suspect)"
   ]
  },
  {
   "cell_type": "code",
   "execution_count": 5,
   "metadata": {},
   "outputs": [
    {
     "data": {
      "application/vnd.plotly.v1+json": {
       "config": {
        "plotlyServerURL": "https://plot.ly"
       },
       "data": [
        {
         "hovertemplate": "x=%{x}<br>y=%{y}<extra></extra>",
         "legendgroup": "",
         "line": {
          "color": "darkgreen",
          "dash": "solid"
         },
         "marker": {
          "symbol": "circle"
         },
         "mode": "lines",
         "name": "Team_A",
         "opacity": 0.5,
         "orientation": "v",
         "showlegend": true,
         "type": "scatter",
         "x": [
          0,
          0,
          0,
          0.16666666666666666,
          0.16666666666666666,
          0.3333333333333333,
          0.3333333333333333,
          1
         ],
         "xaxis": "x",
         "y": [
          0,
          0.16666666666666666,
          0.5,
          0.5,
          0.8333333333333334,
          0.8333333333333334,
          1,
          1
         ],
         "yaxis": "y"
        },
        {
         "hovertemplate": "x=%{x}<br>y=%{y}<extra></extra>",
         "legendgroup": "",
         "line": {
          "color": "orange",
          "dash": "solid"
         },
         "marker": {
          "symbol": "circle"
         },
         "mode": "lines",
         "name": "Team_B",
         "opacity": 0.5,
         "orientation": "v",
         "showlegend": true,
         "type": "scatter",
         "x": [
          0,
          0,
          0,
          0.16666666666666666,
          0.16666666666666666,
          1
         ],
         "xaxis": "x",
         "y": [
          0,
          0.16666666666666666,
          0.8333333333333334,
          0.8333333333333334,
          1,
          1
         ],
         "yaxis": "y"
        },
        {
         "hovertemplate": "x=%{x}<br>y=%{y}<extra></extra>",
         "legendgroup": "",
         "line": {
          "color": "darkmagenta",
          "dash": "solid"
         },
         "marker": {
          "symbol": "circle"
         },
         "mode": "lines",
         "name": "Team_C",
         "opacity": 0.5,
         "orientation": "v",
         "showlegend": true,
         "type": "scatter",
         "x": [
          0,
          0,
          0.16666666666666666,
          0.16666666666666666,
          0.3333333333333333,
          0.3333333333333333,
          0.5,
          0.5,
          0.6666666666666666,
          0.6666666666666666,
          1
         ],
         "xaxis": "x",
         "y": [
          0,
          0.16666666666666666,
          0.3333333333333333,
          0.5,
          0.5,
          0.6666666666666666,
          0.6666666666666666,
          0.8333333333333334,
          0.8333333333333334,
          1,
          1
         ],
         "yaxis": "y"
        },
        {
         "hovertemplate": "x=%{x}<br>y=%{y}<extra></extra>",
         "legendgroup": "",
         "line": {
          "color": "gray",
          "dash": "dot",
          "width": 2
         },
         "marker": {
          "symbol": "circle"
         },
         "mode": "lines",
         "name": "Base_rate",
         "opacity": 0.5,
         "orientation": "v",
         "showlegend": true,
         "type": "scatter",
         "x": [
          0,
          1
         ],
         "xaxis": "x",
         "y": [
          0,
          1
         ],
         "yaxis": "y"
        }
       ],
       "layout": {
        "height": 600,
        "legend": {
         "tracegroupgap": 0
        },
        "margin": {
         "t": 60
        },
        "template": {
         "data": {
          "bar": [
           {
            "error_x": {
             "color": "#2a3f5f"
            },
            "error_y": {
             "color": "#2a3f5f"
            },
            "marker": {
             "line": {
              "color": "#E5ECF6",
              "width": 0.5
             },
             "pattern": {
              "fillmode": "overlay",
              "size": 10,
              "solidity": 0.2
             }
            },
            "type": "bar"
           }
          ],
          "barpolar": [
           {
            "marker": {
             "line": {
              "color": "#E5ECF6",
              "width": 0.5
             },
             "pattern": {
              "fillmode": "overlay",
              "size": 10,
              "solidity": 0.2
             }
            },
            "type": "barpolar"
           }
          ],
          "carpet": [
           {
            "aaxis": {
             "endlinecolor": "#2a3f5f",
             "gridcolor": "white",
             "linecolor": "white",
             "minorgridcolor": "white",
             "startlinecolor": "#2a3f5f"
            },
            "baxis": {
             "endlinecolor": "#2a3f5f",
             "gridcolor": "white",
             "linecolor": "white",
             "minorgridcolor": "white",
             "startlinecolor": "#2a3f5f"
            },
            "type": "carpet"
           }
          ],
          "choropleth": [
           {
            "colorbar": {
             "outlinewidth": 0,
             "ticks": ""
            },
            "type": "choropleth"
           }
          ],
          "contour": [
           {
            "colorbar": {
             "outlinewidth": 0,
             "ticks": ""
            },
            "colorscale": [
             [
              0,
              "#0d0887"
             ],
             [
              0.1111111111111111,
              "#46039f"
             ],
             [
              0.2222222222222222,
              "#7201a8"
             ],
             [
              0.3333333333333333,
              "#9c179e"
             ],
             [
              0.4444444444444444,
              "#bd3786"
             ],
             [
              0.5555555555555556,
              "#d8576b"
             ],
             [
              0.6666666666666666,
              "#ed7953"
             ],
             [
              0.7777777777777778,
              "#fb9f3a"
             ],
             [
              0.8888888888888888,
              "#fdca26"
             ],
             [
              1,
              "#f0f921"
             ]
            ],
            "type": "contour"
           }
          ],
          "contourcarpet": [
           {
            "colorbar": {
             "outlinewidth": 0,
             "ticks": ""
            },
            "type": "contourcarpet"
           }
          ],
          "heatmap": [
           {
            "colorbar": {
             "outlinewidth": 0,
             "ticks": ""
            },
            "colorscale": [
             [
              0,
              "#0d0887"
             ],
             [
              0.1111111111111111,
              "#46039f"
             ],
             [
              0.2222222222222222,
              "#7201a8"
             ],
             [
              0.3333333333333333,
              "#9c179e"
             ],
             [
              0.4444444444444444,
              "#bd3786"
             ],
             [
              0.5555555555555556,
              "#d8576b"
             ],
             [
              0.6666666666666666,
              "#ed7953"
             ],
             [
              0.7777777777777778,
              "#fb9f3a"
             ],
             [
              0.8888888888888888,
              "#fdca26"
             ],
             [
              1,
              "#f0f921"
             ]
            ],
            "type": "heatmap"
           }
          ],
          "heatmapgl": [
           {
            "colorbar": {
             "outlinewidth": 0,
             "ticks": ""
            },
            "colorscale": [
             [
              0,
              "#0d0887"
             ],
             [
              0.1111111111111111,
              "#46039f"
             ],
             [
              0.2222222222222222,
              "#7201a8"
             ],
             [
              0.3333333333333333,
              "#9c179e"
             ],
             [
              0.4444444444444444,
              "#bd3786"
             ],
             [
              0.5555555555555556,
              "#d8576b"
             ],
             [
              0.6666666666666666,
              "#ed7953"
             ],
             [
              0.7777777777777778,
              "#fb9f3a"
             ],
             [
              0.8888888888888888,
              "#fdca26"
             ],
             [
              1,
              "#f0f921"
             ]
            ],
            "type": "heatmapgl"
           }
          ],
          "histogram": [
           {
            "marker": {
             "pattern": {
              "fillmode": "overlay",
              "size": 10,
              "solidity": 0.2
             }
            },
            "type": "histogram"
           }
          ],
          "histogram2d": [
           {
            "colorbar": {
             "outlinewidth": 0,
             "ticks": ""
            },
            "colorscale": [
             [
              0,
              "#0d0887"
             ],
             [
              0.1111111111111111,
              "#46039f"
             ],
             [
              0.2222222222222222,
              "#7201a8"
             ],
             [
              0.3333333333333333,
              "#9c179e"
             ],
             [
              0.4444444444444444,
              "#bd3786"
             ],
             [
              0.5555555555555556,
              "#d8576b"
             ],
             [
              0.6666666666666666,
              "#ed7953"
             ],
             [
              0.7777777777777778,
              "#fb9f3a"
             ],
             [
              0.8888888888888888,
              "#fdca26"
             ],
             [
              1,
              "#f0f921"
             ]
            ],
            "type": "histogram2d"
           }
          ],
          "histogram2dcontour": [
           {
            "colorbar": {
             "outlinewidth": 0,
             "ticks": ""
            },
            "colorscale": [
             [
              0,
              "#0d0887"
             ],
             [
              0.1111111111111111,
              "#46039f"
             ],
             [
              0.2222222222222222,
              "#7201a8"
             ],
             [
              0.3333333333333333,
              "#9c179e"
             ],
             [
              0.4444444444444444,
              "#bd3786"
             ],
             [
              0.5555555555555556,
              "#d8576b"
             ],
             [
              0.6666666666666666,
              "#ed7953"
             ],
             [
              0.7777777777777778,
              "#fb9f3a"
             ],
             [
              0.8888888888888888,
              "#fdca26"
             ],
             [
              1,
              "#f0f921"
             ]
            ],
            "type": "histogram2dcontour"
           }
          ],
          "mesh3d": [
           {
            "colorbar": {
             "outlinewidth": 0,
             "ticks": ""
            },
            "type": "mesh3d"
           }
          ],
          "parcoords": [
           {
            "line": {
             "colorbar": {
              "outlinewidth": 0,
              "ticks": ""
             }
            },
            "type": "parcoords"
           }
          ],
          "pie": [
           {
            "automargin": true,
            "type": "pie"
           }
          ],
          "scatter": [
           {
            "fillpattern": {
             "fillmode": "overlay",
             "size": 10,
             "solidity": 0.2
            },
            "type": "scatter"
           }
          ],
          "scatter3d": [
           {
            "line": {
             "colorbar": {
              "outlinewidth": 0,
              "ticks": ""
             }
            },
            "marker": {
             "colorbar": {
              "outlinewidth": 0,
              "ticks": ""
             }
            },
            "type": "scatter3d"
           }
          ],
          "scattercarpet": [
           {
            "marker": {
             "colorbar": {
              "outlinewidth": 0,
              "ticks": ""
             }
            },
            "type": "scattercarpet"
           }
          ],
          "scattergeo": [
           {
            "marker": {
             "colorbar": {
              "outlinewidth": 0,
              "ticks": ""
             }
            },
            "type": "scattergeo"
           }
          ],
          "scattergl": [
           {
            "marker": {
             "colorbar": {
              "outlinewidth": 0,
              "ticks": ""
             }
            },
            "type": "scattergl"
           }
          ],
          "scattermapbox": [
           {
            "marker": {
             "colorbar": {
              "outlinewidth": 0,
              "ticks": ""
             }
            },
            "type": "scattermapbox"
           }
          ],
          "scatterpolar": [
           {
            "marker": {
             "colorbar": {
              "outlinewidth": 0,
              "ticks": ""
             }
            },
            "type": "scatterpolar"
           }
          ],
          "scatterpolargl": [
           {
            "marker": {
             "colorbar": {
              "outlinewidth": 0,
              "ticks": ""
             }
            },
            "type": "scatterpolargl"
           }
          ],
          "scatterternary": [
           {
            "marker": {
             "colorbar": {
              "outlinewidth": 0,
              "ticks": ""
             }
            },
            "type": "scatterternary"
           }
          ],
          "surface": [
           {
            "colorbar": {
             "outlinewidth": 0,
             "ticks": ""
            },
            "colorscale": [
             [
              0,
              "#0d0887"
             ],
             [
              0.1111111111111111,
              "#46039f"
             ],
             [
              0.2222222222222222,
              "#7201a8"
             ],
             [
              0.3333333333333333,
              "#9c179e"
             ],
             [
              0.4444444444444444,
              "#bd3786"
             ],
             [
              0.5555555555555556,
              "#d8576b"
             ],
             [
              0.6666666666666666,
              "#ed7953"
             ],
             [
              0.7777777777777778,
              "#fb9f3a"
             ],
             [
              0.8888888888888888,
              "#fdca26"
             ],
             [
              1,
              "#f0f921"
             ]
            ],
            "type": "surface"
           }
          ],
          "table": [
           {
            "cells": {
             "fill": {
              "color": "#EBF0F8"
             },
             "line": {
              "color": "white"
             }
            },
            "header": {
             "fill": {
              "color": "#C8D4E3"
             },
             "line": {
              "color": "white"
             }
            },
            "type": "table"
           }
          ]
         },
         "layout": {
          "annotationdefaults": {
           "arrowcolor": "#2a3f5f",
           "arrowhead": 0,
           "arrowwidth": 1
          },
          "autotypenumbers": "strict",
          "coloraxis": {
           "colorbar": {
            "outlinewidth": 0,
            "ticks": ""
           }
          },
          "colorscale": {
           "diverging": [
            [
             0,
             "#8e0152"
            ],
            [
             0.1,
             "#c51b7d"
            ],
            [
             0.2,
             "#de77ae"
            ],
            [
             0.3,
             "#f1b6da"
            ],
            [
             0.4,
             "#fde0ef"
            ],
            [
             0.5,
             "#f7f7f7"
            ],
            [
             0.6,
             "#e6f5d0"
            ],
            [
             0.7,
             "#b8e186"
            ],
            [
             0.8,
             "#7fbc41"
            ],
            [
             0.9,
             "#4d9221"
            ],
            [
             1,
             "#276419"
            ]
           ],
           "sequential": [
            [
             0,
             "#0d0887"
            ],
            [
             0.1111111111111111,
             "#46039f"
            ],
            [
             0.2222222222222222,
             "#7201a8"
            ],
            [
             0.3333333333333333,
             "#9c179e"
            ],
            [
             0.4444444444444444,
             "#bd3786"
            ],
            [
             0.5555555555555556,
             "#d8576b"
            ],
            [
             0.6666666666666666,
             "#ed7953"
            ],
            [
             0.7777777777777778,
             "#fb9f3a"
            ],
            [
             0.8888888888888888,
             "#fdca26"
            ],
            [
             1,
             "#f0f921"
            ]
           ],
           "sequentialminus": [
            [
             0,
             "#0d0887"
            ],
            [
             0.1111111111111111,
             "#46039f"
            ],
            [
             0.2222222222222222,
             "#7201a8"
            ],
            [
             0.3333333333333333,
             "#9c179e"
            ],
            [
             0.4444444444444444,
             "#bd3786"
            ],
            [
             0.5555555555555556,
             "#d8576b"
            ],
            [
             0.6666666666666666,
             "#ed7953"
            ],
            [
             0.7777777777777778,
             "#fb9f3a"
            ],
            [
             0.8888888888888888,
             "#fdca26"
            ],
            [
             1,
             "#f0f921"
            ]
           ]
          },
          "colorway": [
           "#636efa",
           "#EF553B",
           "#00cc96",
           "#ab63fa",
           "#FFA15A",
           "#19d3f3",
           "#FF6692",
           "#B6E880",
           "#FF97FF",
           "#FECB52"
          ],
          "font": {
           "color": "#2a3f5f"
          },
          "geo": {
           "bgcolor": "white",
           "lakecolor": "white",
           "landcolor": "#E5ECF6",
           "showlakes": true,
           "showland": true,
           "subunitcolor": "white"
          },
          "hoverlabel": {
           "align": "left"
          },
          "hovermode": "closest",
          "mapbox": {
           "style": "light"
          },
          "paper_bgcolor": "white",
          "plot_bgcolor": "#E5ECF6",
          "polar": {
           "angularaxis": {
            "gridcolor": "white",
            "linecolor": "white",
            "ticks": ""
           },
           "bgcolor": "#E5ECF6",
           "radialaxis": {
            "gridcolor": "white",
            "linecolor": "white",
            "ticks": ""
           }
          },
          "scene": {
           "xaxis": {
            "backgroundcolor": "#E5ECF6",
            "gridcolor": "white",
            "gridwidth": 2,
            "linecolor": "white",
            "showbackground": true,
            "ticks": "",
            "zerolinecolor": "white"
           },
           "yaxis": {
            "backgroundcolor": "#E5ECF6",
            "gridcolor": "white",
            "gridwidth": 2,
            "linecolor": "white",
            "showbackground": true,
            "ticks": "",
            "zerolinecolor": "white"
           },
           "zaxis": {
            "backgroundcolor": "#E5ECF6",
            "gridcolor": "white",
            "gridwidth": 2,
            "linecolor": "white",
            "showbackground": true,
            "ticks": "",
            "zerolinecolor": "white"
           }
          },
          "shapedefaults": {
           "line": {
            "color": "#2a3f5f"
           }
          },
          "ternary": {
           "aaxis": {
            "gridcolor": "white",
            "linecolor": "white",
            "ticks": ""
           },
           "baxis": {
            "gridcolor": "white",
            "linecolor": "white",
            "ticks": ""
           },
           "bgcolor": "#E5ECF6",
           "caxis": {
            "gridcolor": "white",
            "linecolor": "white",
            "ticks": ""
           }
          },
          "title": {
           "x": 0.05
          },
          "xaxis": {
           "automargin": true,
           "gridcolor": "white",
           "linecolor": "white",
           "ticks": "",
           "title": {
            "standoff": 15
           },
           "zerolinecolor": "white",
           "zerolinewidth": 2
          },
          "yaxis": {
           "automargin": true,
           "gridcolor": "white",
           "linecolor": "white",
           "ticks": "",
           "title": {
            "standoff": 15
           },
           "zerolinecolor": "white",
           "zerolinewidth": 2
          }
         }
        },
        "width": 600,
        "xaxis": {
         "anchor": "y",
         "domain": [
          0,
          1
         ],
         "range": [
          -0.02,
          1.02
         ],
         "title": {
          "text": "FP Rate"
         }
        },
        "yaxis": {
         "anchor": "x",
         "domain": [
          0,
          1
         ],
         "range": [
          -0.02,
          1.02
         ],
         "title": {
          "text": "TP Rate"
         }
        }
       }
      }
     },
     "metadata": {},
     "output_type": "display_data"
    }
   ],
   "source": [
    "# ROC Curve\n",
    "\n",
    "fig = px.line(x=fpr,y=tpr)\n",
    "fig.update_traces(line_color='darkgreen',opacity=0.5,name='Team_A',showlegend=True)\n",
    "\n",
    "fig_2 = px.line(x=fpr_b,y=tpr_b)\n",
    "fig_2.update_traces(line_color='orange',opacity=0.5,name='Team_B',showlegend=True)\n",
    "fig.add_trace(fig_2.data[0])\n",
    "\n",
    "fig_3 = px.line(x=fpr_c,y=tpr_c)\n",
    "fig_3.update_traces(line_color='darkmagenta',opacity=0.5,name='Team_C',showlegend=True)\n",
    "fig.add_trace(fig_3.data[0])\n",
    "\n",
    "fig_4 = px.line(x=[0,1],y=[0,1])\n",
    "fig_4.update_traces(line=dict(dash=\"dot\", width=2),line_color='gray',opacity=0.5,name='Base_rate',showlegend=True)\n",
    "fig.add_trace(fig_4.data[0])\n",
    "\n",
    "\n",
    "# plot update\n",
    "fig.update_layout(width=600,height=600)\n",
    "fig.update_xaxes(title_text='FP Rate',range=[-0.02,1.02])\n",
    "fig.update_yaxes(title_text='TP Rate',range=[-0.02,1.02])\n",
    "\n",
    "fig.show()\n",
    "\n",
    "from plotly.io import write_image\n",
    "#... Generate the fig here.\n",
    "fig.write_json(\"ROC_curve.json\")\n"
   ]
  },
  {
   "cell_type": "code",
   "execution_count": null,
   "metadata": {},
   "outputs": [],
   "source": []
  },
  {
   "cell_type": "code",
   "execution_count": null,
   "metadata": {},
   "outputs": [
    {
     "name": "stdout",
     "output_type": "stream",
     "text": [
      "Dash app running on http://127.0.0.1:8050/\n"
     ]
    }
   ],
   "source": [
    "# Precision Recall \n",
    "app = JupyterDash(__name__)\n",
    "\n",
    "#marker\n",
    "marker = {7: '100%', 6: '96%', 5: '91%', 4: '82%', 3: '68%', 2: '65%', 1: '60%', 0: '0%'}\n",
    "# marker = {num : str(i) for num,i in enumerate(threshold)}\n",
    "\n",
    "## Color 조정하는 DIV\n",
    "# app.layout =html.Div([\n",
    "#     html.H1('ROC_Curve', style={'text-align': 'center'}),\n",
    "#     # html.Iframe(id='curve', srcDoc=None,style={'width' : '100%', 'height' : '500px' }),\n",
    "#     html.Div([\n",
    "#         \"Threshold\",\n",
    "#         dcc.Slider(0, 7, 1, value=0, id='thr', marks=marker)],\n",
    "#         # style=dict(width=600),\n",
    "#         style = {\"width\": \"2%\", \"height\":\"100%\",\"display\":\"inline-block\",\"position\":\"relative\"}            \n",
    "#         ),\n",
    "#     dcc.Graph(id='curve'),\n",
    "#     # html.Div([\"색상\",dcc.RadioItems(id='color', value='aliceblue', options=c_codes['0'], className='btn-group', style={'flex-wrap' : 'wrap'},labelClassName= 'btn-outline-secondary',labelStyle={'text-align' : 'left', 'width' : 180, 'height' : 25  } ,inputStyle={'margin-right': 5})],style={'margin': 20}) #inline=True,\n",
    "# ])\n",
    "\n",
    "\n",
    "\n",
    "app.layout=html.Div([\n",
    "                html.H1('ROC_Curve', style={'text-align': 'center'}),\n",
    "                html.Div([\n",
    "                        html.Img(src=app.get_asset_url('main_4.png'),\n",
    "                        style= {'width':'800px','margin' : '0 auto'}\n",
    "                        ),\n",
    "                        dcc.Slider(0, 7, 1, value=7, id='thr', \n",
    "                        marks=marker)\n",
    "                    ],\n",
    "                    style= {'width':'800px','text-align':'left','margin' : '0 auto'}\n",
    "                    ),\n",
    "                html.Div([\n",
    "                    dcc.Graph(id='curve',className='col-md-auto'),\n",
    "                ],\n",
    "                style={'justify-content': 'center','align-items' : 'center'},\n",
    "                className='row row-cols-auto'\n",
    "                )\n",
    "           ],\n",
    "           className='container'\n",
    "           )\n",
    "\n",
    "@app.callback(\n",
    "    Output(component_id='curve',component_property='figure'),\n",
    "    Input('thr','value') # Input('location','value'),\n",
    ")\n",
    "\n",
    "\n",
    "def Pe_rc_curve(thr) :\n",
    "    thr = -1-thr\n",
    "    pe_a =[1,1,1,3/4,5/6,5/7,6/8,6/12]\n",
    "    rc_a =[0,1/6,3/6,3/6,5/6,5/6,1,1]\n",
    "\n",
    "    fig = make_subplots(rows=3, cols=3,specs=[[{\"colspan\": 2, 'rowspan' : 3},None, None],[None,None,{}],[None,None,None]],horizontal_spacing=0.15)\n",
    "\n",
    "    fig_1 = px.line(x=rc_a,y=pe_a)\n",
    "    fig_1.update_traces(line_color='darkgreen',opacity=0.5,name='Team_A',showlegend=True)\n",
    "    fig.append_trace(fig_1.data[0],row=1,col=1)\n",
    "        \n",
    "    fig.add_trace(\n",
    "    go.Scatter(\n",
    "        x=[rc_a[thr]],\n",
    "        y=[pe_a[thr]],\n",
    "        showlegend=False,\n",
    "        marker=dict(color=\"red\", size=10)),\n",
    "        row=1,col=1)\n",
    "\n",
    "    fig_4 = px.line(x=[0,1],y=[0.5,0.5])\n",
    "    fig_4.update_traces(line=dict(dash=\"dot\", width=2),line_color='gray',opacity=0.5,name='Base_rate',showlegend=True)\n",
    "    fig.add_trace(fig_4.data[0],row=1,col=1)\n",
    "\n",
    "    # subplot 2번에 넣기\n",
    "    pred_log = (percent_of_criminal >= threshold[thr])\n",
    "    con_max = confusion_matrix(criminal,pred_log,labels=[1, 0])\n",
    "    fig_3 = px.imshow(con_max, text_auto=True ,color_continuous_scale='BuPu',x=['Positive','Negative'], y=['True','False'])\n",
    "    fig_3.update_traces(dict(showscale=False, \n",
    "                        coloraxis=None, \n",
    "                        colorscale='BuPu'), selector={'type':'heatmap'})\n",
    "    fig_3.update_xaxes(side='top')\n",
    "    fig.add_trace(fig_3.data[0],row=2,col=3)\n",
    "\n",
    "    # plot update\n",
    "    fig.update_layout(width=800,height=600)\n",
    "    fig.update_xaxes(title_text=\"Predict Value\",row=2,col=3,side='top')\n",
    "    fig.update_yaxes(title_text=\"True Value\",row=2,col=3,autorange='reversed')\n",
    "    fig.update_xaxes(title_text='Recall',range=[-0.01,1.02], row=1,col=1)\n",
    "    fig.update_yaxes(title_text='Precision',range=[0.45,1.02], row=1,col=1)\n",
    "\n",
    "    return fig\n",
    "\n",
    "app.run_server(mode='external')"
   ]
  },
  {
   "cell_type": "code",
   "execution_count": null,
   "metadata": {},
   "outputs": [],
   "source": []
  }
 ],
 "metadata": {
  "interpreter": {
   "hash": "47be6c136d2b4a6c76f7d3db2f991a133eb39bf1d99b20f1b6e05e99edd1faf4"
  },
  "kernelspec": {
   "display_name": "Python 3 (ipykernel)",
   "language": "python",
   "name": "python3"
  },
  "language_info": {
   "codemirror_mode": {
    "name": "ipython",
    "version": 3
   },
   "file_extension": ".py",
   "mimetype": "text/x-python",
   "name": "python",
   "nbconvert_exporter": "python",
   "pygments_lexer": "ipython3",
   "version": "3.9.7"
  }
 },
 "nbformat": 4,
 "nbformat_minor": 2
}
