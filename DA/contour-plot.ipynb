{
 "cells": [
  {
   "cell_type": "markdown",
   "metadata": {},
   "source": [
    "### 5시간동안 시행착오 겪은 내용정리 \n",
    "1. array를 정리할땐 np.append를 쓰자.\n",
    "   \n",
    "2. linear model에서 **scale을** 신경쓰는 이유가 있었다. gradient descent 시간 + 성능에 영향을 크게 미친다.\n",
    "3. array가 중요하다. shape도 생각하고 shape를 어떻게 다뤄야할지도 계속 연습해야한다.\n",
    "4. gradient descent는 theta를 구하기 위한 식일 뿐이다. gradient 식을 가지고 gradient descent plot을 그릴 순 없다. \n",
    "5. gradient descent를 그리기 위해서는 먼저 최적의 Weight을 찾아야한다. 그 다음 mse를 계산하는 해서 plot을 만든다.\n",
    "6. contour plot에서 z는 x*y 크기의 행렬이어야 한다. 격자별로 mse를 올려놓고 비슷한 부분을 등고선으로 연결시키는 개념이다.\n",
    "\n",
    "### 배운 매소드\n",
    "* array.size : vector 개수를 알려줌  axb= size\n",
    "\n",
    "* array.flatten  : 행렬을 그냥 하나의 array로 만듬(scalar로 만드는건가? 방향이 없으니까)\n",
    "* np.append(쌓일 array, 쌓을 array, 쌓을 위치(axis=0 row, axis-1 column))\n",
    "* min(list) : list 최솟값 구하기\n",
    "* list.index(조건) => 위치 반환\n",
    "* array는 slice를 사용하면 원하는데로 조절하기 편함\n",
    "\n"
   ]
  },
  {
   "cell_type": "code",
   "execution_count": 1,
   "metadata": {},
   "outputs": [],
   "source": [
    "### 등고선으로 gradient descent 그려보기\n",
    "\n",
    "from sklearn.datasets import load_boston\n",
    "import pandas as pd\n",
    "import numpy as np\n",
    "import matplotlib.pyplot as plt\n",
    "import seaborn as sns"
   ]
  },
  {
   "cell_type": "code",
   "execution_count": 2,
   "metadata": {},
   "outputs": [
    {
     "name": "stderr",
     "output_type": "stream",
     "text": [
      "<ipython-input-2-917e98e50449>:10: SettingWithCopyWarning: \n",
      "A value is trying to be set on a copy of a slice from a DataFrame.\n",
      "Try using .loc[row_indexer,col_indexer] = value instead\n",
      "\n",
      "See the caveats in the documentation: https://pandas.pydata.org/pandas-docs/stable/user_guide/indexing.html#returning-a-view-versus-a-copy\n",
      "  intro_data['credit_util'] = np.round(intro_data['total_credit_utilized']/intro_data['total_credit_limit'],2)\n",
      "<ipython-input-2-917e98e50449>:16: SettingWithCopyWarning: \n",
      "A value is trying to be set on a copy of a slice from a DataFrame\n",
      "\n",
      "See the caveats in the documentation: https://pandas.pydata.org/pandas-docs/stable/user_guide/indexing.html#returning-a-view-versus-a-copy\n",
      "  intro_data.drop(columns=['1','2'],inplace=True)\n",
      "<ipython-input-2-917e98e50449>:19: SettingWithCopyWarning: \n",
      "A value is trying to be set on a copy of a slice from a DataFrame\n",
      "\n",
      "See the caveats in the documentation: https://pandas.pydata.org/pandas-docs/stable/user_guide/indexing.html#returning-a-view-versus-a-copy\n",
      "  intro_data.dropna(inplace=True) # 결측값 있는 row 제거\n"
     ]
    }
   ],
   "source": [
    "loans_df = pd.read_csv('D:\\git_local_repository\\yangoos57\\DA\\data/loans.csv')\n",
    "\n",
    "# total_credit_limit\n",
    "# total_credit_utilized\n",
    "\n",
    "### ch9에서 활용하는 column만 추출\n",
    "intro_data = loans_df[['interest_rate','verified_income','debt_to_income', 'total_credit_limit', 'total_credit_utilized', 'public_record_bankrupt','term','issue_month','inquiries_last_12m']]\n",
    "\n",
    "# credit_util 항목 만들기\n",
    "intro_data['credit_util'] = np.round(intro_data['total_credit_utilized']/intro_data['total_credit_limit'],2)\n",
    "\n",
    "### 이름변경\n",
    "intro_data.columns = ['interest_rate', 'income_ver', 'debt_to_income', '1','2', 'bankruptcy', 'term', 'issued','credit_checks','credit_util']\n",
    "\n",
    "# loans_df.loc[1]\n",
    "intro_data.drop(columns=['1','2'],inplace=True)\n",
    "\n",
    "\n",
    "intro_data.dropna(inplace=True) # 결측값 있는 row 제거\n",
    "intro_data.reset_index(drop=True,inplace=True) # index \n"
   ]
  },
  {
   "cell_type": "code",
   "execution_count": 3,
   "metadata": {},
   "outputs": [],
   "source": [
    "# Preprocessing 필수!\n",
    "from sklearn.preprocessing import StandardScaler\n",
    "x_b = intro_data[['term','credit_util']]\n",
    "y = intro_data[['interest_rate']]\n",
    "scaler = StandardScaler()\n",
    "x_b = pd.DataFrame(scaler.fit_transform(x_b)) # (9974,2)\n",
    "\n",
    "# 굳이 안구해도 되는데 GD는 어떻게 x_0을 구하는지 궁금했음\n",
    "x_b.insert(loc=0, column='x_0',value=1) # x_0 구하기 위한 열추가 (9974,3) "
   ]
  },
  {
   "cell_type": "markdown",
   "metadata": {},
   "source": [
    "**Equation 1** : Gradient vector of the cost function\n",
    "\n",
    " $\\nabla_{\\theta}MSE(\\theta) = \\frac{2}{m}X^T(X\\theta-y)$\n",
    "\n",
    "**Equation 2** : Gradient Descent Step  \n",
    "\n",
    " $\\theta^{(next\\;step)}= \\theta - \\eta\\nabla_{\\theta}MSE(\\theta)$\n",
    "\n",
    "**Equation 3** : Mean Squared Error\n",
    "\n",
    "  $ MSE(X,h_{\\theta}) = \\frac{1}{m}\\sum_{i=1}^{m}{(\\theta^Tx^{(i)}-y^{(i)})^2} $"
   ]
  },
  {
   "cell_type": "code",
   "execution_count": 81,
   "metadata": {},
   "outputs": [
    {
     "name": "stdout",
     "output_type": "stream",
     "text": [
      "최적 w : [14.48431141  1.97005666  1.47014554] , 1\n"
     ]
    }
   ],
   "source": [
    "# theta = np.random.randn(2,1)  # random initialization\n",
    "theta = np.array([[15],[2],[1.5]]) # (3,1)\n",
    "\n",
    "eta = 0.1  # learning rate\n",
    "n_iterations = 1 # 반복횟수\n",
    "m = 9974 # instance 개수\n",
    "\n",
    "theta_np =np.empty((1,3))\n",
    "mse_list =[]\n",
    "for iteration in range(n_iterations):\n",
    "    gradients = 2/m * x_b.T.dot(x_b.dot(theta).values - y.values) # equation 1 행렬 크기 생각하기 (3,9974) * [(9974,3)*(3,1) - (9974,1)]\n",
    "    theta = theta - eta * gradients\n",
    "    theta_np = np.append(theta_np, theta.values.T,axis=0,) # equation 2 \n",
    "    mse = (1/m)*np.sum(np.square(x_b.dot(theta).values - y.values)) # equation 3 (9974,3)*(3,1) - (9974,1)\n",
    "    mse_list.append(mse)\n",
    "    # print(gradients)\n",
    "\n",
    "num = mse_list.index(min(mse_list))\n",
    "\n",
    "print(f'최적 w : {theta_np[1:][num]} , {num+1}') \n",
    "\n"
   ]
  },
  {
   "cell_type": "markdown",
   "metadata": {},
   "source": [
    "$\\frac{\\delta}{\\delta\\theta_j}MSE(\\theta)$  = $\\frac{2}{m}\\sum_{i=1}^{m}{(\\theta^Tx^{(i)}-y^{(i)})x_j^{(i)}}$\n",
    "\n",
    "\n",
    "<img src='data/74759a1309f51c240d0f7a0ff7d39d87.webp' style='width : 300px; height :200px'>\n",
    "\n",
    "\n",
    "1. $\\large x_j^i$ = 행렬 $(i,j)$의 값 \n",
    "2. $\\large x_1^2$ = 행렬 $(2,1)$\n",
    "3. $(\\theta^Tx^{(i)}-y^{(i)})$ = (1,3) *(3,1) = (1,1)\n",
    "4. $(\\theta^Tx^{(i)}-y^{(i)})x_j^{(i)}$ = (1,3) * (3,1) * (1,1)\n",
    "5.  $\\theta^TX-Y = X\\theta-Y$\n",
    "\n",
    "### 포기.. 백터 공부하고 다시 이해해보자"
   ]
  },
  {
   "cell_type": "code",
   "execution_count": 93,
   "metadata": {},
   "outputs": [
    {
     "name": "stdout",
     "output_type": "stream",
     "text": [
      "0.29854458901230235             0\n",
      "x_0  5.156886\n",
      "0    0.299433\n",
      "1    0.298545\n"
     ]
    }
   ],
   "source": [
    "# x_b_mini = x_b.query('index <20')\n",
    "# y_mini =  y.query('index <20')\n",
    "x_b_mini = x_b.copy()\n",
    "y_mini = y.copy()\n",
    "b =[]\n",
    "theta = np.array([[15],[2],[1.5]]) # (3,1)\n",
    "n = len(y_mini)\n",
    "for i in range(n) :\n",
    "    a = (theta.T.dot(x_b_mini.iloc[i]) -y_mini.iloc[i].values) * x_b_mini.iloc[i,2]\n",
    "    b.append(a[0])\n",
    "\n",
    "\n",
    "print((2/n) * np.sum(b), gradients)"
   ]
  },
  {
   "cell_type": "code",
   "execution_count": 5,
   "metadata": {},
   "outputs": [],
   "source": [
    "n_r = 3 # number of range\n",
    "x_lin = np.linspace(-theta_np[1:][num][1]*n_r ,theta_np[1:][num][1]*n_r, 100) # plot을 그리기 위해 최적 w를 기준으로 범위를 넓히자\n",
    "y_lin = np.linspace(-theta_np[1:][num][2]*n_r ,theta_np[1:][num][2]*n_r, 100) # plot을 그리기 위해 최적 w를 기준으로 범위를 넓히자\n",
    "z_lin = np.zeros((x_lin.size,y_lin.size)) # (200,200) 격자 만들기\n",
    "drop_x_1 = x_b.drop(columns='x_0')\n",
    "for i, value1 in enumerate(x_lin):\n",
    "    for j, value2 in enumerate(y_lin):\n",
    "        w_temp = np.array((value1,value2)).reshape(2,1)        \n",
    "        z_lin[i, j] = (1/m)*np.sum(np.square(drop_x_1.dot(w_temp).values - y.values)) ## 격자에 맞는 MSE 채우기"
   ]
  },
  {
   "cell_type": "code",
   "execution_count": 6,
   "metadata": {},
   "outputs": [
    {
     "data": {
      "text/plain": [
       "Text(0, 0.5, 'w1')"
      ]
     },
     "execution_count": 6,
     "metadata": {},
     "output_type": "execute_result"
    },
    {
     "data": {
      "image/png": "[encoded data removed]",
      "text/plain": [
       "<Figure size 576x432 with 1 Axes>"
      ]
     },
     "metadata": {
      "needs_background": "light"
     },
     "output_type": "display_data"
    }
   ],
   "source": [
    "# plt.contourf(x_lin,y_lin,z_lin)\n",
    "plt.figure(figsize=(8,6))\n",
    "plt.contourf(x_lin,y_lin,z_lin,alpha=0.7) # 색만 칠하기\n",
    "CS = plt.contour(x_lin,y_lin,z_lin,linewidths=1,colors='black') # 등고선만 그리기\n",
    "plt.clabel(CS, inline=1, fontsize=8,fmt='%d') # 등고선에 text 넣기\n",
    "plt.title(\"Contour Plot of Gradient Descent\")\n",
    "plt.xlabel(\"w0\")\n",
    "plt.ylabel(\"w1\")\n",
    "\n"
   ]
  },
  {
   "cell_type": "code",
   "execution_count": null,
   "metadata": {},
   "outputs": [],
   "source": []
  }
 ],
 "metadata": {
  "interpreter": {
   "hash": "b32ab0203d4274b325f86ba61b5b3c6bc5e3032e9f578fcc84de2c2aec614dff"
  },
  "kernelspec": {
   "display_name": "Python 3.8.5 ('base')",
   "language": "python",
   "name": "python3"
  },
  "language_info": {
   "codemirror_mode": {
    "name": "ipython",
    "version": 3
   },
   "file_extension": ".py",
   "mimetype": "text/x-python",
   "name": "python",
   "nbconvert_exporter": "python",
   "pygments_lexer": "ipython3",
   "version": "3.8.5"
  },
  "orig_nbformat": 4
 },
 "nbformat": 4,
 "nbformat_minor": 2
}
