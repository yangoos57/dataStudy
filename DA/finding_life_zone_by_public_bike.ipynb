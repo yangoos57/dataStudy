{
 "cells": [
  {
   "cell_type": "code",
   "execution_count": 1,
   "metadata": {},
   "outputs": [],
   "source": [
    "import findspark \n",
    "findspark.init()"
   ]
  },
  {
   "cell_type": "code",
   "execution_count": 2,
   "metadata": {},
   "outputs": [
    {
     "name": "stderr",
     "output_type": "stream",
     "text": [
      "WARNING:root:'PYARROW_IGNORE_TIMEZONE' environment variable was not set. It is required to set this environment variable to '1' in both driver and executor sides if you use pyarrow>=2.0.0. pandas-on-Spark will set it for you but it does not work if there is a Spark context already launched.\n"
     ]
    }
   ],
   "source": [
    "%load_ext memory_profiler\n",
    "import pyspark.pandas as ps\n",
    "import pandas as pd\n",
    "import numpy as np\n",
    "# import matplotlib.pyplot as plt\n",
    "# import seaborn as sns\n",
    "import plotly.express as px\n",
    "import plotly.graph_objects as go\n",
    "from tqdm import notebook\n",
    "import warnings\n",
    "warnings.filterwarnings(action='ignore')\n",
    "# station 정보\n",
    "station = pd.read_csv('D:\\git_local_repository\\data_for_project\\seoul_bike\\seoul_bike_station_01_12.csv',encoding='CP949')\n",
    "seoul_bike = pd.read_parquet('D:\\git_local_repository\\data_for_project\\seoul_bike\\seoul_bike_2021.parquet.gzip')\n",
    "\n",
    "#plotly continuous_color\n",
    "continuous_color = pd.read_csv('data/plotly_continuous_color_codes.csv')\n"
   ]
  },
  {
   "cell_type": "markdown",
   "metadata": {},
   "source": [
    "## 생활권 분석\n",
    "### 가설\n",
    "1. 해당 대여소가 몰리는 곳인지 퍼지는 곳인지 분류할 수 있음\n",
    "    - 몰리는 곳에 대한 정의는 ? 다양한 대여소에서 온다. 나가는 따릉이보다 들어가는 따릉이가 더 많다.\n",
    "    \n",
    "    - 지역구간 단방향 이동인지 양방향 이동인지 파악 할 수 있음. 어느정도 범위는 양방향이고 음수이면 왼쪽방향 양수이면 오른쪽 방향이라는 걸 알 수 있겠지? \n",
    "    - 몰리는 곳 설정 + 흐름을 합치면 뭔가 재밌는 그림이 나올거 같다는 생각이다.\n",
    "    => 기상 흐름도를 채용하면 되지 않을까?\n",
    "\n",
    "<br>\n",
    "\n",
    "1. 어디가 생활반경인지 보다는 물리적으로 지역임에도 심리가 먼 지역이 어디인지를 보는데 초점을 맞춤. \n",
    "    - 뭐가 됐던 사람들이 가지는 근처 지역에 대한 심리가 실제로 얼추 맞는지 살펴보면 되지 않을까?\n",
    "    \n",
    "    - 심리가 먼 지역에 대한 정의는? 물리적으로 가까움에도 top 20에 포함되지 않은 지역 (top10,top20,top50 다 생각해보자)\n",
    "    - 20분~ 30분 거리를 등고선으로 하면 활동 범위를 알 수 있으려나? 아무리 가까워도 안가는 곳이라면 20-30분 거리로 넓혀봤자 포함안된다.\n",
    "\n",
    "<br>\n",
    "\n",
    "\n",
    "1. 따릉이로 안가본 서울 도심 체험하기\n",
    "    - 본인이 주로 애용하는 대여소를 기점으로 사람들이 자주 가는 순으로 여행지를 택할 수 있게 하자.\n",
    "    - 많은 사람들이 이용한다는 말은 그만큼 따릉이로 이동하기 어렵지 않다는 말\n",
    "  \n",
    "    - 방법\n",
    "\n",
    "        1.원하는 따릉이 대여소 검색\n",
    "\n",
    "        2.table로 선택 되면 그롷게 하고 안되면 드롭다운 방식으로 보여주기\n",
    "\n",
    "        3.선택하면 collector로 올라가게 함\n",
    "\n",
    "        4.추천 여행지 우측 테리블에 정렬\n",
    "        \n",
    "        5.클릭하면 해당 지역으로 이동\n",
    "\n",
    "<br>\n",
    "\n",
    "\n",
    "1. 따릉이로 최적 거리 이동하기\n",
    "    - 내가 A대여소에서 어느 지점으로 간다고 지역을 누르면 반경에 있는 따릉이 대여소 몇 군데를 골라 예상 운행 시간을 알려준다.\n",
    "      \n",
    "      사람들이 가장 많이 이용한 대여소 또는 최단 거리가 걸리는 대여소를 알려주면 될 듯\n",
    "      \n",
    "    - 많은 사람들이 이용한다는 말은 그만큼 따릉이로 이동하기 어렵지 않다는 말\n",
    "    - 지도앱 예상 시간과 따릉이 이용 예상시간 차이는 매우 크다. \n",
    "  \n",
    "    -  따릉이로 가기 좋은 길인지, 얼마정도 시간이 걸리는지 예상용도\n",
    "        네이버 지도 예상시간은 따릉이를 이용하기엔 너무 빠르다.\n",
    "    - 네이버 지도와 데이터를 바탕으로 최소 이동시간이 소요되는 지역을 추천할 수 있다.\n",
    "\n",
    "<br>\n",
    "\n",
    "\n",
    "### 필요한 사항 정리\n",
    "1. 몰리는 곳 정의\n",
    "예시) (여의나루 역 2번출구 => 다른 지역) 총 id 개수 와  (다른 지역 => 여의나루 역 2번 출구) 총 id 개수 비교 \n",
    "\n",
    "    & (여의나루 2번 출구 => 다른 지역으로 이동한 따릉이 대여 개수) 와 (다른 지역에서 여의나루 2번 출구로 이동한 따릉이 개수) 비교\n",
    "\n",
    "    * 그러려면 st_id2가 여의나루인 경우 id 개수, 따릉이 대여 대수가 필요하고 st_id1이 여의나루인 상태에서 전 지역으로 이동한 개수와 따릉이 대여 개수가 필요하겠네\n",
    "\n",
    "    * 개수만 새는거니까 그렇게 오래 걸리지 않겠지?\n",
    "\n",
    "    * 이때 10개,20개,30개 이상 데이터가 있는 경우 비교 하는 것도 좋고 아니면 전체 비율에서 0.005% 이상인 비율만 찾아도 될거 같다는 생각이네\n",
    "\n",
    "<br>\n",
    "\n",
    "\n",
    "2. 대여소간 이동 흐름 분석해보기 \n",
    "예시)  월촌초 <=> 신목동역을 예로들면 월촌초 => 신목동 가는 횟수와 신목동 => 월촌초 가는 횟수를 비교해서 $\\frac{월=>신 - 신=>월}{양방향 개수}$한다음 \n",
    "\n",
    "    +- 0.1 내외면 양방향이고 양수면 월=> 신 방향이 많은거고 음수면 신=> 월 방향이 많은거고  0.2는 약간의 추세 0.5는 추세 0.8은 압도적 추세 이런식으로 만들면 될 것 같음.\n",
    "\n",
    "    * top 10,20,50개 등 다양한 기준을 가지고 흐름을 만들어 보는 것도 좋을듯 = 아니면 빈도수를 30개 50개 이상 등으로 설정하면 다양한 흐름이 나오지 않을까 생각이 든다.\n",
    "\n",
    "    * 계산은 대여소 번호 낮은것 - 높은 것으로 원칙을 정하고 한 곳에만 값을 매겨놓으면 되지 않을까? 아니면 아예 st_id1 -> st_id2 항목을 새로 만들어서 흐름만 관리해도 좋고\n",
    "\n",
    "    * 기상 흐름도가 도움이 될까? 잘 맞는게 뭐가 있는지 한 번 봐보자. 아니면 화살표로 해봐도 될거같다. 대여소 주위에서 그 지역까지 화살표로 나가는걸로 하고 흐름이 쎈것만 opacity를 높게 주면 되지 않을까?\n",
    "\n",
    "    * 화살표로 한다면 일단 지역 하나를 클릭하면 그 지역을 중심으로 어떻게 흐름이 발생하는지 보면 재밌을듯 만약 퍼지는 대여소라면 나가는 방향이 들어가는 방향보다 훨씬 많겠지 \n",
    "\n",
    "    *  나가는 방향 빨간색 들어오는 방향 파란색으로 하면 뭔가 재밌을것 같다.\n",
    "\n",
    "\n",
    "<br>\n",
    "\n",
    "\n",
    "1. 둘이 합치고 꾸미면 뭔가 흐름을 볼 수 있지 않을까?\n",
    "\n",
    "<br>\n",
    "\n",
    "\n",
    "4. 따릉이로 심리적인 생활반경 그리기\n",
    "예시) 예전에 주 활동 무대는 염창역 인근이었다면 지금 주 활동 무대는 신목동역이다. \n",
    "\n",
    "    사실 염창역도 그렇게 멀지 않지만 산이라는 자연 장애물 때문에 심리적으로 멀게 느껴진다. \n",
    "\n",
    "      다른 지역도 분명 그럴진데 따릉이 대여소가 어디를 가장 많이 가는지(top 20,30,50 등)를 분석하면 알 것 같다.\n",
    "\n",
    "    * 개별 반경 100m < x <5km 따릉이 대여소를 개별 대여소 별로 찾는다. st_id_1과 st_id=2가 같으니 이것도 따로 표를 새로 만들면 될 것 같다.\n",
    "    \n",
    "    * 따릉이 이용소 top 20,50 등을 구하고 색을 다르게 하면 표현 될 것 같다.\n",
    "\n",
    "    * density plot을 그릭 서울 전역을 확대하면 어느정도 생활권이 나오려나?\n",
    "\n",
    "    * 위 방법 보다는 본인이 가장 애용하는 따릉이 대여소를 클릭하면 관련 생활권이 나오게 하는거 어떨까?\n",
    "\n",
    "    * 많은 사람들에게도 물어봐보자 이스밍한테도 물어봐보자.\n"
   ]
  },
  {
   "cell_type": "code",
   "execution_count": 3,
   "metadata": {},
   "outputs": [],
   "source": [
    "# #불러오기\n",
    "# seoul_bike_1_2 = pd.read_hdf('D:\\git_local_repository\\data_for_project\\seoul_bike\\preprocessed_bike_2021.hdf5')\n",
    "# seoul_bike_2_2 = pd.read_hdf('D:\\git_local_repository\\data_for_project\\seoul_bike\\preprocessed_bike_2_2.hdf5')\n",
    "\n",
    "# seoul_bike = pd.concat([seoul_bike_1_2,seoul_bike_2_2])\n",
    "\n",
    "# # 1분당 이동 거리(m)\n",
    "# seoul_bike['m_pm'] = (seoul_bike['dist'] / (seoul_bike['riding_time'])).round(decimals=0)  # 1분당 거리 계산\n",
    "\n",
    "# #한국에는 자전거에 미친놈들이 많은건가 아니면 오류인가\n",
    "# # 선수급도 50km/h 속도가 나온다. 1분에 830미터 정도 달린다고 한다.\n",
    "# # 동호회 수준에서도 30km/h면 수준급 실력이라 한다. 1분에 500m 정도 된다.\n",
    "# # 4745948, 도심 한가운데서 분당 1000m의 속도로 54키로를 달리는게 말이되나.. 54km면 여의도 공원 => 잠원 한강공원을 왕복하고도 다시 출발해 절반은 더 가야된다.\n",
    "# # 이게 말이되나.. \n",
    "\n",
    "# # 결론\n",
    "# # 1분당 거리 계산 (1분당 400미터 이상인 경우 error로 간주)\n",
    "\n",
    "# seoul_bike = seoul_bike.query('m_pm <= 400')\n",
    "\n",
    "# seoul_bike\n"
   ]
  },
  {
   "cell_type": "markdown",
   "metadata": {},
   "source": [
    "### 아래부터 테스트용 "
   ]
  },
  {
   "cell_type": "code",
   "execution_count": 4,
   "metadata": {},
   "outputs": [
    {
     "name": "stdout",
     "output_type": "stream",
     "text": [
      "검색기준 : 해당 대여소와 최소 50번 이상 대여기록이 있는 대여소 검색\n",
      "총 298개 대여소 확보\n"
     ]
    },
    {
     "data": {
      "application/vnd.jupyter.widget-view+json": {
       "model_id": "15b535eab12942279d1e323b16946c50",
       "version_major": 2,
       "version_minor": 0
      },
      "text/plain": [
       "  0%|          | 0/298 [00:00<?, ?it/s]"
      ]
     },
     "metadata": {},
     "output_type": "display_data"
    },
    {
     "ename": "KeyboardInterrupt",
     "evalue": "",
     "output_type": "error",
     "traceback": [
      "\u001b[1;31m---------------------------------------------------------------------------\u001b[0m",
      "\u001b[1;31mKeyboardInterrupt\u001b[0m                         Traceback (most recent call last)",
      "\u001b[1;32m~\\AppData\\Local\\Temp/ipykernel_25788/3363838570.py\u001b[0m in \u001b[0;36m<module>\u001b[1;34m\u001b[0m\n\u001b[0;32m     18\u001b[0m     \u001b[1;31m# filter_id = seoul_bike[BM]['riding_time'].value_counts().sort_values(ascending=False)\u001b[0m\u001b[1;33m\u001b[0m\u001b[1;33m\u001b[0m\u001b[0m\n\u001b[0;32m     19\u001b[0m     \u001b[0mBM\u001b[0m \u001b[1;33m=\u001b[0m \u001b[1;33m(\u001b[0m\u001b[0mseoul_bike\u001b[0m\u001b[1;33m[\u001b[0m\u001b[1;34m'st_id1'\u001b[0m\u001b[1;33m]\u001b[0m \u001b[1;33m==\u001b[0m \u001b[0mwanting_ids\u001b[0m\u001b[1;33m[\u001b[0m\u001b[1;36m0\u001b[0m\u001b[1;33m]\u001b[0m\u001b[1;33m)\u001b[0m \u001b[1;33m&\u001b[0m \u001b[1;33m(\u001b[0m\u001b[0mseoul_bike\u001b[0m\u001b[1;33m[\u001b[0m\u001b[1;34m'st_id2'\u001b[0m\u001b[1;33m]\u001b[0m \u001b[1;33m==\u001b[0m \u001b[0mstation_id\u001b[0m\u001b[1;33m)\u001b[0m\u001b[1;33m\u001b[0m\u001b[1;33m\u001b[0m\u001b[0m\n\u001b[1;32m---> 20\u001b[1;33m     \u001b[0mfilter_id\u001b[0m \u001b[1;33m=\u001b[0m \u001b[0mseoul_bike\u001b[0m\u001b[1;33m[\u001b[0m\u001b[0mBM\u001b[0m\u001b[1;33m]\u001b[0m\u001b[1;33m[\u001b[0m\u001b[1;34m'riding_time'\u001b[0m\u001b[1;33m]\u001b[0m\u001b[1;33m.\u001b[0m\u001b[0mvalue_counts\u001b[0m\u001b[1;33m(\u001b[0m\u001b[1;33m)\u001b[0m\u001b[1;33m.\u001b[0m\u001b[0msort_values\u001b[0m\u001b[1;33m(\u001b[0m\u001b[0mascending\u001b[0m\u001b[1;33m=\u001b[0m\u001b[1;32mFalse\u001b[0m\u001b[1;33m)\u001b[0m\u001b[1;33m\u001b[0m\u001b[1;33m\u001b[0m\u001b[0m\n\u001b[0m\u001b[0;32m     21\u001b[0m     \u001b[1;32mtry\u001b[0m \u001b[1;33m:\u001b[0m\u001b[1;33m\u001b[0m\u001b[1;33m\u001b[0m\u001b[0m\n\u001b[0;32m     22\u001b[0m         \u001b[0mmean\u001b[0m \u001b[1;33m=\u001b[0m \u001b[0mfilter_id\u001b[0m\u001b[1;33m.\u001b[0m\u001b[0mindex\u001b[0m\u001b[1;33m[\u001b[0m\u001b[1;33m:\u001b[0m\u001b[1;36m5\u001b[0m\u001b[1;33m]\u001b[0m\u001b[1;33m.\u001b[0m\u001b[0mvalues\u001b[0m\u001b[1;33m.\u001b[0m\u001b[0mmean\u001b[0m\u001b[1;33m(\u001b[0m\u001b[1;33m)\u001b[0m\u001b[1;33m\u001b[0m\u001b[1;33m\u001b[0m\u001b[0m\n",
      "\u001b[1;32mc:\\Users\\679oo\\anaconda3\\lib\\site-packages\\pandas\\core\\frame.py\u001b[0m in \u001b[0;36m__getitem__\u001b[1;34m(self, key)\u001b[0m\n\u001b[0;32m   3447\u001b[0m         \u001b[1;31m# Do we have a (boolean) 1d indexer?\u001b[0m\u001b[1;33m\u001b[0m\u001b[1;33m\u001b[0m\u001b[0m\n\u001b[0;32m   3448\u001b[0m         \u001b[1;32mif\u001b[0m \u001b[0mcom\u001b[0m\u001b[1;33m.\u001b[0m\u001b[0mis_bool_indexer\u001b[0m\u001b[1;33m(\u001b[0m\u001b[0mkey\u001b[0m\u001b[1;33m)\u001b[0m\u001b[1;33m:\u001b[0m\u001b[1;33m\u001b[0m\u001b[1;33m\u001b[0m\u001b[0m\n\u001b[1;32m-> 3449\u001b[1;33m             \u001b[1;32mreturn\u001b[0m \u001b[0mself\u001b[0m\u001b[1;33m.\u001b[0m\u001b[0m_getitem_bool_array\u001b[0m\u001b[1;33m(\u001b[0m\u001b[0mkey\u001b[0m\u001b[1;33m)\u001b[0m\u001b[1;33m\u001b[0m\u001b[1;33m\u001b[0m\u001b[0m\n\u001b[0m\u001b[0;32m   3450\u001b[0m \u001b[1;33m\u001b[0m\u001b[0m\n\u001b[0;32m   3451\u001b[0m         \u001b[1;31m# We are left with two options: a single key, and a collection of keys,\u001b[0m\u001b[1;33m\u001b[0m\u001b[1;33m\u001b[0m\u001b[0m\n",
      "\u001b[1;32mc:\\Users\\679oo\\anaconda3\\lib\\site-packages\\pandas\\core\\frame.py\u001b[0m in \u001b[0;36m_getitem_bool_array\u001b[1;34m(self, key)\u001b[0m\n\u001b[0;32m   3501\u001b[0m         \u001b[1;31m# be reindexed to match DataFrame rows\u001b[0m\u001b[1;33m\u001b[0m\u001b[1;33m\u001b[0m\u001b[0m\n\u001b[0;32m   3502\u001b[0m         \u001b[0mkey\u001b[0m \u001b[1;33m=\u001b[0m \u001b[0mcheck_bool_indexer\u001b[0m\u001b[1;33m(\u001b[0m\u001b[0mself\u001b[0m\u001b[1;33m.\u001b[0m\u001b[0mindex\u001b[0m\u001b[1;33m,\u001b[0m \u001b[0mkey\u001b[0m\u001b[1;33m)\u001b[0m\u001b[1;33m\u001b[0m\u001b[1;33m\u001b[0m\u001b[0m\n\u001b[1;32m-> 3503\u001b[1;33m         \u001b[0mindexer\u001b[0m \u001b[1;33m=\u001b[0m \u001b[0mkey\u001b[0m\u001b[1;33m.\u001b[0m\u001b[0mnonzero\u001b[0m\u001b[1;33m(\u001b[0m\u001b[1;33m)\u001b[0m\u001b[1;33m[\u001b[0m\u001b[1;36m0\u001b[0m\u001b[1;33m]\u001b[0m\u001b[1;33m\u001b[0m\u001b[1;33m\u001b[0m\u001b[0m\n\u001b[0m\u001b[0;32m   3504\u001b[0m         \u001b[1;32mreturn\u001b[0m \u001b[0mself\u001b[0m\u001b[1;33m.\u001b[0m\u001b[0m_take_with_is_copy\u001b[0m\u001b[1;33m(\u001b[0m\u001b[0mindexer\u001b[0m\u001b[1;33m,\u001b[0m \u001b[0maxis\u001b[0m\u001b[1;33m=\u001b[0m\u001b[1;36m0\u001b[0m\u001b[1;33m)\u001b[0m\u001b[1;33m\u001b[0m\u001b[1;33m\u001b[0m\u001b[0m\n\u001b[0;32m   3505\u001b[0m \u001b[1;33m\u001b[0m\u001b[0m\n",
      "\u001b[1;31mKeyboardInterrupt\u001b[0m: "
     ]
    }
   ],
   "source": [
    "station = pd.read_csv('D:\\git_local_repository\\data_for_project\\seoul_bike\\seoul_bike_station_01_12.csv',encoding='CP949',index_col=0)\n",
    "station.rename(columns={'대여소 번호' : 'id'}, inplace=True)\n",
    "wanting_ids = [207]\n",
    "min_time=50\n",
    "max_time=120\n",
    "min_count=50\n",
    "sorted_st_id2=seoul_bike[seoul_bike['st_id1'].isin(wanting_ids)]['st_id2'].value_counts() # 해당 지역에서 이동하는 지역 소팅\n",
    "sorted_st_id2= sorted_st_id2.drop(index=wanting_ids)\n",
    "min_counts=np.where(sorted_st_id2.to_numpy() >= min_count)[0][-1]\n",
    "print(f'검색기준 : 해당 대여소와 최소 {min_count}번 이상 대여기록이 있는 대여소 검색')\n",
    "print(f'총 {min_counts}개 대여소 확보')\n",
    "\n",
    "seoul_bike\n",
    "\n",
    "result_station = []\n",
    "for station_id in notebook.tqdm(sorted_st_id2[:int(min_counts)].index) : \n",
    "    # BM = (seoul_bike['st_id1'].isin(wanting_ids)) & ((seoul_bike['st_id2'].isin([station_id])))\n",
    "    # filter_id = seoul_bike[BM]['riding_time'].value_counts().sort_values(ascending=False)\n",
    "    BM = (seoul_bike['st_id1'] == wanting_ids[0]) & (seoul_bike['st_id2'] == station_id)\n",
    "    filter_id = seoul_bike[BM]['riding_time'].value_counts().sort_values(ascending=False)\n",
    "    try :\n",
    "        mean = filter_id.index[:5].values.mean()\n",
    "        percent = round(sum(filter_id[:5].values)/sum(filter_id),2)\n",
    "        num = sum(filter_id[:5])\n",
    "        total_num = sum(filter_id)\n",
    "        result_station.append([station_id,mean,percent,num,total_num])\n",
    "    except :\n",
    "        pass\n",
    "sorted_ids = pd.DataFrame(result_station)\n"
   ]
  },
  {
   "cell_type": "markdown",
   "metadata": {},
   "source": [
    "**isin이 query보다 빠름**"
   ]
  },
  {
   "cell_type": "code",
   "execution_count": null,
   "metadata": {},
   "outputs": [
    {
     "name": "stdout",
     "output_type": "stream",
     "text": [
      "127 ms ± 9.95 ms per loop (mean ± std. dev. of 7 runs, 10 loops each)\n"
     ]
    }
   ],
   "source": [
    "%%timeit\n",
    "wanting_ids = 207 ; station_id = 754\n",
    "BM = (seoul_bike['st_id1'].isin([wanting_ids])) & ((seoul_bike['st_id2'].isin([station_id])))\n",
    "filter_id = seoul_bike[BM]['riding_time'].value_counts().sort_values(ascending=False)"
   ]
  },
  {
   "cell_type": "code",
   "execution_count": null,
   "metadata": {},
   "outputs": [
    {
     "name": "stdout",
     "output_type": "stream",
     "text": [
      "217 ms ± 6.34 ms per loop (mean ± std. dev. of 7 runs, 1 loop each)\n"
     ]
    }
   ],
   "source": [
    "%%timeit\n",
    "wanting_ids = 207 ; station_id = 754\n",
    "filter_id = seoul_bike.query('st_id1 == @wanting_ids & st_id2 == @station_id')['riding_time'].value_counts().sort_values(ascending=False)"
   ]
  },
  {
   "cell_type": "code",
   "execution_count": null,
   "metadata": {},
   "outputs": [
    {
     "name": "stdout",
     "output_type": "stream",
     "text": [
      "99.5 ms ± 9.56 ms per loop (mean ± std. dev. of 7 runs, 10 loops each)\n"
     ]
    }
   ],
   "source": [
    "%%timeit\n",
    "wanting_ids = 207 ; station_id = 754\n",
    "BM = (seoul_bike['st_id1'] == wanting_ids) & (seoul_bike['st_id2'] == station_id)\n",
    "filter_id = seoul_bike[BM]['riding_time'].value_counts().sort_values(ascending=False)"
   ]
  },
  {
   "cell_type": "markdown",
   "metadata": {},
   "source": [
    "**Row 개수 줄이는 식을 먼저 써야 속도가 빨라진다.**"
   ]
  },
  {
   "cell_type": "code",
   "execution_count": null,
   "metadata": {},
   "outputs": [
    {
     "name": "stdout",
     "output_type": "stream",
     "text": [
      "44.1 ms ± 2.16 ms per loop (mean ± std. dev. of 7 runs, 10 loops each)\n"
     ]
    }
   ],
   "source": [
    "# %%timeit\n",
    "# wanting_ids = 754\n",
    "# sorted_st_id2=seoul_bike[seoul_bike['st_id1'] == wanting_ids]['st_id2'].value_counts() # 해당 지역에서 이동하는 지역 소팅"
   ]
  },
  {
   "cell_type": "code",
   "execution_count": null,
   "metadata": {},
   "outputs": [
    {
     "name": "stdout",
     "output_type": "stream",
     "text": [
      "62.1 ms ± 3.21 ms per loop (mean ± std. dev. of 7 runs, 10 loops each)\n"
     ]
    }
   ],
   "source": [
    "# %%timeit\n",
    "# wanting_ids = 754\n",
    "# sorted_st_id2=seoul_bike['st_id2'][seoul_bike['st_id1'] == wanting_ids].value_counts() # 해당 지역에서 이동하는 지역 소팅"
   ]
  },
  {
   "cell_type": "markdown",
   "metadata": {},
   "source": [
    "### 위에부터 테스트용"
   ]
  },
  {
   "cell_type": "markdown",
   "metadata": {},
   "source": [
    "### 대여소별 따릉이 여행지 추천"
   ]
  },
  {
   "cell_type": "code",
   "execution_count": 28,
   "metadata": {},
   "outputs": [
    {
     "name": "stdout",
     "output_type": "stream",
     "text": [
      "peak memory: 918.60 MiB, increment: 0.00 MiB\n"
     ]
    }
   ],
   "source": [
    "def searching_location(wanting_ids,min_time=1,max_time=60,min_count=50) : \n",
    "    station = pd.read_csv('D:\\git_local_repository\\data_for_project\\seoul_bike\\seoul_bike_station_01_12.csv',encoding='CP949',index_col=0)\n",
    "    station.rename(columns={'대여소 번호' : 'id'}, inplace=True)\n",
    "    sorted_st_id2=seoul_bike.query('st_id1 == @wanting_ids')['st_id2'].value_counts() # 해당 지역에서 이동하는 지역 소팅\n",
    "    sorted_st_id2=seoul_bike[seoul_bike['st_id1'] == wanting_ids]['st_id2'].value_counts() # 해당 지역에서 이동하는 지역 소팅\n",
    "\n",
    "    sorted_st_id2= sorted_st_id2.drop(index=wanting_ids)\n",
    "    min_counts=np.where(sorted_st_id2 >= min_count)[0][-1]\n",
    "    print(f'검색기준 : 해당 대여소와 최소 {min_count}번 이상 대여기록이 있는 대여소 검색')\n",
    "    print(f'총 {min_counts}개 대여소 확보')\n",
    "    result_station = []\n",
    "    for station_id in notebook.tqdm(sorted_st_id2[:min_counts].index) : \n",
    "        # 가장 단순하지만 loop에서 9.21 it/s로 제일빠름\n",
    "        BM = (seoul_bike['st_id1'] == wanting_ids) & (seoul_bike['st_id2'] == station_id)\n",
    "        filter_id = seoul_bike[BM]['riding_time'].value_counts().sort_values(ascending=False)\n",
    "        \n",
    "        ## 여러 값을 한 번에 계산한다는 장점이 있지만 상대적으로 느림 Loop 7.44 it/s\n",
    "        # BM = (seoul_bike['st_id1'].isin([wanting_ids])) & ((seoul_bike['st_id2'].isin([station_id])))\n",
    "        # filter_id = seoul_bike['riding_time'][BM].value_counts().sort_values(ascending=False)\n",
    "\n",
    "        # 시각적으로 직관적이고 간단하게 작성할 수 있음. 그러나 Loop 3.21 it/s 임. 심한 경우 1.44 it/s인 경우도 발생\n",
    "        # filter_id = seoul_bike.query('st_id1 == @wanting_ids & st_id2 == @station_id')['riding_time'].value_counts().sort_values(ascending=False)\n",
    "        try :\n",
    "            mean = filter_id.index[:3].values.mean()\n",
    "            percent = round(sum(filter_id[:3].values)/sum(filter_id),2)\n",
    "            num = sum(filter_id[:3])\n",
    "            total_num = sum(filter_id)\n",
    "            result_station.append([station_id,mean,percent,num,total_num])\n",
    "        except :\n",
    "            pass\n",
    "    \n",
    "    sorted_ids = pd.DataFrame(result_station,columns=['id','est_time','percent','num','total_num']).query('num > 10 & @min_time <= est_time <= @max_time')\n",
    "    sorted_ids.columns = ['id', '예상도착시간', '비율','예상시간 내 도착 횟수' ,'대여소 이용 이력']\n",
    "    return pd.merge(sorted_ids, station, how='left', on='id').sort_values(by='예상도착시간',ascending=False)\n",
    "\n",
    "\n",
    "# trip_id = 207\n",
    "# result_test = searching_location(trip_id, min_time=15, max_time=60, min_count=50)\n",
    "\n",
    "# 10.66it/s 1083.75mb\n",
    "# 7.28it/s 1101.96mb\n",
    "# 5.12it/s 1099.29mib"
   ]
  },
  {
   "cell_type": "markdown",
   "metadata": {},
   "source": [
    "**대여소 추천 그래프**"
   ]
  },
  {
   "cell_type": "code",
   "execution_count": 30,
   "metadata": {},
   "outputs": [
    {
     "name": "stdout",
     "output_type": "stream",
     "text": [
      "검색기준 : 해당 대여소와 최소 50번 이상 대여기록이 있는 대여소 검색\n",
      "총 34개 대여소 확보\n"
     ]
    },
    {
     "data": {
      "application/vnd.jupyter.widget-view+json": {
       "model_id": "4d98f1ba713c475a9a53ba4ec25d9eb7",
       "version_major": 2,
       "version_minor": 0
      },
      "text/plain": [
       "  0%|          | 0/34 [00:00<?, ?it/s]"
      ]
     },
     "metadata": {},
     "output_type": "display_data"
    },
    {
     "data": {
      "application/vnd.plotly.v1+json": {
       "config": {
        "plotlyServerURL": "https://plot.ly"
       },
       "data": [
        {
         "customdata": [
          [
           34,
           0.44,
           24,
           54,
           1984
          ],
          [
           17,
           0.28,
           19,
           68,
           785
          ],
          [
           29,
           0.64,
           49,
           76,
           1961
          ],
          [
           18,
           0.6,
           51,
           85,
           786
          ],
          [
           52,
           0.37,
           34,
           91,
           2027
          ],
          [
           52,
           0.37,
           34,
           91,
           2027
          ],
          [
           50,
           0.57,
           96,
           169,
           223
          ]
         ],
         "hovertemplate": "<b>%{hovertext}</b><br><br>대여소 이용 이력=%{customdata[3]}<br>위도=%{lat}<br>경도=%{lon}<br>예상도착시간=%{marker.color}<br>비율=%{customdata[1]}<br>예상시간 내 도착 횟수=%{customdata[2]}<br>id=%{customdata[4]}<extra></extra>",
         "hovertext": [
          "구로구청",
          "양천구청, 보건소 사잇길",
          "신도림테크노근린공원",
          "목동아파트 8단지 상가동 앞",
          "중앙대학교 정문 1",
          "중앙대학교 정문",
          "진주아파트상가 앞"
         ],
         "lat": [
          37.495266,
          37.517326,
          37.508194,
          37.520439,
          37.50704193,
          37.507042,
          37.519314
         ],
         "legendgroup": "",
         "lon": [
          126.888474,
          126.866303,
          126.891304,
          126.868401,
          126.9591522,
          126.959152,
          126.933167
         ],
         "marker": {
          "color": [
           34,
           17,
           29,
           18,
           52,
           52,
           50
          ],
          "coloraxis": "coloraxis",
          "opacity": 0.6,
          "size": [
           54,
           68,
           76,
           85,
           91,
           91,
           169
          ],
          "sizemode": "area",
          "sizeref": 0.4225
         },
         "mode": "markers",
         "name": "",
         "showlegend": false,
         "subplot": "mapbox",
         "type": "scattermapbox"
        },
        {
         "lat": [
          37.541142
         ],
         "lon": [
          126.876678
         ],
         "marker": {
          "color": "black",
          "opacity": 0.8,
          "size": 10
         },
         "mode": "markers",
         "name": "location",
         "text": [
          "목동1단지아파트 118동 앞 (월촌초등학교 정류소 옆"
         ],
         "type": "scattermapbox"
        }
       ],
       "layout": {
        "coloraxis": {
         "colorbar": {
          "title": {
           "text": "예상도착시간"
          }
         },
         "colorscale": [
          [
           0,
           "#0d0887"
          ],
          [
           0.1111111111111111,
           "#46039f"
          ],
          [
           0.2222222222222222,
           "#7201a8"
          ],
          [
           0.3333333333333333,
           "#9c179e"
          ],
          [
           0.4444444444444444,
           "#bd3786"
          ],
          [
           0.5555555555555556,
           "#d8576b"
          ],
          [
           0.6666666666666666,
           "#ed7953"
          ],
          [
           0.7777777777777778,
           "#fb9f3a"
          ],
          [
           0.8888888888888888,
           "#fdca26"
          ],
          [
           1,
           "#f0f921"
          ]
         ]
        },
        "height": 500,
        "legend": {
         "itemsizing": "constant",
         "tracegroupgap": 0
        },
        "mapbox": {
         "center": {
          "lat": 37.51066041857143,
          "lon": 126.9094218857143
         },
         "domain": {
          "x": [
           0,
           1
          ],
          "y": [
           0,
           1
          ]
         },
         "style": "carto-positron",
         "zoom": 10
        },
        "margin": {
         "t": 60
        },
        "template": {
         "data": {
          "bar": [
           {
            "error_x": {
             "color": "#2a3f5f"
            },
            "error_y": {
             "color": "#2a3f5f"
            },
            "marker": {
             "line": {
              "color": "#E5ECF6",
              "width": 0.5
             },
             "pattern": {
              "fillmode": "overlay",
              "size": 10,
              "solidity": 0.2
             }
            },
            "type": "bar"
           }
          ],
          "barpolar": [
           {
            "marker": {
             "line": {
              "color": "#E5ECF6",
              "width": 0.5
             },
             "pattern": {
              "fillmode": "overlay",
              "size": 10,
              "solidity": 0.2
             }
            },
            "type": "barpolar"
           }
          ],
          "carpet": [
           {
            "aaxis": {
             "endlinecolor": "#2a3f5f",
             "gridcolor": "white",
             "linecolor": "white",
             "minorgridcolor": "white",
             "startlinecolor": "#2a3f5f"
            },
            "baxis": {
             "endlinecolor": "#2a3f5f",
             "gridcolor": "white",
             "linecolor": "white",
             "minorgridcolor": "white",
             "startlinecolor": "#2a3f5f"
            },
            "type": "carpet"
           }
          ],
          "choropleth": [
           {
            "colorbar": {
             "outlinewidth": 0,
             "ticks": ""
            },
            "type": "choropleth"
           }
          ],
          "contour": [
           {
            "colorbar": {
             "outlinewidth": 0,
             "ticks": ""
            },
            "colorscale": [
             [
              0,
              "#0d0887"
             ],
             [
              0.1111111111111111,
              "#46039f"
             ],
             [
              0.2222222222222222,
              "#7201a8"
             ],
             [
              0.3333333333333333,
              "#9c179e"
             ],
             [
              0.4444444444444444,
              "#bd3786"
             ],
             [
              0.5555555555555556,
              "#d8576b"
             ],
             [
              0.6666666666666666,
              "#ed7953"
             ],
             [
              0.7777777777777778,
              "#fb9f3a"
             ],
             [
              0.8888888888888888,
              "#fdca26"
             ],
             [
              1,
              "#f0f921"
             ]
            ],
            "type": "contour"
           }
          ],
          "contourcarpet": [
           {
            "colorbar": {
             "outlinewidth": 0,
             "ticks": ""
            },
            "type": "contourcarpet"
           }
          ],
          "heatmap": [
           {
            "colorbar": {
             "outlinewidth": 0,
             "ticks": ""
            },
            "colorscale": [
             [
              0,
              "#0d0887"
             ],
             [
              0.1111111111111111,
              "#46039f"
             ],
             [
              0.2222222222222222,
              "#7201a8"
             ],
             [
              0.3333333333333333,
              "#9c179e"
             ],
             [
              0.4444444444444444,
              "#bd3786"
             ],
             [
              0.5555555555555556,
              "#d8576b"
             ],
             [
              0.6666666666666666,
              "#ed7953"
             ],
             [
              0.7777777777777778,
              "#fb9f3a"
             ],
             [
              0.8888888888888888,
              "#fdca26"
             ],
             [
              1,
              "#f0f921"
             ]
            ],
            "type": "heatmap"
           }
          ],
          "heatmapgl": [
           {
            "colorbar": {
             "outlinewidth": 0,
             "ticks": ""
            },
            "colorscale": [
             [
              0,
              "#0d0887"
             ],
             [
              0.1111111111111111,
              "#46039f"
             ],
             [
              0.2222222222222222,
              "#7201a8"
             ],
             [
              0.3333333333333333,
              "#9c179e"
             ],
             [
              0.4444444444444444,
              "#bd3786"
             ],
             [
              0.5555555555555556,
              "#d8576b"
             ],
             [
              0.6666666666666666,
              "#ed7953"
             ],
             [
              0.7777777777777778,
              "#fb9f3a"
             ],
             [
              0.8888888888888888,
              "#fdca26"
             ],
             [
              1,
              "#f0f921"
             ]
            ],
            "type": "heatmapgl"
           }
          ],
          "histogram": [
           {
            "marker": {
             "pattern": {
              "fillmode": "overlay",
              "size": 10,
              "solidity": 0.2
             }
            },
            "type": "histogram"
           }
          ],
          "histogram2d": [
           {
            "colorbar": {
             "outlinewidth": 0,
             "ticks": ""
            },
            "colorscale": [
             [
              0,
              "#0d0887"
             ],
             [
              0.1111111111111111,
              "#46039f"
             ],
             [
              0.2222222222222222,
              "#7201a8"
             ],
             [
              0.3333333333333333,
              "#9c179e"
             ],
             [
              0.4444444444444444,
              "#bd3786"
             ],
             [
              0.5555555555555556,
              "#d8576b"
             ],
             [
              0.6666666666666666,
              "#ed7953"
             ],
             [
              0.7777777777777778,
              "#fb9f3a"
             ],
             [
              0.8888888888888888,
              "#fdca26"
             ],
             [
              1,
              "#f0f921"
             ]
            ],
            "type": "histogram2d"
           }
          ],
          "histogram2dcontour": [
           {
            "colorbar": {
             "outlinewidth": 0,
             "ticks": ""
            },
            "colorscale": [
             [
              0,
              "#0d0887"
             ],
             [
              0.1111111111111111,
              "#46039f"
             ],
             [
              0.2222222222222222,
              "#7201a8"
             ],
             [
              0.3333333333333333,
              "#9c179e"
             ],
             [
              0.4444444444444444,
              "#bd3786"
             ],
             [
              0.5555555555555556,
              "#d8576b"
             ],
             [
              0.6666666666666666,
              "#ed7953"
             ],
             [
              0.7777777777777778,
              "#fb9f3a"
             ],
             [
              0.8888888888888888,
              "#fdca26"
             ],
             [
              1,
              "#f0f921"
             ]
            ],
            "type": "histogram2dcontour"
           }
          ],
          "mesh3d": [
           {
            "colorbar": {
             "outlinewidth": 0,
             "ticks": ""
            },
            "type": "mesh3d"
           }
          ],
          "parcoords": [
           {
            "line": {
             "colorbar": {
              "outlinewidth": 0,
              "ticks": ""
             }
            },
            "type": "parcoords"
           }
          ],
          "pie": [
           {
            "automargin": true,
            "type": "pie"
           }
          ],
          "scatter": [
           {
            "fillpattern": {
             "fillmode": "overlay",
             "size": 10,
             "solidity": 0.2
            },
            "type": "scatter"
           }
          ],
          "scatter3d": [
           {
            "line": {
             "colorbar": {
              "outlinewidth": 0,
              "ticks": ""
             }
            },
            "marker": {
             "colorbar": {
              "outlinewidth": 0,
              "ticks": ""
             }
            },
            "type": "scatter3d"
           }
          ],
          "scattercarpet": [
           {
            "marker": {
             "colorbar": {
              "outlinewidth": 0,
              "ticks": ""
             }
            },
            "type": "scattercarpet"
           }
          ],
          "scattergeo": [
           {
            "marker": {
             "colorbar": {
              "outlinewidth": 0,
              "ticks": ""
             }
            },
            "type": "scattergeo"
           }
          ],
          "scattergl": [
           {
            "marker": {
             "colorbar": {
              "outlinewidth": 0,
              "ticks": ""
             }
            },
            "type": "scattergl"
           }
          ],
          "scattermapbox": [
           {
            "marker": {
             "colorbar": {
              "outlinewidth": 0,
              "ticks": ""
             }
            },
            "type": "scattermapbox"
           }
          ],
          "scatterpolar": [
           {
            "marker": {
             "colorbar": {
              "outlinewidth": 0,
              "ticks": ""
             }
            },
            "type": "scatterpolar"
           }
          ],
          "scatterpolargl": [
           {
            "marker": {
             "colorbar": {
              "outlinewidth": 0,
              "ticks": ""
             }
            },
            "type": "scatterpolargl"
           }
          ],
          "scatterternary": [
           {
            "marker": {
             "colorbar": {
              "outlinewidth": 0,
              "ticks": ""
             }
            },
            "type": "scatterternary"
           }
          ],
          "surface": [
           {
            "colorbar": {
             "outlinewidth": 0,
             "ticks": ""
            },
            "colorscale": [
             [
              0,
              "#0d0887"
             ],
             [
              0.1111111111111111,
              "#46039f"
             ],
             [
              0.2222222222222222,
              "#7201a8"
             ],
             [
              0.3333333333333333,
              "#9c179e"
             ],
             [
              0.4444444444444444,
              "#bd3786"
             ],
             [
              0.5555555555555556,
              "#d8576b"
             ],
             [
              0.6666666666666666,
              "#ed7953"
             ],
             [
              0.7777777777777778,
              "#fb9f3a"
             ],
             [
              0.8888888888888888,
              "#fdca26"
             ],
             [
              1,
              "#f0f921"
             ]
            ],
            "type": "surface"
           }
          ],
          "table": [
           {
            "cells": {
             "fill": {
              "color": "#EBF0F8"
             },
             "line": {
              "color": "white"
             }
            },
            "header": {
             "fill": {
              "color": "#C8D4E3"
             },
             "line": {
              "color": "white"
             }
            },
            "type": "table"
           }
          ]
         },
         "layout": {
          "annotationdefaults": {
           "arrowcolor": "#2a3f5f",
           "arrowhead": 0,
           "arrowwidth": 1
          },
          "autotypenumbers": "strict",
          "coloraxis": {
           "colorbar": {
            "outlinewidth": 0,
            "ticks": ""
           }
          },
          "colorscale": {
           "diverging": [
            [
             0,
             "#8e0152"
            ],
            [
             0.1,
             "#c51b7d"
            ],
            [
             0.2,
             "#de77ae"
            ],
            [
             0.3,
             "#f1b6da"
            ],
            [
             0.4,
             "#fde0ef"
            ],
            [
             0.5,
             "#f7f7f7"
            ],
            [
             0.6,
             "#e6f5d0"
            ],
            [
             0.7,
             "#b8e186"
            ],
            [
             0.8,
             "#7fbc41"
            ],
            [
             0.9,
             "#4d9221"
            ],
            [
             1,
             "#276419"
            ]
           ],
           "sequential": [
            [
             0,
             "#0d0887"
            ],
            [
             0.1111111111111111,
             "#46039f"
            ],
            [
             0.2222222222222222,
             "#7201a8"
            ],
            [
             0.3333333333333333,
             "#9c179e"
            ],
            [
             0.4444444444444444,
             "#bd3786"
            ],
            [
             0.5555555555555556,
             "#d8576b"
            ],
            [
             0.6666666666666666,
             "#ed7953"
            ],
            [
             0.7777777777777778,
             "#fb9f3a"
            ],
            [
             0.8888888888888888,
             "#fdca26"
            ],
            [
             1,
             "#f0f921"
            ]
           ],
           "sequentialminus": [
            [
             0,
             "#0d0887"
            ],
            [
             0.1111111111111111,
             "#46039f"
            ],
            [
             0.2222222222222222,
             "#7201a8"
            ],
            [
             0.3333333333333333,
             "#9c179e"
            ],
            [
             0.4444444444444444,
             "#bd3786"
            ],
            [
             0.5555555555555556,
             "#d8576b"
            ],
            [
             0.6666666666666666,
             "#ed7953"
            ],
            [
             0.7777777777777778,
             "#fb9f3a"
            ],
            [
             0.8888888888888888,
             "#fdca26"
            ],
            [
             1,
             "#f0f921"
            ]
           ]
          },
          "colorway": [
           "#636efa",
           "#EF553B",
           "#00cc96",
           "#ab63fa",
           "#FFA15A",
           "#19d3f3",
           "#FF6692",
           "#B6E880",
           "#FF97FF",
           "#FECB52"
          ],
          "font": {
           "color": "#2a3f5f"
          },
          "geo": {
           "bgcolor": "white",
           "lakecolor": "white",
           "landcolor": "#E5ECF6",
           "showlakes": true,
           "showland": true,
           "subunitcolor": "white"
          },
          "hoverlabel": {
           "align": "left"
          },
          "hovermode": "closest",
          "mapbox": {
           "style": "light"
          },
          "paper_bgcolor": "white",
          "plot_bgcolor": "#E5ECF6",
          "polar": {
           "angularaxis": {
            "gridcolor": "white",
            "linecolor": "white",
            "ticks": ""
           },
           "bgcolor": "#E5ECF6",
           "radialaxis": {
            "gridcolor": "white",
            "linecolor": "white",
            "ticks": ""
           }
          },
          "scene": {
           "xaxis": {
            "backgroundcolor": "#E5ECF6",
            "gridcolor": "white",
            "gridwidth": 2,
            "linecolor": "white",
            "showbackground": true,
            "ticks": "",
            "zerolinecolor": "white"
           },
           "yaxis": {
            "backgroundcolor": "#E5ECF6",
            "gridcolor": "white",
            "gridwidth": 2,
            "linecolor": "white",
            "showbackground": true,
            "ticks": "",
            "zerolinecolor": "white"
           },
           "zaxis": {
            "backgroundcolor": "#E5ECF6",
            "gridcolor": "white",
            "gridwidth": 2,
            "linecolor": "white",
            "showbackground": true,
            "ticks": "",
            "zerolinecolor": "white"
           }
          },
          "shapedefaults": {
           "line": {
            "color": "#2a3f5f"
           }
          },
          "ternary": {
           "aaxis": {
            "gridcolor": "white",
            "linecolor": "white",
            "ticks": ""
           },
           "baxis": {
            "gridcolor": "white",
            "linecolor": "white",
            "ticks": ""
           },
           "bgcolor": "#E5ECF6",
           "caxis": {
            "gridcolor": "white",
            "linecolor": "white",
            "ticks": ""
           }
          },
          "title": {
           "x": 0.05
          },
          "xaxis": {
           "automargin": true,
           "gridcolor": "white",
           "linecolor": "white",
           "ticks": "",
           "title": {
            "standoff": 15
           },
           "zerolinecolor": "white",
           "zerolinewidth": 2
          },
          "yaxis": {
           "automargin": true,
           "gridcolor": "white",
           "linecolor": "white",
           "ticks": "",
           "title": {
            "standoff": 15
           },
           "zerolinecolor": "white",
           "zerolinewidth": 2
          }
         }
        }
       }
      }
     },
     "metadata": {},
     "output_type": "display_data"
    }
   ],
   "source": [
    "trip_id = 754\n",
    "result_test = searching_location(trip_id, min_time=15, max_time=60, min_count=50)\n",
    "\n",
    "### 그래프 그리기 \n",
    "# 지역 순위 표시\n",
    "fig=px.scatter_mapbox(result_test.sort_values(by='대여소 이용 이력')[:10].dropna(), \n",
    "                        lat=\"위도\",lon=\"경도\",\n",
    "                        hover_name=\"주소2\",\n",
    "                        hover_data=['예상도착시간','비율','예상시간 내 도착 횟수','대여소 이용 이력','id'],\n",
    "                        color='예상도착시간',opacity=0.6,\n",
    "                        # size='예상도착시간',\n",
    "                        size='대여소 이용 이력',size_max=20,\n",
    "                        # color_discrete_map = {'해당 대여소로 향하는 지역': 'navy', '이동량이 비슷한 지역': 'palegreen', '해당 대여소에서 주로 가는 지역': 'burlywood'},\n",
    "                        zoom=10,height=500,)\n",
    "\n",
    "\n",
    "\n",
    "# 해당 따릉이 대여소 색 표시\n",
    "fig_3 = go.Figure(go.Scattermapbox(\n",
    "        name='location',\n",
    "        lat=station.query('id==@trip_id')['위도'],\n",
    "        lon=station.query('id==@trip_id')['경도'],\n",
    "        mode='markers',\n",
    "        # marker = {'size': 20, 'symbol': \"bus\"},\n",
    "        marker=go.scattermapbox.Marker(size=10,color='black',opacity=0.8),\n",
    "        text=station.query('id==@trip_id')['주소2'].values,\n",
    "    ))                            \n",
    "fig.add_trace(fig_3.data[0])\n",
    "fig.update_layout(mapbox_style=\"carto-positron\")\n",
    "\n"
   ]
  },
  {
   "cell_type": "code",
   "execution_count": null,
   "metadata": {},
   "outputs": [
    {
     "ename": "NameError",
     "evalue": "name 'haversine_np' is not defined",
     "output_type": "error",
     "traceback": [
      "\u001b[1;31m---------------------------------------------------------------------------\u001b[0m",
      "\u001b[1;31mNameError\u001b[0m                                 Traceback (most recent call last)",
      "\u001b[1;32m~\\AppData\\Local\\Temp/ipykernel_13384/1764703514.py\u001b[0m in \u001b[0;36m<module>\u001b[1;34m\u001b[0m\n\u001b[0;32m      1\u001b[0m \u001b[1;31m### 대여소 별 거리 측정\u001b[0m\u001b[1;33m\u001b[0m\u001b[1;33m\u001b[0m\u001b[0m\n\u001b[0;32m      2\u001b[0m \u001b[0masd\u001b[0m \u001b[1;33m=\u001b[0m \u001b[0mstation\u001b[0m\u001b[1;33m.\u001b[0m\u001b[0mquery\u001b[0m\u001b[1;33m(\u001b[0m\u001b[1;34m'id ==[744,766]'\u001b[0m\u001b[1;33m)\u001b[0m\u001b[1;33m\u001b[0m\u001b[1;33m\u001b[0m\u001b[0m\n\u001b[1;32m----> 3\u001b[1;33m \u001b[0mhaversine_np\u001b[0m\u001b[1;33m(\u001b[0m\u001b[0masd\u001b[0m\u001b[1;33m.\u001b[0m\u001b[0miloc\u001b[0m\u001b[1;33m[\u001b[0m\u001b[1;36m0\u001b[0m\u001b[1;33m,\u001b[0m\u001b[1;33m-\u001b[0m\u001b[1;36m3\u001b[0m\u001b[1;33m]\u001b[0m\u001b[1;33m,\u001b[0m\u001b[0masd\u001b[0m\u001b[1;33m.\u001b[0m\u001b[0miloc\u001b[0m\u001b[1;33m[\u001b[0m\u001b[1;36m0\u001b[0m\u001b[1;33m,\u001b[0m\u001b[1;33m-\u001b[0m\u001b[1;36m2\u001b[0m\u001b[1;33m]\u001b[0m\u001b[1;33m,\u001b[0m\u001b[0masd\u001b[0m\u001b[1;33m.\u001b[0m\u001b[0miloc\u001b[0m\u001b[1;33m[\u001b[0m\u001b[1;36m1\u001b[0m\u001b[1;33m,\u001b[0m\u001b[1;33m-\u001b[0m\u001b[1;36m3\u001b[0m\u001b[1;33m]\u001b[0m\u001b[1;33m,\u001b[0m\u001b[0masd\u001b[0m\u001b[1;33m.\u001b[0m\u001b[0miloc\u001b[0m\u001b[1;33m[\u001b[0m\u001b[1;36m1\u001b[0m\u001b[1;33m,\u001b[0m\u001b[1;33m-\u001b[0m\u001b[1;36m2\u001b[0m\u001b[1;33m]\u001b[0m\u001b[1;33m)\u001b[0m\u001b[1;33m\u001b[0m\u001b[1;33m\u001b[0m\u001b[0m\n\u001b[0m\u001b[0;32m      4\u001b[0m \u001b[1;31m# station[station['주소2'].str.contains(\"월촌중\")]\u001b[0m\u001b[1;33m\u001b[0m\u001b[1;33m\u001b[0m\u001b[0m\n\u001b[0;32m      5\u001b[0m \u001b[1;31m# station.query('id == 744')\u001b[0m\u001b[1;33m\u001b[0m\u001b[1;33m\u001b[0m\u001b[0m\n",
      "\u001b[1;31mNameError\u001b[0m: name 'haversine_np' is not defined"
     ]
    }
   ],
   "source": [
    "# ### 대여소 별 거리 측정\n",
    "# asd = station.query('id ==[744,766]')\n",
    "# haversine_np(asd.iloc[0,-3],asd.iloc[0,-2],asd.iloc[1,-3],asd.iloc[1,-2])\n",
    "# # station[station['주소2'].str.contains(\"월촌중\")]\n",
    "# # station.query('id == 744')"
   ]
  },
  {
   "cell_type": "code",
   "execution_count": 18,
   "metadata": {},
   "outputs": [
    {
     "data": {
      "application/vnd.plotly.v1+json": {
       "config": {
        "plotlyServerURL": "https://plot.ly"
       },
       "data": [
        {
         "customdata": [
          [
           281,
           323,
           345
          ],
          [
           314,
           308,
           380
          ],
          [
           312,
           298,
           390
          ],
          [
           816,
           758,
           4792
          ]
         ],
         "hovertemplate": "<b>%{hovertext}</b><br><br>category=이동량이 비슷한 지역<br>diff=%{marker.size}<br>위도=%{lat}<br>경도=%{lon}<br>1to2=%{customdata[0]}<br>2to1=%{customdata[1]}<br>id=%{customdata[2]}<extra></extra>",
         "hovertext": [
          "서울보증보험본사 앞",
          "CJ제일제당 앞",
          "충무로역 1번출구",
          "퇴계로4가 교차로(중구청)"
         ],
         "lat": [
          37.573307,
          37.563866,
          37.56139,
          37.5625267
         ],
         "legendgroup": "이동량이 비슷한 지역",
         "lon": [
          127.00071,
          127.002747,
          126.995354,
          126.9983139
         ],
         "marker": {
          "color": "hotpink",
          "opacity": 0.7,
          "size": [
           142,
           106,
           114,
           158
          ],
          "sizemode": "area",
          "sizeref": 1.1875
         },
         "mode": "markers",
         "name": "이동량이 비슷한 지역",
         "showlegend": true,
         "subplot": "mapbox",
         "type": "scattermapbox"
        },
        {
         "customdata": [
          [
           770,
           395,
           3413
          ]
         ],
         "hovertemplate": "<b>%{hovertext}</b><br><br>category=해당 대여소에서 주로 가는 지역<br>diff=%{marker.size}<br>위도=%{lat}<br>경도=%{lon}<br>1to2=%{customdata[0]}<br>2to1=%{customdata[1]}<br>id=%{customdata[2]}<extra></extra>",
         "hovertext": [
          "종로플레이스"
         ],
         "lat": [
          37.5732
         ],
         "legendgroup": "해당 대여소에서 주로 가는 지역",
         "lon": [
          126.997963
         ],
         "marker": {
          "color": "coral",
          "opacity": 0.7,
          "size": [
           475
          ],
          "sizemode": "area",
          "sizeref": 1.1875
         },
         "mode": "markers",
         "name": "해당 대여소에서 주로 가는 지역",
         "showlegend": true,
         "subplot": "mapbox",
         "type": "scattermapbox"
        },
        {
         "lat": [
          37.564476,
          37.570396,
          37.568344,
          37.566383,
          37.56599,
          37.570599,
          37.570198,
          37.562618,
          37.570957,
          37.571068,
          37.573307,
          37.565331,
          37.563866,
          37.566994,
          37.56673,
          37.56139,
          37.57048,
          37.566559,
          37.5644,
          37.562172,
          37.571239,
          37.57114,
          37.570961,
          37.567871,
          37.566299,
          37.559288,
          37.56761551,
          37.571854,
          37.572037,
          37.570702,
          37.570313,
          37.5732,
          37.571175,
          37.569992,
          37.56855774,
          37.56467056,
          37.56520844,
          37.56459045,
          37.56689835,
          37.5625267,
          37.56430817,
          37.55958557
         ],
         "lon": [
          126.986969,
          126.98819,
          126.987892,
          126.987206,
          126.987793,
          126.991791,
          126.991257,
          126.992836,
          126.997124,
          126.998192,
          127.00071,
          127.007843,
          127.002747,
          127.003464,
          126.996605,
          126.995354,
          126.996635,
          126.992439,
          126.991432,
          127.006264,
          127.00441,
          127.000671,
          127.006058,
          126.988983,
          127.008492,
          127.002686,
          126.9872437,
          127.002358,
          126.991844,
          126.994812,
          126.994545,
          126.997963,
          127.002228,
          126.988342,
          126.9921188,
          126.9908829,
          126.9874268,
          126.9907684,
          126.9877396,
          126.9983139,
          127.0064774,
          127.0054703
         ],
         "marker": {
          "color": "black",
          "opacity": 0.2,
          "size": 8
         },
         "mode": "markers",
         "name": "station with in 1.0km",
         "text": [
          "명동성당 앞",
          "탑골공원 앞",
          "청계2가 사거리 옆",
          "을지로2가 사거리 북측",
          "을지로2가 사거리 남측",
          "종로3가역 2번출구 뒤",
          "종로3가역 15번출구 앞",
          "티마크 호텔 앞",
          "세운스퀘어 앞",
          "종로4가 사거리",
          "서울보증보험본사 앞",
          "동대문역사문화공원역 9번출구 앞",
          "CJ제일제당 앞",
          "훈련원공원주차장 앞",
          "을지로4가역 1번출구",
          "충무로역 1번출구",
          "종묘공영주차장 건너편",
          "을지로3가역 3번출구",
          "명보사거리",
          "KEB하나은행 장충동지점",
          "동대문 종합시장 버스정류장",
          "종로오가 지하쇼핑센터 14번출구",
          "삼익한의원",
          "삼일교(시그니쳐 타워)",
          "동대문역사문화공원역 1번출구 뒤편",
          "앰배서더 호텔 주변",
          "서울고용노동청본청",
          "서울특별시 중부교육지원청",
          "종로3가역 8번출구",
          "종묘",
          "세운상가",
          "종로플레이스",
          "종로5가역 4번출구",
          "종로2가 사거리",
          "청계3가 사거리",
          "탐앤탐스 을지로3가점",
          "대신파이낸스센터",
          "중부경찰서앞 사거리",
          "롯데시티호텔",
          "퇴계로4가 교차로(중구청)",
          "동대문역사문화공원역 5번출구",
          "태극당"
         ],
         "type": "scattermapbox"
        },
        {
         "lat": [
          37.566051
         ],
         "lon": [
          126.997986
         ],
         "marker": {
          "color": "fuchsia",
          "opacity": 0.8,
          "size": 10
         },
         "mode": "markers",
         "name": "location",
         "text": [
          "을지로4가역 9번출구"
         ],
         "type": "scattermapbox"
        }
       ],
       "layout": {
        "height": 500,
        "legend": {
         "itemsizing": "constant",
         "title": {
          "text": "category"
         },
         "tracegroupgap": 0
        },
        "mapbox": {
         "center": {
          "lat": 37.56685794,
          "lon": 126.99901757999999
         },
         "domain": {
          "x": [
           0,
           1
          ],
          "y": [
           0,
           1
          ]
         },
         "style": "carto-positron",
         "zoom": 12
        },
        "margin": {
         "t": 60
        },
        "template": {
         "data": {
          "bar": [
           {
            "error_x": {
             "color": "#2a3f5f"
            },
            "error_y": {
             "color": "#2a3f5f"
            },
            "marker": {
             "line": {
              "color": "#E5ECF6",
              "width": 0.5
             },
             "pattern": {
              "fillmode": "overlay",
              "size": 10,
              "solidity": 0.2
             }
            },
            "type": "bar"
           }
          ],
          "barpolar": [
           {
            "marker": {
             "line": {
              "color": "#E5ECF6",
              "width": 0.5
             },
             "pattern": {
              "fillmode": "overlay",
              "size": 10,
              "solidity": 0.2
             }
            },
            "type": "barpolar"
           }
          ],
          "carpet": [
           {
            "aaxis": {
             "endlinecolor": "#2a3f5f",
             "gridcolor": "white",
             "linecolor": "white",
             "minorgridcolor": "white",
             "startlinecolor": "#2a3f5f"
            },
            "baxis": {
             "endlinecolor": "#2a3f5f",
             "gridcolor": "white",
             "linecolor": "white",
             "minorgridcolor": "white",
             "startlinecolor": "#2a3f5f"
            },
            "type": "carpet"
           }
          ],
          "choropleth": [
           {
            "colorbar": {
             "outlinewidth": 0,
             "ticks": ""
            },
            "type": "choropleth"
           }
          ],
          "contour": [
           {
            "colorbar": {
             "outlinewidth": 0,
             "ticks": ""
            },
            "colorscale": [
             [
              0,
              "#0d0887"
             ],
             [
              0.1111111111111111,
              "#46039f"
             ],
             [
              0.2222222222222222,
              "#7201a8"
             ],
             [
              0.3333333333333333,
              "#9c179e"
             ],
             [
              0.4444444444444444,
              "#bd3786"
             ],
             [
              0.5555555555555556,
              "#d8576b"
             ],
             [
              0.6666666666666666,
              "#ed7953"
             ],
             [
              0.7777777777777778,
              "#fb9f3a"
             ],
             [
              0.8888888888888888,
              "#fdca26"
             ],
             [
              1,
              "#f0f921"
             ]
            ],
            "type": "contour"
           }
          ],
          "contourcarpet": [
           {
            "colorbar": {
             "outlinewidth": 0,
             "ticks": ""
            },
            "type": "contourcarpet"
           }
          ],
          "heatmap": [
           {
            "colorbar": {
             "outlinewidth": 0,
             "ticks": ""
            },
            "colorscale": [
             [
              0,
              "#0d0887"
             ],
             [
              0.1111111111111111,
              "#46039f"
             ],
             [
              0.2222222222222222,
              "#7201a8"
             ],
             [
              0.3333333333333333,
              "#9c179e"
             ],
             [
              0.4444444444444444,
              "#bd3786"
             ],
             [
              0.5555555555555556,
              "#d8576b"
             ],
             [
              0.6666666666666666,
              "#ed7953"
             ],
             [
              0.7777777777777778,
              "#fb9f3a"
             ],
             [
              0.8888888888888888,
              "#fdca26"
             ],
             [
              1,
              "#f0f921"
             ]
            ],
            "type": "heatmap"
           }
          ],
          "heatmapgl": [
           {
            "colorbar": {
             "outlinewidth": 0,
             "ticks": ""
            },
            "colorscale": [
             [
              0,
              "#0d0887"
             ],
             [
              0.1111111111111111,
              "#46039f"
             ],
             [
              0.2222222222222222,
              "#7201a8"
             ],
             [
              0.3333333333333333,
              "#9c179e"
             ],
             [
              0.4444444444444444,
              "#bd3786"
             ],
             [
              0.5555555555555556,
              "#d8576b"
             ],
             [
              0.6666666666666666,
              "#ed7953"
             ],
             [
              0.7777777777777778,
              "#fb9f3a"
             ],
             [
              0.8888888888888888,
              "#fdca26"
             ],
             [
              1,
              "#f0f921"
             ]
            ],
            "type": "heatmapgl"
           }
          ],
          "histogram": [
           {
            "marker": {
             "pattern": {
              "fillmode": "overlay",
              "size": 10,
              "solidity": 0.2
             }
            },
            "type": "histogram"
           }
          ],
          "histogram2d": [
           {
            "colorbar": {
             "outlinewidth": 0,
             "ticks": ""
            },
            "colorscale": [
             [
              0,
              "#0d0887"
             ],
             [
              0.1111111111111111,
              "#46039f"
             ],
             [
              0.2222222222222222,
              "#7201a8"
             ],
             [
              0.3333333333333333,
              "#9c179e"
             ],
             [
              0.4444444444444444,
              "#bd3786"
             ],
             [
              0.5555555555555556,
              "#d8576b"
             ],
             [
              0.6666666666666666,
              "#ed7953"
             ],
             [
              0.7777777777777778,
              "#fb9f3a"
             ],
             [
              0.8888888888888888,
              "#fdca26"
             ],
             [
              1,
              "#f0f921"
             ]
            ],
            "type": "histogram2d"
           }
          ],
          "histogram2dcontour": [
           {
            "colorbar": {
             "outlinewidth": 0,
             "ticks": ""
            },
            "colorscale": [
             [
              0,
              "#0d0887"
             ],
             [
              0.1111111111111111,
              "#46039f"
             ],
             [
              0.2222222222222222,
              "#7201a8"
             ],
             [
              0.3333333333333333,
              "#9c179e"
             ],
             [
              0.4444444444444444,
              "#bd3786"
             ],
             [
              0.5555555555555556,
              "#d8576b"
             ],
             [
              0.6666666666666666,
              "#ed7953"
             ],
             [
              0.7777777777777778,
              "#fb9f3a"
             ],
             [
              0.8888888888888888,
              "#fdca26"
             ],
             [
              1,
              "#f0f921"
             ]
            ],
            "type": "histogram2dcontour"
           }
          ],
          "mesh3d": [
           {
            "colorbar": {
             "outlinewidth": 0,
             "ticks": ""
            },
            "type": "mesh3d"
           }
          ],
          "parcoords": [
           {
            "line": {
             "colorbar": {
              "outlinewidth": 0,
              "ticks": ""
             }
            },
            "type": "parcoords"
           }
          ],
          "pie": [
           {
            "automargin": true,
            "type": "pie"
           }
          ],
          "scatter": [
           {
            "fillpattern": {
             "fillmode": "overlay",
             "size": 10,
             "solidity": 0.2
            },
            "type": "scatter"
           }
          ],
          "scatter3d": [
           {
            "line": {
             "colorbar": {
              "outlinewidth": 0,
              "ticks": ""
             }
            },
            "marker": {
             "colorbar": {
              "outlinewidth": 0,
              "ticks": ""
             }
            },
            "type": "scatter3d"
           }
          ],
          "scattercarpet": [
           {
            "marker": {
             "colorbar": {
              "outlinewidth": 0,
              "ticks": ""
             }
            },
            "type": "scattercarpet"
           }
          ],
          "scattergeo": [
           {
            "marker": {
             "colorbar": {
              "outlinewidth": 0,
              "ticks": ""
             }
            },
            "type": "scattergeo"
           }
          ],
          "scattergl": [
           {
            "marker": {
             "colorbar": {
              "outlinewidth": 0,
              "ticks": ""
             }
            },
            "type": "scattergl"
           }
          ],
          "scattermapbox": [
           {
            "marker": {
             "colorbar": {
              "outlinewidth": 0,
              "ticks": ""
             }
            },
            "type": "scattermapbox"
           }
          ],
          "scatterpolar": [
           {
            "marker": {
             "colorbar": {
              "outlinewidth": 0,
              "ticks": ""
             }
            },
            "type": "scatterpolar"
           }
          ],
          "scatterpolargl": [
           {
            "marker": {
             "colorbar": {
              "outlinewidth": 0,
              "ticks": ""
             }
            },
            "type": "scatterpolargl"
           }
          ],
          "scatterternary": [
           {
            "marker": {
             "colorbar": {
              "outlinewidth": 0,
              "ticks": ""
             }
            },
            "type": "scatterternary"
           }
          ],
          "surface": [
           {
            "colorbar": {
             "outlinewidth": 0,
             "ticks": ""
            },
            "colorscale": [
             [
              0,
              "#0d0887"
             ],
             [
              0.1111111111111111,
              "#46039f"
             ],
             [
              0.2222222222222222,
              "#7201a8"
             ],
             [
              0.3333333333333333,
              "#9c179e"
             ],
             [
              0.4444444444444444,
              "#bd3786"
             ],
             [
              0.5555555555555556,
              "#d8576b"
             ],
             [
              0.6666666666666666,
              "#ed7953"
             ],
             [
              0.7777777777777778,
              "#fb9f3a"
             ],
             [
              0.8888888888888888,
              "#fdca26"
             ],
             [
              1,
              "#f0f921"
             ]
            ],
            "type": "surface"
           }
          ],
          "table": [
           {
            "cells": {
             "fill": {
              "color": "#EBF0F8"
             },
             "line": {
              "color": "white"
             }
            },
            "header": {
             "fill": {
              "color": "#C8D4E3"
             },
             "line": {
              "color": "white"
             }
            },
            "type": "table"
           }
          ]
         },
         "layout": {
          "annotationdefaults": {
           "arrowcolor": "#2a3f5f",
           "arrowhead": 0,
           "arrowwidth": 1
          },
          "autotypenumbers": "strict",
          "coloraxis": {
           "colorbar": {
            "outlinewidth": 0,
            "ticks": ""
           }
          },
          "colorscale": {
           "diverging": [
            [
             0,
             "#8e0152"
            ],
            [
             0.1,
             "#c51b7d"
            ],
            [
             0.2,
             "#de77ae"
            ],
            [
             0.3,
             "#f1b6da"
            ],
            [
             0.4,
             "#fde0ef"
            ],
            [
             0.5,
             "#f7f7f7"
            ],
            [
             0.6,
             "#e6f5d0"
            ],
            [
             0.7,
             "#b8e186"
            ],
            [
             0.8,
             "#7fbc41"
            ],
            [
             0.9,
             "#4d9221"
            ],
            [
             1,
             "#276419"
            ]
           ],
           "sequential": [
            [
             0,
             "#0d0887"
            ],
            [
             0.1111111111111111,
             "#46039f"
            ],
            [
             0.2222222222222222,
             "#7201a8"
            ],
            [
             0.3333333333333333,
             "#9c179e"
            ],
            [
             0.4444444444444444,
             "#bd3786"
            ],
            [
             0.5555555555555556,
             "#d8576b"
            ],
            [
             0.6666666666666666,
             "#ed7953"
            ],
            [
             0.7777777777777778,
             "#fb9f3a"
            ],
            [
             0.8888888888888888,
             "#fdca26"
            ],
            [
             1,
             "#f0f921"
            ]
           ],
           "sequentialminus": [
            [
             0,
             "#0d0887"
            ],
            [
             0.1111111111111111,
             "#46039f"
            ],
            [
             0.2222222222222222,
             "#7201a8"
            ],
            [
             0.3333333333333333,
             "#9c179e"
            ],
            [
             0.4444444444444444,
             "#bd3786"
            ],
            [
             0.5555555555555556,
             "#d8576b"
            ],
            [
             0.6666666666666666,
             "#ed7953"
            ],
            [
             0.7777777777777778,
             "#fb9f3a"
            ],
            [
             0.8888888888888888,
             "#fdca26"
            ],
            [
             1,
             "#f0f921"
            ]
           ]
          },
          "colorway": [
           "#636efa",
           "#EF553B",
           "#00cc96",
           "#ab63fa",
           "#FFA15A",
           "#19d3f3",
           "#FF6692",
           "#B6E880",
           "#FF97FF",
           "#FECB52"
          ],
          "font": {
           "color": "#2a3f5f"
          },
          "geo": {
           "bgcolor": "white",
           "lakecolor": "white",
           "landcolor": "#E5ECF6",
           "showlakes": true,
           "showland": true,
           "subunitcolor": "white"
          },
          "hoverlabel": {
           "align": "left"
          },
          "hovermode": "closest",
          "mapbox": {
           "style": "light"
          },
          "paper_bgcolor": "white",
          "plot_bgcolor": "#E5ECF6",
          "polar": {
           "angularaxis": {
            "gridcolor": "white",
            "linecolor": "white",
            "ticks": ""
           },
           "bgcolor": "#E5ECF6",
           "radialaxis": {
            "gridcolor": "white",
            "linecolor": "white",
            "ticks": ""
           }
          },
          "scene": {
           "xaxis": {
            "backgroundcolor": "#E5ECF6",
            "gridcolor": "white",
            "gridwidth": 2,
            "linecolor": "white",
            "showbackground": true,
            "ticks": "",
            "zerolinecolor": "white"
           },
           "yaxis": {
            "backgroundcolor": "#E5ECF6",
            "gridcolor": "white",
            "gridwidth": 2,
            "linecolor": "white",
            "showbackground": true,
            "ticks": "",
            "zerolinecolor": "white"
           },
           "zaxis": {
            "backgroundcolor": "#E5ECF6",
            "gridcolor": "white",
            "gridwidth": 2,
            "linecolor": "white",
            "showbackground": true,
            "ticks": "",
            "zerolinecolor": "white"
           }
          },
          "shapedefaults": {
           "line": {
            "color": "#2a3f5f"
           }
          },
          "ternary": {
           "aaxis": {
            "gridcolor": "white",
            "linecolor": "white",
            "ticks": ""
           },
           "baxis": {
            "gridcolor": "white",
            "linecolor": "white",
            "ticks": ""
           },
           "bgcolor": "#E5ECF6",
           "caxis": {
            "gridcolor": "white",
            "linecolor": "white",
            "ticks": ""
           }
          },
          "title": {
           "x": 0.05
          },
          "xaxis": {
           "automargin": true,
           "gridcolor": "white",
           "linecolor": "white",
           "ticks": "",
           "title": {
            "standoff": 15
           },
           "zerolinecolor": "white",
           "zerolinewidth": 2
          },
          "yaxis": {
           "automargin": true,
           "gridcolor": "white",
           "linecolor": "white",
           "ticks": "",
           "title": {
            "standoff": 15
           },
           "zerolinecolor": "white",
           "zerolinewidth": 2
          }
         }
        }
       }
      }
     },
     "metadata": {},
     "output_type": "display_data"
    }
   ],
   "source": [
    "def haversine_np(lon1, lat1, lon2, lat2):\n",
    "    \"\"\"\n",
    "    Calculate the great circle distance between two points\n",
    "    on the earth (specified in decimal degrees)\n",
    "\n",
    "    All args must be of equal length.    \n",
    "\n",
    "    \"\"\"\n",
    "    lon1, lat1, lon2, lat2 = map(np.radians, [lon1, lat1, lon2, lat2])\n",
    "\n",
    "    dlon = lon2 - lon1\n",
    "    dlat = lat2 - lat1\n",
    "\n",
    "    a = np.sin(dlat/2.0)**2 + np.cos(lat1) * np.cos(lat2) * np.sin(dlon/2.0)**2\n",
    "\n",
    "    c = 2 * np.arcsin(np.sqrt(a))\n",
    "    m = 6367 * c * 1000\n",
    "    return m\n",
    "    \n",
    "def id_map(id,n, dist=1000, min_count = 500) :\n",
    "    \n",
    "    total_num_left = seoul_bike[seoul_bike['st_id1']== id]['st_id2'].value_counts() # 현재 대여소에서 빌리면 주로 향하는 목적지는?\n",
    "    total_num_left = total_num_left[~total_num_left.index.isin([id])] # 같은 곳에서 빌려서 같은 곳에 반납하는 경우 제거\n",
    "    total_num_left = total_num_left[: np.where(total_num_left > n)[0][-1]] # 최소 빌린 횟수 \n",
    "\n",
    "    # 2 to 1 다른 대여소 => 여의나루 \n",
    "    total_num_right = seoul_bike[seoul_bike['st_id2']==id]['st_id1'].value_counts() # 어느 대여소에서 현재 대여소로 이동할까?\n",
    "    total_num_right = total_num_right[total_num_right.index != id] # 같은 곳에서 빌려서 같은 곳에 반납하는 경우 제거\n",
    "    total_num_right = total_num_right[: np.where(total_num_right > n)[0][-1]] # 최소 빌린 횟수\n",
    "\n",
    "    # concat\n",
    "    result_concat = pd.concat([total_num_left,total_num_right],axis=1)\n",
    "    result_concat.fillna((n/2),inplace=True)\n",
    "    result_concat.rename(columns=dict(st_id2='1to2',st_id1='2to1'),inplace=True) \n",
    "    result_concat['rate'] = round((result_concat[\"1to2\"] / (result_concat[\"1to2\"]+result_concat[\"2to1\"])),4)\n",
    "    result_concat['diff'] = abs((result_concat[\"1to2\"] - result_concat[\"2to1\"])) # 얼마나 차이나는지 \n",
    "    result_concat['total'] = abs((result_concat[\"1to2\"] + result_concat[\"2to1\"])) # 얼마나 차이나는지 \n",
    "    result_concat['category'] = pd.cut(result_concat['rate'], bins=[0,0.45,0.55,result_concat['rate'].max()],\n",
    "                                                              labels=[\"해당 대여소로 향하는 지역\", \"이동량이 비슷한 지역\" ,\"해당 대여소에서 주로 가는 지역\"])\n",
    "    add_info_result = pd.merge(result_concat,station, how='left',left_on=result_concat.index,right_on='id') # station 정보 추가\n",
    "    \n",
    "    add_info_result.loc[:,'diff'] = add_info_result['diff'] + 100  # 망할 plotly가 min_size를 구현 안해놔서 이렇게라도 해서 min을 키워야함.\n",
    "\n",
    "    ## 해당 대여소 100미터 이내 따릉이 기록 제거(fig_1에 해당)\n",
    "    add_info_result['dist'] = haversine_np(station.query('id==@id')['경도'].values,station.query('id==@id')['위도'].values,add_info_result['경도'].values,add_info_result['위도'].values) # 거리측정\n",
    "    add_info_result = add_info_result.query('dist > 100')\n",
    "\n",
    "    # 해당 대여소 1km 반경 내 따릉이 대여소 표시(fig_2에 해당)\n",
    "    station_haversine = haversine_np(station.query('id==@id')['경도'].values,station.query('id==@id')['위도'].values,station['경도'].values,station['위도'].values)\n",
    "    station_haversine = pd.concat([station,pd.Series(station_haversine)],axis=1)\n",
    "    station_haversine.rename(columns={0:'dist'},inplace=True)\n",
    "    station_haversine = station_haversine.query('@dist >= dist > 0')\n",
    "\n",
    "    # return add_info_result\n",
    "\n",
    "\n",
    "\n",
    "\n",
    "    ### 그래프 그리기 \n",
    "    # 반경 내 따릉이 대여소 표현\n",
    "    fig_2 = go.Figure(go.Scattermapbox(\n",
    "        name= f'station with in {round(dist/1000,2)}km',\n",
    "        lat=station_haversine['위도'],\n",
    "        lon=station_haversine['경도'],\n",
    "        mode='markers',\n",
    "        # marker = {'size': 20, 'symbol': \"bus\"},\n",
    "        marker=go.scattermapbox.Marker(size=8,color='black',opacity=0.2),\n",
    "        text=station_haversine['주소2'],\n",
    "        ))                          \n",
    "\n",
    "    # 지역 순위 표시\n",
    "    fig=px.scatter_mapbox(add_info_result.query(' total > @min_count'), #category != \"neutral\" & \n",
    "                            lat=\"위도\",lon=\"경도\",\n",
    "                            hover_name=\"주소2\",\n",
    "                            hover_data=['1to2','2to1','id'],\n",
    "                            color='category',opacity=0.7,\n",
    "                            size='diff', size_max=20,\n",
    "                            color_discrete_map = {'해당 대여소로 향하는 지역': 'midnightblue', \n",
    "                                                  '이동량이 비슷한 지역': 'hotpink',\n",
    "                                                  '해당 대여소에서 주로 가는 지역': 'coral'},\n",
    "                            zoom=12,height=500,)\n",
    "\n",
    "    fig.add_trace(fig_2.data[0])\n",
    "\n",
    "\n",
    "    # 해당 따릉이 대여소 색 표시\n",
    "    fig_3 = go.Figure(go.Scattermapbox(\n",
    "            name='location',\n",
    "            lat=station.query('id==@id')['위도'],\n",
    "            lon=station.query('id==@id')['경도'],\n",
    "            mode='markers',\n",
    "            # marker = {'size': 20, 'symbol': \"bus\"},\n",
    "            marker=go.scattermapbox.Marker(size=10,color='fuchsia',opacity=0.8),\n",
    "            text=station.query('id==@id')['주소2'].values,\n",
    "        ))                            \n",
    "    fig.add_trace(fig_3.data[0])\n",
    "    fig.update_layout(mapbox_style=\"carto-positron\")\n",
    "    return fig\n",
    "\n",
    "id= 473\n",
    "n = 50\n",
    "\n",
    "id_map(id, n, min_count=500)"
   ]
  },
  {
   "cell_type": "code",
   "execution_count": 17,
   "metadata": {},
   "outputs": [
    {
     "name": "stdout",
     "output_type": "stream",
     "text": [
      "             주소2   id\n",
      "241  을지로4가역 1번출구  389\n",
      "316  을지로4가역 9번출구  473\n"
     ]
    }
   ],
   "source": [
    "print(station[station['주소2'].str.contains('을지로4가')][['주소2','id']])"
   ]
  },
  {
   "cell_type": "code",
   "execution_count": null,
   "metadata": {},
   "outputs": [
    {
     "name": "stdout",
     "output_type": "stream",
     "text": [
      "['aliceblue', 'antiquewhite', 'aqua', 'aquamarine', 'azure', 'beige', 'bisque', 'black', 'blanchedalmond', 'blue', 'blueviolet', 'brown', 'burlywood', 'cadetblue', 'chartreuse', 'chocolate', 'coral', 'cornflowerblue', 'cornsilk', 'crimson', 'cyan', 'darkblue', 'darkcyan', 'darkgoldenrod', 'darkgray', 'darkgrey', 'darkgreen', 'darkkhaki', 'darkmagenta', 'darkolivegreen', 'darkorange', 'darkorchid', 'darkred', 'darksalmon', 'darkseagreen', 'darkslateblue', 'darkslategray', 'darkslategrey', 'darkturquoise', 'darkviolet', 'deeppink', 'deepskyblue', 'dimgray', 'dimgrey', 'dodgerblue', 'firebrick', 'floralwhite', 'forestgreen', 'fuchsia', 'gainsboro', 'ghostwhite', 'gold', 'goldenrod', 'gray', 'grey', 'green', 'greenyellow', 'honeydew', 'hotpink', 'indianred', 'indigo', 'ivory', 'khaki', 'lavender', 'lavenderblush', 'lawngreen', 'lemonchiffon', 'lightblue', 'lightcoral', 'lightcyan', 'lightgoldenrodyellow', 'lightgray', 'lightgrey', 'lightgreen', 'lightpink', 'lightsalmon', 'lightseagreen', 'lightskyblue', 'lightslategray', 'lightslategrey', 'lightsteelblue', 'lightyellow', 'lime', 'limegreen', 'linen', 'magenta', 'maroon', 'mediumaquamarine', 'mediumblue', 'mediumorchid', 'mediumpurple', 'mediumseagreen', 'mediumslateblue', 'mediumspringgreen', 'mediumturquoise', 'mediumvioletred', 'midnightblue', 'mintcream', 'mistyrose', 'moccasin', 'navajowhite', 'navy', 'oldlace', 'olive', 'olivedrab', 'orange', 'orangered', 'orchid', 'palegoldenrod', 'palegreen', 'paleturquoise', 'palevioletred', 'papayawhip', 'peachpuff', 'peru', 'pink', 'plum', 'powderblue', 'purple', 'red', 'rosybrown', 'royalblue', 'rebeccapurple', 'saddlebrown', 'salmon', 'sandybrown', 'seagreen', 'seashell', 'sienna', 'silver', 'skyblue', 'slateblue', 'slategray', 'slategrey', 'snow', 'springgreen', 'steelblue', 'tan', 'teal', 'thistle', 'tomato', 'turquoise', 'violet', 'wheat', 'white', 'whitesmoke', 'yellow', 'yellowgreen']\n"
     ]
    }
   ],
   "source": [
    "color_code = pd.read_csv('data/plotly_color_codes.csv')\n",
    "print(color_code['0'].to_list())"
   ]
  },
  {
   "cell_type": "markdown",
   "metadata": {},
   "source": [
    "### 2. 대여소간 흐름 분석 먼저 해보자 나가고 들어오는 그런 흐름을 한 번 만들어보고 싶다."
   ]
  },
  {
   "cell_type": "markdown",
   "metadata": {},
   "source": [
    "### 실수로 실행시킬까봐 # 처리해놓았음\n",
    "\n",
    "중요하니 지우지 말자"
   ]
  },
  {
   "cell_type": "code",
   "execution_count": null,
   "metadata": {},
   "outputs": [],
   "source": [
    "# # id : 대여소 id   n : 대여소간 최소 대여수 ex) 여의나루 => 1000여개 대여소 중 n회 이상 이동한 대여소만 포함\n",
    "# def con_dis(id,n) :\n",
    "#     try : \n",
    "#         # 1 to 2 여의나루 => 다른 대여소\n",
    "#         total_num_left = seoul_bike[seoul_bike['st_id1']==id]['st_id2'].value_counts() # 현재 대여소에서 빌리면 주로 향하는 목적지는?\n",
    "#         total_num_left = total_num_left[~total_num_left.index.isin([id])] # 같은 곳에서 빌려서 같은 곳에 반납하는 경우 제거\n",
    "\n",
    "#         # 2 to 1 다른 대여소 => 여의나루 \n",
    "#         total_num_right = seoul_bike[seoul_bike['st_id2']==id]['st_id1'].value_counts() # 어느 대여소에서 현재 대여소로 이동할까?\n",
    "#         total_num_right = total_num_right[total_num_right.index != id] # 같은 곳에서 빌려서 같은 곳에 반납하는 경우 제거\n",
    "\n",
    "#         a = total_num_left.sum()\n",
    "#         b = total_num_right.sum()\n",
    "\n",
    "#         return [id,a,b,round(foo(a,b),3)]\n",
    "\n",
    "#     except :\n",
    "#         return [id]\n",
    "\n",
    "# def foo(x,y):\n",
    "#     try:\n",
    "#         return x/y\n",
    "#     except ZeroDivisionError:\n",
    "#         return 0\n",
    "\n",
    "\n",
    "# id1 = seoul_bike['st_id2'].value_counts()\n",
    "# id2 = seoul_bike['st_id1'].value_counts()\n",
    "# id1 = id1[id1>500].index # 대여횟수 최소 500회 이상인 대여소 선정\n",
    "# id2 = id2[id2>500].index\n",
    "# total_id=np.unique(np.append(id1,id2))\n",
    "\n",
    "# n = 50 # 대여소간 이동횟수 최소 n회\n",
    "# result_sum=[]\n",
    "# for num,ids in notebook.tqdm(enumerate(total_id))  :\n",
    "#     result_con_dis = con_dis(ids,n) # con_dis 함수 \n",
    "#     result_sum.append(result_con_dis)\n",
    "\n"
   ]
  },
  {
   "cell_type": "code",
   "execution_count": null,
   "metadata": {},
   "outputs": [],
   "source": [
    "asd = pd.merge(pd.DataFrame(result_sum),station,how='left',left_on=0,right_on='id').sort_values(by=2,ascending=False)\n",
    "asd.columns = ['id_du','1to2','2to1','portion', 'id', '주소2', '주소1', '지역', '위도', '경도', '설치일']\n",
    "asd.drop(columns=['id_du','주소1','설치일','portion'],inplace=True)\n",
    "asd.dropna(inplace=True)\n",
    "asd['rate'] = asd['1to2'] / (asd['1to2'] + asd['2to1'])\n",
    "asd['category'] = pd.cut(asd['rate'], bins=[0,0.45,0.55,asd['rate'].max()],labels=[\"몰리는 지역\", \"neutral\" ,\"퍼지는 지역\"])\n",
    "asd['diff'] = abs((asd[\"1to2\"] - asd[\"2to1\"])) # 얼마나 차이나는지 \n",
    "asd.to_csv('con_dis.csv',encoding='CP949')"
   ]
  },
  {
   "cell_type": "code",
   "execution_count": null,
   "metadata": {},
   "outputs": [],
   "source": [
    "asd = pd.read_csv('con_dis.csv',encoding='CP949')"
   ]
  },
  {
   "cell_type": "code",
   "execution_count": null,
   "metadata": {},
   "outputs": [
    {
     "data": {
      "application/vnd.plotly.v1+json": {
       "config": {
        "plotlyServerURL": "https://plot.ly"
       },
       "data": [
        {
         "customdata": [
          [
           29778,
           37851,
           996
          ],
          [
           26511,
           33677,
           1008
          ],
          [
           25088,
           31715,
           2050
          ],
          [
           25766,
           31689,
           1721
          ],
          [
           22338,
           27884,
           227
          ],
          [
           19855,
           25750,
           2025
          ],
          [
           20588,
           25172,
           1195
          ],
          [
           19196,
           23936,
           779
          ],
          [
           18100,
           23582,
           912
          ],
          [
           18644,
           23273,
           956
          ],
          [
           18639,
           22808,
           1452
          ],
          [
           16552,
           20521,
           2611
          ],
          [
           15835,
           19481,
           2106
          ],
          [
           15797,
           19312,
           2222
          ],
          [
           15246,
           18837,
           1991
          ],
          [
           15065,
           18786,
           905
          ],
          [
           12469,
           17884,
           1141
          ],
          [
           12575,
           16974,
           1146
          ],
          [
           12104,
           16127,
           1004
          ],
          [
           12371,
           15496,
           834
          ],
          [
           11179,
           14292,
           989
          ],
          [
           7650,
           12195,
           712
          ],
          [
           7946,
           11371,
           4522
          ]
         ],
         "hovertemplate": "<b>%{hovertext}</b><br><br>category=몰리는 지역<br>diff=%{marker.size}<br>위도=%{lat}<br>경도=%{lon}<br>1to2=%{customdata[0]}<br>2to1=%{customdata[1]}<br>id=%{customdata[2]}<extra></extra>",
         "hovertext": [
          "응암역 1번출구",
          "암사역 3번출구(국민은행앞)",
          "노량진역 5번출구",
          "창동역 2번출구",
          "양평2나들목 보행통로 입구",
          "흑석역 1번출구",
          "코오롱One&Only타워",
          "양천나눔누리센터",
          "응암오거리",
          "응암시장교차로",
          "겸재교 진입부",
          "송파지역자활센터 뒤",
          "난곡 새마을금고",
          "사당역 12번출구 뒤",
          "오류동역 맞은편",
          "구파발역 2번출구",
          "곰달래 문화복지센터 1-1",
          "곰달래사거리",
          "삼성광나루아파트 버스정류장",
          "효창공원앞역 3번출구 뒤",
          "응암 꼬꼬닭치킨호프 앞",
          "강월초교입구 사거리",
          "다이소신곡시장점"
         ],
         "lat": [
          37.598606,
          37.549549,
          37.513248,
          37.653015,
          37.544666,
          37.50938,
          37.564129,
          37.518845,
          37.589661,
          37.594376,
          37.585655,
          37.536331,
          37.473728,
          37.478069,
          37.496761,
          37.636234,
          37.52906,
          37.530338,
          37.553349,
          37.539009,
          37.591812,
          37.516998,
          37.51779556
         ],
         "legendgroup": "몰리는 지역",
         "lon": [
          126.915405,
          127.127151,
          126.939972,
          127.046997,
          126.888359,
          126.963615,
          126.834312,
          126.853684,
          126.916946,
          126.918159,
          127.07505,
          127.11618,
          126.918404,
          126.982033,
          126.844963,
          126.918999,
          126.84848,
          126.838257,
          127.12886,
          126.96138,
          126.914833,
          126.838318,
          126.8416138
         ],
         "marker": {
          "color": "#636efa",
          "opacity": 0.6,
          "size": [
           8073,
           7166,
           6627,
           5923,
           5546,
           5895,
           4584,
           4740,
           5482,
           4629,
           4169,
           3969,
           3646,
           3515,
           3591,
           3721,
           5415,
           4399,
           4023,
           3125,
           3113,
           4545,
           3425
          ],
          "sizemode": "area",
          "sizeref": 20.1825
         },
         "mode": "markers",
         "name": "몰리는 지역",
         "showlegend": true,
         "subplot": "mapbox",
         "type": "scattermapbox"
        },
        {
         "customdata": [
          [
           20948,
           15444,
           1199
          ],
          [
           19573,
           15218,
           584
          ],
          [
           16919,
           13366,
           2013
          ],
          [
           17313,
           13309,
           417
          ],
          [
           20728,
           12831,
           574
          ],
          [
           16270,
           10745,
           1126
          ],
          [
           15965,
           10332,
           623
          ],
          [
           14782,
           9719,
           212
          ],
          [
           12973,
           9262,
           1175
          ],
          [
           12579,
           8674,
           301
          ],
          [
           8874,
           5696,
           2333
          ],
          [
           8484,
           5234,
           199
          ],
          [
           8377,
           5234,
           1136
          ],
          [
           7513,
           4448,
           3507
          ],
          [
           7864,
           4371,
           2237
          ],
          [
           8237,
           4016,
           416
          ],
          [
           6778,
           3674,
           403
          ],
          [
           6669,
           3636,
           1828
          ],
          [
           6556,
           3121,
           843
          ],
          [
           6874,
           2800,
           436
          ],
          [
           7176,
           2784,
           162
          ],
          [
           7586,
           2739,
           2712
          ],
          [
           6416,
           2668,
           1854
          ],
          [
           6176,
           2665,
           1344
          ],
          [
           6679,
           2477,
           725
          ],
          [
           5888,
           2419,
           2405
          ],
          [
           5705,
           2402,
           2057
          ],
          [
           6558,
           2228,
           811
          ],
          [
           5811,
           2187,
           720
          ],
          [
           9980,
           2114,
           711
          ],
          [
           5339,
           1643,
           909
          ],
          [
           5058,
           1566,
           965
          ],
          [
           4355,
           1249,
           1426
          ],
          [
           5205,
           915,
           167
          ],
          [
           5345,
           741,
           3310
          ],
          [
           3783,
           358,
           3307
          ]
         ],
         "hovertemplate": "<b>%{hovertext}</b><br><br>category=퍼지는 지역<br>diff=%{marker.size}<br>위도=%{lat}<br>경도=%{lon}<br>1to2=%{customdata[0]}<br>2to1=%{customdata[1]}<br>id=%{customdata[2]}<extra></extra>",
         "hovertext": [
          "우장산역 3번출구",
          "광진광장 교통섬",
          "장승배기역 5번출구",
          "DMC역 2번출구 옆",
          "아차산역4번출구",
          "우장산역 1번출구옆(우장산아이파크105동앞)",
          "서울시립대 정문 앞",
          "여의도역 1번출구 옆",
          "대한항공 인력개발센터",
          "경복궁역 7번출구 앞",
          "양재역 3번출구 주변",
          "서울 월드컵 경기장",
          "등촌2파출소",
          "어린이회관",
          "서울남부터미널 대합실 입구",
          "상암월드컵파크 1단지 교차로",
          "부엉이공원 앞",
          "한양수자인아파트 앞",
          "녹사평역 광장",
          "이대역 5번출구",
          "봉원고가차도 밑",
          "화곡터널입구교차로",
          "가산아네스트 오피스텔 앞",
          "아리랑시네센터 앞",
          "양강중학교앞 교차로",
          "청담공원앞 교차로",
          "상도 아이파크 아파트",
          "녹사평역1번출구",
          "서울강월초등학교 앞",
          "신일해피트리아파트 앞",
          "백련산 힐스테이트 3차",
          "서울특별시 은평병원",
          "면목도시개발아파트 1동 앞",
          "연가초등학교 옆",
          "영락고등학교",
          "봉천고개 육교"
         ],
         "lat": [
          37.547821,
          37.547829,
          37.505852,
          37.575069,
          37.551849,
          37.548908,
          37.583698,
          37.521362,
          37.554379,
          37.575794,
          37.485157,
          37.566845,
          37.544788,
          37.545952,
          37.484558,
          37.575665,
          37.58559,
          37.475319,
          37.533798,
          37.556591,
          37.565269,
          37.538338,
          37.47818,
          37.600288,
          37.524334,
          37.518711,
          37.500881,
          37.53508,
          37.516197,
          37.517059,
          37.586994,
          37.593479,
          37.573589,
          37.57946,
          37.476627,
          37.491226
         ],
         "legendgroup": "퍼지는 지역",
         "lon": [
          126.836128,
          127.072632,
          126.939362,
          126.899918,
          127.088982,
          126.836563,
          127.053856,
          126.923462,
          126.857536,
          126.971451,
          127.034073,
          126.896446,
          126.862,
          127.078003,
          127.01487,
          126.894447,
          126.884727,
          126.898888,
          126.98867,
          126.94619,
          126.946243,
          126.842392,
          126.897408,
          127.013702,
          126.850548,
          127.05085,
          126.94175,
          126.985382,
          126.8349,
          126.848488,
          126.922882,
          126.923187,
          127.086823,
          126.91713,
          126.943642,
          126.956078
         ],
         "marker": {
          "color": "#EF553B",
          "opacity": 0.6,
          "size": [
           5504,
           4355,
           3553,
           4004,
           7897,
           5525,
           5633,
           5063,
           3711,
           3905,
           3178,
           3250,
           3143,
           3065,
           3493,
           4221,
           3104,
           3033,
           3435,
           4074,
           4392,
           4847,
           3748,
           3511,
           4202,
           3469,
           3303,
           4330,
           3624,
           7866,
           3696,
           3492,
           3106,
           4290,
           4604,
           3425
          ],
          "sizemode": "area",
          "sizeref": 20.1825
         },
         "mode": "markers",
         "name": "퍼지는 지역",
         "showlegend": true,
         "subplot": "mapbox",
         "type": "scattermapbox"
        }
       ],
       "layout": {
        "height": 500,
        "legend": {
         "itemsizing": "constant",
         "title": {
          "text": "category"
         },
         "tracegroupgap": 0
        },
        "mapbox": {
         "center": {
          "lat": 37.543782212881354,
          "lon": 126.94189118305079
         },
         "domain": {
          "x": [
           0,
           1
          ],
          "y": [
           0,
           1
          ]
         },
         "style": "carto-positron",
         "zoom": 10
        },
        "margin": {
         "t": 60
        },
        "template": {
         "data": {
          "bar": [
           {
            "error_x": {
             "color": "#2a3f5f"
            },
            "error_y": {
             "color": "#2a3f5f"
            },
            "marker": {
             "line": {
              "color": "#E5ECF6",
              "width": 0.5
             },
             "pattern": {
              "fillmode": "overlay",
              "size": 10,
              "solidity": 0.2
             }
            },
            "type": "bar"
           }
          ],
          "barpolar": [
           {
            "marker": {
             "line": {
              "color": "#E5ECF6",
              "width": 0.5
             },
             "pattern": {
              "fillmode": "overlay",
              "size": 10,
              "solidity": 0.2
             }
            },
            "type": "barpolar"
           }
          ],
          "carpet": [
           {
            "aaxis": {
             "endlinecolor": "#2a3f5f",
             "gridcolor": "white",
             "linecolor": "white",
             "minorgridcolor": "white",
             "startlinecolor": "#2a3f5f"
            },
            "baxis": {
             "endlinecolor": "#2a3f5f",
             "gridcolor": "white",
             "linecolor": "white",
             "minorgridcolor": "white",
             "startlinecolor": "#2a3f5f"
            },
            "type": "carpet"
           }
          ],
          "choropleth": [
           {
            "colorbar": {
             "outlinewidth": 0,
             "ticks": ""
            },
            "type": "choropleth"
           }
          ],
          "contour": [
           {
            "colorbar": {
             "outlinewidth": 0,
             "ticks": ""
            },
            "colorscale": [
             [
              0,
              "#0d0887"
             ],
             [
              0.1111111111111111,
              "#46039f"
             ],
             [
              0.2222222222222222,
              "#7201a8"
             ],
             [
              0.3333333333333333,
              "#9c179e"
             ],
             [
              0.4444444444444444,
              "#bd3786"
             ],
             [
              0.5555555555555556,
              "#d8576b"
             ],
             [
              0.6666666666666666,
              "#ed7953"
             ],
             [
              0.7777777777777778,
              "#fb9f3a"
             ],
             [
              0.8888888888888888,
              "#fdca26"
             ],
             [
              1,
              "#f0f921"
             ]
            ],
            "type": "contour"
           }
          ],
          "contourcarpet": [
           {
            "colorbar": {
             "outlinewidth": 0,
             "ticks": ""
            },
            "type": "contourcarpet"
           }
          ],
          "heatmap": [
           {
            "colorbar": {
             "outlinewidth": 0,
             "ticks": ""
            },
            "colorscale": [
             [
              0,
              "#0d0887"
             ],
             [
              0.1111111111111111,
              "#46039f"
             ],
             [
              0.2222222222222222,
              "#7201a8"
             ],
             [
              0.3333333333333333,
              "#9c179e"
             ],
             [
              0.4444444444444444,
              "#bd3786"
             ],
             [
              0.5555555555555556,
              "#d8576b"
             ],
             [
              0.6666666666666666,
              "#ed7953"
             ],
             [
              0.7777777777777778,
              "#fb9f3a"
             ],
             [
              0.8888888888888888,
              "#fdca26"
             ],
             [
              1,
              "#f0f921"
             ]
            ],
            "type": "heatmap"
           }
          ],
          "heatmapgl": [
           {
            "colorbar": {
             "outlinewidth": 0,
             "ticks": ""
            },
            "colorscale": [
             [
              0,
              "#0d0887"
             ],
             [
              0.1111111111111111,
              "#46039f"
             ],
             [
              0.2222222222222222,
              "#7201a8"
             ],
             [
              0.3333333333333333,
              "#9c179e"
             ],
             [
              0.4444444444444444,
              "#bd3786"
             ],
             [
              0.5555555555555556,
              "#d8576b"
             ],
             [
              0.6666666666666666,
              "#ed7953"
             ],
             [
              0.7777777777777778,
              "#fb9f3a"
             ],
             [
              0.8888888888888888,
              "#fdca26"
             ],
             [
              1,
              "#f0f921"
             ]
            ],
            "type": "heatmapgl"
           }
          ],
          "histogram": [
           {
            "marker": {
             "pattern": {
              "fillmode": "overlay",
              "size": 10,
              "solidity": 0.2
             }
            },
            "type": "histogram"
           }
          ],
          "histogram2d": [
           {
            "colorbar": {
             "outlinewidth": 0,
             "ticks": ""
            },
            "colorscale": [
             [
              0,
              "#0d0887"
             ],
             [
              0.1111111111111111,
              "#46039f"
             ],
             [
              0.2222222222222222,
              "#7201a8"
             ],
             [
              0.3333333333333333,
              "#9c179e"
             ],
             [
              0.4444444444444444,
              "#bd3786"
             ],
             [
              0.5555555555555556,
              "#d8576b"
             ],
             [
              0.6666666666666666,
              "#ed7953"
             ],
             [
              0.7777777777777778,
              "#fb9f3a"
             ],
             [
              0.8888888888888888,
              "#fdca26"
             ],
             [
              1,
              "#f0f921"
             ]
            ],
            "type": "histogram2d"
           }
          ],
          "histogram2dcontour": [
           {
            "colorbar": {
             "outlinewidth": 0,
             "ticks": ""
            },
            "colorscale": [
             [
              0,
              "#0d0887"
             ],
             [
              0.1111111111111111,
              "#46039f"
             ],
             [
              0.2222222222222222,
              "#7201a8"
             ],
             [
              0.3333333333333333,
              "#9c179e"
             ],
             [
              0.4444444444444444,
              "#bd3786"
             ],
             [
              0.5555555555555556,
              "#d8576b"
             ],
             [
              0.6666666666666666,
              "#ed7953"
             ],
             [
              0.7777777777777778,
              "#fb9f3a"
             ],
             [
              0.8888888888888888,
              "#fdca26"
             ],
             [
              1,
              "#f0f921"
             ]
            ],
            "type": "histogram2dcontour"
           }
          ],
          "mesh3d": [
           {
            "colorbar": {
             "outlinewidth": 0,
             "ticks": ""
            },
            "type": "mesh3d"
           }
          ],
          "parcoords": [
           {
            "line": {
             "colorbar": {
              "outlinewidth": 0,
              "ticks": ""
             }
            },
            "type": "parcoords"
           }
          ],
          "pie": [
           {
            "automargin": true,
            "type": "pie"
           }
          ],
          "scatter": [
           {
            "fillpattern": {
             "fillmode": "overlay",
             "size": 10,
             "solidity": 0.2
            },
            "type": "scatter"
           }
          ],
          "scatter3d": [
           {
            "line": {
             "colorbar": {
              "outlinewidth": 0,
              "ticks": ""
             }
            },
            "marker": {
             "colorbar": {
              "outlinewidth": 0,
              "ticks": ""
             }
            },
            "type": "scatter3d"
           }
          ],
          "scattercarpet": [
           {
            "marker": {
             "colorbar": {
              "outlinewidth": 0,
              "ticks": ""
             }
            },
            "type": "scattercarpet"
           }
          ],
          "scattergeo": [
           {
            "marker": {
             "colorbar": {
              "outlinewidth": 0,
              "ticks": ""
             }
            },
            "type": "scattergeo"
           }
          ],
          "scattergl": [
           {
            "marker": {
             "colorbar": {
              "outlinewidth": 0,
              "ticks": ""
             }
            },
            "type": "scattergl"
           }
          ],
          "scattermapbox": [
           {
            "marker": {
             "colorbar": {
              "outlinewidth": 0,
              "ticks": ""
             }
            },
            "type": "scattermapbox"
           }
          ],
          "scatterpolar": [
           {
            "marker": {
             "colorbar": {
              "outlinewidth": 0,
              "ticks": ""
             }
            },
            "type": "scatterpolar"
           }
          ],
          "scatterpolargl": [
           {
            "marker": {
             "colorbar": {
              "outlinewidth": 0,
              "ticks": ""
             }
            },
            "type": "scatterpolargl"
           }
          ],
          "scatterternary": [
           {
            "marker": {
             "colorbar": {
              "outlinewidth": 0,
              "ticks": ""
             }
            },
            "type": "scatterternary"
           }
          ],
          "surface": [
           {
            "colorbar": {
             "outlinewidth": 0,
             "ticks": ""
            },
            "colorscale": [
             [
              0,
              "#0d0887"
             ],
             [
              0.1111111111111111,
              "#46039f"
             ],
             [
              0.2222222222222222,
              "#7201a8"
             ],
             [
              0.3333333333333333,
              "#9c179e"
             ],
             [
              0.4444444444444444,
              "#bd3786"
             ],
             [
              0.5555555555555556,
              "#d8576b"
             ],
             [
              0.6666666666666666,
              "#ed7953"
             ],
             [
              0.7777777777777778,
              "#fb9f3a"
             ],
             [
              0.8888888888888888,
              "#fdca26"
             ],
             [
              1,
              "#f0f921"
             ]
            ],
            "type": "surface"
           }
          ],
          "table": [
           {
            "cells": {
             "fill": {
              "color": "#EBF0F8"
             },
             "line": {
              "color": "white"
             }
            },
            "header": {
             "fill": {
              "color": "#C8D4E3"
             },
             "line": {
              "color": "white"
             }
            },
            "type": "table"
           }
          ]
         },
         "layout": {
          "annotationdefaults": {
           "arrowcolor": "#2a3f5f",
           "arrowhead": 0,
           "arrowwidth": 1
          },
          "autotypenumbers": "strict",
          "coloraxis": {
           "colorbar": {
            "outlinewidth": 0,
            "ticks": ""
           }
          },
          "colorscale": {
           "diverging": [
            [
             0,
             "#8e0152"
            ],
            [
             0.1,
             "#c51b7d"
            ],
            [
             0.2,
             "#de77ae"
            ],
            [
             0.3,
             "#f1b6da"
            ],
            [
             0.4,
             "#fde0ef"
            ],
            [
             0.5,
             "#f7f7f7"
            ],
            [
             0.6,
             "#e6f5d0"
            ],
            [
             0.7,
             "#b8e186"
            ],
            [
             0.8,
             "#7fbc41"
            ],
            [
             0.9,
             "#4d9221"
            ],
            [
             1,
             "#276419"
            ]
           ],
           "sequential": [
            [
             0,
             "#0d0887"
            ],
            [
             0.1111111111111111,
             "#46039f"
            ],
            [
             0.2222222222222222,
             "#7201a8"
            ],
            [
             0.3333333333333333,
             "#9c179e"
            ],
            [
             0.4444444444444444,
             "#bd3786"
            ],
            [
             0.5555555555555556,
             "#d8576b"
            ],
            [
             0.6666666666666666,
             "#ed7953"
            ],
            [
             0.7777777777777778,
             "#fb9f3a"
            ],
            [
             0.8888888888888888,
             "#fdca26"
            ],
            [
             1,
             "#f0f921"
            ]
           ],
           "sequentialminus": [
            [
             0,
             "#0d0887"
            ],
            [
             0.1111111111111111,
             "#46039f"
            ],
            [
             0.2222222222222222,
             "#7201a8"
            ],
            [
             0.3333333333333333,
             "#9c179e"
            ],
            [
             0.4444444444444444,
             "#bd3786"
            ],
            [
             0.5555555555555556,
             "#d8576b"
            ],
            [
             0.6666666666666666,
             "#ed7953"
            ],
            [
             0.7777777777777778,
             "#fb9f3a"
            ],
            [
             0.8888888888888888,
             "#fdca26"
            ],
            [
             1,
             "#f0f921"
            ]
           ]
          },
          "colorway": [
           "#636efa",
           "#EF553B",
           "#00cc96",
           "#ab63fa",
           "#FFA15A",
           "#19d3f3",
           "#FF6692",
           "#B6E880",
           "#FF97FF",
           "#FECB52"
          ],
          "font": {
           "color": "#2a3f5f"
          },
          "geo": {
           "bgcolor": "white",
           "lakecolor": "white",
           "landcolor": "#E5ECF6",
           "showlakes": true,
           "showland": true,
           "subunitcolor": "white"
          },
          "hoverlabel": {
           "align": "left"
          },
          "hovermode": "closest",
          "mapbox": {
           "style": "light"
          },
          "paper_bgcolor": "white",
          "plot_bgcolor": "#E5ECF6",
          "polar": {
           "angularaxis": {
            "gridcolor": "white",
            "linecolor": "white",
            "ticks": ""
           },
           "bgcolor": "#E5ECF6",
           "radialaxis": {
            "gridcolor": "white",
            "linecolor": "white",
            "ticks": ""
           }
          },
          "scene": {
           "xaxis": {
            "backgroundcolor": "#E5ECF6",
            "gridcolor": "white",
            "gridwidth": 2,
            "linecolor": "white",
            "showbackground": true,
            "ticks": "",
            "zerolinecolor": "white"
           },
           "yaxis": {
            "backgroundcolor": "#E5ECF6",
            "gridcolor": "white",
            "gridwidth": 2,
            "linecolor": "white",
            "showbackground": true,
            "ticks": "",
            "zerolinecolor": "white"
           },
           "zaxis": {
            "backgroundcolor": "#E5ECF6",
            "gridcolor": "white",
            "gridwidth": 2,
            "linecolor": "white",
            "showbackground": true,
            "ticks": "",
            "zerolinecolor": "white"
           }
          },
          "shapedefaults": {
           "line": {
            "color": "#2a3f5f"
           }
          },
          "ternary": {
           "aaxis": {
            "gridcolor": "white",
            "linecolor": "white",
            "ticks": ""
           },
           "baxis": {
            "gridcolor": "white",
            "linecolor": "white",
            "ticks": ""
           },
           "bgcolor": "#E5ECF6",
           "caxis": {
            "gridcolor": "white",
            "linecolor": "white",
            "ticks": ""
           }
          },
          "title": {
           "x": 0.05
          },
          "xaxis": {
           "automargin": true,
           "gridcolor": "white",
           "linecolor": "white",
           "ticks": "",
           "title": {
            "standoff": 15
           },
           "zerolinecolor": "white",
           "zerolinewidth": 2
          },
          "yaxis": {
           "automargin": true,
           "gridcolor": "white",
           "linecolor": "white",
           "ticks": "",
           "title": {
            "standoff": 15
           },
           "zerolinecolor": "white",
           "zerolinewidth": 2
          }
         }
        }
       }
      }
     },
     "metadata": {},
     "output_type": "display_data"
    }
   ],
   "source": [
    "fig=px.scatter_mapbox(asd.query('category != \"neutral\" & diff > 3000'), lat=\"위도\", lon=\"경도\", hover_name=\"주소2\", hover_data=['1to2','2to1','id'], color='category', size='diff',size_max=20, color_continuous_scale='ylorrd', zoom=10, height=500, opacity=0.6)\n",
    "\n",
    "# 해당 따릉이 대여소 색 표시하기\n",
    "# fig_2 = go.Figure(go.Scattermapbox(\n",
    "#         lat=station.query('id==@id')['위도'],\n",
    "#         lon=station.query('id==@id')['경도'],\n",
    "#         mode='markers',\n",
    "#         # marker = {'size': 20, 'symbol': \"bus\"},\n",
    "#         marker=go.scattermapbox.Marker(size=10,color='purple'),\n",
    "#         text=[station.query('id==@id')['주소2']],\n",
    "#     ))                            \n",
    "# fig.add_trace(fig_2.data[0])\n",
    "fig.update_layout(mapbox_style=\"carto-positron\")                                                              "
   ]
  }
 ],
 "metadata": {
  "interpreter": {
   "hash": "47be6c136d2b4a6c76f7d3db2f991a133eb39bf1d99b20f1b6e05e99edd1faf4"
  },
  "kernelspec": {
   "display_name": "Python 3.9.7 ('base')",
   "language": "python",
   "name": "python3"
  },
  "language_info": {
   "codemirror_mode": {
    "name": "ipython",
    "version": 3
   },
   "file_extension": ".py",
   "mimetype": "text/x-python",
   "name": "python",
   "nbconvert_exporter": "python",
   "pygments_lexer": "ipython3",
   "version": "3.9.7"
  },
  "orig_nbformat": 4
 },
 "nbformat": 4,
 "nbformat_minor": 2
}
