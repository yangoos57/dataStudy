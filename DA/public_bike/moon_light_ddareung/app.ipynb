{
 "cells": [
  {
   "cell_type": "code",
   "execution_count": 1,
   "metadata": {},
   "outputs": [],
   "source": [
    "import plotly.express as px\n",
    "import plotly.graph_objects as go\n",
    "from jupyter_dash import JupyterDash\n",
    "from dash import dcc,html,Input, Output,dash_table\n",
    "import dash_bootstrap_components as dbc\n",
    "import pandas as pd\n",
    "import numpy as np"
   ]
  },
  {
   "cell_type": "code",
   "execution_count": 26,
   "metadata": {},
   "outputs": [],
   "source": [
    "station = pd.read_csv('data/seoul_bike_station_01_12.csv',encoding=\"CP949\",index_col=0)\n"
   ]
  },
  {
   "cell_type": "code",
   "execution_count": 57,
   "metadata": {},
   "outputs": [
    {
     "name": "stdout",
     "output_type": "stream",
     "text": [
      "Dash app running on http://127.0.0.1:8050/\n"
     ]
    }
   ],
   "source": [
    "app = JupyterDash(__name__, external_stylesheets=[dbc.themes.DARKLY])\n",
    "\n",
    "\n",
    "app.layout = dbc.Col(\n",
    "    [\n",
    "        dcc.Graph(id='searching_station',style={'position':'relative'}),\n",
    "        dcc.Dropdown(\n",
    "            ['test'], \"207\", placeholder=\"search id or name\", id=\"test_dropdown\"\n",
    "        ,style= {'background-color': 'rgba(249, 253, 255, 0.42)','position':'absolute','top' : '20px','left': '300px'}),\n",
    "    ],\n",
    "    style={'max-width' : '600px', 'min-height' : '500px', 'background-color' : 'white'},\n",
    "    className='container-fluid',\n",
    ")\n",
    "\n",
    "\n",
    "@app.callback(\n",
    "    Output(component_id=\"searching_station\", component_property=\"figure\"),\n",
    "    Input(\"test_dropdown\", \"value\"),\n",
    ")\n",
    "\n",
    "def hello(a=0) :\n",
    "    # trick figure\n",
    "    fig = px.scatter_mapbox(station.query(\"id == 207\"), lat=\"위도\", lon=\"경도\",zoom=12)\n",
    "    fig.update_traces(\n",
    "        marker=go.scattermapbox.Marker(symbol=\"circle\", size=10, opacity=0.001, color=\"white\")\n",
    "    )\n",
    "\n",
    "    fig.update_layout(\n",
    "        mapbox=dict(\n",
    "            accesstoken=\"pk.eyJ1IjoieWFuZ29vcyIsImEiOiJjbDNqd2tkN2IwbGdmM2pvNzF0c2M4NnZkIn0.J3IjPYg3w28cGiWkUD7bnA\",\n",
    "            # style='mapbox://styles/yangoos/cl3jubvl7000c14llgtoev0nm'\n",
    "        ),\n",
    "        margin=dict(l=0, r=0, t=0, b=0)\n",
    "    )\n",
    "    return fig\n",
    "\n",
    "app.run_server(debug=True, mode=\"external\", height=500, width=\"100%\")\n"
   ]
  },
  {
   "cell_type": "code",
   "execution_count": null,
   "metadata": {},
   "outputs": [],
   "source": [
    "def hello(a=0) :\n",
    "    # trick figure\n",
    "    fig = px.scatter_mapbox(station.query(\"id == 207\"), lat=\"위도\", lon=\"경도\",zoom=12)\n",
    "    fig.update_traces(\n",
    "        marker=go.scattermapbox.Marker(symbol=\"circle\", size=10, opacity=0.001, color=\"white\")\n",
    "    )\n",
    "\n",
    "    fig.update_layout(\n",
    "        mapbox=dict(\n",
    "            accesstoken=\"pk.eyJ1IjoieWFuZ29vcyIsImEiOiJjbDNqd2tkN2IwbGdmM2pvNzF0c2M4NnZkIn0.J3IjPYg3w28cGiWkUD7bnA\",\n",
    "            # style='mapbox://styles/yangoos/cl3jubvl7000c14llgtoev0nm'\n",
    "        ),\n",
    "        margin=dict(l=20, r=20, t=20, b=20)\n",
    "    )\n",
    "    return fig\n"
   ]
  }
 ],
 "metadata": {
  "kernelspec": {
   "display_name": "Python 3.9.7 ('base')",
   "language": "python",
   "name": "python3"
  },
  "language_info": {
   "codemirror_mode": {
    "name": "ipython",
    "version": 3
   },
   "file_extension": ".py",
   "mimetype": "text/x-python",
   "name": "python",
   "nbconvert_exporter": "python",
   "pygments_lexer": "ipython3",
   "version": "3.9.7"
  },
  "orig_nbformat": 4,
  "vscode": {
   "interpreter": {
    "hash": "47be6c136d2b4a6c76f7d3db2f991a133eb39bf1d99b20f1b6e05e99edd1faf4"
   }
  }
 },
 "nbformat": 4,
 "nbformat_minor": 2
}
