{
 "cells": [
  {
   "cell_type": "code",
   "execution_count": 1,
   "metadata": {},
   "outputs": [],
   "source": [
    "import pandas as pd\n",
    "import numpy as np\n",
    "from tqdm import notebook\n",
    "import plotly.graph_objects as go\n",
    "import plotly.express as px\n",
    "import ast "
   ]
  },
  {
   "cell_type": "code",
   "execution_count": 2,
   "metadata": {},
   "outputs": [],
   "source": [
    "station = pd.read_csv('data/seoul_bike_station_01_12.csv',encoding=\"CP949\",index_col=0)\n",
    "near_bus = pd.read_csv('data/near_bus_200m.csv',encoding=\"CP949\",index_col=0)\n",
    "seoul_bike = pd.read_parquet('D:/git_local_repository/data_for_project/seoul_bike/seoul_bike_2021.parquet.gzip',columns=[ 'st_id1', 'st_id2', 'riding_time',\n",
    "       'dist', 'm_pm'])\n",
    "\n",
    "def haversine_np(lon1, lat1, lon2, lat2):\n",
    "    \"\"\"\n",
    "    Calculate the great circle distance between two points\n",
    "    on the earth (specified in decimal degrees)\n",
    "\n",
    "    All args must be of equal length.    \n",
    "\n",
    "    \"\"\"\n",
    "    lon1, lat1, lon2, lat2 = map(np.radians, [lon1, lat1, lon2, lat2])\n",
    "\n",
    "    dlon = lon2 - lon1\n",
    "    dlat = lat2 - lat1\n",
    "\n",
    "    a = np.sin(dlat / 2.0) ** 2 + np.cos(lat1) * np.cos(lat2) * np.sin(dlon / 2.0) ** 2\n",
    "\n",
    "    c = 2 * np.arcsin(np.sqrt(a))\n",
    "    m = 6367 * c * 1000\n",
    "    return m"
   ]
  },
  {
   "cell_type": "code",
   "execution_count": 43,
   "metadata": {},
   "outputs": [
    {
     "name": "stderr",
     "output_type": "stream",
     "text": [
      "c:\\Users\\679oo\\anaconda3\\lib\\site-packages\\pandas\\core\\indexing.py:1667: SettingWithCopyWarning:\n",
      "\n",
      "\n",
      "A value is trying to be set on a copy of a slice from a DataFrame.\n",
      "Try using .loc[row_indexer,col_indexer] = value instead\n",
      "\n",
      "See the caveats in the documentation: https://pandas.pydata.org/pandas-docs/stable/user_guide/indexing.html#returning-a-view-versus-a-copy\n",
      "\n"
     ]
    },
    {
     "data": {
      "text/html": [
       "<div>\n",
       "<style scoped>\n",
       "    .dataframe tbody tr th:only-of-type {\n",
       "        vertical-align: middle;\n",
       "    }\n",
       "\n",
       "    .dataframe tbody tr th {\n",
       "        vertical-align: top;\n",
       "    }\n",
       "\n",
       "    .dataframe thead th {\n",
       "        text-align: right;\n",
       "    }\n",
       "</style>\n",
       "<table border=\"1\" class=\"dataframe\">\n",
       "  <thead>\n",
       "    <tr style=\"text-align: right;\">\n",
       "      <th></th>\n",
       "      <th>bike_id</th>\n",
       "      <th>bus</th>\n",
       "      <th>order</th>\n",
       "      <th>id</th>\n",
       "      <th>name</th>\n",
       "      <th>경도</th>\n",
       "      <th>위도</th>\n",
       "    </tr>\n",
       "  </thead>\n",
       "  <tbody>\n",
       "    <tr>\n",
       "      <th>453</th>\n",
       "      <td>[180,198,3114]</td>\n",
       "      <td>N26</td>\n",
       "      <td>36</td>\n",
       "      <td>13045</td>\n",
       "      <td>충정로역</td>\n",
       "      <td>126.963492</td>\n",
       "      <td>37.561058</td>\n",
       "    </tr>\n",
       "    <tr>\n",
       "      <th>1717</th>\n",
       "      <td>[180,198,3114]</td>\n",
       "      <td>N75</td>\n",
       "      <td>36</td>\n",
       "      <td>13045</td>\n",
       "      <td>충정로역</td>\n",
       "      <td>126.963492</td>\n",
       "      <td>37.561058</td>\n",
       "    </tr>\n",
       "  </tbody>\n",
       "</table>\n",
       "</div>"
      ],
      "text/plain": [
       "             bike_id  bus  order     id  name          경도         위도\n",
       "453   [180,198,3114]  N26     36  13045  충정로역  126.963492  37.561058\n",
       "1717  [180,198,3114]  N75     36  13045  충정로역  126.963492  37.561058"
      ]
     },
     "execution_count": 43,
     "metadata": {},
     "output_type": "execute_result"
    }
   ],
   "source": [
    "starting_bus_id = 13045\n",
    "ending_bike_id = 754\n",
    "\n",
    "# 출발, 도착\n",
    "starting_point = near_bus[near_bus['id']==starting_bus_id]\n",
    "ending_point = station.query('id==@ending_bike_id')\n",
    "\n",
    "# 관련 노선 검색\n",
    "bus_route_num = starting_point['bus'].tolist()\n",
    "bus_route = near_bus.query('bus == @bus_route_num')\n",
    "\n",
    "# 목적지 대여소와 가까운 버스 정류장 검색 -> list\n",
    "result_km = haversine_np(ending_point['경도'].values, ending_point['위도'].values, bus_route['경도'].values, bus_route['위도'].values)\n",
    "\n",
    "# 목적지 대여소 근방 1000m 이내 정류장 선택 -> df\n",
    "bus_route.loc[:,'dist'] = result_km\n",
    "bus_route_sorted = bus_route[bus_route['dist'] < 1500].dropna().drop_duplicates(subset=['id']).sort_values(by='id')\n",
    "\n",
    "\n",
    "starting_point"
   ]
  },
  {
   "cell_type": "code",
   "execution_count": 40,
   "metadata": {},
   "outputs": [],
   "source": [
    "def bus_to_station(starting_bus_id: list[int] , ending_bike_id:int) :\n",
    "    # ---- 버스 정류장 선택하기  ----\n",
    "\n",
    "    # 출발, 도착\n",
    "    starting_point = near_bus[near_bus['id']==starting_bus_id]\n",
    "    ending_point = station.query('id==@ending_bike_id')\n",
    "\n",
    "    # 관련 노선 검색\n",
    "    bus_route_num = starting_point['bus'].tolist()\n",
    "    bus_route = near_bus.query('bus == @bus_route_num')\n",
    "\n",
    "    # 목적지 대여소와 가까운 버스 정류장 검색 -> list\n",
    "    result_km = haversine_np(ending_point['경도'].values, ending_point['위도'].values, bus_route['경도'].values, bus_route['위도'].values)\n",
    "\n",
    "    # 목적지 대여소 근방 1000m 이내 정류장 선택 -> df\n",
    "    bus_route.loc[:,'dist'] = result_km\n",
    "    bus_route_sorted = bus_route[bus_route['dist'] < 1500].dropna().drop_duplicates(subset=['id']).sort_values(by='id')\n",
    "\n",
    "\n",
    "    # 검색 결과 없을때 검색 종료\n",
    "    if bus_route_sorted.values.size == 0 : \n",
    "        print(bus_route_sorted)\n",
    "        print('검색결과 없음')\n",
    "\n",
    "    # 정류장과 목적지가 범위 내에 있는 경우 bus 추천 없이 바로 계산 --> df\n",
    "    elif starting_bus_id in bus_route_sorted['id'].tolist() :\n",
    "        bus_route_sorted = bus_route_sorted[bus_route_sorted['id'] == starting_bus_id]\n",
    "\n",
    "\n",
    "\n",
    "\n",
    "    # ---- 버스 정류장 근방에 있는 대여소와 목적지 대여소 간 계산 ----\n",
    "\n",
    "    # 추천_대여소_선정 : ast : '[123,]' => [123]으로 만들어줌 --> list\n",
    "    b=[]\n",
    "    for i in range(len(bus_route_sorted)) : \n",
    "        a = bus_route_sorted['bike_id'].iloc[i]\n",
    "        a = ast.literal_eval(a)\n",
    "        b.extend(a)\n",
    "    starting_point_list = list(set(b))\n",
    "\n",
    "    # 추천 대여소 리스트 만들기 \n",
    "    BM_1 = (seoul_bike['st_id1'] == ending_point['id'].iloc[0]) & (seoul_bike['st_id2'].isin(starting_point_list))\n",
    "    BM_2 = (seoul_bike['st_id2'] == ending_point['id'].iloc[0]) & (seoul_bike['st_id1'].isin(starting_point_list))\n",
    "    seoul_bike_sorting = seoul_bike.loc[BM_1 | BM_2] # 거리 및 시간 계산을 위해 따로 추출\n",
    "\n",
    "    # 버스정류장 근처 대여소와 집 근처 대여소 거리 비교\n",
    "    ending_station = ending_point['id'].iloc[0]\n",
    "\n",
    "    result_recomend =[]\n",
    "    for starting_station in starting_point_list:\n",
    "        BM_1 = (seoul_bike_sorting[\"st_id1\"] == starting_station) & (seoul_bike_sorting[\"st_id2\"] == ending_station)\n",
    "        BM_2 = (seoul_bike_sorting[\"st_id2\"] == starting_station) & (seoul_bike_sorting[\"st_id1\"] == ending_station)\n",
    "\n",
    "        # 평균거리 계산\n",
    "        mean_station = (\n",
    "            seoul_bike_sorting[BM_1 | BM_2][\"riding_time\"]\n",
    "            .value_counts()\n",
    "            .sort_values(ascending=False)[:5]\n",
    "            .index.values.mean()\n",
    "        )\n",
    "\n",
    "        # 이용기록 계산\n",
    "        num_station = len(seoul_bike_sorting[BM_1 | BM_2])\n",
    "\n",
    "        # 직선거리 계산\n",
    "        lat_1 = station.query(\"id==@starting_station\")[\"위도\"].values\n",
    "        lon_1 = station.query(\"id==@starting_station\")[\"경도\"].values\n",
    "        lat_2 = station.query(\"id==@ending_station\")[\"위도\"].values\n",
    "        lon_2 = station.query(\"id==@ending_station\")[\"경도\"].values\n",
    "        dist_station = haversine_np(lat_1, lon_1, lat_2, lon_2)\n",
    "        \n",
    "        #자료 저장\n",
    "        station_info = station.query('id==@starting_station')\n",
    "        result_recomend.append([station_info['주소2'].iloc[0],station_info['위도'].iloc[0],station_info['경도'].iloc[0],starting_station, mean_station,num_station,f\"{dist_station[0]/1000 :.2f}km\"])\n",
    "\n",
    "    #return 값    \n",
    "    result_recomend = pd.DataFrame(result_recomend,columns=['주소2','위도','경도','id','time','num','dist'])\n",
    "    bus_info = bus_route_sorted[['name','경도','위도','id','bus']]\n",
    "\n",
    "    return result_recomend, bus_info, bus_route\n",
    "\n",
    "\n",
    "\n",
    "# 16001 염창\n",
    "# 13045 충정로\n",
    "starting_bus_id = 16002\n",
    "ending_bike_id = 754\n",
    "\n",
    "result_recommend, bus_info = bus_to_station(starting_bus_id, ending_bike_id)\n",
    "\n",
    "\n"
   ]
  },
  {
   "cell_type": "code",
   "execution_count": null,
   "metadata": {},
   "outputs": [],
   "source": [
    "# -- bus 정류장 그리기 --#\n",
    "fig = px.scatter_mapbox(\n",
    "    bus_info, lat=\"위도\", lon=\"경도\", hover_name=\"name\", hover_data=[\"id\"],zoom=11,height=500\n",
    ")\n",
    "fig.update_traces(\n",
    "    marker=go.scattermapbox.Marker(symbol=\"circle\", size=10, opacity=0.7, color=\"black\")\n",
    ")\n",
    "\n",
    "# -- 추천대여소 대여소 그리기 -- #\n",
    "fig_2 = px.scatter_mapbox(station.query(\"id == @starting_point_list\"), lat=\"위도\", lon=\"경도\")\n",
    "fig_2.update_traces(\n",
    "    marker=go.scattermapbox.Marker(symbol=\"circle\", size=10, opacity=0.7, color=\"blue\")\n",
    ")\n",
    "fig.add_trace(fig_2.data[0])\n",
    "\n",
    "\n",
    "# --반경 내 따릉이 대여소 그리기--#\n",
    "\n",
    "# 거리 계산\n",
    "station_haversine = haversine_np(\n",
    "    ending_point[\"경도\"].values,\n",
    "    ending_point[\"위도\"].values,\n",
    "    station[\"경도\"].values,\n",
    "    station[\"위도\"].values,\n",
    ")\n",
    "\n",
    "# 데이터 추가\n",
    "around_station = station.copy()\n",
    "around_station['dist'] = station_haversine\n",
    "around_station = around_station[around_station['dist'] < 1000] \n",
    "\n",
    "# 시각화\n",
    "fig_3 = go.Figure(\n",
    "    go.Scattermapbox(\n",
    "        name=f\"station with in {round(1000/1000,2)}km\",\n",
    "        lat=around_station[\"위도\"],\n",
    "        lon=around_station[\"경도\"],\n",
    "        mode=\"markers\",\n",
    "        # marker = {'size': 20, 'symbol': \"bus\"},\n",
    "        marker=go.scattermapbox.Marker(size=8, color=\"black\", opacity=0.2),\n",
    "        text=around_station[\"주소2\"],\n",
    "    )\n",
    ")\n",
    "fig.add_trace(fig_3.data[0])\n",
    "\n",
    "# --목적지 대여소 그리기 -- #\n",
    "fig_3 = go.Figure(\n",
    "    go.Scattermapbox(\n",
    "        name=\"location\",\n",
    "        lat=ending_point[\"위도\"],\n",
    "        lon=ending_point[\"경도\"],\n",
    "        mode=\"markers\",\n",
    "        # marker = {'size': 20, 'symbol': \"bus\"},\n",
    "        marker=go.scattermapbox.Marker(size=10, color=\"fuchsia\", opacity=0.8),\n",
    "        text=ending_point[\"주소2\"].values,\n",
    "    )\n",
    ")\n",
    "fig.add_trace(fig_3.data[0])\n",
    "\n",
    "fig.update_layout(\n",
    "    mapbox=dict(\n",
    "        accesstoken=\"pk.eyJ1IjoieWFuZ29vcyIsImEiOiJjbDNqd2tkN2IwbGdmM2pvNzF0c2M4NnZkIn0.J3IjPYg3w28cGiWkUD7bnA\",\n",
    "        # style='mapbox://styles/yangoos/cl3jubvl7000c14llgtoev0nm'\n",
    "    ),\n",
    ")\n",
    "fig.show()\n"
   ]
  },
  {
   "cell_type": "code",
   "execution_count": 17,
   "metadata": {},
   "outputs": [
    {
     "data": {
      "text/plain": [
       "126.874489"
      ]
     },
     "execution_count": 17,
     "metadata": {},
     "output_type": "execute_result"
    }
   ],
   "source": [
    "ending_point  = station.query(\"id == @ending_bike_id\")[['경도','위도']].values[0]\n",
    "\n",
    "starting_point = result_recommend[['경도','위도']].values[0]\n"
   ]
  },
  {
   "cell_type": "markdown",
   "metadata": {},
   "source": [
    "> ### 길찾기 기능(비추..)"
   ]
  },
  {
   "cell_type": "code",
   "execution_count": 32,
   "metadata": {},
   "outputs": [
    {
     "data": {
      "application/vnd.plotly.v1+json": {
       "config": {
        "plotlyServerURL": "https://plot.ly"
       },
       "data": [
        {
         "lat": [
          37.5470518,
          37.5470324,
          37.5470332,
          37.5470468,
          37.5470926,
          37.5471308,
          37.5472042,
          37.5472764,
          37.5474164,
          37.547571,
          37.5477028,
          37.5475382,
          37.5474661,
          37.5473576,
          37.5472546,
          37.5471791,
          37.5470649,
          37.5470252,
          37.5469726,
          37.5467804,
          37.5467101,
          37.5467073,
          37.5466915,
          37.5465913,
          37.5465696,
          37.5465081,
          37.545621,
          37.5454999,
          37.545481,
          37.5454159,
          37.5453527,
          37.5448404,
          37.5443589,
          37.5443056,
          37.5442035,
          37.5439153,
          37.5439054,
          37.5438666,
          37.5437735,
          37.5437184,
          37.5436768,
          37.5435079,
          37.543432,
          37.5432164,
          37.5431728,
          37.5431682,
          37.5431092,
          37.543003,
          37.5429495,
          37.5428634,
          37.5427773,
          37.5426207,
          37.5425881,
          37.5425664,
          37.5425329,
          37.5425095,
          37.5423641,
          37.5421212,
          37.5421167,
          37.5420824,
          37.5420553,
          37.5417024,
          37.5415968,
          37.5413666,
          37.5410192,
          37.5406826,
          37.5404742,
          37.5404183,
          37.5401747,
          37.5398976,
          37.5398769,
          37.5397604,
          37.5397025,
          37.5395509,
          37.5395161,
          37.5394742,
          37.5393331,
          37.5391929,
          37.5389499,
          37.5389061,
          37.5388231,
          37.5385356,
          37.5385347,
          37.5384053,
          37.5383758,
          37.5382722,
          37.5381677,
          37.538082,
          37.5378713,
          37.5378419,
          37.5378222,
          37.5377473,
          37.5376142,
          37.5375616,
          37.537929,
          37.5380098,
          37.5382246,
          37.5383507,
          37.5384749,
          37.5389162,
          37.5397809,
          37.5398705,
          37.5399077,
          37.5400381,
          37.5406611,
          37.5407273,
          37.5409022,
          37.5409577,
          37.5409905,
          37.5411215,
          37.5412376
         ],
         "lon": [
          126.874494,
          126.8738998,
          126.8737085,
          126.8735453,
          126.8731816,
          126.8728994,
          126.8724754,
          126.8721465,
          126.8716993,
          126.871278,
          126.8709859,
          126.8708775,
          126.8710389,
          126.8713228,
          126.8716067,
          126.8718292,
          126.8722049,
          126.872375,
          126.8723132,
          126.8719265,
          126.8717629,
          126.871746,
          126.8716533,
          126.871619,
          126.8716113,
          126.8715846,
          126.8712049,
          126.8711528,
          126.8711439,
          126.8711172,
          126.8710895,
          126.8708651,
          126.8706529,
          126.8706285,
          126.8705875,
          126.8704699,
          126.8704654,
          126.8704499,
          126.87041,
          126.8703844,
          126.8703644,
          126.870299,
          126.8702611,
          126.8700479,
          126.8699882,
          126.8699804,
          126.8699027,
          126.8697655,
          126.8696981,
          126.869606,
          126.8695139,
          126.8693952,
          126.8693706,
          126.869356,
          126.8693371,
          126.8693282,
          126.8692751,
          126.8692025,
          126.8692002,
          126.8691915,
          126.8691838,
          126.8690984,
          126.8690665,
          126.8690005,
          126.868931,
          126.8688614,
          126.8688247,
          126.8688116,
          126.8687616,
          126.8687016,
          126.8686973,
          126.8686643,
          126.8687814,
          126.869086,
          126.8691554,
          126.8692383,
          126.8694897,
          126.8697399,
          126.8701506,
          126.8702166,
          126.8703656,
          126.8708796,
          126.8708807,
          126.8711173,
          126.8711696,
          126.8713515,
          126.8715335,
          126.8716893,
          126.8720703,
          126.8721226,
          126.8721578,
          126.8722977,
          126.8725422,
          126.8726388,
          126.8730908,
          126.8731897,
          126.8734245,
          126.8735694,
          126.8737121,
          126.8741533,
          126.8748886,
          126.8749614,
          126.8749996,
          126.875114,
          126.8756589,
          126.8757308,
          126.8759207,
          126.8760198,
          126.876075,
          126.8763082,
          126.8766197
         ],
         "marker": {
          "color": "#AD00FF",
          "opacity": 0.5,
          "size": 15,
          "symbol": "circle"
         },
         "mode": "lines",
         "type": "scattermapbox"
        }
       ],
       "layout": {
        "mapbox": {
         "accesstoken": "pk.eyJ1IjoieWFuZ29vcyIsImEiOiJjbDNqd2tkN2IwbGdmM2pvNzF0c2M4NnZkIn0.J3IjPYg3w28cGiWkUD7bnA",
         "center": {
          "lat": 37.58,
          "lon": 126.87
         },
         "zoom": 10
        },
        "margin": {
         "b": 20,
         "l": 20,
         "r": 20,
         "t": 20
        },
        "template": {
         "data": {
          "bar": [
           {
            "error_x": {
             "color": "#2a3f5f"
            },
            "error_y": {
             "color": "#2a3f5f"
            },
            "marker": {
             "line": {
              "color": "#E5ECF6",
              "width": 0.5
             },
             "pattern": {
              "fillmode": "overlay",
              "size": 10,
              "solidity": 0.2
             }
            },
            "type": "bar"
           }
          ],
          "barpolar": [
           {
            "marker": {
             "line": {
              "color": "#E5ECF6",
              "width": 0.5
             },
             "pattern": {
              "fillmode": "overlay",
              "size": 10,
              "solidity": 0.2
             }
            },
            "type": "barpolar"
           }
          ],
          "carpet": [
           {
            "aaxis": {
             "endlinecolor": "#2a3f5f",
             "gridcolor": "white",
             "linecolor": "white",
             "minorgridcolor": "white",
             "startlinecolor": "#2a3f5f"
            },
            "baxis": {
             "endlinecolor": "#2a3f5f",
             "gridcolor": "white",
             "linecolor": "white",
             "minorgridcolor": "white",
             "startlinecolor": "#2a3f5f"
            },
            "type": "carpet"
           }
          ],
          "choropleth": [
           {
            "colorbar": {
             "outlinewidth": 0,
             "ticks": ""
            },
            "type": "choropleth"
           }
          ],
          "contour": [
           {
            "colorbar": {
             "outlinewidth": 0,
             "ticks": ""
            },
            "colorscale": [
             [
              0,
              "#0d0887"
             ],
             [
              0.1111111111111111,
              "#46039f"
             ],
             [
              0.2222222222222222,
              "#7201a8"
             ],
             [
              0.3333333333333333,
              "#9c179e"
             ],
             [
              0.4444444444444444,
              "#bd3786"
             ],
             [
              0.5555555555555556,
              "#d8576b"
             ],
             [
              0.6666666666666666,
              "#ed7953"
             ],
             [
              0.7777777777777778,
              "#fb9f3a"
             ],
             [
              0.8888888888888888,
              "#fdca26"
             ],
             [
              1,
              "#f0f921"
             ]
            ],
            "type": "contour"
           }
          ],
          "contourcarpet": [
           {
            "colorbar": {
             "outlinewidth": 0,
             "ticks": ""
            },
            "type": "contourcarpet"
           }
          ],
          "heatmap": [
           {
            "colorbar": {
             "outlinewidth": 0,
             "ticks": ""
            },
            "colorscale": [
             [
              0,
              "#0d0887"
             ],
             [
              0.1111111111111111,
              "#46039f"
             ],
             [
              0.2222222222222222,
              "#7201a8"
             ],
             [
              0.3333333333333333,
              "#9c179e"
             ],
             [
              0.4444444444444444,
              "#bd3786"
             ],
             [
              0.5555555555555556,
              "#d8576b"
             ],
             [
              0.6666666666666666,
              "#ed7953"
             ],
             [
              0.7777777777777778,
              "#fb9f3a"
             ],
             [
              0.8888888888888888,
              "#fdca26"
             ],
             [
              1,
              "#f0f921"
             ]
            ],
            "type": "heatmap"
           }
          ],
          "heatmapgl": [
           {
            "colorbar": {
             "outlinewidth": 0,
             "ticks": ""
            },
            "colorscale": [
             [
              0,
              "#0d0887"
             ],
             [
              0.1111111111111111,
              "#46039f"
             ],
             [
              0.2222222222222222,
              "#7201a8"
             ],
             [
              0.3333333333333333,
              "#9c179e"
             ],
             [
              0.4444444444444444,
              "#bd3786"
             ],
             [
              0.5555555555555556,
              "#d8576b"
             ],
             [
              0.6666666666666666,
              "#ed7953"
             ],
             [
              0.7777777777777778,
              "#fb9f3a"
             ],
             [
              0.8888888888888888,
              "#fdca26"
             ],
             [
              1,
              "#f0f921"
             ]
            ],
            "type": "heatmapgl"
           }
          ],
          "histogram": [
           {
            "marker": {
             "pattern": {
              "fillmode": "overlay",
              "size": 10,
              "solidity": 0.2
             }
            },
            "type": "histogram"
           }
          ],
          "histogram2d": [
           {
            "colorbar": {
             "outlinewidth": 0,
             "ticks": ""
            },
            "colorscale": [
             [
              0,
              "#0d0887"
             ],
             [
              0.1111111111111111,
              "#46039f"
             ],
             [
              0.2222222222222222,
              "#7201a8"
             ],
             [
              0.3333333333333333,
              "#9c179e"
             ],
             [
              0.4444444444444444,
              "#bd3786"
             ],
             [
              0.5555555555555556,
              "#d8576b"
             ],
             [
              0.6666666666666666,
              "#ed7953"
             ],
             [
              0.7777777777777778,
              "#fb9f3a"
             ],
             [
              0.8888888888888888,
              "#fdca26"
             ],
             [
              1,
              "#f0f921"
             ]
            ],
            "type": "histogram2d"
           }
          ],
          "histogram2dcontour": [
           {
            "colorbar": {
             "outlinewidth": 0,
             "ticks": ""
            },
            "colorscale": [
             [
              0,
              "#0d0887"
             ],
             [
              0.1111111111111111,
              "#46039f"
             ],
             [
              0.2222222222222222,
              "#7201a8"
             ],
             [
              0.3333333333333333,
              "#9c179e"
             ],
             [
              0.4444444444444444,
              "#bd3786"
             ],
             [
              0.5555555555555556,
              "#d8576b"
             ],
             [
              0.6666666666666666,
              "#ed7953"
             ],
             [
              0.7777777777777778,
              "#fb9f3a"
             ],
             [
              0.8888888888888888,
              "#fdca26"
             ],
             [
              1,
              "#f0f921"
             ]
            ],
            "type": "histogram2dcontour"
           }
          ],
          "mesh3d": [
           {
            "colorbar": {
             "outlinewidth": 0,
             "ticks": ""
            },
            "type": "mesh3d"
           }
          ],
          "parcoords": [
           {
            "line": {
             "colorbar": {
              "outlinewidth": 0,
              "ticks": ""
             }
            },
            "type": "parcoords"
           }
          ],
          "pie": [
           {
            "automargin": true,
            "type": "pie"
           }
          ],
          "scatter": [
           {
            "marker": {
             "colorbar": {
              "outlinewidth": 0,
              "ticks": ""
             }
            },
            "type": "scatter"
           }
          ],
          "scatter3d": [
           {
            "line": {
             "colorbar": {
              "outlinewidth": 0,
              "ticks": ""
             }
            },
            "marker": {
             "colorbar": {
              "outlinewidth": 0,
              "ticks": ""
             }
            },
            "type": "scatter3d"
           }
          ],
          "scattercarpet": [
           {
            "marker": {
             "colorbar": {
              "outlinewidth": 0,
              "ticks": ""
             }
            },
            "type": "scattercarpet"
           }
          ],
          "scattergeo": [
           {
            "marker": {
             "colorbar": {
              "outlinewidth": 0,
              "ticks": ""
             }
            },
            "type": "scattergeo"
           }
          ],
          "scattergl": [
           {
            "marker": {
             "colorbar": {
              "outlinewidth": 0,
              "ticks": ""
             }
            },
            "type": "scattergl"
           }
          ],
          "scattermapbox": [
           {
            "marker": {
             "colorbar": {
              "outlinewidth": 0,
              "ticks": ""
             }
            },
            "type": "scattermapbox"
           }
          ],
          "scatterpolar": [
           {
            "marker": {
             "colorbar": {
              "outlinewidth": 0,
              "ticks": ""
             }
            },
            "type": "scatterpolar"
           }
          ],
          "scatterpolargl": [
           {
            "marker": {
             "colorbar": {
              "outlinewidth": 0,
              "ticks": ""
             }
            },
            "type": "scatterpolargl"
           }
          ],
          "scatterternary": [
           {
            "marker": {
             "colorbar": {
              "outlinewidth": 0,
              "ticks": ""
             }
            },
            "type": "scatterternary"
           }
          ],
          "surface": [
           {
            "colorbar": {
             "outlinewidth": 0,
             "ticks": ""
            },
            "colorscale": [
             [
              0,
              "#0d0887"
             ],
             [
              0.1111111111111111,
              "#46039f"
             ],
             [
              0.2222222222222222,
              "#7201a8"
             ],
             [
              0.3333333333333333,
              "#9c179e"
             ],
             [
              0.4444444444444444,
              "#bd3786"
             ],
             [
              0.5555555555555556,
              "#d8576b"
             ],
             [
              0.6666666666666666,
              "#ed7953"
             ],
             [
              0.7777777777777778,
              "#fb9f3a"
             ],
             [
              0.8888888888888888,
              "#fdca26"
             ],
             [
              1,
              "#f0f921"
             ]
            ],
            "type": "surface"
           }
          ],
          "table": [
           {
            "cells": {
             "fill": {
              "color": "#EBF0F8"
             },
             "line": {
              "color": "white"
             }
            },
            "header": {
             "fill": {
              "color": "#C8D4E3"
             },
             "line": {
              "color": "white"
             }
            },
            "type": "table"
           }
          ]
         },
         "layout": {
          "annotationdefaults": {
           "arrowcolor": "#2a3f5f",
           "arrowhead": 0,
           "arrowwidth": 1
          },
          "autotypenumbers": "strict",
          "coloraxis": {
           "colorbar": {
            "outlinewidth": 0,
            "ticks": ""
           }
          },
          "colorscale": {
           "diverging": [
            [
             0,
             "#8e0152"
            ],
            [
             0.1,
             "#c51b7d"
            ],
            [
             0.2,
             "#de77ae"
            ],
            [
             0.3,
             "#f1b6da"
            ],
            [
             0.4,
             "#fde0ef"
            ],
            [
             0.5,
             "#f7f7f7"
            ],
            [
             0.6,
             "#e6f5d0"
            ],
            [
             0.7,
             "#b8e186"
            ],
            [
             0.8,
             "#7fbc41"
            ],
            [
             0.9,
             "#4d9221"
            ],
            [
             1,
             "#276419"
            ]
           ],
           "sequential": [
            [
             0,
             "#0d0887"
            ],
            [
             0.1111111111111111,
             "#46039f"
            ],
            [
             0.2222222222222222,
             "#7201a8"
            ],
            [
             0.3333333333333333,
             "#9c179e"
            ],
            [
             0.4444444444444444,
             "#bd3786"
            ],
            [
             0.5555555555555556,
             "#d8576b"
            ],
            [
             0.6666666666666666,
             "#ed7953"
            ],
            [
             0.7777777777777778,
             "#fb9f3a"
            ],
            [
             0.8888888888888888,
             "#fdca26"
            ],
            [
             1,
             "#f0f921"
            ]
           ],
           "sequentialminus": [
            [
             0,
             "#0d0887"
            ],
            [
             0.1111111111111111,
             "#46039f"
            ],
            [
             0.2222222222222222,
             "#7201a8"
            ],
            [
             0.3333333333333333,
             "#9c179e"
            ],
            [
             0.4444444444444444,
             "#bd3786"
            ],
            [
             0.5555555555555556,
             "#d8576b"
            ],
            [
             0.6666666666666666,
             "#ed7953"
            ],
            [
             0.7777777777777778,
             "#fb9f3a"
            ],
            [
             0.8888888888888888,
             "#fdca26"
            ],
            [
             1,
             "#f0f921"
            ]
           ]
          },
          "colorway": [
           "#636efa",
           "#EF553B",
           "#00cc96",
           "#ab63fa",
           "#FFA15A",
           "#19d3f3",
           "#FF6692",
           "#B6E880",
           "#FF97FF",
           "#FECB52"
          ],
          "font": {
           "color": "#2a3f5f"
          },
          "geo": {
           "bgcolor": "white",
           "lakecolor": "white",
           "landcolor": "#E5ECF6",
           "showlakes": true,
           "showland": true,
           "subunitcolor": "white"
          },
          "hoverlabel": {
           "align": "left"
          },
          "hovermode": "closest",
          "mapbox": {
           "style": "light"
          },
          "paper_bgcolor": "white",
          "plot_bgcolor": "#E5ECF6",
          "polar": {
           "angularaxis": {
            "gridcolor": "white",
            "linecolor": "white",
            "ticks": ""
           },
           "bgcolor": "#E5ECF6",
           "radialaxis": {
            "gridcolor": "white",
            "linecolor": "white",
            "ticks": ""
           }
          },
          "scene": {
           "xaxis": {
            "backgroundcolor": "#E5ECF6",
            "gridcolor": "white",
            "gridwidth": 2,
            "linecolor": "white",
            "showbackground": true,
            "ticks": "",
            "zerolinecolor": "white"
           },
           "yaxis": {
            "backgroundcolor": "#E5ECF6",
            "gridcolor": "white",
            "gridwidth": 2,
            "linecolor": "white",
            "showbackground": true,
            "ticks": "",
            "zerolinecolor": "white"
           },
           "zaxis": {
            "backgroundcolor": "#E5ECF6",
            "gridcolor": "white",
            "gridwidth": 2,
            "linecolor": "white",
            "showbackground": true,
            "ticks": "",
            "zerolinecolor": "white"
           }
          },
          "shapedefaults": {
           "line": {
            "color": "#2a3f5f"
           }
          },
          "ternary": {
           "aaxis": {
            "gridcolor": "white",
            "linecolor": "white",
            "ticks": ""
           },
           "baxis": {
            "gridcolor": "white",
            "linecolor": "white",
            "ticks": ""
           },
           "bgcolor": "#E5ECF6",
           "caxis": {
            "gridcolor": "white",
            "linecolor": "white",
            "ticks": ""
           }
          },
          "title": {
           "x": 0.05
          },
          "xaxis": {
           "automargin": true,
           "gridcolor": "white",
           "linecolor": "white",
           "ticks": "",
           "title": {
            "standoff": 15
           },
           "zerolinecolor": "white",
           "zerolinewidth": 2
          },
          "yaxis": {
           "automargin": true,
           "gridcolor": "white",
           "linecolor": "white",
           "ticks": "",
           "title": {
            "standoff": 15
           },
           "zerolinecolor": "white",
           "zerolinewidth": 2
          }
         }
        }
       }
      }
     },
     "metadata": {},
     "output_type": "display_data"
    }
   ],
   "source": [
    "import json\n",
    "import urllib\n",
    "from urllib.request import Request, urlopen\n",
    "import pandas as pd\n",
    "import numpy as np\n",
    "# import matplotlib.pyplot as plt\n",
    "# import seaborn as sns\n",
    "import plotly.express as px\n",
    "import plotly.graph_objects as go\n",
    "from tqdm import notebook\n",
    "import warnings\n",
    "\n",
    "\n",
    "# *-- Directions 5 활용 코드 --*\n",
    "option = \"traoptimal\"\n",
    "# option : 탐색옵션 [최대 3개, traoptimal(기본 옵션)\n",
    "# / trafast, tracomfort, traavoidtoll, traavoidcaronly]\n",
    "\n",
    "\n",
    "def get_optimal_route(start, goal, waypoints=[\"\", \"\"], option=option):\n",
    "    client_id = '44vlsxxinm'\n",
    "    client_secret = 'BOHC6psFnLkjdRrlkLn24S1apLUTsuzrCnMuCi4A'\n",
    "    # start=/goal=/(waypoint=)/(option=) 순으로 request parameter 지정\n",
    "    url = f\"https://naveropenapi.apigw.ntruss.com/map-direction-15/v1/driving?start={start[0]},{start[1]}&waypoint={waypoints[0]},{waypoints[1]}&goal={goal[0]},{goal[1]}&option={option}\"\n",
    "    request = urllib.request.Request(url)\n",
    "    request.add_header(\"X-NCP-APIGW-API-KEY-ID\", client_id)\n",
    "    request.add_header(\"X-NCP-APIGW-API-KEY\", client_secret)\n",
    "\n",
    "    response = urllib.request.urlopen(request)\n",
    "    res = response.getcode()\n",
    "\n",
    "    if res == 200:\n",
    "        response_body = response.read().decode(\"utf-8\")\n",
    "        return json.loads(response_body)\n",
    "\n",
    "    else:\n",
    "        print(\"ERROR\")\n",
    "\n",
    "\n",
    "\n",
    "starting_point = result_recommend[['경도','위도']].values[0]\n",
    "ending_point  = station.query(\"id == @ending_bike_id\")[['경도','위도']].values[0]\n",
    "result = get_optimal_route(starting_point, ending_point)\n",
    "\n",
    "\n",
    "# result.get('code')\n",
    "a = result.get('route').get(option)[0].get('path')\n",
    "b = pd.DataFrame(a)\n",
    "b\n",
    "\n",
    "fig = go.Figure(\n",
    "    go.Scattermapbox(\n",
    "        lat=b[1],\n",
    "        lon=b[0],\n",
    "        mode=\"lines\",\n",
    "        marker=dict(symbol=\"circle\", size=15, color='#AD00FF' , opacity=0.5),\n",
    "    )\n",
    ")\n",
    "fig.update_layout(\n",
    "    mapbox=dict(\n",
    "        accesstoken=\"pk.eyJ1IjoieWFuZ29vcyIsImEiOiJjbDNqd2tkN2IwbGdmM2pvNzF0c2M4NnZkIn0.J3IjPYg3w28cGiWkUD7bnA\",\n",
    "        center=go.layout.mapbox.Center(\n",
    "            lat=37.58,\n",
    "            lon=126.87\n",
    "        ),\n",
    "        # pitch=0,\n",
    "        zoom=10\n",
    "        # style='mapbox://styles/yangoos/cl3jubvl7000c14llgtoev0nm'\n",
    "    ),\n",
    "    margin=dict(l=20, r=20, t=20, b=20)\n",
    ")\n",
    "fig.show()\n",
    "\n",
    "\n"
   ]
  },
  {
   "cell_type": "markdown",
   "metadata": {},
   "source": [
    "> ### 자전거 대여소 간 계산\n",
    "* 해당 경우 검색 시 \n",
    "* 지하철 -> 대여소 -> 대여소\n",
    "* 대여소 -> 대여소 "
   ]
  },
  {
   "cell_type": "code",
   "execution_count": null,
   "metadata": {},
   "outputs": [],
   "source": [
    "\n",
    "\n",
    "# 345ms\n",
    "def st_to_st_new (starting_station, ending_station):\n",
    "\n",
    "    lat_1=station.query('id==@starting_station')['위도'].values\n",
    "    lon_1=station.query('id==@starting_station')['경도'].values\n",
    "    lat_2=station.query('id==@ending_station')['위도'].values\n",
    "    lon_2=station.query('id==@ending_station')['경도'].values\n",
    "    dist_station = haversine_np(lat_1,lon_1,lat_2,lon_2)\n",
    "\n",
    "    BM_1 = (seoul_bike['st_id1'] == starting_station) & (seoul_bike['st_id2'] == ending_station)\n",
    "    BM_2 = (seoul_bike['st_id2'] == starting_station) & (seoul_bike['st_id1'] == ending_station)\n",
    "\n",
    "    # 평균거리 계산\n",
    "    sort_station = seoul_bike[BM_1 | BM_2]\n",
    "    mean_station = sort_station[sort_station['dist'] < dist_station[0]*2]['riding_time'].value_counts()[:5].index.values.mean()\n",
    "    num_station = len(sort_station)\n",
    "\n",
    "    print(mean_station,num_station,f'{dist_station[0]/1000 :.2f}km' )\n",
    "\n",
    "st_to_st_new(207, 754)\n"
   ]
  },
  {
   "cell_type": "code",
   "execution_count": null,
   "metadata": {},
   "outputs": [],
   "source": [
    "## 옛날자료\n",
    "\n",
    "def st_to_st(starting_station, ending_station):\n",
    "\n",
    "    \"\"\"\n",
    "    starting_station = list or val이고 bike_station id가 들어감\n",
    "    ending_station = list or val이고 bike_station id가 들어감\n",
    "    \"\"\"\n",
    "\n",
    "    # int 또는 list로 starting station 받기\n",
    "    if type(starting_station) == int:\n",
    "        starting_station_list = list()\n",
    "        starting_station_list.append(starting_station)\n",
    "    else:\n",
    "        starting_station_list = starting_station\n",
    "\n",
    "    for starting_station in starting_station_list:\n",
    "        BM_1 = (seoul_bike_sorting[\"st_id1\"] == starting_station) & (\n",
    "            seoul_bike_sorting[\"st_id2\"] == ending_station\n",
    "        )\n",
    "        BM_2 = (seoul_bike_sorting[\"st_id2\"] == starting_station) & (\n",
    "            seoul_bike_sorting[\"st_id1\"] == ending_station\n",
    "        )\n",
    "\n",
    "        # 평균거리 계산\n",
    "        mean_station = (\n",
    "            seoul_bike_sorting[BM_1 | BM_2][\"riding_time\"]\n",
    "            .value_counts()\n",
    "            .sort_values(ascending=False)[:5]\n",
    "            .index.values.mean()\n",
    "        )\n",
    "\n",
    "        # 이용기록 계산\n",
    "        num_station = len(seoul_bike_sorting[BM_1 | BM_2])\n",
    "\n",
    "        # 직선거리 계산\n",
    "        lat_1 = station.query(\"id==@starting_station\")[\"위도\"].values\n",
    "        lon_1 = station.query(\"id==@starting_station\")[\"경도\"].values\n",
    "        lat_2 = station.query(\"id==@ending_station\")[\"위도\"].values\n",
    "        lon_2 = station.query(\"id==@ending_station\")[\"경도\"].values\n",
    "        dist_station = haversine_np(lat_1, lon_1, lat_2, lon_2)\n",
    "        print(mean_station, num_station, f\"{dist_station[0]/1000 :.2f}km\")\n",
    "    # return\n",
    "\n",
    "\n",
    "st_to_st(counts_station, 754)\n"
   ]
  }
 ],
 "metadata": {
  "kernelspec": {
   "display_name": "Python 3.9.7 ('base')",
   "language": "python",
   "name": "python3"
  },
  "language_info": {
   "codemirror_mode": {
    "name": "ipython",
    "version": 3
   },
   "file_extension": ".py",
   "mimetype": "text/x-python",
   "name": "python",
   "nbconvert_exporter": "python",
   "pygments_lexer": "ipython3",
   "version": "3.9.7"
  },
  "orig_nbformat": 4,
  "vscode": {
   "interpreter": {
    "hash": "47be6c136d2b4a6c76f7d3db2f991a133eb39bf1d99b20f1b6e05e99edd1faf4"
   }
  }
 },
 "nbformat": 4,
 "nbformat_minor": 2
}
