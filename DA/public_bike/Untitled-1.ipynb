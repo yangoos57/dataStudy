{
 "cells": [
  {
   "cell_type": "code",
   "execution_count": 36,
   "metadata": {},
   "outputs": [],
   "source": [
    "import json\n",
    "import urllib\n",
    "from urllib.request import Request, urlopen\n",
    "import pandas as pd\n",
    "import numpy as np\n",
    "# import matplotlib.pyplot as plt\n",
    "# import seaborn as sns\n",
    "import plotly.express as px\n",
    "import plotly.graph_objects as go\n",
    "from tqdm import notebook\n",
    "import warnings\n",
    "\n",
    "\n",
    "# *-- Directions 5 활용 코드 --*\n",
    "option = \"traavoidcaronly\"\n",
    "# option : 탐색옵션 [최대 3개, traoptimal(기본 옵션)\n",
    "# / trafast, tracomfort, traavoidtoll, traavoidcaronly]\n",
    "\n",
    "\n",
    "def get_optimal_route(start, goal, waypoints=[\"\", \"\"], option=option):\n",
    "    client_id = '44vlsxxinm'\n",
    "    client_secret = 'BOHC6psFnLkjdRrlkLn24S1apLUTsuzrCnMuCi4A'\n",
    "    # start=/goal=/(waypoint=)/(option=) 순으로 request parameter 지정\n",
    "    url = f\"https://naveropenapi.apigw.ntruss.com/map-direction-15/v1/driving?start={start[0]},{start[1]}&waypoint={waypoints[0]},{waypoints[1]}&goal={goal[0]},{goal[1]}&option={option}\"\n",
    "    request = urllib.request.Request(url)\n",
    "    request.add_header(\"X-NCP-APIGW-API-KEY-ID\", client_id)\n",
    "    request.add_header(\"X-NCP-APIGW-API-KEY\", client_secret)\n",
    "\n",
    "    response = urllib.request.urlopen(request)\n",
    "    res = response.getcode()\n",
    "\n",
    "    if res == 200:\n",
    "        response_body = response.read().decode(\"utf-8\")\n",
    "        return json.loads(response_body)\n",
    "\n",
    "    else:\n",
    "        print(\"ERROR\")\n",
    "\n",
    "# start = [126.910052,37.556094]\n",
    "# goal = [126.950291,37.582299]\n",
    "# start = [126.875781,37.540991]\n",
    "start = [126.876678,37.541142]\n",
    "goal = [126.932098,37.526989]\n",
    "result = get_optimal_route(start, goal)\n",
    "\n"
   ]
  },
  {
   "cell_type": "code",
   "execution_count": 39,
   "metadata": {},
   "outputs": [
    {
     "data": {
      "application/vnd.plotly.v1+json": {
       "config": {
        "plotlyServerURL": "https://plot.ly"
       },
       "data": [
        {
         "lat": [
          37.5412376,
          37.5412614,
          37.541336,
          37.5418255,
          37.5421743,
          37.5422677,
          37.5423335,
          37.5425328,
          37.5426496,
          37.5427161,
          37.5428242,
          37.5428496,
          37.5429185,
          37.5429493,
          37.5432145,
          37.5433331,
          37.543449,
          37.5436463,
          37.543707,
          37.5437605,
          37.5438095,
          37.5440197,
          37.5440873,
          37.5441623,
          37.5442083,
          37.5449666,
          37.5451597,
          37.5452577,
          37.5453448,
          37.5457994,
          37.5466915,
          37.546773,
          37.5470638,
          37.5468481,
          37.5468006,
          37.5467818,
          37.5467874,
          37.5467978,
          37.5468916,
          37.5469359,
          37.5469649,
          37.547003,
          37.5470621,
          37.5471314,
          37.5472308,
          37.547299,
          37.5474726,
          37.5475243,
          37.5475409,
          37.547632,
          37.5478502,
          37.5478782,
          37.5479222,
          37.5479492,
          37.5479404,
          37.5478828,
          37.5478441,
          37.5477805,
          37.5477627,
          37.5471824,
          37.5471306,
          37.546846,
          37.5462464,
          37.5460591,
          37.5460261,
          37.5457334,
          37.5456665,
          37.5455745,
          37.5454934,
          37.5454666,
          37.5453863,
          37.5451266,
          37.5448579,
          37.544369,
          37.5443494,
          37.5440698,
          37.5433894,
          37.543083,
          37.542675,
          37.542475,
          37.5417072,
          37.5416438,
          37.5415911,
          37.5415724,
          37.5414866,
          37.5414357,
          37.541374,
          37.5409244,
          37.5408583,
          37.5406499,
          37.5405327,
          37.5400163,
          37.5397326,
          37.5392158,
          37.5387325,
          37.5386349,
          37.538524,
          37.5383451,
          37.5381474,
          37.5379648,
          37.5378289,
          37.5377322,
          37.5366832,
          37.5361,
          37.5360242,
          37.535951,
          37.5358858,
          37.5358688,
          37.5358197,
          37.5357154,
          37.5356503,
          37.5355781,
          37.5354527,
          37.5353515,
          37.5352565,
          37.5351499,
          37.535015,
          37.5348915,
          37.5346721,
          37.5336852,
          37.5335436,
          37.5333283,
          37.5331965,
          37.5330799,
          37.532834,
          37.5325207,
          37.5321855,
          37.5319034,
          37.5317416,
          37.5315313,
          37.5313029,
          37.5309476,
          37.5304257,
          37.5290827,
          37.5289054,
          37.5288208,
          37.5287164,
          37.5281693,
          37.5280442,
          37.5275869,
          37.5266579,
          37.5259308,
          37.5259083,
          37.525876,
          37.525636,
          37.5257391,
          37.5259524,
          37.5259761,
          37.5266748,
          37.5267896,
          37.5269171,
          37.5270326,
          37.5275605,
          37.5281165,
          37.5282637,
          37.5284772,
          37.528519,
          37.5285844,
          37.5287243,
          37.5287915,
          37.5288497,
          37.5292057,
          37.529253,
          37.529383,
          37.5296594,
          37.5297621,
          37.530012,
          37.5301174,
          37.5303082,
          37.5303917,
          37.5307497,
          37.5309123,
          37.531124,
          37.5312947,
          37.5312947,
          37.531391,
          37.5314347,
          37.5314803,
          37.5315041,
          37.5316877,
          37.5317581,
          37.5317839,
          37.5317829,
          37.5317777,
          37.5317717,
          37.5317579,
          37.5317047,
          37.5316266,
          37.5315273,
          37.5314768,
          37.5314608,
          37.5313668,
          37.5313526,
          37.5313366,
          37.5312348,
          37.5310929,
          37.5310539,
          37.5309306,
          37.5308969,
          37.5308179,
          37.5305904,
          37.5304197,
          37.530265,
          37.530248,
          37.5301775,
          37.529817,
          37.5297243,
          37.5293326,
          37.529247,
          37.5292158,
          37.5291819,
          37.5291139,
          37.5289753,
          37.5288796,
          37.5284832,
          37.5283694,
          37.5283219,
          37.5282001,
          37.5281938,
          37.5278401,
          37.5274926,
          37.5270842,
          37.5268621,
          37.5267895,
          37.526755,
          37.5265997,
          37.5266822,
          37.5267405,
          37.5268591,
          37.5268869
         ],
         "lon": [
          126.8766197,
          126.8766851,
          126.8769924,
          126.8787021,
          126.8797372,
          126.8800104,
          126.8801842,
          126.8807123,
          126.8809864,
          126.8811239,
          126.8812895,
          126.8813243,
          126.8813939,
          126.8814243,
          126.8816405,
          126.8817369,
          126.881831,
          126.8819902,
          126.8820395,
          126.8821001,
          126.8821677,
          126.8825463,
          126.8827189,
          126.882939,
          126.8831107,
          126.882637,
          126.882521,
          126.8824625,
          126.882395,
          126.8819497,
          126.8808749,
          126.880778,
          126.880531,
          126.8801309,
          126.8800204,
          126.8798779,
          126.8797398,
          126.8796525,
          126.8794899,
          126.8793435,
          126.8791994,
          126.8790746,
          126.879013,
          126.8789988,
          126.8790421,
          126.8791559,
          126.8797601,
          126.8798242,
          126.8798999,
          126.8802614,
          126.8811358,
          126.8813077,
          126.88163,
          126.8819569,
          126.8821709,
          126.8825382,
          126.8827253,
          126.8829658,
          126.8830158,
          126.8842477,
          126.8843443,
          126.8849002,
          126.8860791,
          126.8864599,
          126.8865258,
          126.8870908,
          126.8872249,
          126.8873989,
          126.8875671,
          126.8876239,
          126.8877774,
          126.8882731,
          126.8887869,
          126.8897486,
          126.8897872,
          126.8902921,
          126.8915236,
          126.892074,
          126.8928244,
          126.8931973,
          126.8946287,
          126.8947492,
          126.8948458,
          126.8948799,
          126.8950278,
          126.8951153,
          126.89522,
          126.895965,
          126.8960742,
          126.8963872,
          126.8965625,
          126.8972865,
          126.8976748,
          126.8983242,
          126.8989868,
          126.8991291,
          126.8992873,
          126.8995525,
          126.8998472,
          126.9001124,
          126.9003139,
          126.9004539,
          126.9019122,
          126.9027873,
          126.9029498,
          126.903085,
          126.9032055,
          126.9032374,
          126.9033294,
          126.903551,
          126.9036998,
          126.9038543,
          126.9041847,
          126.9044956,
          126.9047861,
          126.9050903,
          126.905337,
          126.9055111,
          126.9057868,
          126.9068936,
          126.9070521,
          126.9072609,
          126.9073876,
          126.9075017,
          126.9077209,
          126.907969,
          126.9081788,
          126.9083542,
          126.9084528,
          126.9085643,
          126.9086725,
          126.908819,
          126.9089963,
          126.9093634,
          126.9094112,
          126.9094345,
          126.9094681,
          126.9096467,
          126.9096998,
          126.9098166,
          126.910237,
          126.9106512,
          126.9106639,
          126.9106834,
          126.9108256,
          126.9110692,
          126.9115485,
          126.9116061,
          126.9130877,
          126.9133188,
          126.9135905,
          126.9138047,
          126.9146426,
          126.9155244,
          126.9157654,
          126.9161146,
          126.9161811,
          126.9162847,
          126.9165054,
          126.9166124,
          126.9166991,
          126.9172509,
          126.9173309,
          126.9175619,
          126.9180385,
          126.9182097,
          126.9186265,
          126.9187955,
          126.9191007,
          126.9192336,
          126.9198126,
          126.9200682,
          126.9203994,
          126.9206697,
          126.9206708,
          126.9208228,
          126.9208949,
          126.9210168,
          126.9210812,
          126.9215857,
          126.9217832,
          126.9219109,
          126.922075,
          126.922118,
          126.9221713,
          126.9222993,
          126.9224729,
          126.9227225,
          126.9230696,
          126.9232476,
          126.923301,
          126.9235982,
          126.9236436,
          126.9236969,
          126.9240746,
          126.9245556,
          126.9246826,
          126.9250922,
          126.9252045,
          126.9254699,
          126.9261326,
          126.9266206,
          126.9270553,
          126.9270882,
          126.9272268,
          126.9279845,
          126.9281867,
          126.9290249,
          126.9292168,
          126.9292838,
          126.9293463,
          126.9294646,
          126.9296954,
          126.9298342,
          126.930437,
          126.9305839,
          126.9306386,
          126.9308036,
          126.9308104,
          126.9312896,
          126.9317529,
          126.9322981,
          126.9325974,
          126.9324927,
          126.9324409,
          126.9321874,
          126.9321098,
          126.932046,
          126.9319614,
          126.931934
         ],
         "marker": {
          "color": "#AD00FF",
          "opacity": 0.5,
          "size": 15,
          "symbol": "circle"
         },
         "mode": "lines",
         "type": "scattermapbox"
        }
       ],
       "layout": {
        "mapbox": {
         "accesstoken": "pk.eyJ1IjoieWFuZ29vcyIsImEiOiJjbDNqd2tkN2IwbGdmM2pvNzF0c2M4NnZkIn0.J3IjPYg3w28cGiWkUD7bnA"
        },
        "template": {
         "data": {
          "bar": [
           {
            "error_x": {
             "color": "#2a3f5f"
            },
            "error_y": {
             "color": "#2a3f5f"
            },
            "marker": {
             "line": {
              "color": "#E5ECF6",
              "width": 0.5
             },
             "pattern": {
              "fillmode": "overlay",
              "size": 10,
              "solidity": 0.2
             }
            },
            "type": "bar"
           }
          ],
          "barpolar": [
           {
            "marker": {
             "line": {
              "color": "#E5ECF6",
              "width": 0.5
             },
             "pattern": {
              "fillmode": "overlay",
              "size": 10,
              "solidity": 0.2
             }
            },
            "type": "barpolar"
           }
          ],
          "carpet": [
           {
            "aaxis": {
             "endlinecolor": "#2a3f5f",
             "gridcolor": "white",
             "linecolor": "white",
             "minorgridcolor": "white",
             "startlinecolor": "#2a3f5f"
            },
            "baxis": {
             "endlinecolor": "#2a3f5f",
             "gridcolor": "white",
             "linecolor": "white",
             "minorgridcolor": "white",
             "startlinecolor": "#2a3f5f"
            },
            "type": "carpet"
           }
          ],
          "choropleth": [
           {
            "colorbar": {
             "outlinewidth": 0,
             "ticks": ""
            },
            "type": "choropleth"
           }
          ],
          "contour": [
           {
            "colorbar": {
             "outlinewidth": 0,
             "ticks": ""
            },
            "colorscale": [
             [
              0,
              "#0d0887"
             ],
             [
              0.1111111111111111,
              "#46039f"
             ],
             [
              0.2222222222222222,
              "#7201a8"
             ],
             [
              0.3333333333333333,
              "#9c179e"
             ],
             [
              0.4444444444444444,
              "#bd3786"
             ],
             [
              0.5555555555555556,
              "#d8576b"
             ],
             [
              0.6666666666666666,
              "#ed7953"
             ],
             [
              0.7777777777777778,
              "#fb9f3a"
             ],
             [
              0.8888888888888888,
              "#fdca26"
             ],
             [
              1,
              "#f0f921"
             ]
            ],
            "type": "contour"
           }
          ],
          "contourcarpet": [
           {
            "colorbar": {
             "outlinewidth": 0,
             "ticks": ""
            },
            "type": "contourcarpet"
           }
          ],
          "heatmap": [
           {
            "colorbar": {
             "outlinewidth": 0,
             "ticks": ""
            },
            "colorscale": [
             [
              0,
              "#0d0887"
             ],
             [
              0.1111111111111111,
              "#46039f"
             ],
             [
              0.2222222222222222,
              "#7201a8"
             ],
             [
              0.3333333333333333,
              "#9c179e"
             ],
             [
              0.4444444444444444,
              "#bd3786"
             ],
             [
              0.5555555555555556,
              "#d8576b"
             ],
             [
              0.6666666666666666,
              "#ed7953"
             ],
             [
              0.7777777777777778,
              "#fb9f3a"
             ],
             [
              0.8888888888888888,
              "#fdca26"
             ],
             [
              1,
              "#f0f921"
             ]
            ],
            "type": "heatmap"
           }
          ],
          "heatmapgl": [
           {
            "colorbar": {
             "outlinewidth": 0,
             "ticks": ""
            },
            "colorscale": [
             [
              0,
              "#0d0887"
             ],
             [
              0.1111111111111111,
              "#46039f"
             ],
             [
              0.2222222222222222,
              "#7201a8"
             ],
             [
              0.3333333333333333,
              "#9c179e"
             ],
             [
              0.4444444444444444,
              "#bd3786"
             ],
             [
              0.5555555555555556,
              "#d8576b"
             ],
             [
              0.6666666666666666,
              "#ed7953"
             ],
             [
              0.7777777777777778,
              "#fb9f3a"
             ],
             [
              0.8888888888888888,
              "#fdca26"
             ],
             [
              1,
              "#f0f921"
             ]
            ],
            "type": "heatmapgl"
           }
          ],
          "histogram": [
           {
            "marker": {
             "pattern": {
              "fillmode": "overlay",
              "size": 10,
              "solidity": 0.2
             }
            },
            "type": "histogram"
           }
          ],
          "histogram2d": [
           {
            "colorbar": {
             "outlinewidth": 0,
             "ticks": ""
            },
            "colorscale": [
             [
              0,
              "#0d0887"
             ],
             [
              0.1111111111111111,
              "#46039f"
             ],
             [
              0.2222222222222222,
              "#7201a8"
             ],
             [
              0.3333333333333333,
              "#9c179e"
             ],
             [
              0.4444444444444444,
              "#bd3786"
             ],
             [
              0.5555555555555556,
              "#d8576b"
             ],
             [
              0.6666666666666666,
              "#ed7953"
             ],
             [
              0.7777777777777778,
              "#fb9f3a"
             ],
             [
              0.8888888888888888,
              "#fdca26"
             ],
             [
              1,
              "#f0f921"
             ]
            ],
            "type": "histogram2d"
           }
          ],
          "histogram2dcontour": [
           {
            "colorbar": {
             "outlinewidth": 0,
             "ticks": ""
            },
            "colorscale": [
             [
              0,
              "#0d0887"
             ],
             [
              0.1111111111111111,
              "#46039f"
             ],
             [
              0.2222222222222222,
              "#7201a8"
             ],
             [
              0.3333333333333333,
              "#9c179e"
             ],
             [
              0.4444444444444444,
              "#bd3786"
             ],
             [
              0.5555555555555556,
              "#d8576b"
             ],
             [
              0.6666666666666666,
              "#ed7953"
             ],
             [
              0.7777777777777778,
              "#fb9f3a"
             ],
             [
              0.8888888888888888,
              "#fdca26"
             ],
             [
              1,
              "#f0f921"
             ]
            ],
            "type": "histogram2dcontour"
           }
          ],
          "mesh3d": [
           {
            "colorbar": {
             "outlinewidth": 0,
             "ticks": ""
            },
            "type": "mesh3d"
           }
          ],
          "parcoords": [
           {
            "line": {
             "colorbar": {
              "outlinewidth": 0,
              "ticks": ""
             }
            },
            "type": "parcoords"
           }
          ],
          "pie": [
           {
            "automargin": true,
            "type": "pie"
           }
          ],
          "scatter": [
           {
            "marker": {
             "colorbar": {
              "outlinewidth": 0,
              "ticks": ""
             }
            },
            "type": "scatter"
           }
          ],
          "scatter3d": [
           {
            "line": {
             "colorbar": {
              "outlinewidth": 0,
              "ticks": ""
             }
            },
            "marker": {
             "colorbar": {
              "outlinewidth": 0,
              "ticks": ""
             }
            },
            "type": "scatter3d"
           }
          ],
          "scattercarpet": [
           {
            "marker": {
             "colorbar": {
              "outlinewidth": 0,
              "ticks": ""
             }
            },
            "type": "scattercarpet"
           }
          ],
          "scattergeo": [
           {
            "marker": {
             "colorbar": {
              "outlinewidth": 0,
              "ticks": ""
             }
            },
            "type": "scattergeo"
           }
          ],
          "scattergl": [
           {
            "marker": {
             "colorbar": {
              "outlinewidth": 0,
              "ticks": ""
             }
            },
            "type": "scattergl"
           }
          ],
          "scattermapbox": [
           {
            "marker": {
             "colorbar": {
              "outlinewidth": 0,
              "ticks": ""
             }
            },
            "type": "scattermapbox"
           }
          ],
          "scatterpolar": [
           {
            "marker": {
             "colorbar": {
              "outlinewidth": 0,
              "ticks": ""
             }
            },
            "type": "scatterpolar"
           }
          ],
          "scatterpolargl": [
           {
            "marker": {
             "colorbar": {
              "outlinewidth": 0,
              "ticks": ""
             }
            },
            "type": "scatterpolargl"
           }
          ],
          "scatterternary": [
           {
            "marker": {
             "colorbar": {
              "outlinewidth": 0,
              "ticks": ""
             }
            },
            "type": "scatterternary"
           }
          ],
          "surface": [
           {
            "colorbar": {
             "outlinewidth": 0,
             "ticks": ""
            },
            "colorscale": [
             [
              0,
              "#0d0887"
             ],
             [
              0.1111111111111111,
              "#46039f"
             ],
             [
              0.2222222222222222,
              "#7201a8"
             ],
             [
              0.3333333333333333,
              "#9c179e"
             ],
             [
              0.4444444444444444,
              "#bd3786"
             ],
             [
              0.5555555555555556,
              "#d8576b"
             ],
             [
              0.6666666666666666,
              "#ed7953"
             ],
             [
              0.7777777777777778,
              "#fb9f3a"
             ],
             [
              0.8888888888888888,
              "#fdca26"
             ],
             [
              1,
              "#f0f921"
             ]
            ],
            "type": "surface"
           }
          ],
          "table": [
           {
            "cells": {
             "fill": {
              "color": "#EBF0F8"
             },
             "line": {
              "color": "white"
             }
            },
            "header": {
             "fill": {
              "color": "#C8D4E3"
             },
             "line": {
              "color": "white"
             }
            },
            "type": "table"
           }
          ]
         },
         "layout": {
          "annotationdefaults": {
           "arrowcolor": "#2a3f5f",
           "arrowhead": 0,
           "arrowwidth": 1
          },
          "autotypenumbers": "strict",
          "coloraxis": {
           "colorbar": {
            "outlinewidth": 0,
            "ticks": ""
           }
          },
          "colorscale": {
           "diverging": [
            [
             0,
             "#8e0152"
            ],
            [
             0.1,
             "#c51b7d"
            ],
            [
             0.2,
             "#de77ae"
            ],
            [
             0.3,
             "#f1b6da"
            ],
            [
             0.4,
             "#fde0ef"
            ],
            [
             0.5,
             "#f7f7f7"
            ],
            [
             0.6,
             "#e6f5d0"
            ],
            [
             0.7,
             "#b8e186"
            ],
            [
             0.8,
             "#7fbc41"
            ],
            [
             0.9,
             "#4d9221"
            ],
            [
             1,
             "#276419"
            ]
           ],
           "sequential": [
            [
             0,
             "#0d0887"
            ],
            [
             0.1111111111111111,
             "#46039f"
            ],
            [
             0.2222222222222222,
             "#7201a8"
            ],
            [
             0.3333333333333333,
             "#9c179e"
            ],
            [
             0.4444444444444444,
             "#bd3786"
            ],
            [
             0.5555555555555556,
             "#d8576b"
            ],
            [
             0.6666666666666666,
             "#ed7953"
            ],
            [
             0.7777777777777778,
             "#fb9f3a"
            ],
            [
             0.8888888888888888,
             "#fdca26"
            ],
            [
             1,
             "#f0f921"
            ]
           ],
           "sequentialminus": [
            [
             0,
             "#0d0887"
            ],
            [
             0.1111111111111111,
             "#46039f"
            ],
            [
             0.2222222222222222,
             "#7201a8"
            ],
            [
             0.3333333333333333,
             "#9c179e"
            ],
            [
             0.4444444444444444,
             "#bd3786"
            ],
            [
             0.5555555555555556,
             "#d8576b"
            ],
            [
             0.6666666666666666,
             "#ed7953"
            ],
            [
             0.7777777777777778,
             "#fb9f3a"
            ],
            [
             0.8888888888888888,
             "#fdca26"
            ],
            [
             1,
             "#f0f921"
            ]
           ]
          },
          "colorway": [
           "#636efa",
           "#EF553B",
           "#00cc96",
           "#ab63fa",
           "#FFA15A",
           "#19d3f3",
           "#FF6692",
           "#B6E880",
           "#FF97FF",
           "#FECB52"
          ],
          "font": {
           "color": "#2a3f5f"
          },
          "geo": {
           "bgcolor": "white",
           "lakecolor": "white",
           "landcolor": "#E5ECF6",
           "showlakes": true,
           "showland": true,
           "subunitcolor": "white"
          },
          "hoverlabel": {
           "align": "left"
          },
          "hovermode": "closest",
          "mapbox": {
           "style": "light"
          },
          "paper_bgcolor": "white",
          "plot_bgcolor": "#E5ECF6",
          "polar": {
           "angularaxis": {
            "gridcolor": "white",
            "linecolor": "white",
            "ticks": ""
           },
           "bgcolor": "#E5ECF6",
           "radialaxis": {
            "gridcolor": "white",
            "linecolor": "white",
            "ticks": ""
           }
          },
          "scene": {
           "xaxis": {
            "backgroundcolor": "#E5ECF6",
            "gridcolor": "white",
            "gridwidth": 2,
            "linecolor": "white",
            "showbackground": true,
            "ticks": "",
            "zerolinecolor": "white"
           },
           "yaxis": {
            "backgroundcolor": "#E5ECF6",
            "gridcolor": "white",
            "gridwidth": 2,
            "linecolor": "white",
            "showbackground": true,
            "ticks": "",
            "zerolinecolor": "white"
           },
           "zaxis": {
            "backgroundcolor": "#E5ECF6",
            "gridcolor": "white",
            "gridwidth": 2,
            "linecolor": "white",
            "showbackground": true,
            "ticks": "",
            "zerolinecolor": "white"
           }
          },
          "shapedefaults": {
           "line": {
            "color": "#2a3f5f"
           }
          },
          "ternary": {
           "aaxis": {
            "gridcolor": "white",
            "linecolor": "white",
            "ticks": ""
           },
           "baxis": {
            "gridcolor": "white",
            "linecolor": "white",
            "ticks": ""
           },
           "bgcolor": "#E5ECF6",
           "caxis": {
            "gridcolor": "white",
            "linecolor": "white",
            "ticks": ""
           }
          },
          "title": {
           "x": 0.05
          },
          "xaxis": {
           "automargin": true,
           "gridcolor": "white",
           "linecolor": "white",
           "ticks": "",
           "title": {
            "standoff": 15
           },
           "zerolinecolor": "white",
           "zerolinewidth": 2
          },
          "yaxis": {
           "automargin": true,
           "gridcolor": "white",
           "linecolor": "white",
           "ticks": "",
           "title": {
            "standoff": 15
           },
           "zerolinecolor": "white",
           "zerolinewidth": 2
          }
         }
        }
       }
      }
     },
     "metadata": {},
     "output_type": "display_data"
    }
   ],
   "source": [
    "# result.get('code')\n",
    "a = result.get('route').get('traavoidcaronly')[0].get('path')\n",
    "b = pd.DataFrame(a)\n",
    "b\n",
    "\n",
    "fig = go.Figure(\n",
    "    go.Scattermapbox(\n",
    "        lat=b[1],\n",
    "        lon=b[0],\n",
    "        mode=\"lines\",\n",
    "        marker=dict(symbol=\"circle\", size=15, color='#AD00FF' , opacity=0.5),\n",
    "    )\n",
    ")\n",
    "fig.update_layout(\n",
    "    mapbox=dict(\n",
    "        accesstoken=\"pk.eyJ1IjoieWFuZ29vcyIsImEiOiJjbDNqd2tkN2IwbGdmM2pvNzF0c2M4NnZkIn0.J3IjPYg3w28cGiWkUD7bnA\",\n",
    "        # style='mapbox://styles/yangoos/cl3jubvl7000c14llgtoev0nm'\n",
    "    ),\n",
    ")\n",
    "fig.show()\n",
    "\n"
   ]
  },
  {
   "cell_type": "code",
   "execution_count": null,
   "metadata": {},
   "outputs": [],
   "source": []
  }
 ],
 "metadata": {
  "interpreter": {
   "hash": "47be6c136d2b4a6c76f7d3db2f991a133eb39bf1d99b20f1b6e05e99edd1faf4"
  },
  "kernelspec": {
   "display_name": "Python 3.9.7 ('base')",
   "language": "python",
   "name": "python3"
  },
  "language_info": {
   "codemirror_mode": {
    "name": "ipython",
    "version": 3
   },
   "file_extension": ".py",
   "mimetype": "text/x-python",
   "name": "python",
   "nbconvert_exporter": "python",
   "pygments_lexer": "ipython3",
   "version": "3.9.7"
  },
  "orig_nbformat": 4
 },
 "nbformat": 4,
 "nbformat_minor": 2
}
