{
 "cells": [
  {
   "cell_type": "code",
   "execution_count": 1,
   "metadata": {},
   "outputs": [
    {
     "name": "stderr",
     "output_type": "stream",
     "text": [
      "WARNING:root:'PYARROW_IGNORE_TIMEZONE' environment variable was not set. It is required to set this environment variable to '1' in both driver and executor sides if you use pyarrow>=2.0.0. pandas-on-Spark will set it for you but it does not work if there is a Spark context already launched.\n"
     ]
    }
   ],
   "source": [
    "# pyspark 사용할 때 용도\n",
    "%load_ext memory_profiler\n",
    "import findspark\n",
    "findspark.init()\n",
    "\n",
    "import pyspark.pandas as ps "
   ]
  },
  {
   "cell_type": "code",
   "execution_count": 40,
   "metadata": {},
   "outputs": [],
   "source": [
    "import pandas as pd\n",
    "import numpy as np\n",
    "# import matplotlib.pyplot as plt\n",
    "# import seaborn as sns\n",
    "import plotly.express as px\n",
    "import plotly.graph_objects as go\n",
    "from tqdm import notebook\n",
    "import warnings\n",
    "warnings.filterwarnings(action='ignore')\n",
    "# station 정보\n",
    "station = pd.read_csv('D:\\git_local_repository\\data_for_project\\seoul_bike\\seoul_bike_station_01_12.csv',encoding='CP949',index_col=0)\n",
    "seoul_bike = pd.read_parquet('D:\\git_local_repository\\data_for_project\\seoul_bike\\seoul_bike_2021.parquet.gzip')\n",
    "\n",
    "#plotly continuous_color\n",
    "continuous_color = pd.read_csv('assets/plotly_continuous_color_codes.csv')\n"
   ]
  },
  {
   "cell_type": "markdown",
   "metadata": {},
   "source": [
    "## 생활권 분석\n",
    "### 가설\n",
    "1. 해당 대여소가 몰리는 곳인지 퍼지는 곳인지 분류할 수 있음\n",
    "    - 몰리는 곳에 대한 정의는 ? 다양한 대여소에서 온다. 나가는 따릉이보다 들어가는 따릉이가 더 많다.\n",
    "    \n",
    "    - 지역구간 단방향 이동인지 양방향 이동인지 파악 할 수 있음. 어느정도 범위는 양방향이고 음수이면 왼쪽방향 양수이면 오른쪽 방향이라는 걸 알 수 있겠지? \n",
    "    - 몰리는 곳 설정 + 흐름을 합치면 뭔가 재밌는 그림이 나올거 같다는 생각이다.\n",
    "    => 기상 흐름도를 채용하면 되지 않을까?\n",
    "\n",
    "<br>\n",
    "\n",
    "1. 어디가 생활반경인지 보다는 물리적으로 지역임에도 심리가 먼 지역이 어디인지를 보는데 초점을 맞춤. \n",
    "    - 뭐가 됐던 사람들이 가지는 근처 지역에 대한 심리가 실제로 얼추 맞는지 살펴보면 되지 않을까?\n",
    "    \n",
    "    - 심리가 먼 지역에 대한 정의는? 물리적으로 가까움에도 top 20에 포함되지 않은 지역 (top10,top20,top50 다 생각해보자)\n",
    "    - 20분~ 30분 거리를 등고선으로 하면 활동 범위를 알 수 있으려나? 아무리 가까워도 안가는 곳이라면 20-30분 거리로 넓혀봤자 포함안된다.\n",
    "\n",
    "<br>\n",
    "\n",
    "\n",
    "1. 따릉이로 안가본 서울 도심 체험하기\n",
    "    - 본인이 주로 애용하는 대여소를 기점으로 사람들이 자주 가는 순으로 여행지를 택할 수 있게 하자.\n",
    "    - 많은 사람들이 이용한다는 말은 그만큼 따릉이로 이동하기 어렵지 않다는 말\n",
    "  \n",
    "    - 방법\n",
    "\n",
    "        1.원하는 따릉이 대여소 검색\n",
    "\n",
    "        2.table로 선택 되면 그롷게 하고 안되면 드롭다운 방식으로 보여주기\n",
    "\n",
    "        3.선택하면 collector로 올라가게 함\n",
    "\n",
    "        4.추천 여행지 우측 테리블에 정렬\n",
    "        \n",
    "        5.클릭하면 해당 지역으로 이동\n",
    "\n",
    "<br>\n",
    "\n",
    "\n",
    "1. 따릉이로 최적 거리 이동하기\n",
    "    - 내가 A대여소에서 어느 지점으로 간다고 지역을 누르면 반경에 있는 따릉이 대여소 몇 군데를 골라 예상 운행 시간을 알려준다.\n",
    "      \n",
    "      사람들이 가장 많이 이용한 대여소 또는 최단 거리가 걸리는 대여소를 알려주면 될 듯\n",
    "      \n",
    "    - 많은 사람들이 이용한다는 말은 그만큼 따릉이로 이동하기 어렵지 않다는 말\n",
    "    - 지도앱 예상 시간과 따릉이 이용 예상시간 차이는 매우 크다. \n",
    "  \n",
    "    -  따릉이로 가기 좋은 길인지, 얼마정도 시간이 걸리는지 예상용도\n",
    "        네이버 지도 예상시간은 따릉이를 이용하기엔 너무 빠르다.\n",
    "    - 네이버 지도와 데이터를 바탕으로 최소 이동시간이 소요되는 지역을 추천할 수 있다.\n",
    "\n",
    "<br>\n",
    "\n",
    "\n",
    "### 필요한 사항 정리\n",
    "1. 몰리는 곳 정의\n",
    "예시) (여의나루 역 2번출구 => 다른 지역) 총 id 개수 와  (다른 지역 => 여의나루 역 2번 출구) 총 id 개수 비교 \n",
    "\n",
    "    & (여의나루 2번 출구 => 다른 지역으로 이동한 따릉이 대여 개수) 와 (다른 지역에서 여의나루 2번 출구로 이동한 따릉이 개수) 비교\n",
    "\n",
    "    * 그러려면 st_id2가 여의나루인 경우 id 개수, 따릉이 대여 대수가 필요하고 st_id1이 여의나루인 상태에서 전 지역으로 이동한 개수와 따릉이 대여 개수가 필요하겠네\n",
    "\n",
    "    * 개수만 새는거니까 그렇게 오래 걸리지 않겠지?\n",
    "\n",
    "    * 이때 10개,20개,30개 이상 데이터가 있는 경우 비교 하는 것도 좋고 아니면 전체 비율에서 0.005% 이상인 비율만 찾아도 될거 같다는 생각이네\n",
    "\n",
    "<br>\n",
    "\n",
    "\n",
    "2. 대여소간 이동 흐름 분석해보기 \n",
    "예시)  월촌초 <=> 신목동역을 예로들면 월촌초 => 신목동 가는 횟수와 신목동 => 월촌초 가는 횟수를 비교해서 $\\frac{월=>신 - 신=>월}{양방향 개수}$한다음 \n",
    "\n",
    "    +- 0.1 내외면 양방향이고 양수면 월=> 신 방향이 많은거고 음수면 신=> 월 방향이 많은거고  0.2는 약간의 추세 0.5는 추세 0.8은 압도적 추세 이런식으로 만들면 될 것 같음.\n",
    "\n",
    "    * top 10,20,50개 등 다양한 기준을 가지고 흐름을 만들어 보는 것도 좋을듯 = 아니면 빈도수를 30개 50개 이상 등으로 설정하면 다양한 흐름이 나오지 않을까 생각이 든다.\n",
    "\n",
    "    * 계산은 대여소 번호 낮은것 - 높은 것으로 원칙을 정하고 한 곳에만 값을 매겨놓으면 되지 않을까? 아니면 아예 st_id1 -> st_id2 항목을 새로 만들어서 흐름만 관리해도 좋고\n",
    "\n",
    "    * 기상 흐름도가 도움이 될까? 잘 맞는게 뭐가 있는지 한 번 봐보자. 아니면 화살표로 해봐도 될거같다. 대여소 주위에서 그 지역까지 화살표로 나가는걸로 하고 흐름이 쎈것만 opacity를 높게 주면 되지 않을까?\n",
    "\n",
    "    * 화살표로 한다면 일단 지역 하나를 클릭하면 그 지역을 중심으로 어떻게 흐름이 발생하는지 보면 재밌을듯 만약 퍼지는 대여소라면 나가는 방향이 들어가는 방향보다 훨씬 많겠지 \n",
    "\n",
    "    *  나가는 방향 빨간색 들어오는 방향 파란색으로 하면 뭔가 재밌을것 같다.\n",
    "\n",
    "\n",
    "<br>\n",
    "\n",
    "\n",
    "1. 둘이 합치고 꾸미면 뭔가 흐름을 볼 수 있지 않을까?\n",
    "\n",
    "<br>\n",
    "\n",
    "\n",
    "4. 따릉이로 심리적인 생활반경 그리기\n",
    "예시) 예전에 주 활동 무대는 염창역 인근이었다면 지금 주 활동 무대는 신목동역이다. \n",
    "\n",
    "    사실 염창역도 그렇게 멀지 않지만 산이라는 자연 장애물 때문에 심리적으로 멀게 느껴진다. \n",
    "\n",
    "      다른 지역도 분명 그럴진데 따릉이 대여소가 어디를 가장 많이 가는지(top 20,30,50 등)를 분석하면 알 것 같다.\n",
    "\n",
    "    * 개별 반경 100m < x <5km 따릉이 대여소를 개별 대여소 별로 찾는다. st_id_1과 st_id=2가 같으니 이것도 따로 표를 새로 만들면 될 것 같다.\n",
    "    \n",
    "    * 따릉이 이용소 top 20,50 등을 구하고 색을 다르게 하면 표현 될 것 같다.\n",
    "\n",
    "    * density plot을 그릭 서울 전역을 확대하면 어느정도 생활권이 나오려나?\n",
    "\n",
    "    * 위 방법 보다는 본인이 가장 애용하는 따릉이 대여소를 클릭하면 관련 생활권이 나오게 하는거 어떨까?\n",
    "\n",
    "    * 많은 사람들에게도 물어봐보자 이스밍한테도 물어봐보자.\n"
   ]
  },
  {
   "cell_type": "markdown",
   "metadata": {},
   "source": [
    "### 데이터 저장"
   ]
  },
  {
   "cell_type": "code",
   "execution_count": 4,
   "metadata": {},
   "outputs": [],
   "source": [
    "# #불러오기\n",
    "# seoul_bike_1_2 = pd.read_hdf('D:\\git_local_repository\\data_for_project\\seoul_bike\\preprocessed_bike_2021.hdf5')\n",
    "# seoul_bike_2_2 = pd.read_hdf('D:\\git_local_repository\\data_for_project\\seoul_bike\\preprocessed_bike_2_2.hdf5')\n",
    "\n",
    "# seoul_bike = pd.concat([seoul_bike_1_2,seoul_bike_2_2])\n",
    "\n",
    "# # 1분당 이동 거리(m)\n",
    "# seoul_bike['m_pm'] = (seoul_bike['dist'] / (seoul_bike['riding_time'])).round(decimals=0)  # 1분당 거리 계산\n",
    "\n",
    "# #한국에는 자전거에 미친놈들이 많은건가 아니면 오류인가\n",
    "# # 선수급도 50km/h 속도가 나온다. 1분에 830미터 정도 달린다고 한다.\n",
    "# # 동호회 수준에서도 30km/h면 수준급 실력이라 한다. 1분에 500m 정도 된다.\n",
    "# # 4745948, 도심 한가운데서 분당 1000m의 속도로 54키로를 달리는게 말이되나.. 54km면 여의도 공원 => 잠원 한강공원을 왕복하고도 다시 출발해 절반은 더 가야된다.\n",
    "# # 이게 말이되나.. \n",
    "\n",
    "# # 결론\n",
    "# # 1분당 거리 계산 (1분당 400미터 이상인 경우 error로 간주)\n",
    "\n",
    "# seoul_bike = seoul_bike.query('m_pm <= 400')\n",
    "\n",
    "# seoul_bike\n"
   ]
  },
  {
   "cell_type": "markdown",
   "metadata": {},
   "source": [
    "### 아래부터 테스트용 "
   ]
  },
  {
   "cell_type": "code",
   "execution_count": 5,
   "metadata": {},
   "outputs": [],
   "source": [
    "# station = pd.read_csv('D:\\git_local_repository\\data_for_project\\seoul_bike\\seoul_bike_station_01_12.csv',encoding='CP949',index_col=0)\n",
    "# station.rename(columns={'대여소 번호' : 'id'}, inplace=True)\n",
    "# wanting_ids = [207]\n",
    "# min_time=50\n",
    "# max_time=120\n",
    "# min_count=50\n",
    "# sorted_st_id2=seoul_bike[seoul_bike['st_id1'].isin(wanting_ids)]['st_id2'].value_counts() # 해당 지역에서 이동하는 지역 소팅\n",
    "# sorted_st_id2= sorted_st_id2.drop(index=wanting_ids)\n",
    "# min_counts=np.where(sorted_st_id2.to_numpy() >= min_count)[0][-1]\n",
    "# print(f'검색기준 : 해당 대여소와 최소 {min_count}번 이상 대여기록이 있는 대여소 검색')\n",
    "# print(f'총 {min_counts}개 대여소 확보')\n",
    "\n",
    "# seoul_bike\n",
    "\n",
    "# result_station = []\n",
    "# for station_id in notebook.tqdm(sorted_st_id2[:int(min_counts)].index) : \n",
    "#     # BM = (seoul_bike['st_id1'].isin(wanting_ids)) & ((seoul_bike['st_id2'].isin([station_id])))\n",
    "#     # filter_id = seoul_bike[BM]['riding_time'].value_counts().sort_values(ascending=False)\n",
    "#     BM = (seoul_bike['st_id1'] == wanting_ids[0]) & (seoul_bike['st_id2'] == station_id)\n",
    "#     filter_id = seoul_bike[BM]['riding_time'].value_counts().sort_values(ascending=False)\n",
    "#     try :\n",
    "#         mean = filter_id.index[:5].values.mean()\n",
    "#         percent = round(sum(filter_id[:5].values)/sum(filter_id),2)\n",
    "#         num = sum(filter_id[:5])\n",
    "#         total_num = sum(filter_id)\n",
    "#         result_station.append([station_id,mean,percent,num,total_num])\n",
    "#     except :\n",
    "#         pass\n",
    "# sorted_ids = pd.DataFrame(result_station)\n"
   ]
  },
  {
   "cell_type": "markdown",
   "metadata": {},
   "source": [
    "**isin이 query보다 빠름**"
   ]
  },
  {
   "cell_type": "code",
   "execution_count": 6,
   "metadata": {},
   "outputs": [],
   "source": [
    "# %%timeit\n",
    "# wanting_ids = 207 ; station_id = 754\n",
    "# BM = (seoul_bike['st_id1'].isin([wanting_ids])) & ((seoul_bike['st_id2'].isin([station_id])))\n",
    "# filter_id = seoul_bike[BM]['riding_time'].value_counts().sort_values(ascending=False)"
   ]
  },
  {
   "cell_type": "code",
   "execution_count": 7,
   "metadata": {},
   "outputs": [],
   "source": [
    "# %%timeit\n",
    "# wanting_ids = 207 ; station_id = 754\n",
    "# filter_id = seoul_bike.query('st_id1 == @wanting_ids & st_id2 == @station_id')['riding_time'].value_counts().sort_values(ascending=False)"
   ]
  },
  {
   "cell_type": "code",
   "execution_count": 8,
   "metadata": {},
   "outputs": [],
   "source": [
    "# %%timeit\n",
    "# wanting_ids = 207 ; station_id = 754\n",
    "# BM = (seoul_bike['st_id1'] == wanting_ids) & (seoul_bike['st_id2'] == station_id)\n",
    "# filter_id = seoul_bike[BM]['riding_time'].value_counts().sort_values(ascending=False)"
   ]
  },
  {
   "cell_type": "markdown",
   "metadata": {},
   "source": [
    "**Row 개수 줄이는 식을 먼저 써야 속도가 빨라진다.**"
   ]
  },
  {
   "cell_type": "code",
   "execution_count": 9,
   "metadata": {},
   "outputs": [],
   "source": [
    "# %%timeit\n",
    "# wanting_ids = 754\n",
    "# sorted_st_id2=seoul_bike[seoul_bike['st_id1'] == wanting_ids]['st_id2'].value_counts() # 해당 지역에서 이동하는 지역 소팅"
   ]
  },
  {
   "cell_type": "code",
   "execution_count": 10,
   "metadata": {},
   "outputs": [],
   "source": [
    "# %%timeit\n",
    "# wanting_ids = 754\n",
    "# sorted_st_id2=seoul_bike['st_id2'][seoul_bike['st_id1'] == wanting_ids].value_counts() # 해당 지역에서 이동하는 지역 소팅"
   ]
  },
  {
   "cell_type": "markdown",
   "metadata": {},
   "source": [
    "### 위에부터 테스트용"
   ]
  },
  {
   "cell_type": "markdown",
   "metadata": {},
   "source": [
    "### 대여소별 따릉이 여행지 추천"
   ]
  },
  {
   "cell_type": "code",
   "execution_count": 19,
   "metadata": {},
   "outputs": [],
   "source": [
    "def searching_location(wanting_ids,min_time=1,max_time=60,min_count=50) : \n",
    "\n",
    "    # 해당 지역에서 이동하는 지역 소팅\n",
    "    sorted_st_id2=seoul_bike.query('st_id1 == @wanting_ids')['st_id2'].value_counts()\n",
    "\n",
    "\n",
    "    # 해당 지역에서 이동하는 지역 소팅\n",
    "    sorted_st_id2=seoul_bike[seoul_bike['st_id1'] == wanting_ids]['st_id2'].value_counts() \n",
    "    sorted_st_id2= sorted_st_id2.drop(index=wanting_ids)\n",
    "    min_counts=np.where(sorted_st_id2 >= min_count)[0][-1]\n",
    "\n",
    "\n",
    "    # 정보 표시\n",
    "    print(f'검색기준 : 해당 대여소와 최소 {min_count}번 이상 대여기록이 있는 대여소 검색')\n",
    "    print(f'총 {min_counts}개 대여소 확보')\n",
    "\n",
    "\n",
    "    result_station = []\n",
    "    for station_id in notebook.tqdm(sorted_st_id2[:min_counts].index) : \n",
    "        '''\n",
    "            iterate 결과\n",
    "            10.66it/s 1083.75mb\n",
    "            7.28it/s 1101.96mb\n",
    "            5.12it/s 1099.29mib\n",
    "        '''\n",
    "        \n",
    "        # 가장 단순하지만 loop에서 9.21 it/s로 제일빠름\n",
    "        BM = (seoul_bike['st_id1'] == wanting_ids) & (seoul_bike['st_id2'] == station_id)\n",
    "        filter_id = seoul_bike[BM]['riding_time'].value_counts().sort_values(ascending=False)\n",
    "        \n",
    "        # 여러 값을 한 번에 계산한다는 장점이 있지만 상대적으로 느림 Loop 7.44 it/s\n",
    "        # BM = (seoul_bike['st_id1'].isin([wanting_ids])) & ((seoul_bike['st_id2'].isin([station_id])))\n",
    "        # filter_id = seoul_bike['riding_time'][BM].value_counts().sort_values(ascending=False)\n",
    "\n",
    "        # 시각적으로 직관적이고 간단하게 작성할 수 있음. 그러나 Loop 3.21 it/s 임. 심한 경우 1.44 it/s인 경우도 발생\n",
    "        # filter_id = seoul_bike.query('st_id1 == @wanting_ids & st_id2 == @station_id')['riding_time'].value_counts().sort_values(ascending=False)\n",
    "\n",
    "        # 에러 방지차원\n",
    "        try :\n",
    "            mean = round(filter_id.index[:3].values.mean(),1)\n",
    "            percent = round(sum(filter_id[:3].values)/sum(filter_id),2)\n",
    "            num = sum(filter_id[:3])\n",
    "            total_num = sum(filter_id)\n",
    "            result_station.append([station_id,mean,percent,num,total_num])\n",
    "        except :\n",
    "            pass\n",
    "    \n",
    "    # 자료정리\n",
    "    sorted_ids = pd.DataFrame(result_station,columns=['id','est_time','percent','num','total_num']).query('num > 10 & @min_time <= est_time <= @max_time')\n",
    "    sorted_ids.columns = ['id', '예상도착시간', '비율','예상시간 내 도착 횟수' ,'대여소 이용 이력']\n",
    "    return pd.merge(sorted_ids, station, how='left', on='id').sort_values(by='예상도착시간',ascending=False)\n",
    "\n"
   ]
  },
  {
   "cell_type": "markdown",
   "metadata": {},
   "source": [
    "**대여소 추천 그래프**"
   ]
  },
  {
   "cell_type": "code",
   "execution_count": null,
   "metadata": {},
   "outputs": [],
   "source": [
    "# 추천지역\n",
    "trip_id = 207\n",
    "result_test = searching_location(trip_id, min_time=15, max_time=60, min_count=50)\n"
   ]
  },
  {
   "cell_type": "code",
   "execution_count": 20,
   "metadata": {},
   "outputs": [
    {
     "data": {
      "application/vnd.plotly.v1+json": {
       "config": {
        "plotlyServerURL": "https://plot.ly"
       },
       "data": [
        {
         "customdata": [
          [
           28.333333333333332,
           0.24,
           12,
           50,
           236
          ],
          [
           43.666666666666664,
           0.24,
           12,
           50,
           838
          ],
          [
           33,
           0.31,
           16,
           51,
           253
          ],
          [
           41,
           0.22,
           11,
           51,
           2703
          ],
          [
           40,
           0.22,
           11,
           51,
           818
          ],
          [
           49,
           0.25,
           13,
           51,
           1135
          ],
          [
           36,
           0.25,
           13,
           51,
           4169
          ],
          [
           37.333333333333336,
           0.22,
           11,
           51,
           1956
          ],
          [
           58.333333333333336,
           0.24,
           12,
           51,
           3798
          ],
          [
           60,
           0.33,
           17,
           51,
           917
          ],
          [
           33.333333333333336,
           0.24,
           12,
           51,
           2009
          ],
          [
           26.666666666666668,
           0.29,
           15,
           52,
           2083
          ],
          [
           32,
           0.21,
           11,
           52,
           234
          ],
          [
           57,
           0.21,
           11,
           52,
           113
          ],
          [
           38,
           0.3,
           16,
           53,
           841
          ],
          [
           28,
           0.21,
           11,
           53,
           142
          ],
          [
           54.666666666666664,
           0.24,
           13,
           54,
           796
          ],
          [
           50.333333333333336,
           0.2,
           11,
           54,
           286
          ],
          [
           36.666666666666664,
           0.29,
           16,
           55,
           2090
          ],
          [
           43.666666666666664,
           0.21,
           12,
           56,
           241
          ],
          [
           27.333333333333332,
           0.25,
           14,
           56,
           240
          ],
          [
           52.333333333333336,
           0.21,
           12,
           56,
           1946
          ],
          [
           37,
           0.39,
           22,
           57,
           2272
          ],
          [
           40,
           0.23,
           13,
           57,
           2259
          ],
          [
           26,
           0.2,
           12,
           59,
           239
          ],
          [
           32.666666666666664,
           0.24,
           14,
           59,
           235
          ],
          [
           25.333333333333332,
           0.25,
           15,
           60,
           251
          ],
          [
           32,
           0.19,
           12,
           62,
           819
          ],
          [
           23.666666666666668,
           0.27,
           17,
           63,
           185
          ],
          [
           39.333333333333336,
           0.19,
           12,
           63,
           744
          ]
         ],
         "hovertemplate": "<b>%{hovertext}</b><br><br>대여소 이용 이력=%{customdata[3]}<br>위도=%{lat}<br>경도=%{lon}<br>예상도착시간=%{marker.color}<br>비율=%{customdata[1]}<br>예상시간 내 도착 횟수=%{customdata[2]}<br>id=%{customdata[4]}<extra></extra>",
         "hovertext": [
          "문래동자이아파트 앞",
          "숙대입구역 4번출구",
          "신풍역 5번출구 인근",
          "서울도시가스 앞 ",
          "숙명여대 입구 교차로",
          "강서구의회",
          "신대방삼거리",
          "도야미리숯불갈비 앞",
          "그랜드아이파트아파트 앞",
          "녹번역 4번출구",
          "보라매역 8번출구",
          "흑석롯데캐슬에듀포레(107동)",
          "영등포구민체육센터 앞",
          "홍대입구역 2번출구 앞",
          "신용산역 1번 출구",
          "아현역 4번출구 앞",
          "목동아파트 14단지 B상가 앞",
          "우성아파트 교차로",
          "기아자동차 사당점 앞",
          "신길우성1차아파트 앞 공원",
          "문래역 4번출구 앞",
          "구로역 광장",
          "교대입구 교차로",
          "잠원역 3번-4번 출구사이",
          "유스호스텔 앞",
          "신길동 우리은행 옆",
          "서울지방병무청 버스정류장",
          "선린인터넷 고등학교",
          "마포 신수공원 앞",
          "신목동역 2번 출구"
         ],
         "lat": [
          37.516155,
          37.54446,
          37.500648,
          37.547485,
          37.544895,
          37.546532,
          37.49845505,
          37.51001,
          37.55510712,
          37.601299,
          37.500076,
          37.504704,
          37.500462,
          37.557499,
          37.52961,
          37.557201,
          37.514664,
          37.494572,
          37.48378,
          37.505329,
          37.518738,
          37.503117,
          37.487309,
          37.512989,
          37.525852,
          37.504566,
          37.504494,
          37.541653,
          37.542545,
          37.543842
         ],
         "legendgroup": "",
         "lon": [
          126.894615,
          126.972389,
          126.909515,
          126.872025,
          126.969383,
          126.862549,
          126.9279785,
          126.88205,
          126.8515472,
          126.935349,
          126.921082,
          126.960732,
          126.905846,
          126.923805,
          126.968872,
          126.955666,
          126.871941,
          126.89975,
          126.977921,
          126.898483,
          126.895576,
          126.880386,
          127.010582,
          127.011177,
          126.903282,
          126.910233,
          126.921951,
          126.970505,
          126.934296,
          126.882545
         ],
         "marker": {
          "color": [
           28.333333333333332,
           43.666666666666664,
           33,
           41,
           40,
           49,
           36,
           37.333333333333336,
           58.333333333333336,
           60,
           33.333333333333336,
           26.666666666666668,
           32,
           57,
           38,
           28,
           54.666666666666664,
           50.333333333333336,
           36.666666666666664,
           43.666666666666664,
           27.333333333333332,
           52.333333333333336,
           37,
           40,
           26,
           32.666666666666664,
           25.333333333333332,
           32,
           23.666666666666668,
           39.333333333333336
          ],
          "coloraxis": "coloraxis",
          "opacity": 0.6,
          "size": [
           50,
           50,
           51,
           51,
           51,
           51,
           51,
           51,
           51,
           51,
           51,
           52,
           52,
           52,
           53,
           53,
           54,
           54,
           55,
           56,
           56,
           56,
           57,
           57,
           59,
           59,
           60,
           62,
           63,
           63
          ],
          "sizemode": "area",
          "sizeref": 0.1575
         },
         "mode": "markers",
         "name": "",
         "showlegend": false,
         "subplot": "mapbox",
         "type": "scattermapbox"
        },
        {
         "lat": [
          37.526989
         ],
         "lon": [
          126.932098
         ],
         "marker": {
          "color": "black",
          "opacity": 0.8,
          "size": 10
         },
         "mode": "markers",
         "name": "location",
         "text": [
          "여의나루역 1번출구 앞"
         ],
         "type": "scattermapbox"
        }
       ],
       "layout": {
        "coloraxis": {
         "colorbar": {
          "title": {
           "text": "예상도착시간"
          }
         },
         "colorscale": [
          [
           0,
           "#0d0887"
          ],
          [
           0.1111111111111111,
           "#46039f"
          ],
          [
           0.2222222222222222,
           "#7201a8"
          ],
          [
           0.3333333333333333,
           "#9c179e"
          ],
          [
           0.4444444444444444,
           "#bd3786"
          ],
          [
           0.5555555555555556,
           "#d8576b"
          ],
          [
           0.6666666666666666,
           "#ed7953"
          ],
          [
           0.7777777777777778,
           "#fb9f3a"
          ],
          [
           0.8888888888888888,
           "#fdca26"
          ],
          [
           1,
           "#f0f921"
          ]
         ]
        },
        "height": 500,
        "legend": {
         "itemsizing": "constant",
         "tracegroupgap": 0
        },
        "mapbox": {
         "center": {
          "lat": 37.52326827233333,
          "lon": 126.92273438999997
         },
         "domain": {
          "x": [
           0,
           1
          ],
          "y": [
           0,
           1
          ]
         },
         "style": "carto-positron",
         "zoom": 10
        },
        "margin": {
         "t": 60
        },
        "template": {
         "data": {
          "bar": [
           {
            "error_x": {
             "color": "#2a3f5f"
            },
            "error_y": {
             "color": "#2a3f5f"
            },
            "marker": {
             "line": {
              "color": "#E5ECF6",
              "width": 0.5
             },
             "pattern": {
              "fillmode": "overlay",
              "size": 10,
              "solidity": 0.2
             }
            },
            "type": "bar"
           }
          ],
          "barpolar": [
           {
            "marker": {
             "line": {
              "color": "#E5ECF6",
              "width": 0.5
             },
             "pattern": {
              "fillmode": "overlay",
              "size": 10,
              "solidity": 0.2
             }
            },
            "type": "barpolar"
           }
          ],
          "carpet": [
           {
            "aaxis": {
             "endlinecolor": "#2a3f5f",
             "gridcolor": "white",
             "linecolor": "white",
             "minorgridcolor": "white",
             "startlinecolor": "#2a3f5f"
            },
            "baxis": {
             "endlinecolor": "#2a3f5f",
             "gridcolor": "white",
             "linecolor": "white",
             "minorgridcolor": "white",
             "startlinecolor": "#2a3f5f"
            },
            "type": "carpet"
           }
          ],
          "choropleth": [
           {
            "colorbar": {
             "outlinewidth": 0,
             "ticks": ""
            },
            "type": "choropleth"
           }
          ],
          "contour": [
           {
            "colorbar": {
             "outlinewidth": 0,
             "ticks": ""
            },
            "colorscale": [
             [
              0,
              "#0d0887"
             ],
             [
              0.1111111111111111,
              "#46039f"
             ],
             [
              0.2222222222222222,
              "#7201a8"
             ],
             [
              0.3333333333333333,
              "#9c179e"
             ],
             [
              0.4444444444444444,
              "#bd3786"
             ],
             [
              0.5555555555555556,
              "#d8576b"
             ],
             [
              0.6666666666666666,
              "#ed7953"
             ],
             [
              0.7777777777777778,
              "#fb9f3a"
             ],
             [
              0.8888888888888888,
              "#fdca26"
             ],
             [
              1,
              "#f0f921"
             ]
            ],
            "type": "contour"
           }
          ],
          "contourcarpet": [
           {
            "colorbar": {
             "outlinewidth": 0,
             "ticks": ""
            },
            "type": "contourcarpet"
           }
          ],
          "heatmap": [
           {
            "colorbar": {
             "outlinewidth": 0,
             "ticks": ""
            },
            "colorscale": [
             [
              0,
              "#0d0887"
             ],
             [
              0.1111111111111111,
              "#46039f"
             ],
             [
              0.2222222222222222,
              "#7201a8"
             ],
             [
              0.3333333333333333,
              "#9c179e"
             ],
             [
              0.4444444444444444,
              "#bd3786"
             ],
             [
              0.5555555555555556,
              "#d8576b"
             ],
             [
              0.6666666666666666,
              "#ed7953"
             ],
             [
              0.7777777777777778,
              "#fb9f3a"
             ],
             [
              0.8888888888888888,
              "#fdca26"
             ],
             [
              1,
              "#f0f921"
             ]
            ],
            "type": "heatmap"
           }
          ],
          "heatmapgl": [
           {
            "colorbar": {
             "outlinewidth": 0,
             "ticks": ""
            },
            "colorscale": [
             [
              0,
              "#0d0887"
             ],
             [
              0.1111111111111111,
              "#46039f"
             ],
             [
              0.2222222222222222,
              "#7201a8"
             ],
             [
              0.3333333333333333,
              "#9c179e"
             ],
             [
              0.4444444444444444,
              "#bd3786"
             ],
             [
              0.5555555555555556,
              "#d8576b"
             ],
             [
              0.6666666666666666,
              "#ed7953"
             ],
             [
              0.7777777777777778,
              "#fb9f3a"
             ],
             [
              0.8888888888888888,
              "#fdca26"
             ],
             [
              1,
              "#f0f921"
             ]
            ],
            "type": "heatmapgl"
           }
          ],
          "histogram": [
           {
            "marker": {
             "pattern": {
              "fillmode": "overlay",
              "size": 10,
              "solidity": 0.2
             }
            },
            "type": "histogram"
           }
          ],
          "histogram2d": [
           {
            "colorbar": {
             "outlinewidth": 0,
             "ticks": ""
            },
            "colorscale": [
             [
              0,
              "#0d0887"
             ],
             [
              0.1111111111111111,
              "#46039f"
             ],
             [
              0.2222222222222222,
              "#7201a8"
             ],
             [
              0.3333333333333333,
              "#9c179e"
             ],
             [
              0.4444444444444444,
              "#bd3786"
             ],
             [
              0.5555555555555556,
              "#d8576b"
             ],
             [
              0.6666666666666666,
              "#ed7953"
             ],
             [
              0.7777777777777778,
              "#fb9f3a"
             ],
             [
              0.8888888888888888,
              "#fdca26"
             ],
             [
              1,
              "#f0f921"
             ]
            ],
            "type": "histogram2d"
           }
          ],
          "histogram2dcontour": [
           {
            "colorbar": {
             "outlinewidth": 0,
             "ticks": ""
            },
            "colorscale": [
             [
              0,
              "#0d0887"
             ],
             [
              0.1111111111111111,
              "#46039f"
             ],
             [
              0.2222222222222222,
              "#7201a8"
             ],
             [
              0.3333333333333333,
              "#9c179e"
             ],
             [
              0.4444444444444444,
              "#bd3786"
             ],
             [
              0.5555555555555556,
              "#d8576b"
             ],
             [
              0.6666666666666666,
              "#ed7953"
             ],
             [
              0.7777777777777778,
              "#fb9f3a"
             ],
             [
              0.8888888888888888,
              "#fdca26"
             ],
             [
              1,
              "#f0f921"
             ]
            ],
            "type": "histogram2dcontour"
           }
          ],
          "mesh3d": [
           {
            "colorbar": {
             "outlinewidth": 0,
             "ticks": ""
            },
            "type": "mesh3d"
           }
          ],
          "parcoords": [
           {
            "line": {
             "colorbar": {
              "outlinewidth": 0,
              "ticks": ""
             }
            },
            "type": "parcoords"
           }
          ],
          "pie": [
           {
            "automargin": true,
            "type": "pie"
           }
          ],
          "scatter": [
           {
            "fillpattern": {
             "fillmode": "overlay",
             "size": 10,
             "solidity": 0.2
            },
            "type": "scatter"
           }
          ],
          "scatter3d": [
           {
            "line": {
             "colorbar": {
              "outlinewidth": 0,
              "ticks": ""
             }
            },
            "marker": {
             "colorbar": {
              "outlinewidth": 0,
              "ticks": ""
             }
            },
            "type": "scatter3d"
           }
          ],
          "scattercarpet": [
           {
            "marker": {
             "colorbar": {
              "outlinewidth": 0,
              "ticks": ""
             }
            },
            "type": "scattercarpet"
           }
          ],
          "scattergeo": [
           {
            "marker": {
             "colorbar": {
              "outlinewidth": 0,
              "ticks": ""
             }
            },
            "type": "scattergeo"
           }
          ],
          "scattergl": [
           {
            "marker": {
             "colorbar": {
              "outlinewidth": 0,
              "ticks": ""
             }
            },
            "type": "scattergl"
           }
          ],
          "scattermapbox": [
           {
            "marker": {
             "colorbar": {
              "outlinewidth": 0,
              "ticks": ""
             }
            },
            "type": "scattermapbox"
           }
          ],
          "scatterpolar": [
           {
            "marker": {
             "colorbar": {
              "outlinewidth": 0,
              "ticks": ""
             }
            },
            "type": "scatterpolar"
           }
          ],
          "scatterpolargl": [
           {
            "marker": {
             "colorbar": {
              "outlinewidth": 0,
              "ticks": ""
             }
            },
            "type": "scatterpolargl"
           }
          ],
          "scatterternary": [
           {
            "marker": {
             "colorbar": {
              "outlinewidth": 0,
              "ticks": ""
             }
            },
            "type": "scatterternary"
           }
          ],
          "surface": [
           {
            "colorbar": {
             "outlinewidth": 0,
             "ticks": ""
            },
            "colorscale": [
             [
              0,
              "#0d0887"
             ],
             [
              0.1111111111111111,
              "#46039f"
             ],
             [
              0.2222222222222222,
              "#7201a8"
             ],
             [
              0.3333333333333333,
              "#9c179e"
             ],
             [
              0.4444444444444444,
              "#bd3786"
             ],
             [
              0.5555555555555556,
              "#d8576b"
             ],
             [
              0.6666666666666666,
              "#ed7953"
             ],
             [
              0.7777777777777778,
              "#fb9f3a"
             ],
             [
              0.8888888888888888,
              "#fdca26"
             ],
             [
              1,
              "#f0f921"
             ]
            ],
            "type": "surface"
           }
          ],
          "table": [
           {
            "cells": {
             "fill": {
              "color": "#EBF0F8"
             },
             "line": {
              "color": "white"
             }
            },
            "header": {
             "fill": {
              "color": "#C8D4E3"
             },
             "line": {
              "color": "white"
             }
            },
            "type": "table"
           }
          ]
         },
         "layout": {
          "annotationdefaults": {
           "arrowcolor": "#2a3f5f",
           "arrowhead": 0,
           "arrowwidth": 1
          },
          "autotypenumbers": "strict",
          "coloraxis": {
           "colorbar": {
            "outlinewidth": 0,
            "ticks": ""
           }
          },
          "colorscale": {
           "diverging": [
            [
             0,
             "#8e0152"
            ],
            [
             0.1,
             "#c51b7d"
            ],
            [
             0.2,
             "#de77ae"
            ],
            [
             0.3,
             "#f1b6da"
            ],
            [
             0.4,
             "#fde0ef"
            ],
            [
             0.5,
             "#f7f7f7"
            ],
            [
             0.6,
             "#e6f5d0"
            ],
            [
             0.7,
             "#b8e186"
            ],
            [
             0.8,
             "#7fbc41"
            ],
            [
             0.9,
             "#4d9221"
            ],
            [
             1,
             "#276419"
            ]
           ],
           "sequential": [
            [
             0,
             "#0d0887"
            ],
            [
             0.1111111111111111,
             "#46039f"
            ],
            [
             0.2222222222222222,
             "#7201a8"
            ],
            [
             0.3333333333333333,
             "#9c179e"
            ],
            [
             0.4444444444444444,
             "#bd3786"
            ],
            [
             0.5555555555555556,
             "#d8576b"
            ],
            [
             0.6666666666666666,
             "#ed7953"
            ],
            [
             0.7777777777777778,
             "#fb9f3a"
            ],
            [
             0.8888888888888888,
             "#fdca26"
            ],
            [
             1,
             "#f0f921"
            ]
           ],
           "sequentialminus": [
            [
             0,
             "#0d0887"
            ],
            [
             0.1111111111111111,
             "#46039f"
            ],
            [
             0.2222222222222222,
             "#7201a8"
            ],
            [
             0.3333333333333333,
             "#9c179e"
            ],
            [
             0.4444444444444444,
             "#bd3786"
            ],
            [
             0.5555555555555556,
             "#d8576b"
            ],
            [
             0.6666666666666666,
             "#ed7953"
            ],
            [
             0.7777777777777778,
             "#fb9f3a"
            ],
            [
             0.8888888888888888,
             "#fdca26"
            ],
            [
             1,
             "#f0f921"
            ]
           ]
          },
          "colorway": [
           "#636efa",
           "#EF553B",
           "#00cc96",
           "#ab63fa",
           "#FFA15A",
           "#19d3f3",
           "#FF6692",
           "#B6E880",
           "#FF97FF",
           "#FECB52"
          ],
          "font": {
           "color": "#2a3f5f"
          },
          "geo": {
           "bgcolor": "white",
           "lakecolor": "white",
           "landcolor": "#E5ECF6",
           "showlakes": true,
           "showland": true,
           "subunitcolor": "white"
          },
          "hoverlabel": {
           "align": "left"
          },
          "hovermode": "closest",
          "mapbox": {
           "style": "light"
          },
          "paper_bgcolor": "white",
          "plot_bgcolor": "#E5ECF6",
          "polar": {
           "angularaxis": {
            "gridcolor": "white",
            "linecolor": "white",
            "ticks": ""
           },
           "bgcolor": "#E5ECF6",
           "radialaxis": {
            "gridcolor": "white",
            "linecolor": "white",
            "ticks": ""
           }
          },
          "scene": {
           "xaxis": {
            "backgroundcolor": "#E5ECF6",
            "gridcolor": "white",
            "gridwidth": 2,
            "linecolor": "white",
            "showbackground": true,
            "ticks": "",
            "zerolinecolor": "white"
           },
           "yaxis": {
            "backgroundcolor": "#E5ECF6",
            "gridcolor": "white",
            "gridwidth": 2,
            "linecolor": "white",
            "showbackground": true,
            "ticks": "",
            "zerolinecolor": "white"
           },
           "zaxis": {
            "backgroundcolor": "#E5ECF6",
            "gridcolor": "white",
            "gridwidth": 2,
            "linecolor": "white",
            "showbackground": true,
            "ticks": "",
            "zerolinecolor": "white"
           }
          },
          "shapedefaults": {
           "line": {
            "color": "#2a3f5f"
           }
          },
          "ternary": {
           "aaxis": {
            "gridcolor": "white",
            "linecolor": "white",
            "ticks": ""
           },
           "baxis": {
            "gridcolor": "white",
            "linecolor": "white",
            "ticks": ""
           },
           "bgcolor": "#E5ECF6",
           "caxis": {
            "gridcolor": "white",
            "linecolor": "white",
            "ticks": ""
           }
          },
          "title": {
           "x": 0.05
          },
          "xaxis": {
           "automargin": true,
           "gridcolor": "white",
           "linecolor": "white",
           "ticks": "",
           "title": {
            "standoff": 15
           },
           "zerolinecolor": "white",
           "zerolinewidth": 2
          },
          "yaxis": {
           "automargin": true,
           "gridcolor": "white",
           "linecolor": "white",
           "ticks": "",
           "title": {
            "standoff": 15
           },
           "zerolinecolor": "white",
           "zerolinewidth": 2
          }
         }
        }
       }
      }
     },
     "metadata": {},
     "output_type": "display_data"
    }
   ],
   "source": [
    "### 그래프\n",
    "\n",
    "# 지역 순위 표시\n",
    "fig=px.scatter_mapbox(result_test.sort_values(by='대여소 이용 이력')[:30].dropna(), \n",
    "                        lat=\"위도\",lon=\"경도\",\n",
    "                        hover_name=\"주소2\",\n",
    "                        hover_data=['예상도착시간','비율','예상시간 내 도착 횟수','대여소 이용 이력','id'],\n",
    "                        color='예상도착시간',opacity=0.6,\n",
    "                        # size='예상도착시간',\n",
    "                        size='대여소 이용 이력',size_max=20,\n",
    "                        # color_discrete_map = {'해당 대여소로 향하는 지역': 'navy', '이동량이 비슷한 지역': 'palegreen', '해당 대여소에서 주로 가는 지역': 'burlywood'},\n",
    "                        zoom=10,height=500,)\n",
    "\n",
    "\n",
    "\n",
    "# 해당 따릉이 대여소 색 표시\n",
    "fig_3 = go.Figure(go.Scattermapbox(\n",
    "        name='location',\n",
    "        lat=station.query('id==@trip_id')['위도'],\n",
    "        lon=station.query('id==@trip_id')['경도'],\n",
    "        mode='markers',\n",
    "        # marker = {'size': 20, 'symbol': \"bus\"},\n",
    "        marker=go.scattermapbox.Marker(size=10,color='black',opacity=0.8),\n",
    "        text=station.query('id==@trip_id')['주소2'].values,\n",
    "    ))                            \n",
    "fig.add_trace(fig_3.data[0])\n",
    "fig.update_layout(mapbox_style=\"carto-positron\")\n",
    "\n"
   ]
  },
  {
   "cell_type": "code",
   "execution_count": 13,
   "metadata": {},
   "outputs": [
    {
     "data": {
      "application/vnd.plotly.v1+json": {
       "config": {
        "plotlyServerURL": "https://plot.ly"
       },
       "data": [
        {
         "customdata": [
          [
           169,
           322,
           811
          ],
          [
           200,
           254,
           831
          ],
          [
           95,
           205,
           843
          ],
          [
           25,
           194,
           847
          ],
          [
           138,
           217,
           857
          ]
         ],
         "hovertemplate": "<b>%{hovertext}</b><br><br>category=해당 대여소로 향하는 지역<br>diff=%{marker.size}<br>위도=%{lat}<br>경도=%{lon}<br>1to2=%{customdata[0]}<br>2to1=%{customdata[1]}<br>id=%{customdata[2]}<extra></extra>",
         "hovertext": [
          "녹사평역1번출구",
          "이태원관광특구입구",
          "녹사평역 광장",
          " 국방부민원실옆",
          " 현대 안성타워"
         ],
         "lat": [
          37.53508,
          37.534279,
          37.533798,
          37.534523,
          37.535023
         ],
         "legendgroup": "해당 대여소로 향하는 지역",
         "lon": [
          126.985382,
          126.988564,
          126.98867,
          126.977501,
          126.998055
         ],
         "marker": {
          "color": "midnightblue",
          "opacity": 0.7,
          "size": [
           253,
           154,
           210,
           269,
           179
          ],
          "sizemode": "area",
          "sizeref": 0.995
         },
         "mode": "markers",
         "name": "해당 대여소로 향하는 지역",
         "showlegend": true,
         "subplot": "mapbox",
         "type": "scattermapbox"
        },
        {
         "customdata": [
          [
           171,
           118,
           812
          ],
          [
           184,
           136,
           825
          ],
          [
           464,
           166,
           848
          ],
          [
           273,
           146,
           849
          ],
          [
           207,
           123,
           853
          ],
          [
           182,
           124,
           4615
          ]
         ],
         "hovertemplate": "<b>%{hovertext}</b><br><br>category=해당 대여소에서 주로 가는 지역<br>diff=%{marker.size}<br>위도=%{lat}<br>경도=%{lon}<br>1to2=%{customdata[0]}<br>2to1=%{customdata[1]}<br>id=%{customdata[2]}<extra></extra>",
         "hovertext": [
          "용산전쟁기념관",
          "서빙고동 주민센터 앞",
          " 삼각지12번 출구",
          " 삼각지 자이아파트",
          "용산역 맞은편",
          "크라운호텔앞 버스정류소"
         ],
         "lat": [
          37.53484,
          37.520336,
          37.535259,
          37.536079,
          37.528568,
          37.53030014
         ],
         "legendgroup": "해당 대여소에서 주로 가는 지역",
         "lon": [
          126.977661,
          126.994263,
          126.975052,
          126.973419,
          126.965691,
          126.9913788
         ],
         "marker": {
          "color": "coral",
          "opacity": 0.7,
          "size": [
           153,
           148,
           398,
           227,
           184,
           158
          ],
          "sizemode": "area",
          "sizeref": 0.995
         },
         "mode": "markers",
         "name": "해당 대여소에서 주로 가는 지역",
         "showlegend": true,
         "subplot": "mapbox",
         "type": "scattermapbox"
        },
        {
         "customdata": [
          [
           149,
           166,
           813
          ],
          [
           138,
           127,
           816
          ],
          [
           199,
           213,
           841
          ],
          [
           156,
           159,
           4620
          ],
          [
           267,
           277,
           4623
          ]
         ],
         "hovertemplate": "<b>%{hovertext}</b><br><br>category=이동량이 비슷한 지역<br>diff=%{marker.size}<br>위도=%{lat}<br>경도=%{lon}<br>1to2=%{customdata[0]}<br>2to1=%{customdata[1]}<br>id=%{customdata[2]}<extra></extra>",
         "hovertext": [
          "삼각지역 3번출구",
          "신용산역 6번출구 앞",
          "신용산역 1번 출구",
          "삼각지역 14번 출구 앞(교통섬)",
          "라인프랜즈이태원점 앞"
         ],
         "lat": [
          37.533512,
          37.530148,
          37.52961,
          37.53528595,
          37.53453064
         ],
         "legendgroup": "이동량이 비슷한 지역",
         "lon": [
          126.972275,
          126.968483,
          126.968872,
          126.974083,
          126.9961929
         ],
         "marker": {
          "color": "hotpink",
          "opacity": 0.7,
          "size": [
           117,
           111,
           114,
           103,
           110
          ],
          "sizemode": "area",
          "sizeref": 0.995
         },
         "mode": "markers",
         "name": "이동량이 비슷한 지역",
         "showlegend": true,
         "subplot": "mapbox",
         "type": "scattermapbox"
        },
        {
         "lat": [
          37.53508,
          37.53484,
          37.541885,
          37.534279,
          37.533798,
          37.534523,
          37.534409,
          37.541885,
          37.53030014,
          37.53453064
         ],
         "lon": [
          126.985382,
          126.977661,
          126.97966,
          126.988564,
          126.98867,
          126.977501,
          126.986893,
          126.995865,
          126.9913788,
          126.9961929
         ],
         "marker": {
          "color": "black",
          "opacity": 0.2,
          "size": 8
         },
         "mode": "markers",
         "name": "station with in 1.0km",
         "text": [
          "녹사평역1번출구",
          "용산전쟁기념관",
          "국군복지단",
          "이태원관광특구입구",
          "녹사평역 광장",
          " 국방부민원실옆",
          "녹사평역3번 출구",
          "남산공원 야외식물원 앞",
          "크라운호텔앞 버스정류소",
          "라인프랜즈이태원점 앞"
         ],
         "type": "scattermapbox"
        },
        {
         "lat": [
          37.53841
         ],
         "lon": [
          126.986649
         ],
         "marker": {
          "color": "fuchsia",
          "opacity": 0.8,
          "size": 10
         },
         "mode": "markers",
         "name": "location",
         "text": [
          "이태원지하보도"
         ],
         "type": "scattermapbox"
        }
       ],
       "layout": {
        "height": 500,
        "legend": {
         "itemsizing": "constant",
         "title": {
          "text": "category"
         },
         "tracegroupgap": 0
        },
        "mapbox": {
         "center": {
          "lat": 37.53257323312499,
          "lon": 126.98097141875002
         },
         "domain": {
          "x": [
           0,
           1
          ],
          "y": [
           0,
           1
          ]
         },
         "style": "carto-positron",
         "zoom": 12
        },
        "margin": {
         "t": 60
        },
        "template": {
         "data": {
          "bar": [
           {
            "error_x": {
             "color": "#2a3f5f"
            },
            "error_y": {
             "color": "#2a3f5f"
            },
            "marker": {
             "line": {
              "color": "#E5ECF6",
              "width": 0.5
             },
             "pattern": {
              "fillmode": "overlay",
              "size": 10,
              "solidity": 0.2
             }
            },
            "type": "bar"
           }
          ],
          "barpolar": [
           {
            "marker": {
             "line": {
              "color": "#E5ECF6",
              "width": 0.5
             },
             "pattern": {
              "fillmode": "overlay",
              "size": 10,
              "solidity": 0.2
             }
            },
            "type": "barpolar"
           }
          ],
          "carpet": [
           {
            "aaxis": {
             "endlinecolor": "#2a3f5f",
             "gridcolor": "white",
             "linecolor": "white",
             "minorgridcolor": "white",
             "startlinecolor": "#2a3f5f"
            },
            "baxis": {
             "endlinecolor": "#2a3f5f",
             "gridcolor": "white",
             "linecolor": "white",
             "minorgridcolor": "white",
             "startlinecolor": "#2a3f5f"
            },
            "type": "carpet"
           }
          ],
          "choropleth": [
           {
            "colorbar": {
             "outlinewidth": 0,
             "ticks": ""
            },
            "type": "choropleth"
           }
          ],
          "contour": [
           {
            "colorbar": {
             "outlinewidth": 0,
             "ticks": ""
            },
            "colorscale": [
             [
              0,
              "#0d0887"
             ],
             [
              0.1111111111111111,
              "#46039f"
             ],
             [
              0.2222222222222222,
              "#7201a8"
             ],
             [
              0.3333333333333333,
              "#9c179e"
             ],
             [
              0.4444444444444444,
              "#bd3786"
             ],
             [
              0.5555555555555556,
              "#d8576b"
             ],
             [
              0.6666666666666666,
              "#ed7953"
             ],
             [
              0.7777777777777778,
              "#fb9f3a"
             ],
             [
              0.8888888888888888,
              "#fdca26"
             ],
             [
              1,
              "#f0f921"
             ]
            ],
            "type": "contour"
           }
          ],
          "contourcarpet": [
           {
            "colorbar": {
             "outlinewidth": 0,
             "ticks": ""
            },
            "type": "contourcarpet"
           }
          ],
          "heatmap": [
           {
            "colorbar": {
             "outlinewidth": 0,
             "ticks": ""
            },
            "colorscale": [
             [
              0,
              "#0d0887"
             ],
             [
              0.1111111111111111,
              "#46039f"
             ],
             [
              0.2222222222222222,
              "#7201a8"
             ],
             [
              0.3333333333333333,
              "#9c179e"
             ],
             [
              0.4444444444444444,
              "#bd3786"
             ],
             [
              0.5555555555555556,
              "#d8576b"
             ],
             [
              0.6666666666666666,
              "#ed7953"
             ],
             [
              0.7777777777777778,
              "#fb9f3a"
             ],
             [
              0.8888888888888888,
              "#fdca26"
             ],
             [
              1,
              "#f0f921"
             ]
            ],
            "type": "heatmap"
           }
          ],
          "heatmapgl": [
           {
            "colorbar": {
             "outlinewidth": 0,
             "ticks": ""
            },
            "colorscale": [
             [
              0,
              "#0d0887"
             ],
             [
              0.1111111111111111,
              "#46039f"
             ],
             [
              0.2222222222222222,
              "#7201a8"
             ],
             [
              0.3333333333333333,
              "#9c179e"
             ],
             [
              0.4444444444444444,
              "#bd3786"
             ],
             [
              0.5555555555555556,
              "#d8576b"
             ],
             [
              0.6666666666666666,
              "#ed7953"
             ],
             [
              0.7777777777777778,
              "#fb9f3a"
             ],
             [
              0.8888888888888888,
              "#fdca26"
             ],
             [
              1,
              "#f0f921"
             ]
            ],
            "type": "heatmapgl"
           }
          ],
          "histogram": [
           {
            "marker": {
             "pattern": {
              "fillmode": "overlay",
              "size": 10,
              "solidity": 0.2
             }
            },
            "type": "histogram"
           }
          ],
          "histogram2d": [
           {
            "colorbar": {
             "outlinewidth": 0,
             "ticks": ""
            },
            "colorscale": [
             [
              0,
              "#0d0887"
             ],
             [
              0.1111111111111111,
              "#46039f"
             ],
             [
              0.2222222222222222,
              "#7201a8"
             ],
             [
              0.3333333333333333,
              "#9c179e"
             ],
             [
              0.4444444444444444,
              "#bd3786"
             ],
             [
              0.5555555555555556,
              "#d8576b"
             ],
             [
              0.6666666666666666,
              "#ed7953"
             ],
             [
              0.7777777777777778,
              "#fb9f3a"
             ],
             [
              0.8888888888888888,
              "#fdca26"
             ],
             [
              1,
              "#f0f921"
             ]
            ],
            "type": "histogram2d"
           }
          ],
          "histogram2dcontour": [
           {
            "colorbar": {
             "outlinewidth": 0,
             "ticks": ""
            },
            "colorscale": [
             [
              0,
              "#0d0887"
             ],
             [
              0.1111111111111111,
              "#46039f"
             ],
             [
              0.2222222222222222,
              "#7201a8"
             ],
             [
              0.3333333333333333,
              "#9c179e"
             ],
             [
              0.4444444444444444,
              "#bd3786"
             ],
             [
              0.5555555555555556,
              "#d8576b"
             ],
             [
              0.6666666666666666,
              "#ed7953"
             ],
             [
              0.7777777777777778,
              "#fb9f3a"
             ],
             [
              0.8888888888888888,
              "#fdca26"
             ],
             [
              1,
              "#f0f921"
             ]
            ],
            "type": "histogram2dcontour"
           }
          ],
          "mesh3d": [
           {
            "colorbar": {
             "outlinewidth": 0,
             "ticks": ""
            },
            "type": "mesh3d"
           }
          ],
          "parcoords": [
           {
            "line": {
             "colorbar": {
              "outlinewidth": 0,
              "ticks": ""
             }
            },
            "type": "parcoords"
           }
          ],
          "pie": [
           {
            "automargin": true,
            "type": "pie"
           }
          ],
          "scatter": [
           {
            "fillpattern": {
             "fillmode": "overlay",
             "size": 10,
             "solidity": 0.2
            },
            "type": "scatter"
           }
          ],
          "scatter3d": [
           {
            "line": {
             "colorbar": {
              "outlinewidth": 0,
              "ticks": ""
             }
            },
            "marker": {
             "colorbar": {
              "outlinewidth": 0,
              "ticks": ""
             }
            },
            "type": "scatter3d"
           }
          ],
          "scattercarpet": [
           {
            "marker": {
             "colorbar": {
              "outlinewidth": 0,
              "ticks": ""
             }
            },
            "type": "scattercarpet"
           }
          ],
          "scattergeo": [
           {
            "marker": {
             "colorbar": {
              "outlinewidth": 0,
              "ticks": ""
             }
            },
            "type": "scattergeo"
           }
          ],
          "scattergl": [
           {
            "marker": {
             "colorbar": {
              "outlinewidth": 0,
              "ticks": ""
             }
            },
            "type": "scattergl"
           }
          ],
          "scattermapbox": [
           {
            "marker": {
             "colorbar": {
              "outlinewidth": 0,
              "ticks": ""
             }
            },
            "type": "scattermapbox"
           }
          ],
          "scatterpolar": [
           {
            "marker": {
             "colorbar": {
              "outlinewidth": 0,
              "ticks": ""
             }
            },
            "type": "scatterpolar"
           }
          ],
          "scatterpolargl": [
           {
            "marker": {
             "colorbar": {
              "outlinewidth": 0,
              "ticks": ""
             }
            },
            "type": "scatterpolargl"
           }
          ],
          "scatterternary": [
           {
            "marker": {
             "colorbar": {
              "outlinewidth": 0,
              "ticks": ""
             }
            },
            "type": "scatterternary"
           }
          ],
          "surface": [
           {
            "colorbar": {
             "outlinewidth": 0,
             "ticks": ""
            },
            "colorscale": [
             [
              0,
              "#0d0887"
             ],
             [
              0.1111111111111111,
              "#46039f"
             ],
             [
              0.2222222222222222,
              "#7201a8"
             ],
             [
              0.3333333333333333,
              "#9c179e"
             ],
             [
              0.4444444444444444,
              "#bd3786"
             ],
             [
              0.5555555555555556,
              "#d8576b"
             ],
             [
              0.6666666666666666,
              "#ed7953"
             ],
             [
              0.7777777777777778,
              "#fb9f3a"
             ],
             [
              0.8888888888888888,
              "#fdca26"
             ],
             [
              1,
              "#f0f921"
             ]
            ],
            "type": "surface"
           }
          ],
          "table": [
           {
            "cells": {
             "fill": {
              "color": "#EBF0F8"
             },
             "line": {
              "color": "white"
             }
            },
            "header": {
             "fill": {
              "color": "#C8D4E3"
             },
             "line": {
              "color": "white"
             }
            },
            "type": "table"
           }
          ]
         },
         "layout": {
          "annotationdefaults": {
           "arrowcolor": "#2a3f5f",
           "arrowhead": 0,
           "arrowwidth": 1
          },
          "autotypenumbers": "strict",
          "coloraxis": {
           "colorbar": {
            "outlinewidth": 0,
            "ticks": ""
           }
          },
          "colorscale": {
           "diverging": [
            [
             0,
             "#8e0152"
            ],
            [
             0.1,
             "#c51b7d"
            ],
            [
             0.2,
             "#de77ae"
            ],
            [
             0.3,
             "#f1b6da"
            ],
            [
             0.4,
             "#fde0ef"
            ],
            [
             0.5,
             "#f7f7f7"
            ],
            [
             0.6,
             "#e6f5d0"
            ],
            [
             0.7,
             "#b8e186"
            ],
            [
             0.8,
             "#7fbc41"
            ],
            [
             0.9,
             "#4d9221"
            ],
            [
             1,
             "#276419"
            ]
           ],
           "sequential": [
            [
             0,
             "#0d0887"
            ],
            [
             0.1111111111111111,
             "#46039f"
            ],
            [
             0.2222222222222222,
             "#7201a8"
            ],
            [
             0.3333333333333333,
             "#9c179e"
            ],
            [
             0.4444444444444444,
             "#bd3786"
            ],
            [
             0.5555555555555556,
             "#d8576b"
            ],
            [
             0.6666666666666666,
             "#ed7953"
            ],
            [
             0.7777777777777778,
             "#fb9f3a"
            ],
            [
             0.8888888888888888,
             "#fdca26"
            ],
            [
             1,
             "#f0f921"
            ]
           ],
           "sequentialminus": [
            [
             0,
             "#0d0887"
            ],
            [
             0.1111111111111111,
             "#46039f"
            ],
            [
             0.2222222222222222,
             "#7201a8"
            ],
            [
             0.3333333333333333,
             "#9c179e"
            ],
            [
             0.4444444444444444,
             "#bd3786"
            ],
            [
             0.5555555555555556,
             "#d8576b"
            ],
            [
             0.6666666666666666,
             "#ed7953"
            ],
            [
             0.7777777777777778,
             "#fb9f3a"
            ],
            [
             0.8888888888888888,
             "#fdca26"
            ],
            [
             1,
             "#f0f921"
            ]
           ]
          },
          "colorway": [
           "#636efa",
           "#EF553B",
           "#00cc96",
           "#ab63fa",
           "#FFA15A",
           "#19d3f3",
           "#FF6692",
           "#B6E880",
           "#FF97FF",
           "#FECB52"
          ],
          "font": {
           "color": "#2a3f5f"
          },
          "geo": {
           "bgcolor": "white",
           "lakecolor": "white",
           "landcolor": "#E5ECF6",
           "showlakes": true,
           "showland": true,
           "subunitcolor": "white"
          },
          "hoverlabel": {
           "align": "left"
          },
          "hovermode": "closest",
          "mapbox": {
           "style": "light"
          },
          "paper_bgcolor": "white",
          "plot_bgcolor": "#E5ECF6",
          "polar": {
           "angularaxis": {
            "gridcolor": "white",
            "linecolor": "white",
            "ticks": ""
           },
           "bgcolor": "#E5ECF6",
           "radialaxis": {
            "gridcolor": "white",
            "linecolor": "white",
            "ticks": ""
           }
          },
          "scene": {
           "xaxis": {
            "backgroundcolor": "#E5ECF6",
            "gridcolor": "white",
            "gridwidth": 2,
            "linecolor": "white",
            "showbackground": true,
            "ticks": "",
            "zerolinecolor": "white"
           },
           "yaxis": {
            "backgroundcolor": "#E5ECF6",
            "gridcolor": "white",
            "gridwidth": 2,
            "linecolor": "white",
            "showbackground": true,
            "ticks": "",
            "zerolinecolor": "white"
           },
           "zaxis": {
            "backgroundcolor": "#E5ECF6",
            "gridcolor": "white",
            "gridwidth": 2,
            "linecolor": "white",
            "showbackground": true,
            "ticks": "",
            "zerolinecolor": "white"
           }
          },
          "shapedefaults": {
           "line": {
            "color": "#2a3f5f"
           }
          },
          "ternary": {
           "aaxis": {
            "gridcolor": "white",
            "linecolor": "white",
            "ticks": ""
           },
           "baxis": {
            "gridcolor": "white",
            "linecolor": "white",
            "ticks": ""
           },
           "bgcolor": "#E5ECF6",
           "caxis": {
            "gridcolor": "white",
            "linecolor": "white",
            "ticks": ""
           }
          },
          "title": {
           "x": 0.05
          },
          "xaxis": {
           "automargin": true,
           "gridcolor": "white",
           "linecolor": "white",
           "ticks": "",
           "title": {
            "standoff": 15
           },
           "zerolinecolor": "white",
           "zerolinewidth": 2
          },
          "yaxis": {
           "automargin": true,
           "gridcolor": "white",
           "linecolor": "white",
           "ticks": "",
           "title": {
            "standoff": 15
           },
           "zerolinecolor": "white",
           "zerolinewidth": 2
          }
         }
        }
       }
      }
     },
     "metadata": {},
     "output_type": "display_data"
    }
   ],
   "source": [
    "# 대여소 거리측정(haversine 방식이라고 함..)\n",
    "def haversine_np(lon1, lat1, lon2, lat2):\n",
    "    \"\"\"\n",
    "    Calculate the great circle distance between two points\n",
    "    on the earth (specified in decimal degrees)\n",
    "\n",
    "    All args must be of equal length.    \n",
    "\n",
    "    \"\"\"\n",
    "    lon1, lat1, lon2, lat2 = map(np.radians, [lon1, lat1, lon2, lat2])\n",
    "\n",
    "    dlon = lon2 - lon1\n",
    "    dlat = lat2 - lat1\n",
    "\n",
    "    a = np.sin(dlat/2.0)**2 + np.cos(lat1) * np.cos(lat2) * np.sin(dlon/2.0)**2\n",
    "\n",
    "    c = 2 * np.arcsin(np.sqrt(a))\n",
    "    m = 6367 * c * 1000\n",
    "    return m\n",
    "    \n",
    "def id_map(id,n, dist=1000, min_count = 500) :\n",
    "    # 1 to 2 ex) 여의나루 => 다른 대여소\n",
    "    total_num_left = seoul_bike[seoul_bike['st_id1']== id]['st_id2'].value_counts() # 현재 대여소에서 빌리면 주로 향하는 목적지는?\n",
    "    total_num_left = total_num_left[~total_num_left.index.isin([id])] # 해당 대여소에서 빌려서 해당 대여소로 반납하는 경우 제거\n",
    "    total_num_left = total_num_left[: np.where(total_num_left > n)[0][-1]] # 최소 빌린 횟수 설정\n",
    "\n",
    "\n",
    "    # 2 to 1 ex)다른 대여소 => 여의나루 \n",
    "    total_num_right = seoul_bike[seoul_bike['st_id2']==id]['st_id1'].value_counts() # 어느 대여소에서 현재 대여소로 이동할까?\n",
    "    total_num_right = total_num_right[total_num_right.index != id] # 해당 대여소에서 빌려서 해당 대여소로 반납하는 경우 제거\n",
    "    total_num_right = total_num_right[: np.where(total_num_right > n)[0][-1]] # 최소 빌린 횟수 설정\n",
    "\n",
    "\n",
    "    # concat\n",
    "    result_concat = pd.concat([total_num_left,total_num_right],axis=1)\n",
    "    result_concat.fillna((n/2),inplace=True)\n",
    "    result_concat.rename(columns=dict(st_id2='1to2',st_id1='2to1'),inplace=True) \n",
    "\n",
    "\n",
    "    #분석에 필요한 자료 생성\n",
    "    result_concat['rate'] = round((result_concat[\"1to2\"] / (result_concat[\"1to2\"]+result_concat[\"2to1\"])),4) # 비율\n",
    "    result_concat['diff'] = abs((result_concat[\"1to2\"] - result_concat[\"2to1\"])) # 1to2와 2to1 차이\n",
    "    result_concat['total'] = abs((result_concat[\"1to2\"] + result_concat[\"2to1\"])) # 대여소 총 대여 횟수 \n",
    "    result_concat['category'] = pd.cut(result_concat['rate'], bins=[0,0.45,0.55,result_concat['rate'].max()],\n",
    "                                                              labels=[\"해당 대여소로 향하는 지역\", \"이동량이 비슷한 지역\" ,\"해당 대여소에서 주로 가는 지역\"])\n",
    "\n",
    "\n",
    "    #Station 정보 추가                                                          \n",
    "    add_info_result = pd.merge(result_concat,station, how='left',left_on=result_concat.index,right_on='id') # station 정보 추가\n",
    "    add_info_result.loc[:,'diff'] = add_info_result['diff'] + 100  # 망할 plotly가 min_size를 구현 안해놔서 이렇게라도 해서 min을 키워야함.\n",
    "\n",
    "\n",
    "    ## 해당 대여소 100미터 이내 따릉이 기록 제거(fig_1에 해당)\n",
    "    add_info_result['dist'] = haversine_np(station.loc[station['id']==id,'경도'].values,station.loc[station['id']==id,'위도'].values,add_info_result['경도'].values,add_info_result['위도'].values) # 거리측정\n",
    "    add_info_result = add_info_result[add_info_result['dist'] > 100]\n",
    "\n",
    "\n",
    "    # 해당 대여소 1km 반경 내 따릉이 대여소 표시(fig_2에 해당)\n",
    "    station_haversine = haversine_np(station.loc[station['id']==id,'경도'].values,station.loc[station['id']==id,'위도'].values,station['경도'].values,station['위도'].values)\n",
    "    station_haversine = pd.concat([station,pd.Series(station_haversine)],axis=1)\n",
    "    station_haversine.rename(columns={0:'dist'},inplace=True)\n",
    "    station_haversine = station_haversine.query('@dist >= dist > 0')\n",
    "\n",
    "    # return add_info_result <= 데이터 점검시 활용\n",
    "\n",
    "\n",
    "\n",
    "\n",
    "    ### 그래프 그리기 \n",
    "\n",
    "    # 지역 순위 표시\n",
    "    fig=px.scatter_mapbox(add_info_result.query(' total > @min_count'), #category != \"neutral\" & \n",
    "            lat=\"위도\",lon=\"경도\",\n",
    "            hover_name=\"주소2\",\n",
    "            hover_data=['1to2','2to1','id'],\n",
    "            color='category',opacity=0.7,\n",
    "            size='diff', size_max=20,\n",
    "            color_discrete_map = {'해당 대여소로 향하는 지역': 'midnightblue', \n",
    "                                  '이동량이 비슷한 지역': 'hotpink',\n",
    "                                  '해당 대여소에서 주로 가는 지역': 'coral'},\n",
    "            zoom=12,height=500,)\n",
    "\n",
    "\n",
    "    # 반경 내 따릉이 대여소 표현\n",
    "    fig_2 = go.Figure(go.Scattermapbox(\n",
    "                name= f'station with in {round(dist/1000,2)}km',\n",
    "                lat=station_haversine['위도'],\n",
    "                lon=station_haversine['경도'],\n",
    "                mode='markers',\n",
    "                # marker = {'size': 20, 'symbol': \"bus\"},\n",
    "                marker=go.scattermapbox.Marker(size=8,color='black',opacity=0.2),\n",
    "                text=station_haversine['주소2'],\n",
    "        ))                          \n",
    "    fig.add_trace(fig_2.data[0])\n",
    "\n",
    "\n",
    "    # 해당 따릉이 대여소 색 표시\n",
    "    fig_3 = go.Figure(go.Scattermapbox(\n",
    "                name='location',\n",
    "                lat=station.query('id==@id')['위도'],\n",
    "                lon=station.query('id==@id')['경도'],\n",
    "                mode='markers',\n",
    "                # marker = {'size': 20, 'symbol': \"bus\"},\n",
    "                marker=go.scattermapbox.Marker(size=10,color='fuchsia',opacity=0.8),\n",
    "                text=station.query('id==@id')['주소2'].values,\n",
    "        ))                            \n",
    "    fig.add_trace(fig_3.data[0])\n",
    "\n",
    "\n",
    "    fig.update_layout(mapbox_style=\"carto-positron\")\n",
    "    return fig\n",
    "\n",
    "id= 810\n",
    "n = 50\n",
    "\n",
    "id_map(id, n, min_count=200)"
   ]
  },
  {
   "cell_type": "code",
   "execution_count": 16,
   "metadata": {},
   "outputs": [],
   "source": [
    "def id_map(id,n, dist=1000) :\n",
    "    # 1 to 2 ex) 여의나루 => 다른 대여소\n",
    "    total_num_left = seoul_bike[seoul_bike['st_id1']== id]['st_id2'].value_counts() # 현재 대여소에서 빌리면 주로 향하는 목적지는?\n",
    "    total_num_left = total_num_left[~total_num_left.index.isin([id])] # 해당 대여소에서 빌려서 해당 대여소로 반납하는 경우 제거\n",
    "    total_num_left = total_num_left[: np.where(total_num_left > n)[0][-1]] # 최소 빌린 횟수 설정\n",
    "\n",
    "\n",
    "    # 2 to 1 ex)다른 대여소 => 여의나루 \n",
    "    total_num_right = seoul_bike[seoul_bike['st_id2']==id]['st_id1'].value_counts() # 어느 대여소에서 현재 대여소로 이동할까?\n",
    "    total_num_right = total_num_right[total_num_right.index != id] # 해당 대여소에서 빌려서 해당 대여소로 반납하는 경우 제거\n",
    "    total_num_right = total_num_right[: np.where(total_num_right > n)[0][-1]] # 최소 빌린 횟수 설정\n",
    "\n",
    "\n",
    "    # concat\n",
    "    result_concat = pd.concat([total_num_left,total_num_right],axis=1)\n",
    "    result_concat.fillna((n/2),inplace=True)\n",
    "    result_concat.rename(columns=dict(st_id2='1to2',st_id1='2to1'),inplace=True) \n",
    "\n",
    "\n",
    "    #분석에 필요한 자료 생성\n",
    "    result_concat['rate'] = round((result_concat[\"1to2\"] / (result_concat[\"1to2\"]+result_concat[\"2to1\"])),4) # 비율\n",
    "    result_concat['diff'] = abs((result_concat[\"1to2\"] - result_concat[\"2to1\"])) # 1to2와 2to1 차이\n",
    "    result_concat['total'] = abs((result_concat[\"1to2\"] + result_concat[\"2to1\"])) # 대여소 총 대여 횟수 \n",
    "    result_concat['category'] = pd.cut(result_concat['rate'], bins=[0,0.45,0.55,result_concat['rate'].max()],\n",
    "                                                              labels=[\"to\", \"sim\" ,\"from\"])\n",
    "                                                             # to : 0~0.45 => 1to2가 2to1보다 작다. 즉 상대 대여소에서 더 많이 온다는 말\n",
    "                                                             # sim : 0.45~0.55 => 1to2와 2to1이 비슷하다. 즉 왕래가 비슷한 대여소이다.\n",
    "                                                             # from : 0.55~1 => 1to2가 2to1보다 많다. 즉 해당 대여소가 더 많이 향한다는 말\n",
    "\n",
    "\n",
    "    #Station 정보 추가                                                          \n",
    "    add_info_result = pd.merge(result_concat,station, how='left',left_on=result_concat.index,right_on='id') # station 정보 추가\n",
    "    add_info_result.loc[:,'diff'] = add_info_result['diff'] + 100  # 망할 plotly가 min_size를 구현 안해놔서 이렇게라도 해서 min을 키워야함.\n",
    "\n",
    "\n",
    "    ## 해당 대여소 100미터 이내 따릉이 기록 제거(fig_1에 해당)\n",
    "    add_info_result['dist'] = haversine_np(station.loc[station['id']==id,'경도'].values,station.loc[station['id']==id,'위도'].values,add_info_result['경도'].values,add_info_result['위도'].values) # 거리측정\n",
    "    add_info_result = add_info_result[add_info_result['dist'] > 100]\n",
    "\n",
    "\n",
    "    # 해당 대여소 1km 반경 내 따릉이 대여소 표시(fig_2에 해당)\n",
    "    station_haversine = haversine_np(station.loc[station['id']==id,'경도'].values,station.loc[station['id']==id,'위도'].values,station['경도'].values,station['위도'].values)\n",
    "    station_haversine = pd.concat([station,pd.Series(station_haversine)],axis=1)\n",
    "    station_haversine.rename(columns={0:'dist'},inplace=True)\n",
    "    station_haversine = station_haversine.query('@dist >= dist > 0')\n",
    "\n",
    "    return add_info_result"
   ]
  },
  {
   "cell_type": "code",
   "execution_count": 42,
   "metadata": {},
   "outputs": [
    {
     "name": "stdout",
     "output_type": "stream",
     "text": [
      "4.68 ms ± 886 µs per loop (mean ± std. dev. of 7 runs, 100 loops each)\n",
      "434 µs ± 205 µs per loop (mean ± std. dev. of 7 runs, 1000 loops each)\n",
      "The slowest run took 4.52 times longer than the fastest. This could mean that an intermediate result is being cached.\n",
      "1.14 ms ± 673 µs per loop (mean ± std. dev. of 7 runs, 100 loops each)\n"
     ]
    }
   ],
   "source": [
    "%timei/t station.query('id==@id')['경도']\n",
    "\n",
    "# %timeit station.loc[station['id']==id,'경도']\n",
    "\n",
    "# %timeit station[station['id']==id]['경도']\n",
    "\n"
   ]
  },
  {
   "cell_type": "code",
   "execution_count": 24,
   "metadata": {},
   "outputs": [
    {
     "data": {
      "application/vnd.jupyter.widget-view+json": {
       "model_id": "c42b51b725894efb8052351679265725",
       "version_major": 2,
       "version_minor": 0
      },
      "text/plain": [
       "  0%|          | 0/2655 [00:00<?, ?it/s]"
      ]
     },
     "metadata": {},
     "output_type": "display_data"
    },
    {
     "data": {
      "text/html": [
       "<div>\n",
       "<style scoped>\n",
       "    .dataframe tbody tr th:only-of-type {\n",
       "        vertical-align: middle;\n",
       "    }\n",
       "\n",
       "    .dataframe tbody tr th {\n",
       "        vertical-align: top;\n",
       "    }\n",
       "\n",
       "    .dataframe thead th {\n",
       "        text-align: right;\n",
       "    }\n",
       "</style>\n",
       "<table border=\"1\" class=\"dataframe\">\n",
       "  <thead>\n",
       "    <tr style=\"text-align: right;\">\n",
       "      <th></th>\n",
       "      <th>id</th>\n",
       "      <th>to</th>\n",
       "      <th>sim</th>\n",
       "      <th>from</th>\n",
       "    </tr>\n",
       "  </thead>\n",
       "  <tbody>\n",
       "    <tr>\n",
       "      <th>0</th>\n",
       "      <td>102</td>\n",
       "      <td>12.0</td>\n",
       "      <td>14.0</td>\n",
       "      <td>6.0</td>\n",
       "    </tr>\n",
       "    <tr>\n",
       "      <th>1</th>\n",
       "      <td>103</td>\n",
       "      <td>2.0</td>\n",
       "      <td>18.0</td>\n",
       "      <td>7.0</td>\n",
       "    </tr>\n",
       "    <tr>\n",
       "      <th>2</th>\n",
       "      <td>104</td>\n",
       "      <td>2.0</td>\n",
       "      <td>8.0</td>\n",
       "      <td>9.0</td>\n",
       "    </tr>\n",
       "    <tr>\n",
       "      <th>3</th>\n",
       "      <td>105</td>\n",
       "      <td>1.0</td>\n",
       "      <td>7.0</td>\n",
       "      <td>4.0</td>\n",
       "    </tr>\n",
       "    <tr>\n",
       "      <th>4</th>\n",
       "      <td>106</td>\n",
       "      <td>5.0</td>\n",
       "      <td>12.0</td>\n",
       "      <td>16.0</td>\n",
       "    </tr>\n",
       "    <tr>\n",
       "      <th>...</th>\n",
       "      <td>...</td>\n",
       "      <td>...</td>\n",
       "      <td>...</td>\n",
       "      <td>...</td>\n",
       "    </tr>\n",
       "    <tr>\n",
       "      <th>2650</th>\n",
       "      <td>3304</td>\n",
       "      <td>NaN</td>\n",
       "      <td>NaN</td>\n",
       "      <td>NaN</td>\n",
       "    </tr>\n",
       "    <tr>\n",
       "      <th>2651</th>\n",
       "      <td>2292</td>\n",
       "      <td>NaN</td>\n",
       "      <td>NaN</td>\n",
       "      <td>NaN</td>\n",
       "    </tr>\n",
       "    <tr>\n",
       "      <th>2652</th>\n",
       "      <td>2543</td>\n",
       "      <td>NaN</td>\n",
       "      <td>NaN</td>\n",
       "      <td>NaN</td>\n",
       "    </tr>\n",
       "    <tr>\n",
       "      <th>2653</th>\n",
       "      <td>2386</td>\n",
       "      <td>NaN</td>\n",
       "      <td>NaN</td>\n",
       "      <td>NaN</td>\n",
       "    </tr>\n",
       "    <tr>\n",
       "      <th>2654</th>\n",
       "      <td>2619</td>\n",
       "      <td>NaN</td>\n",
       "      <td>NaN</td>\n",
       "      <td>NaN</td>\n",
       "    </tr>\n",
       "  </tbody>\n",
       "</table>\n",
       "<p>2655 rows × 4 columns</p>\n",
       "</div>"
      ],
      "text/plain": [
       "        id    to   sim  from\n",
       "0      102  12.0  14.0   6.0\n",
       "1      103   2.0  18.0   7.0\n",
       "2      104   2.0   8.0   9.0\n",
       "3      105   1.0   7.0   4.0\n",
       "4      106   5.0  12.0  16.0\n",
       "...    ...   ...   ...   ...\n",
       "2650  3304   NaN   NaN   NaN\n",
       "2651  2292   NaN   NaN   NaN\n",
       "2652  2543   NaN   NaN   NaN\n",
       "2653  2386   NaN   NaN   NaN\n",
       "2654  2619   NaN   NaN   NaN\n",
       "\n",
       "[2655 rows x 4 columns]"
      ]
     },
     "execution_count": 24,
     "metadata": {},
     "output_type": "execute_result"
    }
   ],
   "source": [
    "## 여기서부터 시작하자\n",
    "result =[]\n",
    "n = 200 \n",
    "for id_a in notebook.tqdm(station['id'].values) : \n",
    "    try : \n",
    "        a = id_map(id_a, n)\n",
    "        b= len(a[a['category'] == \"to\"]) # 해당 대여소로 향하는 대여소 수 \n",
    "        c= len(a[a['category'] == \"sim\"]) # 양방향 값이 비슷\n",
    "        d= len(a[a['category'] == \"from\"]) # 해당 대여소가 향하는 대여소 수 \n",
    "        result.append([id_a,b,c,d])\n",
    "    except :\n",
    "        result.append([id_a])"
   ]
  },
  {
   "cell_type": "code",
   "execution_count": 82,
   "metadata": {},
   "outputs": [],
   "source": [
    "# 중립 설정 범위\n",
    "num = 3\n",
    "\n",
    "# data frame 만들기\n",
    "result = pd.DataFrame(result,columns=['id','to','sim','from'])\n",
    "\n",
    "# 해당 대여소가 몰리는 지역인지, 퍼지는지역인지 계산\n",
    "result['diff'] = result['to'] - result['from']\n",
    "result['class'] =  pd.cut(x=result['diff'],bins=[result['diff'].min(),-num,num,result['diff'].max()],labels=['퍼지는 지역','유사','몰리는 지역'])\n",
    "\n",
    "# 버블 크기 때문에 abs 설정\n",
    "result['diff_abs'] = abs(result['to'] - result['from'])\n",
    "\n",
    "#정보 추가 및 dropna\n",
    "result_info = pd.merge(result, station, how='left',on='id')\n",
    "result_info.dropna(inplace=True)"
   ]
  },
  {
   "cell_type": "code",
   "execution_count": 86,
   "metadata": {},
   "outputs": [
    {
     "data": {
      "application/vnd.plotly.v1+json": {
       "config": {
        "plotlyServerURL": "https://plot.ly"
       },
       "data": [
        {
         "customdata": [
          [
           12,
           14,
           6
          ],
          [
           9,
           13,
           3
          ],
          [
           8,
           11,
           2
          ],
          [
           20,
           15,
           5
          ],
          [
           8,
           8,
           3
          ],
          [
           6,
           4,
           2
          ],
          [
           8,
           7,
           2
          ],
          [
           8,
           5,
           2
          ],
          [
           10,
           14,
           6
          ],
          [
           12,
           10,
           6
          ],
          [
           13,
           13,
           7
          ],
          [
           6,
           1,
           1
          ],
          [
           12,
           6,
           5
          ],
          [
           9,
           6,
           5
          ],
          [
           6,
           8,
           2
          ],
          [
           9,
           14,
           1
          ],
          [
           8,
           4,
           4
          ],
          [
           10,
           17,
           4
          ],
          [
           8,
           17,
           2
          ],
          [
           10,
           2,
           5
          ],
          [
           9,
           4,
           2
          ],
          [
           7,
           12,
           3
          ],
          [
           7,
           6,
           3
          ],
          [
           11,
           34,
           5
          ],
          [
           7,
           10,
           3
          ],
          [
           8,
           22,
           3
          ],
          [
           9,
           5,
           2
          ],
          [
           8,
           9,
           4
          ],
          [
           20,
           23,
           15
          ],
          [
           22,
           23,
           5
          ],
          [
           11,
           10,
           6
          ],
          [
           5,
           4,
           1
          ],
          [
           8,
           7,
           3
          ],
          [
           5,
           8,
           1
          ],
          [
           9,
           6,
           5
          ],
          [
           8,
           3,
           2
          ],
          [
           6,
           11,
           2
          ],
          [
           11,
           11,
           4
          ],
          [
           8,
           0,
           1
          ],
          [
           15,
           11,
           3
          ],
          [
           6,
           2,
           2
          ],
          [
           11,
           8,
           6
          ],
          [
           6,
           7,
           2
          ],
          [
           8,
           2,
           4
          ],
          [
           10,
           5,
           2
          ],
          [
           9,
           4,
           1
          ],
          [
           6,
           17,
           1
          ],
          [
           9,
           17,
           2
          ],
          [
           39,
           41,
           18
          ],
          [
           13,
           16,
           6
          ],
          [
           12,
           13,
           6
          ],
          [
           11,
           9,
           7
          ],
          [
           10,
           10,
           2
          ],
          [
           11,
           4,
           5
          ],
          [
           18,
           11,
           13
          ],
          [
           12,
           11,
           6
          ],
          [
           7,
           13,
           3
          ],
          [
           8,
           8,
           3
          ],
          [
           15,
           16,
           4
          ],
          [
           6,
           6,
           1
          ],
          [
           6,
           8,
           2
          ],
          [
           14,
           10,
           5
          ],
          [
           8,
           3,
           4
          ],
          [
           14,
           14,
           7
          ],
          [
           5,
           9,
           1
          ],
          [
           11,
           10,
           6
          ],
          [
           8,
           6,
           3
          ],
          [
           16,
           20,
           8
          ],
          [
           10,
           11,
           5
          ],
          [
           15,
           10,
           7
          ],
          [
           9,
           14,
           2
          ],
          [
           14,
           11,
           3
          ],
          [
           7,
           10,
           3
          ],
          [
           8,
           15,
           3
          ],
          [
           9,
           13,
           4
          ],
          [
           6,
           6,
           2
          ],
          [
           7,
           8,
           3
          ],
          [
           6,
           1,
           2
          ],
          [
           7,
           11,
           1
          ],
          [
           10,
           17,
           4
          ],
          [
           8,
           11,
           3
          ],
          [
           8,
           10,
           4
          ],
          [
           13,
           7,
           6
          ],
          [
           8,
           7,
           2
          ],
          [
           11,
           6,
           7
          ],
          [
           17,
           12,
           8
          ],
          [
           16,
           22,
           5
          ],
          [
           20,
           11,
           2
          ],
          [
           13,
           8,
           9
          ],
          [
           13,
           17,
           6
          ],
          [
           10,
           11,
           3
          ],
          [
           5,
           1,
           1
          ],
          [
           11,
           0,
           6
          ],
          [
           11,
           7,
           5
          ],
          [
           18,
           15,
           5
          ],
          [
           10,
           7,
           2
          ],
          [
           19,
           17,
           3
          ],
          [
           7,
           5,
           3
          ],
          [
           9,
           3,
           4
          ],
          [
           25,
           11,
           7
          ],
          [
           9,
           17,
           4
          ],
          [
           14,
           19,
           10
          ],
          [
           5,
           13,
           1
          ],
          [
           8,
           11,
           1
          ],
          [
           10,
           12,
           5
          ],
          [
           14,
           24,
           8
          ],
          [
           9,
           10,
           4
          ],
          [
           14,
           7,
           8
          ],
          [
           15,
           21,
           7
          ],
          [
           13,
           12,
           1
          ],
          [
           11,
           6,
           6
          ],
          [
           11,
           5,
           2
          ],
          [
           21,
           10,
           11
          ],
          [
           9,
           12,
           5
          ],
          [
           7,
           4,
           3
          ],
          [
           8,
           9,
           1
          ],
          [
           17,
           16,
           8
          ],
          [
           24,
           14,
           3
          ],
          [
           22,
           3,
           3
          ],
          [
           12,
           16,
           8
          ],
          [
           9,
           38,
           5
          ],
          [
           8,
           4,
           4
          ],
          [
           9,
           11,
           4
          ],
          [
           10,
           16,
           4
          ],
          [
           9,
           19,
           5
          ],
          [
           10,
           4,
           3
          ],
          [
           7,
           3,
           3
          ],
          [
           10,
           13,
           4
          ],
          [
           9,
           10,
           4
          ],
          [
           6,
           3,
           1
          ],
          [
           10,
           14,
           4
          ],
          [
           23,
           25,
           4
          ],
          [
           11,
           11,
           1
          ],
          [
           10,
           14,
           3
          ],
          [
           12,
           9,
           3
          ],
          [
           6,
           10,
           2
          ],
          [
           6,
           6,
           2
          ],
          [
           9,
           11,
           5
          ],
          [
           8,
           8,
           4
          ],
          [
           8,
           6,
           3
          ],
          [
           11,
           13,
           7
          ],
          [
           15,
           7,
           5
          ],
          [
           7,
           9,
           3
          ],
          [
           10,
           9,
           5
          ],
          [
           5,
           0,
           1
          ],
          [
           8,
           6,
           2
          ],
          [
           9,
           9,
           5
          ],
          [
           11,
           16,
           6
          ],
          [
           12,
           6,
           3
          ],
          [
           7,
           8,
           2
          ],
          [
           7,
           10,
           3
          ],
          [
           18,
           19,
           6
          ],
          [
           9,
           18,
           5
          ],
          [
           8,
           22,
           1
          ],
          [
           12,
           10,
           5
          ],
          [
           20,
           37,
           6
          ],
          [
           5,
           1,
           1
          ],
          [
           19,
           29,
           6
          ],
          [
           14,
           3,
           3
          ],
          [
           12,
           17,
           7
          ],
          [
           12,
           7,
           3
          ],
          [
           15,
           12,
           2
          ],
          [
           7,
           7,
           3
          ],
          [
           8,
           7,
           4
          ],
          [
           11,
           13,
           1
          ],
          [
           6,
           0,
           1
          ],
          [
           10,
           2,
           3
          ],
          [
           15,
           10,
           5
          ],
          [
           20,
           28,
           16
          ],
          [
           24,
           24,
           18
          ],
          [
           6,
           8,
           1
          ],
          [
           8,
           4,
           1
          ],
          [
           10,
           6,
           3
          ],
          [
           8,
           6,
           4
          ],
          [
           20,
           6,
           4
          ],
          [
           11,
           12,
           4
          ],
          [
           8,
           7,
           3
          ],
          [
           17,
           9,
           2
          ],
          [
           15,
           13,
           2
          ],
          [
           10,
           8,
           5
          ],
          [
           6,
           5,
           2
          ],
          [
           20,
           32,
           12
          ],
          [
           7,
           4,
           2
          ],
          [
           10,
           6,
           4
          ],
          [
           16,
           9,
           6
          ],
          [
           6,
           4,
           2
          ],
          [
           17,
           15,
           9
          ],
          [
           15,
           31,
           9
          ],
          [
           10,
           10,
           3
          ],
          [
           13,
           11,
           3
          ],
          [
           9,
           7,
           3
          ],
          [
           5,
           5,
           1
          ],
          [
           19,
           16,
           2
          ],
          [
           12,
           11,
           8
          ],
          [
           10,
           8,
           3
          ],
          [
           9,
           4,
           1
          ],
          [
           8,
           18,
           2
          ],
          [
           11,
           19,
           3
          ],
          [
           12,
           13,
           5
          ],
          [
           10,
           18,
           4
          ],
          [
           19,
           27,
           9
          ],
          [
           7,
           5,
           1
          ],
          [
           9,
           11,
           4
          ],
          [
           12,
           19,
           8
          ],
          [
           9,
           25,
           5
          ],
          [
           9,
           5,
           1
          ],
          [
           25,
           17,
           7
          ],
          [
           19,
           13,
           5
          ],
          [
           11,
           10,
           7
          ],
          [
           11,
           4,
           4
          ],
          [
           8,
           2,
           2
          ],
          [
           16,
           10,
           11
          ],
          [
           12,
           5,
           7
          ],
          [
           9,
           3,
           4
          ],
          [
           8,
           6,
           2
          ],
          [
           12,
           25,
           5
          ],
          [
           17,
           31,
           11
          ],
          [
           5,
           2,
           1
          ],
          [
           7,
           2,
           3
          ],
          [
           9,
           10,
           2
          ],
          [
           10,
           7,
           5
          ],
          [
           12,
           3,
           6
          ],
          [
           11,
           5,
           7
          ],
          [
           18,
           32,
           9
          ],
          [
           9,
           26,
           5
          ],
          [
           11,
           13,
           3
          ],
          [
           7,
           1,
           1
          ],
          [
           13,
           11,
           3
          ],
          [
           5,
           1,
           1
          ],
          [
           10,
           20,
           4
          ],
          [
           6,
           10,
           2
          ],
          [
           11,
           7,
           6
          ],
          [
           7,
           10,
           3
          ],
          [
           6,
           8,
           1
          ],
          [
           6,
           2,
           2
          ],
          [
           11,
           10,
           7
          ],
          [
           5,
           1,
           1
          ],
          [
           13,
           10,
           6
          ],
          [
           14,
           10,
           2
          ],
          [
           6,
           19,
           2
          ],
          [
           14,
           4,
           2
          ],
          [
           5,
           1,
           1
          ],
          [
           6,
           3,
           2
          ],
          [
           6,
           3,
           1
          ],
          [
           29,
           41,
           6
          ],
          [
           11,
           7,
           5
          ],
          [
           8,
           10,
           2
          ]
         ],
         "hovertemplate": "<b>%{hovertext}</b><br><br>class=몰리는 지역<br>위도=%{lat}<br>경도=%{lon}<br>to=%{customdata[0]}<br>sim=%{customdata[1]}<br>from=%{customdata[2]}<extra></extra>",
         "hovertext": [
          "망원역 1번출구 앞",
          "신한은행 서교동금융센터점 앞",
          "서교동 사거리",
          "홍대입구역 2번출구 앞",
          "일진아이윌아파트 옆",
          "광흥창역 2번출구 앞",
          "서강나루 공원",
          "신촌역(2호선) 1번출구 옆",
          "증산2교",
          "해담는다리",
          "공덕역 8번출구",
          "공덕역 5번출구",
          "마포역 2번출구 뒤",
          "마포역 4번출구 뒤",
          "용강동 주민센터 앞",
          "마포구청역",
          "가재울 초등학교",
          "하늘채코오롱아파트 건너편",
          "SK망원동주유소 건너편",
          "국회의사당역 3번출구 옆",
          "산업은행 앞",
          "롯데캐슬 앞",
          "양평2나들목 보행통로 입구",
          "영등포구청역 1번출구",
          "문래동자이아파트 앞",
          "삼성생명 당산사옥 앞",
          "여의도중학교 옆",
          "보라매역4번출구",
          "당산육갑문",
          "영등포역지하쇼핑센타 5번출구",
          "SK 영등포주유소",
          "신동아아파트 앞",
          "우성아파트 교차로",
          "당산동 SK V1 빌딩",
          "종각역 1번출구 앞",
          "낙원상가 옆",
          "혜화동 로터리",
          "청계8가 사거리",
          "경희궁 자이 3단지",
          "누리꿈스퀘어 옆",
          "DMC산학협력연구센터 앞",
          "상암동주민센터 옆",
          "성산시영아파트",
          "마포어린이공원",
          "신석초교앞 교차로 교통섬",
          "가온문화공원",
          "홍대입구역 6번출구",
          "연남동주민센터 앞",
          "뚝섬유원지역 1번출구 앞",
          "이마트 버스정류소 옆",
          "뚝섬역 1번 출구 옆",
          "군자역 7번출구 베스트샵 앞",
          "자양나들목",
          "성동세무서 건너편",
          "옥수역 3번출구",
          "성수2가1동 공영주차장 인근",
          "유니베라 앞",
          "뚝섬 유원지역",
          "성수역3번출구",
          "자양중앙나들목",
          "신설동역8번출구",
          "동대문구 보건소",
          "동대문구민체육센터 (육교아래)",
          "장한평역 1번출구 (국민은행앞)",
          "촬영소 사거리",
          "청량리역 4번 5번출구 사이",
          "목동사거리 부근",
          "오목교역 7번출구 앞",
          "LG전자베스트샵 신정점",
          "SBS방송국",
          "목동3단지 시내버스정류장",
          "서부식자재마트 건너편",
          "서울시 도로환경관리센터",
          "신트리공원 입구",
          "영도초등학교",
          "으뜸공원",
          "목동3단지 상가",
          "연의근린공원 건너편",
          "한사랑교회 앞",
          "양천나눔누리센터",
          "신정교 하부",
          "신정보도육교 아래",
          "신용산역 1번 출구",
          " 삼각지 자이아파트",
          "구파발역 2번출구",
          "연신내역 5번출구150M 아래",
          "CJ 드림시티",
          "응암오거리",
          "새절역 2번출구",
          "역촌파출소",
          "LG서비스 역촌점",
          "디지털미디어 시티역 4번출구",
          "연신내역 1번 출구",
          "구산역 2번 출구",
          "응암시장교차로",
          "응암 꼬꼬닭치킨호프 앞",
          "응암역 1번출구",
          "광진교 남단 사거리(디지털프라자앞)",
          "삼성광나루아파트 버스정류장",
          "암사역 3번출구(국민은행앞)",
          "다성이즈빌아파트(호원대 대각선 맞은편)",
          "강동경찰서",
          "강일동 리슈빌 빌딩앞",
          "한국종합기술사옥 앞",
          "동부기업(둔촌동)",
          "둔촌역 3번 출입구",
          "전자랜드 길동점",
          "윤선생빌딩(JYP사옥)",
          "증미역 3번출구뒤(등촌두산위브센티움오피스텔)",
          "황금내근린공원",
          "강서구의회",
          "곰달래 문화복지센터 1-1",
          "강서구청",
          "방화동강서기동대앞",
          "마곡엠밸리10단지 앞",
          "가양3동 주민센터",
          "마곡13단지",
          "마곡센트럴타워 1차",
          "코오롱One&Only타워",
          "엠펠리체 호텔 건너편",
          "방이삼거리",
          "오금역 7번 출구 인근",
          "방이역 4번출구",
          "잠실본동주민센터뒤 잠실근린공원",
          "삼전사거리 포스코더샵",
          "아시아지하보도 2번 출구",
          "아주중학교건너편",
          "석촌역 2번출구",
          "송파여성문화회관 앞",
          "오금동 송파 참병원",
          "송파구청 교차로",
          "안암로터리 버스정류장 앞",
          "석계역 5번출구 건너편",
          "보문2교",
          "월곡역 5번출구 앞",
          "극동늘푸른아파트",
          "장안중학교",
          "중화역 2번출구",
          "홈플러스 신내점 앞",
          "하나은행 면목지점",
          "중랑세무서",
          "겸재교 진입부",
          "상봉역 2번 출구",
          "상봉터미널2",
          "중랑공영차고지 옆",
          "중화동 우리은행 앞",
          "동양쇼핑 정류소 앞",
          "이디야 커피 수유역점 앞",
          "번동 주공3, 4단지 교차로",
          "가오리역",
          "헬스케어",
          "공릉역 1번 출구 앞",
          "화랑대역 2번출구 앞",
          "과기대 입구(우)",
          "하계동 중평어린이공원 앞",
          "KT 노원점 건물 앞",
          "한내근린공원 북측",
          "노원역1번출구",
          "노원구청",
          "노원역7번출구",
          "보건소사거리(다비치안경창동점)",
          "창동역 2번출구",
          "창동주공17단지 상가앞",
          "북한산 코오롱 하늘채",
          "태양중앙교회 앞",
          "수출의 다리 아래",
          "벽산 디지털밸리 5차",
          "대륭포스트타워6차 앞",
          "신도림역 1번 출구 앞",
          "구로디지털단지역 앞",
          "개봉역(북측광장)",
          "개봉푸르지오아파트 상가",
          "오류동역 2번출구",
          "강서수도사업소민원센터",
          "태평양물산빌딩",
          "오류동역 맞은편",
          "노들역 1번출구",
          "흑석역 1번출구",
          "노량진역 5번출구",
          "노량진동 맥도널드앞",
          "사당역10번출구(금강빌딩)",
          "봉림교 교통섬",
          "미성동 신림체육센터",
          "난곡 새마을금고",
          "은천로입구 가로공원",
          "낙성대로 입구",
          "신림역 8번출구",
          "당곡사거리",
          "보라매공원 보도육교",
          "사당역 12번출구 뒤",
          "삼성타운(삼성생명) A동 맞은편",
          "더케이호텔 입구(양재2)",
          "한신16차아파트 119동 앞",
          "이수역 1번출구",
          "삼호물산버스정류장(23370) 옆",
          "포스코사거리(기업은행)",
          "석촌호수 서호사거리",
          "송파구청",
          "여흥레이크빌 앞 (석촌호수 까페거리)",
          "잠실나들목",
          "송파나루역 4번 출구옆",
          "배명고등학교",
          "쌍용아파트",
          "송파역 4번출구",
          "강서한강자이타워 앞",
          "가로공원공영주차장 1번 출구",
          "LG유플러스 마곡사옥",
          "마곡문화공원",
          "마곡 필네이처",
          "서울식물원 잔디마당 앞",
          "명덕고교",
          "마곡13단지 정문 앞",
          "대륭포스트타워1차",
          "상계8동 주민센터",
          "신창중학교 후문 맞은편 버스정류장",
          "등나무 근린공원(시립북서울미술관 앞) ",
          "홍대입구역 3번출구",
          "신촌역 4번출구",
          "동신병원 맞은편",
          "영등포역 2번출구",
          "종로3가역 8번출구",
          "종로플레이스",
          "용마사거리",
          "건대입구역 사거리(롯데백화점)",
          "커먼그라운드",
          "성동구민종합체육센터 앞",
          "등촌태영아파트",
          "가양동 이마트 앞",
          "김포공항교차로",
          "등촌서광아파트",
          "정곡나들목",
          "염창나들목",
          "송정역 3번출구 앞",
          "테크노마트 앞",
          "하계역 6번출구",
          "진영상운 앞 중랑천 변",
          "스타벅스(동교동) 앞",
          "삼성SDS",
          "아산병원 기숙사 부근",
          "동문굿모닝탑",
          "다이소신곡시장점",
          "한강초교보도육교 앞",
          "올림픽기념 국민생활관 로터리",
          "잠실나루 나들목",
          "마포구민체육센터 앞",
          "신길삼거리(우리은행)",
          "문정동 힐스데이트 에코 송파"
         ],
         "lat": [
          37.555649,
          37.55751,
          37.552746,
          37.557499,
          37.564541,
          37.547733,
          37.545284,
          37.555496,
          37.584171,
          37.582031,
          37.543579,
          37.54425,
          37.539936,
          37.539272,
          37.542347,
          37.560909,
          37.573277,
          37.565166,
          37.558949,
          37.528057,
          37.526264,
          37.520088,
          37.544666,
          37.524635,
          37.516155,
          37.528263,
          37.52412,
          37.499828,
          37.535339,
          37.516651,
          37.518284,
          37.498241,
          37.494572,
          37.531509,
          37.570396,
          37.573357,
          37.585629,
          37.572224,
          37.56749,
          37.579399,
          37.575802,
          37.57822,
          37.569584,
          37.535751,
          37.54364,
          37.582077,
          37.556576,
          37.564651,
          37.53186,
          37.539654,
          37.548561,
          37.55603,
          37.52977,
          37.547913,
          37.541363,
          37.536808,
          37.545418,
          37.532688,
          37.544159,
          37.528587,
          37.5742,
          37.574852,
          37.566971,
          37.561867,
          37.572948,
          37.580151,
          37.532803,
          37.524063,
          37.521435,
          37.529163,
          37.534389,
          37.51038,
          37.5299,
          37.51395,
          37.53643,
          37.536369,
          37.53458,
          37.512157,
          37.514721,
          37.518845,
          37.516907,
          37.517593,
          37.52961,
          37.536079,
          37.636234,
          37.61721,
          37.599491,
          37.589661,
          37.590797,
          37.604736,
          37.612484,
          37.577202,
          37.619781,
          37.610779,
          37.594376,
          37.591812,
          37.598606,
          37.541805,
          37.553349,
          37.549549,
          37.526825,
          37.52829,
          37.564301,
          37.549999,
          37.531013,
          37.526695,
          37.539894,
          37.52393,
          37.557461,
          37.561932,
          37.546532,
          37.52906,
          37.550659,
          37.570499,
          37.560226,
          37.561249,
          37.55645,
          37.559471,
          37.564129,
          37.560242,
          37.512104,
          37.502594,
          37.508968,
          37.505692,
          37.5042,
          37.512169,
          37.505463,
          37.505932,
          37.505802,
          37.503757,
          37.515831,
          37.582592,
          37.613556,
          37.588699,
          37.601086,
          37.614738,
          37.599957,
          37.602077,
          37.616169,
          37.586372,
          37.592758,
          37.585655,
          37.596329,
          37.59734,
          37.613148,
          37.605202,
          37.615353,
          37.639278,
          37.629917,
          37.64167,
          37.631622,
          37.626614,
          37.620369,
          37.62994,
          37.63715,
          37.654701,
          37.623863,
          37.6562,
          37.654049,
          37.654114,
          37.65683,
          37.653015,
          37.646309,
          37.648891,
          37.66251,
          37.477058,
          37.476276,
          37.480888,
          37.50972,
          37.48494,
          37.494995,
          37.501583,
          37.493938,
          37.495781,
          37.484859,
          37.496761,
          37.512844,
          37.50938,
          37.513248,
          37.513523,
          37.479107,
          37.48423,
          37.480251,
          37.473728,
          37.486225,
          37.478058,
          37.484577,
          37.48975,
          37.488991,
          37.478069,
          37.496914,
          37.467506,
          37.516598,
          37.488556,
          37.477509,
          37.507233,
          37.506748,
          37.514359,
          37.510441,
          37.516781,
          37.509979,
          37.497414,
          37.526814,
          37.497726,
          37.564682,
          37.537361,
          37.561337,
          37.561371,
          37.560894,
          37.564087,
          37.554951,
          37.55854,
          37.484371,
          37.666996,
          37.628071,
          37.639996,
          37.558296,
          37.555504,
          37.581318,
          37.514874,
          37.572037,
          37.5732,
          37.562527,
          37.539139,
          37.54504,
          37.54591,
          37.55603027,
          37.55713272,
          37.5675354,
          37.55755234,
          37.5841713,
          37.55680466,
          37.56096268,
          37.50624084,
          37.63793945,
          37.65999603,
          37.5566597,
          37.51633835,
          37.52478027,
          37.51481247,
          37.51779556,
          37.52544022,
          37.58983612,
          37.52148438,
          37.55661,
          37.513844,
          37.485218
         ],
         "legendgroup": "몰리는 지역",
         "lon": [
          126.910629,
          126.918503,
          126.918617,
          126.923805,
          126.927071,
          126.931763,
          126.931053,
          126.93634,
          126.911102,
          126.908997,
          126.951324,
          126.951637,
          126.945824,
          126.945915,
          126.943024,
          126.905495,
          126.919678,
          126.919395,
          126.907753,
          126.918701,
          126.920509,
          126.932365,
          126.888359,
          126.896217,
          126.894615,
          126.896629,
          126.936546,
          126.919945,
          126.903679,
          126.90799,
          126.912636,
          126.893982,
          126.89975,
          126.897827,
          126.981789,
          126.987465,
          127.000679,
          127.022705,
          126.965919,
          126.88916,
          126.890739,
          126.89447,
          126.903816,
          126.944038,
          126.938309,
          126.887665,
          126.928856,
          126.922127,
          127.067192,
          127.052589,
          127.045006,
          127.078644,
          127.07486,
          127.062752,
          127.017662,
          127.055489,
          127.052643,
          127.067497,
          127.056656,
          127.077873,
          127.026497,
          127.040306,
          127.074417,
          127.064377,
          127.066147,
          127.045799,
          126.86393,
          126.87558,
          126.857384,
          126.872749,
          126.869598,
          126.866798,
          126.876541,
          126.856056,
          126.871521,
          126.831711,
          126.875648,
          126.835625,
          126.8592,
          126.853684,
          126.877586,
          126.876556,
          126.968872,
          126.973419,
          126.918999,
          126.919579,
          126.916862,
          126.916946,
          126.913651,
          126.915337,
          126.914879,
          126.902351,
          126.920807,
          126.917351,
          126.918159,
          126.914833,
          126.915405,
          127.124718,
          127.12886,
          127.127151,
          127.130028,
          127.126801,
          127.17395,
          127.17469,
          127.142365,
          127.135529,
          127.141037,
          127.129128,
          126.861458,
          126.863869,
          126.862549,
          126.84848,
          126.84977,
          126.820084,
          126.819069,
          126.86058,
          126.815979,
          126.832077,
          126.834312,
          126.835808,
          127.10778,
          127.127647,
          127.125839,
          127.084038,
          127.087532,
          127.078934,
          127.077347,
          127.10775,
          127.109718,
          127.137093,
          127.106796,
          127.028976,
          127.066093,
          127.018913,
          127.041237,
          127.076363,
          127.080002,
          127.079582,
          127.093483,
          127.08007,
          127.07267,
          127.07505,
          127.085899,
          127.093086,
          127.105148,
          127.078583,
          127.078491,
          127.026756,
          127.040916,
          127.016884,
          127.061615,
          127.072754,
          127.083641,
          127.076553,
          127.063271,
          127.0634,
          127.068489,
          127.063622,
          127.057327,
          127.059151,
          127.039848,
          127.046997,
          127.052742,
          127.023018,
          127.033279,
          126.885185,
          126.885391,
          126.883804,
          126.890099,
          126.901321,
          126.858253,
          126.84687,
          126.844055,
          126.890121,
          126.895187,
          126.844963,
          126.952469,
          126.963615,
          126.939972,
          126.943527,
          126.981506,
          126.926392,
          126.914604,
          126.918404,
          126.935829,
          126.960495,
          126.929916,
          126.927467,
          126.916382,
          126.982033,
          127.024963,
          127.034477,
          127.00959,
          126.982574,
          127.045174,
          127.056854,
          127.098831,
          127.106194,
          127.106377,
          127.090492,
          127.112312,
          127.096306,
          127.118149,
          127.107033,
          126.848908,
          126.837448,
          126.833901,
          126.830124,
          126.836693,
          126.830849,
          126.834732,
          126.820107,
          126.895424,
          127.051529,
          127.046921,
          127.066574,
          126.925385,
          126.937203,
          126.935997,
          126.907585,
          126.991844,
          126.997963,
          127.082275,
          127.070618,
          127.089958,
          127.044601,
          126.864296,
          126.8631439,
          126.8051834,
          126.8562546,
          126.8193283,
          126.8715591,
          126.8126907,
          126.8911438,
          127.0671539,
          127.0512772,
          126.9198685,
          127.0998535,
          127.1091309,
          126.8611755,
          126.8416138,
          126.9645996,
          126.9993439,
          127.1002808,
          126.898018,
          126.919357,
          127.115402
         ],
         "marker": {
          "color": "midnightblue",
          "opacity": 0.7
         },
         "mode": "markers",
         "name": "몰리는 지역",
         "showlegend": true,
         "subplot": "mapbox",
         "type": "scattermapbox"
        },
        {
         "customdata": [
          [
           2,
           18,
           7
          ],
          [
           2,
           8,
           9
          ],
          [
           1,
           7,
           4
          ],
          [
           5,
           12,
           16
          ],
          [
           2,
           0,
           6
          ],
          [
           8,
           7,
           11
          ],
          [
           2,
           6,
           11
          ],
          [
           2,
           10,
           8
          ],
          [
           0,
           0,
           4
          ],
          [
           0,
           0,
           5
          ],
          [
           3,
           6,
           7
          ],
          [
           3,
           8,
           7
          ],
          [
           1,
           0,
           4
          ],
          [
           0,
           1,
           7
          ],
          [
           4,
           6,
           9
          ],
          [
           0,
           1,
           3
          ],
          [
           1,
           13,
           10
          ],
          [
           0,
           0,
           3
          ],
          [
           0,
           0,
           6
          ],
          [
           28,
           35,
           37
          ],
          [
           1,
           2,
           14
          ],
          [
           2,
           7,
           5
          ],
          [
           3,
           6,
           6
          ],
          [
           0,
           4,
           7
          ],
          [
           0,
           7,
           10
          ],
          [
           5,
           11,
           9
          ],
          [
           7,
           15,
           10
          ],
          [
           2,
           3,
           5
          ],
          [
           1,
           2,
           5
          ],
          [
           1,
           10,
           6
          ],
          [
           2,
           2,
           6
          ],
          [
           0,
           0,
           4
          ],
          [
           0,
           1,
           4
          ],
          [
           3,
           4,
           7
          ],
          [
           2,
           6,
           6
          ],
          [
           3,
           20,
           7
          ],
          [
           2,
           15,
           6
          ],
          [
           2,
           5,
           8
          ],
          [
           11,
           12,
           16
          ],
          [
           3,
           11,
           8
          ],
          [
           3,
           3,
           7
          ],
          [
           0,
           2,
           4
          ],
          [
           4,
           6,
           7
          ],
          [
           1,
           0,
           5
          ],
          [
           0,
           3,
           4
          ],
          [
           1,
           1,
           4
          ],
          [
           0,
           0,
           3
          ],
          [
           1,
           0,
           6
          ],
          [
           2,
           3,
           6
          ],
          [
           0,
           2,
           3
          ],
          [
           2,
           0,
           6
          ],
          [
           1,
           4,
           5
          ],
          [
           6,
           8,
           15
          ],
          [
           0,
           0,
           5
          ],
          [
           4,
           4,
           7
          ],
          [
           0,
           4,
           4
          ],
          [
           0,
           1,
           5
          ],
          [
           0,
           0,
           6
          ],
          [
           0,
           2,
           3
          ],
          [
           8,
           15,
           14
          ],
          [
           0,
           1,
           7
          ],
          [
           5,
           5,
           14
          ],
          [
           3,
           21,
           9
          ],
          [
           5,
           10,
           20
          ],
          [
           9,
           9,
           12
          ],
          [
           2,
           7,
           7
          ],
          [
           0,
           1,
           7
          ],
          [
           2,
           4,
           7
          ],
          [
           1,
           11,
           9
          ],
          [
           0,
           6,
           10
          ],
          [
           5,
           16,
           12
          ],
          [
           3,
           4,
           6
          ],
          [
           2,
           4,
           5
          ],
          [
           2,
           8,
           7
          ],
          [
           2,
           0,
           5
          ],
          [
           3,
           8,
           7
          ],
          [
           0,
           0,
           4
          ],
          [
           5,
           3,
           9
          ],
          [
           10,
           8,
           13
          ],
          [
           4,
           12,
           7
          ],
          [
           12,
           15,
           18
          ],
          [
           5,
           8,
           14
          ],
          [
           0,
           5,
           3
          ],
          [
           4,
           10,
           7
          ],
          [
           0,
           2,
           3
          ],
          [
           4,
           12,
           7
          ],
          [
           5,
           12,
           11
          ],
          [
           0,
           0,
           17
          ],
          [
           3,
           6,
           6
          ],
          [
           0,
           1,
           10
          ],
          [
           1,
           0,
           4
          ],
          [
           2,
           4,
           6
          ],
          [
           5,
           9,
           10
          ],
          [
           0,
           0,
           4
          ],
          [
           2,
           7,
           8
          ],
          [
           1,
           7,
           5
          ],
          [
           3,
           2,
           9
          ],
          [
           3,
           0,
           7
          ],
          [
           0,
           0,
           10
          ],
          [
           0,
           3,
           4
          ],
          [
           0,
           11,
           7
          ],
          [
           0,
           0,
           6
          ],
          [
           1,
           2,
           8
          ],
          [
           0,
           0,
           4
          ],
          [
           3,
           6,
           6
          ],
          [
           3,
           2,
           8
          ],
          [
           3,
           7,
           6
          ],
          [
           0,
           0,
           6
          ],
          [
           3,
           9,
           6
          ],
          [
           4,
           13,
           11
          ],
          [
           2,
           3,
           10
          ],
          [
           4,
           2,
           13
          ],
          [
           1,
           6,
           6
          ],
          [
           0,
           0,
           9
          ],
          [
           2,
           0,
           7
          ],
          [
           2,
           6,
           10
          ],
          [
           4,
           21,
           7
          ],
          [
           10,
           27,
           17
          ],
          [
           1,
           2,
           4
          ],
          [
           1,
           4,
           4
          ],
          [
           1,
           5,
           4
          ],
          [
           0,
           0,
           4
          ],
          [
           7,
           21,
           10
          ],
          [
           4,
           3,
           8
          ],
          [
           2,
           1,
           6
          ],
          [
           0,
           1,
           5
          ],
          [
           2,
           4,
           5
          ],
          [
           2,
           0,
           6
          ],
          [
           5,
           8,
           9
          ],
          [
           1,
           7,
           5
          ],
          [
           0,
           0,
           5
          ],
          [
           2,
           2,
           8
          ],
          [
           0,
           0,
           5
          ],
          [
           7,
           16,
           10
          ],
          [
           3,
           5,
           7
          ],
          [
           3,
           7,
           6
          ],
          [
           6,
           10,
           9
          ],
          [
           1,
           8,
           8
          ],
          [
           5,
           11,
           12
          ],
          [
           0,
           4,
           8
          ],
          [
           0,
           2,
           10
          ],
          [
           0,
           2,
           5
          ],
          [
           1,
           2,
           4
          ],
          [
           0,
           2,
           3
          ],
          [
           3,
           6,
           6
          ],
          [
           5,
           10,
           9
          ],
          [
           8,
           31,
           12
          ],
          [
           10,
           27,
           13
          ],
          [
           5,
           13,
           9
          ],
          [
           1,
           2,
           13
          ],
          [
           7,
           3,
           10
          ],
          [
           8,
           10,
           12
          ],
          [
           0,
           0,
           8
          ],
          [
           3,
           6,
           6
          ],
          [
           13,
           35,
           16
          ],
          [
           21,
           43,
           24
          ],
          [
           0,
           3,
           5
          ],
          [
           1,
           5,
           7
          ],
          [
           3,
           11,
           15
          ],
          [
           1,
           5,
           14
          ],
          [
           7,
           17,
           13
          ],
          [
           3,
           9,
           8
          ],
          [
           2,
           7,
           25
          ],
          [
           1,
           5,
           6
          ],
          [
           4,
           9,
           15
          ],
          [
           3,
           17,
           6
          ],
          [
           6,
           14,
           10
          ],
          [
           4,
           5,
           9
          ],
          [
           10,
           23,
           17
          ],
          [
           0,
           9,
           4
          ],
          [
           2,
           3,
           6
          ],
          [
           1,
           0,
           6
          ],
          [
           2,
           3,
           5
          ],
          [
           12,
           22,
           19
          ],
          [
           0,
           3,
           3
          ],
          [
           2,
           16,
           8
          ],
          [
           0,
           0,
           3
          ],
          [
           4,
           7,
           7
          ],
          [
           0,
           1,
           5
          ],
          [
           0,
           0,
           4
          ],
          [
           1,
           6,
           5
          ],
          [
           3,
           2,
           8
          ],
          [
           1,
           3,
           4
          ],
          [
           6,
           8,
           10
          ],
          [
           3,
           7,
           7
          ],
          [
           4,
           6,
           7
          ],
          [
           1,
           2,
           5
          ],
          [
           3,
           9,
           7
          ],
          [
           0,
           2,
           5
          ],
          [
           1,
           0,
           9
          ],
          [
           0,
           0,
           5
          ],
          [
           0,
           1,
           4
          ],
          [
           3,
           16,
           7
          ],
          [
           6,
           10,
           10
          ],
          [
           0,
           4,
           7
          ],
          [
           0,
           1,
           3
          ],
          [
           2,
           2,
           6
          ],
          [
           0,
           0,
           3
          ],
          [
           1,
           1,
           8
          ],
          [
           7,
           8,
           13
          ],
          [
           1,
           0,
           4
          ],
          [
           7,
           10,
           10
          ],
          [
           4,
           3,
           7
          ],
          [
           1,
           2,
           4
          ],
          [
           6,
           11,
           9
          ],
          [
           1,
           1,
           5
          ],
          [
           4,
           10,
           7
          ],
          [
           4,
           12,
           7
          ],
          [
           1,
           18,
           8
          ],
          [
           3,
           9,
           9
          ],
          [
           1,
           6,
           4
          ],
          [
           5,
           13,
           15
          ],
          [
           0,
           6,
           4
          ],
          [
           5,
           12,
           16
          ],
          [
           2,
           6,
           10
          ],
          [
           0,
           1,
           8
          ],
          [
           0,
           0,
           3
          ],
          [
           3,
           3,
           6
          ],
          [
           1,
           2,
           6
          ],
          [
           2,
           5,
           6
          ],
          [
           1,
           1,
           5
          ],
          [
           0,
           6,
           7
          ],
          [
           0,
           2,
           3
          ],
          [
           1,
           2,
           7
          ],
          [
           0,
           5,
           5
          ],
          [
           2,
           4,
           6
          ],
          [
           0,
           0,
           5
          ],
          [
           0,
           0,
           4
          ],
          [
           0,
           0,
           3
          ],
          [
           0,
           0,
           4
          ],
          [
           2,
           8,
           6
          ],
          [
           4,
           12,
           8
          ],
          [
           1,
           5,
           4
          ],
          [
           0,
           0,
           5
          ],
          [
           7,
           15,
           14
          ],
          [
           1,
           2,
           4
          ],
          [
           0,
           1,
           4
          ],
          [
           0,
           0,
           8
          ],
          [
           11,
           15,
           15
          ],
          [
           0,
           5,
           3
          ],
          [
           2,
           6,
           6
          ],
          [
           7,
           8,
           10
          ],
          [
           5,
           9,
           11
          ],
          [
           1,
           3,
           4
          ],
          [
           3,
           0,
           8
          ],
          [
           9,
           7,
           13
          ],
          [
           1,
           7,
           4
          ],
          [
           1,
           5,
           4
          ],
          [
           1,
           0,
           5
          ],
          [
           0,
           0,
           3
          ],
          [
           1,
           0,
           9
          ],
          [
           0,
           3,
           3
          ],
          [
           4,
           4,
           7
          ],
          [
           3,
           12,
           7
          ],
          [
           2,
           4,
           8
          ],
          [
           0,
           0,
           4
          ],
          [
           0,
           1,
           3
          ],
          [
           0,
           11,
           8
          ],
          [
           0,
           3,
           3
          ],
          [
           1,
           4,
           5
          ],
          [
           0,
           1,
           3
          ],
          [
           0,
           1,
           6
          ],
          [
           2,
           0,
           5
          ],
          [
           8,
           13,
           12
          ],
          [
           4,
           2,
           10
          ],
          [
           2,
           4,
           5
          ],
          [
           0,
           0,
           5
          ],
          [
           10,
           16,
           14
          ],
          [
           0,
           0,
           9
          ],
          [
           5,
           6,
           8
          ],
          [
           0,
           3,
           3
          ],
          [
           0,
           4,
           3
          ],
          [
           3,
           3,
           6
          ],
          [
           0,
           0,
           7
          ],
          [
           0,
           0,
           3
          ],
          [
           0,
           0,
           3
          ],
          [
           0,
           2,
           3
          ],
          [
           0,
           2,
           3
          ],
          [
           0,
           0,
           3
          ],
          [
           2,
           5,
           5
          ],
          [
           1,
           3,
           5
          ],
          [
           2,
           3,
           5
          ],
          [
           8,
           31,
           21
          ],
          [
           8,
           15,
           12
          ],
          [
           0,
           0,
           4
          ],
          [
           7,
           10,
           10
          ],
          [
           2,
           7,
           8
          ],
          [
           5,
           18,
           8
          ],
          [
           0,
           1,
           3
          ],
          [
           0,
           2,
           6
          ],
          [
           4,
           3,
           7
          ],
          [
           2,
           3,
           7
          ],
          [
           0,
           0,
           5
          ],
          [
           1,
           10,
           11
          ],
          [
           11,
           17,
           14
          ],
          [
           0,
           2,
           7
          ],
          [
           2,
           7,
           8
          ],
          [
           8,
           14,
           12
          ],
          [
           3,
           6,
           6
          ],
          [
           0,
           7,
           3
          ],
          [
           5,
           7,
           12
          ],
          [
           1,
           3,
           6
          ],
          [
           0,
           0,
           3
          ],
          [
           2,
           5,
           5
          ],
          [
           5,
           5,
           10
          ],
          [
           0,
           2,
           6
          ],
          [
           0,
           0,
           5
          ],
          [
           1,
           4,
           5
          ],
          [
           0,
           4,
           3
          ],
          [
           1,
           2,
           4
          ],
          [
           1,
           4,
           5
          ],
          [
           0,
           1,
           4
          ],
          [
           1,
           1,
           5
          ],
          [
           0,
           1,
           3
          ],
          [
           1,
           5,
           5
          ],
          [
           2,
           6,
           6
          ],
          [
           0,
           0,
           6
          ],
          [
           3,
           9,
           6
          ],
          [
           2,
           8,
           7
          ],
          [
           5,
           6,
           11
          ],
          [
           3,
           8,
           8
          ],
          [
           0,
           1,
           5
          ],
          [
           1,
           4,
           8
          ],
          [
           1,
           2,
           5
          ],
          [
           7,
           18,
           13
          ],
          [
           6,
           9,
           11
          ],
          [
           1,
           0,
           4
          ],
          [
           0,
           0,
           3
          ],
          [
           1,
           3,
           4
          ],
          [
           5,
           16,
           9
          ],
          [
           8,
           22,
           11
          ],
          [
           4,
           13,
           8
          ],
          [
           10,
           12,
           19
          ],
          [
           3,
           9,
           6
          ],
          [
           2,
           11,
           7
          ],
          [
           1,
           3,
           5
          ],
          [
           3,
           6,
           7
          ],
          [
           0,
           0,
           3
          ],
          [
           3,
           4,
           8
          ],
          [
           1,
           4,
           4
          ],
          [
           1,
           2,
           6
          ],
          [
           3,
           2,
           6
          ],
          [
           4,
           5,
           8
          ],
          [
           0,
           1,
           4
          ],
          [
           1,
           8,
           6
          ],
          [
           0,
           1,
           3
          ],
          [
           0,
           0,
           3
          ],
          [
           0,
           1,
           5
          ],
          [
           1,
           1,
           4
          ],
          [
           4,
           9,
           7
          ],
          [
           1,
           6,
           4
          ],
          [
           0,
           8,
           5
          ],
          [
           1,
           1,
           4
          ],
          [
           1,
           3,
           4
          ],
          [
           2,
           2,
           5
          ],
          [
           2,
           6,
           7
          ],
          [
           0,
           1,
           3
          ],
          [
           2,
           4,
           5
          ],
          [
           0,
           1,
           4
          ],
          [
           0,
           0,
           5
          ],
          [
           1,
           1,
           7
          ],
          [
           0,
           2,
           7
          ]
         ],
         "hovertemplate": "<b>%{hovertext}</b><br><br>class=퍼지는 지역<br>위도=%{lat}<br>경도=%{lon}<br>to=%{customdata[0]}<br>sim=%{customdata[1]}<br>from=%{customdata[2]}<extra></extra>",
         "hovertext": [
          "망원역 2번출구 앞",
          "합정역 1번출구 앞",
          "합정역 5번출구 앞",
          "합정역 7번출구 앞",
          "마스타 빌딩 앞",
          "홍은사거리",
          "서강대 정문 건너편",
          "서강대 후문 옆",
          "연대 대운동장 옆",
          "봉원고가차도 밑",
          "중앙근린공원",
          "명지대학교 도서관",
          "충정로역 7번출구 아래",
          "마포 신수공원 앞",
          "월드컵공원",
          "연서어린이공원",
          "증산교 앞",
          "충정2교",
          "서울 월드컵 경기장",
          "여의나루역 1번출구 앞",
          "여의도역 1번출구 옆",
          "금융감독원 앞",
          "미성아파트 A동 앞",
          "앙카라공원 앞",
          "샛강역 1번출구 앞",
          "양평1 보행육교 앞",
          "양평우림 이비즈센타 앞",
          "영등포구민체육센터 앞",
          "신길선원가와인아파트 앞",
          "영등포삼환아파트 앞",
          "초원아파트 앞",
          "대림아파트 사거리",
          "서울지방병무청 버스정류장",
          "영등포청과시장 사거리",
          "삼성화재 사옥 옆",
          "신동아아파트",
          "쌍용플레티넘오피스텔",
          "영등포 푸르지오 아파트",
          "아크로타워 스퀘어(영등포시장)",
          "충북 미래관",
          "경복궁역 7번출구 앞",
          "광화문역 6번출구 옆",
          "안국역 5번출구 앞",
          "독립문역 사거리",
          "청운초교 앞 삼거리",
          "재동초교 앞 삼거리",
          "포르투갈 대사관 앞",
          "독립문역 3-1번출구",
          "광화문 시민열린마당",
          "약수역 3번출구 뒤",
          "훈련원공원주차장 앞",
          "충무로역 1번출구",
          "동대문역 8번 출구",
          "서울역 센트럴 자이아파트",
          "상암한화오벨리스크 1차 앞",
          "상암월드컵파크 10단지 앞",
          "상암월드컵파크 9단지 앞",
          "부엉이공원 앞",
          "상암월드컵파크 7단지 앞",
          "DMC역 9번출구 앞",
          "상암월드컵파크 1단지 교차로",
          "DMC역 2번출구 옆",
          "월드컵경기장역 3번출구 옆",
          "홈플러스 앞",
          "마포구청 앞",
          "성산2-1 공영주차장",
          "하늘공원 입구",
          "동대문역사문화공원역 1번출구 뒤편",
          "합정동주민센터 앞",
          "광진구의회 앞",
          "자양사거리 광진아크로텔 앞",
          "성수아카데미타워 앞",
          "서울숲 남문 버스정류소 옆",
          "광진메디칼 앞",
          "양지사거리",
          "왕십리역 11번 출구 앞",
          "래미안금호하이리버 아파트 102동 옆",
          "군자교교차로",
          "아차산역 3번출구",
          "비전교회 앞",
          "청계8가사거리 부근",
          "광진광장 교통섬",
          "용신동주민센터",
          "제기2교",
          "동대문중 교차로",
          "신설동역 10번출구 앞",
          "용두동 사거리",
          "서울시립대 정문 앞",
          "시조사 앞 (청량고정문 옆)",
          "KAIST 경영대학 앞",
          "서울시립대 후문",
          "동대문롯데캐슬아파트 앞",
          "제기역1번출구",
          "청량차도 육교 밑",
          "꿈마루어린이도서관 앞",
          "KB국민은행 염창역 지점 앞",
          "신정네거리역",
          "신정3동 현장민원실 앞",
          "신일해피트리아파트 앞",
          "한국SGI 양천문화회관 앞",
          "신정6동 주민센터 인근",
          "서울강월초등학교 앞",
          "신월동 이마트",
          "신정이펜하우스314동",
          "장수공원",
          "등촌역 5번 출구 뒤",
          "목동주차장",
          "신정이펜하우스 1단지아파트 입구 사거리",
          "목동11단지 아파트",
          "목동청소년수련관",
          "신목동역 3번출구",
          "염창역 3, 4번 출구 사이",
          "등촌역 4번 출구 ",
          "세종그랑시아 앞(102동)",
          "서남병원 후문",
          "양천구청역 2번출구 옆",
          "현대하이페리온",
          "목동트라팰리스 웨스턴에비뉴",
          "삼각지역 4번출구 앞",
          "청파동입구 교차로",
          "숙대입구역 8번",
          "브라운스톤 남산아파트",
          "이마트 은평점",
          "녹번역 4번출구",
          "연신내역 4번출구",
          "국민은행 연서지점",
          "예일여중",
          "은평구청 교차로",
          "은평구청 보건소",
          "신한은행 응암동 지점 앞",
          "북한산힐스테이트 7차아파트",
          "수색역",
          "은평뉴타운 온뜨락아파트앞",
          "LIGA 아파트 앞",
          "서울 상운차량",
          "강동구청역 1번 출입구",
          "맥도날드(길동)",
          "포레스 주상복합 빌딩",
          "롯데 시네마",
          "고덕역 4번출구",
          "래미안 강동팰리스(102동)",
          "트레빌빌딩",
          "광문고교사거리(아이파크)",
          "래미안 솔베뉴(고덕로)",
          "풍납사거리(강동)",
          "마곡엠밸리6_7단지 마곡중학교",
          "마곡엠밸리4단지 정문",
          "스타벅스앞",
          "대림경동아파트앞",
          "우장산역 1번출구옆(우장산아이파크105동앞)",
          "화곡역 1번 출구 앞",
          "등촌역 7번출구",
          "등촌2파출소",
          "볏골공원",
          "마곡역교차로",
          "발산역 1번, 9번 인근 대여소",
          "마곡중학교 후문",
          "강서구보건소 (삼성디지털 프라자)",
          "강서구청사거리(SH타워)",
          "대한항공 인력개발센터",
          "마곡역 교차로(NH농협)",
          "마곡수명산파크 209동 건너편",
          "우장산역 3번출구",
          "종합운동장역 4번출구",
          "잠실역 6번출구",
          "잠실트리지움310동 옆",
          "문정 법조단지8",
          "방이초등학교",
          "몽촌토성역 1번출구 옆",
          "리센츠아파트",
          "송파도서관",
          "송파파크데일 2단지입구 앞 주차장",
          "문정중교 사거리",
          "잠실역 8번출구",
          "석촌호수교차로 (송파나루근린공원 앞)",
          "한성대입구역2번출구",
          "고려사대부속중고 정문",
          "길음역 3번출구 뒤",
          "상월곡역 1번출구",
          "아리랑시네센터 앞",
          "장위뉴타운 꿈에 숲 코오롱 하늘채 앞",
          "홍익중고 입구",
          "성북구보건소 건너편",
          "성신여대입구역 5번출구",
          "성신여대입구역 3번출구 앞",
          "동일로 지하차도",
          "면목초등학교",
          "사가정역 1번출구",
          "용마문화복지센터",
          "원묵고등학교",
          "중랑구청",
          "영풍마드레빌",
          "코스트코 상봉점",
          "상봉역 1번출구",
          "동원사거리",
          "다이소 삼양시장점",
          "우이초등학교 후문 옆",
          "삼양사거리역",
          "수유1동 주민센터",
          "강북구청사거리(던킨도너츠 앞)",
          "서울여대 남문",
          "태릉입구역 8번출구",
          "맥도날드 상계점 앞",
          "당고개입구 오거리",
          "중앙하이츠 아파트 입구",
          "양지근린공원앞",
          "중계중학교",
          "중계역 6번출구",
          "중계역 3번출구",
          "노원경찰서교차로",
          "현대6차 아파트",
          "태릉입구역 5번출구",
          "불암고등학교 앞 횡단보도",
          "온수골사거리(스타벅스앞)",
          "마들역 3번출구",
          "온곡초교 교차로",
          "원자력 병원",
          "파리바게트앞",
          "쌍문현대1차아파트 108동 앞",
          "KT방학지사 앞",
          " 창동시장입구 사거리",
          "쌍문역 1번 출구(양산부인과 빌딩)",
          "신동아타워 버스정류소",
          "성원APT버스정류소",
          "신원리베르텔 앞",
          "독산근린공원 입구",
          "한양수자인아파트 앞",
          "한울중학교",
          "가산아네스트 오피스텔 앞",
          "독산3동주민센터 앞",
          "한신휴아파트 앞",
          "대림역4번출구",
          "서울미래초등학교 사거리",
          "삼부르네상스파크빌",
          "동양미래대학교 정문 옆",
          "고척스카이돔구장 광장",
          "고척근린공원 고척도서관 앞",
          "천왕역 4번출구 뒤",
          "디지털입구 교차로",
          "삼환로즈빌아파트 105동 옆",
          "한마을아파트 정문상가",
          "고척LIGA아파트 앞",
          "구일역 1번 출입구 앞",
          "신도림4차 e편한세상 아파트 1109동 앞",
          "장승배기역 5번출구",
          "신대방삼거리역 6번출구쪽",
          "사당역 7번출구쪽",
          "동작구민 체육센터",
          "숭실대 입구역3번 출구 앞",
          "대림아파트 후문 상가 옆",
          "e편한세상 상도노빌리티 앞",
          "삼일수영장 앞",
          "이수역9번출구(맥도날드)",
          "도림천 신화교",
          "관악농협농산물백화점",
          "보성운수차고지 맞은편",
          "낙성대 과학전시관",
          "신림1교 교차로",
          "난우길입구",
          "농협 관악문성지점",
          "인헌초교",
          "나들목공원",
          "서울대학교 정문",
          "동방1교",
          "현대시장사거리(신한은행)",
          "대학동주민센터 ",
          "고속터미널역 5번출구 앞",
          "고속터미널역 8-1번, 8-2번 출구 사이",
          "서울남부터미널 대합실 입구",
          "교육개발원입구 교차로",
          "서초유치원 맞은편",
          "교보타워 버스정류장(신논현역 3번출구 후면)",
          "압구정역 2번 출구 옆",
          "양재역 3번출구 주변",
          "대모산입구역 2번출구 앞",
          "청소년수련관(수영장)앞",
          "국립국악중,고교 정문 맞은편",
          "대치역 사거리",
          "청담공원앞 교차로",
          "역삼.서초.삼성 세무서 앞 (역삼빌딩 앞)",
          "강남한양수자인아파트",
          "이수역 6번출구 앞",
          "올림픽공원역 3번출구",
          "석촌동 주민센터",
          "문정시영아파트 5동 앞 공원",
          "문정역 1번출구",
          "서울방이동 고분군",
          "석촌역 8번출구",
          "올림픽선수촌아파트 136동 앞",
          "서울도시가스 앞 ",
          "강서공업고등학교 앞",
          "라이품 공영주차장 앞",
          "화곡터널입구교차로",
          "마곡수명산파크1단지",
          "힐스테이트에코",
          "서울식물원 식물문화센터",
          "마곡수명산 1-2단지 ",
          "마곡 공공청사",
          "마곡수명산파크5-6단지",
          "강서구민올림픽체육센터",
          "강서세무서앞",
          "수명산파크4단지411동 앞",
          "천왕이펜하우5단지 앞",
          "청구아파트 앞",
          "대진고등학교",
          "서울과학기술대학교(어학교육원)",
          "DMC역7번출구",
          "서대문구청",
          "연희삼거리",
          "북아현 치안센터 인근",
          "가좌삼거리",
          "DMC파크뷰자이1단지 110동 앞",
          "가재울사거리",
          "신길 래미안 프레비뉴",
          "신풍역 6번출구",
          "래미안에스티움(신풍로) 앞",
          "세종로공원",
          "성균관대입구사거리(맥도날드)",
          "성균관대 정문",
          "군자역2번출구",
          "영동대교 북단",
          "어린이회관",
          "상왕십리역 1번출구",
          "구의아리수정수센터앞",
          "군자역 7번출구뒤",
          "광진경찰서",
          "어린이대공원정문",
          "아차산 휴먼시아 아파트 옆",
          "성동구 견인차량 보관소 앞",
          "구의역 리버비스타 오피스텔",
          "화양 APT(횡단보도 옆)",
          "자양사거리 (LG 유플러스)",
          "광진 캠퍼스시티",
          "화양동 우체국",
          "사근빗물펌프장 건너편",
          "둔촌푸르지오아파트",
          "강동역3번출구",
          "공항중학교 버스정류장",
          "신방화역 8번출구",
          "겸재정선미술관",
          "세븐일레븐 신림점",
          "건국대학교 정문 앞",
          "희훈타워빌 앞",
          "물넘이교",
          "창동역 1번출구 앞",
          "용두롯데캐슬리치아파트 앞",
          "홍은도담도서관",
          "장곡초등학교 앞",
          "문정근린공원2",
          "올림픽공원 북2문 2",
          "잠실나루역4번출구뒤",
          "목동성당 앞",
          "양천구청역 1번출구",
          "당산삼성2차아파트",
          "신길역 2번출구",
          "양평역 1번출구",
          "효창공원앞역 5번출구 옆",
          "동대문디자인플라자",
          "명동역9번출구",
          "신정3동주민센터",
          "강동구평생학습관앞",
          "상계보람아파트 202동 "
         ],
         "lat": [
          37.554951,
          37.550629,
          37.550007,
          37.548645,
          37.558933,
          37.59116,
          37.55114,
          37.550411,
          37.562382,
          37.565269,
          37.575138,
          37.581097,
          37.559967,
          37.542545,
          37.563965,
          37.572227,
          37.577316,
          37.562138,
          37.566845,
          37.526989,
          37.521362,
          37.523022,
          37.519363,
          37.517368,
          37.517765,
          37.535873,
          37.52565,
          37.500462,
          37.510933,
          37.530079,
          37.531055,
          37.507641,
          37.504494,
          37.520294,
          37.535961,
          37.522816,
          37.507931,
          37.513229,
          37.522518,
          37.529171,
          37.575794,
          37.569889,
          37.576241,
          37.572029,
          37.585079,
          37.579388,
          37.579155,
          37.573849,
          37.575493,
          37.554295,
          37.566994,
          37.56139,
          37.570141,
          37.554108,
          37.587524,
          37.586189,
          37.582855,
          37.58559,
          37.581314,
          37.577469,
          37.575665,
          37.575069,
          37.570721,
          37.56842,
          37.565903,
          37.56472,
          37.570006,
          37.566299,
          37.551754,
          37.537308,
          37.53701,
          37.545166,
          37.541222,
          37.548405,
          37.566994,
          37.561447,
          37.5522,
          37.559795,
          37.551224,
          37.551205,
          37.571102,
          37.547829,
          37.575947,
          37.587791,
          37.573086,
          37.575272,
          37.577686,
          37.583698,
          37.587517,
          37.591614,
          37.585197,
          37.57576,
          37.57835,
          37.586594,
          37.592384,
          37.546848,
          37.521881,
          37.511585,
          37.517059,
          37.532547,
          37.517281,
          37.516197,
          37.539551,
          37.514099,
          37.52256,
          37.550732,
          37.52668,
          37.514278,
          37.510658,
          37.531029,
          37.54426,
          37.546707,
          37.549507,
          37.538376,
          37.511673,
          37.512379,
          37.52478,
          37.525372,
          37.533451,
          37.549026,
          37.544079,
          37.551548,
          37.6007,
          37.601299,
          37.617802,
          37.620949,
          37.610004,
          37.6017,
          37.602402,
          37.600361,
          37.616112,
          37.58218,
          37.630287,
          37.534771,
          37.536026,
          37.530773,
          37.535473,
          37.5331,
          37.536541,
          37.555016,
          37.538181,
          37.536999,
          37.560368,
          37.554569,
          37.528122,
          37.566982,
          37.568577,
          37.558197,
          37.565189,
          37.548908,
          37.542099,
          37.551109,
          37.544788,
          37.54147,
          37.558666,
          37.55891,
          37.568447,
          37.549179,
          37.556259,
          37.554379,
          37.560242,
          37.555538,
          37.547821,
          37.510429,
          37.514088,
          37.508339,
          37.481537,
          37.513962,
          37.51728821,
          37.511944,
          37.499985,
          37.495659,
          37.487999,
          37.513962,
          37.508678,
          37.588448,
          37.607761,
          37.603085,
          37.606068,
          37.600288,
          37.619801,
          37.592842,
          37.602291,
          37.592827,
          37.592365,
          37.595299,
          37.590961,
          37.581646,
          37.58746,
          37.616024,
          37.606152,
          37.605881,
          37.597321,
          37.596558,
          37.58976,
          37.624157,
          37.638706,
          37.621552,
          37.630188,
          37.639202,
          37.625435,
          37.617367,
          37.672375,
          37.663792,
          37.654999,
          37.647335,
          37.654499,
          37.645508,
          37.643757,
          37.64341,
          37.645802,
          37.61832,
          37.64819,
          37.66114,
          37.665249,
          37.664188,
          37.628189,
          37.68401,
          37.65815,
          37.665272,
          37.646896,
          37.64967,
          37.662052,
          37.657967,
          37.651287,
          37.46455,
          37.475319,
          37.462574,
          37.47818,
          37.475071,
          37.4888,
          37.494404,
          37.504379,
          37.478741,
          37.499889,
          37.49947,
          37.505135,
          37.486385,
          37.482883,
          37.497231,
          37.496498,
          37.50605,
          37.495399,
          37.512329,
          37.505852,
          37.499855,
          37.476891,
          37.494499,
          37.496601,
          37.488869,
          37.504562,
          37.487412,
          37.484135,
          37.475471,
          37.479916,
          37.464886,
          37.469055,
          37.478428,
          37.477776,
          37.480721,
          37.47509,
          37.469406,
          37.46682,
          37.471828,
          37.486736,
          37.470688,
          37.502232,
          37.506199,
          37.484558,
          37.477852,
          37.455799,
          37.505581,
          37.527122,
          37.485157,
          37.492077,
          37.483879,
          37.475605,
          37.494499,
          37.518711,
          37.49847,
          37.477341,
          37.483662,
          37.516258,
          37.503624,
          37.491123,
          37.486698,
          37.507866,
          37.505505,
          37.509975,
          37.547485,
          37.576317,
          37.570728,
          37.538338,
          37.554993,
          37.559589,
          37.569294,
          37.555145,
          37.562294,
          37.550617,
          37.559402,
          37.56209183,
          37.55134964,
          37.479897,
          37.50119,
          37.638191,
          37.635109,
          37.577114,
          37.578381,
          37.567966,
          37.561455,
          37.570652,
          37.572388,
          37.574348,
          37.504383,
          37.500172,
          37.500137,
          37.574059,
          37.583275,
          37.584797,
          37.557587,
          37.537014,
          37.545952,
          37.56461,
          37.543705,
          37.556862,
          37.542519,
          37.549789,
          37.548489,
          37.563709,
          37.538097,
          37.54435,
          37.536575,
          37.54789,
          37.547989,
          37.56119156,
          37.53407288,
          37.53541565,
          37.56113434,
          37.5674057,
          37.57128906,
          37.48313141,
          37.5465126,
          37.50191498,
          37.65408325,
          37.65373611,
          37.57958603,
          37.60169601,
          37.61745453,
          37.4861145,
          37.52397537,
          37.52080917,
          37.52319717,
          37.51292038,
          37.52762222,
          37.51756287,
          37.52572632,
          37.53851318,
          37.5683136,
          37.56122589,
          37.515156,
          37.5508,
          37.665215
         ],
         "legendgroup": "퍼지는 지역",
         "lon": [
          126.910835,
          126.914986,
          126.914825,
          126.912827,
          126.927116,
          126.94133,
          126.936989,
          126.943848,
          126.932648,
          126.946243,
          126.91394,
          126.924026,
          126.962463,
          126.934296,
          126.898209,
          126.923065,
          126.902969,
          126.963776,
          126.896446,
          126.932098,
          126.923462,
          126.920837,
          126.926048,
          126.929253,
          126.928413,
          126.892181,
          126.887817,
          126.905846,
          126.910225,
          126.905708,
          126.92421,
          126.92308,
          126.921951,
          126.901192,
          126.8983,
          126.885651,
          126.895233,
          126.904465,
          126.907219,
          126.907578,
          126.971451,
          126.976456,
          126.98616,
          126.960785,
          126.970619,
          126.984947,
          126.98896,
          126.958694,
          126.9785,
          127.0112,
          127.003464,
          126.995354,
          127.009377,
          126.965408,
          126.883003,
          126.881615,
          126.879822,
          126.884727,
          126.880585,
          126.897362,
          126.894447,
          126.899918,
          126.898979,
          126.899429,
          126.901184,
          126.906769,
          126.881149,
          127.008492,
          126.9123,
          127.070351,
          127.082245,
          127.05751,
          127.0438,
          127.069366,
          127.029915,
          127.03492,
          127.025055,
          127.074203,
          127.089706,
          127.068932,
          127.02356,
          127.072632,
          127.037361,
          127.037361,
          127.052162,
          127.023468,
          127.031013,
          127.053856,
          127.052773,
          127.045792,
          127.060951,
          127.04837,
          127.033386,
          127.046997,
          127.057411,
          126.872772,
          126.851753,
          126.84156,
          126.848488,
          126.830803,
          126.864334,
          126.8349,
          126.8283,
          126.831001,
          126.84948,
          126.864578,
          126.876167,
          126.828743,
          126.859161,
          126.875893,
          126.88325,
          126.874573,
          126.867218,
          126.863831,
          126.832741,
          126.865555,
          126.869835,
          126.870926,
          126.971733,
          126.971947,
          126.972,
          126.97686,
          126.920128,
          126.935349,
          126.921967,
          126.925636,
          126.916397,
          126.927422,
          126.92865,
          126.922813,
          126.925041,
          126.894943,
          126.919563,
          127.135239,
          127.122726,
          127.120926,
          127.145172,
          127.12278,
          127.125397,
          127.155273,
          127.131752,
          127.129532,
          127.156593,
          127.145874,
          127.119522,
          126.8218,
          126.824776,
          126.844261,
          126.853996,
          126.836563,
          126.840218,
          126.863708,
          126.862,
          126.84478,
          126.826614,
          126.838097,
          126.821648,
          126.868797,
          126.853317,
          126.857536,
          126.827164,
          126.826759,
          126.836128,
          127.071373,
          127.09903,
          127.088142,
          127.122124,
          127.121674,
          127.1141968,
          127.091217,
          127.135391,
          127.157173,
          127.131088,
          127.100304,
          127.103432,
          127.006706,
          127.003281,
          127.024788,
          127.047318,
          127.013702,
          127.045097,
          127.002121,
          127.038979,
          127.016289,
          127.016289,
          127.080032,
          127.087067,
          127.088432,
          127.09597,
          127.085968,
          127.092598,
          127.100632,
          127.089798,
          127.085838,
          127.093239,
          127.018623,
          127.015907,
          127.02037,
          127.017738,
          127.027237,
          127.088493,
          127.075211,
          127.055992,
          127.075447,
          127.067436,
          127.076424,
          127.074387,
          127.063255,
          127.064987,
          127.071838,
          127.08226,
          127.07563,
          127.080482,
          127.058052,
          127.057892,
          127.06601,
          127.082108,
          127.045792,
          127.032669,
          127.043144,
          127.033432,
          127.035614,
          127.028755,
          127.03009,
          127.045548,
          126.883728,
          126.898888,
          126.90686,
          126.897408,
          126.903359,
          126.890663,
          126.894447,
          126.888298,
          126.895096,
          126.867699,
          126.868401,
          126.85276,
          126.839211,
          126.901039,
          126.859192,
          126.863098,
          126.860786,
          126.87101,
          126.886833,
          126.939362,
          126.929565,
          126.980576,
          126.916527,
          126.953682,
          126.971909,
          126.946785,
          126.974739,
          126.977882,
          126.936455,
          126.90284,
          126.919479,
          126.958145,
          126.931862,
          126.916756,
          126.909325,
          126.959229,
          126.944511,
          126.948807,
          126.933922,
          126.947517,
          126.936485,
          127.002258,
          127.003944,
          127.01487,
          127.03891,
          127.016289,
          127.024277,
          127.028717,
          127.034073,
          127.071976,
          127.089027,
          127.050377,
          127.063797,
          127.05085,
          127.030113,
          127.113274,
          126.982323,
          127.130592,
          127.103554,
          127.135109,
          127.122444,
          127.116989,
          127.106575,
          127.133698,
          126.872025,
          126.816498,
          126.841568,
          126.842392,
          126.831894,
          126.829781,
          126.836197,
          126.829453,
          126.823952,
          126.826881,
          126.850441,
          126.8209686,
          126.8249359,
          126.84037,
          126.863533,
          127.073731,
          127.076599,
          126.898361,
          126.936096,
          126.931725,
          126.95575,
          126.912987,
          126.915108,
          126.918823,
          126.908089,
          126.911308,
          126.913979,
          126.9758,
          126.998856,
          126.997131,
          127.079697,
          127.061096,
          127.078003,
          127.029198,
          127.093246,
          127.07914,
          127.084084,
          127.075928,
          127.093758,
          127.05645,
          127.08902,
          127.065407,
          127.082581,
          127.067452,
          127.069504,
          127.0496826,
          127.1450043,
          127.1330948,
          126.8161011,
          126.8162155,
          126.8377762,
          126.9213562,
          127.0757141,
          126.8892441,
          127.0719528,
          127.0492935,
          127.0302429,
          126.9491653,
          127.0484467,
          127.1266708,
          127.1275101,
          127.1036224,
          126.8693008,
          126.8667984,
          126.8986359,
          126.9169846,
          126.8860016,
          126.9635544,
          127.0094605,
          126.9874954,
          126.854897,
          127.142624,
          127.066139
         ],
         "marker": {
          "color": "coral",
          "opacity": 0.7
         },
         "mode": "markers",
         "name": "퍼지는 지역",
         "showlegend": true,
         "subplot": "mapbox",
         "type": "scattermapbox"
        }
       ],
       "layout": {
        "height": 500,
        "legend": {
         "title": {
          "text": "class"
         },
         "tracegroupgap": 0
        },
        "mapbox": {
         "center": {
          "lat": 37.55154004962236,
          "lon": 126.97315236403952
         },
         "domain": {
          "x": [
           0,
           1
          ],
          "y": [
           0,
           1
          ]
         },
         "style": "carto-positron",
         "zoom": 10
        },
        "margin": {
         "t": 60
        },
        "template": {
         "data": {
          "bar": [
           {
            "error_x": {
             "color": "#2a3f5f"
            },
            "error_y": {
             "color": "#2a3f5f"
            },
            "marker": {
             "line": {
              "color": "#E5ECF6",
              "width": 0.5
             },
             "pattern": {
              "fillmode": "overlay",
              "size": 10,
              "solidity": 0.2
             }
            },
            "type": "bar"
           }
          ],
          "barpolar": [
           {
            "marker": {
             "line": {
              "color": "#E5ECF6",
              "width": 0.5
             },
             "pattern": {
              "fillmode": "overlay",
              "size": 10,
              "solidity": 0.2
             }
            },
            "type": "barpolar"
           }
          ],
          "carpet": [
           {
            "aaxis": {
             "endlinecolor": "#2a3f5f",
             "gridcolor": "white",
             "linecolor": "white",
             "minorgridcolor": "white",
             "startlinecolor": "#2a3f5f"
            },
            "baxis": {
             "endlinecolor": "#2a3f5f",
             "gridcolor": "white",
             "linecolor": "white",
             "minorgridcolor": "white",
             "startlinecolor": "#2a3f5f"
            },
            "type": "carpet"
           }
          ],
          "choropleth": [
           {
            "colorbar": {
             "outlinewidth": 0,
             "ticks": ""
            },
            "type": "choropleth"
           }
          ],
          "contour": [
           {
            "colorbar": {
             "outlinewidth": 0,
             "ticks": ""
            },
            "colorscale": [
             [
              0,
              "#0d0887"
             ],
             [
              0.1111111111111111,
              "#46039f"
             ],
             [
              0.2222222222222222,
              "#7201a8"
             ],
             [
              0.3333333333333333,
              "#9c179e"
             ],
             [
              0.4444444444444444,
              "#bd3786"
             ],
             [
              0.5555555555555556,
              "#d8576b"
             ],
             [
              0.6666666666666666,
              "#ed7953"
             ],
             [
              0.7777777777777778,
              "#fb9f3a"
             ],
             [
              0.8888888888888888,
              "#fdca26"
             ],
             [
              1,
              "#f0f921"
             ]
            ],
            "type": "contour"
           }
          ],
          "contourcarpet": [
           {
            "colorbar": {
             "outlinewidth": 0,
             "ticks": ""
            },
            "type": "contourcarpet"
           }
          ],
          "heatmap": [
           {
            "colorbar": {
             "outlinewidth": 0,
             "ticks": ""
            },
            "colorscale": [
             [
              0,
              "#0d0887"
             ],
             [
              0.1111111111111111,
              "#46039f"
             ],
             [
              0.2222222222222222,
              "#7201a8"
             ],
             [
              0.3333333333333333,
              "#9c179e"
             ],
             [
              0.4444444444444444,
              "#bd3786"
             ],
             [
              0.5555555555555556,
              "#d8576b"
             ],
             [
              0.6666666666666666,
              "#ed7953"
             ],
             [
              0.7777777777777778,
              "#fb9f3a"
             ],
             [
              0.8888888888888888,
              "#fdca26"
             ],
             [
              1,
              "#f0f921"
             ]
            ],
            "type": "heatmap"
           }
          ],
          "heatmapgl": [
           {
            "colorbar": {
             "outlinewidth": 0,
             "ticks": ""
            },
            "colorscale": [
             [
              0,
              "#0d0887"
             ],
             [
              0.1111111111111111,
              "#46039f"
             ],
             [
              0.2222222222222222,
              "#7201a8"
             ],
             [
              0.3333333333333333,
              "#9c179e"
             ],
             [
              0.4444444444444444,
              "#bd3786"
             ],
             [
              0.5555555555555556,
              "#d8576b"
             ],
             [
              0.6666666666666666,
              "#ed7953"
             ],
             [
              0.7777777777777778,
              "#fb9f3a"
             ],
             [
              0.8888888888888888,
              "#fdca26"
             ],
             [
              1,
              "#f0f921"
             ]
            ],
            "type": "heatmapgl"
           }
          ],
          "histogram": [
           {
            "marker": {
             "pattern": {
              "fillmode": "overlay",
              "size": 10,
              "solidity": 0.2
             }
            },
            "type": "histogram"
           }
          ],
          "histogram2d": [
           {
            "colorbar": {
             "outlinewidth": 0,
             "ticks": ""
            },
            "colorscale": [
             [
              0,
              "#0d0887"
             ],
             [
              0.1111111111111111,
              "#46039f"
             ],
             [
              0.2222222222222222,
              "#7201a8"
             ],
             [
              0.3333333333333333,
              "#9c179e"
             ],
             [
              0.4444444444444444,
              "#bd3786"
             ],
             [
              0.5555555555555556,
              "#d8576b"
             ],
             [
              0.6666666666666666,
              "#ed7953"
             ],
             [
              0.7777777777777778,
              "#fb9f3a"
             ],
             [
              0.8888888888888888,
              "#fdca26"
             ],
             [
              1,
              "#f0f921"
             ]
            ],
            "type": "histogram2d"
           }
          ],
          "histogram2dcontour": [
           {
            "colorbar": {
             "outlinewidth": 0,
             "ticks": ""
            },
            "colorscale": [
             [
              0,
              "#0d0887"
             ],
             [
              0.1111111111111111,
              "#46039f"
             ],
             [
              0.2222222222222222,
              "#7201a8"
             ],
             [
              0.3333333333333333,
              "#9c179e"
             ],
             [
              0.4444444444444444,
              "#bd3786"
             ],
             [
              0.5555555555555556,
              "#d8576b"
             ],
             [
              0.6666666666666666,
              "#ed7953"
             ],
             [
              0.7777777777777778,
              "#fb9f3a"
             ],
             [
              0.8888888888888888,
              "#fdca26"
             ],
             [
              1,
              "#f0f921"
             ]
            ],
            "type": "histogram2dcontour"
           }
          ],
          "mesh3d": [
           {
            "colorbar": {
             "outlinewidth": 0,
             "ticks": ""
            },
            "type": "mesh3d"
           }
          ],
          "parcoords": [
           {
            "line": {
             "colorbar": {
              "outlinewidth": 0,
              "ticks": ""
             }
            },
            "type": "parcoords"
           }
          ],
          "pie": [
           {
            "automargin": true,
            "type": "pie"
           }
          ],
          "scatter": [
           {
            "fillpattern": {
             "fillmode": "overlay",
             "size": 10,
             "solidity": 0.2
            },
            "type": "scatter"
           }
          ],
          "scatter3d": [
           {
            "line": {
             "colorbar": {
              "outlinewidth": 0,
              "ticks": ""
             }
            },
            "marker": {
             "colorbar": {
              "outlinewidth": 0,
              "ticks": ""
             }
            },
            "type": "scatter3d"
           }
          ],
          "scattercarpet": [
           {
            "marker": {
             "colorbar": {
              "outlinewidth": 0,
              "ticks": ""
             }
            },
            "type": "scattercarpet"
           }
          ],
          "scattergeo": [
           {
            "marker": {
             "colorbar": {
              "outlinewidth": 0,
              "ticks": ""
             }
            },
            "type": "scattergeo"
           }
          ],
          "scattergl": [
           {
            "marker": {
             "colorbar": {
              "outlinewidth": 0,
              "ticks": ""
             }
            },
            "type": "scattergl"
           }
          ],
          "scattermapbox": [
           {
            "marker": {
             "colorbar": {
              "outlinewidth": 0,
              "ticks": ""
             }
            },
            "type": "scattermapbox"
           }
          ],
          "scatterpolar": [
           {
            "marker": {
             "colorbar": {
              "outlinewidth": 0,
              "ticks": ""
             }
            },
            "type": "scatterpolar"
           }
          ],
          "scatterpolargl": [
           {
            "marker": {
             "colorbar": {
              "outlinewidth": 0,
              "ticks": ""
             }
            },
            "type": "scatterpolargl"
           }
          ],
          "scatterternary": [
           {
            "marker": {
             "colorbar": {
              "outlinewidth": 0,
              "ticks": ""
             }
            },
            "type": "scatterternary"
           }
          ],
          "surface": [
           {
            "colorbar": {
             "outlinewidth": 0,
             "ticks": ""
            },
            "colorscale": [
             [
              0,
              "#0d0887"
             ],
             [
              0.1111111111111111,
              "#46039f"
             ],
             [
              0.2222222222222222,
              "#7201a8"
             ],
             [
              0.3333333333333333,
              "#9c179e"
             ],
             [
              0.4444444444444444,
              "#bd3786"
             ],
             [
              0.5555555555555556,
              "#d8576b"
             ],
             [
              0.6666666666666666,
              "#ed7953"
             ],
             [
              0.7777777777777778,
              "#fb9f3a"
             ],
             [
              0.8888888888888888,
              "#fdca26"
             ],
             [
              1,
              "#f0f921"
             ]
            ],
            "type": "surface"
           }
          ],
          "table": [
           {
            "cells": {
             "fill": {
              "color": "#EBF0F8"
             },
             "line": {
              "color": "white"
             }
            },
            "header": {
             "fill": {
              "color": "#C8D4E3"
             },
             "line": {
              "color": "white"
             }
            },
            "type": "table"
           }
          ]
         },
         "layout": {
          "annotationdefaults": {
           "arrowcolor": "#2a3f5f",
           "arrowhead": 0,
           "arrowwidth": 1
          },
          "autotypenumbers": "strict",
          "coloraxis": {
           "colorbar": {
            "outlinewidth": 0,
            "ticks": ""
           }
          },
          "colorscale": {
           "diverging": [
            [
             0,
             "#8e0152"
            ],
            [
             0.1,
             "#c51b7d"
            ],
            [
             0.2,
             "#de77ae"
            ],
            [
             0.3,
             "#f1b6da"
            ],
            [
             0.4,
             "#fde0ef"
            ],
            [
             0.5,
             "#f7f7f7"
            ],
            [
             0.6,
             "#e6f5d0"
            ],
            [
             0.7,
             "#b8e186"
            ],
            [
             0.8,
             "#7fbc41"
            ],
            [
             0.9,
             "#4d9221"
            ],
            [
             1,
             "#276419"
            ]
           ],
           "sequential": [
            [
             0,
             "#0d0887"
            ],
            [
             0.1111111111111111,
             "#46039f"
            ],
            [
             0.2222222222222222,
             "#7201a8"
            ],
            [
             0.3333333333333333,
             "#9c179e"
            ],
            [
             0.4444444444444444,
             "#bd3786"
            ],
            [
             0.5555555555555556,
             "#d8576b"
            ],
            [
             0.6666666666666666,
             "#ed7953"
            ],
            [
             0.7777777777777778,
             "#fb9f3a"
            ],
            [
             0.8888888888888888,
             "#fdca26"
            ],
            [
             1,
             "#f0f921"
            ]
           ],
           "sequentialminus": [
            [
             0,
             "#0d0887"
            ],
            [
             0.1111111111111111,
             "#46039f"
            ],
            [
             0.2222222222222222,
             "#7201a8"
            ],
            [
             0.3333333333333333,
             "#9c179e"
            ],
            [
             0.4444444444444444,
             "#bd3786"
            ],
            [
             0.5555555555555556,
             "#d8576b"
            ],
            [
             0.6666666666666666,
             "#ed7953"
            ],
            [
             0.7777777777777778,
             "#fb9f3a"
            ],
            [
             0.8888888888888888,
             "#fdca26"
            ],
            [
             1,
             "#f0f921"
            ]
           ]
          },
          "colorway": [
           "#636efa",
           "#EF553B",
           "#00cc96",
           "#ab63fa",
           "#FFA15A",
           "#19d3f3",
           "#FF6692",
           "#B6E880",
           "#FF97FF",
           "#FECB52"
          ],
          "font": {
           "color": "#2a3f5f"
          },
          "geo": {
           "bgcolor": "white",
           "lakecolor": "white",
           "landcolor": "#E5ECF6",
           "showlakes": true,
           "showland": true,
           "subunitcolor": "white"
          },
          "hoverlabel": {
           "align": "left"
          },
          "hovermode": "closest",
          "mapbox": {
           "style": "light"
          },
          "paper_bgcolor": "white",
          "plot_bgcolor": "#E5ECF6",
          "polar": {
           "angularaxis": {
            "gridcolor": "white",
            "linecolor": "white",
            "ticks": ""
           },
           "bgcolor": "#E5ECF6",
           "radialaxis": {
            "gridcolor": "white",
            "linecolor": "white",
            "ticks": ""
           }
          },
          "scene": {
           "xaxis": {
            "backgroundcolor": "#E5ECF6",
            "gridcolor": "white",
            "gridwidth": 2,
            "linecolor": "white",
            "showbackground": true,
            "ticks": "",
            "zerolinecolor": "white"
           },
           "yaxis": {
            "backgroundcolor": "#E5ECF6",
            "gridcolor": "white",
            "gridwidth": 2,
            "linecolor": "white",
            "showbackground": true,
            "ticks": "",
            "zerolinecolor": "white"
           },
           "zaxis": {
            "backgroundcolor": "#E5ECF6",
            "gridcolor": "white",
            "gridwidth": 2,
            "linecolor": "white",
            "showbackground": true,
            "ticks": "",
            "zerolinecolor": "white"
           }
          },
          "shapedefaults": {
           "line": {
            "color": "#2a3f5f"
           }
          },
          "ternary": {
           "aaxis": {
            "gridcolor": "white",
            "linecolor": "white",
            "ticks": ""
           },
           "baxis": {
            "gridcolor": "white",
            "linecolor": "white",
            "ticks": ""
           },
           "bgcolor": "#E5ECF6",
           "caxis": {
            "gridcolor": "white",
            "linecolor": "white",
            "ticks": ""
           }
          },
          "title": {
           "x": 0.05
          },
          "xaxis": {
           "automargin": true,
           "gridcolor": "white",
           "linecolor": "white",
           "ticks": "",
           "title": {
            "standoff": 15
           },
           "zerolinecolor": "white",
           "zerolinewidth": 2
          },
          "yaxis": {
           "automargin": true,
           "gridcolor": "white",
           "linecolor": "white",
           "ticks": "",
           "title": {
            "standoff": 15
           },
           "zerolinecolor": "white",
           "zerolinewidth": 2
          }
         }
        }
       }
      }
     },
     "metadata": {},
     "output_type": "display_data"
    }
   ],
   "source": [
    "# 지역 순위 표시\n",
    "# result_info[result_info['class'] != \"유사\"]\n",
    "fig=px.scatter_mapbox(result_info[result_info['class'] != \"유사\"], #category != \"neutral\" & \n",
    "        lat=\"위도\",lon=\"경도\",\n",
    "        hover_name=\"주소2\",\n",
    "        hover_data=['to','sim','from'],\n",
    "        color='class',opacity=0.7,\n",
    "        # size='diff_abs', size_max=20,\n",
    "        color_discrete_map = {'몰리는 지역': 'midnightblue', \n",
    "                                '유사': 'hotpink',\n",
    "                                '퍼지는 지역': 'coral'},\n",
    "        zoom=10,height=500,)\n",
    "\n",
    "fig.update_layout(mapbox_style=\"carto-positron\")"
   ]
  },
  {
   "cell_type": "code",
   "execution_count": 27,
   "metadata": {},
   "outputs": [
    {
     "data": {
      "text/html": [
       "<div>\n",
       "<style scoped>\n",
       "    .dataframe tbody tr th:only-of-type {\n",
       "        vertical-align: middle;\n",
       "    }\n",
       "\n",
       "    .dataframe tbody tr th {\n",
       "        vertical-align: top;\n",
       "    }\n",
       "\n",
       "    .dataframe thead th {\n",
       "        text-align: right;\n",
       "    }\n",
       "</style>\n",
       "<table border=\"1\" class=\"dataframe\">\n",
       "  <thead>\n",
       "    <tr style=\"text-align: right;\">\n",
       "      <th></th>\n",
       "      <th>Unnamed: 0</th>\n",
       "      <th>id</th>\n",
       "      <th>주소2</th>\n",
       "      <th>주소1</th>\n",
       "      <th>지역</th>\n",
       "      <th>위도</th>\n",
       "      <th>경도</th>\n",
       "      <th>설치일</th>\n",
       "    </tr>\n",
       "  </thead>\n",
       "  <tbody>\n",
       "    <tr>\n",
       "      <th>574</th>\n",
       "      <td>574</td>\n",
       "      <td>810</td>\n",
       "      <td>이태원지하보도</td>\n",
       "      <td>서울특별시 용산구 용산동2가 5-1812</td>\n",
       "      <td>용산구</td>\n",
       "      <td>37.538410</td>\n",
       "      <td>126.986649</td>\n",
       "      <td>2016-06-29</td>\n",
       "    </tr>\n",
       "    <tr>\n",
       "      <th>592</th>\n",
       "      <td>592</td>\n",
       "      <td>831</td>\n",
       "      <td>이태원관광특구입구</td>\n",
       "      <td>서울특별시 용산구 이태원로 134</td>\n",
       "      <td>용산구</td>\n",
       "      <td>37.534279</td>\n",
       "      <td>126.988564</td>\n",
       "      <td>2017-11-28</td>\n",
       "    </tr>\n",
       "    <tr>\n",
       "      <th>2447</th>\n",
       "      <td>2447</td>\n",
       "      <td>4623</td>\n",
       "      <td>라인프랜즈이태원점 앞</td>\n",
       "      <td>이태원로200</td>\n",
       "      <td>용산구</td>\n",
       "      <td>37.534531</td>\n",
       "      <td>126.996193</td>\n",
       "      <td>2020-10-29</td>\n",
       "    </tr>\n",
       "  </tbody>\n",
       "</table>\n",
       "</div>"
      ],
      "text/plain": [
       "      Unnamed: 0    id          주소2                     주소1   지역         위도  \\\n",
       "574          574   810      이태원지하보도  서울특별시 용산구 용산동2가 5-1812  용산구  37.538410   \n",
       "592          592   831    이태원관광특구입구      서울특별시 용산구 이태원로 134  용산구  37.534279   \n",
       "2447        2447  4623  라인프랜즈이태원점 앞                 이태원로200  용산구  37.534531   \n",
       "\n",
       "              경도         설치일  \n",
       "574   126.986649  2016-06-29  \n",
       "592   126.988564  2017-11-28  \n",
       "2447  126.996193  2020-10-29  "
      ]
     },
     "execution_count": 27,
     "metadata": {},
     "output_type": "execute_result"
    }
   ],
   "source": [
    "station[station['주소2'].str.contains(\"이태원\")]\n",
    "# station"
   ]
  },
  {
   "cell_type": "markdown",
   "metadata": {},
   "source": [
    "### 2. 대여소간 흐름 분석 먼저 해보자 나가고 들어오는 그런 흐름을 한 번 만들어보고 싶다."
   ]
  },
  {
   "cell_type": "markdown",
   "metadata": {},
   "source": [
    "### 실수로 실행시킬까봐 # 처리해놓았음\n",
    "\n",
    "중요하니 지우지 말자"
   ]
  },
  {
   "cell_type": "code",
   "execution_count": 14,
   "metadata": {},
   "outputs": [],
   "source": [
    "# # id : 대여소 id   n : 대여소간 최소 대여수 ex) 여의나루 => 1000여개 대여소 중 n회 이상 이동한 대여소만 포함\n",
    "# def con_dis(id,n) :\n",
    "#     try : \n",
    "#         # 1 to 2 여의나루 => 다른 대여소\n",
    "#         total_num_left = seoul_bike[seoul_bike['st_id1']==id]['st_id2'].value_counts() # 현재 대여소에서 빌리면 주로 향하는 목적지는?\n",
    "#         total_num_left = total_num_left[~total_num_left.index.isin([id])] # 같은 곳에서 빌려서 같은 곳에 반납하는 경우 제거\n",
    "\n",
    "#         # 2 to 1 다른 대여소 => 여의나루 \n",
    "#         total_num_right = seoul_bike[seoul_bike['st_id2']==id]['st_id1'].value_counts() # 어느 대여소에서 현재 대여소로 이동할까?\n",
    "#         total_num_right = total_num_right[total_num_right.index != id] # 같은 곳에서 빌려서 같은 곳에 반납하는 경우 제거\n",
    "\n",
    "#         a = total_num_left.sum()\n",
    "#         b = total_num_right.sum()\n",
    "\n",
    "#         return [id,a,b,round(foo(a,b),3)]\n",
    "\n",
    "#     except :\n",
    "#         return [id]\n",
    "\n",
    "# def foo(x,y):\n",
    "#     try:\n",
    "#         return x/y\n",
    "#     except ZeroDivisionError:\n",
    "#         return 0\n",
    "\n",
    "\n",
    "# id1 = seoul_bike['st_id2'].value_counts()\n",
    "# id2 = seoul_bike['st_id1'].value_counts()\n",
    "# id1 = id1[id1>500].index # 대여횟수 최소 500회 이상인 대여소 선정\n",
    "# id2 = id2[id2>500].index\n",
    "# total_id=np.unique(np.append(id1,id2))\n",
    "\n",
    "# n = 50 # 대여소간 이동횟수 최소 n회\n",
    "# result_sum=[]\n",
    "# for num,ids in notebook.tqdm(enumerate(total_id))  :\n",
    "#     result_con_dis = con_dis(ids,n) # con_dis 함수 \n",
    "#     result_sum.append(result_con_dis)\n",
    "\n"
   ]
  },
  {
   "cell_type": "code",
   "execution_count": null,
   "metadata": {},
   "outputs": [],
   "source": [
    "# #merge\n",
    "# condension_distribution = pd.merge(\n",
    "#                             pd.DataFrame(result_sum),station,\n",
    "#                             how='left',\n",
    "#                             left_on=0,\n",
    "#                             right_on='id'\n",
    "#                           ).sort_values(by=2,ascending=False)\n",
    "\n",
    "\n",
    "# # column 이름 변경\n",
    "# condension_distribution.columns = ['id_du','1to2','2to1','portion', 'id', '주소2', '주소1', '지역', '위도', '경도', '설치일']\n",
    "# condension_distribution.drop(columns=['id_du','주소1','설치일','portion'],inplace=True)\n",
    "# condension_distribution.dropna(inplace=True)\n",
    "\n",
    "\n",
    "# #분석에 필요한 자료 추가\n",
    "# condension_distribution['rate'] = condension_distribution['1to2'] / (condension_distribution['1to2'] + condension_distribution['2to1'])\n",
    "# condension_distribution['category'] = pd.cut(\n",
    "#                                         condension_distribution['rate'],\n",
    "#                                         bins=[0,0.45,0.55,condension_distribution['rate'].max()],\n",
    "#                                         labels=[\"몰리는 지역\", \"neutral\" ,\"퍼지는 지역\"]\n",
    "#                                       )\n",
    "                                      \n",
    "# condension_distribution['diff'] = abs((condension_distribution[\"1to2\"] - condension_distribution[\"2to1\"])) # 얼마나 차이나는지 \n",
    "\n",
    "\n",
    "# # 자료 저장\n",
    "# condension_distribution.to_csv('con_dis.csv',encoding='CP949')"
   ]
  },
  {
   "cell_type": "code",
   "execution_count": 16,
   "metadata": {},
   "outputs": [],
   "source": [
    "asd = pd.read_csv('con_dis.csv',encoding='CP949')"
   ]
  },
  {
   "cell_type": "code",
   "execution_count": 17,
   "metadata": {},
   "outputs": [
    {
     "data": {
      "application/vnd.plotly.v1+json": {
       "config": {
        "plotlyServerURL": "https://plot.ly"
       },
       "data": [
        {
         "customdata": [
          [
           29778,
           37851,
           996
          ],
          [
           26511,
           33677,
           1008
          ],
          [
           25088,
           31715,
           2050
          ],
          [
           25766,
           31689,
           1721
          ],
          [
           22338,
           27884,
           227
          ],
          [
           19855,
           25750,
           2025
          ],
          [
           20588,
           25172,
           1195
          ],
          [
           19196,
           23936,
           779
          ],
          [
           18100,
           23582,
           912
          ],
          [
           18644,
           23273,
           956
          ],
          [
           18639,
           22808,
           1452
          ],
          [
           16552,
           20521,
           2611
          ],
          [
           15835,
           19481,
           2106
          ],
          [
           15797,
           19312,
           2222
          ],
          [
           15246,
           18837,
           1991
          ],
          [
           15065,
           18786,
           905
          ],
          [
           12469,
           17884,
           1141
          ],
          [
           12575,
           16974,
           1146
          ],
          [
           12104,
           16127,
           1004
          ],
          [
           12371,
           15496,
           834
          ],
          [
           11179,
           14292,
           989
          ],
          [
           7650,
           12195,
           712
          ],
          [
           7946,
           11371,
           4522
          ]
         ],
         "hovertemplate": "<b>%{hovertext}</b><br><br>category=몰리는 지역<br>diff=%{marker.size}<br>위도=%{lat}<br>경도=%{lon}<br>1to2=%{customdata[0]}<br>2to1=%{customdata[1]}<br>id=%{customdata[2]}<extra></extra>",
         "hovertext": [
          "응암역 1번출구",
          "암사역 3번출구(국민은행앞)",
          "노량진역 5번출구",
          "창동역 2번출구",
          "양평2나들목 보행통로 입구",
          "흑석역 1번출구",
          "코오롱One&Only타워",
          "양천나눔누리센터",
          "응암오거리",
          "응암시장교차로",
          "겸재교 진입부",
          "송파지역자활센터 뒤",
          "난곡 새마을금고",
          "사당역 12번출구 뒤",
          "오류동역 맞은편",
          "구파발역 2번출구",
          "곰달래 문화복지센터 1-1",
          "곰달래사거리",
          "삼성광나루아파트 버스정류장",
          "효창공원앞역 3번출구 뒤",
          "응암 꼬꼬닭치킨호프 앞",
          "강월초교입구 사거리",
          "다이소신곡시장점"
         ],
         "lat": [
          37.598606,
          37.549549,
          37.513248,
          37.653015,
          37.544666,
          37.50938,
          37.564129,
          37.518845,
          37.589661,
          37.594376,
          37.585655,
          37.536331,
          37.473728,
          37.478069,
          37.496761,
          37.636234,
          37.52906,
          37.530338,
          37.553349,
          37.539009,
          37.591812,
          37.516998,
          37.51779556
         ],
         "legendgroup": "몰리는 지역",
         "lon": [
          126.915405,
          127.127151,
          126.939972,
          127.046997,
          126.888359,
          126.963615,
          126.834312,
          126.853684,
          126.916946,
          126.918159,
          127.07505,
          127.11618,
          126.918404,
          126.982033,
          126.844963,
          126.918999,
          126.84848,
          126.838257,
          127.12886,
          126.96138,
          126.914833,
          126.838318,
          126.8416138
         ],
         "marker": {
          "color": "#636efa",
          "opacity": 0.6,
          "size": [
           8073,
           7166,
           6627,
           5923,
           5546,
           5895,
           4584,
           4740,
           5482,
           4629,
           4169,
           3969,
           3646,
           3515,
           3591,
           3721,
           5415,
           4399,
           4023,
           3125,
           3113,
           4545,
           3425
          ],
          "sizemode": "area",
          "sizeref": 20.1825
         },
         "mode": "markers",
         "name": "몰리는 지역",
         "showlegend": true,
         "subplot": "mapbox",
         "type": "scattermapbox"
        },
        {
         "customdata": [
          [
           20948,
           15444,
           1199
          ],
          [
           19573,
           15218,
           584
          ],
          [
           16919,
           13366,
           2013
          ],
          [
           17313,
           13309,
           417
          ],
          [
           20728,
           12831,
           574
          ],
          [
           16270,
           10745,
           1126
          ],
          [
           15965,
           10332,
           623
          ],
          [
           14782,
           9719,
           212
          ],
          [
           12973,
           9262,
           1175
          ],
          [
           12579,
           8674,
           301
          ],
          [
           8874,
           5696,
           2333
          ],
          [
           8484,
           5234,
           199
          ],
          [
           8377,
           5234,
           1136
          ],
          [
           7513,
           4448,
           3507
          ],
          [
           7864,
           4371,
           2237
          ],
          [
           8237,
           4016,
           416
          ],
          [
           6778,
           3674,
           403
          ],
          [
           6669,
           3636,
           1828
          ],
          [
           6556,
           3121,
           843
          ],
          [
           6874,
           2800,
           436
          ],
          [
           7176,
           2784,
           162
          ],
          [
           7586,
           2739,
           2712
          ],
          [
           6416,
           2668,
           1854
          ],
          [
           6176,
           2665,
           1344
          ],
          [
           6679,
           2477,
           725
          ],
          [
           5888,
           2419,
           2405
          ],
          [
           5705,
           2402,
           2057
          ],
          [
           6558,
           2228,
           811
          ],
          [
           5811,
           2187,
           720
          ],
          [
           9980,
           2114,
           711
          ],
          [
           5339,
           1643,
           909
          ],
          [
           5058,
           1566,
           965
          ],
          [
           4355,
           1249,
           1426
          ],
          [
           5205,
           915,
           167
          ],
          [
           5345,
           741,
           3310
          ],
          [
           3783,
           358,
           3307
          ]
         ],
         "hovertemplate": "<b>%{hovertext}</b><br><br>category=퍼지는 지역<br>diff=%{marker.size}<br>위도=%{lat}<br>경도=%{lon}<br>1to2=%{customdata[0]}<br>2to1=%{customdata[1]}<br>id=%{customdata[2]}<extra></extra>",
         "hovertext": [
          "우장산역 3번출구",
          "광진광장 교통섬",
          "장승배기역 5번출구",
          "DMC역 2번출구 옆",
          "아차산역4번출구",
          "우장산역 1번출구옆(우장산아이파크105동앞)",
          "서울시립대 정문 앞",
          "여의도역 1번출구 옆",
          "대한항공 인력개발센터",
          "경복궁역 7번출구 앞",
          "양재역 3번출구 주변",
          "서울 월드컵 경기장",
          "등촌2파출소",
          "어린이회관",
          "서울남부터미널 대합실 입구",
          "상암월드컵파크 1단지 교차로",
          "부엉이공원 앞",
          "한양수자인아파트 앞",
          "녹사평역 광장",
          "이대역 5번출구",
          "봉원고가차도 밑",
          "화곡터널입구교차로",
          "가산아네스트 오피스텔 앞",
          "아리랑시네센터 앞",
          "양강중학교앞 교차로",
          "청담공원앞 교차로",
          "상도 아이파크 아파트",
          "녹사평역1번출구",
          "서울강월초등학교 앞",
          "신일해피트리아파트 앞",
          "백련산 힐스테이트 3차",
          "서울특별시 은평병원",
          "면목도시개발아파트 1동 앞",
          "연가초등학교 옆",
          "영락고등학교",
          "봉천고개 육교"
         ],
         "lat": [
          37.547821,
          37.547829,
          37.505852,
          37.575069,
          37.551849,
          37.548908,
          37.583698,
          37.521362,
          37.554379,
          37.575794,
          37.485157,
          37.566845,
          37.544788,
          37.545952,
          37.484558,
          37.575665,
          37.58559,
          37.475319,
          37.533798,
          37.556591,
          37.565269,
          37.538338,
          37.47818,
          37.600288,
          37.524334,
          37.518711,
          37.500881,
          37.53508,
          37.516197,
          37.517059,
          37.586994,
          37.593479,
          37.573589,
          37.57946,
          37.476627,
          37.491226
         ],
         "legendgroup": "퍼지는 지역",
         "lon": [
          126.836128,
          127.072632,
          126.939362,
          126.899918,
          127.088982,
          126.836563,
          127.053856,
          126.923462,
          126.857536,
          126.971451,
          127.034073,
          126.896446,
          126.862,
          127.078003,
          127.01487,
          126.894447,
          126.884727,
          126.898888,
          126.98867,
          126.94619,
          126.946243,
          126.842392,
          126.897408,
          127.013702,
          126.850548,
          127.05085,
          126.94175,
          126.985382,
          126.8349,
          126.848488,
          126.922882,
          126.923187,
          127.086823,
          126.91713,
          126.943642,
          126.956078
         ],
         "marker": {
          "color": "#EF553B",
          "opacity": 0.6,
          "size": [
           5504,
           4355,
           3553,
           4004,
           7897,
           5525,
           5633,
           5063,
           3711,
           3905,
           3178,
           3250,
           3143,
           3065,
           3493,
           4221,
           3104,
           3033,
           3435,
           4074,
           4392,
           4847,
           3748,
           3511,
           4202,
           3469,
           3303,
           4330,
           3624,
           7866,
           3696,
           3492,
           3106,
           4290,
           4604,
           3425
          ],
          "sizemode": "area",
          "sizeref": 20.1825
         },
         "mode": "markers",
         "name": "퍼지는 지역",
         "showlegend": true,
         "subplot": "mapbox",
         "type": "scattermapbox"
        },
        {
         "lat": [
          37.566051
         ],
         "lon": [
          126.997986
         ],
         "marker": {
          "color": "purple",
          "size": 10
         },
         "mode": "markers",
         "text": [
          "316    을지로4가역 9번출구\nName: 주소2, dtype: object"
         ],
         "type": "scattermapbox"
        }
       ],
       "layout": {
        "height": 500,
        "legend": {
         "itemsizing": "constant",
         "title": {
          "text": "category"
         },
         "tracegroupgap": 0
        },
        "mapbox": {
         "center": {
          "lat": 37.543782212881354,
          "lon": 126.94189118305079
         },
         "domain": {
          "x": [
           0,
           1
          ],
          "y": [
           0,
           1
          ]
         },
         "style": "carto-positron",
         "zoom": 10
        },
        "margin": {
         "t": 60
        },
        "template": {
         "data": {
          "bar": [
           {
            "error_x": {
             "color": "#2a3f5f"
            },
            "error_y": {
             "color": "#2a3f5f"
            },
            "marker": {
             "line": {
              "color": "#E5ECF6",
              "width": 0.5
             },
             "pattern": {
              "fillmode": "overlay",
              "size": 10,
              "solidity": 0.2
             }
            },
            "type": "bar"
           }
          ],
          "barpolar": [
           {
            "marker": {
             "line": {
              "color": "#E5ECF6",
              "width": 0.5
             },
             "pattern": {
              "fillmode": "overlay",
              "size": 10,
              "solidity": 0.2
             }
            },
            "type": "barpolar"
           }
          ],
          "carpet": [
           {
            "aaxis": {
             "endlinecolor": "#2a3f5f",
             "gridcolor": "white",
             "linecolor": "white",
             "minorgridcolor": "white",
             "startlinecolor": "#2a3f5f"
            },
            "baxis": {
             "endlinecolor": "#2a3f5f",
             "gridcolor": "white",
             "linecolor": "white",
             "minorgridcolor": "white",
             "startlinecolor": "#2a3f5f"
            },
            "type": "carpet"
           }
          ],
          "choropleth": [
           {
            "colorbar": {
             "outlinewidth": 0,
             "ticks": ""
            },
            "type": "choropleth"
           }
          ],
          "contour": [
           {
            "colorbar": {
             "outlinewidth": 0,
             "ticks": ""
            },
            "colorscale": [
             [
              0,
              "#0d0887"
             ],
             [
              0.1111111111111111,
              "#46039f"
             ],
             [
              0.2222222222222222,
              "#7201a8"
             ],
             [
              0.3333333333333333,
              "#9c179e"
             ],
             [
              0.4444444444444444,
              "#bd3786"
             ],
             [
              0.5555555555555556,
              "#d8576b"
             ],
             [
              0.6666666666666666,
              "#ed7953"
             ],
             [
              0.7777777777777778,
              "#fb9f3a"
             ],
             [
              0.8888888888888888,
              "#fdca26"
             ],
             [
              1,
              "#f0f921"
             ]
            ],
            "type": "contour"
           }
          ],
          "contourcarpet": [
           {
            "colorbar": {
             "outlinewidth": 0,
             "ticks": ""
            },
            "type": "contourcarpet"
           }
          ],
          "heatmap": [
           {
            "colorbar": {
             "outlinewidth": 0,
             "ticks": ""
            },
            "colorscale": [
             [
              0,
              "#0d0887"
             ],
             [
              0.1111111111111111,
              "#46039f"
             ],
             [
              0.2222222222222222,
              "#7201a8"
             ],
             [
              0.3333333333333333,
              "#9c179e"
             ],
             [
              0.4444444444444444,
              "#bd3786"
             ],
             [
              0.5555555555555556,
              "#d8576b"
             ],
             [
              0.6666666666666666,
              "#ed7953"
             ],
             [
              0.7777777777777778,
              "#fb9f3a"
             ],
             [
              0.8888888888888888,
              "#fdca26"
             ],
             [
              1,
              "#f0f921"
             ]
            ],
            "type": "heatmap"
           }
          ],
          "heatmapgl": [
           {
            "colorbar": {
             "outlinewidth": 0,
             "ticks": ""
            },
            "colorscale": [
             [
              0,
              "#0d0887"
             ],
             [
              0.1111111111111111,
              "#46039f"
             ],
             [
              0.2222222222222222,
              "#7201a8"
             ],
             [
              0.3333333333333333,
              "#9c179e"
             ],
             [
              0.4444444444444444,
              "#bd3786"
             ],
             [
              0.5555555555555556,
              "#d8576b"
             ],
             [
              0.6666666666666666,
              "#ed7953"
             ],
             [
              0.7777777777777778,
              "#fb9f3a"
             ],
             [
              0.8888888888888888,
              "#fdca26"
             ],
             [
              1,
              "#f0f921"
             ]
            ],
            "type": "heatmapgl"
           }
          ],
          "histogram": [
           {
            "marker": {
             "pattern": {
              "fillmode": "overlay",
              "size": 10,
              "solidity": 0.2
             }
            },
            "type": "histogram"
           }
          ],
          "histogram2d": [
           {
            "colorbar": {
             "outlinewidth": 0,
             "ticks": ""
            },
            "colorscale": [
             [
              0,
              "#0d0887"
             ],
             [
              0.1111111111111111,
              "#46039f"
             ],
             [
              0.2222222222222222,
              "#7201a8"
             ],
             [
              0.3333333333333333,
              "#9c179e"
             ],
             [
              0.4444444444444444,
              "#bd3786"
             ],
             [
              0.5555555555555556,
              "#d8576b"
             ],
             [
              0.6666666666666666,
              "#ed7953"
             ],
             [
              0.7777777777777778,
              "#fb9f3a"
             ],
             [
              0.8888888888888888,
              "#fdca26"
             ],
             [
              1,
              "#f0f921"
             ]
            ],
            "type": "histogram2d"
           }
          ],
          "histogram2dcontour": [
           {
            "colorbar": {
             "outlinewidth": 0,
             "ticks": ""
            },
            "colorscale": [
             [
              0,
              "#0d0887"
             ],
             [
              0.1111111111111111,
              "#46039f"
             ],
             [
              0.2222222222222222,
              "#7201a8"
             ],
             [
              0.3333333333333333,
              "#9c179e"
             ],
             [
              0.4444444444444444,
              "#bd3786"
             ],
             [
              0.5555555555555556,
              "#d8576b"
             ],
             [
              0.6666666666666666,
              "#ed7953"
             ],
             [
              0.7777777777777778,
              "#fb9f3a"
             ],
             [
              0.8888888888888888,
              "#fdca26"
             ],
             [
              1,
              "#f0f921"
             ]
            ],
            "type": "histogram2dcontour"
           }
          ],
          "mesh3d": [
           {
            "colorbar": {
             "outlinewidth": 0,
             "ticks": ""
            },
            "type": "mesh3d"
           }
          ],
          "parcoords": [
           {
            "line": {
             "colorbar": {
              "outlinewidth": 0,
              "ticks": ""
             }
            },
            "type": "parcoords"
           }
          ],
          "pie": [
           {
            "automargin": true,
            "type": "pie"
           }
          ],
          "scatter": [
           {
            "fillpattern": {
             "fillmode": "overlay",
             "size": 10,
             "solidity": 0.2
            },
            "type": "scatter"
           }
          ],
          "scatter3d": [
           {
            "line": {
             "colorbar": {
              "outlinewidth": 0,
              "ticks": ""
             }
            },
            "marker": {
             "colorbar": {
              "outlinewidth": 0,
              "ticks": ""
             }
            },
            "type": "scatter3d"
           }
          ],
          "scattercarpet": [
           {
            "marker": {
             "colorbar": {
              "outlinewidth": 0,
              "ticks": ""
             }
            },
            "type": "scattercarpet"
           }
          ],
          "scattergeo": [
           {
            "marker": {
             "colorbar": {
              "outlinewidth": 0,
              "ticks": ""
             }
            },
            "type": "scattergeo"
           }
          ],
          "scattergl": [
           {
            "marker": {
             "colorbar": {
              "outlinewidth": 0,
              "ticks": ""
             }
            },
            "type": "scattergl"
           }
          ],
          "scattermapbox": [
           {
            "marker": {
             "colorbar": {
              "outlinewidth": 0,
              "ticks": ""
             }
            },
            "type": "scattermapbox"
           }
          ],
          "scatterpolar": [
           {
            "marker": {
             "colorbar": {
              "outlinewidth": 0,
              "ticks": ""
             }
            },
            "type": "scatterpolar"
           }
          ],
          "scatterpolargl": [
           {
            "marker": {
             "colorbar": {
              "outlinewidth": 0,
              "ticks": ""
             }
            },
            "type": "scatterpolargl"
           }
          ],
          "scatterternary": [
           {
            "marker": {
             "colorbar": {
              "outlinewidth": 0,
              "ticks": ""
             }
            },
            "type": "scatterternary"
           }
          ],
          "surface": [
           {
            "colorbar": {
             "outlinewidth": 0,
             "ticks": ""
            },
            "colorscale": [
             [
              0,
              "#0d0887"
             ],
             [
              0.1111111111111111,
              "#46039f"
             ],
             [
              0.2222222222222222,
              "#7201a8"
             ],
             [
              0.3333333333333333,
              "#9c179e"
             ],
             [
              0.4444444444444444,
              "#bd3786"
             ],
             [
              0.5555555555555556,
              "#d8576b"
             ],
             [
              0.6666666666666666,
              "#ed7953"
             ],
             [
              0.7777777777777778,
              "#fb9f3a"
             ],
             [
              0.8888888888888888,
              "#fdca26"
             ],
             [
              1,
              "#f0f921"
             ]
            ],
            "type": "surface"
           }
          ],
          "table": [
           {
            "cells": {
             "fill": {
              "color": "#EBF0F8"
             },
             "line": {
              "color": "white"
             }
            },
            "header": {
             "fill": {
              "color": "#C8D4E3"
             },
             "line": {
              "color": "white"
             }
            },
            "type": "table"
           }
          ]
         },
         "layout": {
          "annotationdefaults": {
           "arrowcolor": "#2a3f5f",
           "arrowhead": 0,
           "arrowwidth": 1
          },
          "autotypenumbers": "strict",
          "coloraxis": {
           "colorbar": {
            "outlinewidth": 0,
            "ticks": ""
           }
          },
          "colorscale": {
           "diverging": [
            [
             0,
             "#8e0152"
            ],
            [
             0.1,
             "#c51b7d"
            ],
            [
             0.2,
             "#de77ae"
            ],
            [
             0.3,
             "#f1b6da"
            ],
            [
             0.4,
             "#fde0ef"
            ],
            [
             0.5,
             "#f7f7f7"
            ],
            [
             0.6,
             "#e6f5d0"
            ],
            [
             0.7,
             "#b8e186"
            ],
            [
             0.8,
             "#7fbc41"
            ],
            [
             0.9,
             "#4d9221"
            ],
            [
             1,
             "#276419"
            ]
           ],
           "sequential": [
            [
             0,
             "#0d0887"
            ],
            [
             0.1111111111111111,
             "#46039f"
            ],
            [
             0.2222222222222222,
             "#7201a8"
            ],
            [
             0.3333333333333333,
             "#9c179e"
            ],
            [
             0.4444444444444444,
             "#bd3786"
            ],
            [
             0.5555555555555556,
             "#d8576b"
            ],
            [
             0.6666666666666666,
             "#ed7953"
            ],
            [
             0.7777777777777778,
             "#fb9f3a"
            ],
            [
             0.8888888888888888,
             "#fdca26"
            ],
            [
             1,
             "#f0f921"
            ]
           ],
           "sequentialminus": [
            [
             0,
             "#0d0887"
            ],
            [
             0.1111111111111111,
             "#46039f"
            ],
            [
             0.2222222222222222,
             "#7201a8"
            ],
            [
             0.3333333333333333,
             "#9c179e"
            ],
            [
             0.4444444444444444,
             "#bd3786"
            ],
            [
             0.5555555555555556,
             "#d8576b"
            ],
            [
             0.6666666666666666,
             "#ed7953"
            ],
            [
             0.7777777777777778,
             "#fb9f3a"
            ],
            [
             0.8888888888888888,
             "#fdca26"
            ],
            [
             1,
             "#f0f921"
            ]
           ]
          },
          "colorway": [
           "#636efa",
           "#EF553B",
           "#00cc96",
           "#ab63fa",
           "#FFA15A",
           "#19d3f3",
           "#FF6692",
           "#B6E880",
           "#FF97FF",
           "#FECB52"
          ],
          "font": {
           "color": "#2a3f5f"
          },
          "geo": {
           "bgcolor": "white",
           "lakecolor": "white",
           "landcolor": "#E5ECF6",
           "showlakes": true,
           "showland": true,
           "subunitcolor": "white"
          },
          "hoverlabel": {
           "align": "left"
          },
          "hovermode": "closest",
          "mapbox": {
           "style": "light"
          },
          "paper_bgcolor": "white",
          "plot_bgcolor": "#E5ECF6",
          "polar": {
           "angularaxis": {
            "gridcolor": "white",
            "linecolor": "white",
            "ticks": ""
           },
           "bgcolor": "#E5ECF6",
           "radialaxis": {
            "gridcolor": "white",
            "linecolor": "white",
            "ticks": ""
           }
          },
          "scene": {
           "xaxis": {
            "backgroundcolor": "#E5ECF6",
            "gridcolor": "white",
            "gridwidth": 2,
            "linecolor": "white",
            "showbackground": true,
            "ticks": "",
            "zerolinecolor": "white"
           },
           "yaxis": {
            "backgroundcolor": "#E5ECF6",
            "gridcolor": "white",
            "gridwidth": 2,
            "linecolor": "white",
            "showbackground": true,
            "ticks": "",
            "zerolinecolor": "white"
           },
           "zaxis": {
            "backgroundcolor": "#E5ECF6",
            "gridcolor": "white",
            "gridwidth": 2,
            "linecolor": "white",
            "showbackground": true,
            "ticks": "",
            "zerolinecolor": "white"
           }
          },
          "shapedefaults": {
           "line": {
            "color": "#2a3f5f"
           }
          },
          "ternary": {
           "aaxis": {
            "gridcolor": "white",
            "linecolor": "white",
            "ticks": ""
           },
           "baxis": {
            "gridcolor": "white",
            "linecolor": "white",
            "ticks": ""
           },
           "bgcolor": "#E5ECF6",
           "caxis": {
            "gridcolor": "white",
            "linecolor": "white",
            "ticks": ""
           }
          },
          "title": {
           "x": 0.05
          },
          "xaxis": {
           "automargin": true,
           "gridcolor": "white",
           "linecolor": "white",
           "ticks": "",
           "title": {
            "standoff": 15
           },
           "zerolinecolor": "white",
           "zerolinewidth": 2
          },
          "yaxis": {
           "automargin": true,
           "gridcolor": "white",
           "linecolor": "white",
           "ticks": "",
           "title": {
            "standoff": 15
           },
           "zerolinecolor": "white",
           "zerolinewidth": 2
          }
         }
        }
       }
      }
     },
     "metadata": {},
     "output_type": "display_data"
    }
   ],
   "source": [
    "fig=px.scatter_mapbox(\n",
    "        asd.query('category != \"neutral\" & diff > 3000'), \n",
    "        lat=\"위도\",\n",
    "        lon=\"경도\",\n",
    "        hover_name=\"주소2\",\n",
    "        hover_data=['1to2','2to1','id'],\n",
    "        color='category',\n",
    "        size='diff',\n",
    "        size_max=20,\n",
    "        opacity=0.6,\n",
    "        color_continuous_scale='ylorrd',\n",
    "        zoom=10,\n",
    "        height=500\n",
    "    )\n",
    "\n",
    "# 해당 따릉이 대여소 색 표시하기\n",
    "# fig_2 = go.Figure(go.Scattermapbox(\n",
    "#             lat=station.query('id==@id')['위도'],\n",
    "#             lon=station.query('id==@id')['경도'],\n",
    "#             mode='markers',\n",
    "#             # marker = {'size': 20, 'symbol': \"bus\"},\n",
    "#             marker=go.scattermapbox.Marker(size=10,color='purple'),\n",
    "#             text=[station.query('id==@id')['주소2']],\n",
    "#         ))       \n",
    "#                      \n",
    "fig.add_trace(fig_2.data[0])\n",
    "fig.update_layout(mapbox_style=\"carto-positron\")                                                              "
   ]
  },
  {
   "cell_type": "markdown",
   "metadata": {},
   "source": [
    "## 유용한 툴 정리"
   ]
  },
  {
   "cell_type": "code",
   "execution_count": null,
   "metadata": {},
   "outputs": [],
   "source": [
    "# ### 대여소 별 거리 측정\n",
    "# asd = station.query('id ==[744,766]')\n",
    "# haversine_np(asd.iloc[0,-3],asd.iloc[0,-2],asd.iloc[1,-3],asd.iloc[1,-2])\n",
    "# # station[station['주소2'].str.contains(\"월촌중\")]\n",
    "# # station.query('id == 744')"
   ]
  },
  {
   "cell_type": "code",
   "execution_count": null,
   "metadata": {},
   "outputs": [],
   "source": [
    "# plotly color_code 정리\n",
    "\n",
    "# color_code = pd.read_csv('data/plotly_color_codes.csv')\n",
    "# print(color_code['0'].to_list())"
   ]
  }
 ],
 "metadata": {
  "interpreter": {
   "hash": "47be6c136d2b4a6c76f7d3db2f991a133eb39bf1d99b20f1b6e05e99edd1faf4"
  },
  "kernelspec": {
   "display_name": "Python 3.9.7 ('base')",
   "language": "python",
   "name": "python3"
  },
  "language_info": {
   "codemirror_mode": {
    "name": "ipython",
    "version": 3
   },
   "file_extension": ".py",
   "mimetype": "text/x-python",
   "name": "python",
   "nbconvert_exporter": "python",
   "pygments_lexer": "ipython3",
   "version": "3.9.7"
  },
  "orig_nbformat": 4
 },
 "nbformat": 4,
 "nbformat_minor": 2
}
