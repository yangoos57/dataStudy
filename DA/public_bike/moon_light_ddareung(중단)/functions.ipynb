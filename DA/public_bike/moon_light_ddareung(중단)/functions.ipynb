{
 "cells": [
  {
   "cell_type": "code",
   "execution_count": 110,
   "metadata": {},
   "outputs": [],
   "source": [
    "import json\n",
    "import urllib\n",
    "from urllib.request import Request, urlopen\n",
    "import pandas as pd\n",
    "import numpy as np\n",
    "from tqdm import notebook\n",
    "import plotly.graph_objects as go\n",
    "import plotly.express as px\n",
    "import ast \n",
    "import warnings\n",
    "warnings.filterwarnings(action='ignore')"
   ]
  },
  {
   "cell_type": "code",
   "execution_count": 111,
   "metadata": {},
   "outputs": [],
   "source": [
    "station = pd.read_csv('data/seoul_bike_station_01_12.csv',encoding=\"CP949\",index_col=0)\n",
    "near_bus = pd.read_csv('data/near_bus_200m.csv',encoding=\"CP949\",index_col=0)\n",
    "seoul_bike = pd.read_parquet('D:/git_local_repository/data_for_project/seoul_bike/seoul_bike_2021.parquet.gzip',columns=[ 'st_id1', 'st_id2', 'riding_time',\n",
    "       'dist', 'm_pm'])\n",
    "\n",
    "def haversine_np(lon1, lat1, lon2, lat2):\n",
    "    \"\"\"\n",
    "    Calculate the great circle distance between two points\n",
    "    on the earth (specified in decimal degrees)\n",
    "\n",
    "    All args must be of equal length.    \n",
    "\n",
    "    \"\"\"\n",
    "    lon1, lat1, lon2, lat2 = map(np.radians, [lon1, lat1, lon2, lat2])\n",
    "\n",
    "    dlon = lon2 - lon1\n",
    "    dlat = lat2 - lat1\n",
    "\n",
    "    a = np.sin(dlat / 2.0) ** 2 + np.cos(lat1) * np.cos(lat2) * np.sin(dlon / 2.0) ** 2\n",
    "\n",
    "    c = 2 * np.arcsin(np.sqrt(a))\n",
    "    m = 6367 * c * 1000\n",
    "    return m"
   ]
  },
  {
   "cell_type": "markdown",
   "metadata": {},
   "source": [
    "> ### 이름으로 버스 정류장과 대여소 선택"
   ]
  },
  {
   "cell_type": "code",
   "execution_count": 168,
   "metadata": {},
   "outputs": [
    {
     "name": "stdout",
     "output_type": "stream",
     "text": [
      "후아\n",
      "후아\n",
      "졸리\n"
     ]
    },
    {
     "data": {
      "text/html": [
       "<div>\n",
       "<style scoped>\n",
       "    .dataframe tbody tr th:only-of-type {\n",
       "        vertical-align: middle;\n",
       "    }\n",
       "\n",
       "    .dataframe tbody tr th {\n",
       "        vertical-align: top;\n",
       "    }\n",
       "\n",
       "    .dataframe thead th {\n",
       "        text-align: right;\n",
       "    }\n",
       "</style>\n",
       "<table border=\"1\" class=\"dataframe\">\n",
       "  <thead>\n",
       "    <tr style=\"text-align: right;\">\n",
       "      <th></th>\n",
       "      <th>bike_id</th>\n",
       "      <th>bus</th>\n",
       "      <th>order</th>\n",
       "      <th>id</th>\n",
       "      <th>name</th>\n",
       "      <th>경도</th>\n",
       "      <th>위도</th>\n",
       "    </tr>\n",
       "  </thead>\n",
       "  <tbody>\n",
       "    <tr>\n",
       "      <th>1391</th>\n",
       "      <td>[773,1169]</td>\n",
       "      <td>N62</td>\n",
       "      <td>138</td>\n",
       "      <td>16001</td>\n",
       "      <td>염창역.서울도시가스</td>\n",
       "      <td>126.875881</td>\n",
       "      <td>37.547097</td>\n",
       "    </tr>\n",
       "  </tbody>\n",
       "</table>\n",
       "</div>"
      ],
      "text/plain": [
       "         bike_id  bus  order     id        name          경도         위도\n",
       "1391  [773,1169]  N62    138  16001  염창역.서울도시가스  126.875881  37.547097"
      ]
     },
     "execution_count": 168,
     "metadata": {},
     "output_type": "execute_result"
    }
   ],
   "source": [
    "# 출발, 도착\n",
    "starting_point = near_bus[near_bus['name'].str.contains('염창역')] # 버스, 대여소, 역 모두 넣어놓는 리스트로 만들기\n",
    "ending_bike = 754\n",
    "ending_point = station.query(\"id==@ending_bike\")\n",
    "\n",
    "def finding_start_end(starting_point,ending_point) :\n",
    "    # 목적지 대여소와 가까운 버스 정류장 검색 -> bus_route_near_bike\n",
    "    result_km = haversine_np(\n",
    "        ending_point[\"경도\"].values,\n",
    "        ending_point[\"위도\"].values,\n",
    "        near_bus[\"경도\"].values,\n",
    "        near_bus[\"위도\"].values,\n",
    "    )\n",
    "    near_bus_for_dist = near_bus.copy()\n",
    "    near_bus_for_dist[\"dist\"] = result_km\n",
    "    bus_route_near_bike = (\n",
    "        near_bus_for_dist[near_bus_for_dist[\"dist\"] < 1500]\n",
    "        .dropna()\n",
    "        # .drop_duplicates(subset=[\"id\"])\n",
    "        .sort_values(by=\"id\")\n",
    "    )\n",
    "    # 겹차는 노선 찾기\n",
    "    bus_route_inter = np.intersect1d(\n",
    "        bus_route_near_bike[\"bus\"].unique(), starting_point[\"bus\"].unique()\n",
    "    ).tolist()\n",
    "\n",
    "    # 검색 결과 없을때 검색 종료\n",
    "    if bus_route_inter == [] : \n",
    "        print('검색결과 없음')\n",
    "        # 정류장,지하철역, 대여소 등 관련 내용이 없으면 station => station 검색 함수로 옮김\n",
    "        return print('station_to_station')\n",
    "\n",
    "    # 겹치는 노선만 들어있는 버스정류장\n",
    "    starting_bus = starting_point.query(\"bus == @bus_route_inter\")\n",
    "    ending_bus = bus_route_near_bike.query(\"bus == @bus_route_inter\")\n",
    "    \n",
    "\n",
    "    # 정류장 시작,종료 지점 모으기.. 머리 간질간질해 죽는줄..\n",
    "    bus_df = pd.DataFrame(columns=ending_bus.columns)\n",
    "    for num in bus_route_inter:\n",
    "        starting_order = starting_bus.query(\"bus==@num\")\n",
    "        ending_order = ending_bus.sort_values(by=[\"dist\",'order']).query(\"bus==@num\")[:2]\n",
    "\n",
    "        # 하행인 경우 ending.max - starting.max > 0 이며 상행인 경우 그 반대임.\n",
    "\n",
    "        #하행노선 찾기\n",
    "        if ending_order['order'].max() - starting_order['order'].max() >= 0 :\n",
    "            df = starting_order.sort_values(by='order',ascending=False)[:1]\n",
    "            bus_df = bus_df.append(df)\n",
    "            df = ending_order.sort_values(by='order',ascending=False)[:1]\n",
    "            bus_df = bus_df.append(df)\n",
    "            print('후아')\n",
    "\n",
    "        #상행노선 찾기\n",
    "        elif ending_order['order'].max() - starting_order['order'].max() < 0 :\n",
    "            df = starting_order.sort_values(by='order')[:1]\n",
    "            bus_df = bus_df.append(df)\n",
    "            df = ending_order.sort_values(by='order')[:1]\n",
    "            bus_df = bus_df.append(df)\n",
    "            print('머지')\n",
    "\n",
    "        \n",
    "    # 시작 위치가 1.5km이내에 있는 경우 버스 경로검색 안하도록 조치\n",
    "    if starting_order['id'].iloc[0] in bus_route_near_bike['id'].tolist() :\n",
    "        bus_df = starting_order.sort_values(by='order',ascending=False)[:1]\n",
    "        print('졸리')\n",
    "        # 아래 함수랑 연동시켜보자\n",
    "        return bus_df        \n",
    "\n",
    "    # 아래 함수랑 연동시켜보자\n",
    "    return bus_df\n",
    "\n",
    "\n",
    "pick_destination=finding_start_end(starting_point, ending_point)\n",
    "\n",
    "# 추천 dist 가까운 순으로 하기 \n",
    "# 만약 112클릭하면 111,112,113 버스정류장과 근처 따릉이 지도에 표시하기 \n",
    "# 112와 그 주변 따릉이 색은 다른곳과 다르게 찐하게 표시하기\n",
    "pick_destination"
   ]
  },
  {
   "cell_type": "code",
   "execution_count": 151,
   "metadata": {},
   "outputs": [
    {
     "data": {
      "text/html": [
       "<div>\n",
       "<style scoped>\n",
       "    .dataframe tbody tr th:only-of-type {\n",
       "        vertical-align: middle;\n",
       "    }\n",
       "\n",
       "    .dataframe tbody tr th {\n",
       "        vertical-align: top;\n",
       "    }\n",
       "\n",
       "    .dataframe thead th {\n",
       "        text-align: right;\n",
       "    }\n",
       "</style>\n",
       "<table border=\"1\" class=\"dataframe\">\n",
       "  <thead>\n",
       "    <tr style=\"text-align: right;\">\n",
       "      <th></th>\n",
       "      <th>bike_id</th>\n",
       "      <th>bus</th>\n",
       "      <th>order</th>\n",
       "      <th>id</th>\n",
       "      <th>name</th>\n",
       "      <th>경도</th>\n",
       "      <th>위도</th>\n",
       "      <th>dist</th>\n",
       "    </tr>\n",
       "  </thead>\n",
       "  <tbody>\n",
       "    <tr>\n",
       "      <th>523</th>\n",
       "      <td>[104,105,106]</td>\n",
       "      <td>N26</td>\n",
       "      <td>108</td>\n",
       "      <td>14012</td>\n",
       "      <td>합정역</td>\n",
       "      <td>126.913997</td>\n",
       "      <td>37.549682</td>\n",
       "      <td>NaN</td>\n",
       "    </tr>\n",
       "    <tr>\n",
       "      <th>527</th>\n",
       "      <td>[773,1169]</td>\n",
       "      <td>N26</td>\n",
       "      <td>112</td>\n",
       "      <td>16001</td>\n",
       "      <td>염창역.서울도시가스</td>\n",
       "      <td>126.875881</td>\n",
       "      <td>37.547097</td>\n",
       "      <td>665.465568</td>\n",
       "    </tr>\n",
       "  </tbody>\n",
       "</table>\n",
       "</div>"
      ],
      "text/plain": [
       "           bike_id  bus order     id        name          경도         위도  \\\n",
       "523  [104,105,106]  N26   108  14012         합정역  126.913997  37.549682   \n",
       "527     [773,1169]  N26   112  16001  염창역.서울도시가스  126.875881  37.547097   \n",
       "\n",
       "           dist  \n",
       "523         NaN  \n",
       "527  665.465568  "
      ]
     },
     "execution_count": 151,
     "metadata": {},
     "output_type": "execute_result"
    }
   ],
   "source": [
    "pick = pick_destination[:2]\n",
    "\n",
    "pick"
   ]
  },
  {
   "cell_type": "code",
   "execution_count": 152,
   "metadata": {},
   "outputs": [],
   "source": [
    "def bus_route_info(pick): \n",
    "    if pick.iloc[-1][\"id\"] == pick.iloc[0][\"id\"]:\n",
    "        print(\"버스를 타지 않았네\")\n",
    "        return [],[],[],[]\n",
    "    else:\n",
    "        # 범위선택\n",
    "        bus_order_start = pick[\"order\"].iloc[0]\n",
    "        bus_order_end = pick[\"order\"].iloc[-1]\n",
    "        bus_name = pick[\"bus\"].iloc[0]\n",
    "\n",
    "        # 자료 sorting\n",
    "        route_whole = near_bus.query(\n",
    "            \"@bus_order_start <= order <= @bus_order_end & bus == @bus_name\"\n",
    "        )[[\"name\", \"경도\", \"위도\",'order']].sort_values(by='order')\n",
    "        route_start = route_whole.iloc[0]\n",
    "        route_end = route_whole.iloc[-1]\n",
    "        route_start_and_end = pd.concat([route_start,route_end],axis=1).T\n",
    "        route_middle = route_whole.iloc[int(len(route_whole) / 2)]\n",
    "\n",
    "        #return\n",
    "        bus_route = [route_start_and_end, route_middle, route_whole]\n",
    "\n",
    "    return bus_route\n",
    "\n",
    "route_start_and_end, route_middle, route_whole = bus_route_info(pick)\n",
    "# return으로 bus route를 받으면 될듯\n",
    "# route end name은 출발, 끝 지점 텍스트 표시할때 사용하면 될듯"
   ]
  },
  {
   "cell_type": "code",
   "execution_count": 156,
   "metadata": {},
   "outputs": [
    {
     "data": {
      "text/html": [
       "<div>\n",
       "<style scoped>\n",
       "    .dataframe tbody tr th:only-of-type {\n",
       "        vertical-align: middle;\n",
       "    }\n",
       "\n",
       "    .dataframe tbody tr th {\n",
       "        vertical-align: top;\n",
       "    }\n",
       "\n",
       "    .dataframe thead th {\n",
       "        text-align: right;\n",
       "    }\n",
       "</style>\n",
       "<table border=\"1\" class=\"dataframe\">\n",
       "  <thead>\n",
       "    <tr style=\"text-align: right;\">\n",
       "      <th></th>\n",
       "      <th>주소2</th>\n",
       "      <th>위도</th>\n",
       "      <th>경도</th>\n",
       "      <th>id</th>\n",
       "      <th>time</th>\n",
       "      <th>num</th>\n",
       "      <th>dist</th>\n",
       "    </tr>\n",
       "  </thead>\n",
       "  <tbody>\n",
       "    <tr>\n",
       "      <th>0</th>\n",
       "      <td>염창역 3, 4번 출구 사이</td>\n",
       "      <td>37.546707</td>\n",
       "      <td>126.874573</td>\n",
       "      <td>773</td>\n",
       "      <td>8.0</td>\n",
       "      <td>723</td>\n",
       "      <td>0.44km</td>\n",
       "    </tr>\n",
       "    <tr>\n",
       "      <th>1</th>\n",
       "      <td>염창역 1번 출구</td>\n",
       "      <td>37.547199</td>\n",
       "      <td>126.874489</td>\n",
       "      <td>1169</td>\n",
       "      <td>9.0</td>\n",
       "      <td>231</td>\n",
       "      <td>0.47km</td>\n",
       "    </tr>\n",
       "  </tbody>\n",
       "</table>\n",
       "</div>"
      ],
      "text/plain": [
       "               주소2         위도          경도    id  time  num    dist\n",
       "0  염창역 3, 4번 출구 사이  37.546707  126.874573   773   8.0  723  0.44km\n",
       "1        염창역 1번 출구  37.547199  126.874489  1169   9.0  231  0.47km"
      ]
     },
     "execution_count": 156,
     "metadata": {},
     "output_type": "execute_result"
    }
   ],
   "source": [
    "## 외부 함수\n",
    "# 위에있는 데이터프레임이 들어가야함\n",
    "\n",
    "def bike_to_bike(bike_id: list[int] , ending_bike_id:int) :\n",
    "\n",
    "    # 추천_대여소_선정 : ast : '[123,]' => [123]으로 만들어줌 --> list\n",
    "    if type(bike_id) == str :\n",
    "        bike_id = ast.literal_eval(bike_id)\n",
    "    \n",
    "\n",
    "    # 추천 대여소 리스트 만들기 \n",
    "    BM_1 = (seoul_bike['st_id1'] == ending_point['id'].iloc[0]) & (seoul_bike['st_id2'].isin(bike_id))\n",
    "    BM_2 = (seoul_bike['st_id2'] == ending_point['id'].iloc[0]) & (seoul_bike['st_id1'].isin(bike_id))\n",
    "    seoul_bike_sorting = seoul_bike.loc[BM_1 | BM_2] # 거리 및 시간 계산을 위해 따로 추출\n",
    "\n",
    "    # 버스정류장 근처 대여소와 집 근처 대여소 거리 비교\n",
    "    ending_station = ending_point['id'].iloc[0]\n",
    "\n",
    "    bike_recommend =[]\n",
    "    for starting_station in bike_id:\n",
    "        BM_1 = (seoul_bike_sorting[\"st_id1\"] == starting_station) & (seoul_bike_sorting[\"st_id2\"] == ending_station)\n",
    "        BM_2 = (seoul_bike_sorting[\"st_id2\"] == starting_station) & (seoul_bike_sorting[\"st_id1\"] == ending_station)\n",
    "\n",
    "        # 평균거리 계산\n",
    "        mean_station = (\n",
    "            seoul_bike_sorting[BM_1 | BM_2][\"riding_time\"]\n",
    "            .value_counts()\n",
    "            .sort_values(ascending=False)[:5]\n",
    "            .index.values.mean()\n",
    "        )\n",
    "\n",
    "        # 이용기록 계산\n",
    "        num_station = len(seoul_bike_sorting[BM_1 | BM_2])\n",
    "\n",
    "        # 직선거리 계산\n",
    "        lat_1 = station.query(\"id==@starting_station\")[\"위도\"].values\n",
    "        lon_1 = station.query(\"id==@starting_station\")[\"경도\"].values\n",
    "        lat_2 = station.query(\"id==@ending_station\")[\"위도\"].values\n",
    "        lon_2 = station.query(\"id==@ending_station\")[\"경도\"].values\n",
    "        dist_station = haversine_np(lat_1, lon_1, lat_2, lon_2)\n",
    "        \n",
    "        #자료 저장\n",
    "        station_info = station.query('id==@starting_station')\n",
    "        bike_recommend.append([station_info['주소2'].iloc[0],station_info['위도'].iloc[0],station_info['경도'].iloc[0],starting_station, mean_station,num_station,f\"{dist_station[0]/1000 :.2f}km\"])\n",
    "\n",
    "    #return 값    \n",
    "    bike_recommend = pd.DataFrame(bike_recommend,columns=['주소2','위도','경도','id','time','num','dist'])\n",
    "\n",
    "    return bike_recommend\n",
    "\n",
    "\n",
    "\n",
    "# 16001 염창\n",
    "# 13045 충정로\n",
    "# starting_bus_id = 16002\n",
    "ending_bike_id = 754\n",
    "bike_id = pick.iloc[-1]['bike_id'] # bike_id는 무조건 리스트 형태로\n",
    "bike_recommend = bike_to_bike(bike_id, ending_bike_id)\n",
    "\n",
    "bike_recommend\n",
    "\n"
   ]
  },
  {
   "cell_type": "code",
   "execution_count": 172,
   "metadata": {},
   "outputs": [
    {
     "data": {
      "application/vnd.plotly.v1+json": {
       "config": {
        "plotlyServerURL": "https://plot.ly"
       },
       "data": [
        {
         "hovertemplate": "위도=%{lat}<br>경도=%{lon}<extra></extra>",
         "lat": [
          37.526989
         ],
         "legendgroup": "",
         "lon": [
          126.932098
         ],
         "marker": {
          "color": "white",
          "opacity": 0.001,
          "size": 10,
          "symbol": "circle"
         },
         "mode": "markers",
         "name": "",
         "showlegend": false,
         "subplot": "mapbox",
         "type": "scattermapbox"
        }
       ],
       "layout": {
        "legend": {
         "tracegroupgap": 0
        },
        "mapbox": {
         "accesstoken": "pk.eyJ1IjoieWFuZ29vcyIsImEiOiJjbDNqd2tkN2IwbGdmM2pvNzF0c2M4NnZkIn0.J3IjPYg3w28cGiWkUD7bnA",
         "center": {
          "lat": 37.526989,
          "lon": 126.932098
         },
         "domain": {
          "x": [
           0,
           1
          ],
          "y": [
           0,
           1
          ]
         },
         "zoom": 12
        },
        "margin": {
         "b": 20,
         "l": 20,
         "r": 20,
         "t": 20
        },
        "template": {
         "data": {
          "bar": [
           {
            "error_x": {
             "color": "#2a3f5f"
            },
            "error_y": {
             "color": "#2a3f5f"
            },
            "marker": {
             "line": {
              "color": "#E5ECF6",
              "width": 0.5
             },
             "pattern": {
              "fillmode": "overlay",
              "size": 10,
              "solidity": 0.2
             }
            },
            "type": "bar"
           }
          ],
          "barpolar": [
           {
            "marker": {
             "line": {
              "color": "#E5ECF6",
              "width": 0.5
             },
             "pattern": {
              "fillmode": "overlay",
              "size": 10,
              "solidity": 0.2
             }
            },
            "type": "barpolar"
           }
          ],
          "carpet": [
           {
            "aaxis": {
             "endlinecolor": "#2a3f5f",
             "gridcolor": "white",
             "linecolor": "white",
             "minorgridcolor": "white",
             "startlinecolor": "#2a3f5f"
            },
            "baxis": {
             "endlinecolor": "#2a3f5f",
             "gridcolor": "white",
             "linecolor": "white",
             "minorgridcolor": "white",
             "startlinecolor": "#2a3f5f"
            },
            "type": "carpet"
           }
          ],
          "choropleth": [
           {
            "colorbar": {
             "outlinewidth": 0,
             "ticks": ""
            },
            "type": "choropleth"
           }
          ],
          "contour": [
           {
            "colorbar": {
             "outlinewidth": 0,
             "ticks": ""
            },
            "colorscale": [
             [
              0,
              "#0d0887"
             ],
             [
              0.1111111111111111,
              "#46039f"
             ],
             [
              0.2222222222222222,
              "#7201a8"
             ],
             [
              0.3333333333333333,
              "#9c179e"
             ],
             [
              0.4444444444444444,
              "#bd3786"
             ],
             [
              0.5555555555555556,
              "#d8576b"
             ],
             [
              0.6666666666666666,
              "#ed7953"
             ],
             [
              0.7777777777777778,
              "#fb9f3a"
             ],
             [
              0.8888888888888888,
              "#fdca26"
             ],
             [
              1,
              "#f0f921"
             ]
            ],
            "type": "contour"
           }
          ],
          "contourcarpet": [
           {
            "colorbar": {
             "outlinewidth": 0,
             "ticks": ""
            },
            "type": "contourcarpet"
           }
          ],
          "heatmap": [
           {
            "colorbar": {
             "outlinewidth": 0,
             "ticks": ""
            },
            "colorscale": [
             [
              0,
              "#0d0887"
             ],
             [
              0.1111111111111111,
              "#46039f"
             ],
             [
              0.2222222222222222,
              "#7201a8"
             ],
             [
              0.3333333333333333,
              "#9c179e"
             ],
             [
              0.4444444444444444,
              "#bd3786"
             ],
             [
              0.5555555555555556,
              "#d8576b"
             ],
             [
              0.6666666666666666,
              "#ed7953"
             ],
             [
              0.7777777777777778,
              "#fb9f3a"
             ],
             [
              0.8888888888888888,
              "#fdca26"
             ],
             [
              1,
              "#f0f921"
             ]
            ],
            "type": "heatmap"
           }
          ],
          "heatmapgl": [
           {
            "colorbar": {
             "outlinewidth": 0,
             "ticks": ""
            },
            "colorscale": [
             [
              0,
              "#0d0887"
             ],
             [
              0.1111111111111111,
              "#46039f"
             ],
             [
              0.2222222222222222,
              "#7201a8"
             ],
             [
              0.3333333333333333,
              "#9c179e"
             ],
             [
              0.4444444444444444,
              "#bd3786"
             ],
             [
              0.5555555555555556,
              "#d8576b"
             ],
             [
              0.6666666666666666,
              "#ed7953"
             ],
             [
              0.7777777777777778,
              "#fb9f3a"
             ],
             [
              0.8888888888888888,
              "#fdca26"
             ],
             [
              1,
              "#f0f921"
             ]
            ],
            "type": "heatmapgl"
           }
          ],
          "histogram": [
           {
            "marker": {
             "pattern": {
              "fillmode": "overlay",
              "size": 10,
              "solidity": 0.2
             }
            },
            "type": "histogram"
           }
          ],
          "histogram2d": [
           {
            "colorbar": {
             "outlinewidth": 0,
             "ticks": ""
            },
            "colorscale": [
             [
              0,
              "#0d0887"
             ],
             [
              0.1111111111111111,
              "#46039f"
             ],
             [
              0.2222222222222222,
              "#7201a8"
             ],
             [
              0.3333333333333333,
              "#9c179e"
             ],
             [
              0.4444444444444444,
              "#bd3786"
             ],
             [
              0.5555555555555556,
              "#d8576b"
             ],
             [
              0.6666666666666666,
              "#ed7953"
             ],
             [
              0.7777777777777778,
              "#fb9f3a"
             ],
             [
              0.8888888888888888,
              "#fdca26"
             ],
             [
              1,
              "#f0f921"
             ]
            ],
            "type": "histogram2d"
           }
          ],
          "histogram2dcontour": [
           {
            "colorbar": {
             "outlinewidth": 0,
             "ticks": ""
            },
            "colorscale": [
             [
              0,
              "#0d0887"
             ],
             [
              0.1111111111111111,
              "#46039f"
             ],
             [
              0.2222222222222222,
              "#7201a8"
             ],
             [
              0.3333333333333333,
              "#9c179e"
             ],
             [
              0.4444444444444444,
              "#bd3786"
             ],
             [
              0.5555555555555556,
              "#d8576b"
             ],
             [
              0.6666666666666666,
              "#ed7953"
             ],
             [
              0.7777777777777778,
              "#fb9f3a"
             ],
             [
              0.8888888888888888,
              "#fdca26"
             ],
             [
              1,
              "#f0f921"
             ]
            ],
            "type": "histogram2dcontour"
           }
          ],
          "mesh3d": [
           {
            "colorbar": {
             "outlinewidth": 0,
             "ticks": ""
            },
            "type": "mesh3d"
           }
          ],
          "parcoords": [
           {
            "line": {
             "colorbar": {
              "outlinewidth": 0,
              "ticks": ""
             }
            },
            "type": "parcoords"
           }
          ],
          "pie": [
           {
            "automargin": true,
            "type": "pie"
           }
          ],
          "scatter": [
           {
            "marker": {
             "colorbar": {
              "outlinewidth": 0,
              "ticks": ""
             }
            },
            "type": "scatter"
           }
          ],
          "scatter3d": [
           {
            "line": {
             "colorbar": {
              "outlinewidth": 0,
              "ticks": ""
             }
            },
            "marker": {
             "colorbar": {
              "outlinewidth": 0,
              "ticks": ""
             }
            },
            "type": "scatter3d"
           }
          ],
          "scattercarpet": [
           {
            "marker": {
             "colorbar": {
              "outlinewidth": 0,
              "ticks": ""
             }
            },
            "type": "scattercarpet"
           }
          ],
          "scattergeo": [
           {
            "marker": {
             "colorbar": {
              "outlinewidth": 0,
              "ticks": ""
             }
            },
            "type": "scattergeo"
           }
          ],
          "scattergl": [
           {
            "marker": {
             "colorbar": {
              "outlinewidth": 0,
              "ticks": ""
             }
            },
            "type": "scattergl"
           }
          ],
          "scattermapbox": [
           {
            "marker": {
             "colorbar": {
              "outlinewidth": 0,
              "ticks": ""
             }
            },
            "type": "scattermapbox"
           }
          ],
          "scatterpolar": [
           {
            "marker": {
             "colorbar": {
              "outlinewidth": 0,
              "ticks": ""
             }
            },
            "type": "scatterpolar"
           }
          ],
          "scatterpolargl": [
           {
            "marker": {
             "colorbar": {
              "outlinewidth": 0,
              "ticks": ""
             }
            },
            "type": "scatterpolargl"
           }
          ],
          "scatterternary": [
           {
            "marker": {
             "colorbar": {
              "outlinewidth": 0,
              "ticks": ""
             }
            },
            "type": "scatterternary"
           }
          ],
          "surface": [
           {
            "colorbar": {
             "outlinewidth": 0,
             "ticks": ""
            },
            "colorscale": [
             [
              0,
              "#0d0887"
             ],
             [
              0.1111111111111111,
              "#46039f"
             ],
             [
              0.2222222222222222,
              "#7201a8"
             ],
             [
              0.3333333333333333,
              "#9c179e"
             ],
             [
              0.4444444444444444,
              "#bd3786"
             ],
             [
              0.5555555555555556,
              "#d8576b"
             ],
             [
              0.6666666666666666,
              "#ed7953"
             ],
             [
              0.7777777777777778,
              "#fb9f3a"
             ],
             [
              0.8888888888888888,
              "#fdca26"
             ],
             [
              1,
              "#f0f921"
             ]
            ],
            "type": "surface"
           }
          ],
          "table": [
           {
            "cells": {
             "fill": {
              "color": "#EBF0F8"
             },
             "line": {
              "color": "white"
             }
            },
            "header": {
             "fill": {
              "color": "#C8D4E3"
             },
             "line": {
              "color": "white"
             }
            },
            "type": "table"
           }
          ]
         },
         "layout": {
          "annotationdefaults": {
           "arrowcolor": "#2a3f5f",
           "arrowhead": 0,
           "arrowwidth": 1
          },
          "autotypenumbers": "strict",
          "coloraxis": {
           "colorbar": {
            "outlinewidth": 0,
            "ticks": ""
           }
          },
          "colorscale": {
           "diverging": [
            [
             0,
             "#8e0152"
            ],
            [
             0.1,
             "#c51b7d"
            ],
            [
             0.2,
             "#de77ae"
            ],
            [
             0.3,
             "#f1b6da"
            ],
            [
             0.4,
             "#fde0ef"
            ],
            [
             0.5,
             "#f7f7f7"
            ],
            [
             0.6,
             "#e6f5d0"
            ],
            [
             0.7,
             "#b8e186"
            ],
            [
             0.8,
             "#7fbc41"
            ],
            [
             0.9,
             "#4d9221"
            ],
            [
             1,
             "#276419"
            ]
           ],
           "sequential": [
            [
             0,
             "#0d0887"
            ],
            [
             0.1111111111111111,
             "#46039f"
            ],
            [
             0.2222222222222222,
             "#7201a8"
            ],
            [
             0.3333333333333333,
             "#9c179e"
            ],
            [
             0.4444444444444444,
             "#bd3786"
            ],
            [
             0.5555555555555556,
             "#d8576b"
            ],
            [
             0.6666666666666666,
             "#ed7953"
            ],
            [
             0.7777777777777778,
             "#fb9f3a"
            ],
            [
             0.8888888888888888,
             "#fdca26"
            ],
            [
             1,
             "#f0f921"
            ]
           ],
           "sequentialminus": [
            [
             0,
             "#0d0887"
            ],
            [
             0.1111111111111111,
             "#46039f"
            ],
            [
             0.2222222222222222,
             "#7201a8"
            ],
            [
             0.3333333333333333,
             "#9c179e"
            ],
            [
             0.4444444444444444,
             "#bd3786"
            ],
            [
             0.5555555555555556,
             "#d8576b"
            ],
            [
             0.6666666666666666,
             "#ed7953"
            ],
            [
             0.7777777777777778,
             "#fb9f3a"
            ],
            [
             0.8888888888888888,
             "#fdca26"
            ],
            [
             1,
             "#f0f921"
            ]
           ]
          },
          "colorway": [
           "#636efa",
           "#EF553B",
           "#00cc96",
           "#ab63fa",
           "#FFA15A",
           "#19d3f3",
           "#FF6692",
           "#B6E880",
           "#FF97FF",
           "#FECB52"
          ],
          "font": {
           "color": "#2a3f5f"
          },
          "geo": {
           "bgcolor": "white",
           "lakecolor": "white",
           "landcolor": "#E5ECF6",
           "showlakes": true,
           "showland": true,
           "subunitcolor": "white"
          },
          "hoverlabel": {
           "align": "left"
          },
          "hovermode": "closest",
          "mapbox": {
           "style": "light"
          },
          "paper_bgcolor": "white",
          "plot_bgcolor": "#E5ECF6",
          "polar": {
           "angularaxis": {
            "gridcolor": "white",
            "linecolor": "white",
            "ticks": ""
           },
           "bgcolor": "#E5ECF6",
           "radialaxis": {
            "gridcolor": "white",
            "linecolor": "white",
            "ticks": ""
           }
          },
          "scene": {
           "xaxis": {
            "backgroundcolor": "#E5ECF6",
            "gridcolor": "white",
            "gridwidth": 2,
            "linecolor": "white",
            "showbackground": true,
            "ticks": "",
            "zerolinecolor": "white"
           },
           "yaxis": {
            "backgroundcolor": "#E5ECF6",
            "gridcolor": "white",
            "gridwidth": 2,
            "linecolor": "white",
            "showbackground": true,
            "ticks": "",
            "zerolinecolor": "white"
           },
           "zaxis": {
            "backgroundcolor": "#E5ECF6",
            "gridcolor": "white",
            "gridwidth": 2,
            "linecolor": "white",
            "showbackground": true,
            "ticks": "",
            "zerolinecolor": "white"
           }
          },
          "shapedefaults": {
           "line": {
            "color": "#2a3f5f"
           }
          },
          "ternary": {
           "aaxis": {
            "gridcolor": "white",
            "linecolor": "white",
            "ticks": ""
           },
           "baxis": {
            "gridcolor": "white",
            "linecolor": "white",
            "ticks": ""
           },
           "bgcolor": "#E5ECF6",
           "caxis": {
            "gridcolor": "white",
            "linecolor": "white",
            "ticks": ""
           }
          },
          "title": {
           "x": 0.05
          },
          "xaxis": {
           "automargin": true,
           "gridcolor": "white",
           "linecolor": "white",
           "ticks": "",
           "title": {
            "standoff": 15
           },
           "zerolinecolor": "white",
           "zerolinewidth": 2
          },
          "yaxis": {
           "automargin": true,
           "gridcolor": "white",
           "linecolor": "white",
           "ticks": "",
           "title": {
            "standoff": 15
           },
           "zerolinecolor": "white",
           "zerolinewidth": 2
          }
         }
        }
       }
      }
     },
     "metadata": {},
     "output_type": "display_data"
    }
   ],
   "source": [
    "# trick figure\n",
    "fig = px.scatter_mapbox(station.query(\"id == 207\"), lat=\"위도\", lon=\"경도\",zoom=12)\n",
    "fig.update_traces(\n",
    "    marker=go.scattermapbox.Marker(symbol=\"circle\", size=10, opacity=0.001, color=\"white\")\n",
    ")\n",
    "\n",
    "fig.update_layout(\n",
    "    mapbox=dict(\n",
    "        accesstoken=\"pk.eyJ1IjoieWFuZ29vcyIsImEiOiJjbDNqd2tkN2IwbGdmM2pvNzF0c2M4NnZkIn0.J3IjPYg3w28cGiWkUD7bnA\",\n",
    "        # style='mapbox://styles/yangoos/cl3jubvl7000c14llgtoev0nm'\n",
    "    ),\n",
    "    margin=dict(l=20, r=20, t=20, b=20)\n",
    ")\n",
    "fig.show()"
   ]
  },
  {
   "cell_type": "code",
   "execution_count": 169,
   "metadata": {},
   "outputs": [
    {
     "data": {
      "application/vnd.plotly.v1+json": {
       "config": {
        "plotlyServerURL": "https://plot.ly"
       },
       "data": [
        {
         "hovertemplate": "위도=%{lat}<br>경도=%{lon}<extra></extra>",
         "lat": [
          37.546707,
          37.547199
         ],
         "legendgroup": "",
         "lon": [
          126.874573,
          126.874489
         ],
         "marker": {
          "color": "blue",
          "opacity": 0.7,
          "size": 10,
          "symbol": "circle"
         },
         "mode": "markers",
         "name": "",
         "showlegend": false,
         "subplot": "mapbox",
         "type": "scattermapbox"
        },
        {
         "lat": [
          37.5496253,
          37.5494964,
          37.5494837,
          37.5493084,
          37.5492274,
          37.5490891,
          37.549049,
          37.5489978,
          37.548916,
          37.5488127,
          37.5488006,
          37.5487536,
          37.5487323,
          37.548574,
          37.5484907,
          37.5483639,
          37.5482973,
          37.5482126,
          37.5481227,
          37.5479809,
          37.5478701,
          37.5478111,
          37.5476469,
          37.5475481,
          37.5473649,
          37.5468934,
          37.5468154,
          37.5466649,
          37.5466458,
          37.5464065,
          37.5462704,
          37.5452647,
          37.5438091,
          37.5429547,
          37.5426482,
          37.5424497,
          37.5424225,
          37.5422061,
          37.5420106,
          37.5419464,
          37.5418441,
          37.5417663,
          37.5398288,
          37.539541,
          37.5391402,
          37.5390949,
          37.5389266,
          37.5388974,
          37.53887,
          37.538858,
          37.53885,
          37.5388664,
          37.5389241,
          37.5390242,
          37.5392327,
          37.5398868,
          37.5404904,
          37.5407553,
          37.541003,
          37.5410683,
          37.5415251,
          37.5415805,
          37.5416216,
          37.5417182,
          37.5418415,
          37.5426407,
          37.5432256,
          37.5432711,
          37.5435141,
          37.5440355,
          37.54525,
          37.5453508,
          37.5454962,
          37.5455605,
          37.5456372,
          37.5457247,
          37.545889,
          37.5459078,
          37.5463993,
          37.5464582,
          37.5471664,
          37.5472645,
          37.5473064,
          37.5478406,
          37.5479302,
          37.5480072,
          37.5480151,
          37.548065,
          37.5480874,
          37.5480854,
          37.5480634,
          37.5480177,
          37.5476666,
          37.5476353,
          37.5473241,
          37.547248,
          37.5472406,
          37.547235,
          37.5472274,
          37.5471907,
          37.5471888,
          37.5471714,
          37.5471439,
          37.5471132
         ],
         "lon": [
          126.9140602,
          126.9138812,
          126.9138643,
          126.9135861,
          126.9134373,
          126.9131656,
          126.9130787,
          126.9129365,
          126.9126314,
          126.9121523,
          126.9120788,
          126.911864,
          126.9117567,
          126.91109,
          126.9108359,
          126.9103592,
          126.9102012,
          126.9100298,
          126.9098788,
          126.90964,
          126.9094801,
          126.9093956,
          126.9091954,
          126.9090751,
          126.9088535,
          126.9082923,
          126.9081979,
          126.9080179,
          126.9079977,
          126.9077132,
          126.9075479,
          126.9063253,
          126.904554,
          126.9034967,
          126.9031267,
          126.9029053,
          126.9028784,
          126.9026944,
          126.9025353,
          126.9024826,
          126.9023985,
          126.9023312,
          126.9008197,
          126.9005956,
          126.900283,
          126.9002471,
          126.8999451,
          126.8998639,
          126.8997962,
          126.8997374,
          126.8995869,
          126.8994374,
          126.8992739,
          126.8991124,
          126.8988119,
          126.8978751,
          126.8969216,
          126.8965516,
          126.8961727,
          126.8960669,
          126.895324,
          126.8952364,
          126.8951636,
          126.8950202,
          126.8947996,
          126.8933386,
          126.8922687,
          126.8921902,
          126.8917694,
          126.8908018,
          126.8884419,
          126.8882248,
          126.8879406,
          126.8878156,
          126.8876655,
          126.8874995,
          126.8872027,
          126.8871743,
          126.886199,
          126.886074,
          126.8846497,
          126.8844372,
          126.8843452,
          126.8832551,
          126.8829895,
          126.8827058,
          126.8826695,
          126.8823827,
          126.882018,
          126.8818177,
          126.8815586,
          126.8812794,
          126.8798117,
          126.8796761,
          126.8782637,
          126.8778488,
          126.8778217,
          126.8777788,
          126.8777166,
          126.8774169,
          126.8773897,
          126.8771634,
          126.8765671,
          126.8758791
         ],
         "marker": {
          "color": "#AD00FF",
          "opacity": 0.5,
          "size": 15,
          "symbol": "circle"
         },
         "mode": "lines",
         "type": "scattermapbox"
        },
        {
         "hovertemplate": "<b>%{hovertext}</b><br><br>위도=%{lat}<br>경도=%{lon}<extra></extra>",
         "hovertext": [
          "합정역",
          "염창역.서울도시가스"
         ],
         "lat": [
          37.549682,
          37.547097
         ],
         "legendgroup": "",
         "lon": [
          126.913997,
          126.875881
         ],
         "marker": {
          "color": "#AD00FF",
          "opacity": 0.7,
          "size": 10,
          "symbol": "circle"
         },
         "mode": "markers",
         "name": "",
         "showlegend": false,
         "subplot": "mapbox",
         "type": "scattermapbox"
        },
        {
         "lat": [
          37.546848,
          37.546707,
          37.547199,
          37.550049,
          37.547485,
          37.5490303
         ],
         "lon": [
          126.872772,
          126.874573,
          126.874489,
          126.873161,
          126.872025,
          126.8783646
         ],
         "marker": {
          "color": "black",
          "opacity": 0.2,
          "size": 8
         },
         "mode": "markers",
         "name": "station with in 0.5km",
         "text": [
          "KB국민은행 염창역 지점 앞",
          "염창역 3, 4번 출구 사이",
          "염창역 1번 출구",
          "염창동 새마을금고 건너편 (모닝글로리)",
          "서울도시가스 앞 ",
          "나이아가라관광호텔"
         ],
         "type": "scattermapbox"
        },
        {
         "lat": [
          37.541142
         ],
         "lon": [
          126.876678
         ],
         "marker": {
          "color": "fuchsia",
          "opacity": 0.8,
          "size": 10
         },
         "mode": "markers",
         "name": "location",
         "text": [
          "목동1단지아파트 118동 앞 (월촌초등학교 정류소 옆"
         ],
         "type": "scattermapbox"
        }
       ],
       "layout": {
        "legend": {
         "tracegroupgap": 0
        },
        "mapbox": {
         "accesstoken": "pk.eyJ1IjoieWFuZ29vcyIsImEiOiJjbDNqd2tkN2IwbGdmM2pvNzF0c2M4NnZkIn0.J3IjPYg3w28cGiWkUD7bnA",
         "center": {
          "lat": 37.546953,
          "lon": 126.87453099999999
         },
         "domain": {
          "x": [
           0,
           1
          ],
          "y": [
           0,
           1
          ]
         },
         "zoom": 8
        },
        "margin": {
         "b": 20,
         "l": 20,
         "r": 20,
         "t": 20
        },
        "template": {
         "data": {
          "bar": [
           {
            "error_x": {
             "color": "#2a3f5f"
            },
            "error_y": {
             "color": "#2a3f5f"
            },
            "marker": {
             "line": {
              "color": "#E5ECF6",
              "width": 0.5
             },
             "pattern": {
              "fillmode": "overlay",
              "size": 10,
              "solidity": 0.2
             }
            },
            "type": "bar"
           }
          ],
          "barpolar": [
           {
            "marker": {
             "line": {
              "color": "#E5ECF6",
              "width": 0.5
             },
             "pattern": {
              "fillmode": "overlay",
              "size": 10,
              "solidity": 0.2
             }
            },
            "type": "barpolar"
           }
          ],
          "carpet": [
           {
            "aaxis": {
             "endlinecolor": "#2a3f5f",
             "gridcolor": "white",
             "linecolor": "white",
             "minorgridcolor": "white",
             "startlinecolor": "#2a3f5f"
            },
            "baxis": {
             "endlinecolor": "#2a3f5f",
             "gridcolor": "white",
             "linecolor": "white",
             "minorgridcolor": "white",
             "startlinecolor": "#2a3f5f"
            },
            "type": "carpet"
           }
          ],
          "choropleth": [
           {
            "colorbar": {
             "outlinewidth": 0,
             "ticks": ""
            },
            "type": "choropleth"
           }
          ],
          "contour": [
           {
            "colorbar": {
             "outlinewidth": 0,
             "ticks": ""
            },
            "colorscale": [
             [
              0,
              "#0d0887"
             ],
             [
              0.1111111111111111,
              "#46039f"
             ],
             [
              0.2222222222222222,
              "#7201a8"
             ],
             [
              0.3333333333333333,
              "#9c179e"
             ],
             [
              0.4444444444444444,
              "#bd3786"
             ],
             [
              0.5555555555555556,
              "#d8576b"
             ],
             [
              0.6666666666666666,
              "#ed7953"
             ],
             [
              0.7777777777777778,
              "#fb9f3a"
             ],
             [
              0.8888888888888888,
              "#fdca26"
             ],
             [
              1,
              "#f0f921"
             ]
            ],
            "type": "contour"
           }
          ],
          "contourcarpet": [
           {
            "colorbar": {
             "outlinewidth": 0,
             "ticks": ""
            },
            "type": "contourcarpet"
           }
          ],
          "heatmap": [
           {
            "colorbar": {
             "outlinewidth": 0,
             "ticks": ""
            },
            "colorscale": [
             [
              0,
              "#0d0887"
             ],
             [
              0.1111111111111111,
              "#46039f"
             ],
             [
              0.2222222222222222,
              "#7201a8"
             ],
             [
              0.3333333333333333,
              "#9c179e"
             ],
             [
              0.4444444444444444,
              "#bd3786"
             ],
             [
              0.5555555555555556,
              "#d8576b"
             ],
             [
              0.6666666666666666,
              "#ed7953"
             ],
             [
              0.7777777777777778,
              "#fb9f3a"
             ],
             [
              0.8888888888888888,
              "#fdca26"
             ],
             [
              1,
              "#f0f921"
             ]
            ],
            "type": "heatmap"
           }
          ],
          "heatmapgl": [
           {
            "colorbar": {
             "outlinewidth": 0,
             "ticks": ""
            },
            "colorscale": [
             [
              0,
              "#0d0887"
             ],
             [
              0.1111111111111111,
              "#46039f"
             ],
             [
              0.2222222222222222,
              "#7201a8"
             ],
             [
              0.3333333333333333,
              "#9c179e"
             ],
             [
              0.4444444444444444,
              "#bd3786"
             ],
             [
              0.5555555555555556,
              "#d8576b"
             ],
             [
              0.6666666666666666,
              "#ed7953"
             ],
             [
              0.7777777777777778,
              "#fb9f3a"
             ],
             [
              0.8888888888888888,
              "#fdca26"
             ],
             [
              1,
              "#f0f921"
             ]
            ],
            "type": "heatmapgl"
           }
          ],
          "histogram": [
           {
            "marker": {
             "pattern": {
              "fillmode": "overlay",
              "size": 10,
              "solidity": 0.2
             }
            },
            "type": "histogram"
           }
          ],
          "histogram2d": [
           {
            "colorbar": {
             "outlinewidth": 0,
             "ticks": ""
            },
            "colorscale": [
             [
              0,
              "#0d0887"
             ],
             [
              0.1111111111111111,
              "#46039f"
             ],
             [
              0.2222222222222222,
              "#7201a8"
             ],
             [
              0.3333333333333333,
              "#9c179e"
             ],
             [
              0.4444444444444444,
              "#bd3786"
             ],
             [
              0.5555555555555556,
              "#d8576b"
             ],
             [
              0.6666666666666666,
              "#ed7953"
             ],
             [
              0.7777777777777778,
              "#fb9f3a"
             ],
             [
              0.8888888888888888,
              "#fdca26"
             ],
             [
              1,
              "#f0f921"
             ]
            ],
            "type": "histogram2d"
           }
          ],
          "histogram2dcontour": [
           {
            "colorbar": {
             "outlinewidth": 0,
             "ticks": ""
            },
            "colorscale": [
             [
              0,
              "#0d0887"
             ],
             [
              0.1111111111111111,
              "#46039f"
             ],
             [
              0.2222222222222222,
              "#7201a8"
             ],
             [
              0.3333333333333333,
              "#9c179e"
             ],
             [
              0.4444444444444444,
              "#bd3786"
             ],
             [
              0.5555555555555556,
              "#d8576b"
             ],
             [
              0.6666666666666666,
              "#ed7953"
             ],
             [
              0.7777777777777778,
              "#fb9f3a"
             ],
             [
              0.8888888888888888,
              "#fdca26"
             ],
             [
              1,
              "#f0f921"
             ]
            ],
            "type": "histogram2dcontour"
           }
          ],
          "mesh3d": [
           {
            "colorbar": {
             "outlinewidth": 0,
             "ticks": ""
            },
            "type": "mesh3d"
           }
          ],
          "parcoords": [
           {
            "line": {
             "colorbar": {
              "outlinewidth": 0,
              "ticks": ""
             }
            },
            "type": "parcoords"
           }
          ],
          "pie": [
           {
            "automargin": true,
            "type": "pie"
           }
          ],
          "scatter": [
           {
            "marker": {
             "colorbar": {
              "outlinewidth": 0,
              "ticks": ""
             }
            },
            "type": "scatter"
           }
          ],
          "scatter3d": [
           {
            "line": {
             "colorbar": {
              "outlinewidth": 0,
              "ticks": ""
             }
            },
            "marker": {
             "colorbar": {
              "outlinewidth": 0,
              "ticks": ""
             }
            },
            "type": "scatter3d"
           }
          ],
          "scattercarpet": [
           {
            "marker": {
             "colorbar": {
              "outlinewidth": 0,
              "ticks": ""
             }
            },
            "type": "scattercarpet"
           }
          ],
          "scattergeo": [
           {
            "marker": {
             "colorbar": {
              "outlinewidth": 0,
              "ticks": ""
             }
            },
            "type": "scattergeo"
           }
          ],
          "scattergl": [
           {
            "marker": {
             "colorbar": {
              "outlinewidth": 0,
              "ticks": ""
             }
            },
            "type": "scattergl"
           }
          ],
          "scattermapbox": [
           {
            "marker": {
             "colorbar": {
              "outlinewidth": 0,
              "ticks": ""
             }
            },
            "type": "scattermapbox"
           }
          ],
          "scatterpolar": [
           {
            "marker": {
             "colorbar": {
              "outlinewidth": 0,
              "ticks": ""
             }
            },
            "type": "scatterpolar"
           }
          ],
          "scatterpolargl": [
           {
            "marker": {
             "colorbar": {
              "outlinewidth": 0,
              "ticks": ""
             }
            },
            "type": "scatterpolargl"
           }
          ],
          "scatterternary": [
           {
            "marker": {
             "colorbar": {
              "outlinewidth": 0,
              "ticks": ""
             }
            },
            "type": "scatterternary"
           }
          ],
          "surface": [
           {
            "colorbar": {
             "outlinewidth": 0,
             "ticks": ""
            },
            "colorscale": [
             [
              0,
              "#0d0887"
             ],
             [
              0.1111111111111111,
              "#46039f"
             ],
             [
              0.2222222222222222,
              "#7201a8"
             ],
             [
              0.3333333333333333,
              "#9c179e"
             ],
             [
              0.4444444444444444,
              "#bd3786"
             ],
             [
              0.5555555555555556,
              "#d8576b"
             ],
             [
              0.6666666666666666,
              "#ed7953"
             ],
             [
              0.7777777777777778,
              "#fb9f3a"
             ],
             [
              0.8888888888888888,
              "#fdca26"
             ],
             [
              1,
              "#f0f921"
             ]
            ],
            "type": "surface"
           }
          ],
          "table": [
           {
            "cells": {
             "fill": {
              "color": "#EBF0F8"
             },
             "line": {
              "color": "white"
             }
            },
            "header": {
             "fill": {
              "color": "#C8D4E3"
             },
             "line": {
              "color": "white"
             }
            },
            "type": "table"
           }
          ]
         },
         "layout": {
          "annotationdefaults": {
           "arrowcolor": "#2a3f5f",
           "arrowhead": 0,
           "arrowwidth": 1
          },
          "autotypenumbers": "strict",
          "coloraxis": {
           "colorbar": {
            "outlinewidth": 0,
            "ticks": ""
           }
          },
          "colorscale": {
           "diverging": [
            [
             0,
             "#8e0152"
            ],
            [
             0.1,
             "#c51b7d"
            ],
            [
             0.2,
             "#de77ae"
            ],
            [
             0.3,
             "#f1b6da"
            ],
            [
             0.4,
             "#fde0ef"
            ],
            [
             0.5,
             "#f7f7f7"
            ],
            [
             0.6,
             "#e6f5d0"
            ],
            [
             0.7,
             "#b8e186"
            ],
            [
             0.8,
             "#7fbc41"
            ],
            [
             0.9,
             "#4d9221"
            ],
            [
             1,
             "#276419"
            ]
           ],
           "sequential": [
            [
             0,
             "#0d0887"
            ],
            [
             0.1111111111111111,
             "#46039f"
            ],
            [
             0.2222222222222222,
             "#7201a8"
            ],
            [
             0.3333333333333333,
             "#9c179e"
            ],
            [
             0.4444444444444444,
             "#bd3786"
            ],
            [
             0.5555555555555556,
             "#d8576b"
            ],
            [
             0.6666666666666666,
             "#ed7953"
            ],
            [
             0.7777777777777778,
             "#fb9f3a"
            ],
            [
             0.8888888888888888,
             "#fdca26"
            ],
            [
             1,
             "#f0f921"
            ]
           ],
           "sequentialminus": [
            [
             0,
             "#0d0887"
            ],
            [
             0.1111111111111111,
             "#46039f"
            ],
            [
             0.2222222222222222,
             "#7201a8"
            ],
            [
             0.3333333333333333,
             "#9c179e"
            ],
            [
             0.4444444444444444,
             "#bd3786"
            ],
            [
             0.5555555555555556,
             "#d8576b"
            ],
            [
             0.6666666666666666,
             "#ed7953"
            ],
            [
             0.7777777777777778,
             "#fb9f3a"
            ],
            [
             0.8888888888888888,
             "#fdca26"
            ],
            [
             1,
             "#f0f921"
            ]
           ]
          },
          "colorway": [
           "#636efa",
           "#EF553B",
           "#00cc96",
           "#ab63fa",
           "#FFA15A",
           "#19d3f3",
           "#FF6692",
           "#B6E880",
           "#FF97FF",
           "#FECB52"
          ],
          "font": {
           "color": "#2a3f5f"
          },
          "geo": {
           "bgcolor": "white",
           "lakecolor": "white",
           "landcolor": "#E5ECF6",
           "showlakes": true,
           "showland": true,
           "subunitcolor": "white"
          },
          "hoverlabel": {
           "align": "left"
          },
          "hovermode": "closest",
          "mapbox": {
           "style": "light"
          },
          "paper_bgcolor": "white",
          "plot_bgcolor": "#E5ECF6",
          "polar": {
           "angularaxis": {
            "gridcolor": "white",
            "linecolor": "white",
            "ticks": ""
           },
           "bgcolor": "#E5ECF6",
           "radialaxis": {
            "gridcolor": "white",
            "linecolor": "white",
            "ticks": ""
           }
          },
          "scene": {
           "xaxis": {
            "backgroundcolor": "#E5ECF6",
            "gridcolor": "white",
            "gridwidth": 2,
            "linecolor": "white",
            "showbackground": true,
            "ticks": "",
            "zerolinecolor": "white"
           },
           "yaxis": {
            "backgroundcolor": "#E5ECF6",
            "gridcolor": "white",
            "gridwidth": 2,
            "linecolor": "white",
            "showbackground": true,
            "ticks": "",
            "zerolinecolor": "white"
           },
           "zaxis": {
            "backgroundcolor": "#E5ECF6",
            "gridcolor": "white",
            "gridwidth": 2,
            "linecolor": "white",
            "showbackground": true,
            "ticks": "",
            "zerolinecolor": "white"
           }
          },
          "shapedefaults": {
           "line": {
            "color": "#2a3f5f"
           }
          },
          "ternary": {
           "aaxis": {
            "gridcolor": "white",
            "linecolor": "white",
            "ticks": ""
           },
           "baxis": {
            "gridcolor": "white",
            "linecolor": "white",
            "ticks": ""
           },
           "bgcolor": "#E5ECF6",
           "caxis": {
            "gridcolor": "white",
            "linecolor": "white",
            "ticks": ""
           }
          },
          "title": {
           "x": 0.05
          },
          "xaxis": {
           "automargin": true,
           "gridcolor": "white",
           "linecolor": "white",
           "ticks": "",
           "title": {
            "standoff": 15
           },
           "zerolinecolor": "white",
           "zerolinewidth": 2
          },
          "yaxis": {
           "automargin": true,
           "gridcolor": "white",
           "linecolor": "white",
           "ticks": "",
           "title": {
            "standoff": 15
           },
           "zerolinecolor": "white",
           "zerolinewidth": 2
          }
         }
        }
       }
      }
     },
     "metadata": {},
     "output_type": "display_data"
    }
   ],
   "source": [
    "# trick figure\n",
    "fig = px.scatter_mapbox(station.query(\"id == 207\"), lat=\"위도\", lon=\"경도\")\n",
    "fig.update_traces(\n",
    "    marker=go.scattermapbox.Marker(symbol=\"circle\", size=10, opacity=0.001, color=\"white\")\n",
    ")\n",
    "\n",
    "\n",
    "# -- 추천 대여소 그리기 -- #\n",
    "recomend_id = result_recommend['id'].tolist()\n",
    "fig = px.scatter_mapbox(station.query(\"id == @recomend_id\"), lat=\"위도\", lon=\"경도\")\n",
    "fig.update_traces(\n",
    "    marker=go.scattermapbox.Marker(symbol=\"circle\", size=10, opacity=0.7, color=\"blue\")\n",
    ")\n",
    "\n",
    "\n",
    "# -- 추천 경로 그리기 -- # \n",
    "def get_optimal_route(start, goal, waypoints=[\"\", \"\"], option=\"traoptimal\"):\n",
    "    client_id = '44vlsxxinm'\n",
    "    client_secret = 'BOHC6psFnLkjdRrlkLn24S1apLUTsuzrCnMuCi4A'\n",
    "    # start=/goal=/(waypoint=)/(option=) 순으로 request parameter 지정\n",
    "    url = f\"https://naveropenapi.apigw.ntruss.com/map-direction-15/v1/driving?start={start[0]},{start[1]}&waypoint={waypoints[0]},{waypoints[1]}&goal={goal[0]},{goal[1]}&option={option}\"\n",
    "    request = urllib.request.Request(url)\n",
    "    request.add_header(\"X-NCP-APIGW-API-KEY-ID\", client_id)\n",
    "    request.add_header(\"X-NCP-APIGW-API-KEY\", client_secret)\n",
    "\n",
    "    response = urllib.request.urlopen(request)\n",
    "    res = response.getcode()\n",
    "\n",
    "    if res == 200:\n",
    "        response_body = response.read().decode(\"utf-8\")\n",
    "        return json.loads(response_body)\n",
    "\n",
    "    else:\n",
    "        print(\"ERROR\")\n",
    "\n",
    "\n",
    "#변수 \n",
    "# option : 탐색옵션 [최대 3개, traoptimal(기본 옵션)\n",
    "# / trafast, tracomfort, traavoidtoll, traavoidcaronly]\n",
    "option = \"traoptimal\"\n",
    "starting_bus = route_start_and_end[['경도','위도']].values[0]\n",
    "ending_bus = route_start_and_end[['경도','위도']].values[1]\n",
    "way_bus  = route_middle[['경도','위도']].values\n",
    "\n",
    "result = get_optimal_route(starting_bus, ending_bus,way_bus)\n",
    "\n",
    "\n",
    "a = result.get('route').get(option)[0].get('path')\n",
    "b = pd.DataFrame(a)\n",
    "\n",
    "fig_1 = go.Figure(\n",
    "    go.Scattermapbox(\n",
    "        lat=b[1],\n",
    "        lon=b[0],\n",
    "        mode=\"lines\",\n",
    "        marker=dict(symbol=\"circle\", size=15, color='#AD00FF' , opacity=0.5),\n",
    "    )\n",
    ")\n",
    "fig.add_trace(fig_1.data[0])\n",
    "\n",
    "\n",
    "# -- bus 정류장 그리기 --#\n",
    "fig_2 = px.scatter_mapbox(route_start_and_end, lat=\"위도\", lon=\"경도\", hover_name=\"name\",zoom=11,height=500\n",
    ")\n",
    "fig_2.update_traces(\n",
    "    marker=go.scattermapbox.Marker(symbol=\"circle\", size=10, opacity=0.7, color=\"#AD00FF\")\n",
    ")\n",
    "fig.add_trace(fig_2.data[0])\n",
    "\n",
    "\n",
    "# --반경 내 따릉이 대여소 그리기--#\n",
    "\n",
    "# 거리 계산\n",
    "station_haversine = haversine_np(\n",
    "    pick.iloc[-1][\"경도\"],\n",
    "    pick.iloc[-1][\"위도\"],\n",
    "    station[\"경도\"].values,\n",
    "    station[\"위도\"].values,\n",
    ")\n",
    "\n",
    "# 데이터 추가\n",
    "around_station = station.copy()\n",
    "around_station['dist'] = station_haversine\n",
    "around_station = around_station[around_station['dist'] < 500] \n",
    "\n",
    "# 시각화\n",
    "fig_3 = go.Figure(\n",
    "    go.Scattermapbox(\n",
    "        name=f\"station with in {round(500/1000,2)}km\",\n",
    "        lat=around_station[\"위도\"],\n",
    "        lon=around_station[\"경도\"],\n",
    "        mode=\"markers\",\n",
    "        # marker = {'size': 20, 'symbol': \"bus\"},\n",
    "        marker=go.scattermapbox.Marker(size=8, color=\"black\", opacity=0.2),\n",
    "        text=around_station[\"주소2\"],\n",
    "    )\n",
    ")\n",
    "fig.add_trace(fig_3.data[0])\n",
    "\n",
    "# --목적지 대여소 그리기 -- #\n",
    "fig_4 = go.Figure(\n",
    "    go.Scattermapbox(\n",
    "        name=\"location\",\n",
    "        lat=ending_point[\"위도\"],\n",
    "        lon=ending_point[\"경도\"],\n",
    "        mode=\"markers\",\n",
    "        # marker = {'size': 20, 'symbol': \"bus\"},\n",
    "        marker=go.scattermapbox.Marker(size=10, color=\"fuchsia\", opacity=0.8),\n",
    "        text=ending_point[\"주소2\"].values,\n",
    "    )\n",
    ")\n",
    "fig.add_trace(fig_4.data[0])\n",
    "\n",
    "fig.update_layout(\n",
    "    mapbox=dict(\n",
    "        accesstoken=\"pk.eyJ1IjoieWFuZ29vcyIsImEiOiJjbDNqd2tkN2IwbGdmM2pvNzF0c2M4NnZkIn0.J3IjPYg3w28cGiWkUD7bnA\",\n",
    "        # style='mapbox://styles/yangoos/cl3jubvl7000c14llgtoev0nm'\n",
    "    ),\n",
    "    margin=dict(l=20, r=20, t=20, b=20)\n",
    ")\n",
    "fig.show()\n"
   ]
  },
  {
   "cell_type": "code",
   "execution_count": null,
   "metadata": {},
   "outputs": [
    {
     "data": {
      "text/plain": [
       "126.874489"
      ]
     },
     "execution_count": 17,
     "metadata": {},
     "output_type": "execute_result"
    }
   ],
   "source": [
    "ending_point  = station.query(\"id == @ending_bike_id\")[['경도','위도']].values[0]\n",
    "\n",
    "starting_point = result_recommend[['경도','위도']].values[0]\n"
   ]
  },
  {
   "cell_type": "markdown",
   "metadata": {},
   "source": [
    "> ### 길찾기 기능(비추..)"
   ]
  },
  {
   "cell_type": "code",
   "execution_count": null,
   "metadata": {},
   "outputs": [
    {
     "data": {
      "application/vnd.plotly.v1+json": {
       "config": {
        "plotlyServerURL": "https://plot.ly"
       },
       "data": [
        {
         "lat": [
          37.5496253,
          37.5494964,
          37.5494837,
          37.5493084,
          37.5492274,
          37.5490891,
          37.549049,
          37.5489978,
          37.548916,
          37.5488127,
          37.5488006,
          37.5487536,
          37.5487323,
          37.548574,
          37.5484907,
          37.5483639,
          37.5482973,
          37.5482126,
          37.5481227,
          37.5479809,
          37.5478701,
          37.5478111,
          37.5476469,
          37.5475481,
          37.5473649,
          37.5468934,
          37.5468154,
          37.5466649,
          37.5466458,
          37.5464065,
          37.5462704,
          37.5452647,
          37.5438091,
          37.5429547,
          37.5426482,
          37.5424497,
          37.5424225,
          37.5422061,
          37.5420106,
          37.5419464,
          37.5418441,
          37.5417663,
          37.5398288,
          37.539541,
          37.5391402,
          37.5390949,
          37.5389266,
          37.5388974,
          37.53887,
          37.538858,
          37.53885,
          37.5388664,
          37.5389241,
          37.5390242,
          37.5392327,
          37.5398868,
          37.5404904,
          37.5407553,
          37.541003,
          37.5410683,
          37.5415251,
          37.5415805,
          37.5416216,
          37.5417182,
          37.5418415,
          37.5426407,
          37.5432256,
          37.5432711,
          37.5435141,
          37.5440355,
          37.54525,
          37.5453508,
          37.5454962,
          37.5455605,
          37.5456372,
          37.5457247,
          37.545889,
          37.5459078,
          37.5463993,
          37.5464582,
          37.5471664,
          37.5472645,
          37.5473064,
          37.5478406,
          37.5479302,
          37.5480072,
          37.5480151,
          37.548065,
          37.5480874,
          37.5480854,
          37.5480634,
          37.5480177,
          37.5476666,
          37.5476353,
          37.5473241,
          37.547248,
          37.5472406,
          37.547235,
          37.5472274,
          37.5471907,
          37.5471888,
          37.5471714,
          37.5471439,
          37.5471132
         ],
         "lon": [
          126.9140602,
          126.9138812,
          126.9138643,
          126.9135861,
          126.9134373,
          126.9131656,
          126.9130787,
          126.9129365,
          126.9126314,
          126.9121523,
          126.9120788,
          126.911864,
          126.9117567,
          126.91109,
          126.9108359,
          126.9103592,
          126.9102012,
          126.9100298,
          126.9098788,
          126.90964,
          126.9094801,
          126.9093956,
          126.9091954,
          126.9090751,
          126.9088535,
          126.9082923,
          126.9081979,
          126.9080179,
          126.9079977,
          126.9077132,
          126.9075479,
          126.9063253,
          126.904554,
          126.9034967,
          126.9031267,
          126.9029053,
          126.9028784,
          126.9026944,
          126.9025353,
          126.9024826,
          126.9023985,
          126.9023312,
          126.9008197,
          126.9005956,
          126.900283,
          126.9002471,
          126.8999451,
          126.8998639,
          126.8997962,
          126.8997374,
          126.8995869,
          126.8994374,
          126.8992739,
          126.8991124,
          126.8988119,
          126.8978751,
          126.8969216,
          126.8965516,
          126.8961727,
          126.8960669,
          126.895324,
          126.8952364,
          126.8951636,
          126.8950202,
          126.8947996,
          126.8933386,
          126.8922687,
          126.8921902,
          126.8917694,
          126.8908018,
          126.8884419,
          126.8882248,
          126.8879406,
          126.8878156,
          126.8876655,
          126.8874995,
          126.8872027,
          126.8871743,
          126.886199,
          126.886074,
          126.8846497,
          126.8844372,
          126.8843452,
          126.8832551,
          126.8829895,
          126.8827058,
          126.8826695,
          126.8823827,
          126.882018,
          126.8818177,
          126.8815586,
          126.8812794,
          126.8798117,
          126.8796761,
          126.8782637,
          126.8778488,
          126.8778217,
          126.8777788,
          126.8777166,
          126.8774169,
          126.8773897,
          126.8771634,
          126.8765671,
          126.8758791
         ],
         "marker": {
          "color": "#AD00FF",
          "opacity": 0.5,
          "size": 15,
          "symbol": "circle"
         },
         "mode": "lines",
         "type": "scattermapbox"
        }
       ],
       "layout": {
        "mapbox": {
         "accesstoken": "pk.eyJ1IjoieWFuZ29vcyIsImEiOiJjbDNqd2tkN2IwbGdmM2pvNzF0c2M4NnZkIn0.J3IjPYg3w28cGiWkUD7bnA",
         "center": {
          "lat": 37.58,
          "lon": 126.87
         },
         "zoom": 10
        },
        "margin": {
         "b": 20,
         "l": 20,
         "r": 20,
         "t": 20
        },
        "template": {
         "data": {
          "bar": [
           {
            "error_x": {
             "color": "#2a3f5f"
            },
            "error_y": {
             "color": "#2a3f5f"
            },
            "marker": {
             "line": {
              "color": "#E5ECF6",
              "width": 0.5
             },
             "pattern": {
              "fillmode": "overlay",
              "size": 10,
              "solidity": 0.2
             }
            },
            "type": "bar"
           }
          ],
          "barpolar": [
           {
            "marker": {
             "line": {
              "color": "#E5ECF6",
              "width": 0.5
             },
             "pattern": {
              "fillmode": "overlay",
              "size": 10,
              "solidity": 0.2
             }
            },
            "type": "barpolar"
           }
          ],
          "carpet": [
           {
            "aaxis": {
             "endlinecolor": "#2a3f5f",
             "gridcolor": "white",
             "linecolor": "white",
             "minorgridcolor": "white",
             "startlinecolor": "#2a3f5f"
            },
            "baxis": {
             "endlinecolor": "#2a3f5f",
             "gridcolor": "white",
             "linecolor": "white",
             "minorgridcolor": "white",
             "startlinecolor": "#2a3f5f"
            },
            "type": "carpet"
           }
          ],
          "choropleth": [
           {
            "colorbar": {
             "outlinewidth": 0,
             "ticks": ""
            },
            "type": "choropleth"
           }
          ],
          "contour": [
           {
            "colorbar": {
             "outlinewidth": 0,
             "ticks": ""
            },
            "colorscale": [
             [
              0,
              "#0d0887"
             ],
             [
              0.1111111111111111,
              "#46039f"
             ],
             [
              0.2222222222222222,
              "#7201a8"
             ],
             [
              0.3333333333333333,
              "#9c179e"
             ],
             [
              0.4444444444444444,
              "#bd3786"
             ],
             [
              0.5555555555555556,
              "#d8576b"
             ],
             [
              0.6666666666666666,
              "#ed7953"
             ],
             [
              0.7777777777777778,
              "#fb9f3a"
             ],
             [
              0.8888888888888888,
              "#fdca26"
             ],
             [
              1,
              "#f0f921"
             ]
            ],
            "type": "contour"
           }
          ],
          "contourcarpet": [
           {
            "colorbar": {
             "outlinewidth": 0,
             "ticks": ""
            },
            "type": "contourcarpet"
           }
          ],
          "heatmap": [
           {
            "colorbar": {
             "outlinewidth": 0,
             "ticks": ""
            },
            "colorscale": [
             [
              0,
              "#0d0887"
             ],
             [
              0.1111111111111111,
              "#46039f"
             ],
             [
              0.2222222222222222,
              "#7201a8"
             ],
             [
              0.3333333333333333,
              "#9c179e"
             ],
             [
              0.4444444444444444,
              "#bd3786"
             ],
             [
              0.5555555555555556,
              "#d8576b"
             ],
             [
              0.6666666666666666,
              "#ed7953"
             ],
             [
              0.7777777777777778,
              "#fb9f3a"
             ],
             [
              0.8888888888888888,
              "#fdca26"
             ],
             [
              1,
              "#f0f921"
             ]
            ],
            "type": "heatmap"
           }
          ],
          "heatmapgl": [
           {
            "colorbar": {
             "outlinewidth": 0,
             "ticks": ""
            },
            "colorscale": [
             [
              0,
              "#0d0887"
             ],
             [
              0.1111111111111111,
              "#46039f"
             ],
             [
              0.2222222222222222,
              "#7201a8"
             ],
             [
              0.3333333333333333,
              "#9c179e"
             ],
             [
              0.4444444444444444,
              "#bd3786"
             ],
             [
              0.5555555555555556,
              "#d8576b"
             ],
             [
              0.6666666666666666,
              "#ed7953"
             ],
             [
              0.7777777777777778,
              "#fb9f3a"
             ],
             [
              0.8888888888888888,
              "#fdca26"
             ],
             [
              1,
              "#f0f921"
             ]
            ],
            "type": "heatmapgl"
           }
          ],
          "histogram": [
           {
            "marker": {
             "pattern": {
              "fillmode": "overlay",
              "size": 10,
              "solidity": 0.2
             }
            },
            "type": "histogram"
           }
          ],
          "histogram2d": [
           {
            "colorbar": {
             "outlinewidth": 0,
             "ticks": ""
            },
            "colorscale": [
             [
              0,
              "#0d0887"
             ],
             [
              0.1111111111111111,
              "#46039f"
             ],
             [
              0.2222222222222222,
              "#7201a8"
             ],
             [
              0.3333333333333333,
              "#9c179e"
             ],
             [
              0.4444444444444444,
              "#bd3786"
             ],
             [
              0.5555555555555556,
              "#d8576b"
             ],
             [
              0.6666666666666666,
              "#ed7953"
             ],
             [
              0.7777777777777778,
              "#fb9f3a"
             ],
             [
              0.8888888888888888,
              "#fdca26"
             ],
             [
              1,
              "#f0f921"
             ]
            ],
            "type": "histogram2d"
           }
          ],
          "histogram2dcontour": [
           {
            "colorbar": {
             "outlinewidth": 0,
             "ticks": ""
            },
            "colorscale": [
             [
              0,
              "#0d0887"
             ],
             [
              0.1111111111111111,
              "#46039f"
             ],
             [
              0.2222222222222222,
              "#7201a8"
             ],
             [
              0.3333333333333333,
              "#9c179e"
             ],
             [
              0.4444444444444444,
              "#bd3786"
             ],
             [
              0.5555555555555556,
              "#d8576b"
             ],
             [
              0.6666666666666666,
              "#ed7953"
             ],
             [
              0.7777777777777778,
              "#fb9f3a"
             ],
             [
              0.8888888888888888,
              "#fdca26"
             ],
             [
              1,
              "#f0f921"
             ]
            ],
            "type": "histogram2dcontour"
           }
          ],
          "mesh3d": [
           {
            "colorbar": {
             "outlinewidth": 0,
             "ticks": ""
            },
            "type": "mesh3d"
           }
          ],
          "parcoords": [
           {
            "line": {
             "colorbar": {
              "outlinewidth": 0,
              "ticks": ""
             }
            },
            "type": "parcoords"
           }
          ],
          "pie": [
           {
            "automargin": true,
            "type": "pie"
           }
          ],
          "scatter": [
           {
            "marker": {
             "colorbar": {
              "outlinewidth": 0,
              "ticks": ""
             }
            },
            "type": "scatter"
           }
          ],
          "scatter3d": [
           {
            "line": {
             "colorbar": {
              "outlinewidth": 0,
              "ticks": ""
             }
            },
            "marker": {
             "colorbar": {
              "outlinewidth": 0,
              "ticks": ""
             }
            },
            "type": "scatter3d"
           }
          ],
          "scattercarpet": [
           {
            "marker": {
             "colorbar": {
              "outlinewidth": 0,
              "ticks": ""
             }
            },
            "type": "scattercarpet"
           }
          ],
          "scattergeo": [
           {
            "marker": {
             "colorbar": {
              "outlinewidth": 0,
              "ticks": ""
             }
            },
            "type": "scattergeo"
           }
          ],
          "scattergl": [
           {
            "marker": {
             "colorbar": {
              "outlinewidth": 0,
              "ticks": ""
             }
            },
            "type": "scattergl"
           }
          ],
          "scattermapbox": [
           {
            "marker": {
             "colorbar": {
              "outlinewidth": 0,
              "ticks": ""
             }
            },
            "type": "scattermapbox"
           }
          ],
          "scatterpolar": [
           {
            "marker": {
             "colorbar": {
              "outlinewidth": 0,
              "ticks": ""
             }
            },
            "type": "scatterpolar"
           }
          ],
          "scatterpolargl": [
           {
            "marker": {
             "colorbar": {
              "outlinewidth": 0,
              "ticks": ""
             }
            },
            "type": "scatterpolargl"
           }
          ],
          "scatterternary": [
           {
            "marker": {
             "colorbar": {
              "outlinewidth": 0,
              "ticks": ""
             }
            },
            "type": "scatterternary"
           }
          ],
          "surface": [
           {
            "colorbar": {
             "outlinewidth": 0,
             "ticks": ""
            },
            "colorscale": [
             [
              0,
              "#0d0887"
             ],
             [
              0.1111111111111111,
              "#46039f"
             ],
             [
              0.2222222222222222,
              "#7201a8"
             ],
             [
              0.3333333333333333,
              "#9c179e"
             ],
             [
              0.4444444444444444,
              "#bd3786"
             ],
             [
              0.5555555555555556,
              "#d8576b"
             ],
             [
              0.6666666666666666,
              "#ed7953"
             ],
             [
              0.7777777777777778,
              "#fb9f3a"
             ],
             [
              0.8888888888888888,
              "#fdca26"
             ],
             [
              1,
              "#f0f921"
             ]
            ],
            "type": "surface"
           }
          ],
          "table": [
           {
            "cells": {
             "fill": {
              "color": "#EBF0F8"
             },
             "line": {
              "color": "white"
             }
            },
            "header": {
             "fill": {
              "color": "#C8D4E3"
             },
             "line": {
              "color": "white"
             }
            },
            "type": "table"
           }
          ]
         },
         "layout": {
          "annotationdefaults": {
           "arrowcolor": "#2a3f5f",
           "arrowhead": 0,
           "arrowwidth": 1
          },
          "autotypenumbers": "strict",
          "coloraxis": {
           "colorbar": {
            "outlinewidth": 0,
            "ticks": ""
           }
          },
          "colorscale": {
           "diverging": [
            [
             0,
             "#8e0152"
            ],
            [
             0.1,
             "#c51b7d"
            ],
            [
             0.2,
             "#de77ae"
            ],
            [
             0.3,
             "#f1b6da"
            ],
            [
             0.4,
             "#fde0ef"
            ],
            [
             0.5,
             "#f7f7f7"
            ],
            [
             0.6,
             "#e6f5d0"
            ],
            [
             0.7,
             "#b8e186"
            ],
            [
             0.8,
             "#7fbc41"
            ],
            [
             0.9,
             "#4d9221"
            ],
            [
             1,
             "#276419"
            ]
           ],
           "sequential": [
            [
             0,
             "#0d0887"
            ],
            [
             0.1111111111111111,
             "#46039f"
            ],
            [
             0.2222222222222222,
             "#7201a8"
            ],
            [
             0.3333333333333333,
             "#9c179e"
            ],
            [
             0.4444444444444444,
             "#bd3786"
            ],
            [
             0.5555555555555556,
             "#d8576b"
            ],
            [
             0.6666666666666666,
             "#ed7953"
            ],
            [
             0.7777777777777778,
             "#fb9f3a"
            ],
            [
             0.8888888888888888,
             "#fdca26"
            ],
            [
             1,
             "#f0f921"
            ]
           ],
           "sequentialminus": [
            [
             0,
             "#0d0887"
            ],
            [
             0.1111111111111111,
             "#46039f"
            ],
            [
             0.2222222222222222,
             "#7201a8"
            ],
            [
             0.3333333333333333,
             "#9c179e"
            ],
            [
             0.4444444444444444,
             "#bd3786"
            ],
            [
             0.5555555555555556,
             "#d8576b"
            ],
            [
             0.6666666666666666,
             "#ed7953"
            ],
            [
             0.7777777777777778,
             "#fb9f3a"
            ],
            [
             0.8888888888888888,
             "#fdca26"
            ],
            [
             1,
             "#f0f921"
            ]
           ]
          },
          "colorway": [
           "#636efa",
           "#EF553B",
           "#00cc96",
           "#ab63fa",
           "#FFA15A",
           "#19d3f3",
           "#FF6692",
           "#B6E880",
           "#FF97FF",
           "#FECB52"
          ],
          "font": {
           "color": "#2a3f5f"
          },
          "geo": {
           "bgcolor": "white",
           "lakecolor": "white",
           "landcolor": "#E5ECF6",
           "showlakes": true,
           "showland": true,
           "subunitcolor": "white"
          },
          "hoverlabel": {
           "align": "left"
          },
          "hovermode": "closest",
          "mapbox": {
           "style": "light"
          },
          "paper_bgcolor": "white",
          "plot_bgcolor": "#E5ECF6",
          "polar": {
           "angularaxis": {
            "gridcolor": "white",
            "linecolor": "white",
            "ticks": ""
           },
           "bgcolor": "#E5ECF6",
           "radialaxis": {
            "gridcolor": "white",
            "linecolor": "white",
            "ticks": ""
           }
          },
          "scene": {
           "xaxis": {
            "backgroundcolor": "#E5ECF6",
            "gridcolor": "white",
            "gridwidth": 2,
            "linecolor": "white",
            "showbackground": true,
            "ticks": "",
            "zerolinecolor": "white"
           },
           "yaxis": {
            "backgroundcolor": "#E5ECF6",
            "gridcolor": "white",
            "gridwidth": 2,
            "linecolor": "white",
            "showbackground": true,
            "ticks": "",
            "zerolinecolor": "white"
           },
           "zaxis": {
            "backgroundcolor": "#E5ECF6",
            "gridcolor": "white",
            "gridwidth": 2,
            "linecolor": "white",
            "showbackground": true,
            "ticks": "",
            "zerolinecolor": "white"
           }
          },
          "shapedefaults": {
           "line": {
            "color": "#2a3f5f"
           }
          },
          "ternary": {
           "aaxis": {
            "gridcolor": "white",
            "linecolor": "white",
            "ticks": ""
           },
           "baxis": {
            "gridcolor": "white",
            "linecolor": "white",
            "ticks": ""
           },
           "bgcolor": "#E5ECF6",
           "caxis": {
            "gridcolor": "white",
            "linecolor": "white",
            "ticks": ""
           }
          },
          "title": {
           "x": 0.05
          },
          "xaxis": {
           "automargin": true,
           "gridcolor": "white",
           "linecolor": "white",
           "ticks": "",
           "title": {
            "standoff": 15
           },
           "zerolinecolor": "white",
           "zerolinewidth": 2
          },
          "yaxis": {
           "automargin": true,
           "gridcolor": "white",
           "linecolor": "white",
           "ticks": "",
           "title": {
            "standoff": 15
           },
           "zerolinecolor": "white",
           "zerolinewidth": 2
          }
         }
        }
       }
      }
     },
     "metadata": {},
     "output_type": "display_data"
    }
   ],
   "source": [
    "# *-- Directions 5 활용 코드 --*\n",
    "\n",
    "\n",
    "\n",
    "\n",
    "\n",
    "fig.update_layout(\n",
    "    mapbox=dict(\n",
    "        accesstoken=\"pk.eyJ1IjoieWFuZ29vcyIsImEiOiJjbDNqd2tkN2IwbGdmM2pvNzF0c2M4NnZkIn0.J3IjPYg3w28cGiWkUD7bnA\",\n",
    "        center=go.layout.mapbox.Center(\n",
    "            lat=37.58,\n",
    "            lon=126.87\n",
    "        ),\n",
    "        # pitch=0,\n",
    "        zoom=10\n",
    "        # style='mapbox://styles/yangoos/cl3jubvl7000c14llgtoev0nm'\n",
    "    ),\n",
    "    margin=dict(l=20, r=20, t=20, b=20)\n",
    ")\n",
    "fig.show()\n",
    "\n",
    "\n"
   ]
  },
  {
   "cell_type": "markdown",
   "metadata": {},
   "source": [
    "> ### 자전거 대여소 간 계산\n",
    "* 해당 경우 검색 시 \n",
    "* 지하철 -> 대여소 -> 대여소\n",
    "* 대여소 -> 대여소 "
   ]
  },
  {
   "cell_type": "code",
   "execution_count": null,
   "metadata": {},
   "outputs": [],
   "source": [
    "\n",
    "\n",
    "# 345ms\n",
    "def st_to_st_new (starting_station, ending_station):\n",
    "\n",
    "    lat_1=station.query('id==@starting_station')['위도'].values\n",
    "    lon_1=station.query('id==@starting_station')['경도'].values\n",
    "    lat_2=station.query('id==@ending_station')['위도'].values\n",
    "    lon_2=station.query('id==@ending_station')['경도'].values\n",
    "    dist_station = haversine_np(lat_1,lon_1,lat_2,lon_2)\n",
    "\n",
    "    BM_1 = (seoul_bike['st_id1'] == starting_station) & (seoul_bike['st_id2'] == ending_station)\n",
    "    BM_2 = (seoul_bike['st_id2'] == starting_station) & (seoul_bike['st_id1'] == ending_station)\n",
    "\n",
    "    # 평균거리 계산\n",
    "    sort_station = seoul_bike[BM_1 | BM_2]\n",
    "    mean_station = sort_station[sort_station['dist'] < dist_station[0]*2]['riding_time'].value_counts()[:5].index.values.mean()\n",
    "    num_station = len(sort_station)\n",
    "\n",
    "    print(mean_station,num_station,f'{dist_station[0]/1000 :.2f}km' )\n",
    "\n",
    "st_to_st_new(207, 754)\n"
   ]
  },
  {
   "cell_type": "code",
   "execution_count": null,
   "metadata": {},
   "outputs": [],
   "source": [
    "## 옛날자료\n",
    "\n",
    "def st_to_st(starting_station, ending_station):\n",
    "\n",
    "    \"\"\"\n",
    "    starting_station = list or val이고 bike_station id가 들어감\n",
    "    ending_station = list or val이고 bike_station id가 들어감\n",
    "    \"\"\"\n",
    "\n",
    "    # int 또는 list로 starting station 받기\n",
    "    if type(starting_station) == int:\n",
    "        starting_station_list = list()\n",
    "        starting_station_list.append(starting_station)\n",
    "    else:\n",
    "        starting_station_list = starting_station\n",
    "\n",
    "    for starting_station in starting_station_list:\n",
    "        BM_1 = (seoul_bike_sorting[\"st_id1\"] == starting_station) & (\n",
    "            seoul_bike_sorting[\"st_id2\"] == ending_station\n",
    "        )\n",
    "        BM_2 = (seoul_bike_sorting[\"st_id2\"] == starting_station) & (\n",
    "            seoul_bike_sorting[\"st_id1\"] == ending_station\n",
    "        )\n",
    "\n",
    "        # 평균거리 계산\n",
    "        mean_station = (\n",
    "            seoul_bike_sorting[BM_1 | BM_2][\"riding_time\"]\n",
    "            .value_counts()\n",
    "            .sort_values(ascending=False)[:5]\n",
    "            .index.values.mean()\n",
    "        )\n",
    "\n",
    "        # 이용기록 계산\n",
    "        num_station = len(seoul_bike_sorting[BM_1 | BM_2])\n",
    "\n",
    "        # 직선거리 계산\n",
    "        lat_1 = station.query(\"id==@starting_station\")[\"위도\"].values\n",
    "        lon_1 = station.query(\"id==@starting_station\")[\"경도\"].values\n",
    "        lat_2 = station.query(\"id==@ending_station\")[\"위도\"].values\n",
    "        lon_2 = station.query(\"id==@ending_station\")[\"경도\"].values\n",
    "        dist_station = haversine_np(lat_1, lon_1, lat_2, lon_2)\n",
    "        print(mean_station, num_station, f\"{dist_station[0]/1000 :.2f}km\")\n",
    "    # return\n",
    "\n",
    "\n",
    "st_to_st(counts_station, 754)\n"
   ]
  }
 ],
 "metadata": {
  "kernelspec": {
   "display_name": "Python 3.9.7 ('base')",
   "language": "python",
   "name": "python3"
  },
  "language_info": {
   "codemirror_mode": {
    "name": "ipython",
    "version": 3
   },
   "file_extension": ".py",
   "mimetype": "text/x-python",
   "name": "python",
   "nbconvert_exporter": "python",
   "pygments_lexer": "ipython3",
   "version": "3.9.7"
  },
  "orig_nbformat": 4,
  "vscode": {
   "interpreter": {
    "hash": "47be6c136d2b4a6c76f7d3db2f991a133eb39bf1d99b20f1b6e05e99edd1faf4"
   }
  }
 },
 "nbformat": 4,
 "nbformat_minor": 2
}
