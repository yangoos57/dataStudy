{
 "cells": [
  {
   "cell_type": "code",
   "execution_count": 4,
   "metadata": {},
   "outputs": [],
   "source": [
    "import pandas as pd\n",
    "import numpy as np\n",
    "import matplotlib.pyplot as plt\n",
    "import seaborn as sns\n",
    "import plotly.express as px"
   ]
  },
  {
   "cell_type": "markdown",
   "metadata": {},
   "source": [
    "<img src='data/public_bike_1.png' style ='width : 800px; height : 500px; text-align : center'>\n",
    "\n",
    "출처 : https://m.blog.naver.com/noobin/221440806108\n",
    "\n",
    "* 따릉이 무게 18kg\n",
    "\n",
    "사례 1\n",
    "* 편도 40km 거리를 로드바이크로 출퇴근 하는 사람\n",
    "* 실험 차원에서 따릉이를 이용\n",
    "* 시속 20km\n",
    "\n",
    "사례 2\n",
    "* 따릉이를 가지고 100km를 운행한 사람\n",
    "* 시속 23.5km\n",
    "\n",
    "결론\n",
    "* 1시간에 24km는 허용가능한 오차로 인식\n",
    "* 10분당 4km까지 허용가능한 범위라 생각\n",
    "* 1분당 400미터 이상은 오류\n",
    "* 아웃라이어 기준 =   $\\large\\frac{dist}{(riding\\;time)}$ > 400  인 경우 \n",
    "\n",
    "\n",
    "### 따릉이 학대범 기준\n",
    "* 편도 22km(여의도한강공원-광나루 한강공원)를 1시간 내외로 돌파한 경우\n",
    "<img src='data/public_bike_2.png' style ='width : 800px; height : 500px; text-align : center'>"
   ]
  },
  {
   "cell_type": "code",
   "execution_count": 5,
   "metadata": {},
   "outputs": [],
   "source": [
    "#불러오기\n",
    "seoul_bike = pd.read_hdf('D:\\git_local_repository\\data_for_project\\seoul_bike\\preprocessed_bike_1_2.hdf5')\n",
    "\n",
    "\n",
    "\n",
    "# 1분당 거리 계산 (1분당 400미터 이상인 경우 error로 간주)\n",
    "seoul_bike['m_pm'] = (seoul_bike['dist'] / (seoul_bike['riding_time'])).round(decimals=0)  # 1분당 거리 계산\n",
    "\n",
    "station = pd.read_csv('D:\\git_local_repository\\data_for_project\\seoul_bike\\seoul_bike_station_01_12.csv',encoding='CP949')\n",
    "station.rename(columns={'대여소 번호' : 'id'}, inplace=True)\n",
    "\n",
    "\n",
    "#plotly continuous_color\n",
    "continuous_color = pd.read_csv('data/plotly_continuous_color_codes.csv')"
   ]
  },
  {
   "cell_type": "code",
   "execution_count": 6,
   "metadata": {},
   "outputs": [],
   "source": [
    "station = pd.read_csv('D:\\git_local_repository\\data_for_project\\seoul_bike\\seoul_bike_station_01_12.csv',encoding='CP949',index_col=0)\n",
    "station.rename(columns={'대여소 번호' : 'id'}, inplace=True)"
   ]
  },
  {
   "cell_type": "markdown",
   "metadata": {},
   "source": [
    "### 속도왕 분포현황"
   ]
  },
  {
   "cell_type": "code",
   "execution_count": 7,
   "metadata": {},
   "outputs": [
    {
     "data": {
      "text/plain": [
       "472.85728574452"
      ]
     },
     "execution_count": 7,
     "metadata": {},
     "output_type": "execute_result"
    }
   ],
   "source": [
    "\n",
    "\n",
    "def haversine_np(lon1, lat1, lon2, lat2):\n",
    "    \"\"\"\n",
    "    Calculate the great circle distance between two points\n",
    "    on the earth (specified in decimal degrees)\n",
    "\n",
    "    All args must be of equal length.    \n",
    "\n",
    "    \"\"\"\n",
    "    lon1, lat1, lon2, lat2 = map(np.radians, [lon1, lat1, lon2, lat2])\n",
    "\n",
    "    dlon = lon2 - lon1\n",
    "    dlat = lat2 - lat1\n",
    "\n",
    "    a = np.sin(dlat/2.0)**2 + np.cos(lat1) * np.cos(lat2) * np.sin(dlon/2.0)**2\n",
    "\n",
    "    c = 2 * np.arcsin(np.sqrt(a))\n",
    "    m = 6367 * c * 1000\n",
    "    return m\n",
    "\n",
    "asd = station.query('id ==[766,755]')\n",
    "haversine_np(asd.iloc[0,-3],asd.iloc[0,-2],asd.iloc[1,-3],asd.iloc[1,-2])\n",
    "# station[station['주소2'].str.contains(\"월촌중\")]"
   ]
  },
  {
   "cell_type": "code",
   "execution_count": 8,
   "metadata": {},
   "outputs": [],
   "source": [
    "#한국에는 자전거에 미친놈들이 많은건가 아니면이게 다 오류인가\n",
    "# 선수급도 50km/h 속도가 나온다. 1분에 830미터 정도 달리는 거리다.\n",
    "# 동호회 수준에서도 30km/h면 수준급 실력이라 한다. 1분에 500m 정도\n",
    "# 4745948, 도심 한가운데서 분당 1km의 속도로 54키로를 달리는게 말이되나.. 54km면 여의도 공원 => 잠원 한강공원을 왕복하고도 한 번 더가야한다.\n",
    "# 이게 말이되나.. \n",
    "sorted_seoul_bike = seoul_bike[seoul_bike.eval('m_pm >=450 ')].sort_values(by='m_pm',ascending=False)\n"
   ]
  },
  {
   "cell_type": "code",
   "execution_count": null,
   "metadata": {},
   "outputs": [],
   "source": [
    "### 따릉이로 집주변 여행지 찾기 "
   ]
  },
  {
   "cell_type": "code",
   "execution_count": 84,
   "metadata": {},
   "outputs": [],
   "source": [
    "# 1시간 내외로 갈만한 곳 찾기\n",
    "# 766,754 기록을 가지고 찾아보는거야!!!\n",
    "\n",
    "def searching_location(wanting_ids,min_time=1,max_time=60,num_of_times=20) : \n",
    "    sorted_st_id2=seoul_bike.query('st_id1 == @wanting_ids')['st_id2'].value_counts()\n",
    "    sorted_st_id2= sorted_st_id2[~np.isin(sorted_st_id2.index,wanting_ids)]\n",
    "    la_num=np.where(sorted_st_id2 >= num_of_times)[0][-1]\n",
    "    result_station = []\n",
    "    for station_id in sorted_st_id2[:la_num].index : \n",
    "        filter_id = seoul_bike.query('st_id1 == @wanting_ids & st_id2 == @station_id & @min_time <= riding_time <= @max_time').sort_values(by='riding_time')['riding_time'].value_counts().sort_values(ascending=False)\n",
    "        mean = filter_id.index[:5].values.mean()\n",
    "        percent = round(sum(filter_id[:5].values)/sum(filter_id),2)\n",
    "        total_num = sum(filter_id)\n",
    "        result_station.append([station_id,mean,percent,total_num])\n",
    "\n",
    "    return pd.DataFrame(result_station,columns=['id','est_time','percent','total_num'])\n",
    "\n",
    "\n"
   ]
  },
  {
   "cell_type": "code",
   "execution_count": 11,
   "metadata": {},
   "outputs": [
    {
     "data": {
      "text/html": [
       "<div>\n",
       "<style scoped>\n",
       "    .dataframe tbody tr th:only-of-type {\n",
       "        vertical-align: middle;\n",
       "    }\n",
       "\n",
       "    .dataframe tbody tr th {\n",
       "        vertical-align: top;\n",
       "    }\n",
       "\n",
       "    .dataframe thead th {\n",
       "        text-align: right;\n",
       "    }\n",
       "</style>\n",
       "<table border=\"1\" class=\"dataframe\">\n",
       "  <thead>\n",
       "    <tr style=\"text-align: right;\">\n",
       "      <th></th>\n",
       "      <th>id</th>\n",
       "      <th>주소2</th>\n",
       "      <th>주소1</th>\n",
       "      <th>지역</th>\n",
       "      <th>위도</th>\n",
       "      <th>경도</th>\n",
       "      <th>설치일</th>\n",
       "    </tr>\n",
       "  </thead>\n",
       "  <tbody>\n",
       "    <tr>\n",
       "      <th>187</th>\n",
       "      <td>320</td>\n",
       "      <td>을지로입구역 4번출구 앞</td>\n",
       "      <td>서울특별시 중구 을지로 55</td>\n",
       "      <td>중구</td>\n",
       "      <td>37.566223</td>\n",
       "      <td>126.983589</td>\n",
       "      <td>2015-10-07</td>\n",
       "    </tr>\n",
       "    <tr>\n",
       "      <th>281</th>\n",
       "      <td>433</td>\n",
       "      <td>을지로입구역 2번출구</td>\n",
       "      <td>중구 을지로1가 118</td>\n",
       "      <td>중구</td>\n",
       "      <td>37.566345</td>\n",
       "      <td>126.982292</td>\n",
       "      <td>2018-12-14</td>\n",
       "    </tr>\n",
       "    <tr>\n",
       "      <th>2489</th>\n",
       "      <td>4774</td>\n",
       "      <td>을지로입구역 8번출구</td>\n",
       "      <td>을지로1가 140-1</td>\n",
       "      <td>중구</td>\n",
       "      <td>37.565903</td>\n",
       "      <td>126.981781</td>\n",
       "      <td>2020-09-23</td>\n",
       "    </tr>\n",
       "  </tbody>\n",
       "</table>\n",
       "</div>"
      ],
      "text/plain": [
       "        id            주소2              주소1  지역         위도          경도  \\\n",
       "187    320  을지로입구역 4번출구 앞  서울특별시 중구 을지로 55  중구  37.566223  126.983589   \n",
       "281    433    을지로입구역 2번출구     중구 을지로1가 118  중구  37.566345  126.982292   \n",
       "2489  4774    을지로입구역 8번출구      을지로1가 140-1  중구  37.565903  126.981781   \n",
       "\n",
       "             설치일  \n",
       "187   2015-10-07  \n",
       "281   2018-12-14  \n",
       "2489  2020-09-23  "
      ]
     },
     "execution_count": 11,
     "metadata": {},
     "output_type": "execute_result"
    }
   ],
   "source": [
    "station[station['주소2'].str.contains(\"을지로입구\")]"
   ]
  },
  {
   "cell_type": "code",
   "execution_count": 86,
   "metadata": {},
   "outputs": [
    {
     "data": {
      "text/html": [
       "<div>\n",
       "<style scoped>\n",
       "    .dataframe tbody tr th:only-of-type {\n",
       "        vertical-align: middle;\n",
       "    }\n",
       "\n",
       "    .dataframe tbody tr th {\n",
       "        vertical-align: top;\n",
       "    }\n",
       "\n",
       "    .dataframe thead th {\n",
       "        text-align: right;\n",
       "    }\n",
       "</style>\n",
       "<table border=\"1\" class=\"dataframe\">\n",
       "  <thead>\n",
       "    <tr style=\"text-align: right;\">\n",
       "      <th></th>\n",
       "      <th>id</th>\n",
       "      <th>est_time</th>\n",
       "      <th>percent</th>\n",
       "      <th>total_num</th>\n",
       "    </tr>\n",
       "  </thead>\n",
       "  <tbody>\n",
       "    <tr>\n",
       "      <th>0</th>\n",
       "      <td>4792</td>\n",
       "      <td>4.0</td>\n",
       "      <td>0.77</td>\n",
       "      <td>591</td>\n",
       "    </tr>\n",
       "    <tr>\n",
       "      <th>1</th>\n",
       "      <td>3413</td>\n",
       "      <td>6.0</td>\n",
       "      <td>0.88</td>\n",
       "      <td>524</td>\n",
       "    </tr>\n",
       "    <tr>\n",
       "      <th>2</th>\n",
       "      <td>398</td>\n",
       "      <td>4.0</td>\n",
       "      <td>0.61</td>\n",
       "      <td>350</td>\n",
       "    </tr>\n",
       "    <tr>\n",
       "      <th>3</th>\n",
       "      <td>345</td>\n",
       "      <td>7.0</td>\n",
       "      <td>0.88</td>\n",
       "      <td>239</td>\n",
       "    </tr>\n",
       "    <tr>\n",
       "      <th>4</th>\n",
       "      <td>338</td>\n",
       "      <td>4.0</td>\n",
       "      <td>0.87</td>\n",
       "      <td>228</td>\n",
       "    </tr>\n",
       "    <tr>\n",
       "      <th>5</th>\n",
       "      <td>380</td>\n",
       "      <td>4.0</td>\n",
       "      <td>0.64</td>\n",
       "      <td>198</td>\n",
       "    </tr>\n",
       "    <tr>\n",
       "      <th>6</th>\n",
       "      <td>390</td>\n",
       "      <td>6.2</td>\n",
       "      <td>0.66</td>\n",
       "      <td>191</td>\n",
       "    </tr>\n",
       "    <tr>\n",
       "      <th>7</th>\n",
       "      <td>329</td>\n",
       "      <td>6.0</td>\n",
       "      <td>0.73</td>\n",
       "      <td>180</td>\n",
       "    </tr>\n",
       "    <tr>\n",
       "      <th>8</th>\n",
       "      <td>387</td>\n",
       "      <td>5.0</td>\n",
       "      <td>0.65</td>\n",
       "      <td>150</td>\n",
       "    </tr>\n",
       "    <tr>\n",
       "      <th>9</th>\n",
       "      <td>368</td>\n",
       "      <td>9.0</td>\n",
       "      <td>0.68</td>\n",
       "      <td>148</td>\n",
       "    </tr>\n",
       "  </tbody>\n",
       "</table>\n",
       "</div>"
      ],
      "text/plain": [
       "     id  est_time  percent  total_num\n",
       "0  4792       4.0     0.77        591\n",
       "1  3413       6.0     0.88        524\n",
       "2   398       4.0     0.61        350\n",
       "3   345       7.0     0.88        239\n",
       "4   338       4.0     0.87        228\n",
       "5   380       4.0     0.64        198\n",
       "6   390       6.2     0.66        191\n",
       "7   329       6.0     0.73        180\n",
       "8   387       5.0     0.65        150\n",
       "9   368       9.0     0.68        148"
      ]
     },
     "execution_count": 86,
     "metadata": {},
     "output_type": "execute_result"
    }
   ],
   "source": [
    "## 따릉이로 생활권 분리를 확인할 수 있으려나?\n",
    "\n",
    "# 배터리 기준 : 1분 48초(549개) => 32초 (127개)\n",
    "\n",
    "# 을지로 4가\n",
    "wanting_ids = [389,473]\n",
    "result_station_df = searching_location(wanting_ids,)\n",
    "result_station_df.sort_values(by='total_num',ascending=False).head(10)\n",
    "\n",
    "#을지로 입구\n",
    "wanting_ids_left = [320,433,4774]\n",
    "result_station_left = searching_location(wanting_ids)\n",
    "result_station_left.sort_values(by='total_num',ascending=False).head(10)"
   ]
  },
  {
   "cell_type": "code",
   "execution_count": 100,
   "metadata": {},
   "outputs": [
    {
     "data": {
      "application/vnd.plotly.v1+json": {
       "config": {
        "plotlyServerURL": "https://plot.ly"
       },
       "data": [
        {
         "coloraxis": "coloraxis",
         "customdata": [
          [
           4792,
           "퇴계로4가 교차로(중구청)"
          ],
          [
           3413,
           "종로플레이스"
          ],
          [
           398,
           "을지로3가역 3번출구"
          ],
          [
           345,
           "서울보증보험본사 앞"
          ],
          [
           338,
           "세운스퀘어 앞"
          ],
          [
           380,
           "CJ제일제당 앞"
          ],
          [
           390,
           "충무로역 1번출구"
          ],
          [
           329,
           "청계2가 사거리 옆"
          ],
          [
           387,
           "훈련원공원주차장 앞"
          ],
          [
           368,
           "SK 서린빌딩 앞"
          ],
          [
           332,
           "을지로2가 사거리 남측"
          ],
          [
           428,
           "명보사거리"
          ],
          [
           361,
           "동묘앞역 1번출구 뒤"
          ],
          [
           3013,
           "서울고용노동청본청"
          ],
          [
           3013,
           "서울지방고용노동청 앞"
          ],
          [
           320,
           "을지로입구역 4번출구 앞"
          ],
          [
           430,
           "KEB하나은행 장충동지점"
          ],
          [
           458,
           "광화문역 5번출구"
          ],
          [
           339,
           "종로4가 사거리"
          ],
          [
           383,
           "신당역 12번 출구 뒤"
          ],
          [
           453,
           "종로오가 지하쇼핑센터 14번출구"
          ],
          [
           336,
           "티마크 호텔 앞"
          ],
          [
           395,
           "경희궁 자이 2단지"
          ],
          [
           431,
           "청계천 영도교"
          ],
          [
           3410,
           "종로3가역 8번출구"
          ],
          [
           393,
           "동대문역 8번 출구"
          ],
          [
           3432,
           "종로2가 사거리"
          ],
          [
           477,
           "앰배서더 호텔 주변"
          ],
          [
           3411,
           "종묘"
          ],
          [
           568,
           "청계8가사거리 부근"
          ],
          [
           1338,
           "용문2교 옆"
          ],
          [
           3414,
           "종로5가역 4번출구"
          ],
          [
           359,
           "원남동사거리"
          ],
          [
           4784,
           "중부경찰서앞 사거리"
          ],
          [
           4791,
           "명동역9번출구"
          ],
          [
           1336,
           "성북3교 위"
          ],
          [
           335,
           "종로3가역 15번출구 앞"
          ],
          [
           474,
           "동대문역사문화공원역 1번출구 뒤편"
          ],
          [
           613,
           "신설동역 10번출구 앞"
          ],
          [
           375,
           "다산 어린이공원"
          ],
          [
           472,
           "삼일교(시그니쳐 타워)"
          ],
          [
           457,
           "종로꽃시장 입구 옆"
          ],
          [
           321,
           "KEB 하나금융그룹 명동사옥 옆"
          ],
          [
           328,
           "탑골공원 앞"
          ],
          [
           370,
           "시청역(2호선) 9번출구 뒤"
          ],
          [
           4765,
           "동대문디자인플라자"
          ],
          [
           3412,
           "세운상가"
          ],
          [
           316,
           "종각역 1번출구 앞"
          ],
          [
           455,
           "삼익한의원"
          ],
          [
           3408,
           "종로타워빌딩"
          ],
          [
           3514,
           "왕십리교회옆"
          ],
          [
           1382,
           "래미안월곡아파트 입구"
          ],
          [
           1382,
           "월곡래미안아파트 입구"
          ],
          [
           4775,
           "을지로지하쇼핑센터"
          ],
          [
           4778,
           "대신파이낸스센터"
          ]
         ],
         "hovertemplate": "<b>%{hovertext}</b><br><br>total_num=%{z}<br>위도=%{lat}<br>경도=%{lon}<br>id=%{customdata[0]}<br>주소2=%{customdata[1]}<extra></extra>",
         "hovertext": [
          "퇴계로4가 교차로(중구청)",
          "종로플레이스",
          "을지로3가역 3번출구",
          "서울보증보험본사 앞",
          "세운스퀘어 앞",
          "CJ제일제당 앞",
          "충무로역 1번출구",
          "청계2가 사거리 옆",
          "훈련원공원주차장 앞",
          "SK 서린빌딩 앞",
          "을지로2가 사거리 남측",
          "명보사거리",
          "동묘앞역 1번출구 뒤",
          "서울고용노동청본청",
          "서울지방고용노동청 앞",
          "을지로입구역 4번출구 앞",
          "KEB하나은행 장충동지점",
          "광화문역 5번출구",
          "종로4가 사거리",
          "신당역 12번 출구 뒤",
          "종로오가 지하쇼핑센터 14번출구",
          "티마크 호텔 앞",
          "경희궁 자이 2단지",
          "청계천 영도교",
          "종로3가역 8번출구",
          "동대문역 8번 출구",
          "종로2가 사거리",
          "앰배서더 호텔 주변",
          "종묘",
          "청계8가사거리 부근",
          "용문2교 옆",
          "종로5가역 4번출구",
          "원남동사거리",
          "중부경찰서앞 사거리",
          "명동역9번출구",
          "성북3교 위",
          "종로3가역 15번출구 앞",
          "동대문역사문화공원역 1번출구 뒤편",
          "신설동역 10번출구 앞",
          "다산 어린이공원",
          "삼일교(시그니쳐 타워)",
          "종로꽃시장 입구 옆",
          "KEB 하나금융그룹 명동사옥 옆",
          "탑골공원 앞",
          "시청역(2호선) 9번출구 뒤",
          "동대문디자인플라자",
          "세운상가",
          "종각역 1번출구 앞",
          "삼익한의원",
          "종로타워빌딩",
          "왕십리교회옆",
          "래미안월곡아파트 입구",
          "월곡래미안아파트 입구",
          "을지로지하쇼핑센터",
          "대신파이낸스센터"
         ],
         "lat": [
          37.5625267,
          37.5732,
          37.566559,
          37.573307,
          37.570957,
          37.563866,
          37.56139,
          37.568344,
          37.566994,
          37.569248,
          37.56599,
          37.5644,
          37.573242,
          37.56761551,
          null,
          37.566223,
          37.562172,
          37.569939,
          37.571068,
          37.565849,
          37.57114,
          37.562618,
          37.568855,
          37.5709,
          37.572037,
          37.570141,
          37.569992,
          37.559288,
          37.570702,
          37.571102,
          37.586899,
          37.571175,
          37.576061,
          37.56459045,
          37.56122589,
          37.591251,
          37.570198,
          37.566299,
          37.575272,
          37.563717,
          37.567871,
          37.57132,
          37.565464,
          37.570396,
          37.563229,
          37.5683136,
          37.570313,
          37.570396,
          37.570961,
          37.570511,
          37.566261,
          37.60853577,
          37.60853577,
          37.56599045,
          37.56520844
         ],
         "lon": [
          126.9983139,
          126.997963,
          126.992439,
          127.00071,
          126.997124,
          127.002747,
          126.995354,
          126.987892,
          127.003464,
          126.980537,
          126.987793,
          126.991432,
          127.015907,
          126.9872437,
          null,
          126.983589,
          127.006264,
          126.977539,
          126.998192,
          127.016403,
          127.000671,
          126.992836,
          126.964561,
          127.019524,
          126.991844,
          127.009377,
          126.988342,
          127.002686,
          126.994812,
          127.02356,
          127.020752,
          127.002228,
          126.997681,
          126.9907684,
          126.9874954,
          127.014008,
          126.991257,
          127.008492,
          127.023468,
          127.018425,
          126.988983,
          127.00721,
          126.984138,
          126.98819,
          126.974838,
          127.0094605,
          126.994545,
          126.981789,
          127.006058,
          126.983368,
          127.023697,
          127.0363922,
          127.0363922,
          126.9842758,
          126.9874268
         ],
         "name": "",
         "radius": 10,
         "subplot": "mapbox",
         "type": "densitymapbox",
         "z": [
          591,
          524,
          350,
          239,
          228,
          198,
          191,
          180,
          150,
          148,
          135,
          119,
          119,
          114,
          114,
          113,
          113,
          111,
          110,
          108,
          107,
          104,
          97,
          95,
          94,
          93,
          92,
          78,
          77,
          76,
          71,
          70,
          64,
          64,
          63,
          63,
          62,
          62,
          61,
          60,
          59,
          58,
          57,
          56,
          54,
          54,
          54,
          53,
          52,
          52,
          52,
          52,
          52,
          51,
          50
         ]
        },
        {
         "customdata": [
          [
           389
          ],
          [
           473
          ]
         ],
         "hovertemplate": "<b>%{hovertext}</b><br><br>위도=%{lat}<br>경도=%{lon}<br>id=%{customdata[0]}<extra></extra>",
         "hovertext": [
          "을지로4가역 1번출구",
          "을지로4가역 9번출구"
         ],
         "lat": [
          37.56673,
          37.566051
         ],
         "legendgroup": "",
         "lon": [
          126.996605,
          126.997986
         ],
         "marker": {
          "color": "#636efa",
          "opacity": 1
         },
         "mode": "markers",
         "name": "",
         "showlegend": false,
         "subplot": "mapbox",
         "type": "scattermapbox"
        },
        {
         "lat": [
          127.1232
         ],
         "lon": [
          37.3233
         ],
         "marker": {
          "size": 20,
          "symbol": [
           "bus"
          ]
         },
         "mode": "markers+text+lines",
         "text": [
          "Bus"
         ],
         "textposition": "bottom right",
         "type": "scattermapbox"
        }
       ],
       "layout": {
        "coloraxis": {
         "colorbar": {
          "title": {
           "text": "total_num"
          }
         },
         "colorscale": [
          [
           0,
           "rgb(0, 147, 146)"
          ],
          [
           0.16666666666666666,
           "rgb(57, 177, 133)"
          ],
          [
           0.3333333333333333,
           "rgb(156, 203, 134)"
          ],
          [
           0.5,
           "rgb(233, 226, 156)"
          ],
          [
           0.6666666666666666,
           "rgb(238, 180, 121)"
          ],
          [
           0.8333333333333334,
           "rgb(232, 132, 113)"
          ],
          [
           1,
           "rgb(207, 89, 126)"
          ]
         ]
        },
        "legend": {
         "tracegroupgap": 0
        },
        "mapbox": {
         "center": {
          "lat": 37.570364066296285,
          "lon": 126.99908255370372
         },
         "domain": {
          "x": [
           0,
           1
          ],
          "y": [
           0,
           1
          ]
         },
         "style": "carto-positron",
         "zoom": 13
        },
        "margin": {
         "t": 60
        },
        "template": {
         "data": {
          "bar": [
           {
            "error_x": {
             "color": "#2a3f5f"
            },
            "error_y": {
             "color": "#2a3f5f"
            },
            "marker": {
             "line": {
              "color": "#E5ECF6",
              "width": 0.5
             },
             "pattern": {
              "fillmode": "overlay",
              "size": 10,
              "solidity": 0.2
             }
            },
            "type": "bar"
           }
          ],
          "barpolar": [
           {
            "marker": {
             "line": {
              "color": "#E5ECF6",
              "width": 0.5
             },
             "pattern": {
              "fillmode": "overlay",
              "size": 10,
              "solidity": 0.2
             }
            },
            "type": "barpolar"
           }
          ],
          "carpet": [
           {
            "aaxis": {
             "endlinecolor": "#2a3f5f",
             "gridcolor": "white",
             "linecolor": "white",
             "minorgridcolor": "white",
             "startlinecolor": "#2a3f5f"
            },
            "baxis": {
             "endlinecolor": "#2a3f5f",
             "gridcolor": "white",
             "linecolor": "white",
             "minorgridcolor": "white",
             "startlinecolor": "#2a3f5f"
            },
            "type": "carpet"
           }
          ],
          "choropleth": [
           {
            "colorbar": {
             "outlinewidth": 0,
             "ticks": ""
            },
            "type": "choropleth"
           }
          ],
          "contour": [
           {
            "colorbar": {
             "outlinewidth": 0,
             "ticks": ""
            },
            "colorscale": [
             [
              0,
              "#0d0887"
             ],
             [
              0.1111111111111111,
              "#46039f"
             ],
             [
              0.2222222222222222,
              "#7201a8"
             ],
             [
              0.3333333333333333,
              "#9c179e"
             ],
             [
              0.4444444444444444,
              "#bd3786"
             ],
             [
              0.5555555555555556,
              "#d8576b"
             ],
             [
              0.6666666666666666,
              "#ed7953"
             ],
             [
              0.7777777777777778,
              "#fb9f3a"
             ],
             [
              0.8888888888888888,
              "#fdca26"
             ],
             [
              1,
              "#f0f921"
             ]
            ],
            "type": "contour"
           }
          ],
          "contourcarpet": [
           {
            "colorbar": {
             "outlinewidth": 0,
             "ticks": ""
            },
            "type": "contourcarpet"
           }
          ],
          "heatmap": [
           {
            "colorbar": {
             "outlinewidth": 0,
             "ticks": ""
            },
            "colorscale": [
             [
              0,
              "#0d0887"
             ],
             [
              0.1111111111111111,
              "#46039f"
             ],
             [
              0.2222222222222222,
              "#7201a8"
             ],
             [
              0.3333333333333333,
              "#9c179e"
             ],
             [
              0.4444444444444444,
              "#bd3786"
             ],
             [
              0.5555555555555556,
              "#d8576b"
             ],
             [
              0.6666666666666666,
              "#ed7953"
             ],
             [
              0.7777777777777778,
              "#fb9f3a"
             ],
             [
              0.8888888888888888,
              "#fdca26"
             ],
             [
              1,
              "#f0f921"
             ]
            ],
            "type": "heatmap"
           }
          ],
          "heatmapgl": [
           {
            "colorbar": {
             "outlinewidth": 0,
             "ticks": ""
            },
            "colorscale": [
             [
              0,
              "#0d0887"
             ],
             [
              0.1111111111111111,
              "#46039f"
             ],
             [
              0.2222222222222222,
              "#7201a8"
             ],
             [
              0.3333333333333333,
              "#9c179e"
             ],
             [
              0.4444444444444444,
              "#bd3786"
             ],
             [
              0.5555555555555556,
              "#d8576b"
             ],
             [
              0.6666666666666666,
              "#ed7953"
             ],
             [
              0.7777777777777778,
              "#fb9f3a"
             ],
             [
              0.8888888888888888,
              "#fdca26"
             ],
             [
              1,
              "#f0f921"
             ]
            ],
            "type": "heatmapgl"
           }
          ],
          "histogram": [
           {
            "marker": {
             "pattern": {
              "fillmode": "overlay",
              "size": 10,
              "solidity": 0.2
             }
            },
            "type": "histogram"
           }
          ],
          "histogram2d": [
           {
            "colorbar": {
             "outlinewidth": 0,
             "ticks": ""
            },
            "colorscale": [
             [
              0,
              "#0d0887"
             ],
             [
              0.1111111111111111,
              "#46039f"
             ],
             [
              0.2222222222222222,
              "#7201a8"
             ],
             [
              0.3333333333333333,
              "#9c179e"
             ],
             [
              0.4444444444444444,
              "#bd3786"
             ],
             [
              0.5555555555555556,
              "#d8576b"
             ],
             [
              0.6666666666666666,
              "#ed7953"
             ],
             [
              0.7777777777777778,
              "#fb9f3a"
             ],
             [
              0.8888888888888888,
              "#fdca26"
             ],
             [
              1,
              "#f0f921"
             ]
            ],
            "type": "histogram2d"
           }
          ],
          "histogram2dcontour": [
           {
            "colorbar": {
             "outlinewidth": 0,
             "ticks": ""
            },
            "colorscale": [
             [
              0,
              "#0d0887"
             ],
             [
              0.1111111111111111,
              "#46039f"
             ],
             [
              0.2222222222222222,
              "#7201a8"
             ],
             [
              0.3333333333333333,
              "#9c179e"
             ],
             [
              0.4444444444444444,
              "#bd3786"
             ],
             [
              0.5555555555555556,
              "#d8576b"
             ],
             [
              0.6666666666666666,
              "#ed7953"
             ],
             [
              0.7777777777777778,
              "#fb9f3a"
             ],
             [
              0.8888888888888888,
              "#fdca26"
             ],
             [
              1,
              "#f0f921"
             ]
            ],
            "type": "histogram2dcontour"
           }
          ],
          "mesh3d": [
           {
            "colorbar": {
             "outlinewidth": 0,
             "ticks": ""
            },
            "type": "mesh3d"
           }
          ],
          "parcoords": [
           {
            "line": {
             "colorbar": {
              "outlinewidth": 0,
              "ticks": ""
             }
            },
            "type": "parcoords"
           }
          ],
          "pie": [
           {
            "automargin": true,
            "type": "pie"
           }
          ],
          "scatter": [
           {
            "marker": {
             "colorbar": {
              "outlinewidth": 0,
              "ticks": ""
             }
            },
            "type": "scatter"
           }
          ],
          "scatter3d": [
           {
            "line": {
             "colorbar": {
              "outlinewidth": 0,
              "ticks": ""
             }
            },
            "marker": {
             "colorbar": {
              "outlinewidth": 0,
              "ticks": ""
             }
            },
            "type": "scatter3d"
           }
          ],
          "scattercarpet": [
           {
            "marker": {
             "colorbar": {
              "outlinewidth": 0,
              "ticks": ""
             }
            },
            "type": "scattercarpet"
           }
          ],
          "scattergeo": [
           {
            "marker": {
             "colorbar": {
              "outlinewidth": 0,
              "ticks": ""
             }
            },
            "type": "scattergeo"
           }
          ],
          "scattergl": [
           {
            "marker": {
             "colorbar": {
              "outlinewidth": 0,
              "ticks": ""
             }
            },
            "type": "scattergl"
           }
          ],
          "scattermapbox": [
           {
            "marker": {
             "colorbar": {
              "outlinewidth": 0,
              "ticks": ""
             }
            },
            "type": "scattermapbox"
           }
          ],
          "scatterpolar": [
           {
            "marker": {
             "colorbar": {
              "outlinewidth": 0,
              "ticks": ""
             }
            },
            "type": "scatterpolar"
           }
          ],
          "scatterpolargl": [
           {
            "marker": {
             "colorbar": {
              "outlinewidth": 0,
              "ticks": ""
             }
            },
            "type": "scatterpolargl"
           }
          ],
          "scatterternary": [
           {
            "marker": {
             "colorbar": {
              "outlinewidth": 0,
              "ticks": ""
             }
            },
            "type": "scatterternary"
           }
          ],
          "surface": [
           {
            "colorbar": {
             "outlinewidth": 0,
             "ticks": ""
            },
            "colorscale": [
             [
              0,
              "#0d0887"
             ],
             [
              0.1111111111111111,
              "#46039f"
             ],
             [
              0.2222222222222222,
              "#7201a8"
             ],
             [
              0.3333333333333333,
              "#9c179e"
             ],
             [
              0.4444444444444444,
              "#bd3786"
             ],
             [
              0.5555555555555556,
              "#d8576b"
             ],
             [
              0.6666666666666666,
              "#ed7953"
             ],
             [
              0.7777777777777778,
              "#fb9f3a"
             ],
             [
              0.8888888888888888,
              "#fdca26"
             ],
             [
              1,
              "#f0f921"
             ]
            ],
            "type": "surface"
           }
          ],
          "table": [
           {
            "cells": {
             "fill": {
              "color": "#EBF0F8"
             },
             "line": {
              "color": "white"
             }
            },
            "header": {
             "fill": {
              "color": "#C8D4E3"
             },
             "line": {
              "color": "white"
             }
            },
            "type": "table"
           }
          ]
         },
         "layout": {
          "annotationdefaults": {
           "arrowcolor": "#2a3f5f",
           "arrowhead": 0,
           "arrowwidth": 1
          },
          "autotypenumbers": "strict",
          "coloraxis": {
           "colorbar": {
            "outlinewidth": 0,
            "ticks": ""
           }
          },
          "colorscale": {
           "diverging": [
            [
             0,
             "#8e0152"
            ],
            [
             0.1,
             "#c51b7d"
            ],
            [
             0.2,
             "#de77ae"
            ],
            [
             0.3,
             "#f1b6da"
            ],
            [
             0.4,
             "#fde0ef"
            ],
            [
             0.5,
             "#f7f7f7"
            ],
            [
             0.6,
             "#e6f5d0"
            ],
            [
             0.7,
             "#b8e186"
            ],
            [
             0.8,
             "#7fbc41"
            ],
            [
             0.9,
             "#4d9221"
            ],
            [
             1,
             "#276419"
            ]
           ],
           "sequential": [
            [
             0,
             "#0d0887"
            ],
            [
             0.1111111111111111,
             "#46039f"
            ],
            [
             0.2222222222222222,
             "#7201a8"
            ],
            [
             0.3333333333333333,
             "#9c179e"
            ],
            [
             0.4444444444444444,
             "#bd3786"
            ],
            [
             0.5555555555555556,
             "#d8576b"
            ],
            [
             0.6666666666666666,
             "#ed7953"
            ],
            [
             0.7777777777777778,
             "#fb9f3a"
            ],
            [
             0.8888888888888888,
             "#fdca26"
            ],
            [
             1,
             "#f0f921"
            ]
           ],
           "sequentialminus": [
            [
             0,
             "#0d0887"
            ],
            [
             0.1111111111111111,
             "#46039f"
            ],
            [
             0.2222222222222222,
             "#7201a8"
            ],
            [
             0.3333333333333333,
             "#9c179e"
            ],
            [
             0.4444444444444444,
             "#bd3786"
            ],
            [
             0.5555555555555556,
             "#d8576b"
            ],
            [
             0.6666666666666666,
             "#ed7953"
            ],
            [
             0.7777777777777778,
             "#fb9f3a"
            ],
            [
             0.8888888888888888,
             "#fdca26"
            ],
            [
             1,
             "#f0f921"
            ]
           ]
          },
          "colorway": [
           "#636efa",
           "#EF553B",
           "#00cc96",
           "#ab63fa",
           "#FFA15A",
           "#19d3f3",
           "#FF6692",
           "#B6E880",
           "#FF97FF",
           "#FECB52"
          ],
          "font": {
           "color": "#2a3f5f"
          },
          "geo": {
           "bgcolor": "white",
           "lakecolor": "white",
           "landcolor": "#E5ECF6",
           "showlakes": true,
           "showland": true,
           "subunitcolor": "white"
          },
          "hoverlabel": {
           "align": "left"
          },
          "hovermode": "closest",
          "mapbox": {
           "style": "light"
          },
          "paper_bgcolor": "white",
          "plot_bgcolor": "#E5ECF6",
          "polar": {
           "angularaxis": {
            "gridcolor": "white",
            "linecolor": "white",
            "ticks": ""
           },
           "bgcolor": "#E5ECF6",
           "radialaxis": {
            "gridcolor": "white",
            "linecolor": "white",
            "ticks": ""
           }
          },
          "scene": {
           "xaxis": {
            "backgroundcolor": "#E5ECF6",
            "gridcolor": "white",
            "gridwidth": 2,
            "linecolor": "white",
            "showbackground": true,
            "ticks": "",
            "zerolinecolor": "white"
           },
           "yaxis": {
            "backgroundcolor": "#E5ECF6",
            "gridcolor": "white",
            "gridwidth": 2,
            "linecolor": "white",
            "showbackground": true,
            "ticks": "",
            "zerolinecolor": "white"
           },
           "zaxis": {
            "backgroundcolor": "#E5ECF6",
            "gridcolor": "white",
            "gridwidth": 2,
            "linecolor": "white",
            "showbackground": true,
            "ticks": "",
            "zerolinecolor": "white"
           }
          },
          "shapedefaults": {
           "line": {
            "color": "#2a3f5f"
           }
          },
          "ternary": {
           "aaxis": {
            "gridcolor": "white",
            "linecolor": "white",
            "ticks": ""
           },
           "baxis": {
            "gridcolor": "white",
            "linecolor": "white",
            "ticks": ""
           },
           "bgcolor": "#E5ECF6",
           "caxis": {
            "gridcolor": "white",
            "linecolor": "white",
            "ticks": ""
           }
          },
          "title": {
           "x": 0.05
          },
          "xaxis": {
           "automargin": true,
           "gridcolor": "white",
           "linecolor": "white",
           "ticks": "",
           "title": {
            "standoff": 15
           },
           "zerolinecolor": "white",
           "zerolinewidth": 2
          },
          "yaxis": {
           "automargin": true,
           "gridcolor": "white",
           "linecolor": "white",
           "ticks": "",
           "title": {
            "standoff": 15
           },
           "zerolinecolor": "white",
           "zerolinewidth": 2
          }
         }
        }
       }
      }
     },
     "metadata": {},
     "output_type": "display_data"
    },
    {
     "data": {
      "application/vnd.plotly.v1+json": {
       "config": {
        "plotlyServerURL": "https://plot.ly"
       },
       "data": [
        {
         "coloraxis": "coloraxis",
         "customdata": [
          [
           4792,
           "퇴계로4가 교차로(중구청)"
          ],
          [
           3413,
           "종로플레이스"
          ],
          [
           398,
           "을지로3가역 3번출구"
          ],
          [
           345,
           "서울보증보험본사 앞"
          ],
          [
           338,
           "세운스퀘어 앞"
          ],
          [
           380,
           "CJ제일제당 앞"
          ],
          [
           390,
           "충무로역 1번출구"
          ],
          [
           329,
           "청계2가 사거리 옆"
          ],
          [
           387,
           "훈련원공원주차장 앞"
          ],
          [
           368,
           "SK 서린빌딩 앞"
          ],
          [
           332,
           "을지로2가 사거리 남측"
          ],
          [
           428,
           "명보사거리"
          ],
          [
           361,
           "동묘앞역 1번출구 뒤"
          ],
          [
           3013,
           "서울고용노동청본청"
          ],
          [
           3013,
           "서울지방고용노동청 앞"
          ],
          [
           320,
           "을지로입구역 4번출구 앞"
          ],
          [
           430,
           "KEB하나은행 장충동지점"
          ],
          [
           458,
           "광화문역 5번출구"
          ],
          [
           339,
           "종로4가 사거리"
          ],
          [
           383,
           "신당역 12번 출구 뒤"
          ],
          [
           453,
           "종로오가 지하쇼핑센터 14번출구"
          ],
          [
           336,
           "티마크 호텔 앞"
          ],
          [
           395,
           "경희궁 자이 2단지"
          ],
          [
           431,
           "청계천 영도교"
          ],
          [
           3410,
           "종로3가역 8번출구"
          ],
          [
           393,
           "동대문역 8번 출구"
          ],
          [
           3432,
           "종로2가 사거리"
          ],
          [
           477,
           "앰배서더 호텔 주변"
          ],
          [
           3411,
           "종묘"
          ],
          [
           568,
           "청계8가사거리 부근"
          ],
          [
           1338,
           "용문2교 옆"
          ],
          [
           3414,
           "종로5가역 4번출구"
          ],
          [
           359,
           "원남동사거리"
          ],
          [
           4784,
           "중부경찰서앞 사거리"
          ],
          [
           4791,
           "명동역9번출구"
          ],
          [
           1336,
           "성북3교 위"
          ],
          [
           335,
           "종로3가역 15번출구 앞"
          ],
          [
           474,
           "동대문역사문화공원역 1번출구 뒤편"
          ],
          [
           613,
           "신설동역 10번출구 앞"
          ],
          [
           375,
           "다산 어린이공원"
          ],
          [
           472,
           "삼일교(시그니쳐 타워)"
          ],
          [
           457,
           "종로꽃시장 입구 옆"
          ],
          [
           321,
           "KEB 하나금융그룹 명동사옥 옆"
          ],
          [
           328,
           "탑골공원 앞"
          ],
          [
           370,
           "시청역(2호선) 9번출구 뒤"
          ],
          [
           4765,
           "동대문디자인플라자"
          ],
          [
           3412,
           "세운상가"
          ],
          [
           316,
           "종각역 1번출구 앞"
          ],
          [
           455,
           "삼익한의원"
          ],
          [
           3408,
           "종로타워빌딩"
          ],
          [
           3514,
           "왕십리교회옆"
          ],
          [
           1382,
           "래미안월곡아파트 입구"
          ],
          [
           1382,
           "월곡래미안아파트 입구"
          ],
          [
           4775,
           "을지로지하쇼핑센터"
          ],
          [
           4778,
           "대신파이낸스센터"
          ]
         ],
         "hovertemplate": "<b>%{hovertext}</b><br><br>total_num=%{z}<br>위도=%{lat}<br>경도=%{lon}<br>id=%{customdata[0]}<br>주소2=%{customdata[1]}<extra></extra>",
         "hovertext": [
          "퇴계로4가 교차로(중구청)",
          "종로플레이스",
          "을지로3가역 3번출구",
          "서울보증보험본사 앞",
          "세운스퀘어 앞",
          "CJ제일제당 앞",
          "충무로역 1번출구",
          "청계2가 사거리 옆",
          "훈련원공원주차장 앞",
          "SK 서린빌딩 앞",
          "을지로2가 사거리 남측",
          "명보사거리",
          "동묘앞역 1번출구 뒤",
          "서울고용노동청본청",
          "서울지방고용노동청 앞",
          "을지로입구역 4번출구 앞",
          "KEB하나은행 장충동지점",
          "광화문역 5번출구",
          "종로4가 사거리",
          "신당역 12번 출구 뒤",
          "종로오가 지하쇼핑센터 14번출구",
          "티마크 호텔 앞",
          "경희궁 자이 2단지",
          "청계천 영도교",
          "종로3가역 8번출구",
          "동대문역 8번 출구",
          "종로2가 사거리",
          "앰배서더 호텔 주변",
          "종묘",
          "청계8가사거리 부근",
          "용문2교 옆",
          "종로5가역 4번출구",
          "원남동사거리",
          "중부경찰서앞 사거리",
          "명동역9번출구",
          "성북3교 위",
          "종로3가역 15번출구 앞",
          "동대문역사문화공원역 1번출구 뒤편",
          "신설동역 10번출구 앞",
          "다산 어린이공원",
          "삼일교(시그니쳐 타워)",
          "종로꽃시장 입구 옆",
          "KEB 하나금융그룹 명동사옥 옆",
          "탑골공원 앞",
          "시청역(2호선) 9번출구 뒤",
          "동대문디자인플라자",
          "세운상가",
          "종각역 1번출구 앞",
          "삼익한의원",
          "종로타워빌딩",
          "왕십리교회옆",
          "래미안월곡아파트 입구",
          "월곡래미안아파트 입구",
          "을지로지하쇼핑센터",
          "대신파이낸스센터"
         ],
         "lat": [
          37.5625267,
          37.5732,
          37.566559,
          37.573307,
          37.570957,
          37.563866,
          37.56139,
          37.568344,
          37.566994,
          37.569248,
          37.56599,
          37.5644,
          37.573242,
          37.56761551,
          null,
          37.566223,
          37.562172,
          37.569939,
          37.571068,
          37.565849,
          37.57114,
          37.562618,
          37.568855,
          37.5709,
          37.572037,
          37.570141,
          37.569992,
          37.559288,
          37.570702,
          37.571102,
          37.586899,
          37.571175,
          37.576061,
          37.56459045,
          37.56122589,
          37.591251,
          37.570198,
          37.566299,
          37.575272,
          37.563717,
          37.567871,
          37.57132,
          37.565464,
          37.570396,
          37.563229,
          37.5683136,
          37.570313,
          37.570396,
          37.570961,
          37.570511,
          37.566261,
          37.60853577,
          37.60853577,
          37.56599045,
          37.56520844
         ],
         "lon": [
          126.9983139,
          126.997963,
          126.992439,
          127.00071,
          126.997124,
          127.002747,
          126.995354,
          126.987892,
          127.003464,
          126.980537,
          126.987793,
          126.991432,
          127.015907,
          126.9872437,
          null,
          126.983589,
          127.006264,
          126.977539,
          126.998192,
          127.016403,
          127.000671,
          126.992836,
          126.964561,
          127.019524,
          126.991844,
          127.009377,
          126.988342,
          127.002686,
          126.994812,
          127.02356,
          127.020752,
          127.002228,
          126.997681,
          126.9907684,
          126.9874954,
          127.014008,
          126.991257,
          127.008492,
          127.023468,
          127.018425,
          126.988983,
          127.00721,
          126.984138,
          126.98819,
          126.974838,
          127.0094605,
          126.994545,
          126.981789,
          127.006058,
          126.983368,
          127.023697,
          127.0363922,
          127.0363922,
          126.9842758,
          126.9874268
         ],
         "name": "",
         "radius": 10,
         "subplot": "mapbox",
         "type": "densitymapbox",
         "z": [
          591,
          524,
          350,
          239,
          228,
          198,
          191,
          180,
          150,
          148,
          135,
          119,
          119,
          114,
          114,
          113,
          113,
          111,
          110,
          108,
          107,
          104,
          97,
          95,
          94,
          93,
          92,
          78,
          77,
          76,
          71,
          70,
          64,
          64,
          63,
          63,
          62,
          62,
          61,
          60,
          59,
          58,
          57,
          56,
          54,
          54,
          54,
          53,
          52,
          52,
          52,
          52,
          52,
          51,
          50
         ]
        },
        {
         "customdata": [
          [
           320
          ],
          [
           433
          ],
          [
           4774
          ]
         ],
         "hovertemplate": "<b>%{hovertext}</b><br><br>위도=%{lat}<br>경도=%{lon}<br>id=%{customdata[0]}<extra></extra>",
         "hovertext": [
          "을지로입구역 4번출구 앞",
          "을지로입구역 2번출구",
          "을지로입구역 8번출구"
         ],
         "lat": [
          37.566223,
          37.566345,
          37.56590271
         ],
         "legendgroup": "",
         "lon": [
          126.983589,
          126.982292,
          126.981781
         ],
         "marker": {
          "color": "#636efa",
          "opacity": 1
         },
         "mode": "markers",
         "name": "",
         "showlegend": false,
         "subplot": "mapbox",
         "type": "scattermapbox"
        }
       ],
       "layout": {
        "coloraxis": {
         "colorbar": {
          "title": {
           "text": "total_num"
          }
         },
         "colorscale": [
          [
           0,
           "rgb(214, 249, 207)"
          ],
          [
           0.09090909090909091,
           "rgb(186, 228, 174)"
          ],
          [
           0.18181818181818182,
           "rgb(156, 209, 143)"
          ],
          [
           0.2727272727272727,
           "rgb(124, 191, 115)"
          ],
          [
           0.36363636363636365,
           "rgb(85, 174, 91)"
          ],
          [
           0.45454545454545453,
           "rgb(37, 157, 81)"
          ],
          [
           0.5454545454545454,
           "rgb(7, 138, 78)"
          ],
          [
           0.6363636363636364,
           "rgb(13, 117, 71)"
          ],
          [
           0.7272727272727273,
           "rgb(23, 95, 61)"
          ],
          [
           0.8181818181818182,
           "rgb(25, 75, 49)"
          ],
          [
           0.9090909090909091,
           "rgb(23, 55, 35)"
          ],
          [
           1,
           "rgb(17, 36, 20)"
          ]
         ]
        },
        "legend": {
         "tracegroupgap": 0
        },
        "mapbox": {
         "center": {
          "lat": 37.570364066296285,
          "lon": 126.99908255370372
         },
         "domain": {
          "x": [
           0,
           1
          ],
          "y": [
           0,
           1
          ]
         },
         "style": "carto-positron",
         "zoom": 13
        },
        "margin": {
         "t": 60
        },
        "template": {
         "data": {
          "bar": [
           {
            "error_x": {
             "color": "#2a3f5f"
            },
            "error_y": {
             "color": "#2a3f5f"
            },
            "marker": {
             "line": {
              "color": "#E5ECF6",
              "width": 0.5
             },
             "pattern": {
              "fillmode": "overlay",
              "size": 10,
              "solidity": 0.2
             }
            },
            "type": "bar"
           }
          ],
          "barpolar": [
           {
            "marker": {
             "line": {
              "color": "#E5ECF6",
              "width": 0.5
             },
             "pattern": {
              "fillmode": "overlay",
              "size": 10,
              "solidity": 0.2
             }
            },
            "type": "barpolar"
           }
          ],
          "carpet": [
           {
            "aaxis": {
             "endlinecolor": "#2a3f5f",
             "gridcolor": "white",
             "linecolor": "white",
             "minorgridcolor": "white",
             "startlinecolor": "#2a3f5f"
            },
            "baxis": {
             "endlinecolor": "#2a3f5f",
             "gridcolor": "white",
             "linecolor": "white",
             "minorgridcolor": "white",
             "startlinecolor": "#2a3f5f"
            },
            "type": "carpet"
           }
          ],
          "choropleth": [
           {
            "colorbar": {
             "outlinewidth": 0,
             "ticks": ""
            },
            "type": "choropleth"
           }
          ],
          "contour": [
           {
            "colorbar": {
             "outlinewidth": 0,
             "ticks": ""
            },
            "colorscale": [
             [
              0,
              "#0d0887"
             ],
             [
              0.1111111111111111,
              "#46039f"
             ],
             [
              0.2222222222222222,
              "#7201a8"
             ],
             [
              0.3333333333333333,
              "#9c179e"
             ],
             [
              0.4444444444444444,
              "#bd3786"
             ],
             [
              0.5555555555555556,
              "#d8576b"
             ],
             [
              0.6666666666666666,
              "#ed7953"
             ],
             [
              0.7777777777777778,
              "#fb9f3a"
             ],
             [
              0.8888888888888888,
              "#fdca26"
             ],
             [
              1,
              "#f0f921"
             ]
            ],
            "type": "contour"
           }
          ],
          "contourcarpet": [
           {
            "colorbar": {
             "outlinewidth": 0,
             "ticks": ""
            },
            "type": "contourcarpet"
           }
          ],
          "heatmap": [
           {
            "colorbar": {
             "outlinewidth": 0,
             "ticks": ""
            },
            "colorscale": [
             [
              0,
              "#0d0887"
             ],
             [
              0.1111111111111111,
              "#46039f"
             ],
             [
              0.2222222222222222,
              "#7201a8"
             ],
             [
              0.3333333333333333,
              "#9c179e"
             ],
             [
              0.4444444444444444,
              "#bd3786"
             ],
             [
              0.5555555555555556,
              "#d8576b"
             ],
             [
              0.6666666666666666,
              "#ed7953"
             ],
             [
              0.7777777777777778,
              "#fb9f3a"
             ],
             [
              0.8888888888888888,
              "#fdca26"
             ],
             [
              1,
              "#f0f921"
             ]
            ],
            "type": "heatmap"
           }
          ],
          "heatmapgl": [
           {
            "colorbar": {
             "outlinewidth": 0,
             "ticks": ""
            },
            "colorscale": [
             [
              0,
              "#0d0887"
             ],
             [
              0.1111111111111111,
              "#46039f"
             ],
             [
              0.2222222222222222,
              "#7201a8"
             ],
             [
              0.3333333333333333,
              "#9c179e"
             ],
             [
              0.4444444444444444,
              "#bd3786"
             ],
             [
              0.5555555555555556,
              "#d8576b"
             ],
             [
              0.6666666666666666,
              "#ed7953"
             ],
             [
              0.7777777777777778,
              "#fb9f3a"
             ],
             [
              0.8888888888888888,
              "#fdca26"
             ],
             [
              1,
              "#f0f921"
             ]
            ],
            "type": "heatmapgl"
           }
          ],
          "histogram": [
           {
            "marker": {
             "pattern": {
              "fillmode": "overlay",
              "size": 10,
              "solidity": 0.2
             }
            },
            "type": "histogram"
           }
          ],
          "histogram2d": [
           {
            "colorbar": {
             "outlinewidth": 0,
             "ticks": ""
            },
            "colorscale": [
             [
              0,
              "#0d0887"
             ],
             [
              0.1111111111111111,
              "#46039f"
             ],
             [
              0.2222222222222222,
              "#7201a8"
             ],
             [
              0.3333333333333333,
              "#9c179e"
             ],
             [
              0.4444444444444444,
              "#bd3786"
             ],
             [
              0.5555555555555556,
              "#d8576b"
             ],
             [
              0.6666666666666666,
              "#ed7953"
             ],
             [
              0.7777777777777778,
              "#fb9f3a"
             ],
             [
              0.8888888888888888,
              "#fdca26"
             ],
             [
              1,
              "#f0f921"
             ]
            ],
            "type": "histogram2d"
           }
          ],
          "histogram2dcontour": [
           {
            "colorbar": {
             "outlinewidth": 0,
             "ticks": ""
            },
            "colorscale": [
             [
              0,
              "#0d0887"
             ],
             [
              0.1111111111111111,
              "#46039f"
             ],
             [
              0.2222222222222222,
              "#7201a8"
             ],
             [
              0.3333333333333333,
              "#9c179e"
             ],
             [
              0.4444444444444444,
              "#bd3786"
             ],
             [
              0.5555555555555556,
              "#d8576b"
             ],
             [
              0.6666666666666666,
              "#ed7953"
             ],
             [
              0.7777777777777778,
              "#fb9f3a"
             ],
             [
              0.8888888888888888,
              "#fdca26"
             ],
             [
              1,
              "#f0f921"
             ]
            ],
            "type": "histogram2dcontour"
           }
          ],
          "mesh3d": [
           {
            "colorbar": {
             "outlinewidth": 0,
             "ticks": ""
            },
            "type": "mesh3d"
           }
          ],
          "parcoords": [
           {
            "line": {
             "colorbar": {
              "outlinewidth": 0,
              "ticks": ""
             }
            },
            "type": "parcoords"
           }
          ],
          "pie": [
           {
            "automargin": true,
            "type": "pie"
           }
          ],
          "scatter": [
           {
            "marker": {
             "colorbar": {
              "outlinewidth": 0,
              "ticks": ""
             }
            },
            "type": "scatter"
           }
          ],
          "scatter3d": [
           {
            "line": {
             "colorbar": {
              "outlinewidth": 0,
              "ticks": ""
             }
            },
            "marker": {
             "colorbar": {
              "outlinewidth": 0,
              "ticks": ""
             }
            },
            "type": "scatter3d"
           }
          ],
          "scattercarpet": [
           {
            "marker": {
             "colorbar": {
              "outlinewidth": 0,
              "ticks": ""
             }
            },
            "type": "scattercarpet"
           }
          ],
          "scattergeo": [
           {
            "marker": {
             "colorbar": {
              "outlinewidth": 0,
              "ticks": ""
             }
            },
            "type": "scattergeo"
           }
          ],
          "scattergl": [
           {
            "marker": {
             "colorbar": {
              "outlinewidth": 0,
              "ticks": ""
             }
            },
            "type": "scattergl"
           }
          ],
          "scattermapbox": [
           {
            "marker": {
             "colorbar": {
              "outlinewidth": 0,
              "ticks": ""
             }
            },
            "type": "scattermapbox"
           }
          ],
          "scatterpolar": [
           {
            "marker": {
             "colorbar": {
              "outlinewidth": 0,
              "ticks": ""
             }
            },
            "type": "scatterpolar"
           }
          ],
          "scatterpolargl": [
           {
            "marker": {
             "colorbar": {
              "outlinewidth": 0,
              "ticks": ""
             }
            },
            "type": "scatterpolargl"
           }
          ],
          "scatterternary": [
           {
            "marker": {
             "colorbar": {
              "outlinewidth": 0,
              "ticks": ""
             }
            },
            "type": "scatterternary"
           }
          ],
          "surface": [
           {
            "colorbar": {
             "outlinewidth": 0,
             "ticks": ""
            },
            "colorscale": [
             [
              0,
              "#0d0887"
             ],
             [
              0.1111111111111111,
              "#46039f"
             ],
             [
              0.2222222222222222,
              "#7201a8"
             ],
             [
              0.3333333333333333,
              "#9c179e"
             ],
             [
              0.4444444444444444,
              "#bd3786"
             ],
             [
              0.5555555555555556,
              "#d8576b"
             ],
             [
              0.6666666666666666,
              "#ed7953"
             ],
             [
              0.7777777777777778,
              "#fb9f3a"
             ],
             [
              0.8888888888888888,
              "#fdca26"
             ],
             [
              1,
              "#f0f921"
             ]
            ],
            "type": "surface"
           }
          ],
          "table": [
           {
            "cells": {
             "fill": {
              "color": "#EBF0F8"
             },
             "line": {
              "color": "white"
             }
            },
            "header": {
             "fill": {
              "color": "#C8D4E3"
             },
             "line": {
              "color": "white"
             }
            },
            "type": "table"
           }
          ]
         },
         "layout": {
          "annotationdefaults": {
           "arrowcolor": "#2a3f5f",
           "arrowhead": 0,
           "arrowwidth": 1
          },
          "autotypenumbers": "strict",
          "coloraxis": {
           "colorbar": {
            "outlinewidth": 0,
            "ticks": ""
           }
          },
          "colorscale": {
           "diverging": [
            [
             0,
             "#8e0152"
            ],
            [
             0.1,
             "#c51b7d"
            ],
            [
             0.2,
             "#de77ae"
            ],
            [
             0.3,
             "#f1b6da"
            ],
            [
             0.4,
             "#fde0ef"
            ],
            [
             0.5,
             "#f7f7f7"
            ],
            [
             0.6,
             "#e6f5d0"
            ],
            [
             0.7,
             "#b8e186"
            ],
            [
             0.8,
             "#7fbc41"
            ],
            [
             0.9,
             "#4d9221"
            ],
            [
             1,
             "#276419"
            ]
           ],
           "sequential": [
            [
             0,
             "#0d0887"
            ],
            [
             0.1111111111111111,
             "#46039f"
            ],
            [
             0.2222222222222222,
             "#7201a8"
            ],
            [
             0.3333333333333333,
             "#9c179e"
            ],
            [
             0.4444444444444444,
             "#bd3786"
            ],
            [
             0.5555555555555556,
             "#d8576b"
            ],
            [
             0.6666666666666666,
             "#ed7953"
            ],
            [
             0.7777777777777778,
             "#fb9f3a"
            ],
            [
             0.8888888888888888,
             "#fdca26"
            ],
            [
             1,
             "#f0f921"
            ]
           ],
           "sequentialminus": [
            [
             0,
             "#0d0887"
            ],
            [
             0.1111111111111111,
             "#46039f"
            ],
            [
             0.2222222222222222,
             "#7201a8"
            ],
            [
             0.3333333333333333,
             "#9c179e"
            ],
            [
             0.4444444444444444,
             "#bd3786"
            ],
            [
             0.5555555555555556,
             "#d8576b"
            ],
            [
             0.6666666666666666,
             "#ed7953"
            ],
            [
             0.7777777777777778,
             "#fb9f3a"
            ],
            [
             0.8888888888888888,
             "#fdca26"
            ],
            [
             1,
             "#f0f921"
            ]
           ]
          },
          "colorway": [
           "#636efa",
           "#EF553B",
           "#00cc96",
           "#ab63fa",
           "#FFA15A",
           "#19d3f3",
           "#FF6692",
           "#B6E880",
           "#FF97FF",
           "#FECB52"
          ],
          "font": {
           "color": "#2a3f5f"
          },
          "geo": {
           "bgcolor": "white",
           "lakecolor": "white",
           "landcolor": "#E5ECF6",
           "showlakes": true,
           "showland": true,
           "subunitcolor": "white"
          },
          "hoverlabel": {
           "align": "left"
          },
          "hovermode": "closest",
          "mapbox": {
           "style": "light"
          },
          "paper_bgcolor": "white",
          "plot_bgcolor": "#E5ECF6",
          "polar": {
           "angularaxis": {
            "gridcolor": "white",
            "linecolor": "white",
            "ticks": ""
           },
           "bgcolor": "#E5ECF6",
           "radialaxis": {
            "gridcolor": "white",
            "linecolor": "white",
            "ticks": ""
           }
          },
          "scene": {
           "xaxis": {
            "backgroundcolor": "#E5ECF6",
            "gridcolor": "white",
            "gridwidth": 2,
            "linecolor": "white",
            "showbackground": true,
            "ticks": "",
            "zerolinecolor": "white"
           },
           "yaxis": {
            "backgroundcolor": "#E5ECF6",
            "gridcolor": "white",
            "gridwidth": 2,
            "linecolor": "white",
            "showbackground": true,
            "ticks": "",
            "zerolinecolor": "white"
           },
           "zaxis": {
            "backgroundcolor": "#E5ECF6",
            "gridcolor": "white",
            "gridwidth": 2,
            "linecolor": "white",
            "showbackground": true,
            "ticks": "",
            "zerolinecolor": "white"
           }
          },
          "shapedefaults": {
           "line": {
            "color": "#2a3f5f"
           }
          },
          "ternary": {
           "aaxis": {
            "gridcolor": "white",
            "linecolor": "white",
            "ticks": ""
           },
           "baxis": {
            "gridcolor": "white",
            "linecolor": "white",
            "ticks": ""
           },
           "bgcolor": "#E5ECF6",
           "caxis": {
            "gridcolor": "white",
            "linecolor": "white",
            "ticks": ""
           }
          },
          "title": {
           "x": 0.05
          },
          "xaxis": {
           "automargin": true,
           "gridcolor": "white",
           "linecolor": "white",
           "ticks": "",
           "title": {
            "standoff": 15
           },
           "zerolinecolor": "white",
           "zerolinewidth": 2
          },
          "yaxis": {
           "automargin": true,
           "gridcolor": "white",
           "linecolor": "white",
           "ticks": "",
           "title": {
            "standoff": 15
           },
           "zerolinecolor": "white",
           "zerolinewidth": 2
          }
         }
        }
       }
      }
     },
     "metadata": {},
     "output_type": "display_data"
    }
   ],
   "source": [
    "import plotly.graph_objects as go \n",
    "# sort_1 = result_station_df.query('est_time > 45').sort_values(by='total_num',ascending=False)\n",
    "sort_1 = result_station_df.sort_values(by='total_num',ascending=False)\n",
    "sort_1 = sort_1.merge(station,on='id').query('0 < est_time <= 60 & total_num >= 50')\n",
    "\n",
    "sort_2 = result_station_left.sort_values(by='total_num',ascending=False)\n",
    "sort_2 = sort_2.merge(station,on='id').query('0 < est_time <= 60 & total_num >= 50')\n",
    "\n",
    "fig = px.density_mapbox(sort_1, lat=\"위도\", lon=\"경도\",z='total_num',hover_name='주소2',hover_data=['id','주소2','total_num'],radius=10,color_continuous_scale='temps' ,zoom=13)\n",
    "# fig_2 = px.density_mapbox(sort_2, lat=\"위도\", lon=\"경도\",z='est_time',hover_name='est_time',hover_data=['id','주소2','total_num'],radius=10,color_continuous_scale='bupu' ,zoom=10)\n",
    "fig_3 = px.scatter_mapbox(station.query('id==@wanting_ids'), lat=\"위도\", lon=\"경도\", hover_name=\"주소2\", hover_data=['id'],\n",
    "                        color_continuous_scale='orangered', opacity=1)\n",
    "# fig.add_trace(fig_2.data[0])\n",
    "fig.add_trace(fig_3.data[0])\n",
    "fig.show()\n",
    "\n",
    "fig_2 = px.density_mapbox(sort_2, lat=\"위도\", lon=\"경도\",z='total_num',hover_name='주소2',hover_data=['id','주소2','total_num'],radius=10,color_continuous_scale='algae' ,zoom=13)\n",
    "fig_3 = px.scatter_mapbox(station.query('id==@wanting_ids_left'), lat=\"위도\", lon=\"경도\", hover_name=\"주소2\", hover_data=['id'],\n",
    "                        color_continuous_scale='orangered', opacity=1)\n",
    "fig_2.add_trace(fig_3.data[0])\n",
    "fig_2.update_layout(mapbox_style=\"carto-positron\")\n",
    "\n",
    "fig_2.show()"
   ]
  },
  {
   "cell_type": "code",
   "execution_count": 309,
   "metadata": {},
   "outputs": [
    {
     "data": {
      "text/plain": [
       "(array([  0.,  20.,  40.,  60.,  80., 100., 120.]),\n",
       " [Text(0, 0, ''),\n",
       "  Text(0, 0, ''),\n",
       "  Text(0, 0, ''),\n",
       "  Text(0, 0, ''),\n",
       "  Text(0, 0, ''),\n",
       "  Text(0, 0, ''),\n",
       "  Text(0, 0, '')])"
      ]
     },
     "execution_count": 309,
     "metadata": {},
     "output_type": "execute_result"
    },
    {
     "data": {
      "image/png": "[encoded data removed]",
      "text/plain": [
       "<Figure size 576x396 with 1 Axes>"
      ]
     },
     "metadata": {},
     "output_type": "display_data"
    }
   ],
   "source": [
    "plt.style.use('seaborn')\n",
    "a = sorted_seoul_bike.sort_values(by='dist',ascending=False)[:5]\n",
    "a_dist = (a['dist']/1000).reset_index(drop=True).plot.bar()\n",
    "plt.xticks(fontsize=16)\n",
    "plt.yticks(fontsize=16)\n",
    "# for i in range(5) : \n",
    "#     a_riding = a['riding_time'].values[i]\n",
    "#     plt.text(-0.2+1*i, 105, a_riding)"
   ]
  },
  {
   "cell_type": "markdown",
   "metadata": {},
   "source": [
    "### 속도왕 거주지"
   ]
  },
  {
   "cell_type": "code",
   "execution_count": null,
   "metadata": {},
   "outputs": [],
   "source": [
    "\n",
    "# 나처럼 편도로 이용하는 경우도 있고\n",
    "# 같거나 비슷한 거리에 있는 장소에서 반납하는 경우도 있음\n",
    "\n",
    "a = seoul_bike.query('dist > 20000').groupby(['st_id1','st_id2']).size().sort_values(ascending=False).reset_index()\n",
    "a.rename(columns={0:'대여횟수'},inplace=True)\n",
    "\n",
    "#merge\n",
    "merge_1 = pd.merge(a,station, how='inner', left_on='st_id1',right_on='id')\n",
    "station_name = pd.merge(merge_1,station, how='inner', left_on='st_id2',right_on='id')\n",
    "\n",
    "# 필요 없는값 제거 및 대여횟수별 정리\n",
    "station_name.drop(columns=['st_id1','st_id2'],inplace=True)\n",
    "station_name.sort_values(by='대여횟수',ascending=False)\n",
    "\n",
    "BM = station_name['주소2_x'] != station_name['주소2_y']\n",
    "values = station_name[BM].sort_values(by='대여횟수',ascending=False)"
   ]
  },
  {
   "cell_type": "markdown",
   "metadata": {},
   "source": [
    "### 가장 많이 학대 당한 자전거는?"
   ]
  },
  {
   "cell_type": "code",
   "execution_count": 19,
   "metadata": {},
   "outputs": [
    {
     "data": {
      "text/plain": [
       "by_id\n",
       "48728    12\n",
       "45125     8\n",
       "48001     8\n",
       "57709     5\n",
       "48541     4\n",
       "57873     4\n",
       "49422     4\n",
       "58127     3\n",
       "32142     3\n",
       "49218     3\n",
       "dtype: int64"
      ]
     },
     "execution_count": 19,
     "metadata": {},
     "output_type": "execute_result"
    }
   ],
   "source": [
    "seoul_bike.query('dist >20000 & riding_time < 70').groupby('by_id').size().sort_values(ascending=False).head(10)"
   ]
  },
  {
   "cell_type": "markdown",
   "metadata": {},
   "source": [
    "### 가장 많은 거리를 달린 자전거는?"
   ]
  },
  {
   "cell_type": "code",
   "execution_count": 20,
   "metadata": {},
   "outputs": [
    {
     "data": {
      "text/plain": [
       "by_id\n",
       "55341    4712.66000\n",
       "48375    4577.22000\n",
       "52721    4541.66417\n",
       "46568    4467.42000\n",
       "48361    4425.97000\n",
       "49003    4391.18000\n",
       "54374    4385.41000\n",
       "49138    4361.05000\n",
       "55624    4351.21000\n",
       "55198    4339.55000\n",
       "Name: dist, dtype: float64"
      ]
     },
     "execution_count": 20,
     "metadata": {},
     "output_type": "execute_result"
    }
   ],
   "source": [
    "(seoul_bike.groupby('by_id')['dist'].sum()/1000).sort_values(ascending=False).head(10)"
   ]
  },
  {
   "cell_type": "markdown",
   "metadata": {},
   "source": [
    "### 오래 달린 자전거의 운행 기록은?"
   ]
  },
  {
   "cell_type": "code",
   "execution_count": 21,
   "metadata": {},
   "outputs": [
    {
     "name": "stdout",
     "output_type": "stream",
     "text": [
      "27.333108108108107\n",
      "1860.0\n",
      "7783.000000000004\n"
     ]
    }
   ],
   "source": [
    "# 우리 55341 바이크는요.. 7~12월 총 1480번을 빌려졌어요. 평균 27분정도 빌려졌고 주행의 절반정도는 1860m이상을 운행했어요. 상위 10%운행은 7.8km를 달렸네요\n",
    "\n",
    "seoul_bike.query('by_id==55341')\n",
    "print(seoul_bike.query('by_id==55341')['riding_time'].mean())\n",
    "print(seoul_bike.query('by_id==55341')['dist'].median())\n",
    "print(seoul_bike.query('by_id==55341')['dist'].quantile(0.9))"
   ]
  },
  {
   "cell_type": "markdown",
   "metadata": {},
   "source": [
    "### 내 집 주위에 사는 사람들은 주로 어디를 이동할까? \n",
    "* 목동 754,4526,744,766 을지로 473, 389"
   ]
  },
  {
   "cell_type": "code",
   "execution_count": 104,
   "metadata": {},
   "outputs": [
    {
     "data": {
      "text/html": [
       "<div>\n",
       "<style scoped>\n",
       "    .dataframe tbody tr th:only-of-type {\n",
       "        vertical-align: middle;\n",
       "    }\n",
       "\n",
       "    .dataframe tbody tr th {\n",
       "        vertical-align: top;\n",
       "    }\n",
       "\n",
       "    .dataframe thead th {\n",
       "        text-align: right;\n",
       "    }\n",
       "</style>\n",
       "<table border=\"1\" class=\"dataframe\">\n",
       "  <thead>\n",
       "    <tr style=\"text-align: right;\">\n",
       "      <th></th>\n",
       "      <th>횟수</th>\n",
       "      <th>dest_id</th>\n",
       "      <th>id</th>\n",
       "      <th>주소2</th>\n",
       "      <th>주소1</th>\n",
       "      <th>지역</th>\n",
       "      <th>위도</th>\n",
       "      <th>경도</th>\n",
       "      <th>설치일</th>\n",
       "    </tr>\n",
       "  </thead>\n",
       "  <tbody>\n",
       "    <tr>\n",
       "      <th>0</th>\n",
       "      <td>3091</td>\n",
       "      <td>521</td>\n",
       "      <td>744</td>\n",
       "      <td>신목동역 2번 출구</td>\n",
       "      <td>서울특별시 양천구 목동중앙로 212 앞</td>\n",
       "      <td>양천구</td>\n",
       "      <td>37.543842</td>\n",
       "      <td>126.882545</td>\n",
       "      <td>2020-10-28</td>\n",
       "    </tr>\n",
       "    <tr>\n",
       "      <th>1</th>\n",
       "      <td>2024</td>\n",
       "      <td>540</td>\n",
       "      <td>766</td>\n",
       "      <td>신목동역 3번출구</td>\n",
       "      <td>양천구 목동 136-1</td>\n",
       "      <td>양천구</td>\n",
       "      <td>37.544260</td>\n",
       "      <td>126.883250</td>\n",
       "      <td>2019-03-12</td>\n",
       "    </tr>\n",
       "    <tr>\n",
       "      <th>2</th>\n",
       "      <td>1787</td>\n",
       "      <td>529</td>\n",
       "      <td>754</td>\n",
       "      <td>목동1단지아파트 118동 앞 (월촌초등학교 정류소 옆</td>\n",
       "      <td>양천구 목동서로 38</td>\n",
       "      <td>양천구</td>\n",
       "      <td>37.541142</td>\n",
       "      <td>126.876678</td>\n",
       "      <td>2018-09-27</td>\n",
       "    </tr>\n",
       "    <tr>\n",
       "      <th>3</th>\n",
       "      <td>1230</td>\n",
       "      <td>530</td>\n",
       "      <td>755</td>\n",
       "      <td>목동1단지아파트 상가 앞 (월촌중학교 버스정류소 옆)</td>\n",
       "      <td>양천구 목동서로 38</td>\n",
       "      <td>양천구</td>\n",
       "      <td>37.537868</td>\n",
       "      <td>126.881409</td>\n",
       "      <td>2018-09-27</td>\n",
       "    </tr>\n",
       "    <tr>\n",
       "      <th>4</th>\n",
       "      <td>989</td>\n",
       "      <td>2383</td>\n",
       "      <td>4526</td>\n",
       "      <td>목동아파트2단지 222동 앞</td>\n",
       "      <td>양천구 목동중앙로 125건너편</td>\n",
       "      <td>양천구</td>\n",
       "      <td>37.539688</td>\n",
       "      <td>126.874985</td>\n",
       "      <td>2021-04-06</td>\n",
       "    </tr>\n",
       "    <tr>\n",
       "      <th>...</th>\n",
       "      <td>...</td>\n",
       "      <td>...</td>\n",
       "      <td>...</td>\n",
       "      <td>...</td>\n",
       "      <td>...</td>\n",
       "      <td>...</td>\n",
       "      <td>...</td>\n",
       "      <td>...</td>\n",
       "      <td>...</td>\n",
       "    </tr>\n",
       "    <tr>\n",
       "      <th>569</th>\n",
       "      <td>1</td>\n",
       "      <td>1294</td>\n",
       "      <td>1846</td>\n",
       "      <td>롯데캐슬골드파크1차 동문</td>\n",
       "      <td>서울특별시 금천구 독산동 441-19</td>\n",
       "      <td>금천구</td>\n",
       "      <td>37.460171</td>\n",
       "      <td>126.896042</td>\n",
       "      <td>2017-11-01</td>\n",
       "    </tr>\n",
       "    <tr>\n",
       "      <th>570</th>\n",
       "      <td>1</td>\n",
       "      <td>293</td>\n",
       "      <td>446</td>\n",
       "      <td>상명대입구</td>\n",
       "      <td>서울특별시 종로구 홍지문길 1</td>\n",
       "      <td>종로구</td>\n",
       "      <td>37.600128</td>\n",
       "      <td>126.957832</td>\n",
       "      <td>2017-08-01</td>\n",
       "    </tr>\n",
       "    <tr>\n",
       "      <th>571</th>\n",
       "      <td>1</td>\n",
       "      <td>1912</td>\n",
       "      <td>3203</td>\n",
       "      <td>도림동배드민턴체육관</td>\n",
       "      <td>영등포구 도림동 276-2</td>\n",
       "      <td>영등포구</td>\n",
       "      <td>37.506115</td>\n",
       "      <td>126.898590</td>\n",
       "      <td>2020-03-04</td>\n",
       "    </tr>\n",
       "    <tr>\n",
       "      <th>572</th>\n",
       "      <td>1</td>\n",
       "      <td>796</td>\n",
       "      <td>1113</td>\n",
       "      <td>서남환경공원 버스정류장</td>\n",
       "      <td>서울특별시 강서구 양천로 201</td>\n",
       "      <td>강서구</td>\n",
       "      <td>37.573093</td>\n",
       "      <td>126.822899</td>\n",
       "      <td>2017-04-24</td>\n",
       "    </tr>\n",
       "    <tr>\n",
       "      <th>573</th>\n",
       "      <td>1</td>\n",
       "      <td>2393</td>\n",
       "      <td>4553</td>\n",
       "      <td>당산삼성2차아파트</td>\n",
       "      <td>영등포구 당산동4가 94-1</td>\n",
       "      <td>영등포구</td>\n",
       "      <td>37.527622</td>\n",
       "      <td>126.898636</td>\n",
       "      <td>2021-05-17</td>\n",
       "    </tr>\n",
       "  </tbody>\n",
       "</table>\n",
       "<p>574 rows × 9 columns</p>\n",
       "</div>"
      ],
      "text/plain": [
       "       횟수  dest_id    id                            주소2  \\\n",
       "0    3091      521   744                     신목동역 2번 출구   \n",
       "1    2024      540   766                      신목동역 3번출구   \n",
       "2    1787      529   754  목동1단지아파트 118동 앞 (월촌초등학교 정류소 옆   \n",
       "3    1230      530   755  목동1단지아파트 상가 앞 (월촌중학교 버스정류소 옆)   \n",
       "4     989     2383  4526                목동아파트2단지 222동 앞   \n",
       "..    ...      ...   ...                            ...   \n",
       "569     1     1294  1846                  롯데캐슬골드파크1차 동문   \n",
       "570     1      293   446                          상명대입구   \n",
       "571     1     1912  3203                     도림동배드민턴체육관   \n",
       "572     1      796  1113                   서남환경공원 버스정류장   \n",
       "573     1     2393  4553                      당산삼성2차아파트   \n",
       "\n",
       "                       주소1    지역         위도          경도         설치일  \n",
       "0    서울특별시 양천구 목동중앙로 212 앞   양천구  37.543842  126.882545  2020-10-28  \n",
       "1             양천구 목동 136-1   양천구  37.544260  126.883250  2019-03-12  \n",
       "2              양천구 목동서로 38   양천구  37.541142  126.876678  2018-09-27  \n",
       "3              양천구 목동서로 38   양천구  37.537868  126.881409  2018-09-27  \n",
       "4         양천구 목동중앙로 125건너편   양천구  37.539688  126.874985  2021-04-06  \n",
       "..                     ...   ...        ...         ...         ...  \n",
       "569  서울특별시 금천구 독산동 441-19    금천구  37.460171  126.896042  2017-11-01  \n",
       "570       서울특별시 종로구 홍지문길 1   종로구  37.600128  126.957832  2017-08-01  \n",
       "571         영등포구 도림동 276-2  영등포구  37.506115  126.898590  2020-03-04  \n",
       "572      서울특별시 강서구 양천로 201   강서구  37.573093  126.822899  2017-04-24  \n",
       "573        영등포구 당산동4가 94-1  영등포구  37.527622  126.898636  2021-05-17  \n",
       "\n",
       "[574 rows x 9 columns]"
      ]
     },
     "execution_count": 104,
     "metadata": {},
     "output_type": "execute_result"
    }
   ],
   "source": [
    "where_to_go"
   ]
  },
  {
   "cell_type": "code",
   "execution_count": 105,
   "metadata": {},
   "outputs": [
    {
     "data": {
      "application/vnd.plotly.v1+json": {
       "config": {
        "plotlyServerURL": "https://plot.ly"
       },
       "data": [
        {
         "customdata": [
          [
           3091,
           744
          ],
          [
           2024,
           766
          ],
          [
           1787,
           754
          ],
          [
           1230,
           755
          ],
          [
           989,
           4526
          ],
          [
           922,
           735
          ],
          [
           893,
           746
          ],
          [
           803,
           726
          ],
          [
           451,
           769
          ],
          [
           405,
           768
          ],
          [
           404,
           702
          ],
          [
           382,
           773
          ],
          [
           341,
           764
          ],
          [
           319,
           747
          ],
          [
           316,
           749
          ],
          [
           303,
           4527
          ],
          [
           300,
           4531
          ],
          [
           235,
           780
          ],
          [
           228,
           765
          ],
          [
           218,
           793
          ],
          [
           206,
           731
          ],
          [
           191,
           770
          ],
          [
           182,
           207
          ],
          [
           179,
           700
          ],
          [
           177,
           1169
          ],
          [
           168,
           792
          ],
          [
           166,
           272
          ],
          [
           146,
           703
          ],
          [
           144,
           1139
          ],
          [
           144,
           776
          ],
          [
           136,
           1925
          ],
          [
           123,
           719
          ],
          [
           122,
           228
          ],
          [
           117,
           774
          ],
          [
           112,
           723
          ],
          [
           107,
           227
          ],
          [
           94,
           785
          ],
          [
           86,
           775
          ],
          [
           85,
           3789
          ],
          [
           85,
           1827
          ],
          [
           83,
           243
          ],
          [
           80,
           223
          ],
          [
           80,
           1171
          ],
          [
           79,
           729
          ],
          [
           72,
           701
          ],
          [
           72,
           756
          ],
          [
           66,
           3788
          ],
          [
           66,
           1996
          ],
          [
           64,
           1141
          ],
          [
           64,
           2703
          ],
          [
           63,
           1998
          ],
          [
           63,
           1906
          ],
          [
           61,
           752
          ],
          [
           60,
           786
          ],
          [
           59,
           1834
          ],
          [
           58,
           2823
          ],
          [
           58,
           247
          ],
          [
           57,
           1961
          ],
          [
           56,
           3794
          ],
          [
           56,
           3202
          ],
          [
           55,
           771
          ],
          [
           53,
           1140
          ],
          [
           53,
           275
          ],
          [
           53,
           1122
          ],
          [
           52,
           202
          ],
          [
           50,
           762
          ],
          [
           50,
           1136
          ],
          [
           50,
           1805
          ],
          [
           49,
           229
          ],
          [
           49,
           3769
          ],
          [
           48,
           1984
          ],
          [
           46,
           209
          ],
          [
           45,
           1135
          ],
          [
           44,
           708
          ],
          [
           43,
           796
          ],
          [
           43,
           748
          ],
          [
           41,
           4514
          ],
          [
           41,
           210
          ],
          [
           41,
           1824
          ],
          [
           40,
           1119
          ],
          [
           40,
           230
          ],
          [
           38,
           4515
          ],
          [
           36,
           781
          ],
          [
           35,
           1158
          ],
          [
           34,
           1911
          ],
          [
           34,
           1170
          ],
          [
           34,
           1118
          ],
          [
           32,
           797
          ],
          [
           32,
           2025
          ],
          [
           32,
           1904
          ],
          [
           30,
           3761
          ],
          [
           30,
           280
          ],
          [
           30,
           106
          ],
          [
           30,
           249
          ],
          [
           28,
           791
          ],
          [
           28,
           248
          ],
          [
           28,
           4561
          ],
          [
           28,
           1914
          ],
          [
           27,
           758
          ],
          [
           27,
           3784
          ],
          [
           26,
           1132
          ],
          [
           26,
           704
          ],
          [
           26,
           4508
          ],
          [
           26,
           2000
          ],
          [
           26,
           2027
          ],
          [
           26,
           2027
          ],
          [
           25,
           1826
          ],
          [
           25,
           767
          ],
          [
           25,
           4571
          ],
          [
           25,
           299
          ],
          [
           25,
           4512
          ],
          [
           24,
           1121
          ],
          [
           24,
           233
          ],
          [
           23,
           734
          ],
          [
           23,
           795
          ],
          [
           23,
           742
          ],
          [
           23,
           1901
          ],
          [
           23,
           2708
          ],
          [
           23,
           2177
          ],
          [
           22,
           2821
          ],
          [
           22,
           4528
          ],
          [
           21,
           2076
          ],
          [
           21,
           2174
          ],
          [
           21,
           262
          ],
          [
           21,
           716
          ],
          [
           21,
           260
          ],
          [
           21,
           268
          ],
          [
           20,
           3787
          ],
          [
           20,
           1946
          ],
          [
           20,
           1804
          ],
          [
           19,
           232
          ],
          [
           18,
           1987
          ],
          [
           18,
           794
          ],
          [
           18,
           1964
          ],
          [
           18,
           1952
          ],
          [
           18,
           267
          ],
          [
           18,
           2102
          ],
          [
           18,
           787
          ],
          [
           17,
           126
          ],
          [
           17,
           1956
          ],
          [
           17,
           290
          ],
          [
           17,
           1959
          ],
          [
           17,
           4517
          ],
          [
           16,
           2183
          ],
          [
           16,
           1195
          ],
          [
           16,
           1120
          ],
          [
           16,
           281
          ],
          [
           16,
           1146
          ],
          [
           16,
           3763
          ],
          [
           16,
           1958
          ],
          [
           16,
           4518
          ],
          [
           15,
           1166
          ],
          [
           15,
           3780
          ],
          [
           15,
           2103
          ],
          [
           15,
           2824
          ],
          [
           15,
           1991
          ],
          [
           15,
           1928
          ],
          [
           15,
           220
          ],
          [
           15,
           759
          ],
          [
           14,
           1103
          ],
          [
           14,
           206
          ],
          [
           14,
           1994
          ],
          [
           14,
           201
          ],
          [
           13,
           205
          ],
          [
           13,
           2725
          ],
          [
           13,
           245
          ],
          [
           13,
           1155
          ],
          [
           13,
           1145
          ],
          [
           13,
           1985
          ],
          [
           12,
           2140
          ],
          [
           12,
           143
          ],
          [
           12,
           284
          ],
          [
           12,
           1866
          ],
          [
           12,
           2059
          ],
          [
           12,
           790
          ],
          [
           11,
           211
          ],
          [
           11,
           2037
          ],
          [
           11,
           1857
          ],
          [
           11,
           2164
          ],
          [
           11,
           2173
          ],
          [
           10,
           1115
          ],
          [
           10,
           217
          ],
          [
           10,
           870
          ],
          [
           10,
           241
          ],
          [
           10,
           1988
          ],
          [
           10,
           2113
          ],
          [
           10,
           2730
          ],
          [
           10,
           226
          ],
          [
           10,
           1966
          ],
          [
           10,
           2176
          ],
          [
           9,
           4559
          ],
          [
           9,
           221
          ],
          [
           9,
           2709
          ],
          [
           9,
           263
          ],
          [
           9,
           1157
          ],
          [
           9,
           2737
          ],
          [
           9,
           2214
          ],
          [
           9,
           4509
          ],
          [
           9,
           215
          ],
          [
           9,
           1153
          ],
          [
           9,
           213
          ],
          [
           9,
           1937
          ],
          [
           9,
           4565
          ],
          [
           9,
           2067
          ],
          [
           9,
           779
          ],
          [
           8,
           1117
          ],
          [
           8,
           1835
          ],
          [
           8,
           1172
          ],
          [
           8,
           287
          ],
          [
           8,
           763
          ],
          [
           8,
           1825
          ],
          [
           7,
           1822
          ],
          [
           7,
           1175
          ],
          [
           7,
           1855
          ],
          [
           7,
           1185
          ],
          [
           7,
           1124
          ],
          [
           7,
           1131
          ],
          [
           7,
           3907
          ],
          [
           7,
           788
          ],
          [
           7,
           2728
          ],
          [
           7,
           706
          ],
          [
           7,
           1933
          ],
          [
           7,
           722
          ],
          [
           7,
           4564
          ],
          [
           7,
           3627
          ],
          [
           7,
           2106
          ],
          [
           7,
           2704
          ],
          [
           7,
           2735
          ],
          [
           7,
           3956
          ],
          [
           7,
           1931
          ],
          [
           7,
           3959
          ],
          [
           7,
           2220
          ],
          [
           6,
           3798
          ],
          [
           6,
           3214
          ],
          [
           6,
           146
          ],
          [
           6,
           737
          ],
          [
           6,
           278
          ],
          [
           6,
           1960
          ],
          [
           6,
           147
          ],
          [
           6,
           4507
          ],
          [
           6,
           497
          ],
          [
           6,
           745
          ],
          [
           6,
           225
          ],
          [
           6,
           2707
          ],
          [
           6,
           109
          ],
          [
           6,
           3207
          ],
          [
           6,
           3207
          ],
          [
           6,
           271
          ],
          [
           6,
           283
          ],
          [
           6,
           2301
          ],
          [
           6,
           2715
          ],
          [
           6,
           2262
          ],
          [
           6,
           4556
          ],
          [
           6,
           1125
          ],
          [
           6,
           259
          ],
          [
           6,
           4510
          ],
          [
           6,
           279
          ],
          [
           6,
           1126
          ],
          [
           6,
           240
          ],
          [
           6,
           186
          ],
          [
           5,
           1858
          ],
          [
           5,
           1953
          ],
          [
           5,
           214
          ],
          [
           5,
           1197
          ],
          [
           5,
           1137
          ],
          [
           5,
           4520
          ],
          [
           5,
           1912
          ],
          [
           5,
           1957
          ],
          [
           5,
           2107
          ],
          [
           5,
           2727
          ],
          [
           5,
           288
          ],
          [
           5,
           743
          ],
          [
           5,
           1111
          ],
          [
           5,
           2724
          ],
          [
           5,
           255
          ],
          [
           4,
           3772
          ],
          [
           4,
           104
          ],
          [
           4,
           2820
          ],
          [
           4,
           276
          ],
          [
           4,
           1112
          ],
          [
           4,
           1907
          ],
          [
           4,
           293
          ],
          [
           4,
           144
          ],
          [
           4,
           3904
          ],
          [
           4,
           419
          ],
          [
           4,
           2170
          ],
          [
           4,
           1920
          ],
          [
           4,
           4585
          ],
          [
           4,
           2815
          ],
          [
           4,
           114
          ],
          [
           4,
           1102
          ],
          [
           4,
           829
          ],
          [
           4,
           2109
          ],
          [
           4,
           420
          ],
          [
           4,
           1975
          ],
          [
           4,
           2026
          ],
          [
           4,
           2701
          ],
          [
           4,
           4557
          ],
          [
           4,
           777
          ],
          [
           4,
           3205
          ],
          [
           4,
           3201
          ],
          [
           4,
           2740
          ],
          [
           4,
           2710
          ],
          [
           4,
           1199
          ],
          [
           4,
           274
          ],
          [
           4,
           1821
          ],
          [
           3,
           1908
          ],
          [
           3,
           264
          ],
          [
           3,
           1986
          ],
          [
           3,
           236
          ],
          [
           3,
           4574
          ],
          [
           3,
           3009
          ],
          [
           3,
           3009
          ],
          [
           3,
           2115
          ],
          [
           3,
           1173
          ],
          [
           3,
           2219
          ],
          [
           3,
           2217
          ],
          [
           3,
           238
          ],
          [
           3,
           231
          ],
          [
           3,
           3610
          ],
          [
           3,
           3903
          ],
          [
           3,
           3215
          ],
          [
           3,
           1983
          ],
          [
           3,
           1128
          ],
          [
           3,
           1106
          ],
          [
           3,
           2711
          ],
          [
           3,
           157
          ],
          [
           3,
           1936
          ],
          [
           3,
           1965
          ],
          [
           3,
           1979
          ],
          [
           3,
           1854
          ],
          [
           3,
           2717
          ],
          [
           3,
           2264
          ],
          [
           3,
           3779
          ],
          [
           3,
           2719
          ],
          [
           3,
           244
          ],
          [
           3,
           1168
          ],
          [
           3,
           234
          ],
          [
           3,
           3428
          ],
          [
           3,
           421
          ],
          [
           3,
           2525
          ],
          [
           3,
           709
          ],
          [
           3,
           292
          ],
          [
           3,
           111
          ],
          [
           3,
           113
          ],
          [
           3,
           489
          ],
          [
           3,
           3811
          ],
          [
           3,
           2721
          ],
          [
           3,
           1160
          ],
          [
           3,
           2002
          ],
          [
           3,
           152
          ],
          [
           3,
           4522
          ],
          [
           3,
           297
          ],
          [
           3,
           286
          ],
          [
           3,
           2718
          ],
          [
           3,
           2804
          ],
          [
           3,
           2720
          ],
          [
           2,
           177
          ],
          [
           2,
           103
          ],
          [
           2,
           3102
          ],
          [
           2,
           1174
          ],
          [
           2,
           1191
          ],
          [
           2,
           254
          ],
          [
           2,
           4605
          ],
          [
           2,
           869
          ],
          [
           2,
           1913
          ],
          [
           2,
           565
          ],
          [
           2,
           839
          ],
          [
           2,
           2741
          ],
          [
           2,
           204
          ],
          [
           2,
           740
          ],
          [
           2,
           2723
          ],
          [
           2,
           1192
          ],
          [
           2,
           1830
          ],
          [
           2,
           502
          ],
          [
           2,
           1110
          ],
          [
           2,
           3511
          ],
          [
           2,
           996
          ],
          [
           2,
           2136
          ],
          [
           2,
           2742
          ],
          [
           2,
           714
          ],
          [
           2,
           1845
          ],
          [
           2,
           1870
          ],
          [
           2,
           736
          ],
          [
           2,
           265
          ],
          [
           2,
           498
          ],
          [
           2,
           1809
          ],
          [
           2,
           3220
          ],
          [
           2,
           3204
          ],
          [
           2,
           2822
          ],
          [
           2,
           2316
          ],
          [
           2,
           4568
          ],
          [
           2,
           1859
          ],
          [
           2,
           1843
          ],
          [
           2,
           117
          ],
          [
           2,
           3759
          ],
          [
           2,
           2070
          ],
          [
           2,
           841
          ],
          [
           2,
           199
          ],
          [
           2,
           1183
          ],
          [
           2,
           102
          ],
          [
           2,
           150
          ],
          [
           2,
           1856
          ],
          [
           2,
           1977
          ],
          [
           2,
           411
          ],
          [
           2,
           1955
          ],
          [
           2,
           724
          ],
          [
           2,
           1148
          ],
          [
           2,
           1182
          ],
          [
           2,
           3219
          ],
          [
           2,
           585
          ],
          [
           2,
           182
          ],
          [
           2,
           182
          ],
          [
           2,
           1152
          ],
          [
           2,
           2080
          ],
          [
           2,
           212
          ],
          [
           2,
           406
          ],
          [
           2,
           710
          ],
          [
           2,
           493
          ],
          [
           1,
           300
          ],
          [
           1,
           4552
          ],
          [
           1,
           3782
          ],
          [
           1,
           733
          ],
          [
           1,
           2324
          ],
          [
           1,
           3758
          ],
          [
           1,
           1355
          ],
          [
           1,
           1806
          ],
          [
           1,
           1812
          ],
          [
           1,
           834
          ],
          [
           1,
           4671
          ],
          [
           1,
           495
          ],
          [
           1,
           4530
          ],
          [
           1,
           2038
          ],
          [
           1,
           725
          ],
          [
           1,
           1127
          ],
          [
           1,
           4652
          ],
          [
           1,
           3757
          ],
          [
           1,
           1969
          ],
          [
           1,
           2523
          ],
          [
           1,
           2303
          ],
          [
           1,
           835
          ],
          [
           1,
           426
          ],
          [
           1,
           3528
          ],
          [
           1,
           4575
          ],
          [
           1,
           3786
          ],
          [
           1,
           4566
          ],
          [
           1,
           3767
          ],
          [
           1,
           3793
          ],
          [
           1,
           1159
          ],
          [
           1,
           450
          ],
          [
           1,
           2801
          ],
          [
           1,
           2033
          ],
          [
           1,
           416
          ],
          [
           1,
           105
          ],
          [
           1,
           128
          ],
          [
           1,
           3125
          ],
          [
           1,
           435
          ],
          [
           1,
           490
          ],
          [
           1,
           108
          ],
          [
           1,
           1981
          ],
          [
           1,
           846
          ],
          [
           1,
           4253
          ],
          [
           1,
           3765
          ],
          [
           1,
           219
          ],
          [
           1,
           2502
          ],
          [
           1,
           713
          ],
          [
           1,
           4611
          ],
          [
           1,
           542
          ],
          [
           1,
           2404
          ],
          [
           1,
           1828
          ],
          [
           1,
           2307
          ],
          [
           1,
           2527
          ],
          [
           1,
           1968
          ],
          [
           1,
           4869
          ],
          [
           1,
           1847
          ],
          [
           1,
           860
          ],
          [
           1,
           808
          ],
          [
           1,
           422
          ],
          [
           1,
           4563
          ],
          [
           1,
           1178
          ],
          [
           1,
           2807
          ],
          [
           1,
           2090
          ],
          [
           1,
           4313
          ],
          [
           1,
           3776
          ],
          [
           1,
           3011
          ],
          [
           1,
           3116
          ],
          [
           1,
           1851
          ],
          [
           1,
           1836
          ],
          [
           1,
           750
          ],
          [
           1,
           2128
          ],
          [
           1,
           252
          ],
          [
           1,
           2645
          ],
          [
           1,
           510
          ],
          [
           1,
           2548
          ],
          [
           1,
           155
          ],
          [
           1,
           837
          ],
          [
           1,
           2819
          ],
          [
           1,
           4588
          ],
          [
           1,
           961
          ],
          [
           1,
           3783
          ],
          [
           1,
           296
          ],
          [
           1,
           1840
          ],
          [
           1,
           2040
          ],
          [
           1,
           1819
          ],
          [
           1,
           1129
          ],
          [
           1,
           3902
          ],
          [
           1,
           3010
          ],
          [
           1,
           711
          ],
          [
           1,
           154
          ],
          [
           1,
           1829
          ],
          [
           1,
           181
          ],
          [
           1,
           2058
          ],
          [
           1,
           2186
          ],
          [
           1,
           3764
          ],
          [
           1,
           3103
          ],
          [
           1,
           4567
          ],
          [
           1,
           133
          ],
          [
           1,
           139
          ],
          [
           1,
           4560
          ],
          [
           1,
           2078
          ],
          [
           1,
           164
          ],
          [
           1,
           400
          ],
          [
           1,
           266
          ],
          [
           1,
           4615
          ],
          [
           1,
           2012
          ],
          [
           1,
           438
          ],
          [
           1,
           3803
          ],
          [
           1,
           289
          ],
          [
           1,
           2034
          ],
          [
           1,
           295
          ],
          [
           1,
           806
          ],
          [
           1,
           914
          ],
          [
           1,
           2511
          ],
          [
           1,
           2226
          ],
          [
           1,
           907
          ],
          [
           1,
           2091
          ],
          [
           1,
           1162
          ],
          [
           1,
           2191
          ],
          [
           1,
           235
          ],
          [
           1,
           950
          ],
          [
           1,
           2825
          ],
          [
           1,
           3770
          ],
          [
           1,
           1190
          ],
          [
           1,
           1839
          ],
          [
           1,
           3211
          ],
          [
           1,
           285
          ],
          [
           1,
           4318
          ],
          [
           1,
           395
          ],
          [
           1,
           118
          ],
          [
           1,
           2265
          ],
          [
           1,
           4710
          ],
          [
           1,
           1193
          ],
          [
           1,
           3119
          ],
          [
           1,
           3606
          ],
          [
           1,
           760
          ],
          [
           1,
           2731
          ],
          [
           1,
           3908
          ],
          [
           1,
           3908
          ],
          [
           1,
           1941
          ],
          [
           1,
           141
          ],
          [
           1,
           2806
          ],
          [
           1,
           2189
          ],
          [
           1,
           707
          ],
          [
           1,
           1108
          ],
          [
           1,
           1943
          ],
          [
           1,
           447
          ],
          [
           1,
           408
          ],
          [
           1,
           2733
          ],
          [
           1,
           2143
          ],
          [
           1,
           1846
          ],
          [
           1,
           446
          ],
          [
           1,
           3203
          ],
          [
           1,
           1113
          ],
          [
           1,
           4553
          ]
         ],
         "hovertemplate": "<b>%{hovertext}</b><br><br>횟수=%{customdata[0]}<br>위도=%{lat}<br>경도=%{lon}<br>id=%{customdata[1]}<extra></extra>",
         "hovertext": [
          "신목동역 2번 출구",
          "신목동역 3번출구",
          "목동1단지아파트 118동 앞 (월촌초등학교 정류소 옆",
          "목동1단지아파트 상가 앞 (월촌중학교 버스정류소 옆)",
          "목동아파트2단지 222동 앞",
          "영도초등학교",
          "목동2단지 상가",
          "목동3단지 시내버스정류장",
          "CBS방송국 앞",
          "목동5단지아파트 501동",
          "목4동주민센터 옆",
          "염창역 3, 4번 출구 사이",
          "목동청소년수련관",
          "목동3단지 상가",
          "이대 목동병원 앞",
          "목동신시가지아파트6단지",
          "목동아파트 613동 앞",
          "신정교 하부",
          "오목교역 3번출구",
          "목동5단지아파트 534동",
          "서울시 도로환경관리센터",
          "목동역5번출구 교통정보센터 앞",
          "여의나루역 1번출구 앞",
          "KB국민은행 염창역 지점 앞",
          "염창역 1번 출구",
          "목동트라팰리스 웨스턴에비뉴",
          "당산육갑문",
          "오목교역 7번출구 앞",
          "용문사 버스정류장",
          "목마공원",
          "동양미래대학교 정문 옆",
          "홍익병원앞 교차로",
          "선유도역 3번출구 앞",
          "등촌역 4번 출구 ",
          "SBS방송국",
          "양평2나들목 보행통로 입구",
          "양천구청, 보건소 사잇길",
          "세종그랑시아 앞(102동)",
          "염창나들목",
          "독산보도육교 앞 자전거 보관소",
          "이앤씨드림타워 앞",
          "진주아파트상가 앞",
          "염창동 새마을금고 건너편 (모닝글로리)",
          "서부식자재마트 건너편",
          "목동사거리 부근",
          "목동주차장",
          "정곡나들목",
          "구일역 1번 출입구 앞",
          "곰달래 문화복지센터 1-1",
          "서울도시가스 앞 ",
          "고척교 교차로",
          "신도림역 1번 출구 앞",
          "성원2차 아파트",
          "목동아파트 8단지 상가동 앞",
          "월드메르디앙 벤처센터 2차",
          "중앙유통단지 앞",
          "당산역 10번출구 앞",
          "신도림테크노근린공원",
          "안양천합수부(현대3차아파트)",
          "당산롯데캐슬프레스티지",
          "목동아파트 703동 앞",
          "목동사거리 버스정류장",
          "신동아아파트",
          "황금내근린공원",
          "국민일보 앞",
          "오목로 무중력지대 앞",
          "등촌2파출소",
          "서울디지털운동장 앞",
          "양평1 보행육교 앞",
          "가양동 이마트 앞",
          "구로구청",
          "유진투자증권빌딩 앞",
          "강서구의회",
          "서울출입국관리사무소 앞",
          "목동아파트 14단지 B상가 앞",
          "목동운동장",
          "목동성당 앞",
          "IFC몰",
          "독산근린공원 입구",
          "염창동 한마음아파트앞(염창동 빛나는 음악학원앞)",
          "영등포구청역 1번출구",
          "동문굿모닝탑",
          "신정보도육교 아래",
          "가양역 8번출구",
          "구로디지털단지역 앞",
          "강서구보건소 (삼성디지털 프라자)",
          "증미역 3번출구뒤(등촌두산위브센티움오피스텔)",
          "목동아파트 1422동 1434동 사잇길",
          "흑석역 1번출구",
          "도림천역 1번 출구 앞",
          "나이아가라관광호텔",
          "양평동6차현대아파트 앞",
          "합정역 7번출구 앞",
          "여의도중학교 옆",
          "현대하이페리온",
          "초원아파트 앞",
          "양평역 1번출구",
          "대림역4번출구",
          "한사랑교회 앞",
          "벽산아파트",
          "등촌역 7번출구",
          "남부법원검찰청 교차로",
          "유원목동아파트 앞",
          "신도림4차 e편한세상 아파트 1109동 앞",
          "중앙대학교 정문 1",
          "중앙대학교 정문",
          "한신코아 앞",
          "신정숲속마을아파트",
          "문래동롯데캐슬아파트",
          "여의도 순복음교회",
          "목동13_14단지 사거리",
          "가양레포츠센터앞",
          "YP 센터 앞",
          "신트리공원 입구",
          "양천 해누리타운",
          "등촌역 5번 출구 뒤",
          "신도림동주민센터 앞",
          "강서한강자이타워 앞",
          "신대방역 2번 출구",
          "청구아파트 앞",
          "양천구청역 1번출구",
          "노들나루공원 입구",
          "삼성디지털프라자관악점",
          "영문초등학교 사거리",
          "신정6동 주민센터 인근",
          "여의도 마리나선착장 앞",
          "그랜드컨벤션센터 앞",
          "가양나들목",
          "구로역 광장",
          "독산역 2번출구 자전거주차장",
          "양평우림 이비즈센타 앞",
          "개봉아이파크아파트 앞",
          "양천문화회관",
          "원메디타운 앞",
          "천왕연지타운2단지 앞",
          "삼성화재 사옥 옆",
          "봉림교 교통섬",
          "양천아파트 입구",
          "서강대 후문 옆",
          "도야미리숯불갈비 앞",
          "당산동 SK V1 빌딩",
          "구로구의회 앞",
          "성보하이드로빌딩",
          "동방1교",
          "코오롱One&Only타워",
          "대림경동아파트앞",
          "신동아아파트 앞",
          "곰달래사거리",
          "등촌태영아파트",
          "강서수도사업소민원센터",
          "청기와빌딩",
          "강서구립등빛도서관",
          "등촌서광아파트",
          "신림동 우방아파트",
          "미래사랑어린이공원 앞",
          "오류동역 맞은편",
          "고척스카이돔구장 광장",
          "미성아파트 A동 앞",
          "보아스아파트 앞",
          "방화역 4번출구앞",
          "KBS 앞",
          "삼성전자 물류센터 앞",
          "진미파라곤 앞",
          "산업은행 앞",
          "서울식물원 식물문화센터",
          "삼성생명 당산사옥 앞",
          "기쁜우리복지관",
          "곰달래 문화복지센터 1-2",
          "구로도서관",
          "신림1교 교차로",
          "공덕역 2번출구",
          "센트럴 푸르지오 시티 앞",
          "서울안천초등학교 옆",
          "보라매공원 정문",
          "화곡고가 사거리",
          "여의도역 4번출구 옆",
          "동작역 5번출구 동작주차공원",
          "주공14단지",
          "관악우체국",
          "당곡사거리",
          "등촌역 1번출구옆",
          "NH농협은행 앞",
          "노들섬 서측 앞",
          "신길우성1차아파트 앞 공원",
          "고척LIGA아파트 앞",
          "관악동작견인차량보관소",
          "마곡메가박스 앞",
          "샛강역 1번출구 앞",
          "한마을아파트 정문상가",
          "보라매공원 보도육교",
          "신길역 2번출구",
          "여의도초교 앞",
          "강변아파트 310동 앞",
          "근로자회관 사거리",
          "강서구청",
          "까치산역 3번 출구",
          "신반포역 2번출구 앞",
          "서울영상고교 입구",
          "여의도고교 앞",
          "발산역 1번, 9번 인근 대여소",
          "KT앞",
          "한진아파트 입구",
          "영등포 신세계백화점",
          "LG전자 베스트? 대리점 앞",
          "양천나눔누리센터",
          "스타벅스앞",
          "STX V타워",
          "가양3동 주민센터",
          "영등포전화국사거리 (서강어린이공원)",
          "목동11단지 아파트",
          "한신아파트 앞 육교 아래",
          "서울 시흥동우체국 앞",
          "대한항공 인력개발센터",
          "성지아파트 옆 도로변",
          "등촌9단지",
          "발산역 6번 출구 뒤",
          "꿈돌이공원 앞",
          "신도림7차e편한세상아파트 803동 앞",
          "양천구청역 2번출구 옆",
          "마곡나루역 3번 출구",
          "신정네거리역",
          "개봉푸르지오아파트 상가",
          "LG전자베스트샵 신정점",
          "63스퀘어",
          "압구정나들목",
          "난곡 새마을금고",
          "홈플러스(강서점)",
          "마곡 공공청사",
          "대륭테크노타운21차 앞",
          "개봉역(북측광장)",
          "시흥사거리(시흥동 994-3 앞)",
          "반포본동 주민센터 앞",
          "그랜드아이파트아파트 앞",
          "영등포 푸르지오",
          "마포역 2번출구 뒤",
          "장수공원",
          "쌍용플레티넘오피스텔",
          "화광신문사 앞",
          "마포역 4번출구 뒤",
          "삼성전자서비스 신정센터",
          "합정동주민센터 앞",
          "강서초등학교",
          "앙카라공원 앞",
          "한강아파트",
          "제일빌딩 앞",
          "양남사거리 1",
          "양남사거리 교통섬",
          "샛강생태공원방문자센터 앞",
          "아크로타워 스퀘어(영등포시장)",
          "현대고등학교 건너편",
          "마곡나루역 2번 출구 ",
          "한신16차아파트 119동 앞",
          "리버뷰신안인스빌1차 후문",
          "명덕고교입구(영종빌딩)",
          "대방역6번출구",
          "신정네거리역 교차로",
          "영등포 푸르지오 아파트",
          "우장산역 1번출구옆(우장산아이파크105동앞)",
          "문래역 4번출구 앞",
          "월드컵공원",
          "석수역1번출구 앞 (SK주유소)",
          "천왕역 4번출구 뒤",
          "금융감독원 앞",
          "엠펠리체 호텔 건너편",
          "등촌2동주민센터",
          "대성유니드아파트",
          "한신휴아파트 앞",
          "구일고등학교 정문",
          "도림천 신화교",
          "서울식물원 잔디마당 앞",
          "쌍용예가(구청별관)",
          "현대6차아파트 101동 옆",
          "마곡엠밸리6_7단지 마곡중학교",
          "(재)FITI시험연구원",
          "도림사거리",
          "길성그랑프리텔아파트",
          "합정역 1번출구 앞",
          "신세기아파트 앞",
          "SK 영등포주유소",
          "마곡엠밸리4단지 정문",
          "구일우성(아) 육교 밑",
          "충북 미래관",
          "공덕역 8번출구",
          "테크노마트 앞",
          "홈플러스 앞",
          "조원동서울본병원",
          "서울미래초등학교 사거리",
          "국회 6문",
          "항동지구 7단지 정문",
          "홍대입구역 8번출구 앞",
          "방화사거리 마을버스 버스정류장",
          "베르가모앞",
          "은천로입구 가로공원",
          "서울시 공공자전거 상암센터",
          "대림역 1번 출입구 밑",
          "흑석역 4번출구",
          "마곡나루역 5번출구 뒤편",
          "리버뷰신안인스빌2차 후문",
          "신월6차보람아파트 앞",
          "문래중학교",
          "당산skv1센터",
          "마곡레포츠센터",
          "라이품 공영주차장 앞",
          "우장산역 3번출구",
          "영등포역지하쇼핑센타 5번출구",
          "홈플러스 시흥점 맞은편 다비치안경 앞",
          "해원리바파크 육교 밑",
          "교보생명보험 앞",
          "태평양물산빌딩",
          "문래동자이아파트 앞",
          "영등포시장역 포레나영등포",
          "서교동사거리(신)",
          "서교동사거리",
          "관악농협농산물백화점",
          "강서구청사거리(SH타워)",
          "고속터미널역 8-1번, 8-2번 출구 사이",
          "아크로리버뷰 부지 앞",
          "제2구민체육센타 앞",
          "남부고용노동지청 남측",
          "윗반마을 입구",
          "현대아파트 앞",
          "강변삼성래미안",
          "구로동롯데아파트",
          "화곡역 6번출구",
          "신방화사거리",
          "가로공원공영주차장 1번 출구",
          "애오개역 4번출구 앞",
          "개봉역 1번 출구 자전거보관서쪽",
          "삼환로즈빌아파트 105동 옆",
          "구로1동우체국 앞",
          "가산아네스트 오피스텔 앞",
          "LG유플러스 마곡사옥",
          "이수역 1번출구",
          "유광사여성병원",
          "마곡문화공원",
          "영등포삼환아파트 앞",
          "마곡엠밸리10단지 앞",
          "영등포구민체육센터 앞",
          "서울미술관",
          "마포구청 앞",
          "반포쇼핑타운 2동 앞",
          "신정3동 현장민원실 앞",
          "영일 어린이공원",
          "상수역 2번출구 앞",
          "홍대입구역 2번출구 앞",
          "구룡근린공원",
          "신사로입구",
          "등촌1-10단지 교차로",
          "양천향교역 7번출구앞",
          "노들역 1번출구",
          "마포구민체육센터 앞",
          "다이소신곡시장점",
          "국회3문",
          "우성아파트 교차로",
          "마곡수명산파크1단지",
          "항동지구 6단지 602동 앞",
          "힐스테이트에코",
          "북가좌 초등학교",
          "망원역 2번출구 앞",
          "연희삼거리",
          "강서구청사거리(부민병원)",
          "마곡역 교차로(NH농협)",
          "도림신협 앞",
          "노들섬 다목적홀(동쪽) 숲, 앞",
          "노들섬 동측 앞",
          "구로리공원",
          "옥수역 3번출구",
          "보광동 삼성리버빌아파트 앞",
          "마곡수명산파크5-6단지",
          "국회의사당역 5번출구 옆",
          "으뜸공원",
          "마곡 필네이처",
          "마곡수명산파크 209동 건너편",
          "빅마켓 금천점 앞",
          "뚝섬유원지역 1번출구 앞",
          "공항중학교앞",
          "응봉역 1번출구",
          "응암역 1번출구",
          "신림역 8번출구",
          "강서구민올림픽체육센터",
          "한국SGI 양천문화회관 앞",
          "롯데캐슬골드파크1차 서문",
          "독산3동주민센터 앞",
          "오솔길공원",
          "영등포유통상가 사거리",
          "연남동주민센터 앞",
          "LG전자 별관동(호서대 벤처타워 맞은편)",
          "래미안에스티움(신풍로) 앞",
          "도림고가도로 밑",
          "제니스스포츠 앞",
          "삼성역 8번출구",
          "영등포로터리",
          "대륭테크노타운 18차",
          "독산고등학교",
          "홍은사거리",
          "이대서울병원",
          "노량진역 2번 출구 앞",
          "신용산역 1번 출구",
          "서울 월드컵 경기장",
          "KC 대학교",
          "망원역 1번출구 앞",
          "서강대역 2번출구 앞",
          "모두의학교",
          "천왕역 1번 출입구 앞",
          "DMC홍보관",
          "디지털입구 교차로",
          "계남공원 입구 주출입구 좌측",
          "볏골공원",
          "KBS 스포츠월드",
          "영등포역 2번출구",
          "성수2가1동 공영주차장 인근",
          "망원2빗물펌프장 앞",
          "망원2빗물펌프장 앞",
          "마곡역교차로",
          "빕스 대방점 앞",
          "여의도역 1번출구 옆",
          "상암월드컵파크 7단지 앞",
          "금옥여고보도육교",
          "홍대입구역 6번출구",
          "정동사거리",
          "코레일유통본사",
          "겸재정선미술관",
          "신정이펜하우스314동",
          "천주교 대치 2동 교회 옆",
          "서울남부출입국관리소",
          "보문2교",
          "에이스하이엔드타워9차 앞",
          "갑을그레이트밸리 앞",
          "효창공원앞역 3번출구 뒤",
          "청구성심병원 앞",
          "염리초등학교 앞",
          "버거킹 신월점 앞",
          "동작역 7번출구",
          "양강중학교앞 교차로",
          "화곡역(에이스정형외과앞) 버스정류장",
          "신사두산위브2차아파트앞",
          "신방화역 6번출구",
          "궁동생태공원",
          "뉴코아 킴스클럽 앞",
          "논현역 7번출구",
          "남영역 건너편",
          "서울신용보증재단",
          "광진정보도서관",
          "대림동 e편한세상영등포아델포레",
          "강서힐스테이트 상가 앞",
          "대림성원상떼빌아파트",
          "대원빌딩",
          "더리브골드타워",
          "서서울모터리움앞",
          "효자동 삼거리",
          "대륭포스트타워1차",
          "사당동 아르테스 웨딩앞",
          "상암월드컵파크 1단지 교차로",
          "합정역 5번출구 앞",
          "신촌역(2호선) 1번출구 옆",
          "연희파크푸르지오아파트 앞",
          "SK 남산빌딩",
          "가온문화공원",
          "서교동 사거리",
          "천왕이펜하우스5단지 앞",
          "용산중학교",
          "홍은도담도서관",
          "문소빌딩",
          "롯데캐슬엠파이어 옆",
          "서초역1번출구 앞",
          "양서중학교 옆",
          "국제루터교회 앞",
          "강변역 4번출구 뒤",
          "대모산입구역 4번 출구 앞",
          "한양수자인아파트 앞",
          "압구정 한양 3차 아파트",
          "반포중학교 앞(세화여고 맞은편)",
          "동인오피스텔 건너편 소공원",
          "잠실나들목6",
          "독산주공 14단지 버스정류소",
          "LG한강 자이아파트 앞",
          "서빙고동 금호맨션 앞",
          "문화비축기지",
          "여의도 은하아파트",
          "개화산역 2번 출구",
          "항동지구 1단지 105동 앞",
          "기아자동차 사당점 앞",
          "반포종합운동장",
          "김포공항교차로",
          "경의선(노고산동)",
          "신촌역 4번출구",
          "가산디지털단지 7번출구",
          "금천구립 독산도서관",
          "연의근린공원 건너편",
          "관악구청교차로",
          "보라매역4번출구",
          "잠실나들목2(엘스아파트136동)",
          "서울숲 남문 버스정류소 옆",
          "반포1동 자율방범초소 옆",
          "가좌역1 번출구 뒤",
          "한남나들목 입구",
          "하늘숲초등학교 앞",
          "양남사거리 2",
          "불광역 9번 출구",
          "마곡금호어울림아파트",
          "KT플라자 영등포점",
          "솔브레인이엔지 뒤편",
          "비계 버스정류소",
          "금천구청 앞 자전거거치대",
          "화곡역 1번 출구 앞",
          "항동지구5단지 501동 앞",
          "홍대입구역 3번출구",
          "신일해피트리아파트 앞",
          "마포구청역",
          "홈플러스 금천점 앞",
          "망원초록길 입구",
          "노량진동 맥도널드앞",
          "우리은행 낙성대역지점",
          "관문주유소(GS칼택스) 앞",
          "홍제삼거리 북측",
          "한림대학교 강남성심병원 신관",
          "해담는다리",
          "연세대 정문 건너편",
          "양평동성원아파트",
          "흑석 아크로리버하임(103동)",
          "북가좌1동 주민센터",
          "상암한화오벨리스크 1차 앞",
          "영등포청과시장 사거리",
          "크라운호텔앞 버스정류소",
          "녹십초요양병원앞",
          "성산2-1 공영주차장",
          "세븐일레븐 신림점",
          "대림3동사거리",
          "사당역 7번출구쪽",
          "영등포공원 분수대 앞",
          "전자랜드 본관 앞",
          "새절역 2번출구",
          "이수역 6번출구 앞",
          "신동아럭스빌아파트 앞",
          "CJ 드림시티",
          "이수역9번출구(맥도날드)",
          "공항초등학교건너편",
          "대학동주민센터 ",
          "신길동 우리은행 옆",
          "구산역 2번 출구",
          "초롱타운 앞",
          "남부순환로 205",
          "마곡역 교차로(2번출구)",
          "수출의 다리 아래",
          "신길 래미안 프레비뉴",
          "대림3동사거리(하나은행)",
          "방배역 2번 출구",
          "경희궁 자이 2단지",
          "광흥창역 2번출구 앞",
          "이수고가차도 남단",
          "자교교회 앞",
          "마곡센트럴타워 1차",
          "연희 브라운스톤 아파트 앞",
          "신사동주민센터 옆",
          "잣절보도육교 아래",
          "명덕고교",
          "동선오피스텔 앞",
          "동선오피스텔 앞",
          "오류동역 2번출구",
          "연대 대운동장 옆",
          "항동지구 4단지 입구",
          "삼성서비스센터(관악점) ",
          "신정3동주민센터",
          "공항시장역 2번출구 뒤",
          "온수역 북측",
          "신영동삼거리",
          "LG CNS앞",
          "마곡13단지 정문 앞",
          "서울산업정보학교",
          "롯데캐슬골드파크1차 동문",
          "상명대입구",
          "도림동배드민턴체육관",
          "서남환경공원 버스정류장",
          "당산삼성2차아파트"
         ],
         "lat": [
          37.543842,
          37.54426,
          37.541142,
          37.537868,
          37.53968811,
          37.53643,
          37.536503,
          37.534389,
          37.527855,
          37.535919,
          37.532543,
          37.546707,
          37.531029,
          37.53458,
          37.537228,
          37.53684616,
          37.53315735,
          37.516907,
          37.524776,
          37.53355,
          37.5299,
          37.525715,
          37.526989,
          37.546848,
          37.547199,
          37.525372,
          37.535339,
          37.524063,
          37.536991,
          37.538742,
          37.499889,
          37.530369,
          37.53846,
          37.549507,
          37.529163,
          37.544666,
          37.517326,
          37.538376,
          37.55680466,
          37.455849,
          37.527084,
          37.519314,
          37.550049,
          37.51038,
          37.532803,
          37.52668,
          37.5841713,
          37.495399,
          37.52906,
          37.547485,
          37.498569,
          37.50972,
          37.542183,
          37.520439,
          37.479084,
          37.499813,
          37.533688,
          37.508194,
          37.55224609,
          37.52869,
          37.527706,
          37.531399,
          37.522816,
          37.561932,
          37.528816,
          37.524551,
          37.544788,
          37.482288,
          37.535873,
          37.55713272,
          37.495266,
          37.524612,
          37.546532,
          37.51897,
          37.514664,
          37.530251,
          37.52319717,
          37.526066,
          37.46455,
          37.554253,
          37.524635,
          37.51481247,
          37.517593,
          37.561035,
          37.48494,
          37.549179,
          37.557461,
          37.515156,
          37.50938,
          37.51424,
          37.5490303,
          37.532101,
          37.548645,
          37.52412,
          37.52478,
          37.531055,
          37.52572632,
          37.494404,
          37.514721,
          37.57531738,
          37.551109,
          37.523254,
          37.52109528,
          37.512329,
          37.50704193,
          37.507042,
          37.456841,
          37.505745,
          37.51800156,
          37.531792,
          37.5140686,
          37.559479,
          37.528488,
          37.51395,
          37.515419,
          37.550732,
          37.507332,
          37.564682,
          37.487129,
          37.50119,
          37.51292038,
          37.513577,
          37.488564,
          37.519928,
          37.517281,
          37.53368,
          37.534718,
          37.57386398,
          37.503117,
          37.46653,
          37.52565,
          37.490341,
          37.516842,
          37.49789,
          37.482105,
          37.535961,
          37.48423,
          37.507904,
          37.550411,
          37.51001,
          37.531509,
          37.496456,
          37.52893829,
          37.471828,
          37.564129,
          37.565189,
          37.498241,
          37.530338,
          37.55603027,
          37.495781,
          37.52011108,
          37.562569,
          37.55755234,
          37.489178,
          37.510063,
          37.496761,
          37.49947,
          37.519363,
          37.524071,
          37.577221,
          37.524666,
          37.496998,
          37.531239,
          37.526264,
          37.569294,
          37.528263,
          37.56926,
          37.528919,
          37.498516,
          37.478428,
          37.544579,
          37.518211,
          37.457779,
          37.497078,
          37.527607,
          37.522228,
          37.503189,
          37.46056,
          37.484768,
          37.48975,
          37.551666,
          37.522079,
          37.517319,
          37.505329,
          37.50605,
          37.484661,
          37.559128,
          37.517765,
          37.496498,
          37.488991,
          37.51756287,
          37.522675,
          37.564587,
          37.517151,
          37.550659,
          37.531693,
          37.504116,
          37.52198029,
          37.524837,
          37.55891,
          37.521908,
          37.486061,
          37.51803589,
          37.497669,
          37.518845,
          37.558197,
          37.47707,
          37.561249,
          37.525768,
          37.510658,
          37.4547,
          37.452991,
          37.554379,
          37.451321,
          37.562901,
          37.557968,
          37.546444,
          37.50862503,
          37.512379,
          37.565804,
          37.521881,
          37.501583,
          37.521435,
          37.52070999,
          37.53075027,
          37.473728,
          37.558334,
          37.562294,
          37.46557617,
          37.494995,
          37.45415115,
          37.500614,
          37.55510712,
          37.512024,
          37.539936,
          37.52256,
          37.507931,
          37.50285,
          37.539272,
          37.52124786,
          37.551754,
          37.522282,
          37.517368,
          37.57037,
          37.547691,
          37.5218277,
          37.522526,
          37.518963,
          37.522518,
          37.524071,
          37.566883,
          37.516598,
          37.51374817,
          37.552914,
          37.513592,
          37.52175903,
          37.513229,
          37.548908,
          37.518738,
          37.563965,
          37.437271,
          37.486385,
          37.523022,
          37.560242,
          37.541431,
          37.52091599,
          37.4888,
          37.493401,
          37.475471,
          37.564087,
          37.528099,
          37.5089,
          37.566982,
          37.568665,
          37.506573,
          37.5692482,
          37.550629,
          37.493965,
          37.518284,
          37.568577,
          37.489632,
          37.529171,
          37.543579,
          37.50624084,
          37.56842,
          37.481529,
          37.504379,
          37.53271866,
          37.476013,
          37.55706,
          37.573643,
          37.52293,
          37.486225,
          37.566246,
          37.49258,
          37.508587,
          37.565201,
          37.51288223,
          37.530128,
          37.520466,
          37.530735,
          37.57272,
          37.570728,
          37.547821,
          37.516651,
          37.451458,
          37.495285,
          37.521931,
          37.484859,
          37.516155,
          37.52341461,
          37.55583954,
          37.55584,
          37.479916,
          37.556259,
          37.506199,
          37.513046,
          37.526386,
          37.524506,
          37.46534729,
          37.49333954,
          37.529743,
          37.502548,
          37.541412,
          37.573032,
          37.537361,
          37.553001,
          37.494282,
          37.497231,
          37.492031,
          37.47818,
          37.561337,
          37.488556,
          37.54323959,
          37.561371,
          37.530079,
          37.560226,
          37.500462,
          37.595127,
          37.565903,
          37.505608,
          37.511585,
          37.51012,
          37.547871,
          37.557499,
          37.583336,
          37.48675156,
          37.563145,
          37.56768,
          37.512844,
          37.55661,
          37.51779556,
          37.528637,
          37.494572,
          37.554993,
          37.477375,
          37.559589,
          37.577675,
          37.554951,
          37.567966,
          37.556599,
          37.560242,
          37.503803,
          37.51758957,
          37.517296,
          37.491032,
          37.541363,
          37.52401,
          37.550617,
          37.528164,
          37.536369,
          37.560894,
          37.555538,
          37.47023,
          37.53186,
          37.562683,
          37.55125,
          37.598606,
          37.484577,
          37.559402,
          37.532547,
          37.460289,
          37.475071,
          37.52219,
          37.521133,
          37.564651,
          37.470779,
          37.500137,
          37.511242,
          37.50452,
          37.509575,
          37.51874924,
          37.467999,
          37.477097,
          37.59116,
          37.5586319,
          37.51392,
          37.52961,
          37.566845,
          37.548321,
          37.555649,
          37.552956,
          37.478409,
          37.48621,
          37.577995,
          37.482883,
          37.510681,
          37.54147,
          37.556877,
          37.514874,
          37.536808,
          37.5513649,
          37.551567,
          37.558666,
          37.512135,
          37.521362,
          37.581314,
          37.50971222,
          37.556576,
          37.56805,
          37.52617645,
          37.57128906,
          37.514099,
          37.500439,
          37.56059265,
          37.588699,
          37.486214,
          37.479031,
          37.539009,
          37.62087631,
          37.542431,
          37.53936005,
          37.503181,
          37.524334,
          37.540981,
          37.59931564,
          37.56692886,
          37.501904,
          37.510193,
          37.511517,
          37.541981,
          37.549061,
          37.550598,
          37.49582291,
          37.54663849,
          37.5038414,
          37.54536819,
          37.56557083,
          37.565853,
          37.583603,
          37.484371,
          37.481491,
          37.575665,
          37.550007,
          37.555496,
          37.575642,
          37.556862,
          37.582077,
          37.552746,
          37.479431,
          37.546638,
          37.60169601,
          37.54555511,
          37.520695,
          37.491951,
          37.533047,
          37.54143906,
          37.535465,
          37.49181,
          37.475319,
          37.528614,
          37.502674,
          37.498482,
          37.51629639,
          37.461033,
          37.520695,
          37.520504,
          37.569084,
          37.51850891,
          37.572472,
          37.480629,
          37.48378,
          37.49979782,
          37.5675354,
          37.553429,
          37.555504,
          37.481232,
          37.467403,
          37.512157,
          37.479164,
          37.499828,
          37.515049,
          37.541222,
          37.50847626,
          37.56855,
          37.52906,
          37.483665,
          37.52194977,
          37.61097,
          37.57410049,
          37.526302,
          37.475101,
          37.506359,
          37.456478,
          37.542099,
          37.47829437,
          37.558296,
          37.517059,
          37.560909,
          37.469139,
          37.551342,
          37.513523,
          37.478821,
          37.55802917,
          37.5867,
          37.49128342,
          37.582031,
          37.559795,
          37.53374481,
          37.510838,
          37.574478,
          37.587524,
          37.520294,
          37.53030014,
          37.488361,
          37.56472,
          37.48313141,
          37.499809,
          37.476891,
          37.514824,
          37.533066,
          37.590797,
          37.483662,
          37.475182,
          37.599491,
          37.484135,
          37.562679,
          37.470688,
          37.504566,
          37.610779,
          37.495453,
          37.54739761,
          37.560501,
          37.477058,
          37.504383,
          37.499859,
          37.48116684,
          37.568855,
          37.547733,
          37.494743,
          37.58114624,
          37.559471,
          37.565197,
          37.52422714,
          37.506821,
          37.554951,
          37.49267197,
          37.49267197,
          37.493938,
          37.562382,
          37.482597,
          37.482754,
          37.515156,
          37.56356,
          37.49279,
          37.603992,
          37.580811,
          37.55854,
          37.470695,
          37.460171,
          37.600128,
          37.506115,
          37.573093,
          37.52762222
         ],
         "legendgroup": "",
         "lon": [
          126.882545,
          126.88325,
          126.876678,
          126.881409,
          126.8749847,
          126.871521,
          126.877747,
          126.869598,
          126.874672,
          126.882446,
          126.868729,
          126.874573,
          126.875893,
          126.875648,
          126.886612,
          126.8847504,
          126.8840866,
          126.877586,
          126.875481,
          126.878143,
          126.876541,
          126.864868,
          126.932098,
          126.872772,
          126.874489,
          126.870926,
          126.903679,
          126.87558,
          126.863365,
          126.885681,
          126.867699,
          126.864258,
          126.894508,
          126.867218,
          126.872749,
          126.888359,
          126.866303,
          126.863831,
          126.8715591,
          126.893143,
          126.89138,
          126.933167,
          126.873161,
          126.866798,
          126.86393,
          126.876167,
          126.8193283,
          126.87101,
          126.84848,
          126.872025,
          126.871521,
          126.890099,
          126.863304,
          126.868401,
          126.879044,
          126.874313,
          126.902107,
          126.891304,
          126.8764877,
          126.903862,
          126.870064,
          126.863609,
          126.885651,
          126.863869,
          126.92453,
          126.877052,
          126.862,
          126.877769,
          126.892181,
          126.8631439,
          126.888474,
          126.927834,
          126.862549,
          126.869965,
          126.871941,
          126.879303,
          126.8693008,
          126.925537,
          126.883728,
          126.867561,
          126.896217,
          126.8611755,
          126.876556,
          126.854813,
          126.901321,
          126.868797,
          126.861458,
          126.87249,
          126.963615,
          126.882874,
          126.8783646,
          126.89444,
          126.912827,
          126.936546,
          126.869835,
          126.92421,
          126.8860016,
          126.894447,
          126.8592,
          126.8366699,
          126.863708,
          126.864906,
          126.8732071,
          126.886833,
          126.9591522,
          126.959152,
          126.888344,
          126.836311,
          126.8845978,
          126.922455,
          126.8699875,
          126.86438,
          126.891647,
          126.856056,
          126.8638,
          126.864578,
          126.87973,
          126.848908,
          126.913017,
          126.863533,
          126.8667984,
          126.955551,
          126.928482,
          126.889183,
          126.864334,
          126.912086,
          126.900002,
          126.8434753,
          126.880386,
          126.888718,
          126.887817,
          126.860931,
          126.862953,
          126.864502,
          126.845726,
          126.8983,
          126.926392,
          126.862648,
          126.943848,
          126.88205,
          126.897827,
          126.889587,
          126.8331223,
          126.933922,
          126.834312,
          126.853996,
          126.893982,
          126.838257,
          126.864296,
          126.890121,
          126.8447495,
          126.842461,
          126.8562546,
          126.919273,
          126.889565,
          126.844963,
          126.868401,
          126.926048,
          126.8386,
          126.812195,
          126.918022,
          126.87178,
          126.921333,
          126.920509,
          126.836197,
          126.896629,
          126.848419,
          126.848083,
          126.891991,
          126.931862,
          126.950218,
          126.902229,
          126.889427,
          126.917793,
          126.848755,
          126.924637,
          126.97715,
          126.887093,
          126.932877,
          126.927467,
          126.86409,
          126.930367,
          126.958298,
          126.898483,
          126.860786,
          126.9039,
          126.834953,
          126.928413,
          126.863098,
          126.916382,
          126.9169846,
          126.93779,
          126.856918,
          126.888626,
          126.84977,
          126.846588,
          126.99749,
          126.8592835,
          126.934906,
          126.838097,
          126.918953,
          126.852013,
          126.9036484,
          126.919868,
          126.853684,
          126.844261,
          126.88443,
          126.86058,
          126.905739,
          126.859161,
          126.891052,
          126.900909,
          126.857536,
          126.897621,
          126.849472,
          126.838287,
          126.845459,
          126.8835373,
          126.865555,
          126.828079,
          126.851753,
          126.84687,
          126.857384,
          126.9396591,
          127.0416031,
          126.918404,
          126.854065,
          126.823952,
          126.8872452,
          126.858253,
          126.9004517,
          126.98616,
          126.8515472,
          126.901054,
          126.945824,
          126.84948,
          126.895233,
          126.889481,
          126.945915,
          126.8549576,
          126.9123,
          126.839699,
          126.929253,
          126.844414,
          126.919983,
          126.8897247,
          126.889969,
          126.921616,
          126.907219,
          127.02179,
          126.827683,
          127.00959,
          126.8885117,
          126.836571,
          126.925934,
          126.8522873,
          126.904465,
          126.836563,
          126.895576,
          126.898209,
          126.902687,
          126.839211,
          126.920837,
          126.835808,
          126.86322,
          126.8409576,
          126.890663,
          126.874329,
          126.936455,
          126.830849,
          126.893387,
          126.842682,
          126.8218,
          126.838799,
          126.901131,
          126.8165054,
          126.914986,
          126.853043,
          126.912636,
          126.824776,
          126.876259,
          126.907578,
          126.951324,
          126.8911438,
          126.899429,
          126.912033,
          126.888298,
          126.9179916,
          126.81646,
          126.924423,
          126.811806,
          126.961693,
          126.935829,
          126.896179,
          126.894737,
          126.963493,
          126.827316,
          126.8902664,
          126.834778,
          126.884819,
          126.89917,
          126.832069,
          126.841568,
          126.836128,
          126.90799,
          126.902115,
          126.872162,
          126.891617,
          126.895187,
          126.894615,
          126.9054031,
          126.920433,
          126.920433,
          126.90284,
          126.853317,
          127.003944,
          127.005959,
          126.902756,
          126.891823,
          127.1088028,
          126.8591766,
          126.907829,
          126.883881,
          126.840225,
          126.816452,
          126.837448,
          126.956688,
          126.859215,
          126.859192,
          126.873772,
          126.897408,
          126.833901,
          126.982574,
          126.8386307,
          126.830124,
          126.905708,
          126.819069,
          126.905846,
          126.963493,
          126.901184,
          127.002159,
          126.84156,
          126.904068,
          126.923531,
          126.923805,
          126.8834,
          126.9227219,
          126.839562,
          126.840897,
          126.952469,
          126.898018,
          126.8416138,
          126.912674,
          126.89975,
          126.831894,
          126.820015,
          126.829781,
          126.909805,
          126.910835,
          126.931725,
          126.851471,
          126.827164,
          126.903419,
          126.9592209,
          126.959145,
          126.892151,
          127.017662,
          127.00145,
          126.826881,
          126.917023,
          126.831711,
          126.836693,
          126.826759,
          126.895073,
          127.067192,
          126.816238,
          127.035103,
          126.915405,
          126.929916,
          126.850441,
          126.830803,
          126.892189,
          126.903359,
          126.8367,
          126.896538,
          126.922127,
          126.885155,
          126.913979,
          126.898186,
          126.870552,
          127.063408,
          126.9122086,
          126.886841,
          126.911133,
          126.94133,
          126.8355942,
          126.943069,
          126.968872,
          126.896446,
          126.853401,
          126.910629,
          126.934341,
          126.907372,
          126.838821,
          126.891472,
          126.901039,
          126.857399,
          126.84478,
          126.848808,
          126.907585,
          127.055489,
          126.9030609,
          126.902847,
          126.826614,
          126.925438,
          126.923462,
          126.880585,
          126.8441696,
          126.928856,
          126.969231,
          126.9019775,
          126.8377762,
          126.831001,
          127.066223,
          126.8208466,
          127.018913,
          126.878639,
          126.887299,
          126.96138,
          126.9197998,
          126.946999,
          126.8288651,
          126.976089,
          126.850548,
          126.838547,
          126.9075928,
          126.8168411,
          126.828964,
          127.007256,
          127.021477,
          126.971542,
          126.954178,
          127.110512,
          126.9083557,
          126.8365784,
          126.8961563,
          126.8447037,
          126.8462448,
          126.846596,
          126.972549,
          126.895424,
          126.981583,
          126.894447,
          126.914825,
          126.93634,
          126.927826,
          126.975616,
          126.887665,
          126.918617,
          126.842697,
          126.981041,
          126.9491653,
          126.8444977,
          126.925835,
          127.008553,
          126.829956,
          127.0037613,
          127.094482,
          127.073158,
          126.898888,
          127.038559,
          126.993698,
          126.847504,
          127.08461,
          126.8871,
          126.970978,
          126.989738,
          126.894424,
          126.9344864,
          126.806168,
          126.821816,
          126.977921,
          126.9964676,
          126.8051834,
          126.933792,
          126.937203,
          126.881485,
          126.908142,
          126.835625,
          126.952583,
          126.919945,
          127.081612,
          127.0438,
          127.0167618,
          126.914513,
          127.006729,
          126.841614,
          126.8904953,
          126.92981,
          126.8371124,
          126.90538,
          126.888069,
          126.969078,
          126.895927,
          126.840218,
          126.8250656,
          126.925385,
          126.848488,
          126.905495,
          126.897202,
          126.902672,
          126.943527,
          126.95961,
          126.841835,
          126.94677,
          126.90802,
          126.908997,
          126.934479,
          126.8936539,
          126.961632,
          126.910049,
          126.883003,
          126.901192,
          126.9913788,
          126.906227,
          126.906769,
          126.9213562,
          126.898003,
          126.980576,
          126.911881,
          126.960732,
          126.913651,
          126.982323,
          127.001389,
          126.916862,
          126.977882,
          126.820473,
          126.936485,
          126.910233,
          126.917351,
          126.880394,
          126.8214111,
          126.826653,
          126.885185,
          126.908089,
          126.89724,
          126.9975891,
          126.964561,
          126.931763,
          126.983063,
          126.9712372,
          126.832077,
          126.929855,
          127.02285,
          126.844299,
          126.834732,
          126.8416214,
          126.8416214,
          126.844055,
          126.932648,
          126.826454,
          126.941406,
          126.854897,
          126.81015,
          126.824524,
          126.961945,
          126.88665,
          126.820107,
          126.9422,
          126.896042,
          126.957832,
          126.89859,
          126.822899,
          126.8986359
         ],
         "marker": {
          "color": "#636efa",
          "opacity": 0.5,
          "size": [
           3091,
           2024,
           1787,
           1230,
           989,
           922,
           893,
           803,
           451,
           405,
           404,
           382,
           341,
           319,
           316,
           303,
           300,
           235,
           228,
           218,
           206,
           191,
           182,
           179,
           177,
           168,
           166,
           146,
           144,
           144,
           136,
           123,
           122,
           117,
           112,
           107,
           94,
           86,
           85,
           85,
           83,
           80,
           80,
           79,
           72,
           72,
           66,
           66,
           64,
           64,
           63,
           63,
           61,
           60,
           59,
           58,
           58,
           57,
           56,
           56,
           55,
           53,
           53,
           53,
           52,
           50,
           50,
           50,
           49,
           49,
           48,
           46,
           45,
           44,
           43,
           43,
           41,
           41,
           41,
           40,
           40,
           38,
           36,
           35,
           34,
           34,
           34,
           32,
           32,
           32,
           30,
           30,
           30,
           30,
           28,
           28,
           28,
           28,
           27,
           27,
           26,
           26,
           26,
           26,
           26,
           26,
           25,
           25,
           25,
           25,
           25,
           24,
           24,
           23,
           23,
           23,
           23,
           23,
           23,
           22,
           22,
           21,
           21,
           21,
           21,
           21,
           21,
           20,
           20,
           20,
           19,
           18,
           18,
           18,
           18,
           18,
           18,
           18,
           17,
           17,
           17,
           17,
           17,
           16,
           16,
           16,
           16,
           16,
           16,
           16,
           16,
           15,
           15,
           15,
           15,
           15,
           15,
           15,
           15,
           14,
           14,
           14,
           14,
           13,
           13,
           13,
           13,
           13,
           13,
           12,
           12,
           12,
           12,
           12,
           12,
           11,
           11,
           11,
           11,
           11,
           10,
           10,
           10,
           10,
           10,
           10,
           10,
           10,
           10,
           10,
           9,
           9,
           9,
           9,
           9,
           9,
           9,
           9,
           9,
           9,
           9,
           9,
           9,
           9,
           9,
           8,
           8,
           8,
           8,
           8,
           8,
           7,
           7,
           7,
           7,
           7,
           7,
           7,
           7,
           7,
           7,
           7,
           7,
           7,
           7,
           7,
           7,
           7,
           7,
           7,
           7,
           7,
           6,
           6,
           6,
           6,
           6,
           6,
           6,
           6,
           6,
           6,
           6,
           6,
           6,
           6,
           6,
           6,
           6,
           6,
           6,
           6,
           6,
           6,
           6,
           6,
           6,
           6,
           6,
           6,
           5,
           5,
           5,
           5,
           5,
           5,
           5,
           5,
           5,
           5,
           5,
           5,
           5,
           5,
           5,
           4,
           4,
           4,
           4,
           4,
           4,
           4,
           4,
           4,
           4,
           4,
           4,
           4,
           4,
           4,
           4,
           4,
           4,
           4,
           4,
           4,
           4,
           4,
           4,
           4,
           4,
           4,
           4,
           4,
           4,
           4,
           3,
           3,
           3,
           3,
           3,
           3,
           3,
           3,
           3,
           3,
           3,
           3,
           3,
           3,
           3,
           3,
           3,
           3,
           3,
           3,
           3,
           3,
           3,
           3,
           3,
           3,
           3,
           3,
           3,
           3,
           3,
           3,
           3,
           3,
           3,
           3,
           3,
           3,
           3,
           3,
           3,
           3,
           3,
           3,
           3,
           3,
           3,
           3,
           3,
           3,
           3,
           2,
           2,
           2,
           2,
           2,
           2,
           2,
           2,
           2,
           2,
           2,
           2,
           2,
           2,
           2,
           2,
           2,
           2,
           2,
           2,
           2,
           2,
           2,
           2,
           2,
           2,
           2,
           2,
           2,
           2,
           2,
           2,
           2,
           2,
           2,
           2,
           2,
           2,
           2,
           2,
           2,
           2,
           2,
           2,
           2,
           2,
           2,
           2,
           2,
           2,
           2,
           2,
           2,
           2,
           2,
           2,
           2,
           2,
           2,
           2,
           2,
           2,
           1,
           1,
           1,
           1,
           1,
           1,
           1,
           1,
           1,
           1,
           1,
           1,
           1,
           1,
           1,
           1,
           1,
           1,
           1,
           1,
           1,
           1,
           1,
           1,
           1,
           1,
           1,
           1,
           1,
           1,
           1,
           1,
           1,
           1,
           1,
           1,
           1,
           1,
           1,
           1,
           1,
           1,
           1,
           1,
           1,
           1,
           1,
           1,
           1,
           1,
           1,
           1,
           1,
           1,
           1,
           1,
           1,
           1,
           1,
           1,
           1,
           1,
           1,
           1,
           1,
           1,
           1,
           1,
           1,
           1,
           1,
           1,
           1,
           1,
           1,
           1,
           1,
           1,
           1,
           1,
           1,
           1,
           1,
           1,
           1,
           1,
           1,
           1,
           1,
           1,
           1,
           1,
           1,
           1,
           1,
           1,
           1,
           1,
           1,
           1,
           1,
           1,
           1,
           1,
           1,
           1,
           1,
           1,
           1,
           1,
           1,
           1,
           1,
           1,
           1,
           1,
           1,
           1,
           1,
           1,
           1,
           1,
           1,
           1,
           1,
           1,
           1,
           1,
           1,
           1,
           1,
           1,
           1,
           1,
           1,
           1,
           1,
           1,
           1,
           1,
           1,
           1,
           1,
           1,
           1,
           1,
           1,
           1,
           1,
           1,
           1,
           1,
           1,
           1,
           1
          ],
          "sizemode": "area",
          "sizeref": 7.7275
         },
         "mode": "markers",
         "name": "",
         "showlegend": false,
         "subplot": "mapbox",
         "type": "scattermapbox"
        }
       ],
       "layout": {
        "height": 500,
        "legend": {
         "itemsizing": "constant",
         "tracegroupgap": 0
        },
        "mapbox": {
         "center": {
          "lat": 37.52598436601045,
          "lon": 126.8957748238676
         },
         "domain": {
          "x": [
           0,
           1
          ],
          "y": [
           0,
           1
          ]
         },
         "style": "carto-positron",
         "zoom": 11
        },
        "margin": {
         "t": 60
        },
        "template": {
         "data": {
          "bar": [
           {
            "error_x": {
             "color": "#2a3f5f"
            },
            "error_y": {
             "color": "#2a3f5f"
            },
            "marker": {
             "line": {
              "color": "#E5ECF6",
              "width": 0.5
             },
             "pattern": {
              "fillmode": "overlay",
              "size": 10,
              "solidity": 0.2
             }
            },
            "type": "bar"
           }
          ],
          "barpolar": [
           {
            "marker": {
             "line": {
              "color": "#E5ECF6",
              "width": 0.5
             },
             "pattern": {
              "fillmode": "overlay",
              "size": 10,
              "solidity": 0.2
             }
            },
            "type": "barpolar"
           }
          ],
          "carpet": [
           {
            "aaxis": {
             "endlinecolor": "#2a3f5f",
             "gridcolor": "white",
             "linecolor": "white",
             "minorgridcolor": "white",
             "startlinecolor": "#2a3f5f"
            },
            "baxis": {
             "endlinecolor": "#2a3f5f",
             "gridcolor": "white",
             "linecolor": "white",
             "minorgridcolor": "white",
             "startlinecolor": "#2a3f5f"
            },
            "type": "carpet"
           }
          ],
          "choropleth": [
           {
            "colorbar": {
             "outlinewidth": 0,
             "ticks": ""
            },
            "type": "choropleth"
           }
          ],
          "contour": [
           {
            "colorbar": {
             "outlinewidth": 0,
             "ticks": ""
            },
            "colorscale": [
             [
              0,
              "#0d0887"
             ],
             [
              0.1111111111111111,
              "#46039f"
             ],
             [
              0.2222222222222222,
              "#7201a8"
             ],
             [
              0.3333333333333333,
              "#9c179e"
             ],
             [
              0.4444444444444444,
              "#bd3786"
             ],
             [
              0.5555555555555556,
              "#d8576b"
             ],
             [
              0.6666666666666666,
              "#ed7953"
             ],
             [
              0.7777777777777778,
              "#fb9f3a"
             ],
             [
              0.8888888888888888,
              "#fdca26"
             ],
             [
              1,
              "#f0f921"
             ]
            ],
            "type": "contour"
           }
          ],
          "contourcarpet": [
           {
            "colorbar": {
             "outlinewidth": 0,
             "ticks": ""
            },
            "type": "contourcarpet"
           }
          ],
          "heatmap": [
           {
            "colorbar": {
             "outlinewidth": 0,
             "ticks": ""
            },
            "colorscale": [
             [
              0,
              "#0d0887"
             ],
             [
              0.1111111111111111,
              "#46039f"
             ],
             [
              0.2222222222222222,
              "#7201a8"
             ],
             [
              0.3333333333333333,
              "#9c179e"
             ],
             [
              0.4444444444444444,
              "#bd3786"
             ],
             [
              0.5555555555555556,
              "#d8576b"
             ],
             [
              0.6666666666666666,
              "#ed7953"
             ],
             [
              0.7777777777777778,
              "#fb9f3a"
             ],
             [
              0.8888888888888888,
              "#fdca26"
             ],
             [
              1,
              "#f0f921"
             ]
            ],
            "type": "heatmap"
           }
          ],
          "heatmapgl": [
           {
            "colorbar": {
             "outlinewidth": 0,
             "ticks": ""
            },
            "colorscale": [
             [
              0,
              "#0d0887"
             ],
             [
              0.1111111111111111,
              "#46039f"
             ],
             [
              0.2222222222222222,
              "#7201a8"
             ],
             [
              0.3333333333333333,
              "#9c179e"
             ],
             [
              0.4444444444444444,
              "#bd3786"
             ],
             [
              0.5555555555555556,
              "#d8576b"
             ],
             [
              0.6666666666666666,
              "#ed7953"
             ],
             [
              0.7777777777777778,
              "#fb9f3a"
             ],
             [
              0.8888888888888888,
              "#fdca26"
             ],
             [
              1,
              "#f0f921"
             ]
            ],
            "type": "heatmapgl"
           }
          ],
          "histogram": [
           {
            "marker": {
             "pattern": {
              "fillmode": "overlay",
              "size": 10,
              "solidity": 0.2
             }
            },
            "type": "histogram"
           }
          ],
          "histogram2d": [
           {
            "colorbar": {
             "outlinewidth": 0,
             "ticks": ""
            },
            "colorscale": [
             [
              0,
              "#0d0887"
             ],
             [
              0.1111111111111111,
              "#46039f"
             ],
             [
              0.2222222222222222,
              "#7201a8"
             ],
             [
              0.3333333333333333,
              "#9c179e"
             ],
             [
              0.4444444444444444,
              "#bd3786"
             ],
             [
              0.5555555555555556,
              "#d8576b"
             ],
             [
              0.6666666666666666,
              "#ed7953"
             ],
             [
              0.7777777777777778,
              "#fb9f3a"
             ],
             [
              0.8888888888888888,
              "#fdca26"
             ],
             [
              1,
              "#f0f921"
             ]
            ],
            "type": "histogram2d"
           }
          ],
          "histogram2dcontour": [
           {
            "colorbar": {
             "outlinewidth": 0,
             "ticks": ""
            },
            "colorscale": [
             [
              0,
              "#0d0887"
             ],
             [
              0.1111111111111111,
              "#46039f"
             ],
             [
              0.2222222222222222,
              "#7201a8"
             ],
             [
              0.3333333333333333,
              "#9c179e"
             ],
             [
              0.4444444444444444,
              "#bd3786"
             ],
             [
              0.5555555555555556,
              "#d8576b"
             ],
             [
              0.6666666666666666,
              "#ed7953"
             ],
             [
              0.7777777777777778,
              "#fb9f3a"
             ],
             [
              0.8888888888888888,
              "#fdca26"
             ],
             [
              1,
              "#f0f921"
             ]
            ],
            "type": "histogram2dcontour"
           }
          ],
          "mesh3d": [
           {
            "colorbar": {
             "outlinewidth": 0,
             "ticks": ""
            },
            "type": "mesh3d"
           }
          ],
          "parcoords": [
           {
            "line": {
             "colorbar": {
              "outlinewidth": 0,
              "ticks": ""
             }
            },
            "type": "parcoords"
           }
          ],
          "pie": [
           {
            "automargin": true,
            "type": "pie"
           }
          ],
          "scatter": [
           {
            "marker": {
             "colorbar": {
              "outlinewidth": 0,
              "ticks": ""
             }
            },
            "type": "scatter"
           }
          ],
          "scatter3d": [
           {
            "line": {
             "colorbar": {
              "outlinewidth": 0,
              "ticks": ""
             }
            },
            "marker": {
             "colorbar": {
              "outlinewidth": 0,
              "ticks": ""
             }
            },
            "type": "scatter3d"
           }
          ],
          "scattercarpet": [
           {
            "marker": {
             "colorbar": {
              "outlinewidth": 0,
              "ticks": ""
             }
            },
            "type": "scattercarpet"
           }
          ],
          "scattergeo": [
           {
            "marker": {
             "colorbar": {
              "outlinewidth": 0,
              "ticks": ""
             }
            },
            "type": "scattergeo"
           }
          ],
          "scattergl": [
           {
            "marker": {
             "colorbar": {
              "outlinewidth": 0,
              "ticks": ""
             }
            },
            "type": "scattergl"
           }
          ],
          "scattermapbox": [
           {
            "marker": {
             "colorbar": {
              "outlinewidth": 0,
              "ticks": ""
             }
            },
            "type": "scattermapbox"
           }
          ],
          "scatterpolar": [
           {
            "marker": {
             "colorbar": {
              "outlinewidth": 0,
              "ticks": ""
             }
            },
            "type": "scatterpolar"
           }
          ],
          "scatterpolargl": [
           {
            "marker": {
             "colorbar": {
              "outlinewidth": 0,
              "ticks": ""
             }
            },
            "type": "scatterpolargl"
           }
          ],
          "scatterternary": [
           {
            "marker": {
             "colorbar": {
              "outlinewidth": 0,
              "ticks": ""
             }
            },
            "type": "scatterternary"
           }
          ],
          "surface": [
           {
            "colorbar": {
             "outlinewidth": 0,
             "ticks": ""
            },
            "colorscale": [
             [
              0,
              "#0d0887"
             ],
             [
              0.1111111111111111,
              "#46039f"
             ],
             [
              0.2222222222222222,
              "#7201a8"
             ],
             [
              0.3333333333333333,
              "#9c179e"
             ],
             [
              0.4444444444444444,
              "#bd3786"
             ],
             [
              0.5555555555555556,
              "#d8576b"
             ],
             [
              0.6666666666666666,
              "#ed7953"
             ],
             [
              0.7777777777777778,
              "#fb9f3a"
             ],
             [
              0.8888888888888888,
              "#fdca26"
             ],
             [
              1,
              "#f0f921"
             ]
            ],
            "type": "surface"
           }
          ],
          "table": [
           {
            "cells": {
             "fill": {
              "color": "#EBF0F8"
             },
             "line": {
              "color": "white"
             }
            },
            "header": {
             "fill": {
              "color": "#C8D4E3"
             },
             "line": {
              "color": "white"
             }
            },
            "type": "table"
           }
          ]
         },
         "layout": {
          "annotationdefaults": {
           "arrowcolor": "#2a3f5f",
           "arrowhead": 0,
           "arrowwidth": 1
          },
          "autotypenumbers": "strict",
          "coloraxis": {
           "colorbar": {
            "outlinewidth": 0,
            "ticks": ""
           }
          },
          "colorscale": {
           "diverging": [
            [
             0,
             "#8e0152"
            ],
            [
             0.1,
             "#c51b7d"
            ],
            [
             0.2,
             "#de77ae"
            ],
            [
             0.3,
             "#f1b6da"
            ],
            [
             0.4,
             "#fde0ef"
            ],
            [
             0.5,
             "#f7f7f7"
            ],
            [
             0.6,
             "#e6f5d0"
            ],
            [
             0.7,
             "#b8e186"
            ],
            [
             0.8,
             "#7fbc41"
            ],
            [
             0.9,
             "#4d9221"
            ],
            [
             1,
             "#276419"
            ]
           ],
           "sequential": [
            [
             0,
             "#0d0887"
            ],
            [
             0.1111111111111111,
             "#46039f"
            ],
            [
             0.2222222222222222,
             "#7201a8"
            ],
            [
             0.3333333333333333,
             "#9c179e"
            ],
            [
             0.4444444444444444,
             "#bd3786"
            ],
            [
             0.5555555555555556,
             "#d8576b"
            ],
            [
             0.6666666666666666,
             "#ed7953"
            ],
            [
             0.7777777777777778,
             "#fb9f3a"
            ],
            [
             0.8888888888888888,
             "#fdca26"
            ],
            [
             1,
             "#f0f921"
            ]
           ],
           "sequentialminus": [
            [
             0,
             "#0d0887"
            ],
            [
             0.1111111111111111,
             "#46039f"
            ],
            [
             0.2222222222222222,
             "#7201a8"
            ],
            [
             0.3333333333333333,
             "#9c179e"
            ],
            [
             0.4444444444444444,
             "#bd3786"
            ],
            [
             0.5555555555555556,
             "#d8576b"
            ],
            [
             0.6666666666666666,
             "#ed7953"
            ],
            [
             0.7777777777777778,
             "#fb9f3a"
            ],
            [
             0.8888888888888888,
             "#fdca26"
            ],
            [
             1,
             "#f0f921"
            ]
           ]
          },
          "colorway": [
           "#636efa",
           "#EF553B",
           "#00cc96",
           "#ab63fa",
           "#FFA15A",
           "#19d3f3",
           "#FF6692",
           "#B6E880",
           "#FF97FF",
           "#FECB52"
          ],
          "font": {
           "color": "#2a3f5f"
          },
          "geo": {
           "bgcolor": "white",
           "lakecolor": "white",
           "landcolor": "#E5ECF6",
           "showlakes": true,
           "showland": true,
           "subunitcolor": "white"
          },
          "hoverlabel": {
           "align": "left"
          },
          "hovermode": "closest",
          "mapbox": {
           "style": "light"
          },
          "paper_bgcolor": "white",
          "plot_bgcolor": "#E5ECF6",
          "polar": {
           "angularaxis": {
            "gridcolor": "white",
            "linecolor": "white",
            "ticks": ""
           },
           "bgcolor": "#E5ECF6",
           "radialaxis": {
            "gridcolor": "white",
            "linecolor": "white",
            "ticks": ""
           }
          },
          "scene": {
           "xaxis": {
            "backgroundcolor": "#E5ECF6",
            "gridcolor": "white",
            "gridwidth": 2,
            "linecolor": "white",
            "showbackground": true,
            "ticks": "",
            "zerolinecolor": "white"
           },
           "yaxis": {
            "backgroundcolor": "#E5ECF6",
            "gridcolor": "white",
            "gridwidth": 2,
            "linecolor": "white",
            "showbackground": true,
            "ticks": "",
            "zerolinecolor": "white"
           },
           "zaxis": {
            "backgroundcolor": "#E5ECF6",
            "gridcolor": "white",
            "gridwidth": 2,
            "linecolor": "white",
            "showbackground": true,
            "ticks": "",
            "zerolinecolor": "white"
           }
          },
          "shapedefaults": {
           "line": {
            "color": "#2a3f5f"
           }
          },
          "ternary": {
           "aaxis": {
            "gridcolor": "white",
            "linecolor": "white",
            "ticks": ""
           },
           "baxis": {
            "gridcolor": "white",
            "linecolor": "white",
            "ticks": ""
           },
           "bgcolor": "#E5ECF6",
           "caxis": {
            "gridcolor": "white",
            "linecolor": "white",
            "ticks": ""
           }
          },
          "title": {
           "x": 0.05
          },
          "xaxis": {
           "automargin": true,
           "gridcolor": "white",
           "linecolor": "white",
           "ticks": "",
           "title": {
            "standoff": 15
           },
           "zerolinecolor": "white",
           "zerolinewidth": 2
          },
          "yaxis": {
           "automargin": true,
           "gridcolor": "white",
           "linecolor": "white",
           "ticks": "",
           "title": {
            "standoff": 15
           },
           "zerolinecolor": "white",
           "zerolinewidth": 2
          }
         }
        }
       }
      }
     },
     "metadata": {},
     "output_type": "display_data"
    }
   ],
   "source": [
    "my_location = seoul_bike.query('st_id1 ==[766,754,4526]')['st_id2'].value_counts()\n",
    "\n",
    "\n",
    "where_to_go = pd.merge(my_location,station,how='left',left_on=my_location.index,right_on='id')\n",
    "where_to_go.rename(columns={'st_id2':'횟수','Unnamed: 0' : 'del'},inplace=True)\n",
    "\n",
    "# px.density_mapbox(where_to_go.query('횟수'), lat=\"위도\", lon=\"경도\",z='횟수',hover_name='주소2',radius=5,color_continuous_scale='temps' ,zoom=10)\n",
    "fig=px.scatter_mapbox(where_to_go, lat=\"위도\", lon=\"경도\", hover_name=\"주소2\", hover_data=['횟수','id'],\n",
    "                        color_continuous_scale='temps', zoom=11, height=500,size='횟수', opacity=0.5)\n",
    "fig.update_layout(mapbox_style=\"carto-positron\")"
   ]
  },
  {
   "cell_type": "markdown",
   "metadata": {},
   "source": [
    "### 자전거와 지하철 연계는 많을까?"
   ]
  },
  {
   "cell_type": "code",
   "execution_count": 261,
   "metadata": {},
   "outputs": [],
   "source": [
    "sub_station = pd.read_csv('D:\\git_local_repository\\data_for_project\\seoul_bike\\sub_station.csv',encoding='CP949')\n",
    "## 시발 지하철 좌표도 조금씩 틀리네.............\n",
    "\n",
    "# 반경 10m 자전거 존으로 생각\n",
    "\n",
    "def haversine_np(lon1, lat1, lon2, lat2):\n",
    "    \"\"\"\n",
    "    Calculate the great circle distance between two points\n",
    "    on the earth (specified in decimal degrees)\n",
    "\n",
    "    All args must be of equal length.    \n",
    "\n",
    "    \"\"\"\n",
    "    lon1, lat1, lon2, lat2 = map(np.radians, [lon1, lat1, lon2, lat2])\n",
    "\n",
    "    dlon = lon2 - lon1\n",
    "    dlat = lat2 - lat1\n",
    "\n",
    "    a = np.sin(dlat/2.0)**2 + np.cos(lat1) * np.cos(lat2) * np.sin(dlon/2.0)**2\n",
    "\n",
    "    c = 2 * np.arcsin(np.sqrt(a))\n",
    "    m = 6367 * c * 1000\n",
    "    return m\n",
    "\n",
    "\n",
    "\n",
    "sub_lat = sub_station['위도']\n",
    "sub_long = sub_station['경도']\n",
    "\n",
    "temp_save =[]\n",
    "for i in range(len(station)) : \n",
    "# for i in range(10) : \n",
    "    bike_lat = station['위도'][i]\n",
    "    bike_long = station['경도'][i]\n",
    "    result_km = haversine_np(bike_long,bike_lat,sub_long,sub_lat)\n",
    "    bike_index = pd.concat([sub_station, result_km],axis=1)\n",
    "    bike_index.rename(columns={0: '거리'}, inplace=True)\n",
    "    # bike_index = bike_index.query('거리 < 150')['역사_ID']\n",
    "    try : \n",
    "        bike_index = bike_index.query('거리 < 200')['역사_ID'].values[0]\n",
    "    except : \n",
    "        bike_index = 0\n",
    "    # temp_save.append(bike_index.tolist())\n",
    "    temp_save.append(bike_index)\n",
    "\n",
    "near_sub = pd.DataFrame(temp_save)\n",
    "near_sub['bike_id'] = station['id']\n",
    "near_sub.sort_values(by=0,ascending=False)\n",
    "near_sub.rename(inplace=True, columns={0:'sub_id'})\n",
    "# near_sub.to_csv('D:/git_local_repository/data_for_project/seoul_bike/near_sub.csv')"
   ]
  },
  {
   "cell_type": "code",
   "execution_count": 262,
   "metadata": {},
   "outputs": [],
   "source": [
    "## 지하철 인근 자전거 구역 설정 \n",
    "near_sub_sorted = near_sub.query('sub_id !=0 ') \n",
    "merge_bike = pd.merge(near_sub_sorted,station,how='left',left_on='bike_id',right_on='id')\n",
    "merge_sub = pd.merge(near_sub_sorted,sub_station,how='left',left_on='sub_id',right_on='역사_ID')"
   ]
  },
  {
   "cell_type": "code",
   "execution_count": 263,
   "metadata": {},
   "outputs": [
    {
     "data": {
      "application/vnd.plotly.v1+json": {
       "config": {
        "plotlyServerURL": "https://plot.ly"
       },
       "data": [
        {
         "customdata": [
          [
           "망원역 1번출구 앞",
           "마포구",
           "2015-09-06"
          ],
          [
           "망원역 2번출구 앞",
           "마포구",
           "2015-09-06"
          ],
          [
           "합정역 1번출구 앞",
           "마포구",
           "2015-09-06"
          ],
          [
           "합정역 5번출구 앞",
           "마포구",
           "2015-09-06"
          ],
          [
           "합정역 7번출구 앞",
           "마포구",
           "2015-09-06"
          ],
          [
           "상수역 2번출구 앞",
           "마포구",
           "2015-09-07"
          ],
          [
           "극동방송국 앞",
           "마포구",
           "2015-09-07"
          ],
          [
           "홍대입구역 2번출구 앞",
           "마포구",
           "2021-05-20"
          ],
          [
           "홍대입구역 8번출구 앞",
           "마포구",
           "2015-09-07"
          ],
          [
           "마스타 빌딩 앞",
           "서대문구",
           "2020-11-05"
          ],
          [
           "광흥창역 2번출구 앞",
           "마포구",
           "2015-09-07"
          ],
          [
           "서강대 정문 건너편",
           "마포구",
           "2015-09-07"
          ],
          [
           "현대벤처빌 앞",
           "마포구",
           "2015-09-07"
          ],
          [
           "신촌역(2호선) 1번출구 옆",
           "서대문구",
           "2015-09-07"
          ],
          [
           "신촌역(2호선) 6번출구 옆",
           "마포구",
           "2015-09-07"
          ],
          [
           "신촌역(2호선) 7번출구 앞",
           "마포구",
           "2015-09-07"
          ],
          [
           "증산2교",
           "서대문구",
           "2015-09-07"
          ],
          [
           "이화여대 후문",
           "서대문구",
           "2015-09-07"
          ],
          [
           "아현역 4번출구 앞",
           "마포구",
           "2016-06-29"
          ],
          [
           "공덕역 2번출구",
           "마포구",
           "2016-06-29"
          ],
          [
           "공덕역 8번출구",
           "마포구",
           "2016-06-29"
          ],
          [
           "공덕역 5번출구",
           "마포구",
           "2016-06-29"
          ],
          [
           "마포역 2번출구 뒤",
           "마포구",
           "2016-06-29"
          ],
          [
           "마포역 4번출구 뒤",
           "마포구",
           "2016-06-29"
          ],
          [
           "서강대역 2번출구 앞",
           "마포구",
           "2016-06-29"
          ],
          [
           "가좌역1 번출구 뒤",
           "마포구",
           "2016-06-29"
          ],
          [
           "애오개역 4번출구 앞",
           "마포구",
           "2016-06-29"
          ],
          [
           "이대역 4번 출구",
           "서대문구",
           "2016-06-29"
          ],
          [
           "무악재역1번 출구",
           "서대문구",
           "2016-06-29"
          ],
          [
           "임광빌딩 앞",
           "서대문구",
           "2016-06-29"
          ],
          [
           "서대문역 8번출구 앞",
           "서대문구",
           "2016-06-29"
          ],
          [
           "가좌역 4번출구 앞",
           "서대문구",
           "2016-06-29"
          ],
          [
           "충정로역 7번출구 아래",
           "서대문구",
           "2016-06-29"
          ],
          [
           "증산교 앞",
           "서대문구",
           "2016-07-06"
          ],
          [
           "국회의사당역 3번출구 옆",
           "영등포구",
           "2015-09-17"
          ],
          [
           "국회의사당역 5번출구 옆",
           "영등포구",
           "2015-09-17"
          ],
          [
           "여의나루역 1번출구 앞",
           "영등포구",
           "2015-09-17"
          ],
          [
           "여의도역 4번출구 옆",
           "영등포구",
           "2015-09-17"
          ],
          [
           "여의도역 1번출구 옆",
           "영등포구",
           "2015-09-17"
          ],
          [
           "롯데캐슬엠파이어 옆",
           "영등포구",
           "2015-09-17"
          ],
          [
           "앙카라공원 앞",
           "영등포구",
           "2015-09-17"
          ],
          [
           "샛강역 1번출구 앞",
           "영등포구",
           "2015-09-17"
          ],
          [
           "선유도역 3번출구 앞",
           "영등포구",
           "2016-06-29"
          ],
          [
           "영등포구청역 1번출구",
           "영등포구",
           "2016-07-06"
          ],
          [
           "양평우림 이비즈센타 앞",
           "영등포구",
           "2016-06-29"
          ],
          [
           "문래동자이아파트 앞",
           "영등포구",
           "2016-06-29"
          ],
          [
           "문래역 4번출구 앞",
           "영등포구",
           "2016-06-29"
          ],
          [
           "당산역 10번출구 앞",
           "영등포구",
           "2016-06-29"
          ],
          [
           "보라매역4번출구",
           "영등포구",
           "2016-06-29"
          ],
          [
           "신풍역 5번출구 인근",
           "영등포구",
           "2016-06-29"
          ],
          [
           "신길역3번출구",
           "영등포구",
           "2016-06-29"
          ],
          [
           "대방역6번출구",
           "영등포구",
           "2016-06-29"
          ],
          [
           "당산육갑문",
           "영등포구",
           "2016-07-06"
          ],
          [
           "영등포역지하쇼핑센타 5번출구",
           "영등포구",
           "2017-11-28"
          ],
          [
           "아크로타워 스퀘어(영등포시장)",
           "영등포구",
           "2018-09-28"
          ],
          [
           "경복궁역 7번출구 앞",
           "종로구",
           "2015-10-07"
          ],
          [
           "경복궁역 4번출구 뒤",
           "종로구",
           "2015-10-07"
          ],
          [
           "종로구청 옆",
           "종로구",
           "2015-10-07"
          ],
          [
           "광화문역 7번출구 앞",
           "종로구",
           "2015-10-07"
          ],
          [
           "광화문역 6번출구 옆",
           "종로구",
           "2015-10-07"
          ],
          [
           "종각역 1번출구 앞",
           "종로구",
           "2015-10-07"
          ],
          [
           "광교사거리 남측",
           "중구",
           "2015-10-07"
          ],
          [
           "을지로입구역 4번출구 앞",
           "중구",
           "2015-10-07"
          ],
          [
           "KEB 하나금융그룹 명동사옥 옆",
           "중구",
           "2015-10-07"
          ],
          [
           "안국역 5번출구 앞",
           "종로구",
           "2015-10-07"
          ],
          [
           "종로3가역 2번출구 뒤",
           "종로구",
           "2015-10-07"
          ],
          [
           "종로3가역 15번출구 앞",
           "종로구",
           "2015-10-07"
          ],
          [
           "티마크 호텔 앞",
           "중구",
           "2015-10-07"
          ],
          [
           "혜화역 3번출구 뒤",
           "종로구",
           "2015-10-07"
          ],
          [
           "동대문역사문화공원역 9번출구 앞",
           "중구",
           "2015-10-07"
          ],
          [
           "동묘앞역 1번출구 뒤",
           "종로구",
           "2016-06-01"
          ],
          [
           "신설동역 11번출구 뒤",
           "종로구",
           "2016-06-01"
          ],
          [
           "창신역 1번출구 앞",
           "종로구",
           "2016-06-01"
          ],
          [
           "독립문역 3-1번출구",
           "종로구",
           "2016-06-01"
          ],
          [
           "시청역(2호선) 9번출구 뒤",
           "중구",
           "2016-06-15"
          ],
          [
           "동대입구역 6번출구 뒤",
           "중구",
           "2016-06-15"
          ],
          [
           "약수역 3번출구 뒤",
           "중구",
           "2016-06-15"
          ],
          [
           "청구역 2번출구 앞",
           "중구",
           "2016-06-15"
          ],
          [
           "서울역9번출구",
           "중구",
           "2016-06-15"
          ],
          [
           "장충체육관",
           "중구",
           "2016-06-15"
          ],
          [
           "약수역 10번출구 앞",
           "중구",
           "2016-06-15"
          ],
          [
           "신당역 12번 출구 뒤",
           "중구",
           "2016-06-15"
          ],
          [
           "종각역 5번출구",
           "종로구",
           "2016-07-06"
          ],
          [
           "을지로4가역 1번출구",
           "중구",
           "2017-08-03"
          ],
          [
           "충무로역 1번출구",
           "중구",
           "2017-08-03"
          ],
          [
           "동대문역 8번 출구",
           "종로구",
           "2018-01-26"
          ],
          [
           "을지로3가역 3번출구",
           "중구",
           "2018-10-26"
          ],
          [
           "DMC역 9번출구 앞",
           "마포구",
           "2015-10-07"
          ],
          [
           "DMC역 2번출구 옆",
           "마포구",
           "2015-10-07"
          ],
          [
           "월드컵경기장역 3번출구 옆",
           "마포구",
           "2015-10-07"
          ],
          [
           "홈플러스 앞",
           "마포구",
           "2015-10-07"
          ],
          [
           "을지로입구역 2번출구",
           "중구",
           "2018-12-14"
          ],
          [
           "이대역 5번출구",
           "마포구",
           "2018-11-21"
          ],
          [
           "대흥역 1번출구",
           "마포구",
           "2018-12-04"
          ],
          [
           "서울역 서부",
           "중구",
           "2020-02-03"
          ],
          [
           "종로오가 지하쇼핑센터 14번출구",
           "종로구",
           "2018-08-31"
          ],
          [
           "종로꽃시장 입구 옆",
           "종로구",
           "2018-08-30"
          ],
          [
           "광화문역 5번출구",
           "종로구",
           "2018-08-31"
          ],
          [
           "서울지방경찰청",
           "종로구",
           "2018-10-29"
          ],
          [
           "회현역 1번출구",
           "중구",
           "2020-01-31"
          ],
          [
           "회현역 7번출구",
           "중구",
           "2020-01-31"
          ],
          [
           "을지로4가역 9번출구",
           "중구",
           "2020-03-01"
          ],
          [
           "동대문역사문화공원역 1번출구 뒤편",
           "중구",
           "2020-01-29"
          ],
          [
           "광희문",
           "중구",
           "2020-01-29"
          ],
          [
           "동대입구역 3번 출구",
           "중구",
           "2020-01-30"
          ],
          [
           "약수역 6번 출구",
           "중구",
           "2020-01-30"
          ],
          [
           "신당역 10번 출구",
           "중구",
           "2020-01-29"
          ],
          [
           "남산타운아파트 버스정류장",
           "중구",
           "2020-01-29"
          ],
          [
           "서울역4번출구",
           "중구",
           "2020-02-03"
          ],
          [
           "어린이대공원역 3번출구 앞",
           "광진구",
           "2015-10-07"
          ],
          [
           "뚝섬유원지역 1번출구 앞",
           "광진구",
           "2015-10-07"
          ],
          [
           "성수아카데미타워 앞",
           "성동구",
           "2015-10-07"
          ],
          [
           "서울숲역 4번 출구 옆",
           "성동구",
           "2015-10-07"
          ],
          [
           "상왕십리역 4번 출구 앞",
           "성동구",
           "2016-06-29"
          ],
          [
           "왕십리역 11번 출구 앞",
           "성동구",
           "2016-06-29"
          ],
          [
           "금호역 1번출구 앞",
           "성동구",
           "2016-06-29"
          ],
          [
           "장한평역 8번 출구 앞",
           "성동구",
           "2016-06-29"
          ],
          [
           "행당역 2번출구 앞",
           "성동구",
           "2016-06-29"
          ],
          [
           "답십리역 8번출구 앞",
           "성동구",
           "2016-06-29"
          ],
          [
           "군자역 7번출구 베스트샵 앞",
           "광진구",
           "2016-06-29"
          ],
          [
           "강변역 4번출구 뒤",
           "광진구",
           "2016-06-29"
          ],
          [
           "구의공원(테크노마트 앞)",
           "광진구",
           "2020-09-02"
          ],
          [
           "아차산역 3번출구",
           "광진구",
           "2016-06-29"
          ],
          [
           "왕십리역 4번 출구 건너편",
           "성동구",
           "2016-07-06"
          ],
          [
           "서울숲역 2번출구 앞",
           "성동구",
           "2016-07-06"
          ],
          [
           "금호역 3번출구",
           "성동구",
           "2016-07-06"
          ],
          [
           "옥수역 3번출구",
           "성동구",
           "2016-07-06"
          ],
          [
           "성수역 2번출구 앞",
           "성동구",
           "2016-07-06"
          ],
          [
           "어린이대공원역6번출구",
           "광진구",
           "2016-07-06"
          ],
          [
           "아차산역4번출구",
           "광진구",
           "2016-07-06"
          ],
          [
           "광나루역 3번 출구",
           "광진구",
           "2016-07-06"
          ],
          [
           "마장역 4번출구",
           "성동구",
           "2016-07-06"
          ],
          [
           "광진광장 교통섬",
           "광진구",
           "2016-09-02"
          ],
          [
           "뚝섬 유원지역",
           "광진구",
           "2020-12-18"
          ],
          [
           "성수역3번출구",
           "성동구",
           "2017-04-19"
          ],
          [
           "신설동역8번출구",
           "동대문구",
           "2016-06-29"
          ],
          [
           "신이문역 2번출구",
           "동대문구",
           "2016-06-29"
          ],
          [
           "신설동역 10번출구 앞",
           "동대문구",
           "2016-06-29"
          ],
          [
           "용두동 래미안허브리츠아파트 앞",
           "동대문구",
           "2016-06-29"
          ],
          [
           "청량리 기업은행 앞",
           "동대문구",
           "2016-07-06"
          ],
          [
           "용두역 4번출구",
           "동대문구",
           "2016-07-06"
          ],
          [
           "신답역 사거리",
           "동대문구",
           "2020-06-18"
          ],
          [
           "장한평역 1번출구 (국민은행앞)",
           "동대문구",
           "2017-11-28"
          ],
          [
           "신이문역 1번출구",
           "동대문구",
           "2017-11-28"
          ],
          [
           "제기역1번출구",
           "동대문구",
           "2018-10-22"
          ],
          [
           "외대앞역 4번출구",
           "동대문구",
           "2018-12-14"
          ],
          [
           "대광빌딩",
           "동대문구",
           "2020-03-27"
          ],
          [
           "청량리역 4번 5번출구 사이",
           "동대문구",
           "2020-04-19"
          ],
          [
           "KB국민은행 염창역 지점 앞",
           "양천구",
           "2016-06-29"
          ],
          [
           "오목교역 7번출구 앞",
           "양천구",
           "2016-06-29"
          ],
          [
           "등촌역 5번 출구 뒤",
           "양천구",
           "2017-11-01"
          ],
          [
           "신목동역 2번 출구",
           "양천구",
           "2020-10-28"
          ],
          [
           "오목로 무중력지대 앞",
           "양천구",
           "2018-09-27"
          ],
          [
           "오목교역 3번출구",
           "양천구",
           "2019-01-02"
          ],
          [
           "신목동역 3번출구",
           "양천구",
           "2019-03-12"
          ],
          [
           "목동역5번출구 교통정보센터 앞",
           "양천구",
           "2020-03-13"
          ],
          [
           "염창역 3, 4번 출구 사이",
           "양천구",
           "2020-03-16"
          ],
          [
           "등촌역 4번 출구 ",
           "양천구",
           "2020-03-16"
          ],
          [
           "양천나눔누리센터",
           "양천구",
           "2020-03-09"
          ],
          [
           "양천구청역 2번출구 옆",
           "양천구",
           "2020-03-06"
          ],
          [
           "한강진역 2번 출구 앞",
           "용산구",
           "2016-06-29"
          ],
          [
           "서울역 12번 출구 앞",
           "용산구",
           "2016-06-29"
          ],
          [
           "서빙고동 금호맨션 앞",
           "용산구",
           "2016-06-29"
          ],
          [
           "한남 유수지 복개주차장",
           "용산구",
           "2016-06-29"
          ],
          [
           "녹사평역1번출구",
           "용산구",
           "2016-06-29"
          ],
          [
           "삼각지역 3번출구",
           "용산구",
           "2016-06-29"
          ],
          [
           "신용산역 6번출구 앞",
           "용산구",
           "2016-07-06"
          ],
          [
           "삼각지역 4번출구 앞",
           "용산구",
           "2016-07-06"
          ],
          [
           "선린인터넷 고등학교",
           "용산구",
           "2016-07-06"
          ],
          [
           "숙대입구역 8번",
           "용산구",
           "2017-11-28"
          ],
          [
           "이태원관광특구입구",
           "용산구",
           "2017-11-28"
          ],
          [
           "이촌1동 주민센터 뒤",
           "용산구",
           "2017-12-22"
          ],
          [
           "효창공원앞역 3번출구 뒤",
           "용산구",
           "2017-12-22"
          ],
          [
           "남영역 건너편",
           "용산구",
           "2017-12-22"
          ],
          [
           "숙대입구역 4번출구",
           "용산구",
           "2018-12-14"
          ],
          [
           "신용산역 1번 출구",
           "용산구",
           "2018-10-12"
          ],
          [
           "녹사평역 광장",
           "용산구",
           "2018-10-07"
          ],
          [
           " 삼각지12번 출구",
           "용산구",
           "2020-03-28"
          ],
          [
           " 삼각지 자이아파트",
           "용산구",
           "2020-03-30"
          ],
          [
           "용산역 맞은편",
           "용산구",
           "2020-04-07"
          ],
          [
           "HID 유족동지회 앞",
           "용산구",
           "2020-04-05"
          ],
          [
           "이촌역5번출구 앞",
           "용산구",
           "2020-04-07"
          ],
          [
           "녹사평역3번 출구",
           "용산구",
           "2020-04-07"
          ],
          [
           "서빙고역 광장(1번출구)",
           "용산구",
           "2020-04-07"
          ],
          [
           "구파발역 2번출구",
           "은평구",
           "2020-12-12"
          ],
          [
           "연신내역 5번출구150M 아래",
           "은평구",
           "2016-09-02"
          ],
          [
           "CJ 드림시티",
           "은평구",
           "2016-09-02"
          ],
          [
           "은평평화공원(역촌역4번출구)",
           "은평구",
           "2016-09-02"
          ],
          [
           "새절역 2번출구",
           "은평구",
           "2016-09-02"
          ],
          [
           "증산역 4번출구",
           "은평구",
           "2016-09-02"
          ],
          [
           "녹번역 4번출구",
           "은평구",
           "2016-09-02"
          ],
          [
           "연신내역 4번출구",
           "은평구",
           "2016-09-02"
          ],
          [
           "불광역 2번출구",
           "은평구",
           "2016-09-02"
          ],
          [
           "연신내역 3번출구 인근",
           "은평구",
           "2016-09-02"
          ],
          [
           "예일여중",
           "은평구",
           "2016-09-02"
          ],
          [
           "독바위역",
           "은평구",
           "2018-05-30"
          ],
          [
           "디지털미디어 시티역 4번출구",
           "은평구",
           "2017-11-01"
          ],
          [
           "연신내역 1번 출구",
           "은평구",
           "2017-11-01"
          ],
          [
           "구산역 2번 출구",
           "은평구",
           "2017-11-01"
          ],
          [
           "구파발역 환승센터",
           "은평구",
           "2018-10-18"
          ],
          [
           "불광역 9번 출구",
           "은평구",
           "2018-10-18"
          ],
          [
           "수색역",
           "은평구",
           "2019-06-14"
          ],
          [
           "녹번 힐스테이트상가앞",
           "은평구",
           "2020-04-09"
          ],
          [
           "응암 꼬꼬닭치킨호프 앞",
           "은평구",
           "2020-04-10"
          ],
          [
           "응암역 1번출구",
           "은평구",
           "2020-04-10"
          ],
          [
           "암사역 3번출구(국민은행앞)",
           "강동구",
           "2017-04-19"
          ],
          [
           "천호역4번출구(현대백화점)",
           "강동구",
           "2017-04-19"
          ],
          [
           "강동구청역 1번 출입구",
           "강동구",
           "2017-04-19"
          ],
          [
           "고덕역 4번출구",
           "강동구",
           "2017-11-01"
          ],
          [
           "굽은다리역",
           "강동구",
           "2017-11-01"
          ],
          [
           "둔촌역 3번 출입구",
           "강동구",
           "2018-02-26"
          ],
          [
           "중앙보훈병원역 1번출구",
           "강동구",
           "2020-01-09"
          ],
          [
           "고덕역 5번출구",
           "강동구",
           "2020-01-13"
          ],
          [
           "강동역 1번출구 앞",
           "강동구",
           "2020-01-09"
          ],
          [
           "중앙보훈병원역3번출구",
           "강동구",
           "2020-01-10"
          ],
          [
           "래미안 솔베뉴(구천면로)",
           "강동구",
           "2020-01-10"
          ],
          [
           "상일동역 2번출구 앞",
           "강동구",
           "2020-01-13"
          ],
          [
           "방화역 4번출구앞",
           "강서구",
           "2017-06-22"
          ],
          [
           "공항시장역 2번출구 뒤",
           "강서구",
           "2017-04-24"
          ],
          [
           "공항시장역 4번출구",
           "강서구",
           "2017-04-24"
          ],
          [
           "등촌역 1번출구옆",
           "강서구",
           "2017-06-22"
          ],
          [
           "증미역 3번출구뒤(등촌두산위브센티움오피스텔)",
           "강서구",
           "2017-04-24"
          ],
          [
           "발산역 6번 출구 뒤",
           "강서구",
           "2020-12-11"
          ],
          [
           "우장산역 1번출구옆(우장산아이파크105동앞)",
           "강서구",
           "2017-04-24"
          ],
          [
           "화곡역(에이스정형외과앞) 버스정류장",
           "강서구",
           "2017-04-24"
          ],
          [
           "화곡역 6번출구",
           "강서구",
           "2017-06-20"
          ],
          [
           "화곡역 1번 출구 앞",
           "강서구",
           "2017-04-24"
          ],
          [
           "등촌역 7번출구",
           "강서구",
           "2017-04-24"
          ],
          [
           "신방화역환승주차장",
           "강서구",
           "2017-08-31"
          ],
          [
           "송정역 1번출구",
           "강서구",
           "2017-11-01"
          ],
          [
           "마곡역1번출구",
           "강서구",
           "2017-11-01"
          ],
          [
           "마곡역교차로",
           "강서구",
           "2017-11-01"
          ],
          [
           "발산역 1번, 9번 인근 대여소",
           "강서구",
           "2017-11-01"
          ],
          [
           "가양역 8번출구",
           "강서구",
           "2017-11-28"
          ],
          [
           "양천향교역 7번출구앞",
           "강서구",
           "2020-12-31"
          ],
          [
           "염창역 1번 출구",
           "강서구",
           "2018-10-04"
          ],
          [
           "개화산역 2번 출구",
           "강서구",
           "2018-10-10"
          ],
          [
           "마곡역 교차로(2번출구)",
           "강서구",
           "2018-11-20"
          ],
          [
           "마곡역 교차로(NH농협)",
           "강서구",
           "2018-11-20"
          ],
          [
           "우장산역 3번출구",
           "강서구",
           "2018-12-04"
          ],
          [
           "개화광역환승센터",
           "강서구",
           "2018-12-14"
          ],
          [
           "가락시장역 3번 출구",
           "송파구",
           "2017-06-22"
          ],
          [
           "거여역 3번출구",
           "송파구",
           "2017-06-28"
          ],
          [
           "9호선종합운동장역 9번출구",
           "송파구",
           "2017-04-24"
          ],
          [
           "풍납현대아파트쉼터",
           "송파구",
           "2017-04-24"
          ],
          [
           "잠실나루역 (2번 출구 쪽)",
           "송파구",
           "2017-04-24"
          ],
          [
           "롯데월드타워(잠실역2번출구 쪽)",
           "송파구",
           "2017-06-27"
          ],
          [
           "송파역 2번 출구앞",
           "송파구",
           "2017-06-22"
          ],
          [
           "오금역 7번 출구 인근",
           "송파구",
           "2017-05-26"
          ],
          [
           "올림픽공원역 1번출구 앞",
           "송파구",
           "2017-04-24"
          ],
          [
           "방이역 4번출구",
           "송파구",
           "2017-06-27"
          ],
          [
           "삼전사거리 포스코더샵",
           "송파구",
           "2017-07-11"
          ],
          [
           "잠실새내역 5번 출구 뒤",
           "송파구",
           "2017-04-24"
          ],
          [
           "거여역 8번출구 뒤",
           "송파구",
           "2017-06-27"
          ],
          [
           "잠실역 6번출구",
           "송파구",
           "2017-06-22"
          ],
          [
           "문정 법조단지9",
           "송파구",
           "2017-06-27"
          ],
          [
           "문정 법조단지10",
           "송파구",
           "2017-06-27"
          ],
          [
           "석촌역 2번출구",
           "송파구",
           "2017-11-01"
          ],
          [
           "오금역 3번 출구 뒤",
           "송파구",
           "2017-11-01"
          ],
          [
           "가락시장역 롯데마트앞",
           "송파구",
           "2017-11-01"
          ],
          [
           "방이역 1번출구",
           "송파구",
           "2017-11-01"
          ],
          [
           "천호역 10번 출구 앞",
           "송파구",
           "2017-11-01"
          ],
          [
           "몽촌토성역 1번출구 옆",
           "송파구",
           "2020-06-25"
          ],
          [
           "잠실역 8번출구",
           "송파구",
           "2018-09-07"
          ],
          [
           "송파소방서 (방이119안전센터)",
           "송파구",
           "2018-09-11"
          ],
          [
           "한성대입구역6번출구 뒤",
           "성북구",
           "2017-06-20"
          ],
          [
           "한성대입구역2번출구",
           "성북구",
           "2017-06-22"
          ],
          [
           "정릉꿈에그린1단지 201동 앞",
           "성북구",
           "2017-04-26"
          ],
          [
           "길음역 3번출구 뒤",
           "성북구",
           "2017-04-26"
          ],
          [
           "상월곡역 4번출구",
           "성북구",
           "2017-04-26"
          ],
          [
           "상월곡역 1번출구",
           "성북구",
           "2017-04-26"
          ],
          [
           "월곡역 3번출구",
           "성북구",
           "2017-06-27"
          ],
          [
           "석계역 5번출구 건너편",
           "성북구",
           "2017-04-26"
          ],
          [
           "한성대7번출구 앞",
           "성북구",
           "2017-11-13"
          ],
          [
           "고려대학교 2번출구",
           "성북구",
           "2017-11-28"
          ],
          [
           "북한산보국문역",
           "성북구",
           "2018-02-26"
          ],
          [
           "정릉역",
           "성북구",
           "2018-02-26"
          ],
          [
           "보문역6번출구 앞",
           "성북구",
           "2018-11-02"
          ],
          [
           "월곡역 5번출구 앞",
           "성북구",
           "2020-03-30"
          ],
          [
           "석계역 4번출구 뒤",
           "성북구",
           "2020-03-25"
          ],
          [
           "성신여대입구역 5번출구",
           "성북구",
           "2020-03-28"
          ],
          [
           "성신여대입구역 3번출구 앞",
           "성북구",
           "2020-06-17"
          ],
          [
           "중화빌딩 앞 (동부시장)",
           "중랑구",
           "2017-04-26"
          ],
          [
           "망우역 1번출구",
           "중랑구",
           "2017-04-26"
          ],
          [
           "망우청소년수련관",
           "중랑구",
           "2017-04-26"
          ],
          [
           "먹골역 1번출구 뒤",
           "중랑구",
           "2017-06-22"
          ],
          [
           "먹골역 6번출구 앞",
           "중랑구",
           "2017-04-26"
          ],
          [
           "봉화산역 5번출구 뒤",
           "중랑구",
           "2017-04-26"
          ],
          [
           "사가정역 1번출구",
           "중랑구",
           "2017-06-22"
          ],
          [
           "상봉역 3번출구",
           "중랑구",
           "2017-06-22"
          ],
          [
           "신내역 4번출구",
           "중랑구",
           "2017-04-26"
          ],
          [
           "양원역 2번출구",
           "중랑구",
           "2017-04-26"
          ],
          [
           "면목도시개발아파트 1동 앞",
           "중랑구",
           "2017-04-26"
          ],
          [
           "용마산역 1번출구",
           "중랑구",
           "2017-06-22"
          ],
          [
           "중화역 2번출구",
           "중랑구",
           "2017-06-22"
          ],
          [
           "면목역 3번출구",
           "중랑구",
           "2017-11-01"
          ],
          [
           "상봉역 1번출구",
           "중랑구",
           "2017-11-28"
          ],
          [
           "화랑대역 7번출구",
           "중랑구",
           "2017-11-28"
          ],
          [
           "상봉역 2번 출구",
           "중랑구",
           "2018-02-13"
          ],
          [
           "동양엔파트 앞",
           "중랑구",
           "2020-04-21"
          ],
          [
           "동부시장 북문 앞",
           "중랑구",
           "2020-05-05"
          ],
          [
           "중랑구민회관",
           "중랑구",
           "2020-04-30"
          ],
          [
           "중화역 4번출구",
           "중랑구",
           "2020-04-21"
          ],
          [
           "중랑공영차고지 옆",
           "중랑구",
           "2020-04-14"
          ],
          [
           "sk신내 주유소앞(용마산로)",
           "중랑구",
           "2020-04-14"
          ],
          [
           "먹골역 7번 출구",
           "중랑구",
           "2020-04-21"
          ],
          [
           "먹골역 4번출구",
           "중랑구",
           "2020-04-21"
          ],
          [
           "영성빌딩(PAT)",
           "중랑구",
           "2020-04-20"
          ],
          [
           "중랑역 1번 출구(중화문화복지센터)",
           "중랑구",
           "2020-04-21"
          ],
          [
           "홈플러스 상봉점 앞",
           "중랑구",
           "2020-04-21"
          ],
          [
           "미아역 3번,4번 출구 사이",
           "강북구",
           "2017-08-03"
          ],
          [
           "이디야 커피 수유역점 앞",
           "강북구",
           "2017-05-11"
          ],
          [
           "강북구청 뒷편",
           "강북구",
           "2017-06-22"
          ],
          [
           "SK telecom(수유직영점) 앞",
           "강북구",
           "2017-05-11"
          ],
          [
           "월드전기조명인테리어(우이동)",
           "강북구",
           "2017-06-22"
          ],
          [
           "미아동 복합청사",
           "강북구",
           "2017-05-11"
          ],
          [
           "미아역 1번 출구 뒤",
           "강북구",
           "2017-11-01"
          ],
          [
           "미아사거리 1번 출구",
           "강북구",
           "2017-11-01"
          ],
          [
           "북한산 우이역",
           "강북구",
           "2018-02-26"
          ],
          [
           "솔밭공원역",
           "강북구",
           "2018-02-26"
          ],
          [
           "4.19민주묘지역",
           "강북구",
           "2018-02-26"
          ],
          [
           "가오리역",
           "강북구",
           "2018-02-26"
          ],
          [
           "삼양역",
           "강북구",
           "2018-02-26"
          ],
          [
           "삼양사거리역",
           "강북구",
           "2018-02-26"
          ],
          [
           "강북구청사거리(던킨도너츠 앞)",
           "강북구",
           "2020-03-25"
          ],
          [
           "4.19민주묘지역 1번출구",
           "강북구",
           "2020-03-25"
          ],
          [
           "4.19민주묘지 입구사거리",
           "강북구",
           "2020-03-25"
          ],
          [
           "수유역2번출구",
           "강북구",
           "2020-03-28"
          ],
          [
           "우이산 입구",
           "강북구",
           "2020-05-08"
          ],
          [
           "석계역 문화광장 내 자전거 보관소",
           "노원구",
           "2017-05-08"
          ],
          [
           "광운대역 앞",
           "노원구",
           "2017-06-27"
          ],
          [
           "태릉입구역 3번출구",
           "노원구",
           "2017-05-08"
          ],
          [
           "공릉역 1번 출구 앞",
           "노원구",
           "2017-05-26"
          ],
          [
           "화랑대역 2번출구 앞",
           "노원구",
           "2017-05-08"
          ],
          [
           "하계2동 공항버스정류장 옆",
           "노원구",
           "2017-05-08"
          ],
          [
           "상계역(4번출구)",
           "노원구",
           "2017-06-27"
          ],
          [
           "수락산역 4번출구",
           "노원구",
           "2020-12-31"
          ],
          [
           "수연빌딩 앞",
           "노원구",
           "2020-09-02"
          ],
          [
           "당고개공원 대여소",
           "노원구",
           "2017-05-08"
          ],
          [
           "KT 노원점 건물 앞",
           "노원구",
           "2017-05-08"
          ],
          [
           "태릉입구역 8번출구",
           "노원구",
           "2017-11-01"
          ],
          [
           "노원역1번출구",
           "노원구",
           "2017-11-01"
          ],
          [
           "노원역7번출구",
           "노원구",
           "2017-11-28"
          ],
          [
           "중계역 6번출구",
           "노원구",
           "2017-11-28"
          ],
          [
           "중계역 3번출구",
           "노원구",
           "2017-11-28"
          ],
          [
           "노원역 5번출구",
           "노원구",
           "2017-11-28"
          ],
          [
           "태릉입구역 5번출구",
           "노원구",
           "2018-10-27"
          ],
          [
           "마들역 7번출구",
           "노원구",
           "2018-11-02"
          ],
          [
           "마들역 3번출구",
           "노원구",
           "2018-11-02"
          ],
          [
           "녹천역 1번출구 앞",
           "도봉구",
           "2017-05-08"
          ],
          [
           "도봉산광역환승센터앞",
           "도봉구",
           "2017-05-11"
          ],
          [
           "쌍문역4번출구 주변",
           "도봉구",
           "2017-05-08"
          ],
          [
           "창동역 2번출구",
           "도봉구",
           "2017-11-01"
          ],
          [
           "우리은행 앞",
           "도봉구",
           "2018-10-27"
          ],
          [
           "도봉역 1,2번 출구사이 건너편",
           "도봉구",
           "2018-10-27"
          ],
          [
           " 다이소방학점 앞",
           "도봉구",
           "2020-03-21"
          ],
          [
           " 피자헛 앞(도봉병원 옆)",
           "도봉구",
           "2020-03-21"
          ],
          [
           "솔밭공원역 1번출구 앞",
           "도봉구",
           "2020-03-25"
          ],
          [
           "북서울교회 버스정류소 앞",
           "도봉구",
           "2020-03-25"
          ],
          [
           "쌍문역 1번 출구(양산부인과 빌딩)",
           "도봉구",
           "2020-03-18"
          ],
          [
           "독산역 2번출구 자전거주차장",
           "금천구",
           "2017-05-08"
          ],
          [
           "금천구청 앞 자전거거치대",
           "금천구",
           "2017-05-10"
          ],
          [
           "독산보도육교 앞 자전거 보관소",
           "금천구",
           "2017-05-11"
          ],
          [
           "독산역 1번출구 앞 자전거보관소",
           "금천구",
           "2017-05-08"
          ],
          [
           "가산디지털단지 7번출구",
           "금천구",
           "2018-02-26"
          ],
          [
           "대륭포스트타워6차 앞",
           "금천구",
           "2020-02-26"
          ],
          [
           "도림천역 1번 출구 앞",
           "구로구",
           "2017-05-11"
          ],
          [
           "신도림역 1번 출구 앞",
           "구로구",
           "2017-05-11"
          ],
          [
           "구로디지털단지역 앞",
           "구로구",
           "2017-05-11"
          ],
          [
           "대림역4번출구",
           "구로구",
           "2017-06-27"
          ],
          [
           "개봉역(북측광장)",
           "구로구",
           "2017-06-27"
          ],
          [
           "개봉역 1번 출구 자전거보관서쪽",
           "구로구",
           "2017-06-22"
          ],
          [
           "오류동역 2번출구",
           "구로구",
           "2017-06-22"
          ],
          [
           "온수역 북측",
           "구로구",
           "2017-06-22"
          ],
          [
           "구로역 광장",
           "구로구",
           "2017-06-22"
          ],
          [
           "천왕역 4번출구 뒤",
           "구로구",
           "2017-06-22"
          ],
          [
           "신도림테크노근린공원",
           "구로구",
           "2017-11-13"
          ],
          [
           "대림역 1번 출입구 밑",
           "구로구",
           "2017-11-13"
          ],
          [
           "남구로역 5번 출입구 앞",
           "구로구",
           "2017-11-13"
          ],
          [
           "천왕역 1번 출입구 앞",
           "구로구",
           "2017-11-13"
          ],
          [
           "구로동롯데아파트",
           "구로구",
           "2017-11-28"
          ],
          [
           "삼성전자 물류센터 앞",
           "구로구",
           "2018-09-19"
          ],
          [
           "구일역 1번 출입구 앞",
           "구로구",
           "2018-10-31"
          ],
          [
           "노들역 1번출구",
           "동작구",
           "2017-05-12"
          ],
          [
           "보라매역 8번출구",
           "동작구",
           "2017-05-26"
          ],
          [
           "장승배기역 5번출구",
           "동작구",
           "2017-05-12"
          ],
          [
           "신대방삼거리역 6번출구쪽",
           "동작구",
           "2017-05-26"
          ],
          [
           "신대방삼거리역 3번출구쪽",
           "동작구",
           "2017-05-12"
          ],
          [
           "장승배기역2번출구뒷편쪽",
           "동작구",
           "2017-05-12"
          ],
          [
           "상도역 1번출구",
           "동작구",
           "2017-05-12"
          ],
          [
           "흑석역 1번출구",
           "동작구",
           "2017-05-12"
          ],
          [
           "흑석역 4번출구",
           "동작구",
           "2017-07-05"
          ],
          [
           "이수역 11번출구쪽",
           "동작구",
           "2017-06-27"
          ],
          [
           "사당역 7번출구쪽",
           "동작구",
           "2017-06-27"
          ],
          [
           "동작역 5번출구 동작주차공원",
           "동작구",
           "2017-05-12"
          ],
          [
           "동작역 7번출구",
           "동작구",
           "2017-05-12"
          ],
          [
           "노량진역 5번출구",
           "동작구",
           "2017-05-12"
          ],
          [
           "노량진동 맥도널드앞",
           "동작구",
           "2017-11-01"
          ],
          [
           "남성역3번출구 뒤",
           "동작구",
           "2017-11-01"
          ],
          [
           "대방역 4번출구",
           "동작구",
           "2017-12-22"
          ],
          [
           "서울시여성가족재단",
           "동작구",
           "2017-12-22"
          ],
          [
           "숭실대 입구역3번 출구 앞",
           "동작구",
           "2018-10-30"
          ],
          [
           "노량진역 2번 출구 앞",
           "동작구",
           "2018-10-12"
          ],
          [
           "노들역 3번출구",
           "동작구",
           "2020-04-23"
          ],
          [
           "빕스 대방점 앞",
           "동작구",
           "2020-04-23"
          ],
          [
           "7호선 이수역7번출구",
           "동작구",
           "2020-04-26"
          ],
          [
           "사당역 5번출구",
           "관악구",
           "2017-05-26"
          ],
          [
           "은천치안센터",
           "관악구",
           "2017-05-26"
          ],
          [
           "서울대입구역 1번출구",
           "관악구",
           "2017-08-24"
          ],
          [
           "서울대입구역 마에스트로",
           "관악구",
           "2017-05-26"
          ],
          [
           "에이스에이존빌딩",
           "관악구",
           "2017-05-26"
          ],
          [
           "신림역 5번출구",
           "관악구",
           "2017-05-12"
          ],
          [
           "신림역 8번출구",
           "관악구",
           "2017-09-01"
          ],
          [
           "낙성대역 3번출구 뒤",
           "관악구",
           "2017-06-22"
          ],
          [
           "JK장평타워",
           "관악구",
           "2017-11-28"
          ],
          [
           "낙성대역 1번출구",
           "관악구",
           "2017-11-28"
          ],
          [
           "봉천역 2번출구",
           "관악구",
           "2017-11-28"
          ],
          [
           "서울대입구역 5번출구",
           "관악구",
           "2017-11-28"
          ],
          [
           "신대방역 2번 출구",
           "관악구",
           "2018-09-12"
          ],
          [
           "삼성서비스센터(관악점) ",
           "관악구",
           "2020-04-29"
          ],
          [
           "청계산입구역 2번출구",
           "서초구",
           "2017-06-27"
          ],
          [
           "신반포역 2번출구 앞",
           "서초구",
           "2017-06-01"
          ],
          [
           "반포종합운동장 입구",
           "서초구",
           "2017-06-27"
          ],
          [
           "고속터미널역 8-1번, 8-2번 출구 사이",
           "서초구",
           "2017-06-01"
          ],
          [
           "반포본동 주민센터 앞",
           "서초구",
           "2017-06-01"
          ],
          [
           "사당역 12번출구 뒤",
           "서초구",
           "2017-06-01"
          ],
          [
           "방배열린문화센터 앞",
           "서초구",
           "2017-06-01"
          ],
          [
           "이수역 4번 출구",
           "서초구",
           "2017-06-01"
          ],
          [
           "서울남부터미널 대합실 입구",
           "서초구",
           "2017-06-01"
          ],
          [
           "교대역 6번출구",
           "서초구",
           "2017-06-01"
          ],
          [
           "양재역 11번 출구 앞",
           "서초구",
           "2017-06-01"
          ],
          [
           "시민의숲역 1번출구 옆",
           "서초구",
           "2017-06-01"
          ],
          [
           "잠원역 3번-4번 출구사이",
           "서초구",
           "2017-06-13"
          ],
          [
           "서초역 3번출구",
           "서초구",
           "2017-11-01"
          ],
          [
           "내방역 8번출구 앞",
           "서초구",
           "2017-11-01"
          ],
          [
           "양재시민의숲역 3번출구",
           "서초구",
           "2017-11-01"
          ],
          [
           "교대역 5번출구뒤",
           "서초구",
           "2017-11-28"
          ],
          [
           "남태령역 2번출구",
           "서초구",
           "2017-11-28"
          ],
          [
           "남부터미널역 1번출구",
           "서초구",
           "2018-02-26"
          ],
          [
           "교보타워 버스정류장(신논현역 3번출구 후면)",
           "강남구",
           "2017-06-13"
          ],
          [
           "논현역 7번출구",
           "강남구",
           "2017-06-13"
          ],
          [
           "압구정역 2번 출구 옆",
           "강남구",
           "2017-06-13"
          ],
          [
           "학동로 래미안 아파트 앞",
           "강남구",
           "2017-06-13"
          ],
          [
           "봉은사역 5번출구 옆",
           "강남구",
           "2017-06-13"
          ],
          [
           "삼성역 8번출구",
           "강남구",
           "2017-06-13"
          ],
          [
           "삼성중앙역4번출구(문화센터더 리빌)",
           "강남구",
           "2017-06-13"
          ],
          [
           "도곡역 대치지구대 방향",
           "강남구",
           "2017-06-13"
          ],
          [
           "학여울역 사거리",
           "강남구",
           "2017-06-13"
          ],
          [
           "삼성역 3번 출구",
           "강남구",
           "2017-06-13"
          ],
          [
           "선릉역3번출구",
           "강남구",
           "2017-06-13"
          ],
          [
           "양재역 3번출구 주변",
           "강남구",
           "2017-06-13"
          ],
          [
           "3호선 매봉역 3번출구앞",
           "강남구",
           "2017-06-13"
          ],
          [
           "대모산입구역 2번출구 앞",
           "강남구",
           "2017-06-13"
          ],
          [
           "일원역 4~5번 출구 사이",
           "강남구",
           "2017-06-13"
          ],
          [
           "대청역 1번출구 뒤",
           "강남구",
           "2017-06-13"
          ],
          [
           "강남구청역 2번출구 뒤",
           "강남구",
           "2017-08-22"
          ],
          [
           "삼성역 5~6번 출구 사이",
           "강남구",
           "2017-08-21"
          ],
          [
           "한티역 3번출구",
           "강남구",
           "2017-11-01"
          ],
          [
           "대치역 사거리",
           "강남구",
           "2017-11-01"
          ],
          [
           "개포동역 사거리",
           "강남구",
           "2017-11-01"
          ],
          [
           "수서역 1번출구 앞",
           "강남구",
           "2017-11-01"
          ],
          [
           "수서역 6번출구 앞",
           "강남구",
           "2017-11-01"
          ],
          [
           "수서역 5번출구 뒤",
           "강남구",
           "2017-11-01"
          ],
          [
           "언주역 6번출구앞",
           "강남구",
           "2017-11-28"
          ],
          [
           "학동역",
           "강남구",
           "2017-12-22"
          ],
          [
           "대모산입구역 4번 출구 앞",
           "강남구",
           "2018-10-08"
          ],
          [
           "도곡역 1번 출구",
           "강남구",
           "2020-02-18"
          ],
          [
           "한티역 롯데백화점 앞",
           "강남구",
           "2020-02-14"
          ],
          [
           "한티역 6번 출구",
           "강남구",
           "2020-02-14"
          ],
          [
           "봉은사역 7번 출구",
           "강남구",
           "2020-02-14"
          ],
          [
           "봉은사역 1,2번 출구",
           "강남구",
           "2020-02-14"
          ],
          [
           "학여울역 사거리(LG베스트샵 앞)",
           "강남구",
           "2020-02-18"
          ],
          [
           "신논현역 4번출구",
           "강남구",
           "2020-02-14"
          ],
          [
           "압구정로데오역 6번출구",
           "강남구",
           "2020-02-14"
          ],
          [
           "강남파이낸스센터앞(역삼역2번출구)",
           "강남구",
           "2020-02-14"
          ],
          [
           "대치역 7번출구",
           "강남구",
           "2020-02-18"
          ],
          [
           "서초역1번출구 앞",
           "서초구",
           "2018-10-02"
          ],
          [
           "신사역 4번출구 뒤",
           "서초구",
           "2018-10-30"
          ],
          [
           "이수역 6번출구 앞",
           "서초구",
           "2019-03-14"
          ],
          [
           "사평역 2번출구",
           "서초구",
           "2020-02-20"
          ],
          [
           "신반포역 3번출구 뒤",
           "서초구",
           "2020-02-21"
          ],
          [
           "신논현역2번출구(신논현타워 앞)",
           "서초구",
           "2020-02-14"
          ],
          [
           "복정역 1번 출구 앞",
           "송파구",
           "2018-09-14"
          ],
          [
           "송파구청",
           "송파구",
           "2018-11-12"
          ],
          [
           "삼전역 1번출구",
           "송파구",
           "2018-12-03"
          ],
          [
           "석촌고분역 5번출구",
           "송파구",
           "2021-03-24"
          ],
          [
           "석촌고분역 4번출구",
           "송파구",
           "2018-11-14"
          ],
          [
           "송파나루역 4번 출구옆",
           "송파구",
           "2018-11-14"
          ],
          [
           "한성백제역 2번 출구",
           "송파구",
           "2018-11-14"
          ],
          [
           "올림픽공원역 3번출구",
           "송파구",
           "2018-11-14"
          ],
          [
           "경찰병원역 1,2번 출구 사이",
           "송파구",
           "2020-01-20"
          ],
          [
           "경찰병원",
           "송파구",
           "2020-01-20"
          ],
          [
           "문정역 1번출구",
           "송파구",
           "2020-01-20"
          ],
          [
           "석촌고분역 2번 출구",
           "송파구",
           "2020-01-17"
          ],
          [
           "잠실새내역 1번출구",
           "송파구",
           "2020-01-16"
          ],
          [
           "석촌역 8번출구",
           "송파구",
           "2020-01-17"
          ],
          [
           "경찰병원역 3번출구 앞",
           "송파구",
           "2020-01-20"
          ],
          [
           "마곡나루역 5번출구 뒤편",
           "강서구",
           "2018-11-14"
          ],
          [
           "마곡나루역 2번 출구 ",
           "강서구",
           "2020-05-27"
          ],
          [
           "마곡나루역 3번 출구",
           "강서구",
           "2020-03-12"
          ],
          [
           "까치산역 3번 출구",
           "강서구",
           "2020-03-21"
          ],
          [
           "미래사랑어린이공원 앞",
           "구로구",
           "2020-03-04"
          ],
          [
           " 석계역 3번 출구",
           "노원구",
           "2020-03-25"
          ],
          [
           "중계역 2번출구",
           "노원구",
           "2020-03-26"
          ],
          [
           "벽산상암스마트큐브 ",
           "마포구",
           "2020-04-06"
          ],
          [
           "DMC역7번출구",
           "마포구",
           "2020-04-06"
          ],
          [
           "홍대입구역 3번출구",
           "마포구",
           "2020-04-12"
          ],
          [
           "e편한세상 신촌4단지 앞",
           "서대문구",
           "2018-10-12"
          ],
          [
           "무악재역 4번 출구",
           "서대문구",
           "2020-04-10"
          ],
          [
           "독립문역 5번 출구",
           "서대문구",
           "2020-02-13"
          ],
          [
           "충정로역 3번 출구",
           "서대문구",
           "2020-04-12"
          ],
          [
           "신촌역 4번출구",
           "서대문구",
           "2020-04-05"
          ],
          [
           "신풍역 6번출구",
           "영등포구",
           "2020-03-03"
          ],
          [
           "영등포역 2번출구",
           "영등포구",
           "2020-03-04"
          ],
          [
           "서울특별시 남부교육지원청",
           "영등포구",
           "2020-03-04"
          ],
          [
           "낙성대역 8번 출구",
           "관악구",
           "2020-04-29"
          ],
          [
           "서울대입구역 4번 출구",
           "관악구",
           "2020-04-30"
          ],
          [
           "서울특별시 중부교육지원청",
           "종로구",
           "2020-02-03"
          ],
          [
           "안국동사거리(신)",
           "종로구",
           "2020-02-10"
          ],
          [
           "종로타워빌딩",
           "종로구",
           "2020-02-10"
          ],
          [
           "종로3가역 8번출구",
           "종로구",
           "2020-02-11"
          ],
          [
           "종로5가역 4번출구",
           "종로구",
           "2020-02-11"
          ],
          [
           "동대문역6번출구",
           "종로구",
           "2020-02-26"
          ],
          [
           "동묘앞역 6번출구",
           "종로구",
           "2020-02-04"
          ],
          [
           "창신역2번 출구",
           "종로구",
           "2020-02-03"
          ],
          [
           "혜화역 1번출구",
           "종로구",
           "2020-02-04"
          ],
          [
           "독립문역 2번출구 뒤",
           "종로구",
           "2020-02-11"
          ],
          [
           "군자역2번출구",
           "광진구",
           "2017-11-01"
          ],
          [
           "중곡역 1번출구",
           "광진구",
           "2017-11-01"
          ],
          [
           "응봉역 1번출구",
           "성동구",
           "2017-11-01"
          ],
          [
           "상왕십리역 1번출구",
           "성동구",
           "2017-11-01"
          ],
          [
           "군자역 7번출구뒤",
           "광진구",
           "2017-11-28"
          ],
          [
           "건대입구역 사거리(롯데백화점)",
           "광진구",
           "2018-10-29"
          ],
          [
           "건대입구역 5번출구 뒤",
           "광진구",
           "2018-10-29"
          ],
          [
           "한양대역 3번 출구",
           "성동구",
           "2020-04-13"
          ],
          [
           "한양대역 1번출구",
           "성동구",
           "2020-04-13"
          ],
          [
           "상왕십리역 6번 출입구",
           "성동구",
           "2020-04-14"
          ],
          [
           "뚝섬역 6번출구",
           "성동구",
           "2020-06-05"
          ],
          [
           "마장역3번출구",
           "성동구",
           "2020-04-14"
          ],
          [
           "신금호파크자이APT앞",
           "성동구",
           "2020-04-15"
          ],
          [
           "건대병원후문",
           "광진구",
           "2020-05-07"
          ],
          [
           "광진광장",
           "광진구",
           "2020-04-16"
          ],
          [
           "사근빗물펌프장 건너편",
           "성동구",
           "2020-07-03"
          ],
          [
           "삼성역 2번출구",
           "강남구",
           "2021-02-23"
          ],
          [
           "삼성중앙역 5번출구(하이마트앞)",
           "강남구",
           "2021-02-23"
          ],
          [
           "봉은사역6번출구(현대아이파크타워앞)",
           "강남구",
           "2021-02-23"
          ],
          [
           "서울 논현동우체국 앞",
           "강남구",
           "2021-02-24"
          ],
          [
           "청담역 11번 출구",
           "강남구",
           "2021-02-23"
          ],
          [
           "대모산입구역 7번 출구 앞",
           "강남구",
           "2021-02-24"
          ],
          [
           "삼성중앙역·플래티넘아파트 정류소",
           "강남구",
           "2021-06-01"
          ],
          [
           "대청역",
           "강남구",
           "2021-07-13"
          ],
          [
           "선정릉역 4번 출구",
           "강남구",
           "2021-08-03"
          ],
          [
           "구룡역 1번 출구",
           "강남구",
           "2021-10-01"
          ],
          [
           "구룡역 4번 출구",
           "강남구",
           "2021-10-01"
          ],
          [
           "구룡역 5번 출구",
           "강남구",
           "2021-10-01"
          ],
          [
           "둔촌동역교차로",
           "강동구",
           "2021-04-13"
          ],
          [
           "강동역3번출구",
           "강동구",
           "2021-04-14"
          ],
          [
           "길동 마루빌딩",
           "강동구",
           "2021-04-14"
          ],
          [
           "강일역 3번출구",
           "강동구",
           "2021-08-24"
          ],
          [
           "강일역 4번출구",
           "강동구",
           "2021-09-10"
          ],
          [
           "둔촌역 2번출구",
           "강동구",
           "2021-09-30"
          ],
          [
           "둔촌오륜역 1번 출구",
           "강동구",
           "2021-09-30"
          ],
          [
           "신방화역 8번출구",
           "강서구",
           "2021-01-27"
          ],
          [
           "신방화역 6번출구",
           "강서구",
           "2021-06-25"
          ],
          [
           "이대서울병원",
           "강서구",
           "2020-11-23"
          ],
          [
           "발산역 8번 출구",
           "강서구",
           "2020-11-23"
          ],
          [
           "가양동 이마트 앞",
           "강서구",
           "2020-12-24"
          ],
          [
           "길성그랑프리텔아파트",
           "강서구",
           "2020-11-09"
          ],
          [
           "공항신성빌딩 앞",
           "강서구",
           "2020-12-21"
          ],
          [
           "송정역 3번출구 앞",
           "강서구",
           "2020-12-21"
          ],
          [
           "낙성대역 5번출구",
           "관악구",
           "2021-07-16"
          ],
          [
           "어린이대공원역 2번출구",
           "광진구",
           "2020-12-09"
          ],
          [
           "건국대학교 정문 앞",
           "광진구",
           "2020-12-09"
          ],
          [
           "현대아파트 앞",
           "구로구",
           "2020-11-02"
          ],
          [
           "독산역1번출구 옆(2)",
           "금천구",
           "2021-02-17"
          ],
          [
           "금천구청역 1번 출구",
           "금천구",
           "2021-09-28"
          ],
          [
           "노원 을지대학교 병원",
           "노원구",
           "2021-03-04"
          ],
          [
           "당고개역 3번 출구",
           "노원구",
           "2021-03-03"
          ],
          [
           "월계역 1번 출구",
           "노원구",
           "2021-02-26"
          ],
          [
           "하계역 6번출구",
           "노원구",
           "2021-04-27"
          ],
          [
           "공릉역3번출구",
           "노원구",
           "2021-07-23"
          ],
          [
           "창동역 1번출구 앞",
           "도봉구",
           "2021-03-02"
          ],
          [
           "회기역 2-①번출구",
           "동대문구",
           "2021-10-01"
          ],
          [
           "구로교 아래",
           "동작구",
           "2021-02-18"
          ],
          [
           "신대방삼거리",
           "동작구",
           "2021-02-18"
          ],
          [
           "스페이스 살림 앞",
           "동작구",
           "2021-04-30"
          ],
          [
           "광흥창역5번출구",
           "마포구",
           "2020-12-02"
          ],
          [
           "상암한샘빌딩앞",
           "마포구",
           "2021-10-28"
          ],
          [
           "매헌역 2번출구앞\n광역버스 정류장앞(22-297)",
           "서초구",
           "2021-02-19"
          ],
          [
           "반포미도2차아파트 옆",
           "서초구",
           "2021-02-22"
          ],
          [
           "고속터미널 3번출구",
           "서초구",
           "2021-02-19"
          ],
          [
           "방배역 2번 출구",
           "서초구",
           "2021-02-19"
          ],
          [
           "SC제일은행 양재동지점 앞",
           "서초구",
           "2021-11-05"
          ],
          [
           "신금호역 2번출구 앞",
           "성동구",
           "2021-06-25"
          ],
          [
           "돌곶이역 앞",
           "성북구",
           "2021-04-27"
          ],
          [
           "안암역 3번 출구",
           "성북구",
           "2021-10-01"
          ],
          [
           "방이역 2번 출구",
           "송파구",
           "2021-01-04"
          ],
          [
           "거여동 어울림아파트  102동앞",
           "송파구",
           "2021-01-04"
          ],
          [
           "가락시장역 롯데마트2",
           "송파구",
           "2021-01-04"
          ],
          [
           "잠실나루역4번출구뒤",
           "송파구",
           "2021-01-04"
          ],
          [
           "잠실나루역 고가하부",
           "송파구",
           "2021-01-04"
          ],
          [
           "홈플러스 잠실점",
           "송파구",
           "2021-01-04"
          ],
          [
           "장지역 1번출구",
           "송파구",
           "2021-01-05"
          ],
          [
           "신정네거리역 교차로",
           "양천구",
           "2021-05-27"
          ],
          [
           "양천구청역 1번출구",
           "양천구",
           "2021-03-09"
          ],
          [
           "신길역 2번출구",
           "영등포구",
           "2021-05-18"
          ],
          [
           "양평역 1번출구",
           "영등포구",
           "2021-05-17"
          ],
          [
           "영등포시장역 포레나영등포",
           "영등포구",
           "2021-05-17"
          ],
          [
           "파크타워 104동 앞",
           "용산구",
           "2020-10-30"
          ],
          [
           "삼각지역 14번 출구 앞(교통섬)",
           "용산구",
           "2020-10-29"
          ],
          [
           "라인프랜즈이태원점 앞",
           "용산구",
           "2020-10-29"
          ],
          [
           "효창공원앞역 5번출구 옆",
           "용산구",
           "2020-10-29"
          ],
          [
           "LG 베스트샵 앞",
           "은평구",
           "2020-11-03"
          ],
          [
           "녹번역1번출구앞",
           "은평구",
           "2021-03-18"
          ],
          [
           "김혜영손뜨개 앞",
           "은평구",
           "2021-03-19"
          ],
          [
           "삼성사이버빌리지아파트",
           "중구",
           "2021-02-02"
          ],
          [
           "서울역 7번출구",
           "중구",
           "2020-10-26"
          ],
          [
           "탐앤탐스 을지로3가점",
           "중구",
           "2020-10-19"
          ],
          [
           "국제빌딩",
           "중구",
           "2020-09-23"
          ],
          [
           "서울도시건축전시관",
           "중구",
           "2021-03-18"
          ],
          [
           "을지로입구역 8번출구",
           "중구",
           "2020-09-23"
          ],
          [
           "을지로지하쇼핑센터",
           "중구",
           "2020-09-24"
          ],
          [
           "약수동 주민센터",
           "중구",
           "2021-05-17"
          ],
          [
           "명동역9번출구",
           "중구",
           "2020-10-19"
          ],
          [
           "동대문역사문화공원역 5번출구",
           "중구",
           "2021-02-02"
          ],
          [
           "서울역 서부교차로(3)",
           "중구",
           "2021-04-13"
          ],
          [
           "동서울농협 앞",
           "중랑구",
           "2021-02-16"
          ],
          [
           "망우역 2번 출구",
           "중랑구",
           "2021-07-02"
          ],
          [
           "가락시장역 2번 출구",
           "송파구",
           "2021-01-04"
          ],
          [
           "한성백제역 1번출구 뒤",
           "송파구",
           "2021-04-28"
          ],
          [
           "몽촌토성역 3번 출구",
           "송파구",
           "2021-07-13"
          ],
          [
           "개롱역 3번 출구 뒤",
           "송파구",
           "2021-07-13"
          ],
          [
           "개롱역사거리 2번 출구",
           "송파구",
           "2021-08-24"
          ],
          [
           "둔촌오륜역 2번출구",
           "송파구",
           "2021-09-30"
          ],
          [
           "마천역 1번 출구 인근②",
           "송파구",
           "2021-09-30"
          ],
          [
           "마곡역7번출구 홈앤쇼핑 앞",
           "강서구",
           "2021-07-14"
          ],
          [
           "신마곡벽산블루밍메트로오피스텔앞",
           "강서구",
           "2021-07-21"
          ],
          [
           "마곡역5번출구앞",
           "강서구",
           "2021-07-21"
          ],
          [
           "마곡역4,5번출구",
           "강서구",
           "2021-07-21"
          ],
          [
           "양천향교역8번출구",
           "강서구",
           "2021-09-27"
          ],
          [
           "광화문역 2번출구 앞",
           "종로구",
           "2021-01-26"
          ],
          [
           "시청역 1번출구 뒤",
           "중구",
           "2015-10-07"
          ],
          [
           "강동구평생학습관앞",
           "강동구",
           "2017-04-19"
          ],
          [
           "솔샘역 2번 출구",
           "강북구",
           "2018-07-27"
          ],
          [
           "압구정역 교차로",
           "강남구",
           "2017-11-01"
          ],
          [
           "복정역 2번출구 후문 (장지치안센터)",
           "송파구",
           "2018-11-05"
          ],
          [
           "경찰병원역 1,2번 출구 사이",
           "송파구",
           "2020-01-20"
          ],
          [
           "경찰병원",
           "송파구",
           "2020-01-20"
          ],
          [
           "태극당",
           "중구",
           "2020-10-16"
          ],
          [
           "서울광장 옆",
           "중구",
           "2015-10-07"
          ],
          [
           "서울역3번 출구",
           "중구",
           "2020-02-03"
          ],
          [
           "낙성대역 5번 출구",
           "관악구",
           "2020-04-29"
          ],
          [
           "석촌고분역 5번출구",
           "송파구",
           "2021-03-24"
          ],
          [
           "석촌고분역 4번출구",
           "송파구",
           "2018-11-14"
          ]
         ],
         "hovertemplate": "<b>%{hovertext}</b><br><br>위도=%{lat}<br>경도=%{lon}<br>주소2=%{customdata[0]}<br>지역=%{customdata[1]}<br>설치일=%{customdata[2]}<extra></extra>",
         "hovertext": [
          102,
          103,
          104,
          105,
          106,
          111,
          112,
          113,
          114,
          115,
          118,
          124,
          127,
          128,
          129,
          130,
          131,
          140,
          142,
          143,
          144,
          145,
          146,
          147,
          150,
          155,
          157,
          159,
          161,
          171,
          173,
          179,
          180,
          194,
          203,
          204,
          207,
          211,
          212,
          219,
          225,
          226,
          228,
          230,
          232,
          236,
          240,
          247,
          252,
          253,
          258,
          259,
          272,
          274,
          283,
          301,
          302,
          305,
          306,
          309,
          316,
          318,
          320,
          321,
          326,
          334,
          335,
          336,
          341,
          347,
          361,
          363,
          364,
          367,
          370,
          371,
          372,
          374,
          379,
          381,
          382,
          383,
          385,
          389,
          390,
          393,
          398,
          415,
          417,
          418,
          419,
          433,
          436,
          437,
          442,
          453,
          457,
          458,
          461,
          469,
          470,
          473,
          474,
          476,
          479,
          480,
          481,
          483,
          485,
          500,
          502,
          508,
          511,
          520,
          521,
          522,
          529,
          536,
          538,
          540,
          542,
          543,
          549,
          559,
          561,
          564,
          565,
          567,
          571,
          574,
          576,
          579,
          584,
          588,
          589,
          605,
          607,
          613,
          615,
          633,
          641,
          642,
          646,
          647,
          659,
          663,
          671,
          677,
          700,
          703,
          742,
          744,
          762,
          765,
          766,
          770,
          773,
          774,
          779,
          788,
          802,
          807,
          808,
          809,
          811,
          813,
          816,
          817,
          819,
          828,
          831,
          832,
          834,
          835,
          838,
          841,
          843,
          848,
          849,
          853,
          854,
          855,
          858,
          867,
          905,
          906,
          907,
          911,
          914,
          915,
          917,
          922,
          925,
          927,
          932,
          946,
          948,
          949,
          950,
          960,
          961,
          972,
          978,
          989,
          996,
          1008,
          1009,
          1013,
          1035,
          1044,
          1050,
          1064,
          1072,
          1077,
          1082,
          1086,
          1090,
          1103,
          1108,
          1109,
          1115,
          1118,
          1124,
          1126,
          1127,
          1128,
          1129,
          1132,
          1149,
          1150,
          1151,
          1152,
          1153,
          1158,
          1160,
          1169,
          1178,
          1190,
          1191,
          1199,
          1200,
          1201,
          1204,
          1206,
          1208,
          1209,
          1210,
          1212,
          1214,
          1215,
          1218,
          1221,
          1222,
          1227,
          1231,
          1245,
          1246,
          1251,
          1253,
          1257,
          1259,
          1264,
          1268,
          1295,
          1299,
          1302,
          1306,
          1314,
          1318,
          1325,
          1326,
          1328,
          1332,
          1343,
          1354,
          1357,
          1360,
          1362,
          1380,
          1381,
          1384,
          1385,
          1403,
          1405,
          1406,
          1407,
          1408,
          1413,
          1414,
          1416,
          1421,
          1424,
          1426,
          1427,
          1433,
          1447,
          1449,
          1450,
          1455,
          1461,
          1462,
          1463,
          1464,
          1465,
          1467,
          1468,
          1469,
          1472,
          1473,
          1478,
          1501,
          1503,
          1513,
          1518,
          1522,
          1525,
          1527,
          1531,
          1537,
          1538,
          1539,
          1540,
          1541,
          1542,
          1552,
          1564,
          1568,
          1569,
          1572,
          1601,
          1602,
          1606,
          1608,
          1610,
          1616,
          1625,
          1627,
          1630,
          1634,
          1637,
          1643,
          1653,
          1662,
          1668,
          1669,
          1673,
          1684,
          1688,
          1689,
          1702,
          1703,
          1709,
          1721,
          1732,
          1735,
          1746,
          1748,
          1757,
          1758,
          1765,
          1804,
          1819,
          1827,
          1833,
          1851,
          1867,
          1904,
          1906,
          1911,
          1914,
          1931,
          1936,
          1941,
          1943,
          1946,
          1953,
          1961,
          1975,
          1976,
          1977,
          1983,
          1994,
          1996,
          2002,
          2009,
          2013,
          2015,
          2016,
          2020,
          2024,
          2025,
          2026,
          2032,
          2034,
          2037,
          2038,
          2050,
          2058,
          2060,
          2063,
          2065,
          2069,
          2070,
          2077,
          2080,
          2082,
          2104,
          2108,
          2111,
          2112,
          2116,
          2135,
          2136,
          2148,
          2165,
          2167,
          2169,
          2171,
          2177,
          2189,
          2203,
          2214,
          2215,
          2219,
          2220,
          2222,
          2227,
          2230,
          2237,
          2239,
          2242,
          2255,
          2259,
          2266,
          2271,
          2274,
          2279,
          2289,
          2297,
          2302,
          2303,
          2306,
          2311,
          2315,
          2316,
          2318,
          2320,
          2321,
          2322,
          2332,
          2333,
          2335,
          2337,
          2341,
          2342,
          2353,
          2355,
          2370,
          2372,
          2373,
          2375,
          2376,
          2377,
          2381,
          2385,
          2404,
          2413,
          2415,
          2416,
          2418,
          2419,
          2420,
          2421,
          2429,
          2430,
          2431,
          2502,
          2504,
          2511,
          2514,
          2535,
          2542,
          2605,
          2608,
          2618,
          2619,
          2619,
          2620,
          2621,
          2622,
          2626,
          2626,
          2628,
          2632,
          2635,
          2639,
          2651,
          2701,
          2715,
          2728,
          2737,
          2824,
          2909,
          2921,
          3002,
          3008,
          3010,
          3104,
          3111,
          3112,
          3114,
          3116,
          3212,
          3219,
          3221,
          3305,
          3311,
          3404,
          3407,
          3408,
          3410,
          3414,
          3415,
          3416,
          3418,
          3421,
          3426,
          3500,
          3502,
          3511,
          3513,
          3518,
          3533,
          3534,
          3544,
          3545,
          3547,
          3548,
          3553,
          3556,
          3569,
          3581,
          3600,
          3603,
          3604,
          3605,
          3615,
          3620,
          3624,
          3636,
          3641,
          3646,
          3647,
          3648,
          3649,
          3671,
          3680,
          3681,
          3689,
          3690,
          3691,
          3692,
          3754,
          3757,
          3759,
          3760,
          3769,
          3772,
          3795,
          3796,
          3813,
          3853,
          3860,
          3903,
          3966,
          3983,
          4007,
          4014,
          4023,
          4036,
          4041,
          4065,
          4125,
          4167,
          4169,
          4175,
          4206,
          4238,
          4303,
          4312,
          4316,
          4318,
          4329,
          4363,
          4408,
          4414,
          4463,
          4469,
          4480,
          4484,
          4485,
          4486,
          4491,
          4510,
          4528,
          4559,
          4561,
          4574,
          4609,
          4620,
          4623,
          4627,
          4653,
          4658,
          4665,
          4752,
          4760,
          4761,
          4762,
          4768,
          4774,
          4775,
          4777,
          4791,
          4793,
          4794,
          4804,
          4820,
          4854,
          4865,
          4870,
          4872,
          4873,
          4888,
          4889,
          5052,
          5053,
          5055,
          5056,
          5064,
          304,
          312,
          1014,
          1545,
          2361,
          2607,
          2626,
          2626,
          4779,
          311,
          444,
          3304,
          2619,
          2619
         ],
         "lat": [
          37.555649,
          37.554951,
          37.550629,
          37.550007,
          37.548645,
          37.547871,
          37.549202,
          37.557499,
          37.55706,
          37.558933,
          37.547733,
          37.55114,
          37.55352,
          37.555496,
          37.555054,
          37.554859,
          37.584171,
          37.560009,
          37.557201,
          37.544579,
          37.543579,
          37.54425,
          37.539936,
          37.539272,
          37.552956,
          37.56855,
          37.553001,
          37.556953,
          37.582245,
          37.564724,
          37.564777,
          37.569122,
          37.559967,
          37.577316,
          37.528057,
          37.528164,
          37.526989,
          37.522228,
          37.521362,
          37.520695,
          37.517368,
          37.517765,
          37.53846,
          37.524635,
          37.52565,
          37.516155,
          37.518738,
          37.533688,
          37.499828,
          37.500648,
          37.517693,
          37.513592,
          37.535339,
          37.516651,
          37.522518,
          37.575794,
          37.575947,
          37.572582,
          37.570808,
          37.569889,
          37.570396,
          37.568527,
          37.566223,
          37.565464,
          37.576241,
          37.570599,
          37.570198,
          37.562618,
          37.58157,
          37.565331,
          37.573242,
          37.57576,
          37.579334,
          37.573849,
          37.563229,
          37.558872,
          37.554295,
          37.560474,
          37.556,
          37.558533,
          37.555199,
          37.565849,
          37.569836,
          37.56673,
          37.56139,
          37.570141,
          37.566559,
          37.577469,
          37.575069,
          37.570721,
          37.56842,
          37.566345,
          37.556591,
          37.54821,
          37.553692,
          37.57114,
          37.57132,
          37.569939,
          37.574364,
          37.559231,
          37.55965,
          37.566051,
          37.566299,
          37.56443,
          37.559376,
          37.554321,
          37.567032,
          37.547585,
          37.557404,
          37.54707,
          37.53186,
          37.545166,
          37.544582,
          37.563858,
          37.561447,
          37.548641,
          37.561371,
          37.55735,
          37.56765,
          37.55603,
          37.535465,
          37.535969,
          37.551224,
          37.561096,
          37.542816,
          37.547928,
          37.541363,
          37.54459,
          37.548496,
          37.551849,
          37.54483,
          37.565205,
          37.547829,
          37.532688,
          37.544159,
          37.5742,
          37.602711,
          37.575272,
          37.576382,
          37.580406,
          37.573753,
          37.57035446,
          37.561867,
          37.602798,
          37.57835,
          37.594891,
          37.577343,
          37.580151,
          37.546848,
          37.524063,
          37.550732,
          37.543842,
          37.524551,
          37.524776,
          37.54426,
          37.525715,
          37.546707,
          37.549507,
          37.518845,
          37.512379,
          37.541153,
          37.552277,
          37.520504,
          37.530167,
          37.53508,
          37.533512,
          37.530148,
          37.533451,
          37.541653,
          37.544079,
          37.534279,
          37.521282,
          37.539009,
          37.541981,
          37.54446,
          37.52961,
          37.533798,
          37.535259,
          37.536079,
          37.528568,
          37.538727,
          37.522724,
          37.534409,
          37.519909,
          37.636234,
          37.61721,
          37.599491,
          37.605583,
          37.590797,
          37.584381,
          37.601299,
          37.617802,
          37.609566,
          37.617855,
          37.610004,
          37.618439,
          37.577202,
          37.619781,
          37.610779,
          37.638252,
          37.61097,
          37.58218,
          37.601009,
          37.591812,
          37.598606,
          37.549549,
          37.538658,
          37.530773,
          37.555016,
          37.545399,
          37.526695,
          37.527794,
          37.554863,
          37.536205,
          37.52956,
          37.550598,
          37.556789,
          37.577221,
          37.56356,
          37.563347,
          37.551666,
          37.557461,
          37.557968,
          37.548908,
          37.540981,
          37.541412,
          37.542099,
          37.551109,
          37.567284,
          37.56155,
          37.560234,
          37.558666,
          37.55891,
          37.561035,
          37.56768,
          37.547199,
          37.572472,
          37.560501,
          37.560242,
          37.547821,
          37.578449,
          37.493179,
          37.493343,
          37.51128,
          37.529675,
          37.520451,
          37.513126,
          37.499413,
          37.502594,
          37.516571,
          37.508968,
          37.5042,
          37.511982,
          37.493126,
          37.514088,
          37.479465,
          37.477509,
          37.505932,
          37.501652,
          37.4921,
          37.508984,
          37.538582,
          37.51728821,
          37.513962,
          37.519878,
          37.588764,
          37.588448,
          37.60244,
          37.603085,
          37.605808,
          37.606068,
          37.602627,
          37.613556,
          37.589249,
          37.590714,
          37.612072,
          37.603096,
          37.585098,
          37.601086,
          37.614784,
          37.592827,
          37.592365,
          37.59425,
          37.599098,
          37.606251,
          37.611511,
          37.610722,
          37.617561,
          37.581646,
          37.595219,
          37.612461,
          37.606312,
          37.573589,
          37.574299,
          37.602077,
          37.588902,
          37.596558,
          37.619625,
          37.596329,
          37.593853,
          37.593868,
          37.573887,
          37.603054,
          37.613148,
          37.613621,
          37.611477,
          37.609821,
          37.604084,
          37.594891,
          37.597885,
          37.62608,
          37.639278,
          37.639648,
          37.643085,
          37.654472,
          37.62714,
          37.627335,
          37.613956,
          37.663666,
          37.656158,
          37.649673,
          37.64167,
          37.62653,
          37.621552,
          37.639202,
          37.649597,
          37.647934,
          37.63797,
          37.66446304,
          37.615299,
          37.622662,
          37.619171,
          37.626614,
          37.620369,
          37.635109,
          37.66,
          37.676941,
          37.67625,
          37.669079,
          37.654701,
          37.617367,
          37.6562,
          37.654114,
          37.645508,
          37.643757,
          37.653976,
          37.61832,
          37.665661,
          37.665249,
          37.646172,
          37.68972,
          37.650127,
          37.653015,
          37.667599,
          37.679119,
          37.666233,
          37.668983,
          37.655685,
          37.65728,
          37.64967,
          37.46653,
          37.456478,
          37.455849,
          37.466541,
          37.481232,
          37.480888,
          37.51424,
          37.50972,
          37.48494,
          37.494404,
          37.494995,
          37.494282,
          37.493938,
          37.49279,
          37.503117,
          37.486385,
          37.508194,
          37.49258,
          37.48568,
          37.48621,
          37.502548,
          37.496998,
          37.495399,
          37.512844,
          37.500076,
          37.505852,
          37.499855,
          37.499645,
          37.504498,
          37.502178,
          37.50938,
          37.508587,
          37.485508,
          37.476891,
          37.503189,
          37.503181,
          37.513248,
          37.513523,
          37.484631,
          37.512901,
          37.51199,
          37.496601,
          37.51392,
          37.511936,
          37.512135,
          37.485615,
          37.476089,
          37.483341,
          37.480869,
          37.481339,
          37.481705,
          37.484409,
          37.484577,
          37.477028,
          37.476482,
          37.476295,
          37.482189,
          37.481548,
          37.487129,
          37.482754,
          37.447659,
          37.504116,
          37.501713,
          37.506199,
          37.500614,
          37.478069,
          37.489052,
          37.485828,
          37.484558,
          37.494217,
          37.48399,
          37.47044,
          37.512989,
          37.49054,
          37.487865,
          37.46965,
          37.493618,
          37.464298,
          37.485672,
          37.505581,
          37.511517,
          37.527122,
          37.517773,
          37.514248,
          37.509575,
          37.513577,
          37.491928,
          37.496117,
          37.508091,
          37.504208,
          37.485157,
          37.486767,
          37.492077,
          37.483311,
          37.494007,
          37.516811,
          37.509121,
          37.496552,
          37.494499,
          37.489277,
          37.48735,
          37.486778,
          37.486835,
          37.506367,
          37.51395,
          37.49181,
          37.490959,
          37.496674,
          37.495899,
          37.513935,
          37.514309,
          37.496895,
          37.504673,
          37.527454,
          37.500244,
          37.494118,
          37.491951,
          37.515881,
          37.483662,
          37.503643,
          37.503624,
          37.505089,
          37.471298,
          37.514359,
          37.504711,
          37.50233841,
          37.502338,
          37.509979,
          37.516659,
          37.516258,
          37.49569321,
          37.49543,
          37.486698,
          37.502644,
          37.511295,
          37.505505,
          37.495773,
          37.565201,
          37.566883,
          37.565804,
          37.531693,
          37.510063,
          37.615459,
          37.645489,
          37.565044,
          37.577114,
          37.558296,
          37.558128,
          37.582211,
          37.57386,
          37.560463,
          37.555504,
          37.500172,
          37.514874,
          37.519333,
          37.476776,
          37.48122,
          37.571854,
          37.575806,
          37.570511,
          37.572037,
          37.571175,
          37.57146072,
          37.571533,
          37.579987,
          37.583855,
          37.575016,
          37.557587,
          37.565659,
          37.55125,
          37.56461,
          37.556862,
          37.539139,
          37.540138,
          37.554539,
          37.55658,
          37.564381,
          37.546959,
          37.565979,
          37.555313,
          37.539566,
          37.54747,
          37.56119156,
          37.5082016,
          37.51311111,
          37.51390839,
          37.51446152,
          37.51925659,
          37.49017715,
          37.51264191,
          37.49370575,
          37.5097847,
          37.48642349,
          37.48670578,
          37.48607635,
          37.52920532,
          37.53541565,
          37.53676987,
          37.55740356,
          37.55707169,
          37.52722931,
          37.51960373,
          37.5674057,
          37.56692886,
          37.5586319,
          37.55846024,
          37.55713272,
          37.5692482,
          37.56130981,
          37.56096268,
          37.47752762,
          37.54764938,
          37.5465126,
          37.49333954,
          37.46709442,
          37.45717239,
          37.63666916,
          37.67030334,
          37.63441086,
          37.63793945,
          37.62500381,
          37.65373611,
          37.58945084,
          37.48548126,
          37.49845505,
          37.51262665,
          37.54737854,
          37.57649231,
          37.47171783,
          37.50320435,
          37.50365829,
          37.48116684,
          37.48573685,
          37.55507278,
          37.61131287,
          37.58625031,
          37.50801468,
          37.49198532,
          37.49201584,
          37.52080917,
          37.52005386,
          37.51613998,
          37.47953415,
          37.52175903,
          37.51292038,
          37.51756287,
          37.52572632,
          37.52341461,
          37.52316666,
          37.53528595,
          37.53453064,
          37.53851318,
          37.61156845,
          37.60176849,
          37.59967041,
          37.55891418,
          37.55664444,
          37.56467056,
          37.56693268,
          37.5670166,
          37.56590271,
          37.56599045,
          37.55281448,
          37.56122589,
          37.56430817,
          37.55540848,
          37.59596252,
          37.60025406,
          37.492733,
          37.51647949,
          37.5170784,
          37.49806213,
          37.49827194,
          37.51869202,
          37.49459076,
          37.55974579,
          37.57108688,
          37.55905914,
          37.55932999,
          37.56902695,
          37.572113,
          37.564674,
          37.5508,
          37.62038,
          37.526844,
          37.47065,
          37.49569321,
          37.49543,
          37.55958557,
          37.566612,
          37.557602,
          37.477753,
          37.50233841,
          37.502338
         ],
         "legendgroup": "",
         "lon": [
          126.910629,
          126.910835,
          126.914986,
          126.914825,
          126.912827,
          126.923531,
          126.923203,
          126.923805,
          126.924423,
          126.927116,
          126.931763,
          126.936989,
          126.936951,
          126.93634,
          126.937569,
          126.936157,
          126.911102,
          126.940735,
          126.955666,
          126.950218,
          126.951324,
          126.951637,
          126.945824,
          126.945915,
          126.934341,
          126.914513,
          126.956688,
          126.946342,
          126.950645,
          126.967278,
          126.966148,
          126.914795,
          126.962463,
          126.902969,
          126.918701,
          126.917023,
          126.932098,
          126.924637,
          126.923462,
          126.925835,
          126.929253,
          126.928413,
          126.894508,
          126.896217,
          126.887817,
          126.894615,
          126.895576,
          126.902107,
          126.919945,
          126.909515,
          126.914299,
          126.925934,
          126.903679,
          126.90799,
          126.907219,
          126.971451,
          126.97406,
          126.978355,
          126.976433,
          126.976456,
          126.981789,
          126.982552,
          126.983589,
          126.984138,
          126.98616,
          126.991791,
          126.991257,
          126.992836,
          127.001785,
          127.007843,
          127.015907,
          127.022835,
          127.015083,
          126.958694,
          126.974838,
          127.005539,
          127.0112,
          127.014076,
          126.973358,
          127.006989,
          127.010048,
          127.016403,
          126.982658,
          126.996605,
          126.995354,
          127.009377,
          126.992439,
          126.897362,
          126.899918,
          126.898979,
          126.899429,
          126.982292,
          126.94619,
          126.941383,
          126.97216,
          127.000671,
          127.00721,
          126.977539,
          126.972366,
          126.980141,
          126.979889,
          126.997986,
          127.008492,
          127.009956,
          127.006027,
          127.010704,
          127.015793,
          127.006439,
          126.973251,
          127.074272,
          127.067192,
          127.05751,
          127.044609,
          127.030319,
          127.03492,
          127.016426,
          127.06366,
          127.029213,
          127.051155,
          127.078644,
          127.094482,
          127.094673,
          127.089706,
          127.036797,
          127.04467,
          127.015572,
          127.017662,
          127.057083,
          127.07476,
          127.088982,
          127.104263,
          127.041847,
          127.072632,
          127.067497,
          127.056656,
          127.026497,
          127.067863,
          127.023468,
          127.03511,
          127.044823,
          127.038536,
          127.0484314,
          127.064377,
          127.067268,
          127.033386,
          127.063026,
          127.023377,
          127.045799,
          126.872772,
          126.87558,
          126.864578,
          126.882545,
          126.877052,
          126.875481,
          126.88325,
          126.864868,
          126.874573,
          126.867218,
          126.853684,
          126.865555,
          127.002213,
          126.972687,
          126.989738,
          127.007439,
          126.985382,
          126.972275,
          126.968483,
          126.971733,
          126.970505,
          126.972,
          126.988564,
          126.973465,
          126.96138,
          126.971542,
          126.972389,
          126.968872,
          126.98867,
          126.975052,
          126.973419,
          126.965691,
          127.001549,
          126.972771,
          126.986893,
          126.989235,
          126.918999,
          126.919579,
          126.916862,
          126.922935,
          126.913651,
          126.909897,
          126.935349,
          126.921967,
          126.930977,
          126.922523,
          126.916397,
          126.932884,
          126.902351,
          126.920807,
          126.917351,
          126.919456,
          126.92981,
          126.894943,
          126.935928,
          126.914833,
          126.915405,
          127.127151,
          127.124214,
          127.120926,
          127.155273,
          127.142601,
          127.135529,
          127.147644,
          127.153725,
          127.132561,
          127.14901,
          127.145454,
          127.166145,
          126.812195,
          126.81015,
          126.810486,
          126.86409,
          126.861458,
          126.838287,
          126.836563,
          126.838547,
          126.840225,
          126.840218,
          126.863708,
          126.818275,
          126.810478,
          126.823471,
          126.826614,
          126.838097,
          126.854813,
          126.840897,
          126.874489,
          126.806168,
          126.826653,
          126.827164,
          126.836128,
          126.798973,
          127.118546,
          127.14473,
          127.078239,
          127.119789,
          127.104202,
          127.10096,
          127.112869,
          127.127647,
          127.131538,
          127.125839,
          127.087532,
          127.085052,
          127.143822,
          127.09903,
          127.125328,
          127.126328,
          127.10775,
          127.128181,
          127.117752,
          127.126595,
          127.122803,
          127.1141968,
          127.100304,
          127.136711,
          127.00631,
          127.006706,
          127.011688,
          127.024788,
          127.047737,
          127.047318,
          127.041634,
          127.066093,
          127.007378,
          127.036194,
          127.008133,
          127.013504,
          127.019676,
          127.041237,
          127.067001,
          127.016289,
          127.016289,
          127.076576,
          127.092949,
          127.108269,
          127.077888,
          127.077477,
          127.090309,
          127.088432,
          127.085999,
          127.103378,
          127.107742,
          127.086823,
          127.086914,
          127.079582,
          127.08728,
          127.085838,
          127.085014,
          127.085899,
          127.075073,
          127.076523,
          127.084831,
          127.079002,
          127.105148,
          127.101151,
          127.077393,
          127.078133,
          127.079231,
          127.074951,
          127.091263,
          127.026482,
          127.026756,
          127.025124,
          127.016167,
          127.012756,
          127.026695,
          127.026054,
          127.030251,
          127.012428,
          127.013138,
          127.013451,
          127.016884,
          127.018059,
          127.02037,
          127.027237,
          127.013847,
          127.014572,
          127.025902,
          127.0118408,
          127.064468,
          127.061897,
          127.074928,
          127.072754,
          127.083641,
          127.068329,
          127.072968,
          127.055099,
          127.055504,
          127.077591,
          127.0634,
          127.075211,
          127.063622,
          127.059151,
          127.063255,
          127.064987,
          127.060974,
          127.07563,
          127.057297,
          127.057892,
          127.05056,
          127.045197,
          127.035347,
          127.046997,
          127.042999,
          127.044983,
          127.04332,
          127.043762,
          127.013382,
          127.013756,
          127.035614,
          126.888718,
          126.895927,
          126.893143,
          126.890282,
          126.881485,
          126.883804,
          126.882874,
          126.890099,
          126.901321,
          126.894447,
          126.858253,
          126.859215,
          126.844055,
          126.824524,
          126.880386,
          126.839211,
          126.891304,
          126.894737,
          126.886703,
          126.838821,
          126.883881,
          126.87178,
          126.87101,
          126.952469,
          126.921082,
          126.939362,
          126.929565,
          126.927094,
          126.938988,
          126.948204,
          126.963615,
          126.963493,
          126.981621,
          126.980576,
          126.97715,
          126.976089,
          126.939972,
          126.943527,
          126.97155,
          126.926613,
          126.927086,
          126.953682,
          126.943069,
          126.954163,
          126.925438,
          126.981979,
          126.981331,
          126.943199,
          126.953316,
          126.950645,
          126.950829,
          126.928909,
          126.929916,
          126.963394,
          126.965363,
          126.964958,
          126.942131,
          126.952003,
          126.913017,
          126.941406,
          127.055016,
          126.99749,
          126.995476,
          127.003944,
          126.98616,
          126.982033,
          126.992523,
          126.982628,
          127.01487,
          127.013786,
          127.03418,
          127.038857,
          127.011177,
          127.008163,
          126.994293,
          127.039612,
          127.014183,
          126.988525,
          127.015923,
          127.024277,
          127.021477,
          127.028717,
          127.043022,
          127.061119,
          127.063408,
          127.055031,
          127.056969,
          127.069443,
          127.063103,
          127.048965,
          127.034073,
          127.046761,
          127.071976,
          127.084938,
          127.079514,
          127.040474,
          127.062309,
          127.054298,
          127.063797,
          127.065575,
          127.100998,
          127.100517,
          127.102753,
          127.034523,
          127.030151,
          127.073158,
          127.054985,
          127.053429,
          127.052193,
          127.059822,
          127.0597,
          127.070137,
          127.025795,
          127.040428,
          127.036057,
          127.062904,
          127.008553,
          127.019302,
          126.982323,
          127.016022,
          126.997322,
          127.023911,
          127.12709,
          127.106194,
          127.087563,
          127.0964432,
          127.096443,
          127.112312,
          127.116257,
          127.130592,
          127.1238556,
          127.123108,
          127.122444,
          127.097397,
          127.086739,
          127.106575,
          127.12458,
          126.827316,
          126.827683,
          126.828079,
          126.846588,
          126.889565,
          127.067452,
          127.064583,
          126.903603,
          126.898361,
          126.925385,
          126.956207,
          126.950165,
          126.958298,
          126.965523,
          126.937203,
          126.911308,
          126.907585,
          126.895302,
          126.964867,
          126.951576,
          127.002358,
          126.983391,
          126.983368,
          126.991844,
          127.002228,
          127.010788,
          127.015617,
          127.01506,
          127.001854,
          126.95755,
          127.079697,
          127.084297,
          127.035103,
          127.029198,
          127.07914,
          127.070618,
          127.069283,
          127.043778,
          127.043358,
          127.02887,
          127.047669,
          127.043114,
          127.019791,
          127.072441,
          127.073967,
          127.0496826,
          127.0639648,
          127.0539093,
          127.06073,
          127.0326004,
          127.0515976,
          127.0730591,
          127.0515671,
          127.0799942,
          127.0427704,
          127.0593185,
          127.0605011,
          127.0592194,
          127.1368027,
          127.1330948,
          127.1395493,
          127.1765366,
          127.1751404,
          127.1363525,
          127.13871,
          126.8162155,
          126.8168411,
          126.8355942,
          126.8367615,
          126.8631439,
          126.8165054,
          126.8130722,
          126.8126907,
          126.9627686,
          127.074707,
          127.0757141,
          126.8591766,
          126.8892059,
          126.8944778,
          127.0696945,
          127.0788422,
          127.0588684,
          127.0671539,
          127.0730133,
          127.0492935,
          127.0595627,
          126.9036484,
          126.9279785,
          126.9274139,
          126.931633,
          126.898674,
          127.038887,
          127.0065308,
          127.0059433,
          126.9975891,
          127.0331574,
          127.0198898,
          127.0575943,
          127.0309525,
          127.125946,
          127.1437302,
          127.1174545,
          127.1036224,
          127.1043091,
          127.103508,
          127.1267853,
          126.8522873,
          126.8667984,
          126.9169846,
          126.8860016,
          126.9054031,
          126.9719238,
          126.974083,
          126.9961929,
          126.9635544,
          126.9304886,
          126.9354248,
          126.91716,
          126.964859,
          126.9736404,
          126.9908829,
          126.9825821,
          126.9768372,
          126.981781,
          126.9842758,
          127.0091934,
          126.9874954,
          127.0064774,
          126.9694214,
          127.0847778,
          127.091713,
          127.1179886,
          127.1149826,
          127.1123276,
          127.134613,
          127.1348648,
          127.139061,
          127.1510925,
          126.8243866,
          126.8075409,
          126.8270493,
          126.827179,
          126.8398819,
          126.977577,
          126.976738,
          127.142624,
          127.01368,
          127.028259,
          127.127113,
          127.1238556,
          127.123108,
          127.0054703,
          126.97747,
          126.97258,
          126.962364,
          127.0964432,
          127.096443
         ],
         "marker": {
          "color": "cyan",
          "opacity": 0.5
         },
         "mode": "markers",
         "name": "",
         "showlegend": false,
         "subplot": "mapbox",
         "type": "scattermapbox"
        },
        {
         "customdata": [
          [
           2622
          ],
          [
           2622
          ],
          [
           238
          ],
          [
           2623
          ],
          [
           2623
          ],
          [
           2624
          ],
          [
           2624
          ],
          [
           239
          ],
          [
           239
          ],
          [
           4203
          ],
          [
           2625
          ],
          [
           1263
          ],
          [
           240
          ],
          [
           240
          ],
          [
           240
          ],
          [
           240
          ],
          [
           2618
          ],
          [
           1252
          ],
          [
           242
          ],
          [
           2627
          ],
          [
           4202
          ],
          [
           4202
          ],
          [
           2529
          ],
          [
           2529
          ],
          [
           1263
          ],
          [
           1265
          ],
          [
           2531
          ],
          [
           241
          ],
          [
           315
          ],
          [
           2533
          ],
          [
           2533
          ],
          [
           1265
          ],
          [
           2532
          ],
          [
           2619
          ],
          [
           4114
          ],
          [
           4114
          ],
          [
           2528
          ],
          [
           4115
          ],
          [
           4115
          ],
          [
           4115
          ],
          [
           4116
          ],
          [
           4116
          ],
          [
           4112
          ],
          [
           2524
          ],
          [
           2523
          ],
          [
           235
          ],
          [
           235
          ],
          [
           4113
          ],
          [
           2744
          ],
          [
           2745
          ],
          [
           2526
          ],
          [
           1005
          ],
          [
           237
          ],
          [
           1006
          ],
          [
           2525
          ],
          [
           317
          ],
          [
           317
          ],
          [
           2534
          ],
          [
           2534
          ],
          [
           2534
          ],
          [
           152
          ],
          [
           152
          ],
          [
           202
          ],
          [
           202
          ],
          [
           318
          ],
          [
           319
          ],
          [
           319
          ],
          [
           423
          ],
          [
           420
          ],
          [
           422
          ],
          [
           2637
          ],
          [
           4713
          ],
          [
           2638
          ],
          [
           316
          ],
          [
           201
          ],
          [
           322
          ],
          [
           2634
          ],
          [
           2635
          ],
          [
           150
          ],
          [
           322
          ],
          [
           2634
          ],
          [
           2636
          ],
          [
           152
          ],
          [
           2536
          ],
          [
           423
          ],
          [
           421
          ],
          [
           320
          ],
          [
           4204
          ],
          [
           2619
          ],
          [
           2620
          ],
          [
           2620
          ],
          [
           202
          ],
          [
           241
          ],
          [
           2626
          ],
          [
           1001
          ],
          [
           154
          ],
          [
           421
          ],
          [
           2534
          ],
          [
           317
          ],
          [
           425
          ],
          [
           425
          ],
          [
           2536
          ],
          [
           422
          ],
          [
           422
          ],
          [
           322
          ],
          [
           2634
          ],
          [
           2636
          ],
          [
           2633
          ],
          [
           1291
          ],
          [
           2728
          ],
          [
           2730
          ],
          [
           211
          ],
          [
           1847
          ],
          [
           207
          ],
          [
           2541
          ],
          [
           324
          ],
          [
           2544
          ],
          [
           2540
          ],
          [
           2543
          ],
          [
           2727
          ],
          [
           214
          ],
          [
           214
          ],
          [
           2546
          ],
          [
           2541
          ],
          [
           1847
          ],
          [
           324
          ],
          [
           1011
          ],
          [
           211
          ],
          [
           2728
          ],
          [
           2546
          ],
          [
           2547
          ],
          [
           2542
          ],
          [
           2728
          ],
          [
           2730
          ],
          [
           211
          ],
          [
           246
          ],
          [
           1017
          ],
          [
           4713
          ],
          [
           157
          ],
          [
           158
          ],
          [
           250
          ],
          [
           245
          ],
          [
           2544
          ],
          [
           1017
          ],
          [
           157
          ],
          [
           1016
          ],
          [
           4713
          ],
          [
           158
          ],
          [
           4110
          ],
          [
           2522
          ],
          [
           4109
          ],
          [
           4111
          ],
          [
           2522
          ],
          [
           2522
          ],
          [
           4111
          ],
          [
           2521
          ],
          [
           4110
          ],
          [
           4109
          ],
          [
           249
          ],
          [
           248
          ],
          [
           2632
          ],
          [
           426
          ],
          [
           1009
          ],
          [
           1010
          ],
          [
           2630
          ],
          [
           428
          ],
          [
           429
          ],
          [
           428
          ],
          [
           1002
          ],
          [
           427
          ],
          [
           2630
          ],
          [
           1008
          ],
          [
           2628
          ],
          [
           1002
          ],
          [
           427
          ],
          [
           429
          ],
          [
           2630
          ],
          [
           2629
          ],
          [
           2629
          ],
          [
           1003
          ],
          [
           2632
          ],
          [
           1008
          ],
          [
           2630
          ],
          [
           1009
          ],
          [
           310
          ],
          [
           2615
          ],
          [
           2611
          ],
          [
           2612
          ],
          [
           2617
          ],
          [
           2618
          ],
          [
           313
          ],
          [
           2615
          ],
          [
           312
          ],
          [
           2615
          ],
          [
           2616
          ],
          [
           2614
          ],
          [
           2619
          ],
          [
           2615
          ],
          [
           2616
          ],
          [
           310
          ],
          [
           2613
          ],
          [
           1267
          ],
          [
           313
          ],
          [
           2617
          ],
          [
           2611
          ],
          [
           2811
          ],
          [
           2812
          ],
          [
           2813
          ],
          [
           2553
          ],
          [
           2551
          ],
          [
           2555
          ],
          [
           4138
          ],
          [
           2553
          ],
          [
           2549
          ],
          [
           4138
          ],
          [
           2552
          ],
          [
           2554
          ],
          [
           2511
          ],
          [
           4103
          ],
          [
           4103
          ],
          [
           4109
          ],
          [
           4108
          ],
          [
           2516
          ],
          [
           2517
          ],
          [
           2518
          ],
          [
           2518
          ],
          [
           2518
          ],
          [
           4109
          ],
          [
           4104
          ],
          [
           2514
          ],
          [
           2515
          ],
          [
           2515
          ],
          [
           2516
          ],
          [
           4107
          ],
          [
           4106
          ],
          [
           4110
          ],
          [
           2512
          ],
          [
           2515
          ],
          [
           2515
          ],
          [
           2517
          ],
          [
           4101
          ],
          [
           2818
          ],
          [
           2560
          ],
          [
           4130
          ],
          [
           2813
          ],
          [
           215
          ],
          [
           216
          ],
          [
           2817
          ],
          [
           2558
          ],
          [
           4136
          ],
          [
           2557
          ],
          [
           4131
          ],
          [
           217
          ],
          [
           2560
          ],
          [
           216
          ],
          [
           2820
          ],
          [
           2820
          ],
          [
           4133
          ],
          [
           2558
          ],
          [
           2818
          ],
          [
           2557
          ],
          [
           2812
          ],
          [
           2814
          ],
          [
           216
          ],
          [
           4137
          ],
          [
           419
          ],
          [
           419
          ],
          [
           4710
          ],
          [
           417
          ],
          [
           2643
          ],
          [
           2643
          ],
          [
           2642
          ],
          [
           2645
          ],
          [
           419
          ],
          [
           2641
          ],
          [
           4709
          ],
          [
           4710
          ],
          [
           4712
          ],
          [
           2642
          ],
          [
           2645
          ],
          [
           4711
          ],
          [
           4711
          ],
          [
           1201
          ],
          [
           1203
          ],
          [
           1204
          ],
          [
           2720
          ],
          [
           2720
          ],
          [
           2648
          ],
          [
           2724
          ],
          [
           2722
          ],
          [
           2649
          ],
          [
           1204
          ],
          [
           2725
          ],
          [
           2725
          ],
          [
           2721
          ],
          [
           2723
          ],
          [
           2722
          ],
          [
           2647
          ],
          [
           2722
          ],
          [
           1201
          ],
          [
           1201
          ],
          [
           2725
          ],
          [
           2721
          ],
          [
           1311
          ],
          [
           2649
          ],
          [
           2720
          ],
          [
           2720
          ],
          [
           2721
          ],
          [
           1201
          ],
          [
           1203
          ],
          [
           415
          ],
          [
           414
          ],
          [
           414
          ],
          [
           4704
          ],
          [
           4702
          ],
          [
           415
          ],
          [
           415
          ],
          [
           416
          ],
          [
           4701
          ],
          [
           4702
          ],
          [
           4703
          ],
          [
           4704
          ],
          [
           4706
          ],
          [
           4707
          ],
          [
           414
          ],
          [
           4703
          ],
          [
           4703
          ],
          [
           414
          ],
          [
           4701
          ],
          [
           2645
          ],
          [
           1019
          ],
          [
           2719
          ],
          [
           2718
          ],
          [
           2647
          ],
          [
           2717
          ],
          [
           410
          ],
          [
           2713
          ],
          [
           2713
          ],
          [
           409
          ],
          [
           411
          ],
          [
           2719
          ],
          [
           411
          ],
          [
           2715
          ],
          [
           2716
          ],
          [
           2716
          ],
          [
           2715
          ],
          [
           2719
          ],
          [
           2714
          ],
          [
           2714
          ],
          [
           1021
          ],
          [
           2712
          ],
          [
           413
          ],
          [
           1022
          ],
          [
           1901
          ],
          [
           1902
          ],
          [
           1901
          ],
          [
           1901
          ],
          [
           4702
          ],
          [
           4702
          ],
          [
           413
          ],
          [
           1714
          ],
          [
           1703
          ],
          [
           1703
          ],
          [
           1714
          ],
          [
           2748
          ],
          [
           2748
          ],
          [
           247
          ],
          [
           1007
          ],
          [
           232
          ],
          [
           233
          ],
          [
           1801
          ],
          [
           1801
          ],
          [
           1802
          ],
          [
           2752
          ],
          [
           1701
          ],
          [
           2751
          ],
          [
           1007
          ],
          [
           233
          ],
          [
           2747
          ],
          [
           2751
          ],
          [
           1701
          ],
          [
           1813
          ],
          [
           1813
          ],
          [
           4118
          ],
          [
           2744
          ],
          [
           2742
          ],
          [
           2743
          ],
          [
           2743
          ],
          [
           2742
          ],
          [
           2741
          ],
          [
           4119
          ],
          [
           4119
          ],
          [
           2738
          ],
          [
           433
          ],
          [
           4120
          ],
          [
           4120
          ],
          [
           4117
          ],
          [
           1004
          ],
          [
           2739
          ],
          [
           1005
          ],
          [
           1005
          ],
          [
           2740
          ],
          [
           4117
          ],
          [
           4118
          ],
          [
           1005
          ],
          [
           2738
          ],
          [
           433
          ],
          [
           229
          ],
          [
           228
          ],
          [
           228
          ],
          [
           228
          ],
          [
           230
          ],
          [
           230
          ],
          [
           227
          ],
          [
           227
          ],
          [
           227
          ],
          [
           229
          ],
          [
           228
          ],
          [
           231
          ],
          [
           229
          ],
          [
           4310
          ],
          [
           4122
          ],
          [
           4122
          ],
          [
           4123
          ],
          [
           4121
          ],
          [
           433
          ],
          [
           2737
          ],
          [
           2738
          ],
          [
           331
          ],
          [
           330
          ],
          [
           4308
          ],
          [
           4309
          ],
          [
           328
          ],
          [
           224
          ],
          [
           2737
          ],
          [
           4309
          ],
          [
           330
          ],
          [
           434
          ],
          [
           331
          ],
          [
           4125
          ],
          [
           2734
          ],
          [
           326
          ],
          [
           2732
          ],
          [
           4129
          ],
          [
           219
          ],
          [
           4128
          ],
          [
           1025
          ],
          [
           336
          ],
          [
           219
          ],
          [
           1023
          ],
          [
           4308
          ],
          [
           333
          ],
          [
           1028
          ],
          [
           338
          ],
          [
           337
          ],
          [
           2732
          ],
          [
           219
          ],
          [
           1024
          ],
          [
           335
          ],
          [
           1027
          ],
          [
           1030
          ],
          [
           1030
          ],
          [
           1030
          ],
          [
           4126
          ],
          [
           2733
          ],
          [
           1028
          ],
          [
           1025
          ],
          [
           1024
          ],
          [
           1024
          ],
          [
           4129
          ],
          [
           4129
          ],
          [
           336
          ],
          [
           4125
          ],
          [
           1848
          ],
          [
           221
          ],
          [
           335
          ],
          [
           224
          ],
          [
           327
          ],
          [
           2738
          ],
          [
           4124
          ],
          [
           4122
          ],
          [
           4125
          ],
          [
           2821
          ],
          [
           2815
          ],
          [
           4131
          ],
          [
           4132
          ],
          [
           4134
          ],
          [
           4135
          ],
          [
           4136
          ],
          [
           341
          ],
          [
           2819
          ],
          [
           4132
          ],
          [
           217
          ],
          [
           4133
          ],
          [
           341
          ],
          [
           4206
          ],
          [
           4206
          ],
          [
           4206
          ],
          [
           2519
          ],
          [
           1007
          ],
          [
           2645
          ],
          [
           2716
          ],
          [
           2621
          ],
          [
           4204
          ],
          [
           4203
          ],
          [
           242
          ],
          [
           315
          ],
          [
           316
          ],
          [
           243
          ],
          [
           240
          ],
          [
           2745
          ],
          [
           1006
          ],
          [
           235
          ],
          [
           227
          ],
          [
           228
          ],
          [
           154
          ],
          [
           318
          ],
          [
           152
          ],
          [
           2535
          ],
          [
           154
          ],
          [
           421
          ],
          [
           2637
          ],
          [
           2638
          ],
          [
           420
          ],
          [
           316
          ],
          [
           2727
          ],
          [
           2726
          ],
          [
           1012
          ],
          [
           207
          ],
          [
           2727
          ],
          [
           2729
          ],
          [
           2729
          ],
          [
           209
          ],
          [
           209
          ],
          [
           207
          ],
          [
           210
          ],
          [
           2542
          ],
          [
           2539
          ],
          [
           2729
          ],
          [
           2728
          ],
          [
           244
          ],
          [
           219
          ],
          [
           4128
          ],
          [
           4129
          ],
          [
           2733
          ],
          [
           2731
          ],
          [
           1028
          ],
          [
           4128
          ],
          [
           337
          ],
          [
           4127
          ],
          [
           1026
          ],
          [
           1026
          ],
          [
           1026
          ],
          [
           2555
          ],
          [
           2549
          ],
          [
           2550
          ],
          [
           9995
          ],
          [
           9995
          ],
          [
           2555
          ],
          [
           4137
          ],
          [
           4104
          ],
          [
           4104
          ],
          [
           2516
          ],
          [
           2516
          ],
          [
           4108
          ],
          [
           4104
          ],
          [
           2514
          ],
          [
           2514
          ],
          [
           227
          ],
          [
           2728
          ],
          [
           2728
          ],
          [
           1801
          ],
          [
           1714
          ],
          [
           1703
          ],
          [
           2717
          ],
          [
           409
          ],
          [
           1020
          ],
          [
           2717
          ],
          [
           2718
          ],
          [
           1022
          ],
          [
           1015
          ],
          [
           232
          ],
          [
           2743
          ],
          [
           1005
          ],
          [
           2625
          ],
          [
           4204
          ],
          [
           4309
          ],
          [
           2736
          ],
          [
           2736
          ],
          [
           225
          ],
          [
           332
          ],
          [
           2539
          ],
          [
           2644
          ],
          [
           2640
          ],
          [
           2557
          ],
          [
           2560
          ],
          [
           2818
          ],
          [
           215
          ],
          [
           215
          ],
          [
           2815
          ],
          [
           2820
          ],
          [
           249
          ],
          [
           248
          ],
          [
           2526
          ],
          [
           2523
          ],
          [
           2525
          ],
          [
           1008
          ],
          [
           2629
          ],
          [
           2631
          ],
          [
           1261
          ],
          [
           2613
          ],
          [
           313
          ],
          [
           2611
          ],
          [
           243
          ],
          [
           150
          ],
          [
           203
          ],
          [
           202
          ],
          [
           151
          ],
          [
           202
          ],
          [
           202
          ],
          [
           2634
          ],
          [
           424
          ],
          [
           2537
          ],
          [
           1001
          ],
          [
           2722
          ],
          [
           1203
          ],
          [
           2818
          ],
          [
           4135
          ],
          [
           2814
          ],
          [
           2559
          ],
          [
           2559
          ],
          [
           4137
          ],
          [
           2561
          ],
          [
           2515
          ],
          [
           2512
          ],
          [
           2515
          ],
          [
           2515
          ],
          [
           4106
          ],
          [
           2534
          ],
          [
           201
          ],
          [
           2552
          ],
          [
           4708
          ],
          [
           326
          ],
          [
           2821
          ],
          [
           341
          ],
          [
           322
          ],
          [
           151
          ],
          [
           1291
          ],
          [
           227
          ],
          [
           4132
          ]
         ],
         "hovertemplate": "<b>%{hovertext}</b><br><br>위도=%{lat}<br>경도=%{lon}<br>역사_ID=%{customdata[0]}<extra></extra>",
         "hovertext": [
          "망원",
          "망원",
          "합정",
          "합정",
          "합정",
          "상수",
          "상수",
          "홍대입구",
          "홍대입구",
          "홍대입구",
          "광흥창(서강)",
          "서강대",
          "신촌",
          "신촌",
          "신촌",
          "신촌",
          "증산(명지대앞)",
          "신촌",
          "아현",
          "공덕",
          "공덕",
          "공덕",
          "마포",
          "마포",
          "서강대",
          "가좌",
          "애오개",
          "이대",
          "무악재",
          "서대문",
          "서대문",
          "가좌",
          "충정로(경기대입구)",
          "디지털미디어시티",
          "국회의사당",
          "국회의사당",
          "여의나루",
          "여의도",
          "여의도",
          "여의도",
          "샛강",
          "샛강",
          "선유도",
          "영등포구청",
          "양평",
          "문래",
          "문래",
          "당산",
          "보라매",
          "신풍",
          "신길",
          "대방",
          "당산",
          "영등포",
          "영등포시장",
          "경복궁(정부서울청사)",
          "경복궁(정부서울청사)",
          "광화문(세종문화회관)",
          "광화문(세종문화회관)",
          "광화문(세종문화회관)",
          "종각",
          "종각",
          "을지로입구",
          "을지로입구",
          "안국",
          "종로3가",
          "종로3가",
          "충무로",
          "혜화",
          "동대문역사문화공원",
          "동묘앞",
          "신설동",
          "창신",
          "독립문",
          "시청",
          "동대입구",
          "약수",
          "청구",
          "서울역",
          "동대입구",
          "약수",
          "신당",
          "종각",
          "을지로4가",
          "충무로",
          "동대문",
          "을지로3가",
          "디지털미디어시티",
          "디지털미디어시티",
          "월드컵경기장(성산)",
          "월드컵경기장(성산)",
          "을지로입구",
          "이대",
          "대흥(서강대앞)",
          "서울역",
          "종로5가",
          "동대문",
          "광화문(세종문화회관)",
          "경복궁(정부서울청사)",
          "회현(남대문시장)",
          "회현(남대문시장)",
          "을지로4가",
          "동대문역사문화공원",
          "동대문역사문화공원",
          "동대입구",
          "약수",
          "신당",
          "버티고개",
          "서울역",
          "어린이대공원(세종대)",
          "뚝섬유원지",
          "성수",
          "서울숲",
          "상왕십리",
          "왕십리(성동구청)",
          "금호",
          "장한평",
          "행당",
          "답십리",
          "군자(능동)",
          "강변(동서울터미널)",
          "강변(동서울터미널)",
          "아차산(어린이대공원후문)",
          "왕십리(성동구청)",
          "서울숲",
          "금호",
          "옥수",
          "성수",
          "어린이대공원(세종대)",
          "아차산(어린이대공원후문)",
          "광나루(장신대)",
          "마장",
          "어린이대공원(세종대)",
          "뚝섬유원지",
          "성수",
          "신설동",
          "신이문",
          "신설동",
          "제기동",
          "청량리(서울시립대입구)",
          "용두(동대문구청)",
          "신답",
          "장한평",
          "신이문",
          "제기동",
          "외대앞",
          "신설동",
          "청량리(서울시립대입구)",
          "염창",
          "오목교(목동운동장앞)",
          "등촌",
          "신목동",
          "오목교(목동운동장앞)",
          "오목교(목동운동장앞)",
          "신목동",
          "목동",
          "염창",
          "등촌",
          "신정네거리",
          "양천구청",
          "한강진",
          "서울역",
          "서빙고",
          "한남",
          "녹사평(용산구청)",
          "삼각지",
          "신용산",
          "삼각지",
          "남영",
          "숙대입구(갈월)",
          "녹사평(용산구청)",
          "이촌(국립중앙박물관)",
          "효창공원앞",
          "남영",
          "숙대입구(갈월)",
          "신용산",
          "녹사평(용산구청)",
          "삼각지",
          "삼각지",
          "용산",
          "한강진",
          "이촌(국립중앙박물관)",
          "녹사평(용산구청)",
          "서빙고",
          "구파발",
          "연신내",
          "응암",
          "역촌",
          "새절(신사)",
          "증산(명지대앞)",
          "녹번",
          "연신내",
          "불광",
          "연신내",
          "구산",
          "독바위",
          "디지털미디어시티",
          "연신내",
          "구산",
          "구파발",
          "불광",
          "수색",
          "녹번",
          "새절(신사)",
          "응암",
          "암사",
          "천호(풍납토성)",
          "강동구청",
          "고덕",
          "굽은다리(강동구민회관앞)",
          "둔촌동",
          "중앙보훈병원",
          "고덕",
          "강동",
          "중앙보훈병원",
          "명일",
          "상일동",
          "방화",
          "공항시장",
          "공항시장",
          "등촌",
          "증미",
          "발산",
          "우장산",
          "화곡",
          "화곡",
          "화곡",
          "등촌",
          "신방화",
          "송정",
          "마곡",
          "마곡",
          "발산",
          "가양",
          "양천향교",
          "염창",
          "개화산",
          "마곡",
          "마곡",
          "우장산",
          "개화",
          "가락시장",
          "거여",
          "종합운동장",
          "강동구청",
          "잠실나루",
          "잠실(송파구청)",
          "송파",
          "오금",
          "올림픽공원(한국체대)",
          "방이",
          "삼전",
          "잠실새내",
          "거여",
          "잠실(송파구청)",
          "장지",
          "장지",
          "석촌",
          "오금",
          "가락시장",
          "방이",
          "천호(풍납토성)",
          "몽촌토성(평화의문)",
          "잠실(송파구청)",
          "둔촌오륜",
          "한성대입구(삼선교)",
          "한성대입구(삼선교)",
          "정릉",
          "길음",
          "상월곡(한국과학기술연구원)",
          "상월곡(한국과학기술연구원)",
          "월곡(동덕여대)",
          "석계",
          "한성대입구(삼선교)",
          "고려대(종암)",
          "북한산보국문",
          "정릉",
          "보문",
          "월곡(동덕여대)",
          "석계",
          "성신여대입구(돈암)",
          "성신여대입구(돈암)",
          "중랑",
          "망우",
          "양원",
          "먹골",
          "먹골",
          "봉화산(서울의료원)",
          "사가정",
          "상봉(시외버스터미널)",
          "신내",
          "양원",
          "용마산",
          "용마산",
          "중화",
          "면목",
          "상봉(시외버스터미널)",
          "화랑대(서울여대입구)",
          "상봉(시외버스터미널)",
          "중랑",
          "중랑",
          "용마산",
          "중화",
          "신내",
          "신내",
          "먹골",
          "먹골",
          "중화",
          "중랑",
          "망우",
          "미아(서울사이버대학)",
          "수유(강북구청)",
          "수유(강북구청)",
          "가오리",
          "솔밭공원",
          "미아(서울사이버대학)",
          "미아(서울사이버대학)",
          "미아사거리",
          "북한산우이",
          "솔밭공원",
          "4.19민주묘지",
          "가오리",
          "삼양",
          "삼양사거리",
          "수유(강북구청)",
          "4.19민주묘지",
          "4.19민주묘지",
          "수유(강북구청)",
          "북한산우이",
          "석계",
          "광운대",
          "태릉입구",
          "공릉(서울과학기술대)",
          "화랑대(서울여대입구)",
          "하계",
          "상계",
          "수락산",
          "수락산",
          "당고개",
          "노원",
          "태릉입구",
          "노원",
          "노원",
          "중계",
          "중계",
          "노원",
          "태릉입구",
          "마들",
          "마들",
          "녹천",
          "도봉산",
          "쌍문",
          "창동",
          "방학",
          "도봉",
          "방학",
          "방학",
          "솔밭공원",
          "솔밭공원",
          "쌍문",
          "독산",
          "금천구청",
          "금천구청",
          "독산",
          "가산디지털단지",
          "가산디지털단지",
          "도림천",
          "신도림",
          "구로디지털단지",
          "대림(구로구청)",
          "개봉",
          "개봉",
          "오류동",
          "온수(성공회대입구)",
          "구로",
          "천왕",
          "신도림",
          "대림(구로구청)",
          "남구로",
          "천왕",
          "구로",
          "구일",
          "구일",
          "노들",
          "보라매",
          "장승배기",
          "신대방삼거리",
          "신대방삼거리",
          "장승배기",
          "상도",
          "흑석(중앙대입구)",
          "흑석(중앙대입구)",
          "이수",
          "사당",
          "동작(현충원)",
          "동작(현충원)",
          "노량진",
          "노량진",
          "남성",
          "대방",
          "대방",
          "숭실대입구(살피재)",
          "노량진",
          "노들",
          "대방",
          "이수",
          "사당",
          "봉천",
          "서울대입구(관악구청)",
          "서울대입구(관악구청)",
          "서울대입구(관악구청)",
          "신림",
          "신림",
          "낙성대",
          "낙성대",
          "낙성대",
          "봉천",
          "서울대입구(관악구청)",
          "신대방",
          "봉천",
          "청계산입구",
          "신반포",
          "신반포",
          "고속터미널",
          "구반포",
          "사당",
          "내방",
          "이수",
          "남부터미널(예술의전당)",
          "교대(법원.검찰청)",
          "양재(서초구청)",
          "양재시민의숲(매헌)",
          "잠원",
          "서초",
          "내방",
          "양재시민의숲(매헌)",
          "교대(법원.검찰청)",
          "남태령",
          "남부터미널(예술의전당)",
          "신논현",
          "논현",
          "압구정",
          "강남구청",
          "봉은사",
          "삼성(무역센터)",
          "삼성중앙",
          "도곡",
          "학여울",
          "삼성(무역센터)",
          "선릉",
          "양재(서초구청)",
          "매봉",
          "대모산입구",
          "일원",
          "대청",
          "강남구청",
          "삼성(무역센터)",
          "한티",
          "대치",
          "개포동",
          "수서",
          "수서",
          "수서",
          "언주",
          "학동",
          "대모산입구",
          "도곡",
          "한티",
          "한티",
          "봉은사",
          "봉은사",
          "학여울",
          "신논현",
          "압구정로데오",
          "역삼",
          "대치",
          "서초",
          "신사",
          "이수",
          "사평",
          "신반포",
          "신논현",
          "복정",
          "잠실(송파구청)",
          "삼전",
          "석촌고분",
          "송파나루",
          "한성백제",
          "올림픽공원(한국체대)",
          "경찰병원",
          "문정",
          "석촌고분",
          "잠실새내",
          "석촌",
          "경찰병원",
          "마곡나루",
          "마곡나루",
          "마곡나루",
          "까치산",
          "신도림",
          "석계",
          "중계",
          "마포구청",
          "디지털미디어시티",
          "홍대입구",
          "아현",
          "무악재",
          "독립문",
          "충정로(경기대입구)",
          "신촌",
          "신풍",
          "영등포",
          "문래",
          "낙성대",
          "서울대입구(관악구청)",
          "종로5가",
          "안국",
          "종각",
          "종로3가",
          "종로5가",
          "동대문",
          "동묘앞",
          "창신",
          "혜화",
          "독립문",
          "군자(능동)",
          "중곡",
          "응봉",
          "상왕십리",
          "군자(능동)",
          "건대입구",
          "건대입구",
          "한양대",
          "한양대",
          "상왕십리",
          "뚝섬",
          "마장",
          "신금호",
          "건대입구",
          "어린이대공원(세종대)",
          "용답",
          "삼성(무역센터)",
          "삼성중앙",
          "봉은사",
          "학동",
          "청담",
          "대모산입구",
          "삼성중앙",
          "대청",
          "선정릉",
          "구룡",
          "구룡",
          "구룡",
          "둔촌동",
          "강동",
          "길동",
          "강일",
          "강일",
          "둔촌동",
          "둔촌오륜",
          "신방화",
          "신방화",
          "발산",
          "발산",
          "증미",
          "신방화",
          "송정",
          "송정",
          "낙성대",
          "어린이대공원(세종대)",
          "어린이대공원(세종대)",
          "개봉",
          "독산",
          "금천구청",
          "하계",
          "당고개",
          "월계",
          "하계",
          "공릉(서울과학기술대)",
          "창동",
          "회기",
          "구로디지털단지",
          "신대방삼거리",
          "대방",
          "광흥창(서강)",
          "디지털미디어시티",
          "양재시민의숲(매헌)",
          "고속터미널",
          "고속터미널",
          "방배",
          "양재(서초구청)",
          "신금호",
          "돌곶이",
          "안암(고대병원앞)",
          "방이",
          "거여",
          "가락시장",
          "잠실나루",
          "잠실나루",
          "잠실(송파구청)",
          "장지",
          "신정네거리",
          "양천구청",
          "신길",
          "양평",
          "영등포시장",
          "이촌(국립중앙박물관)",
          "삼각지",
          "이태원",
          "효창공원앞",
          "불광",
          "녹번",
          "응암",
          "충정로(경기대입구)",
          "서울역",
          "을지로3가",
          "을지로입구",
          "시청",
          "을지로입구",
          "을지로입구",
          "약수",
          "명동",
          "동대문역사문화공원",
          "서울역",
          "상봉(시외버스터미널)",
          "망우",
          "가락시장",
          "한성백제",
          "몽촌토성(평화의문)",
          "개롱",
          "개롱",
          "둔촌오륜",
          "마천",
          "마곡",
          "개화산",
          "마곡",
          "마곡",
          "양천향교",
          "광화문(세종문화회관)",
          "시청",
          "명일",
          "솔샘",
          "압구정",
          "복정",
          "경찰병원",
          "동대입구",
          "시청",
          "서울역",
          "낙성대",
          "석촌고분"
         ],
         "lat": [
          37.556094,
          37.556094,
          37.549457,
          37.549209,
          37.549209,
          37.547716,
          37.547716,
          37.55679,
          37.55679,
          37.557438,
          37.547456,
          37.551881,
          37.555131,
          37.555131,
          37.555131,
          37.555131,
          37.583876,
          37.559733,
          37.557345,
          37.543555,
          37.54253,
          37.54253,
          37.539574,
          37.539574,
          37.551881,
          37.568491,
          37.553736,
          37.556733,
          37.582299,
          37.565773,
          37.565773,
          37.568491,
          37.560236,
          37.576108,
          37.528105,
          37.528105,
          37.527098,
          37.52176,
          37.52176,
          37.52176,
          37.517274,
          37.517274,
          37.53802,
          37.5242,
          37.525569,
          37.517933,
          37.517933,
          37.533406,
          37.499872,
          37.50008,
          37.517623,
          37.513342,
          37.534946,
          37.515504,
          37.522669,
          37.575762,
          37.575762,
          37.571525,
          37.571525,
          37.571525,
          37.570161,
          37.570161,
          37.566014,
          37.566014,
          37.576477,
          37.571605,
          37.571605,
          37.561207,
          37.582336,
          37.565133,
          37.572279,
          37.576095,
          37.579661,
          37.574571,
          37.563588,
          37.559052,
          37.554263,
          37.560608,
          37.556228,
          37.559052,
          37.554263,
          37.566154,
          37.570161,
          37.567352,
          37.561207,
          37.57093,
          37.566672,
          37.576958,
          37.576108,
          37.569532,
          37.569532,
          37.566014,
          37.556733,
          37.547771,
          37.554337,
          37.570926,
          37.57093,
          37.571525,
          37.575762,
          37.558514,
          37.558514,
          37.567352,
          37.565133,
          37.565133,
          37.559052,
          37.554263,
          37.566154,
          37.548013,
          37.557231,
          37.548014,
          37.53154,
          37.544581,
          37.543617,
          37.564354,
          37.56184,
          37.548034,
          37.56144,
          37.557322,
          37.566747,
          37.556897,
          37.535095,
          37.535095,
          37.551691,
          37.56184,
          37.543617,
          37.548034,
          37.540446,
          37.544581,
          37.548014,
          37.551691,
          37.545303,
          37.5661,
          37.548014,
          37.53154,
          37.544581,
          37.574747,
          37.601854,
          37.576095,
          37.578103,
          37.579956,
          37.574028,
          37.57004,
          37.56144,
          37.601854,
          37.578103,
          37.596073,
          37.576095,
          37.579956,
          37.546936,
          37.524496,
          37.550632,
          37.544277,
          37.524496,
          37.524496,
          37.544277,
          37.526065,
          37.546936,
          37.550632,
          37.520074,
          37.512398,
          37.539631,
          37.55281,
          37.519594,
          37.52943,
          37.534675,
          37.534075,
          37.52917,
          37.534075,
          37.541021,
          37.54456,
          37.534675,
          37.522427,
          37.539233,
          37.541021,
          37.54456,
          37.52917,
          37.534675,
          37.535534,
          37.535534,
          37.529849,
          37.539631,
          37.522427,
          37.534675,
          37.519594,
          37.636763,
          37.618636,
          37.598605,
          37.606021,
          37.591148,
          37.583876,
          37.600927,
          37.618636,
          37.610553,
          37.618636,
          37.611377,
          37.618456,
          37.576108,
          37.618636,
          37.611377,
          37.636763,
          37.610873,
          37.580842,
          37.600927,
          37.591148,
          37.598605,
          37.55021,
          37.538113,
          37.530341,
          37.555004,
          37.545477,
          37.527788,
          37.529191,
          37.555004,
          37.535804,
          37.529191,
          37.55137,
          37.556712,
          37.577446,
          37.563726,
          37.563726,
          37.550632,
          37.557402,
          37.558598,
          37.548768,
          37.541513,
          37.541513,
          37.541513,
          37.550632,
          37.567532,
          37.561184,
          37.560183,
          37.560183,
          37.558598,
          37.561391,
          37.568381,
          37.546936,
          37.572399,
          37.560183,
          37.560183,
          37.548768,
          37.578608,
          37.492888,
          37.493105,
          37.511426,
          37.530341,
          37.520733,
          37.513262,
          37.499703,
          37.502057,
          37.516269,
          37.508857,
          37.504738,
          37.511687,
          37.493105,
          37.513262,
          37.478703,
          37.478703,
          37.505208,
          37.502057,
          37.492888,
          37.508857,
          37.538113,
          37.517409,
          37.513262,
          37.519683,
          37.588458,
          37.588458,
          37.603133,
          37.603407,
          37.606377,
          37.606377,
          37.601948,
          37.614872,
          37.588458,
          37.590508,
          37.612072,
          37.603133,
          37.585286,
          37.601948,
          37.614872,
          37.592467,
          37.592467,
          37.594917,
          37.59955,
          37.606596,
          37.610637,
          37.610637,
          37.617283,
          37.580894,
          37.595577,
          37.613174,
          37.606596,
          37.573647,
          37.573647,
          37.602545,
          37.588579,
          37.595577,
          37.620064,
          37.595577,
          37.594917,
          37.594917,
          37.573647,
          37.602545,
          37.612887,
          37.613174,
          37.610637,
          37.610637,
          37.602545,
          37.594917,
          37.59955,
          37.62667,
          37.638052,
          37.638052,
          37.641537,
          37.65603,
          37.62667,
          37.62667,
          37.613292,
          37.662909,
          37.65603,
          37.649502,
          37.641537,
          37.626914,
          37.621337,
          37.638052,
          37.649502,
          37.649502,
          37.638052,
          37.662909,
          37.614872,
          37.623632,
          37.618294,
          37.625742,
          37.620064,
          37.636352,
          37.660878,
          37.67785,
          37.67785,
          37.670272,
          37.65627,
          37.618294,
          37.65627,
          37.654836,
          37.644583,
          37.644583,
          37.654836,
          37.618294,
          37.66494,
          37.66494,
          37.644799,
          37.689241,
          37.648627,
          37.653007,
          37.667503,
          37.679563,
          37.667503,
          37.667503,
          37.65603,
          37.65603,
          37.648627,
          37.466613,
          37.455626,
          37.455626,
          37.466613,
          37.480338,
          37.480338,
          37.514287,
          37.508787,
          37.485266,
          37.493243,
          37.494594,
          37.494594,
          37.494526,
          37.492092,
          37.503039,
          37.486637,
          37.508787,
          37.493243,
          37.486056,
          37.486637,
          37.503039,
          37.496756,
          37.496756,
          37.512887,
          37.499872,
          37.504898,
          37.499701,
          37.499701,
          37.504898,
          37.502834,
          37.50877,
          37.50877,
          37.485196,
          37.476955,
          37.502878,
          37.502878,
          37.513534,
          37.514149,
          37.484596,
          37.513342,
          37.513342,
          37.496029,
          37.513534,
          37.512887,
          37.513342,
          37.485196,
          37.476955,
          37.482362,
          37.481247,
          37.481247,
          37.481247,
          37.484201,
          37.484201,
          37.47693,
          37.47693,
          37.47693,
          37.482362,
          37.481247,
          37.487462,
          37.482362,
          37.447211,
          37.503415,
          37.503415,
          37.50598,
          37.501364,
          37.476955,
          37.487618,
          37.485196,
          37.485013,
          37.493025,
          37.483809,
          37.470023,
          37.512759,
          37.491897,
          37.487618,
          37.470023,
          37.493025,
          37.463873,
          37.485013,
          37.504598,
          37.511093,
          37.527072,
          37.517179,
          37.514219,
          37.508844,
          37.513011,
          37.491224,
          37.496663,
          37.508844,
          37.504856,
          37.483809,
          37.486947,
          37.491373,
          37.483681,
          37.493514,
          37.517179,
          37.508844,
          37.496237,
          37.494612,
          37.489116,
          37.487472,
          37.487472,
          37.487472,
          37.507287,
          37.514229,
          37.491373,
          37.491224,
          37.496237,
          37.496237,
          37.514219,
          37.514219,
          37.496663,
          37.504598,
          37.527381,
          37.500622,
          37.494612,
          37.491897,
          37.516334,
          37.485196,
          37.504206,
          37.503415,
          37.504598,
          37.471052,
          37.514692,
          37.504738,
          37.502558,
          37.510372,
          37.516404,
          37.516269,
          37.495918,
          37.485855,
          37.502558,
          37.511687,
          37.505208,
          37.495918,
          37.565543,
          37.565543,
          37.565543,
          37.531768,
          37.508787,
          37.614872,
          37.644583,
          37.563515,
          37.576958,
          37.557438,
          37.557345,
          37.582299,
          37.574571,
          37.559704,
          37.555131,
          37.50008,
          37.515504,
          37.517933,
          37.47693,
          37.481247,
          37.570926,
          37.576477,
          37.570161,
          37.57254,
          37.570926,
          37.57093,
          37.572279,
          37.579661,
          37.582336,
          37.574571,
          37.556897,
          37.565923,
          37.549946,
          37.564354,
          37.556897,
          37.540786,
          37.540786,
          37.555273,
          37.555273,
          37.564354,
          37.547184,
          37.5661,
          37.554548,
          37.540786,
          37.548014,
          37.561904,
          37.508844,
          37.513011,
          37.514219,
          37.514229,
          37.519365,
          37.491373,
          37.513011,
          37.493514,
          37.510297,
          37.486839,
          37.486839,
          37.486839,
          37.527788,
          37.535804,
          37.537801,
          37.55749,
          37.55749,
          37.527788,
          37.519683,
          37.567532,
          37.567532,
          37.558598,
          37.558598,
          37.557402,
          37.567532,
          37.561184,
          37.561184,
          37.47693,
          37.548014,
          37.548014,
          37.494594,
          37.466613,
          37.455626,
          37.636352,
          37.670272,
          37.633212,
          37.636352,
          37.625742,
          37.653007,
          37.58946,
          37.485266,
          37.499701,
          37.513342,
          37.547456,
          37.576958,
          37.470023,
          37.503367,
          37.503367,
          37.481426,
          37.484477,
          37.554548,
          37.610537,
          37.586272,
          37.508857,
          37.493105,
          37.492888,
          37.520733,
          37.520733,
          37.514692,
          37.478703,
          37.520074,
          37.512398,
          37.517623,
          37.525569,
          37.522669,
          37.522427,
          37.535534,
          37.534488,
          37.538579,
          37.610873,
          37.600927,
          37.598605,
          37.559704,
          37.556228,
          37.566306,
          37.566014,
          37.565715,
          37.566014,
          37.566014,
          37.554263,
          37.560989,
          37.564665,
          37.554337,
          37.595577,
          37.59955,
          37.492888,
          37.516404,
          37.517409,
          37.498079,
          37.498079,
          37.519683,
          37.49499,
          37.560183,
          37.572399,
          37.560183,
          37.560183,
          37.568381,
          37.571525,
          37.563588,
          37.55137,
          37.620238,
          37.527072,
          37.471052,
          37.495918,
          37.559052,
          37.565715,
          37.557231,
          37.47693,
          37.502558
         ],
         "legendgroup": "",
         "lon": [
          126.910052,
          126.910052,
          126.913808,
          126.913366,
          126.913366,
          126.922852,
          126.922852,
          126.923708,
          126.923708,
          126.926715,
          126.931993,
          126.935711,
          126.936926,
          126.936926,
          126.936926,
          126.936926,
          126.909645,
          126.942597,
          126.956141,
          126.951678,
          126.952024,
          126.952024,
          126.945932,
          126.945932,
          126.935711,
          126.915487,
          126.95682,
          126.946013,
          126.950291,
          126.966641,
          126.966641,
          126.915487,
          126.9629,
          126.901391,
          126.917874,
          126.917874,
          126.932901,
          126.92403,
          126.92403,
          126.92403,
          126.928422,
          126.928422,
          126.893525,
          126.89503,
          126.886129,
          126.89476,
          126.89476,
          126.902809,
          126.920428,
          126.90993,
          126.914839,
          126.926382,
          126.902767,
          126.907628,
          126.905139,
          126.97353,
          126.97353,
          126.97717,
          126.97717,
          126.97717,
          126.982923,
          126.982923,
          126.982618,
          126.982618,
          126.985443,
          126.991791,
          126.991791,
          126.99408,
          127.001844,
          127.007885,
          127.015653,
          127.023242,
          127.015241,
          126.957748,
          126.975411,
          127.005602,
          127.010358,
          127.013986,
          126.972135,
          127.005602,
          127.010358,
          127.016146,
          126.982923,
          126.998032,
          126.99408,
          127.009287,
          126.992548,
          126.898609,
          126.901391,
          126.899298,
          126.899298,
          126.982618,
          126.946013,
          126.942069,
          126.971134,
          127.001849,
          127.009287,
          126.97717,
          126.97353,
          126.978246,
          126.978246,
          126.998032,
          127.007885,
          127.007885,
          127.005602,
          127.010358,
          127.016146,
          127.007055,
          126.97103,
          127.074658,
          127.066704,
          127.055961,
          127.044707,
          127.029354,
          127.037059,
          127.015872,
          127.064623,
          127.029476,
          127.052704,
          127.079338,
          127.094681,
          127.094681,
          127.089761,
          127.037059,
          127.044707,
          127.015872,
          127.018672,
          127.055961,
          127.074658,
          127.089761,
          127.10357,
          127.042973,
          127.074658,
          127.066704,
          127.055961,
          127.024932,
          127.067325,
          127.023242,
          127.034893,
          127.044585,
          127.038091,
          127.046481,
          127.064623,
          127.067325,
          127.034893,
          127.063549,
          127.023242,
          127.044585,
          126.874916,
          126.875181,
          126.865689,
          126.88308,
          126.875181,
          126.875181,
          126.88308,
          126.864931,
          126.874916,
          126.865689,
          126.852912,
          126.865819,
          127.001725,
          126.972556,
          126.988537,
          127.009169,
          126.986695,
          126.9726,
          126.967894,
          126.9726,
          126.9713,
          126.972106,
          126.986695,
          126.973406,
          126.961384,
          126.9713,
          126.972106,
          126.967894,
          126.986695,
          126.974032,
          126.974032,
          126.964561,
          127.001725,
          126.973406,
          126.986695,
          126.988537,
          126.918821,
          126.920625,
          126.915577,
          126.922744,
          126.913629,
          126.909645,
          126.935756,
          126.920625,
          126.92982,
          126.920625,
          126.91727,
          126.933031,
          126.901391,
          126.920625,
          126.91727,
          126.918821,
          126.92939,
          126.895611,
          126.935756,
          126.913629,
          126.915577,
          127.127562,
          127.123254,
          127.120508,
          127.154151,
          127.142853,
          127.136248,
          127.148739,
          127.154151,
          127.132481,
          127.148739,
          127.143999,
          127.166417,
          126.812741,
          126.810678,
          126.810678,
          126.865689,
          126.861939,
          126.837668,
          126.836318,
          126.840461,
          126.840461,
          126.840461,
          126.865689,
          126.816601,
          126.811973,
          126.825448,
          126.825448,
          126.837668,
          126.854456,
          126.841333,
          126.874916,
          126.806171,
          126.825448,
          126.825448,
          126.836318,
          126.798153,
          127.118398,
          127.14415,
          127.076275,
          127.120508,
          127.10379,
          127.100159,
          127.112183,
          127.127938,
          127.130288,
          127.126133,
          127.088025,
          127.086162,
          127.14415,
          127.100159,
          127.126191,
          127.126191,
          127.10704,
          127.127938,
          127.118398,
          127.126133,
          127.123254,
          127.112359,
          127.100159,
          127.137989,
          127.006221,
          127.006221,
          127.013396,
          127.025053,
          127.048491,
          127.048491,
          127.041518,
          127.065595,
          127.006221,
          127.036296,
          127.008251,
          127.013396,
          127.019381,
          127.041518,
          127.065595,
          127.016516,
          127.016516,
          127.076116,
          127.091909,
          127.107906,
          127.077725,
          127.077725,
          127.091401,
          127.088478,
          127.085716,
          127.102231,
          127.107906,
          127.086727,
          127.086727,
          127.079264,
          127.087503,
          127.085716,
          127.084689,
          127.085716,
          127.076116,
          127.076116,
          127.086727,
          127.079264,
          127.103218,
          127.102231,
          127.077725,
          127.077725,
          127.079264,
          127.076116,
          127.091909,
          127.025983,
          127.025732,
          127.025732,
          127.016789,
          127.013273,
          127.025983,
          127.025983,
          127.030053,
          127.012706,
          127.013273,
          127.013684,
          127.016789,
          127.018106,
          127.020473,
          127.025732,
          127.013684,
          127.013684,
          127.025732,
          127.012706,
          127.065595,
          127.061835,
          127.075397,
          127.072896,
          127.084689,
          127.06799,
          127.073572,
          127.055315,
          127.055315,
          127.079066,
          127.063276,
          127.075397,
          127.063276,
          127.060462,
          127.064303,
          127.064303,
          127.060462,
          127.075397,
          127.057675,
          127.057675,
          127.051269,
          127.046509,
          127.034709,
          127.047806,
          127.044273,
          127.045595,
          127.044273,
          127.044273,
          127.013273,
          127.013273,
          127.034709,
          126.889249,
          126.89398,
          126.89398,
          126.889249,
          126.882656,
          126.882656,
          126.882768,
          126.891144,
          126.901401,
          126.894932,
          126.85968,
          126.85968,
          126.845365,
          126.823023,
          126.881966,
          126.838713,
          126.891144,
          126.894932,
          126.887249,
          126.838713,
          126.881966,
          126.870793,
          126.870793,
          126.953222,
          126.920428,
          126.93915,
          126.928276,
          126.928276,
          126.93915,
          126.94791,
          126.963708,
          126.963708,
          126.981605,
          126.981651,
          126.978153,
          126.978153,
          126.941005,
          126.94271,
          126.971251,
          126.926382,
          126.926382,
          126.953822,
          126.941005,
          126.953222,
          126.926382,
          126.981605,
          126.981651,
          126.941892,
          126.952739,
          126.952739,
          126.952739,
          126.929715,
          126.929715,
          126.963693,
          126.963693,
          126.963693,
          126.941892,
          126.952739,
          126.913149,
          126.941892,
          127.055664,
          126.995925,
          126.995925,
          127.004403,
          126.987332,
          126.981651,
          126.993513,
          126.981605,
          127.016189,
          127.013786,
          127.034653,
          127.03842,
          127.01122,
          127.007917,
          126.993513,
          127.03842,
          127.013786,
          126.989134,
          127.016189,
          127.02506,
          127.021415,
          127.028461,
          127.041255,
          127.060245,
          127.06316,
          127.053282,
          127.055186,
          127.070594,
          127.06316,
          127.048807,
          127.034653,
          127.046769,
          127.07272,
          127.08439,
          127.079532,
          127.041255,
          127.06316,
          127.052873,
          127.063642,
          127.06614,
          127.101422,
          127.101422,
          127.101422,
          127.033868,
          127.031656,
          127.07272,
          127.055186,
          127.052873,
          127.052873,
          127.060245,
          127.060245,
          127.070594,
          127.02506,
          127.040534,
          127.036456,
          127.063642,
          127.007917,
          127.020114,
          126.981605,
          127.015259,
          126.995925,
          127.02506,
          127.126732,
          127.104338,
          127.088025,
          127.097033,
          127.112216,
          127.116503,
          127.130288,
          127.12454,
          127.1225,
          127.097033,
          127.086162,
          127.10704,
          127.12454,
          126.827378,
          126.827378,
          126.827378,
          126.846683,
          126.891144,
          127.065595,
          127.064303,
          126.903343,
          126.898609,
          126.926715,
          126.956141,
          126.950291,
          126.957748,
          126.964378,
          126.936926,
          126.90993,
          126.907628,
          126.89476,
          126.963693,
          126.952739,
          127.001849,
          126.985443,
          126.982923,
          126.990305,
          127.001849,
          127.009287,
          127.015653,
          127.015241,
          127.001844,
          126.957748,
          127.079338,
          127.08432,
          127.034538,
          127.029354,
          127.079338,
          127.071011,
          127.071011,
          127.043655,
          127.043655,
          127.029354,
          127.047367,
          127.042973,
          127.020331,
          127.071011,
          127.074658,
          127.050899,
          127.06316,
          127.053282,
          127.060245,
          127.031656,
          127.05335,
          127.07272,
          127.053282,
          127.079532,
          127.043999,
          127.058856,
          127.058856,
          127.058856,
          127.136248,
          127.132481,
          127.140004,
          127.17593,
          127.17593,
          127.136248,
          127.137989,
          126.816601,
          126.816601,
          126.837668,
          126.837668,
          126.861939,
          126.816601,
          126.811973,
          126.811973,
          126.963693,
          127.074658,
          127.074658,
          126.85968,
          126.889249,
          126.89398,
          127.06799,
          127.079066,
          127.058831,
          127.06799,
          127.072896,
          127.047806,
          127.057583,
          126.901401,
          126.928276,
          126.926382,
          126.931993,
          126.898609,
          127.03842,
          127.005068,
          127.005068,
          126.997596,
          127.033902,
          127.020331,
          127.056431,
          127.029005,
          127.126133,
          127.14415,
          127.118398,
          127.10379,
          127.10379,
          127.104338,
          127.126191,
          126.852912,
          126.865819,
          126.914839,
          126.886129,
          126.905139,
          126.973406,
          126.974032,
          126.994302,
          126.96221,
          126.92939,
          126.935756,
          126.915577,
          126.964378,
          126.972135,
          126.991696,
          126.982618,
          126.977088,
          126.982618,
          126.982618,
          127.010358,
          126.986325,
          127.005353,
          126.971134,
          127.085716,
          127.091909,
          127.118398,
          127.116503,
          127.112359,
          127.13482,
          127.13482,
          127.137989,
          127.152781,
          126.825448,
          126.806171,
          126.825448,
          126.825448,
          126.841333,
          126.97717,
          126.975411,
          127.143999,
          127.013626,
          127.028461,
          127.126732,
          127.12454,
          127.005602,
          126.977088,
          126.97103,
          126.963693,
          127.097033
         ],
         "marker": {
          "color": "red",
          "opacity": 0.5
         },
         "mode": "markers",
         "name": "",
         "showlegend": false,
         "subplot": "mapbox",
         "type": "scattermapbox"
        },
        {
         "customdata": [
          [
           "망원역 1번출구 앞",
           "마포구",
           "2015-09-06"
          ],
          [
           "망원역 2번출구 앞",
           "마포구",
           "2015-09-06"
          ],
          [
           "합정역 1번출구 앞",
           "마포구",
           "2015-09-06"
          ],
          [
           "합정역 5번출구 앞",
           "마포구",
           "2015-09-06"
          ],
          [
           "합정역 7번출구 앞",
           "마포구",
           "2015-09-06"
          ],
          [
           "신한은행 서교동금융센터점 앞",
           "마포구",
           "2015-09-06"
          ],
          [
           "서교동 사거리",
           "마포구",
           "2015-09-06"
          ],
          [
           "제일빌딩 앞",
           "마포구",
           "2015-09-07"
          ],
          [
           "상수역 2번출구 앞",
           "마포구",
           "2015-09-07"
          ],
          [
           "극동방송국 앞",
           "마포구",
           "2015-09-07"
          ],
          [
           "홍대입구역 2번출구 앞",
           "마포구",
           "2021-05-20"
          ],
          [
           "홍대입구역 8번출구 앞",
           "마포구",
           "2015-09-07"
          ],
          [
           "마스타 빌딩 앞",
           "서대문구",
           "2020-11-05"
          ],
          [
           "일진아이윌아파트 옆",
           "서대문구",
           "2015-09-07"
          ],
          [
           "홍은사거리",
           "서대문구",
           "2015-09-07"
          ],
          [
           "광흥창역 2번출구 앞",
           "마포구",
           "2015-09-07"
          ],
          [
           "서강나루 공원",
           "마포구",
           "2015-09-07"
          ],
          [
           "신수동 사거리",
           "마포구",
           "2015-09-07"
          ],
          [
           "마포소방서 앞",
           "마포구",
           "2015-09-07"
          ],
          [
           "신성기사식당 앞",
           "마포구",
           "2015-09-07"
          ],
          [
           "문화촌 공원",
           "서대문구",
           "2015-09-07"
          ],
          [
           "서강대 정문 건너편",
           "마포구",
           "2015-09-07"
          ],
          [
           "서강대 남문 옆",
           "마포구",
           "2015-09-07"
          ],
          [
           "서강대 후문 옆",
           "마포구",
           "2015-09-07"
          ],
          [
           "현대벤처빌 앞",
           "마포구",
           "2015-09-07"
          ],
          [
           "신촌역(2호선) 1번출구 옆",
           "서대문구",
           "2015-09-07"
          ],
          [
           "신촌역(2호선) 6번출구 옆",
           "마포구",
           "2015-09-07"
          ],
          [
           "신촌역(2호선) 7번출구 앞",
           "마포구",
           "2015-09-07"
          ],
          [
           "증산2교",
           "서대문구",
           "2015-09-07"
          ],
          [
           "해담는다리",
           "서대문구",
           "2015-09-07"
          ],
          [
           "연세로 명물길",
           "서대문구",
           "2020-10-29"
          ],
          [
           "명물길 원형무대 앞",
           "서대문구",
           "2015-09-07"
          ],
          [
           "NH농협 신촌지점 앞",
           "서대문구",
           "2015-09-07"
          ],
          [
           "신촌동 제1공영주차장 앞",
           "서대문구",
           "2015-09-07"
          ],
          [
           "연세대 정문 건너편",
           "서대문구",
           "2015-09-07"
          ],
          [
           "이화여대 후문",
           "서대문구",
           "2015-09-07"
          ],
          [
           "연대 대운동장 옆",
           "서대문구",
           "2015-09-07"
          ],
          [
           "아현역 4번출구 앞",
           "마포구",
           "2016-06-29"
          ],
          [
           "공덕역 2번출구",
           "마포구",
           "2016-06-29"
          ],
          [
           "공덕역 8번출구",
           "마포구",
           "2016-06-29"
          ],
          [
           "공덕역 5번출구",
           "마포구",
           "2016-06-29"
          ],
          [
           "마포역 2번출구 뒤",
           "마포구",
           "2016-06-29"
          ],
          [
           "마포역 4번출구 뒤",
           "마포구",
           "2016-06-29"
          ],
          [
           "용강동 주민센터 앞",
           "마포구",
           "2016-06-29"
          ],
          [
           "서강대역 2번출구 앞",
           "마포구",
           "2016-06-29"
          ],
          [
           "성산2교 사거리",
           "마포구",
           "2016-06-29"
          ],
          [
           "마포구청역",
           "마포구",
           "2016-06-29"
          ],
          [
           "가좌역1 번출구 뒤",
           "마포구",
           "2016-06-29"
          ],
          [
           "서울서부지방법원 앞",
           "마포구",
           "2016-06-29"
          ],
          [
           "애오개역 4번출구 앞",
           "마포구",
           "2016-06-29"
          ],
          [
           "이대역 4번 출구",
           "서대문구",
           "2016-06-29"
          ],
          [
           "북아현동 가구거리",
           "서대문구",
           "2016-06-29"
          ],
          [
           "무악재역1번 출구",
           "서대문구",
           "2016-06-29"
          ],
          [
           "봉원고가차도 밑",
           "서대문구",
           "2016-06-29"
          ],
          [
           "명지전문대학교 정문 앞",
           "서대문구",
           "2016-06-29"
          ],
          [
           "북가좌1동 주민센터",
           "서대문구",
           "2016-06-29"
          ],
          [
           "중앙근린공원",
           "서대문구",
           "2016-06-29"
          ],
          [
           "가재울 초등학교",
           "서대문구",
           "2016-06-29"
          ],
          [
           "연가초등학교 옆",
           "서대문구",
           "2016-06-29"
          ],
          [
           "북가좌 삼거리",
           "서대문구",
           "2016-06-29"
          ],
          [
           "가재울 뉴타운 주유소 옆",
           "서대문구",
           "2016-06-29"
          ],
          [
           "임광빌딩 앞",
           "서대문구",
           "2016-06-29"
          ],
          [
           "서대문역 8번출구 앞",
           "서대문구",
           "2016-06-29"
          ],
          [
           "홍연2교옆",
           "서대문구",
           "2016-06-29"
          ],
          [
           "명지대학교 도서관",
           "서대문구",
           "2017-04-24"
          ],
          [
           "북가좌 초등학교",
           "서대문구",
           "2016-07-06"
          ],
          [
           "증산3교 앞",
           "서대문구",
           "2016-07-06"
          ],
          [
           "가좌역 4번출구 앞",
           "서대문구",
           "2016-06-29"
          ],
          [
           "충정로역 7번출구 아래",
           "서대문구",
           "2016-06-29"
          ],
          [
           "망원초록길 입구",
           "마포구",
           "2016-07-06"
          ],
          [
           "망원2빗물펌프장 앞",
           "마포구",
           "2021-05-25"
          ],
          [
           "하늘채코오롱아파트 건너편",
           "마포구",
           "2016-07-06"
          ],
          [
           "SK망원동주유소 건너편",
           "마포구",
           "2016-07-06"
          ],
          [
           "마포 신수공원 앞",
           "마포구",
           "2016-07-06"
          ],
          [
           "월드컵공원",
           "마포구",
           "2016-07-06"
          ],
          [
           "홍은동 정원여중 입구",
           "서대문구",
           "2016-07-06"
          ],
          [
           "서우빌딩(바른학원)",
           "서대문구",
           "2016-07-06"
          ],
          [
           "연서어린이공원",
           "서대문구",
           "2016-07-06"
          ],
          [
           "증산교 앞",
           "서대문구",
           "2016-07-06"
          ],
          [
           "모래내고가차도",
           "서대문구",
           "2016-07-06"
          ],
          [
           "연희교차로 인근",
           "서대문구",
           "2016-07-06"
          ],
          [
           "충정2교",
           "서대문구",
           "2016-07-06"
          ],
          [
           "서울 월드컵 경기장",
           "마포구",
           "2016-09-02"
          ],
          [
           "국회의원회관",
           "영등포구",
           "2015-09-11"
          ],
          [
           "진미파라곤 앞",
           "영등포구",
           "2015-09-11"
          ],
          [
           "국민일보 앞",
           "영등포구",
           "2015-09-11"
          ],
          [
           "국회의사당역 3번출구 옆",
           "영등포구",
           "2015-09-17"
          ],
          [
           "국회의사당역 5번출구 옆",
           "영등포구",
           "2015-09-17"
          ],
          [
           "산업은행 앞",
           "영등포구",
           "2015-09-17"
          ],
          [
           "KBS 앞",
           "영등포구",
           "2015-09-17"
          ],
          [
           "여의나루역 1번출구 앞",
           "영등포구",
           "2015-09-17"
          ],
          [
           "유진투자증권빌딩 앞",
           "영등포구",
           "2015-09-17"
          ],
          [
           "IFC몰",
           "영등포구",
           "2015-09-17"
          ],
          [
           "여의도역 4번출구 옆",
           "영등포구",
           "2015-09-17"
          ],
          [
           "여의도역 1번출구 옆",
           "영등포구",
           "2015-09-17"
          ],
          [
           "KT앞",
           "영등포구",
           "2015-09-17"
          ],
          [
           "금융감독원 앞",
           "영등포구",
           "2015-09-17"
          ],
          [
           "여의도고교 앞",
           "영등포구",
           "2015-09-17"
          ],
          [
           "NH농협은행 앞",
           "영등포구",
           "2015-09-17"
          ],
          [
           "롯데캐슬엠파이어 옆",
           "영등포구",
           "2015-09-17"
          ],
          [
           "미성아파트 A동 앞",
           "영등포구",
           "2015-09-17"
          ],
          [
           "여의도초교 앞",
           "영등포구",
           "2015-09-17"
          ],
          [
           "시범아파트버스정류장 옆",
           "영등포구",
           "2020-09-24"
          ],
          [
           "진주아파트상가 앞",
           "영등포구",
           "2015-09-17"
          ],
          [
           "롯데캐슬 앞",
           "영등포구",
           "2015-09-17"
          ],
          [
           "앙카라공원 앞",
           "영등포구",
           "2015-09-17"
          ],
          [
           "샛강역 1번출구 앞",
           "영등포구",
           "2015-09-17"
          ],
          [
           "양평2나들목 보행통로 입구",
           "영등포구",
           "2016-06-29"
          ],
          [
           "선유도역 3번출구 앞",
           "영등포구",
           "2016-06-29"
          ],
          [
           "양평1 보행육교 앞",
           "영등포구",
           "2016-06-29"
          ],
          [
           "영등포구청역 1번출구",
           "영등포구",
           "2016-07-06"
          ],
          [
           "남부고용노동지청 남측",
           "영등포구",
           "2016-06-29"
          ],
          [
           "양평우림 이비즈센타 앞",
           "영등포구",
           "2016-06-29"
          ],
          [
           "YP 센터 앞",
           "영등포구",
           "2016-06-29"
          ],
          [
           "영등포구민체육센터 앞",
           "영등포구",
           "2016-06-29"
          ],
          [
           "신길동 우리은행 옆",
           "영등포구",
           "2016-06-29"
          ],
          [
           "문래동자이아파트 앞",
           "영등포구",
           "2016-06-29"
          ],
          [
           "보라매 두산위브 건너편",
           "동작구",
           "2016-06-29"
          ],
          [
           "제2구민체육센타 앞",
           "영등포구",
           "2016-06-29"
          ],
          [
           "유스호스텔 앞",
           "영등포구",
           "2016-06-29"
          ],
          [
           "문래역 4번출구 앞",
           "영등포구",
           "2016-06-29"
          ],
          [
           "신길우성1차아파트 앞 공원",
           "영등포구",
           "2016-06-29"
          ],
          [
           "신길선원가와인아파트 앞",
           "영등포구",
           "2016-06-29"
          ],
          [
           "이앤씨드림타워 앞",
           "영등포구",
           "2016-06-29"
          ],
          [
           "영등포삼환아파트 앞",
           "영등포구",
           "2016-06-29"
          ],
          [
           "삼성생명 당산사옥 앞",
           "영등포구",
           "2016-06-29"
          ],
          [
           "당산역 10번출구 앞",
           "영등포구",
           "2016-06-29"
          ],
          [
           "초원아파트 앞",
           "영등포구",
           "2016-06-29"
          ],
          [
           "여의도중학교 옆",
           "영등포구",
           "2016-06-29"
          ],
          [
           "대림아파트 사거리",
           "영등포구",
           "2016-06-29"
          ],
          [
           "서울지방병무청 버스정류장",
           "영등포구",
           "2016-06-29"
          ],
          [
           "보라매역4번출구",
           "영등포구",
           "2016-06-29"
          ],
          [
           "신풍역 5번출구 인근",
           "영등포구",
           "2016-06-29"
          ],
          [
           "도림신협 앞",
           "영등포구",
           "2016-06-29"
          ],
          [
           "도림사거리",
           "영등포구",
           "2016-06-29"
          ],
          [
           "동아에코빌입구",
           "영등포구",
           "2016-06-29"
          ],
          [
           "신길역3번출구",
           "영등포구",
           "2016-06-29"
          ],
          [
           "대방역6번출구",
           "영등포구",
           "2016-06-29"
          ],
          [
           "여의도 마리나선착장 앞",
           "영등포구",
           "2016-07-06"
          ],
          [
           "영문초등학교 사거리",
           "영등포구",
           "2016-07-06"
          ],
          [
           "근로자회관 사거리",
           "영등포구",
           "2016-07-06"
          ],
          [
           "교보생명보험 앞",
           "영등포구",
           "2016-07-06"
          ],
          [
           "영등포유통상가 사거리",
           "영등포구",
           "2016-07-06"
          ],
          [
           "영등포청과시장 사거리",
           "영등포구",
           "2016-07-06"
          ],
          [
           "삼성화재 사옥 옆",
           "영등포구",
           "2016-07-06"
          ],
          [
           "그랜드컨벤션센터 앞",
           "영등포구",
           "2016-07-06"
          ],
          [
           "증권거래소후문교차로",
           "영등포구",
           "2016-07-06"
          ],
          [
           "샛강생태공원방문자센터 앞",
           "영등포구",
           "2016-07-06"
          ],
          [
           "당산육갑문",
           "영등포구",
           "2016-07-06"
          ],
          [
           "영등포역지하쇼핑센타 5번출구",
           "영등포구",
           "2017-11-28"
          ],
          [
           "신동아아파트",
           "영등포구",
           "2017-11-28"
          ],
          [
           "SK 영등포주유소",
           "영등포구",
           "2017-11-28"
          ],
          [
           "영등포뉴타운지하상가 2번게이트",
           "영등포구",
           "2017-11-28"
          ],
          [
           "쌍용플레티넘오피스텔",
           "영등포구",
           "2017-11-28"
          ],
          [
           "영등포 푸르지오 아파트",
           "영등포구",
           "2017-12-22"
          ],
          [
           "양평동6차현대아파트 앞",
           "영등포구",
           "2018-09-28"
          ],
          [
           "신동아아파트 앞",
           "영등포구",
           "2018-09-28"
          ],
          [
           "신한은행",
           "영등포구",
           "2018-09-28"
          ],
          [
           "아크로타워 스퀘어(영등포시장)",
           "영등포구",
           "2018-09-28"
          ],
          [
           "센트럴 푸르지오 시티 앞",
           "영등포구",
           "2018-09-28"
          ],
          [
           "대림3동사거리(하나은행)",
           "영등포구",
           "2018-09-28"
          ],
          [
           "우성아파트 교차로",
           "영등포구",
           "2018-09-28"
          ],
          [
           "영등포전화국사거리 (서강어린이공원)",
           "영등포구",
           "2018-09-28"
          ],
          [
           "쌍용예가(구청별관)",
           "영등포구",
           "2018-12-06"
          ],
          [
           "대림3동사거리",
           "영등포구",
           "2018-11-21"
          ],
          [
           "당산동 SK V1 빌딩",
           "영등포구",
           "2018-12-04"
          ],
          [
           "문래동 하이테크 시티",
           "영등포구",
           "2018-11-21"
          ],
          [
           "영일 어린이공원",
           "영등포구",
           "2018-11-21"
          ],
          [
           "충북 미래관",
           "영등포구",
           "2018-12-04"
          ],
          [
           "영등포공원 분수대 앞",
           "영등포구",
           "2020-03-04"
          ],
          [
           "KT플라자 영등포점",
           "영등포구",
           "2020-03-05"
          ],
          [
           "국회3문",
           "영등포구",
           "2020-03-06"
          ],
          [
           "KBS 연구동 건너편",
           "영등포구",
           "2020-03-05"
          ],
          [
           "여의도 순복음교회",
           "영등포구",
           "2020-03-06"
          ],
          [
           "정동사거리",
           "중구",
           "2015-10-07"
          ],
          [
           "경복궁역 7번출구 앞",
           "종로구",
           "2015-10-07"
          ],
          [
           "경복궁역 4번출구 뒤",
           "종로구",
           "2015-10-07"
          ],
          [
           "광화문역 1번출구 앞",
           "종로구",
           "2015-10-07"
          ],
          [
           "종로구청 옆",
           "종로구",
           "2015-10-07"
          ],
          [
           "광화문역 7번출구 앞",
           "종로구",
           "2015-10-07"
          ],
          [
           "서울역사박물관 앞",
           "종로구",
           "2015-10-07"
          ],
          [
           "광화문 S타워 앞",
           "종로구",
           "2021-01-26"
          ],
          [
           "광화문역 6번출구 옆",
           "종로구",
           "2015-10-07"
          ],
          [
           "청계광장 옆",
           "중구",
           "2021-11-03"
          ],
          [
           "국립현대미술관",
           "종로구",
           "2015-10-07"
          ],
          [
           "종각역 1번출구 앞",
           "종로구",
           "2015-10-07"
          ],
          [
           "광교사거리 남측",
           "중구",
           "2015-10-07"
          ],
          [
           "을지로입구역 4번출구 앞",
           "중구",
           "2015-10-07"
          ],
          [
           "KEB 하나금융그룹 명동사옥 옆",
           "중구",
           "2015-10-07"
          ],
          [
           "명동성당 앞",
           "중구",
           "2015-10-07"
          ],
          [
           "신세계백화점 본점 앞",
           "중구",
           "2015-10-07"
          ],
          [
           "안국역 5번출구 앞",
           "종로구",
           "2015-10-07"
          ],
          [
           "낙원상가 옆",
           "종로구",
           "2015-10-07"
          ],
          [
           "탑골공원 앞",
           "종로구",
           "2015-10-07"
          ],
          [
           "청계2가 사거리 옆",
           "종로구",
           "2015-10-07"
          ],
          [
           "을지로2가 사거리 북측",
           "중구",
           "2020-07-28"
          ],
          [
           "을지로2가 사거리 남측",
           "중구",
           "2015-10-07"
          ],
          [
           "종로3가역 2번출구 뒤",
           "종로구",
           "2015-10-07"
          ],
          [
           "종로3가역 15번출구 앞",
           "종로구",
           "2015-10-07"
          ],
          [
           "티마크 호텔 앞",
           "중구",
           "2015-10-07"
          ],
          [
           "창경궁 입구",
           "종로구",
           "2015-10-07"
          ],
          [
           "세운스퀘어 앞",
           "종로구",
           "2015-10-07"
          ],
          [
           "종로4가 사거리",
           "종로구",
           "2015-10-07"
          ],
          [
           "혜화동 로터리",
           "종로구",
           "2015-10-07"
          ],
          [
           "혜화역 3번출구 뒤",
           "종로구",
           "2015-10-07"
          ],
          [
           "대학로 마로니에공원",
           "종로구",
           "2021-08-12"
          ],
          [
           "예일빌딩(율곡로) 앞",
           "종로구",
           "2021-01-08"
          ],
          [
           "성균관대 E하우스 앞",
           "종로구",
           "2015-10-07"
          ],
          [
           "서울보증보험본사 앞",
           "종로구",
           "2015-10-07"
          ],
          [
           "맥스타일 앞",
           "중구",
           "2015-10-07"
          ],
          [
           "동대문역사문화공원역 9번출구 앞",
           "중구",
           "2015-10-07"
          ],
          [
           "독립문역 사거리",
           "종로구",
           "2016-06-01"
          ],
          [
           "사직동주민센터",
           "종로구",
           "2016-06-01"
          ],
          [
           "청운초교 앞 삼거리",
           "종로구",
           "2016-06-01"
          ],
          [
           "중앙고입구 삼거리",
           "종로구",
           "2016-06-01"
          ],
          [
           "재동초교 앞 삼거리",
           "종로구",
           "2016-06-01"
          ],
          [
           "포르투갈 대사관 앞",
           "종로구",
           "2016-06-01"
          ],
          [
           "서울사대부속초교 앞",
           "종로구",
           "2016-06-01"
          ],
          [
           "KT혜화지사 앞",
           "종로구",
           "2016-06-01"
          ],
          [
           "성대입구 사거리",
           "종로구",
           "2016-06-01"
          ],
          [
           "원남동사거리",
           "종로구",
           "2016-06-01"
          ],
          [
           "동묘앞역 1번출구 뒤",
           "종로구",
           "2016-06-01"
          ],
          [
           "청계8가 사거리",
           "종로구",
           "2016-06-01"
          ],
          [
           "신설동역 11번출구 뒤",
           "종로구",
           "2016-06-01"
          ],
          [
           "창신역 1번출구 앞",
           "종로구",
           "2016-06-01"
          ],
          [
           "독립문역 3-1번출구",
           "종로구",
           "2016-06-01"
          ],
          [
           "SK 서린빌딩 앞",
           "종로구",
           "2016-06-01"
          ],
          [
           "광화문 시민열린마당",
           "종로구",
           "2016-06-01"
          ],
          [
           "시청역(2호선) 9번출구 뒤",
           "중구",
           "2016-06-15"
          ],
          [
           "동대입구역 6번출구 뒤",
           "중구",
           "2016-06-15"
          ],
          [
           "약수역 3번출구 뒤",
           "중구",
           "2016-06-15"
          ],
          [
           "청구역 2번출구 앞",
           "중구",
           "2016-06-15"
          ],
          [
           "서울역9번출구",
           "중구",
           "2016-06-15"
          ],
          [
           "CJ제일제당 앞",
           "중구",
           "2016-06-15"
          ],
          [
           "장충체육관",
           "중구",
           "2016-06-15"
          ],
          [
           "약수역 10번출구 앞",
           "중구",
           "2016-06-15"
          ],
          [
           "신당역 12번 출구 뒤",
           "중구",
           "2016-06-15"
          ],
          [
           "종로학원본원",
           "중구",
           "2016-06-15"
          ],
          [
           "종각역 5번출구",
           "종로구",
           "2016-07-06"
          ],
          [
           "훈련원공원주차장 앞",
           "중구",
           "2016-07-06"
          ],
          [
           "동성중학교 앞",
           "종로구",
           "2016-09-02"
          ],
          [
           "을지로4가역 1번출구",
           "중구",
           "2017-08-03"
          ],
          [
           "충무로역 1번출구",
           "중구",
           "2017-08-03"
          ],
          [
           "정동길입구",
           "중구",
           "2021-05-31"
          ],
          [
           "동대문역 8번 출구",
           "종로구",
           "2018-01-26"
          ],
          [
           "경희궁 자이 3단지",
           "종로구",
           "2020-10-06"
          ],
          [
           "경희궁 자이 2단지",
           "종로구",
           "2018-01-26"
          ],
          [
           "종묘공영주차장 건너편",
           "종로구",
           "2018-04-30"
          ],
          [
           "을지로3가역 3번출구",
           "중구",
           "2018-10-26"
          ],
          [
           "서울역 센트럴 자이아파트",
           "중구",
           "2018-10-12"
          ],
          [
           "상암한화오벨리스크 1차 앞",
           "마포구",
           "2015-10-07"
          ],
          [
           "상암월드컵파크 10단지 앞",
           "마포구",
           "2015-10-07"
          ],
          [
           "상암월드컵파크 9단지 앞",
           "마포구",
           "2015-10-07"
          ],
          [
           "부엉이공원 앞",
           "마포구",
           "2015-10-07"
          ],
          [
           "DMC빌 앞",
           "마포구",
           "2015-10-07"
          ],
          [
           "상암월드컵파크 7단지 앞",
           "마포구",
           "2015-10-07"
          ],
          [
           "마포구 육아종합지원센터",
           "마포구",
           "2015-10-07"
          ],
          [
           "LG CNS앞",
           "마포구",
           "2015-10-07"
          ],
          [
           "누리꿈스퀘어 옆",
           "마포구",
           "2015-10-07"
          ],
          [
           "상암중학교 옆",
           "마포구",
           "2015-10-07"
          ],
          [
           "DMC홍보관",
           "마포구",
           "2015-10-07"
          ],
          [
           "DMC산학협력연구센터 앞",
           "마포구",
           "2015-10-07"
          ],
          [
           "상암월드컵파크 3단지 후문",
           "마포구",
           "2015-10-07"
          ],
          [
           "상암동주민센터 옆",
           "마포구",
           "2015-10-07"
          ],
          [
           "DMC역 9번출구 앞",
           "마포구",
           "2015-10-07"
          ],
          [
           "상암월드컵파크 1단지 교차로",
           "마포구",
           "2015-10-07"
          ],
          [
           "DMC역 2번출구 옆",
           "마포구",
           "2015-10-07"
          ],
          [
           "월드컵경기장역 3번출구 옆",
           "마포구",
           "2015-10-07"
          ],
          [
           "홈플러스 앞",
           "마포구",
           "2015-10-07"
          ],
          [
           "서울시 공공자전거 상암센터",
           "마포구",
           "2015-10-07"
          ],
          [
           "마포구청 앞",
           "마포구",
           "2015-10-07"
          ],
          [
           "문화비축기지",
           "마포구",
           "2017-08-28"
          ],
          [
           "롯데하이마트 (상암월드컵점)",
           "마포구",
           "2017-11-01"
          ],
          [
           "DMC첨단산업센터",
           "마포구",
           "2017-11-01"
          ],
          [
           "서울신용보증재단",
           "마포구",
           "2018-07-04"
          ],
          [
           "성산시영아파트",
           "마포구",
           "2018-02-26"
          ],
          [
           "명보사거리",
           "중구",
           "2018-10-22"
          ],
          [
           "송도병원",
           "중구",
           "2018-10-22"
          ],
          [
           "KEB하나은행 장충동지점",
           "중구",
           "2018-11-02"
          ],
          [
           "청계천 영도교",
           "중구",
           "2020-09-24"
          ],
          [
           "마포중앙도서관",
           "마포구",
           "2018-10-12"
          ],
          [
           "을지로입구역 2번출구",
           "중구",
           "2018-12-14"
          ],
          [
           "신당 래미안 버스정류장",
           "중구",
           "2018-12-06"
          ],
          [
           "SK 남산빌딩",
           "중구",
           "2018-12-06"
          ],
          [
           "이대역 5번출구",
           "마포구",
           "2018-11-21"
          ],
          [
           "대흥역 1번출구",
           "마포구",
           "2018-12-04"
          ],
          [
           "성산2-1 공영주차장",
           "마포구",
           "2018-11-22"
          ],
          [
           "마포어린이공원",
           "마포구",
           "2018-12-06"
          ],
          [
           "하늘공원 입구",
           "마포구",
           "2019-08-02"
          ],
          [
           "염천교사거리",
           "중구",
           "2020-01-31"
          ],
          [
           "서울역 서부",
           "중구",
           "2020-02-03"
          ],
          [
           "호암아트홀",
           "중구",
           "2020-01-31"
          ],
          [
           "대한상공회의소",
           "중구",
           "2020-01-31"
          ],
          [
           "상명대입구",
           "종로구",
           "2017-08-01"
          ],
          [
           "신영동삼거리",
           "종로구",
           "2020-10-29"
          ],
          [
           "일성아파트",
           "종로구",
           "2017-08-01"
          ],
          [
           "효자동 삼거리",
           "종로구",
           "2017-09-07"
          ],
          [
           "청와대앞길",
           "종로구",
           "2017-09-07"
          ],
          [
           "동대문 종합시장 버스정류장",
           "종로구",
           "2018-10-23"
          ],
          [
           "종로오가 지하쇼핑센터 14번출구",
           "종로구",
           "2018-08-31"
          ],
          [
           "종로2가 버스정류장 (종각방향)",
           "종로구",
           "2018-08-31"
          ],
          [
           "삼익한의원",
           "종로구",
           "2018-08-30"
          ],
          [
           "숭인2동 주민센터 입구 (이강3대냉면)",
           "종로구",
           "2018-08-30"
          ],
          [
           "종로꽃시장 입구 옆",
           "종로구",
           "2018-08-30"
          ],
          [
           "광화문역 5번출구",
           "종로구",
           "2018-08-31"
          ],
          [
           "서울지방경찰청",
           "종로구",
           "2018-10-29"
          ],
          [
           "신영동삼거리(북악터널방향)",
           "종로구",
           "2019-06-20"
          ],
          [
           "삼청동 골목",
           "종로구",
           "2019-08-16"
          ],
          [
           "삼청공원 앞",
           "종로구",
           "2019-11-20"
          ],
          [
           "롯데호텔",
           "중구",
           "2020-02-28"
          ],
          [
           "한국은행",
           "중구",
           "2020-01-31"
          ],
          [
           "웨스틴 조선호텔",
           "중구",
           "2020-01-31"
          ],
          [
           "회현역 1번출구",
           "중구",
           "2020-01-31"
          ],
          [
           "회현역 7번출구",
           "중구",
           "2020-01-31"
          ],
          [
           "회현사거리 남측",
           "중구",
           "2020-01-31"
          ],
          [
           "삼일교(시그니쳐 타워)",
           "중구",
           "2020-01-30"
          ],
          [
           "을지로4가역 9번출구",
           "중구",
           "2020-03-01"
          ],
          [
           "동대문역사문화공원역 1번출구 뒤편",
           "중구",
           "2020-01-29"
          ],
          [
           "ddp패션몰",
           "중구",
           "2020-01-29"
          ],
          [
           "광희문",
           "중구",
           "2020-01-29"
          ],
          [
           "앰배서더 호텔 주변",
           "중구",
           "2020-01-30"
          ],
          [
           "동대입구역 3번 출구",
           "중구",
           "2020-01-30"
          ],
          [
           "약수역 6번 출구",
           "중구",
           "2020-01-30"
          ],
          [
           "신당역 10번 출구",
           "중구",
           "2020-01-29"
          ],
          [
           "남산타운아파트 버스정류장",
           "중구",
           "2020-01-29"
          ],
          [
           "도동삼거리",
           "중구",
           "2020-02-13"
          ],
          [
           "서울역4번출구",
           "중구",
           "2020-02-03"
          ],
          [
           "평창동주민센터 앞",
           "종로구",
           "2020-03-11"
          ],
          [
           "신석초교앞 교차로 교통섬",
           "마포구",
           "2020-04-03"
          ],
          [
           "푸르메병원",
           "마포구",
           "2020-04-06"
          ],
          [
           "구룡근린공원",
           "마포구",
           "2020-04-06"
          ],
          [
           "가온문화공원",
           "마포구",
           "2020-04-06"
          ],
          [
           "월드컵파크 4단지",
           "마포구",
           "2020-04-06"
          ],
          [
           "성산시영아파트 후문",
           "마포구",
           "2020-06-03"
          ],
          [
           "홍대입구역 6번출구",
           "마포구",
           "2020-04-12"
          ],
          [
           "신수동주민센터",
           "마포구",
           "2020-09-16"
          ],
          [
           "염리초등학교 앞",
           "마포구",
           "2020-03-26"
          ],
          [
           "합정동주민센터 앞",
           "마포구",
           "2020-04-06"
          ],
          [
           "연남동주민센터 앞",
           "마포구",
           "2020-04-08"
          ],
          [
           "어린이대공원역 3번출구 앞",
           "광진구",
           "2015-10-07"
          ],
          [
           "광진구의회 앞",
           "광진구",
           "2015-10-07"
          ],
          [
           "뚝섬유원지역 1번출구 앞",
           "광진구",
           "2015-10-07"
          ],
          [
           "자양사거리 광진아크로텔 앞",
           "광진구",
           "2015-10-07"
          ],
          [
           "금호 어울림 아파트 앞",
           "성동구",
           "2015-10-07"
          ],
          [
           "성수아이에스비즈타워 앞",
           "성동구",
           "2015-10-07"
          ],
          [
           "성수아카데미타워 앞",
           "성동구",
           "2015-10-07"
          ],
          [
           "이마트 버스정류소 옆",
           "성동구",
           "2015-10-07"
          ],
          [
           "서울숲 남문 버스정류소 옆",
           "성동구",
           "2015-10-07"
          ],
          [
           "서울숲역 4번 출구 옆",
           "성동구",
           "2015-10-07"
          ],
          [
           "뚝섬역 1번 출구 옆",
           "성동구",
           "2015-10-07"
          ],
          [
           "뚝섬역 5번 출구 정류소 옆",
           "성동구",
           "2015-10-07"
          ],
          [
           "성수사거리 버스정류장 앞",
           "성동구",
           "2015-10-07"
          ],
          [
           "광양중학교 앞",
           "광진구",
           "2015-10-07"
          ],
          [
           "광진메디칼 앞",
           "광진구",
           "2015-10-07"
          ],
          [
           "청계천 박물관 앞",
           "성동구",
           "2016-06-29"
          ],
          [
           "양지사거리",
           "성동구",
           "2016-06-29"
          ],
          [
           "상왕십리역 4번 출구 앞",
           "성동구",
           "2016-06-29"
          ],
          [
           "왕십리역 11번 출구 앞",
           "성동구",
           "2016-06-29"
          ],
          [
           "금호역 1번출구 앞",
           "성동구",
           "2016-06-29"
          ],
          [
           "옥수동성당 옆",
           "성동구",
           "2016-06-29"
          ],
          [
           "래미안금호하이리버 아파트 102동 옆",
           "성동구",
           "2016-06-29"
          ],
          [
           "한양대병원사거리",
           "성동구",
           "2016-06-29"
          ],
          [
           "용답토속공원 앞",
           "성동구",
           "2016-06-29"
          ],
          [
           "장한평역 8번 출구 앞",
           "성동구",
           "2016-06-29"
          ],
          [
           "청계벽산아파트 앞",
           "성동구",
           "2016-06-29"
          ],
          [
           "우리은행 금호동 지점 앞",
           "성동구",
           "2016-06-29"
          ],
          [
           "금호사거리",
           "성동구",
           "2016-06-29"
          ],
          [
           "응봉삼거리",
           "성동구",
           "2016-06-29"
          ],
          [
           "행당역 2번출구 앞",
           "성동구",
           "2016-06-29"
          ],
          [
           "한양대후문역 부근",
           "성동구",
           "2016-06-29"
          ],
          [
           "답십리역 8번출구 앞",
           "성동구",
           "2016-06-29"
          ],
          [
           "군자교교차로",
           "광진구",
           "2016-06-29"
          ],
          [
           "군자역 7번출구 베스트샵 앞",
           "광진구",
           "2016-06-29"
          ],
          [
           "강변역 4번출구 뒤",
           "광진구",
           "2016-06-29"
          ],
          [
           "구의공원(테크노마트 앞)",
           "광진구",
           "2020-09-02"
          ],
          [
           "광남중학교",
           "광진구",
           "2016-06-29"
          ],
          [
           "잠실대교북단 교차로",
           "광진구",
           "2016-06-29"
          ],
          [
           "자양나들목",
           "광진구",
           "2016-06-29"
          ],
          [
           "아차산역 3번출구",
           "광진구",
           "2016-06-29"
          ],
          [
           "서울시설공단 앞",
           "성동구",
           "2021-01-25"
          ],
          [
           "구의삼성쉐르빌 앞",
           "광진구",
           "2016-07-06"
          ],
          [
           "대림아크로리버 앞",
           "광진구",
           "2016-07-06"
          ],
          [
           "중곡 성원APT 앞",
           "광진구",
           "2016-07-06"
          ],
          [
           "구의3동주민센터",
           "광진구",
           "2016-07-06"
          ],
          [
           "달맞이공원",
           "성동구",
           "2016-07-06"
          ],
          [
           "도선동 주민센터 앞",
           "성동구",
           "2016-07-06"
          ],
          [
           "성동광진 교육지원청 앞",
           "성동구",
           "2016-07-06"
          ],
          [
           "왕십리역 4번 출구 건너편",
           "성동구",
           "2016-07-06"
          ],
          [
           "비전교회 앞",
           "성동구",
           "2016-07-06"
          ],
          [
           "서울숲역 2번출구 앞",
           "성동구",
           "2016-07-06"
          ],
          [
           "군자지하보도 앞",
           "성동구",
           "2016-07-06"
          ],
          [
           "성동세무서 건너편",
           "성동구",
           "2016-07-06"
          ],
          [
           "금호역 3번출구",
           "성동구",
           "2016-07-06"
          ],
          [
           "옥수역 3번출구",
           "성동구",
           "2016-07-06"
          ],
          [
           "성수역 2번출구 앞",
           "성동구",
           "2016-07-06"
          ],
          [
           "청계8가사거리 부근",
           "성동구",
           "2016-07-06"
          ],
          [
           "응봉현대아파트 정류소",
           "성동구",
           "2016-07-06"
          ],
          [
           "어린이대공원역6번출구",
           "광진구",
           "2016-07-06"
          ],
          [
           "국립정신 건강센터 앞",
           "광진구",
           "2016-07-06"
          ],
          [
           "구의문주차장 앞",
           "광진구",
           "2016-07-06"
          ],
          [
           "아차산역4번출구",
           "광진구",
           "2016-07-06"
          ],
          [
           "중앙농협 중곡지점",
           "광진구",
           "2016-07-06"
          ],
          [
           "광나루역 3번 출구",
           "광진구",
           "2016-07-06"
          ],
          [
           "광진청소년수련관",
           "광진구",
           "2016-07-06"
          ],
          [
           "성동세무서 부근",
           "성동구",
           "2016-07-06"
          ],
          [
           "마장역 4번출구",
           "성동구",
           "2016-07-06"
          ],
          [
           "경일중학교 앞",
           "성동구",
           "2016-07-06"
          ],
          [
           "청계천 생태교실 앞",
           "성동구",
           "2016-07-06"
          ],
          [
           "청계천 생태교실 앞",
           "성동구",
           "2020-06-30"
          ],
          [
           "광진광장 교통섬",
           "광진구",
           "2016-09-02"
          ],
          [
           "성수2가1동 공영주차장 인근",
           "성동구",
           "2016-09-02"
          ],
          [
           "마장동 주민센터",
           "성동구",
           "2016-09-02"
          ],
          [
           "유니베라 앞",
           "성동구",
           "2016-09-20"
          ],
          [
           "뚝섬 유원지역",
           "광진구",
           "2020-12-18"
          ],
          [
           "성수역3번출구",
           "성동구",
           "2017-04-19"
          ],
          [
           "건국대학교 (입학정보관)",
           "광진구",
           "2017-08-30"
          ],
          [
           "건국대학교 (행정관)",
           "광진구",
           "2017-08-30"
          ],
          [
           "건국대학교 학생회관",
           "광진구",
           "2017-08-30"
          ],
          [
           "자양중앙나들목",
           "광진구",
           "2020-09-24"
          ],
          [
           "중랑물재생센터(서울새활용플라자)",
           "성동구",
           "2017-08-28"
          ],
          [
           "휘경2동 주민센터",
           "동대문구",
           "2016-06-29"
          ],
          [
           "용신동주민센터",
           "동대문구",
           "2016-06-29"
          ],
          [
           "장안동 사거리",
           "동대문구",
           "2016-06-29"
          ],
          [
           "답십리초등학교 옆 공원",
           "동대문구",
           "2016-06-29"
          ],
          [
           "신설동역8번출구",
           "동대문구",
           "2016-06-29"
          ],
          [
           "휘경공고앞",
           "동대문구",
           "2016-06-29"
          ],
          [
           "신이문역 2번출구",
           "동대문구",
           "2016-06-29"
          ],
          [
           "전농삼성아파트",
           "동대문구",
           "2016-06-29"
          ],
          [
           "제기2교",
           "동대문구",
           "2016-06-29"
          ],
          [
           "동대문중 교차로",
           "동대문구",
           "2016-06-29"
          ],
          [
           "시립동부병원 앞 사거리",
           "동대문구",
           "2016-06-29"
          ],
          [
           "신설동역 10번출구 앞",
           "동대문구",
           "2016-06-29"
          ],
          [
           "용두동 사거리",
           "동대문구",
           "2016-06-29"
          ],
          [
           "용두동 래미안허브리츠아파트 앞",
           "동대문구",
           "2016-06-29"
          ],
          [
           "서울시립대 앞",
           "동대문구",
           "2016-06-29"
          ],
          [
           "청솔우성아파트 앞",
           "동대문구",
           "2016-06-29"
          ],
          [
           "동대문중학교 옆",
           "동대문구",
           "2016-07-06"
          ],
          [
           "전농사거리 교통섬",
           "동대문구",
           "2016-07-06"
          ],
          [
           "서울시립대 정문 앞",
           "동대문구",
           "2016-07-06"
          ],
          [
           "전농동 동아아파트 앞",
           "동대문구",
           "2016-07-06"
          ],
          [
           "답십리초등학교 앞(현대시장 옆)",
           "동대문구",
           "2016-07-06"
          ],
          [
           "군자교 서측 녹지대",
           "동대문구",
           "2016-07-06"
          ],
          [
           "장안동삼거리 교통섬",
           "동대문구",
           "2016-07-06"
          ],
          [
           "휘봉고등학교 앞",
           "동대문구",
           "2016-07-06"
          ],
          [
           "동대문구 보건소",
           "동대문구",
           "2016-07-06"
          ],
          [
           "답십리역 1번출구",
           "동대문구",
           "2016-07-06"
          ],
          [
           "청량리 기업은행 앞",
           "동대문구",
           "2016-07-06"
          ],
          [
           "외국어대 정문 앞",
           "동대문구",
           "2016-07-06"
          ],
          [
           "시조사 앞 (청량고정문 옆)",
           "동대문구",
           "2016-07-06"
          ],
          [
           "세종대왕기념관 교차로",
           "동대문구",
           "2016-07-06"
          ],
          [
           "KAIST 경영대학 앞",
           "동대문구",
           "2016-07-06"
          ],
          [
           "서울시립대 정보기술관",
           "동대문구",
           "2016-07-06"
          ],
          [
           "서울시립대 후문",
           "동대문구",
           "2016-07-06"
          ],
          [
           "KEB하나은행 청량리역지점",
           "동대문구",
           "2016-07-06"
          ],
          [
           "용두역 4번출구",
           "동대문구",
           "2016-07-06"
          ],
          [
           "신답역 사거리",
           "동대문구",
           "2020-06-18"
          ],
          [
           "동대문구민체육센터 (육교아래)",
           "동대문구",
           "2016-07-06"
          ],
          [
           "장한평역 1번출구 (국민은행앞)",
           "동대문구",
           "2017-11-28"
          ],
          [
           "신이문역 1번출구",
           "동대문구",
           "2017-11-28"
          ],
          [
           "장안동위더스빌옆",
           "동대문구",
           "2017-11-28"
          ],
          [
           "중랑교사거리",
           "동대문구",
           "2017-11-28"
          ],
          [
           "답십리 래미안엘파인아파트 입구",
           "동대문구",
           "2018-11-04"
          ],
          [
           "전농동 텃골공원",
           "동대문구",
           "2017-11-28"
          ],
          [
           "영휘원 교차로",
           "동대문구",
           "2018-10-22"
          ],
          [
           "동대문롯데캐슬아파트 앞",
           "동대문구",
           "2018-10-22"
          ],
          [
           "촬영소 사거리",
           "동대문구",
           "2018-10-22"
          ],
          [
           "제기역1번출구",
           "동대문구",
           "2018-10-22"
          ],
          [
           "동의보감타워",
           "동대문구",
           "2018-10-22"
          ],
          [
           "경희대학교 청운관",
           "동대문구",
           "2018-08-30"
          ],
          [
           "외대앞역 4번출구",
           "동대문구",
           "2018-12-14"
          ],
          [
           "서울시립대 건설공학관",
           "동대문구",
           "2019-11-20"
          ],
          [
           "이문동 쌍용아파트 정문",
           "동대문구",
           "2020-04-19"
          ],
          [
           "이문대성유니드아파트 앞",
           "동대문구",
           "2020-04-21"
          ],
          [
           "청량차도 육교 밑",
           "동대문구",
           "2020-04-19"
          ],
          [
           "서울축산농협(장안지점)",
           "동대문구",
           "2020-04-22"
          ],
          [
           "청계신한신휴플러스앞 삼거리",
           "동대문구",
           "2020-04-19"
          ],
          [
           "삼육서울병원 버스정류장",
           "동대문구",
           "2020-04-22"
          ],
          [
           "대광빌딩",
           "동대문구",
           "2020-03-27"
          ],
          [
           "대광고등학교",
           "동대문구",
           "2020-03-27"
          ],
          [
           "안암골벽산아파트(후문)",
           "동대문구",
           "2020-03-28"
          ],
          [
           "고대앞사거리 교통섬",
           "동대문구",
           "2020-03-30"
          ],
          [
           "FITI시험연구원 앞",
           "동대문구",
           "2020-03-28"
          ],
          [
           "청량리역 4번 5번출구 사이",
           "동대문구",
           "2020-04-19"
          ],
          [
           "장안힐스테이트(아) 앞",
           "동대문구",
           "2020-04-26"
          ],
          [
           "전농SK아파트 앞",
           "동대문구",
           "2020-04-16"
          ],
          [
           "꿈마루어린이도서관 앞",
           "동대문구",
           "2020-04-19"
          ],
          [
           "서울특별시 동부교육지원청(육교)",
           "동대문구",
           "2020-04-19"
          ],
          [
           "KB국민은행 염창역 지점 앞",
           "양천구",
           "2016-06-29"
          ],
          [
           "목동사거리 부근",
           "양천구",
           "2016-06-29"
          ],
          [
           "목4동주민센터 옆",
           "양천구",
           "2016-06-29"
          ],
          [
           "오목교역 7번출구 앞",
           "양천구",
           "2016-06-29"
          ],
          [
           "남부법원검찰청 교차로",
           "양천구",
           "2016-06-29"
          ],
          [
           "신정네거리역",
           "양천구",
           "2016-06-29"
          ],
          [
           "서울출입국관리사무소 앞",
           "양천구",
           "2016-06-29"
          ],
          [
           "신정3동 현장민원실 앞",
           "양천구",
           "2016-06-29"
          ],
          [
           "금옥여고보도육교",
           "양천구",
           "2020-09-14"
          ],
          [
           "신일해피트리아파트 앞",
           "양천구",
           "2016-06-29"
          ],
          [
           "강월초교입구 사거리",
           "양천구",
           "2016-06-29"
          ],
          [
           "양서중학교 옆",
           "양천구",
           "2016-06-29"
          ],
          [
           "한국SGI 양천문화회관 앞",
           "양천구",
           "2016-06-29"
          ],
          [
           "신정6동 주민센터 인근",
           "양천구",
           "2016-07-06"
          ],
          [
           "홍익병원앞 교차로",
           "양천구",
           "2016-07-06"
          ],
          [
           "서울강월초등학교 앞",
           "양천구",
           "2016-07-06"
          ],
          [
           "LG전자베스트샵 신정점",
           "양천구",
           "2017-11-01"
          ],
          [
           "SBS방송국",
           "양천구",
           "2017-11-01"
          ],
          [
           "계남공원 입구 주출입구 좌측",
           "양천구",
           "2017-11-01"
          ],
          [
           "양강중학교앞 교차로",
           "양천구",
           "2017-11-01"
          ],
          [
           "목동3단지 시내버스정류장",
           "양천구",
           "2017-11-01"
          ],
          [
           "서부식자재마트 건너편",
           "양천구",
           "2017-11-01"
          ],
          [
           "서울시 도로환경관리센터",
           "양천구",
           "2017-11-01"
          ],
          [
           "신월동 이마트",
           "양천구",
           "2017-11-01"
          ],
          [
           "신정이펜하우스314동",
           "양천구",
           "2017-11-01"
          ],
          [
           "신트리공원 입구",
           "양천구",
           "2017-11-01"
          ],
          [
           "영도초등학교",
           "양천구",
           "2017-11-01"
          ],
          [
           "오솔길공원",
           "양천구",
           "2017-11-01"
          ],
          [
           "장수공원",
           "양천구",
           "2017-11-01"
          ],
          [
           "신월사거리",
           "양천구",
           "2017-11-01"
          ],
          [
           "으뜸공원",
           "양천구",
           "2017-11-01"
          ],
          [
           "화곡로 입구 교차로",
           "양천구",
           "2017-11-01"
          ],
          [
           "등촌역 5번 출구 뒤",
           "양천구",
           "2017-11-01"
          ],
          [
           "현대6차아파트 101동 옆",
           "양천구",
           "2017-11-01"
          ],
          [
           "신목동역 2번 출구",
           "양천구",
           "2020-10-28"
          ],
          [
           "강서초등학교",
           "양천구",
           "2017-11-01"
          ],
          [
           "목동2단지 상가",
           "양천구",
           "2017-11-01"
          ],
          [
           "목동3단지 상가",
           "양천구",
           "2017-11-01"
          ],
          [
           "목동운동장",
           "양천구",
           "2017-11-01"
          ],
          [
           "이대 목동병원 앞",
           "양천구",
           "2018-07-04"
          ],
          [
           "연의근린공원 건너편",
           "양천구",
           "2018-02-26"
          ],
          [
           "성원2차 아파트",
           "양천구",
           "2018-02-26"
          ],
          [
           "목동1단지아파트 118동 앞 (월촌초등학교 정류소 옆",
           "양천구",
           "2018-09-27"
          ],
          [
           "목동1단지아파트 상가 앞 (월촌중학교 버스정류소 옆)",
           "양천구",
           "2018-09-27"
          ],
          [
           "목동주차장",
           "양천구",
           "2018-09-27"
          ],
          [
           "신정이펜하우스 1단지아파트 입구 사거리",
           "양천구",
           "2018-09-27"
          ],
          [
           "한사랑교회 앞",
           "양천구",
           "2018-09-27"
          ],
          [
           "보아스아파트 앞",
           "양천구",
           "2018-09-20"
          ],
          [
           "잣절보도육교 아래",
           "양천구",
           "2018-10-15"
          ],
          [
           "오목로 무중력지대 앞",
           "양천구",
           "2018-09-27"
          ],
          [
           "목동11단지 아파트",
           "양천구",
           "2018-11-05"
          ],
          [
           "목동청소년수련관",
           "양천구",
           "2018-10-26"
          ],
          [
           "오목교역 3번출구",
           "양천구",
           "2019-01-02"
          ],
          [
           "신목동역 3번출구",
           "양천구",
           "2019-03-12"
          ],
          [
           "신정숲속마을아파트",
           "양천구",
           "2020-03-11"
          ],
          [
           "목동5단지아파트 501동",
           "양천구",
           "2020-03-12"
          ],
          [
           "CBS방송국 앞",
           "양천구",
           "2020-03-15"
          ],
          [
           "목동역5번출구 교통정보센터 앞",
           "양천구",
           "2020-03-13"
          ],
          [
           "목동아파트 703동 앞",
           "양천구",
           "2020-03-13"
          ],
          [
           "염창역 3, 4번 출구 사이",
           "양천구",
           "2020-03-16"
          ],
          [
           "등촌역 4번 출구 ",
           "양천구",
           "2020-03-16"
          ],
          [
           "세종그랑시아 앞(102동)",
           "양천구",
           "2020-03-16"
          ],
          [
           "목마공원",
           "양천구",
           "2020-03-13"
          ],
          [
           "신월6차보람아파트 앞",
           "양천구",
           "2020-03-11"
          ],
          [
           "양천나눔누리센터",
           "양천구",
           "2020-03-09"
          ],
          [
           "신정교 하부",
           "양천구",
           "2020-03-11"
          ],
          [
           "신정보도육교 아래",
           "양천구",
           "2020-03-11"
          ],
          [
           "서남병원 후문",
           "양천구",
           "2020-03-15"
          ],
          [
           "양천구청, 보건소 사잇길",
           "양천구",
           "2020-03-15"
          ],
          [
           "목동아파트 8단지 상가동 앞",
           "양천구",
           "2020-03-18"
          ],
          [
           "양천아파트 입구",
           "양천구",
           "2020-03-09"
          ],
          [
           "양천구청역 2번출구 옆",
           "양천구",
           "2020-03-06"
          ],
          [
           "화곡고가 사거리",
           "양천구",
           "2020-03-11"
          ],
          [
           "현대하이페리온",
           "양천구",
           "2020-03-13"
          ],
          [
           "목동트라팰리스 웨스턴에비뉴",
           "양천구",
           "2020-03-13"
          ],
          [
           "목동5단지아파트 534동",
           "양천구",
           "2020-03-12"
          ],
          [
           "양천문화회관",
           "양천구",
           "2020-04-20"
          ],
          [
           "양천 해누리타운",
           "양천구",
           "2020-04-20"
          ],
          [
           "목동아파트 14단지 B상가 앞",
           "양천구",
           "2020-04-20"
          ],
          [
           "목동아파트 1422동 1434동 사잇길",
           "양천구",
           "2020-04-20"
          ],
          [
           "목월공원 앞",
           "용산구",
           "2016-06-29"
          ],
          [
           "한강진역 2번 출구 앞",
           "용산구",
           "2016-06-29"
          ],
          [
           "한남초교 앞 보도육교",
           "용산구",
           "2016-06-29"
          ],
          [
           "문배어린이공원 앞",
           "용산구",
           "2016-06-29"
          ],
          [
           "전자랜드 본관 앞",
           "용산구",
           "2016-06-29"
          ],
          [
           "서울역 12번 출구 앞",
           "용산구",
           "2016-06-29"
          ],
          [
           "서빙고동 금호맨션 앞",
           "용산구",
           "2016-06-29"
          ],
          [
           "한남 유수지 복개주차장",
           "용산구",
           "2016-06-29"
          ],
          [
           "이태원지하보도",
           "용산구",
           "2016-06-29"
          ],
          [
           "녹사평역1번출구",
           "용산구",
           "2016-06-29"
          ],
          [
           "용산전쟁기념관",
           "용산구",
           "2016-06-29"
          ],
          [
           "삼각지역 3번출구",
           "용산구",
           "2016-06-29"
          ],
          [
           "LIG강촌아파트 103동앞",
           "용산구",
           "2016-06-29"
          ],
          [
           "신용산역 6번출구 앞",
           "용산구",
           "2016-07-06"
          ],
          [
           "삼각지역 4번출구 앞",
           "용산구",
           "2016-07-06"
          ],
          [
           "숙명여대 입구 교차로",
           "용산구",
           "2016-07-06"
          ],
          [
           "선린인터넷 고등학교",
           "용산구",
           "2016-07-06"
          ],
          [
           "청파동입구 교차로",
           "용산구",
           "2016-07-06"
          ],
          [
           "이촌1동 마을공원",
           "용산구",
           "2016-07-06"
          ],
          [
           "효창동주민센터 앞",
           "용산구",
           "2016-07-06"
          ],
          [
           "서빙고동 주민센터 앞",
           "용산구",
           "2016-07-06"
          ],
          [
           "서울역 서부교차로2",
           "중구",
           "2017-08-03"
          ],
          [
           "국군복지단",
           "용산구",
           "2017-11-28"
          ],
          [
           "숙대입구역 8번",
           "용산구",
           "2017-11-28"
          ],
          [
           "베르가모앞",
           "용산구",
           "2017-11-28"
          ],
          [
           "청암자이아파트앞",
           "용산구",
           "2017-11-28"
          ],
          [
           "이태원관광특구입구",
           "용산구",
           "2017-11-28"
          ],
          [
           "이촌1동 주민센터 뒤",
           "용산구",
           "2017-12-22"
          ],
          [
           "효창공원앞역 3번출구 뒤",
           "용산구",
           "2017-12-22"
          ],
          [
           "남영역 건너편",
           "용산구",
           "2017-12-22"
          ],
          [
           "현대자동차서비스 앞",
           "용산구",
           "2017-12-22"
          ],
          [
           "한남나들목 입구",
           "용산구",
           "2017-12-22"
          ],
          [
           "숙대입구역 4번출구",
           "용산구",
           "2018-12-14"
          ],
          [
           "보광동 삼성리버빌아파트 앞",
           "용산구",
           "2018-12-14"
          ],
          [
           "용산 파크타워 앞",
           "용산구",
           "2018-10-14"
          ],
          [
           "신용산역 1번 출구",
           "용산구",
           "2018-10-12"
          ],
          [
           "녹사평역 광장",
           "용산구",
           "2018-10-07"
          ],
          [
           "이촌2동 동원베네스트 아파트 앞",
           "용산구",
           "2018-10-19"
          ],
          [
           "용산 선인상가",
           "용산구",
           "2018-09-09"
          ],
          [
           "용산중학교",
           "용산구",
           "2018-12-14"
          ],
          [
           " 국방부민원실옆",
           "용산구",
           "2020-03-28"
          ],
          [
           " 삼각지12번 출구",
           "용산구",
           "2020-03-28"
          ],
          [
           " 삼각지 자이아파트",
           "용산구",
           "2020-03-30"
          ],
          [
           " KCC용산월츠타워 ",
           "용산구",
           "2020-03-28"
          ],
          [
           "효창 푸르지오 앞",
           "용산구",
           "2020-03-28"
          ],
          [
           "청암자이APT(103동)",
           "용산구",
           "2020-03-28"
          ],
          [
           "용산역 맞은편",
           "용산구",
           "2020-04-07"
          ],
          [
           "HID 유족동지회 앞",
           "용산구",
           "2020-04-05"
          ],
          [
           "이촌역5번출구 앞",
           "용산구",
           "2020-04-07"
          ],
          [
           " 현대 안성타워",
           "용산구",
           "2020-04-07"
          ],
          [
           "녹사평역3번 출구",
           "용산구",
           "2020-04-07"
          ],
          [
           "남산공원 야외식물원 앞",
           "용산구",
           "2020-04-05"
          ],
          [
           "LG한강 자이아파트 앞",
           "용산구",
           "2020-04-07"
          ],
          [
           "이촌역2번 출구",
           "용산구",
           "2020-04-07"
          ],
          [
           "순천향대학병원(한남오거리)",
           "용산구",
           "2020-04-05"
          ],
          [
           "하얏트호텔 앞",
           "용산구",
           "2020-04-05"
          ],
          [
           "브라운스톤 남산아파트",
           "용산구",
           "2020-03-30"
          ],
          [
           "서빙고역 광장(1번출구)",
           "용산구",
           "2020-04-07"
          ],
          [
           "노들섬 동측 앞",
           "용산구",
           "2020-04-03"
          ],
          [
           "노들섬 서측 앞",
           "용산구",
           "2020-04-03"
          ],
          [
           "은평예술회관",
           "은평구",
           "2016-09-02"
          ],
          [
           "응암1동사무소",
           "은평구",
           "2016-09-02"
          ],
          [
           "진관동 은빛초등학교",
           "은평구",
           "2016-09-02"
          ],
          [
           "은평뉴타운 아이파크",
           "은평구",
           "2016-09-02"
          ],
          [
           "은평뉴타운 푸르지오",
           "은평구",
           "2016-09-02"
          ],
          [
           "구파발역 2번출구",
           "은평구",
           "2020-12-12"
          ],
          [
           "연신내역 5번출구150M 아래",
           "은평구",
           "2016-09-02"
          ],
          [
           "CJ 드림시티",
           "은평구",
           "2016-09-02"
          ],
          [
           "구산역 4번출구",
           "은평구",
           "2016-09-02"
          ],
          [
           "백련산 힐스테이트 3차",
           "은평구",
           "2016-09-02"
          ],
          [
           "은평평화공원(역촌역4번출구)",
           "은평구",
           "2016-09-02"
          ],
          [
           "응암오거리",
           "은평구",
           "2016-09-02"
          ],
          [
           "이마트 은평점",
           "은평구",
           "2016-09-02"
          ],
          [
           "새절역 2번출구",
           "은평구",
           "2016-09-02"
          ],
          [
           "증산역 4번출구",
           "은평구",
           "2016-09-02"
          ],
          [
           "평생학습관 앞",
           "은평구",
           "2016-09-02"
          ],
          [
           "녹번역 4번출구",
           "은평구",
           "2016-09-02"
          ],
          [
           "서울혁신파크",
           "은평구",
           "2016-09-02"
          ],
          [
           "신도고등학교",
           "은평구",
           "2016-09-02"
          ],
          [
           "연신내역 4번출구",
           "은평구",
           "2016-09-02"
          ],
          [
           "국민은행 연서지점",
           "은평구",
           "2016-09-02"
          ],
          [
           "메뚜기다리",
           "은평구",
           "2016-09-02"
          ],
          [
           "불광역 2번출구",
           "은평구",
           "2016-09-02"
          ],
          [
           "연신내역 3번출구 인근",
           "은평구",
           "2016-09-02"
          ],
          [
           "은평역사한옥박물관",
           "은평구",
           "2016-09-02"
          ],
          [
           "구 서부경찰서 건너편",
           "은평구",
           "2016-09-02"
          ],
          [
           "역촌파출소",
           "은평구",
           "2016-09-02"
          ],
          [
           "예일여중",
           "은평구",
           "2016-09-02"
          ],
          [
           "LG서비스 역촌점",
           "은평구",
           "2016-09-02"
          ],
          [
           "신사동 성당",
           "은평구",
           "2017-11-01"
          ],
          [
           "상림마을 롯데캐슬2단지 옆",
           "은평구",
           "2017-11-01"
          ],
          [
           "금암 문화공원",
           "은평구",
           "2017-11-01"
          ],
          [
           "은평구청 교차로",
           "은평구",
           "2017-11-01"
          ],
          [
           "은평뉴타운 도서관",
           "은평구",
           "2017-11-01"
          ],
          [
           "상림마을 생태공원",
           "은평구",
           "2017-11-01"
          ],
          [
           "은평구청 보건소",
           "은평구",
           "2017-11-01"
          ],
          [
           "기자촌 사거리",
           "은평구",
           "2017-11-01"
          ],
          [
           "독바위역",
           "은평구",
           "2018-05-30"
          ],
          [
           "연신내 선일하이츠빌 정류소",
           "은평구",
           "2017-11-01"
          ],
          [
           "디지털미디어 시티역 4번출구",
           "은평구",
           "2017-11-01"
          ],
          [
           "연신내역 1번 출구",
           "은평구",
           "2017-11-01"
          ],
          [
           "구산역 2번 출구",
           "은평구",
           "2017-11-01"
          ],
          [
           "서울연신중학교",
           "은평구",
           "2017-11-01"
          ],
          [
           "서울연신초등학교",
           "은평구",
           "2017-11-01"
          ],
          [
           "은평뉴타운구파발9단지",
           "은평구",
           "2017-11-28"
          ],
          [
           "응암시장교차로",
           "은평구",
           "2017-11-28"
          ],
          [
           "신한은행 응암동 지점 앞",
           "은평구",
           "2018-10-16"
          ],
          [
           "구파발10단지 인근",
           "은평구",
           "2018-10-18"
          ],
          [
           "구파발역 환승센터",
           "은평구",
           "2018-10-18"
          ],
          [
           "불광역 9번 출구",
           "은평구",
           "2018-10-18"
          ],
          [
           "은평뉴타운 힐데스하임",
           "은평구",
           "2018-10-18"
          ],
          [
           "대호프라자아파트",
           "은평구",
           "2018-10-16"
          ],
          [
           "북한산힐스테이트 7차아파트",
           "은평구",
           "2018-10-16"
          ],
          [
           "서울특별시 은평병원",
           "은평구",
           "2018-10-16"
          ],
          [
           "서울혁신파크1",
           "은평구",
           "2018-08-28"
          ],
          [
           "서울혁신파크2",
           "은평구",
           "2018-08-29"
          ],
          [
           "은평뉴타운 상림마을 13단지",
           "은평구",
           "2018-10-18"
          ],
          [
           "은평 지웰테라스",
           "은평구",
           "2018-12-14"
          ],
          [
           "역촌 센트레빌 아파트",
           "은평구",
           "2018-12-14"
          ],
          [
           "수색역",
           "은평구",
           "2019-06-14"
          ],
          [
           "제각말푸르지오 5-1단지 아파트",
           "은평구",
           "2020-04-08"
          ],
          [
           "연신초등학교옆 마을마당",
           "은평구",
           "2020-04-09"
          ],
          [
           "백련산 힐스테이트상가앞",
           "은평구",
           "2020-04-10"
          ],
          [
           "진관고등학교앞",
           "은평구",
           "2020-04-09"
          ],
          [
           "신도중학교앞",
           "은평구",
           "2020-04-08"
          ],
          [
           "녹번 힐스테이트상가앞",
           "은평구",
           "2020-04-09"
          ],
          [
           "원풍빌라앞",
           "은평구",
           "2020-04-10"
          ],
          [
           "유니클로 은평점앞",
           "은평구",
           "2020-04-10"
          ],
          [
           "상신초등학교앞 버스정류장",
           "은평구",
           "2020-04-10"
          ],
          [
           "은평온누리약국앞",
           "은평구",
           "2020-04-10"
          ],
          [
           "응암 꼬꼬닭치킨호프 앞",
           "은평구",
           "2020-04-10"
          ],
          [
           "흥국사 정류장",
           "은평구",
           "2020-04-06"
          ],
          [
           "북한산입구 정류장",
           "은평구",
           "2020-04-06"
          ],
          [
           "은평뉴타운 온뜨락아파트앞",
           "은평구",
           "2020-04-08"
          ],
          [
           "북한산생태공원입구(교통섬)",
           "은평구",
           "2020-04-09"
          ],
          [
           "은평다목적체육관",
           "은평구",
           "2020-04-08"
          ],
          [
           "응암역 1번출구",
           "은평구",
           "2020-04-10"
          ],
          [
           "광진교 남단 사거리(디지털프라자앞)",
           "강동구",
           "2017-04-19"
          ],
          [
           "해공공원(천호동)",
           "강동구",
           "2017-04-19"
          ],
          [
           "해공도서관앞",
           "강동구",
           "2017-04-19"
          ],
          [
           "삼성광나루아파트 버스정류장",
           "강동구",
           "2017-04-19"
          ],
          [
           "롯데캐슬 115동앞",
           "강동구",
           "2017-04-19"
          ],
          [
           "암사동 선사유적지",
           "강동구",
           "2017-04-19"
          ],
          [
           "암사역 3번출구(국민은행앞)",
           "강동구",
           "2017-04-19"
          ],
          [
           "천호역4번출구(현대백화점)",
           "강동구",
           "2017-04-19"
          ],
          [
           "강동세무서",
           "강동구",
           "2017-04-19"
          ],
          [
           "LIGA 아파트 앞",
           "강동구",
           "2017-04-19"
          ],
          [
           "서울 상운차량",
           "강동구",
           "2017-04-19"
          ],
          [
           "강동구청역 1번 출입구",
           "강동구",
           "2017-04-19"
          ],
          [
           "샛마을 근린공원",
           "강동구",
           "2017-04-19"
          ],
          [
           "해뜨는 주유소옆 리엔파크 109동앞",
           "강동구",
           "2017-04-19"
          ],
          [
           "맥도날드(길동)",
           "강동구",
           "2017-04-19"
          ],
          [
           "둔촌 주공 GS 맞은편",
           "강동구",
           "2020-09-24"
          ],
          [
           "다성이즈빌아파트(호원대 대각선 맞은편)",
           "강동구",
           "2017-04-19"
          ],
          [
           "강동경찰서",
           "강동구",
           "2017-04-19"
          ],
          [
           "강일동 리슈빌 빌딩앞",
           "강동구",
           "2017-04-19"
          ],
          [
           "길동 사거리(초소앞)",
           "강동구",
           "2017-04-19"
          ],
          [
           "한국종합기술사옥 앞",
           "강동구",
           "2017-11-01"
          ],
          [
           "강동구청 앞",
           "강동구",
           "2017-11-01"
          ],
          [
           "상일초등학교",
           "강동구",
           "2017-11-01"
          ],
          [
           "대명초교 입구 교차로",
           "강동구",
           "2017-11-01"
          ],
          [
           "프라자 아파트 앞",
           "강동구",
           "2017-11-01"
          ],
          [
           "포레스 주상복합 빌딩",
           "강동구",
           "2017-11-01"
          ],
          [
           "롯데 시네마",
           "강동구",
           "2017-11-01"
          ],
          [
           "미호 플랜트 앞",
           "강동구",
           "2017-11-01"
          ],
          [
           "암사동 CBIS",
           "강동구",
           "2017-11-01"
          ],
          [
           "선사고등학교",
           "강동구",
           "2017-11-01"
          ],
          [
           "고덕동 아남아파트",
           "강동구",
           "2017-11-01"
          ],
          [
           "고덕동 래미안 힐스테이트",
           "강동구",
           "2017-11-01"
          ],
          [
           "고덕역 4번출구",
           "강동구",
           "2017-11-01"
          ],
          [
           "고덕동 주양쇼핑",
           "강동구",
           "2017-11-01"
          ],
          [
           "강일리버파크 6단지",
           "강동구",
           "2017-11-01"
          ],
          [
           "강일 다솜 어린이 공원",
           "강동구",
           "2017-11-01"
          ],
          [
           "고덕초등학교",
           "강동구",
           "2017-11-01"
          ],
          [
           "묘곡초등학교",
           "강동구",
           "2017-11-01"
          ],
          [
           "강일리버파크 2~5단지",
           "강동구",
           "2017-11-01"
          ],
          [
           "굽은다리역",
           "강동구",
           "2017-11-01"
          ],
          [
           "건강보험 강동지사kt",
           "강동구",
           "2018-01-16"
          ],
          [
           "동부기업(둔촌동)",
           "강동구",
           "2018-01-16"
          ],
          [
           "강일리버파크 10단지",
           "강동구",
           "2018-01-16"
          ],
          [
           "둔촌역 3번 출입구",
           "강동구",
           "2018-02-26"
          ],
          [
           "양지시장 (용성약국앞) 입구",
           "강동구",
           "2018-02-26"
          ],
          [
           "리싸이클시티",
           "강동구",
           "2018-09-03"
          ],
          [
           "동명근린공원 진입로 (아리수로)",
           "강동구",
           "2018-09-03"
          ],
          [
           "말우물 어린이 공원",
           "강동구",
           "2018-09-03"
          ],
          [
           "강일리버파크 7~11단지",
           "강동구",
           "2018-09-07"
          ],
          [
           "능골근린공원",
           "강동구",
           "2018-09-10"
          ],
          [
           "고덕숲 아이파크 1",
           "강동구",
           "2018-09-10"
          ],
          [
           "래미안 강동팰리스(102동)",
           "강동구",
           "2018-10-25"
          ],
          [
           "천일초교 사거리",
           "강동구",
           "2018-09-11"
          ],
          [
           "천호초교 입구 사거리(일주빌딩)",
           "강동구",
           "2018-09-10"
          ],
          [
           "고덕숲 아이파크 2",
           "강동구",
           "2018-09-10"
          ],
          [
           "강동롯데캐슬퍼스트 아파트(관리동)",
           "강동구",
           "2020-01-13"
          ],
          [
           "중앙보훈병원역 1번출구",
           "강동구",
           "2020-01-09"
          ],
          [
           "보훈병원 정문옆(중앙대영약국)",
           "강동구",
           "2020-01-09"
          ],
          [
           "생태공원앞 교차로(조명탑)",
           "강동구",
           "2020-01-09"
          ],
          [
           "한영중고앞사거리",
           "강동구",
           "2020-01-15"
          ],
          [
           "명일파출소",
           "강동구",
           "2020-01-14"
          ],
          [
           "강동경희대학교병원 입구",
           "강동구",
           "2020-01-15"
          ],
          [
           "(시립)고덕평생학습관",
           "강동구",
           "2020-01-14"
          ],
          [
           "명일근린공원공동체텃밭",
           "강동구",
           "2020-01-13"
          ],
          [
           "고덕역 5번출구",
           "강동구",
           "2020-01-13"
          ],
          [
           "SSTS 몰 앞",
           "강동구",
           "2020-01-10"
          ],
          [
           "대명초교입구 사거리",
           "강동구",
           "2020-01-10"
          ],
          [
           "천동초교 삼거리",
           "강동구",
           "2020-01-10"
          ],
          [
           "전자랜드 길동점",
           "강동구",
           "2020-01-10"
          ],
          [
           "강동역 1번출구 앞",
           "강동구",
           "2020-01-09"
          ],
          [
           "둔촌사거리",
           "강동구",
           "2020-01-14"
          ],
          [
           "강일동입구교차로",
           "강동구",
           "2020-01-13"
          ],
          [
           "엘웨딩",
           "강동구",
           "2020-01-09"
          ],
          [
           "트레빌빌딩",
           "강동구",
           "2020-01-09"
          ],
          [
           "중앙보훈병원역3번출구",
           "강동구",
           "2020-01-10"
          ],
          [
           "광문고교사거리(아이파크)",
           "강동구",
           "2020-01-13"
          ],
          [
           "윤선생빌딩(JYP사옥)",
           "강동구",
           "2020-01-08"
          ],
          [
           "래미안 솔베뉴(고덕로)",
           "강동구",
           "2020-01-13"
          ],
          [
           "래미안 솔베뉴(구천면로)",
           "강동구",
           "2020-01-10"
          ],
          [
           "풍납사거리(강동)",
           "강동구",
           "2020-01-14"
          ],
          [
           "고덕 래미안힐스테이트(201동)",
           "강동구",
           "2020-01-13"
          ],
          [
           "상일동역 2번출구 앞",
           "강동구",
           "2020-01-13"
          ],
          [
           "개화동상사마을종점 버스정류장",
           "강서구",
           "2017-04-24"
          ],
          [
           "방화사거리 마을버스 버스정류장",
           "강서구",
           "2017-04-24"
          ],
          [
           "방화역 4번출구앞",
           "강서구",
           "2017-06-22"
          ],
          [
           "방화근린공원",
           "강서구",
           "2017-04-24"
          ],
          [
           "신방화사거리",
           "강서구",
           "2017-06-20"
          ],
          [
           "공항시장역 2번출구 뒤",
           "강서구",
           "2017-04-24"
          ],
          [
           "공항시장역 4번출구",
           "강서구",
           "2017-04-24"
          ],
          [
           "공항중학교앞",
           "강서구",
           "2017-06-20"
          ],
          [
           "마곡엠밸리6_7단지 마곡중학교",
           "강서구",
           "2017-04-24"
          ],
          [
           "마곡엠밸리4단지 정문",
           "강서구",
           "2017-04-24"
          ],
          [
           "서남환경공원 버스정류장",
           "강서구",
           "2017-04-24"
          ],
          [
           "등촌역 1번출구옆",
           "강서구",
           "2017-06-22"
          ],
          [
           "스타벅스앞",
           "강서구",
           "2017-06-22"
          ],
          [
           "증미역 3번출구뒤(등촌두산위브센티움오피스텔)",
           "강서구",
           "2017-04-24"
          ],
          [
           "염창동 한마음아파트앞(염창동 빛나는 음악학원앞)",
           "강서구",
           "2017-04-24"
          ],
          [
           "대림경동아파트앞",
           "강서구",
           "2017-04-24"
          ],
          [
           "가양레포츠센터앞",
           "강서구",
           "2017-04-24"
          ],
          [
           "황금내근린공원",
           "강서구",
           "2017-04-24"
          ],
          [
           "발산역 6번 출구 뒤",
           "강서구",
           "2020-12-11"
          ],
          [
           "명덕고교입구(영종빌딩)",
           "강서구",
           "2017-06-22"
          ],
          [
           "우장산역 1번출구옆(우장산아이파크105동앞)",
           "강서구",
           "2017-04-24"
          ],
          [
           "화곡역(에이스정형외과앞) 버스정류장",
           "강서구",
           "2017-04-24"
          ],
          [
           "화곡역 6번출구",
           "강서구",
           "2017-06-20"
          ],
          [
           "화곡역 1번 출구 앞",
           "강서구",
           "2017-04-24"
          ],
          [
           "화곡본동시장 버스정류장",
           "강서구",
           "2017-04-24"
          ],
          [
           "꿈돌이공원 앞",
           "강서구",
           "2017-04-24"
          ],
          [
           "등촌역 7번출구",
           "강서구",
           "2017-04-24"
          ],
          [
           "강서구의회",
           "강서구",
           "2017-04-24"
          ],
          [
           "등촌2파출소",
           "강서구",
           "2017-04-24"
          ],
          [
           "등촌2동주민센터",
           "강서구",
           "2017-04-24"
          ],
          [
           "용문사 버스정류장",
           "강서구",
           "2017-04-24"
          ],
          [
           "목동사거리 버스정류장",
           "강서구",
           "2017-04-24"
          ],
          [
           "곰달래 문화복지센터 1-1",
           "강서구",
           "2017-04-24"
          ],
          [
           "곰달래 문화복지센터 1-2",
           "강서구",
           "2017-04-24"
          ],
          [
           "곰달래사거리",
           "강서구",
           "2017-04-24"
          ],
          [
           "볏골공원",
           "강서구",
           "2017-04-24"
          ],
          [
           "신방화역환승주차장",
           "강서구",
           "2017-08-31"
          ],
          [
           "송정역 1번출구",
           "강서구",
           "2017-11-01"
          ],
          [
           "마곡역1번출구",
           "강서구",
           "2017-11-01"
          ],
          [
           "마곡역교차로",
           "강서구",
           "2017-11-01"
          ],
          [
           "발산역 1번, 9번 인근 대여소",
           "강서구",
           "2017-11-01"
          ],
          [
           "기쁜우리복지관",
           "강서구",
           "2017-11-01"
          ],
          [
           "강서구청",
           "강서구",
           "2017-11-01"
          ],
          [
           "가양역 8번출구",
           "강서구",
           "2017-11-28"
          ],
          [
           "서서울모터리움앞",
           "강서구",
           "2017-11-28"
          ],
          [
           "양천향교역 7번출구앞",
           "강서구",
           "2020-12-31"
          ],
          [
           "강서면허시험장앞",
           "강서구",
           "2017-11-28"
          ],
          [
           "공항초등학교건너편",
           "강서구",
           "2017-11-28"
          ],
          [
           "방화동강서기동대앞",
           "강서구",
           "2017-11-28"
          ],
          [
           "마곡중학교 후문",
           "강서구",
           "2017-12-08"
          ],
          [
           "강서구립등빛도서관",
           "강서구",
           "2017-12-22"
          ],
          [
           "마곡수명산파크3단지 교차로",
           "강서구",
           "2017-12-22"
          ],
          [
           "마곡엠밸리10단지 앞",
           "강서구",
           "2018-02-26"
          ],
          [
           "염창역 1번 출구",
           "강서구",
           "2018-10-04"
          ],
          [
           "강서구보건소 (삼성디지털 프라자)",
           "강서구",
           "2018-10-04"
          ],
          [
           "염창동 새마을금고 건너편 (모닝글로리)",
           "강서구",
           "2018-10-04"
          ],
          [
           "가양3동 주민센터",
           "강서구",
           "2018-10-04"
          ],
          [
           "강서구청사거리(SH타워)",
           "강서구",
           "2018-10-04"
          ],
          [
           "강서구청사거리(부민병원)",
           "강서구",
           "2018-10-04"
          ],
          [
           "대한항공 인력개발센터",
           "강서구",
           "2018-10-04"
          ],
          [
           "수명중?고교",
           "강서구",
           "2018-10-04"
          ],
          [
           "개화산역 2번 출구",
           "강서구",
           "2018-10-10"
          ],
          [
           "마곡엠밸리 15단지(1502동) 건너편",
           "강서구",
           "2018-10-04"
          ],
          [
           "농수산식품공사 (강서지사)",
           "강서구",
           "2018-10-10"
          ],
          [
           "KBS 스포츠월드",
           "강서구",
           "2018-10-10"
          ],
          [
           "KC 대학교",
           "강서구",
           "2018-10-30"
          ],
          [
           "마곡13단지",
           "강서구",
           "2018-10-10"
          ],
          [
           "등촌9단지",
           "강서구",
           "2018-10-10"
          ],
          [
           "송정중학교",
           "강서구",
           "2018-10-10"
          ],
          [
           "강서수산물도매시장",
           "강서구",
           "2018-12-14"
          ],
          [
           "롯데중앙연구소",
           "강서구",
           "2018-11-20"
          ],
          [
           "마곡역 교차로(2번출구)",
           "강서구",
           "2018-11-20"
          ],
          [
           "마곡역 교차로(NH농협)",
           "강서구",
           "2018-11-20"
          ],
          [
           "마곡수명산파크 209동 건너편",
           "강서구",
           "2018-11-26"
          ],
          [
           "마곡센트럴타워 1차",
           "강서구",
           "2018-11-20"
          ],
          [
           "센서텍㈜",
           "강서구",
           "2018-11-20"
          ],
          [
           "코오롱One&Only타워",
           "강서구",
           "2018-11-20"
          ],
          [
           "서울식물원(문화센터) 건너편",
           "강서구",
           "2018-11-20"
          ],
          [
           "엠펠리체 호텔 건너편",
           "강서구",
           "2018-11-20"
          ],
          [
           "LG 사이언스파크",
           "강서구",
           "2018-11-20"
          ],
          [
           "우장산역 3번출구",
           "강서구",
           "2018-12-04"
          ],
          [
           "개화광역환승센터",
           "강서구",
           "2018-12-14"
          ],
          [
           "가락시장역 3번 출구",
           "송파구",
           "2017-06-22"
          ],
          [
           "밀리아나2빌딩 앞",
           "송파구",
           "2017-05-26"
          ],
          [
           "거여역 3번출구",
           "송파구",
           "2017-06-28"
          ],
          [
           "종합운동장역 4번출구",
           "송파구",
           "2017-04-24"
          ],
          [
           "9호선종합운동장역 9번출구",
           "송파구",
           "2017-04-24"
          ],
          [
           "마천CU우방점 앞",
           "송파구",
           "2017-05-26"
          ],
          [
           "풍납현대아파트쉼터",
           "송파구",
           "2017-04-24"
          ],
          [
           "잠실나루역 (2번 출구 쪽)",
           "송파구",
           "2017-04-24"
          ],
          [
           "롯데월드타워(잠실역2번출구 쪽)",
           "송파구",
           "2017-06-27"
          ],
          [
           "방이삼거리",
           "송파구",
           "2017-05-26"
          ],
          [
           "송파역 2번 출구앞",
           "송파구",
           "2017-06-22"
          ],
          [
           "백토공원 앞",
           "송파구",
           "2017-04-24"
          ],
          [
           "오금역 7번 출구 인근",
           "송파구",
           "2017-05-26"
          ],
          [
           "올림픽공원역 1번출구 앞",
           "송파구",
           "2017-04-24"
          ],
          [
           "송파파인타운 7단지",
           "송파구",
           "2017-04-24"
          ],
          [
           "방이역 4번출구",
           "송파구",
           "2017-06-27"
          ],
          [
           "잠실본동주민센터뒤 잠실근린공원",
           "송파구",
           "2017-04-24"
          ],
          [
           "삼전사거리 포스코더샵",
           "송파구",
           "2017-07-11"
          ],
          [
           "잠실새내역 5번 출구 뒤",
           "송파구",
           "2017-04-24"
          ],
          [
           "아시아지하보도 2번 출구",
           "송파구",
           "2017-04-24"
          ],
          [
           "잠실4동 주민센터 옆",
           "송파구",
           "2017-06-27"
          ],
          [
           "거여역 8번출구 뒤",
           "송파구",
           "2017-06-27"
          ],
          [
           "마천사거리",
           "송파구",
           "2017-06-27"
          ],
          [
           "송파체육문화회관 앞",
           "송파구",
           "2017-04-24"
          ],
          [
           "송파중학교 정문",
           "송파구",
           "2017-06-27"
          ],
          [
           "잠실역 6번출구",
           "송파구",
           "2017-06-22"
          ],
          [
           "롯데마트 주차장 옆",
           "송파구",
           "2017-06-22"
          ],
          [
           "잠실3거리(갤러리아팰리스)",
           "송파구",
           "2017-04-24"
          ],
          [
           "잠실트리지움310동 옆",
           "송파구",
           "2017-04-24"
          ],
          [
           "문정 법조단지3",
           "송파구",
           "2017-06-27"
          ],
          [
           "문정 법조단지4",
           "송파구",
           "2017-06-27"
          ],
          [
           "문정 법조단지5",
           "송파구",
           "2017-06-27"
          ],
          [
           "문정 법조단지6",
           "송파구",
           "2017-06-27"
          ],
          [
           "문정 법조단지7",
           "송파구",
           "2017-06-27"
          ],
          [
           "문정 법조단지8",
           "송파구",
           "2017-06-27"
          ],
          [
           "문정 법조단지9",
           "송파구",
           "2017-06-27"
          ],
          [
           "문정 법조단지10",
           "송파구",
           "2017-06-27"
          ],
          [
           "문정 법조단지11",
           "송파구",
           "2017-06-27"
          ],
          [
           "방이초등학교",
           "송파구",
           "2017-06-27"
          ],
          [
           "아주중학교건너편",
           "송파구",
           "2017-06-27"
          ],
          [
           "문정2동 주민센터",
           "송파구",
           "2017-10-18"
          ],
          [
           "석촌역 2번출구",
           "송파구",
           "2017-11-01"
          ],
          [
           "오금역 3번 출구 뒤",
           "송파구",
           "2017-11-01"
          ],
          [
           "문정현대아파트 교차로",
           "송파구",
           "2017-11-01"
          ],
          [
           "가락시장역 롯데마트앞",
           "송파구",
           "2017-11-01"
          ],
          [
           "가락미륭아파트 앞",
           "송파구",
           "2017-11-01"
          ],
          [
           "방이역 1번출구",
           "송파구",
           "2017-11-01"
          ],
          [
           "방이동 한양3차아파트 옆",
           "송파구",
           "2017-11-01"
          ],
          [
           "송파여성문화회관 앞",
           "송파구",
           "2017-11-01"
          ],
          [
           "장지공영차고지",
           "송파구",
           "2017-11-01"
          ],
          [
           "천호역 10번 출구 앞",
           "송파구",
           "2017-11-01"
          ],
          [
           "문정동 근린공원",
           "송파구",
           "2017-11-01"
          ],
          [
           "문정동 글샘 공원",
           "송파구",
           "2017-11-01"
          ],
          [
           "올림픽공원 남2문 앞",
           "송파구",
           "2020-06-25"
          ],
          [
           "몽촌토성역 1번출구 옆",
           "송파구",
           "2020-06-25"
          ],
          [
           "리센츠아파트",
           "송파구",
           "2017-11-01"
          ],
          [
           "송파도서관",
           "송파구",
           "2017-11-01"
          ],
          [
           "영파여고 앞",
           "송파구",
           "2017-11-01"
          ],
          [
           "거여초등학교 옆",
           "송파구",
           "2017-12-22"
          ],
          [
           "오금동 송파 참병원",
           "송파구",
           "2018-02-26"
          ],
          [
           "송파구청 교차로",
           "송파구",
           "2018-02-26"
          ],
          [
           "마천금호어울림 1차아파트 건너편",
           "송파구",
           "2018-02-26"
          ],
          [
           "송파파크데일 2단지입구 앞 주차장",
           "송파구",
           "2018-02-26"
          ],
          [
           "송파소방서 맞은편(성내4교)",
           "송파구",
           "2018-02-26"
          ],
          [
           "오금공원 사거리",
           "송파구",
           "2018-02-26"
          ],
          [
           "위례별 유치원 뒤",
           "송파구",
           "2018-02-26"
          ],
          [
           "위례중앙푸르지오 1단지 앞",
           "송파구",
           "2018-02-26"
          ],
          [
           "위례아이파크 101동 맞은편",
           "송파구",
           "2018-02-26"
          ],
          [
           "문정중교 사거리",
           "송파구",
           "2018-02-26"
          ],
          [
           "풍납동 자전거보관소",
           "송파구",
           "2018-02-26"
          ],
          [
           "위례송파꿈에그린아파트24단지 앞 성벽 다리 밑",
           "송파구",
           "2018-09-14"
          ],
          [
           "서울체육고등학교 앞",
           "송파구",
           "2018-09-07"
          ],
          [
           "석촌호교차로 (스타벅스 앞)",
           "송파구",
           "2018-09-12"
          ],
          [
           "잠실역 8번출구",
           "송파구",
           "2018-09-07"
          ],
          [
           "석촌호수교차로 (송파나루근린공원 앞)",
           "송파구",
           "2018-11-05"
          ],
          [
           "석촌호수교차로(동호 팔각정 앞)",
           "송파구",
           "2018-09-07"
          ],
          [
           "송파소방서 (방이119안전센터)",
           "송파구",
           "2018-09-11"
          ],
          [
           "오륜사거리",
           "송파구",
           "2018-10-25"
          ],
          [
           "한성대입구역6번출구 뒤",
           "성북구",
           "2017-06-20"
          ],
          [
           "돈암초교 입구",
           "성북구",
           "2017-06-30"
          ],
          [
           "만해공원",
           "성북구",
           "2017-06-20"
          ],
          [
           "성북구청",
           "성북구",
           "2017-08-03"
          ],
          [
           "한성대입구역2번출구",
           "성북구",
           "2017-06-22"
          ],
          [
           "안암로터리 버스정류장 앞",
           "성북구",
           "2017-06-20"
          ],
          [
           "정릉꿈에그린1단지 201동 앞",
           "성북구",
           "2017-04-26"
          ],
          [
           "고려사대부속중고 정문",
           "성북구",
           "2017-04-26"
          ],
          [
           "고려사대부속중고 건너편",
           "성북구",
           "2017-04-26"
          ],
          [
           "길음역 3번출구 뒤",
           "성북구",
           "2017-04-26"
          ],
          [
           "종암사거리 분수대",
           "성북구",
           "2017-04-26"
          ],
          [
           "국민은행 종암동지점 앞",
           "성북구",
           "2017-05-11"
          ],
          [
           "래미안라센트아파트 103동 앞",
           "성북구",
           "2017-04-26"
          ],
          [
           "월곡역 입구 육교 밑",
           "성북구",
           "2017-04-26"
          ],
          [
           "상월곡역 4번출구",
           "성북구",
           "2017-04-26"
          ],
          [
           "상월곡역 1번출구",
           "성북구",
           "2017-04-26"
          ],
          [
           "상월곡역 3번출구",
           "성북구",
           "2017-04-26"
          ],
          [
           "월곡역 3번출구",
           "성북구",
           "2017-06-27"
          ],
          [
           "석계역 5번출구 건너편",
           "성북구",
           "2017-04-26"
          ],
          [
           "석관초등학교 앞",
           "성북구",
           "2017-04-26"
          ],
          [
           "석관동주민센터 앞",
           "성북구",
           "2017-04-26"
          ],
          [
           "성북3교 위",
           "성북구",
           "2017-11-13"
          ],
          [
           "돈암성당 옆",
           "성북구",
           "2017-11-13"
          ],
          [
           "용문2교 옆",
           "성북구",
           "2017-11-13"
          ],
          [
           "삼성전자서비스 성북센터",
           "성북구",
           "2017-11-13"
          ],
          [
           "광운초등학교 앞",
           "성북구",
           "2017-11-13"
          ],
          [
           "성북쉼터 앞",
           "성북구",
           "2017-11-13"
          ],
          [
           "한성대7번출구 앞",
           "성북구",
           "2017-11-13"
          ],
          [
           "아리랑시네센터 앞",
           "성북구",
           "2017-11-13"
          ],
          [
           "길음8골어린이공원 옆",
           "성북구",
           "2017-11-13"
          ],
          [
           "길음래미안아파트817동 상가 앞",
           "성북구",
           "2017-11-13"
          ],
          [
           "성북제일새마을금고 본점 앞",
           "성북구",
           "2017-11-13"
          ],
          [
           "월계2교 버스정류장 앞",
           "성북구",
           "2017-11-13"
          ],
          [
           "안암2교 옆",
           "성북구",
           "2017-11-13"
          ],
          [
           "e 편한세상 보문아파트 내",
           "성북구",
           "2017-11-13"
          ],
          [
           "금호어울림센터힐 내",
           "성북구",
           "2017-11-13"
          ],
          [
           "고려대학교 2번출구",
           "성북구",
           "2017-11-28"
          ],
          [
           "보문2교",
           "성북구",
           "2017-12-22"
          ],
          [
           "북한산보국문역",
           "성북구",
           "2018-02-26"
          ],
          [
           "정릉도서관 앞",
           "성북구",
           "2018-02-26"
          ],
          [
           "장위뉴타운 꿈에 숲 코오롱 하늘채 앞",
           "성북구",
           "2018-02-26"
          ],
          [
           "정릉역",
           "성북구",
           "2018-02-26"
          ],
          [
           "홍익중고 입구",
           "성북구",
           "2018-02-26"
          ],
          [
           "보문역6번출구 앞",
           "성북구",
           "2018-11-02"
          ],
          [
           "보문4교 인근",
           "성북구",
           "2018-11-04"
          ],
          [
           "성북동 치안센터 앞",
           "성북구",
           "2018-11-02"
          ],
          [
           "선잠단지 앞",
           "성북구",
           "2018-10-27"
          ],
          [
           "일신초등학교 옆",
           "성북구",
           "2018-10-26"
          ],
          [
           "길음문화복합미디어센터",
           "성북구",
           "2018-11-02"
          ],
          [
           "성신여대입구 교차로",
           "성북구",
           "2018-11-02"
          ],
          [
           "미아사거리",
           "성북구",
           "2018-10-26"
          ],
          [
           "복자사랑 피정의 집",
           "성북구",
           "2018-10-27"
          ],
          [
           "KEB은행 고대점",
           "성북구",
           "2018-10-24"
          ],
          [
           "성북구보건소 건너편",
           "성북구",
           "2020-09-24"
          ],
          [
           "생명의 전화 종합복지관 앞 교차로",
           "성북구",
           "2018-12-27"
          ],
          [
           "한국과학기술연구원 중문",
           "성북구",
           "2019-05-21"
          ],
          [
           "한국과학기술연구원 북문",
           "성북구",
           "2019-05-21"
          ],
          [
           "길음뉴타운푸르지오아파트 3단지",
           "성북구",
           "2020-03-26"
          ],
          [
           "월곡역 5번출구 앞",
           "성북구",
           "2020-03-30"
          ],
          [
           "석계역 4번출구 뒤",
           "성북구",
           "2020-03-25"
          ],
          [
           "래미안월곡아파트 입구",
           "성북구",
           "2020-03-26"
          ],
          [
           "성신여대입구역 5번출구",
           "성북구",
           "2020-03-28"
          ],
          [
           "성신여대입구역 3번출구 앞",
           "성북구",
           "2020-06-17"
          ],
          [
           "동선고가차도 초입",
           "성북구",
           "2020-03-28"
          ],
          [
           "커핀그루나루",
           "성북구",
           "2020-03-28"
          ],
          [
           "석관래미안아트리치",
           "성북구",
           "2020-05-05"
          ],
          [
           "성북청소년센터",
           "성북구",
           "2020-03-24"
          ],
          [
           "돈암삼성풍림아파트",
           "성북구",
           "2020-03-27"
          ],
          [
           "돈암육교 하단",
           "성북구",
           "2020-05-05"
          ],
          [
           "길음뉴타운 래미안9단지",
           "성북구",
           "2020-03-27"
          ],
          [
           "레미안장위포레카운티(102동)",
           "성북구",
           "2020-03-25"
          ],
          [
           "레미안장위퍼스트하이(513동)",
           "성북구",
           "2020-03-25"
          ],
          [
           "극동늘푸른아파트",
           "중랑구",
           "2017-04-26"
          ],
          [
           "금란주차장 앞",
           "중랑구",
           "2017-04-26"
          ],
          [
           "중화빌딩 앞 (동부시장)",
           "중랑구",
           "2017-04-26"
          ],
          [
           "동일로 지하차도",
           "중랑구",
           "2017-05-02"
          ],
          [
           "망우역 1번출구",
           "중랑구",
           "2017-04-26"
          ],
          [
           "망우청소년수련관",
           "중랑구",
           "2017-04-26"
          ],
          [
           "먹골역 1번출구 뒤",
           "중랑구",
           "2017-06-22"
          ],
          [
           "먹골역 6번출구 앞",
           "중랑구",
           "2017-04-26"
          ],
          [
           "면목 대원칸타빌아파트",
           "중랑구",
           "2017-04-26"
          ],
          [
           "상봉시장앞 교차로 한성빌딩 앞",
           "중랑구",
           "2017-06-27"
          ],
          [
           "면목초등학교",
           "중랑구",
           "2017-04-26"
          ],
          [
           "봉화산역 5번출구 뒤",
           "중랑구",
           "2017-04-26"
          ],
          [
           "사가정역 1번출구",
           "중랑구",
           "2017-06-22"
          ],
          [
           "상봉역 3번출구",
           "중랑구",
           "2017-06-22"
          ],
          [
           "새솔초등학교",
           "중랑구",
           "2017-04-26"
          ],
          [
           "신내어울공원 앞",
           "중랑구",
           "2017-04-26"
          ],
          [
           "신내역 4번출구",
           "중랑구",
           "2017-04-26"
          ],
          [
           "신내우디안아파트 1단지",
           "중랑구",
           "2017-04-26"
          ],
          [
           "양원역 2번출구",
           "중랑구",
           "2017-04-26"
          ],
          [
           "용마문화복지센터",
           "중랑구",
           "2017-04-26"
          ],
          [
           "면목도시개발아파트 1동 앞",
           "중랑구",
           "2017-04-26"
          ],
          [
           "용마산역 1번출구",
           "중랑구",
           "2017-06-22"
          ],
          [
           "원묵고등학교",
           "중랑구",
           "2017-06-22"
          ],
          [
           "장안중학교",
           "중랑구",
           "2017-06-22"
          ],
          [
           "중랑구청",
           "중랑구",
           "2017-06-22"
          ],
          [
           "중랑구청 사거리",
           "중랑구",
           "2017-06-22"
          ],
          [
           "중화역 2번출구",
           "중랑구",
           "2017-06-22"
          ],
          [
           "능산삼거리",
           "중랑구",
           "2017-04-26"
          ],
          [
           "영풍마드레빌",
           "중랑구",
           "2017-04-26"
          ],
          [
           "늘푸른공원 앞",
           "중랑구",
           "2017-04-26"
          ],
          [
           "홈플러스 신내점 앞",
           "중랑구",
           "2017-04-26"
          ],
          [
           "하나은행 면목지점",
           "중랑구",
           "2017-08-01"
          ],
          [
           "신내능말공원",
           "중랑구",
           "2017-04-26"
          ],
          [
           "(구)신한은행 중랑교지점",
           "중랑구",
           "2017-11-01"
          ],
          [
           "면목4치안센터",
           "중랑구",
           "2017-11-01"
          ],
          [
           "용마지구대",
           "중랑구",
           "2017-11-01"
          ],
          [
           "중랑전화국 교차로",
           "중랑구",
           "2017-11-01"
          ],
          [
           "면목역 3번출구",
           "중랑구",
           "2017-11-01"
          ],
          [
           "코스트코 상봉점",
           "중랑구",
           "2017-11-01"
          ],
          [
           "상봉역 1번출구",
           "중랑구",
           "2017-11-28"
          ],
          [
           "화랑대역 7번출구",
           "중랑구",
           "2017-11-28"
          ],
          [
           "중랑세무서",
           "중랑구",
           "2017-11-28"
          ],
          [
           "겸재교 진입부",
           "중랑구",
           "2017-11-29"
          ],
          [
           "중랑캠핑숲",
           "중랑구",
           "2017-12-22"
          ],
          [
           "한국전력공사(동대문 중랑지사)",
           "중랑구",
           "2017-12-22"
          ],
          [
           "상봉역 2번 출구",
           "중랑구",
           "2018-02-13"
          ],
          [
           "상아빌딩(우림시장 교차로)",
           "중랑구",
           "2018-02-26"
          ],
          [
           "동원사거리",
           "중랑구",
           "2018-02-26"
          ],
          [
           "상봉터미널2",
           "중랑구",
           "2018-11-02"
          ],
          [
           "용마한신아파트사거리",
           "중랑구",
           "2018-10-29"
          ],
          [
           "동양엔파트 앞",
           "중랑구",
           "2020-04-21"
          ],
          [
           "동부시장 북문 앞",
           "중랑구",
           "2020-05-05"
          ],
          [
           "중랑구민회관",
           "중랑구",
           "2020-04-30"
          ],
          [
           "중화역 4번출구",
           "중랑구",
           "2020-04-21"
          ],
          [
           "중랑공영차고지 옆",
           "중랑구",
           "2020-04-14"
          ],
          [
           "두산대림아파트 삼거리",
           "중랑구",
           "2020-04-14"
          ],
          [
           "sk신내 주유소앞(용마산로)",
           "중랑구",
           "2020-04-14"
          ],
          [
           "먹골역 7번 출구",
           "중랑구",
           "2020-04-21"
          ],
          [
           "먹골역 4번출구",
           "중랑구",
           "2020-04-21"
          ],
          [
           "중화동 우리은행 앞",
           "중랑구",
           "2020-04-20"
          ],
          [
           "동양쇼핑 정류소 앞",
           "중랑구",
           "2020-06-18"
          ],
          [
           "영성빌딩(PAT)",
           "중랑구",
           "2020-04-20"
          ],
          [
           "중랑역 1번 출구(중화문화복지센터)",
           "중랑구",
           "2020-04-21"
          ],
          [
           "서울중랑우체국",
           "중랑구",
           "2020-05-05"
          ],
          [
           "면목삼익아파트 앞",
           "중랑구",
           "2020-04-14"
          ],
          [
           "홈플러스 상봉점 앞",
           "중랑구",
           "2020-04-21"
          ],
          [
           "면목 홈플러스 2 ",
           "중랑구",
           "2020-04-14"
          ],
          [
           " 용마지구대 옆",
           "중랑구",
           "2020-04-16"
          ],
          [
           "미아역 3번,4번 출구 사이",
           "강북구",
           "2017-08-03"
          ],
          [
           "이디야 커피 수유역점 앞",
           "강북구",
           "2017-05-11"
          ],
          [
           "다이소 삼양시장점",
           "강북구",
           "2017-05-11"
          ],
          [
           "강북문화예술회관",
           "강북구",
           "2017-05-11"
          ],
          [
           "서울북부수도사업소",
           "강북구",
           "2017-06-22"
          ],
          [
           "번동주공5단지 관리사무소 앞",
           "강북구",
           "2017-06-22"
          ],
          [
           "번동 금호어울림아파트102동앞",
           "강북구",
           "2017-06-22"
          ],
          [
           "강북중학교 앞",
           "강북구",
           "2017-06-22"
          ],
          [
           "강북구청 뒷편",
           "강북구",
           "2017-06-22"
          ],
          [
           "강북구청 사거리 버스정류소 앞",
           "강북구",
           "2017-05-11"
          ],
          [
           "송천동 주민센터",
           "강북구",
           "2017-05-11"
          ],
          [
           "우이초등학교 후문 옆",
           "강북구",
           "2017-05-11"
          ],
          [
           "SK telecom(수유직영점) 앞",
           "강북구",
           "2017-05-11"
          ],
          [
           "세븐일레븐 수유장미원점 앞",
           "강북구",
           "2017-05-11"
          ],
          [
           "성실교회",
           "강북구",
           "2021-01-25"
          ],
          [
           "월드전기조명인테리어(우이동)",
           "강북구",
           "2017-06-22"
          ],
          [
           "미아동 복합청사",
           "강북구",
           "2017-05-11"
          ],
          [
           "수유동 채선당앞",
           "강북구",
           "2017-11-01"
          ],
          [
           "미아역 1번 출구 뒤",
           "강북구",
           "2017-11-01"
          ],
          [
           "삼각산동 주민센터",
           "강북구",
           "2017-11-01"
          ],
          [
           "미아동 한국전력공사",
           "강북구",
           "2017-11-01"
          ],
          [
           "광산사거리",
           "강북구",
           "2017-11-01"
          ],
          [
           "미아사거리 1번 출구",
           "강북구",
           "2017-11-01"
          ],
          [
           "번3동 주민센터 교차로",
           "강북구",
           "2017-11-01"
          ],
          [
           "번동 주공3, 4단지 교차로",
           "강북구",
           "2017-11-01"
          ],
          [
           "효성인텔리안 앞",
           "강북구",
           "2017-11-01"
          ],
          [
           "번동 두산위브 101동 옆",
           "강북구",
           "2017-11-01"
          ],
          [
           "북한산 우이역",
           "강북구",
           "2018-02-26"
          ],
          [
           "솔밭공원역",
           "강북구",
           "2018-02-26"
          ],
          [
           "4.19민주묘지역",
           "강북구",
           "2018-02-26"
          ],
          [
           "가오리역",
           "강북구",
           "2018-02-26"
          ],
          [
           "삼양역",
           "강북구",
           "2018-02-26"
          ],
          [
           "삼양사거리역",
           "강북구",
           "2018-02-26"
          ],
          [
           "수유1동 주민센터",
           "강북구",
           "2018-02-26"
          ],
          [
           "송천동우체국",
           "강북구",
           "2018-10-25"
          ],
          [
           "꿈의숲 롯데캐슬",
           "강북구",
           "2018-12-14"
          ],
          [
           "북서울 꿈의숲 서문",
           "강북구",
           "2018-12-14"
          ],
          [
           "삼각산아이원아파트(105동 옆)",
           "강북구",
           "2020-07-21"
          ],
          [
           "4.19탑 앞",
           "강북구",
           "2020-03-25"
          ],
          [
           "강북구청사거리(던킨도너츠 앞)",
           "강북구",
           "2020-03-25"
          ],
          [
           "예수그리스도후기성도교회 앞",
           "강북구",
           "2020-03-26"
          ],
          [
           "번동사거리",
           "강북구",
           "2020-03-25"
          ],
          [
           "신창교",
           "강북구",
           "2020-03-27"
          ],
          [
           "강북문화정보도서관",
           "강북구",
           "2020-03-26"
          ],
          [
           "도봉세무서 앞",
           "강북구",
           "2020-03-27"
          ],
          [
           "4.19민주묘지역 1번출구",
           "강북구",
           "2020-03-25"
          ],
          [
           "대한병원앞",
           "강북구",
           "2020-03-25"
          ],
          [
           "4.19민주묘지 입구사거리",
           "강북구",
           "2020-03-25"
          ],
          [
           "수유역2번출구",
           "강북구",
           "2020-03-28"
          ],
          [
           "북서울 꿈의숲 입구",
           "강북구",
           "2020-05-08"
          ],
          [
           "우이산 입구",
           "강북구",
           "2020-05-08"
          ],
          [
           "현대성우아파트 옆",
           "강북구",
           "2020-05-05"
          ],
          [
           "송중초등학교 옆",
           "강북구",
           "2020-05-05"
          ],
          [
           "석계역 문화광장 내 자전거 보관소",
           "노원구",
           "2017-05-08"
          ],
          [
           "광운대역 앞",
           "노원구",
           "2017-06-27"
          ],
          [
           "헬스케어",
           "노원구",
           "2017-06-22"
          ],
          [
           "태릉입구역 3번출구",
           "노원구",
           "2017-05-08"
          ],
          [
           "공릉역 1번 출구 앞",
           "노원구",
           "2017-05-26"
          ],
          [
           "화랑대역 2번출구 앞",
           "노원구",
           "2017-05-08"
          ],
          [
           "과기대 입구(우)",
           "노원구",
           "2017-05-08"
          ],
          [
           "하계2동 공항버스정류장 옆",
           "노원구",
           "2017-05-08"
          ],
          [
           "하계동 중평어린이공원 앞",
           "노원구",
           "2017-05-08"
          ],
          [
           "중계동 하나프라자빌딩 앞(중1-1)",
           "노원구",
           "2017-05-26"
          ],
          [
           "중계동 노원구민체육센터 옆(중1-2)",
           "노원구",
           "2017-06-22"
          ],
          [
           "상계역(4번출구)",
           "노원구",
           "2017-06-27"
          ],
          [
           "수락산역 4번출구",
           "노원구",
           "2020-12-31"
          ],
          [
           "노일초등학교 앞",
           "노원구",
           "2017-06-22"
          ],
          [
           "수연빌딩 앞",
           "노원구",
           "2020-09-02"
          ],
          [
           "당고개공원 대여소",
           "노원구",
           "2017-05-08"
          ],
          [
           "상계3.4동 주민센터 대여소",
           "노원구",
           "2017-05-08"
          ],
          [
           "백병원 사거리 농협은행 앞",
           "노원구",
           "2017-05-08"
          ],
          [
           "KT 노원점 건물 앞",
           "노원구",
           "2017-05-08"
          ],
          [
           "희성오피앙",
           "노원구",
           "2017-05-08"
          ],
          [
           "한내근린공원 북측",
           "노원구",
           "2017-08-31"
          ],
          [
           "한내근린공원 남측",
           "노원구",
           "2017-08-30"
          ],
          [
           "서울여대 남문",
           "노원구",
           "2017-08-23"
          ],
          [
           "태릉입구역 8번출구",
           "노원구",
           "2017-11-01"
          ],
          [
           "삼육대 입구",
           "노원구",
           "2017-11-01"
          ],
          [
           "중계근린공원내",
           "노원구",
           "2017-11-01"
          ],
          [
           "맥도날드 상계점 앞",
           "노원구",
           "2017-11-01"
          ],
          [
           "파르코 앞",
           "노원구",
           "2017-11-01"
          ],
          [
           "노원역1번출구",
           "노원구",
           "2017-11-01"
          ],
          [
           "당고개입구 오거리",
           "노원구",
           "2017-11-01"
          ],
          [
           "공릉1단지아파트",
           "노원구",
           "2017-11-01"
          ],
          [
           "중앙하이츠 아파트 입구",
           "노원구",
           "2017-11-01"
          ],
          [
           "노원구청",
           "노원구",
           "2017-11-01"
          ],
          [
           "중계동 을지중학교",
           "노원구",
           "2017-11-01"
          ],
          [
           "서울시립과학관",
           "노원구",
           "2017-11-01"
          ],
          [
           "당현천근린공원",
           "노원구",
           "2017-11-28"
          ],
          [
           "노원역7번출구",
           "노원구",
           "2017-11-28"
          ],
          [
           "동해문화예술관앞",
           "노원구",
           "2017-11-28"
          ],
          [
           "노해근린공원내",
           "노원구",
           "2017-11-28"
          ],
          [
           "양지근린공원앞",
           "노원구",
           "2017-11-28"
          ],
          [
           "노원소방서인근",
           "노원구",
           "2017-11-28"
          ],
          [
           "중계중학교",
           "노원구",
           "2017-11-28"
          ],
          [
           "중계역 6번출구",
           "노원구",
           "2017-11-28"
          ],
          [
           "중계역 3번출구",
           "노원구",
           "2017-11-28"
          ],
          [
           "노원경찰서교차로",
           "노원구",
           "2017-11-28"
          ],
          [
           "인덕대학교",
           "노원구",
           "2017-11-28"
          ],
          [
           "상계동수락리버시티",
           "노원구",
           "2017-11-28"
          ],
          [
           "노원역 5번출구",
           "노원구",
           "2017-11-28"
          ],
          [
           "서울북부고용센터앞",
           "노원구",
           "2017-11-28"
          ],
          [
           "월계문화체육센터",
           "노원구",
           "2017-12-22"
          ],
          [
           "육군사관학교 앞",
           "노원구",
           "2017-12-22"
          ],
          [
           "성서대학교 밀알관",
           "노원구",
           "2018-02-26"
          ],
          [
           "삼육대 도서관",
           "노원구",
           "2018-02-26"
          ],
          [
           "삼육대 제3과학관",
           "노원구",
           "2018-02-26"
          ],
          [
           "현대6차 아파트",
           "노원구",
           "2018-03-15"
          ],
          [
           "중계종합사회복지관 교차로",
           "노원구",
           "2018-03-15"
          ],
          [
           "노원문화예술회관",
           "노원구",
           "2018-10-27"
          ],
          [
           "태릉입구역 5번출구",
           "노원구",
           "2018-10-27"
          ],
          [
           "불암고등학교 앞 횡단보도",
           "노원구",
           "2018-10-27"
          ],
          [
           "온수골사거리(스타벅스앞)",
           "노원구",
           "2018-11-02"
          ],
          [
           "마들역 7번출구",
           "노원구",
           "2018-11-02"
          ],
          [
           "마들역 3번출구",
           "노원구",
           "2018-11-02"
          ],
          [
           "도봉운전면허시험장",
           "노원구",
           "2018-11-02"
          ],
          [
           "노원정보도서관",
           "노원구",
           "2018-11-02"
          ],
          [
           "온곡초교 교차로",
           "노원구",
           "2018-12-14"
          ],
          [
           "원자력 병원",
           "노원구",
           "2019-03-29"
          ],
          [
           "수락리버시티4단지",
           "노원구",
           "2020-03-21"
          ],
          [
           "상계주공2단지 219동",
           "노원구",
           "2020-03-23"
          ],
          [
           "녹천역 1번출구 앞",
           "도봉구",
           "2017-05-08"
          ],
          [
           "도봉산광역환승센터앞",
           "도봉구",
           "2017-05-11"
          ],
          [
           "도봉구청 정문앞",
           "도봉구",
           "2017-05-08"
          ],
          [
           "기업은행 앞",
           "도봉구",
           "2017-06-27"
          ],
          [
           "도봉구민회관",
           "도봉구",
           "2017-05-08"
          ],
          [
           "보건소사거리(다비치안경창동점)",
           "도봉구",
           "2017-05-11"
          ],
          [
           "쌍문역4번출구 주변",
           "도봉구",
           "2017-05-08"
          ],
          [
           "쌍문동 이안아파트 앞",
           "도봉구",
           "2020-08-14"
          ],
          [
           "도봉문화정보도서관 삼거리",
           "도봉구",
           "2017-11-01"
          ],
          [
           "서울특별시교육청도봉도서관",
           "도봉구",
           "2017-11-01"
          ],
          [
           "하나로마트 창동점",
           "도봉구",
           "2017-11-01"
          ],
          [
           "시립창동운동장 입구",
           "도봉구",
           "2017-11-01"
          ],
          [
           "신도봉사거리 버스정류장",
           "도봉구",
           "2017-11-01"
          ],
          [
           "도봉구청 옆(중랑천변)",
           "도봉구",
           "2017-11-01"
          ],
          [
           "창동역 2번출구",
           "도봉구",
           "2017-11-01"
          ],
          [
           "창동청소년수련관",
           "도봉구",
           "2017-11-28"
          ],
          [
           "방학동학마을도서관",
           "도봉구",
           "2017-11-28"
          ],
          [
           "창1동주민센터",
           "도봉구",
           "2017-11-28"
          ],
          [
           "삼익세라믹아파트교차로",
           "도봉구",
           "2017-11-28"
          ],
          [
           "서울도봉초등학교인근",
           "도봉구",
           "2017-11-28"
          ],
          [
           "서울북부지방법원",
           "도봉구",
           "2018-07-02"
          ],
          [
           "파리바게트앞",
           "도봉구",
           "2018-10-27"
          ],
          [
           "도봉산역 교차로 앞",
           "도봉구",
           "2018-10-27"
          ],
          [
           "도봉고등학교 맞은편",
           "도봉구",
           "2018-11-02"
          ],
          [
           "우리은행 앞",
           "도봉구",
           "2018-10-27"
          ],
          [
           "방학사거리 (봄마당 앞)",
           "도봉구",
           "2018-10-27"
          ],
          [
           "쌍문현대1차아파트 108동 앞",
           "도봉구",
           "2018-10-27"
          ],
          [
           "도봉역 1,2번 출구사이 건너편",
           "도봉구",
           "2018-10-27"
          ],
          [
           "버스정류장 앞",
           "도봉구",
           "2018-10-27"
          ],
          [
           "하나은행 (창동점)",
           "도봉구",
           "2018-10-27"
          ],
          [
           "창동주공17단지 상가앞",
           "도봉구",
           "2018-12-14"
          ],
          [
           "제일강산수산입구",
           "도봉구",
           "2018-10-27"
          ],
          [
           "북한산 코오롱 하늘채",
           "도봉구",
           "2018-12-14"
          ],
          [
           "창동19단지아파트 관리사무소앞",
           "도봉구",
           "2020-03-17"
          ],
          [
           "KT방학지사 앞",
           "도봉구",
           "2020-03-21"
          ],
          [
           " 다이소방학점 앞",
           "도봉구",
           "2020-03-21"
          ],
          [
           " 피자헛 앞(도봉병원 옆)",
           "도봉구",
           "2020-03-21"
          ],
          [
           " ESA아파트 상가 앞",
           "도봉구",
           "2020-03-21"
          ],
          [
           " 창포원 남쪽 입구",
           "도봉구",
           "2020-03-23"
          ],
          [
           " 창원초등학교 교차로",
           "도봉구",
           "2020-03-23"
          ],
          [
           " 창동 주공 4단지 입구 옆",
           "도봉구",
           "2020-03-17"
          ],
          [
           " 창동시장입구 사거리",
           "도봉구",
           "2020-03-17"
          ],
          [
           "서울북부광역등기국",
           "도봉구",
           "2020-03-17"
          ],
          [
           "솔밭공원역 1번출구 앞",
           "도봉구",
           "2020-03-25"
          ],
          [
           "북서울교회 버스정류소 앞",
           "도봉구",
           "2020-03-25"
          ],
          [
           "서울북부지방법원 앞",
           "도봉구",
           "2020-03-18"
          ],
          [
           "방학중학교 앞",
           "도봉구",
           "2020-03-21"
          ],
          [
           "북한산 한신휴플러스APT앞",
           "도봉구",
           "2020-03-18"
          ],
          [
           "쌍문역 1번 출구(양산부인과 빌딩)",
           "도봉구",
           "2020-03-18"
          ],
          [
           "태양중앙교회 앞",
           "도봉구",
           "2020-03-21"
          ],
          [
           "신동아타워 버스정류소",
           "도봉구",
           "2020-03-21"
          ],
          [
           "도봉한신아파트 주변",
           "도봉구",
           "2020-07-30"
          ],
          [
           "성원APT버스정류소",
           "도봉구",
           "2020-03-18"
          ],
          [
           "시립도봉노인복지관 버스정류소",
           "도봉구",
           "2020-03-23"
          ],
          [
           "반석교회(쌍문동)",
           "도봉구",
           "2020-03-17"
          ],
          [
           "신원리베르텔 앞",
           "도봉구",
           "2020-03-17"
          ],
          [
           "독산역 2번출구 자전거주차장",
           "금천구",
           "2017-05-08"
          ],
          [
           "서울디지털운동장 앞",
           "금천구",
           "2017-05-08"
          ],
          [
           "에이스하이엔드타워9차 앞",
           "금천구",
           "2017-05-08"
          ],
          [
           "에이스하이엔드타워8차 앞",
           "금천구",
           "2017-05-08"
          ],
          [
           "LG전자 별관동(호서대 벤처타워 맞은편)",
           "금천구",
           "2017-05-08"
          ],
          [
           "갑을그레이트밸리 앞",
           "금천구",
           "2017-05-08"
          ],
          [
           "두산위브아파트 옆 상가건물 앞",
           "금천구",
           "2017-05-08"
          ],
          [
           "금천폭포공원 앞",
           "금천구",
           "2017-05-08"
          ],
          [
           "금천구청 앞 자전거거치대",
           "금천구",
           "2017-05-10"
          ],
          [
           "신한은행 시흥대로금융센터지점",
           "금천구",
           "2017-05-08"
          ],
          [
           "홈플러스 시흥점 맞은편 다비치안경 앞",
           "금천구",
           "2017-05-08"
          ],
          [
           "서울 시흥동우체국 앞",
           "금천구",
           "2017-05-08"
          ],
          [
           "상신정비공업 앞",
           "금천구",
           "2017-05-08"
          ],
          [
           "독산근린공원 입구",
           "금천구",
           "2017-05-08"
          ],
          [
           "한신아파트 앞 육교 아래",
           "금천구",
           "2020-10-28"
          ],
          [
           "한신코아 앞",
           "금천구",
           "2017-05-08"
          ],
          [
           "독산보도육교 앞 자전거 보관소",
           "금천구",
           "2017-05-11"
          ],
          [
           "한양수자인아파트 앞",
           "금천구",
           "2017-05-08"
          ],
          [
           "홈플러스 금천점 앞",
           "금천구",
           "2017-05-08"
          ],
          [
           "빅마켓 금천점 앞",
           "금천구",
           "2017-05-08"
          ],
          [
           "메이퀸웨딩컨벤션 앞",
           "금천구",
           "2017-05-08"
          ],
          [
           "독산역 1번출구 앞 자전거보관소",
           "금천구",
           "2017-05-08"
          ],
          [
           "월드메르디앙 벤처센터 2차",
           "금천구",
           "2017-05-08"
          ],
          [
           "STX V타워",
           "금천구",
           "2017-05-08"
          ],
          [
           "금천구립 독산도서관",
           "금천구",
           "2017-05-11"
          ],
          [
           "수출의 다리 아래",
           "금천구",
           "2017-11-01"
          ],
          [
           "솔브레인이엔지 뒤편",
           "금천구",
           "2017-11-01"
          ],
          [
           "가산동 주민센터",
           "금천구",
           "2017-11-01"
          ],
          [
           "한울중학교",
           "금천구",
           "2017-11-01"
          ],
          [
           "독산고등학교",
           "금천구",
           "2017-11-01"
          ],
          [
           "롯데캐슬골드파크1차 서문",
           "금천구",
           "2017-11-01"
          ],
          [
           "롯데캐슬골드파크1차 동문",
           "금천구",
           "2017-11-01"
          ],
          [
           "독산주공 14단지 버스정류소",
           "금천구",
           "2017-11-01"
          ],
          [
           "벽산 디지털밸리 5차",
           "금천구",
           "2017-11-01"
          ],
          [
           "대륭포스트타워5차",
           "금천구",
           "2017-11-28"
          ],
          [
           "코오롱테크노밸리",
           "금천구",
           "2017-11-28"
          ],
          [
           "가산디지털단지 7번출구",
           "금천구",
           "2018-02-26"
          ],
          [
           "혜명양로원 담장 옆",
           "금천구",
           "2018-10-15"
          ],
          [
           "서울디자인직업전문학교 앞",
           "금천구",
           "2018-10-15"
          ],
          [
           "가산아네스트 오피스텔 앞",
           "금천구",
           "2018-10-01"
          ],
          [
           "성지아파트 옆 도로변",
           "금천구",
           "2018-10-01"
          ],
          [
           "모두의학교",
           "금천구",
           "2018-09-13"
          ],
          [
           "주공14단지",
           "금천구",
           "2020-09-24"
          ],
          [
           "석수역1번출구 앞 (SK주유소)",
           "금천구",
           "2018-10-15"
          ],
          [
           "대륭테크노타운 18차",
           "금천구",
           "2019-03-12"
          ],
          [
           "IBK기업은행 석수역 지점 앞",
           "금천구",
           "2020-02-24"
          ],
          [
           "스타즈호텔독산 빌딩 앞",
           "금천구",
           "2020-02-24"
          ],
          [
           "위너스 스포츠클럽 골프연습장옆",
           "금천구",
           "2020-02-24"
          ],
          [
           "산호시티빌 옆",
           "금천구",
           "2020-02-26"
          ],
          [
           "금천구청앞(M빌딩)",
           "금천구",
           "2020-02-24"
          ],
          [
           "서울안천초등학교 옆",
           "금천구",
           "2020-02-26"
          ],
          [
           "대륭포스트타워6차 앞",
           "금천구",
           "2020-02-26"
          ],
          [
           "우리은행 시흥남자동화점 앞",
           "금천구",
           "2020-02-24"
          ],
          [
           "롯데캐슬골드파크3차 301동 앞",
           "금천구",
           "2020-02-26"
          ],
          [
           "독산3동주민센터 앞",
           "금천구",
           "2020-02-26"
          ],
          [
           "신도림동주민센터 앞",
           "구로구",
           "2017-05-11"
          ],
          [
           "도림천역 1번 출구 앞",
           "구로구",
           "2017-05-11"
          ],
          [
           "신도림역 1번 출구 앞",
           "구로구",
           "2017-05-11"
          ],
          [
           "구일우성(아) 육교 밑",
           "구로구",
           "2017-05-11"
          ],
          [
           "해원리바파크 육교 밑",
           "구로구",
           "2017-05-11"
          ],
          [
           "낙원교회 맞은편",
           "구로구",
           "2017-05-11"
          ],
          [
           "구로디지털단지역 앞",
           "구로구",
           "2017-05-11"
          ],
          [
           "한신휴아파트 앞",
           "구로구",
           "2017-05-11"
          ],
          [
           "구로리공원",
           "구로구",
           "2017-05-11"
          ],
          [
           "대림역4번출구",
           "구로구",
           "2017-06-27"
          ],
          [
           "구로중학교앞",
           "구로구",
           "2017-05-11"
          ],
          [
           "서울미래초등학교 사거리",
           "구로구",
           "2017-05-11"
          ],
          [
           "삼부르네상스파크빌",
           "구로구",
           "2017-05-11"
          ],
          [
           "동양미래대학교 정문 옆",
           "구로구",
           "2017-06-27"
          ],
          [
           "고척스카이돔구장 광장",
           "구로구",
           "2017-05-11"
          ],
          [
           "고척근린공원 고척도서관 앞",
           "구로구",
           "2017-05-11"
          ],
          [
           "개봉지구대 개봉치안센터",
           "구로구",
           "2017-05-11"
          ],
          [
           "개봉역(북측광장)",
           "구로구",
           "2017-06-27"
          ],
          [
           "개봉푸르지오아파트 상가",
           "구로구",
           "2017-05-11"
          ],
          [
           "개봉역 1번 출구 자전거보관서쪽",
           "구로구",
           "2017-06-22"
          ],
          [
           "한진아파트 입구",
           "구로구",
           "2017-05-11"
          ],
          [
           "오류동역 2번출구",
           "구로구",
           "2017-06-22"
          ],
          [
           "온수역 북측",
           "구로구",
           "2017-06-22"
          ],
          [
           "구로역 광장",
           "구로구",
           "2017-06-22"
          ],
          [
           "천왕이펜하우스 4단지 상가 앞",
           "구로구",
           "2017-06-22"
          ],
          [
           "천왕연지타운2단지 앞",
           "구로구",
           "2017-06-22"
          ],
          [
           "천왕역 4번출구 뒤",
           "구로구",
           "2017-06-22"
          ],
          [
           "디지털입구 교차로",
           "구로구",
           "2017-07-27"
          ],
          [
           "도야미리숯불갈비 앞",
           "구로구",
           "2017-11-13"
          ],
          [
           "구일고등학교 정문",
           "구로구",
           "2017-11-13"
          ],
          [
           "강서수도사업소민원센터",
           "구로구",
           "2017-11-13"
          ],
          [
           "구로구의회 앞",
           "구로구",
           "2017-11-13"
          ],
          [
           "화광신문사 앞",
           "구로구",
           "2017-11-13"
          ],
          [
           "신도림테크노근린공원",
           "구로구",
           "2017-11-13"
          ],
          [
           "가리봉동주민센터",
           "구로구",
           "2017-11-13"
          ],
          [
           "원메디타운 앞",
           "구로구",
           "2017-11-13"
          ],
          [
           "삼환로즈빌아파트 105동 옆",
           "구로구",
           "2017-11-13"
          ],
          [
           "한마을아파트 정문상가",
           "구로구",
           "2017-11-13"
          ],
          [
           "참새공원(백곡경노당)",
           "구로구",
           "2017-11-13"
          ],
          [
           "동인오피스텔 건너편 소공원",
           "구로구",
           "2017-11-13"
          ],
          [
           "궁동생태공원",
           "구로구",
           "2017-11-13"
          ],
          [
           "오정초교 앞 보도육교",
           "구로구",
           "2017-11-13"
          ],
          [
           "오리로와 서해안도로 교차로 앞",
           "구로구",
           "2017-11-13"
          ],
          [
           "신도림2차e편한세상아파트 203동 앞",
           "구로구",
           "2017-11-13"
          ],
          [
           "대림역 1번 출입구 밑",
           "구로구",
           "2017-11-13"
          ],
          [
           "남구로역 5번 출입구 앞",
           "구로구",
           "2017-11-13"
          ],
          [
           "천왕역 1번 출입구 앞",
           "구로구",
           "2017-11-13"
          ],
          [
           "구로1동우체국 앞",
           "구로구",
           "2017-11-13"
          ],
          [
           "천왕이펜하우스5단지 앞",
           "구로구",
           "2017-11-13"
          ],
          [
           "구로동롯데아파트",
           "구로구",
           "2017-11-28"
          ],
          [
           "구로구청",
           "구로구",
           "2017-11-28"
          ],
          [
           "구로도서관",
           "구로구",
           "2017-11-28"
          ],
          [
           "태평양물산빌딩",
           "구로구",
           "2018-09-28"
          ],
          [
           "개봉아이파크아파트 앞",
           "구로구",
           "2018-10-15"
          ],
          [
           "고척LIGA아파트 앞",
           "구로구",
           "2018-09-19"
          ],
          [
           "오류동역 맞은편",
           "구로구",
           "2018-09-19"
          ],
          [
           "구로구배드민턴실내체육관 앞",
           "구로구",
           "2018-11-30"
          ],
          [
           "금강수목원아파트 앞",
           "구로구",
           "2018-09-19"
          ],
          [
           "삼성전자 물류센터 앞",
           "구로구",
           "2018-09-19"
          ],
          [
           "구일역 1번 출입구 앞",
           "구로구",
           "2018-10-31"
          ],
          [
           "고척교 교차로",
           "구로구",
           "2018-11-26"
          ],
          [
           "수궁동 성당 주변",
           "구로구",
           "2019-03-12"
          ],
          [
           "신도림4차 e편한세상 아파트 1109동 앞",
           "구로구",
           "2019-03-12"
          ],
          [
           "노들역 1번출구",
           "동작구",
           "2017-05-12"
          ],
          [
           "사육신공원앞",
           "동작구",
           "2017-06-22"
          ],
          [
           "유한양행앞",
           "동작구",
           "2017-05-12"
          ],
          [
           "노량진근린공원 대방공원",
           "동작구",
           "2017-05-12"
          ],
          [
           "보라매역 8번출구",
           "동작구",
           "2017-05-26"
          ],
          [
           "녹십초요양병원앞",
           "동작구",
           "2017-05-26"
          ],
          [
           "장승배기역 5번출구",
           "동작구",
           "2017-05-12"
          ],
          [
           "신대방삼거리역 6번출구쪽",
           "동작구",
           "2017-05-26"
          ],
          [
           "신대방삼거리역 3번출구쪽",
           "동작구",
           "2017-05-12"
          ],
          [
           "장승배기역2번출구뒷편쪽",
           "동작구",
           "2017-05-12"
          ],
          [
           "상도역 1번출구",
           "동작구",
           "2017-05-12"
          ],
          [
           "흑석역 1번출구",
           "동작구",
           "2017-05-12"
          ],
          [
           "흑석역 4번출구",
           "동작구",
           "2017-07-05"
          ],
          [
           "중앙대학교 정문 1",
           "동작구",
           "2017-05-12"
          ],
          [
           "이수역 11번출구쪽",
           "동작구",
           "2017-06-27"
          ],
          [
           "사당동 아르테스 웨딩앞",
           "동작구",
           "2017-05-26"
          ],
          [
           "사당역 7번출구쪽",
           "동작구",
           "2017-06-27"
          ],
          [
           "정금마을 마을버스정류장",
           "동작구",
           "2017-05-12"
          ],
          [
           "동작역 5번출구 동작주차공원",
           "동작구",
           "2017-05-12"
          ],
          [
           "동작역 7번출구",
           "동작구",
           "2017-05-12"
          ],
          [
           "비계 버스정류소",
           "동작구",
           "2017-05-12"
          ],
          [
           "사당중학교 버스정류소",
           "동작구",
           "2017-05-26"
          ],
          [
           "삼일초등학교 인근",
           "동작구",
           "2017-05-26"
          ],
          [
           "노량진역 5번출구",
           "동작구",
           "2017-05-12"
          ],
          [
           "삼익아파트",
           "동작구",
           "2017-05-12"
          ],
          [
           "동작구민 체육센터",
           "동작구",
           "2017-05-26"
          ],
          [
           "상도 아이파크 아파트",
           "동작구",
           "2017-05-12"
          ],
          [
           "노량진동 맥도널드앞",
           "동작구",
           "2017-11-01"
          ],
          [
           "보라매공원 정문",
           "동작구",
           "2017-11-01"
          ],
          [
           "남성역3번출구 뒤",
           "동작구",
           "2017-11-01"
          ],
          [
           "한강 현대아파트 건너편",
           "동작구",
           "2018-07-04"
          ],
          [
           "사당새마을금고",
           "동작구",
           "2017-11-01"
          ],
          [
           "대방역 4번출구",
           "동작구",
           "2017-12-22"
          ],
          [
           "흑석한강푸르지오 106동앞",
           "동작구",
           "2017-12-22"
          ],
          [
           "서울시여성가족재단",
           "동작구",
           "2017-12-22"
          ],
          [
           "양문교회 앞",
           "동작구",
           "2018-10-02"
          ],
          [
           "LG전자 베스트? 대리점 앞",
           "동작구",
           "2018-10-11"
          ],
          [
           "총신대 앞(육교)",
           "동작구",
           "2018-10-11"
          ],
          [
           "숭실대 입구역3번 출구 앞",
           "동작구",
           "2018-10-30"
          ],
          [
           "노량진역 2번 출구 앞",
           "동작구",
           "2018-10-12"
          ],
          [
           "대림아파트 후문 상가 옆",
           "동작구",
           "2019-03-26"
          ],
          [
           "노들나루공원 입구",
           "동작구",
           "2020-04-24"
          ],
          [
           "노들역 3번출구",
           "동작구",
           "2020-04-23"
          ],
          [
           "흑석 아크로리버하임(103동)",
           "동작구",
           "2020-04-22"
          ],
          [
           "중앙대학교 정문",
           "동작구",
           "2020-04-22"
          ],
          [
           "빕스 대방점 앞",
           "동작구",
           "2020-04-23"
          ],
          [
           "7호선 이수역7번출구",
           "동작구",
           "2020-04-26"
          ],
          [
           "흑석롯데캐슬에듀포레(107동)",
           "동작구",
           "2020-04-22"
          ],
          [
           "e편한세상 상도노빌리티 앞",
           "동작구",
           "2020-04-24"
          ],
          [
           "강남중학교 앞",
           "동작구",
           "2020-04-23"
          ],
          [
           "삼일수영장 앞",
           "동작구",
           "2020-04-26"
          ],
          [
           "상도중앙하이츠빌 입구",
           "동작구",
           "2020-04-24"
          ],
          [
           "사당역10번출구(금강빌딩)",
           "동작구",
           "2020-04-26"
          ],
          [
           "기아자동차 사당점 앞",
           "동작구",
           "2020-04-26"
          ],
          [
           "이수역9번출구(맥도날드)",
           "동작구",
           "2020-04-26"
          ],
          [
           "흑석한강푸르지오(110동)",
           "동작구",
           "2020-04-24"
          ],
          [
           "상도SH빌아파트 입구",
           "동작구",
           "2020-05-12"
          ],
          [
           "숭실대학교(중문) ",
           "동작구",
           "2020-04-24"
          ],
          [
           "경문고등학교 앞",
           "동작구",
           "2020-04-24"
          ],
          [
           "서울특별시 동작관악교육지원청",
           "동작구",
           "2020-04-30"
          ],
          [
           "봉림교 교통섬",
           "관악구",
           "2017-05-12"
          ],
          [
           "신림동 우방아파트",
           "관악구",
           "2017-05-12"
          ],
          [
           "사당역 5번출구",
           "관악구",
           "2017-05-26"
          ],
          [
           "미성동 신림체육센터",
           "관악구",
           "2017-05-12"
          ],
          [
           "난곡 새마을금고",
           "관악구",
           "2017-05-12"
          ],
          [
           "도림천 신화교",
           "관악구",
           "2017-05-26"
          ],
          [
           "은천치안센터",
           "관악구",
           "2017-05-26"
          ],
          [
           "은천로입구 가로공원",
           "관악구",
           "2017-06-22"
          ],
          [
           "조원동 미성아파트",
           "관악구",
           "2017-08-21"
          ],
          [
           "서울대입구역 1번출구",
           "관악구",
           "2017-08-24"
          ],
          [
           "서울대입구역 마에스트로",
           "관악구",
           "2017-05-26"
          ],
          [
           "관악동작견인차량보관소",
           "관악구",
           "2017-07-11"
          ],
          [
           "관악농협농산물백화점",
           "관악구",
           "2017-06-22"
          ],
          [
           "에이스에이존빌딩",
           "관악구",
           "2017-05-26"
          ],
          [
           "중앙동 동진빌딩",
           "관악구",
           "2017-06-22"
          ],
          [
           "낙성대로 입구",
           "관악구",
           "2017-05-26"
          ],
          [
           "보성운수차고지 맞은편",
           "관악구",
           "2017-05-12"
          ],
          [
           "관악구청교차로",
           "관악구",
           "2017-05-26"
          ],
          [
           "낙성대 과학전시관",
           "관악구",
           "2017-05-26"
          ],
          [
           "영어마을 관악캠프",
           "관악구",
           "2017-05-26"
          ],
          [
           "신림역 5번출구",
           "관악구",
           "2017-05-12"
          ],
          [
           "신림역 8번출구",
           "관악구",
           "2017-09-01"
          ],
          [
           "KT&G 관악지점",
           "관악구",
           "2017-05-26"
          ],
          [
           "서울신성초등학교",
           "관악구",
           "2017-08-21"
          ],
          [
           "신림1교 교차로",
           "관악구",
           "2020-10-29"
          ],
          [
           "미림여고입구 교차로",
           "관악구",
           "2017-06-22"
          ],
          [
           "서울산업정보학교",
           "관악구",
           "2017-06-22"
          ],
          [
           "난우길입구",
           "관악구",
           "2017-05-12"
          ],
          [
           "은천초등학교 육교",
           "관악구",
           "2017-05-26"
          ],
          [
           "낙성대역 3번출구 뒤",
           "관악구",
           "2017-06-22"
          ],
          [
           "농협 관악문성지점",
           "관악구",
           "2017-08-21"
          ],
          [
           "인헌초교",
           "관악구",
           "2017-11-01"
          ],
          [
           "관악우체국",
           "관악구",
           "2017-11-28"
          ],
          [
           "JK장평타워",
           "관악구",
           "2017-11-28"
          ],
          [
           "낙성대역 1번출구",
           "관악구",
           "2017-11-28"
          ],
          [
           "봉천역 2번출구",
           "관악구",
           "2017-11-28"
          ],
          [
           "조원동서울본병원",
           "관악구",
           "2017-11-28"
          ],
          [
           "서울대입구역 5번출구",
           "관악구",
           "2017-11-28"
          ],
          [
           "나들목공원",
           "관악구",
           "2017-11-28"
          ],
          [
           "당곡사거리",
           "관악구",
           "2017-11-28"
          ],
          [
           "삼성디지털프라자관악점",
           "관악구",
           "2017-11-28"
          ],
          [
           "신림동걷고싶은문화의거리입구",
           "관악구",
           "2017-11-28"
          ],
          [
           "보라매공원 보도육교",
           "관악구",
           "2017-12-22"
          ],
          [
           "신대방역 2번 출구",
           "관악구",
           "2018-09-12"
          ],
          [
           "서울대학교 정문",
           "관악구",
           "2018-10-11"
          ],
          [
           "양녕로 입구",
           "관악구",
           "2018-11-02"
          ],
          [
           "동방1교",
           "관악구",
           "2018-12-14"
          ],
          [
           "구암초등학교 버스정류장",
           "관악구",
           "2018-11-22"
          ],
          [
           "대학동 고시촌",
           "관악구",
           "2019-09-26"
          ],
          [
           "우리은행 낙성대역지점",
           "관악구",
           "2020-04-29"
          ],
          [
           "현대시장사거리(신한은행)",
           "관악구",
           "2020-04-27"
          ],
          [
           "삼성서비스센터(관악점) ",
           "관악구",
           "2020-04-29"
          ],
          [
           "도원맨션",
           "관악구",
           "2020-04-30"
          ],
          [
           "대학동주민센터 ",
           "관악구",
           "2020-04-28"
          ],
          [
           "은천교회",
           "관악구",
           "2020-04-27"
          ],
          [
           "삼화페인트 봉천점",
           "관악구",
           "2020-04-28"
          ],
          [
           "사랑의병원",
           "관악구",
           "2020-04-30"
          ],
          [
           "신봉천주유소",
           "관악구",
           "2020-04-30"
          ],
          [
           "본마을 정류소 앞",
           "서초구",
           "2017-06-01"
          ],
          [
           "청계산입구역 1번출구",
           "서초구",
           "2017-06-01"
          ],
          [
           "청계산입구역 2번출구",
           "서초구",
           "2017-06-27"
          ],
          [
           "내곡3단지 어린이공원 앞",
           "서초구",
           "2017-06-01"
          ],
          [
           "언남초등학교 앞",
           "서초구",
           "2017-06-01"
          ],
          [
           "내곡파출소 뒤 정자",
           "서초구",
           "2017-06-27"
          ],
          [
           "반포1동 주민센터 앞",
           "서초구",
           "2017-06-01"
          ],
          [
           "서초구립반포도서관 앞",
           "서초구",
           "2017-06-27"
          ],
          [
           "서초현대4차아파트 201동 맞은편",
           "서초구",
           "2017-06-01"
          ],
          [
           "고속터미널역 5번출구 앞",
           "서초구",
           "2017-06-01"
          ],
          [
           "신반포역 2번출구 앞",
           "서초구",
           "2017-06-01"
          ],
          [
           "반포종합운동장 입구",
           "서초구",
           "2017-06-27"
          ],
          [
           "아크로리버뷰 부지 앞",
           "서초구",
           "2017-06-01"
          ],
          [
           "고속터미널역 8-1번, 8-2번 출구 사이",
           "서초구",
           "2017-06-01"
          ],
          [
           "반포본동 주민센터 앞",
           "서초구",
           "2017-06-01"
          ],
          [
           "하나은행 방배동지점 앞",
           "서초구",
           "2017-06-01"
          ],
          [
           "사당역 12번출구 뒤",
           "서초구",
           "2017-06-01"
          ],
          [
           "방배래미안 정문 앞",
           "서초구",
           "2017-06-01"
          ],
          [
           "백석예술대학교 제3캠퍼스 앞",
           "서초구",
           "2017-06-01"
          ],
          [
           "신동아럭스빌아파트 앞",
           "서초구",
           "2017-06-01"
          ],
          [
           "방배열린문화센터 앞",
           "서초구",
           "2017-06-01"
          ],
          [
           "뒷벌공원 옆",
           "서초구",
           "2017-06-01"
          ],
          [
           "로고스교회 맞은 편",
           "서초구",
           "2017-06-01"
          ],
          [
           "이수역 4번 출구",
           "서초구",
           "2017-06-01"
          ],
          [
           "삼성타운(삼성생명) A동 맞은편",
           "서초구",
           "2017-06-01"
          ],
          [
           "서초신동아1차아파트 옆",
           "서초구",
           "2017-06-01"
          ],
          [
           "KT 서초지사 앞",
           "서초구",
           "2017-06-01"
          ],
          [
           "서울남부터미널 대합실 입구",
           "서초구",
           "2017-06-01"
          ],
          [
           "교대역 6번출구",
           "서초구",
           "2017-06-01"
          ],
          [
           "양재전화국 사거리",
           "서초구",
           "2017-06-01"
          ],
          [
           "양재역 11번 출구 앞",
           "서초구",
           "2017-06-01"
          ],
          [
           "서울가정법원",
           "서초구",
           "2017-06-01"
          ],
          [
           "교육개발원입구 교차로",
           "서초구",
           "2020-09-24"
          ],
          [
           "양재초등학교 맞은편",
           "서초구",
           "2017-06-01"
          ],
          [
           "서울시 품질시험소 앞",
           "서초구",
           "2017-06-24"
          ],
          [
           "섬들근린공원",
           "서초구",
           "2017-06-01"
          ],
          [
           "서초리슈빌S 글로벌 앞",
           "서초구",
           "2017-06-27"
          ],
          [
           "우솔초등학교 맞은편",
           "서초구",
           "2017-06-22"
          ],
          [
           "서초유치원 맞은편",
           "서초구",
           "2017-06-22"
          ],
          [
           "더케이호텔 입구(양재2)",
           "서초구",
           "2017-06-13"
          ],
          [
           "하이브랜드 앞",
           "서초구",
           "2017-06-24"
          ],
          [
           "시민의숲역 1번출구 옆",
           "서초구",
           "2017-06-01"
          ],
          [
           "양재동 꽃시장 입구",
           "서초구",
           "2017-06-01"
          ],
          [
           "하나로클럽 양재점 맞은편",
           "서초구",
           "2017-06-01"
          ],
          [
           "구룡사 삼거리",
           "서초구",
           "2017-06-01"
          ],
          [
           "잠원역 3번-4번 출구사이",
           "서초구",
           "2017-06-13"
          ],
          [
           "한신16차아파트 119동 앞",
           "서초구",
           "2017-06-01"
          ],
          [
           "바우뫼문화복지회관",
           "서초구",
           "2017-06-22"
          ],
          [
           "이수역 1번출구",
           "서초구",
           "2017-06-22"
          ],
          [
           "이수고가차도 남단",
           "서초구",
           "2017-08-09"
          ],
          [
           "서초역 3번출구",
           "서초구",
           "2017-11-01"
          ],
          [
           "서초4동주민센터",
           "서초구",
           "2017-11-01"
          ],
          [
           "주홍교 하부",
           "서초구",
           "2017-11-01"
          ],
          [
           "서초포레스타 7단지",
           "서초구",
           "2017-11-01"
          ],
          [
           "내방역 8번출구 앞",
           "서초구",
           "2017-11-01"
          ],
          [
           "교대입구 교차로",
           "서초구",
           "2017-11-01"
          ],
          [
           "일동제약 사거리",
           "서초구",
           "2017-11-01"
          ],
          [
           "양재시민의숲역 3번출구",
           "서초구",
           "2017-11-01"
          ],
          [
           "염곡치안센터 건너편",
           "서초구",
           "2017-11-01"
          ],
          [
           "영동1교 (양재천근린공원)",
           "서초구",
           "2017-11-01"
          ],
          [
           "길마중4교 하부",
           "서초구",
           "2017-11-01"
          ],
          [
           "교대역 5번출구뒤",
           "서초구",
           "2017-11-28"
          ],
          [
           "서울서초고용센터앞",
           "서초구",
           "2018-09-20"
          ],
          [
           "연세사랑병원신관앞",
           "서초구",
           "2017-11-28"
          ],
          [
           "방배래미안아트힐 101동앞",
           "서초구",
           "2017-11-28"
          ],
          [
           "그룹한빌딩옆",
           "서초구",
           "2017-11-28"
          ],
          [
           "CJ오쇼핑앞",
           "서초구",
           "2017-11-28"
          ],
          [
           "LH서초3단지 301동 맞은편",
           "서초구",
           "2017-11-28"
          ],
          [
           "탑성마을입구",
           "서초구",
           "2017-11-28"
          ],
          [
           "능안마을입구",
           "서초구",
           "2017-11-28"
          ],
          [
           "안골마을입구",
           "서초구",
           "2017-11-28"
          ],
          [
           "남태령역 2번출구",
           "서초구",
           "2017-11-28"
          ],
          [
           "SPC 앞",
           "서초구",
           "2017-12-22"
          ],
          [
           "두상빌딩 앞",
           "서초구",
           "2017-12-22"
          ],
          [
           "남부터미널역 1번출구",
           "서초구",
           "2018-02-26"
          ],
          [
           "래미안서초스위트앞",
           "서초구",
           "2018-02-26"
          ],
          [
           "한전아트센터 앞",
           "서초구",
           "2018-10-17"
          ],
          [
           "현대고등학교 건너편",
           "강남구",
           "2017-06-13"
          ],
          [
           "교보타워 버스정류장(신논현역 3번출구 후면)",
           "강남구",
           "2017-06-13"
          ],
          [
           "논현역 7번출구",
           "강남구",
           "2017-06-13"
          ],
          [
           "신영 ROYAL PALACE 앞",
           "강남구",
           "2017-06-13"
          ],
          [
           "MCM 본사 직영점 앞",
           "강남구",
           "2017-06-13"
          ],
          [
           "압구정역 2번 출구 옆",
           "강남구",
           "2017-06-13"
          ],
          [
           "압구정 한양 3차 아파트",
           "강남구",
           "2017-06-13"
          ],
          [
           "압구정파출소 앞",
           "강남구",
           "2017-06-13"
          ],
          [
           "청담역(우리들병원 앞)",
           "강남구",
           "2017-06-13"
          ],
          [
           "청담동 맥도날드 옆(위치)",
           "강남구",
           "2017-06-13"
          ],
          [
           "학동로 래미안 아파트 앞",
           "강남구",
           "2017-06-13"
          ],
          [
           "청담역 13번 출구 앞",
           "강남구",
           "2017-06-13"
          ],
          [
           "금원빌딩 앞",
           "강남구",
           "2017-06-13"
          ],
          [
           "청담나들목입구",
           "강남구",
           "2017-06-13"
          ],
          [
           "봉은사역 5번출구 옆",
           "강남구",
           "2017-06-13"
          ],
          [
           "삼성역 8번출구",
           "강남구",
           "2017-06-13"
          ],
          [
           "삼성도로공원",
           "강남구",
           "2017-06-13"
          ],
          [
           "삼성중앙역4번출구(문화센터더 리빌)",
           "강남구",
           "2017-06-13"
          ],
          [
           "포스코사거리 서측(수협 삼성동 지점)",
           "강남구",
           "2017-06-13"
          ],
          [
           "도곡역 대치지구대 방향",
           "강남구",
           "2017-06-13"
          ],
          [
           "학여울역 사거리",
           "강남구",
           "2017-06-13"
          ],
          [
           "삼성역 3번 출구",
           "강남구",
           "2017-06-13"
          ],
          [
           "주식회사 오뚜기 정문 앞",
           "강남구",
           "2017-06-13"
          ],
          [
           "천주교 대치 2동 교회 옆",
           "강남구",
           "2017-06-13"
          ],
          [
           "대치동 버거킹대치점",
           "강남구",
           "2017-06-13"
          ],
          [
           "대치동 삼성로",
           "강남구",
           "2017-06-13"
          ],
          [
           "뱅뱅사거리 랜드마크타워 앞",
           "강남구",
           "2017-06-13"
          ],
          [
           "르네상스 호텔 사거리 역삼지하보도 7번출구 앞",
           "강남구",
           "2017-06-13"
          ],
          [
           "르네상스호텔사거리 역삼지하보도 2번출구",
           "강남구",
           "2017-06-13"
          ],
          [
           "스타벅스 앞",
           "강남구",
           "2017-06-13"
          ],
          [
           "동영문화센터앞",
           "강남구",
           "2017-06-13"
          ],
          [
           "선릉역3번출구",
           "강남구",
           "2017-06-13"
          ],
          [
           "양재역 3번출구 주변",
           "강남구",
           "2017-06-13"
          ],
          [
           "삼호아파트 2동 ( 간선도로)",
           "강남구",
           "2017-06-13"
          ],
          [
           "3호선 매봉역 3번출구앞",
           "강남구",
           "2017-06-13"
          ],
          [
           "강남세브란스교차로 래미안그레이튼 104동 앞",
           "강남구",
           "2017-06-13"
          ],
          [
           "대모산입구역 2번출구 앞",
           "강남구",
           "2017-06-13"
          ],
          [
           "현대아파트 정문 앞",
           "강남구",
           "2017-06-13"
          ],
          [
           "삼호물산버스정류장(23370) 옆",
           "강남구",
           "2017-06-13"
          ],
          [
           "일원역 4~5번 출구 사이",
           "강남구",
           "2017-06-13"
          ],
          [
           "대청역 1번출구 뒤",
           "강남구",
           "2017-06-13"
          ],
          [
           "세곡사거리 대왕파출소 앞",
           "강남구",
           "2017-06-13"
          ],
          [
           "리엔파크 2단지 앞",
           "강남구",
           "2017-06-13"
          ],
          [
           "두산건설 본사",
           "강남구",
           "2017-08-22"
          ],
          [
           "포스코사거리(기업은행)",
           "강남구",
           "2020-11-24"
          ],
          [
           "역삼빌딩 앞(하나은행 옆)",
           "강남구",
           "2017-08-21"
          ],
          [
           "래미안그레이튼102동앞",
           "강남구",
           "2017-08-21"
          ],
          [
           "청소년수련관(수영장)앞",
           "강남구",
           "2017-08-01"
          ],
          [
           "서울본부세관(건설회관 앞)",
           "강남구",
           "2017-08-22"
          ],
          [
           "강남구청역 2번출구 뒤",
           "강남구",
           "2017-08-22"
          ],
          [
           "청담역 2번출구",
           "강남구",
           "2017-08-21"
          ],
          [
           "삼성역 5~6번 출구 사이",
           "강남구",
           "2017-08-21"
          ],
          [
           "강남구청",
           "강남구",
           "2017-08-21"
          ],
          [
           "르네상스호텔사거리 역삼지하보도 3번출구 앞 (더 오번",
           "강남구",
           "2017-08-25"
          ],
          [
           "구룡초사거리 (현대아파트10동 앞 )",
           "강남구",
           "2017-08-21"
          ],
          [
           "국립국악중,고교 정문 맞은편",
           "강남구",
           "2017-08-21"
          ],
          [
           "도곡1동 주민센터 교차로",
           "강남구",
           "2017-08-21"
          ],
          [
           "신사동 가로수길 입구",
           "강남구",
           "2017-11-01"
          ],
          [
           "강남 을지병원 교차로",
           "강남구",
           "2017-11-01"
          ],
          [
           "도산대로 렉서스 앞",
           "강남구",
           "2017-11-01"
          ],
          [
           "K+ 타워 앞",
           "강남구",
           "2017-11-01"
          ],
          [
           "도곡동 경남아파트 건너편",
           "강남구",
           "2017-11-01"
          ],
          [
           "KT선릉타워",
           "강남구",
           "2017-11-01"
          ],
          [
           "한티역 3번출구",
           "강남구",
           "2017-11-01"
          ],
          [
           "한국우편사업진흥원",
           "강남구",
           "2017-11-01"
          ],
          [
           "대치역 사거리",
           "강남구",
           "2017-11-01"
          ],
          [
           "개포동역 사거리",
           "강남구",
           "2017-11-01"
          ],
          [
           "수서역 1번출구 앞",
           "강남구",
           "2017-11-01"
          ],
          [
           "수서역 6번출구 앞",
           "강남구",
           "2017-11-01"
          ],
          [
           "수서역 5번출구 뒤",
           "강남구",
           "2017-11-01"
          ],
          [
           "삼성동베이직하우스앞",
           "강남구",
           "2017-11-28"
          ],
          [
           "언주역 6번출구앞",
           "강남구",
           "2017-11-28"
          ],
          [
           "역삼동 sk뷰 501동앞",
           "강남구",
           "2017-11-28"
          ],
          [
           "보금자리정원",
           "강남구",
           "2017-11-28"
          ],
          [
           "자곡사거리",
           "강남구",
           "2017-12-22"
          ],
          [
           "학동역",
           "강남구",
           "2017-12-22"
          ],
          [
           "크린랩 본사",
           "강남구",
           "2020-09-15"
          ],
          [
           "래미안강남힐즈 사거리",
           "강남구",
           "2018-02-26"
          ],
          [
           "강남구 도시관리공단",
           "강남구",
           "2018-07-04"
          ],
          [
           "경기여자고등학교 후문 (삼성로3길 입구)",
           "강남구",
           "2018-11-04"
          ],
          [
           "구룡마을 입구 (래미안블레스티지 아파트)",
           "강남구",
           "2018-10-08"
          ],
          [
           "구룡터널 입구(개포1단지아파트)",
           "강남구",
           "2018-10-08"
          ],
          [
           "구룡산 입구 (구룡산 서울둘레길 입구)",
           "강남구",
           "2018-10-08"
          ],
          [
           "구룡사 앞 교차로 (보도육교)",
           "강남구",
           "2018-10-08"
          ],
          [
           "개포래미안포레스트아파트 107동 앞",
           "강남구",
           "2020-12-04"
          ],
          [
           "개포1단지아파트 입구 (보도육교)",
           "강남구",
           "2018-10-08"
          ],
          [
           "영동3교 북단(우성캐릭터 앞 보도)",
           "강남구",
           "2018-10-08"
          ],
          [
           "더라움",
           "강남구",
           "2018-10-30"
          ],
          [
           "밀알학교 입구 (삼성서울병원 입구)",
           "강남구",
           "2018-09-14"
          ],
          [
           "공무원연금매점 교차로 (개포주공9단지 입구)",
           "강남구",
           "2018-10-08"
          ],
          [
           "대모산입구역 4번 출구 앞",
           "강남구",
           "2018-10-08"
          ],
          [
           "청담공원앞 교차로",
           "강남구",
           "2018-10-08"
          ],
          [
           "논현동 광명빌딩 앞",
           "강남구",
           "2018-11-04"
          ],
          [
           "역삼.서초.삼성 세무서 앞 (역삼빌딩 앞)",
           "강남구",
           "2018-09-18"
          ],
          [
           "강남한양수자인아파트",
           "강남구",
           "2018-10-02"
          ],
          [
           "역삼동 디오슈페리움 (우성아파트 사거리)",
           "강남구",
           "2018-11-14"
          ],
          [
           "포스코피앤에스타워 (역삼역 3번출구 부근)",
           "강남구",
           "2020-12-31"
          ],
          [
           "세곡동 성당",
           "강남구",
           "2019-02-25"
          ],
          [
           "일원1동 주민센터",
           "강남구",
           "2018-11-14"
          ],
          [
           "도곡역 1번 출구",
           "강남구",
           "2020-02-18"
          ],
          [
           "도곡역 아카데미스위트 앞",
           "강남구",
           "2020-02-18"
          ],
          [
           "한티역 롯데백화점 앞",
           "강남구",
           "2020-02-14"
          ],
          [
           "한티역 6번 출구",
           "강남구",
           "2020-02-14"
          ],
          [
           "선정릉 디캠프(D.CAMP)앞",
           "강남구",
           "2020-02-14"
          ],
          [
           "봉은사역 7번 출구",
           "강남구",
           "2020-02-14"
          ],
          [
           "봉은사역 1,2번 출구",
           "강남구",
           "2020-02-14"
          ],
          [
           "학여울역 사거리(LG베스트샵 앞)",
           "강남구",
           "2020-02-18"
          ],
          [
           "신논현역 4번출구",
           "강남구",
           "2020-02-14"
          ],
          [
           "수서동 성당 맞은편",
           "강남구",
           "2020-02-18"
          ],
          [
           "영희초교 사거리(래미안개포루체하임)",
           "강남구",
           "2020-02-18"
          ],
          [
           "세곡동 사거리(대왕초등학교 정류장)",
           "강남구",
           "2020-02-18"
          ],
          [
           "강남한신휴플러스 6단지",
           "강남구",
           "2020-02-18"
          ],
          [
           "개포고등학교 정문앞",
           "강남구",
           "2020-02-18"
          ],
          [
           "롯데리아 개포점앞",
           "강남구",
           "2020-02-18"
          ],
          [
           "압구정로데오역 6번출구",
           "강남구",
           "2020-02-14"
          ],
          [
           "강남파이낸스센터앞(역삼역2번출구)",
           "강남구",
           "2020-02-14"
          ],
          [
           "대치역 7번출구",
           "강남구",
           "2020-02-18"
          ],
          [
           "서초 포레스타5단지",
           "서초구",
           "2018-09-03"
          ],
          [
           "서초역1번출구 앞",
           "서초구",
           "2018-10-02"
          ],
          [
           "반포1동 서초빌딩 앞",
           "서초구",
           "2018-10-02"
          ],
          [
           "신사역 4번출구 뒤",
           "서초구",
           "2018-10-30"
          ],
          [
           "우성아파트사거리 (기업은행앞)",
           "서초구",
           "2018-09-18"
          ],
          [
           "LG유플러스 (방배사옥)",
           "서초구",
           "2018-09-18"
          ],
          [
           "양재이스타빌 앞",
           "서초구",
           "2018-09-18"
          ],
          [
           "심산기념문화센터",
           "서초구",
           "2021-10-15"
          ],
          [
           "JW타워",
           "서초구",
           "2019-03-26"
          ],
          [
           "이수역 6번출구 앞",
           "서초구",
           "2019-03-14"
          ],
          [
           "사평역 2번출구",
           "서초구",
           "2020-02-20"
          ],
          [
           "서초초등학교 후문",
           "서초구",
           "2020-02-20"
          ],
          [
           "본마을 노인복지센터 앞",
           "서초구",
           "2020-02-19"
          ],
          [
           "서초3교(효령로69길 방면)",
           "서초구",
           "2020-02-19"
          ],
          [
           "서초3교(효령로70길 방면)",
           "서초구",
           "2020-02-19"
          ],
          [
           "서초2교(사임당로 방면)",
           "서초구",
           "2020-02-20"
          ],
          [
           "서초1교 (진흥아파트 방면)",
           "서초구",
           "2020-02-20"
          ],
          [
           "서초 크로바타워 앞",
           "서초구",
           "2020-02-20"
          ],
          [
           "뉴코아 킴스클럽 앞",
           "서초구",
           "2020-02-21"
          ],
          [
           "반포쇼핑타운 8동 앞",
           "서초구",
           "2020-02-21"
          ],
          [
           "반포쇼핑타운 2동 앞",
           "서초구",
           "2020-02-21"
          ],
          [
           "반포경남쇼핑 앞",
           "서초구",
           "2020-02-21"
          ],
          [
           "반포중학교 앞(세화여고 맞은편)",
           "서초구",
           "2020-02-21"
          ],
          [
           "함지박 사거리",
           "서초구",
           "2020-02-23"
          ],
          [
           "우리은행 방배동지점 앞",
           "서초구",
           "2020-02-23"
          ],
          [
           "삼호3차아파트 앞",
           "서초구",
           "2020-02-23"
          ],
          [
           "멤피스아파트 앞",
           "서초구",
           "2020-02-23"
          ],
          [
           "국립국악원 앞",
           "서초구",
           "2020-02-19"
          ],
          [
           "한가람미술관 앞",
           "서초구",
           "2020-02-19"
          ],
          [
           "신반포역 3번출구 뒤",
           "서초구",
           "2020-02-21"
          ],
          [
           "서초종합체육관 입구",
           "서초구",
           "2020-02-19"
          ],
          [
           "양재역 8번출구 앞",
           "서초구",
           "2020-02-20"
          ],
          [
           "사평리 공원",
           "서초구",
           "2020-02-20"
          ],
          [
           "대한무역투자진흥공사 KOTRA 앞",
           "서초구",
           "2020-02-19"
          ],
          [
           "반포천 앞",
           "서초구",
           "2020-02-21"
          ],
          [
           "옛골 입구",
           "서초구",
           "2020-02-19"
          ],
          [
           "신논현역2번출구(신논현타워 앞)",
           "서초구",
           "2020-02-14"
          ],
          [
           "국립중앙도서관(국제회의장옆)",
           "서초구",
           "2020-02-21"
          ],
          [
           "포드서초서비스센터앞",
           "서초구",
           "2020-05-28"
          ],
          [
           "반포1동 자율방범초소 옆",
           "서초구",
           "2020-06-15"
          ],
          [
           "LH 서초 4단지 403동",
           "서초구",
           "2020-06-15"
          ],
          [
           "양재동 꽃시장 건너편",
           "서초구",
           "2020-06-15"
          ],
          [
           "석촌호수 서호사거리",
           "송파구",
           "2018-09-12"
          ],
          [
           "송파 글마루 도서관",
           "송파구",
           "2018-09-14"
          ],
          [
           "삼표레미콘 앞",
           "송파구",
           "2018-09-14"
          ],
          [
           "복정역 1번 출구 앞",
           "송파구",
           "2018-09-14"
          ],
          [
           "위례동주민센터 맞은편 근린공원",
           "송파구",
           "2018-09-14"
          ],
          [
           "송파구청",
           "송파구",
           "2018-11-12"
          ],
          [
           "보성중고등학교 후문 앞",
           "송파구",
           "2018-11-14"
          ],
          [
           "여흥레이크빌 앞 (석촌호수 까페거리)",
           "송파구",
           "2018-11-14"
          ],
          [
           "송파지역자활센터 뒤",
           "송파구",
           "2018-11-14"
          ],
          [
           "문정·가락 대여소 앞",
           "송파구",
           "2018-11-14"
          ],
          [
           "잠실나들목",
           "송파구",
           "2018-11-14"
          ],
          [
           "가락고등학교 앞",
           "송파구",
           "2018-11-14"
          ],
          [
           "테라타워2",
           "송파구",
           "2018-11-14"
          ],
          [
           "거여동 사거리",
           "송파구",
           "2018-11-27"
          ],
          [
           "가락삼환아파트 앞",
           "송파구",
           "2018-11-27"
          ],
          [
           "삼전역 1번출구",
           "송파구",
           "2018-12-03"
          ],
          [
           "석촌고분역 5번출구",
           "송파구",
           "2021-03-24"
          ],
          [
           "송파나루역 4번 출구옆",
           "송파구",
           "2018-11-14"
          ],
          [
           "한성백제역 2번 출구",
           "송파구",
           "2018-11-14"
          ],
          [
           "올림픽공원역 3번출구",
           "송파구",
           "2018-11-14"
          ],
          [
           "석촌동 주민센터",
           "송파구",
           "2020-01-17"
          ],
          [
           "가락1동 주민센터",
           "송파구",
           "2020-01-20"
          ],
          [
           "경찰병원역 1,2번 출구 사이",
           "송파구",
           "2020-01-20"
          ],
          [
           "문정시영아파트 5동 앞 공원",
           "송파구",
           "2020-01-20"
          ],
          [
           "문정역 1번출구",
           "송파구",
           "2020-01-20"
          ],
          [
           "서울방이동 고분군",
           "송파구",
           "2020-01-21"
          ],
          [
           "배명고등학교",
           "송파구",
           "2020-01-17"
          ],
          [
           "석촌고분역 2번 출구",
           "송파구",
           "2020-01-17"
          ],
          [
           "송파학사 옆",
           "송파구",
           "2020-01-21"
          ],
          [
           "위례포레샤인아파트 2318동",
           "송파구",
           "2020-01-21"
          ],
          [
           "잠실새내역 1번출구",
           "송파구",
           "2020-01-16"
          ],
          [
           "잠실월드 메르디앙",
           "송파구",
           "2020-01-16"
          ],
          [
           "쌍용아파트",
           "송파구",
           "2020-05-13"
          ],
          [
           "석촌역 8번출구",
           "송파구",
           "2020-01-17"
          ],
          [
           "송파역 4번출구",
           "송파구",
           "2020-01-20"
          ],
          [
           "마천동 성내천 쉼터",
           "송파구",
           "2020-01-15"
          ],
          [
           "풍납중학교 측면",
           "송파구",
           "2020-01-21"
          ],
          [
           "성내5교 (GS주유소)",
           "송파구",
           "2020-01-15"
          ],
          [
           "잠실나들목2(엘스아파트136동)",
           "송파구",
           "2020-01-16"
          ],
          [
           "레이크펠리스101동앞",
           "송파구",
           "2020-01-16"
          ],
          [
           "잠실 자전거 수리센터 앞",
           "송파구",
           "2020-01-16"
          ],
          [
           "헬리오시티 112동 앞",
           "송파구",
           "2020-01-17"
          ],
          [
           "오금공원사거리2",
           "송파구",
           "2020-01-15"
          ],
          [
           "위례22단지 2208동 다리앞",
           "송파구",
           "2020-01-21"
          ],
          [
           "경찰병원역 3번출구 앞",
           "송파구",
           "2020-01-20"
          ],
          [
           "송파 레미니스1단지 102동 앞",
           "송파구",
           "2020-01-15"
          ],
          [
           "올림픽공원사거리(선수촌아파트)",
           "송파구",
           "2020-01-15"
          ],
          [
           "올림픽선수촌아파트 136동 앞",
           "송파구",
           "2020-01-16"
          ],
          [
           "송이공원",
           "송파구",
           "2020-01-17"
          ],
          [
           "풍납동 아이파크 107동 앞",
           "송파구",
           "2020-06-08"
          ],
          [
           "송파 파인타운 11단지",
           "송파구",
           "2020-06-04"
          ],
          [
           "가락몰 업무동",
           "송파구",
           "2020-06-04"
          ],
          [
           "서울친환경유통센터",
           "송파구",
           "2020-06-04"
          ],
          [
           "마곡나루역 5번출구 뒤편",
           "강서구",
           "2018-11-14"
          ],
          [
           "마곡 엠밸리2단지",
           "강서구",
           "2018-11-14"
          ],
          [
           "서울도시가스 앞 ",
           "강서구",
           "2020-03-16"
          ],
          [
           "홈플러스(강서점)",
           "강서구",
           "2020-03-16"
          ],
          [
           "강서공업고등학교 앞",
           "강서구",
           "2020-03-20"
          ],
          [
           "한강아파트",
           "강서구",
           "2020-03-20"
          ],
          [
           "강서한강자이타워 앞",
           "강서구",
           "2020-03-20"
          ],
          [
           "강변아파트 310동 앞",
           "강서구",
           "2020-03-16"
          ],
          [
           "라이품 공영주차장 앞",
           "강서구",
           "2020-03-20"
          ],
          [
           "가로공원공영주차장 1번 출구",
           "강서구",
           "2020-03-18"
          ],
          [
           "화곡터널입구교차로",
           "강서구",
           "2020-03-17"
          ],
          [
           "우장초등학교 앞",
           "강서구",
           "2020-03-17"
          ],
          [
           "마곡나루역 2번 출구 ",
           "강서구",
           "2020-05-27"
          ],
          [
           "롯데 R&D 센터",
           "강서구",
           "2020-03-13"
          ],
          [
           "LG유플러스 마곡사옥",
           "강서구",
           "2020-03-15"
          ],
          [
           "마곡수명산파크1단지",
           "강서구",
           "2020-03-17"
          ],
          [
           "마곡문화공원",
           "강서구",
           "2020-03-16"
          ],
          [
           "힐스테이트에코",
           "강서구",
           "2020-03-16"
          ],
          [
           "등촌1-10단지 교차로",
           "강서구",
           "2020-03-15"
          ],
          [
           "마곡 문영비지웍스",
           "강서구",
           "2020-03-15"
          ],
          [
           "마곡 필네이처",
           "강서구",
           "2020-03-16"
          ],
          [
           "(재)FITI시험연구원",
           "강서구",
           "2020-03-20"
          ],
          [
           "서울식물원 식물문화센터",
           "강서구",
           "2020-03-12"
          ],
          [
           "서울식물원 잔디마당 앞",
           "강서구",
           "2020-03-15"
          ],
          [
           "마곡나루역 3번 출구",
           "강서구",
           "2020-03-12"
          ],
          [
           "넥센 유니버시티 앞",
           "강서구",
           "2020-03-13"
          ],
          [
           "마곡메가박스 앞",
           "강서구",
           "2020-03-15"
          ],
          [
           "명덕고교",
           "강서구",
           "2020-03-16"
          ],
          [
           "마곡수명산 1-2단지 ",
           "강서구",
           "2020-03-17"
          ],
          [
           "마곡13단지 정문 앞",
           "강서구",
           "2020-03-20"
          ],
          [
           "마곡 공공청사",
           "강서구",
           "2020-03-13"
          ],
          [
           "까치산역 3번 출구",
           "강서구",
           "2020-03-21"
          ],
          [
           "수명산파크1단지교차로",
           "강서구",
           "2020-03-17"
          ],
          [
           "마곡레포츠센터",
           "강서구",
           "2020-03-20"
          ],
          [
           "마곡수명산파크5-6단지",
           "강서구",
           "2020-03-17"
          ],
          [
           "강서구민올림픽체육센터",
           "강서구",
           "2020-03-17"
          ],
          [
           "동신아파트 104동 앞",
           "강서구",
           "2020-06-01"
          ],
          [
           "강서세무서앞",
           "강서구",
           "2020-05-27"
          ],
          [
           "수명초등학교",
           "강서구",
           "2020-05-28"
          ],
          [
           "수명산파크4단지411동 앞",
           "강서구",
           "2020-06-18"
          ],
          [
           "대륭포스트타워1차",
           "구로구",
           "2019-07-18"
          ],
          [
           "항동지구 6단지 602동 앞",
           "구로구",
           "2020-03-03"
          ],
          [
           "구로자원순환센터 ",
           "구로구",
           "2020-02-27"
          ],
          [
           "항동지구 4단지 입구",
           "구로구",
           "2020-02-27"
          ],
          [
           "항동지구 1단지 105동 앞",
           "구로구",
           "2020-02-28"
          ],
          [
           "항동지구 2단지 202동 앞",
           "구로구",
           "2020-02-28"
          ],
          [
           "항동지구 11단지 1103동 앞",
           "구로구",
           "2020-03-02"
          ],
          [
           "항동지구 3단지 311동 앞",
           "구로구",
           "2020-03-02"
          ],
          [
           "항동프라자",
           "구로구",
           "2020-03-02"
          ],
          [
           "항동지구 3단지 302동 앞",
           "구로구",
           "2020-03-03"
          ],
          [
           "항동지구 10단지 1001동 앞",
           "구로구",
           "2020-03-03"
          ],
          [
           "항동지구 7단지 정문",
           "구로구",
           "2020-03-02"
          ],
          [
           "항동지구 8단지 803동옆(주차장입구)",
           "구로구",
           "2020-03-02"
          ],
          [
           "천왕이펜하우5단지 앞",
           "구로구",
           "2020-02-27"
          ],
          [
           "천왕이펜하우스3단지 앞",
           "구로구",
           "2020-02-27"
          ],
          [
           "하늘숲초등학교 앞",
           "구로구",
           "2020-02-27"
          ],
          [
           "신세기아파트 앞",
           "구로구",
           "2020-03-03"
          ],
          [
           "청구아파트 앞",
           "구로구",
           "2020-03-09"
          ],
          [
           "제니스스포츠 앞",
           "구로구",
           "2020-03-09"
          ],
          [
           "중앙유통단지 앞",
           "구로구",
           "2020-03-09"
          ],
          [
           "미래사랑어린이공원 앞",
           "구로구",
           "2020-03-04"
          ],
          [
           "초롱타운 앞",
           "구로구",
           "2020-03-03"
          ],
          [
           "가마산지하보도 옆",
           "구로구",
           "2020-03-03"
          ],
          [
           "공릉동풍림아파트 101동",
           "노원구",
           "2020-03-24"
          ],
          [
           "공릉풍림아파트 108동",
           "노원구",
           "2020-03-24"
          ],
          [
           "월계초안아파트 1단지",
           "노원구",
           "2020-03-24"
          ],
          [
           "중계3차청구아파트",
           "노원구",
           "2020-03-24"
          ],
          [
           " 월계중학교",
           "노원구",
           "2020-03-24"
          ],
          [
           " 광운대학교 중앙도서관",
           "노원구",
           "2020-03-24"
          ],
          [
           " 석계역 3번 출구",
           "노원구",
           "2020-03-25"
          ],
          [
           "도깨비시장",
           "노원구",
           "2020-03-25"
          ],
          [
           "상계역중앙시장",
           "노원구",
           "2020-03-23"
          ],
          [
           "대진고등학교",
           "노원구",
           "2020-03-23"
          ],
          [
           "상계8동 주민센터",
           "노원구",
           "2020-03-23"
          ],
          [
           "서울과학기술대학교(미래관)",
           "노원구",
           "2020-06-10"
          ],
          [
           "서울과학기술대학교(어학교육원)",
           "노원구",
           "2020-03-24"
          ],
          [
           "신창중학교 후문 맞은편 버스정류장",
           "노원구",
           "2020-03-30"
          ],
          [
           "등나무 근린공원(시립북서울미술관 앞) ",
           "노원구",
           "2020-03-23"
          ],
          [
           "상계중학교(당현2교사거리)",
           "노원구",
           "2020-03-23"
          ],
          [
           "중계역 2번출구",
           "노원구",
           "2020-03-26"
          ],
          [
           "벽산상암스마트큐브 ",
           "마포구",
           "2020-04-06"
          ],
          [
           "래미안공덕3차아파트",
           "마포구",
           "2020-04-02"
          ],
          [
           "마포구청 청사내",
           "마포구",
           "2020-04-02"
          ],
          [
           " 상암월드컵파크5단지(상암중학교)",
           "마포구",
           "2020-04-06"
          ],
          [
           "MBC 앞",
           "마포구",
           "2020-04-06"
          ],
          [
           "DMC역7번출구",
           "마포구",
           "2020-04-06"
          ],
          [
           "서교동사거리(신)",
           "마포구",
           "2020-04-12"
          ],
          [
           "홍대입구역 3번출구",
           "마포구",
           "2020-04-12"
          ],
          [
           "경의선(노고산동)",
           "마포구",
           "2020-04-08"
          ],
          [
           "서울고용노동청본청",
           "중구",
           "2020-10-29"
          ],
          [
           "북성초교",
           "서대문구",
           "2017-11-01"
          ],
          [
           "서대문구청",
           "서대문구",
           "2017-11-01"
          ],
          [
           "연희삼거리",
           "서대문구",
           "2017-11-01"
          ],
          [
           "홍제삼거리 북측",
           "서대문구",
           "2018-10-12"
          ],
          [
           "e편한세상 신촌4단지 앞",
           "서대문구",
           "2018-10-12"
          ],
          [
           "홍은센트레빌 아파트 앞",
           "서대문구",
           "2018-10-18"
          ],
          [
           "연희초등학교 앞",
           "서대문구",
           "2018-10-12"
          ],
          [
           "북한산더샾 106동 앞",
           "서대문구",
           "2020-04-09"
          ],
          [
           "홍은 현대아이파크 아파트 202동 앞",
           "서대문구",
           "2020-04-09"
          ],
          [
           "무악재역 4번 출구",
           "서대문구",
           "2020-04-10"
          ],
          [
           "독립문역 5번 출구",
           "서대문구",
           "2020-02-13"
          ],
          [
           "독립문역사거리",
           "서대문구",
           "2020-02-11"
          ],
          [
           "충정로역 3번 출구",
           "서대문구",
           "2020-04-12"
          ],
          [
           "북아현 치안센터 인근",
           "서대문구",
           "2020-05-12"
          ],
          [
           "신촌역 4번출구",
           "서대문구",
           "2020-04-05"
          ],
          [
           "이화여대 인문관 인근",
           "서대문구",
           "2020-04-12"
          ],
          [
           "연희 브라운스톤 아파트 앞",
           "서대문구",
           "2020-04-10"
          ],
          [
           "DMC엘가아파트 앞",
           "서대문구",
           "2020-04-08"
          ],
          [
           "가좌삼거리",
           "서대문구",
           "2020-04-08"
          ],
          [
           "북가좌삼거리2",
           "서대문구",
           "2020-04-08"
          ],
          [
           "DMC파크뷰자이1단지 110동 앞",
           "서대문구",
           "2020-05-04"
          ],
          [
           "DMC센트럴아이파크아파트",
           "서대문구",
           "2020-04-08"
          ],
          [
           "연희파크푸르지오아파트 앞",
           "서대문구",
           "2020-04-10"
          ],
          [
           "남가좌동 제2공영주차장",
           "서대문구",
           "2020-04-08"
          ],
          [
           "홍은2파출소 옆",
           "서대문구",
           "2020-04-09"
          ],
          [
           "동신병원 맞은편",
           "서대문구",
           "2020-04-10"
          ],
          [
           "DMC래미안e편한세상203동옆",
           "서대문구",
           "2020-04-22"
          ],
          [
           "가재울사거리",
           "서대문구",
           "2020-05-04"
          ],
          [
           "연가교 교차로",
           "서대문구",
           "2020-05-04"
          ],
          [
           "홍제교",
           "서대문구",
           "2020-04-09"
          ],
          [
           "핀란드 타워앞",
           "서대문구",
           "2020-04-12"
          ],
          [
           "SK리체블(상수도사업본부)",
           "서대문구",
           "2020-04-12"
          ],
          [
           "당산skv1센터",
           "영등포구",
           "2020-03-05"
          ],
          [
           "당산롯데캐슬프레스티지",
           "영등포구",
           "2020-03-05"
          ],
          [
           "도림동배드민턴체육관",
           "영등포구",
           "2020-03-04"
          ],
          [
           "도림고가도로 밑",
           "영등포구",
           "2020-03-16"
          ],
          [
           "문래중학교",
           "영등포구",
           "2020-03-04"
          ],
          [
           "문래동 주민센터",
           "영등포구",
           "2020-03-04"
          ],
          [
           "양남사거리 1",
           "영등포구",
           "2021-06-15"
          ],
          [
           "신길 래미안 프레비뉴",
           "영등포구",
           "2020-03-04"
          ],
          [
           "신풍역 6번출구",
           "영등포구",
           "2020-03-03"
          ],
          [
           "영등포 푸르지오",
           "영등포구",
           "2020-03-04"
          ],
          [
           "강변삼성래미안",
           "영등포구",
           "2020-03-05"
          ],
          [
           "영등포역 2번출구",
           "영등포구",
           "2020-03-04"
          ],
          [
           "래미안에스티움(신풍로) 앞",
           "영등포구",
           "2020-03-03"
          ],
          [
           "서울특별시 남부교육지원청",
           "영등포구",
           "2020-03-04"
          ],
          [
           "낙성대역 8번 출구",
           "관악구",
           "2020-04-29"
          ],
          [
           "서울신우초등학교",
           "관악구",
           "2020-04-28"
          ],
          [
           "봉천고개 육교",
           "관악구",
           "2020-04-26"
          ],
          [
           "영락고등학교",
           "관악구",
           "2020-04-28"
          ],
          [
           "서울대입구역 4번 출구",
           "관악구",
           "2020-04-30"
          ],
          [
           "창신두산아파트",
           "종로구",
           "2020-06-11"
          ],
          [
           "이화공영주차장",
           "종로구",
           "2020-04-19"
          ],
          [
           "서울특별시 교육청",
           "종로구",
           "2020-02-26"
          ],
          [
           "서울특별시 중부교육지원청",
           "종로구",
           "2020-02-03"
          ],
          [
           "파크팰리스",
           "종로구",
           "2020-02-11"
          ],
          [
           "세종로공원",
           "종로구",
           "2020-05-08"
          ],
          [
           "안국동사거리(신)",
           "종로구",
           "2020-02-10"
          ],
          [
           "종로타워빌딩",
           "종로구",
           "2020-02-10"
          ],
          [
           "종로3가역 8번출구",
           "종로구",
           "2020-02-11"
          ],
          [
           "종묘",
           "종로구",
           "2020-02-10"
          ],
          [
           "세운상가",
           "종로구",
           "2020-02-11"
          ],
          [
           "종로플레이스",
           "종로구",
           "2020-02-04"
          ],
          [
           "종로5가역 4번출구",
           "종로구",
           "2020-02-11"
          ],
          [
           "동대문역6번출구",
           "종로구",
           "2020-02-26"
          ],
          [
           "동묘앞역 6번출구",
           "종로구",
           "2020-02-04"
          ],
          [
           "창신3동주민센터",
           "종로구",
           "2020-02-03"
          ],
          [
           "창신역2번 출구",
           "종로구",
           "2020-02-03"
          ],
          [
           "국립어린이과학관",
           "종로구",
           "2020-02-10"
          ],
          [
           "성균관대입구사거리(맥도날드)",
           "종로구",
           "2020-02-04"
          ],
          [
           "혜화역 1번출구",
           "종로구",
           "2020-02-04"
          ],
          [
           "성균관대 정문",
           "종로구",
           "2020-02-04"
          ],
          [
           "현대그룹(본사)",
           "종로구",
           "2020-02-04"
          ],
          [
           "광화문 풍림스페이스본 1단지앞",
           "종로구",
           "2020-05-04"
          ],
          [
           "독립문역 2번출구 뒤",
           "종로구",
           "2020-02-11"
          ],
          [
           "인왕산 아이파크 정문",
           "종로구",
           "2020-02-13"
          ],
          [
           "서울미술관",
           "종로구",
           "2020-02-13"
          ],
          [
           "AW컨벤션앞",
           "종로구",
           "2020-02-13"
          ],
          [
           "구기치안센터 앞",
           "종로구",
           "2020-02-13"
          ],
          [
           "로제우스 레포츠센터",
           "종로구",
           "2020-02-13"
          ],
          [
           "종로2가 사거리",
           "종로구",
           "2020-02-10"
          ],
          [
           "군자역2번출구",
           "광진구",
           "2017-11-01"
          ],
          [
           "광진구청 앞",
           "광진구",
           "2017-11-01"
          ],
          [
           "중곡역 1번출구",
           "광진구",
           "2017-11-01"
          ],
          [
           "광진유진스웰",
           "광진구",
           "2017-11-01"
          ],
          [
           "원일교회",
           "광진구",
           "2017-11-01"
          ],
          [
           "신양초교앞 교차로",
           "광진구",
           "2017-11-01"
          ],
          [
           "영동대교 북단",
           "광진구",
           "2017-11-01"
          ],
          [
           "어린이회관",
           "광진구",
           "2017-11-01"
          ],
          [
           "화양사거리",
           "광진구",
           "2017-11-01"
          ],
          [
           "세종사이버대학교",
           "광진구",
           "2020-09-24"
          ],
          [
           "중곡SK아파트앞",
           "광진구",
           "2018-03-23"
          ],
          [
           "응봉역 1번출구",
           "성동구",
           "2017-11-01"
          ],
          [
           "상왕십리역 1번출구",
           "성동구",
           "2017-11-01"
          ],
          [
           "왕십리교회옆",
           "성동구",
           "2017-11-01"
          ],
          [
           "서울숲 관리사무소",
           "성동구",
           "2017-11-01"
          ],
          [
           "구의아리수정수센터앞",
           "광진구",
           "2017-11-28"
          ],
          [
           "용마사거리",
           "광진구",
           "2017-11-28"
          ],
          [
           "군자역 7번출구뒤",
           "광진구",
           "2017-11-28"
          ],
          [
           "광진경찰서",
           "광진구",
           "2018-02-26"
          ],
          [
           "현대홈타운 뒷길",
           "광진구",
           "2018-02-26"
          ],
          [
           "건국대학교 과학관(이과대) 앞",
           "광진구",
           "2018-04-16"
          ],
          [
           "세종대학교",
           "광진구",
           "2018-04-09"
          ],
          [
           "금호스포츠센터앞",
           "성동구",
           "2018-10-24"
          ],
          [
           "왕십리 자이아파트",
           "성동구",
           "2018-10-24"
          ],
          [
           "광진정보도서관",
           "광진구",
           "2018-10-29"
          ],
          [
           "어린이대공원정문",
           "광진구",
           "2018-10-31"
          ],
          [
           "왕십리자이아파트 후문(삼거리)",
           "성동구",
           "2018-10-24"
          ],
          [
           "논골사거리(금호도서관 입구)",
           "성동구",
           "2018-10-24"
          ],
          [
           "왕십리KCC스위첸아파트",
           "성동구",
           "2018-10-24"
          ],
          [
           "건대입구역 사거리(롯데백화점)",
           "광진구",
           "2018-10-29"
          ],
          [
           "건대입구역 5번출구 뒤",
           "광진구",
           "2018-10-29"
          ],
          [
           "중앙농협(자양동)",
           "광진구",
           "2018-10-29"
          ],
          [
           "아차산 휴먼시아 아파트 옆",
           "광진구",
           "2018-10-29"
          ],
          [
           "서울숲 IT캐슬",
           "성동구",
           "2018-10-29"
          ],
          [
           "서원마을",
           "강동구",
           "2018-11-14"
          ],
          [
           "커먼그라운드",
           "광진구",
           "2018-11-14"
          ],
          [
           "래미안 구의파크 스위트",
           "광진구",
           "2018-11-14"
          ],
          [
           "세종대학교(학술정보원)",
           "광진구",
           "2019-12-16"
          ],
          [
           "한양대역 3번 출구",
           "성동구",
           "2020-04-13"
          ],
          [
           "한양대역 1번출구",
           "성동구",
           "2020-04-13"
          ],
          [
           "상왕십리역 6번 출입구",
           "성동구",
           "2020-04-14"
          ],
          [
           "뚝섬역 6번출구",
           "성동구",
           "2020-06-05"
          ],
          [
           "건영아파트 앞",
           "성동구",
           "2020-05-11"
          ],
          [
           "금호나들목",
           "성동구",
           "2020-04-16"
          ],
          [
           "성동도로사업소",
           "성동구",
           "2020-04-14"
          ],
          [
           "서울숲 공영주차장앞",
           "성동구",
           "2020-04-13"
          ],
          [
           "마장역3번출구",
           "성동구",
           "2020-04-14"
          ],
          [
           "양지사거리(센트라스APT 115동앞)",
           "성동구",
           "2020-04-14"
          ],
          [
           "신금호파크자이APT앞",
           "성동구",
           "2020-04-15"
          ],
          [
           "서울숲리버뷰자이APT105동 앞",
           "성동구",
           "2020-04-13"
          ],
          [
           "마장동 금호어울림APT앞",
           "성동구",
           "2020-04-14"
          ],
          [
           "성동구민종합체육센터 앞",
           "성동구",
           "2020-04-13"
          ],
          [
           "성동구 견인차량 보관소 앞",
           "성동구",
           "2020-04-14"
          ],
          [
           "행당동 삼부APT후문",
           "성동구",
           "2020-04-14"
          ],
          [
           "구의7단지현대아파트",
           "광진구",
           "2020-06-09"
          ],
          [
           "나루마당",
           "광진구",
           "2020-04-14"
          ],
          [
           "우성4차아파트",
           "광진구",
           "2020-04-14"
          ],
          [
           "건대병원후문",
           "광진구",
           "2020-05-07"
          ],
          [
           "구의역 리버비스타 오피스텔",
           "광진구",
           "2020-04-14"
          ],
          [
           "화양 APT(횡단보도 옆)",
           "광진구",
           "2020-04-13"
          ],
          [
           "광나루안전체험관",
           "광진구",
           "2020-04-13"
          ],
          [
           "자양사거리 (LG 유플러스)",
           "광진구",
           "2020-04-14"
          ],
          [
           "중곡동 파크웨이빌딩",
           "광진구",
           "2020-04-14"
          ],
          [
           "광진 캠퍼스시티",
           "광진구",
           "2020-04-13"
          ],
          [
           "광진광장",
           "광진구",
           "2020-04-16"
          ],
          [
           "화양동 우체국",
           "광진구",
           "2020-04-13"
          ],
          [
           "군자역 비채온 오피스텔",
           "광진구",
           "2020-04-14"
          ],
          [
           "우성식품 앞",
           "광진구",
           "2020-05-07"
          ],
          [
           "세종대학교(영실관)",
           "광진구",
           "2020-05-07"
          ],
          [
           "사근빗물펌프장 건너편",
           "성동구",
           "2020-07-03"
          ],
          [
           "한국지역난방공사 강남지사",
           "강남구",
           "2020-11-09"
          ],
          [
           "삼성역 2번출구",
           "강남구",
           "2021-02-23"
          ],
          [
           "삼성중앙역 5번출구(하이마트앞)",
           "강남구",
           "2021-02-23"
          ],
          [
           "봉은사역6번출구(현대아이파크타워앞)",
           "강남구",
           "2021-02-23"
          ],
          [
           "신사동주민센터 옆",
           "강남구",
           "2021-02-24"
          ],
          [
           "언주초등학교 입구",
           "강남구",
           "2021-02-24"
          ],
          [
           "윗반마을 입구",
           "강남구",
           "2021-02-23"
          ],
          [
           "방죽마을 입구",
           "강남구",
           "2021-02-23"
          ],
          [
           "은곡마을",
           "강남구",
           "2021-02-23"
          ],
          [
           "은마아파트 입구 사거리(1)",
           "강남구",
           "2021-02-24"
          ],
          [
           "서울 논현동우체국 앞",
           "강남구",
           "2021-02-24"
          ],
          [
           "역삼중학교 앞(체육관 방향)",
           "강남구",
           "2021-02-24"
          ],
          [
           "서울율현초교 삼거리",
           "강남구",
           "2021-02-23"
          ],
          [
           "청담역 11번 출구",
           "강남구",
           "2021-02-23"
          ],
          [
           "휘문고교 사거리",
           "강남구",
           "2021-02-23"
          ],
          [
           "은마아파트입구 사거리(2)",
           "강남구",
           "2021-02-23"
          ],
          [
           "일원에코파크 앞(개포로 방면)",
           "강남구",
           "2021-02-24"
          ],
          [
           "대모산입구역 7번 출구 앞",
           "강남구",
           "2021-02-24"
          ],
          [
           "압구정나들목",
           "강남구",
           "2021-02-24"
          ],
          [
           "역삼1동 주민센터",
           "강남구",
           "2021-02-24"
          ],
          [
           "청담사거리(신한오피스텔빌딩 앞)",
           "강남구",
           "2021-02-23"
          ],
          [
           "개포우성6차아파트 정문 앞",
           "강남구",
           "2021-02-24"
          ],
          [
           "국악고교 앞 교차로",
           "강남구",
           "2021-04-27"
          ],
          [
           "삼성중앙역·플래티넘아파트 정류소",
           "강남구",
           "2021-06-01"
          ],
          [
           "세곡데이케어센터",
           "강남구",
           "2021-06-01"
          ],
          [
           "신청담나들목",
           "강남구",
           "2021-06-01"
          ],
          [
           "일원1동 주민센터 앞 사거리",
           "강남구",
           "2021-06-17"
          ],
          [
           "대청역",
           "강남구",
           "2021-07-13"
          ],
          [
           "LH강남힐스테이트아파트",
           "강남구",
           "2021-08-30"
          ],
          [
           "K2 KOREA",
           "강남구",
           "2021-07-13"
          ],
          [
           "상록수아파트",
           "강남구",
           "2021-07-13"
          ],
          [
           "선정릉역 4번 출구",
           "강남구",
           "2021-08-03"
          ],
          [
           "구룡역 1번 출구",
           "강남구",
           "2021-10-01"
          ],
          [
           "구룡역 4번 출구",
           "강남구",
           "2021-10-01"
          ],
          [
           "구룡역 5번 출구",
           "강남구",
           "2021-10-01"
          ],
          [
           "한영외국어고등학교",
           "강동구",
           "2020-08-10"
          ],
          [
           "강동리버스트4단지아파트 404동 앞",
           "강동구",
           "2021-02-03"
          ],
          [
           "강동리버스트4단지아파트 405동 앞",
           "강동구",
           "2020-08-20"
          ],
          [
           "둔촌신성미소지움아파트",
           "강동구",
           "2020-10-20"
          ],
          [
           "둔촌푸르지오아파트",
           "강동구",
           "2021-04-15"
          ],
          [
           "서울천호동우체국",
           "강동구",
           "2021-04-13"
          ],
          [
           "프라이어팰리스아파트",
           "강동구",
           "2021-04-15"
          ],
          [
           "명일초등학교 옆",
           "강동구",
           "2021-04-15"
          ],
          [
           "명일동신동아아파트 앞",
           "강동구",
           "2021-04-15"
          ],
          [
           "암사정수센터교차로\n(강동롯데캐슬퍼스트아파트)",
           "강동구",
           "2021-04-15"
          ],
          [
           "맥도날드 서울둔촌DT점 앞",
           "강동구",
           "2021-04-13"
          ],
          [
           "고덕센트럴 아이파크상가 앞",
           "강동구",
           "2021-04-15"
          ],
          [
           "성내삼성아파트",
           "강동구",
           "2021-04-13"
          ],
          [
           "둔촌동역교차로",
           "강동구",
           "2021-04-13"
          ],
          [
           "고덕중학교 후문",
           "강동구",
           "2021-04-16"
          ],
          [
           "강동리버스트6단지",
           "강동구",
           "2021-04-14"
          ],
          [
           "강동리버스트7단지",
           "강동구",
           "2021-04-14"
          ],
          [
           "강동리버스트8단지",
           "강동구",
           "2021-04-14"
          ],
          [
           "강동리엔파크9단지",
           "강동구",
           "2021-03-19"
          ],
          [
           "강동구음식물재활용센터",
           "강동구",
           "2021-04-15"
          ],
          [
           "강동역3번출구",
           "강동구",
           "2021-04-14"
          ],
          [
           "길동 마루빌딩",
           "강동구",
           "2021-04-14"
          ],
          [
           "길동 동호빌딩",
           "강동구",
           "2021-04-14"
          ],
          [
           "KT&G강동지사",
           "강동구",
           "2021-04-14"
          ],
          [
           "고덕자이(105동 앞)",
           "강동구",
           "2021-06-25"
          ],
          [
           "강동리엔파크14단지(1401동 앞)",
           "강동구",
           "2021-03-19"
          ],
          [
           "고덕 래미안 힐스테이트(101동)",
           "강동구",
           "2021-07-02"
          ],
          [
           "신명초교입구 교차로",
           "강동구",
           "2021-06-01"
          ],
          [
           "상일동산(동아아파트앞 교차로)",
           "강동구",
           "2021-06-01"
          ],
          [
           "강일역 3번출구",
           "강동구",
           "2021-08-24"
          ],
          [
           "강일역 4번출구",
           "강동구",
           "2021-09-10"
          ],
          [
           "둔촌역 2번출구",
           "강동구",
           "2021-09-30"
          ],
          [
           "둔촌오륜역 1번 출구",
           "강동구",
           "2021-09-30"
          ],
          [
           "강동리엔파크 11단지",
           "강동구",
           "2021-11-05"
          ],
          [
           "신성교회 앞",
           "강북구",
           "2020-11-04"
          ],
          [
           "드래곤타워 앞",
           "강북구",
           "2020-11-04"
          ],
          [
           "월계2교 교차로",
           "강북구",
           "2020-11-04"
          ],
          [
           "송천센트레빌",
           "강북구",
           "2020-11-04"
          ],
          [
           "번동 SK LPG 충전소",
           "강북구",
           "2021-01-27"
          ],
          [
           "공항중학교 버스정류장",
           "강서구",
           "2020-11-09"
          ],
          [
           "신방화역 8번출구",
           "강서구",
           "2021-01-27"
          ],
          [
           "마곡힐스테이트 정문",
           "강서구",
           "2020-11-09"
          ],
          [
           "신방화역 6번출구",
           "강서구",
           "2021-06-25"
          ],
          [
           "서울남부출입국관리소",
           "강서구",
           "2021-06-24"
          ],
          [
           "이대서울병원",
           "강서구",
           "2020-11-23"
          ],
          [
           "발산역 8번 출구",
           "강서구",
           "2020-11-23"
          ],
          [
           "나이아가라관광호텔",
           "강서구",
           "2020-11-11"
          ],
          [
           "마곡9단지 907동앞",
           "강서구",
           "2021-04-29"
          ],
          [
           "등촌태영아파트",
           "강서구",
           "2020-11-11"
          ],
          [
           "관문주유소(GS칼택스) 앞",
           "강서구",
           "2021-01-26"
          ],
          [
           "문소빌딩",
           "강서구",
           "2020-11-11"
          ],
          [
           "강서문화센터",
           "강서구",
           "2020-11-24"
          ],
          [
           "대원빌딩",
           "강서구",
           "2020-11-11"
          ],
          [
           "가양동 이마트 앞",
           "강서구",
           "2020-12-24"
          ],
          [
           "남부순환로 205",
           "강서구",
           "2021-04-13"
          ],
          [
           "길성그랑프리텔아파트",
           "강서구",
           "2020-11-09"
          ],
          [
           "마곡9단지 910동 상가앞",
           "강서구",
           "2021-04-28"
          ],
          [
           "가양오토갤러리",
           "강서구",
           "2020-11-10"
          ],
          [
           "김포공항교차로",
           "강서구",
           "2020-11-09"
          ],
          [
           "김포공항입구 교차로",
           "강서구",
           "2020-11-09"
          ],
          [
           "유광사여성병원",
           "강서구",
           "2020-11-24"
          ],
          [
           "등촌서광아파트",
           "강서구",
           "2020-11-11"
          ],
          [
           "강서아동복지센터",
           "강서구",
           "2020-11-10"
          ],
          [
           "겸재정선미술관",
           "강서구",
           "2020-11-10"
          ],
          [
           "마곡금호어울림아파트",
           "강서구",
           "2020-11-10"
          ],
          [
           "벽산아파트",
           "강서구",
           "2020-11-10"
          ],
          [
           "마곡14단지 1408동앞",
           "강서구",
           "2021-05-14"
          ],
          [
           "강서힐스테이트 상가 앞",
           "강서구",
           "2020-12-21"
          ],
          [
           "가양나들목",
           "강서구",
           "2020-11-10"
          ],
          [
           "정곡나들목",
           "강서구",
           "2020-11-10"
          ],
          [
           "염창나들목",
           "강서구",
           "2020-11-11"
          ],
          [
           "화곡본동시장 입구",
           "강서구",
           "2020-12-21"
          ],
          [
           "더리브골드타워",
           "강서구",
           "2020-12-21"
          ],
          [
           "안양천합수부(현대3차아파트)",
           "강서구",
           "2020-12-21"
          ],
          [
           "공항신성빌딩 앞",
           "강서구",
           "2020-12-21"
          ],
          [
           "송정역 3번출구 앞",
           "강서구",
           "2020-12-21"
          ],
          [
           "마곡수명산파크7단지 710동 앞",
           "강서구",
           "2020-11-02"
          ],
          [
           "그랜드아이파트아파트 앞",
           "강서구",
           "2020-11-02"
          ],
          [
           "국립항공박물관",
           "강서구",
           "2021-02-04"
          ],
          [
           "이랜드글로벌R&D센터",
           "강서구",
           "2021-04-28"
          ],
          [
           "관악구민체육센터",
           "관악구",
           "2020-08-17"
          ],
          [
           "세븐일레븐 신림점",
           "관악구",
           "2021-02-01"
          ],
          [
           "낙성대공원",
           "관악구",
           "2021-02-01"
          ],
          [
           "낙성대 교수아파트",
           "관악구",
           "2021-02-01"
          ],
          [
           "관악우체국 교차로",
           "관악구",
           "2021-02-01"
          ],
          [
           "신봉천주유소",
           "관악구",
           "2021-02-01"
          ],
          [
           "신사로입구",
           "관악구",
           "2021-06-04"
          ],
          [
           "KT관악지점",
           "관악구",
           "2021-06-01"
          ],
          [
           "낙성대역 5번출구",
           "관악구",
           "2021-07-16"
          ],
          [
           "난곡사거리 ",
           "관악구",
           "2021-07-16"
          ],
          [
           "광일빌딩",
           "관악구",
           "2021-09-28"
          ],
          [
           "관악 GSfresh",
           "관악구",
           "2021-10-26"
          ],
          [
           "은천교회 앞",
           "관악구",
           "2021-10-26"
          ],
          [
           "어린이대공원역 2번출구",
           "광진구",
           "2020-12-09"
          ],
          [
           "건국대학교 정문 앞",
           "광진구",
           "2020-12-09"
          ],
          [
           "동일로58길 입구",
           "광진구",
           "2020-12-10"
          ],
          [
           "광진소방서 앞",
           "광진구",
           "2020-12-09"
          ],
          [
           "이튼타워리버 2차",
           "광진구",
           "2020-12-09"
          ],
          [
           "자양한강도서관",
           "광진구",
           "2020-12-10"
          ],
          [
           "동서울우편집중국 앞",
           "광진구",
           "2020-12-10"
          ],
          [
           "장로회신학대학교 주기철 기념관",
           "광진구",
           "2020-12-14"
          ],
          [
           "중랑천 뚝방길 산책로 입구",
           "광진구",
           "2021-06-01"
          ],
          [
           "홍련봉 공원",
           "광진구",
           "2021-05-18"
          ],
          [
           " 신자초교입구 교차로",
           "광진구",
           "2021-07-01"
          ],
          [
           "자양2동 주민센터",
           "광진구",
           "2021-07-23"
          ],
          [
           "광진구 민방위교육센터",
           "광진구",
           "2021-09-24"
          ],
          [
           "항동지구5단지 501동 앞",
           "구로구",
           "2020-11-02"
          ],
          [
           "현대아파트 앞",
           "구로구",
           "2020-11-02"
          ],
          [
           "테크노마트 앞",
           "구로구",
           "2020-11-02"
          ],
          [
           "희훈타워빌 앞",
           "구로구",
           "2020-11-02"
          ],
          [
           "천왕차량사업소 입구",
           "구로구",
           "2020-11-02"
          ],
          [
           "신도림7차e편한세상아파트 803동 앞",
           "구로구",
           "2021-06-07"
          ],
          [
           "동선오피스텔 앞",
           "구로구",
           "2021-04-13"
          ],
          [
           "목양전원교회 앞 로터리(2)",
           "구로구",
           "2021-05-14"
          ],
          [
           "항동하버리안2단지아파트 후문",
           "구로구",
           "2021-05-14"
          ],
          [
           "삼호아파트 앞",
           "구로구",
           "2021-06-01"
          ],
          [
           "신도림쌍용플래티넘노블아파트 앞",
           "구로구",
           "2021-08-02"
          ],
          [
           "동선아파트 앞",
           "구로구",
           "2021-09-28"
          ],
          [
           "이좋은집오피스텔 앞",
           "구로구",
           "2021-11-19"
          ],
          [
           "대륭테크노타운21차 앞",
           "금천구",
           "2021-02-16"
          ],
          [
           "롯데캐슬2차 마을버스 정류장(18804)\n 뒤편",
           "금천구",
           "2021-02-16"
          ],
          [
           "시흥사거리(시흥동 994-3 앞)",
           "금천구",
           "2021-02-16"
          ],
          [
           "에이스 하드웨어(시흥대로 396) 앞",
           "금천구",
           "2021-02-17"
          ],
          [
           "독산역1번출구 옆(2)",
           "금천구",
           "2021-02-17"
          ],
          [
           "혜명양로원 담장 옆(2)",
           "금천구",
           "2021-07-23"
          ],
          [
           "독산동 현대홈타운 금천과선교 앞",
           "금천구",
           "2021-08-02"
          ],
          [
           "독산역 롯데캐슬 104동 앞",
           "금천구",
           "2021-08-03"
          ],
          [
           "시흥4동주민센터 앞",
           "금천구",
           "2021-08-30"
          ],
          [
           "순흥안씨묘 건너편",
           "금천구",
           "2021-08-30"
          ],
          [
           "산기슭공원 앞",
           "금천구",
           "2021-08-30"
          ],
          [
           "독산2동주민센터 앞",
           "금천구",
           "2021-08-30"
          ],
          [
           " 안천중학교",
           "금천구",
           "2021-09-30"
          ],
          [
           "말미사거리",
           "금천구",
           "2021-10-26"
          ],
          [
           "금천구청역 1번 출구",
           "금천구",
           "2021-09-28"
          ],
          [
           "가산롯데아이티캐슬",
           "금천구",
           "2021-11-09"
          ],
          [
           "디폴리스 지식산업센터",
           "금천구",
           "2021-11-10"
          ],
          [
           "상계주공 14단지 상가 앞",
           "노원구",
           "2021-03-03"
          ],
          [
           "스타벅스 상계초교사거리점",
           "노원구",
           "2021-03-03"
          ],
          [
           "당고개입구오거리 당현천변",
           "노원구",
           "2021-03-03"
          ],
          [
           "중계2차 한화꿈에그린 101동 인근",
           "노원구",
           "2021-03-03"
          ],
          [
           "노원 을지대학교 병원",
           "노원구",
           "2021-03-04"
          ],
          [
           "하계 어린이 공원",
           "노원구",
           "2021-03-02"
          ],
          [
           "월계프라자",
           "노원구",
           "2021-02-26"
          ],
          [
           "월계 센트럴 아이파크",
           "노원구",
           "2021-02-26"
          ],
          [
           "중계 롯데마트",
           "노원구",
           "2021-03-03"
          ],
          [
           "당고개역 3번 출구",
           "노원구",
           "2021-03-03"
          ],
          [
           "노원 마들스타디움",
           "노원구",
           "2021-03-25"
          ],
          [
           "월계 청백1단지 아파트 정류장",
           "노원구",
           "2021-02-26"
          ],
          [
           "상계주공15단지 버스정류소",
           "노원구",
           "2021-03-02"
          ],
          [
           "상계주공10단지 버스정류소",
           "노원구",
           "2021-03-03"
          ],
          [
           "중계동 성모빌딩 앞 ",
           "노원구",
           "2021-03-04"
          ],
          [
           "중계본동 입구",
           "노원구",
           "2021-03-04"
          ],
          [
           "월계역 1번 출구",
           "노원구",
           "2021-02-26"
          ],
          [
           "꿈의숲 SK뷰 아파트",
           "노원구",
           "2021-03-04"
          ],
          [
           "한천교 동편",
           "노원구",
           "2021-03-04"
          ],
          [
           "상계주공1단지아파트",
           "노원구",
           "2021-03-03"
          ],
          [
           "이마트 월계점",
           "노원구",
           "2021-04-27"
          ],
          [
           "한일유앤아이아파트 105동 인근",
           "노원구",
           "2021-03-04"
          ],
          [
           "청소년수련관 후문",
           "노원구",
           "2021-03-02"
          ],
          [
           "청암예술학교 앞",
           "노원구",
           "2021-03-25"
          ],
          [
           "은행사거리(불암주유소 앞)",
           "노원구",
           "2021-03-02"
          ],
          [
           "녹천 자동차운전 전문학원\n (녹천역 4번 출구)",
           "노원구",
           "2021-03-02"
          ],
          [
           "상계근린공원 운동장 앞",
           "노원구",
           "2021-03-03"
          ],
          [
           "수락 행복발전소 앞",
           "노원구",
           "2021-05-14"
          ],
          [
           "하계역 6번출구",
           "노원구",
           "2021-04-27"
          ],
          [
           "물넘이교",
           "노원구",
           "2021-06-01"
          ],
          [
           "서울시 북부여성발전센터",
           "노원구",
           "2021-07-05"
          ],
          [
           "공릉로 26길",
           "노원구",
           "2021-07-15"
          ],
          [
           "공릉역3번출구",
           "노원구",
           "2021-07-23"
          ],
          [
           "상계문화정보도서관",
           "노원구",
           "2021-08-27"
          ],
          [
           "상계주공13단지 1301동",
           "노원구",
           "2021-09-24"
          ],
          [
           "공릉산 백세문 입구",
           "노원구",
           "2021-10-07"
          ],
          [
           "은하수 공원",
           "노원구",
           "2021-10-27"
          ],
          [
           "경춘선 숲길",
           "노원구",
           "2021-11-11"
          ],
          [
           "KT프라자도봉점 맞은편",
           "도봉구",
           "2021-03-02"
          ],
          [
           "다락원체육공원 전망대 입구",
           "도봉구",
           "2021-03-02"
          ],
          [
           "평화도봉공원 주변",
           "도봉구",
           "2021-03-02"
          ],
          [
           "신창아파트 입구 앞",
           "도봉구",
           "2021-03-02"
          ],
          [
           "창동역 1번출구 앞",
           "도봉구",
           "2021-03-02"
          ],
          [
           "방아골종합사회복지관",
           "도봉구",
           "2021-04-16"
          ],
          [
           "도봉구육아종합지원센터(창동)",
           "도봉구",
           "2021-03-03"
          ],
          [
           "방학신동아아파트 11동 앞",
           "도봉구",
           "2021-06-10"
          ],
          [
           "진영상운 앞 중랑천 변",
           "도봉구",
           "2020-12-23"
          ],
          [
           "도봉제1교",
           "도봉구",
           "2021-04-29"
          ],
          [
           "원당공원 앞",
           "도봉구",
           "2021-06-16"
          ],
          [
           "창동주공19단지앞 ",
           "도봉구",
           "2021-10-27"
          ],
          [
           "휘경1동주민센터 앞",
           "동대문구",
           "2020-09-18"
          ],
          [
           "휘경sk뷰아파트 앞",
           "동대문구",
           "2020-09-18"
          ],
          [
           "외대앞역 교차로",
           "동대문구",
           "2020-09-18"
          ],
          [
           "하나은행 장안동지점앞",
           "동대문구",
           "2020-09-18"
          ],
          [
           "장안동근린공원 입구",
           "동대문구",
           "2020-09-18"
          ],
          [
           "답십리파크자이아파트 앞",
           "동대문구",
           "2020-09-18"
          ],
          [
           "용두롯데캐슬리치아파트 앞",
           "동대문구",
           "2020-09-21"
          ],
          [
           "한국국방연구원 앞",
           "동대문구",
           "2020-09-17"
          ],
          [
           "휘경여중고삼거리",
           "동대문구",
           "2020-09-18"
          ],
          [
           "이문e편한세상아파트 앞",
           "동대문구",
           "2020-09-18"
          ],
          [
           "휘경119안전센터 앞",
           "동대문구",
           "2020-09-21"
          ],
          [
           "서울문화재단 앞",
           "동대문구",
           "2020-09-21"
          ],
          [
           "청계9가교차로 앞",
           "동대문구",
           "2020-09-21"
          ],
          [
           "배봉초교 교차로",
           "동대문구",
           "2020-09-18"
          ],
          [
           "회기역 2-①번출구",
           "동대문구",
           "2021-10-01"
          ],
          [
           "상도효성해링턴플레이스",
           "동작구",
           "2021-02-18"
          ],
          [
           "흑성동효사정앞",
           "동작구",
           "2021-02-18"
          ],
          [
           "노량진근린공원",
           "동작구",
           "2021-02-18"
          ],
          [
           "노량진1동 청소년독서실",
           "동작구",
           "2021-02-18"
          ],
          [
           "구로교 아래",
           "동작구",
           "2021-02-18"
          ],
          [
           "신대방삼거리",
           "동작구",
           "2021-02-18"
          ],
          [
           "우성아파트 앞",
           "동작구",
           "2021-05-17"
          ],
          [
           "이화약국 앞",
           "동작구",
           "2021-04-29"
          ],
          [
           "스페이스 살림 앞",
           "동작구",
           "2021-04-30"
          ],
          [
           "프런트원(공덕역 4번출구 앞)",
           "마포구",
           "2020-12-02"
          ],
          [
           "광흥창역5번출구",
           "마포구",
           "2020-12-02"
          ],
          [
           "아만티호텔 앞",
           "마포구",
           "2020-12-03"
          ],
          [
           "스타벅스(동교동) 앞",
           "마포구",
           "2020-12-03"
          ],
          [
           "가좌행복주택 앞",
           "마포구",
           "2020-12-02"
          ],
          [
           "시석빌딩 앞",
           "마포구",
           "2020-12-03"
          ],
          [
           "한화오벨리스크 앞",
           "마포구",
           "2020-12-02"
          ],
          [
           "마포구중앙도서관 정문 앞",
           "마포구",
           "2020-12-02"
          ],
          [
           "JTBC 앞",
           "마포구",
           "2020-12-02"
          ],
          [
           "망원정 앞",
           "마포구",
           "2021-07-14"
          ],
          [
           "한강공원 망원나들목",
           "마포구",
           "2021-09-14"
          ],
          [
           "디지털매직스페이스",
           "마포구",
           "2021-10-28"
          ],
          [
           "신촌 청년주택",
           "마포구",
           "2021-10-28"
          ],
          [
           "솔리스타오피스텔(공덕동주민센터)",
           "마포구",
           "2021-10-26"
          ],
          [
           "서울디자인고등학교 앞",
           "마포구",
           "2021-10-26"
          ],
          [
           "서부운전면허시험장",
           "마포구",
           "2021-10-26"
          ],
          [
           "마포프레스티지자이 1",
           "마포구",
           "2021-10-26"
          ],
          [
           "코오롱아파트사거리",
           "마포구",
           "2021-10-28"
          ],
          [
           "에스테반",
           "마포구",
           "2021-10-28"
          ],
          [
           "상암한샘빌딩앞",
           "마포구",
           "2021-10-28"
          ],
          [
           "성산2동 주민센터 ",
           "마포구",
           "2021-10-28"
          ],
          [
           "아현문화건강센터",
           "마포구",
           "2021-10-28"
          ],
          [
           "홍은도담도서관",
           "서대문구",
           "2020-12-22"
          ],
          [
           "래미안 루센티아 아파트 108동 앞",
           "서대문구",
           "2021-07-15"
          ],
          [
           "서대문자연사박물관 입구",
           "서대문구",
           "2021-10-28"
          ],
          [
           "매헌역 2번출구앞\n광역버스 정류장앞(22-297)",
           "서초구",
           "2021-02-19"
          ],
          [
           "서울고앞",
           "서초구",
           "2021-02-19"
          ],
          [
           "서일스포츠센터",
           "서초구",
           "2021-02-18"
          ],
          [
           "서래공원 앞",
           "서초구",
           "2021-02-22"
          ],
          [
           "고투몰 gate 15옆",
           "서초구",
           "2021-02-22"
          ],
          [
           "서초케이트타운앞",
           "서초구",
           "2021-02-19"
          ],
          [
           "염곡동(염통골) 입구",
           "서초구",
           "2021-02-19"
          ],
          [
           "반포미도2차아파트 옆",
           "서초구",
           "2021-02-22"
          ],
          [
           "반포종합운동장",
           "서초구",
           "2021-02-19"
          ],
          [
           "탑성마을 버스정거장 옆",
           "서초구",
           "2021-02-19"
          ],
          [
           "이투스교육 앞",
           "서초구",
           "2021-02-19"
          ],
          [
           "고속터미널 3번출구",
           "서초구",
           "2021-02-19"
          ],
          [
           "양재근린공원",
           "서초구",
           "2021-02-19"
          ],
          [
           "방배역 2번 출구",
           "서초구",
           "2021-02-19"
          ],
          [
           "삼성전자R&D어린이집 뒤",
           "서초구",
           "2020-12-22"
          ],
          [
           "신영체르니 아파트",
           "서초구",
           "2020-12-14"
          ],
          [
           "서울추모공원 입구",
           "서초구",
           "2021-06-23"
          ],
          [
           "내곡도서관",
           "서초구",
           "2021-07-13"
          ],
          [
           "세화고등학교",
           "서초구",
           "2021-10-01"
          ],
          [
           "몽마르뜨공원입구",
           "서초구",
           "2021-11-05"
          ],
          [
           "SC제일은행 양재동지점 앞",
           "서초구",
           "2021-11-05"
          ],
          [
           "반포한강공원입구,씨티21옆",
           "서초구",
           "2021-11-05"
          ],
          [
           "코오롱디지털타워 3차앞",
           "성동구",
           "2020-11-03"
          ],
          [
           "르노삼성자동차 성수사업소 앞",
           "성동구",
           "2020-11-03"
          ],
          [
           "행당중학교 후문",
           "성동구",
           "2020-11-03"
          ],
          [
           "신금호역 2번출구 앞",
           "성동구",
           "2021-06-25"
          ],
          [
           "kt 행당빌딩 앞",
           "성동구",
           "2021-04-26"
          ],
          [
           "서울숲IT캐슬 앞",
           "성동구",
           "2021-05-26"
          ],
          [
           "서울숲 지식산업센터",
           "성동구",
           "2021-10-27"
          ],
          [
           "우영테크노센터 앞",
           "성동구",
           "2021-10-28"
          ],
          [
           "장곡초등학교 앞",
           "성북구",
           "2021-04-12"
          ],
          [
           "돌곶이역 앞",
           "성북구",
           "2021-04-27"
          ],
          [
           "동산어린이공원 앞",
           "성북구",
           "2021-07-15"
          ],
          [
           "안암역 3번 출구",
           "성북구",
           "2021-10-01"
          ],
          [
           "미아초교버스승강장",
           "성북구",
           "2021-10-27"
          ],
          [
           "삼성SDS",
           "송파구",
           "2021-01-04"
          ],
          [
           "위례중앙푸르지오 201동 앞",
           "송파구",
           "2020-12-30"
          ],
          [
           "위례 포레샤인 1809동 부근",
           "송파구",
           "2021-01-22"
          ],
          [
           "위례포레샤인 2310동 부근",
           "송파구",
           "2020-12-30"
          ],
          [
           "아산병원 기숙사 부근",
           "송파구",
           "2021-01-04"
          ],
          [
           "서울힐링요양병원 앞",
           "송파구",
           "2021-01-04"
          ],
          [
           "올림픽훼미리아파트 112동 앞",
           "송파구",
           "2021-01-05"
          ],
          [
           "한양3차아파트 3동 앞",
           "송파구",
           "2021-01-04"
          ],
          [
           "가락중학교 앞",
           "송파구",
           "2021-01-05"
          ],
          [
           "방이역 2번 출구",
           "송파구",
           "2021-01-04"
          ],
          [
           "올림픽공원 북2문",
           "송파구",
           "2020-12-23"
          ],
          [
           "건영아파트앞 사거리",
           "송파구",
           "2021-01-05"
          ],
          [
           "한림연예예술고등학교",
           "송파구",
           "2021-01-05"
          ],
          [
           "가락1동 주민센터 2",
           "송파구",
           "2020-12-30"
          ],
          [
           "거여동 어울림아파트  102동앞",
           "송파구",
           "2021-01-04"
          ],
          [
           "송파파크데일 1단지 115동 건너편",
           "송파구",
           "2020-12-23"
          ],
          [
           "마천금호어울림 1차 102동앞",
           "송파구",
           "2020-12-23"
          ],
          [
           "가락현대 1차 11동 앞",
           "송파구",
           "2020-12-24"
          ],
          [
           "송파파인타운 4단지 403동",
           "송파구",
           "2020-12-24"
          ],
          [
           "문정근린공원2",
           "송파구",
           "2020-12-30"
          ],
          [
           "문정중학교",
           "송파구",
           "2020-12-30"
          ],
          [
           "가락시장역 롯데마트2",
           "송파구",
           "2021-01-04"
          ],
          [
           "올림픽공원 북2문 2",
           "송파구",
           "2020-12-23"
          ],
          [
           "잠실나들목4",
           "송파구",
           "2020-12-24"
          ],
          [
           "잠실나루역4번출구뒤",
           "송파구",
           "2021-01-04"
          ],
          [
           "잠실나루역 고가하부",
           "송파구",
           "2021-01-04"
          ],
          [
           "홈플러스 잠실점",
           "송파구",
           "2021-01-04"
          ],
          [
           "문현중.고등학교 사이",
           "송파구",
           "2020-12-24"
          ],
          [
           "송파파인타운 10단지 1005동",
           "송파구",
           "2020-12-24"
          ],
          [
           "장지역 1번출구",
           "송파구",
           "2021-01-05"
          ],
          [
           "마천사거리 2",
           "송파구",
           "2021-01-04"
          ],
          [
           "잠실 파크리오 120동 앞",
           "송파구",
           "2020-12-24"
          ],
          [
           "아시아선수촌아파트 교차로",
           "송파구",
           "2021-01-04"
          ],
          [
           "세양청마루 101동 앞",
           "송파구",
           "2020-12-30"
          ],
          [
           "풍납나들목",
           "송파구",
           "2021-01-11"
          ],
          [
           "삼성전자서비스 신정센터",
           "양천구",
           "2021-04-01"
          ],
          [
           "유원목동아파트 앞",
           "양천구",
           "2021-04-05"
          ],
          [
           "서울영상고교 입구",
           "양천구",
           "2021-04-01"
          ],
          [
           "신정네거리역 교차로",
           "양천구",
           "2021-05-27"
          ],
          [
           "목동13_14단지 사거리",
           "양천구",
           "2021-04-05"
          ],
          [
           "목동성당 앞",
           "양천구",
           "2021-04-05"
          ],
          [
           "동문굿모닝탑",
           "양천구",
           "2021-04-05"
          ],
          [
           "신진빌라",
           "양천구",
           "2021-03-29"
          ],
          [
           "성보하이드로빌딩",
           "양천구",
           "2021-03-29"
          ],
          [
           "청기와빌딩",
           "양천구",
           "2021-04-06"
          ],
          [
           "양원보도육교",
           "양천구",
           "2021-03-29"
          ],
          [
           "대성유니드아파트",
           "양천구",
           "2021-04-06"
          ],
          [
           "다이소신곡시장점",
           "양천구",
           "2021-04-09"
          ],
          [
           "구립양천어르신요양센터",
           "양천구",
           "2021-06-09"
          ],
          [
           "목동아파트2단지 222동 앞",
           "양천구",
           "2021-04-06"
          ],
          [
           "목동신시가지아파트6단지",
           "양천구",
           "2021-04-23"
          ],
          [
           "양천구청역 1번출구",
           "양천구",
           "2021-03-09"
          ],
          [
           "버거킹 신월점 앞",
           "양천구",
           "2021-04-26"
          ],
          [
           "목동아파트 613동 앞",
           "양천구",
           "2021-06-01"
          ],
          [
           "목동현대아파트 후문 앞",
           "양천구",
           "2021-07-14"
          ],
          [
           "월정초교 앞 사거리",
           "양천구",
           "2021-09-27"
          ],
          [
           "목동12단지 아파트",
           "양천구",
           "2021-11-09"
          ],
          [
           "양천해누리체육공원",
           "양천구",
           "2021-11-09"
          ],
          [
           "코레일유통본사",
           "영등포구",
           "2021-05-17"
          ],
          [
           "당산삼성2차아파트",
           "영등포구",
           "2021-05-17"
          ],
          [
           "대림우성2차아파트",
           "영등포구",
           "2021-05-18"
          ],
          [
           "리버뷰신안인스빌1차 후문",
           "영등포구",
           "2020-12-22"
          ],
          [
           "리버뷰신안인스빌2차 후문",
           "영등포구",
           "2020-12-22"
          ],
          [
           "대영중고 후문",
           "영등포구",
           "2021-05-17"
          ],
          [
           "신길역 2번출구",
           "영등포구",
           "2021-05-18"
          ],
          [
           "양평동성원아파트",
           "영등포구",
           "2021-05-17"
          ],
          [
           "양평역 1번출구",
           "영등포구",
           "2021-05-17"
          ],
          [
           "여의도 은하아파트",
           "영등포구",
           "2021-05-18"
          ],
          [
           "63스퀘어",
           "영등포구",
           "2021-05-18"
          ],
          [
           "영등포 신세계백화점",
           "영등포구",
           "2021-05-18"
          ],
          [
           "대림성원상떼빌아파트",
           "영등포구",
           "2021-05-17"
          ],
          [
           "한림대학교 강남성심병원 신관",
           "영등포구",
           "2021-05-18"
          ],
          [
           "영등포로터리",
           "영등포구",
           "2021-05-18"
          ],
          [
           "힐스테이트클래시안아파트",
           "영등포구",
           "2021-05-17"
          ],
          [
           "문래동롯데캐슬아파트",
           "영등포구",
           "2021-05-17"
          ],
          [
           "두산위브아파트",
           "영등포구",
           "2021-05-17"
          ],
          [
           "영등포시장역 포레나영등포",
           "영등포구",
           "2021-05-17"
          ],
          [
           "대림동 e편한세상영등포아델포레",
           "영등포구",
           "2021-05-18"
          ],
          [
           "보라매sk뷰 108동 앞",
           "영등포구",
           "2021-03-08"
          ],
          [
           "보라매sk뷰",
           "영등포구",
           "2021-03-08"
          ],
          [
           "국회의사당 본관",
           "영등포구",
           "2021-03-10"
          ],
          [
           "국회 3문",
           "영등포구",
           "2021-03-10"
          ],
          [
           "국회 소통관",
           "영등포구",
           "2021-03-10"
          ],
          [
           "국회도서관",
           "영등포구",
           "2021-03-10"
          ],
          [
           "의정관",
           "영등포구",
           "2021-03-11"
          ],
          [
           "국회 2문",
           "영등포구",
           "2021-03-10"
          ],
          [
           "국회 6문",
           "영등포구",
           "2021-03-11"
          ],
          [
           "양남사거리 2",
           "영등포구",
           "2021-06-15"
          ],
          [
           "KRX한국거래소(1)",
           "영등포구",
           "2021-07-23"
          ],
          [
           "KRX한국거래소(2)",
           "영등포구",
           "2021-07-23"
          ],
          [
           "신길자이아파트",
           "영등포구",
           "2021-08-02"
          ],
          [
           "신길우성4차아파트",
           "영등포구",
           "2021-08-02"
          ],
          [
           "양평교 영등포대여소",
           "영등포구",
           "2021-08-30"
          ],
          [
           "오목교 동측 지하보도",
           "영등포구",
           "2021-09-28"
          ],
          [
           "대림우성아파트 사거리",
           "영등포구",
           "2021-09-28"
          ],
          [
           "영등포구 총괄 우체국",
           "영등포구",
           "2021-12-02"
          ],
          [
           "숙명여대앞 버스정류소 주변",
           "용산구",
           "2020-10-29"
          ],
          [
           "한강GS에클라트 건너편 교통섬",
           "용산구",
           "2021-06-25"
          ],
          [
           "원효로다목적체육관 앞",
           "용산구",
           "2020-10-30"
          ],
          [
           "노들섬 다목적홀(동쪽) 숲, 앞",
           "용산구",
           "2020-10-30"
          ],
          [
           "국립중앙박물관 -용산가족공원 앞",
           "용산구",
           "2020-10-29"
          ],
          [
           "국립중앙박물관 정문 앞",
           "용산구",
           "2020-10-30"
          ],
          [
           "파크타워 104동 앞",
           "용산구",
           "2020-10-30"
          ],
          [
           "한남나인원 105동 앞",
           "용산구",
           "2020-10-29"
          ],
          [
           "국제루터교회 앞",
           "용산구",
           "2020-10-29"
          ],
          [
           "한남 준 J.FSS 앞",
           "용산구",
           "2020-10-29"
          ],
          [
           "서울갤러리아 앞",
           "용산구",
           "2020-10-29"
          ],
          [
           "크라운호텔앞 버스정류소",
           "용산구",
           "2020-10-29"
          ],
          [
           "신용산지하차도 앞",
           "용산구",
           "2020-10-30"
          ],
          [
           "동원베네스트 건너편",
           "용산구",
           "2020-10-30"
          ],
          [
           "풍전아파트 건너편",
           "용산구",
           "2020-10-30"
          ],
          [
           "한강트럼프월드3차 앞",
           "용산구",
           "2020-10-30"
          ],
          [
           "삼각지역 14번 출구 앞(교통섬)",
           "용산구",
           "2020-10-29"
          ],
          [
           "한강중학교 앞 버스정류장",
           "용산구",
           "2020-10-29"
          ],
          [
           "라인프랜즈이태원점 앞",
           "용산구",
           "2020-10-29"
          ],
          [
           "용산공원갤러리앞",
           "용산구",
           "2020-11-03"
          ],
          [
           "효창공원앞역 5번출구 옆",
           "용산구",
           "2020-10-29"
          ],
          [
           "한강초교보도육교 앞",
           "용산구",
           "2020-10-30"
          ],
          [
           "용산 푸르지오 파크타운 1단지 앞",
           "용산구",
           "2021-07-14"
          ],
          [
           "센트럴파크타워 앞",
           "용산구",
           "2021-08-18"
          ],
          [
           "신사두산위브2차아파트앞",
           "은평구",
           "2020-08-20"
          ],
          [
           "LG 베스트샵 앞",
           "은평구",
           "2020-11-03"
          ],
          [
           "OK부동산 앞",
           "은평구",
           "2020-11-03"
          ],
          [
           "다이소앞",
           "은평구",
           "2021-03-19"
          ],
          [
           "녹번역1번출구앞",
           "은평구",
           "2021-03-18"
          ],
          [
           "커피데이응암동지점",
           "은평구",
           "2021-03-18"
          ],
          [
           "삼성디지털은평불광점앞",
           "은평구",
           "2021-03-17"
          ],
          [
           "김혜영손뜨개 앞",
           "은평구",
           "2021-03-19"
          ],
          [
           "폭포동입구 교차로",
           "은평구",
           "2021-03-17"
          ],
          [
           "기자촌사거리",
           "은평구",
           "2021-03-17"
          ],
          [
           "청구성심병원 앞",
           "은평구",
           "2021-03-17"
          ],
          [
           "준빌딩 앞",
           "은평구",
           "2021-03-17"
          ],
          [
           "녹번역e편한세상 캐슬 정문 앞",
           "은평구",
           "2021-03-18"
          ],
          [
           "갈현1동 주민센터",
           "은평구",
           "2021-05-17"
          ],
          [
           "백련산 SK뷰 아이파크 해모로 아파트 앞",
           "은평구",
           "2021-05-17"
          ],
          [
           "백련산로 녹번센트레빌 \n아파트 앞",
           "은평구",
           "2021-09-24"
          ],
          [
           "평창동 꽃여울(꽃집),스타벅스 앞",
           "종로구",
           "2020-07-21"
          ],
          [
           "쌍용아파트2단지 정문",
           "종로구",
           "2020-09-21"
          ],
          [
           "웰니스센터(민방위교육장 앞)",
           "종로구",
           "2020-12-22"
          ],
          [
           "청계3가 사거리",
           "종로구",
           "2020-09-22"
          ],
          [
           "조계사앞사거리(파리바케트앞)",
           "종로구",
           "2020-09-22"
          ],
          [
           "천지인 오피스텔 앞",
           "종로구",
           "2021-02-02"
          ],
          [
           "자교교회 앞",
           "종로구",
           "2020-11-05"
          ],
          [
           "올림픽기념 국민생활관 로터리",
           "종로구",
           "2020-09-10"
          ],
          [
           "현대 뜨레비앙 아파트 앞",
           "종로구",
           "2021-02-02"
          ],
          [
           "돈의문 박물관 마을",
           "종로구",
           "2021-08-18"
          ],
          [
           "삼성사이버빌리지아파트",
           "중구",
           "2021-02-02"
          ],
          [
           "우리은행 서소문금융센터",
           "중구",
           "2020-11-03"
          ],
          [
           "서울역 7번출구",
           "중구",
           "2020-10-26"
          ],
          [
           "탐앤탐스 을지로3가점",
           "중구",
           "2020-10-19"
          ],
          [
           "국제빌딩",
           "중구",
           "2020-09-23"
          ],
          [
           "동대문디자인플라자",
           "중구",
           "2020-10-19"
          ],
          [
           "서소문성지역사박물관",
           "중구",
           "2020-10-05"
          ],
          [
           "서울도시건축전시관",
           "중구",
           "2021-03-18"
          ],
          [
           "중앙일보",
           "중구",
           "2020-10-05"
          ],
          [
           "을지로입구역 8번출구",
           "중구",
           "2020-09-23"
          ],
          [
           "을지로지하쇼핑센터",
           "중구",
           "2020-09-24"
          ],
          [
           "신세계면세점",
           "중구",
           "2020-10-19"
          ],
          [
           "약수동 주민센터",
           "중구",
           "2021-05-17"
          ],
          [
           "대신파이낸스센터",
           "중구",
           "2020-10-19"
          ],
          [
           "브라운스위트레지던스",
           "중구",
           "2020-10-05"
          ],
          [
           "서소문역사공원",
           "중구",
           "2020-10-05"
          ],
          [
           "중부경찰서앞 사거리",
           "중구",
           "2020-10-19"
          ],
          [
           "롯데시티호텔",
           "중구",
           "2020-10-19"
          ],
          [
           "명동역9번출구",
           "중구",
           "2020-10-19"
          ],
          [
           "퇴계로4가 교차로(중구청)",
           "중구",
           "2021-02-02"
          ],
          [
           "동대문역사문화공원역 5번출구",
           "중구",
           "2021-02-02"
          ],
          [
           "서울역 서부교차로(3)",
           "중구",
           "2021-04-13"
          ],
          [
           "부산은행",
           "중구",
           "2021-03-09"
          ],
          [
           "KG타워 앞",
           "중구",
           "2021-06-01"
          ],
          [
           "황학동롯데캐슬",
           "중구",
           "2021-07-15"
          ],
          [
           "새우개마을",
           "중랑구",
           "2021-02-15"
          ],
          [
           "상봉2동 주민센터 앞",
           "중랑구",
           "2021-02-15"
          ],
          [
           "동서울농협 앞",
           "중랑구",
           "2021-02-16"
          ],
          [
           "라코지스테이 앞",
           "중랑구",
           "2021-02-16"
          ],
          [
           "신내2동 주민센터 앞",
           "중랑구",
           "2021-02-16"
          ],
          [
           "동성1,2차 아파트 앞",
           "중랑구",
           "2021-02-15"
          ],
          [
           "한양수자인아파트 앞",
           "중랑구",
           "2021-02-17"
          ],
          [
           "묵동 이마트 앞",
           "중랑구",
           "2021-02-17"
          ],
          [
           "망우로 버거킹 앞",
           "중랑구",
           "2021-02-16"
          ],
          [
           "중랑데시앙플렉스 앞",
           "중랑구",
           "2021-04-26"
          ],
          [
           "면목동 새싹어린이공원 앞",
           "중랑구",
           "2021-06-01"
          ],
          [
           "망우역 2번 출구",
           "중랑구",
           "2021-07-02"
          ],
          [
           "동원초등학교 정문 앞",
           "중랑구",
           "2021-07-14"
          ],
          [
           "방정환교육지원센터 옆",
           "중랑구",
           "2021-08-17"
          ],
          [
           "상봉신협 앞",
           "중랑구",
           "2021-08-26"
          ],
          [
           "신내동 벽산아파트 후문 앞",
           "중랑구",
           "2021-08-28"
          ],
          [
           "홈플러스 면목점",
           "중랑구",
           "2021-08-28"
          ],
          [
           "신내SK V1센터 앞",
           "중랑구",
           "2021-09-23"
          ],
          [
           "신내동 한살림 중랑지구 앞",
           "중랑구",
           "2021-10-08"
          ],
          [
           "신내동 마석감자탕 앞",
           "중랑구",
           "2021-10-08"
          ],
          [
           "용마복지센터 앞",
           "중랑구",
           "2021-10-28"
          ],
          [
           "망우동 본죽 앞",
           "중랑구",
           "2021-11-11"
          ],
          [
           "서울복합물류 게이트 1",
           "송파구",
           "2021-01-05"
          ],
          [
           "송파 안전체험교육관",
           "송파구",
           "2021-01-26"
          ],
          [
           "가락시장역 2번 출구",
           "송파구",
           "2021-01-04"
          ],
          [
           "거여5단지 503동 앞",
           "송파구",
           "2021-01-04"
          ],
          [
           "올림픽공원 서1문 앞",
           "송파구",
           "2021-01-05"
          ],
          [
           "올림픽공원 장미광장",
           "송파구",
           "2021-01-19"
          ],
          [
           "잠실나루 나들목",
           "송파구",
           "2021-01-05"
          ],
          [
           "가락쌍용2차아파트 103동",
           "송파구",
           "2021-04-13"
          ],
          [
           "거여삼거리",
           "송파구",
           "2021-04-07"
          ],
          [
           "올림픽파크텔 맞은편",
           "송파구",
           "2021-04-07"
          ],
          [
           "잠실나들목5",
           "송파구",
           "2021-03-30"
          ],
          [
           "송파사거리",
           "송파구",
           "2021-04-27"
          ],
          [
           "한성백제역 1번출구 뒤",
           "송파구",
           "2021-04-28"
          ],
          [
           "가락대림아파트 앞",
           "송파구",
           "2021-04-28"
          ],
          [
           "레이크 호텔 앞",
           "송파구",
           "2021-05-18"
          ],
          [
           "잠실나들목6",
           "송파구",
           "2021-06-21"
          ],
          [
           "몽촌토성역 3번 출구",
           "송파구",
           "2021-07-13"
          ],
          [
           "오금동 대림아파트 정문",
           "송파구",
           "2021-07-13"
          ],
          [
           "개롱역 3번 출구 뒤",
           "송파구",
           "2021-07-13"
          ],
          [
           "개롱역사거리 2번 출구",
           "송파구",
           "2021-08-24"
          ],
          [
           "탄천1교 하부보도",
           "송파구",
           "2021-08-26"
          ],
          [
           "위례포레샤인13단지",
           "송파구",
           "2021-08-26"
          ],
          [
           "삼전동주민센터 앞",
           "송파구",
           "2021-08-26"
          ],
          [
           "마천청소년센터",
           "송파구",
           "2021-09-30"
          ],
          [
           "송파청소년 센터",
           "송파구",
           "2021-09-24"
          ],
          [
           "송파청소년센터",
           "송파구",
           "2021-09-30"
          ],
          [
           "위례포레샤인18단지 1802동",
           "송파구",
           "2021-09-30"
          ],
          [
           "위례포레샤인18단지 1812동",
           "송파구",
           "2021-09-30"
          ],
          [
           "H비즈니스파크",
           "송파구",
           "2021-11-11"
          ],
          [
           "가든파이브 리빙관",
           "송파구",
           "2021-11-11"
          ],
          [
           "배명고등학교 건너편",
           "송파구",
           "2021-11-10"
          ],
          [
           "호돌이상가",
           "송파구",
           "2021-11-10"
          ],
          [
           "둔촌오륜역 2번출구",
           "송파구",
           "2021-09-30"
          ],
          [
           "마천역 1번 출구 인근②",
           "송파구",
           "2021-09-30"
          ],
          [
           "위례포레샤인17단지 위례대로 방면",
           "송파구",
           "2021-11-10"
          ],
          [
           "성내유수지 체육공원",
           "송파구",
           "2021-11-10"
          ],
          [
           "문정법조단지12",
           "송파구",
           "2021-11-11"
          ],
          [
           "문정법조단지13",
           "송파구",
           "2021-11-11"
          ],
          [
           "위례포레샤인15단지 상가",
           "송파구",
           "2021-11-10"
          ],
          [
           "위례포레샤인15단지",
           "송파구",
           "2021-11-10"
          ],
          [
           "잠실주공5단지1",
           "송파구",
           "2021-11-29"
          ],
          [
           "구역삼세무서 교차로",
           "강남구",
           "2021-07-13"
          ],
          [
           "마곡역7번출구 홈앤쇼핑 앞",
           "강서구",
           "2021-07-14"
          ],
          [
           "신마곡벽산블루밍메트로오피스텔앞",
           "강서구",
           "2021-07-21"
          ],
          [
           "마곡역5번출구앞",
           "강서구",
           "2021-07-21"
          ],
          [
           "마곡역4,5번출구",
           "강서구",
           "2021-07-21"
          ],
          [
           "마곡역4번출구",
           "강서구",
           "2021-07-21"
          ],
          [
           "화곡2동주민센터",
           "강서구",
           "2021-08-02"
          ],
          [
           "우장산동 가곡어린이공원앞",
           "강서구",
           "2021-08-02"
          ],
          [
           "마곡동 767-6",
           "강서구",
           "2021-08-05"
          ],
          [
           "서남환경공원\n(방화동도시개발2단지방향)",
           "강서구",
           "2021-08-18"
          ],
          [
           "양천향교역8번출구",
           "강서구",
           "2021-09-27"
          ],
          [
           "허준박물관삼거리",
           "강서구",
           "2021-09-27"
          ],
          [
           "아망떼마곡전시장",
           "강서구",
           "2021-09-28"
          ],
          [
           "염참동 새마을금고 앞",
           "강서구",
           "2021-09-28"
          ],
          [
           "마곡13단지힐스테이트마스터 후문(1320동 앞)",
           "강서구",
           "2021-11-11"
          ],
          [
           "김포공항입구 교통섬",
           "강서구",
           "2021-09-28"
          ],
          [
           "우장산역 헤링턴타워 앞",
           "강서구",
           "2021-10-20"
          ],
          [
           "마곡동 주니어마곡점앞",
           "강서구",
           "2021-11-19"
          ],
          [
           "템퍼 목동점",
           "강서구",
           "2021-11-19"
          ],
          [
           "마포구민체육센터 앞",
           "마포구",
           "2020-09-24"
          ],
          [
           "독립문 어린이 공원",
           "서대문구",
           "2016-06-29"
          ],
          [
           "증권거래소 앞",
           "영등포구",
           "2015-09-17"
          ],
          [
           "신길삼거리(우리은행)",
           "영등포구",
           "2016-06-29"
          ],
          [
           "광화문역 2번출구 앞",
           "종로구",
           "2021-01-26"
          ],
          [
           "청계광장 옆",
           "중구",
           "2015-10-07"
          ],
          [
           "시청역 1번출구 뒤",
           "중구",
           "2015-10-07"
          ],
          [
           "대학로 마로니에공원",
           "종로구",
           "2015-10-07"
          ],
          [
           "다산 어린이공원",
           "중구",
           "2016-06-15"
          ],
          [
           "청계7가 사거리",
           "중구",
           "2016-06-15"
          ],
          [
           "예수소망교회",
           "중구",
           "2020-01-29"
          ],
          [
           "용답초등학교",
           "성동구",
           "2016-07-06"
          ],
          [
           "서울시립대 대학본부",
           "동대문구",
           "2019-11-20"
          ],
          [
           "성복교회 앞 (장평교 아래)",
           "동대문구",
           "2020-04-16"
          ],
          [
           "신정3동주민센터",
           "양천구",
           "2016-06-29"
          ],
          [
           "강동구평생학습관앞",
           "강동구",
           "2017-04-19"
          ],
          [
           "LG베스트샵 종암점",
           "성북구",
           "2017-05-02"
          ],
          [
           "월곡래미안아파트 입구",
           "성북구",
           "2020-03-26"
          ],
          [
           "미아 구름다리",
           "성북구",
           "2020-05-05"
          ],
          [
           "홈플러스 면목동점",
           "중랑구",
           "2017-04-26"
          ],
          [
           "구립망우청소년독서실",
           "중랑구",
           "2017-11-01"
          ],
          [
           "북서울 꿈의 숲 동문",
           "강북구",
           "2017-11-01"
          ],
          [
           "솔샘역 2번 출구",
           "강북구",
           "2018-07-27"
          ],
          [
           "월계미륭아파트 정문",
           "노원구",
           "2020-06-17"
          ],
          [
           "상계보람아파트 202동 ",
           "노원구",
           "2020-03-23"
          ],
          [
           "중앙대학교 정문",
           "동작구",
           "2017-05-12"
          ],
          [
           "대방1차 e편한세상 앞",
           "동작구",
           "2020-04-23"
          ],
          [
           "압구정역 교차로",
           "강남구",
           "2017-11-01"
          ],
          [
           "KT반포지사",
           "서초구",
           "2018-09-18"
          ],
          [
           "신흥교(애견훈련소)",
           "서초구",
           "2020-02-19"
          ],
          [
           "복정역 2번출구 후문 (장지치안센터)",
           "송파구",
           "2018-11-05"
          ],
          [
           "경찰병원",
           "송파구",
           "2020-01-20"
          ],
          [
           "문정동 힐스데이트 에코 송파",
           "송파구",
           "2020-01-20"
          ],
          [
           "레이클펠리스101동앞",
           "송파구",
           "2020-01-16"
          ],
          [
           "중계주공6단지",
           "노원구",
           "2020-03-26"
          ],
          [
           "서교동사거리",
           "마포구",
           "2020-04-12"
          ],
          [
           "그라시움 근린공원",
           "강동구",
           "2021-04-16"
          ],
          [
           "어위쉬예다인오피스텔",
           "강서구",
           "2020-11-24"
          ],
          [
           "동선오피스텔 앞",
           "구로구",
           "2021-04-13"
          ],
          [
           "상계주공9단지 버스정류소",
           "노원구",
           "2021-06-01"
          ],
          [
           "신동아아파트 교차로",
           "도봉구",
           "2021-06-10"
          ],
          [
           "신이문빗물펌프장 옆",
           "동대문구",
           "2020-09-17"
          ],
          [
           "위례 포레샤인 1812동 부근",
           "송파구",
           "2021-01-22"
          ],
          [
           "가락1동 주민센터",
           "송파구",
           "2020-12-30"
          ],
          [
           "마천사거리",
           "송파구",
           "2021-01-04"
          ],
          [
           "쌍용아파트2단지 상가앞",
           "종로구",
           "2020-09-21"
          ],
          [
           "태극당",
           "중구",
           "2020-10-16"
          ],
          [
           "서울광장 옆",
           "중구",
           "2015-10-07"
          ],
          [
           "청구 어린이공원",
           "중구",
           "2016-06-15"
          ],
          [
           "정동길입구",
           "중구",
           "2017-09-04"
          ],
          [
           "서울역3번 출구",
           "중구",
           "2020-02-03"
          ],
          [
           "서울지방고용노동청 앞",
           "중구",
           "2020-06-30"
          ],
          [
           "롯데하이마트 용산점 앞",
           "용산구",
           "2020-03-28"
          ],
          [
           "중곡사거리(국민은행)",
           "광진구",
           "2018-10-29"
          ],
          [
           "홍남교 두바퀴쉼터",
           "서대문구",
           "2018-11-21"
          ],
          [
           "(구)합정동 주민센터",
           "마포구",
           "2015-09-06"
          ],
          [
           "대흥동 주민센터",
           "마포구",
           "2015-09-07"
          ],
          [
           "망원1동주민센터",
           "마포구",
           "2016-06-29"
          ],
          [
           "망원2빗물펌프장 앞",
           "마포구",
           "2016-07-06"
          ],
          [
           "디지털미디어씨티역2번출구",
           "마포구",
           "2020-12-02"
          ],
          [
           "서남물재생센터 버스정류장",
           "강서구",
           "2017-04-24"
          ],
          [
           "발산1동주민센터교차로",
           "강서구",
           "2020-03-17"
          ],
          [
           "양남사거리 교통섬",
           "영등포구",
           "2020-03-05"
          ],
          [
           "관악문화원 건너편",
           "관악구",
           "2020-04-28"
          ],
          [
           "낙성대역 5번 출구",
           "관악구",
           "2020-04-29"
          ],
          [
           "무지개아파트 앞",
           "서초구",
           "2017-12-22"
          ],
          [
           "경문고교 사거리",
           "서초구",
           "2020-02-23"
          ],
          [
           "논현동 279-165",
           "강남구",
           "2020-08-10"
          ],
          [
           "석촌고분역 4번출구",
           "송파구",
           "2018-11-14"
          ]
         ],
         "hovertemplate": "<b>%{hovertext}</b><br><br>위도=%{lat}<br>경도=%{lon}<br>주소2=%{customdata[0]}<br>지역=%{customdata[1]}<br>설치일=%{customdata[2]}<extra></extra>",
         "hovertext": [
          102,
          103,
          104,
          105,
          106,
          107,
          108,
          109,
          111,
          112,
          113,
          114,
          115,
          116,
          117,
          118,
          119,
          120,
          121,
          122,
          123,
          124,
          125,
          126,
          127,
          128,
          129,
          130,
          131,
          133,
          134,
          135,
          137,
          138,
          139,
          140,
          141,
          142,
          143,
          144,
          145,
          146,
          147,
          148,
          150,
          153,
          154,
          155,
          156,
          157,
          159,
          160,
          161,
          162,
          163,
          164,
          165,
          166,
          167,
          169,
          170,
          171,
          173,
          175,
          176,
          177,
          178,
          179,
          180,
          181,
          182,
          183,
          184,
          185,
          186,
          188,
          191,
          192,
          194,
          195,
          196,
          198,
          199,
          200,
          201,
          202,
          203,
          204,
          205,
          206,
          207,
          209,
          210,
          211,
          212,
          213,
          214,
          215,
          217,
          219,
          220,
          221,
          222,
          223,
          224,
          225,
          226,
          227,
          228,
          229,
          230,
          231,
          232,
          233,
          234,
          235,
          236,
          237,
          238,
          239,
          240,
          241,
          242,
          243,
          244,
          245,
          247,
          248,
          249,
          250,
          251,
          252,
          253,
          254,
          255,
          256,
          258,
          259,
          260,
          262,
          263,
          264,
          265,
          266,
          267,
          268,
          270,
          271,
          272,
          274,
          275,
          276,
          277,
          278,
          279,
          280,
          281,
          282,
          283,
          284,
          285,
          286,
          287,
          288,
          289,
          290,
          291,
          292,
          293,
          295,
          296,
          297,
          298,
          299,
          300,
          301,
          302,
          303,
          305,
          306,
          307,
          308,
          309,
          310,
          314,
          316,
          318,
          320,
          321,
          322,
          324,
          326,
          327,
          328,
          329,
          331,
          332,
          334,
          335,
          336,
          337,
          338,
          339,
          340,
          341,
          342,
          343,
          344,
          345,
          346,
          347,
          348,
          349,
          351,
          352,
          353,
          354,
          355,
          356,
          358,
          359,
          361,
          362,
          363,
          364,
          367,
          368,
          369,
          370,
          371,
          372,
          374,
          379,
          380,
          381,
          382,
          383,
          384,
          385,
          387,
          388,
          389,
          390,
          391,
          393,
          394,
          395,
          397,
          398,
          399,
          400,
          401,
          402,
          403,
          405,
          406,
          407,
          408,
          409,
          410,
          411,
          412,
          413,
          414,
          415,
          416,
          417,
          418,
          419,
          420,
          421,
          422,
          424,
          425,
          426,
          427,
          428,
          429,
          430,
          431,
          432,
          433,
          434,
          435,
          436,
          437,
          438,
          439,
          440,
          441,
          442,
          443,
          445,
          446,
          447,
          449,
          450,
          451,
          452,
          453,
          454,
          455,
          456,
          457,
          458,
          461,
          462,
          464,
          465,
          466,
          467,
          468,
          469,
          470,
          471,
          472,
          473,
          474,
          475,
          476,
          477,
          479,
          480,
          481,
          483,
          484,
          485,
          486,
          487,
          488,
          489,
          490,
          491,
          492,
          493,
          494,
          495,
          497,
          498,
          500,
          501,
          502,
          505,
          506,
          507,
          508,
          509,
          510,
          511,
          512,
          513,
          514,
          515,
          516,
          518,
          519,
          520,
          521,
          522,
          523,
          524,
          525,
          526,
          529,
          530,
          533,
          534,
          535,
          536,
          537,
          538,
          539,
          540,
          542,
          543,
          544,
          546,
          548,
          549,
          550,
          551,
          552,
          553,
          555,
          556,
          557,
          558,
          559,
          560,
          561,
          562,
          563,
          564,
          565,
          567,
          568,
          569,
          571,
          572,
          573,
          574,
          575,
          576,
          577,
          578,
          579,
          582,
          583,
          583,
          584,
          585,
          586,
          587,
          588,
          589,
          590,
          591,
          592,
          593,
          594,
          600,
          601,
          602,
          604,
          605,
          606,
          607,
          608,
          609,
          610,
          612,
          613,
          614,
          615,
          616,
          617,
          621,
          622,
          623,
          624,
          625,
          626,
          627,
          628,
          630,
          631,
          633,
          634,
          635,
          636,
          637,
          638,
          639,
          640,
          641,
          642,
          643,
          646,
          647,
          648,
          650,
          652,
          654,
          656,
          657,
          658,
          659,
          660,
          661,
          663,
          664,
          665,
          666,
          667,
          668,
          669,
          670,
          671,
          672,
          673,
          674,
          676,
          677,
          678,
          679,
          680,
          681,
          700,
          701,
          702,
          703,
          704,
          706,
          708,
          709,
          710,
          711,
          712,
          713,
          714,
          716,
          719,
          720,
          722,
          723,
          724,
          725,
          726,
          729,
          731,
          732,
          733,
          734,
          735,
          736,
          737,
          739,
          740,
          741,
          742,
          743,
          744,
          745,
          746,
          747,
          748,
          749,
          750,
          752,
          754,
          755,
          756,
          757,
          758,
          759,
          760,
          762,
          763,
          764,
          765,
          766,
          767,
          768,
          769,
          770,
          771,
          773,
          774,
          775,
          776,
          777,
          779,
          780,
          781,
          782,
          785,
          786,
          787,
          788,
          790,
          791,
          792,
          793,
          794,
          795,
          796,
          797,
          800,
          802,
          803,
          805,
          806,
          807,
          808,
          809,
          810,
          811,
          812,
          813,
          815,
          816,
          817,
          818,
          819,
          820,
          822,
          823,
          825,
          826,
          827,
          828,
          829,
          830,
          831,
          832,
          834,
          835,
          836,
          837,
          838,
          839,
          840,
          841,
          843,
          844,
          845,
          846,
          847,
          848,
          849,
          850,
          851,
          852,
          853,
          854,
          855,
          857,
          858,
          859,
          860,
          863,
          864,
          865,
          866,
          867,
          869,
          870,
          900,
          901,
          902,
          903,
          904,
          905,
          906,
          907,
          908,
          909,
          911,
          912,
          913,
          914,
          915,
          916,
          917,
          919,
          921,
          922,
          923,
          924,
          925,
          927,
          928,
          930,
          931,
          932,
          933,
          934,
          937,
          938,
          939,
          941,
          942,
          943,
          945,
          946,
          947,
          948,
          949,
          950,
          952,
          953,
          954,
          956,
          958,
          959,
          960,
          961,
          962,
          963,
          964,
          965,
          966,
          967,
          968,
          969,
          971,
          972,
          973,
          974,
          975,
          976,
          977,
          978,
          979,
          982,
          984,
          985,
          989,
          991,
          992,
          993,
          994,
          995,
          996,
          1001,
          1002,
          1003,
          1004,
          1006,
          1007,
          1008,
          1009,
          1010,
          1011,
          1012,
          1013,
          1015,
          1016,
          1017,
          1018,
          1019,
          1020,
          1021,
          1022,
          1023,
          1024,
          1025,
          1026,
          1027,
          1028,
          1029,
          1030,
          1031,
          1032,
          1033,
          1034,
          1035,
          1036,
          1037,
          1038,
          1039,
          1041,
          1042,
          1044,
          1047,
          1048,
          1049,
          1050,
          1051,
          1052,
          1053,
          1054,
          1056,
          1057,
          1058,
          1059,
          1060,
          1061,
          1062,
          1063,
          1064,
          1065,
          1066,
          1067,
          1068,
          1069,
          1070,
          1071,
          1072,
          1073,
          1074,
          1075,
          1076,
          1077,
          1078,
          1079,
          1080,
          1081,
          1082,
          1083,
          1084,
          1085,
          1086,
          1088,
          1089,
          1090,
          1101,
          1102,
          1103,
          1105,
          1106,
          1108,
          1109,
          1110,
          1111,
          1112,
          1113,
          1115,
          1117,
          1118,
          1119,
          1120,
          1121,
          1122,
          1124,
          1125,
          1126,
          1127,
          1128,
          1129,
          1130,
          1131,
          1132,
          1135,
          1136,
          1137,
          1139,
          1140,
          1141,
          1145,
          1146,
          1148,
          1149,
          1150,
          1151,
          1152,
          1153,
          1155,
          1157,
          1158,
          1159,
          1160,
          1161,
          1162,
          1163,
          1165,
          1166,
          1167,
          1168,
          1169,
          1170,
          1171,
          1172,
          1173,
          1174,
          1175,
          1177,
          1178,
          1180,
          1181,
          1182,
          1183,
          1184,
          1185,
          1186,
          1187,
          1188,
          1190,
          1191,
          1192,
          1193,
          1194,
          1195,
          1196,
          1197,
          1198,
          1199,
          1200,
          1201,
          1203,
          1204,
          1205,
          1206,
          1207,
          1208,
          1209,
          1210,
          1211,
          1212,
          1213,
          1214,
          1215,
          1217,
          1218,
          1220,
          1221,
          1222,
          1224,
          1226,
          1227,
          1228,
          1229,
          1230,
          1231,
          1232,
          1233,
          1235,
          1239,
          1240,
          1241,
          1242,
          1243,
          1244,
          1245,
          1246,
          1247,
          1248,
          1249,
          1250,
          1251,
          1253,
          1256,
          1257,
          1258,
          1259,
          1260,
          1262,
          1263,
          1264,
          1265,
          1266,
          1267,
          1268,
          1269,
          1271,
          1274,
          1275,
          1277,
          1278,
          1279,
          1280,
          1282,
          1283,
          1285,
          1286,
          1287,
          1288,
          1289,
          1290,
          1291,
          1293,
          1295,
          1296,
          1297,
          1299,
          1300,
          1302,
          1303,
          1304,
          1305,
          1306,
          1308,
          1314,
          1315,
          1316,
          1318,
          1319,
          1321,
          1322,
          1323,
          1325,
          1326,
          1327,
          1328,
          1332,
          1333,
          1334,
          1336,
          1337,
          1338,
          1339,
          1340,
          1342,
          1343,
          1344,
          1346,
          1347,
          1348,
          1349,
          1351,
          1352,
          1353,
          1354,
          1355,
          1357,
          1358,
          1359,
          1360,
          1361,
          1362,
          1363,
          1364,
          1365,
          1366,
          1367,
          1368,
          1369,
          1370,
          1372,
          1373,
          1375,
          1376,
          1377,
          1379,
          1380,
          1381,
          1382,
          1384,
          1385,
          1386,
          1388,
          1390,
          1391,
          1392,
          1393,
          1394,
          1395,
          1396,
          1401,
          1402,
          1403,
          1404,
          1405,
          1406,
          1407,
          1408,
          1410,
          1411,
          1412,
          1413,
          1414,
          1416,
          1418,
          1420,
          1421,
          1422,
          1424,
          1425,
          1426,
          1427,
          1428,
          1429,
          1430,
          1431,
          1433,
          1435,
          1436,
          1437,
          1438,
          1440,
          1441,
          1442,
          1444,
          1445,
          1446,
          1447,
          1448,
          1449,
          1450,
          1451,
          1452,
          1453,
          1454,
          1455,
          1456,
          1457,
          1458,
          1459,
          1461,
          1462,
          1463,
          1464,
          1465,
          1466,
          1467,
          1468,
          1469,
          1470,
          1471,
          1472,
          1473,
          1474,
          1477,
          1478,
          1479,
          1480,
          1501,
          1503,
          1504,
          1506,
          1509,
          1510,
          1511,
          1512,
          1513,
          1514,
          1515,
          1516,
          1518,
          1519,
          1520,
          1522,
          1525,
          1526,
          1527,
          1528,
          1529,
          1530,
          1531,
          1532,
          1533,
          1535,
          1536,
          1537,
          1538,
          1539,
          1540,
          1541,
          1542,
          1543,
          1546,
          1547,
          1548,
          1550,
          1551,
          1552,
          1553,
          1554,
          1557,
          1558,
          1560,
          1564,
          1565,
          1568,
          1569,
          1571,
          1572,
          1573,
          1574,
          1601,
          1602,
          1605,
          1606,
          1608,
          1610,
          1611,
          1616,
          1617,
          1619,
          1620,
          1625,
          1627,
          1628,
          1630,
          1634,
          1635,
          1636,
          1637,
          1639,
          1640,
          1641,
          1642,
          1643,
          1646,
          1650,
          1651,
          1652,
          1653,
          1654,
          1655,
          1656,
          1657,
          1659,
          1660,
          1661,
          1662,
          1663,
          1664,
          1665,
          1666,
          1667,
          1668,
          1669,
          1670,
          1671,
          1672,
          1673,
          1674,
          1675,
          1677,
          1678,
          1679,
          1680,
          1681,
          1682,
          1683,
          1684,
          1685,
          1686,
          1688,
          1689,
          1690,
          1691,
          1692,
          1693,
          1696,
          1697,
          1702,
          1703,
          1705,
          1706,
          1707,
          1708,
          1709,
          1713,
          1714,
          1715,
          1716,
          1717,
          1719,
          1720,
          1721,
          1722,
          1723,
          1725,
          1726,
          1727,
          1728,
          1729,
          1730,
          1731,
          1732,
          1733,
          1734,
          1735,
          1736,
          1737,
          1738,
          1741,
          1742,
          1743,
          1744,
          1746,
          1748,
          1749,
          1750,
          1751,
          1752,
          1754,
          1756,
          1757,
          1758,
          1759,
          1761,
          1762,
          1765,
          1767,
          1768,
          1770,
          1771,
          1772,
          1774,
          1775,
          1804,
          1805,
          1806,
          1808,
          1809,
          1812,
          1814,
          1816,
          1819,
          1820,
          1821,
          1822,
          1823,
          1824,
          1825,
          1826,
          1827,
          1828,
          1829,
          1830,
          1831,
          1833,
          1834,
          1835,
          1836,
          1839,
          1840,
          1841,
          1842,
          1843,
          1845,
          1846,
          1847,
          1848,
          1849,
          1850,
          1851,
          1852,
          1853,
          1854,
          1855,
          1856,
          1857,
          1858,
          1859,
          1861,
          1862,
          1863,
          1864,
          1865,
          1866,
          1867,
          1868,
          1869,
          1870,
          1901,
          1904,
          1906,
          1907,
          1908,
          1910,
          1911,
          1912,
          1913,
          1914,
          1916,
          1920,
          1924,
          1925,
          1928,
          1929,
          1930,
          1931,
          1933,
          1936,
          1937,
          1941,
          1943,
          1946,
          1951,
          1952,
          1953,
          1955,
          1956,
          1957,
          1958,
          1959,
          1960,
          1961,
          1962,
          1964,
          1965,
          1966,
          1967,
          1968,
          1969,
          1971,
          1973,
          1974,
          1975,
          1976,
          1977,
          1979,
          1981,
          1983,
          1984,
          1985,
          1986,
          1987,
          1988,
          1991,
          1992,
          1993,
          1994,
          1996,
          1998,
          1999,
          2000,
          2002,
          2003,
          2007,
          2008,
          2009,
          2012,
          2013,
          2015,
          2016,
          2020,
          2024,
          2025,
          2026,
          2027,
          2032,
          2033,
          2034,
          2036,
          2037,
          2038,
          2040,
          2041,
          2048,
          2050,
          2054,
          2056,
          2057,
          2058,
          2059,
          2060,
          2061,
          2062,
          2063,
          2064,
          2065,
          2066,
          2067,
          2068,
          2069,
          2070,
          2071,
          2076,
          2077,
          2078,
          2079,
          2080,
          2082,
          2083,
          2084,
          2085,
          2086,
          2088,
          2089,
          2090,
          2091,
          2092,
          2093,
          2094,
          2095,
          2096,
          2102,
          2103,
          2104,
          2105,
          2106,
          2107,
          2108,
          2109,
          2110,
          2111,
          2112,
          2113,
          2115,
          2116,
          2119,
          2122,
          2127,
          2128,
          2129,
          2130,
          2135,
          2136,
          2137,
          2139,
          2140,
          2141,
          2143,
          2144,
          2145,
          2148,
          2156,
          2159,
          2164,
          2165,
          2167,
          2169,
          2170,
          2171,
          2172,
          2173,
          2174,
          2175,
          2176,
          2177,
          2178,
          2179,
          2183,
          2184,
          2185,
          2186,
          2187,
          2189,
          2190,
          2191,
          2195,
          2196,
          2198,
          2199,
          2201,
          2202,
          2203,
          2205,
          2206,
          2207,
          2210,
          2211,
          2212,
          2213,
          2214,
          2215,
          2217,
          2219,
          2220,
          2221,
          2222,
          2223,
          2225,
          2226,
          2227,
          2228,
          2229,
          2230,
          2231,
          2233,
          2235,
          2237,
          2239,
          2241,
          2242,
          2243,
          2244,
          2245,
          2246,
          2247,
          2248,
          2249,
          2250,
          2251,
          2252,
          2255,
          2256,
          2257,
          2258,
          2259,
          2262,
          2263,
          2264,
          2265,
          2266,
          2268,
          2269,
          2270,
          2271,
          2272,
          2273,
          2274,
          2275,
          2276,
          2277,
          2279,
          2280,
          2281,
          2282,
          2283,
          2284,
          2285,
          2286,
          2287,
          2288,
          2289,
          2293,
          2294,
          2297,
          2298,
          2299,
          2301,
          2302,
          2303,
          2304,
          2305,
          2306,
          2307,
          2308,
          2309,
          2310,
          2311,
          2312,
          2313,
          2314,
          2315,
          2316,
          2317,
          2318,
          2319,
          2320,
          2321,
          2322,
          2323,
          2324,
          2325,
          2326,
          2327,
          2328,
          2329,
          2330,
          2331,
          2332,
          2333,
          2334,
          2335,
          2336,
          2337,
          2339,
          2340,
          2341,
          2342,
          2343,
          2344,
          2347,
          2348,
          2349,
          2350,
          2351,
          2352,
          2353,
          2354,
          2355,
          2356,
          2357,
          2358,
          2359,
          2360,
          2362,
          2363,
          2364,
          2365,
          2368,
          2369,
          2370,
          2371,
          2372,
          2373,
          2375,
          2376,
          2377,
          2380,
          2381,
          2382,
          2383,
          2384,
          2385,
          2386,
          2387,
          2388,
          2389,
          2390,
          2391,
          2392,
          2393,
          2394,
          2395,
          2396,
          2398,
          2401,
          2403,
          2404,
          2405,
          2406,
          2407,
          2408,
          2409,
          2410,
          2411,
          2412,
          2413,
          2414,
          2415,
          2416,
          2417,
          2418,
          2419,
          2420,
          2421,
          2422,
          2423,
          2425,
          2426,
          2427,
          2428,
          2429,
          2430,
          2431,
          2501,
          2502,
          2503,
          2504,
          2505,
          2506,
          2508,
          2509,
          2510,
          2511,
          2514,
          2515,
          2516,
          2517,
          2518,
          2519,
          2520,
          2521,
          2523,
          2524,
          2525,
          2526,
          2527,
          2528,
          2529,
          2530,
          2531,
          2532,
          2533,
          2535,
          2536,
          2537,
          2538,
          2539,
          2540,
          2541,
          2542,
          2545,
          2547,
          2548,
          2549,
          2550,
          2601,
          2603,
          2604,
          2605,
          2606,
          2608,
          2609,
          2610,
          2611,
          2612,
          2613,
          2614,
          2615,
          2616,
          2617,
          2618,
          2619,
          2620,
          2621,
          2622,
          2623,
          2625,
          2626,
          2627,
          2628,
          2630,
          2631,
          2632,
          2633,
          2634,
          2635,
          2637,
          2638,
          2639,
          2641,
          2642,
          2643,
          2644,
          2645,
          2646,
          2647,
          2648,
          2649,
          2650,
          2651,
          2652,
          2653,
          2654,
          2655,
          2656,
          2657,
          2658,
          2659,
          2701,
          2702,
          2703,
          2704,
          2706,
          2707,
          2708,
          2709,
          2710,
          2711,
          2712,
          2713,
          2715,
          2716,
          2717,
          2718,
          2719,
          2720,
          2721,
          2722,
          2723,
          2724,
          2725,
          2727,
          2728,
          2729,
          2730,
          2731,
          2732,
          2733,
          2735,
          2737,
          2739,
          2740,
          2741,
          2742,
          2743,
          2744,
          2745,
          2746,
          2801,
          2804,
          2805,
          2806,
          2807,
          2808,
          2809,
          2810,
          2812,
          2813,
          2814,
          2815,
          2816,
          2817,
          2818,
          2819,
          2820,
          2821,
          2822,
          2823,
          2824,
          2825,
          2826,
          2901,
          2902,
          2903,
          2904,
          2907,
          2908,
          2909,
          2910,
          2911,
          2912,
          2913,
          2914,
          2915,
          2917,
          2919,
          2920,
          2921,
          3002,
          3003,
          3005,
          3006,
          3007,
          3008,
          3009,
          3010,
          3011,
          3013,
          3100,
          3101,
          3102,
          3103,
          3104,
          3105,
          3107,
          3109,
          3110,
          3111,
          3112,
          3113,
          3114,
          3115,
          3116,
          3117,
          3119,
          3120,
          3121,
          3122,
          3123,
          3124,
          3125,
          3126,
          3127,
          3128,
          3129,
          3130,
          3131,
          3132,
          3133,
          3134,
          3201,
          3202,
          3203,
          3204,
          3205,
          3206,
          3207,
          3211,
          3212,
          3214,
          3215,
          3219,
          3220,
          3221,
          3305,
          3306,
          3307,
          3310,
          3311,
          3401,
          3402,
          3403,
          3404,
          3405,
          3406,
          3407,
          3408,
          3410,
          3411,
          3412,
          3413,
          3414,
          3415,
          3416,
          3417,
          3418,
          3419,
          3420,
          3421,
          3422,
          3423,
          3425,
          3426,
          3427,
          3428,
          3429,
          3430,
          3431,
          3432,
          3500,
          3501,
          3502,
          3503,
          3504,
          3505,
          3506,
          3507,
          3508,
          3509,
          3510,
          3511,
          3513,
          3514,
          3515,
          3516,
          3517,
          3518,
          3520,
          3521,
          3523,
          3524,
          3525,
          3527,
          3528,
          3529,
          3530,
          3531,
          3532,
          3533,
          3534,
          3536,
          3537,
          3538,
          3539,
          3541,
          3542,
          3543,
          3544,
          3545,
          3547,
          3548,
          3549,
          3550,
          3551,
          3552,
          3553,
          3555,
          3556,
          3557,
          3558,
          3559,
          3560,
          3561,
          3563,
          3564,
          3566,
          3569,
          3570,
          3571,
          3573,
          3575,
          3578,
          3579,
          3581,
          3582,
          3586,
          3587,
          3588,
          3600,
          3602,
          3603,
          3604,
          3605,
          3606,
          3609,
          3610,
          3611,
          3612,
          3614,
          3615,
          3616,
          3618,
          3620,
          3621,
          3622,
          3623,
          3624,
          3627,
          3628,
          3629,
          3630,
          3634,
          3636,
          3637,
          3638,
          3640,
          3641,
          3642,
          3643,
          3644,
          3646,
          3647,
          3648,
          3649,
          3652,
          3653,
          3654,
          3655,
          3656,
          3657,
          3658,
          3659,
          3661,
          3663,
          3664,
          3665,
          3668,
          3671,
          3672,
          3673,
          3674,
          3675,
          3676,
          3677,
          3680,
          3681,
          3682,
          3683,
          3684,
          3685,
          3686,
          3687,
          3688,
          3689,
          3690,
          3691,
          3692,
          3694,
          3703,
          3707,
          3711,
          3714,
          3718,
          3753,
          3754,
          3756,
          3757,
          3758,
          3759,
          3760,
          3761,
          3762,
          3763,
          3764,
          3765,
          3766,
          3767,
          3769,
          3770,
          3772,
          3774,
          3775,
          3776,
          3778,
          3779,
          3780,
          3781,
          3782,
          3783,
          3784,
          3785,
          3786,
          3787,
          3788,
          3789,
          3792,
          3793,
          3794,
          3795,
          3796,
          3797,
          3798,
          3799,
          3801,
          3802,
          3803,
          3804,
          3806,
          3807,
          3810,
          3811,
          3812,
          3813,
          3814,
          3815,
          3816,
          3818,
          3853,
          3860,
          3863,
          3864,
          3865,
          3868,
          3873,
          3878,
          3879,
          3880,
          3881,
          3882,
          3886,
          3902,
          3903,
          3904,
          3905,
          3906,
          3907,
          3908,
          3910,
          3911,
          3912,
          3914,
          3915,
          3918,
          3956,
          3958,
          3959,
          3963,
          3966,
          3967,
          3968,
          3969,
          3970,
          3971,
          3972,
          3973,
          3974,
          3977,
          3983,
          3984,
          3985,
          4002,
          4003,
          4004,
          4005,
          4007,
          4008,
          4009,
          4011,
          4013,
          4014,
          4016,
          4017,
          4018,
          4019,
          4020,
          4021,
          4023,
          4024,
          4025,
          4026,
          4027,
          4028,
          4029,
          4031,
          4032,
          4033,
          4034,
          4035,
          4036,
          4037,
          4039,
          4040,
          4041,
          4042,
          4043,
          4044,
          4045,
          4046,
          4054,
          4058,
          4062,
          4064,
          4065,
          4073,
          4074,
          4075,
          4076,
          4077,
          4078,
          4080,
          4102,
          4103,
          4104,
          4105,
          4107,
          4108,
          4110,
          4113,
          4114,
          4116,
          4117,
          4121,
          4122,
          4123,
          4125,
          4152,
          4153,
          4158,
          4162,
          4167,
          4169,
          4171,
          4173,
          4175,
          4202,
          4206,
          4207,
          4208,
          4210,
          4211,
          4212,
          4213,
          4214,
          4216,
          4217,
          4218,
          4220,
          4221,
          4222,
          4224,
          4226,
          4233,
          4234,
          4238,
          4239,
          4240,
          4253,
          4255,
          4262,
          4303,
          4304,
          4305,
          4306,
          4307,
          4309,
          4310,
          4312,
          4313,
          4314,
          4315,
          4316,
          4317,
          4318,
          4319,
          4320,
          4322,
          4323,
          4324,
          4327,
          4329,
          4330,
          4353,
          4360,
          4362,
          4363,
          4367,
          4370,
          4373,
          4377,
          4406,
          4408,
          4411,
          4414,
          4415,
          4452,
          4453,
          4454,
          4456,
          4457,
          4458,
          4460,
          4461,
          4462,
          4463,
          4464,
          4465,
          4467,
          4468,
          4469,
          4472,
          4473,
          4474,
          4475,
          4478,
          4479,
          4480,
          4481,
          4483,
          4484,
          4485,
          4486,
          4488,
          4490,
          4491,
          4493,
          4496,
          4497,
          4499,
          4500,
          4507,
          4508,
          4509,
          4510,
          4512,
          4514,
          4515,
          4516,
          4517,
          4518,
          4519,
          4520,
          4522,
          4523,
          4526,
          4527,
          4528,
          4530,
          4531,
          4532,
          4534,
          4535,
          4536,
          4552,
          4553,
          4555,
          4556,
          4557,
          4558,
          4559,
          4560,
          4561,
          4563,
          4564,
          4565,
          4566,
          4567,
          4568,
          4569,
          4571,
          4573,
          4574,
          4575,
          4576,
          4578,
          4579,
          4580,
          4581,
          4582,
          4583,
          4584,
          4585,
          4588,
          4589,
          4590,
          4591,
          4592,
          4594,
          4598,
          4599,
          4600,
          4602,
          4603,
          4604,
          4605,
          4607,
          4608,
          4609,
          4610,
          4611,
          4612,
          4613,
          4615,
          4616,
          4617,
          4618,
          4619,
          4620,
          4622,
          4623,
          4625,
          4627,
          4629,
          4632,
          4633,
          4652,
          4653,
          4654,
          4657,
          4658,
          4659,
          4663,
          4665,
          4667,
          4668,
          4671,
          4672,
          4674,
          4676,
          4677,
          4678,
          4702,
          4703,
          4705,
          4707,
          4708,
          4709,
          4710,
          4711,
          4713,
          4715,
          4752,
          4753,
          4760,
          4761,
          4762,
          4765,
          4766,
          4768,
          4772,
          4774,
          4775,
          4776,
          4777,
          4778,
          4781,
          4782,
          4784,
          4785,
          4791,
          4792,
          4793,
          4794,
          4796,
          4797,
          4798,
          4802,
          4803,
          4804,
          4807,
          4808,
          4809,
          4811,
          4812,
          4813,
          4815,
          4819,
          4820,
          4821,
          4823,
          4824,
          4825,
          4826,
          4827,
          4828,
          4829,
          4834,
          4835,
          4852,
          4853,
          4854,
          4855,
          4856,
          4857,
          4859,
          4860,
          4861,
          4862,
          4863,
          4864,
          4865,
          4867,
          4868,
          4869,
          4870,
          4871,
          4872,
          4873,
          4874,
          4875,
          4876,
          4879,
          4880,
          4881,
          4882,
          4883,
          4884,
          4885,
          4886,
          4887,
          4888,
          4889,
          4891,
          4892,
          4893,
          4894,
          4895,
          4896,
          4897,
          4902,
          5052,
          5053,
          5055,
          5056,
          5057,
          5059,
          5061,
          5062,
          5063,
          5064,
          5065,
          5066,
          5067,
          5070,
          5072,
          5073,
          5074,
          5075,
          152,
          158,
          218,
          257,
          304,
          310,
          312,
          342,
          375,
          378,
          482,
          581,
          664,
          675,
          707,
          1014,
          1320,
          1382,
          1393,
          1434,
          1443,
          1534,
          1545,
          1695,
          1700,
          2027,
          2081,
          2361,
          2509,
          2534,
          2607,
          2626,
          2629,
          2646,
          2905,
          3009,
          3672,
          3755,
          3908,
          4038,
          4075,
          4112,
          4454,
          4468,
          4493,
          4704,
          4779,
          311,
          373,
          391,
          444,
          3013,
          868,
          3535,
          3106,
          101,
          136,
          151,
          182,
          4205,
          1114,
          2714,
          3207,
          2200,
          3304,
          2292,
          2543,
          2386,
          2619
         ],
         "lat": [
          37.555649,
          37.554951,
          37.550629,
          37.550007,
          37.548645,
          37.55751,
          37.552746,
          37.547691,
          37.547871,
          37.549202,
          37.557499,
          37.55706,
          37.558933,
          37.564541,
          37.59116,
          37.547733,
          37.545284,
          37.545242,
          37.549767,
          37.547459,
          37.59433,
          37.55114,
          37.549484,
          37.550411,
          37.55352,
          37.555496,
          37.555054,
          37.554859,
          37.584171,
          37.582031,
          37.557892,
          37.559101,
          37.556812,
          37.559177,
          37.559795,
          37.560009,
          37.562382,
          37.557201,
          37.544579,
          37.543579,
          37.54425,
          37.539936,
          37.539272,
          37.542347,
          37.552956,
          37.564697,
          37.560909,
          37.56855,
          37.549904,
          37.553001,
          37.556953,
          37.557549,
          37.582245,
          37.565269,
          37.583698,
          37.574478,
          37.575138,
          37.573277,
          37.57946,
          37.573002,
          37.573112,
          37.564724,
          37.564777,
          37.578072,
          37.581097,
          37.577675,
          37.579876,
          37.569122,
          37.559967,
          37.551342,
          37.5513649,
          37.565166,
          37.558949,
          37.542545,
          37.563965,
          37.586388,
          37.578892,
          37.572227,
          37.577316,
          37.567657,
          37.56612,
          37.562138,
          37.566845,
          37.528416,
          37.531239,
          37.528816,
          37.528057,
          37.528164,
          37.526264,
          37.524666,
          37.526989,
          37.524612,
          37.526066,
          37.522228,
          37.521362,
          37.521908,
          37.523022,
          37.524837,
          37.522079,
          37.520695,
          37.519363,
          37.522675,
          37.519436,
          37.519314,
          37.520088,
          37.517368,
          37.517765,
          37.544666,
          37.53846,
          37.535873,
          37.524635,
          37.524506,
          37.52565,
          37.528488,
          37.500462,
          37.504566,
          37.516155,
          37.496513,
          37.526386,
          37.525852,
          37.518738,
          37.505329,
          37.510933,
          37.527084,
          37.530079,
          37.528263,
          37.533688,
          37.531055,
          37.52412,
          37.507641,
          37.504494,
          37.499828,
          37.500648,
          37.503803,
          37.506573,
          37.509476,
          37.517693,
          37.513592,
          37.53368,
          37.519928,
          37.517151,
          37.521931,
          37.521133,
          37.520294,
          37.535961,
          37.534718,
          37.522343,
          37.518963,
          37.535339,
          37.516651,
          37.522816,
          37.518284,
          37.520119,
          37.507931,
          37.513229,
          37.532101,
          37.498241,
          37.48753,
          37.522518,
          37.518211,
          37.499859,
          37.494572,
          37.525768,
          37.528099,
          37.499809,
          37.531509,
          37.513851,
          37.51012,
          37.529171,
          37.514824,
          37.526302,
          37.528637,
          37.527508,
          37.531792,
          37.56805,
          37.575794,
          37.575947,
          37.57177,
          37.572582,
          37.570808,
          37.57,
          37.569969,
          37.569889,
          37.56887817,
          37.579708,
          37.570396,
          37.568527,
          37.566223,
          37.565464,
          37.564476,
          37.56134,
          37.576241,
          37.573357,
          37.570396,
          37.568344,
          37.566383,
          37.56599,
          37.570599,
          37.570198,
          37.562618,
          37.578979,
          37.570957,
          37.571068,
          37.585629,
          37.58157,
          37.57978439,
          37.575432,
          37.574036,
          37.573307,
          37.569183,
          37.565331,
          37.572029,
          37.576332,
          37.585079,
          37.583416,
          37.579388,
          37.579155,
          37.576508,
          37.577145,
          37.5825,
          37.576061,
          37.573242,
          37.572224,
          37.57576,
          37.579334,
          37.573849,
          37.569248,
          37.575493,
          37.563229,
          37.558872,
          37.554295,
          37.560474,
          37.556,
          37.563866,
          37.558533,
          37.555199,
          37.565849,
          37.55978,
          37.569836,
          37.566994,
          37.585735,
          37.56673,
          37.56139,
          37.56505203,
          37.570141,
          37.56749,
          37.568855,
          37.57048,
          37.566559,
          37.554108,
          37.587524,
          37.586189,
          37.582855,
          37.58559,
          37.582657,
          37.581314,
          37.580631,
          37.580811,
          37.579399,
          37.577496,
          37.577995,
          37.575802,
          37.571476,
          37.57822,
          37.577469,
          37.575665,
          37.575069,
          37.570721,
          37.56842,
          37.566246,
          37.565903,
          37.569084,
          37.57362,
          37.584503,
          37.549061,
          37.569584,
          37.5644,
          37.549889,
          37.562172,
          37.5709,
          37.563339,
          37.566345,
          37.561489,
          37.556862,
          37.556591,
          37.54821,
          37.56472,
          37.535751,
          37.570006,
          37.559891,
          37.553692,
          37.562111,
          37.560291,
          37.600128,
          37.603992,
          37.608719,
          37.583603,
          37.583515,
          37.571239,
          37.57114,
          37.570358,
          37.570961,
          37.574471,
          37.57132,
          37.569939,
          37.574364,
          37.603512,
          37.58419,
          37.587605,
          37.565842,
          37.562214,
          37.564159,
          37.559231,
          37.55965,
          37.56036,
          37.567871,
          37.566051,
          37.566299,
          37.56765,
          37.56443,
          37.559288,
          37.559376,
          37.554321,
          37.567032,
          37.547585,
          37.555767,
          37.557404,
          37.60627365,
          37.54364,
          37.58456802,
          37.583336,
          37.582077,
          37.575977,
          37.573135,
          37.556576,
          37.547245,
          37.542431,
          37.551754,
          37.564651,
          37.54707,
          37.537308,
          37.53186,
          37.53701,
          37.549061,
          37.548203,
          37.545166,
          37.539654,
          37.541222,
          37.544582,
          37.548561,
          37.546307,
          37.54258,
          37.530235,
          37.548405,
          37.571526,
          37.566994,
          37.563858,
          37.561447,
          37.548641,
          37.543663,
          37.5522,
          37.558052,
          37.563511,
          37.561371,
          37.568748,
          37.548149,
          37.548634,
          37.553986,
          37.55735,
          37.560356,
          37.56765,
          37.559795,
          37.55603,
          37.535465,
          37.535969,
          37.54073,
          37.532478,
          37.52977,
          37.551224,
          37.57164,
          37.540062,
          37.536579,
          37.571255,
          37.537849,
          37.542053,
          37.567642,
          37.564606,
          37.561096,
          37.551205,
          37.542816,
          37.559246,
          37.547913,
          37.547928,
          37.541363,
          37.54459,
          37.571102,
          37.549583,
          37.548496,
          37.56538,
          37.545231,
          37.551849,
          37.564293,
          37.54483,
          37.546547,
          37.548286,
          37.565205,
          37.543179,
          37.56797,
          37.56797028,
          37.547829,
          37.536808,
          37.565941,
          37.545418,
          37.532688,
          37.544159,
          37.53989,
          37.542778,
          37.541912,
          37.528587,
          37.558365,
          37.589912,
          37.575947,
          37.572174,
          37.569656,
          37.5742,
          37.584625,
          37.602711,
          37.58131,
          37.587791,
          37.573086,
          37.573666,
          37.575272,
          37.577686,
          37.576382,
          37.582561,
          37.574203,
          37.574718,
          37.577793,
          37.583698,
          37.574188,
          37.568192,
          37.561153,
          37.578632,
          37.586815,
          37.574852,
          37.568184,
          37.580406,
          37.59602,
          37.587517,
          37.5909,
          37.591614,
          37.583008,
          37.585197,
          37.582455,
          37.573753,
          37.57035446,
          37.566971,
          37.561867,
          37.602798,
          37.5667,
          37.591534,
          37.57653,
          37.577621,
          37.587238,
          37.57576,
          37.572948,
          37.57835,
          37.577999,
          37.594601,
          37.594891,
          37.58412933,
          37.599606,
          37.603622,
          37.586594,
          37.568653,
          37.572048,
          37.589687,
          37.577343,
          37.57859,
          37.58408,
          37.586552,
          37.581432,
          37.580151,
          37.576557,
          37.577877,
          37.592384,
          37.579838,
          37.546848,
          37.532803,
          37.532543,
          37.524063,
          37.523254,
          37.521881,
          37.51897,
          37.511585,
          37.50971222,
          37.517059,
          37.516998,
          37.533047,
          37.532547,
          37.517281,
          37.530369,
          37.516197,
          37.521435,
          37.529163,
          37.510681,
          37.524334,
          37.534389,
          37.51038,
          37.5299,
          37.539551,
          37.514099,
          37.51395,
          37.53643,
          37.52219,
          37.52256,
          37.536201,
          37.536369,
          37.53952,
          37.550732,
          37.5089,
          37.543842,
          37.522282,
          37.536503,
          37.53458,
          37.530251,
          37.537228,
          37.512157,
          37.542183,
          37.541142,
          37.537868,
          37.52668,
          37.514278,
          37.514721,
          37.524071,
          37.506821,
          37.524551,
          37.510658,
          37.531029,
          37.524776,
          37.54426,
          37.505745,
          37.535919,
          37.527855,
          37.525715,
          37.527706,
          37.546707,
          37.549507,
          37.538376,
          37.538742,
          37.530128,
          37.518845,
          37.516907,
          37.517593,
          37.511673,
          37.517326,
          37.520439,
          37.507904,
          37.512379,
          37.527607,
          37.52478,
          37.525372,
          37.53355,
          37.516842,
          37.515419,
          37.514664,
          37.515156,
          37.532433,
          37.541153,
          37.538139,
          37.536758,
          37.533066,
          37.552277,
          37.520504,
          37.530167,
          37.53841,
          37.53508,
          37.53484,
          37.533512,
          37.518509,
          37.530148,
          37.533451,
          37.544895,
          37.541653,
          37.549026,
          37.522041,
          37.54232,
          37.520336,
          37.555367,
          37.541885,
          37.544079,
          37.52293,
          37.534424,
          37.534279,
          37.521282,
          37.539009,
          37.541981,
          37.531422,
          37.52906,
          37.54446,
          37.52401,
          37.523651,
          37.52961,
          37.533798,
          37.527149,
          37.5327,
          37.546638,
          37.534523,
          37.535259,
          37.536079,
          37.537399,
          37.540478,
          37.534527,
          37.528568,
          37.538727,
          37.522724,
          37.535023,
          37.534409,
          37.541885,
          37.520695,
          37.52177,
          37.535141,
          37.540794,
          37.551548,
          37.519909,
          37.517296,
          37.517319,
          37.603943,
          37.600975,
          37.643108,
          37.645866,
          37.648674,
          37.636234,
          37.61721,
          37.599491,
          37.613186,
          37.586994,
          37.605583,
          37.589661,
          37.6007,
          37.590797,
          37.584381,
          37.607849,
          37.601299,
          37.607948,
          37.630016,
          37.617802,
          37.620949,
          37.628517,
          37.609566,
          37.617855,
          37.641315,
          37.601662,
          37.604736,
          37.610004,
          37.612484,
          37.597141,
          37.645851,
          37.644684,
          37.6017,
          37.637222,
          37.644081,
          37.602402,
          37.63414,
          37.618439,
          37.622669,
          37.577202,
          37.619781,
          37.610779,
          37.62265,
          37.625778,
          37.642609,
          37.594376,
          37.600361,
          37.643661,
          37.638252,
          37.61097,
          37.639259,
          37.614429,
          37.616112,
          37.593479,
          37.609032,
          37.60891,
          37.64209,
          37.64386,
          37.602329,
          37.58218,
          37.637348,
          37.62672,
          37.590363,
          37.643509,
          37.633102,
          37.601009,
          37.591862,
          37.604126,
          37.59581,
          37.601192,
          37.591812,
          37.656769,
          37.658428,
          37.630287,
          37.610718,
          37.631409,
          37.598606,
          37.541805,
          37.545219,
          37.543915,
          37.553349,
          37.55492,
          37.559517,
          37.549549,
          37.538658,
          37.534481,
          37.534771,
          37.536026,
          37.530773,
          37.550079,
          37.559399,
          37.535473,
          37.524681,
          37.526825,
          37.52829,
          37.564301,
          37.533764,
          37.549999,
          37.529251,
          37.546841,
          37.546631,
          37.535999,
          37.5331,
          37.536541,
          37.527061,
          37.555851,
          37.556728,
          37.557991,
          37.561909,
          37.555016,
          37.551998,
          37.562588,
          37.568668,
          37.561279,
          37.559196,
          37.568562,
          37.545399,
          37.536381,
          37.531013,
          37.56118,
          37.526695,
          37.554829,
          37.556469,
          37.562538,
          37.560009,
          37.563332,
          37.55579,
          37.553471,
          37.538181,
          37.544659,
          37.546928,
          37.551079,
          37.556664,
          37.527794,
          37.531208,
          37.537766,
          37.549053,
          37.55365,
          37.553055,
          37.555702,
          37.555687,
          37.554863,
          37.541145,
          37.546837,
          37.541363,
          37.539894,
          37.536205,
          37.521976,
          37.561844,
          37.536831,
          37.536999,
          37.52956,
          37.560368,
          37.52393,
          37.554569,
          37.550598,
          37.528122,
          37.5606,
          37.556789,
          37.581612,
          37.573643,
          37.577221,
          37.581623,
          37.573032,
          37.56356,
          37.563347,
          37.562683,
          37.566982,
          37.568577,
          37.573093,
          37.551666,
          37.558197,
          37.557461,
          37.554253,
          37.565189,
          37.559479,
          37.561932,
          37.557968,
          37.552914,
          37.548908,
          37.540981,
          37.541412,
          37.542099,
          37.542751,
          37.546444,
          37.551109,
          37.546532,
          37.544788,
          37.541431,
          37.536991,
          37.531399,
          37.52906,
          37.528919,
          37.530338,
          37.54147,
          37.567284,
          37.56155,
          37.560234,
          37.558666,
          37.55891,
          37.56926,
          37.550659,
          37.561035,
          37.565853,
          37.56768,
          37.549694,
          37.562679,
          37.570499,
          37.568447,
          37.562569,
          37.553467,
          37.560226,
          37.547199,
          37.549179,
          37.550049,
          37.561249,
          37.556259,
          37.556599,
          37.554379,
          37.55011,
          37.572472,
          37.557468,
          37.551044,
          37.556877,
          37.548321,
          37.55645,
          37.562901,
          37.554729,
          37.55302,
          37.571381,
          37.560501,
          37.560242,
          37.555538,
          37.559471,
          37.563301,
          37.564129,
          37.568241,
          37.560242,
          37.56255,
          37.547821,
          37.578449,
          37.493179,
          37.493729,
          37.493343,
          37.510429,
          37.51128,
          37.499756,
          37.529675,
          37.520451,
          37.513126,
          37.512104,
          37.499413,
          37.50766,
          37.502594,
          37.516571,
          37.479305,
          37.508968,
          37.505692,
          37.5042,
          37.511982,
          37.512169,
          37.520077,
          37.493126,
          37.4977,
          37.490688,
          37.49567,
          37.514088,
          37.512089,
          37.510509,
          37.508339,
          37.480843,
          37.480576,
          37.481239,
          37.48209,
          37.484531,
          37.481537,
          37.479465,
          37.477509,
          37.478821,
          37.513962,
          37.505463,
          37.489872,
          37.505932,
          37.501652,
          37.491131,
          37.4921,
          37.493198,
          37.508984,
          37.506302,
          37.505802,
          37.480541,
          37.538582,
          37.486149,
          37.478809,
          37.51424026,
          37.51728821,
          37.511944,
          37.499985,
          37.532848,
          37.504589,
          37.503757,
          37.515831,
          37.497517,
          37.495659,
          37.499874,
          37.505455,
          37.47747,
          37.474377,
          37.477531,
          37.487999,
          37.531471,
          37.474659,
          37.521938,
          37.506561,
          37.513962,
          37.508678,
          37.509201,
          37.519878,
          37.506939,
          37.588764,
          37.591694,
          37.594402,
          37.589329,
          37.588448,
          37.582592,
          37.60244,
          37.607761,
          37.607262,
          37.603085,
          37.603043,
          37.593288,
          37.598068,
          37.600433,
          37.605808,
          37.606068,
          37.607342,
          37.602627,
          37.613556,
          37.610523,
          37.612999,
          37.591251,
          37.590382,
          37.586899,
          37.610569,
          37.61956,
          37.592617,
          37.589249,
          37.600288,
          37.608978,
          37.607105,
          37.604752,
          37.623829,
          37.579449,
          37.583881,
          37.60083,
          37.590714,
          37.588699,
          37.612072,
          37.60479,
          37.619801,
          37.603096,
          37.592842,
          37.585098,
          37.583752,
          37.590172,
          37.593361,
          37.59972,
          37.603512,
          37.59148,
          37.609131,
          37.59454,
          37.586445,
          37.602291,
          37.603909,
          37.600239,
          37.603958,
          37.60936,
          37.601086,
          37.614784,
          37.60853577,
          37.592827,
          37.592365,
          37.594158,
          37.590881,
          37.606461,
          37.617073,
          37.597099,
          37.59802628,
          37.602417,
          37.618179,
          37.618443,
          37.614738,
          37.600071,
          37.59425,
          37.595299,
          37.599098,
          37.606251,
          37.611511,
          37.610722,
          37.577782,
          37.592541,
          37.590961,
          37.617561,
          37.581646,
          37.595219,
          37.617989,
          37.614231,
          37.612461,
          37.620098,
          37.606312,
          37.58746,
          37.573589,
          37.574299,
          37.616024,
          37.599957,
          37.606152,
          37.606499,
          37.602077,
          37.608681,
          37.605881,
          37.58342,
          37.616169,
          37.586372,
          37.616711,
          37.598591,
          37.574028,
          37.579941,
          37.591301,
          37.588902,
          37.597321,
          37.596558,
          37.619625,
          37.592758,
          37.585655,
          37.604603,
          37.607349,
          37.596329,
          37.595112,
          37.58976,
          37.59734,
          37.59734,
          37.593853,
          37.593868,
          37.573887,
          37.603054,
          37.613148,
          37.618824,
          37.613621,
          37.611477,
          37.609821,
          37.605202,
          37.615353,
          37.604084,
          37.594891,
          37.595814,
          37.575985,
          37.597885,
          37.581055,
          37.581112,
          37.62608,
          37.639278,
          37.624157,
          37.640327,
          37.634377,
          37.633717,
          37.631123,
          37.644737,
          37.639648,
          37.638805,
          37.618286,
          37.638706,
          37.643085,
          37.645451,
          37.639862,
          37.654472,
          37.62714,
          37.641739,
          37.627335,
          37.615036,
          37.63018,
          37.643551,
          37.613956,
          37.626354,
          37.629917,
          37.636292,
          37.636261,
          37.663666,
          37.656158,
          37.649673,
          37.64167,
          37.62653,
          37.621552,
          37.630188,
          37.615459,
          37.618641,
          37.622688,
          37.615223,
          37.646862,
          37.639202,
          37.635204,
          37.635391,
          37.632381,
          37.625526,
          37.619808,
          37.649597,
          37.635612,
          37.647934,
          37.63797,
          37.62673187,
          37.66446304,
          37.61666489,
          37.61669922,
          37.615299,
          37.622662,
          37.631622,
          37.619171,
          37.626614,
          37.620369,
          37.62994,
          37.635109,
          37.63715,
          37.649021,
          37.648209,
          37.66,
          37.676941,
          37.673618,
          37.67625,
          37.669079,
          37.67271,
          37.649212,
          37.654701,
          37.680313,
          37.623863,
          37.621555,
          37.625435,
          37.617367,
          37.638489,
          37.63958,
          37.672375,
          37.68,
          37.6562,
          37.663792,
          37.631111,
          37.654999,
          37.654049,
          37.65033,
          37.642071,
          37.649639,
          37.654114,
          37.619381,
          37.649361,
          37.647335,
          37.655781,
          37.654499,
          37.645508,
          37.643757,
          37.64341,
          37.629349,
          37.688599,
          37.653976,
          37.653549,
          37.626942,
          37.623165,
          37.648438,
          37.64283,
          37.642654,
          37.645802,
          37.656799,
          37.650459,
          37.61832,
          37.64819,
          37.66114,
          37.665661,
          37.665249,
          37.65773,
          37.660709,
          37.664188,
          37.628189,
          37.686451,
          37.650249,
          37.646172,
          37.68972,
          37.669224,
          37.665665,
          37.654461,
          37.65683,
          37.650127,
          37.65165329,
          37.64463,
          37.653179,
          37.654202,
          37.655708,
          37.673283,
          37.668671,
          37.653015,
          37.657799,
          37.662079,
          37.647503,
          37.658588,
          37.678677,
          37.677666,
          37.68401,
          37.687592,
          37.6875,
          37.667599,
          37.662979,
          37.65815,
          37.679119,
          37.652241,
          37.639702,
          37.646309,
          37.645199,
          37.648891,
          37.650391,
          37.665272,
          37.666233,
          37.668983,
          37.666271,
          37.688267,
          37.652123,
          37.645481,
          37.646896,
          37.651447,
          37.655685,
          37.65728,
          37.677219,
          37.665623,
          37.655338,
          37.64967,
          37.66251,
          37.662052,
          37.68523407,
          37.657967,
          37.658051,
          37.651348,
          37.651287,
          37.46653,
          37.482288,
          37.486214,
          37.473209,
          37.470779,
          37.479031,
          37.47422,
          37.446861,
          37.456478,
          37.44334,
          37.451458,
          37.452991,
          37.458912,
          37.46455,
          37.4547,
          37.456841,
          37.455849,
          37.475319,
          37.469139,
          37.47023,
          37.4725,
          37.466541,
          37.479084,
          37.47707,
          37.467403,
          37.477058,
          37.475101,
          37.476952,
          37.462574,
          37.477097,
          37.460289,
          37.460171,
          37.461033,
          37.476276,
          37.481354,
          37.48016,
          37.481232,
          37.451771,
          37.472481,
          37.47818,
          37.451321,
          37.478409,
          37.46056,
          37.437271,
          37.467999,
          37.436981,
          37.461346,
          37.460537,
          37.45652,
          37.456333,
          37.457779,
          37.480888,
          37.447853,
          37.459019,
          37.475071,
          37.507332,
          37.51424,
          37.50972,
          37.489632,
          37.495285,
          37.497505,
          37.48494,
          37.4888,
          37.491032,
          37.494404,
          37.494141,
          37.504379,
          37.478741,
          37.499889,
          37.49947,
          37.505135,
          37.497684,
          37.494995,
          37.501583,
          37.494282,
          37.486061,
          37.493938,
          37.49279,
          37.503117,
          37.480289,
          37.482105,
          37.486385,
          37.482883,
          37.51001,
          37.493401,
          37.495781,
          37.496456,
          37.50285,
          37.508194,
          37.481602,
          37.49789,
          37.497231,
          37.496498,
          37.505138,
          37.498482,
          37.501904,
          37.490723,
          37.488598,
          37.50518,
          37.49258,
          37.48568,
          37.48621,
          37.492031,
          37.479431,
          37.502548,
          37.495266,
          37.498516,
          37.484859,
          37.490341,
          37.50605,
          37.496761,
          37.491798,
          37.48938,
          37.496998,
          37.495399,
          37.498569,
          37.495258,
          37.512329,
          37.512844,
          37.513359,
          37.512939,
          37.509369,
          37.500076,
          37.488361,
          37.505852,
          37.499855,
          37.499645,
          37.504498,
          37.502178,
          37.50938,
          37.508587,
          37.50704193,
          37.485508,
          37.481491,
          37.476891,
          37.494705,
          37.503189,
          37.503181,
          37.506359,
          37.486835,
          37.489087,
          37.513248,
          37.510548,
          37.494499,
          37.500881,
          37.513523,
          37.497078,
          37.484631,
          37.505928,
          37.486652,
          37.512901,
          37.505356,
          37.51199,
          37.489399,
          37.497669,
          37.488159,
          37.496601,
          37.51392,
          37.488869,
          37.513577,
          37.511936,
          37.510838,
          37.506672,
          37.512135,
          37.485615,
          37.504704,
          37.504562,
          37.502743,
          37.487412,
          37.500248,
          37.479107,
          37.48378,
          37.484135,
          37.503113,
          37.503212,
          37.495506,
          37.491501,
          37.502838,
          37.48423,
          37.489178,
          37.476089,
          37.480251,
          37.473728,
          37.475471,
          37.483341,
          37.486225,
          37.483192,
          37.480869,
          37.481339,
          37.484661,
          37.479916,
          37.481705,
          37.484257,
          37.478058,
          37.464886,
          37.479164,
          37.469055,
          37.471989,
          37.484409,
          37.484577,
          37.484901,
          37.471165,
          37.478428,
          37.472294,
          37.470695,
          37.477776,
          37.486359,
          37.477028,
          37.480721,
          37.47509,
          37.484768,
          37.476482,
          37.476295,
          37.482189,
          37.481529,
          37.481548,
          37.469406,
          37.48975,
          37.488564,
          37.487301,
          37.488991,
          37.487129,
          37.46682,
          37.482189,
          37.471828,
          37.489491,
          37.470467,
          37.478821,
          37.486736,
          37.482754,
          37.483688,
          37.470688,
          37.484646,
          37.483311,
          37.479465,
          37.478771,
          37.453281,
          37.448936,
          37.447659,
          37.453751,
          37.454357,
          37.454407,
          37.505096,
          37.502636,
          37.500961,
          37.502232,
          37.504116,
          37.501713,
          37.513046,
          37.506199,
          37.500614,
          37.485611,
          37.478069,
          37.47261,
          37.473759,
          37.475182,
          37.489052,
          37.489586,
          37.487011,
          37.485828,
          37.496914,
          37.491112,
          37.482159,
          37.484558,
          37.494217,
          37.485378,
          37.48399,
          37.481491,
          37.477852,
          37.473614,
          37.4692,
          37.462639,
          37.459953,
          37.456234,
          37.455799,
          37.467506,
          37.463322,
          37.47044,
          37.46769,
          37.462688,
          37.471539,
          37.512989,
          37.516598,
          37.471928,
          37.488556,
          37.494743,
          37.49054,
          37.502319,
          37.510349,
          37.448967,
          37.487865,
          37.487309,
          37.477829,
          37.46965,
          37.461578,
          37.474388,
          37.51487,
          37.493618,
          37.484161,
          37.475979,
          37.477203,
          37.486526,
          37.468102,
          37.457424,
          37.458549,
          37.45562,
          37.455608,
          37.464298,
          37.484798,
          37.475906,
          37.485672,
          37.502411,
          37.486469,
          37.524071,
          37.505581,
          37.511517,
          37.512527,
          37.520641,
          37.527122,
          37.528614,
          37.529301,
          37.518902,
          37.523613,
          37.517773,
          37.52058,
          37.525116,
          37.521275,
          37.514248,
          37.509575,
          37.515888,
          37.513577,
          37.506607,
          37.491928,
          37.496117,
          37.508091,
          37.502213,
          37.500439,
          37.49865,
          37.502396,
          37.490551,
          37.503586,
          37.502357,
          37.492199,
          37.498051,
          37.504208,
          37.485157,
          37.493759,
          37.486767,
          37.494236,
          37.492077,
          37.483261,
          37.477509,
          37.483311,
          37.494007,
          37.465317,
          37.465061,
          37.518639,
          37.507233,
          37.501545,
          37.494823,
          37.483879,
          37.51759,
          37.516811,
          37.519787,
          37.509121,
          37.51807,
          37.501949,
          37.481384,
          37.475605,
          37.492809,
          37.517635,
          37.51918,
          37.52124,
          37.5233,
          37.489342,
          37.505428,
          37.496552,
          37.514748,
          37.494499,
          37.489277,
          37.48735,
          37.486778,
          37.486835,
          37.511696,
          37.506367,
          37.501343,
          37.466328,
          37.476028,
          37.51395,
          37.50958633,
          37.472454,
          37.516785,
          37.48616,
          37.480881,
          37.475986,
          37.474579,
          37.472,
          37.479092,
          37.47929,
          37.485741,
          37.50811,
          37.486561,
          37.48872,
          37.49181,
          37.518711,
          37.51757,
          37.49847,
          37.477341,
          37.492062,
          37.499599,
          37.472969,
          37.491791,
          37.490959,
          37.488972,
          37.496674,
          37.495899,
          37.507999,
          37.513935,
          37.514309,
          37.496895,
          37.504673,
          37.484169,
          37.490837,
          37.464619,
          37.468296,
          37.484852,
          37.482368,
          37.527454,
          37.500244,
          37.494118,
          37.450661,
          37.491951,
          37.503811,
          37.515881,
          37.493259,
          37.479092,
          37.482979,
          37.49836349,
          37.48304,
          37.483662,
          37.503643,
          37.498928,
          37.454418,
          37.48716,
          37.487484,
          37.491009,
          37.496193,
          37.495564,
          37.510193,
          37.507351,
          37.505608,
          37.504787,
          37.502674,
          37.493771,
          37.489918,
          37.497795,
          37.494205,
          37.478203,
          37.481098,
          37.503624,
          37.459248,
          37.482571,
          37.520267,
          37.464897,
          37.498455,
          37.430977,
          37.505089,
          37.497688,
          37.51904678,
          37.50847626,
          37.45924759,
          37.46738434,
          37.506748,
          37.480801,
          37.531311,
          37.471298,
          37.481739,
          37.514359,
          37.520489,
          37.510441,
          37.536331,
          37.489071,
          37.516781,
          37.501862,
          37.48835,
          37.496078,
          37.496181,
          37.504711,
          37.50233841,
          37.509979,
          37.516659,
          37.516258,
          37.503624,
          37.495876,
          37.49569321,
          37.491123,
          37.486698,
          37.507866,
          37.497414,
          37.502644,
          37.47813,
          37.477211,
          37.511295,
          37.511463,
          37.526814,
          37.505505,
          37.497726,
          37.501495,
          37.525291,
          37.501984,
          37.515049,
          37.50775909,
          37.51157,
          37.494698,
          37.505444,
          37.47855,
          37.495773,
          37.508831,
          37.511498,
          37.509975,
          37.50058,
          37.524525,
          37.478825,
          37.49535751,
          37.49416733,
          37.565201,
          37.56918,
          37.547485,
          37.558334,
          37.576317,
          37.57037,
          37.564682,
          37.564587,
          37.570728,
          37.537361,
          37.538338,
          37.548534,
          37.566883,
          37.569176,
          37.561337,
          37.554993,
          37.561371,
          37.559589,
          37.563145,
          37.560604,
          37.560894,
          37.568665,
          37.569294,
          37.564087,
          37.565804,
          37.569485,
          37.559128,
          37.554951,
          37.555145,
          37.55854,
          37.562294,
          37.531693,
          37.553585,
          37.57272,
          37.550617,
          37.559402,
          37.57204437,
          37.56209183,
          37.5525589,
          37.55134964,
          37.484371,
          37.477375,
          37.48251,
          37.482597,
          37.480629,
          37.480808,
          37.477905,
          37.47794,
          37.479832,
          37.47937,
          37.479343,
          37.476013,
          37.474731,
          37.479897,
          37.482239,
          37.483665,
          37.493965,
          37.50119,
          37.50452,
          37.499813,
          37.510063,
          37.495453,
          37.488647,
          37.630001,
          37.62862,
          37.633259,
          37.650505,
          37.630749,
          37.620003,
          37.615459,
          37.622093,
          37.659233,
          37.638191,
          37.666996,
          37.628925,
          37.635109,
          37.628071,
          37.639996,
          37.651035,
          37.645489,
          37.565044,
          37.548805,
          37.566246,
          37.57991,
          37.581947,
          37.577114,
          37.55583954,
          37.558296,
          37.553429,
          37.56761551,
          37.557396,
          37.578381,
          37.567966,
          37.5867,
          37.558128,
          37.597149,
          37.56974,
          37.592934,
          37.589283,
          37.582211,
          37.57386,
          37.572205,
          37.560463,
          37.561455,
          37.555504,
          37.564068,
          37.565197,
          37.569836,
          37.570652,
          37.574284,
          37.572388,
          37.578121,
          37.575642,
          37.583344,
          37.583336,
          37.581318,
          37.576263,
          37.574348,
          37.572159,
          37.591862,
          37.557114,
          37.561317,
          37.530735,
          37.52869,
          37.506115,
          37.511242,
          37.520466,
          37.517071,
          37.5218277,
          37.504383,
          37.500172,
          37.512024,
          37.529743,
          37.514874,
          37.500137,
          37.519333,
          37.476776,
          37.462147,
          37.491226,
          37.476627,
          37.48122,
          37.573761,
          37.576607,
          37.569508,
          37.571854,
          37.574551,
          37.574059,
          37.575806,
          37.570511,
          37.572037,
          37.570702,
          37.570313,
          37.5732,
          37.571175,
          37.57146072,
          37.571533,
          37.577724,
          37.579987,
          37.581947,
          37.583275,
          37.583855,
          37.584797,
          37.575836,
          37.574848,
          37.575016,
          37.576603,
          37.595127,
          37.59726,
          37.60854,
          37.607601,
          37.569992,
          37.557587,
          37.539501,
          37.565659,
          37.550488,
          37.538052,
          37.535221,
          37.537014,
          37.545952,
          37.548222,
          37.553417,
          37.568649,
          37.55125,
          37.56461,
          37.566261,
          37.542816,
          37.543705,
          37.562527,
          37.556862,
          37.542519,
          37.543427,
          37.541718,
          37.550236,
          37.546089,
          37.56179,
          37.550598,
          37.549789,
          37.560146,
          37.554779,
          37.56068,
          37.539139,
          37.540138,
          37.531811,
          37.548489,
          37.550892,
          37.56382,
          37.54504,
          37.54504,
          37.551373,
          37.554539,
          37.55658,
          37.564381,
          37.546959,
          37.555141,
          37.544041,
          37.559799,
          37.541958,
          37.565979,
          37.566818,
          37.555313,
          37.55653,
          37.563396,
          37.54591,
          37.563709,
          37.559269,
          37.53651,
          37.547752,
          37.535072,
          37.539566,
          37.538097,
          37.54435,
          37.551338,
          37.536575,
          37.555008,
          37.54789,
          37.54747,
          37.547989,
          37.557713,
          37.54246521,
          37.55237198,
          37.56119156,
          37.49229431,
          37.5082016,
          37.51311111,
          37.51390839,
          37.52422714,
          37.48536682,
          37.46534729,
          37.47123337,
          37.46726227,
          37.49840164,
          37.51446152,
          37.49526215,
          37.47364044,
          37.51925659,
          37.50286484,
          37.49986649,
          37.49587631,
          37.49017715,
          37.53075027,
          37.49500275,
          37.52416229,
          37.47685623,
          37.47402191,
          37.51264191,
          37.46072388,
          37.52796173,
          37.49073029,
          37.49370575,
          37.47092819,
          37.47267914,
          37.48276138,
          37.5097847,
          37.48642349,
          37.48670578,
          37.48607635,
          37.54883575,
          37.57201385,
          37.57201767,
          37.52726364,
          37.53407288,
          37.54074097,
          37.5546875,
          37.55464554,
          37.55483246,
          37.55845642,
          37.52958679,
          37.55058289,
          37.53144073,
          37.52920532,
          37.56066513,
          37.57095337,
          37.57073975,
          37.57180405,
          37.55736542,
          37.56953812,
          37.53541565,
          37.53676987,
          37.54154587,
          37.5437088,
          37.55361176,
          37.55212402,
          37.55885696,
          37.54076767,
          37.54581833,
          37.55740356,
          37.55707169,
          37.52722931,
          37.51960373,
          37.55408859,
          37.61708832,
          37.63713455,
          37.6242218,
          37.61220932,
          37.628685,
          37.56113434,
          37.5674057,
          37.56497574,
          37.56692886,
          37.56059265,
          37.5586319,
          37.55846024,
          37.5490303,
          37.5606842,
          37.55603027,
          37.55802917,
          37.54555511,
          37.54457855,
          37.54536819,
          37.55713272,
          37.54739761,
          37.5692482,
          37.56108475,
          37.56644058,
          37.5675354,
          37.56179428,
          37.54323959,
          37.55755234,
          37.58458328,
          37.57128906,
          37.57410049,
          37.57531738,
          37.55737305,
          37.54663849,
          37.57386398,
          37.5841713,
          37.55680466,
          37.54382706,
          37.56557083,
          37.55224609,
          37.56130981,
          37.56096268,
          37.54857254,
          37.55510712,
          37.55688477,
          37.56719208,
          37.47288132,
          37.48313141,
          37.47183609,
          37.46895981,
          37.48497391,
          37.47888184,
          37.48675156,
          37.48163223,
          37.47752762,
          37.48204803,
          37.47639847,
          37.47909164,
          37.48857117,
          37.54764938,
          37.5465126,
          37.55775452,
          37.5450058,
          37.53520966,
          37.52916336,
          37.53470993,
          37.54983902,
          37.56628036,
          37.54896927,
          37.53298569,
          37.52879333,
          37.5391922,
          37.47829437,
          37.49333954,
          37.50624084,
          37.50191498,
          37.47604752,
          37.50862503,
          37.49267197,
          37.48389053,
          37.48337555,
          37.49385834,
          37.50126266,
          37.49382782,
          37.4949913,
          37.46557617,
          37.45739746,
          37.45415115,
          37.46865845,
          37.46709442,
          37.45191956,
          37.46222305,
          37.46239853,
          37.45894241,
          37.45838165,
          37.46272278,
          37.46298599,
          37.45936584,
          37.46639633,
          37.45717239,
          37.47636795,
          37.48017502,
          37.66963577,
          37.65680313,
          37.66260529,
          37.65955734,
          37.63666916,
          37.63214493,
          37.63284302,
          37.62917328,
          37.64584351,
          37.67030334,
          37.64530945,
          37.63535309,
          37.66782761,
          37.66214371,
          37.65121841,
          37.64426041,
          37.63441086,
          37.62045288,
          37.62533569,
          37.64795303,
          37.62741089,
          37.65351868,
          37.6396637,
          37.65153503,
          37.65149689,
          37.64292908,
          37.67099762,
          37.67449188,
          37.63793945,
          37.65408325,
          37.64304352,
          37.61965561,
          37.62500381,
          37.67851257,
          37.66674042,
          37.62812042,
          37.63000488,
          37.62099075,
          37.64601898,
          37.69101334,
          37.66252136,
          37.64051056,
          37.65373611,
          37.66927338,
          37.63342667,
          37.66173553,
          37.65999603,
          37.67984772,
          37.65854645,
          37.65250778,
          37.59286499,
          37.59383774,
          37.59436417,
          37.56324005,
          37.57739639,
          37.5676918,
          37.57958603,
          37.59139633,
          37.58392334,
          37.60460281,
          37.59087372,
          37.57130051,
          37.57014847,
          37.57846832,
          37.58945084,
          37.50543213,
          37.51120377,
          37.50680542,
          37.50785828,
          37.48548126,
          37.49845505,
          37.49157715,
          37.50444412,
          37.51262665,
          37.54604,
          37.54737854,
          37.5573082,
          37.5566597,
          37.56949234,
          37.5483017,
          37.58332062,
          37.56415558,
          37.57730484,
          37.5500679,
          37.55557632,
          37.58119965,
          37.54985428,
          37.55015945,
          37.54568481,
          37.57892227,
          37.55152893,
          37.56303787,
          37.54891968,
          37.57649231,
          37.56896973,
          37.55235291,
          37.60169601,
          37.5751915,
          37.57540131,
          37.47171783,
          37.48339462,
          37.49801636,
          37.50150681,
          37.50723267,
          37.4572258,
          37.46155548,
          37.50320435,
          37.49979782,
          37.45916748,
          37.48389053,
          37.50365829,
          37.47039795,
          37.48116684,
          37.46548462,
          37.47901154,
          37.45429993,
          37.45199966,
          37.50209427,
          37.4928894,
          37.48573685,
          37.50749588,
          37.54655838,
          37.54824448,
          37.5540123,
          37.55507278,
          37.55862045,
          37.55141449,
          37.54127502,
          37.54332352,
          37.61745453,
          37.61131287,
          37.60623932,
          37.58625031,
          37.61207962,
          37.51633835,
          37.47434616,
          37.48664474,
          37.4745636,
          37.52478027,
          37.49917603,
          37.48794556,
          37.50585175,
          37.50223541,
          37.50801468,
          37.52357483,
          37.48245621,
          37.48488998,
          37.49650955,
          37.49198532,
          37.49763107,
          37.49808884,
          37.49146652,
          37.48174286,
          37.4861145,
          37.48827362,
          37.49201584,
          37.52397537,
          37.51632309,
          37.52080917,
          37.52005386,
          37.51613998,
          37.48051071,
          37.4777832,
          37.47953415,
          37.49900436,
          37.51921082,
          37.50679016,
          37.49236679,
          37.52865219,
          37.52124786,
          37.52109528,
          37.52198029,
          37.52175903,
          37.5140686,
          37.52319717,
          37.51481247,
          37.53528214,
          37.52893829,
          37.52011108,
          37.53924561,
          37.52091599,
          37.51779556,
          37.51351166,
          37.53968811,
          37.53684616,
          37.51292038,
          37.53936005,
          37.53315735,
          37.5221405,
          37.53660965,
          37.5140686,
          37.51174164,
          37.52617645,
          37.52762222,
          37.49519348,
          37.51374817,
          37.51288223,
          37.50545502,
          37.51756287,
          37.53374481,
          37.52572632,
          37.51850891,
          37.52070999,
          37.51803589,
          37.5038414,
          37.49128342,
          37.51874924,
          37.50508881,
          37.51800156,
          37.51470184,
          37.52341461,
          37.49582291,
          37.50160599,
          37.50400543,
          37.5325737,
          37.52974701,
          37.53050232,
          37.53054047,
          37.53214645,
          37.52864075,
          37.53271866,
          37.52194977,
          37.52347946,
          37.52410507,
          37.50601196,
          37.51283264,
          37.53972626,
          37.52364349,
          37.49484634,
          37.52915192,
          37.54498672,
          37.53200531,
          37.5332222,
          37.51758957,
          37.52087784,
          37.52145767,
          37.52316666,
          37.53591919,
          37.54143906,
          37.53749847,
          37.53599548,
          37.53030014,
          37.53248215,
          37.52761078,
          37.53237915,
          37.52301788,
          37.53528595,
          37.5251503,
          37.53453064,
          37.5393219,
          37.53851318,
          37.52544022,
          37.52529526,
          37.52703476,
          37.59931564,
          37.61156845,
          37.58287811,
          37.60049438,
          37.60176849,
          37.59750366,
          37.61326218,
          37.59967041,
          37.62962723,
          37.63390732,
          37.62087631,
          37.62205124,
          37.60034561,
          37.62360764,
          37.59612656,
          37.59954453,
          37.60604858,
          37.58131409,
          37.57752991,
          37.56855774,
          37.5721817,
          37.60469818,
          37.58114624,
          37.58983612,
          37.57528305,
          37.56883621,
          37.55891418,
          37.56284332,
          37.55664444,
          37.56467056,
          37.56693268,
          37.5683136,
          37.56024551,
          37.5670166,
          37.56253433,
          37.56590271,
          37.56599045,
          37.56005478,
          37.55281448,
          37.56520844,
          37.56147003,
          37.56157303,
          37.56459045,
          37.56689835,
          37.56122589,
          37.5625267,
          37.56430817,
          37.55540848,
          37.5664711,
          37.56339645,
          37.57162094,
          37.61571121,
          37.59268951,
          37.59596252,
          37.59432602,
          37.60641098,
          37.61022568,
          37.58032227,
          37.6132164,
          37.59877777,
          37.61755371,
          37.58333206,
          37.60025406,
          37.60548782,
          37.59780884,
          37.59354401,
          37.6030426,
          37.57984543,
          37.6127243,
          37.60428619,
          37.60446167,
          37.58686447,
          37.60064316,
          37.47644424,
          37.50003433,
          37.492733,
          37.48933029,
          37.5202179,
          37.51275635,
          37.52148438,
          37.50226974,
          37.49308395,
          37.52301788,
          37.5164032,
          37.50205612,
          37.51647949,
          37.5000267,
          37.50717163,
          37.51629639,
          37.5170784,
          37.51072693,
          37.49806213,
          37.49827194,
          37.50117111,
          37.4826355,
          37.50291443,
          37.49222183,
          37.48995972,
          37.49535751,
          37.48868561,
          37.48714828,
          37.48352432,
          37.47709656,
          37.49793243,
          37.48618698,
          37.51869202,
          37.49459076,
          37.48455429,
          37.52597046,
          37.48639297,
          37.48632431,
          37.48641586,
          37.48688889,
          37.51633453,
          37.49524307,
          37.55974579,
          37.57108688,
          37.55905914,
          37.55932999,
          37.55931091,
          37.5318222,
          37.55545425,
          37.56354141,
          37.57334137,
          37.56902695,
          37.56724548,
          37.55791473,
          37.55085754,
          37.5567627,
          37.56154633,
          37.54661942,
          37.55823517,
          37.5518837,
          37.55661,
          37.571259,
          37.523277,
          37.513844,
          37.572113,
          37.568878,
          37.564674,
          37.579784,
          37.563717,
          37.569805,
          37.55994,
          37.561012,
          37.584129,
          37.572025,
          37.515156,
          37.5508,
          37.59827,
          37.60853577,
          37.597778,
          37.579868,
          37.59552,
          37.619637,
          37.62038,
          37.623417,
          37.665215,
          37.507042,
          37.513062,
          37.526844,
          37.498371,
          37.455631,
          37.47065,
          37.49543,
          37.485218,
          37.507759,
          37.648163,
          37.55584,
          37.56066513,
          37.56301117,
          37.49267197,
          37.66235733,
          37.66173553,
          37.59955215,
          37.48664474,
          37.49650955,
          37.49900436,
          37.58137512,
          37.55958557,
          37.566612,
          37.555859,
          37.565437,
          37.557602,
          null,
          37.53722,
          37.559158,
          37.574909,
          37.549561,
          37.556004,
          37.555687,
          37.551567,
          null,
          37.572781,
          37.553173,
          37.522526,
          37.468567,
          37.477753,
          37.488243,
          37.491264,
          37.509586,
          37.502338
         ],
         "legendgroup": "",
         "lon": [
          126.910629,
          126.910835,
          126.914986,
          126.914825,
          126.912827,
          126.918503,
          126.918617,
          126.919983,
          126.923531,
          126.923203,
          126.923805,
          126.924423,
          126.927116,
          126.927071,
          126.94133,
          126.931763,
          126.931053,
          126.934113,
          126.933174,
          126.938377,
          126.947388,
          126.936989,
          126.93895,
          126.943848,
          126.936951,
          126.93634,
          126.937569,
          126.936157,
          126.911102,
          126.908997,
          126.93808,
          126.939178,
          126.943184,
          126.934525,
          126.934479,
          126.940735,
          126.932648,
          126.955666,
          126.950218,
          126.951324,
          126.951637,
          126.945824,
          126.945915,
          126.943024,
          126.934341,
          126.912613,
          126.905495,
          126.914513,
          126.955147,
          126.956688,
          126.946342,
          126.959381,
          126.950645,
          126.946243,
          126.924965,
          126.910049,
          126.91394,
          126.919678,
          126.91713,
          126.907799,
          126.922447,
          126.967278,
          126.966148,
          126.930817,
          126.924026,
          126.909805,
          126.906349,
          126.914795,
          126.962463,
          126.902672,
          126.9030609,
          126.919395,
          126.907753,
          126.934296,
          126.898209,
          126.935127,
          126.910736,
          126.923065,
          126.902969,
          126.917809,
          126.925896,
          126.963776,
          126.896446,
          126.913918,
          126.921333,
          126.92453,
          126.918701,
          126.917023,
          126.920509,
          126.918022,
          126.932098,
          126.927834,
          126.925537,
          126.924637,
          126.923462,
          126.918953,
          126.920837,
          126.934906,
          126.930367,
          126.925835,
          126.926048,
          126.93779,
          126.937599,
          126.933167,
          126.932365,
          126.929253,
          126.928413,
          126.888359,
          126.894508,
          126.892181,
          126.896217,
          126.891823,
          126.887817,
          126.891647,
          126.905846,
          126.910233,
          126.894615,
          126.914803,
          126.902756,
          126.903282,
          126.895576,
          126.898483,
          126.910225,
          126.89138,
          126.905708,
          126.896629,
          126.902107,
          126.92421,
          126.936546,
          126.92308,
          126.921951,
          126.919945,
          126.909515,
          126.903419,
          126.901131,
          126.8993,
          126.914299,
          126.925934,
          126.912086,
          126.889183,
          126.888626,
          126.891617,
          126.896538,
          126.901192,
          126.8983,
          126.900002,
          126.927101,
          126.921616,
          126.903679,
          126.90799,
          126.885651,
          126.912636,
          126.905167,
          126.895233,
          126.904465,
          126.89444,
          126.893982,
          126.904877,
          126.907219,
          126.902229,
          126.89724,
          126.89975,
          126.905739,
          126.893387,
          126.898003,
          126.897827,
          126.89888,
          126.904068,
          126.907578,
          126.911881,
          126.90538,
          126.912674,
          126.914299,
          126.922455,
          126.969231,
          126.971451,
          126.97406,
          126.974663,
          126.978355,
          126.976433,
          126.9711,
          126.973938,
          126.976456,
          126.9774704,
          126.980858,
          126.981789,
          126.982552,
          126.983589,
          126.984138,
          126.986969,
          126.9804,
          126.98616,
          126.987465,
          126.98819,
          126.987892,
          126.987206,
          126.987793,
          126.991791,
          126.991257,
          126.992836,
          126.996475,
          126.997124,
          126.998192,
          127.000679,
          127.001785,
          127.002533,
          127.004982,
          127.006721,
          127.00071,
          127.00988,
          127.007843,
          126.960785,
          126.96859,
          126.970619,
          126.985237,
          126.984947,
          126.98896,
          127.002457,
          127.00206,
          126.998535,
          126.997681,
          127.015907,
          127.022705,
          127.022835,
          127.015083,
          126.958694,
          126.980537,
          126.9785,
          126.974838,
          127.005539,
          127.0112,
          127.014076,
          126.973358,
          127.002747,
          127.006989,
          127.010048,
          127.016403,
          126.968506,
          126.982658,
          127.003464,
          127.00161,
          126.996605,
          126.995354,
          126.9734039,
          127.009377,
          126.965919,
          126.964561,
          126.996635,
          126.992439,
          126.965408,
          126.883003,
          126.881615,
          126.879822,
          126.884727,
          126.885788,
          126.880585,
          126.883675,
          126.88665,
          126.88916,
          126.887772,
          126.891472,
          126.890739,
          126.889687,
          126.89447,
          126.897362,
          126.894447,
          126.899918,
          126.898979,
          126.899429,
          126.896179,
          126.901184,
          126.894424,
          126.898048,
          126.885597,
          126.954178,
          126.903816,
          126.991432,
          127.007347,
          127.006264,
          127.019524,
          126.908203,
          126.982292,
          127.023933,
          126.975616,
          126.94619,
          126.941383,
          126.906769,
          126.944038,
          126.881149,
          126.97068,
          126.97216,
          126.970718,
          126.974548,
          126.957832,
          126.961945,
          126.972862,
          126.972549,
          126.979668,
          127.00441,
          127.000671,
          126.986382,
          127.006058,
          127.019829,
          127.00721,
          126.977539,
          126.972366,
          126.962067,
          126.981697,
          126.983597,
          126.979813,
          126.980866,
          126.979485,
          126.980141,
          126.979889,
          126.982651,
          126.988983,
          126.997986,
          127.008492,
          127.01181,
          127.009956,
          127.002686,
          127.006027,
          127.010704,
          127.015793,
          127.006439,
          126.977188,
          126.973251,
          126.9683228,
          126.938309,
          126.8802109,
          126.8834,
          126.887665,
          126.888069,
          126.901848,
          126.928856,
          126.935028,
          126.946999,
          126.9123,
          126.922127,
          127.074272,
          127.070351,
          127.067192,
          127.082245,
          127.057793,
          127.057114,
          127.05751,
          127.052589,
          127.0438,
          127.044609,
          127.045006,
          127.049805,
          127.063309,
          127.08683,
          127.069366,
          127.035355,
          127.029915,
          127.030319,
          127.03492,
          127.016426,
          127.014061,
          127.025055,
          127.040352,
          127.056725,
          127.06366,
          127.030403,
          127.021088,
          127.025726,
          127.033592,
          127.029213,
          127.041397,
          127.051155,
          127.074203,
          127.078644,
          127.094482,
          127.094673,
          127.102905,
          127.085091,
          127.07486,
          127.089706,
          127.03566,
          127.094498,
          127.092972,
          127.079803,
          127.092171,
          127.020401,
          127.025696,
          127.036522,
          127.036797,
          127.068932,
          127.04467,
          127.07341,
          127.062752,
          127.015572,
          127.017662,
          127.057083,
          127.02356,
          127.030243,
          127.07476,
          127.08651,
          127.084732,
          127.088982,
          127.086937,
          127.104263,
          127.106133,
          127.062088,
          127.041847,
          127.04908,
          127.04689,
          127.0468903,
          127.072632,
          127.055489,
          127.045395,
          127.052643,
          127.067497,
          127.056656,
          127.073364,
          127.075371,
          127.077637,
          127.077873,
          127.056908,
          127.06868,
          127.037361,
          127.071388,
          127.055962,
          127.026497,
          127.07029,
          127.067863,
          127.055344,
          127.037361,
          127.052162,
          127.030815,
          127.023468,
          127.031013,
          127.03511,
          127.054367,
          127.057693,
          127.053391,
          127.057831,
          127.053856,
          127.045891,
          127.057175,
          127.070969,
          127.071907,
          127.067543,
          127.040306,
          127.051277,
          127.044823,
          127.05983,
          127.052773,
          127.042587,
          127.045792,
          127.060974,
          127.060951,
          127.044495,
          127.038536,
          127.0484314,
          127.074417,
          127.064377,
          127.067268,
          127.062424,
          127.067741,
          127.065941,
          127.052109,
          127.043137,
          127.04837,
          127.066147,
          127.033386,
          127.037628,
          127.051964,
          127.063026,
          127.0579376,
          127.068642,
          127.070831,
          127.046997,
          127.069183,
          127.044663,
          127.061409,
          127.023377,
          127.02385,
          127.031036,
          127.033142,
          127.035477,
          127.045799,
          127.07431,
          127.061684,
          127.057411,
          127.056374,
          126.872772,
          126.86393,
          126.868729,
          126.87558,
          126.864906,
          126.851753,
          126.869965,
          126.84156,
          126.8441696,
          126.848488,
          126.838318,
          126.829956,
          126.830803,
          126.864334,
          126.864258,
          126.8349,
          126.857384,
          126.872749,
          126.857399,
          126.850548,
          126.869598,
          126.866798,
          126.876541,
          126.8283,
          126.831001,
          126.856056,
          126.871521,
          126.8367,
          126.84948,
          126.827797,
          126.831711,
          126.825401,
          126.864578,
          126.842682,
          126.882545,
          126.839699,
          126.877747,
          126.875648,
          126.879303,
          126.886612,
          126.835625,
          126.863304,
          126.876678,
          126.881409,
          126.876167,
          126.828743,
          126.8592,
          126.8386,
          126.844299,
          126.877052,
          126.859161,
          126.875893,
          126.875481,
          126.88325,
          126.836311,
          126.882446,
          126.874672,
          126.864868,
          126.870064,
          126.874573,
          126.867218,
          126.863831,
          126.885681,
          126.834778,
          126.853684,
          126.877586,
          126.876556,
          126.832741,
          126.866303,
          126.868401,
          126.862648,
          126.865555,
          126.848755,
          126.869835,
          126.870926,
          126.878143,
          126.862953,
          126.8638,
          126.871941,
          126.87249,
          126.954742,
          127.002213,
          127.004097,
          126.970001,
          126.960732,
          126.972687,
          126.989738,
          127.007439,
          126.986649,
          126.985382,
          126.977661,
          126.972275,
          126.978798,
          126.968483,
          126.971733,
          126.969383,
          126.970505,
          126.971947,
          126.965523,
          126.96196,
          126.994263,
          126.968643,
          126.97966,
          126.972,
          126.961693,
          126.94857,
          126.988564,
          126.973465,
          126.96138,
          126.971542,
          126.9515,
          127.006729,
          126.972389,
          127.00145,
          126.970268,
          126.968872,
          126.98867,
          126.955162,
          126.964378,
          126.981041,
          126.977501,
          126.975052,
          126.973419,
          126.968926,
          126.958115,
          126.947182,
          126.965691,
          127.001549,
          126.972771,
          126.998055,
          126.986893,
          126.995865,
          126.970978,
          126.977005,
          127.006004,
          126.997849,
          126.97686,
          126.989235,
          126.959145,
          126.958298,
          126.927696,
          126.926956,
          126.918221,
          126.927391,
          126.930702,
          126.918999,
          126.919579,
          126.916862,
          126.917351,
          126.922882,
          126.922935,
          126.916946,
          126.920128,
          126.913651,
          126.909897,
          126.921326,
          126.935349,
          126.932503,
          126.919029,
          126.921967,
          126.925636,
          126.929581,
          126.930977,
          126.922523,
          126.938042,
          126.920303,
          126.915337,
          126.916397,
          126.914879,
          126.909599,
          126.923798,
          126.918457,
          126.927422,
          126.933304,
          126.929283,
          126.92865,
          126.932343,
          126.932884,
          126.919991,
          126.902351,
          126.920807,
          126.917351,
          126.925247,
          126.928818,
          126.921478,
          126.918159,
          126.922813,
          126.914558,
          126.919456,
          126.92981,
          126.918907,
          126.932579,
          126.925041,
          126.923187,
          126.934677,
          126.932419,
          126.929413,
          126.931877,
          126.906548,
          126.894943,
          126.935844,
          126.929016,
          126.923012,
          126.924103,
          126.931503,
          126.935928,
          126.906082,
          126.925087,
          126.910263,
          126.926384,
          126.914833,
          126.942009,
          126.94606,
          126.919563,
          126.93911,
          126.925407,
          126.915405,
          127.124718,
          127.125916,
          127.125458,
          127.12886,
          127.142799,
          127.130844,
          127.127151,
          127.124214,
          127.138344,
          127.135239,
          127.122726,
          127.120926,
          127.146912,
          127.171158,
          127.145172,
          127.135406,
          127.130028,
          127.126801,
          127.17395,
          127.138031,
          127.17469,
          127.123108,
          127.172516,
          127.155884,
          127.147697,
          127.12278,
          127.125397,
          127.12207,
          127.129898,
          127.136208,
          127.144707,
          127.150749,
          127.155273,
          127.153297,
          127.177612,
          127.174797,
          127.167801,
          127.153297,
          127.177002,
          127.142601,
          127.137253,
          127.142365,
          127.180267,
          127.135529,
          127.137321,
          127.156822,
          127.164528,
          127.169579,
          127.179092,
          127.173813,
          127.165001,
          127.131752,
          127.132637,
          127.134621,
          127.162621,
          127.142738,
          127.147644,
          127.149269,
          127.152016,
          127.156403,
          127.156227,
          127.156883,
          127.157921,
          127.159912,
          127.153725,
          127.141052,
          127.149162,
          127.137184,
          127.141037,
          127.132561,
          127.133621,
          127.170845,
          127.128418,
          127.129532,
          127.14901,
          127.156593,
          127.129128,
          127.145874,
          127.145454,
          127.119522,
          127.146698,
          127.166145,
          126.798599,
          126.811806,
          126.812195,
          126.812653,
          126.816452,
          126.81015,
          126.810486,
          126.816238,
          126.8218,
          126.824776,
          126.822899,
          126.86409,
          126.844261,
          126.861458,
          126.867561,
          126.853996,
          126.86438,
          126.863869,
          126.838287,
          126.836571,
          126.836563,
          126.838547,
          126.840225,
          126.840218,
          126.842621,
          126.845459,
          126.863708,
          126.862549,
          126.862,
          126.86322,
          126.863365,
          126.863609,
          126.84848,
          126.848083,
          126.838257,
          126.84478,
          126.818275,
          126.810478,
          126.823471,
          126.826614,
          126.838097,
          126.848419,
          126.84977,
          126.854813,
          126.846596,
          126.840897,
          126.819664,
          126.820473,
          126.820084,
          126.821648,
          126.842461,
          126.825928,
          126.819069,
          126.874489,
          126.868797,
          126.873161,
          126.86058,
          126.853317,
          126.851471,
          126.857536,
          126.823677,
          126.806168,
          126.82972,
          126.818497,
          126.848808,
          126.853401,
          126.815979,
          126.849472,
          126.816093,
          126.818367,
          126.828339,
          126.826653,
          126.827164,
          126.826759,
          126.832077,
          126.836823,
          126.834312,
          126.835831,
          126.835808,
          126.827438,
          126.836128,
          126.798973,
          127.118546,
          127.120621,
          127.14473,
          127.071373,
          127.078239,
          127.152504,
          127.119789,
          127.104202,
          127.10096,
          127.10778,
          127.112869,
          127.132736,
          127.127647,
          127.131538,
          127.129799,
          127.125839,
          127.084038,
          127.087532,
          127.085052,
          127.078934,
          127.112366,
          127.143822,
          127.146202,
          127.143127,
          127.130592,
          127.09903,
          127.096191,
          127.093369,
          127.088142,
          127.118011,
          127.118568,
          127.119797,
          127.119743,
          127.120163,
          127.122124,
          127.125328,
          127.126328,
          127.123512,
          127.121674,
          127.077347,
          127.11084,
          127.10775,
          127.128181,
          127.125809,
          127.117752,
          127.128998,
          127.126595,
          127.121399,
          127.109718,
          127.137016,
          127.122803,
          127.124802,
          127.120003,
          127.1230698,
          127.1141968,
          127.091217,
          127.135391,
          127.121048,
          127.139366,
          127.137093,
          127.106796,
          127.154678,
          127.157173,
          127.141479,
          127.131752,
          127.144592,
          127.140671,
          127.141518,
          127.131088,
          127.111092,
          127.137718,
          127.131866,
          127.096558,
          127.100304,
          127.103432,
          127.104118,
          127.136711,
          127.139221,
          127.00631,
          127.012497,
          126.99231,
          127.016434,
          127.006706,
          127.028976,
          127.011688,
          127.003281,
          127.002838,
          127.024788,
          127.033272,
          127.036667,
          127.039276,
          127.040207,
          127.047737,
          127.047318,
          127.050682,
          127.041634,
          127.066093,
          127.059799,
          127.06131,
          127.014008,
          127.017136,
          127.020752,
          127.033508,
          127.053802,
          126.997932,
          127.007378,
          127.013702,
          127.020248,
          127.0215,
          127.022758,
          127.050201,
          127.024193,
          127.017097,
          127.023552,
          127.036194,
          127.018913,
          127.008133,
          127.010582,
          127.045097,
          127.013504,
          127.002121,
          127.019676,
          127.02195,
          127.004089,
          126.999092,
          127.040382,
          127.02256,
          127.020103,
          127.030029,
          126.995209,
          127.031601,
          127.038979,
          127.037376,
          127.04538,
          127.045341,
          127.018173,
          127.041237,
          127.067001,
          127.0363922,
          127.016289,
          127.016289,
          127.018967,
          127.011704,
          127.061623,
          127.056244,
          127.022629,
          127.0214081,
          127.019714,
          127.051834,
          127.051453,
          127.076363,
          127.102333,
          127.076576,
          127.080032,
          127.092949,
          127.108269,
          127.077888,
          127.077477,
          127.090187,
          127.086739,
          127.087067,
          127.090309,
          127.088432,
          127.085999,
          127.110542,
          127.096764,
          127.103378,
          127.106461,
          127.107742,
          127.09597,
          127.086823,
          127.086914,
          127.085968,
          127.080002,
          127.092598,
          127.095451,
          127.079582,
          127.100792,
          127.100632,
          127.079926,
          127.093483,
          127.08007,
          127.110733,
          127.079819,
          127.080544,
          127.079399,
          127.08033,
          127.08728,
          127.089798,
          127.085838,
          127.085014,
          127.07267,
          127.07505,
          127.109253,
          127.07859,
          127.085899,
          127.100327,
          127.093239,
          127.093086,
          127.093086,
          127.075073,
          127.076523,
          127.084831,
          127.079002,
          127.105148,
          127.08757,
          127.101151,
          127.077393,
          127.078133,
          127.078583,
          127.078491,
          127.079231,
          127.074951,
          127.08284,
          127.079605,
          127.091263,
          127.082092,
          127.080101,
          127.026482,
          127.026756,
          127.018623,
          127.013359,
          127.035751,
          127.035515,
          127.036034,
          127.026566,
          127.025124,
          127.028358,
          127.024048,
          127.015907,
          127.016167,
          127.015617,
          127.022789,
          127.012756,
          127.026695,
          127.024628,
          127.026054,
          127.020699,
          127.02491,
          127.022346,
          127.030251,
          127.047447,
          127.040916,
          127.023376,
          127.032173,
          127.012428,
          127.013138,
          127.013451,
          127.016884,
          127.018059,
          127.02037,
          127.017738,
          127.029701,
          127.03624,
          127.037811,
          127.018509,
          127.008812,
          127.027237,
          127.033966,
          127.034554,
          127.039307,
          127.037323,
          127.028526,
          127.013847,
          127.022995,
          127.014572,
          127.025902,
          127.0387726,
          127.0118408,
          127.02211,
          127.0304947,
          127.064468,
          127.061897,
          127.061615,
          127.074928,
          127.072754,
          127.083641,
          127.076553,
          127.068329,
          127.063271,
          127.076408,
          127.070221,
          127.072968,
          127.055099,
          127.055252,
          127.055504,
          127.077591,
          127.08316,
          127.061768,
          127.0634,
          127.055069,
          127.068489,
          127.069511,
          127.088493,
          127.075211,
          127.107903,
          127.065102,
          127.055992,
          127.05558,
          127.063622,
          127.075447,
          127.07016,
          127.067436,
          127.057327,
          127.071602,
          127.076622,
          127.065605,
          127.059151,
          127.057854,
          127.070442,
          127.076424,
          127.071777,
          127.074387,
          127.063255,
          127.064987,
          127.071838,
          127.054825,
          127.053406,
          127.060974,
          127.058083,
          127.05513,
          127.0905,
          127.064445,
          127.106667,
          127.108383,
          127.08226,
          127.077606,
          127.080887,
          127.07563,
          127.080482,
          127.058052,
          127.057297,
          127.057892,
          127.059311,
          127.065331,
          127.06601,
          127.082108,
          127.052834,
          127.057152,
          127.05056,
          127.045197,
          127.046516,
          127.042671,
          127.038513,
          127.039848,
          127.035347,
          127.0284882,
          127.044609,
          127.012787,
          127.050728,
          127.050102,
          127.043991,
          127.047981,
          127.046997,
          127.050049,
          127.027718,
          127.043312,
          127.03521,
          127.040764,
          127.046242,
          127.045792,
          127.045502,
          127.042557,
          127.042999,
          127.041939,
          127.032669,
          127.044983,
          127.037064,
          127.038834,
          127.052742,
          127.032982,
          127.023018,
          127.052193,
          127.043144,
          127.04332,
          127.043762,
          127.04599,
          127.048897,
          127.041702,
          127.048576,
          127.033432,
          127.044708,
          127.013382,
          127.013756,
          127.048637,
          127.03109,
          127.042419,
          127.035614,
          127.033279,
          127.028755,
          127.0498581,
          127.03009,
          127.035759,
          127.034729,
          127.045548,
          126.888718,
          126.877769,
          126.878639,
          126.884941,
          126.885155,
          126.887299,
          126.894127,
          126.903831,
          126.895927,
          126.903358,
          126.902115,
          126.900909,
          126.89859,
          126.883728,
          126.891052,
          126.888344,
          126.893143,
          126.898888,
          126.897202,
          126.895073,
          126.897957,
          126.890282,
          126.879044,
          126.88443,
          126.908142,
          126.885185,
          126.888069,
          126.891869,
          126.90686,
          126.911133,
          126.892189,
          126.896042,
          126.8871,
          126.885391,
          126.88694,
          126.886368,
          126.881485,
          126.913399,
          126.895866,
          126.897408,
          126.897621,
          126.907372,
          126.887093,
          126.902687,
          126.886841,
          126.903297,
          126.897583,
          126.898605,
          126.899551,
          126.896454,
          126.889427,
          126.883804,
          126.902885,
          126.896713,
          126.903359,
          126.87973,
          126.882874,
          126.890099,
          126.876259,
          126.872162,
          126.884377,
          126.901321,
          126.890663,
          126.892151,
          126.894447,
          126.889984,
          126.888298,
          126.895096,
          126.867699,
          126.868401,
          126.85276,
          126.853729,
          126.858253,
          126.84687,
          126.859215,
          126.852013,
          126.844055,
          126.824524,
          126.880386,
          126.8395,
          126.845726,
          126.839211,
          126.901039,
          126.88205,
          126.874329,
          126.890121,
          126.889587,
          126.889481,
          126.891304,
          126.892799,
          126.864502,
          126.859192,
          126.863098,
          126.844337,
          126.847504,
          126.828964,
          126.826393,
          126.836494,
          126.882538,
          126.894737,
          126.886703,
          126.838821,
          126.873772,
          126.842697,
          126.883881,
          126.888474,
          126.891991,
          126.895187,
          126.860931,
          126.860786,
          126.844963,
          126.83242,
          126.834198,
          126.87178,
          126.87101,
          126.871521,
          126.830658,
          126.886833,
          126.952469,
          126.948059,
          126.934242,
          126.92807,
          126.921082,
          126.906227,
          126.939362,
          126.929565,
          126.927094,
          126.938988,
          126.948204,
          126.963615,
          126.963493,
          126.9591522,
          126.981621,
          126.981583,
          126.980576,
          126.982391,
          126.97715,
          126.976089,
          126.969078,
          126.968048,
          126.97358,
          126.939972,
          126.944847,
          126.916527,
          126.94175,
          126.943527,
          126.917793,
          126.97155,
          126.969231,
          126.967842,
          126.926613,
          126.966179,
          126.927086,
          126.907112,
          126.919868,
          126.966476,
          126.953682,
          126.943069,
          126.971909,
          126.955551,
          126.954163,
          126.961632,
          126.957779,
          126.925438,
          126.981979,
          126.960732,
          126.946785,
          126.921578,
          126.974739,
          126.94973,
          126.981506,
          126.977921,
          126.977882,
          126.964714,
          126.954598,
          126.956375,
          126.982407,
          126.940338,
          126.926392,
          126.919273,
          126.981331,
          126.914604,
          126.918404,
          126.936455,
          126.943199,
          126.935829,
          126.902031,
          126.953316,
          126.950645,
          126.9039,
          126.90284,
          126.950829,
          126.954697,
          126.960495,
          126.919479,
          126.952583,
          126.958145,
          126.958427,
          126.928909,
          126.929916,
          126.936531,
          126.937019,
          126.931862,
          126.933411,
          126.9422,
          126.916756,
          126.942924,
          126.963394,
          126.909325,
          126.959229,
          126.932877,
          126.965363,
          126.964958,
          126.942131,
          126.912033,
          126.952003,
          126.944511,
          126.927467,
          126.928482,
          126.928703,
          126.916382,
          126.913017,
          126.948807,
          126.946159,
          126.933922,
          126.945923,
          126.938652,
          126.95961,
          126.947517,
          126.941406,
          126.939156,
          126.936485,
          126.934509,
          126.939026,
          126.956932,
          126.958695,
          127.051483,
          127.054375,
          127.055016,
          127.05938,
          127.062103,
          127.064926,
          127.013107,
          127.012314,
          127.017929,
          127.002258,
          126.99749,
          126.995476,
          127.005959,
          127.003944,
          126.98616,
          126.994682,
          126.982033,
          126.983009,
          126.995247,
          127.001389,
          126.992523,
          126.986725,
          126.984962,
          126.982628,
          127.024963,
          127.022957,
          127.002701,
          127.01487,
          127.013786,
          127.041702,
          127.03418,
          127.036728,
          127.03891,
          127.03051,
          127.029007,
          127.026619,
          127.024742,
          127.019348,
          127.016289,
          127.034477,
          127.036041,
          127.038857,
          127.040359,
          127.046112,
          127.050591,
          127.011177,
          127.00959,
          127.02684,
          126.982574,
          126.983063,
          127.008163,
          127.02227,
          127.016052,
          127.057739,
          126.994293,
          127.010582,
          127.038269,
          127.039612,
          127.048798,
          127.038902,
          127.015282,
          127.014183,
          127.010971,
          126.986282,
          127.005836,
          126.989166,
          126.986801,
          127.022652,
          127.055885,
          127.067101,
          127.064453,
          126.988525,
          127.036995,
          127.046242,
          127.015923,
          127.021606,
          127.028061,
          127.02179,
          127.024277,
          127.021477,
          127.035835,
          127.034508,
          127.028717,
          127.038559,
          127.035599,
          127.049385,
          127.040176,
          127.043022,
          127.056328,
          127.052467,
          127.061035,
          127.061119,
          127.063408,
          127.0662,
          127.055031,
          127.05468,
          127.056969,
          127.069443,
          127.063103,
          127.067207,
          127.066223,
          127.059319,
          127.0588,
          127.031464,
          127.042641,
          127.04319,
          127.039459,
          127.044601,
          127.048965,
          127.034073,
          127.045898,
          127.046761,
          127.047462,
          127.071976,
          127.052299,
          127.045174,
          127.084938,
          127.079514,
          127.107727,
          127.101196,
          127.0354,
          127.056854,
          127.038567,
          127.047905,
          127.089027,
          127.035027,
          127.040474,
          127.056763,
          127.062309,
          127.047119,
          127.04277,
          127.053917,
          127.050377,
          127.041389,
          127.022453,
          127.027466,
          127.031898,
          127.038475,
          127.041298,
          127.052872,
          127.054298,
          127.035133,
          127.063797,
          127.065575,
          127.100998,
          127.100517,
          127.102753,
          127.049347,
          127.034523,
          127.050468,
          127.094887,
          127.105942,
          127.030151,
          127.0409088,
          127.096077,
          127.051613,
          127.067238,
          127.063042,
          127.059624,
          127.05545,
          127.051338,
          127.055397,
          127.055733,
          127.051048,
          127.039452,
          127.082672,
          127.074539,
          127.073158,
          127.05085,
          127.023643,
          127.030113,
          127.113274,
          127.030746,
          127.033752,
          127.112228,
          127.088211,
          127.054985,
          127.051827,
          127.053429,
          127.052193,
          127.04525,
          127.059822,
          127.0597,
          127.070137,
          127.025795,
          127.094849,
          127.08065,
          127.10685,
          127.104698,
          127.058373,
          127.061188,
          127.040428,
          127.036057,
          127.062904,
          127.05706,
          127.008553,
          127.021362,
          127.019302,
          127.029533,
          126.990677,
          127.042259,
          126.9911499,
          127.021461,
          126.982323,
          127.016022,
          127.024727,
          127.052742,
          127.024376,
          127.025147,
          127.023521,
          127.021011,
          127.01918,
          127.007256,
          127.008019,
          127.002159,
          126.999924,
          126.993698,
          126.990067,
          126.992081,
          126.987068,
          126.989357,
          127.008781,
          127.014061,
          126.997322,
          127.041634,
          127.036438,
          127.015251,
          127.044182,
          126.996643,
          127.070335,
          127.023911,
          127.002388,
          127.0122833,
          127.0167618,
          127.0239029,
          127.0414581,
          127.098831,
          127.130341,
          127.111282,
          127.12709,
          127.143227,
          127.106194,
          127.135201,
          127.106377,
          127.11618,
          127.109299,
          127.090492,
          127.117233,
          127.120781,
          127.140106,
          127.138031,
          127.087563,
          127.0964432,
          127.112312,
          127.116257,
          127.130592,
          127.103554,
          127.108505,
          127.1238556,
          127.135109,
          127.122444,
          127.116989,
          127.096306,
          127.097397,
          127.147217,
          127.137177,
          127.086739,
          127.078812,
          127.118149,
          127.106575,
          127.107033,
          127.147781,
          127.112473,
          127.138046,
          127.081612,
          127.0912933,
          127.101074,
          127.104645,
          127.132332,
          127.138138,
          127.12458,
          127.134262,
          127.12912,
          127.133698,
          127.118843,
          127.11451,
          127.132668,
          127.1156921,
          127.1045303,
          126.827316,
          126.819443,
          126.872025,
          126.854065,
          126.816498,
          126.844414,
          126.848908,
          126.856918,
          126.841568,
          126.837448,
          126.842392,
          126.846672,
          126.827683,
          126.828217,
          126.833901,
          126.831894,
          126.830124,
          126.829781,
          126.839562,
          126.83873,
          126.836693,
          126.838799,
          126.836197,
          126.830849,
          126.828079,
          126.828095,
          126.834953,
          126.834732,
          126.829453,
          126.820107,
          126.823952,
          126.846588,
          126.828568,
          126.832069,
          126.826881,
          126.850441,
          126.8440018,
          126.8209686,
          126.8231125,
          126.8249359,
          126.895424,
          126.820015,
          126.82576,
          126.826454,
          126.821816,
          126.821907,
          126.823113,
          126.823273,
          126.822754,
          126.82547,
          126.825638,
          126.81646,
          126.817009,
          126.84037,
          126.838532,
          126.841614,
          126.853043,
          126.863533,
          126.870552,
          126.874313,
          126.889565,
          126.880394,
          126.88047,
          127.065682,
          127.06691,
          127.0439,
          127.073982,
          127.053108,
          127.058563,
          127.067452,
          127.074425,
          127.072098,
          127.073731,
          127.051529,
          127.081429,
          127.076599,
          127.046921,
          127.066574,
          127.06871,
          127.064583,
          126.903603,
          126.951073,
          126.902184,
          126.888237,
          126.890297,
          126.898361,
          126.920433,
          126.925385,
          126.933792,
          126.9872437,
          126.952164,
          126.936096,
          126.931725,
          126.94677,
          126.956207,
          126.93853,
          126.933327,
          126.941292,
          126.936943,
          126.950165,
          126.958298,
          126.959747,
          126.965523,
          126.95575,
          126.937203,
          126.945328,
          126.929855,
          126.918091,
          126.912987,
          126.906464,
          126.915108,
          126.921753,
          126.927826,
          126.922745,
          126.936287,
          126.935997,
          126.911324,
          126.918823,
          126.921188,
          126.944214,
          126.948814,
          126.966583,
          126.89917,
          126.903862,
          126.89859,
          126.898186,
          126.884819,
          126.899086,
          126.8897247,
          126.908089,
          126.911308,
          126.901054,
          126.907829,
          126.907585,
          126.913979,
          126.895302,
          126.964867,
          126.931778,
          126.956078,
          126.943642,
          126.951576,
          127.013939,
          127.00557,
          126.967011,
          127.002358,
          126.970551,
          126.9758,
          126.983391,
          126.983368,
          126.991844,
          126.994812,
          126.994545,
          126.997963,
          127.002228,
          127.010788,
          127.015617,
          127.015251,
          127.01506,
          126.997368,
          126.998856,
          127.001854,
          126.997131,
          127.000694,
          126.968269,
          126.95755,
          126.956749,
          126.963493,
          126.963089,
          126.957138,
          126.957687,
          126.988342,
          127.079697,
          127.083,
          127.084297,
          127.108955,
          127.076599,
          127.068398,
          127.061096,
          127.078003,
          127.067879,
          127.073196,
          127.08625,
          127.035103,
          127.029198,
          127.023697,
          127.042084,
          127.093246,
          127.082275,
          127.07914,
          127.084084,
          127.096619,
          127.08017,
          127.073822,
          127.02507,
          127.024391,
          127.110512,
          127.075928,
          127.02636,
          127.024841,
          127.026779,
          127.070618,
          127.069283,
          127.080742,
          127.093758,
          127.044762,
          127.132843,
          127.089958,
          127.089958,
          127.07444,
          127.043778,
          127.043358,
          127.02887,
          127.047669,
          127.071106,
          127.023201,
          127.056328,
          127.04277,
          127.043114,
          127.029152,
          127.019791,
          127.039131,
          127.04187,
          127.044601,
          127.05645,
          127.038399,
          127.091393,
          127.095757,
          127.076111,
          127.072441,
          127.08902,
          127.065407,
          127.076714,
          127.082581,
          127.085815,
          127.067452,
          127.073967,
          127.069504,
          127.077271,
          127.0942307,
          127.0735397,
          127.0496826,
          127.0943375,
          127.0639648,
          127.0539093,
          127.06073,
          127.02285,
          127.0384979,
          127.1088028,
          127.1072159,
          127.0980148,
          127.060936,
          127.0326004,
          127.0495071,
          127.1070252,
          127.0515976,
          127.0659409,
          127.0605011,
          127.0865021,
          127.0730591,
          127.0416031,
          127.0329437,
          127.0489502,
          127.0553665,
          127.0484467,
          127.0515671,
          127.1028748,
          127.0516281,
          127.0881119,
          127.0799942,
          127.0897064,
          127.1037598,
          127.0804215,
          127.0427704,
          127.0593185,
          127.0605011,
          127.0592194,
          127.1561737,
          127.1717072,
          127.1729507,
          127.142334,
          127.1450043,
          127.1257629,
          127.1394043,
          127.1425324,
          127.1517334,
          127.1441574,
          127.1370316,
          127.1654205,
          127.1269608,
          127.1368027,
          127.1612854,
          127.1717453,
          127.1721573,
          127.174469,
          127.1801376,
          127.1585999,
          127.1330948,
          127.1395493,
          127.1414795,
          127.1422806,
          127.1720352,
          127.1806412,
          127.1514893,
          127.1468811,
          127.1668854,
          127.1765366,
          127.1751404,
          127.1363525,
          127.13871,
          127.1796265,
          127.0280991,
          127.0313797,
          127.0492172,
          127.0249786,
          127.0439072,
          126.8161011,
          126.8162155,
          126.8174057,
          126.8168411,
          126.8208466,
          126.8355942,
          126.8367615,
          126.8783646,
          126.8191834,
          126.864296,
          126.841835,
          126.8444977,
          126.8437805,
          126.8447037,
          126.8631439,
          126.8214111,
          126.8165054,
          126.8167954,
          126.844307,
          126.8051834,
          126.80793,
          126.8386307,
          126.8562546,
          126.8109207,
          126.8377762,
          126.8371124,
          126.8366699,
          126.8233261,
          126.8365784,
          126.8434753,
          126.8193283,
          126.8715591,
          126.843689,
          126.8462448,
          126.8764877,
          126.8130722,
          126.8126907,
          126.8207626,
          126.8515472,
          126.8092651,
          126.8347549,
          126.9600372,
          126.9213562,
          126.9586182,
          126.9576569,
          126.934372,
          126.9584198,
          126.9227219,
          126.9471893,
          126.9627686,
          126.9152451,
          126.9768372,
          126.9494171,
          126.9213867,
          127.074707,
          127.0757141,
          127.0729752,
          127.083374,
          127.0690002,
          127.0779877,
          127.0844727,
          127.1030273,
          127.0774765,
          127.0935288,
          127.0757904,
          127.0846329,
          127.0980148,
          126.8250656,
          126.8591766,
          126.8911438,
          126.8892441,
          126.8450165,
          126.8835373,
          126.8416214,
          126.8221817,
          126.8224793,
          126.8564682,
          126.891182,
          126.8390732,
          126.8418503,
          126.8872452,
          126.8934174,
          126.9004517,
          126.898262,
          126.8892059,
          126.9137573,
          126.8918152,
          126.8917542,
          126.9059296,
          126.9080734,
          126.9072189,
          126.9037094,
          126.8867798,
          126.8974838,
          126.8944778,
          126.8808365,
          126.8768005,
          127.0597076,
          127.0665741,
          127.0755768,
          127.0752564,
          127.0696945,
          127.0698242,
          127.0521317,
          127.0569305,
          127.070755,
          127.0788422,
          127.0574417,
          127.0521698,
          127.056839,
          127.058197,
          127.0767441,
          127.083313,
          127.0588684,
          127.054451,
          127.0701904,
          127.0579376,
          127.0621414,
          127.0713043,
          127.0604172,
          127.0732727,
          127.0770416,
          127.0519486,
          127.0501785,
          127.0594559,
          127.0671539,
          127.0719528,
          127.0621338,
          127.0814667,
          127.0730133,
          127.0517426,
          127.0638886,
          127.0854874,
          127.0440979,
          127.0787506,
          127.0352707,
          127.0491638,
          127.0427094,
          127.0408249,
          127.0492935,
          127.0324326,
          127.0411606,
          127.028122,
          127.0512772,
          127.0503845,
          127.0276794,
          127.0522766,
          127.0655594,
          127.0678177,
          127.0645981,
          127.057991,
          127.0718536,
          127.0578919,
          127.0302429,
          127.0402985,
          127.0682755,
          127.0669251,
          127.065361,
          127.0336227,
          127.0299225,
          127.0668945,
          127.0595627,
          126.9415131,
          126.9612808,
          126.9285049,
          126.9471359,
          126.9036484,
          126.9279785,
          126.9088135,
          126.9502564,
          126.9274139,
          126.926727,
          126.931633,
          126.9188538,
          126.9198685,
          126.9118424,
          126.9167175,
          126.8815613,
          126.9081497,
          126.8901825,
          126.9048004,
          126.8968887,
          126.8895798,
          126.9320374,
          126.9605255,
          126.9467697,
          126.882164,
          126.9466934,
          126.9214325,
          126.9595184,
          126.898674,
          126.9077988,
          126.9514771,
          126.9491653,
          126.9176865,
          126.9354401,
          127.038887,
          127.0073624,
          127.0222244,
          127.003479,
          127.0094528,
          127.0590057,
          127.0499573,
          127.0065308,
          126.9964676,
          127.0554428,
          127.0290527,
          127.0059433,
          127.0424118,
          126.9975891,
          127.0218277,
          127.0414429,
          127.0428314,
          127.0539169,
          126.9914703,
          127.0026474,
          127.0331574,
          127.0001831,
          127.0499878,
          127.0595779,
          127.0415497,
          127.0198898,
          127.0343552,
          127.044754,
          127.0484924,
          127.0597153,
          127.0484467,
          127.0575943,
          127.0346603,
          127.0309525,
          127.0219803,
          127.0998535,
          127.1432648,
          127.1524429,
          127.136795,
          127.1091309,
          127.1258926,
          127.1187592,
          127.1219406,
          127.1172867,
          127.125946,
          127.1280441,
          127.1246033,
          127.1327057,
          127.1103287,
          127.1437302,
          127.159668,
          127.1542969,
          127.1266403,
          127.1287842,
          127.1266708,
          127.1306839,
          127.1174545,
          127.1275101,
          127.084343,
          127.1036224,
          127.1043091,
          127.103508,
          127.128624,
          127.1320572,
          127.1267853,
          127.1469421,
          127.1079407,
          127.0792694,
          127.1365509,
          127.1086655,
          126.8549576,
          126.8732071,
          126.8592835,
          126.8522873,
          126.8699875,
          126.8693008,
          126.8611755,
          126.8300095,
          126.8331223,
          126.8447495,
          126.8237381,
          126.8409576,
          126.8416138,
          126.8268127,
          126.8749847,
          126.8847504,
          126.8667984,
          126.8288651,
          126.8840866,
          126.8780594,
          126.8346634,
          126.8604279,
          126.8738327,
          126.9019775,
          126.8986359,
          126.900177,
          126.8885117,
          126.8902664,
          126.9062653,
          126.9169846,
          126.8936539,
          126.8860016,
          126.9344864,
          126.9396591,
          126.9036484,
          126.8961563,
          126.90802,
          126.9122086,
          126.9133453,
          126.8845978,
          126.9121399,
          126.9054031,
          126.9083557,
          126.91745,
          126.9202805,
          126.9140472,
          126.9131699,
          126.9128952,
          126.9181747,
          126.9174728,
          126.9151077,
          126.9179916,
          126.8904953,
          126.9271164,
          126.9281082,
          126.9158859,
          126.9176331,
          126.8903656,
          126.8818359,
          126.9002914,
          126.8944778,
          126.9643021,
          126.9555588,
          126.9572372,
          126.9592209,
          126.9797134,
          126.9776764,
          126.9719238,
          127.0054169,
          127.0037613,
          127.0008469,
          126.9994888,
          126.9913788,
          126.964119,
          126.9551163,
          126.9525299,
          126.96241,
          126.974083,
          126.9920883,
          126.9961929,
          126.9731903,
          126.9635544,
          126.9645996,
          126.9958344,
          126.9661789,
          126.9075928,
          126.9304886,
          126.8944626,
          126.9221573,
          126.9354248,
          126.9199982,
          126.9278641,
          126.91716,
          126.9301148,
          126.931778,
          126.9197998,
          126.9195862,
          126.9314804,
          126.9168854,
          126.9196243,
          126.9265366,
          126.9676361,
          127.0126801,
          126.9891281,
          126.9921188,
          126.9828339,
          126.9645157,
          126.9712372,
          126.9993439,
          126.9906235,
          126.9695511,
          126.964859,
          126.9726181,
          126.9736404,
          126.9908829,
          126.9825821,
          127.0094605,
          126.9687805,
          126.9768372,
          126.972496,
          126.981781,
          126.9842758,
          126.9809418,
          127.0091934,
          126.9874268,
          126.9680176,
          126.9684906,
          126.9907684,
          126.9877396,
          126.9874954,
          126.9983139,
          127.0064774,
          126.9694214,
          126.9792557,
          126.9689407,
          127.0220413,
          127.1010437,
          127.0802841,
          127.0847778,
          127.0784607,
          127.0940476,
          127.096283,
          127.0941544,
          127.0773468,
          127.0963898,
          127.1039963,
          127.0835495,
          127.091713,
          127.1046372,
          127.0884476,
          127.0897903,
          127.100502,
          127.0824204,
          127.11306,
          127.0973663,
          127.0974121,
          127.0953217,
          127.1040497,
          127.123169,
          127.1592484,
          127.1179886,
          127.1460495,
          127.1145706,
          127.126297,
          127.1002808,
          127.1219559,
          127.1520386,
          127.1158829,
          127.0776138,
          127.1105499,
          127.1149826,
          127.1184311,
          127.1012421,
          127.08461,
          127.1123276,
          127.1304016,
          127.134613,
          127.1348648,
          127.0851669,
          127.1399231,
          127.0925369,
          127.1565933,
          127.1119614,
          127.139473,
          127.1522675,
          127.1532822,
          127.1168366,
          127.123703,
          127.096756,
          127.1134872,
          127.139061,
          127.1510925,
          127.1491928,
          127.1182098,
          127.1148377,
          127.1150894,
          127.1420593,
          127.1416931,
          127.0938034,
          127.0393753,
          126.8243866,
          126.8075409,
          126.8270493,
          126.827179,
          126.8274384,
          126.8546219,
          126.8375168,
          126.8245544,
          126.8233185,
          126.8398819,
          126.8503876,
          126.8329773,
          126.8723373,
          126.8186951,
          126.8070831,
          126.8362351,
          126.8257599,
          126.8635712,
          126.898018,
          126.96048,
          126.929237,
          126.919357,
          126.977577,
          126.97747,
          126.976738,
          127.002533,
          127.018425,
          127.016953,
          127.018478,
          127.054237,
          127.057938,
          127.077004,
          126.854897,
          127.142624,
          127.035027,
          127.0363922,
          127.021507,
          127.082367,
          127.098778,
          127.044533,
          127.01368,
          127.066933,
          127.066139,
          126.959152,
          126.929512,
          127.028259,
          126.992462,
          127.080978,
          127.127113,
          127.123108,
          127.115402,
          127.091293,
          127.078987,
          126.920433,
          127.1612854,
          126.8510056,
          126.8416214,
          127.0584564,
          127.028122,
          127.069809,
          127.1524429,
          127.1103287,
          127.1469421,
          127.012413,
          127.0054703,
          126.97747,
          127.013855,
          126.973305,
          126.97258,
          null,
          126.965019,
          127.087517,
          126.926147,
          126.905754,
          126.942299,
          126.905548,
          126.902847,
          null,
          126.826279,
          126.831238,
          126.889969,
          126.946755,
          126.962364,
          127.027016,
          126.982956,
          127.040909,
          127.096443
         ],
         "marker": {
          "color": "brown",
          "opacity": 0.2
         },
         "mode": "markers",
         "name": "",
         "showlegend": false,
         "subplot": "mapbox",
         "type": "scattermapbox"
        },
        {
         "customdata": [
          [
           9996
          ],
          [
           9995
          ],
          [
           4929
          ],
          [
           4928
          ],
          [
           4927
          ],
          [
           4926
          ],
          [
           4925
          ],
          [
           4924
          ],
          [
           4923
          ],
          [
           4922
          ],
          [
           4921
          ],
          [
           4920
          ],
          [
           4815
          ],
          [
           4814
          ],
          [
           4813
          ],
          [
           4812
          ],
          [
           4811
          ],
          [
           4810
          ],
          [
           4809
          ],
          [
           4808
          ],
          [
           4807
          ],
          [
           4806
          ],
          [
           4805
          ],
          [
           4804
          ],
          [
           4713
          ],
          [
           4712
          ],
          [
           4711
          ],
          [
           4710
          ],
          [
           4709
          ],
          [
           4708
          ],
          [
           4707
          ],
          [
           4706
          ],
          [
           4705
          ],
          [
           4704
          ],
          [
           4703
          ],
          [
           4702
          ],
          [
           4701
          ],
          [
           4615
          ],
          [
           4614
          ],
          [
           4613
          ],
          [
           4612
          ],
          [
           4611
          ],
          [
           4610
          ],
          [
           4609
          ],
          [
           4608
          ],
          [
           4607
          ],
          [
           4606
          ],
          [
           4605
          ],
          [
           4604
          ],
          [
           4603
          ],
          [
           4602
          ],
          [
           4601
          ],
          [
           4517
          ],
          [
           4515
          ],
          [
           4514
          ],
          [
           4513
          ],
          [
           4512
          ],
          [
           4511
          ],
          [
           4510
          ],
          [
           4509
          ],
          [
           4508
          ],
          [
           4506
          ],
          [
           4505
          ],
          [
           4504
          ],
          [
           4503
          ],
          [
           4502
          ],
          [
           4501
          ],
          [
           4319
          ],
          [
           4318
          ],
          [
           4317
          ],
          [
           4316
          ],
          [
           4315
          ],
          [
           4314
          ],
          [
           4313
          ],
          [
           4312
          ],
          [
           4311
          ],
          [
           4310
          ],
          [
           4309
          ],
          [
           4308
          ],
          [
           4307
          ],
          [
           4217
          ],
          [
           4215
          ],
          [
           4213
          ],
          [
           4212
          ],
          [
           4211
          ],
          [
           4210
          ],
          [
           4209
          ],
          [
           4208
          ],
          [
           4207
          ],
          [
           4206
          ],
          [
           4204
          ],
          [
           4203
          ],
          [
           4202
          ],
          [
           4201
          ],
          [
           4138
          ],
          [
           4137
          ],
          [
           4136
          ],
          [
           4135
          ],
          [
           4134
          ],
          [
           4133
          ],
          [
           4132
          ],
          [
           4131
          ],
          [
           4130
          ],
          [
           4129
          ],
          [
           4128
          ],
          [
           4127
          ],
          [
           4126
          ],
          [
           4125
          ],
          [
           4124
          ],
          [
           4123
          ],
          [
           4122
          ],
          [
           4121
          ],
          [
           4120
          ],
          [
           4119
          ],
          [
           4118
          ],
          [
           4117
          ],
          [
           4116
          ],
          [
           4115
          ],
          [
           4114
          ],
          [
           4113
          ],
          [
           4112
          ],
          [
           4111
          ],
          [
           4110
          ],
          [
           4109
          ],
          [
           4108
          ],
          [
           4107
          ],
          [
           4106
          ],
          [
           4105
          ],
          [
           4104
          ],
          [
           4103
          ],
          [
           4102
          ],
          [
           4101
          ],
          [
           3763
          ],
          [
           3762
          ],
          [
           3227
          ],
          [
           3226
          ],
          [
           3225
          ],
          [
           3224
          ],
          [
           3223
          ],
          [
           3222
          ],
          [
           3221
          ],
          [
           3220
          ],
          [
           3219
          ],
          [
           3218
          ],
          [
           3217
          ],
          [
           3216
          ],
          [
           3215
          ],
          [
           3214
          ],
          [
           3213
          ],
          [
           3212
          ],
          [
           3211
          ],
          [
           3210
          ],
          [
           3209
          ],
          [
           3208
          ],
          [
           3207
          ],
          [
           3206
          ],
          [
           3205
          ],
          [
           3204
          ],
          [
           3203
          ],
          [
           3202
          ],
          [
           3201
          ],
          [
           3139
          ],
          [
           3138
          ],
          [
           3137
          ],
          [
           3136
          ],
          [
           3135
          ],
          [
           3134
          ],
          [
           3133
          ],
          [
           3132
          ],
          [
           3131
          ],
          [
           3130
          ],
          [
           3129
          ],
          [
           3128
          ],
          [
           3127
          ],
          [
           3126
          ],
          [
           3125
          ],
          [
           3124
          ],
          [
           3123
          ],
          [
           3122
          ],
          [
           3121
          ],
          [
           3120
          ],
          [
           3119
          ],
          [
           3118
          ],
          [
           3117
          ],
          [
           3116
          ],
          [
           3115
          ],
          [
           3114
          ],
          [
           3113
          ],
          [
           3112
          ],
          [
           3111
          ],
          [
           3110
          ],
          [
           2828
          ],
          [
           2827
          ],
          [
           2826
          ],
          [
           2825
          ],
          [
           2824
          ],
          [
           2823
          ],
          [
           2822
          ],
          [
           2821
          ],
          [
           2820
          ],
          [
           2819
          ],
          [
           2818
          ],
          [
           2817
          ],
          [
           2816
          ],
          [
           2815
          ],
          [
           2814
          ],
          [
           2813
          ],
          [
           2812
          ],
          [
           2811
          ],
          [
           2761
          ],
          [
           2760
          ],
          [
           2759
          ],
          [
           2758
          ],
          [
           2757
          ],
          [
           2756
          ],
          [
           2755
          ],
          [
           2754
          ],
          [
           2753
          ],
          [
           2752
          ],
          [
           2751
          ],
          [
           2750
          ],
          [
           2749
          ],
          [
           2748
          ],
          [
           2747
          ],
          [
           2746
          ],
          [
           2745
          ],
          [
           2744
          ],
          [
           2743
          ],
          [
           2742
          ],
          [
           2741
          ],
          [
           2740
          ],
          [
           2739
          ],
          [
           2738
          ],
          [
           2737
          ],
          [
           2736
          ],
          [
           2735
          ],
          [
           2734
          ],
          [
           2733
          ],
          [
           2732
          ],
          [
           2731
          ],
          [
           2730
          ],
          [
           2729
          ],
          [
           2728
          ],
          [
           2727
          ],
          [
           2726
          ],
          [
           2725
          ],
          [
           2724
          ],
          [
           2723
          ],
          [
           2722
          ],
          [
           2721
          ],
          [
           2720
          ],
          [
           2719
          ],
          [
           2718
          ],
          [
           2717
          ],
          [
           2716
          ],
          [
           2715
          ],
          [
           2714
          ],
          [
           2713
          ],
          [
           2712
          ],
          [
           2711
          ],
          [
           2649
          ],
          [
           2648
          ],
          [
           2647
          ],
          [
           2646
          ],
          [
           2645
          ],
          [
           2644
          ],
          [
           2643
          ],
          [
           2642
          ],
          [
           2641
          ],
          [
           2640
          ],
          [
           2639
          ],
          [
           2638
          ],
          [
           2637
          ],
          [
           2636
          ],
          [
           2635
          ],
          [
           2634
          ],
          [
           2633
          ],
          [
           2632
          ],
          [
           2631
          ],
          [
           2630
          ],
          [
           2629
          ],
          [
           2628
          ],
          [
           2627
          ],
          [
           2626
          ],
          [
           2625
          ],
          [
           2624
          ],
          [
           2623
          ],
          [
           2622
          ],
          [
           2621
          ],
          [
           2620
          ],
          [
           2619
          ],
          [
           2618
          ],
          [
           2617
          ],
          [
           2616
          ],
          [
           2615
          ],
          [
           2614
          ],
          [
           2613
          ],
          [
           2612
          ],
          [
           2611
          ],
          [
           2566
          ],
          [
           2565
          ],
          [
           2564
          ],
          [
           2563
          ],
          [
           2562
          ],
          [
           2561
          ],
          [
           2560
          ],
          [
           2559
          ],
          [
           2558
          ],
          [
           2557
          ],
          [
           2556
          ],
          [
           2555
          ],
          [
           2554
          ],
          [
           2553
          ],
          [
           2552
          ],
          [
           2551
          ],
          [
           2550
          ],
          [
           2549
          ],
          [
           2548
          ],
          [
           2547
          ],
          [
           2546
          ],
          [
           2545
          ],
          [
           2544
          ],
          [
           2543
          ],
          [
           2542
          ],
          [
           2541
          ],
          [
           2540
          ],
          [
           2539
          ],
          [
           2538
          ],
          [
           2537
          ],
          [
           2536
          ],
          [
           2535
          ],
          [
           2534
          ],
          [
           2533
          ],
          [
           2532
          ],
          [
           2531
          ],
          [
           2530
          ],
          [
           2529
          ],
          [
           2528
          ],
          [
           2527
          ],
          [
           2526
          ],
          [
           2525
          ],
          [
           2524
          ],
          [
           2523
          ],
          [
           2522
          ],
          [
           2521
          ],
          [
           2520
          ],
          [
           2519
          ],
          [
           2518
          ],
          [
           2517
          ],
          [
           2516
          ],
          [
           2515
          ],
          [
           2514
          ],
          [
           2513
          ],
          [
           2512
          ],
          [
           2511
          ],
          [
           1958
          ],
          [
           1957
          ],
          [
           1956
          ],
          [
           1955
          ],
          [
           1954
          ],
          [
           1953
          ],
          [
           1952
          ],
          [
           1951
          ],
          [
           1950
          ],
          [
           1949
          ],
          [
           1948
          ],
          [
           1916
          ],
          [
           1915
          ],
          [
           1914
          ],
          [
           1913
          ],
          [
           1912
          ],
          [
           1911
          ],
          [
           1910
          ],
          [
           1909
          ],
          [
           1908
          ],
          [
           1907
          ],
          [
           1906
          ],
          [
           1905
          ],
          [
           1904
          ],
          [
           1903
          ],
          [
           1902
          ],
          [
           1901
          ],
          [
           1891
          ],
          [
           1890
          ],
          [
           1889
          ],
          [
           1888
          ],
          [
           1886
          ],
          [
           1885
          ],
          [
           1884
          ],
          [
           1883
          ],
          [
           1882
          ],
          [
           1881
          ],
          [
           1880
          ],
          [
           1879
          ],
          [
           1878
          ],
          [
           1877
          ],
          [
           1876
          ],
          [
           1875
          ],
          [
           1874
          ],
          [
           1873
          ],
          [
           1872
          ],
          [
           1871
          ],
          [
           1870
          ],
          [
           1869
          ],
          [
           1868
          ],
          [
           1867
          ],
          [
           1866
          ],
          [
           1865
          ],
          [
           1864
          ],
          [
           1863
          ],
          [
           1862
          ],
          [
           1861
          ],
          [
           1860
          ],
          [
           1859
          ],
          [
           1858
          ],
          [
           1857
          ],
          [
           1856
          ],
          [
           1855
          ],
          [
           1854
          ],
          [
           1853
          ],
          [
           1852
          ],
          [
           1851
          ],
          [
           1850
          ],
          [
           1849
          ],
          [
           1848
          ],
          [
           1847
          ],
          [
           1846
          ],
          [
           1823
          ],
          [
           1822
          ],
          [
           1821
          ],
          [
           1817
          ],
          [
           1816
          ],
          [
           1815
          ],
          [
           1814
          ],
          [
           1813
          ],
          [
           1812
          ],
          [
           1811
          ],
          [
           1810
          ],
          [
           1809
          ],
          [
           1808
          ],
          [
           1807
          ],
          [
           1806
          ],
          [
           1805
          ],
          [
           1804
          ],
          [
           1803
          ],
          [
           1802
          ],
          [
           1801
          ],
          [
           1763
          ],
          [
           1762
          ],
          [
           1761
          ],
          [
           1760
          ],
          [
           1759
          ],
          [
           1758
          ],
          [
           1757
          ],
          [
           1756
          ],
          [
           1755
          ],
          [
           1754
          ],
          [
           1753
          ],
          [
           1752
          ],
          [
           1751
          ],
          [
           1750
          ],
          [
           1749
          ],
          [
           1729
          ],
          [
           1728
          ],
          [
           1727
          ],
          [
           1726
          ],
          [
           1725
          ],
          [
           1724
          ],
          [
           1723
          ],
          [
           1722
          ],
          [
           1721
          ],
          [
           1720
          ],
          [
           1719
          ],
          [
           1718
          ],
          [
           1717
          ],
          [
           1716
          ],
          [
           1715
          ],
          [
           1714
          ],
          [
           1713
          ],
          [
           1712
          ],
          [
           1711
          ],
          [
           1710
          ],
          [
           1709
          ],
          [
           1708
          ],
          [
           1707
          ],
          [
           1706
          ],
          [
           1705
          ],
          [
           1704
          ],
          [
           1703
          ],
          [
           1702
          ],
          [
           1701
          ],
          [
           1511
          ],
          [
           1510
          ],
          [
           1509
          ],
          [
           1508
          ],
          [
           1507
          ],
          [
           1506
          ],
          [
           1505
          ],
          [
           1504
          ],
          [
           1503
          ],
          [
           1502
          ],
          [
           1501
          ],
          [
           1458
          ],
          [
           1457
          ],
          [
           1456
          ],
          [
           1455
          ],
          [
           1454
          ],
          [
           1453
          ],
          [
           1452
          ],
          [
           1451
          ],
          [
           1450
          ],
          [
           1408
          ],
          [
           1407
          ],
          [
           1405
          ],
          [
           1404
          ],
          [
           1403
          ],
          [
           1402
          ],
          [
           1401
          ],
          [
           1329
          ],
          [
           1328
          ],
          [
           1327
          ],
          [
           1326
          ],
          [
           1325
          ],
          [
           1324
          ],
          [
           1323
          ],
          [
           1322
          ],
          [
           1321
          ],
          [
           1320
          ],
          [
           1319
          ],
          [
           1318
          ],
          [
           1317
          ],
          [
           1316
          ],
          [
           1315
          ],
          [
           1314
          ],
          [
           1313
          ],
          [
           1312
          ],
          [
           1311
          ],
          [
           1294
          ],
          [
           1293
          ],
          [
           1292
          ],
          [
           1291
          ],
          [
           1285
          ],
          [
           1284
          ],
          [
           1283
          ],
          [
           1282
          ],
          [
           1280
          ],
          [
           1279
          ],
          [
           1278
          ],
          [
           1277
          ],
          [
           1276
          ],
          [
           1275
          ],
          [
           1274
          ],
          [
           1273
          ],
          [
           1272
          ],
          [
           1271
          ],
          [
           1270
          ],
          [
           1269
          ],
          [
           1268
          ],
          [
           1267
          ],
          [
           1266
          ],
          [
           1265
          ],
          [
           1264
          ],
          [
           1263
          ],
          [
           1262
          ],
          [
           1261
          ],
          [
           1252
          ],
          [
           1251
          ],
          [
           1220
          ],
          [
           1219
          ],
          [
           1218
          ],
          [
           1217
          ],
          [
           1216
          ],
          [
           1215
          ],
          [
           1214
          ],
          [
           1213
          ],
          [
           1212
          ],
          [
           1211
          ],
          [
           1210
          ],
          [
           1209
          ],
          [
           1208
          ],
          [
           1207
          ],
          [
           1206
          ],
          [
           1205
          ],
          [
           1204
          ],
          [
           1203
          ],
          [
           1202
          ],
          [
           1201
          ],
          [
           1032
          ],
          [
           1031
          ],
          [
           1030
          ],
          [
           1028
          ],
          [
           1027
          ],
          [
           1026
          ],
          [
           1025
          ],
          [
           1024
          ],
          [
           1023
          ],
          [
           1022
          ],
          [
           1021
          ],
          [
           1020
          ],
          [
           1019
          ],
          [
           1018
          ],
          [
           1017
          ],
          [
           1016
          ],
          [
           1015
          ],
          [
           1014
          ],
          [
           1013
          ],
          [
           1012
          ],
          [
           1011
          ],
          [
           1010
          ],
          [
           1009
          ],
          [
           1008
          ],
          [
           1007
          ],
          [
           1006
          ],
          [
           1005
          ],
          [
           1004
          ],
          [
           1003
          ],
          [
           1002
          ],
          [
           1001
          ],
          [
           434
          ],
          [
           433
          ],
          [
           432
          ],
          [
           431
          ],
          [
           430
          ],
          [
           429
          ],
          [
           428
          ],
          [
           427
          ],
          [
           426
          ],
          [
           425
          ],
          [
           424
          ],
          [
           423
          ],
          [
           422
          ],
          [
           421
          ],
          [
           420
          ],
          [
           419
          ],
          [
           418
          ],
          [
           417
          ],
          [
           416
          ],
          [
           415
          ],
          [
           414
          ],
          [
           413
          ],
          [
           412
          ],
          [
           411
          ],
          [
           410
          ],
          [
           409
          ],
          [
           342
          ],
          [
           341
          ],
          [
           340
          ],
          [
           339
          ],
          [
           338
          ],
          [
           337
          ],
          [
           336
          ],
          [
           335
          ],
          [
           334
          ],
          [
           333
          ],
          [
           332
          ],
          [
           331
          ],
          [
           330
          ],
          [
           329
          ],
          [
           328
          ],
          [
           327
          ],
          [
           326
          ],
          [
           325
          ],
          [
           324
          ],
          [
           323
          ],
          [
           322
          ],
          [
           321
          ],
          [
           320
          ],
          [
           319
          ],
          [
           318
          ],
          [
           317
          ],
          [
           316
          ],
          [
           315
          ],
          [
           314
          ],
          [
           313
          ],
          [
           312
          ],
          [
           311
          ],
          [
           310
          ],
          [
           309
          ],
          [
           250
          ],
          [
           249
          ],
          [
           248
          ],
          [
           247
          ],
          [
           246
          ],
          [
           245
          ],
          [
           244
          ],
          [
           243
          ],
          [
           242
          ],
          [
           241
          ],
          [
           240
          ],
          [
           239
          ],
          [
           238
          ],
          [
           237
          ],
          [
           236
          ],
          [
           235
          ],
          [
           234
          ],
          [
           233
          ],
          [
           232
          ],
          [
           231
          ],
          [
           230
          ],
          [
           229
          ],
          [
           228
          ],
          [
           227
          ],
          [
           226
          ],
          [
           225
          ],
          [
           224
          ],
          [
           223
          ],
          [
           222
          ],
          [
           221
          ],
          [
           220
          ],
          [
           219
          ],
          [
           218
          ],
          [
           217
          ],
          [
           216
          ],
          [
           215
          ],
          [
           214
          ],
          [
           213
          ],
          [
           212
          ],
          [
           211
          ],
          [
           210
          ],
          [
           209
          ],
          [
           208
          ],
          [
           207
          ],
          [
           206
          ],
          [
           205
          ],
          [
           204
          ],
          [
           203
          ],
          [
           202
          ],
          [
           201
          ],
          [
           159
          ],
          [
           158
          ],
          [
           157
          ],
          [
           156
          ],
          [
           155
          ],
          [
           154
          ],
          [
           153
          ],
          [
           152
          ],
          [
           151
          ],
          [
           150
          ]
         ],
         "hovertemplate": "<b>%{hovertext}</b><br><br>위도=%{lat}<br>경도=%{lon}<br>역사_ID=%{customdata[0]}<extra></extra>",
         "hovertext": [
          "미사",
          "강일",
          "김포공항",
          "고촌",
          "풍무",
          "사우(김포시청)",
          "걸포북변",
          "운양",
          "장기",
          "마산",
          "구래",
          "양촌",
          "원시",
          "원곡",
          "초지",
          "선부",
          "달미",
          "시흥능곡",
          "시흥시청",
          "신현",
          "신천",
          "시흥대야",
          "소새울",
          "소사",
          "신설동",
          "보문",
          "성신여대입구(돈암)",
          "정릉",
          "북한산보국문",
          "솔샘",
          "삼양사거리",
          "삼양",
          "화계",
          "가오리",
          "4.19민주묘지",
          "솔밭공원",
          "북한산우이",
          "탑석",
          "송산",
          "어룡",
          "곤제",
          "효자",
          "경기도청북부청사",
          "새말",
          "동오",
          "의정부중앙",
          "흥선",
          "의정부시청",
          "경전철의정부",
          "범골",
          "회룡",
          "발곡",
          "전대.에버랜드",
          "둔전",
          "보평",
          "고진",
          "운동장.송담대",
          "김량장",
          "명지대",
          "시청.용인대",
          "삼가",
          "초당",
          "동백",
          "어정",
          "지석",
          "강남대",
          "기흥",
          "광교(경기대)",
          "광교중앙(아주대)",
          "상현",
          "성복",
          "수지구청",
          "동천",
          "미금",
          "정자",
          "판교",
          "청계산입구",
          "양재시민의숲(매헌)",
          "양재(서초구청)",
          "강남",
          "영종",
          "인천공항2터미널",
          "인천공항1터미널",
          "공항화물청사",
          "운서",
          "청라국제도시",
          "검암",
          "계양",
          "김포공항",
          "마곡나루",
          "디지털미디어시티",
          "홍대입구",
          "공덕",
          "서울역",
          "중앙보훈병원",
          "둔촌오륜",
          "올림픽공원(한국체대)",
          "한성백제",
          "송파나루",
          "석촌",
          "석촌고분",
          "삼전",
          "종합운동장",
          "봉은사",
          "삼성중앙",
          "선정릉",
          "언주",
          "신논현",
          "사평",
          "고속터미널",
          "신반포",
          "구반포",
          "동작(현충원)",
          "흑석(중앙대입구)",
          "노들",
          "노량진",
          "샛강",
          "여의도",
          "국회의사당",
          "당산",
          "선유도",
          "신목동",
          "염창",
          "등촌",
          "증미",
          "가양",
          "양천향교",
          "마곡나루",
          "신방화",
          "공항시장",
          "김포공항",
          "개화",
          "석남(거북시장)",
          "산곡",
          "운연(서창)",
          "인천대공원",
          "남동구청",
          "만수",
          "모래내시장",
          "석천사거리",
          "인천시청",
          "석바위시장",
          "시민공원(문화창작지대)",
          "주안",
          "주안국가산단",
          "가재울",
          "인천가좌",
          "서부여성회관",
          "석남(거북시장)",
          "가정중앙시장",
          "가정(루원시티)",
          "서구청",
          "아시아드경기장(공촌사거리)",
          "검바위",
          "검암",
          "독정",
          "완정",
          "마전",
          "검단사거리",
          "왕길",
          "검단오류(검단산업단지)",
          "송도달빛축제공원",
          "국제업무지구",
          "센트럴파크",
          "인천대입구",
          "지식정보단지",
          "테크노파크",
          "캠퍼스타운",
          "동막",
          "동춘",
          "원인재",
          "신연수",
          "선학",
          "문학경기장",
          "인천터미널",
          "예술회관",
          "인천시청",
          "간석오거리",
          "부평삼거리",
          "동수",
          "부평",
          "부평시장",
          "부평구청",
          "갈산",
          "작전",
          "경인교대입구",
          "계산",
          "임학",
          "박촌",
          "귤현",
          "계양",
          "남위례",
          "모란",
          "수진",
          "신흥",
          "단대오거리",
          "남한산성입구(성남법원.검찰청)",
          "산성",
          "복정",
          "장지",
          "문정",
          "가락시장",
          "송파",
          "석촌",
          "잠실(송파구청)",
          "몽촌토성(평화의문)",
          "강동구청",
          "천호(풍납토성)",
          "암사",
          "부평구청",
          "굴포천",
          "삼산체육관",
          "상동",
          "부천시청",
          "신중동",
          "춘의",
          "부천종합운동장",
          "까치울",
          "온수(성공회대입구)",
          "천왕",
          "광명사거리",
          "철산",
          "가산디지털단지",
          "남구로",
          "대림(구로구청)",
          "신풍",
          "보라매",
          "신대방삼거리",
          "장승배기",
          "상도",
          "숭실대입구(살피재)",
          "남성",
          "이수",
          "내방",
          "고속터미널",
          "반포",
          "논현",
          "학동",
          "강남구청",
          "청담",
          "뚝섬유원지",
          "건대입구",
          "어린이대공원(세종대)",
          "군자(능동)",
          "중곡",
          "용마산",
          "사가정",
          "면목",
          "상봉(시외버스터미널)",
          "중화",
          "먹골",
          "태릉입구",
          "공릉(서울과학기술대)",
          "하계",
          "중계",
          "노원",
          "마들",
          "수락산",
          "도봉산",
          "장암",
          "신내",
          "봉화산(서울의료원)",
          "화랑대(서울여대입구)",
          "태릉입구",
          "석계",
          "돌곶이",
          "상월곡(한국과학기술연구원)",
          "월곡(동덕여대)",
          "고려대(종암)",
          "안암(고대병원앞)",
          "보문",
          "창신",
          "동묘앞",
          "신당",
          "청구",
          "약수",
          "버티고개",
          "한강진",
          "이태원",
          "녹사평(용산구청)",
          "삼각지",
          "효창공원앞",
          "공덕",
          "대흥(서강대앞)",
          "광흥창(서강)",
          "상수",
          "합정",
          "망원",
          "마포구청",
          "월드컵경기장(성산)",
          "디지털미디어시티",
          "증산(명지대앞)",
          "새절(신사)",
          "구산",
          "연신내",
          "독바위",
          "불광",
          "역촌",
          "응암",
          "하남시청(덕풍-신장)",
          "하남검단산",
          "하남풍산",
          "미사",
          "강일",
          "마천",
          "거여",
          "개롱",
          "오금",
          "방이",
          "올림픽공원(한국체대)",
          "둔촌동",
          "상일동",
          "고덕",
          "명일",
          "굽은다리(강동구민회관앞)",
          "길동",
          "강동",
          "천호(풍납토성)",
          "광나루(장신대)",
          "아차산(어린이대공원후문)",
          "군자(능동)",
          "장한평",
          "답십리",
          "마장",
          "왕십리(성동구청)",
          "행당",
          "신금호",
          "청구",
          "동대문역사문화공원",
          "을지로4가",
          "종로3가",
          "광화문(세종문화회관)",
          "서대문",
          "충정로(경기대입구)",
          "애오개",
          "공덕",
          "마포",
          "여의나루",
          "여의도",
          "신길",
          "영등포시장",
          "영등포구청",
          "양평",
          "오목교(목동운동장앞)",
          "목동",
          "신정(은행정)",
          "까치산",
          "화곡",
          "우장산",
          "발산",
          "마곡",
          "송정",
          "김포공항",
          "개화산",
          "방화",
          "대화",
          "주엽",
          "정발산",
          "마두",
          "백석",
          "대곡",
          "화정",
          "원당",
          "삼송",
          "지축",
          "원흥",
          "소요산",
          "동두천",
          "보산",
          "동두천중앙",
          "지행",
          "덕정",
          "덕계",
          "양주",
          "녹양",
          "가능",
          "의정부",
          "회룡",
          "망월사",
          "도봉산",
          "도봉",
          "방학",
          "인천",
          "신포",
          "숭의",
          "인하대",
          "송도",
          "연수",
          "원인재",
          "남동인더스파크",
          "호구포",
          "인천논현",
          "소래포구",
          "월곶",
          "달월",
          "사리",
          "야목",
          "어천",
          "오목천",
          "고색",
          "매교",
          "수원시청",
          "매탄권선",
          "망포",
          "영통",
          "청명",
          "상갈",
          "기흥",
          "신갈",
          "구성",
          "죽전",
          "보정",
          "이매",
          "오리",
          "미금",
          "정자",
          "수내",
          "서현",
          "야탑",
          "모란",
          "태평",
          "가천대",
          "선정릉",
          "강남구청",
          "압구정로데오",
          "서울숲",
          "수원",
          "도화",
          "중동",
          "온수(성공회대입구)",
          "도원",
          "간석",
          "부개",
          "소사",
          "구일",
          "인천",
          "동인천",
          "제물포",
          "주안",
          "동암",
          "백운",
          "부평",
          "송내",
          "부천",
          "역곡",
          "오류동",
          "개봉",
          "수리산",
          "오이도",
          "정왕",
          "신길온천",
          "안산",
          "초지",
          "고잔",
          "중앙",
          "한대앞",
          "상록수",
          "반월",
          "대야미",
          "산본",
          "광명",
          "서동탄",
          "당정",
          "천안",
          "두정",
          "직산",
          "성환",
          "평택",
          "지제",
          "서정리",
          "송탄",
          "진위",
          "오산",
          "오산대",
          "세마",
          "병점",
          "세류",
          "독산",
          "수원",
          "화서",
          "성균관대",
          "의왕",
          "군포",
          "금정",
          "명학",
          "안양",
          "관악",
          "석수",
          "금천구청",
          "가산디지털단지",
          "구로",
          "여주",
          "세종대왕릉",
          "부발",
          "이천",
          "신둔도예촌",
          "곤지암",
          "초월",
          "경기광주",
          "삼동",
          "이매",
          "판교",
          "금정",
          "범계",
          "평촌",
          "인덕원",
          "정부과천청사",
          "과천",
          "대공원",
          "경마공원",
          "선바위",
          "신창(순천향대)",
          "온양온천",
          "배방",
          "탕정",
          "아산",
          "쌍용(나사렛대)",
          "봉명",
          "춘천",
          "남춘천",
          "김유정",
          "강촌",
          "백양리",
          "굴봉산",
          "가평",
          "상천",
          "청평",
          "대성리",
          "마석",
          "천마산",
          "평내호평",
          "금곡",
          "사릉",
          "퇴계원",
          "별내",
          "갈매",
          "신내",
          "디지털미디어시티",
          "홍대입구",
          "공덕",
          "서울역",
          "임진강",
          "문산",
          "파주",
          "월롱",
          "금촌",
          "금릉",
          "운정",
          "야당",
          "탄현",
          "일산",
          "풍산",
          "백마",
          "곡산",
          "능곡",
          "행신",
          "강매",
          "화전",
          "수색",
          "디지털미디어시티",
          "가좌",
          "홍대입구",
          "서강대",
          "공덕",
          "효창공원앞",
          "신촌",
          "서울역",
          "지평",
          "용문",
          "원덕",
          "양평",
          "오빈",
          "아신",
          "국수",
          "신원",
          "양수",
          "운길산",
          "팔당",
          "도심",
          "덕소",
          "양정",
          "도농",
          "구리",
          "양원",
          "망우",
          "상봉(시외버스터미널)",
          "중랑",
          "신길",
          "복정",
          "수서",
          "대모산입구",
          "개포동",
          "구룡",
          "도곡",
          "한티",
          "선릉",
          "창동",
          "녹천",
          "월계",
          "광운대",
          "석계",
          "신이문",
          "외대앞",
          "회기",
          "청량리(서울시립대입구)",
          "왕십리(성동구청)",
          "응봉",
          "옥수",
          "한남",
          "서빙고",
          "이촌(국립중앙박물관)",
          "신도림",
          "영등포",
          "대방",
          "노량진",
          "용산",
          "남영",
          "서울역",
          "남태령",
          "사당",
          "총신대입구(이수)",
          "동작(현충원)",
          "이촌(국립중앙박물관)",
          "신용산",
          "삼각지",
          "숙대입구(갈월)",
          "서울역",
          "회현(남대문시장)",
          "명동",
          "충무로",
          "동대문역사문화공원",
          "동대문",
          "혜화",
          "한성대입구(삼선교)",
          "성신여대입구(돈암)",
          "길음",
          "미아사거리",
          "미아(서울사이버대학)",
          "수유(강북구청)",
          "쌍문",
          "창동",
          "노원",
          "상계",
          "당고개",
          "오금",
          "경찰병원",
          "가락시장",
          "수서",
          "일원",
          "대청",
          "학여울",
          "대치",
          "도곡",
          "매봉",
          "양재(서초구청)",
          "남부터미널(예술의전당)",
          "교대(법원.검찰청)",
          "고속터미널",
          "잠원",
          "신사",
          "압구정",
          "옥수",
          "금호",
          "약수",
          "동대입구",
          "충무로",
          "을지로3가",
          "종로3가",
          "안국",
          "경복궁(정부서울청사)",
          "독립문",
          "무악재",
          "홍제",
          "녹번",
          "불광",
          "연신내",
          "구파발",
          "지축",
          "용두(동대문구청)",
          "신정네거리",
          "양천구청",
          "도림천",
          "신설동",
          "신답",
          "용답",
          "충정로(경기대입구)",
          "아현",
          "이대",
          "신촌",
          "홍대입구",
          "합정",
          "당산",
          "영등포구청",
          "문래",
          "신도림",
          "대림(구로구청)",
          "구로디지털단지",
          "신대방",
          "신림",
          "봉천",
          "서울대입구(관악구청)",
          "낙성대",
          "사당",
          "방배",
          "서초",
          "교대(법원.검찰청)",
          "강남",
          "역삼",
          "선릉",
          "삼성(무역센터)",
          "종합운동장",
          "잠실새내",
          "잠실(송파구청)",
          "잠실나루",
          "강변(동서울터미널)",
          "구의(광진구청)",
          "건대입구",
          "성수",
          "뚝섬",
          "한양대",
          "왕십리(성동구청)",
          "상왕십리",
          "신당",
          "동대문역사문화공원",
          "을지로4가",
          "을지로3가",
          "을지로입구",
          "시청",
          "동묘앞",
          "청량리(서울시립대입구)",
          "제기동",
          "신설동",
          "동대문",
          "종로5가",
          "종로3가",
          "종각",
          "시청",
          "서울역"
         ],
         "lat": [
          37.560927,
          37.55749,
          37.56236,
          37.601243,
          37.612488,
          37.620249,
          37.63165,
          37.653867,
          37.643986,
          37.640732,
          37.645384,
          37.642379,
          37.302371,
          37.31321,
          37.319619,
          37.334353,
          37.348847,
          37.369864,
          37.382223,
          37.409008,
          37.439066,
          37.450145,
          37.468467,
          37.483279,
          37.576095,
          37.585286,
          37.592467,
          37.603133,
          37.612072,
          37.620238,
          37.621337,
          37.626914,
          37.634133,
          37.641537,
          37.649502,
          37.65603,
          37.662909,
          37.733579,
          37.737279,
          37.742802,
          37.750471,
          37.754025,
          37.75059,
          37.748885,
          37.745271,
          37.743676,
          37.743302,
          37.739256,
          37.737202,
          37.728755,
          37.725006,
          37.727048,
          37.285342,
          37.267051,
          37.258965,
          37.24484,
          37.237845,
          37.237247,
          37.237964,
          37.239151,
          37.242115,
          37.260752,
          37.269043,
          37.274917,
          37.269606,
          37.270161,
          37.275449,
          37.30211,
          37.288617,
          37.297664,
          37.313335,
          37.322702,
          37.337928,
          37.349982,
          37.367098,
          37.394761,
          37.447211,
          37.470023,
          37.483809,
          37.496837,
          37.51202,
          37.460699,
          37.447464,
          37.459041,
          37.492904,
          37.556409,
          37.569098,
          37.571662,
          37.561842,
          37.565543,
          37.576958,
          37.557438,
          37.54253,
          37.553247,
          37.529191,
          37.519683,
          37.516269,
          37.516404,
          37.510372,
          37.505208,
          37.502558,
          37.504738,
          37.511426,
          37.514219,
          37.513011,
          37.510297,
          37.507287,
          37.504598,
          37.504206,
          37.50598,
          37.503415,
          37.501364,
          37.502878,
          37.50877,
          37.512887,
          37.513534,
          37.517274,
          37.52176,
          37.528105,
          37.533406,
          37.53802,
          37.544277,
          37.546936,
          37.550632,
          37.557402,
          37.561391,
          37.568381,
          37.566778,
          37.567532,
          37.563726,
          37.561916,
          37.578608,
          37.5062285,
          37.5086,
          37.440127,
          37.448769,
          37.448161,
          37.454911,
          37.45583,
          37.456805,
          37.456833,
          37.457611,
          37.458335,
          37.464992,
          37.473703,
          37.484192,
          37.4897,
          37.500168,
          37.506193,
          37.517054,
          37.524649,
          37.543742,
          37.5517,
          37.561405,
          37.56866,
          37.585212,
          37.592928,
          37.597566,
          37.60185,
          37.59518,
          37.594877,
          37.407143,
          37.399907,
          37.393054,
          37.386007,
          37.378384,
          37.382268,
          37.387855,
          37.397878,
          37.404737,
          37.412333,
          37.41804,
          37.426684,
          37.434935,
          37.442383,
          37.449396,
          37.457263,
          37.467048,
          37.477679,
          37.485312,
          37.490535,
          37.498383,
          37.508407,
          37.517268,
          37.530415,
          37.538157,
          37.543238,
          37.545059,
          37.553703,
          37.566379,
          37.571449,
          37.4624,
          37.433824,
          37.437428,
          37.440918,
          37.44521,
          37.451535,
          37.457122,
          37.471052,
          37.478703,
          37.485855,
          37.492888,
          37.499703,
          37.505557,
          37.514692,
          37.517409,
          37.530341,
          37.538113,
          37.55021,
          37.507394,
          37.506997,
          37.506411,
          37.505781,
          37.504631,
          37.503048,
          37.503663,
          37.50538,
          37.506207,
          37.492092,
          37.486637,
          37.479252,
          37.47605,
          37.480338,
          37.486056,
          37.493013,
          37.50008,
          37.499872,
          37.499701,
          37.504898,
          37.502834,
          37.496029,
          37.484596,
          37.485196,
          37.487618,
          37.503367,
          37.508178,
          37.511093,
          37.514229,
          37.517179,
          37.519365,
          37.53154,
          37.540786,
          37.548014,
          37.556897,
          37.565923,
          37.573647,
          37.580894,
          37.588579,
          37.595577,
          37.602545,
          37.610637,
          37.618294,
          37.625742,
          37.636352,
          37.644583,
          37.654836,
          37.66494,
          37.67785,
          37.689241,
          37.700109,
          37.613174,
          37.617283,
          37.620064,
          37.617338,
          37.614872,
          37.610537,
          37.606377,
          37.601948,
          37.590508,
          37.586272,
          37.585274,
          37.579661,
          37.572279,
          37.566154,
          37.560608,
          37.554263,
          37.548013,
          37.539631,
          37.534488,
          37.534675,
          37.535534,
          37.539233,
          37.543555,
          37.547771,
          37.547456,
          37.547716,
          37.549209,
          37.556094,
          37.563515,
          37.569532,
          37.576108,
          37.583876,
          37.591148,
          37.611377,
          37.618636,
          37.618456,
          37.610873,
          37.606021,
          37.598605,
          37.54205,
          37.53972,
          37.552034,
          37.560927,
          37.55749,
          37.49499,
          37.493105,
          37.498079,
          37.502057,
          37.508857,
          37.516201,
          37.527788,
          37.556712,
          37.555004,
          37.55137,
          37.545477,
          37.537801,
          37.535804,
          37.53864,
          37.545303,
          37.551691,
          37.557088,
          37.56144,
          37.566747,
          37.5661,
          37.56184,
          37.557322,
          37.554548,
          37.560276,
          37.564665,
          37.567352,
          37.57254,
          37.571525,
          37.565773,
          37.560236,
          37.553736,
          37.544431,
          37.539574,
          37.527098,
          37.521747,
          37.517623,
          37.522669,
          37.5242,
          37.525569,
          37.524496,
          37.526065,
          37.524997,
          37.531768,
          37.541513,
          37.548768,
          37.558598,
          37.560183,
          37.561184,
          37.562384,
          37.572399,
          37.577446,
          37.676087,
          37.670072,
          37.659477,
          37.652206,
          37.643114,
          37.631626,
          37.634592,
          37.653324,
          37.653083,
          37.648017,
          37.650658,
          37.9481,
          37.927878,
          37.913702,
          37.901885,
          37.892334,
          37.843188,
          37.818486,
          37.774381,
          37.75938,
          37.748577,
          37.738415,
          37.724416,
          37.709914,
          37.689534,
          37.679563,
          37.667503,
          37.476403,
          37.46874,
          37.460789,
          37.448493,
          37.428514,
          37.417804,
          37.413049,
          37.407722,
          37.401637,
          37.400614,
          37.40095,
          37.391769,
          37.379681,
          37.28998,
          37.264179,
          37.250102,
          37.24304,
          37.24963,
          37.265481,
          37.261911,
          37.252759,
          37.245795,
          37.251568,
          37.259489,
          37.26181,
          37.275061,
          37.286102,
          37.298969,
          37.324753,
          37.312752,
          37.395371,
          37.339824,
          37.350077,
          37.365994,
          37.378455,
          37.385126,
          37.411185,
          37.432052,
          37.440019,
          37.448605,
          37.510735,
          37.517469,
          37.527381,
          37.543617,
          37.265917,
          37.46607,
          37.486562,
          37.492433,
          37.468446,
          37.464737,
          37.488418,
          37.482753,
          37.496756,
          37.476079,
          37.475276,
          37.466769,
          37.465047,
          37.471408,
          37.483664,
          37.489445,
          37.4876,
          37.48405,
          37.485178,
          37.494526,
          37.494594,
          37.349801,
          37.362357,
          37.351735,
          37.338212,
          37.327082,
          37.320646,
          37.316784,
          37.315941,
          37.309689,
          37.302795,
          37.312212,
          37.328467,
          37.358101,
          37.416182,
          37.195504,
          37.344285,
          36.810005,
          36.833705,
          36.870593,
          36.916076,
          36.990726,
          37.0188,
          37.056496,
          37.075696,
          37.109447,
          37.145885,
          37.168953,
          37.187533,
          37.207503,
          37.245025,
          37.466613,
          37.266348,
          37.283862,
          37.300349,
          37.320852,
          37.35356,
          37.372221,
          37.384653,
          37.401592,
          37.419232,
          37.435047,
          37.455626,
          37.481581,
          37.503039,
          37.282308,
          37.295309,
          37.260192,
          37.265579,
          37.317185,
          37.351315,
          37.374419,
          37.399907,
          37.409522,
          37.394655,
          37.394761,
          37.372209,
          37.389793,
          37.394287,
          37.401553,
          37.426513,
          37.433021,
          37.435675,
          37.443885,
          37.451673,
          36.769502,
          36.780483,
          36.777629,
          36.78866,
          36.792053,
          36.793759,
          36.801215,
          37.885054,
          37.864007,
          37.818466,
          37.805723,
          37.830779,
          37.832067,
          37.814536,
          37.770246,
          37.735488,
          37.684071,
          37.652782,
          37.658978,
          37.653225,
          37.637382,
          37.65108,
          37.648311,
          37.64202,
          37.634118,
          37.612887,
          37.577475,
          37.557641,
          37.542596,
          37.557231,
          37.888421,
          37.854619,
          37.815298,
          37.796188,
          37.766217,
          37.751322,
          37.725826,
          37.712327,
          37.694023,
          37.682077,
          37.672346,
          37.658239,
          37.645676,
          37.618808,
          37.612102,
          37.612314,
          37.602888,
          37.580842,
          37.577475,
          37.568491,
          37.557641,
          37.551881,
          37.542596,
          37.538579,
          37.559733,
          37.557231,
          37.476393,
          37.48223,
          37.468672,
          37.492773,
          37.506062,
          37.51382,
          37.516169,
          37.525545,
          37.545981,
          37.554669,
          37.547371,
          37.579622,
          37.586781,
          37.60533,
          37.608806,
          37.603392,
          37.606596,
          37.59955,
          37.596678,
          37.594917,
          37.516862,
          37.470345,
          37.487472,
          37.491373,
          37.489116,
          37.486839,
          37.491224,
          37.496237,
          37.504856,
          37.653007,
          37.644799,
          37.633212,
          37.623632,
          37.614532,
          37.601854,
          37.596073,
          37.58946,
          37.580759,
          37.561827,
          37.549946,
          37.540446,
          37.52943,
          37.519594,
          37.522427,
          37.508787,
          37.515504,
          37.513342,
          37.514149,
          37.529849,
          37.541021,
          37.554337,
          37.463873,
          37.476955,
          37.486263,
          37.502852,
          37.522295,
          37.52917,
          37.534075,
          37.54456,
          37.55281,
          37.558514,
          37.560989,
          37.561207,
          37.565133,
          37.57093,
          37.582336,
          37.588458,
          37.592612,
          37.603407,
          37.613292,
          37.62667,
          37.638052,
          37.648627,
          37.653088,
          37.65627,
          37.660878,
          37.670272,
          37.502129,
          37.495918,
          37.492245,
          37.487378,
          37.483681,
          37.493514,
          37.496663,
          37.494612,
          37.490922,
          37.486947,
          37.484477,
          37.485013,
          37.493025,
          37.504891,
          37.512759,
          37.516334,
          37.527072,
          37.541684,
          37.548034,
          37.554867,
          37.559052,
          37.56143,
          37.566672,
          37.571605,
          37.576477,
          37.575762,
          37.574571,
          37.582299,
          37.589066,
          37.600927,
          37.610553,
          37.619229,
          37.636763,
          37.648033,
          37.574028,
          37.520074,
          37.512398,
          37.514287,
          37.574747,
          37.57004,
          37.561904,
          37.559704,
          37.557345,
          37.556733,
          37.555131,
          37.55679,
          37.549457,
          37.534946,
          37.525706,
          37.517933,
          37.508961,
          37.493243,
          37.485266,
          37.487462,
          37.484201,
          37.482362,
          37.481247,
          37.47693,
          37.476538,
          37.481426,
          37.491897,
          37.493961,
          37.49799,
          37.500622,
          37.504286,
          37.508844,
          37.511022,
          37.511687,
          37.513262,
          37.520733,
          37.535095,
          37.537077,
          37.540373,
          37.544581,
          37.547184,
          37.555273,
          37.561238,
          37.564354,
          37.56564,
          37.565613,
          37.566595,
          37.566306,
          37.566014,
          37.563588,
          37.573197,
          37.579956,
          37.578103,
          37.576048,
          37.571687,
          37.570926,
          37.570406,
          37.570161,
          37.565715,
          37.556228
         ],
         "legendgroup": "",
         "lon": [
          127.193877,
          127.17593,
          126.801868,
          126.770345,
          126.732387,
          126.719731,
          126.705975,
          126.68393,
          126.669017,
          126.644344,
          126.628633,
          126.614309,
          126.786691,
          126.796261,
          126.808147,
          126.809904,
          126.809409,
          126.808573,
          126.805625,
          126.788017,
          126.786788,
          126.793041,
          126.797252,
          126.795023,
          127.023242,
          127.019381,
          127.016516,
          127.013396,
          127.008251,
          127.013626,
          127.020473,
          127.018106,
          127.017511,
          127.016789,
          127.013684,
          127.013273,
          127.012706,
          127.088704,
          127.087159,
          127.085035,
          127.083715,
          127.076902,
          127.071495,
          127.06362,
          127.056947,
          127.049565,
          127.037023,
          127.034781,
          127.043257,
          127.04353,
          127.047073,
          127.052803,
          127.219561,
          127.21364,
          127.218457,
          127.214251,
          127.209198,
          127.198781,
          127.190294,
          127.178406,
          127.168075,
          127.159443,
          127.152716,
          127.143714,
          127.136515,
          127.126033,
          127.116665,
          127.044483,
          127.051478,
          127.069342,
          127.0801,
          127.095026,
          127.102976,
          127.108918,
          127.108403,
          127.112217,
          127.055664,
          127.03842,
          127.034653,
          127.028104,
          126.524254,
          126.441442,
          126.452508,
          126.477516,
          126.49379,
          126.624648,
          126.674007,
          126.7363,
          126.801904,
          126.827378,
          126.898609,
          126.926715,
          126.952024,
          126.969769,
          127.148739,
          127.137989,
          127.130288,
          127.116503,
          127.112216,
          127.10704,
          127.097033,
          127.088025,
          127.076275,
          127.060245,
          127.053282,
          127.043999,
          127.033868,
          127.02506,
          127.015259,
          127.004403,
          126.995925,
          126.987332,
          126.978153,
          126.963708,
          126.953222,
          126.941005,
          126.928422,
          126.92403,
          126.917874,
          126.902809,
          126.893525,
          126.88308,
          126.874916,
          126.865689,
          126.861939,
          126.854456,
          126.841333,
          126.82731,
          126.816601,
          126.810678,
          126.802152,
          126.798153,
          126.6762813,
          126.7035277,
          126.75997,
          126.752618,
          126.736939,
          126.732094,
          126.719298,
          126.709986,
          126.701306,
          126.692575,
          126.681192,
          126.679098,
          126.68113,
          126.683673,
          126.675208,
          126.675795,
          126.676203,
          126.676672,
          126.675539,
          126.676787,
          126.677122,
          126.677566,
          126.675687,
          126.675844,
          126.673203,
          126.666998,
          126.657108,
          126.642696,
          126.627178,
          126.62597,
          126.630347,
          126.634729,
          126.639484,
          126.645168,
          126.656365,
          126.661673,
          126.674005,
          126.681015,
          126.687869,
          126.693863,
          126.698863,
          126.698579,
          126.699706,
          126.701012,
          126.702143,
          126.707938,
          126.710208,
          126.718247,
          126.723453,
          126.722244,
          126.720555,
          126.721514,
          126.722527,
          126.722597,
          126.728128,
          126.738665,
          126.745077,
          126.742654,
          126.73578,
          127.13977,
          127.129837,
          127.140722,
          127.147564,
          127.156866,
          127.159816,
          127.149908,
          127.126732,
          127.126191,
          127.1225,
          127.118398,
          127.112183,
          127.106832,
          127.104338,
          127.112359,
          127.120508,
          127.123254,
          127.127562,
          126.721599,
          126.73128,
          126.742153,
          126.753083,
          126.763538,
          126.77596,
          126.787036,
          126.797337,
          126.810939,
          126.823023,
          126.838713,
          126.854876,
          126.867911,
          126.882656,
          126.887249,
          126.897075,
          126.90993,
          126.920428,
          126.928276,
          126.93915,
          126.94791,
          126.953822,
          126.971251,
          126.981605,
          126.993513,
          127.005068,
          127.011727,
          127.021415,
          127.031656,
          127.041255,
          127.05335,
          127.066704,
          127.071011,
          127.074658,
          127.079338,
          127.08432,
          127.086727,
          127.088478,
          127.087503,
          127.085716,
          127.079264,
          127.077725,
          127.075397,
          127.072896,
          127.06799,
          127.064303,
          127.060462,
          127.057675,
          127.055315,
          127.046509,
          127.053196,
          127.102231,
          127.091401,
          127.084689,
          127.074735,
          127.065595,
          127.056431,
          127.048491,
          127.041518,
          127.036296,
          127.029005,
          127.019351,
          127.015241,
          127.015653,
          127.016146,
          127.013986,
          127.010358,
          127.007055,
          127.001725,
          126.994302,
          126.986695,
          126.974032,
          126.961384,
          126.951678,
          126.942069,
          126.931993,
          126.922852,
          126.913366,
          126.910052,
          126.903343,
          126.899298,
          126.901391,
          126.909645,
          126.913629,
          126.91727,
          126.920625,
          126.933031,
          126.92939,
          126.922744,
          126.915577,
          127.20612,
          127.22345,
          127.203864,
          127.193877,
          127.17593,
          127.152781,
          127.14415,
          127.13482,
          127.127938,
          127.126133,
          127.130923,
          127.136248,
          127.166417,
          127.154151,
          127.143999,
          127.142853,
          127.140004,
          127.132481,
          127.123308,
          127.10357,
          127.089761,
          127.079577,
          127.064623,
          127.052704,
          127.042973,
          127.037059,
          127.029476,
          127.020331,
          127.013639,
          127.005353,
          126.998032,
          126.990305,
          126.97717,
          126.966641,
          126.9629,
          126.95682,
          126.951372,
          126.945932,
          126.932901,
          126.924357,
          126.914839,
          126.905139,
          126.89503,
          126.886129,
          126.875181,
          126.864931,
          126.856191,
          126.846683,
          126.840461,
          126.836318,
          126.837668,
          126.825448,
          126.811973,
          126.801292,
          126.806171,
          126.812741,
          126.747569,
          126.761334,
          126.773359,
          126.77762,
          126.78787,
          126.811024,
          126.83265,
          126.843041,
          126.895558,
          126.91397,
          126.872642,
          127.061034,
          127.05479,
          127.057277,
          127.056482,
          127.055716,
          127.061277,
          127.056486,
          127.044708,
          127.042292,
          127.044213,
          127.045958,
          127.04736,
          127.047455,
          127.046049,
          127.045595,
          127.044273,
          126.617326,
          126.623853,
          126.638297,
          126.649619,
          126.657772,
          126.67894,
          126.686648,
          126.695216,
          126.708627,
          126.722478,
          126.733522,
          126.742699,
          126.745177,
          126.85685,
          126.879483,
          126.90879,
          126.963676,
          126.980248,
          127.015678,
          127.030736,
          127.040566,
          127.057353,
          127.071394,
          127.078934,
          127.108847,
          127.11591,
          127.111313,
          127.105664,
          127.107395,
          127.108196,
          127.128248,
          127.108942,
          127.10891,
          127.10807,
          127.114322,
          127.123592,
          127.128715,
          127.129104,
          127.127709,
          127.126697,
          127.043677,
          127.041151,
          127.040534,
          127.044707,
          126.999422,
          126.668672,
          126.764843,
          126.824086,
          126.642706,
          126.694181,
          126.74109,
          126.79544,
          126.870793,
          126.616801,
          126.632802,
          126.656666,
          126.679742,
          126.702896,
          126.707704,
          126.724506,
          126.753664,
          126.782686,
          126.811502,
          126.845365,
          126.85968,
          126.925365,
          126.738714,
          126.742989,
          126.765844,
          126.788532,
          126.805913,
          126.823144,
          126.838573,
          126.85344,
          126.866489,
          126.903524,
          126.917332,
          126.933274,
          126.884466,
          127.051672,
          126.948345,
          127.146826,
          127.14896,
          127.143904,
          127.126964,
          127.085159,
          127.070444,
          127.052819,
          127.054301,
          127.062278,
          127.06672,
          127.063197,
          127.04318,
          127.032731,
          127.013222,
          126.889249,
          126.999561,
          126.989627,
          126.97075,
          126.948217,
          126.948462,
          126.943429,
          126.935433,
          126.922874,
          126.908706,
          126.902295,
          126.89398,
          126.882581,
          126.881966,
          127.628816,
          127.570938,
          127.490277,
          127.44226,
          127.40476,
          127.34674,
          127.299,
          127.25263,
          127.20336,
          127.127819,
          127.111217,
          126.943417,
          126.950806,
          126.963883,
          126.976715,
          126.98978,
          126.996568,
          127.006523,
          127.007888,
          127.002303,
          126.951108,
          127.003249,
          127.052991,
          127.08485,
          127.104361,
          127.1214,
          127.135763,
          127.717023,
          127.723792,
          127.71434,
          127.634146,
          127.58933,
          127.557695,
          127.510739,
          127.454821,
          127.42661,
          127.379319,
          127.311767,
          127.285379,
          127.244493,
          127.207853,
          127.176933,
          127.143952,
          127.12684,
          127.114757,
          127.103218,
          126.900453,
          126.926683,
          126.952099,
          126.97103,
          126.746765,
          126.788047,
          126.792783,
          126.792587,
          126.774644,
          126.765347,
          126.767257,
          126.761356,
          126.761086,
          126.769846,
          126.786243,
          126.794461,
          126.801762,
          126.820783,
          126.834146,
          126.843223,
          126.868387,
          126.895611,
          126.900453,
          126.915487,
          126.926683,
          126.935711,
          126.952099,
          126.96221,
          126.942597,
          126.97103,
          127.629874,
          127.594647,
          127.547076,
          127.491837,
          127.473868,
          127.443173,
          127.399367,
          127.372921,
          127.329098,
          127.310115,
          127.243939,
          127.222672,
          127.208832,
          127.19364,
          127.161153,
          127.143869,
          127.107906,
          127.091909,
          127.08504,
          127.076116,
          126.917865,
          127.126658,
          127.101422,
          127.07272,
          127.06614,
          127.058856,
          127.055186,
          127.052873,
          127.048807,
          127.047806,
          127.051269,
          127.058831,
          127.061835,
          127.065934,
          127.067325,
          127.063549,
          127.057583,
          127.0483,
          127.038352,
          127.034538,
          127.018672,
          127.009169,
          126.988537,
          126.973406,
          126.891144,
          126.907628,
          126.926382,
          126.94271,
          126.964561,
          126.9713,
          126.971134,
          126.989134,
          126.981651,
          126.981989,
          126.980347,
          126.974733,
          126.967894,
          126.9726,
          126.972106,
          126.972556,
          126.978246,
          126.986325,
          126.99408,
          127.007885,
          127.009287,
          127.001844,
          127.006221,
          127.016441,
          127.025053,
          127.030053,
          127.025983,
          127.025732,
          127.034709,
          127.047274,
          127.063276,
          127.073572,
          127.079066,
          127.128319,
          127.12454,
          127.117757,
          127.101907,
          127.08439,
          127.079532,
          127.070594,
          127.063642,
          127.055452,
          127.046769,
          127.033902,
          127.016189,
          127.013786,
          127.004916,
          127.01122,
          127.020114,
          127.028461,
          127.017269,
          127.015872,
          127.010541,
          127.005602,
          126.994072,
          126.992548,
          126.991791,
          126.985443,
          126.97353,
          126.957748,
          126.950291,
          126.943736,
          126.935756,
          126.92982,
          126.921038,
          126.918821,
          126.913917,
          127.038091,
          126.852912,
          126.865819,
          126.882768,
          127.024932,
          127.046481,
          127.050899,
          126.964378,
          126.956141,
          126.946013,
          126.936926,
          126.923708,
          126.913808,
          126.902767,
          126.89661,
          126.89476,
          126.891084,
          126.894932,
          126.901401,
          126.913149,
          126.929715,
          126.941892,
          126.952739,
          126.963693,
          126.981544,
          126.997596,
          127.007917,
          127.014667,
          127.027912,
          127.036456,
          127.048203,
          127.06316,
          127.073704,
          127.086162,
          127.100159,
          127.10379,
          127.094681,
          127.085916,
          127.069191,
          127.055961,
          127.047367,
          127.043655,
          127.036954,
          127.029354,
          127.019614,
          127.009054,
          126.997817,
          126.991696,
          126.982618,
          126.975411,
          127.01648,
          127.044585,
          127.034893,
          127.024634,
          127.01093,
          127.001849,
          126.991847,
          126.982923,
          126.977088,
          126.972135
         ],
         "marker": {
          "color": "darkorange",
          "opacity": 0.3
         },
         "mode": "markers",
         "name": "",
         "showlegend": false,
         "subplot": "mapbox",
         "type": "scattermapbox"
        }
       ],
       "layout": {
        "height": 500,
        "legend": {
         "tracegroupgap": 0
        },
        "mapbox": {
         "center": {
          "lat": 37.54890480814985,
          "lon": 126.99766268394495
         },
         "domain": {
          "x": [
           0,
           1
          ],
          "y": [
           0,
           1
          ]
         },
         "style": "carto-positron",
         "zoom": 10
        },
        "margin": {
         "t": 60
        },
        "template": {
         "data": {
          "bar": [
           {
            "error_x": {
             "color": "#2a3f5f"
            },
            "error_y": {
             "color": "#2a3f5f"
            },
            "marker": {
             "line": {
              "color": "#E5ECF6",
              "width": 0.5
             },
             "pattern": {
              "fillmode": "overlay",
              "size": 10,
              "solidity": 0.2
             }
            },
            "type": "bar"
           }
          ],
          "barpolar": [
           {
            "marker": {
             "line": {
              "color": "#E5ECF6",
              "width": 0.5
             },
             "pattern": {
              "fillmode": "overlay",
              "size": 10,
              "solidity": 0.2
             }
            },
            "type": "barpolar"
           }
          ],
          "carpet": [
           {
            "aaxis": {
             "endlinecolor": "#2a3f5f",
             "gridcolor": "white",
             "linecolor": "white",
             "minorgridcolor": "white",
             "startlinecolor": "#2a3f5f"
            },
            "baxis": {
             "endlinecolor": "#2a3f5f",
             "gridcolor": "white",
             "linecolor": "white",
             "minorgridcolor": "white",
             "startlinecolor": "#2a3f5f"
            },
            "type": "carpet"
           }
          ],
          "choropleth": [
           {
            "colorbar": {
             "outlinewidth": 0,
             "ticks": ""
            },
            "type": "choropleth"
           }
          ],
          "contour": [
           {
            "colorbar": {
             "outlinewidth": 0,
             "ticks": ""
            },
            "colorscale": [
             [
              0,
              "#0d0887"
             ],
             [
              0.1111111111111111,
              "#46039f"
             ],
             [
              0.2222222222222222,
              "#7201a8"
             ],
             [
              0.3333333333333333,
              "#9c179e"
             ],
             [
              0.4444444444444444,
              "#bd3786"
             ],
             [
              0.5555555555555556,
              "#d8576b"
             ],
             [
              0.6666666666666666,
              "#ed7953"
             ],
             [
              0.7777777777777778,
              "#fb9f3a"
             ],
             [
              0.8888888888888888,
              "#fdca26"
             ],
             [
              1,
              "#f0f921"
             ]
            ],
            "type": "contour"
           }
          ],
          "contourcarpet": [
           {
            "colorbar": {
             "outlinewidth": 0,
             "ticks": ""
            },
            "type": "contourcarpet"
           }
          ],
          "heatmap": [
           {
            "colorbar": {
             "outlinewidth": 0,
             "ticks": ""
            },
            "colorscale": [
             [
              0,
              "#0d0887"
             ],
             [
              0.1111111111111111,
              "#46039f"
             ],
             [
              0.2222222222222222,
              "#7201a8"
             ],
             [
              0.3333333333333333,
              "#9c179e"
             ],
             [
              0.4444444444444444,
              "#bd3786"
             ],
             [
              0.5555555555555556,
              "#d8576b"
             ],
             [
              0.6666666666666666,
              "#ed7953"
             ],
             [
              0.7777777777777778,
              "#fb9f3a"
             ],
             [
              0.8888888888888888,
              "#fdca26"
             ],
             [
              1,
              "#f0f921"
             ]
            ],
            "type": "heatmap"
           }
          ],
          "heatmapgl": [
           {
            "colorbar": {
             "outlinewidth": 0,
             "ticks": ""
            },
            "colorscale": [
             [
              0,
              "#0d0887"
             ],
             [
              0.1111111111111111,
              "#46039f"
             ],
             [
              0.2222222222222222,
              "#7201a8"
             ],
             [
              0.3333333333333333,
              "#9c179e"
             ],
             [
              0.4444444444444444,
              "#bd3786"
             ],
             [
              0.5555555555555556,
              "#d8576b"
             ],
             [
              0.6666666666666666,
              "#ed7953"
             ],
             [
              0.7777777777777778,
              "#fb9f3a"
             ],
             [
              0.8888888888888888,
              "#fdca26"
             ],
             [
              1,
              "#f0f921"
             ]
            ],
            "type": "heatmapgl"
           }
          ],
          "histogram": [
           {
            "marker": {
             "pattern": {
              "fillmode": "overlay",
              "size": 10,
              "solidity": 0.2
             }
            },
            "type": "histogram"
           }
          ],
          "histogram2d": [
           {
            "colorbar": {
             "outlinewidth": 0,
             "ticks": ""
            },
            "colorscale": [
             [
              0,
              "#0d0887"
             ],
             [
              0.1111111111111111,
              "#46039f"
             ],
             [
              0.2222222222222222,
              "#7201a8"
             ],
             [
              0.3333333333333333,
              "#9c179e"
             ],
             [
              0.4444444444444444,
              "#bd3786"
             ],
             [
              0.5555555555555556,
              "#d8576b"
             ],
             [
              0.6666666666666666,
              "#ed7953"
             ],
             [
              0.7777777777777778,
              "#fb9f3a"
             ],
             [
              0.8888888888888888,
              "#fdca26"
             ],
             [
              1,
              "#f0f921"
             ]
            ],
            "type": "histogram2d"
           }
          ],
          "histogram2dcontour": [
           {
            "colorbar": {
             "outlinewidth": 0,
             "ticks": ""
            },
            "colorscale": [
             [
              0,
              "#0d0887"
             ],
             [
              0.1111111111111111,
              "#46039f"
             ],
             [
              0.2222222222222222,
              "#7201a8"
             ],
             [
              0.3333333333333333,
              "#9c179e"
             ],
             [
              0.4444444444444444,
              "#bd3786"
             ],
             [
              0.5555555555555556,
              "#d8576b"
             ],
             [
              0.6666666666666666,
              "#ed7953"
             ],
             [
              0.7777777777777778,
              "#fb9f3a"
             ],
             [
              0.8888888888888888,
              "#fdca26"
             ],
             [
              1,
              "#f0f921"
             ]
            ],
            "type": "histogram2dcontour"
           }
          ],
          "mesh3d": [
           {
            "colorbar": {
             "outlinewidth": 0,
             "ticks": ""
            },
            "type": "mesh3d"
           }
          ],
          "parcoords": [
           {
            "line": {
             "colorbar": {
              "outlinewidth": 0,
              "ticks": ""
             }
            },
            "type": "parcoords"
           }
          ],
          "pie": [
           {
            "automargin": true,
            "type": "pie"
           }
          ],
          "scatter": [
           {
            "fillpattern": {
             "fillmode": "overlay",
             "size": 10,
             "solidity": 0.2
            },
            "type": "scatter"
           }
          ],
          "scatter3d": [
           {
            "line": {
             "colorbar": {
              "outlinewidth": 0,
              "ticks": ""
             }
            },
            "marker": {
             "colorbar": {
              "outlinewidth": 0,
              "ticks": ""
             }
            },
            "type": "scatter3d"
           }
          ],
          "scattercarpet": [
           {
            "marker": {
             "colorbar": {
              "outlinewidth": 0,
              "ticks": ""
             }
            },
            "type": "scattercarpet"
           }
          ],
          "scattergeo": [
           {
            "marker": {
             "colorbar": {
              "outlinewidth": 0,
              "ticks": ""
             }
            },
            "type": "scattergeo"
           }
          ],
          "scattergl": [
           {
            "marker": {
             "colorbar": {
              "outlinewidth": 0,
              "ticks": ""
             }
            },
            "type": "scattergl"
           }
          ],
          "scattermapbox": [
           {
            "marker": {
             "colorbar": {
              "outlinewidth": 0,
              "ticks": ""
             }
            },
            "type": "scattermapbox"
           }
          ],
          "scatterpolar": [
           {
            "marker": {
             "colorbar": {
              "outlinewidth": 0,
              "ticks": ""
             }
            },
            "type": "scatterpolar"
           }
          ],
          "scatterpolargl": [
           {
            "marker": {
             "colorbar": {
              "outlinewidth": 0,
              "ticks": ""
             }
            },
            "type": "scatterpolargl"
           }
          ],
          "scatterternary": [
           {
            "marker": {
             "colorbar": {
              "outlinewidth": 0,
              "ticks": ""
             }
            },
            "type": "scatterternary"
           }
          ],
          "surface": [
           {
            "colorbar": {
             "outlinewidth": 0,
             "ticks": ""
            },
            "colorscale": [
             [
              0,
              "#0d0887"
             ],
             [
              0.1111111111111111,
              "#46039f"
             ],
             [
              0.2222222222222222,
              "#7201a8"
             ],
             [
              0.3333333333333333,
              "#9c179e"
             ],
             [
              0.4444444444444444,
              "#bd3786"
             ],
             [
              0.5555555555555556,
              "#d8576b"
             ],
             [
              0.6666666666666666,
              "#ed7953"
             ],
             [
              0.7777777777777778,
              "#fb9f3a"
             ],
             [
              0.8888888888888888,
              "#fdca26"
             ],
             [
              1,
              "#f0f921"
             ]
            ],
            "type": "surface"
           }
          ],
          "table": [
           {
            "cells": {
             "fill": {
              "color": "#EBF0F8"
             },
             "line": {
              "color": "white"
             }
            },
            "header": {
             "fill": {
              "color": "#C8D4E3"
             },
             "line": {
              "color": "white"
             }
            },
            "type": "table"
           }
          ]
         },
         "layout": {
          "annotationdefaults": {
           "arrowcolor": "#2a3f5f",
           "arrowhead": 0,
           "arrowwidth": 1
          },
          "autotypenumbers": "strict",
          "coloraxis": {
           "colorbar": {
            "outlinewidth": 0,
            "ticks": ""
           }
          },
          "colorscale": {
           "diverging": [
            [
             0,
             "#8e0152"
            ],
            [
             0.1,
             "#c51b7d"
            ],
            [
             0.2,
             "#de77ae"
            ],
            [
             0.3,
             "#f1b6da"
            ],
            [
             0.4,
             "#fde0ef"
            ],
            [
             0.5,
             "#f7f7f7"
            ],
            [
             0.6,
             "#e6f5d0"
            ],
            [
             0.7,
             "#b8e186"
            ],
            [
             0.8,
             "#7fbc41"
            ],
            [
             0.9,
             "#4d9221"
            ],
            [
             1,
             "#276419"
            ]
           ],
           "sequential": [
            [
             0,
             "#0d0887"
            ],
            [
             0.1111111111111111,
             "#46039f"
            ],
            [
             0.2222222222222222,
             "#7201a8"
            ],
            [
             0.3333333333333333,
             "#9c179e"
            ],
            [
             0.4444444444444444,
             "#bd3786"
            ],
            [
             0.5555555555555556,
             "#d8576b"
            ],
            [
             0.6666666666666666,
             "#ed7953"
            ],
            [
             0.7777777777777778,
             "#fb9f3a"
            ],
            [
             0.8888888888888888,
             "#fdca26"
            ],
            [
             1,
             "#f0f921"
            ]
           ],
           "sequentialminus": [
            [
             0,
             "#0d0887"
            ],
            [
             0.1111111111111111,
             "#46039f"
            ],
            [
             0.2222222222222222,
             "#7201a8"
            ],
            [
             0.3333333333333333,
             "#9c179e"
            ],
            [
             0.4444444444444444,
             "#bd3786"
            ],
            [
             0.5555555555555556,
             "#d8576b"
            ],
            [
             0.6666666666666666,
             "#ed7953"
            ],
            [
             0.7777777777777778,
             "#fb9f3a"
            ],
            [
             0.8888888888888888,
             "#fdca26"
            ],
            [
             1,
             "#f0f921"
            ]
           ]
          },
          "colorway": [
           "#636efa",
           "#EF553B",
           "#00cc96",
           "#ab63fa",
           "#FFA15A",
           "#19d3f3",
           "#FF6692",
           "#B6E880",
           "#FF97FF",
           "#FECB52"
          ],
          "font": {
           "color": "#2a3f5f"
          },
          "geo": {
           "bgcolor": "white",
           "lakecolor": "white",
           "landcolor": "#E5ECF6",
           "showlakes": true,
           "showland": true,
           "subunitcolor": "white"
          },
          "hoverlabel": {
           "align": "left"
          },
          "hovermode": "closest",
          "mapbox": {
           "style": "light"
          },
          "paper_bgcolor": "white",
          "plot_bgcolor": "#E5ECF6",
          "polar": {
           "angularaxis": {
            "gridcolor": "white",
            "linecolor": "white",
            "ticks": ""
           },
           "bgcolor": "#E5ECF6",
           "radialaxis": {
            "gridcolor": "white",
            "linecolor": "white",
            "ticks": ""
           }
          },
          "scene": {
           "xaxis": {
            "backgroundcolor": "#E5ECF6",
            "gridcolor": "white",
            "gridwidth": 2,
            "linecolor": "white",
            "showbackground": true,
            "ticks": "",
            "zerolinecolor": "white"
           },
           "yaxis": {
            "backgroundcolor": "#E5ECF6",
            "gridcolor": "white",
            "gridwidth": 2,
            "linecolor": "white",
            "showbackground": true,
            "ticks": "",
            "zerolinecolor": "white"
           },
           "zaxis": {
            "backgroundcolor": "#E5ECF6",
            "gridcolor": "white",
            "gridwidth": 2,
            "linecolor": "white",
            "showbackground": true,
            "ticks": "",
            "zerolinecolor": "white"
           }
          },
          "shapedefaults": {
           "line": {
            "color": "#2a3f5f"
           }
          },
          "ternary": {
           "aaxis": {
            "gridcolor": "white",
            "linecolor": "white",
            "ticks": ""
           },
           "baxis": {
            "gridcolor": "white",
            "linecolor": "white",
            "ticks": ""
           },
           "bgcolor": "#E5ECF6",
           "caxis": {
            "gridcolor": "white",
            "linecolor": "white",
            "ticks": ""
           }
          },
          "title": {
           "x": 0.05
          },
          "xaxis": {
           "automargin": true,
           "gridcolor": "white",
           "linecolor": "white",
           "ticks": "",
           "title": {
            "standoff": 15
           },
           "zerolinecolor": "white",
           "zerolinewidth": 2
          },
          "yaxis": {
           "automargin": true,
           "gridcolor": "white",
           "linecolor": "white",
           "ticks": "",
           "title": {
            "standoff": 15
           },
           "zerolinecolor": "white",
           "zerolinewidth": 2
          }
         }
        }
       }
      }
     },
     "metadata": {},
     "output_type": "display_data"
    }
   ],
   "source": [
    "fig3 = px.scatter_mapbox(station, lat=\"위도\", lon=\"경도\", hover_name='id', hover_data=['주소2',\"지역\", \"설치일\"],\n",
    "                    color_discrete_sequence=['brown'], zoom=10, height=500,opacity=0.2)\n",
    "fig4 = px.scatter_mapbox(sub_station, lat=\"위도\", lon=\"경도\", hover_name='역사명', hover_data=['역사_ID'],\n",
    "                    color_discrete_sequence=['darkorange'], zoom=10, height=500,opacity=0.3)\n",
    "fig2 = px.scatter_mapbox(merge_sub, lat=\"위도\", lon=\"경도\", hover_name='역사명', hover_data=['역사_ID'],\n",
    "                    color_discrete_sequence=['red'], zoom=10, height=500,opacity=0.5)\n",
    "fig = px.scatter_mapbox(merge_bike, lat=\"위도\", lon=\"경도\", hover_name='id', hover_data=['주소2',\"지역\", \"설치일\"],\n",
    "                    color_discrete_sequence=['cyan'], zoom=10, height=500,opacity=0.5)\n",
    "\n",
    "fig.add_trace(fig2.data[0])\n",
    "fig.add_trace(fig3.data[0])\n",
    "fig.add_trace(fig4.data[0])\n",
    "fig.update_layout(mapbox_style=\"carto-positron\")"
   ]
  },
  {
   "cell_type": "code",
   "execution_count": 271,
   "metadata": {},
   "outputs": [],
   "source": [
    "### 지하철역 근처에서 자전거를 빌리거나 반납하는 사람과 아닌 곳에서 빌리거나 반납하는 사람 수는? \n",
    "### 지하철 근처 따릉이 650개 아닌 곳 전체-650개\n",
    "\n",
    "# 지하철 근처 따릉이\n",
    "a = near_sub_sorted['bike_id']\n",
    "bike_and_sation = seoul_bike[(seoul_bike['st_id1'].isin(a)) | (seoul_bike['st_id2'].isin(a) )]\n",
    "bike_only = seoul_bike[~(seoul_bike['st_id1'].isin(a)) & ~(seoul_bike['st_id2'].isin(a) )]\n",
    "\n"
   ]
  },
  {
   "cell_type": "code",
   "execution_count": 273,
   "metadata": {},
   "outputs": [
    {
     "name": "stdout",
     "output_type": "stream",
     "text": [
      "7917593 6555730\n"
     ]
    }
   ],
   "source": [
    "print(len(bike_and_sation), len(bike_only) )\n"
   ]
  },
  {
   "cell_type": "markdown",
   "metadata": {},
   "source": [
    "## 주거지역 project 임시 저장"
   ]
  },
  {
   "cell_type": "code",
   "execution_count": 48,
   "metadata": {},
   "outputs": [
    {
     "data": {
      "text/plain": [
       "month  weekday\n",
       "7      0              [19, 5, 12, 26]\n",
       "       1              [6, 13, 20, 27]\n",
       "       2              [7, 14, 21, 28]\n",
       "       3           [1, 8, 15, 22, 29]\n",
       "       4           [9, 2, 16, 23, 30]\n",
       "       5          [10, 24, 31, 3, 17]\n",
       "       6              [4, 18, 11, 25]\n",
       "8      0           [2, 9, 16, 23, 30]\n",
       "       1          [3, 10, 17, 24, 31]\n",
       "       2              [4, 25, 11, 18]\n",
       "       3              [26, 5, 12, 19]\n",
       "       4              [27, 6, 13, 20]\n",
       "       5              [7, 21, 28, 14]\n",
       "       6           [8, 22, 29, 1, 15]\n",
       "9      0              [6, 13, 20, 27]\n",
       "       1              [28, 7, 14, 21]\n",
       "       2           [1, 29, 8, 15, 22]\n",
       "       3           [2, 30, 9, 23, 16]\n",
       "       4              [17, 3, 10, 24]\n",
       "       5              [25, 4, 11, 18]\n",
       "       6              [26, 5, 12, 19]\n",
       "10     0              [11, 4, 18, 25]\n",
       "       1              [5, 12, 26, 19]\n",
       "       2              [13, 6, 20, 27]\n",
       "       3              [7, 28, 14, 21]\n",
       "       4           [8, 22, 1, 15, 29]\n",
       "       5           [2, 9, 16, 23, 30]\n",
       "       6          [3, 10, 17, 24, 31]\n",
       "11     0           [15, 1, 8, 22, 29]\n",
       "       1           [2, 9, 16, 23, 30]\n",
       "       2              [3, 10, 17, 24]\n",
       "       3              [4, 11, 18, 25]\n",
       "       4              [26, 5, 12, 19]\n",
       "       5              [6, 13, 20, 27]\n",
       "       6              [21, 7, 14, 28]\n",
       "12     0              [13, 20, 6, 27]\n",
       "       1              [7, 28, 14, 21]\n",
       "       2           [15, 29, 8, 1, 22]\n",
       "       3           [23, 30, 2, 9, 16]\n",
       "       4          [10, 31, 17, 24, 3]\n",
       "       5              [18, 4, 11, 25]\n",
       "       6              [5, 12, 19, 26]\n",
       "Name: day, dtype: object"
      ]
     },
     "execution_count": 48,
     "metadata": {},
     "output_type": "execute_result"
    }
   ],
   "source": [
    "## 주거지역 <=> 직장이 얼마나 많으지 분석해보기 \n",
    "\n",
    "# 월별 자전거 이용요일 분석\n",
    "plt.style.use('seaborn')\n",
    "seoul_bike.pivot_table(index='month',columns='weekday',aggfunc='size').plot.bar(figsize=(15,8))\n",
    "\n",
    "## 평일에 오히려 많네. 출퇴근으로 사용하는걸까?\n",
    "\n",
    "# 아니면 혹시 날짜와 weekday가 어그러진 것 아닐까?\n",
    "# weekday와 날짜간 문제없음\n",
    "seoul_bike.groupby(['month','weekday'])['day'].unique()\n",
    "\n",
    "from datetime import time\n",
    "# 출퇴근과 아닌 경우로 매달 그래프를 그려서 비교해보자 \n",
    "# 출근시간 6:00-10:00\n",
    "# 퇴근시간 17:00-20:00\n",
    "# seoul_bike.loc[:,'time'] = pd.to_datetime(seoul_bike['time'])\n",
    "seoul_bike['time'] > time(22,00,00)"
   ]
  }
 ],
 "metadata": {
  "interpreter": {
   "hash": "e62f1c4b81bd62359df3af75ff11dc061b199f24c0c36e9555ed164c411730df"
  },
  "kernelspec": {
   "display_name": "Python 3.8.5 64-bit",
   "language": "python",
   "name": "python3"
  },
  "language_info": {
   "codemirror_mode": {
    "name": "ipython",
    "version": 3
   },
   "file_extension": ".py",
   "mimetype": "text/x-python",
   "name": "python",
   "nbconvert_exporter": "python",
   "pygments_lexer": "ipython3",
   "version": "3.8.5"
  },
  "orig_nbformat": 4
 },
 "nbformat": 4,
 "nbformat_minor": 2
}
