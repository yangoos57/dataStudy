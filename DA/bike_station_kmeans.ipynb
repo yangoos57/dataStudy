{
 "cells": [
  {
   "cell_type": "code",
   "execution_count": 1,
   "metadata": {},
   "outputs": [],
   "source": [
    "import pandas as pd\n",
    "import numpy as np\n",
    "import matplotlib.pyplot as plt\n",
    "import seaborn as sns\n",
    "from sklearn.cluster import k_means\n",
    "import plotly.express as px"
   ]
  },
  {
   "cell_type": "code",
   "execution_count": 2,
   "metadata": {},
   "outputs": [
    {
     "data": {
      "text/html": [
       "<div>\n",
       "<style scoped>\n",
       "    .dataframe tbody tr th:only-of-type {\n",
       "        vertical-align: middle;\n",
       "    }\n",
       "\n",
       "    .dataframe tbody tr th {\n",
       "        vertical-align: top;\n",
       "    }\n",
       "\n",
       "    .dataframe thead th {\n",
       "        text-align: right;\n",
       "    }\n",
       "</style>\n",
       "<table border=\"1\" class=\"dataframe\">\n",
       "  <thead>\n",
       "    <tr style=\"text-align: right;\">\n",
       "      <th></th>\n",
       "      <th>day</th>\n",
       "      <th>time</th>\n",
       "      <th>weekday</th>\n",
       "      <th>by_id</th>\n",
       "      <th>st_id1</th>\n",
       "      <th>st_id2</th>\n",
       "      <th>riding_time</th>\n",
       "      <th>dist</th>\n",
       "      <th>id1_long</th>\n",
       "      <th>id1_lat</th>\n",
       "      <th>id2_long</th>\n",
       "      <th>id2_lat</th>\n",
       "    </tr>\n",
       "  </thead>\n",
       "  <tbody>\n",
       "    <tr>\n",
       "      <th>0</th>\n",
       "      <td>1</td>\n",
       "      <td>02:34:32</td>\n",
       "      <td>2</td>\n",
       "      <td>45605</td>\n",
       "      <td>102</td>\n",
       "      <td>4213</td>\n",
       "      <td>7</td>\n",
       "      <td>0.00</td>\n",
       "      <td>37.555649</td>\n",
       "      <td>126.910629</td>\n",
       "      <td>37.564156</td>\n",
       "      <td>126.908150</td>\n",
       "    </tr>\n",
       "    <tr>\n",
       "      <th>1</th>\n",
       "      <td>1</td>\n",
       "      <td>05:53:58</td>\n",
       "      <td>2</td>\n",
       "      <td>42126</td>\n",
       "      <td>102</td>\n",
       "      <td>107</td>\n",
       "      <td>8</td>\n",
       "      <td>814.13</td>\n",
       "      <td>37.555649</td>\n",
       "      <td>126.910629</td>\n",
       "      <td>37.557510</td>\n",
       "      <td>126.918503</td>\n",
       "    </tr>\n",
       "    <tr>\n",
       "      <th>2</th>\n",
       "      <td>1</td>\n",
       "      <td>07:41:36</td>\n",
       "      <td>2</td>\n",
       "      <td>55711</td>\n",
       "      <td>102</td>\n",
       "      <td>107</td>\n",
       "      <td>6</td>\n",
       "      <td>820.00</td>\n",
       "      <td>37.555649</td>\n",
       "      <td>126.910629</td>\n",
       "      <td>37.557510</td>\n",
       "      <td>126.918503</td>\n",
       "    </tr>\n",
       "    <tr>\n",
       "      <th>3</th>\n",
       "      <td>1</td>\n",
       "      <td>07:45:30</td>\n",
       "      <td>2</td>\n",
       "      <td>51047</td>\n",
       "      <td>102</td>\n",
       "      <td>102</td>\n",
       "      <td>9</td>\n",
       "      <td>0.00</td>\n",
       "      <td>37.555649</td>\n",
       "      <td>126.910629</td>\n",
       "      <td>37.555649</td>\n",
       "      <td>126.910629</td>\n",
       "    </tr>\n",
       "    <tr>\n",
       "      <th>4</th>\n",
       "      <td>1</td>\n",
       "      <td>07:57:11</td>\n",
       "      <td>2</td>\n",
       "      <td>50155</td>\n",
       "      <td>102</td>\n",
       "      <td>3010</td>\n",
       "      <td>7</td>\n",
       "      <td>0.00</td>\n",
       "      <td>37.555649</td>\n",
       "      <td>126.910629</td>\n",
       "      <td>37.558296</td>\n",
       "      <td>126.925385</td>\n",
       "    </tr>\n",
       "  </tbody>\n",
       "</table>\n",
       "</div>"
      ],
      "text/plain": [
       "   day      time  weekday  by_id  st_id1  st_id2  riding_time    dist  \\\n",
       "0    1  02:34:32        2  45605     102    4213            7    0.00   \n",
       "1    1  05:53:58        2  42126     102     107            8  814.13   \n",
       "2    1  07:41:36        2  55711     102     107            6  820.00   \n",
       "3    1  07:45:30        2  51047     102     102            9    0.00   \n",
       "4    1  07:57:11        2  50155     102    3010            7    0.00   \n",
       "\n",
       "    id1_long     id1_lat   id2_long     id2_lat  \n",
       "0  37.555649  126.910629  37.564156  126.908150  \n",
       "1  37.555649  126.910629  37.557510  126.918503  \n",
       "2  37.555649  126.910629  37.557510  126.918503  \n",
       "3  37.555649  126.910629  37.555649  126.910629  \n",
       "4  37.555649  126.910629  37.558296  126.925385  "
      ]
     },
     "execution_count": 2,
     "metadata": {},
     "output_type": "execute_result"
    }
   ],
   "source": [
    "seoul_bike = pd.read_hdf('D:\\git_local_repository\\data_for_project\\seoul_bike\\seoul_bike_2021_09.hdf5')\n",
    "# bike_station = pd.read_csv('D:/git_local_repository/data_for_project/seoul_bike/bike_station_2021.06.csv')\n",
    "seoul_bike.head()"
   ]
  },
  {
   "cell_type": "code",
   "execution_count": 3,
   "metadata": {},
   "outputs": [
    {
     "data": {
      "text/plain": [
       "<AxesSubplot:xlabel='weekday'>"
      ]
     },
     "execution_count": 3,
     "metadata": {},
     "output_type": "execute_result"
    },
    {
     "data": {
      "image/png": "[encoded data removed]",
      "text/plain": [
       "<Figure size 432x288 with 1 Axes>"
      ]
     },
     "metadata": {
      "needs_background": "light"
     },
     "output_type": "display_data"
    }
   ],
   "source": [
    "# 의외로 목요일이 이용량이 많다. 이상해서 원본파일과 21년 4월 파일을 검사해봄\n",
    "seoul_bike.groupby('weekday').size().plot.bar()"
   ]
  },
  {
   "cell_type": "code",
   "execution_count": 11,
   "metadata": {},
   "outputs": [],
   "source": []
  },
  {
   "cell_type": "code",
   "execution_count": 12,
   "metadata": {},
   "outputs": [
    {
     "data": {
      "text/plain": [
       "['seoul_bike_2021.01.csv',\n",
       " 'seoul_bike_2021.02.csv',\n",
       " 'seoul_bike_2021.03.csv',\n",
       " 'seoul_bike_2021.04.csv',\n",
       " 'seoul_bike_2021.05.csv',\n",
       " 'seoul_bike_2021.06.csv',\n",
       " 'seoul_bike_2021.07.csv',\n",
       " 'seoul_bike_2021.08.csv',\n",
       " 'seoul_bike_2021.09.csv',\n",
       " 'seoul_bike_2021.10.csv',\n",
       " 'seoul_bike_2021.11.csv',\n",
       " 'seoul_bike_2021.12.csv']"
      ]
     },
     "execution_count": 12,
     "metadata": {},
     "output_type": "execute_result"
    }
   ],
   "source": []
  },
  {
   "cell_type": "code",
   "execution_count": null,
   "metadata": {},
   "outputs": [],
   "source": []
  }
 ],
 "metadata": {
  "interpreter": {
   "hash": "47be6c136d2b4a6c76f7d3db2f991a133eb39bf1d99b20f1b6e05e99edd1faf4"
  },
  "kernelspec": {
   "display_name": "Python 3.8.5 ('base')",
   "language": "python",
   "name": "python3"
  },
  "language_info": {
   "codemirror_mode": {
    "name": "ipython",
    "version": 3
   },
   "file_extension": ".py",
   "mimetype": "text/x-python",
   "name": "python",
   "nbconvert_exporter": "python",
   "pygments_lexer": "ipython3",
   "version": "3.8.5"
  },
  "orig_nbformat": 4
 },
 "nbformat": 4,
 "nbformat_minor": 2
}
