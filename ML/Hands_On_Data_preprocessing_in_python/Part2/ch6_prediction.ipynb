{
 "cells": [
  {
   "cell_type": "code",
   "execution_count": 13,
   "metadata": {},
   "outputs": [
    {
     "data": {
      "text/plain": [
       "'d:\\\\git_local_repository\\\\yangoos57\\\\ML\\\\Hands_On_Data_preprocessing_in_python\\\\Part2'"
      ]
     },
     "execution_count": 13,
     "metadata": {},
     "output_type": "execute_result"
    }
   ],
   "source": [
    "import pandas as pd\n",
    "import numpy as np\n",
    "import matplotlib.pyplot as plt\n",
    "import seaborn as sns\n",
    "from sklearn.linear_model import LinearRegression\n",
    "import os\n",
    "\n",
    "os.getcwd()"
   ]
  },
  {
   "cell_type": "code",
   "execution_count": 14,
   "metadata": {},
   "outputs": [
    {
     "name": "stdout",
     "output_type": "stream",
     "text": [
      "<class 'pandas.core.frame.DataFrame'>\n",
      "Int64Index: 16 entries, 2006 to 2021\n",
      "Data columns (total 3 columns):\n",
      " #   Column                  Non-Null Count  Dtype  \n",
      "---  ------                  --------------  -----  \n",
      " 0   P_Football_Performance  16 non-null     float64\n",
      " 1   SMAn2                   16 non-null     float64\n",
      " 2   N_Applications          16 non-null     int64  \n",
      "dtypes: float64(2), int64(1)\n",
      "memory usage: 512.0 bytes\n"
     ]
    }
   ],
   "source": [
    "msu_df = pd.read_csv('data/ch6/MSU applications.csv', index_col='Year')\n",
    "msu_df.head(1)\n",
    "msu_df.info()"
   ]
  },
  {
   "cell_type": "markdown",
   "metadata": {},
   "source": [
    "### Regression\n",
    "* Predictor attribute = dependent attribute = X axis\n",
    "* target attribute = independent attribute = Y axis\n",
    " \n",
    "<br>\n",
    "\n",
    "sklearn 명령어\n",
    "* .intercept_ = B_0을 보여주는 값\n",
    "* .coef_ = B_1,B_2를 보여주는 값\n",
    "\n"
   ]
  },
  {
   "cell_type": "code",
   "execution_count": 15,
   "metadata": {},
   "outputs": [
    {
     "name": "stdout",
     "output_type": "stream",
     "text": [
      "intercept (b0) -890.7106225983425\n"
     ]
    },
    {
     "data": {
      "text/html": [
       "<div>\n",
       "<style scoped>\n",
       "    .dataframe tbody tr th:only-of-type {\n",
       "        vertical-align: middle;\n",
       "    }\n",
       "\n",
       "    .dataframe tbody tr th {\n",
       "        vertical-align: top;\n",
       "    }\n",
       "\n",
       "    .dataframe thead th {\n",
       "        text-align: right;\n",
       "    }\n",
       "</style>\n",
       "<table border=\"1\" class=\"dataframe\">\n",
       "  <thead>\n",
       "    <tr style=\"text-align: right;\">\n",
       "      <th></th>\n",
       "      <th>Predictor</th>\n",
       "      <th>coefficient Name</th>\n",
       "      <th>coefficient Value</th>\n",
       "    </tr>\n",
       "  </thead>\n",
       "  <tbody>\n",
       "    <tr>\n",
       "      <th>0</th>\n",
       "      <td>P_Football_Performance</td>\n",
       "      <td>b1</td>\n",
       "      <td>5544.961933</td>\n",
       "    </tr>\n",
       "    <tr>\n",
       "      <th>1</th>\n",
       "      <td>SMAn2</td>\n",
       "      <td>b2</td>\n",
       "      <td>0.907032</td>\n",
       "    </tr>\n",
       "  </tbody>\n",
       "</table>\n",
       "</div>"
      ],
      "text/plain": [
       "                Predictor coefficient Name  coefficient Value\n",
       "0  P_Football_Performance               b1        5544.961933\n",
       "1                   SMAn2               b2           0.907032"
      ]
     },
     "execution_count": 15,
     "metadata": {},
     "output_type": "execute_result"
    }
   ],
   "source": [
    "x = ['P_Football_Performance','SMAn2']\n",
    "y ='N_Applications'\n",
    "\n",
    "data_x = msu_df[x]\n",
    "data_y = msu_df[y]\n",
    "\n",
    "lm = LinearRegression()\n",
    "lm.fit(data_x, data_y)\n",
    "\n",
    "print('intercept (b0)', lm.intercept_)\n",
    "coef_names = ['b1','b2']\n",
    "pd.DataFrame({'Predictor': data_x.columns,\n",
    "                    'coefficient Name': coef_names,\n",
    "                    'coefficient Value' : lm.coef_})"
   ]
  },
  {
   "cell_type": "markdown",
   "metadata": {},
   "source": [
    "### scikit-learn으로 예측하기\n",
    "\n",
    "x값\n",
    "* 22년도 P_Football_Performance : 0.364\n",
    "* 20,21년도 지원자 평균 : 17198\n",
    "  \n",
    "y값 예측\n",
    "* .predict()"
   ]
  },
  {
   "cell_type": "code",
   "execution_count": 16,
   "metadata": {},
   "outputs": [
    {
     "data": {
      "text/plain": [
       "array([16726.78787061])"
      ]
     },
     "execution_count": 16,
     "metadata": {},
     "output_type": "execute_result"
    }
   ],
   "source": [
    "newData = pd.DataFrame({'P_Football_Performance':0.364, 'SMAn2':17198}, index=[2022])\n",
    "\n",
    "lm.predict(newData)"
   ]
  },
  {
   "cell_type": "markdown",
   "metadata": {},
   "source": [
    "### NLP\n",
    "Heuristic approach\n",
    "\n",
    "the most famous heuristic that is used to estimate the connections' weights for MLP is called backpropagation\n",
    "\n",
    "**Backpropagation**\n",
    "1. Random initialization : each connection's weight is first assigned a random number between -1 and 1.\n",
    "2. Every time a data object is exposed to the MLP network, MLP xpects its dependent attribute.\n",
    "3. epoch of learning : Every time all the data objets are exposed to the network."
   ]
  },
  {
   "cell_type": "code",
   "execution_count": 22,
   "metadata": {},
   "outputs": [
    {
     "data": {
      "text/plain": [
       "array([18641.62328469])"
      ]
     },
     "execution_count": 22,
     "metadata": {},
     "output_type": "execute_result"
    }
   ],
   "source": [
    "from sklearn.neural_network import MLPRegressor \n",
    "\n",
    "x = ['P_Football_Performance','SMAn2']\n",
    "y ='N_Applications'\n",
    "\n",
    "data_x = msu_df[x]\n",
    "data_y = msu_df[y]\n",
    "\n",
    "newData = pd.DataFrame({'P_Football_Performance':0.364, 'SMAn2':17198}, index=[2022])\n",
    "\n",
    "mlp = MLPRegressor(hidden_layer_sizes=6, max_iter=100000)\n",
    "mlp.fit(data_x, data_y)\n",
    "mlp.predict(newData)"
   ]
  },
  {
   "cell_type": "code",
   "execution_count": null,
   "metadata": {},
   "outputs": [],
   "source": []
  }
 ],
 "metadata": {
  "interpreter": {
   "hash": "b32ab0203d4274b325f86ba61b5b3c6bc5e3032e9f578fcc84de2c2aec614dff"
  },
  "kernelspec": {
   "display_name": "Python 3.8.5 ('base')",
   "language": "python",
   "name": "python3"
  },
  "language_info": {
   "codemirror_mode": {
    "name": "ipython",
    "version": 3
   },
   "file_extension": ".py",
   "mimetype": "text/x-python",
   "name": "python",
   "nbconvert_exporter": "python",
   "pygments_lexer": "ipython3",
   "version": "3.8.5"
  },
  "orig_nbformat": 4
 },
 "nbformat": 4,
 "nbformat_minor": 2
}
