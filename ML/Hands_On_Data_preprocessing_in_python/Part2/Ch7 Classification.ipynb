{
 "cells": [
  {
   "cell_type": "code",
   "execution_count": 1,
   "metadata": {},
   "outputs": [
    {
     "data": {
      "text/plain": [
       "'d:\\\\git_local_repository\\\\yangoos57\\\\ML\\\\Hands_On_Data_preprocessing_in_python\\\\Part2'"
      ]
     },
     "execution_count": 1,
     "metadata": {},
     "output_type": "execute_result"
    }
   ],
   "source": [
    "import pandas as pd\n",
    "import numpy as np\n",
    "import matplotlib.pyplot as plt\n",
    "import seaborn as sns\n",
    "from sklearn.linear_model import LinearRegression\n",
    "import os\n",
    "\n",
    "os.getcwd()"
   ]
  },
  {
   "cell_type": "code",
   "execution_count": 2,
   "metadata": {},
   "outputs": [
    {
     "name": "stdout",
     "output_type": "stream",
     "text": [
      "<class 'pandas.core.frame.DataFrame'>\n",
      "RangeIndex: 21 entries, 0 to 20\n",
      "Data columns (total 4 columns):\n",
      " #   Column   Non-Null Count  Dtype \n",
      "---  ------   --------------  ----- \n",
      " 0   Name     21 non-null     int64 \n",
      " 1   income   21 non-null     int64 \n",
      " 2   score    21 non-null     int64 \n",
      " 3   default  20 non-null     object\n",
      "dtypes: int64(3), object(1)\n",
      "memory usage: 800.0+ bytes\n"
     ]
    }
   ],
   "source": [
    "customerloan_df = pd.read_csv('./data/ch7/CustomerLoan.csv')\n",
    "\n",
    "customerloan_df.info()"
   ]
  },
  {
   "cell_type": "code",
   "execution_count": 3,
   "metadata": {},
   "outputs": [
    {
     "data": {
      "text/plain": [
       "<matplotlib.legend.Legend at 0x24b2175fd90>"
      ]
     },
     "execution_count": 3,
     "metadata": {},
     "output_type": "execute_result"
    },
    {
     "data": {
      "image/png": "[encoded data removed]",
      "text/plain": [
       "<Figure size 288x288 with 1 Axes>"
      ]
     },
     "metadata": {
      "needs_background": "light"
     },
     "output_type": "display_data"
    }
   ],
   "source": [
    "plt.figure(figsize=(4,4))\n",
    "customerloan_df.sort_values(by='default', ascending=False, inplace=True)\n",
    "sns.scatterplot(x='income',y='score',hue='default', data = customerloan_df, palette=['k','b'])\n",
    "plt.legend(bbox_to_anchor=(1.05, 1.0))"
   ]
  },
  {
   "cell_type": "code",
   "execution_count": 4,
   "metadata": {},
   "outputs": [
    {
     "data": {
      "text/plain": [
       "array(['Yes', 'NO', nan], dtype=object)"
      ]
     },
     "execution_count": 4,
     "metadata": {},
     "output_type": "execute_result"
    }
   ],
   "source": [
    "customerloan_df['default'].unique()"
   ]
  },
  {
   "cell_type": "code",
   "execution_count": 8,
   "metadata": {},
   "outputs": [
    {
     "data": {
      "text/html": [
       "<div>\n",
       "<style scoped>\n",
       "    .dataframe tbody tr th:only-of-type {\n",
       "        vertical-align: middle;\n",
       "    }\n",
       "\n",
       "    .dataframe tbody tr th {\n",
       "        vertical-align: top;\n",
       "    }\n",
       "\n",
       "    .dataframe thead th {\n",
       "        text-align: right;\n",
       "    }\n",
       "</style>\n",
       "<table border=\"1\" class=\"dataframe\">\n",
       "  <thead>\n",
       "    <tr style=\"text-align: right;\">\n",
       "      <th></th>\n",
       "      <th>Name</th>\n",
       "      <th>income</th>\n",
       "      <th>score</th>\n",
       "      <th>default</th>\n",
       "      <th>income_normalized</th>\n",
       "      <th>socre_normalized</th>\n",
       "      <th>score_normalized</th>\n",
       "    </tr>\n",
       "  </thead>\n",
       "  <tbody>\n",
       "    <tr>\n",
       "      <th>10</th>\n",
       "      <td>10</td>\n",
       "      <td>84519</td>\n",
       "      <td>740</td>\n",
       "      <td>Yes</td>\n",
       "      <td>0.145553</td>\n",
       "      <td>0.444444</td>\n",
       "      <td>0.444444</td>\n",
       "    </tr>\n",
       "    <tr>\n",
       "      <th>11</th>\n",
       "      <td>11</td>\n",
       "      <td>86504</td>\n",
       "      <td>753</td>\n",
       "      <td>Yes</td>\n",
       "      <td>0.193387</td>\n",
       "      <td>0.540741</td>\n",
       "      <td>0.540741</td>\n",
       "    </tr>\n",
       "    <tr>\n",
       "      <th>18</th>\n",
       "      <td>18</td>\n",
       "      <td>107388</td>\n",
       "      <td>789</td>\n",
       "      <td>Yes</td>\n",
       "      <td>0.696653</td>\n",
       "      <td>0.807407</td>\n",
       "      <td>0.807407</td>\n",
       "    </tr>\n",
       "    <tr>\n",
       "      <th>17</th>\n",
       "      <td>17</td>\n",
       "      <td>104451</td>\n",
       "      <td>730</td>\n",
       "      <td>Yes</td>\n",
       "      <td>0.625877</td>\n",
       "      <td>0.370370</td>\n",
       "      <td>0.370370</td>\n",
       "    </tr>\n",
       "    <tr>\n",
       "      <th>16</th>\n",
       "      <td>16</td>\n",
       "      <td>103760</td>\n",
       "      <td>740</td>\n",
       "      <td>Yes</td>\n",
       "      <td>0.609225</td>\n",
       "      <td>0.444444</td>\n",
       "      <td>0.444444</td>\n",
       "    </tr>\n",
       "    <tr>\n",
       "      <th>15</th>\n",
       "      <td>15</td>\n",
       "      <td>102658</td>\n",
       "      <td>680</td>\n",
       "      <td>Yes</td>\n",
       "      <td>0.582669</td>\n",
       "      <td>0.000000</td>\n",
       "      <td>0.000000</td>\n",
       "    </tr>\n",
       "    <tr>\n",
       "      <th>14</th>\n",
       "      <td>14</td>\n",
       "      <td>97262</td>\n",
       "      <td>777</td>\n",
       "      <td>Yes</td>\n",
       "      <td>0.452635</td>\n",
       "      <td>0.718519</td>\n",
       "      <td>0.718519</td>\n",
       "    </tr>\n",
       "    <tr>\n",
       "      <th>13</th>\n",
       "      <td>13</td>\n",
       "      <td>93941</td>\n",
       "      <td>706</td>\n",
       "      <td>Yes</td>\n",
       "      <td>0.372605</td>\n",
       "      <td>0.192593</td>\n",
       "      <td>0.192593</td>\n",
       "    </tr>\n",
       "    <tr>\n",
       "      <th>12</th>\n",
       "      <td>12</td>\n",
       "      <td>89292</td>\n",
       "      <td>750</td>\n",
       "      <td>Yes</td>\n",
       "      <td>0.260573</td>\n",
       "      <td>0.518519</td>\n",
       "      <td>0.518519</td>\n",
       "    </tr>\n",
       "    <tr>\n",
       "      <th>19</th>\n",
       "      <td>19</td>\n",
       "      <td>107400</td>\n",
       "      <td>690</td>\n",
       "      <td>Yes</td>\n",
       "      <td>0.696942</td>\n",
       "      <td>0.074074</td>\n",
       "      <td>0.074074</td>\n",
       "    </tr>\n",
       "    <tr>\n",
       "      <th>1</th>\n",
       "      <td>1</td>\n",
       "      <td>95483</td>\n",
       "      <td>801</td>\n",
       "      <td>NO</td>\n",
       "      <td>0.409765</td>\n",
       "      <td>0.896296</td>\n",
       "      <td>0.896296</td>\n",
       "    </tr>\n",
       "    <tr>\n",
       "      <th>9</th>\n",
       "      <td>9</td>\n",
       "      <td>119976</td>\n",
       "      <td>790</td>\n",
       "      <td>NO</td>\n",
       "      <td>1.000000</td>\n",
       "      <td>0.814815</td>\n",
       "      <td>0.814815</td>\n",
       "    </tr>\n",
       "    <tr>\n",
       "      <th>8</th>\n",
       "      <td>8</td>\n",
       "      <td>119147</td>\n",
       "      <td>805</td>\n",
       "      <td>NO</td>\n",
       "      <td>0.980023</td>\n",
       "      <td>0.925926</td>\n",
       "      <td>0.925926</td>\n",
       "    </tr>\n",
       "    <tr>\n",
       "      <th>7</th>\n",
       "      <td>7</td>\n",
       "      <td>114799</td>\n",
       "      <td>801</td>\n",
       "      <td>NO</td>\n",
       "      <td>0.875244</td>\n",
       "      <td>0.896296</td>\n",
       "      <td>0.896296</td>\n",
       "    </tr>\n",
       "    <tr>\n",
       "      <th>6</th>\n",
       "      <td>6</td>\n",
       "      <td>114114</td>\n",
       "      <td>799</td>\n",
       "      <td>NO</td>\n",
       "      <td>0.858737</td>\n",
       "      <td>0.881481</td>\n",
       "      <td>0.881481</td>\n",
       "    </tr>\n",
       "    <tr>\n",
       "      <th>5</th>\n",
       "      <td>5</td>\n",
       "      <td>112845</td>\n",
       "      <td>750</td>\n",
       "      <td>NO</td>\n",
       "      <td>0.828156</td>\n",
       "      <td>0.518519</td>\n",
       "      <td>0.518519</td>\n",
       "    </tr>\n",
       "    <tr>\n",
       "      <th>4</th>\n",
       "      <td>4</td>\n",
       "      <td>108726</td>\n",
       "      <td>795</td>\n",
       "      <td>NO</td>\n",
       "      <td>0.728896</td>\n",
       "      <td>0.851852</td>\n",
       "      <td>0.851852</td>\n",
       "    </tr>\n",
       "    <tr>\n",
       "      <th>3</th>\n",
       "      <td>3</td>\n",
       "      <td>104234</td>\n",
       "      <td>790</td>\n",
       "      <td>NO</td>\n",
       "      <td>0.620647</td>\n",
       "      <td>0.814815</td>\n",
       "      <td>0.814815</td>\n",
       "    </tr>\n",
       "    <tr>\n",
       "      <th>2</th>\n",
       "      <td>2</td>\n",
       "      <td>101641</td>\n",
       "      <td>815</td>\n",
       "      <td>NO</td>\n",
       "      <td>0.558161</td>\n",
       "      <td>1.000000</td>\n",
       "      <td>1.000000</td>\n",
       "    </tr>\n",
       "    <tr>\n",
       "      <th>0</th>\n",
       "      <td>0</td>\n",
       "      <td>78479</td>\n",
       "      <td>800</td>\n",
       "      <td>NO</td>\n",
       "      <td>0.000000</td>\n",
       "      <td>0.888889</td>\n",
       "      <td>0.888889</td>\n",
       "    </tr>\n",
       "    <tr>\n",
       "      <th>20</th>\n",
       "      <td>20</td>\n",
       "      <td>98487</td>\n",
       "      <td>785</td>\n",
       "      <td>NaN</td>\n",
       "      <td>0.482155</td>\n",
       "      <td>0.777778</td>\n",
       "      <td>0.777778</td>\n",
       "    </tr>\n",
       "  </tbody>\n",
       "</table>\n",
       "</div>"
      ],
      "text/plain": [
       "    Name  income  score default  income_normalized  socre_normalized  \\\n",
       "10    10   84519    740     Yes           0.145553          0.444444   \n",
       "11    11   86504    753     Yes           0.193387          0.540741   \n",
       "18    18  107388    789     Yes           0.696653          0.807407   \n",
       "17    17  104451    730     Yes           0.625877          0.370370   \n",
       "16    16  103760    740     Yes           0.609225          0.444444   \n",
       "15    15  102658    680     Yes           0.582669          0.000000   \n",
       "14    14   97262    777     Yes           0.452635          0.718519   \n",
       "13    13   93941    706     Yes           0.372605          0.192593   \n",
       "12    12   89292    750     Yes           0.260573          0.518519   \n",
       "19    19  107400    690     Yes           0.696942          0.074074   \n",
       "1      1   95483    801      NO           0.409765          0.896296   \n",
       "9      9  119976    790      NO           1.000000          0.814815   \n",
       "8      8  119147    805      NO           0.980023          0.925926   \n",
       "7      7  114799    801      NO           0.875244          0.896296   \n",
       "6      6  114114    799      NO           0.858737          0.881481   \n",
       "5      5  112845    750      NO           0.828156          0.518519   \n",
       "4      4  108726    795      NO           0.728896          0.851852   \n",
       "3      3  104234    790      NO           0.620647          0.814815   \n",
       "2      2  101641    815      NO           0.558161          1.000000   \n",
       "0      0   78479    800      NO           0.000000          0.888889   \n",
       "20    20   98487    785     NaN           0.482155          0.777778   \n",
       "\n",
       "    score_normalized  \n",
       "10          0.444444  \n",
       "11          0.540741  \n",
       "18          0.807407  \n",
       "17          0.370370  \n",
       "16          0.444444  \n",
       "15          0.000000  \n",
       "14          0.718519  \n",
       "13          0.192593  \n",
       "12          0.518519  \n",
       "19          0.074074  \n",
       "1           0.896296  \n",
       "9           0.814815  \n",
       "8           0.925926  \n",
       "7           0.896296  \n",
       "6           0.881481  \n",
       "5           0.518519  \n",
       "4           0.851852  \n",
       "3           0.814815  \n",
       "2           1.000000  \n",
       "0           0.888889  \n",
       "20          0.777778  "
      ]
     },
     "execution_count": 8,
     "metadata": {},
     "output_type": "execute_result"
    }
   ],
   "source": [
    "customerloan_df['income_normalized'] = (customerloan_df.income - customerloan_df.income.min()) / (customerloan_df.income.max() - customerloan_df.income.min())\n",
    "customerloan_df['score_normalized'] = (customerloan_df.score - customerloan_df.score.min()) / (customerloan_df.score.max() - customerloan_df.score.min())\n",
    "\n",
    "customerloan_df"
   ]
  },
  {
   "cell_type": "markdown",
   "metadata": {},
   "source": [
    "### KNN\n",
    "\n",
    "### Index와 Column 바꾸기  => .T"
   ]
  },
  {
   "cell_type": "code",
   "execution_count": 22,
   "metadata": {},
   "outputs": [
    {
     "name": "stdout",
     "output_type": "stream",
     "text": [
      "['NO']\n"
     ]
    }
   ],
   "source": [
    "from sklearn.neighbors import KNeighborsClassifier\n",
    "\n",
    "predictors =['income_normalized','score_normalized']\n",
    "target = 'default'\n",
    "xs = customerloan_df[predictors].drop(index=[20]) ### independent attributes\n",
    "y = customerloan_df[target].drop(index=[20]) ### a dependent attribute\n",
    "\n",
    "knn = KNeighborsClassifier(n_neighbors=4)\n",
    "knn.fit(xs,y)\n",
    "\n",
    "newapplicant = customerloan_df.iloc[20][['income_normalized','score_normalized']]\n",
    "newapplicant_df = pd.DataFrame(newapplicant).T\n",
    "newapplicant_df\n",
    "\n",
    "predict_y = knn.predict(newapplicant_df)\n",
    "print(predict_y)"
   ]
  },
  {
   "cell_type": "markdown",
   "metadata": {},
   "source": [
    "### Decision Tree\n",
    "\n",
    "### Decision Tree에서는 Normalize를 하지 않는다."
   ]
  },
  {
   "cell_type": "code",
   "execution_count": 23,
   "metadata": {},
   "outputs": [
    {
     "name": "stdout",
     "output_type": "stream",
     "text": [
      "['Yes']\n"
     ]
    }
   ],
   "source": [
    "from sklearn.tree import DecisionTreeClassifier\n",
    "\n",
    "predictors = ['income', 'score'] ### Nomalizing을 하지 않는다.\n",
    "target = 'default'\n",
    "\n",
    "xs = customerloan_df[predictors].drop(index=[20])\n",
    "y = customerloan_df[target].drop(index=[20])\n",
    "classtree = DecisionTreeClassifier()\n",
    "classtree.fit(xs,y)\n",
    "predict_y = classtree.predict(newapplicant_df)\n",
    "print(predict_y)"
   ]
  },
  {
   "cell_type": "markdown",
   "metadata": {},
   "source": [
    "### Tree Image 불러오기\n"
   ]
  },
  {
   "cell_type": "code",
   "execution_count": 24,
   "metadata": {},
   "outputs": [
    {
     "data": {
      "text/plain": [
       "[Text(200.88000000000002, 181.2, 'score <= 789.5\\nsamples = 20\\nvalue = [10, 10]\\nclass = Yes'),\n",
       " Text(133.92000000000002, 108.72, 'income <= 110122.5\\nsamples = 11\\nvalue = [1, 10]\\nclass = NO'),\n",
       " Text(66.96000000000001, 36.23999999999998, 'samples = 10\\nvalue = [0, 10]\\nclass = NO'),\n",
       " Text(200.88000000000002, 36.23999999999998, 'samples = 1\\nvalue = [1, 0]\\nclass = Yes'),\n",
       " Text(267.84000000000003, 108.72, 'samples = 9\\nvalue = [9, 0]\\nclass = Yes')]"
      ]
     },
     "execution_count": 24,
     "metadata": {},
     "output_type": "execute_result"
    },
    {
     "data": {
      "image/png": "[encoded data removed]",
      "text/plain": [
       "<Figure size 432x288 with 1 Axes>"
      ]
     },
     "metadata": {
      "needs_background": "light"
     },
     "output_type": "display_data"
    }
   ],
   "source": [
    "from sklearn.tree import plot_tree \n",
    "\n",
    "plot_tree(classtree, feature_names=predictors, class_names=y.unique(), filled =True, impurity=False)"
   ]
  },
  {
   "cell_type": "code",
   "execution_count": null,
   "metadata": {},
   "outputs": [],
   "source": []
  },
  {
   "cell_type": "markdown",
   "metadata": {},
   "source": [
    "Questions\n",
    "1. .fillna로 NaN 값 플롯에 별표로 표시하기\n",
    "2. Decision Tree로 주사위 합 Tree를 만들 수 있나? "
   ]
  },
  {
   "cell_type": "code",
   "execution_count": 34,
   "metadata": {},
   "outputs": [
    {
     "name": "stdout",
     "output_type": "stream",
     "text": [
      "4.7692133\n"
     ]
    }
   ],
   "source": []
  },
  {
   "cell_type": "code",
   "execution_count": null,
   "metadata": {},
   "outputs": [],
   "source": [
    "10,000,000,000"
   ]
  }
 ],
 "metadata": {
  "interpreter": {
   "hash": "b32ab0203d4274b325f86ba61b5b3c6bc5e3032e9f578fcc84de2c2aec614dff"
  },
  "kernelspec": {
   "display_name": "Python 3.8.5 ('base')",
   "language": "python",
   "name": "python3"
  },
  "language_info": {
   "codemirror_mode": {
    "name": "ipython",
    "version": 3
   },
   "file_extension": ".py",
   "mimetype": "text/x-python",
   "name": "python",
   "nbconvert_exporter": "python",
   "pygments_lexer": "ipython3",
   "version": "3.8.5"
  },
  "orig_nbformat": 4
 },
 "nbformat": 4,
 "nbformat_minor": 2
}
