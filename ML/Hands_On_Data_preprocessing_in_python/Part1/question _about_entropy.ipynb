{
 "cells": [
  {
   "cell_type": "code",
   "execution_count": 12,
   "metadata": {},
   "outputs": [],
   "source": [
    "import math\n",
    "import pandas as pd\n",
    "import numpy as np\n",
    "import matplotlib.pyplot as plt\n",
    "from matplotlib.animation import FuncAnimation\n",
    "from matplotlib import rc"
   ]
  },
  {
   "cell_type": "markdown",
   "metadata": {},
   "source": [
    "bits for sending Alphabet.\n",
    "4bits 6 / 5bits 20 T = 26\n",
    "4.76 임\n",
    "average of alphabet = 4.7\n",
    "10,000,000번 하니 4.699909449804844\n",
    "log{2}{26} = 4.700439718141093\n"
   ]
  },
  {
   "cell_type": "code",
   "execution_count": 73,
   "metadata": {},
   "outputs": [
    {
     "name": "stdout",
     "output_type": "stream",
     "text": [
      "10회 ----- 평균 : 4.6666667 ------ log(2)(26)과 차이 : 0.0337731\n",
      "100회 ----- 평균 : 4.6625 ------ log(2)(26)과 차이 : 0.0379397\n",
      "1000회 ----- 평균 : 4.6848404 ------ log(2)(26)과 차이 : 0.0155993\n",
      "10000회 ----- 평균 : 4.6921685 ------ log(2)(26)과 차이 : 0.0082712\n",
      "100000회 ----- 평균 : 4.7003388 ------ log(2)(26)과 차이 : 0.000101\n",
      "1000000회 ----- 평균 : 4.6991844 ------ log(2)(26)과 차이 : 0.0012554\n",
      "10000000회 ----- 평균 : 4.699786 ------ log(2)(26)과 차이 : 0.0006537\n"
     ]
    }
   ],
   "source": [
    "import pandas as pd\n",
    "\n",
    "for n in [10,100,1000,10000,100000,1000000,10000000] :\n",
    "    k = []\n",
    "    for j in range(n) :\n",
    "    # for j in range(26) :\n",
    "        target = np.random.randint(26)\n",
    "        # target = j\n",
    "        alpha = list(range(26))\n",
    "        i = 0 \n",
    "        while i < 6 :\n",
    "            median = (alpha[0] + alpha[-1])// 2\n",
    "\n",
    "            if len(alpha) == 2 or(median == target and len(alpha) == 3):\n",
    "                k.append(i+1)\n",
    "                # print(i+1,\"번째에 종료\")\n",
    "                break\n",
    "\n",
    "                # print('**********')\n",
    "                # print(f'target : {target}' )\n",
    "                # print('---------')\n",
    "            elif len(alpha)%2 == 0 :\n",
    "                if target > median :\n",
    "                    alpha = list(range(median+1, alpha[-1]+1))\n",
    "                    # print(f\" 짝 T >= M --- num: {i+2} --- median : {median} --- alpha : {alpha}\")\n",
    "\n",
    "                if target <= median : \n",
    "                    alpha = list(range(alpha[0], median+1))\n",
    "                    # print(f\" 짝 T < M --- num: {i+2} --- median : {median} --- alpha : {alpha}\")\n",
    "\n",
    "\n",
    "            elif len(alpha)%2 == 1 : \n",
    "                if target >= median :\n",
    "                    alpha = list(range(median, alpha[-1]+1))\n",
    "                    # print(f\" 홀 T > M --- num: {i+2} --- median : {median} --- alpha : {alpha}\")\n",
    "\n",
    "                if target < median : \n",
    "                    alpha = list(range(alpha[0], median))\n",
    "                    # print(f\" 홀 T < M --- num: {i+2} --- median : {median} --- alpha : {alpha}\")\n",
    "                    \n",
    "            i += 1\n",
    "\n",
    "    asd = pd.Series(k)\n",
    "    mean = asd.mean()\n",
    "    b = math.log2(26)\n",
    "    \n",
    "    print(f'{n}회 ----- 평균 : {round(mean,7)} ------ log(2)(26)과 차이 : {round(b-mean,7)}')\n",
    "            "
   ]
  },
  {
   "cell_type": "code",
   "execution_count": 10,
   "metadata": {},
   "outputs": [
    {
     "name": "stdout",
     "output_type": "stream",
     "text": [
      "평균 :  4.700162\n",
      "log_2(26) : 4.70044\n",
      "차이 : -0.000278\n",
      "----------\n",
      "----------\n",
      "5    538370\n",
      "4    230552\n",
      "dtype: int64\n"
     ]
    }
   ],
   "source": [
    "import math\n",
    "import pandas as pd\n",
    "import numpy as np\n",
    "\n",
    "k = []\n",
    "\n",
    "for j in range(1000000) :  \n",
    "    alpha = list(range(26)) ## Alphabet을 0~25로 치환한다고 생각\n",
    "    target = np.random.randint(26)  ## 0~25 중 랜덤으로 값 생성\n",
    "\n",
    "    i = 0 \n",
    "    while i < 10 :\n",
    "        median = (alpha[0] + alpha[-1])// 2\n",
    "\n",
    "        if len(alpha) == 2 or(median == target and len(alpha) == 3):\n",
    "            k.append(i+1) ## i = 물어본 질문 수 \n",
    "            break\n",
    "        \n",
    "        ## 값이 짝수개인 리스트를 나눌 때\n",
    "        elif len(alpha)%2 == 0 :\n",
    "            if target > median :\n",
    "                alpha = list(range(median+1, alpha[-1]+1))\n",
    "                # print(f\" 짝 T >= M --- median : {median} --- alpha : {alpha}\")  \n",
    "\n",
    "            if target <= median : \n",
    "                alpha = list(range(alpha[0], median+1))\n",
    "                # print(f\" 짝 T < M --- median : {median} --- alpha : {alpha}\")\n",
    "\n",
    "        ## 값이 홀수개인 리스트를 나눌 때\n",
    "        elif len(alpha)%2 == 1 : \n",
    "            if target >= median :\n",
    "                alpha = list(range(median, alpha[-1]+1))\n",
    "                # print(f\" 홀 T > M --- median : {median} --- alpha : {alpha}\")\n",
    "\n",
    "            if target < median : \n",
    "                alpha = list(range(alpha[0], median))\n",
    "                # print(f\" 홀 T < M --- median : {median} --- alpha : {alpha}\")\n",
    "                \n",
    "        i += 1\n",
    "\n",
    "result = pd.Series(k)\n",
    "mean = result.mean()  ## 평균\n",
    "val_k = result.value_counts() ## 빈도수\n",
    "\n",
    "print('평균 : ', round(mean,6))\n",
    "print('log_2(26) :', round(math.log2(26),6))\n",
    "print('차이 :', round(mean - math.log2(26),6))\n",
    "print('-'*10)\n",
    "print('-'*10)\n",
    "print(val_k)"
   ]
  },
  {
   "cell_type": "code",
   "execution_count": 14,
   "metadata": {},
   "outputs": [
    {
     "data": {
      "text/plain": [
       "([<matplotlib.axis.XTick at 0x21adde24a90>,\n",
       "  <matplotlib.axis.XTick at 0x21adde24a60>,\n",
       "  <matplotlib.axis.XTick at 0x21adde295e0>,\n",
       "  <matplotlib.axis.XTick at 0x21adde61130>,\n",
       "  <matplotlib.axis.XTick at 0x21adde61640>,\n",
       "  <matplotlib.axis.XTick at 0x21adde61b50>],\n",
       " [Text(0, 0, ''),\n",
       "  Text(0, 0, ''),\n",
       "  Text(0, 0, ''),\n",
       "  Text(0, 0, ''),\n",
       "  Text(0, 0, ''),\n",
       "  Text(0, 0, '')])"
      ]
     },
     "execution_count": 14,
     "metadata": {},
     "output_type": "execute_result"
    },
    {
     "data": {
      "image/png": "[encoded data removed]",
      "text/plain": [
       "<Figure size 576x432 with 1 Axes>"
      ]
     },
     "metadata": {
      "needs_background": "light"
     },
     "output_type": "display_data"
    }
   ],
   "source": [
    "#### setting the Figure \n",
    "fig = plt.figure(figsize=(8, 6))\n",
    "plt.ylim(0,700000)\n",
    "###variables\n",
    "asd = pd.Series(k)\n",
    "val_k = asd.value_counts().sort_values() \n",
    "val_ind = val_k.index.tolist() ### x_value\n",
    "val_values = val_k.values.tolist() ### y_value\n",
    "\n",
    "for index, value in enumerate(val_values) :\n",
    "    plt.text(index+3.85,value+10000,str(value))\n",
    "\n",
    "mean = asd.mean()\n",
    "plt.text(3.85,650000,f'log_2(26) : {round(math.log2(26),5)}')\n",
    "plt.text(3.85,610000,f'Mean : {round(asd.mean(),5)}')\n",
    "\n",
    "plt.bar(val_ind, val_values)\n",
    "plt.xticks(range(2,8))"
   ]
  },
  {
   "cell_type": "code",
   "execution_count": 88,
   "metadata": {},
   "outputs": [
    {
     "name": "stdout",
     "output_type": "stream",
     "text": [
      "[1, 2, 3, 4, 5, 6, 7, 8, 9, 10]\n",
      "[1, 2, 3, 4, 5, 6, 7, 8, 9, 10, 11, 12, 13, 14, 15, 16, 17, 18, 19, 20, 21, 22, 23, 24, 25, 26, 27, 28, 29, 30, 31, 32, 33, 34, 35, 36, 37]\n"
     ]
    }
   ],
   "source": [
    "asd = pd.Series(k)\n",
    "mean = asd.mean()\n",
    "val_k = asd.value_counts().sort_values()\n",
    "lst_4 = list(range(1, val_k.iloc[0]+1))\n",
    "lst_5 = list(range(1, val_k.iloc[1]+1))\n",
    "\n",
    "x, y =[], []\n",
    "\n",
    "def update(i) :\n",
    "    x_4 = lst_4[i]\n",
    "    x_5 = lst_5[i]\n",
    "    plt.bar([4,5],[x_4,x_5])\n",
    "\n",
    "plt.title(\"Some Title, Year: {} \".format(5000), color=(\"blue\"))\n",
    "ani = FuncAnimation(fig, update, interval=100)"
   ]
  },
  {
   "cell_type": "code",
   "execution_count": 77,
   "metadata": {},
   "outputs": [],
   "source": [
    "\n",
    "\n",
    "plt.text(index+3.85,value+100,str(value))\n",
    "        \n",
    "plt.text(3.8,6500,f'Mean : {asd.mean()}')\n",
    "\n",
    "\n",
    "fig = plt.figure(figsize=(8,6))\n",
    "axes = fig.add_subplot(1,1,1)\n",
    "axes.set_ylim(0, 150)\n",
    "plt.style.use(\"seaborn\")\n",
    "\n",
    "lst1=[1, 2, 3, 4, 5, 6, 7, 8, 9, 10, 11, 12, 13, 14, 15 ]\n",
    "lst2=[0, 5, 10, 15, 20, 25, 30, 35, 40, 50, 60, 70, 80, 90, 100]\n",
    "\n",
    "\n",
    "y1, y2, = [], []\n",
    "\n",
    "def animate(i):\n",
    "    y1=lst1[i]\n",
    "    y2=lst2[i]\n",
    "    \n",
    "    plt.bar([\"one\", \"two\"], [y1,y2])\n",
    "\n",
    "plt.title(\"Some Title, Year: {} \".format(5000), color=(\"blue\"))\n",
    "ani = FuncAnimation(fig, animate, interval=100)"
   ]
  },
  {
   "cell_type": "code",
   "execution_count": null,
   "metadata": {},
   "outputs": [],
   "source": [
    "from string import ascii_lowercase\n",
    "\n",
    "alphabet_list = list(ascii_lowercase)\n",
    "\n",
    "\n"
   ]
  },
  {
   "cell_type": "code",
   "execution_count": 6,
   "metadata": {},
   "outputs": [
    {
     "name": "stdout",
     "output_type": "stream",
     "text": [
      "2.4087\n"
     ]
    }
   ],
   "source": [
    "import math\n",
    "a = 0\n",
    "for i in [0.3,0.2,0.15,0.1,0.05,0.2] :\n",
    "    a += i*math.log2(i)\n",
    "\n",
    "\n",
    "print(abs(round(a,4)))\n",
    "\n",
    "평균 2.4개\n",
    "\n"
   ]
  },
  {
   "cell_type": "code",
   "execution_count": 8,
   "metadata": {},
   "outputs": [
    {
     "data": {
      "text/plain": [
       "1.736965594166206"
      ]
     },
     "execution_count": 8,
     "metadata": {},
     "output_type": "execute_result"
    }
   ],
   "source": [
    "math.log2(10/3) "
   ]
  },
  {
   "cell_type": "code",
   "execution_count": 9,
   "metadata": {},
   "outputs": [
    {
     "data": {
      "text/plain": [
       "2.65"
      ]
     },
     "execution_count": 9,
     "metadata": {},
     "output_type": "execute_result"
    }
   ],
   "source": [
    "k = 0.3+0.4+0.6+0.6+0.5+0.25\n",
    "k"
   ]
  },
  {
   "cell_type": "code",
   "execution_count": 16,
   "metadata": {},
   "outputs": [
    {
     "name": "stdout",
     "output_type": "stream",
     "text": [
      "[2, 4, 1, 2, 3, 1, 1, 3, 3, 1, 1, 1, 3, 2, 4, 1, 5, 5, 1, 5, 5, 5, 4, 2, 1, 3, 2, 1, 1, 4, 4, 3, 5, 2, 3, 4, 2, 1, 3, 1, 1, 3, 3, 2, 2, 2, 3, 1, 2, 4, 1, 3, 1, 3, 1, 6, 5, 3, 2, 4, 1, 6, 2, 4, 2, 3, 2, 2, 3, 1, 3, 1, 2, 2, 3, 3, 3, 4, 3, 1, 5, 4, 3, 3, 3, 3, 2, 2, 3, 2, 2, 1, 6, 1, 2, 2, 3, 2, 3, 1, 2, 2, 6, 3, 1, 3, 4, 1, 6, 1, 5, 1, 2, 5, 2, 1, 4, 4, 2, 4]\n"
     ]
    }
   ],
   "source": [
    "import random\n",
    "a = [1]*30 + [2]*30 + [3]*30 + [4]*15 + [5]*10 + [6]*5\n",
    "random.shuffle(a)\n",
    "\n",
    "print(a)"
   ]
  },
  {
   "cell_type": "code",
   "execution_count": null,
   "metadata": {},
   "outputs": [],
   "source": []
  }
 ],
 "metadata": {
  "interpreter": {
   "hash": "b32ab0203d4274b325f86ba61b5b3c6bc5e3032e9f578fcc84de2c2aec614dff"
  },
  "kernelspec": {
   "display_name": "Python 3.8.5 ('base')",
   "language": "python",
   "name": "python3"
  },
  "language_info": {
   "codemirror_mode": {
    "name": "ipython",
    "version": 3
   },
   "file_extension": ".py",
   "mimetype": "text/x-python",
   "name": "python",
   "nbconvert_exporter": "python",
   "pygments_lexer": "ipython3",
   "version": "3.8.5"
  },
  "orig_nbformat": 4
 },
 "nbformat": 4,
 "nbformat_minor": 2
}
