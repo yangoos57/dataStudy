{
 "cells": [
  {
   "cell_type": "code",
   "execution_count": 1,
   "metadata": {},
   "outputs": [
    {
     "data": {
      "text/plain": [
       "'d:\\\\git_local_repository\\\\yangoos57\\\\ML\\\\Hands_On_Data_preprocessing_in_python\\\\Part3'"
      ]
     },
     "execution_count": 1,
     "metadata": {},
     "output_type": "execute_result"
    }
   ],
   "source": [
    "import numpy as np\n",
    "import pandas as pd\n",
    "import matplotlib.pyplot as plt\n",
    "import seaborn as sns\n",
    "import os\n",
    "\n",
    "os.getcwd()"
   ]
  },
  {
   "cell_type": "code",
   "execution_count": 41,
   "metadata": {},
   "outputs": [
    {
     "data": {
      "text/html": [
       "<div>\n",
       "<style scoped>\n",
       "    .dataframe tbody tr th:only-of-type {\n",
       "        vertical-align: middle;\n",
       "    }\n",
       "\n",
       "    .dataframe tbody tr th {\n",
       "        vertical-align: top;\n",
       "    }\n",
       "\n",
       "    .dataframe thead th {\n",
       "        text-align: right;\n",
       "    }\n",
       "</style>\n",
       "<table border=\"1\" class=\"dataframe\">\n",
       "  <thead>\n",
       "    <tr style=\"text-align: right;\">\n",
       "      <th></th>\n",
       "      <th>title</th>\n",
       "      <th>contents</th>\n",
       "    </tr>\n",
       "  </thead>\n",
       "  <tbody>\n",
       "    <tr>\n",
       "      <th>0</th>\n",
       "      <td>BattleCreekDec19_2019.txt</td>\n",
       "      <td>Thank you. Thank you. Thank you to Vice Presid...</td>\n",
       "    </tr>\n",
       "  </tbody>\n",
       "</table>\n",
       "</div>"
      ],
      "text/plain": [
       "                       title  \\\n",
       "0  BattleCreekDec19_2019.txt   \n",
       "\n",
       "                                            contents  \n",
       "0  Thank you. Thank you. Thank you to Vice Presid...  "
      ]
     },
     "execution_count": 41,
     "metadata": {},
     "output_type": "execute_result"
    }
   ],
   "source": [
    "# speech list를 한 줄로만 로드했다.\n",
    "speech_list = os.listdir('./data/ch10/Speeches')\n",
    "# 일단 파일을 하나씩 불러와서 한줄만 추출하는 리스트를 만들자.\n",
    "content = []\n",
    "for title in speech_list :\n",
    "    f = open(f'./data/ch10/Speeches/{title}','r', encoding='utf-8')\n",
    "    f_content = f.readlines()\n",
    "    f.close()\n",
    "    content.append(f_content[0])\n",
    "\n",
    "\n",
    "### dataframe은 list를 합칠 때 아래로 합치는게 아니라 옆으로 합친다. 그러다보니 column 단위로 묶인 list를 dataframe으로 만들기 위해서는 추가적인 절차가 필요하다. \n",
    "\n",
    "# 첫번째 방법 : 행열을 바꾸는 방법이다. 간단하고 직관적이다.\n",
    "speech_total = pd.DataFrame([speech_list,content]).T\n",
    "speech_total.head(1)\n",
    "\n",
    "# 두번째 방법 : 리스트를 zip() 매소드를 이용해 묶는 방법이다. 새로운 방법을 배운다는데 의의가 있다.\n",
    "speech_total = pd.DataFrame(list(zip(speech_list,content)), columns=['title','contents'])\n",
    "speech_total.head(1)"
   ]
  },
  {
   "cell_type": "markdown",
   "metadata": {},
   "source": [
    "### Apply 함수 적용하기\n",
    "Apply 매소드는 Argument가 필요한 함수나 메서드에 따로 값을 넣지 않아도 자동으로 적용시킬 수 있도록 도와줍니다.\n",
    "\n",
    "데이터프레임에서 column 이나 Dataframe 전체에 적용 가능하다. \n",
    "\n",
    "A로 정의되는 ㄱ매소드를 새로 만들었다고 생각해보자.\n",
    "그리고 A를 실행하기 위해서는 B라는 Argument가 필요하다. \n",
    "만약 우리가 함수를 연속으로 적용시키고 싶다면 B를 리스트로 만든 뒤 for 문을 활용해서 반복적으로 돌릴 것이다. \n",
    "\n",
    "도식화하자면 \n",
    "1. 함수를 만들고 \n",
    "2. 적용할 대상을 자동으로 실행시키기 위해 Loop을 만들고\n",
    "3. 원하는 대상에 적용시키는 과정\n",
    "\n",
    "Apply는 이러한 반복작업을 줄여주는 매소드라고 이해하면 쉽다. Apply() 하나면 세번의 절차를 한번으로 쉽게 줄여줄 수 있다."
   ]
  },
  {
   "cell_type": "code",
   "execution_count": 42,
   "metadata": {},
   "outputs": [],
   "source": [
    "Months = ['Jan','Feb','Mar','Apr','May','Jun','Jul','Aug'\n",
    ",'Oct','Sep','Nov','Dec']\n",
    "\n",
    "def city_extraction(v) :\n",
    "    for mon in Months :\n",
    "        if mon in v :\n",
    "            return v[:v.find(mon)]\n",
    "            \n",
    "speech_total['city'] = speech_total.title.apply(city_extraction)\n",
    "\n"
   ]
  },
  {
   "cell_type": "markdown",
   "metadata": {},
   "source": [
    "### pandas로 Datetime 건드리기\n",
    "데이터 분석을 할 때 시계열 자료를 다루는 일은 매우 흔하다. Dataframe은 날짜 및 시간을 다루기 위한 매소드가 풍부하게 많다. \n",
    "\n",
    "우리가 시계열을 다뤄야할 일이 많으므로 이와 관련한 메소드를 배워두는 건 큰 도움이 된다.\n",
    "\n",
    "[이 사이트](https://docs.python.org/3/library/datetime.html#strftime-and-strptime-behavior)는 파이썬 공식 사이트인데 시계열과 관련된 fortmat을 설명하는 페이지이다.\n",
    "\n",
    "여기서 설명하는 format은 파이썬에만 통용되는 것이 아니라 모든 프로그래밍 언어에서 활용된다. 나중에 다른 프로그래밍 언어에서도 시계열 데이터를 다룰 때 도움되니 자주 보고 익혀두자.\n"
   ]
  },
  {
   "cell_type": "code",
   "execution_count": 43,
   "metadata": {},
   "outputs": [],
   "source": [
    "def date_extraction(r) :\n",
    "    return r.title[len(r.city):r.title.find('.txt')]\n",
    "\n",
    "speech_total['date'] = speech_total.apply(date_extraction, axis=1)\n",
    "\n",
    "# format은 현재 데이터 양식이 어떤 패턴인지를 pandas에게 설명하는 kwargs이다.\n",
    "speech_total.date = pd.to_datetime(speech_total.date, format = '%b%d_%Y')"
   ]
  },
  {
   "cell_type": "code",
   "execution_count": 45,
   "metadata": {},
   "outputs": [],
   "source": [
    "def extractDMY(r) :\n",
    "    r['day'] = r.date.day\n",
    "    r['month'] = r.date.month\n",
    "    r['year'] = r.date.year\n",
    "    return r\n",
    "\n",
    "# apply를 dataframe에 적용하는 방법과 iterrow로 dataframe에 적용하는 방법은 결과가 동일하다.\n",
    "speech_total = speech_total.apply(extractDMY, axis = 1 )\n",
    "speech_total.drop(columns=['title'], inplace=True)"
   ]
  },
  {
   "cell_type": "code",
   "execution_count": 66,
   "metadata": {},
   "outputs": [
    {
     "data": {
      "text/html": [
       "<div>\n",
       "<style scoped>\n",
       "    .dataframe tbody tr th:only-of-type {\n",
       "        vertical-align: middle;\n",
       "    }\n",
       "\n",
       "    .dataframe tbody tr th {\n",
       "        vertical-align: top;\n",
       "    }\n",
       "\n",
       "    .dataframe thead th {\n",
       "        text-align: right;\n",
       "    }\n",
       "</style>\n",
       "<table border=\"1\" class=\"dataframe\">\n",
       "  <thead>\n",
       "    <tr style=\"text-align: right;\">\n",
       "      <th></th>\n",
       "      <th>contents</th>\n",
       "      <th>city</th>\n",
       "      <th>date</th>\n",
       "      <th>day</th>\n",
       "      <th>month</th>\n",
       "      <th>year</th>\n",
       "      <th>r_vote</th>\n",
       "      <th>r_tax</th>\n",
       "      <th>r_campaign</th>\n",
       "      <th>r_economy</th>\n",
       "      <th>Y_M</th>\n",
       "    </tr>\n",
       "  </thead>\n",
       "  <tbody>\n",
       "    <tr>\n",
       "      <th>0</th>\n",
       "      <td>Thank you. Thank you. Thank you to Vice Presid...</td>\n",
       "      <td>BattleCreek</td>\n",
       "      <td>2019-12-19</td>\n",
       "      <td>19</td>\n",
       "      <td>12</td>\n",
       "      <td>2019</td>\n",
       "      <td>0.000561</td>\n",
       "      <td>0.000505</td>\n",
       "      <td>0.000224</td>\n",
       "      <td>0.000617</td>\n",
       "      <td>2019_Dec</td>\n",
       "    </tr>\n",
       "  </tbody>\n",
       "</table>\n",
       "</div>"
      ],
      "text/plain": [
       "                                            contents         city       date  \\\n",
       "0  Thank you. Thank you. Thank you to Vice Presid...  BattleCreek 2019-12-19   \n",
       "\n",
       "   day  month  year    r_vote     r_tax  r_campaign  r_economy       Y_M  \n",
       "0   19     12  2019  0.000561  0.000505    0.000224   0.000617  2019_Dec  "
      ]
     },
     "execution_count": 66,
     "metadata": {},
     "output_type": "execute_result"
    }
   ],
   "source": [
    "words = ['vote','tax','campaign','economy']\n",
    "\n",
    "def findwordratio(row) :\n",
    "    total_n_words = len(row.contents.split(' '))\n",
    "    for w in words :\n",
    "        row['r_{}'.format(w)] = row.contents.count(w)/total_n_words\n",
    "    return row\n",
    "### apply는 row를 하나씩 불러와서 적용하는 방법이다. \n",
    "speech_total = speech_total.apply(findwordratio,axis=1)\n",
    "speech_total.head(1)"
   ]
  },
  {
   "cell_type": "code",
   "execution_count": 65,
   "metadata": {},
   "outputs": [],
   "source": [
    "Months = ['Jan','Feb','Mar','Apr','May','Jun','Jul','Aug'\n",
    ",'Oct','Sep','Nov','Dec']\n",
    "\n",
    "lambda_func = lambda r: '{}_{}'.format(r.year,Months[r.month-1])\n",
    "speech_total['Y_M'] = speech_total.apply(lambda_func, axis=1) "
   ]
  },
  {
   "cell_type": "markdown",
   "metadata": {},
   "source": [
    "### .pivot_table( index = 불러올 column, values = 불러올 column, aggfunc = 구현하고자 하는 기능)\n",
    "\n",
    "### aggfuction은 groupby 뒤에 붙는 mean(), size()와 같은 기능을 수행함."
   ]
  },
  {
   "cell_type": "code",
   "execution_count": 53,
   "metadata": {},
   "outputs": [
    {
     "data": {
      "text/html": [
       "<div>\n",
       "<style scoped>\n",
       "    .dataframe tbody tr th:only-of-type {\n",
       "        vertical-align: middle;\n",
       "    }\n",
       "\n",
       "    .dataframe tbody tr th {\n",
       "        vertical-align: top;\n",
       "    }\n",
       "\n",
       "    .dataframe thead th {\n",
       "        text-align: right;\n",
       "    }\n",
       "</style>\n",
       "<table border=\"1\" class=\"dataframe\">\n",
       "  <thead>\n",
       "    <tr style=\"text-align: right;\">\n",
       "      <th></th>\n",
       "      <th>r_campaign</th>\n",
       "      <th>r_economy</th>\n",
       "      <th>r_tax</th>\n",
       "      <th>r_vote</th>\n",
       "    </tr>\n",
       "    <tr>\n",
       "      <th>Y_M</th>\n",
       "      <th></th>\n",
       "      <th></th>\n",
       "      <th></th>\n",
       "      <th></th>\n",
       "    </tr>\n",
       "  </thead>\n",
       "  <tbody>\n",
       "    <tr>\n",
       "      <th>2019_Aug</th>\n",
       "      <td>0.001499</td>\n",
       "      <td>0.000270</td>\n",
       "      <td>0.000872</td>\n",
       "      <td>0.001596</td>\n",
       "    </tr>\n",
       "    <tr>\n",
       "      <th>2019_Dec</th>\n",
       "      <td>0.000316</td>\n",
       "      <td>0.000665</td>\n",
       "      <td>0.000558</td>\n",
       "      <td>0.000739</td>\n",
       "    </tr>\n",
       "    <tr>\n",
       "      <th>2019_Jul</th>\n",
       "      <td>0.000283</td>\n",
       "      <td>0.000660</td>\n",
       "      <td>0.000660</td>\n",
       "      <td>0.001603</td>\n",
       "    </tr>\n",
       "    <tr>\n",
       "      <th>2019_Nov</th>\n",
       "      <td>0.000551</td>\n",
       "      <td>0.000333</td>\n",
       "      <td>0.000385</td>\n",
       "      <td>0.002048</td>\n",
       "    </tr>\n",
       "    <tr>\n",
       "      <th>2019_Oct</th>\n",
       "      <td>0.000533</td>\n",
       "      <td>0.000572</td>\n",
       "      <td>0.001340</td>\n",
       "      <td>0.001398</td>\n",
       "    </tr>\n",
       "    <tr>\n",
       "      <th>2019_Sep</th>\n",
       "      <td>0.000843</td>\n",
       "      <td>0.000448</td>\n",
       "      <td>0.000419</td>\n",
       "      <td>0.000409</td>\n",
       "    </tr>\n",
       "    <tr>\n",
       "      <th>2020_Aug</th>\n",
       "      <td>0.000428</td>\n",
       "      <td>0.000222</td>\n",
       "      <td>0.001189</td>\n",
       "      <td>0.001577</td>\n",
       "    </tr>\n",
       "    <tr>\n",
       "      <th>2020_Feb</th>\n",
       "      <td>0.000353</td>\n",
       "      <td>0.000224</td>\n",
       "      <td>0.000625</td>\n",
       "      <td>0.001206</td>\n",
       "    </tr>\n",
       "    <tr>\n",
       "      <th>2020_Jan</th>\n",
       "      <td>0.000299</td>\n",
       "      <td>0.000240</td>\n",
       "      <td>0.001331</td>\n",
       "      <td>0.001215</td>\n",
       "    </tr>\n",
       "    <tr>\n",
       "      <th>2020_Jun</th>\n",
       "      <td>0.000356</td>\n",
       "      <td>0.000267</td>\n",
       "      <td>0.000535</td>\n",
       "      <td>0.000713</td>\n",
       "    </tr>\n",
       "    <tr>\n",
       "      <th>2020_Mar</th>\n",
       "      <td>0.000150</td>\n",
       "      <td>0.000450</td>\n",
       "      <td>0.001500</td>\n",
       "      <td>0.000750</td>\n",
       "    </tr>\n",
       "    <tr>\n",
       "      <th>2020_Oct</th>\n",
       "      <td>0.000306</td>\n",
       "      <td>0.000386</td>\n",
       "      <td>0.000504</td>\n",
       "      <td>0.001235</td>\n",
       "    </tr>\n",
       "  </tbody>\n",
       "</table>\n",
       "</div>"
      ],
      "text/plain": [
       "          r_campaign  r_economy     r_tax    r_vote\n",
       "Y_M                                                \n",
       "2019_Aug    0.001499   0.000270  0.000872  0.001596\n",
       "2019_Dec    0.000316   0.000665  0.000558  0.000739\n",
       "2019_Jul    0.000283   0.000660  0.000660  0.001603\n",
       "2019_Nov    0.000551   0.000333  0.000385  0.002048\n",
       "2019_Oct    0.000533   0.000572  0.001340  0.001398\n",
       "2019_Sep    0.000843   0.000448  0.000419  0.000409\n",
       "2020_Aug    0.000428   0.000222  0.001189  0.001577\n",
       "2020_Feb    0.000353   0.000224  0.000625  0.001206\n",
       "2020_Jan    0.000299   0.000240  0.001331  0.001215\n",
       "2020_Jun    0.000356   0.000267  0.000535  0.000713\n",
       "2020_Mar    0.000150   0.000450  0.001500  0.000750\n",
       "2020_Oct    0.000306   0.000386  0.000504  0.001235"
      ]
     },
     "execution_count": 53,
     "metadata": {},
     "output_type": "execute_result"
    }
   ],
   "source": [
    "Words = ['vote','tax','campaign','economy']\n",
    "\n",
    "vis_df = speech_total.pivot_table( index =['Y_M'], values=['r_{}'.format(w) for w in words], aggfunc=np.mean)\n",
    "\n",
    "vis_df"
   ]
  },
  {
   "cell_type": "markdown",
   "metadata": {},
   "source": [
    "### Groupby는 원하는 column의 class별로 데이터를 종합해줌. Row가 많더라도 class가 적으면 그만큼 row size도 작다.\n",
    "\n",
    "* groupby와 pivot 기능은 둘 다 같은 instance를 하나로 묶는다는 점에서 유사하다. 하지만 groupby는 column을 선택해서 정렬하기가 어려운 반면 애초에 pivot은 원하는 column만 보여주도록 설계되었다."
   ]
  },
  {
   "cell_type": "markdown",
   "metadata": {},
   "source": [
    "### 보여주고자 하는 방법이 복잡하면 그만큼 구현하기 까다롭다.\n",
    "원하는 차트를 그리기 위해서는 무엇을 그리고 싶은지, 그리고 어떻게 그려야하는지 알아야한다. 응용이야 필요하지만 기본적으로 구현하고자 하는 기능을 만드는 방법을 외워야한다."
   ]
  },
  {
   "cell_type": "code",
   "execution_count": 64,
   "metadata": {},
   "outputs": [
    {
     "data": {
      "image/png": "[encoded data removed]",
      "text/plain": [
       "<Figure size 720x288 with 1 Axes>"
      ]
     },
     "metadata": {
      "needs_background": "light"
     },
     "output_type": "display_data"
    }
   ],
   "source": [
    "column_order = vis_df.sum().sort_values(ascending=False).index\n",
    "row_order = speech_total.sort_values('date').Y_M.unique()\n",
    "vis_df[column_order].loc[row_order].plot.bar(figsize=(10,4))\n",
    "plt.legend(['vote','tax','campaign','economy'], ncol=2)\n",
    "plt.xlabel('Year_Month')\n",
    "plt.ylabel('Average Word Frequency')\n",
    "plt. show()"
   ]
  },
  {
   "cell_type": "code",
   "execution_count": 67,
   "metadata": {},
   "outputs": [
    {
     "data": {
      "text/html": [
       "<div>\n",
       "<style scoped>\n",
       "    .dataframe tbody tr th:only-of-type {\n",
       "        vertical-align: middle;\n",
       "    }\n",
       "\n",
       "    .dataframe tbody tr th {\n",
       "        vertical-align: top;\n",
       "    }\n",
       "\n",
       "    .dataframe thead th {\n",
       "        text-align: right;\n",
       "    }\n",
       "</style>\n",
       "<table border=\"1\" class=\"dataframe\">\n",
       "  <thead>\n",
       "    <tr style=\"text-align: right;\">\n",
       "      <th></th>\n",
       "      <th>Call  Failure</th>\n",
       "      <th>Complains</th>\n",
       "      <th>Subscription  Length</th>\n",
       "      <th>Seconds of Use</th>\n",
       "      <th>Frequency of use</th>\n",
       "      <th>Frequency of SMS</th>\n",
       "      <th>Distinct Called Numbers</th>\n",
       "      <th>Status</th>\n",
       "      <th>Churn</th>\n",
       "    </tr>\n",
       "  </thead>\n",
       "  <tbody>\n",
       "    <tr>\n",
       "      <th>0</th>\n",
       "      <td>8</td>\n",
       "      <td>0</td>\n",
       "      <td>38</td>\n",
       "      <td>4370</td>\n",
       "      <td>71</td>\n",
       "      <td>5</td>\n",
       "      <td>17</td>\n",
       "      <td>1</td>\n",
       "      <td>0</td>\n",
       "    </tr>\n",
       "  </tbody>\n",
       "</table>\n",
       "</div>"
      ],
      "text/plain": [
       "   Call  Failure  Complains  Subscription  Length  Seconds of Use  \\\n",
       "0              8          0                    38            4370   \n",
       "\n",
       "   Frequency of use  Frequency of SMS  Distinct Called Numbers  Status  Churn  \n",
       "0                71                 5                       17       1      0  "
      ]
     },
     "execution_count": 67,
     "metadata": {},
     "output_type": "execute_result"
    }
   ],
   "source": [
    "customer_df = pd.read_csv('data/ch10/Customer Churn.csv')\n",
    "customer_df.head(1)"
   ]
  },
  {
   "cell_type": "code",
   "execution_count": 68,
   "metadata": {},
   "outputs": [],
   "source": [
    "customer_df.columns = ['Call_Failure', 'Complains',\n",
    "'Subscription_Length', 'Seconds_of_Use', 'Frequency_of_use',\n",
    "'Frequency_of_SMS', 'Distinct_Called_Numbers', 'Status',\n",
    "'Churn']"
   ]
  },
  {
   "cell_type": "code",
   "execution_count": 70,
   "metadata": {},
   "outputs": [
    {
     "data": {
      "text/plain": [
       "array([0, 1], dtype=int64)"
      ]
     },
     "execution_count": 70,
     "metadata": {},
     "output_type": "execute_result"
    }
   ],
   "source": [
    "customer_df.Churn.unique()"
   ]
  },
  {
   "cell_type": "markdown",
   "metadata": {},
   "source": [
    "box_plot을 하나의 plot 내에서 만들고 싶다면 Seires를 이용하자. 데이터 프레임을 만들기 위해 리스트 내 리스트를 삽입하는 것과 같이 Series 내 list를 삽입해서 연속으로 불러올 수 있게 사용하자.\n",
    "\n",
    "Array나 List나 그게 그거다."
   ]
  },
  {
   "cell_type": "code",
   "execution_count": 77,
   "metadata": {},
   "outputs": [
    {
     "data": {
      "image/png": "[encoded data removed]",
      "text/plain": [
       "<Figure size 432x288 with 1 Axes>"
      ]
     },
     "metadata": {
      "needs_background": "light"
     },
     "output_type": "display_data"
    }
   ],
   "source": [
    "\n",
    "\n",
    "churn_possibilities = customer_df.Churn.unique()\n",
    "box_sr = pd.Series('', index=churn_possibilities)\n",
    "for poss in churn_possibilities:\n",
    "    BM = customer_df.Churn == poss\n",
    "    box_sr[poss] = customer_df[BM].Call_Failure.values\n",
    "\n",
    "plt.boxplot(box_sr,vert=False) # Vertical False\n",
    "plt.yticks([1,2],['Not Churn','Churn'])\n",
    "plt.show()\n"
   ]
  },
  {
   "cell_type": "code",
   "execution_count": 78,
   "metadata": {},
   "outputs": [
    {
     "name": "stdout",
     "output_type": "stream",
     "text": [
      "<class 'numpy.ndarray'>\n"
     ]
    }
   ],
   "source": [
    "BM = customer_df.Churn == 1\n",
    "# box_sr[1] = customer_df[BM].Call_Failure.values\n",
    "\n",
    "print(type(customer_df[BM].Call_Failure.values))"
   ]
  },
  {
   "cell_type": "code",
   "execution_count": null,
   "metadata": {},
   "outputs": [],
   "source": []
  }
 ],
 "metadata": {
  "interpreter": {
   "hash": "b32ab0203d4274b325f86ba61b5b3c6bc5e3032e9f578fcc84de2c2aec614dff"
  },
  "kernelspec": {
   "display_name": "Python 3.8.5 ('base')",
   "language": "python",
   "name": "python3"
  },
  "language_info": {
   "codemirror_mode": {
    "name": "ipython",
    "version": 3
   },
   "file_extension": ".py",
   "mimetype": "text/x-python",
   "name": "python",
   "nbconvert_exporter": "python",
   "pygments_lexer": "ipython3",
   "version": "3.8.5"
  },
  "orig_nbformat": 4
 },
 "nbformat": 4,
 "nbformat_minor": 2
}
