{
 "cells": [
  {
   "cell_type": "code",
   "execution_count": 2,
   "metadata": {},
   "outputs": [
    {
     "data": {
      "text/plain": [
       "'d:\\\\git_local_repository\\\\yangoos57\\\\ML\\\\Hands_On_Data_preprocessing_in_python\\\\Part3'"
      ]
     },
     "execution_count": 2,
     "metadata": {},
     "output_type": "execute_result"
    }
   ],
   "source": [
    "import pandas as pd\n",
    "import numpy as np\n",
    "import seaborn as sns\n",
    "import matplotlib.pyplot as plt\n",
    "import os\n",
    "from sklearn.tree import DecisionTreeClassifier\n",
    "from sklearn.model_selection import GridSearchCV\n",
    "\n",
    "os.getcwd()"
   ]
  },
  {
   "cell_type": "markdown",
   "metadata": {},
   "source": [
    "# Data reduction"
   ]
  },
  {
   "cell_type": "markdown",
   "metadata": {},
   "source": [
    "### distinction of Data redundancy and Data reduction.\n",
    "\n",
    "Data redundancy is about having the same information presented under more than one attribute.\n",
    "\n",
    "Data reduction is about reducing the size of data due to one of the following three reasons\n",
    "\n",
    "* High-Dimensional Visualizations : 사람들은 3~5 차원 이상의 그래프를 이해하는데 어려움을 느낀다.\n",
    "\n",
    "* Computational Cost : 불필요하게 많은 계산을 필요로 한다.\n",
    "* Curse of Dimensionality : variable이 많다고 정확도가 높아지는 건 아니다."
   ]
  },
  {
   "cell_type": "markdown",
   "metadata": {},
   "source": [
    "### the objectives of data reduction\n",
    "1. data reduction seeks to obtain a reduced representation of the dataset that is much smaller in volume.\n",
    "   \n",
    "2. it tries to closely maintain the integrity of the original data, which means making sure that data reduction will not lead to including bias and critical information being lost in the data."
   ]
  },
  {
   "cell_type": "markdown",
   "metadata": {},
   "source": [
    "### Types of data reduction\n",
    "\n",
    "- Numerosity data reduction : It performs data reduction by reducing the number of data objects or rows in a dataset.\n",
    "  * Random Sampling\n",
    "    \n",
    "  * Strafied Sampling\n",
    "  * Random over/under sampling\n",
    "\n",
    "- dimenionality data reduction : It performs data reduction by rducing the number of dimensions or attributes in a dataset.\n",
    "  * Linear regression\n",
    "    \n",
    "  * Decision Tree\n",
    "  * Random Forest\n",
    "  * Brute-force Computational Dimension reduction\n",
    "  * principal component analysis\n",
    "  * Functional data analysis"
   ]
  },
  {
   "cell_type": "markdown",
   "metadata": {},
   "source": [
    "### Numerosity data reduction"
   ]
  },
  {
   "cell_type": "code",
   "execution_count": 3,
   "metadata": {},
   "outputs": [],
   "source": [
    "customer_df = pd.read_csv('data/ch13/Customer Churn.csv')"
   ]
  },
  {
   "cell_type": "code",
   "execution_count": 4,
   "metadata": {},
   "outputs": [
    {
     "name": "stdout",
     "output_type": "stream",
     "text": [
      "Fitting 3 folds for each of 360 candidates, totalling 1080 fits\n"
     ]
    },
    {
     "name": "stderr",
     "output_type": "stream",
     "text": [
      "[Parallel(n_jobs=1)]: Using backend SequentialBackend with 1 concurrent workers.\n"
     ]
    },
    {
     "name": "stdout",
     "output_type": "stream",
     "text": [
      "Best Score :  0.7353535353535353\n",
      "Best parameters :  {'criterion': 'entropy', 'max_depth': 10, 'min_impurity_decrease': 0.005, 'min_samples_split': 40}\n"
     ]
    },
    {
     "name": "stderr",
     "output_type": "stream",
     "text": [
      "[Parallel(n_jobs=1)]: Done 1080 out of 1080 | elapsed:   15.0s finished\n"
     ]
    }
   ],
   "source": [
    "y = customer_df['Churn']\n",
    "xs = customer_df.drop(columns='Churn')\n",
    "param_grid = {'criterion' : ['gini','entropy'], 'max_depth' : [10,20,30,40,50,60], 'min_samples_split' : [10,20,30,40,50], 'min_impurity_decrease' : [0,0.001,0.005,0.01,0.05,0.1]}\n",
    "gridsearch = GridSearchCV(DecisionTreeClassifier(), param_grid, cv=3, scoring='recall', verbose=1)\n",
    "gridsearch.fit(xs,y)\n",
    "print('Best Score : ', gridsearch.best_score_)\n",
    "print('Best parameters : ', gridsearch.best_params_)"
   ]
  },
  {
   "cell_type": "markdown",
   "metadata": {},
   "source": [
    "### Random sampling"
   ]
  },
  {
   "cell_type": "code",
   "execution_count": 5,
   "metadata": {},
   "outputs": [
    {
     "name": "stdout",
     "output_type": "stream",
     "text": [
      "Fitting 3 folds for each of 360 candidates, totalling 1080 fits\n"
     ]
    },
    {
     "name": "stderr",
     "output_type": "stream",
     "text": [
      "[Parallel(n_jobs=1)]: Using backend SequentialBackend with 1 concurrent workers.\n"
     ]
    },
    {
     "name": "stdout",
     "output_type": "stream",
     "text": [
      "Best Score :  0.7430555555555555\n",
      "Best parameters :  {'criterion': 'entropy', 'max_depth': 10, 'min_impurity_decrease': 0.005, 'min_samples_split': 10}\n"
     ]
    },
    {
     "name": "stderr",
     "output_type": "stream",
     "text": [
      "[Parallel(n_jobs=1)]: Done 1080 out of 1080 | elapsed:   11.7s finished\n"
     ]
    }
   ],
   "source": [
    "customer_df_rs = customer_df.sample(1000, random_state=1)\n",
    "y = customer_df_rs['Churn']\n",
    "xs = customer_df_rs.drop(columns='Churn')\n",
    "param_grid = {'criterion' : ['gini','entropy'], 'max_depth' : [10,20,30,40,50,60], 'min_samples_split' : [10,20,30,40,50], 'min_impurity_decrease' : [0,0.001,0.005,0.01,0.05,0.1]}\n",
    "gridsearch = GridSearchCV(DecisionTreeClassifier(), param_grid, cv=3, scoring='recall', verbose=1)\n",
    "gridsearch.fit(xs,y)\n",
    "print('Best Score : ', gridsearch.best_score_)\n",
    "print('Best parameters : ', gridsearch.best_params_)"
   ]
  },
  {
   "cell_type": "markdown",
   "metadata": {},
   "source": [
    "### Strified Sampling"
   ]
  },
  {
   "cell_type": "code",
   "execution_count": 6,
   "metadata": {},
   "outputs": [
    {
     "name": "stdout",
     "output_type": "stream",
     "text": [
      "0    0.843\n",
      "1    0.157\n",
      "Name: Churn, dtype: float64\n"
     ]
    }
   ],
   "source": [
    "n, s = 1000, len(customer_df)\n",
    "r = n/s\n",
    "sample_df = customer_df.groupby('Churn', group_keys=False).apply(lambda sdf : sdf.sample(round(len(sdf)*r)))\n",
    "\n",
    "print(sample_df.Churn.value_counts(normalize=True))"
   ]
  },
  {
   "cell_type": "markdown",
   "metadata": {},
   "source": [
    " ### Random over/undersampling\n",
    " random over/undersampling은 표본을 5:5 비율로 추출한다. \n",
    "\n",
    " over/undersampling을 사용하기 위한 조건 두가지\n",
    " 1. the dependent attribute is binary, meaning that it only has two class labels.\n",
    " 2. there are significantly more of one class label than the other."
   ]
  },
  {
   "cell_type": "code",
   "execution_count": 7,
   "metadata": {},
   "outputs": [
    {
     "name": "stdout",
     "output_type": "stream",
     "text": [
      "1    0.5\n",
      "0    0.5\n",
      "Name: Churn, dtype: float64\n"
     ]
    }
   ],
   "source": [
    "\n",
    "sample_df = customer_df.groupby('Churn', group_keys=False).apply(lambda sdf : sdf.sample(round(250)))\n",
    "\n",
    "print(sample_df.Churn.value_counts(normalize=True))"
   ]
  },
  {
   "cell_type": "code",
   "execution_count": 13,
   "metadata": {},
   "outputs": [],
   "source": [
    "amzn_df = pd.read_csv('data/ch13/amznStock.csv', index_col='t')"
   ]
  },
  {
   "cell_type": "code",
   "execution_count": 15,
   "metadata": {},
   "outputs": [],
   "source": [
    "amzn_df.columns = ['pd_changeP', 'pw_changeP', 'dow_pd_changeP','dow_pw_changeP', 'nasdaq_pd_changeP', 'nasdaq_pw_changeP', 'changeP']"
   ]
  },
  {
   "cell_type": "code",
   "execution_count": 16,
   "metadata": {},
   "outputs": [
    {
     "data": {
      "text/html": [
       "<table class=\"simpletable\">\n",
       "<caption>OLS Regression Results</caption>\n",
       "<tr>\n",
       "  <th>Dep. Variable:</th>         <td>changeP</td>     <th>  R-squared:         </th> <td>   0.061</td>\n",
       "</tr>\n",
       "<tr>\n",
       "  <th>Model:</th>                   <td>OLS</td>       <th>  Adj. R-squared:    </th> <td>   0.044</td>\n",
       "</tr>\n",
       "<tr>\n",
       "  <th>Method:</th>             <td>Least Squares</td>  <th>  F-statistic:       </th> <td>   3.678</td>\n",
       "</tr>\n",
       "<tr>\n",
       "  <th>Date:</th>             <td>Sat, 26 Mar 2022</td> <th>  Prob (F-statistic):</th>  <td>0.00149</td>\n",
       "</tr>\n",
       "<tr>\n",
       "  <th>Time:</th>                 <td>17:50:22</td>     <th>  Log-Likelihood:    </th> <td> -750.72</td>\n",
       "</tr>\n",
       "<tr>\n",
       "  <th>No. Observations:</th>      <td>   349</td>      <th>  AIC:               </th> <td>   1515.</td>\n",
       "</tr>\n",
       "<tr>\n",
       "  <th>Df Residuals:</th>          <td>   342</td>      <th>  BIC:               </th> <td>   1542.</td>\n",
       "</tr>\n",
       "<tr>\n",
       "  <th>Df Model:</th>              <td>     6</td>      <th>                     </th>     <td> </td>   \n",
       "</tr>\n",
       "<tr>\n",
       "  <th>Covariance Type:</th>      <td>nonrobust</td>    <th>                     </th>     <td> </td>   \n",
       "</tr>\n",
       "</table>\n",
       "<table class=\"simpletable\">\n",
       "<tr>\n",
       "          <td></td>             <th>coef</th>     <th>std err</th>      <th>t</th>      <th>P>|t|</th>  <th>[0.025</th>    <th>0.975]</th>  \n",
       "</tr>\n",
       "<tr>\n",
       "  <th>const</th>             <td>    0.2342</td> <td>    0.122</td> <td>    1.926</td> <td> 0.055</td> <td>   -0.005</td> <td>    0.473</td>\n",
       "</tr>\n",
       "<tr>\n",
       "  <th>pd_changeP</th>        <td>   -0.0804</td> <td>    0.112</td> <td>   -0.719</td> <td> 0.473</td> <td>   -0.300</td> <td>    0.140</td>\n",
       "</tr>\n",
       "<tr>\n",
       "  <th>pw_changeP</th>        <td>    0.0665</td> <td>    0.044</td> <td>    1.499</td> <td> 0.135</td> <td>   -0.021</td> <td>    0.154</td>\n",
       "</tr>\n",
       "<tr>\n",
       "  <th>dow_pd_changeP</th>    <td>   -0.2888</td> <td>    0.151</td> <td>   -1.914</td> <td> 0.056</td> <td>   -0.586</td> <td>    0.008</td>\n",
       "</tr>\n",
       "<tr>\n",
       "  <th>dow_pw_changeP</th>    <td>    0.0866</td> <td>    0.066</td> <td>    1.316</td> <td> 0.189</td> <td>   -0.043</td> <td>    0.216</td>\n",
       "</tr>\n",
       "<tr>\n",
       "  <th>nasdaq_pd_changeP</th> <td>    0.0919</td> <td>    0.210</td> <td>    0.438</td> <td> 0.661</td> <td>   -0.321</td> <td>    0.505</td>\n",
       "</tr>\n",
       "<tr>\n",
       "  <th>nasdaq_pw_changeP</th> <td>   -0.1403</td> <td>    0.098</td> <td>   -1.433</td> <td> 0.153</td> <td>   -0.333</td> <td>    0.052</td>\n",
       "</tr>\n",
       "</table>\n",
       "<table class=\"simpletable\">\n",
       "<tr>\n",
       "  <th>Omnibus:</th>       <td>25.863</td> <th>  Durbin-Watson:     </th> <td>   1.936</td>\n",
       "</tr>\n",
       "<tr>\n",
       "  <th>Prob(Omnibus):</th> <td> 0.000</td> <th>  Jarque-Bera (JB):  </th> <td>  97.802</td>\n",
       "</tr>\n",
       "<tr>\n",
       "  <th>Skew:</th>          <td>-0.036</td> <th>  Prob(JB):          </th> <td>5.79e-22</td>\n",
       "</tr>\n",
       "<tr>\n",
       "  <th>Kurtosis:</th>      <td> 5.592</td> <th>  Cond. No.          </th> <td>    17.6</td>\n",
       "</tr>\n",
       "</table><br/><br/>Notes:<br/>[1] Standard Errors assume that the covariance matrix of the errors is correctly specified."
      ],
      "text/plain": [
       "<class 'statsmodels.iolib.summary.Summary'>\n",
       "\"\"\"\n",
       "                            OLS Regression Results                            \n",
       "==============================================================================\n",
       "Dep. Variable:                changeP   R-squared:                       0.061\n",
       "Model:                            OLS   Adj. R-squared:                  0.044\n",
       "Method:                 Least Squares   F-statistic:                     3.678\n",
       "Date:                Sat, 26 Mar 2022   Prob (F-statistic):            0.00149\n",
       "Time:                        17:50:22   Log-Likelihood:                -750.72\n",
       "No. Observations:                 349   AIC:                             1515.\n",
       "Df Residuals:                     342   BIC:                             1542.\n",
       "Df Model:                           6                                         \n",
       "Covariance Type:            nonrobust                                         \n",
       "=====================================================================================\n",
       "                        coef    std err          t      P>|t|      [0.025      0.975]\n",
       "-------------------------------------------------------------------------------------\n",
       "const                 0.2342      0.122      1.926      0.055      -0.005       0.473\n",
       "pd_changeP           -0.0804      0.112     -0.719      0.473      -0.300       0.140\n",
       "pw_changeP            0.0665      0.044      1.499      0.135      -0.021       0.154\n",
       "dow_pd_changeP       -0.2888      0.151     -1.914      0.056      -0.586       0.008\n",
       "dow_pw_changeP        0.0866      0.066      1.316      0.189      -0.043       0.216\n",
       "nasdaq_pd_changeP     0.0919      0.210      0.438      0.661      -0.321       0.505\n",
       "nasdaq_pw_changeP    -0.1403      0.098     -1.433      0.153      -0.333       0.052\n",
       "==============================================================================\n",
       "Omnibus:                       25.863   Durbin-Watson:                   1.936\n",
       "Prob(Omnibus):                  0.000   Jarque-Bera (JB):               97.802\n",
       "Skew:                          -0.036   Prob(JB):                     5.79e-22\n",
       "Kurtosis:                       5.592   Cond. No.                         17.6\n",
       "==============================================================================\n",
       "\n",
       "Notes:\n",
       "[1] Standard Errors assume that the covariance matrix of the errors is correctly specified.\n",
       "\"\"\""
      ]
     },
     "execution_count": 16,
     "metadata": {},
     "output_type": "execute_result"
    }
   ],
   "source": [
    "import statsmodels.api as sm\n",
    "xs = amzn_df.drop(columns=['changeP'], index=['2021-01-12'])\n",
    "xs = sm.add_constant(xs)\n",
    "y = amzn_df.drop(index=['2021-01-12']).changeP\n",
    "sm.OLS(y,xs).fit().summary()"
   ]
  },
  {
   "cell_type": "markdown",
   "metadata": {},
   "source": [
    "### Attribute 정리하는 방법은 다른 책에서 배우자 너무 부실하다."
   ]
  }
 ],
 "metadata": {
  "interpreter": {
   "hash": "b32ab0203d4274b325f86ba61b5b3c6bc5e3032e9f578fcc84de2c2aec614dff"
  },
  "kernelspec": {
   "display_name": "Python 3.8.5 ('base')",
   "language": "python",
   "name": "python3"
  },
  "language_info": {
   "codemirror_mode": {
    "name": "ipython",
    "version": 3
   },
   "file_extension": ".py",
   "mimetype": "text/x-python",
   "name": "python",
   "nbconvert_exporter": "python",
   "pygments_lexer": "ipython3",
   "version": "3.8.5"
  },
  "orig_nbformat": 4
 },
 "nbformat": 4,
 "nbformat_minor": 2
}
