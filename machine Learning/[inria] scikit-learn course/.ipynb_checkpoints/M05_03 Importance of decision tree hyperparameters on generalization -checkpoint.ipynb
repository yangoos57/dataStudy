{
 "cells": [
  {
   "cell_type": "markdown",
   "metadata": {},
   "source": [
    "https://inria.github.io/scikit-learn-mooc/python_scripts/trees_hyperparameters.html"
   ]
  },
  {
   "cell_type": "markdown",
   "metadata": {},
   "source": [
    "helper 설치가 어려우므로 이번 장은 홈페이지를 활용하자."
   ]
  },
  {
   "cell_type": "markdown",
   "metadata": {},
   "source": [
    "### Effect of the max_depth parameter\n",
    "\n",
    "* The hyperparameter max_depth controls the overall complexity of a decision tree. \n",
    "\n",
    "* This hyperparameter allows to get a trade-off between an under-fitted and over-fitted decision tree. \n",
    "\n",
    "Max depth 2 => underfit   /   Max depth 30 => overfit\n"
   ]
  },
  {
   "cell_type": "markdown",
   "metadata": {},
   "source": [
    "max_depth is one of the hyperparameters that one should optimize via cross-validation and grid-search."
   ]
  },
  {
   "cell_type": "markdown",
   "metadata": {},
   "source": [
    "### Other hyperparameters in decision trees\n",
    "\n",
    "There is no guarantee that a tree will be symmetrical. Indeed, optimal generalization performance could be reached by growing some of the branches deeper than some others.\n",
    "\n",
    "The hyperparameters min_samples_leaf, min_samples_split, max_leaf_nodes, or min_impurity_decrease allows growing asymmetric trees and apply a constraint at the leaves or nodes level.\n",
    "\n",
    "* min_samples_leaf : 개별 leaf별로 최소로 가지고 있어야 하는 sample 개수를 정하는 parameter"
   ]
  }
 ],
 "metadata": {
  "interpreter": {
   "hash": "b32ab0203d4274b325f86ba61b5b3c6bc5e3032e9f578fcc84de2c2aec614dff"
  },
  "kernelspec": {
   "display_name": "Python 3 (ipykernel)",
   "language": "python",
   "name": "python3"
  },
  "language_info": {
   "codemirror_mode": {
    "name": "ipython",
    "version": 3
   },
   "file_extension": ".py",
   "mimetype": "text/x-python",
   "name": "python",
   "nbconvert_exporter": "python",
   "pygments_lexer": "ipython3",
   "version": "3.9.1"
  }
 },
 "nbformat": 4,
 "nbformat_minor": 2
}
