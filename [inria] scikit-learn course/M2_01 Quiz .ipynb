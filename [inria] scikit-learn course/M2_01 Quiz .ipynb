{
 "cells": [
  {
   "cell_type": "code",
   "execution_count": null,
   "metadata": {},
   "outputs": [],
   "source": [
    "1. max_leaf_nodes / learning_rate\n",
    "\n",
    "2. model.get_params()['C']\n",
    "\n",
    "3. model.set_params()['c'] = 5\n",
    "\n",
    "4. model.set_params(classifier__C = 5)"
   ]
  }
 ],
 "metadata": {
  "language_info": {
   "name": "python"
  },
  "orig_nbformat": 4
 },
 "nbformat": 4,
 "nbformat_minor": 2
}
