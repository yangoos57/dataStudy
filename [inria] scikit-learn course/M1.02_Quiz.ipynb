{
 "cells": [
  {
   "cell_type": "markdown",
   "metadata": {},
   "source": [
    "1. b) to validate the model on unseen data\n",
    "\n",
    "2. calling fit to train the model on the training set and sore to compute the score on the test set\n",
    "\n",
    "3. estimator.fit is called 5 times, each time on a different training set / a python dictionary is returned containing a key/value containing a NumPy array with 5 scores computed on the test sets\n",
    "\n",
    "4. Preprocessing B\n",
    "\n",
    "5. transform the features so that they have similar ranges / Can help logistic regression converge faster (fewer iterations)\n",
    "\n",
    "6. measure the generalization performance of the model / estimate the variability of the generalization score\n",
    "\n",
    "7. combines one or several transformers and a predictor"
   ]
  }
 ],
 "metadata": {
  "interpreter": {
   "hash": "b32ab0203d4274b325f86ba61b5b3c6bc5e3032e9f578fcc84de2c2aec614dff"
  },
  "kernelspec": {
   "display_name": "Python 3.8.5 ('base')",
   "language": "python",
   "name": "python3"
  },
  "language_info": {
   "codemirror_mode": {
    "name": "ipython",
    "version": 3
   },
   "file_extension": ".py",
   "mimetype": "text/x-python",
   "name": "python",
   "nbconvert_exporter": "python",
   "pygments_lexer": "ipython3",
   "version": "3.8.5"
  },
  "orig_nbformat": 4
 },
 "nbformat": 4,
 "nbformat_minor": 2
}
