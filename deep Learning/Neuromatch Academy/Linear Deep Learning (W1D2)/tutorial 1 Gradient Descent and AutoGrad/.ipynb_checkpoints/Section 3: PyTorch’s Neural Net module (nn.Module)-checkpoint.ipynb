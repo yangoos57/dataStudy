{
 "cells": [
  {
   "cell_type": "code",
   "execution_count": 1,
   "metadata": {},
   "outputs": [],
   "source": [
    "# Imports\n",
    "import torch\n",
    "import numpy as np\n",
    "from torch import nn\n",
    "from math import pi\n",
    "import matplotlib.pyplot as plt\n",
    "\n",
    "import random\n",
    "import torch\n",
    "\n",
    "def set_seed(seed=None, seed_torch=True):\n",
    "  \"\"\"\n",
    "  Function that controls randomness. NumPy and random modules must be imported.\n",
    "\n",
    "  Args:\n",
    "    seed : Integer\n",
    "      A non-negative integer that defines the random state. Default is `None`.\n",
    "    seed_torch : Boolean\n",
    "      If `True` sets the random seed for pytorch tensors, so pytorch module\n",
    "      must be imported. Default is `True`.\n",
    "\n",
    "  Returns:\n",
    "    Nothing.\n",
    "  \"\"\"\n",
    "  if seed is None:\n",
    "    seed = np.random.choice(2 ** 32)\n",
    "  random.seed(seed)\n",
    "  np.random.seed(seed)\n",
    "  if seed_torch:\n",
    "    torch.manual_seed(seed)\n",
    "    torch.cuda.manual_seed_all(seed)\n",
    "    torch.cuda.manual_seed(seed)\n",
    "    torch.backends.cudnn.benchmark = False\n",
    "    torch.backends.cudnn.deterministic = True\n",
    "\n",
    "  print(f'Random seed {seed} has been set.')\n",
    "\n",
    "\n",
    "# In case that `DataLoader` is used\n",
    "def seed_worker(worker_id):\n",
    "  \"\"\"\n",
    "  DataLoader will reseed workers following randomness in\n",
    "  multi-process data loading algorithm.\n",
    "\n",
    "  Args:\n",
    "    worker_id: integer\n",
    "      ID of subprocess to seed. 0 means that\n",
    "      the data will be loaded in the main process\n",
    "      Refer: https://pytorch.org/docs/stable/data.html#data-loading-randomness for more details\n",
    "\n",
    "  Returns:\n",
    "    Nothing\n",
    "  \"\"\"\n",
    "  worker_seed = torch.initial_seed() % 2**32\n",
    "  np.random.seed(worker_seed)\n",
    "  random.seed(worker_seed)"
   ]
  },
  {
   "cell_type": "code",
   "execution_count": 2,
   "metadata": {},
   "outputs": [
    {
     "name": "stdout",
     "output_type": "stream",
     "text": [
      "Random seed 2021 has been set.\n"
     ]
    }
   ],
   "source": [
    "SEED = 2021\n",
    "set_seed(seed=SEED)\n",
    "DEVICE = 'mps'"
   ]
  },
  {
   "cell_type": "markdown",
   "metadata": {},
   "source": [
    "* torch.nn 레이어를 사용하면 w,b는 이미 `requires_grad`에 들어가고 model parameter로 자동으로 등록된다.\n",
    "\n",
    "* Model Parameter : .parameters() 매서드를 사용하면 파악할 수 있다. \n",
    "\n",
    "* Optimizer : Optimization function을 의미, .step() 매서드를 사용하면 연산된 gradient를 업데이트 한다."
   ]
  },
  {
   "cell_type": "markdown",
   "metadata": {},
   "source": [
    "### Section 3.1: Training loop in PyTorch\n",
    "\n",
    "**You can run the cell multiple times and see how the parameters are being updated and the loss is reducing**\n"
   ]
  },
  {
   "cell_type": "code",
   "execution_count": 3,
   "metadata": {},
   "outputs": [
    {
     "name": "stdout",
     "output_type": "stream",
     "text": [
      "Random seed 2021 has been set.\n"
     ]
    },
    {
     "data": {
      "image/png": "[encoded data removed]",
      "text/plain": [
       "<Figure size 576x360 with 1 Axes>"
      ]
     },
     "metadata": {
      "needs_background": "light"
     },
     "output_type": "display_data"
    }
   ],
   "source": [
    "set_seed(seed=SEED)\n",
    "n_samples = 32\n",
    "inputs = torch.linspace(-1.0, 1.0, n_samples).reshape(n_samples, 1)\n",
    "noise = torch.randn(n_samples, 1) / 4\n",
    "targets = torch.sin(pi * inputs) + noise\n",
    "plt.figure(figsize=(8, 5))\n",
    "plt.scatter(inputs, targets, c='c')\n",
    "plt.xlabel('x (inputs)')\n",
    "plt.ylabel('y (targets)')\n",
    "plt.show()"
   ]
  },
  {
   "cell_type": "code",
   "execution_count": 4,
   "metadata": {},
   "outputs": [],
   "source": [
    "# Deep Learning 함수 정의 \n",
    "class WideNet(nn.Module) :\n",
    "\n",
    "    def __init__(self) :\n",
    "        n_cells = 512\n",
    "        super().__init__()\n",
    "        self.layers = nn.Sequential(\n",
    "            nn.Linear(1,n_cells), # 1 to n_cells, \n",
    "            nn.Tanh(),\n",
    "            nn.Linear(n_cells,1) # n_cells to 1\n",
    "        )\n",
    "\n",
    "    def forward(self, x : torch.Tensor ) :\n",
    "        return self.layers(x)"
   ]
  },
  {
   "cell_type": "code",
   "execution_count": 5,
   "metadata": {},
   "outputs": [
    {
     "name": "stdout",
     "output_type": "stream",
     "text": [
      "Random seed 2021 has been set.\n",
      "WideNet(\n",
      "  (layers): Sequential(\n",
      "    (0): Linear(in_features=1, out_features=512, bias=True)\n",
      "    (1): Tanh()\n",
      "    (2): Linear(in_features=512, out_features=1, bias=True)\n",
      "  )\n",
      ")\n"
     ]
    }
   ],
   "source": [
    "# Creating an instance\n",
    "set_seed(seed=SEED)\n",
    "wide_net = WideNet()\n",
    "print(wide_net)"
   ]
  },
  {
   "cell_type": "code",
   "execution_count": 6,
   "metadata": {},
   "outputs": [],
   "source": [
    "loss_function = nn.MSELoss()\n",
    "\n",
    "lr = 0.003\n",
    "\n",
    "# wide_net.parameters를 사용하는 이유 \n",
    "# torch.nn 레이어를 사용하면 w,b는 이미 `requires_grad`에 들어가고 model parameter로 자동으로 등록된다.\n",
    "sgd_optimizer = torch.optim.SGD(wide_net.parameters(), lr = lr,momentum=0.9)"
   ]
  },
  {
   "cell_type": "code",
   "execution_count": 7,
   "metadata": {},
   "outputs": [
    {
     "name": "stdout",
     "output_type": "stream",
     "text": [
      "loss: 0.9112946391105652\n"
     ]
    }
   ],
   "source": [
    "# x값, y값 정의\n",
    "inputs = torch.linspace(-1.0, 1.0, n_samples).reshape(n_samples, 1)\n",
    "noise = torch.randn(n_samples, 1) / 4\n",
    "targets = torch.sin(pi * inputs) + noise\n",
    "\n",
    "sgd_optimizer.zero_grad()\n",
    "\n",
    "predcition = wide_net(inputs)\n",
    "\n",
    "loss = loss_function(predcition,targets)\n",
    "print(f'loss: {loss.item()}')\n",
    "\n",
    "loss.backward()\n",
    "\n",
    "sgd_optimizer.step()"
   ]
  },
  {
   "cell_type": "code",
   "execution_count": 8,
   "metadata": {},
   "outputs": [
    {
     "name": "stdout",
     "output_type": "stream",
     "text": [
      "Random seed 2021 has been set.\n"
     ]
    },
    {
     "data": {
      "text/plain": [
       "[<matplotlib.lines.Line2D at 0x123ccb0d0>]"
      ]
     },
     "execution_count": 8,
     "metadata": {},
     "output_type": "execute_result"
    },
    {
     "data": {
      "image/png": "[encoded data removed]",
      "text/plain": [
       "<Figure size 432x288 with 1 Axes>"
      ]
     },
     "metadata": {
      "needs_background": "light"
     },
     "output_type": "display_data"
    }
   ],
   "source": [
    "def train(features, labels, model, loss_fun, optimizer, n_epochs):\n",
    "  \"\"\"\n",
    "  Training function\n",
    "  Args:\n",
    "    features: torch.Tensor\n",
    "      Features (input) with shape torch.Size([n_samples, 1])\n",
    "    labels: torch.Tensor\n",
    "      Labels (targets) with shape torch.Size([n_samples, 1])\n",
    "    model: torch nn.Module\n",
    "      The neural network\n",
    "    loss_fun: function\n",
    "      Loss function\n",
    "    optimizer: function\n",
    "      Optimizer\n",
    "    n_epochs: int\n",
    "      Number of training iterations\n",
    "  Returns:\n",
    "    loss_record: list\n",
    "      Record (evolution) of training losses\n",
    "  \"\"\"\n",
    "  loss_record = []  # Keeping recods of loss\n",
    "\n",
    "  for i in range(n_epochs):\n",
    "    optimizer.zero_grad()  # Set gradients to 0\n",
    "    predictions = model(features)  # Compute model prediction (output)\n",
    "    loss = loss_fun(predictions, labels)  # Compute the loss\n",
    "    loss.backward()  # Compute gradients (backward pass)\n",
    "    optimizer.step()  # Update parameters (optimizer takes a step)\n",
    "\n",
    "    loss_record.append(loss.item())\n",
    "  return loss_record\n",
    "\n",
    "# Add event to airtable\n",
    "\n",
    "\n",
    "set_seed(seed=2021)\n",
    "epochs = 1847 # Cauchy, Exercices d'analyse et de physique mathematique (1847)\n",
    "## Uncomment to run\n",
    "losses = train(inputs, targets, wide_net, loss_function, sgd_optimizer, epochs)\n",
    "plt.plot(losses)"
   ]
  },
  {
   "cell_type": "code",
   "execution_count": null,
   "metadata": {},
   "outputs": [],
   "source": []
  }
 ],
 "metadata": {
  "kernelspec": {
   "display_name": "Python 3 (ipykernel)",
   "language": "python",
   "name": "python3"
  },
  "language_info": {
   "codemirror_mode": {
    "name": "ipython",
    "version": 3
   },
   "file_extension": ".py",
   "mimetype": "text/x-python",
   "name": "python",
   "nbconvert_exporter": "python",
   "pygments_lexer": "ipython3",
   "version": "3.9.1"
  },
  "vscode": {
   "interpreter": {
    "hash": "b2097164ba635ebffc0e3795dc845ae25b57eedf0c1eb5773ded6aee9fc1b279"
   }
  }
 },
 "nbformat": 4,
 "nbformat_minor": 2
}
