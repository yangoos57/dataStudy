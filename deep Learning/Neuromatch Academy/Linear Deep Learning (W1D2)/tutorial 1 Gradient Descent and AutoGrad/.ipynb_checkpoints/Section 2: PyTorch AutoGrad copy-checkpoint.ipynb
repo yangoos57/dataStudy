{
 "cells": [
  {
   "cell_type": "code",
   "execution_count": 1,
   "metadata": {},
   "outputs": [],
   "source": [
    "# Imports\n",
    "import torch\n",
    "import numpy as np\n",
    "from torch import nn\n",
    "from math import pi\n",
    "import matplotlib.pyplot as plt\n",
    "\n",
    "import random\n",
    "import torch\n",
    "\n",
    "def set_seed(seed=None, seed_torch=True):\n",
    "  \"\"\"\n",
    "  Function that controls randomness. NumPy and random modules must be imported.\n",
    "\n",
    "  Args:\n",
    "    seed : Integer\n",
    "      A non-negative integer that defines the random state. Default is `None`.\n",
    "    seed_torch : Boolean\n",
    "      If `True` sets the random seed for pytorch tensors, so pytorch module\n",
    "      must be imported. Default is `True`.\n",
    "\n",
    "  Returns:\n",
    "    Nothing.\n",
    "  \"\"\"\n",
    "  if seed is None:\n",
    "    seed = np.random.choice(2 ** 32)\n",
    "  random.seed(seed)\n",
    "  np.random.seed(seed)\n",
    "  if seed_torch:\n",
    "    torch.manual_seed(seed)\n",
    "    torch.cuda.manual_seed_all(seed)\n",
    "    torch.cuda.manual_seed(seed)\n",
    "    torch.backends.cudnn.benchmark = False\n",
    "    torch.backends.cudnn.deterministic = True\n",
    "\n",
    "  print(f'Random seed {seed} has been set.')\n",
    "\n",
    "\n",
    "# In case that `DataLoader` is used\n",
    "def seed_worker(worker_id):\n",
    "  \"\"\"\n",
    "  DataLoader will reseed workers following randomness in\n",
    "  multi-process data loading algorithm.\n",
    "\n",
    "  Args:\n",
    "    worker_id: integer\n",
    "      ID of subprocess to seed. 0 means that\n",
    "      the data will be loaded in the main process\n",
    "      Refer: https://pytorch.org/docs/stable/data.html#data-loading-randomness for more details\n",
    "\n",
    "  Returns:\n",
    "    Nothing\n",
    "  \"\"\"\n",
    "  worker_seed = torch.initial_seed() % 2**32\n",
    "  np.random.seed(worker_seed)\n",
    "  random.seed(worker_seed)"
   ]
  },
  {
   "cell_type": "code",
   "execution_count": 2,
   "metadata": {},
   "outputs": [
    {
     "name": "stdout",
     "output_type": "stream",
     "text": [
      "Random seed 2021 has been set.\n"
     ]
    }
   ],
   "source": [
    "SEED = 2021\n",
    "set_seed(seed=SEED)\n",
    "DEVICE = 'mps'"
   ]
  },
  {
   "cell_type": "markdown",
   "metadata": {},
   "source": [
    "### Automatic Differentiation \n",
    "\n",
    "* w를 구하는 알고리즘이라고 하는 듯\n",
    "\n",
    "* AutoGrad is PyTorch’s automatic differentiation engine."
   ]
  },
  {
   "cell_type": "markdown",
   "metadata": {},
   "source": [
    "### Section 2.1: Forward Propagation\n",
    "\n",
    "* 사용자가 함수를 제공하면 pytorch는 해당 식을 graph로 그려서 연산한다.\n",
    "\n",
    "* `weight`, `biases` = `parameters` = `learnable parameters` = `trainable parameters`\n",
    "\n",
    "* `requires_grad` :  to indicate that a certain tensor contains learnable parameters(Tensor 내 parameter를 포함한다는 말인듯)\n",
    "    > .requires_grad속성을 True로 설정하면, 그 tensor에서 이뤄진 모든 연산들을 추적(track)하기 시작한다.\n",
    "\n",
    "* `detach` : Tensor가 기록을 추적하는 것을 중단하려면, .detach()를 호출하여 연산 기록으로부터 분리(detach)하여 이후 연산들이 추적되는 것을 방지할 수 있다.\n",
    "\n",
    "\n",
    "<br/>\n",
    "\n",
    "Function 클래스\n",
    "\n",
    "Autograd 구현에서 매우 중요한 클래스가 하나 더 있다. 바로 Function 클래스이다. Tensor와 Function은 서로 연결되어 있으며, 모든 연산 과정을 부호화(encode)하여 순환하지 않는 그래프(acyclic graph)를 생성한다. \n",
    "\n",
    "각 tensor는 .grad_fn속성을 갖고 있는데, 이는 Tensor를 생성한 Function을 참조하고 있다.(단, 사용자가 만든 Tensor는 예외로, 이 때 grad_fn은 None)이다.\n",
    "\n",
    "\n"
   ]
  },
  {
   "cell_type": "markdown",
   "metadata": {},
   "source": [
    "simple graph => w,b가 주어진 상태에서 loss를 구하는 방법 소개\n",
    "\n",
    "우리가 궁극적으로 할 것은 w,b를 찾는 일"
   ]
  },
  {
   "cell_type": "code",
   "execution_count": 4,
   "metadata": {},
   "outputs": [
    {
     "name": "stdout",
     "output_type": "stream",
     "text": [
      "initial weight = -0.5, \n",
      "initial bias = 0.5\n",
      "for x=1 and y=7, prediction=0.0, and L2 Loss = 49.0\n"
     ]
    }
   ],
   "source": [
    "class SimpleGraph :\n",
    "    def __init__(self,w,b) :\n",
    "        # class parameter 정의\n",
    "        assert isinstance(w,float)\n",
    "        assert isinstance(b,float)\n",
    "        self.w = torch.tensor([w],requires_grad=True)\n",
    "        self.b = torch.tensor([b],requires_grad=True)\n",
    "\n",
    "    def forward(self,x):\n",
    "        # loss 계산에 활용될 함수 정의\n",
    "        assert isinstance(x, torch.Tensor)\n",
    "        prediction = torch.tanh(self.w*x + self.b)\n",
    "        return prediction\n",
    "\n",
    "def sq_loss(y_true, y_prediction) :\n",
    "    # loss function 정의\n",
    "    assert isinstance(y_true, torch.Tensor)\n",
    "    assert isinstance(y_prediction, torch.Tensor)\n",
    "    loss = (y_true - y_prediction)**2\n",
    "    return loss\n",
    "\n",
    "# x값, y값 정의\n",
    "feature = torch.tensor([1])\n",
    "target = torch.tensor([7])\n",
    "\n",
    "# 임의의 w와 b 정의\n",
    "simple_graph = SimpleGraph(-0.5,0.5)\n",
    "print(f\"initial weight = {simple_graph.w.item()}, \"\n",
    "      f\"\\ninitial bias = {simple_graph.b.item()}\")\n",
    "\n",
    "# loss function 연산을 위한 prediction 계산\n",
    "prediction = simple_graph.forward(feature)\n",
    "\n",
    "# loss 계산\n",
    "square_loss = sq_loss(target, prediction)\n",
    "\n",
    "print(f\"for x={feature.item()} and y={target.item()}, \"\n",
    "      f\"prediction={prediction.item()}, and L2 Loss = {square_loss.item()}\")"
   ]
  },
  {
   "cell_type": "markdown",
   "metadata": {},
   "source": [
    "### Section 2.2: Backward Propagation\n",
    "\n",
    "* Tensor와 function은 상호 연결되어있고 그래프를 구성한다.\n",
    "\n",
    "* `grad_fn` 변수는 해당 tensor를 만든 함수를 창조한다.(C의 경우 + 함수가 참조됨을 볼 수 있음)\n",
    "\n",
    "* 그래서 user가 만든 tensor는 grad_fn이 없다.\n"
   ]
  },
  {
   "cell_type": "code",
   "execution_count": 5,
   "metadata": {},
   "outputs": [
    {
     "name": "stdout",
     "output_type": "stream",
     "text": [
      "Gradient function = <AddBackward0 object at 0x1159cee80>\n"
     ]
    }
   ],
   "source": [
    "a = torch.tensor([1.0], requires_grad=True)\n",
    "b = torch.tensor([-1.0], requires_grad=True)\n",
    "c = a + b\n",
    "print(f'Gradient function = {c.grad_fn}')"
   ]
  },
  {
   "cell_type": "markdown",
   "metadata": {},
   "source": [
    "* 복잡하게 연산 과정을 거친 Tensor는 가장 마지막 연산만 보여준다\n"
   ]
  },
  {
   "cell_type": "code",
   "execution_count": 6,
   "metadata": {},
   "outputs": [
    {
     "name": "stdout",
     "output_type": "stream",
     "text": [
      "Gradient function for prediction = <TanhBackward0 object at 0x1159cee80>\n",
      "Gradient function for loss = <PowBackward0 object at 0x1159ce6a0>\n"
     ]
    }
   ],
   "source": [
    "print(f'Gradient function for prediction = {prediction.grad_fn}')\n",
    "print(f'Gradient function for loss = {square_loss.grad_fn}')"
   ]
  },
  {
   "cell_type": "markdown",
   "metadata": {},
   "source": [
    "### \n",
    "* Tensor.backward()는 `loss`로 불린다. \n",
    "\n",
    "* weight 구하는 방법\n",
    "\n",
    "    $\\frac{\\partial{loss}}{\\partial{w}} = - 2 x (y_t - y_p)(1 - y_p^2)$\n",
    "\n",
    "    $y_t$ = target || $y_p$ = prediction\n",
    "\n",
    "* bias 구하는 방법\n",
    "\n",
    "    $\\frac{\\partial{loss}}{\\partial{b}} = - 2 (y_t - y_p)(1 - y_p^2)$\n",
    "\n"
   ]
  }
 ],
 "metadata": {
  "kernelspec": {
   "display_name": "Python 3 (ipykernel)",
   "language": "python",
   "name": "python3"
  },
  "language_info": {
   "codemirror_mode": {
    "name": "ipython",
    "version": 3
   },
   "file_extension": ".py",
   "mimetype": "text/x-python",
   "name": "python",
   "nbconvert_exporter": "python",
   "pygments_lexer": "ipython3",
   "version": "3.9.1"
  },
  "vscode": {
   "interpreter": {
    "hash": "b2097164ba635ebffc0e3795dc845ae25b57eedf0c1eb5773ded6aee9fc1b279"
   }
  }
 },
 "nbformat": 4,
 "nbformat_minor": 2
}
