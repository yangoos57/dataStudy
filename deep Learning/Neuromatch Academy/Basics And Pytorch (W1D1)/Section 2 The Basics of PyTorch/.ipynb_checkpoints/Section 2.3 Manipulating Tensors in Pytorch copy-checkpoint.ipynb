{
 "cells": [
  {
   "cell_type": "code",
   "execution_count": 1,
   "metadata": {},
   "outputs": [],
   "source": [
    "import time\n",
    "import random\n",
    "import numpy as np\n",
    "import pandas as pd\n",
    "import matplotlib.pyplot as plt\n",
    "\n",
    "import torch\n",
    "from torch import nn\n",
    "from torchvision import datasets\n",
    "from torch.utils.data import dataloader\n",
    "from torchvision.transforms import ToTensor"
   ]
  },
  {
   "cell_type": "markdown",
   "metadata": {},
   "source": [
    "### Manipulating tensors : indexing"
   ]
  },
  {
   "cell_type": "code",
   "execution_count": 13,
   "metadata": {},
   "outputs": [
    {
     "data": {
      "text/plain": [
       "tensor(0.1978)"
      ]
     },
     "execution_count": 13,
     "metadata": {},
     "output_type": "execute_result"
    }
   ],
   "source": [
    "# 5d tensor\n",
    "x = torch.rand(2,2,3,4,5)\n",
    "\n",
    "# 값 선택 방법 indexing으로 가능\n",
    "x[0] \n",
    "x[0][0][1][1][3]"
   ]
  },
  {
   "cell_type": "code",
   "execution_count": 22,
   "metadata": {},
   "outputs": [
    {
     "data": {
      "text/plain": [
       "''"
      ]
     },
     "execution_count": 22,
     "metadata": {},
     "output_type": "execute_result"
    }
   ],
   "source": [
    "# flatten\n",
    "torch.flatten(x).shape\n",
    "\n",
    "# reshape\n",
    "x.reshape(2,120)\n"
   ]
  },
  {
   "cell_type": "markdown",
   "metadata": {},
   "source": [
    "### squeezing tensor and unsqueezing \n",
    "\n",
    "* 임의로 차원을 늘리고 줄이는데 활용된다.\n",
    "\n",
    "* 차원을 늘리고 줄이는데 활용되므로 차원 중 1을 넣거나 빼는 기능이다.\n"
   ]
  },
  {
   "cell_type": "code",
   "execution_count": 61,
   "metadata": {},
   "outputs": [
    {
     "name": "stdout",
     "output_type": "stream",
     "text": [
      "torch.Size([1, 10, 10])\n"
     ]
    },
    {
     "data": {
      "text/plain": [
       "torch.Size([1, 10, 1, 1, 10])"
      ]
     },
     "execution_count": 61,
     "metadata": {},
     "output_type": "execute_result"
    }
   ],
   "source": [
    "x = torch.rand(1,10,1,10)\n",
    "\n",
    "# 3차원을 2차원으로 축소 1이 사라짐\n",
    "# 어느 차원에 있는 1을 지울건지 parameter로 선택 가능\n",
    "print(x.squeeze(2).shape)\n",
    "\n",
    "\n",
    "# 차원을 한단계 증가\n",
    "# 어느 차원을 늘릴건지 parameter로 선택 가능\n",
    "x.unsqueeze(2).shape"
   ]
  },
  {
   "cell_type": "markdown",
   "metadata": {},
   "source": [
    "### permutation \n",
    "차원의 순서를 바꾼다."
   ]
  },
  {
   "cell_type": "code",
   "execution_count": 4,
   "metadata": {},
   "outputs": [
    {
     "data": {
      "text/plain": [
       "torch.Size([3, 5, 4])"
      ]
     },
     "execution_count": 4,
     "metadata": {},
     "output_type": "execute_result"
    }
   ],
   "source": [
    "x = torch.rand(3,4,5)\n",
    "x = x.permute(0,2,1) # [3,5,4]\n",
    "x.shape"
   ]
  },
  {
   "cell_type": "markdown",
   "metadata": {},
   "source": [
    "### Concatnation\n",
    "\n",
    "tensor 합치기"
   ]
  },
  {
   "cell_type": "code",
   "execution_count": 7,
   "metadata": {},
   "outputs": [
    {
     "name": "stdout",
     "output_type": "stream",
     "text": [
      "torch.Size([6, 4])\n",
      "torch.Size([3, 8])\n"
     ]
    }
   ],
   "source": [
    "x = torch.arange(12,dtype=torch.float32).reshape(3,4)\n",
    "y = torch.tensor([[2.0, 1, 4, 3], [1, 2, 3, 4], [4, 3, 2, 1]])\n",
    "\n",
    "# x,y에 괄호 치는거 잊지 말기\n",
    "cat_row = torch.cat((x,y),dim=0)\n",
    "cat_col = torch.cat((x,y),dim=1)\n",
    "\n",
    "print(cat_row.shape)\n",
    "print(cat_col.shape)"
   ]
  },
  {
   "cell_type": "markdown",
   "metadata": {},
   "source": [
    "### tensor to numpy"
   ]
  },
  {
   "cell_type": "code",
   "execution_count": 12,
   "metadata": {},
   "outputs": [
    {
     "data": {
      "text/plain": [
       "array([[1., 1., 1.]], dtype=float32)"
      ]
     },
     "execution_count": 12,
     "metadata": {},
     "output_type": "execute_result"
    }
   ],
   "source": [
    "x = torch.ones(1,3)\n",
    "x.numpy()"
   ]
  },
  {
   "cell_type": "code",
   "execution_count": 16,
   "metadata": {},
   "outputs": [
    {
     "data": {
      "text/plain": [
       "1.0"
      ]
     },
     "execution_count": 16,
     "metadata": {},
     "output_type": "execute_result"
    }
   ],
   "source": [
    "# scalar to int or float\n",
    "x = torch.ones(1)\n",
    "\n",
    "# 1번\n",
    "x.item()\n",
    "\n",
    "# 2번\n",
    "int(x)\n",
    "\n",
    "#3번\n",
    "float(x)"
   ]
  },
  {
   "cell_type": "markdown",
   "metadata": {},
   "source": [
    "**function 1**\n",
    "$\\begin{equation}\n",
    "  \\text{If }\n",
    "  A = \\begin{bmatrix}\n",
    "  1 & 1 \\\\\n",
    "  1 & 1\n",
    "  \\end{bmatrix}\n",
    "  \\text{and }\n",
    "  B = \\begin{bmatrix}\n",
    "  1 & 2 & 3 \\\\\n",
    "  1 & 2 & 3\n",
    "  \\end{bmatrix}\n",
    "  \\text{ then }\n",
    "  Out =  \\begin{bmatrix}\n",
    "  2 & 2\n",
    "  \\end{bmatrix} \\cdot 12 = \\begin{bmatrix}\n",
    "  24 & 24\n",
    "  \\end{bmatrix}\n",
    "\\end{equation}$\n",
    "\n",
    "**function 2**\n",
    "$\\begin{equation}\n",
    "  \\text{If }\n",
    "  C = \\begin{bmatrix}\n",
    "  2 & 3 \\\\\n",
    "  -1 & 10\n",
    "  \\end{bmatrix}\n",
    "  \\text{ then }\n",
    "  Out = \\begin{bmatrix}\n",
    "  0 & 2 \\\\\n",
    "  1 & 3 \\\\\n",
    "  2 & -1 \\\\\n",
    "  3 & 10\n",
    "  \\end{bmatrix}\n",
    "\\end{equation}$\n",
    "\n",
    "**function3**\n",
    "$\\begin{equation}\n",
    "  \\text{If }\n",
    "  D = \\begin{bmatrix}\n",
    "  1 & -1 \\\\\n",
    "  -1 & 3\n",
    "  \\end{bmatrix}\n",
    "  \\text{and } \n",
    "  E = \\begin{bmatrix}\n",
    "  2 & 3 & 0 & 2 \\\\\n",
    "  \\end{bmatrix}\n",
    "  \\text{ then } \n",
    "  Out = \\begin{bmatrix}\n",
    "  3 & 2 \\\\\n",
    "  -1 & 5\n",
    "  \\end{bmatrix}\n",
    "\\end{equation}$\n",
    "\n",
    "\n",
    "**function 4**\n",
    "\n",
    "$\\begin{equation}\n",
    "  \\text{If }\n",
    "  D = \\begin{bmatrix}\n",
    "  1 & -1 \\\\\n",
    "  -1 & 3\n",
    "  \\end{bmatrix}\n",
    "  \\text{and }\n",
    "  E = \\begin{bmatrix}\n",
    "  2 & 3 & 0  \\\\\n",
    "  \\end{bmatrix}\n",
    "  \\text{ then }\n",
    "  Out = \\begin{bmatrix}\n",
    "  1 & -1 & -1 & 3  & 2 & 3 & 0  \n",
    "  \\end{bmatrix}\n",
    "\\end{equation}$"
   ]
  },
  {
   "cell_type": "code",
   "execution_count": 46,
   "metadata": {},
   "outputs": [
    {
     "name": "stdout",
     "output_type": "stream",
     "text": [
      "function 1 : tensor([24., 24.])\n",
      "function 2 : tensor([ 2,  3, -1, 10,  0,  1,  2,  3])\n",
      "function 3 : tensor([[ 3,  2],\n",
      "        [-1,  5]])\n",
      "function 4 : tensor([ 1, -1, -1,  3,  2,  3,  0])\n"
     ]
    }
   ],
   "source": [
    "# function 1\n",
    "a = torch.ones(2,2)\n",
    "b = torch.tensor([[1,2,3],[1,2,3]])\n",
    "\n",
    "a = a.sum(dim=1)\n",
    "b = b.sum()\n",
    "out = a*b\n",
    "print('function 1 :',out)\n",
    "\n",
    "#function 2 singleton?\n",
    "c = torch.tensor([[2,3],[-1,10]])\n",
    "c = c.flatten()\n",
    "idx = torch.tensor([0,1,2,3])\n",
    "out = torch.cat((c,idx),dim=0)\n",
    "print('function 2 :',out)\n",
    "\n",
    "# function2 정답\n",
    "my_tensor = c.flatten()\n",
    "# index 뽑아주는 식 없음 그냥 range로 만들면 됨\n",
    "idx_tensor = torch.arange(0, len(my_tensor))\n",
    "# unsqueeze와 squeeze를 이해해야할듯\n",
    "output = torch.cat([idx_tensor.unsqueeze(1), my_tensor.unsqueeze(1)], axis=1)\n",
    "\n",
    "\n",
    "# function 3 \n",
    "a = torch.tensor([[1,-1],[-1,3]])\n",
    "b = torch.tensor([2,3,0,2])\n",
    "b = b.reshape(2,2)\n",
    "out = a+b\n",
    "print('function 3 :',out)\n",
    "\n",
    "# function 4\n",
    "\n",
    "a = torch.tensor([[1,-1],[-1,3]])\n",
    "b = torch.tensor([2,3,0])\n",
    "\n",
    "a = a.flatten()\n",
    "out = torch.cat((a,b))\n",
    "print('function 4 :',out)\n"
   ]
  }
 ],
 "metadata": {
  "kernelspec": {
   "display_name": "Python 3 (ipykernel)",
   "language": "python",
   "name": "python3"
  },
  "language_info": {
   "codemirror_mode": {
    "name": "ipython",
    "version": 3
   },
   "file_extension": ".py",
   "mimetype": "text/x-python",
   "name": "python",
   "nbconvert_exporter": "python",
   "pygments_lexer": "ipython3",
   "version": "3.9.1"
  },
  "vscode": {
   "interpreter": {
    "hash": "b2097164ba635ebffc0e3795dc845ae25b57eedf0c1eb5773ded6aee9fc1b279"
   }
  }
 },
 "nbformat": 4,
 "nbformat_minor": 2
}
