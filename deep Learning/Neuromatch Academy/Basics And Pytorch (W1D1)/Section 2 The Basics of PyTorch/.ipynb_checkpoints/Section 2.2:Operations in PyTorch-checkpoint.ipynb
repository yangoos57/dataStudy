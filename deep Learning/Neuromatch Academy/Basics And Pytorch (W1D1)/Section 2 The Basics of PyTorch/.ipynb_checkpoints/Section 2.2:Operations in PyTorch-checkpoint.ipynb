{
 "cells": [
  {
   "cell_type": "code",
   "execution_count": 1,
   "metadata": {},
   "outputs": [],
   "source": [
    "import time\n",
    "import random\n",
    "import numpy as np\n",
    "import pandas as pd\n",
    "import matplotlib.pyplot as plt\n",
    "\n",
    "import torch\n",
    "from torch import nn\n",
    "from torchvision import datasets\n",
    "from torch.utils.data import dataloader\n",
    "from torchvision.transforms import ToTensor"
   ]
  },
  {
   "cell_type": "markdown",
   "metadata": {},
   "source": [
    "### Tensor operations\n",
    "\n",
    "* Pointwise : 포인트별로 계산한다. 병렬계산을 의미하는듯"
   ]
  },
  {
   "cell_type": "code",
   "execution_count": 2,
   "metadata": {},
   "outputs": [
    {
     "name": "stdout",
     "output_type": "stream",
     "text": [
      "tensor([[1.0807, 1.3384, 1.9716],\n",
      "        [1.7287, 1.7563, 1.1235],\n",
      "        [1.6141, 1.7030, 1.7693],\n",
      "        [1.4831, 1.8150, 1.7789],\n",
      "        [1.6642, 1.0128, 1.0767]])\n"
     ]
    }
   ],
   "source": [
    "a = torch.ones(5,3)\n",
    "b = torch.rand(5,3)\n",
    "c = torch.empty_like(a)\n",
    "d = torch.empty_like(b)\n",
    "\n",
    "torch.add(a,b, out=c)\n",
    "torch.multiply(a,b, out=d)\n",
    "\n",
    "print(c)"
   ]
  },
  {
   "cell_type": "code",
   "execution_count": 5,
   "metadata": {},
   "outputs": [
    {
     "data": {
      "text/plain": [
       "(tensor([ 2,  4,  7, 12]),\n",
       " tensor([0, 0, 1, 4]),\n",
       " tensor([ 1,  4, 12, 32]),\n",
       " tensor([1.0000, 1.0000, 1.3333, 2.0000]),\n",
       " tensor([   1,    4,   64, 4096]))"
      ]
     },
     "execution_count": 5,
     "metadata": {},
     "output_type": "execute_result"
    }
   ],
   "source": [
    "x = torch.tensor([1, 2, 4, 8])\n",
    "y = torch.tensor([1, 2, 3, 4])\n",
    "\n",
    "# tuple로 되네\n",
    "x + y, x - y, x * y, x / y, x**y"
   ]
  },
  {
   "cell_type": "code",
   "execution_count": 11,
   "metadata": {},
   "outputs": [
    {
     "name": "stdout",
     "output_type": "stream",
     "text": [
      "tensor([[0.5195, 0.9064, 0.3317],\n",
      "        [0.0469, 0.8761, 0.6372],\n",
      "        [0.6177, 0.3569, 0.0922]])\n",
      "합 :  tensor(4.3847)\n",
      "column 계산 :  tensor([1.1841, 2.1395, 1.0611])\n",
      "row 계산 :  tensor([1.7577, 1.5602, 1.0668])\n",
      "평균 :  tensor(0.4872)\n",
      "column 평균 :  tensor([0.3947, 0.7132, 0.3537])\n",
      "row 평균 :  tensor([0.5859, 0.5201, 0.3556])\n"
     ]
    }
   ],
   "source": [
    "x = torch.rand(3,3)\n",
    "\n",
    "print(x)\n",
    "print('합 : ',x.sum())\n",
    "print('column 계산 : ',x.sum(axis=0))\n",
    "print('row 계산 : ',x.sum(axis=1))\n",
    "\n",
    "print('평균 : ',x.mean())\n",
    "print('column 평균 : ',x.mean(axis=0))\n",
    "print('row 평균 : ',x.mean(axis=1))"
   ]
  },
  {
   "cell_type": "markdown",
   "metadata": {},
   "source": [
    "### matrix multiplication(@)와 dot multiplication(•)\n",
    "\n",
    "(1) matrix multiplication(@)\n",
    "$\\begin{equation}\n",
    "\\textbf{A} = \n",
    "\\begin{bmatrix}2 &4 \\\\5 & 7 \n",
    "\\end{bmatrix} \n",
    "\\begin{bmatrix} 1 &1 \\\\2 & 3\n",
    "\\end{bmatrix} \n",
    "+ \n",
    "\\begin{bmatrix}10 & 10  \\\\ 12 & 1 \n",
    "\\end{bmatrix} \n",
    "\\end{equation}$\n",
    "\n",
    "<br/><br/>\n",
    "\n",
    "(2) dot multiplication(•)\n",
    "$\\begin{equation}\n",
    "b = \n",
    "\\begin{bmatrix} 3 \\\\ 5 \\\\ 7\n",
    "\\end{bmatrix} \\cdot \n",
    "\\begin{bmatrix} 2 \\\\ 4 \\\\ 8\n",
    "\\end{bmatrix}\n",
    "\\end{equation}$"
   ]
  },
  {
   "cell_type": "code",
   "execution_count": 12,
   "metadata": {},
   "outputs": [
    {
     "data": {
      "text/plain": [
       "tensor([[20, 24],\n",
       "        [31, 27]])"
      ]
     },
     "execution_count": 12,
     "metadata": {},
     "output_type": "execute_result"
    }
   ],
   "source": [
    "### 1번 연산\n",
    "\n",
    "a1 = torch.tensor([[2, 4], [5, 7]])\n",
    "a2 = torch.tensor([[1, 1], [2, 3]])\n",
    "a3 = torch.tensor([[10, 10], [12, 1]])\n",
    "\n",
    "a = torch.matmul(a1,a2) + a3\n",
    "\n",
    "a"
   ]
  },
  {
   "cell_type": "code",
   "execution_count": 18,
   "metadata": {},
   "outputs": [
    {
     "data": {
      "text/plain": [
       "tensor(82)"
      ]
     },
     "execution_count": 18,
     "metadata": {},
     "output_type": "execute_result"
    }
   ],
   "source": [
    "### 2번 연산\n",
    "b1 = torch.tensor([3, 5, 7])\n",
    "b2 = torch.tensor([2, 4, 8])\n",
    "\n",
    "# b2.T 할필요 없이 자동으로 연산이 수행 됨 \n",
    "torch.dot(b1,b2)"
   ]
  }
 ],
 "metadata": {
  "kernelspec": {
   "display_name": "Python 3 (ipykernel)",
   "language": "python",
   "name": "python3"
  },
  "language_info": {
   "codemirror_mode": {
    "name": "ipython",
    "version": 3
   },
   "file_extension": ".py",
   "mimetype": "text/x-python",
   "name": "python",
   "nbconvert_exporter": "python",
   "pygments_lexer": "ipython3",
   "version": "3.9.1"
  },
  "vscode": {
   "interpreter": {
    "hash": "b2097164ba635ebffc0e3795dc845ae25b57eedf0c1eb5773ded6aee9fc1b279"
   }
  }
 },
 "nbformat": 4,
 "nbformat_minor": 2
}
