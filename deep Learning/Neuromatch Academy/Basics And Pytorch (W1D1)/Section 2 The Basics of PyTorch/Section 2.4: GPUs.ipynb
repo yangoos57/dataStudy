{
 "cells": [
  {
   "cell_type": "code",
   "execution_count": 2,
   "metadata": {},
   "outputs": [],
   "source": [
    "import time\n",
    "import random\n",
    "import numpy as np\n",
    "import pandas as pd\n",
    "import matplotlib.pyplot as plt\n",
    "\n",
    "import torch\n",
    "from torch import nn\n",
    "from torchvision import datasets\n",
    "from torch.utils.data import dataloader\n",
    "from torchvision.transforms import ToTensor\n",
    "\n",
    "def set_device():\n",
    "  \"\"\"\n",
    "  Set the device. CUDA if available, CPU otherwise\n",
    "\n",
    "  Args:\n",
    "    None\n",
    "\n",
    "  Returns:\n",
    "    Nothing\n",
    "  \"\"\"\n",
    "  device = \"cuda\" if torch.cuda.is_available() else \"mps\"\n",
    "  if device != \"cuda\":\n",
    "    print(\"GPU is not enabled in this notebook. \\n\"\n",
    "          \"If you want to enable it, in the menu under `Runtime` -> \\n\"\n",
    "          \"`Hardware accelerator.` and select `GPU` from the dropdown menu\")\n",
    "  else:\n",
    "    print(\"GPU is enabled in this notebook. \\n\"\n",
    "          \"If you want to disable it, in the menu under `Runtime` -> \\n\"\n",
    "          \"`Hardware accelerator.` and select `None` from the dropdown menu\")\n",
    "\n",
    "  return device"
   ]
  },
  {
   "cell_type": "markdown",
   "metadata": {},
   "source": [
    "### mps : Apple의 Metal Performance Shaders\n",
    "* CPU와 MPS 차이가 단순연산에선 최대 100배 정도 나는것 같습니다."
   ]
  },
  {
   "cell_type": "code",
   "execution_count": 3,
   "metadata": {},
   "outputs": [
    {
     "name": "stdout",
     "output_type": "stream",
     "text": [
      "mps:0\n"
     ]
    }
   ],
   "source": [
    "x = torch.randn(10).to('mps')\n",
    "print(x.device)"
   ]
  },
  {
   "cell_type": "code",
   "execution_count": 4,
   "metadata": {},
   "outputs": [
    {
     "name": "stdout",
     "output_type": "stream",
     "text": [
      "GPU is not enabled in this notebook. \n",
      "If you want to enable it, in the menu under `Runtime` -> \n",
      "`Hardware accelerator.` and select `GPU` from the dropdown menu\n",
      "torch.float32\n",
      "mps:0\n",
      "y before calling to() | device: cpu | dtype: torch.FloatTensor\n",
      "y after calling to() | device: mps:0 | dtype: torch.mps.FloatTensor\n"
     ]
    }
   ],
   "source": [
    "DEVICE = set_device()\n",
    "x = torch.randn(2, 2, device=DEVICE)\n",
    "print(x.dtype)\n",
    "print(x.device)\n",
    "\n",
    "# we can also use the .to() method to change the device a tensor lives on\n",
    "y = torch.randn(2, 2)\n",
    "print(f\"y before calling to() | device: {y.device} | dtype: {y.type()}\")\n",
    "\n",
    "y = y.to(DEVICE)\n",
    "print(f\"y after calling to() | device: {y.device} | dtype: {y.type()}\")"
   ]
  },
  {
   "cell_type": "code",
   "execution_count": 7,
   "metadata": {},
   "outputs": [
    {
     "name": "stdout",
     "output_type": "stream",
     "text": [
      "2.09808349609375e-05\n",
      "34.96109390258789\n"
     ]
    }
   ],
   "source": [
    "dim = 10000\n",
    "iterations = 1\n",
    "\n",
    "def simpleFun(dim, device):\n",
    "  \"\"\"\n",
    "  Helper function to check device-compatiblity with computations\n",
    "  Args:\n",
    "    dim: Integer\n",
    "    device: String\n",
    "      \"cpu\" or \"cuda\"\n",
    "  Returns:\n",
    "    Nothing.\n",
    "  \"\"\"\n",
    "  # 2D tensor filled with uniform random numbers in [0,1), dim x dim\n",
    "  x = torch.rand(dim, dim).to(device)\n",
    "  # 2D tensor filled with uniform random numbers in [0,1), dim x dim\n",
    "  y = torch.rand_like(x).to(device)\n",
    "  # 2D tensor filled with the scalar value 2, dim x dim\n",
    "  z = 2*torch.ones(dim, dim).to(device)\n",
    "\n",
    "  # elementwise multiplication of x and y\n",
    "  a = x * y\n",
    "  # matrix multiplication of x and z\n",
    "  b = x @ z\n",
    "\n",
    "  del x\n",
    "  del y\n",
    "  del z\n",
    "  del a\n",
    "  del b\n",
    "\n",
    "\n",
    "a = time.time()\n",
    "simpleFun(dim=5000,device='cpu')\n",
    "b = time.time()-a\n",
    "print(b)\n",
    "\n",
    "a = time.time()\n",
    "simpleFun(dim=5000,device='mps')\n",
    "b = time.time()-a\n",
    "print(b)"
   ]
  },
  {
   "cell_type": "code",
   "execution_count": null,
   "metadata": {},
   "outputs": [],
   "source": []
  }
 ],
 "metadata": {
  "kernelspec": {
   "display_name": "Python 3.9.1 64-bit",
   "language": "python",
   "name": "python3"
  },
  "language_info": {
   "codemirror_mode": {
    "name": "ipython",
    "version": 3
   },
   "file_extension": ".py",
   "mimetype": "text/x-python",
   "name": "python",
   "nbconvert_exporter": "python",
   "pygments_lexer": "ipython3",
   "version": "3.9.1"
  },
  "orig_nbformat": 4,
  "vscode": {
   "interpreter": {
    "hash": "b2097164ba635ebffc0e3795dc845ae25b57eedf0c1eb5773ded6aee9fc1b279"
   }
  }
 },
 "nbformat": 4,
 "nbformat_minor": 2
}
