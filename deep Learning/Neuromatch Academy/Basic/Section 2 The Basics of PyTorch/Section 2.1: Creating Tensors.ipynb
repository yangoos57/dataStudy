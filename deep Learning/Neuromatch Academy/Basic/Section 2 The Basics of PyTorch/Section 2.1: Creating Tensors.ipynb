{
 "cells": [
  {
   "cell_type": "code",
   "execution_count": 1,
   "metadata": {},
   "outputs": [],
   "source": [
    "import time\n",
    "import random\n",
    "import numpy as np\n",
    "import pandas as pd\n",
    "import matplotlib.pyplot as plt\n",
    "\n",
    "import torch\n",
    "from torch import nn\n",
    "from torchvision import datasets\n",
    "from torch.utils.data import dataloader\n",
    "from torchvision.transforms import ToTensor"
   ]
  },
  {
   "cell_type": "markdown",
   "metadata": {},
   "source": [
    "## Basic of Tensor"
   ]
  },
  {
   "cell_type": "code",
   "execution_count": 3,
   "metadata": {},
   "outputs": [
    {
     "data": {
      "text/plain": [
       "tensor([[1., 1., 1.],\n",
       "        [1., 1., 1.]], dtype=torch.float64)"
      ]
     },
     "execution_count": 3,
     "metadata": {},
     "output_type": "execute_result"
    }
   ],
   "source": [
    "a = torch.tensor([0,1,2])\n",
    "\n",
    "c = np.ones([2,3]) # 1이 들어있는 array 생성\n",
    "\n",
    "c = torch.tensor(c)\n",
    "\n"
   ]
  },
  {
   "cell_type": "markdown",
   "metadata": {},
   "source": [
    "## Pytorch ≑ numpy\n",
    "\n",
    "numpy를 GPU로 사용한다고 생각하면 된다."
   ]
  },
  {
   "cell_type": "code",
   "execution_count": 4,
   "metadata": {},
   "outputs": [
    {
     "name": "stdout",
     "output_type": "stream",
     "text": [
      "numpy : [[1. 1. 1.]\n",
      " [1. 1. 1.]\n",
      " [1. 1. 1.]\n",
      " [1. 1. 1.]\n",
      " [1. 1. 1.]]\n",
      "tensor : tensor([[1., 1., 1.],\n",
      "        [1., 1., 1.],\n",
      "        [1., 1., 1.],\n",
      "        [1., 1., 1.],\n",
      "        [1., 1., 1.]])\n"
     ]
    }
   ],
   "source": [
    "c = np.ones([5,3]) # 1이 들어있는 array 생성\n",
    "t = torch.ones(5,3)\n",
    "print(f'numpy : {c}')\n",
    "print(f'tensor : {t}')\n"
   ]
  },
  {
   "cell_type": "markdown",
   "metadata": {},
   "source": [
    "### Zero와 Empty\n",
    "* zero = 0이 들어있는 tensor 생성\n",
    "\n",
    "* empty = 메모리 공간을 할당\n",
    "* empty가 약간 빠르다고 함."
   ]
  },
  {
   "cell_type": "code",
   "execution_count": 5,
   "metadata": {},
   "outputs": [
    {
     "name": "stdout",
     "output_type": "stream",
     "text": [
      "Tensor z: tensor([0., 0.])\n",
      "Tensor e: tensor([[[9.1477e-41, 0.0000e+00, 1.1210e-44, 0.0000e+00, 6.6415e-37]]])\n"
     ]
    }
   ],
   "source": [
    "z = torch.zeros(2)\n",
    "e = torch.empty(1, 1, 5)\n",
    "print(f\"Tensor z: {z}\")\n",
    "print(f\"Tensor e: {e}\")"
   ]
  },
  {
   "cell_type": "code",
   "execution_count": 8,
   "metadata": {},
   "outputs": [
    {
     "name": "stdout",
     "output_type": "stream",
     "text": [
      "Tensor a: tensor([[0.3751, 0.3315, 0.9492, 0.0688, 0.2988]])\n",
      "Tensor b: tensor([[-1.6029,  0.9502, -0.8179, -1.1040,  0.2414]])\n"
     ]
    }
   ],
   "source": [
    "a = torch.rand(1,5) # 0 ~ 1 균등한 random\n",
    "b = torch.randn(1,5) # normal distribution random\n",
    "\n",
    "print(f\"Tensor a: {a}\")\n",
    "print(f\"Tensor b: {b}\")"
   ]
  },
  {
   "cell_type": "markdown",
   "metadata": {},
   "source": [
    "### arrange와 Linspace\n"
   ]
  },
  {
   "cell_type": "code",
   "execution_count": 9,
   "metadata": {},
   "outputs": [
    {
     "name": "stdout",
     "output_type": "stream",
     "text": [
      "Tensor a: tensor([0, 1, 2, 3, 4, 5, 6, 7, 8, 9])\n",
      "\n",
      "Numpy array b: [0 1 2 3 4 5 6 7 8 9]\n",
      "\n",
      "Tensor c: tensor([0.0000, 0.5000, 1.0000, 1.5000, 2.0000, 2.5000, 3.0000, 3.5000, 4.0000,\n",
      "        4.5000, 5.0000])\n",
      "\n",
      "Numpy array d: [0.  0.5 1.  1.5 2.  2.5 3.  3.5 4.  4.5 5. ]\n",
      "\n"
     ]
    }
   ],
   "source": [
    "a = torch.arange(0,10,step=1)\n",
    "b = np.arange(0,10,step=1)\n",
    "\n",
    "c = torch.linspace(0,5,steps=11)\n",
    "d = np.linspace(0,5,num=11)\n",
    "\n",
    "print(f\"Tensor a: {a}\\n\")\n",
    "print(f\"Numpy array b: {b}\\n\")\n",
    "print(f\"Tensor c: {c}\\n\")\n",
    "print(f\"Numpy array d: {d}\\n\")"
   ]
  },
  {
   "cell_type": "markdown",
   "metadata": {},
   "source": [
    "### 문제"
   ]
  },
  {
   "cell_type": "code",
   "execution_count": 16,
   "metadata": {},
   "outputs": [],
   "source": [
    "# A\n",
    "a = torch.ones(20,21)\n",
    "\n",
    "# B\n",
    "z = np.ones([3,4])\n",
    "z = torch.tensor(z)\n",
    "\n",
    "#C (a와 구조가 같은데 모두 random으로 채우는 방법)\n",
    "c = torch.rand_like(a)\n",
    "\n",
    "#D\n",
    "d = torch.arange(4,42,step=2)\n"
   ]
  },
  {
   "cell_type": "markdown",
   "metadata": {},
   "source": [
    "###  결론 : Pytorch ≑ GPU버전 numpy라고 이해하자 "
   ]
  }
 ],
 "metadata": {
  "kernelspec": {
   "display_name": "Python 3.9.1 64-bit",
   "language": "python",
   "name": "python3"
  },
  "language_info": {
   "codemirror_mode": {
    "name": "ipython",
    "version": 3
   },
   "file_extension": ".py",
   "mimetype": "text/x-python",
   "name": "python",
   "nbconvert_exporter": "python",
   "pygments_lexer": "ipython3",
   "version": "3.9.1"
  },
  "orig_nbformat": 4,
  "vscode": {
   "interpreter": {
    "hash": "b2097164ba635ebffc0e3795dc845ae25b57eedf0c1eb5773ded6aee9fc1b279"
   }
  }
 },
 "nbformat": 4,
 "nbformat_minor": 2
}
