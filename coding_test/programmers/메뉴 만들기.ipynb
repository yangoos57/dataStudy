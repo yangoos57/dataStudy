{
 "cells": [
  {
   "cell_type": "markdown",
   "metadata": {},
   "source": [
    "### 시간초과 발생\n",
    "\n",
    "#### 문제복기\n",
    "\n",
    "- 예제 문제에 대한 이해 없이 곧바로 문제를 들어가는 시도 금지 / 최소한 예시는 이해하고 넘어가자\n",
    "\n",
    "- 반례를 찾는게 유용한 경우 반례를 꼭 찾아보자(문제 이해를 위해서라도) \n",
    "\n",
    "- 문제를 크게 크게 이해하고 그것들을 작게 작게 나눠보자 "
   ]
  },
  {
   "cell_type": "code",
   "execution_count": 49,
   "metadata": {},
   "outputs": [
    {
     "data": {
      "text/plain": [
       "['AC', 'ACDE', 'BCFG', 'CDE']"
      ]
     },
     "execution_count": 49,
     "metadata": {},
     "output_type": "execute_result"
    }
   ],
   "source": [
    "# 목적 : 함께 주문한 메뉴를 코스로 생성\n",
    "# 조건 : 최소 2가지 이상 단품, 최소 2명 이상 손님이 주문한 조합, 개별 손님 단품 2개 이상\n",
    "\n",
    "# ord : 손님 수, 2 ~ 20 메뉴 2~10(중복X)  course (2 ~ 10) : 구성해야하는 단품 메뉴 개수(오름차수)\n",
    "# answer: 오름차수\n",
    "from typing import List\n",
    "from itertools import combinations\n",
    "\n",
    "\n",
    "def solution(orders: List[str], course: List[int]) -> List[str]:\n",
    "    # 메뉴 리스트 생성 & 주문 별로 메뉴 리스트에 재정렬\n",
    "    lst_lst = list(map(lambda x: list(x), orders))\n",
    "    menu = sorted(list(set(j for i in lst_lst for j in i)))\n",
    "\n",
    "    answer = []\n",
    "    for r in course:\n",
    "        temp = []\n",
    "        best = 0\n",
    "        for com in combinations(menu, r):\n",
    "            up = 0\n",
    "            for item in lst_lst:\n",
    "                pass_orders = True\n",
    "                for idx in com:\n",
    "                    if idx not in item:\n",
    "                        pass_orders = False\n",
    "                        break\n",
    "                if pass_orders == True:\n",
    "                    up += 1\n",
    "            if up > 1:\n",
    "                if up > best :\n",
    "                    best = up\n",
    "                temp.append([com,up])\n",
    "                \n",
    "        for t in temp :\n",
    "            if t[1] == best :\n",
    "                answer.append(t[0])\n",
    "\n",
    "        \n",
    "    return sorted(list(map(lambda x : ''.join(x),answer)))\n",
    "\n",
    "orders = [\"ABCFG\", \"AC\", \"CDE\", \"ACDE\", \"BCFG\", \"ACDEH\"]\n",
    "# orders = [\"ABCDE\", \"AB\", \"CD\", \"ADE\", \"XYZ\", \"XYZ\", \"ACD\"]\n",
    "# orders = [\"XYZ\", \"XWY\", \"WXA\"]\n",
    "course = [2, 3, 4]\n",
    "# course = [2, 3, 5]\n",
    "\n",
    "solution(orders, course)\n"
   ]
  },
  {
   "attachments": {},
   "cell_type": "markdown",
   "metadata": {},
   "source": [
    "### 다른 사람 풀이 도움\n",
    "\n",
    "- 모든 조합을 계산하고 => Counter로 중복 개수를 확보했음."
   ]
  },
  {
   "cell_type": "markdown",
   "metadata": {},
   "source": [
    "##### combinations는 str을 써도 됨\n",
    "\n",
    "##### combinations는 n 보다 r이 커도 에러가 발생하지 않음. 그냥 0 으로 나오는 듯"
   ]
  },
  {
   "cell_type": "code",
   "execution_count": 6,
   "metadata": {},
   "outputs": [
    {
     "data": {
      "text/plain": [
       "[]"
      ]
     },
     "execution_count": 6,
     "metadata": {},
     "output_type": "execute_result"
    }
   ],
   "source": [
    "from itertools import combinations\n",
    "list(combinations('str',4))\n"
   ]
  },
  {
   "attachments": {},
   "cell_type": "markdown",
   "metadata": {},
   "source": [
    "##### map이나 combinations 같은 iter형태의 반환은 굳이 list 사용 없이 아래와 같은 방법으로 모을 수 있음"
   ]
  },
  {
   "cell_type": "code",
   "execution_count": 5,
   "metadata": {},
   "outputs": [
    {
     "data": {
      "text/plain": [
       "[2, 3, 4]"
      ]
     },
     "execution_count": 5,
     "metadata": {},
     "output_type": "execute_result"
    }
   ],
   "source": [
    "k = []\n",
    "k += map(lambda x : x + 1, [1,2,3])\n",
    "k"
   ]
  },
  {
   "cell_type": "code",
   "execution_count": 62,
   "metadata": {},
   "outputs": [
    {
     "name": "stdout",
     "output_type": "stream",
     "text": [
      "[Counter({('X', 'Y'): 2, ('W', 'X'): 2, ('X', 'Z'): 1, ('Y', 'Z'): 1, ('W', 'Y'): 1, ('A', 'W'): 1, ('A', 'X'): 1}), Counter({('X', 'Y', 'Z'): 1, ('W', 'X', 'Y'): 1, ('A', 'W', 'X'): 1})]\n"
     ]
    },
    {
     "data": {
      "text/plain": [
       "['WX', 'XY']"
      ]
     },
     "execution_count": 62,
     "metadata": {},
     "output_type": "execute_result"
    }
   ],
   "source": [
    "from collections import Counter\n",
    "from typing import List\n",
    "from itertools import combinations\n",
    "\n",
    "\n",
    "def solution(orders: List[str], course: List[int]) -> List[str]:\n",
    "    temp_2 = []\n",
    "    for c in course:\n",
    "        temp = []\n",
    "        for order in orders:\n",
    "            combi = combinations(sorted(order), c)\n",
    "            temp += combi\n",
    "        if temp != [] :\n",
    "            temp_2.append(Counter(temp))\n",
    "    print(temp_2)\n",
    "    answer = []\n",
    "    for c in temp_2 :\n",
    "        max_num = max(c.values())\n",
    "        if max_num > 1 :\n",
    "            answer.extend([k for k,v in c.items() if v == max_num])\n",
    "\n",
    "    return sorted(list(map(lambda x : ''.join(x),answer)))\n",
    "\n",
    "# orders = [\"ABCFG\", \"AC\", \"CDE\", \"ACDE\", \"BCFG\", \"ACDEH\"]\n",
    "# orders = [\"ABCDE\", \"AB\", \"CD\", \"ADE\", \"XYZ\", \"XYZ\", \"ACD\"]\n",
    "orders = [\"XYZ\", \"XWY\", \"WXA\"]\n",
    "course = [2, 3, 4]\n",
    "# course = [2, 3, 5]\n",
    "\n",
    "solution(orders, course)"
   ]
  }
 ],
 "metadata": {
  "kernelspec": {
   "display_name": "Python 3",
   "language": "python",
   "name": "python3"
  },
  "language_info": {
   "codemirror_mode": {
    "name": "ipython",
    "version": 3
   },
   "file_extension": ".py",
   "mimetype": "text/x-python",
   "name": "python",
   "nbconvert_exporter": "python",
   "pygments_lexer": "ipython3",
   "version": "3.9.1"
  },
  "orig_nbformat": 4,
  "vscode": {
   "interpreter": {
    "hash": "b2097164ba635ebffc0e3795dc845ae25b57eedf0c1eb5773ded6aee9fc1b279"
   }
  }
 },
 "nbformat": 4,
 "nbformat_minor": 2
}
