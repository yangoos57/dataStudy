{
 "cells": [
  {
   "cell_type": "markdown",
   "metadata": {},
   "source": [
    "### 문제를 이해 못한건지.. 반례를 못찾는건지 정확도에서도 0점을 맞는다."
   ]
  },
  {
   "cell_type": "code",
   "execution_count": 32,
   "metadata": {},
   "outputs": [
    {
     "data": {
      "text/plain": [
       "[1, 1, 1, 1, 2, 4]"
      ]
     },
     "execution_count": 32,
     "metadata": {},
     "output_type": "execute_result"
    }
   ],
   "source": [
    "def condition_filter(candidates, query):\n",
    "    c = 0\n",
    "    for idx in range(len(candidates)):\n",
    "        can = [False] * 5\n",
    "        for i in range(4):\n",
    "            if candidates[i][idx] == query[i] or query[i] == \"-\":\n",
    "                can[i] = True\n",
    "        if int(candidates[4][idx]) >= int(query[4]) :\n",
    "            can[4] = True\n",
    "        if can == [True, True, True, True, True]:\n",
    "            c += 1\n",
    "    return c\n",
    "\n",
    "\n",
    "def solution(info, query):\n",
    "    N = [[] for _ in range(5)] \n",
    "    for i in info:\n",
    "        a, b, c, d, e = i.split(\" \")\n",
    "        N[0].append(a)\n",
    "        N[1].append(b)\n",
    "        N[2].append(c)\n",
    "        N[3].append(d)\n",
    "        N[4].append(e)\n",
    "    \n",
    "    answer = []\n",
    "    for q in query:\n",
    "        q = q.split(' and ')\n",
    "        a, b = q.pop().split(' ')\n",
    "        q.append(a)\n",
    "        q.append(b)\n",
    "        answer.append(condition_filter(N, q))\n",
    "\n",
    "    return answer\n",
    "\n",
    "\n",
    "info = [\n",
    "    \"java backend junior pizza 150\",\n",
    "    \"python frontend senior chicken 210\",\n",
    "    \"python frontend senior chicken 150\",\n",
    "    \"cpp backend senior pizza 260\",\n",
    "    \"java backend junior chicken 80\",\n",
    "    \"python backend senior chicken 50\",\n",
    "]\n",
    "query = [\n",
    "    \"java and backend and junior and pizza 100\",\n",
    "    \"python and frontend and senior and chicken 200\",\n",
    "    \"cpp and - and senior and pizza 250\",\n",
    "    \"- and backend and senior and - 150\",\n",
    "    \"- and - and - and chicken 100\",\n",
    "    \"- and - and - and - 150\",\n",
    "]\n",
    "\n",
    "solution(info, query)\n"
   ]
  },
  {
   "cell_type": "code",
   "execution_count": 13,
   "metadata": {},
   "outputs": [
    {
     "name": "stdout",
     "output_type": "stream",
     "text": [
      "['java', 'backend', 'junior', 'pizza', '100']\n",
      "['python', 'frontend', 'senior', 'chicken', '200']\n",
      "['cpp', '-', 'senior', 'pizza', '250']\n",
      "['-', 'backend', 'senior', '-', '150']\n",
      "['-', '-', '-', 'chicken', '100']\n",
      "['-', '-', '-', '-', '150']\n"
     ]
    }
   ],
   "source": [
    "query = [\n",
    "    \"java and backend and junior and pizza 100\",\n",
    "    \"python and frontend and senior and chicken 200\",\n",
    "    \"cpp and - and senior and pizza 250\",\n",
    "    \"- and backend and senior and - 150\",\n",
    "    \"- and - and - and chicken 100\",\n",
    "    \"- and - and - and - 150\",\n",
    "] * 25000\n",
    "\n",
    "for q in query : \n",
    "    x = q.split(' and ')\n",
    "    a, b = x.pop().split(' ')\n",
    "    x.append(a)\n",
    "    x.append(b)\n",
    "    print(x)\n",
    "\n"
   ]
  }
 ],
 "metadata": {
  "kernelspec": {
   "display_name": "Python 3",
   "language": "python",
   "name": "python3"
  },
  "language_info": {
   "codemirror_mode": {
    "name": "ipython",
    "version": 3
   },
   "file_extension": ".py",
   "mimetype": "text/x-python",
   "name": "python",
   "nbconvert_exporter": "python",
   "pygments_lexer": "ipython3",
   "version": "3.9.1"
  },
  "orig_nbformat": 4,
  "vscode": {
   "interpreter": {
    "hash": "b2097164ba635ebffc0e3795dc845ae25b57eedf0c1eb5773ded6aee9fc1b279"
   }
  }
 },
 "nbformat": 4,
 "nbformat_minor": 2
}
