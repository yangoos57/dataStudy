{
 "cells": [
  {
   "attachments": {},
   "cell_type": "markdown",
   "metadata": {},
   "source": [
    "### 최소직사각형\n",
    "\n",
    "* 작아서 들고 다니기 편한 지갑을 만들어야 합니다. 이러한 요건을 만족하는 지갑을 만들기 위해 디자인팀은 모든 명함의 가로 길이와 세로 길이를 조사했습니다.\n"
   ]
  },
  {
   "cell_type": "code",
   "execution_count": 8,
   "metadata": {},
   "outputs": [
    {
     "data": {
      "text/plain": [
       "120"
      ]
     },
     "execution_count": 8,
     "metadata": {},
     "output_type": "execute_result"
    }
   ],
   "source": [
    "sizes = [[60, 50], [30, 70], [60, 30], [80, 40]]\n",
    "sizes = [[10, 7], [12, 3], [8, 15], [14, 7], [5, 15]]\t\n",
    "\n",
    "\n",
    "def solution(sizes):\n",
    "    \n",
    "    w = [] # 작은 값\n",
    "    h = [] # 큰 값\n",
    "    for [a, b] in sizes:\n",
    "        if a > b:\n",
    "            w.append(b)\n",
    "            h.append(a)\n",
    "        else:\n",
    "            w.append(a)\n",
    "            h.append(b)\n",
    "\n",
    "    return max(w) * max(h)\n",
    "\n",
    "\n",
    "solution(sizes)\n"
   ]
  },
  {
   "cell_type": "markdown",
   "metadata": {},
   "source": [
    "### 다른사람의 풀이\n",
    "\n",
    "* 굳이 리스트를 만들지 않고 max 값을 변경하는 방식이 훨씬 효율적임\n",
    "* a,b 값을 바꾸기 위해서는 `a,b = b,a` 를 쓰면 됨"
   ]
  },
  {
   "cell_type": "code",
   "execution_count": null,
   "metadata": {},
   "outputs": [],
   "source": [
    "def solution(sizes):\n",
    "    row = 0\n",
    "    col = 0\n",
    "    for a, b in sizes:\n",
    "        if a < b:\n",
    "            a, b = b, a\n",
    "        row = max(row, a)\n",
    "        col = max(col, b)\n",
    "    return row * col\n"
   ]
  },
  {
   "cell_type": "markdown",
   "metadata": {},
   "source": [
    "### 모의고사\n",
    "* 1번 문제부터 마지막 문제까지의 정답이 순서대로 들은 배열 answers가 주어졌을 때, 가장 많은 문제를 맞힌 사람이 누구인지 배열에 담아 return 하도록 solution 함수를 작성해주세요.\n",
    "\n",
    "* 패턴 1 : 1, 2, 3, 4, 5, 1, 2, 3, 4, 5\n",
    "* 패턴 2 : 2, 1, 2, 3, 2, 4, 2, 5, 2, 1, 2, 3, 2, 4, 2, 5,\n",
    "* 패턴 3 : 3, 3, 1, 1, 2, 2, 4, 4, 5, 5, 3, 3, 1, 1, 2, 2, 4, 4, 5, 5, \n"
   ]
  },
  {
   "cell_type": "code",
   "execution_count": 21,
   "metadata": {},
   "outputs": [
    {
     "data": {
      "text/plain": [
       "[1]"
      ]
     },
     "execution_count": 21,
     "metadata": {},
     "output_type": "execute_result"
    }
   ],
   "source": [
    "answers = [1,2,3,4,5]\n",
    "# answers = [1,3,2,4,2]\t\n",
    "\n",
    "def solution(answers):\n",
    "    # answer 개수에 맞게 나눔\n",
    "    # 하나씩 Pop 해가면서 숫자를 더해감\n",
    "    len_answer = len(answers)\n",
    "    a = [1,2,3,4,5] * 2000\n",
    "    b = [2,1,2,3,2,4,2,5] * 1250\n",
    "    c = [3,3,1,1,2,2,4,4,5,5] * 1000\n",
    "\n",
    "    new_a = a[:len_answer]\n",
    "    new_b = b[:len_answer]\n",
    "    new_c = c[:len_answer]\n",
    "\n",
    "    num_a = 0\n",
    "    num_b = 0\n",
    "    num_c = 0\n",
    "\n",
    "    for i in reversed(answers) :\n",
    "        if i == new_a.pop() : \n",
    "            num_a +=1\n",
    "        if i == new_b.pop() : \n",
    "            num_b +=1\n",
    "        if i == new_c.pop() : \n",
    "            num_c +=1\n",
    "    \n",
    "    num_max = max(num_a,num_b,num_c)\n",
    "    \n",
    "    answer=[]\n",
    "    for n,i in enumerate([num_a,num_b,num_c]) : \n",
    "        if num_max == i :\n",
    "            answer.append(n+1)\n",
    "    \n",
    "    return answer\n",
    "\n",
    "solution(answers)"
   ]
  },
  {
   "cell_type": "markdown",
   "metadata": {},
   "source": [
    "### 아래 코드를 통해 배울점 \n",
    "\n",
    "* pop을 쓰려하다보니까 slicing을 적용했다. 그냥 index를 사용했다면 절차 하나를 생략할 수 있었다.\n"
   ]
  },
  {
   "cell_type": "code",
   "execution_count": null,
   "metadata": {},
   "outputs": [],
   "source": [
    "def solution(answers):\n",
    "    # 12345 5, 21232425 8,3311224455 1000\n",
    "    s_1 = [1, 2, 3, 4, 5] * 2000\n",
    "    s_2 = [2, 1, 2, 3, 2, 4, 2, 5] * 1250\n",
    "    s_3 = [3, 3, 1, 1, 2, 2, 4, 4, 5, 5] * 1000\n",
    "\n",
    "    score = [0, 0, 0]\n",
    "    for i in range(len(answers)):\n",
    "        if s_1[i] == answers[i]:\n",
    "            score[0] += 1\n",
    "        if s_2[i] == answers[i]:\n",
    "            score[1] += 1\n",
    "        if s_3[i] == answers[i]:\n",
    "            score[2] += 1\n",
    "\n",
    "    answer = []\n",
    "    for i in range(3):\n",
    "        if score[i] == max(score):\n",
    "            answer.append(i + 1)\n",
    "\n",
    "    return answer"
   ]
  },
  {
   "cell_type": "markdown",
   "metadata": {},
   "source": [
    "### 소수찾기\n",
    "\n",
    "* 한자리 숫자가 적힌 종이 조각이 흩어져있습니다. 흩어진 종이 조각을 붙여 소수를 몇 개 만들 수 있는지 알아내려 합니다.\n",
    "\n",
    "* 각 종이 조각에 적힌 숫자가 적힌 문자열 numbers가 주어졌을 때, 종이 조각으로 만들 수 있는 소수가 몇 개인지 return 하도록 solution 함수를 완성해주세요."
   ]
  },
  {
   "cell_type": "code",
   "execution_count": null,
   "metadata": {},
   "outputs": [],
   "source": [
    "### 아리스토테네스의 체가 필요함.\n",
    "# 원리는 1. 배수를 전부 제거하는것 2. sqrt로 절반만 수행하는 것\n",
    "# max 1000000개 소수\n",
    "# 그중 소수가 포함됐는지 확인해야함"
   ]
  },
  {
   "cell_type": "code",
   "execution_count": 10,
   "metadata": {},
   "outputs": [
    {
     "name": "stdout",
     "output_type": "stream",
     "text": [
      "78498\n"
     ]
    }
   ],
   "source": [
    "# 체 만들기\n",
    "n = 1000000\n",
    "sqrt_n = int(n**(0.5))\n",
    "sieve = [True] * n\n",
    "\n",
    "for i in range(2,sqrt_n+1) :\n",
    "    if sieve[i] == True :\n",
    "        for j in range(i+i,n,i) :\n",
    "            sieve[j] = False\n",
    "\n",
    "\n",
    "prime_list = [s for s in range(2, n) if sieve[s] == True]\n",
    "\n",
    "print(len(prime_list))\n",
    "        \n",
    "    \n"
   ]
  },
  {
   "cell_type": "code",
   "execution_count": 38,
   "metadata": {},
   "outputs": [
    {
     "data": {
      "text/plain": [
       "3"
      ]
     },
     "execution_count": 38,
     "metadata": {},
     "output_type": "execute_result"
    }
   ],
   "source": [
    "# 체 만들기\n",
    "\n",
    "\n",
    "numbers = \"17\"\n",
    "\n",
    "\n",
    "def solution(numbers):\n",
    "    from itertools import permutations\n",
    "\n",
    "    val = list(numbers)\n",
    "\n",
    "    # 아리스토테네스의 체 구현\n",
    "    n = 10 ** len(val)\n",
    "    sqrt_n = int(n ** (0.5))\n",
    "    sieve = [True] * n\n",
    "\n",
    "    for i in range(2, sqrt_n + 1):\n",
    "        if sieve[i] == True:\n",
    "            for j in range(i + i, n, i):\n",
    "                sieve[j] = False\n",
    "\n",
    "    prime_list = [s for s in range(2, n) if sieve[s] == True]\n",
    "\n",
    "    # 조합 경우의 수 선택하기\n",
    "    num = []\n",
    "    for i in range(1, len(val) + 1):\n",
    "        num.extend(list(permutations(val, i)))\n",
    "\n",
    "    poss_nums = list(map(lambda x: int(\"\".join(x)), num))\n",
    "    poss_nums = set(poss_nums)\n",
    "\n",
    "    answer = [i for i in poss_nums if i in prime_list]\n",
    "\n",
    "    return len(answer)\n",
    "\n",
    "solution(numbers)\n"
   ]
  },
  {
   "cell_type": "markdown",
   "metadata": {},
   "source": [
    "### 아래 코드를 보고 배운 점\n",
    "\n",
    "* 위 방식대로 푼 경우 불필요하게 소수를 list로 만들었는데, 그럴 필요가 없었음."
   ]
  },
  {
   "cell_type": "code",
   "execution_count": null,
   "metadata": {},
   "outputs": [],
   "source": [
    "def solution(numbers):\n",
    "    from itertools import permutations\n",
    "\n",
    "    sieve = [True] * 1000001\n",
    "    for i in range(2, 1001):\n",
    "        if sieve[i] == True:\n",
    "            for j in range(i + i, 1000001, i):\n",
    "                sieve[j] = False\n",
    "    l = [l for l in numbers]\n",
    "\n",
    "    # 앞뒤로 더해서 경우의 수 만드는게 어렵네..\n",
    "    answer = []\n",
    "    for i in range(1, len(l) + 1):\n",
    "        for i in permutations(l, i):\n",
    "            answer.append(int(\"\".join(i)))\n",
    "\n",
    "    answer = list(set(answer))\n",
    "    answer = [i for i in answer if 1000001 > i and i > 1 and sieve[i]]\n",
    "    \n",
    "\n",
    "    return len(answer)"
   ]
  },
  {
   "attachments": {},
   "cell_type": "markdown",
   "metadata": {},
   "source": [
    "### 카펫\n",
    "\n",
    "* Leo가 본 카펫에서 갈색 격자의 수 brown, 노란색 격자의 수 yellow가 매개변수로 주어질 때 카펫의 가로, 세로 크기를 순서대로 배열에 담아 return 하도록 solution 함수를 작성해주세요.\n",
    "\n",
    "* brown 8 ~ 5000\n",
    "* yellow 1 ~ 2,000,000\n",
    "* 가로가 세로보다 길다."
   ]
  },
  {
   "cell_type": "code",
   "execution_count": 48,
   "metadata": {},
   "outputs": [
    {
     "data": {
      "text/plain": [
       "[1, 25, 5, 5]"
      ]
     },
     "execution_count": 48,
     "metadata": {},
     "output_type": "execute_result"
    }
   ],
   "source": [
    "# 약수 구하기\n",
    "\n",
    "y = 24\n",
    "divisor = []\n",
    "for i in range(1, int(y ** (1 / 2)) + 1):\n",
    "    if y % i == 0:\n",
    "        divisor.append(i)\n",
    "        if i**2 != y:\n",
    "            divisor.append(y // i)\n"
   ]
  },
  {
   "cell_type": "code",
   "execution_count": 65,
   "metadata": {},
   "outputs": [
    {
     "data": {
      "text/plain": [
       "[3, 3]"
      ]
     },
     "execution_count": 65,
     "metadata": {},
     "output_type": "execute_result"
    }
   ],
   "source": [
    "def solution(brown, yellow):\n",
    "    from collections import deque\n",
    "    divisor = []\n",
    "    for i in range(1, int(yellow ** (1 / 2)) + 1):\n",
    "        if yellow % i == 0:\n",
    "            divisor.append(i)\n",
    "            if i**2 != yellow:\n",
    "                divisor.append(yellow // i)\n",
    "\n",
    "    deque_yellow = deque(sorted(divisor))\n",
    "    \n",
    "    answer = []\n",
    "    while deque_yellow : \n",
    "        if len(deque_yellow) == 1 :\n",
    "            a = b = deque_yellow.pop()\n",
    "        else : \n",
    "            a = deque_yellow.popleft() # 작\n",
    "            b = deque_yellow.pop() # 큼\n",
    "\n",
    "        if (a+b+2) * 2 == brown :\n",
    "            return [b+2,a+2]\n",
    "\n",
    "b = 8\n",
    "y = 1\n",
    "\n",
    "solution(b,y) "
   ]
  },
  {
   "cell_type": "markdown",
   "metadata": {},
   "source": [
    "### 배운점\n",
    "\n",
    "* 코드 풀이에 너무 급급해서 더 나은 선택지를 고민하지 못하고 있음.\n",
    "\n",
    "* 조금은 템포를 낮춰서 풀어보자 "
   ]
  },
  {
   "attachments": {},
   "cell_type": "markdown",
   "metadata": {},
   "source": [
    "### 피로도\n",
    "\n",
    "\"최소 필요 피로도\"는 해당 던전을 탐험하기 위해 가지고 있어야 하는 최소한의 피로도를 나타내며, \"소모 피로도\"는 던전을 탐험한 후 소모되는 피로도를 나타냅니다. 예를 들어 \"최소 필요 피로도\"가 80, \"소모 피로도\"가 20인 던전을 탐험하기 위해서는 유저의 현재 남은 피로도는 80 이상 이어야 하며, 던전을 탐험한 후에는 피로도 20이 소모됩니다.\n",
    "\n",
    "이 게임에는 하루에 한 번씩 탐험할 수 있는 던전이 여러개 있는데, 한 유저가 오늘 이 던전들을 최대한 많이 탐험하려 합니다. 유저의 현재 피로도 k와 각 던전별 \"최소 필요 피로도\", \"소모 피로도\"가 담긴 2차원 배열 dungeons 가 매개변수로 주어질 때, 유저가 탐험할수 있는 최대 던전 수를 return 하도록 solution 함수를 완성해주세요.\n",
    "\n",
    "k는 1 이상 5,000 이하인 자연수입니다.\n"
   ]
  },
  {
   "cell_type": "markdown",
   "metadata": {},
   "source": [
    "### 배운점\n",
    "\n",
    "* 모든 경우의 수를 계산하고 싶을 땐 `permutations(a,len(a))` 활용"
   ]
  },
  {
   "cell_type": "code",
   "execution_count": 76,
   "metadata": {},
   "outputs": [
    {
     "name": "stdout",
     "output_type": "stream",
     "text": [
      "[[100, 20], [70, 1], [100, 40]]\n"
     ]
    },
    {
     "data": {
      "text/plain": [
       "1"
      ]
     },
     "execution_count": 76,
     "metadata": {},
     "output_type": "execute_result"
    }
   ],
   "source": [
    "def solution(k, dungenons) :\n",
    "    from itertools import permutations\n",
    "    answer = 0 \n",
    "    for i in permutations(dungenons,len(dungenons)) :\n",
    "        kk = k\n",
    "        local_answer = 0\n",
    "        for [a,b] in i :\n",
    "            if kk >= a :\n",
    "                kk -= b \n",
    "                local_answer += 1\n",
    "        answer = max(local_answer,answer)    \n",
    "    return answer\n",
    "\n",
    "k = 80\n",
    "dungenons = [[80,20],[50,40],[30,10]]\n",
    "\n",
    "solution(k,dungenons)\n",
    "\n"
   ]
  },
  {
   "cell_type": "markdown",
   "metadata": {},
   "source": [
    "### 전력망 둘로 나누기\n",
    "\n",
    "* n개의 송전탑이 전선을 통해 하나의 트리 형태로 연결되어 있습니다. 당신은 이 전선들 중 하나를 끊어서 현재의 전력망 네트워크를 2개로 분할하려고 합니다. 이때, 두 전력망이 갖게 되는 송전탑의 개수를 최대한 비슷하게 맞추고자 합니다.\n",
    "\n",
    "* 두 전력망이 가지고 있는 송전탑 개수의 차이(절대값)를 return 하도록 solution 함수를 완성해주세요.\n",
    "\n",
    "* n >= 2 and n <= 100"
   ]
  },
  {
   "cell_type": "markdown",
   "metadata": {},
   "source": [
    "## BFS, DFS로 나중에 다시 풀어보기 "
   ]
  },
  {
   "cell_type": "code",
   "execution_count": 109,
   "metadata": {},
   "outputs": [
    {
     "name": "stdout",
     "output_type": "stream",
     "text": [
      "[3, 4] [1, 3]\n",
      "[3, 4] [2, 3]\n",
      "[4, 5] [3, 4]\n",
      "[4, 6] [3, 4]\n",
      "[4, 7] [3, 4]\n",
      "[7, 8] [4, 7]\n",
      "[7, 9] [4, 7]\n"
     ]
    }
   ],
   "source": [
    "def solution(n, wires):\n",
    "    # 앞에 있는 값과 연결된걸 찾아야하는.\n",
    "    from collections import deque\n",
    "    queue = deque(wires)\n",
    "    for i in range(n) : \n",
    "        x = queue.popleft()\n",
    "        for j in wires : \n",
    "            if x[0] == j[1] :\n",
    "                print(x,j)\n",
    "        queue.append(x)\n",
    "\n",
    "\n",
    "n = 9 \n",
    "wires = [[1,3],[2,3],[3,4],[4,5],[4,6],[4,7],[7,8],[7,9]]\n",
    "solution(n,wires)\n",
    "\n"
   ]
  },
  {
   "cell_type": "markdown",
   "metadata": {},
   "source": [
    "### 모음사전 \n",
    "\n",
    "사전에 알파벳 모음 'A', 'E', 'I', 'O', 'U'만을 사용하여 만들 수 있는, 길이 5 이하의 모든 단어가 수록되어 있습니다. 사전에서 첫 번째 단어는 \"A\"이고, 그다음은 \"AA\"이며, 마지막 단어는 \"UUUUU\"입니다.\n",
    "\n",
    "단어 하나 word가 매개변수로 주어질 때, 이 단어가 사전에서 몇 번째 단어인지 return 하도록 solution 함수를 완성해주세요."
   ]
  },
  {
   "cell_type": "code",
   "execution_count": 115,
   "metadata": {},
   "outputs": [
    {
     "data": {
      "text/plain": [
       "[1]"
      ]
     },
     "execution_count": 115,
     "metadata": {},
     "output_type": "execute_result"
    }
   ],
   "source": [
    "x = [1,2,4,5,6]\n",
    "\n",
    "k = [n for n, i in enumerate(x) if i == 2]\n",
    "\n",
    "k"
   ]
  },
  {
   "cell_type": "code",
   "execution_count": 143,
   "metadata": {},
   "outputs": [
    {
     "name": "stdout",
     "output_type": "stream",
     "text": [
      "['A', 'AA', 'AAA', 'AAAA', 'AAAAA', 'AAAAE', 'AAAAI', 'AAAAO', 'AAAAU', 'AAAE', 'AAAEA', 'AAAEE', 'AAAEI', 'AAAEO', 'AAAEU', 'AAAI', 'AAAIA', 'AAAIE', 'AAAII', 'AAAIO']\n"
     ]
    },
    {
     "data": {
      "text/plain": [
       "1189"
      ]
     },
     "execution_count": 143,
     "metadata": {},
     "output_type": "execute_result"
    }
   ],
   "source": [
    "def solution(word):\n",
    "    from itertools import product\n",
    "    l = ['A','E','I','O','U']\n",
    "    v = []\n",
    "    for i in range(1,6) :\n",
    "        x = product(l,repeat=i)\n",
    "        k = list(map(lambda y : ''.join(y),x))\n",
    "        v+=k\n",
    "    values = sorted(v)\n",
    "    print(values[:20])\n",
    "    for n,i in enumerate(values) : \n",
    "        if i == word :\n",
    "            return n + 1\n",
    "\n",
    "word = \"EIO\"\n",
    "\n",
    "solution(word)"
   ]
  }
 ],
 "metadata": {
  "kernelspec": {
   "display_name": "Python 3.9.1 64-bit ('3.9.1')",
   "language": "python",
   "name": "python3"
  },
  "language_info": {
   "codemirror_mode": {
    "name": "ipython",
    "version": 3
   },
   "file_extension": ".py",
   "mimetype": "text/x-python",
   "name": "python",
   "nbconvert_exporter": "python",
   "pygments_lexer": "ipython3",
   "version": "3.9.1"
  },
  "orig_nbformat": 4,
  "vscode": {
   "interpreter": {
    "hash": "b2097164ba635ebffc0e3795dc845ae25b57eedf0c1eb5773ded6aee9fc1b279"
   }
  }
 },
 "nbformat": 4,
 "nbformat_minor": 2
}
