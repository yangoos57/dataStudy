{
 "cells": [
  {
   "cell_type": "code",
   "execution_count": 49,
   "metadata": {},
   "outputs": [
    {
     "data": {
      "text/plain": [
       "['AC', 'ACDE', 'BCFG', 'CDE']"
      ]
     },
     "execution_count": 49,
     "metadata": {},
     "output_type": "execute_result"
    }
   ],
   "source": [
    "# 목적 : 함께 주문한 메뉴를 코스로 생성\n",
    "# 조건 : 최소 2가지 이상 단품, 최소 2명 이상 손님이 주문한 조합, 개별 손님 단품 2개 이상\n",
    "\n",
    "# ord : 손님 수, 2 ~ 20 메뉴 2~10(중복X)  course (2 ~ 10) : 구성해야하는 단품 메뉴 개수(오름차수)\n",
    "# answer: 오름차수\n",
    "from typing import List\n",
    "from itertools import combinations\n",
    "\n",
    "\n",
    "def solution(orders: List[str], course: List[int]) -> List[str]:\n",
    "    # 메뉴 리스트 생성 & 주문 별로 메뉴 리스트에 재정렬\n",
    "    lst_lst = list(map(lambda x: list(x), orders))\n",
    "    menu = sorted(list(set(j for i in lst_lst for j in i)))\n",
    "\n",
    "    answer = []\n",
    "    for r in course:\n",
    "        temp = []\n",
    "        best = 0\n",
    "        for com in combinations(menu, r):\n",
    "            up = 0\n",
    "            for item in lst_lst:\n",
    "                pass_orders = True\n",
    "                for idx in com:\n",
    "                    if idx not in item:\n",
    "                        pass_orders = False\n",
    "                        break\n",
    "                if pass_orders == True:\n",
    "                    up += 1\n",
    "            if up > 1:\n",
    "                if up > best :\n",
    "                    best = up\n",
    "                temp.append([com,up])\n",
    "                \n",
    "        for t in temp :\n",
    "            if t[1] == best :\n",
    "                answer.append(t[0])\n",
    "\n",
    "        \n",
    "    return sorted(list(map(lambda x : ''.join(x),answer)))\n",
    "\n",
    "orders = [\"ABCFG\", \"AC\", \"CDE\", \"ACDE\", \"BCFG\", \"ACDEH\"]\n",
    "# orders = [\"ABCDE\", \"AB\", \"CD\", \"ADE\", \"XYZ\", \"XYZ\", \"ACD\"]\n",
    "# orders = [\"XYZ\", \"XWY\", \"WXA\"]\n",
    "course = [2, 3, 4]\n",
    "# course = [2, 3, 5]\n",
    "\n",
    "solution(orders, course)\n"
   ]
  },
  {
   "cell_type": "code",
   "execution_count": 61,
   "metadata": {},
   "outputs": [
    {
     "name": "stdout",
     "output_type": "stream",
     "text": [
      "[Counter({('X', 'Y'): 2, ('W', 'X'): 2, ('X', 'Z'): 1, ('Y', 'Z'): 1, ('W', 'Y'): 1, ('A', 'W'): 1, ('A', 'X'): 1}), Counter({('X', 'Y', 'Z'): 1, ('W', 'X', 'Y'): 1, ('A', 'W', 'X'): 1}), Counter()]\n"
     ]
    },
    {
     "ename": "ValueError",
     "evalue": "max() arg is an empty sequence",
     "output_type": "error",
     "traceback": [
      "\u001b[0;31m---------------------------------------------------------------------------\u001b[0m",
      "\u001b[0;31mValueError\u001b[0m                                Traceback (most recent call last)",
      "\u001b[1;32m/Users/yangwoolee/git_repo/dataStudy/coding_test/programmers/test.ipynb Cell 2\u001b[0m in \u001b[0;36m<cell line: 28>\u001b[0;34m()\u001b[0m\n\u001b[1;32m     <a href='vscode-notebook-cell:/Users/yangwoolee/git_repo/dataStudy/coding_test/programmers/test.ipynb#W1sZmlsZQ%3D%3D?line=24'>25</a>\u001b[0m course \u001b[39m=\u001b[39m [\u001b[39m2\u001b[39m, \u001b[39m3\u001b[39m, \u001b[39m4\u001b[39m]\n\u001b[1;32m     <a href='vscode-notebook-cell:/Users/yangwoolee/git_repo/dataStudy/coding_test/programmers/test.ipynb#W1sZmlsZQ%3D%3D?line=25'>26</a>\u001b[0m \u001b[39m# course = [2, 3, 5]\u001b[39;00m\n\u001b[0;32m---> <a href='vscode-notebook-cell:/Users/yangwoolee/git_repo/dataStudy/coding_test/programmers/test.ipynb#W1sZmlsZQ%3D%3D?line=27'>28</a>\u001b[0m solution(orders, course)\n",
      "\u001b[1;32m/Users/yangwoolee/git_repo/dataStudy/coding_test/programmers/test.ipynb Cell 2\u001b[0m in \u001b[0;36msolution\u001b[0;34m(orders, course)\u001b[0m\n\u001b[1;32m     <a href='vscode-notebook-cell:/Users/yangwoolee/git_repo/dataStudy/coding_test/programmers/test.ipynb#W1sZmlsZQ%3D%3D?line=14'>15</a>\u001b[0m answer \u001b[39m=\u001b[39m []\n\u001b[1;32m     <a href='vscode-notebook-cell:/Users/yangwoolee/git_repo/dataStudy/coding_test/programmers/test.ipynb#W1sZmlsZQ%3D%3D?line=15'>16</a>\u001b[0m \u001b[39mfor\u001b[39;00m c \u001b[39min\u001b[39;00m temp_2 :\n\u001b[0;32m---> <a href='vscode-notebook-cell:/Users/yangwoolee/git_repo/dataStudy/coding_test/programmers/test.ipynb#W1sZmlsZQ%3D%3D?line=16'>17</a>\u001b[0m     max_num \u001b[39m=\u001b[39m \u001b[39mmax\u001b[39;49m(c\u001b[39m.\u001b[39;49mvalues())\n\u001b[1;32m     <a href='vscode-notebook-cell:/Users/yangwoolee/git_repo/dataStudy/coding_test/programmers/test.ipynb#W1sZmlsZQ%3D%3D?line=17'>18</a>\u001b[0m     answer\u001b[39m.\u001b[39mextend([k \u001b[39mfor\u001b[39;00m k,v \u001b[39min\u001b[39;00m c\u001b[39m.\u001b[39mitems() \u001b[39mif\u001b[39;00m v \u001b[39m==\u001b[39m max_num])\n\u001b[1;32m     <a href='vscode-notebook-cell:/Users/yangwoolee/git_repo/dataStudy/coding_test/programmers/test.ipynb#W1sZmlsZQ%3D%3D?line=19'>20</a>\u001b[0m \u001b[39mreturn\u001b[39;00m \u001b[39msorted\u001b[39m(\u001b[39mlist\u001b[39m(\u001b[39mmap\u001b[39m(\u001b[39mlambda\u001b[39;00m x : \u001b[39m'\u001b[39m\u001b[39m'\u001b[39m\u001b[39m.\u001b[39mjoin(x),answer)))\n",
      "\u001b[0;31mValueError\u001b[0m: max() arg is an empty sequence"
     ]
    }
   ],
   "source": [
    "from collections import Counter\n",
    "from typing import List\n",
    "from itertools import combinations\n",
    "\n",
    "\n",
    "def solution(orders: List[str], course: List[int]) -> List[str]:\n",
    "    temp_2 = []\n",
    "    for c in course:\n",
    "        temp = []\n",
    "        for order in orders:\n",
    "            combi = combinations(sorted(order), c)\n",
    "            temp += combi\n",
    "        if temp != [] :\n",
    "            temp_2.append(Counter(temp))\n",
    "    print(temp_2)\n",
    "    answer = []\n",
    "    for c in temp_2 :\n",
    "        max_num = max(c.values())\n",
    "        if max_num > 1 :\n",
    "            answer.extend([k for k,v in c.items() if v == max_num])\n",
    "\n",
    "    return sorted(list(map(lambda x : ''.join(x),answer)))\n",
    "\n",
    "# orders = [\"ABCFG\", \"AC\", \"CDE\", \"ACDE\", \"BCFG\", \"ACDEH\"]\n",
    "# orders = [\"ABCDE\", \"AB\", \"CD\", \"ADE\", \"XYZ\", \"XYZ\", \"ACD\"]\n",
    "orders = [\"XYZ\", \"XWY\", \"WXA\"]\n",
    "course = [2, 3, 4]\n",
    "# course = [2, 3, 5]\n",
    "\n",
    "solution(orders, course)"
   ]
  }
 ],
 "metadata": {
  "kernelspec": {
   "display_name": "Python 3",
   "language": "python",
   "name": "python3"
  },
  "language_info": {
   "codemirror_mode": {
    "name": "ipython",
    "version": 3
   },
   "file_extension": ".py",
   "mimetype": "text/x-python",
   "name": "python",
   "nbconvert_exporter": "python",
   "pygments_lexer": "ipython3",
   "version": "3.9.1"
  },
  "orig_nbformat": 4,
  "vscode": {
   "interpreter": {
    "hash": "b2097164ba635ebffc0e3795dc845ae25b57eedf0c1eb5773ded6aee9fc1b279"
   }
  }
 },
 "nbformat": 4,
 "nbformat_minor": 2
}
