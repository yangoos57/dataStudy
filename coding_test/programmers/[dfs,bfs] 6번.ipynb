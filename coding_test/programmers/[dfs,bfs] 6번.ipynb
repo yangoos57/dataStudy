{
 "cells": [
  {
   "cell_type": "markdown",
   "metadata": {},
   "source": [
    "## Programmers DFS/BFS 5 배운점 정리"
   ]
  },
  {
   "cell_type": "markdown",
   "metadata": {},
   "source": [
    "### 1. Lambda로 Sort 우선순위 변경 가능"
   ]
  },
  {
   "cell_type": "code",
   "execution_count": 14,
   "metadata": {},
   "outputs": [],
   "source": [
    "tickets = [\n",
    "    [\"ICN\", \"SFO\"],\n",
    "    [\"ICN\", \"ATL\"],\n",
    "    [\"SFO\", \"ATL\"],\n",
    "    [\"ATL\", \"ICN\"],\n",
    "    [\"ATL\", \"SFO\"],\n",
    "]\n",
    "\n",
    "tickets.sort(key = lambda x:(x[1], x[0]))"
   ]
  },
  {
   "cell_type": "markdown",
   "metadata": {},
   "source": [
    "### 2. Default Dict을 쓰면 개별 Graph에서 갈 수 있는 방향을 쉽게 정리할 수 있음"
   ]
  },
  {
   "cell_type": "code",
   "execution_count": 15,
   "metadata": {},
   "outputs": [
    {
     "data": {
      "text/plain": [
       "defaultdict(list,\n",
       "            {'ICN': ['ATL', 'SFO'], 'SFO': ['ATL'], 'ATL': ['ICN', 'SFO']})"
      ]
     },
     "execution_count": 15,
     "metadata": {},
     "output_type": "execute_result"
    }
   ],
   "source": [
    "from collections import defaultdict\n",
    "\n",
    "\n",
    "\n",
    "dic = defaultdict(list)\n",
    "\n",
    "for [start, end] in tickets:\n",
    "    dic[start].append(end)\n",
    "\n",
    "dic"
   ]
  },
  {
   "cell_type": "markdown",
   "metadata": {},
   "source": [
    "### 3. Dict 내 Value도 Sort 가능"
   ]
  },
  {
   "cell_type": "code",
   "execution_count": 16,
   "metadata": {},
   "outputs": [
    {
     "data": {
      "text/plain": [
       "defaultdict(list,\n",
       "            {'ICN': ['SFO', 'ATL'], 'SFO': ['ATL'], 'ATL': ['SFO', 'ICN']})"
      ]
     },
     "execution_count": 16,
     "metadata": {},
     "output_type": "execute_result"
    }
   ],
   "source": [
    "for k in dic.keys():\n",
    "    dic[k].sort(reverse = True)\n",
    "dic"
   ]
  },
  {
   "cell_type": "markdown",
   "metadata": {},
   "source": [
    "### 4. DFS를 억지로 재귀로 구현할 필요 없음"
   ]
  },
  {
   "cell_type": "code",
   "execution_count": 17,
   "metadata": {},
   "outputs": [],
   "source": [
    "from collections import defaultdict\n",
    "\n",
    "def solution(tickets):\n",
    "    tickets.sort(key = lambda x:(x[1], x[0]))\n",
    "    dic = defaultdict(list)\n",
    "    for [start, end] in tickets:\n",
    "        dic[start].append(end)\n",
    "    for k in dic.keys():\n",
    "        dic[k].sort(reverse = True)\n",
    "        \n",
    "    answer = []\n",
    "    def DFS():\n",
    "        stack = [\"ICN\"]\n",
    "        while stack:\n",
    "            start = stack[-1]\n",
    "            if not dic[start]: # start에서 출발하는 항공편이 없는경우 바로 답에 넣기\n",
    "                answer.append(stack.pop())\n",
    "            else:\n",
    "                stack.append(dic[start].pop())\n",
    "    DFS()\n",
    "    return answer[::-1]"
   ]
  }
 ],
 "metadata": {
  "kernelspec": {
   "display_name": "Python 3.9.1 64-bit ('3.9.1')",
   "language": "python",
   "name": "python3"
  },
  "language_info": {
   "codemirror_mode": {
    "name": "ipython",
    "version": 3
   },
   "file_extension": ".py",
   "mimetype": "text/x-python",
   "name": "python",
   "nbconvert_exporter": "python",
   "pygments_lexer": "ipython3",
   "version": "3.9.1 (default, Jun 13 2022, 17:35:03) \n[Clang 13.1.6 (clang-1316.0.21.2.5)]"
  },
  "orig_nbformat": 4,
  "vscode": {
   "interpreter": {
    "hash": "b2097164ba635ebffc0e3795dc845ae25b57eedf0c1eb5773ded6aee9fc1b279"
   }
  }
 },
 "nbformat": 4,
 "nbformat_minor": 2
}
