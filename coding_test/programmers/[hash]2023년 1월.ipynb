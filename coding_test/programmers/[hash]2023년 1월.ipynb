{
 "cells": [
  {
   "cell_type": "markdown",
   "metadata": {},
   "source": [
    "## Hash 다시 풀기"
   ]
  },
  {
   "attachments": {},
   "cell_type": "markdown",
   "metadata": {},
   "source": [
    "### 폰켓몬\n",
    "\n",
    "* N 마리 중 N/2 마리를 택할 수 잇는데, 이때 폰켓못 종류를 최대로 많이 가져가는 수는?\n",
    "\n",
    "=> 수열인거 같기도 하고, 집합인거 같기도 한 느낌"
   ]
  },
  {
   "cell_type": "code",
   "execution_count": 11,
   "metadata": {},
   "outputs": [
    {
     "data": {
      "text/plain": [
       "2"
      ]
     },
     "execution_count": 11,
     "metadata": {},
     "output_type": "execute_result"
    }
   ],
   "source": [
    "\n",
    "def solution(nums) :\n",
    "    l = int(len(nums)/2)\n",
    "    s_num = set(nums)\n",
    "\n",
    "    # 몬스터 개수가 선택 가능한 개수보다 적거나 같을 때\n",
    "    if l >= len(s_num) :\n",
    "        return len(s_num)\n",
    "    else : \n",
    "    # 몬스터 개수가 선택 가능한 개수보다 많을 때 \n",
    "        return l\n",
    "    \n",
    "\n",
    "nums = [3,3,3,2,2,2]\n",
    "\n",
    "solution(nums)"
   ]
  },
  {
   "cell_type": "markdown",
   "metadata": {},
   "source": [
    "### 완주하지 못한 선수\n",
    "\n",
    "* 한명을 제외하고 마라톤 모두 완주 \n",
    "=> 완주하지 못한 사람을 return\n",
    "\n",
    "*조건*\n",
    "* 100,000 => nlogn\n",
    "* 동명이인 존재"
   ]
  },
  {
   "cell_type": "code",
   "execution_count": 13,
   "metadata": {},
   "outputs": [
    {
     "name": "stdout",
     "output_type": "stream",
     "text": [
      "leo\n"
     ]
    },
    {
     "data": {
      "text/plain": [
       "'leo'"
      ]
     },
     "execution_count": 13,
     "metadata": {},
     "output_type": "execute_result"
    }
   ],
   "source": [
    "def solution(part,com) :\n",
    "    from collections import defaultdict\n",
    "    df = defaultdict(int)\n",
    "\n",
    "    for p in part : \n",
    "        df[p] +=1\n",
    "\n",
    "    for c in com :\n",
    "        df[c] -= 1\n",
    "        \n",
    "    for n,i in df.items() :\n",
    "        if i > 0 :\n",
    "            return n\n",
    "\n",
    "p = [\"leo\", \"kiki\", \"eden\"]\t\n",
    "c = [\"eden\", \"kiki\"]\n",
    "\n",
    "solution(p,c)"
   ]
  },
  {
   "cell_type": "markdown",
   "metadata": {},
   "source": [
    "### 2번문제 Counter로 해결하기\n",
    "* default dict로 구한 방법을 Counter로 간편하게 구할 수 있음."
   ]
  },
  {
   "cell_type": "code",
   "execution_count": null,
   "metadata": {},
   "outputs": [],
   "source": [
    "def solution(participant, completion):\n",
    "    from collections import Counter\n",
    "\n",
    "    par = Counter(participant)\n",
    "    com = Counter(completion)\n",
    "    for name in sorted(par):\n",
    "        if par[name] != com[name]:\n",
    "            return name"
   ]
  },
  {
   "cell_type": "markdown",
   "metadata": {},
   "source": [
    "### 전화번호 목록\n",
    "* 전화번호부에 적힌 전화번호 중, 한 번호가 다른 번호의 접두어인 경우가 있는지 확인하려 합니다.\n",
    "\n",
    "* 어떤 번호가 다른 번호의 접두어인 경우가 있으면 false를 그렇지 않으면 true를 return 하도록 solution 함수를 작성\n",
    "\n",
    "조건\n",
    "폰 북 길이 1,000,000\n",
    "전번 길이는 1~20\n",
    "\n",
    "\n",
    "\n"
   ]
  },
  {
   "cell_type": "markdown",
   "metadata": {},
   "source": [
    "### 배운점 \n",
    "* 문제에서 요구하는 내용은 접두사가 동일한지를 판별하는 것이었지만\n",
    "* in을 사용함으로써 접두사 뿐만 아니라 문자열 전체를 판별하는 것으로 만들었음.\n",
    "\n",
    "* in은 문장 전체에 대해서 판별하는데 사용된다."
   ]
  },
  {
   "cell_type": "code",
   "execution_count": 41,
   "metadata": {},
   "outputs": [
    {
     "data": {
      "text/plain": [
       "False"
      ]
     },
     "execution_count": 41,
     "metadata": {},
     "output_type": "execute_result"
    }
   ],
   "source": [
    "def solution(lst):\n",
    "    # 리스트를 정렬하는게 1번인듯\n",
    "    lst.sort()\n",
    "    for i in range(len(lst) - 1):\n",
    "        if lst[i] == lst[i + 1][0:len(lst[i])]:\n",
    "            return False\n",
    "    return True\n",
    "\n",
    "\n",
    "p_b = [\"119\", \"97674223\", \"1195524421\"]\n",
    "# p_b = [\"123\",\"456\",\"789\"]\n",
    "# p_b = [\"12\",\"123\",\"1235\",\"567\",\"188\"]\n",
    "\n",
    "solution(p_b)\n"
   ]
  },
  {
   "attachments": {},
   "cell_type": "markdown",
   "metadata": {},
   "source": [
    "### 위장\n",
    "* 매일 다른 옷을 입는다.\n",
    "* 서로다른 조합의 수를 return\n",
    "\n",
    "제한 \n",
    "* 의상이름, 종류\n",
    "* 1 ~ 30개\n",
    "* 최소 1개 이상 의류"
   ]
  },
  {
   "attachments": {},
   "cell_type": "markdown",
   "metadata": {},
   "source": [
    "### \b배운점\n",
    "\n",
    "**하위 항목이 있는 모든 경우의 수 쉽게 연산하는 방법**\n",
    "* 하위 항목이 포함되지 않은 경우를 1개 추가해서 연산하고 마지막으로 모두 포함되지 않는 경우인 1을 뺌\n",
    "* a = 2, b = 3, c = 4개일 때(하위 항목은 구분 가능)\n",
    "* 3 * 4 * 5 = 모든 경우의 수임.\n",
    "* 이때 모두 들어가지 않는 0,0,0인 경우를 뺴야하므로\n",
    "* 정답은 3*4*5 -1 = 59"
   ]
  },
  {
   "cell_type": "code",
   "execution_count": 49,
   "metadata": {},
   "outputs": [
    {
     "data": {
      "text/plain": [
       "3"
      ]
     },
     "execution_count": 49,
     "metadata": {},
     "output_type": "execute_result"
    }
   ],
   "source": [
    "def solution(cloth) :\n",
    "    from collections import defaultdict\n",
    "    df = defaultdict(int) \n",
    "    for n, cat in cloth : \n",
    "        df[cat] += 1\n",
    "    \n",
    "    answer = 1\n",
    "    for v in df.values() :\n",
    "        answer *= v+1\n",
    "\n",
    "    \n",
    "    return answer-1\n",
    "\n",
    "cloth = [[\"yellow_hat\", \"headgear\"], [\"blue_sunglasses\", \"eyewear\"], [\"green_turban\", \"headgear\"]]\n",
    "cloth = [[\"crow_mask\", \"face\"], [\"blue_sunglasses\", \"face\"], [\"smoky_makeup\", \"face\"]]\n",
    "\n",
    "solution(cloth)"
   ]
  },
  {
   "cell_type": "markdown",
   "metadata": {},
   "source": [
    "### 베스트 앨범\n",
    "\n",
    "* 장르 별로 가장 많이 재생된 노래를 **두 개씩 모아** 베스트 앨범을 출시\n",
    "\n",
    "* 속한 노래가 많이 재생된 장르를 먼저 수록합니다.\n",
    "* 장르 내에서 많이 재생된 노래를 먼저 수록합니다.\n",
    "* 장르 내에서 재생 횟수가 같은 노래 중에서는 고유 번호가 낮은 노래를 먼저 수록합니다.\n",
    "\n"
   ]
  },
  {
   "attachments": {},
   "cell_type": "markdown",
   "metadata": {},
   "source": [
    "### 배운점\n",
    "\n",
    "* dict 내부 value를 정리하기 위해선 아래와 같이 써야함.\n",
    "\n",
    "    ```python\n",
    "    for v in df.values() :\n",
    "    v.sort(key=lambda x :-x[0])\n",
    "    ```\n",
    "\n",
    "<br/>\n",
    "<br/>\n",
    "\n",
    "* Dict를 Value 기준으로 Sort 하기 위해선 아래와 같이 작성해야함.\n",
    "\n",
    "    ```python\n",
    "    df_2 = dict(sorted(df_2.items(), key=lambda item: item[1]))\n",
    "    ```"
   ]
  },
  {
   "cell_type": "code",
   "execution_count": 2,
   "metadata": {},
   "outputs": [
    {
     "name": "stdout",
     "output_type": "stream",
     "text": [
      "[('pop', 3100), ('classic', 1450)]\n"
     ]
    },
    {
     "data": {
      "text/plain": [
       "[4, 1, 3, 0]"
      ]
     },
     "execution_count": 2,
     "metadata": {},
     "output_type": "execute_result"
    }
   ],
   "source": [
    "def solution(genres,plays) :\n",
    "    from collections import defaultdict \n",
    "    # Genre 저장용\n",
    "    df = defaultdict(list)\n",
    "\n",
    "    # Grenre 순위 비교용\n",
    "    df_2 = defaultdict(int)\n",
    "    \n",
    "    # Genre 별로 곡 + 노래 id 저장\n",
    "    for n in range(len(genres)) :\n",
    "        df[genres[n]].append((plays[n],n))\n",
    "        df_2[genres[n]] += plays[n]\n",
    "    \n",
    "    # Genre 내부의 Values 정렬\n",
    "    for v in df.values() :\n",
    "        v.sort(key=lambda x :-x[0])\n",
    "    \n",
    "    # Genre 정렬\n",
    "    df_2 = dict(sorted(df_2.items(), key=lambda item: item[1]))\n",
    "    \n",
    "    # 노래 추출\n",
    "    lst = []\n",
    "    for g in reversed(df_2.keys()) :\n",
    "        lst.extend(df[g][:2])\n",
    "\n",
    "    # Id 추출\n",
    "    answer = []\n",
    "    for i in lst :\n",
    "        answer.append(i[1])\n",
    "    return answer\n",
    "\n",
    "\n",
    "genres = [\"classic\", \"pop\", \"classic\", \"classic\", \"pop\"]\n",
    "plays = [500, 600, 150, 800, 2500]\n",
    "solution(genres,plays)"
   ]
  }
 ],
 "metadata": {
  "kernelspec": {
   "display_name": "Python 3",
   "language": "python",
   "name": "python3"
  },
  "language_info": {
   "codemirror_mode": {
    "name": "ipython",
    "version": 3
   },
   "file_extension": ".py",
   "mimetype": "text/x-python",
   "name": "python",
   "nbconvert_exporter": "python",
   "pygments_lexer": "ipython3",
   "version": "3.9.1"
  },
  "orig_nbformat": 4,
  "vscode": {
   "interpreter": {
    "hash": "b2097164ba635ebffc0e3795dc845ae25b57eedf0c1eb5773ded6aee9fc1b279"
   }
  }
 },
 "nbformat": 4,
 "nbformat_minor": 2
}
