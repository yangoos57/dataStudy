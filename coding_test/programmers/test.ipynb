{
 "cells": [
  {
   "cell_type": "code",
   "execution_count": 61,
   "metadata": {},
   "outputs": [
    {
     "name": "stdout",
     "output_type": "stream",
     "text": [
      "0 2 7\n",
      "2 0 6\n",
      "0 1 5\n"
     ]
    },
    {
     "data": {
      "text/plain": [
       "[7, 6, 5]"
      ]
     },
     "execution_count": 61,
     "metadata": {},
     "output_type": "execute_result"
    }
   ],
   "source": [
    "def solution(cap, n, deliveries, pickups):\n",
    "    sum_del = sum(deliveries)\n",
    "    sum_picks = sum(pickups)\n",
    "    \n",
    "    deliveries = [0] + deliveries\n",
    "    pickups = [0] + pickups\n",
    "    answer = []\n",
    "    while sum_del != 0 or sum_picks != 0 or n != 0:\n",
    "        sum_del_cnt = 0\n",
    "        sum_picks_cnt = 0\n",
    "        del_thr = cap\n",
    "        del_picks = cap\n",
    "        new_n = 0\n",
    "        for i in range(n,0,-1):\n",
    "            if del_thr >= deliveries[i]:\n",
    "                del_thr -= deliveries[i]\n",
    "                deliveries[i] = 0\n",
    "            else:\n",
    "                new_n = max(new_n, i-1)\n",
    "\n",
    "            if del_picks >= pickups[i]:\n",
    "                del_picks -= pickups[i]\n",
    "                pickups[i] = 0\n",
    "            else:\n",
    "                new_n = max(new_n, i-1)\n",
    "\n",
    "            sum_del_cnt += deliveries[i]\n",
    "            sum_picks_cnt += pickups[i]\n",
    "\n",
    "            if del_thr == 0 or del_picks == 0:\n",
    "                print(del_thr,del_picks,n)\n",
    "                answer.append(n)\n",
    "                new_n = i-1\n",
    "                break\n",
    "\n",
    "        sum_del = sum_del_cnt\n",
    "        sum_picks = sum_picks_cnt\n",
    "        n = new_n\n",
    "        # print(sum_del,sum_picks,n)\n",
    "\n",
    "\n",
    "    return answer\n",
    "\n",
    "\n",
    "# cap = 4\n",
    "# n = 5\n",
    "# deliveries = [1, 0, 3, 1, 2]\n",
    "# pickups = [0, 3, 0, 4, 0]\n",
    "cap = 2\n",
    "n = 7\n",
    "deliveries = [1, 0, 2, 0, 1, 0, 2]\t\n",
    "pickups = [0, 2, 0, 1, 0, 2, 0]\n",
    "\n",
    "\n",
    "solution(cap, n, deliveries, pickups)"
   ]
  },
  {
   "cell_type": "code",
   "execution_count": 55,
   "metadata": {},
   "outputs": [
    {
     "name": "stdout",
     "output_type": "stream",
     "text": [
      "5\n",
      "4\n",
      "3\n",
      "2\n",
      "1\n"
     ]
    }
   ],
   "source": [
    "deliveries = [1, 0, 3, 1, 2]\t\n",
    "n =5 \n",
    "\n",
    "for i in range(n,0,-1):\n",
    "    print(i)"
   ]
  }
 ],
 "metadata": {
  "kernelspec": {
   "display_name": "Python 3",
   "language": "python",
   "name": "python3"
  },
  "language_info": {
   "codemirror_mode": {
    "name": "ipython",
    "version": 3
   },
   "file_extension": ".py",
   "mimetype": "text/x-python",
   "name": "python",
   "nbconvert_exporter": "python",
   "pygments_lexer": "ipython3",
   "version": "3.9.1"
  },
  "orig_nbformat": 4,
  "vscode": {
   "interpreter": {
    "hash": "b2097164ba635ebffc0e3795dc845ae25b57eedf0c1eb5773ded6aee9fc1b279"
   }
  }
 },
 "nbformat": 4,
 "nbformat_minor": 2
}
