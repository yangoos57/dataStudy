{
 "cells": [
  {
   "cell_type": "code",
   "execution_count": null,
   "metadata": {},
   "outputs": [],
   "source": []
  },
  {
   "attachments": {},
   "cell_type": "markdown",
   "metadata": {},
   "source": [
    "\"니니즈 친구들\"은 한 번에 한 명씩 징검다리를 건너야 하며, 한 친구가 징검다리를 모두 건넌 후에 그 다음 친구가 건너기 시작합니다.\n",
    "\n",
    "디딤돌에 적힌 숫자가 순서대로 담긴 배열 stones와 한 번에 건너뛸 수 있는 디딤돌의 최대 칸수 k가 매개변수로 주어질 때, 최대 몇 명까지 징검다리를 건널 수 있는지 return 하도록 solution 함수를 완성해주세요.\n",
    "\n",
    "* stones 배열의 크기는 1 이상 200,000 이하입니다.\n",
    "* stones 배열 각 원소들의 값은 1 이상 200,000,000 이하인 자연수입니다.\n",
    "* 징검다리를 건너야 하는 니니즈 친구들의 수는 무제한 "
   ]
  },
  {
   "cell_type": "code",
   "execution_count": null,
   "metadata": {},
   "outputs": [],
   "source": [
    "# idx + 3 != 0\n",
    "# 1 0 0 0 이면 게임 끝\n",
    "# 마이너스만으로 최소 n 명은 건널 수 있겠지\n",
    "# 1 3 4 2 1 0 3 1 5 0\n"
   ]
  },
  {
   "cell_type": "code",
   "execution_count": null,
   "metadata": {},
   "outputs": [
    {
     "ename": "",
     "evalue": "",
     "output_type": "error",
     "traceback": [
      "\u001b[1;31m커널을 시작하지 못했습니다. \n",
      "\u001b[1;31mPython extension is not exporting the jupyter API. \n",
      "\u001b[1;31m자세한 내용은 Jupyter <a href='command:jupyter.viewOutput'>로그</a>를 참조하세요."
     ]
    }
   ],
   "source": [
    "# stone = [1,3,4,2,1,0,3,1,4,0]\n",
    "# stone = [0,2,3,1,0,0,2,1,3,0]\n",
    "# stone = [0,1,2,0,0,0,1,0,2,0]\n",
    "\n",
    "\n",
    "\n",
    "# stone = [200000,100000,50000,100000]\n",
    "# k = 2\n",
    "# stone = [100000,50000,0, 100000]\n",
    "# stone = [50000,0,0,50000]\n",
    "\n",
    "# 빼는 기능\n",
    "def minus(stones) : \n",
    "    j = 1\n",
    "    for i in stones :\n",
    "        if i != 0 :\n",
    "            j = min(i,j)\n",
    "    \n",
    "    result = []\n",
    "    for i in stones :\n",
    "        if i != 0 :\n",
    "            result.append(i-j)\n",
    "        else : \n",
    "            result.append(0)\n",
    "\n",
    "\n",
    "    return (j,result)\n",
    "\n",
    "\n",
    "def solution(stones, k):\n",
    "    answer = 0\n",
    "    for i in range(len(stones)-k) :\n",
    "        if stones[i] == 0 :\n",
    "            count = 1\n",
    "            for j in range(1,k+1) :\n",
    "                if stones[i] == stones[i+j] :\n",
    "                    count +=1\n",
    "            if count == k :\n",
    "                break\n",
    "        else :\n",
    "            v, stones = minus(stones)\n",
    "            answer += v\n",
    "        \n",
    "    return answer\n",
    "\n",
    "stones = [2, 4, 5, 3, 2, 1, 4, 2, 5, 1]\t\n",
    "k = 3\n",
    "solution(stones,k)"
   ]
  }
 ],
 "metadata": {
  "kernelspec": {
   "display_name": "Python 3",
   "language": "python",
   "name": "python3"
  },
  "language_info": {
   "codemirror_mode": {
    "name": "ipython",
    "version": 3
   },
   "file_extension": ".py",
   "mimetype": "text/x-python",
   "name": "python",
   "nbconvert_exporter": "python",
   "pygments_lexer": "ipython3",
   "version": "3.10.9 (main, Dec 15 2022, 17:11:09) [Clang 14.0.0 (clang-1400.0.29.202)]"
  },
  "orig_nbformat": 4,
  "vscode": {
   "interpreter": {
    "hash": "b0fa6594d8f4cbf19f97940f81e996739fb7646882a419484c72d19e05852a7e"
   }
  }
 },
 "nbformat": 4,
 "nbformat_minor": 2
}
