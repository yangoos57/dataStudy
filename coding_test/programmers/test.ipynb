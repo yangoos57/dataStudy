{
 "cells": [
  {
   "cell_type": "code",
   "execution_count": 17,
   "metadata": {},
   "outputs": [
    {
     "data": {
      "text/plain": [
       "[1, 0]"
      ]
     },
     "execution_count": 17,
     "metadata": {},
     "output_type": "execute_result"
    }
   ],
   "source": [
    "places = [[\"POOOP\", \"OXXOX\", \"OPXPX\", \"OOXOX\", \"POXXP\"],[\"POOPX\", \"OXPXP\", \"PXXXO\", \"OXXXO\", \"OOOPP\"]]\n",
    "\n",
    "from collections import deque\n",
    "\n",
    "def bfs(x,y,place_list) :\n",
    "    queue = deque()\n",
    "    queue.append([x,y,1])\n",
    "    \n",
    "    dx = [-1,1,0,0]\n",
    "    dy = [0,0,-1,1]\n",
    "    visited = [[False]*5 for _ in range(5)]\n",
    "    visited[x][y] = True\n",
    "    while queue :\n",
    "        x,y,z = queue.popleft()\n",
    "        if z > 2 :\n",
    "            return True\n",
    "        for i in range(4) :\n",
    "            nx = x + dx[i]\n",
    "            ny = y + dy[i]\n",
    "            if nx < 0 or nx > 4 or ny < 0 or ny > 4 :\n",
    "                continue\n",
    "            elif place_list[nx][ny] == 'P' and visited[nx][ny] == False: \n",
    "                return False\n",
    "            elif visited[nx][ny] == True :\n",
    "                continue\n",
    "            elif place_list[nx][ny] == 'X' :\n",
    "                visited[nx][ny] = True\n",
    "            else :\n",
    "                queue.append([nx,ny,z+1])\n",
    "                visited[nx][ny] =True\n",
    "    return True\n",
    "\n",
    "\n",
    "\n",
    "\n",
    "\n",
    "def solution(places):\n",
    "    answer = []\n",
    "    for j in places : \n",
    "        result = True\n",
    "        place_list = [list(i) for i in j]\n",
    "        for i in range(5) :\n",
    "            for j in range(5) :\n",
    "                if place_list[i][j] == 'P' :\n",
    "                    if bfs(i,j,place_list) == False :\n",
    "                        result = False\n",
    "\n",
    "        if result == False :\n",
    "            answer.append(0)\n",
    "        else : \n",
    "            answer.append(1)\n",
    "\n",
    "\n",
    "    return answer\n",
    "\n",
    "solution(places)"
   ]
  }
 ],
 "metadata": {
  "kernelspec": {
   "display_name": "Python 3",
   "language": "python",
   "name": "python3"
  },
  "language_info": {
   "codemirror_mode": {
    "name": "ipython",
    "version": 3
   },
   "file_extension": ".py",
   "mimetype": "text/x-python",
   "name": "python",
   "nbconvert_exporter": "python",
   "pygments_lexer": "ipython3",
   "version": "3.9.1"
  },
  "orig_nbformat": 4,
  "vscode": {
   "interpreter": {
    "hash": "b2097164ba635ebffc0e3795dc845ae25b57eedf0c1eb5773ded6aee9fc1b279"
   }
  }
 },
 "nbformat": 4,
 "nbformat_minor": 2
}
