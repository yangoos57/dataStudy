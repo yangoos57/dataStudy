{
 "cells": [
  {
   "cell_type": "markdown",
   "metadata": {},
   "source": [
    "### 같은 숫자는 싫어\n",
    "\n",
    "* 중복을 제거하되 순서는 유지해야한다.\n",
    "\n",
    "제한 \n",
    "* 1,000,000 이하의 자연수\n",
    "* 0 ~ 9 정수"
   ]
  },
  {
   "cell_type": "code",
   "execution_count": 4,
   "metadata": {},
   "outputs": [
    {
     "data": {
      "text/plain": [
       "[4, 3]"
      ]
     },
     "execution_count": 4,
     "metadata": {},
     "output_type": "execute_result"
    }
   ],
   "source": [
    "def solution(arr) :\n",
    "    s = [arr[0]]\n",
    "    for i in arr[1:] :\n",
    "        if i == s[-1] :\n",
    "            pass\n",
    "        else :\n",
    "            s.append(i)\n",
    "    return s\n",
    "arr = [1,1,3,3,0,1,1]\n",
    "arr = [4,4,4,3,3]\t\n",
    "\n",
    "solution(arr)"
   ]
  },
  {
   "cell_type": "markdown",
   "metadata": {},
   "source": [
    "### 올바른 괄호\n",
    "\n",
    "* 올바른 괄호 : \"()()\" 또는 \"(())()\" 는 올바른 괄호입니다.\n",
    "* 올바르지 않은 괄호 : \")()(\" 또는 \"(()(\" 는 올바르지 않은 괄호입니다.\n"
   ]
  },
  {
   "cell_type": "markdown",
   "metadata": {},
   "source": [
    "### 배운점\n",
    "\n",
    "* 조건식을 잘 세워야한다.\n",
    "\n",
    "* 무작정 접근하기 보단 모든 조건을 만족하도록 해야한다."
   ]
  },
  {
   "cell_type": "code",
   "execution_count": 18,
   "metadata": {},
   "outputs": [
    {
     "data": {
      "text/plain": [
       "False"
      ]
     },
     "execution_count": 18,
     "metadata": {},
     "output_type": "execute_result"
    }
   ],
   "source": [
    "def solution(s) : \n",
    "    if s[0] == ')' or s[-1] == '(' :\n",
    "        return False\n",
    "\n",
    "    else : \n",
    "        v = 0\n",
    "        for i in s :\n",
    "            if i == '(' :\n",
    "                v += 1\n",
    "            else :\n",
    "                v -= 1\n",
    "\n",
    "            if v < 0 :\n",
    "                return False \n",
    "    if v == 0 :\n",
    "        return True\n",
    "    else : \n",
    "        return False\n",
    "\n",
    "\n",
    "s = \"(())))\"\n",
    "\n",
    "solution(s)\n"
   ]
  },
  {
   "cell_type": "markdown",
   "metadata": {},
   "source": [
    "### 기능 개발\n",
    "\n",
    "* 이미 개발이 완료 됐더라도 앞에가 개발이 다 안끝나면 앞에 배포할 때 한 번에 한다.\n",
    "\n",
    "* 각 배포 시 몇 개의 기능이 배포되는지  return\n",
    "\n",
    "제한\n",
    "* 개수 100개 이하\n",
    "* 95%인 작업의 개발 속도가 4% 라면 2일 뒤에 배포 된다.\n"
   ]
  },
  {
   "attachments": {},
   "cell_type": "markdown",
   "metadata": {},
   "source": [
    "### 배운점\n",
    "* QA의 중요성을 다시 한 번 꺠닫는다.\n",
    "\n",
    "* while 문 안에 else 항목의 x = y 를 y = x로 썼다가 원인 찾느라 고생했음\n",
    "* 코드를 에러없이 쓰게하기 위해선 개별 단위를 점검 할 수 있는 방법에 대해서 고민해야할듯\n",
    "* if else 문을 쓰면 값들이 나눠져서 흐르느끼 둘 다 점검 해야하는 것을 잊지 말자"
   ]
  },
  {
   "cell_type": "code",
   "execution_count": null,
   "metadata": {},
   "outputs": [],
   "source": [
    "def solution(p,s) :\n",
    "    from math import ceil\n",
    "    finish = []\n",
    "    for i in range(len(p)) :\n",
    "        rest = 100 - p[i]\n",
    "        days = ceil(rest / s[i])\n",
    "        finish.append(days)\n",
    "    \n",
    "    finish = list(reversed(finish))\n",
    "    print(finish)\n",
    "    \n",
    "    x = finish.pop() # 7\n",
    "\n",
    "    deploy = []\n",
    "    v = 1\n",
    "    while finish : \n",
    "        y = finish.pop()\n",
    "        if x >= y : # 3\n",
    "            v += 1\n",
    "        else :\n",
    "            deploy.append(v)        \n",
    "            x = y\n",
    "            v = 1\n",
    "        \n",
    "    deploy.append(v)\n",
    "\n",
    "    \n",
    "\n",
    "    return deploy\n",
    "\n",
    "\n",
    "p = [1, 1, 50]\n",
    "s = [100, 2, 1]\n",
    "solution(p,s)"
   ]
  },
  {
   "attachments": {},
   "cell_type": "markdown",
   "metadata": {},
   "source": [
    "### 프린터\n",
    "\n",
    "1. 인쇄 대기목록의 가장 앞에 있는 문서(J)를 대기목록에서 꺼냅니다.\n",
    "\n",
    "2. 나머지 인쇄 대기목록에서 J보다 중요도가 높은 문서가 한 개라도 존재하면 J를 대기목록의 가장 마지막에 넣습니다.\n",
    "3. 그렇지 않으면 J를 인쇄합니다.\n",
    "\n",
    "예를 들어, 4개의 문서(A, B, C, D)가 순서대로 인쇄 대기목록에 있고 중요도가 2 1 3 2 라면 C D A B 순으로 인쇄하게 됩니다.\n",
    "\n",
    "내가 인쇄를 요청한 문서가 몇 번째로 인쇄되는지 알고 싶습니다. 위의 예에서 C는 1번째로, A는 3번째로 인쇄됩니다."
   ]
  },
  {
   "cell_type": "code",
   "execution_count": 24,
   "metadata": {},
   "outputs": [
    {
     "data": {
      "text/plain": [
       "1"
      ]
     },
     "execution_count": 24,
     "metadata": {},
     "output_type": "execute_result"
    }
   ],
   "source": [
    "def solution(l,p) :\n",
    "    from collections import deque\n",
    "    deck = deque(p)\n",
    "\n",
    "    #idx\n",
    "    lst = [0] * len(p)\n",
    "    lst[l] = 1\n",
    "    deck_2= deque(lst)\n",
    "\n",
    "    v=1\n",
    "    while True :\n",
    "        # current min_idx\n",
    "        max_p = max(deck)\n",
    "        x = deck.popleft()\n",
    "        idx = deck_2.popleft()\n",
    "\n",
    "\n",
    "        if x < max_p :\n",
    "            deck.append(x)\n",
    "            deck_2.append(idx)\n",
    "        else :\n",
    "            if idx == 0 :\n",
    "                v+=1\n",
    "            else :\n",
    "                return v\n",
    "\n",
    "\n",
    "l = 5\n",
    "p = [1, 1, 9, 1, 1, 1]\t\n",
    "p = [1,1,1,1,1,9]\t\t\n",
    "\n",
    "solution(l,p)"
   ]
  },
  {
   "attachments": {},
   "cell_type": "markdown",
   "metadata": {},
   "source": [
    "### 다리를 지나는 트럭\n",
    "\n",
    "* 모든 트럭이 다리를 건너려면 최소 몇 초가 걸리는지 알아내야 합니다. \n",
    "\n",
    "*  다리에는 트럭이 최대 bridge_length대 올라갈 수 있으며, 다리는 weight 이하까지의 무게를 견딜 수 있습니다. 단, 다리에 완전히 오르지 않은 트럭의 무게는 무시합니다."
   ]
  },
  {
   "cell_type": "markdown",
   "metadata": {},
   "source": [
    "### 배운점\n",
    "\n",
    "* 문제를 외우던지 해야함. 어쨋든 배울점 있는 문제\n",
    "\n",
    "* sum 함수는 많은 연산을 소모한다. 가능하면 +=, -= 기능을 응용해서 사용하자.\n",
    "\n",
    "* bridge의 길이를 idx로 생각해야했음.\n"
   ]
  },
  {
   "cell_type": "code",
   "execution_count": 46,
   "metadata": {},
   "outputs": [
    {
     "data": {
      "text/plain": [
       "8"
      ]
     },
     "execution_count": 46,
     "metadata": {},
     "output_type": "execute_result"
    }
   ],
   "source": [
    "def solution(bridge_length, weight, truck_weights):\n",
    "    from collections import deque\n",
    "\n",
    "    truck_weights = deque(truck_weights)\n",
    "    bridge = [0] * bridge_length\n",
    "    bridge = deque(bridge)\n",
    "    time = 0\n",
    "    bridge_weight = 0\n",
    "    while truck_weights :\n",
    "        x = truck_weights.popleft()\n",
    "        b = bridge.popleft() \n",
    "\n",
    "        if b > 0 :\n",
    "            bridge_weight -= b\n",
    "\n",
    "        if bridge_weight + x  <= weight :\n",
    "            bridge.append(x)\n",
    "            bridge_weight += x\n",
    "        else :\n",
    "            bridge.append(0)\n",
    "            truck_weights.appendleft(x)\n",
    "\n",
    "        time += 1\n",
    "\n",
    "    return time + bridge_length\n",
    "\n",
    "    \n",
    "\n",
    "bridge_length = 2\n",
    "weight = 10\n",
    "truck_weights = [7, 4, 5, 6]\n",
    "\n",
    "# bridge_length = 100\n",
    "# weight = 100\n",
    "# truck_weights = [10, 10, 10, 10, 10, 10, 10, 10, 10, 10]\n",
    "\n",
    "solution(bridge_length, weight, truck_weights)\n"
   ]
  }
 ],
 "metadata": {
  "kernelspec": {
   "display_name": "Python 3",
   "language": "python",
   "name": "python3"
  },
  "language_info": {
   "codemirror_mode": {
    "name": "ipython",
    "version": 3
   },
   "file_extension": ".py",
   "mimetype": "text/x-python",
   "name": "python",
   "nbconvert_exporter": "python",
   "pygments_lexer": "ipython3",
   "version": "3.9.1"
  },
  "orig_nbformat": 4,
  "vscode": {
   "interpreter": {
    "hash": "b2097164ba635ebffc0e3795dc845ae25b57eedf0c1eb5773ded6aee9fc1b279"
   }
  }
 },
 "nbformat": 4,
 "nbformat_minor": 2
}
