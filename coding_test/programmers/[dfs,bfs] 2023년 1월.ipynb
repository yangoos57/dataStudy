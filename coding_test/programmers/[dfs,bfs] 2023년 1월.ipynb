{
 "cells": [
  {
   "cell_type": "markdown",
   "metadata": {},
   "source": [
    "### 타겟넘버\n",
    "\n",
    "* 숫자 1 ~ 50\n",
    "* 타겟 넘버 1 ~ 1000\n",
    "* 개수 2 ~ 20 개 이하"
   ]
  },
  {
   "cell_type": "code",
   "execution_count": 19,
   "metadata": {},
   "outputs": [
    {
     "data": {
      "text/plain": [
       "5"
      ]
     },
     "execution_count": 19,
     "metadata": {},
     "output_type": "execute_result"
    }
   ],
   "source": [
    "def solution(numbers, target):\n",
    "    from itertools import product\n",
    "    x = product([0,1],repeat=len(numbers))\n",
    "    answer = 0\n",
    "    for i in x :\n",
    "        v = 0\n",
    "        for n,j in enumerate(i) :\n",
    "            if j == False :\n",
    "                v -= numbers[n]\n",
    "            else :\n",
    "                v += numbers[n]\n",
    "        if v == target : \n",
    "            answer += 1\n",
    "    \n",
    "    return answer\n",
    "                \n",
    "numbers = [1, 1, 1, 1, 1]\n",
    "target = 3\n",
    "# numbers = [4, 1, 2, 1]\t\n",
    "# target = 4\n",
    "\n",
    "solution(numbers,target)"
   ]
  },
  {
   "cell_type": "markdown",
   "metadata": {},
   "source": [
    "### 다른사람이 푼 방법을 통해 배울점\n",
    "\n",
    "1. 모든 조건을 구하는 점에서 접근법이 동일했지만, product를 매우 비효율저긍로 사용했음.\n",
    "2. 아래와 같이 조건에 맞게 product를 사용할 수도 있었음."
   ]
  },
  {
   "cell_type": "code",
   "execution_count": null,
   "metadata": {},
   "outputs": [],
   "source": [
    "from itertools import product\n",
    "def solution(numbers, target):\n",
    "    l = [(x, -x) for x in numbers]\n",
    "    s = list(map(sum, product(*l)))\n",
    "    return s.count(target)"
   ]
  },
  {
   "cell_type": "markdown",
   "metadata": {},
   "source": [
    "### DFS 재귀로 풀어보기"
   ]
  },
  {
   "cell_type": "code",
   "execution_count": 27,
   "metadata": {},
   "outputs": [
    {
     "name": "stdout",
     "output_type": "stream",
     "text": [
      "1\n",
      "2\n",
      "3\n",
      "4\n",
      "5\n",
      "5\n",
      "4\n",
      "5\n",
      "5\n",
      "3\n",
      "4\n",
      "5\n",
      "5\n",
      "4\n",
      "5\n",
      "5\n",
      "2\n",
      "3\n",
      "4\n",
      "5\n",
      "5\n",
      "4\n",
      "5\n",
      "5\n",
      "3\n",
      "4\n",
      "5\n",
      "5\n",
      "4\n",
      "5\n",
      "5\n",
      "5\n"
     ]
    }
   ],
   "source": [
    "def dfs(i, value, answer):\n",
    "    if i == len(numbers):\n",
    "        answer.append(value)\n",
    "    else:\n",
    "        dfs(i + 1, value + numbers[i], answer)\n",
    "        dfs(i + 1, value - numbers[i], answer)\n",
    "\n",
    "\n",
    "def solution(numbers, target):\n",
    "    answer = []\n",
    "    numbers = numbers\n",
    "    \n",
    "    dfs(0, 0, answer)\n",
    "    \n",
    "    return answer.count(target)\n",
    "\n",
    "\n",
    "numbers = [1, 1, 1, 1, 1]\n",
    "target = 3\n",
    "\n",
    "print(solution(numbers, target))\n"
   ]
  }
 ],
 "metadata": {
  "kernelspec": {
   "display_name": "Python 3.9.1 64-bit ('3.9.1')",
   "language": "python",
   "name": "python3"
  },
  "language_info": {
   "codemirror_mode": {
    "name": "ipython",
    "version": 3
   },
   "file_extension": ".py",
   "mimetype": "text/x-python",
   "name": "python",
   "nbconvert_exporter": "python",
   "pygments_lexer": "ipython3",
   "version": "3.9.1"
  },
  "orig_nbformat": 4,
  "vscode": {
   "interpreter": {
    "hash": "b2097164ba635ebffc0e3795dc845ae25b57eedf0c1eb5773ded6aee9fc1b279"
   }
  }
 },
 "nbformat": 4,
 "nbformat_minor": 2
}
