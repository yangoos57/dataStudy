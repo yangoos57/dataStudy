{
 "cells": [
  {
   "cell_type": "markdown",
   "metadata": {},
   "source": [
    "### 타겟넘버\n",
    "\n",
    "* 숫자 1 ~ 50\n",
    "* 타겟 넘버 1 ~ 1000\n",
    "* 개수 2 ~ 20 개 이하"
   ]
  },
  {
   "cell_type": "code",
   "execution_count": 19,
   "metadata": {},
   "outputs": [
    {
     "data": {
      "text/plain": [
       "5"
      ]
     },
     "execution_count": 19,
     "metadata": {},
     "output_type": "execute_result"
    }
   ],
   "source": [
    "def solution(numbers, target):\n",
    "    from itertools import product\n",
    "    x = product([0,1],repeat=len(numbers))\n",
    "    answer = 0\n",
    "    for i in x :\n",
    "        v = 0\n",
    "        for n,j in enumerate(i) :\n",
    "            if j == False :\n",
    "                v -= numbers[n]\n",
    "            else :\n",
    "                v += numbers[n]\n",
    "        if v == target : \n",
    "            answer += 1\n",
    "    \n",
    "    return answer\n",
    "                \n",
    "numbers = [1, 1, 1, 1, 1]\n",
    "target = 3\n",
    "# numbers = [4, 1, 2, 1]\t\n",
    "# target = 4\n",
    "\n",
    "solution(numbers,target)"
   ]
  },
  {
   "cell_type": "markdown",
   "metadata": {},
   "source": [
    "### 다른사람이 푼 방법을 통해 배울점\n",
    "\n",
    "1. 모든 조건을 구하는 점에서 접근법이 동일했지만, product를 매우 비효율저긍로 사용했음.\n",
    "2. 아래와 같이 조건에 맞게 product를 사용할 수도 있었음."
   ]
  },
  {
   "cell_type": "code",
   "execution_count": null,
   "metadata": {},
   "outputs": [],
   "source": [
    "from itertools import product\n",
    "def solution(numbers, target):\n",
    "    l = [(x, -x) for x in numbers]\n",
    "    s = list(map(sum, product(*l)))\n",
    "    return s.count(target)"
   ]
  },
  {
   "cell_type": "markdown",
   "metadata": {},
   "source": [
    "### DFS 재귀로 풀어보기"
   ]
  },
  {
   "cell_type": "code",
   "execution_count": 28,
   "metadata": {},
   "outputs": [],
   "source": [
    "def dfs(i, value, answer):\n",
    "    if i == len(numbers):\n",
    "        answer.append(value)\n",
    "    else:\n",
    "        dfs(i + 1, value + numbers[i], answer)\n",
    "        dfs(i + 1, value - numbers[i], answer)\n",
    "\n",
    "\n",
    "def solution(numbers, target):\n",
    "    answer = []\n",
    "    numbers = numbers\n",
    "    \n",
    "    dfs(0, 0, answer)\n",
    "    \n",
    "    return answer.count(target)\n",
    "\n",
    "\n",
    "numbers = [1, 1, 1, 1, 1]\n",
    "target = 3"
   ]
  },
  {
   "cell_type": "code",
   "execution_count": 43,
   "metadata": {},
   "outputs": [
    {
     "name": "stdout",
     "output_type": "stream",
     "text": [
      "32\n"
     ]
    }
   ],
   "source": [
    "def solution() :\n",
    "    n = 5\n",
    "    v = 0\n",
    "    lst =[]\n",
    "    def dfs(i,v,lst) :\n",
    "        if i == n :\n",
    "            lst.append(v)\n",
    "        else :\n",
    "            # a^b 구조에서 a 는 dfs의 개수 b는 n을 의미함.\n",
    "            # 이 예제는 a=2 b=5의 구조이므로 list 내부 값은 32개가 나옴\n",
    "            dfs(i+1,v+1,lst)\n",
    "            dfs(i+1,v+1,lst)\n",
    "    dfs(0,v,lst)\n",
    "    print(len(lst))\n",
    "\n",
    "solution()"
   ]
  },
  {
   "cell_type": "markdown",
   "metadata": {},
   "source": [
    "### 게임 맵 최단거리\n",
    "\n",
    "* 게임 맵의 상태 maps가 매개변수로 주어질 때, 캐릭터가 상대 팀 진영에 도착하기 위해서 지나가야 하는 칸의 개수의 최솟값을 return 하도록 solution 함수를 완성해주세요. 단, 상대 팀 진영에 도착할 수 없을 때는 -1을 return 해주세요."
   ]
  },
  {
   "cell_type": "code",
   "execution_count": 81,
   "metadata": {},
   "outputs": [
    {
     "data": {
      "text/plain": [
       "11"
      ]
     },
     "execution_count": 81,
     "metadata": {},
     "output_type": "execute_result"
    }
   ],
   "source": [
    "from collections import deque\n",
    "\n",
    "\n",
    "def solution(maps):\n",
    "    n = len(maps) # x\n",
    "    m = len(maps[0]) # y\n",
    "    \n",
    "    visited = [[False]* m for _ in range(n)]\n",
    "\n",
    "    queue = deque()\n",
    "    queue.append((0, 0))\n",
    "    visited[0][0] = True\n",
    "\n",
    "    dx = [-1, 1, 0, 0]\n",
    "    dy = [0, 0, -1, 1]\n",
    "\n",
    "    while queue : \n",
    "        x, y = queue.popleft()\n",
    "\n",
    "        for i in range(4) :\n",
    "            nx = x + dx[i]\n",
    "            ny = y + dy[i]\n",
    "            if nx < 0 or nx >=n or ny < 0 or ny >= m :\n",
    "                continue\n",
    "            elif visited[nx][ny] == True :\n",
    "                continue\n",
    "            elif maps[nx][ny] == 0 :\n",
    "                visited[nx][ny] = True\n",
    "            else :\n",
    "                maps[nx][ny] = maps[x][y] + 1\n",
    "                queue.append((nx,ny))\n",
    "                visited[nx][ny] = True\n",
    "\n",
    "    if maps[-1][-1] == 1 :\n",
    "        answer = -1\n",
    "    else :\n",
    "        answer= maps[-1][-1]\n",
    "\n",
    "    return answer\n",
    "\n",
    "\n",
    "maps = [[1, 0, 1, 1, 1], [1, 0, 1, 0, 1], [1, 0, 1, 1, 1], [1, 1, 1, 0, 1], [0, 0, 0, 0, 1]]\n",
    "\n",
    "solution(maps)\n"
   ]
  },
  {
   "cell_type": "markdown",
   "metadata": {},
   "source": [
    "### BFS 기본 구조"
   ]
  },
  {
   "cell_type": "code",
   "execution_count": 82,
   "metadata": {},
   "outputs": [],
   "source": [
    "# 최단경로 예시\n",
    "from collections import deque\n",
    "\n",
    "\n",
    "def solution(maps):\n",
    "    # 1. 방문 리스트 구현 및 방문처리\n",
    "    n = len(maps)  # x 값\n",
    "    m = len(maps[0])  # y 값\n",
    "    visited = [[False] * m for _ in range(n)]\n",
    "    visited[0][0] = True\n",
    "\n",
    "    # 2.queue 생성\n",
    "    queue = deque()\n",
    "    queue.append((0, 0))\n",
    "\n",
    "    # 3. while 문 구현\n",
    "    while queue:\n",
    "        x, y = queue.popleft()\n",
    "        dx = [-1, 1, 0, 0]\n",
    "        dy = [0, 0, -1, 1]\n",
    "\n",
    "        # 4. 네 방향 구현\n",
    "        for i in range(4):\n",
    "            nx = x + dx[i]\n",
    "            ny = y + dy[i]\n",
    "            # 5. 안되는 조건 3개지 생성\n",
    "            # 1) 사각형 범위를 벗어나는 경우\n",
    "            if nx < 0 or nx >= n or ny < 0 or ny >= m:\n",
    "                continue\n",
    "            # 2) 이미 방문 한 경우\n",
    "            elif visited[nx][ny] == True:\n",
    "                continue\n",
    "            # 3) 이동 불가한 경우(이때 방문 처리 필수)\n",
    "            elif maps[nx][ny] == 0:\n",
    "                visited[nx][ny] = True\n",
    "\n",
    "            # 6. 되는 경우 3가지 구현\n",
    "            else:\n",
    "                # 1) 지금 수행중인 단계가 몇번째인지 경로에 표현하기(이전 단계 + 1)\n",
    "                maps[nx][ny] = maps[x][y] + 1\n",
    "                # 2) 방문처리하기\n",
    "                visited[nx][ny] = True\n",
    "                # 3) queue에 쌓기\n",
    "                queue.append((nx,ny))\n",
    "\n",
    "    if maps[-1][-1] == 1 :\n",
    "        answer = -1\n",
    "    else :\n",
    "        answer= maps[-1][-1]\n",
    "\n",
    "    return answer"
   ]
  },
  {
   "attachments": {},
   "cell_type": "markdown",
   "metadata": {},
   "source": [
    "### 네트워크\n",
    "\n",
    "* 컴퓨터의 개수 n, 연결에 대한 정보가 담긴 2차원 배열 computers가 매개변수로 주어질 때, 네트워크의 개수를 return 하도록 solution 함수를 작성하시오.\n",
    "\n",
    "\n",
    "조건\n",
    "* computer[i][i]는 항상 1입니다.\n",
    "* 각 컴퓨터는 0부터 n-1인 정수로 표현합니다.\n",
    "* i번 컴퓨터와 j번 컴퓨터가 연결되어 있으면 computers[i][j]를 1로 표현합니다."
   ]
  },
  {
   "cell_type": "markdown",
   "metadata": {},
   "source": [
    "### 이해가 안되니 일단 외워보자"
   ]
  },
  {
   "cell_type": "code",
   "execution_count": 9,
   "metadata": {},
   "outputs": [
    {
     "data": {
      "text/plain": [
       "1"
      ]
     },
     "execution_count": 9,
     "metadata": {},
     "output_type": "execute_result"
    }
   ],
   "source": [
    "def solution(n, computers):\n",
    "    visited = [False] * n\n",
    "\n",
    "    def dfs(i):\n",
    "        for j in range(n):\n",
    "            if computers[i][j] == 1 and visited[j] == False:\n",
    "                visited[j] = True\n",
    "                dfs(j)\n",
    "\n",
    "        return False\n",
    "\n",
    "    answer = 0\n",
    "    for i in range(n):\n",
    "        if visited[i] == False:\n",
    "            dfs(i)\n",
    "            answer += 1\n",
    "\n",
    "    return answer"
   ]
  },
  {
   "attachments": {},
   "cell_type": "markdown",
   "metadata": {},
   "source": [
    "### 단어변환 \n",
    "1. 한 번에 한 개의 알파벳만 바꿀 수 있습니다.\n",
    "2. words에 있는 단어로만 변환할 수 있습니다.\n",
    "\n",
    "* 각 단어는 알파벳 소문자로만 이루어져 있습니다.\n",
    "\n",
    "* words에는 3개 이상 50개 이하의 단어가 있으며 중복되는 단어는 없습니다.\n",
    "\n",
    "* 변환할 수 없는 경우에는 0를 return 합니다.\n",
    "\n",
    "내 생각엔 노드 문제인 것 같다. "
   ]
  },
  {
   "attachments": {},
   "cell_type": "markdown",
   "metadata": {},
   "source": [
    "### 매우 어렵고 더럽게 풀었음... \n",
    "\n",
    "* 핵심은 visited와 level 리스트를 만들었다는 것\n",
    "* `이전 level + 1`로 구현해야한다는 것"
   ]
  },
  {
   "cell_type": "code",
   "execution_count": 38,
   "metadata": {},
   "outputs": [
    {
     "data": {
      "text/plain": [
       "4"
      ]
     },
     "execution_count": 38,
     "metadata": {},
     "output_type": "execute_result"
    }
   ],
   "source": [
    "def solution(begin, target, words):\n",
    "    from collections import deque\n",
    "\n",
    "    if target in words:\n",
    "        # 방문\n",
    "        visited = [False] * len(words)\n",
    "        # 단계 표시\n",
    "        level = [0] * len(words)\n",
    "\n",
    "        # 단어 변화\n",
    "        change = deque()\n",
    "        change.append(begin)\n",
    "\n",
    "        # words 내 target idx\n",
    "        idx = words.index(target)\n",
    "\n",
    "        while change:\n",
    "            x = change.popleft()\n",
    "\n",
    "            # begin 아닌 경우\n",
    "            if x != begin :\n",
    "                x_idx = words.index(x)\n",
    "            else : \n",
    "                x_idx = 1\n",
    "\n",
    "            for n, word in enumerate(words):\n",
    "                if visited[n] == False:\n",
    "                    v = 0\n",
    "                    # 안좋은 예시 남겨놓기\n",
    "                    # x_list = list(x)\n",
    "                    # word_list = list(word)\n",
    "                    # for _ in range(len(x)):\n",
    "                    #     if x_list.pop() != word_list.pop():\n",
    "                    #         v += 1\n",
    "                    for i in range(len(x)) : \n",
    "                        if x[i] != word[i] :\n",
    "                            v+=1\n",
    "                    if v == 1:\n",
    "                        visited[n] = True\n",
    "                        level[n] = level[x_idx] + 1\n",
    "                        change.append(word)\n",
    "\n",
    "        return level[idx]\n",
    "    else:\n",
    "        return 0\n",
    "    \n",
    "\n",
    "\n",
    "begin = \"hit\"\n",
    "target = \"cog\"\n",
    "words = [\"hot\", \"dot\", \"dog\", \"lot\", \"log\", \"cog\"]\n",
    "# \"hit\" -> \"hot\" -> \"dot\" -> \"dog\" -> \"cog\"\n",
    "solution(begin, target, words)\n"
   ]
  },
  {
   "attachments": {},
   "cell_type": "markdown",
   "metadata": {},
   "source": [
    "### 여행경로\n",
    "\n",
    "* 항공권 정보가 담긴 2차원 배열 tickets가 매개변수로 주어질 때, 방문하는 공항 경로를 배열에 담아 return 하도록 solution 함수를 작성해주세요.\n",
    "\n",
    "조건\n",
    "* tickets의 각 행 [a, b]는 a 공항에서 b 공항으로 가는 항공권이 있다는 의미입니다.\n",
    "\n",
    "* 주어진 항공권은 모두 사용해야 합니다.\n",
    "\n",
    "* 만일 가능한 경로가 2개 이상일 경우 알파벳 순서가 앞서는 경로를 return 합니다."
   ]
  },
  {
   "cell_type": "code",
   "execution_count": null,
   "metadata": {},
   "outputs": [],
   "source": [
    "### 1번 이상 방문가능한 노드문제라 생각 \n",
    "### 모든 경로를 택하고, 알파벳이 앞에 있는 경우를 택하는게 맞을듯"
   ]
  },
  {
   "cell_type": "markdown",
   "metadata": {},
   "source": [
    "### 남이 푼 풀이 1\n",
    "\n",
    "* 너무 완벽해서 따라할 수 없는 수준임.. 이거따라하는건 현실적으로 불가"
   ]
  },
  {
   "cell_type": "code",
   "execution_count": 71,
   "metadata": {},
   "outputs": [
    {
     "name": "stdout",
     "output_type": "stream",
     "text": [
      "['ICN', 'ATL']\n",
      "['ICN', 'ATL', 'ICN']\n",
      "['ICN', 'ATL', 'ICN', 'SFO']\n",
      "['ICN', 'ATL', 'ICN', 'SFO', 'ATL']\n",
      "['ICN', 'ATL', 'ICN', 'SFO', 'ATL', 'SFO']\n"
     ]
    },
    {
     "data": {
      "text/plain": [
       "['ICN', 'ATL', 'ICN', 'SFO', 'ATL', 'SFO']"
      ]
     },
     "execution_count": 71,
     "metadata": {},
     "output_type": "execute_result"
    }
   ],
   "source": [
    "def solution(tickets):\n",
    "    from collections import defaultdict\n",
    "    graph = defaultdict(list) \n",
    "\n",
    "    for [a,b] in tickets :\n",
    "        graph[a].append(b)\n",
    "\n",
    "    for i in graph.keys() :\n",
    "        graph[i].sort(reverse=True)\n",
    "    \n",
    "    answer = []\n",
    "    def DFS():\n",
    "        stack = [\"ICN\"]\n",
    "        while stack:\n",
    "            start = stack[-1]\n",
    "            if not graph[start]: # start에서 출발하는 항공편이 없는경우 바로 답에 넣기               \n",
    "                answer.append(stack.pop())\n",
    "            else:\n",
    "                stack.append(graph[start].pop())\n",
    "                print(stack)\n",
    "\n",
    "    DFS()\n",
    "            \n",
    "    return answer[::-1]\n",
    "        \n",
    "\n",
    "\n",
    "\n",
    "\n",
    "    return True\n",
    "\n",
    "tickets = [[\"ICN\", \"SFO\"], [\"ICN\", \"ATL\"], [\"SFO\", \"ATL\"], [\"ATL\", \"ICN\"], [\"ATL\",\"SFO\"]]\n",
    "\n",
    "solution(tickets)"
   ]
  }
 ],
 "metadata": {
  "kernelspec": {
   "display_name": "Python 3.9.1 64-bit ('3.9.1')",
   "language": "python",
   "name": "python3"
  },
  "language_info": {
   "codemirror_mode": {
    "name": "ipython",
    "version": 3
   },
   "file_extension": ".py",
   "mimetype": "text/x-python",
   "name": "python",
   "nbconvert_exporter": "python",
   "pygments_lexer": "ipython3",
   "version": "3.9.1"
  },
  "orig_nbformat": 4,
  "vscode": {
   "interpreter": {
    "hash": "b2097164ba635ebffc0e3795dc845ae25b57eedf0c1eb5773ded6aee9fc1b279"
   }
  }
 },
 "nbformat": 4,
 "nbformat_minor": 2
}
