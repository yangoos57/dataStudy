{
 "cells": [
  {
   "cell_type": "markdown",
   "metadata": {},
   "source": [
    "## codility Passing Car"
   ]
  },
  {
   "cell_type": "markdown",
   "metadata": {},
   "source": [
    "### 문제해석\n",
    "\n",
    "문제를 이해하는게 너무 어려웠다. 결론은 경우의 수를 찾는 문제이다.\n",
    "\n",
    "예시로 제공한 리스트를 이해해보자.\n",
    "\n",
    "A[0] = 0\n",
    "\n",
    "A[1] = 1\n",
    "\n",
    "A[2] = 0\n",
    "\n",
    "A[3] = 1\n",
    "\n",
    "A[4] = 1\n",
    "\n",
    "0에 위치한 차량의 경우 1,3,4에 위치한 차량과 반대방향으로 간다. => (0,1), (0,3), (0,4)\n",
    "\n",
    "2에 위치한 차량의 경우 3,4에 위치한 차량과 반대방향으로 간다. => (2,3), (2,4)\n",
    "\n",
    "(1,2)도 반대로 가는데 포함하지 않는 이유는?? 조건이 0 ≤ P < Q < N 이기 때문이다.\n",
    "\n",
    "\n"
   ]
  },
  {
   "cell_type": "markdown",
   "metadata": {},
   "source": [
    "### 문제풀이"
   ]
  },
  {
   "cell_type": "markdown",
   "metadata": {},
   "source": [
    "## N**2 나옴\n",
    "Counter = O(N)이기 때문"
   ]
  },
  {
   "cell_type": "code",
   "execution_count": 9,
   "metadata": {},
   "outputs": [
    {
     "name": "stdout",
     "output_type": "stream",
     "text": [
      "[]\n"
     ]
    },
    {
     "data": {
      "text/plain": [
       "1"
      ]
     },
     "execution_count": 9,
     "metadata": {},
     "output_type": "execute_result"
    }
   ],
   "source": [
    "from collections import Counter\n",
    "\n",
    "def solution(A):\n",
    "    \n",
    "    if len(A) == 1 :\n",
    "        return 0\n",
    "    all = 0\n",
    "    for i, n in enumerate(A) :\n",
    "        if n == 0 :\n",
    "            v = Counter(A[i+1:])\n",
    "            all += v[1]\n",
    "            \n",
    "        if all > 1000000000 :\n",
    "            return -1\n",
    "            \n",
    "    return all\n",
    "            \n",
    "\n"
   ]
  },
  {
   "cell_type": "code",
   "execution_count": 5,
   "metadata": {},
   "outputs": [],
   "source": [
    "def solution(A):\n",
    "    result = 0\n",
    "    count_zero = 0\n",
    "    for n,i in enumerate(A):\n",
    "        if i == 1 and count_zero == 0:\n",
    "            continue\n",
    "        elif i == 0:\n",
    "            count_zero += 1\n",
    "        elif i == 1:\n",
    "            result += count_zero\n",
    "        print(n,'result : ',result, 'count_zero : ',count_zero)\n",
    "\n",
    "    if result > 1000000000:\n",
    "        return -1\n",
    "    return result"
   ]
  },
  {
   "cell_type": "code",
   "execution_count": 6,
   "metadata": {},
   "outputs": [
    {
     "name": "stdout",
     "output_type": "stream",
     "text": [
      "0 result :  0 count_zero :  1\n",
      "1 result :  1 count_zero :  1\n",
      "2 result :  1 count_zero :  2\n",
      "3 result :  3 count_zero :  2\n",
      "4 result :  5 count_zero :  2\n"
     ]
    },
    {
     "data": {
      "text/plain": [
       "5"
      ]
     },
     "execution_count": 6,
     "metadata": {},
     "output_type": "execute_result"
    }
   ],
   "source": [
    "solution([0,1,0,1,1])"
   ]
  },
  {
   "cell_type": "markdown",
   "metadata": {},
   "source": [
    "0 : 사람\n",
    "1 : 필요한 식사 개수\n",
    "\n",
    "0 result :  0 count_zero :  1\n",
    "\n",
    "\n",
    "1 result :  1 count_zero :  1\n",
    "\n",
    "\n",
    "2 result :  1 count_zero :  2\n",
    "\n",
    "\n",
    "3 result :  3 count_zero :  2\n",
    "\n",
    "4 result :  5 count_zero :  2\n",
    "\n",
    "\n"
   ]
  }
 ],
 "metadata": {
  "kernelspec": {
   "display_name": "Python 3.9.1 64-bit ('3.9.1')",
   "language": "python",
   "name": "python3"
  },
  "language_info": {
   "codemirror_mode": {
    "name": "ipython",
    "version": 3
   },
   "file_extension": ".py",
   "mimetype": "text/x-python",
   "name": "python",
   "nbconvert_exporter": "python",
   "pygments_lexer": "ipython3",
   "version": "3.9.1"
  },
  "orig_nbformat": 4,
  "vscode": {
   "interpreter": {
    "hash": "380499944412d71a434e3a577c644718a6d37bb71a3486bf18ac316dad575de7"
   }
  }
 },
 "nbformat": 4,
 "nbformat_minor": 2
}
