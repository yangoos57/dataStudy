{
 "cells": [
  {
   "cell_type": "markdown",
   "metadata": {},
   "source": [
    "## Codility Max Counter"
   ]
  },
  {
   "cell_type": "markdown",
   "metadata": {},
   "source": [
    "### 배운점 \n",
    "\n",
    "\n",
    "max(a,b) 리스트로 사용할 경우 앞자리가 가장 큰 리스트가 output으로 나옴\n"
   ]
  },
  {
   "cell_type": "code",
   "execution_count": 7,
   "metadata": {},
   "outputs": [
    {
     "data": {
      "text/plain": [
       "[7]"
      ]
     },
     "execution_count": 7,
     "metadata": {},
     "output_type": "execute_result"
    }
   ],
   "source": [
    "a = [7]\n",
    "b = [3,4,5,6]\n",
    "max(a,b)"
   ]
  },
  {
   "cell_type": "markdown",
   "metadata": {},
   "source": [
    "### 문제풀이"
   ]
  },
  {
   "cell_type": "code",
   "execution_count": 34,
   "metadata": {},
   "outputs": [
    {
     "data": {
      "text/plain": [
       "[4, 4, 4, 4, 4]"
      ]
     },
     "execution_count": 34,
     "metadata": {},
     "output_type": "execute_result"
    }
   ],
   "source": [
    "from collections import Counter\n",
    "\n",
    "def solution(N,A) :\n",
    "    global_val = 0\n",
    "    idx = 0\n",
    "    for i,n in enumerate(A) :\n",
    "        if n == N+1 :\n",
    "            count = Counter(A[:i])\n",
    "            global_val = max(count.values())\n",
    "            idx = i\n",
    "    \n",
    "    answer = [global_val] * N\n",
    "\n",
    "    for i in A[idx:] :\n",
    "        if i != N+1 :\n",
    "            answer[i-1] += 1\n",
    "\n",
    "    return answer\n",
    "\n",
    "            \n",
    "A = [3,4,4,6,1,4,4]\n",
    "A = [1,1,1,1,5,6,4,4,2,6]\n",
    "N = 5\n",
    "\n",
    "solution(N,A)"
   ]
  }
 ],
 "metadata": {
  "kernelspec": {
   "display_name": "Python 3.9.1 64-bit ('3.9.1')",
   "language": "python",
   "name": "python3"
  },
  "language_info": {
   "codemirror_mode": {
    "name": "ipython",
    "version": 3
   },
   "file_extension": ".py",
   "mimetype": "text/x-python",
   "name": "python",
   "nbconvert_exporter": "python",
   "pygments_lexer": "ipython3",
   "version": "3.9.1"
  },
  "orig_nbformat": 4,
  "vscode": {
   "interpreter": {
    "hash": "380499944412d71a434e3a577c644718a6d37bb71a3486bf18ac316dad575de7"
   }
  }
 },
 "nbformat": 4,
 "nbformat_minor": 2
}
