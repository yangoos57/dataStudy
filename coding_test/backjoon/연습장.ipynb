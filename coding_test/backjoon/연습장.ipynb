{
 "cells": [
  {
   "cell_type": "code",
   "execution_count": 110,
   "metadata": {},
   "outputs": [
    {
     "name": "stdout",
     "output_type": "stream",
     "text": [
      "[22, 0, 22, 6, 0, 4]\n"
     ]
    },
    {
     "data": {
      "text/plain": [
       "0"
      ]
     },
     "execution_count": 110,
     "metadata": {},
     "output_type": "execute_result"
    }
   ],
   "source": [
    "m = 25\n",
    "n = 1\n",
    "\n",
    "i = 0\n",
    "\n",
    "answer = []\n",
    "for mul in [2, 5] :\n",
    "    for num in [m,n,m-n] : \n",
    "        while True :\n",
    "            if num < mul ** i :\n",
    "                break\n",
    "            i += 1\n",
    "        \n",
    "\n",
    "        sum = 0\n",
    "        for v in range(1,i) :\n",
    "            sum += (num // mul**v)\n",
    "        \n",
    "        answer.append(sum)\n",
    "\n",
    "\n",
    "n2= answer[0] -answer[1]-answer[2]\n",
    "n5= answer[3] -answer[4]-answer[5]\n",
    "\n",
    "min(n2,n5)"
   ]
  },
  {
   "cell_type": "code",
   "execution_count": 54,
   "metadata": {},
   "outputs": [
    {
     "name": "stdout",
     "output_type": "stream",
     "text": [
      "1\n",
      "5\n",
      "26\n"
     ]
    }
   ],
   "source": [
    "print(130 // 125)\n",
    "print(130 // 25)\n",
    "print(130 // 5)\n"
   ]
  },
  {
   "cell_type": "code",
   "execution_count": null,
   "metadata": {},
   "outputs": [],
   "source": []
  }
 ],
 "metadata": {
  "kernelspec": {
   "display_name": "Python 3.9.1 64-bit ('3.9.1')",
   "language": "python",
   "name": "python3"
  },
  "language_info": {
   "codemirror_mode": {
    "name": "ipython",
    "version": 3
   },
   "file_extension": ".py",
   "mimetype": "text/x-python",
   "name": "python",
   "nbconvert_exporter": "python",
   "pygments_lexer": "ipython3",
   "version": "3.9.1"
  },
  "orig_nbformat": 4,
  "vscode": {
   "interpreter": {
    "hash": "380499944412d71a434e3a577c644718a6d37bb71a3486bf18ac316dad575de7"
   }
  }
 },
 "nbformat": 4,
 "nbformat_minor": 2
}
