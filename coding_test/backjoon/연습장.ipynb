{
 "cells": [
  {
   "cell_type": "code",
   "execution_count": 151,
   "metadata": {},
   "outputs": [
    {
     "name": "stdout",
     "output_type": "stream",
     "text": [
      "[0, 1]\n",
      "[0, 1, 2]\n",
      "[0, 3]\n",
      "-1 8 8 -1\n"
     ]
    }
   ],
   "source": [
    "# stack의 장점 : pop을 통해 리스트 개수를 점차 줄여나갈 수 있기 때문에 시간 단축 가능\n",
    "# stack 원리를 아직 이해를 못한건가 문제를 못풀겠다.\n",
    "\n",
    "# 정확히는 이해못했지만 현재까지 이해한 바를 기록하면\n",
    "# 앞 > 뒤 인 경우 stack에 index 저장, 앞 < 뒤 인 경우 나올때까지 반복\n",
    "# 앞 < 뒤 발견하면 index 역순으로 계산하며 stack 제거 앞 > 뒤 인 경우 나올때까지 반복\n",
    "# stack이 점차 소멸하는 구조로 짜여있기 때문에 시간이 효율적인 것으로 보임\n",
    "# for문이 다 돌면 종료\n",
    "\n",
    "\n",
    "# 그치만... 이걸 생각해낸다는게 불가능하다 싶을정도로 어려움..\n",
    "\n",
    "n = 4\n",
    "val_list = [9,5,4,8]\n",
    "\n",
    "\n",
    "\n",
    "answer = [-1] * n\n",
    "stack = [0]\n",
    "\n",
    "for i in range(1, n):\n",
    "    while stack and val_list[stack[-1]] < val_list[i]:\n",
    "        answer[stack.pop()] = val_list[i]\n",
    "\n",
    "    stack.append(i)\n",
    "    print(stack)\n",
    "\n",
    "print(*answer)\n",
    "\n",
    "    \n",
    "\n",
    "\n"
   ]
  },
  {
   "cell_type": "code",
   "execution_count": 145,
   "metadata": {},
   "outputs": [
    {
     "ename": "IndexError",
     "evalue": "list index out of range",
     "output_type": "error",
     "traceback": [
      "\u001b[0;31m---------------------------------------------------------------------------\u001b[0m",
      "\u001b[0;31mIndexError\u001b[0m                                Traceback (most recent call last)",
      "\u001b[1;32m/Users/yangwoolee/git_repo/dataStudy/coding_test/backjoon/연습장.ipynb 셀 2\u001b[0m in \u001b[0;36m<cell line: 2>\u001b[0;34m()\u001b[0m\n\u001b[1;32m      <a href='vscode-notebook-cell:/Users/yangwoolee/git_repo/dataStudy/coding_test/backjoon/%EC%97%B0%EC%8A%B5%EC%9E%A5.ipynb#X15sZmlsZQ%3D%3D?line=0'>1</a>\u001b[0m stack \u001b[39m=\u001b[39m []\n\u001b[0;32m----> <a href='vscode-notebook-cell:/Users/yangwoolee/git_repo/dataStudy/coding_test/backjoon/%EC%97%B0%EC%8A%B5%EC%9E%A5.ipynb#X15sZmlsZQ%3D%3D?line=1'>2</a>\u001b[0m stack[\u001b[39m-\u001b[39;49m\u001b[39m1\u001b[39;49m]\n",
      "\u001b[0;31mIndexError\u001b[0m: list index out of range"
     ]
    }
   ],
   "source": [
    "stack = []\n",
    "stack[-1]"
   ]
  }
 ],
 "metadata": {
  "kernelspec": {
   "display_name": "Python 3.9.1 64-bit ('3.9.1')",
   "language": "python",
   "name": "python3"
  },
  "language_info": {
   "codemirror_mode": {
    "name": "ipython",
    "version": 3
   },
   "file_extension": ".py",
   "mimetype": "text/x-python",
   "name": "python",
   "nbconvert_exporter": "python",
   "pygments_lexer": "ipython3",
   "version": "3.9.1"
  },
  "orig_nbformat": 4,
  "vscode": {
   "interpreter": {
    "hash": "380499944412d71a434e3a577c644718a6d37bb71a3486bf18ac316dad575de7"
   }
  }
 },
 "nbformat": 4,
 "nbformat_minor": 2
}
