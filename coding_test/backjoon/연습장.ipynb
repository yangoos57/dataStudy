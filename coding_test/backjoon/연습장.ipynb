{
 "cells": [
  {
   "cell_type": "code",
   "execution_count": 2,
   "metadata": {},
   "outputs": [
    {
     "data": {
      "text/plain": [
       "1"
      ]
     },
     "execution_count": 2,
     "metadata": {},
     "output_type": "execute_result"
    }
   ],
   "source": [
    "arr = '98110'\n",
    "if sum(map(int, arr)) % 3 == 0:\n",
    "    arr.sort(reverse=True)\n",
    "    if arr[-1] == '0':\n",
    "        print(''.join(arr))\n",
    "    else:\n",
    "        print('-1')\n",
    "else:\n",
    "    print('-1')\n"
   ]
  }
 ],
 "metadata": {
  "kernelspec": {
   "display_name": "Python 3.9.1 64-bit ('3.9.1')",
   "language": "python",
   "name": "python3"
  },
  "language_info": {
   "codemirror_mode": {
    "name": "ipython",
    "version": 3
   },
   "file_extension": ".py",
   "mimetype": "text/x-python",
   "name": "python",
   "nbconvert_exporter": "python",
   "pygments_lexer": "ipython3",
   "version": "3.9.1"
  },
  "orig_nbformat": 4,
  "vscode": {
   "interpreter": {
    "hash": "380499944412d71a434e3a577c644718a6d37bb71a3486bf18ac316dad575de7"
   }
  }
 },
 "nbformat": 4,
 "nbformat_minor": 2
}
