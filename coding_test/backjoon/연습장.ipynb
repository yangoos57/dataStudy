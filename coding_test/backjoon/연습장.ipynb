{
 "cells": [
  {
   "cell_type": "markdown",
   "metadata": {},
   "source": []
  },
  {
   "cell_type": "code",
   "execution_count": 70,
   "metadata": {},
   "outputs": [],
   "source": []
  },
  {
   "cell_type": "code",
   "execution_count": 83,
   "metadata": {},
   "outputs": [
    {
     "name": "stdout",
     "output_type": "stream",
     "text": [
      "24\n"
     ]
    }
   ],
   "source": [
    "# 오른쪽 가장 큰 값을 갱신하면 될 듯\n",
    "# 왼쪽 보다 작은 값들은 그냥 그 가장 큰 값을 쓰면 될듯 "
   ]
  },
  {
   "cell_type": "code",
   "execution_count": 126,
   "metadata": {},
   "outputs": [
    {
     "name": "stdout",
     "output_type": "stream",
     "text": [
      "-1 8 8 -1\n"
     ]
    }
   ],
   "source": [
    "a = '9 5 4 8'\n",
    "new_a = list(map(int,a.split()))\n",
    "\n",
    "max_var = 0\n",
    "left_var = 0\n",
    "answer =[]\n",
    "for i in range(len(new_a)) :\n",
    "    new_var = new_a[i]\n",
    "    q = new_a[i+1:]\n",
    "\n",
    "    if new_var == max(new_a) or not q:\n",
    "        answer.append(-1)\n",
    "\n",
    "    elif new_var > left_var :\n",
    "        left_val = new_var\n",
    "        for j in q :\n",
    "            if new_var < j :\n",
    "                max_var = j\n",
    "                answer.append(j)\n",
    "                break\n",
    "\n",
    "    elif new_var < left_var :\n",
    "        answer.append(max_var)\n",
    "\n",
    "ans = list(map(str,answer))\n",
    "ans = ' '.join(ans)\n",
    "print(ans)\n",
    "\n"
   ]
  },
  {
   "cell_type": "code",
   "execution_count": 1,
   "metadata": {},
   "outputs": [
    {
     "name": "stdout",
     "output_type": "stream",
     "text": [
      "-1 8 8 -1\n"
     ]
    }
   ],
   "source": [
    "n = 4\n",
    "A = [9,5,4,8]\n",
    "answer = [-1] * n\n",
    "stack = []\n",
    "\n",
    "stack.append(0)\n",
    "for i in range(1, n):\n",
    "    # A[stack[-1]] = 현재 찾고자 하는 값\n",
    "    # A[i] 우측 값\n",
    "    while stack and A[stack[-1]] < A[i]:\n",
    "        answer[stack.pop()] = A[i]\n",
    "        \n",
    "    stack.append(i)\n",
    "    \n",
    "\n",
    "print(*answer)"
   ]
  },
  {
   "cell_type": "code",
   "execution_count": 2,
   "metadata": {},
   "outputs": [
    {
     "data": {
      "text/plain": [
       "3"
      ]
     },
     "execution_count": 2,
     "metadata": {},
     "output_type": "execute_result"
    }
   ],
   "source": []
  },
  {
   "cell_type": "code",
   "execution_count": 25,
   "metadata": {},
   "outputs": [
    {
     "name": "stdout",
     "output_type": "stream",
     "text": [
      "[1, 50, 50]\n"
     ]
    },
    {
     "data": {
      "text/plain": [
       "[1, 2]"
      ]
     },
     "execution_count": 25,
     "metadata": {},
     "output_type": "execute_result"
    }
   ],
   "source": [
    "import math \n",
    "\n",
    "def solution(progresses, speeds):\n",
    "    days = []\n",
    "    for i in range(len(progresses)) :\n",
    "        day = math.ceil((100 - progresses[i]) / speeds[i])\n",
    "        days.append(day)\n",
    "        \n",
    "    print(days)\n",
    "    idx = 0\n",
    "    answer = []\n",
    "    \n",
    "    ## idx로 값 비교하는 것 아직도 이해가 되지 않네..(0929)\n",
    "    for i in range(len(days)) :\n",
    "        if days[idx] < days[i] :\n",
    "            answer.append(i-idx)\n",
    "            idx = i\n",
    "        \n",
    "    answer.append(len(days)-idx)\n",
    "            \n",
    "    return answer\n",
    "        \n",
    "        \n",
    "progresses = [1,1,50]\n",
    "\n",
    "speeds = [100,2,1]\n",
    "\n",
    "solution(progresses,speeds)"
   ]
  },
  {
   "cell_type": "code",
   "execution_count": 18,
   "metadata": {},
   "outputs": [
    {
     "ename": "SyntaxError",
     "evalue": "unexpected EOF while parsing (2118357193.py, line 1)",
     "output_type": "error",
     "traceback": [
      "\u001b[0;36m  Input \u001b[0;32mIn [18]\u001b[0;36m\u001b[0m\n\u001b[0;31m    [100-93//1\u001b[0m\n\u001b[0m              ^\u001b[0m\n\u001b[0;31mSyntaxError\u001b[0m\u001b[0;31m:\u001b[0m unexpected EOF while parsing\n"
     ]
    }
   ],
   "source": []
  }
 ],
 "metadata": {
  "kernelspec": {
   "display_name": "Python 3.9.1 64-bit ('3.9.1')",
   "language": "python",
   "name": "python3"
  },
  "language_info": {
   "codemirror_mode": {
    "name": "ipython",
    "version": 3
   },
   "file_extension": ".py",
   "mimetype": "text/x-python",
   "name": "python",
   "nbconvert_exporter": "python",
   "pygments_lexer": "ipython3",
   "version": "3.9.1"
  },
  "orig_nbformat": 4,
  "vscode": {
   "interpreter": {
    "hash": "380499944412d71a434e3a577c644718a6d37bb71a3486bf18ac316dad575de7"
   }
  }
 },
 "nbformat": 4,
 "nbformat_minor": 2
}
