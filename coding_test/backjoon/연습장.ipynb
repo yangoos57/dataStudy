{
 "cells": [
  {
   "cell_type": "markdown",
   "metadata": {},
   "source": []
  },
  {
   "cell_type": "code",
   "execution_count": 157,
   "metadata": {},
   "outputs": [
    {
     "data": {
      "text/plain": [
       "[123, 1, 2, 3, 4]"
      ]
     },
     "execution_count": 157,
     "metadata": {},
     "output_type": "execute_result"
    }
   ],
   "source": []
  },
  {
   "cell_type": "code",
   "execution_count": 223,
   "metadata": {},
   "outputs": [
    {
     "name": "stdout",
     "output_type": "stream",
     "text": [
      "5\n"
     ]
    }
   ],
   "source": [
    "input_data = [1,1,9,1,1,1]\n",
    "N = len(input_data)\n",
    "M = 0\n",
    "\n",
    "idx_list = [0] * N\n",
    "idx_list[M] = 1\n",
    "output = 0\n",
    "\n",
    "while len(input_data) != 0 :\n",
    "    max_int = max(input_data) \n",
    "\n",
    "    if max_int == input_data[0] :\n",
    "        output += 1\n",
    "\n",
    "        if idx_list[0] == 1 :\n",
    "            print(output)\n",
    "            break\n",
    "\n",
    "        else :\n",
    "            input_data.pop(0)\n",
    "            idx_list.pop(0)\n",
    "    else : \n",
    "        input_data.append(input_data.pop(0))\n",
    "        idx_list.append(idx_list.pop(0))"
   ]
  }
 ],
 "metadata": {
  "kernelspec": {
   "display_name": "Python 3.9.1 64-bit ('3.9.1')",
   "language": "python",
   "name": "python3"
  },
  "language_info": {
   "codemirror_mode": {
    "name": "ipython",
    "version": 3
   },
   "file_extension": ".py",
   "mimetype": "text/x-python",
   "name": "python",
   "nbconvert_exporter": "python",
   "pygments_lexer": "ipython3",
   "version": "3.9.1"
  },
  "orig_nbformat": 4,
  "vscode": {
   "interpreter": {
    "hash": "380499944412d71a434e3a577c644718a6d37bb71a3486bf18ac316dad575de7"
   }
  }
 },
 "nbformat": 4,
 "nbformat_minor": 2
}
