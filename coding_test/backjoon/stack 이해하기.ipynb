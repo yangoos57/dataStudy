{
 "cells": [
  {
   "cell_type": "markdown",
   "metadata": {},
   "source": [
    "### stack 저장은 index를 저장한다는 생각으로 하자.\n",
    "### list 맨 앞이 바닥이라고 생각하고 stack으로 접근하고 pop append를 이해하자.\n",
    "\n",
    "### 아직 검색 방법에 대해서 배우지 않아서 어려운걸수도 있다. 원리를 깨우치게 되면 적어보자..\n",
    "\n"
   ]
  },
  {
   "cell_type": "markdown",
   "metadata": {},
   "source": []
  },
  {
   "cell_type": "code",
   "execution_count": 1,
   "metadata": {},
   "outputs": [
    {
     "name": "stdout",
     "output_type": "stream",
     "text": [
      "up 9 5\n",
      "up 5 3\n",
      "up 3 4\n",
      "down 3 4\n",
      "up 4 2\n",
      "up 2 8\n",
      "down 2 8\n",
      "down 4 8\n",
      "down 5 8\n"
     ]
    }
   ],
   "source": [
    "# 17298 오큰수\n",
    "\n",
    "A = [9,5,3,4,2,8]\n",
    "n = len(A)\n",
    "answer = [-1]* n\n",
    "stack= []\n",
    "\n",
    "# 값 찾기 위해서 반복문 구조는 채택해야함.\n",
    "# i = index \n",
    "stack.append(0)\n",
    "for i in range(1,n) :\n",
    "    # A[stack[-1]] = 가장 최근에 넣은값 \n",
    "    # \n",
    "    # ex) 5,3,4,2,8 => \n",
    "    # while에 stack을 넣는 이유는 stack 안에 값이 모두 clear 되도록 하기 위함임.\n",
    "\n",
    "    print('up',A[stack[-1]],A[i])\n",
    "\n",
    "    while stack and A[stack[-1]] < A[i] :\n",
    "        print('down',A[stack[-1]],A[i])\n",
    "        answer[stack.pop()] = A[i]\n",
    "    stack.append(i)"
   ]
  },
  {
   "cell_type": "code",
   "execution_count": 2,
   "metadata": {},
   "outputs": [
    {
     "name": "stdout",
     "output_type": "stream",
     "text": [
      "[1, 50, 50]\n"
     ]
    },
    {
     "data": {
      "text/plain": [
       "[1, 2]"
      ]
     },
     "execution_count": 2,
     "metadata": {},
     "output_type": "execute_result"
    }
   ],
   "source": [
    "# programmers 기능 개발\n",
    "\n",
    "import math \n",
    "\n",
    "def solution(progresses, speeds):\n",
    "    days = []\n",
    "    for i in range(len(progresses)) :\n",
    "        day = math.ceil((100 - progresses[i]) / speeds[i])\n",
    "        days.append(day)\n",
    "        \n",
    "    idx = 0\n",
    "    answer = []\n",
    "    \n",
    "    ## idx로 값 비교하는 것 아직도 이해가 되지 않네..(0929)\n",
    "    # 정답이긴 한데 index가지고 구현하는데 아직 익숙하지 않음.\n",
    "    for i in range(len(days)) :\n",
    "        if days[idx] < days[i] :\n",
    "            answer.append(i-idx)\n",
    "            idx = i\n",
    "        \n",
    "    answer.append(len(days)-idx)\n",
    "            \n",
    "    return answer\n",
    "        \n",
    "        \n",
    "progresses = [1,1,50]\n",
    "\n",
    "speeds = [100,2,1]\n",
    "\n",
    "solution(progresses,speeds)"
   ]
  }
 ],
 "metadata": {
  "kernelspec": {
   "display_name": "Python 3.9.1 64-bit ('3.9.1')",
   "language": "python",
   "name": "python3"
  },
  "language_info": {
   "codemirror_mode": {
    "name": "ipython",
    "version": 3
   },
   "file_extension": ".py",
   "mimetype": "text/x-python",
   "name": "python",
   "nbconvert_exporter": "python",
   "pygments_lexer": "ipython3",
   "version": "3.9.1"
  },
  "orig_nbformat": 4,
  "vscode": {
   "interpreter": {
    "hash": "380499944412d71a434e3a577c644718a6d37bb71a3486bf18ac316dad575de7"
   }
  }
 },
 "nbformat": 4,
 "nbformat_minor": 2
}
